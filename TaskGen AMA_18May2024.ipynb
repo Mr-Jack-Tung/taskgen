{
 "cells": [
  {
   "cell_type": "markdown",
   "id": "2fa1e388-b8f4-4fa3-be5a-ba7c6caae038",
   "metadata": {
    "tags": []
   },
   "source": [
    "# TaskGen Ask Me Anything\n",
    "- First Created: 7 May 2024\n",
    "- Video: https://www.youtube.com/watch?v=mheIWKugqF4\n",
    "- John Tan Chong Min\n",
    "- Updated on 18 May 2024, using TaskGen v2.2.0 to make it more robust and handle feedback from environment better (removed list of steps to constrain generation, and instead, replan after each subtask)"
   ]
  },
  {
   "cell_type": "code",
   "execution_count": 1,
   "id": "db31585a-1502-490c-ae8a-c60f9dcdb73f",
   "metadata": {
    "tags": []
   },
   "outputs": [],
   "source": [
    "# !pip install taskgen-ai"
   ]
  },
  {
   "cell_type": "code",
   "execution_count": 2,
   "id": "076adf5e-beb1-4b19-9078-34ab1b7d9afe",
   "metadata": {
    "tags": []
   },
   "outputs": [],
   "source": [
    "# Set up API key and do the necessary imports\n",
    "import os\n",
    "from taskgen import *\n",
    "import random\n",
    "\n",
    "os.environ['OPENAI_API_KEY'] = '<YOUR API KEY HERE>'"
   ]
  },
  {
   "cell_type": "markdown",
   "id": "b7ece608-45cd-461c-8e96-7d0a8c037d72",
   "metadata": {
    "tags": []
   },
   "source": [
    "# Default Agent"
   ]
  },
  {
   "cell_type": "code",
   "execution_count": 3,
   "id": "780199d4-689c-4ef3-a844-e7e2fbe5e094",
   "metadata": {
    "tags": []
   },
   "outputs": [],
   "source": [
    "# you can use a custom LLM with TaskGen by adding it to Agent()\n",
    "def custom_llm(system_prompt: str, user_prompt: str):\n",
    "    ''' Here, we use OpenAI for illustration, you can change it to your own LLM '''\n",
    "    # ensure your LLM imports are all within this function\n",
    "    from openai import OpenAI\n",
    "    \n",
    "    # define your own LLM here\n",
    "    client = OpenAI()\n",
    "    response = client.chat.completions.create(\n",
    "        model='gpt-3.5-turbo',\n",
    "        temperature = 0,\n",
    "        messages=[\n",
    "            {\"role\": \"system\", \"content\": system_prompt},\n",
    "            {\"role\": \"user\", \"content\": user_prompt}\n",
    "        ]\n",
    "    )\n",
    "    return response.choices[0].message.content"
   ]
  },
  {
   "cell_type": "code",
   "execution_count": 4,
   "id": "86b29290-fbaf-40ae-8170-2f47cfe1698e",
   "metadata": {
    "tags": []
   },
   "outputs": [],
   "source": [
    "agent = Agent('Cooking Expert','Provides cooking guidance', max_subtasks = 10, llm = custom_llm)"
   ]
  },
  {
   "cell_type": "code",
   "execution_count": 5,
   "id": "ed76e0f3-5598-41ba-bb42-ca06eb7c2156",
   "metadata": {
    "tags": []
   },
   "outputs": [
    {
     "name": "stdout",
     "output_type": "stream",
     "text": [
      "\u001b[1m\u001b[30mObservation: No subtasks completed yet\u001b[0m\n",
      "\u001b[1m\u001b[32mThoughts: To complete the task of telling how to cook pasta, I can start by breaking down the steps involved in cooking pasta such as boiling water, adding pasta, cooking for a specific time, draining the water, and adding sauce. I can then provide detailed instructions for each step.\u001b[0m\n",
      "\u001b[1m\u001b[34mSubtask identified: Provide detailed instructions on how to boil water for cooking pasta\u001b[0m\n",
      "Getting LLM to perform the following task: Provide detailed instructions on how to boil water for cooking pasta\n",
      "> To boil water for cooking pasta, start by filling a large pot with water, making sure there is enough water to fully submerge the pasta. Place the pot on the stove over high heat and cover it with a lid to help the water come to a boil faster. Add a generous amount of salt to the water to season the pasta as it cooks. Once the water reaches a rolling boil, add the pasta to the pot and stir occasionally to prevent sticking. Cook the pasta according to the package instructions, stirring occasionally. Once the pasta is cooked to your desired level of doneness, carefully drain it in a colander and use it in your favorite pasta dish.\n",
      "\n",
      "\u001b[1m\u001b[30mObservation: I have provided detailed instructions on how to boil water for cooking pasta.\u001b[0m\n",
      "\u001b[1m\u001b[32mThoughts: Since the user asked for instructions on how to cook pasta, the next step would be to provide guidance on how to cook the pasta itself after the water has boiled. This would involve explaining the process of adding the pasta to the boiling water, cooking it to the desired level of doneness, draining it, and using it in a dish.\u001b[0m\n",
      "\u001b[1m\u001b[34mSubtask identified: Provide detailed instructions on how to cook the pasta after the water has boiled.\u001b[0m\n",
      "Getting LLM to perform the following task: Provide detailed instructions on how to cook the pasta after the water has boiled.\n",
      "> To cook the pasta after the water has boiled, start by adding the pasta to the pot of boiling water. Stir the pasta occasionally to prevent sticking and ensure even cooking. Cook the pasta according to the package instructions or until it reaches your desired level of doneness. Once the pasta is cooked, carefully drain it in a colander and rinse it with cold water to stop the cooking process. The cooked pasta is now ready to be used in your favorite pasta dish.\n",
      "\n",
      "\u001b[1m\u001b[30mObservation: I have provided detailed instructions on how to boil water for cooking pasta and how to cook the pasta after the water has boiled.\u001b[0m\n",
      "\u001b[1m\u001b[32mThoughts: Since the water boiling and pasta cooking steps have been covered, the next step would be to provide instructions on how to prepare a simple pasta sauce to accompany the cooked pasta.\u001b[0m\n",
      "\u001b[1m\u001b[34mSubtask identified: Provide detailed instructions on how to prepare a simple tomato sauce for pasta.\u001b[0m\n",
      "Getting LLM to perform the following task: Provide detailed instructions on how to prepare a simple tomato sauce for pasta.\n",
      "> To prepare a simple tomato sauce for pasta, start by heating olive oil in a saucepan over medium heat. Add minced garlic and sauté until fragrant. Then, add canned crushed tomatoes, a pinch of sugar, salt, pepper, and dried herbs like oregano and basil. Let the sauce simmer for about 20-30 minutes to allow the flavors to meld together. Taste and adjust the seasoning as needed. You can also add red pepper flakes for a bit of heat if desired. Once the sauce is ready, toss it with cooked pasta and garnish with fresh basil and grated Parmesan cheese before serving.\n",
      "\n",
      "\u001b[1m\u001b[30mObservation: I have provided detailed instructions on how to boil water for cooking pasta, how to cook the pasta after the water has boiled, and how to prepare a simple tomato sauce for pasta.\u001b[0m\n",
      "\u001b[1m\u001b[32mThoughts: To complete the task of telling how to cook pasta, the remaining step is to combine the boiled pasta with the prepared tomato sauce and any additional ingredients to create a delicious pasta dish.\u001b[0m\n",
      "\u001b[1m\u001b[34mSubtask identified: Combine the cooked pasta with the prepared tomato sauce and any additional ingredients to create a delicious pasta dish.\u001b[0m\n",
      "Getting LLM to perform the following task: Combine the cooked pasta with the prepared tomato sauce and any additional ingredients to create a delicious pasta dish.\n",
      "> To create a delicious pasta dish, combine the cooked pasta with the prepared tomato sauce in a large mixing bowl. Toss the pasta and sauce together until the pasta is evenly coated with the sauce. You can also add additional ingredients such as cooked vegetables like sautéed mushrooms, bell peppers, or spinach for extra flavor and nutrition. For a protein boost, consider adding grilled chicken, shrimp, or meatballs to the pasta dish. Mix all the ingredients together gently to ensure everything is well combined. Once everything is mixed, transfer the pasta dish to a serving plate or bowl. Garnish with fresh herbs like parsley or basil and a sprinkle of grated Parmesan cheese before serving. Enjoy your delicious homemade pasta dish!\n",
      "\n",
      "### Auto-summarising Subtasks Completed ###\n",
      "To cook pasta, start by boiling water in a large pot. Add salt to the water and then add the pasta once the water is boiling. Cook the pasta according to the package instructions or until it reaches your desired level of doneness. Once cooked, drain the pasta in a colander and rinse it with cold water to stop the cooking process. The pasta is now ready to be used in your favorite dish.\n",
      "### End of Auto-summary ###\n",
      "\n",
      "\u001b[1m\u001b[30mObservation: To cook pasta, start by boiling water in a large pot. Add salt to the water and then add the pasta once the water is boiling. Cook the pasta according to the package instructions or until it reaches your desired level of doneness. Once cooked, drain the pasta in a colander and rinse it with cold water to stop the cooking process. The pasta is now ready to be used in your favorite dish.\u001b[0m\n",
      "\u001b[1m\u001b[32mThoughts: The user has been provided with a detailed guide on how to cook pasta up to the point of draining and rinsing it. The remaining part of the task involves suggesting ways to use the cooked pasta in a dish.\u001b[0m\n",
      "\u001b[1m\u001b[34mSubtask identified: Suggest different dishes or recipes where the cooked pasta can be used.\u001b[0m\n",
      "Getting LLM to perform the following task: Suggest different dishes or recipes where the cooked pasta can be used.\n",
      "> Here are some different dishes or recipes where the cooked pasta can be used:\n",
      "1. Spaghetti Bolognese: A classic Italian dish with a rich meat sauce served over spaghetti.\n",
      "2. Pasta Primavera: A light and fresh pasta dish with seasonal vegetables and a creamy sauce.\n",
      "3. Macaroni and Cheese: A comforting and cheesy pasta bake that is perfect for a cozy night in.\n",
      "4. Pasta Salad: A refreshing salad made with cooked pasta, vegetables, and a tangy dressing.\n",
      "5. Lasagna: A layered pasta dish with meat, cheese, and tomato sauce that is baked to perfection.\n",
      "6. Pasta Carbonara: A creamy pasta dish made with eggs, cheese, pancetta, and black pepper.\n",
      "7. Pasta Alfredo: A decadent pasta dish with a creamy Alfredo sauce made from butter, cream, and Parmesan cheese.\n",
      "Enjoy experimenting with these different pasta dishes!\n",
      "\n",
      "\u001b[1m\u001b[30mObservation: The user asked for guidance on how to cook pasta, and I have provided step-by-step instructions on how to cook pasta and suggested different dishes where the cooked pasta can be used.\u001b[0m\n",
      "\u001b[1m\u001b[32mThoughts: Since the user has already been informed on how to cook pasta and suggested different dishes, the next step could be to provide tips on how to enhance the flavor of the pasta dishes or offer variations to the traditional recipes.\u001b[0m\n",
      "\u001b[1m\u001b[34mSubtask identified: Provide tips on how to enhance the flavor of pasta dishes or offer variations to traditional recipes.\u001b[0m\n",
      "Getting LLM to perform the following task: Provide tips on how to enhance the flavor of pasta dishes or offer variations to traditional recipes.\n",
      "> To enhance the flavor of pasta dishes or offer variations to traditional recipes, consider the following tips:\n",
      "1. Use fresh herbs like basil, parsley, or oregano to add a burst of flavor to your pasta dishes.\n",
      "2. Experiment with different types of cheese such as Parmesan, mozzarella, or goat cheese to create unique flavor profiles.\n",
      "3. Incorporate roasted vegetables like cherry tomatoes, bell peppers, or zucchini for added depth and sweetness.\n",
      "4. Try adding protein sources like grilled chicken, shrimp, or Italian sausage to make your pasta dishes more filling and satisfying.\n",
      "5. Use flavored oils like garlic-infused olive oil or chili oil to drizzle over your pasta for an extra kick of flavor.\n",
      "6. Consider adding a splash of white wine or balsamic vinegar to your pasta sauces for a tangy and complex taste.\n",
      "7. Experiment with different types of pasta shapes and sizes to create visually appealing dishes.\n",
      "By incorporating these tips, you can elevate the flavor of your pasta dishes and put a unique twist on traditional recipes.\n",
      "\n",
      "\u001b[1m\u001b[30mObservation: The user has asked for guidance on how to cook pasta. I have provided steps on how to cook pasta, suggested different dishes where the cooked pasta can be used, and offered tips on enhancing the flavor of pasta dishes.\u001b[0m\n",
      "\u001b[1m\u001b[32mThoughts: To complete the remainder of the assigned task, I can provide additional information on the nutritional value of pasta, its different types, and variations in cooking methods. This will give a comprehensive guide on cooking pasta.\u001b[0m\n",
      "\u001b[1m\u001b[34mSubtask identified: Provide information on the nutritional value of pasta, its different types, and variations in cooking methods.\u001b[0m\n",
      "Getting LLM to perform the following task: Provide information on the nutritional value of pasta, its different types, and variations in cooking methods.\n",
      "> As a Cooking Expert, I can provide information on the nutritional value of pasta, its different types, and variations in cooking methods. Pasta is a versatile and popular food made from durum wheat semolina or flour and water. It is a good source of carbohydrates, providing energy for the body. Pasta also contains some protein and fiber, depending on the type of flour used. Whole wheat pasta is a healthier option as it contains more fiber and nutrients than regular pasta.\n",
      "\n",
      "There are various types of pasta available, including spaghetti, penne, fusilli, fettuccine, and more. Each type has a unique shape and texture, making it suitable for different sauces and dishes. Cooking methods for pasta vary depending on the type and desired texture. It is important to cook pasta al dente, which means it is cooked but still firm to the bite.\n",
      "\n",
      "Different variations in cooking methods include using different sauces such as tomato-based, cream-based, or oil-based sauces. Pasta can also be baked in dishes like lasagna or macaroni and cheese for a comforting meal. Experimenting with ingredients like vegetables, meats, and cheeses can create endless possibilities for delicious pasta dishes.\n",
      "\n",
      "### Auto-summarising Subtasks Completed ###\n",
      "To cook pasta, start by boiling water in a large pot. Add salt to the water and then add the pasta once the water is boiling. Cook the pasta according to the package instructions or until it reaches your desired level of doneness. Once cooked, drain the pasta in a colander and rinse it with cold water to stop the cooking process. The pasta is now ready to be used in your favorite dish.\n",
      "### End of Auto-summary ###\n",
      "\n",
      "\u001b[1m\u001b[30mObservation: To cook pasta, start by boiling water in a large pot. Add salt to the water and then add the pasta once the water is boiling. Cook the pasta according to the package instructions or until it reaches your desired level of doneness. Once cooked, drain the pasta in a colander and rinse it with cold water to stop the cooking process. The pasta is now ready to be used in your favorite dish.\u001b[0m\n",
      "\u001b[1m\u001b[32mThoughts: The initial steps of boiling water, adding salt, and cooking the pasta have been completed. The next step involves draining and rinsing the cooked pasta. This final step will ensure the pasta is ready to be used in a dish.\u001b[0m\n",
      "\u001b[1m\u001b[34mSubtask identified: Drain the cooked pasta in a colander and rinse it with cold water to stop the cooking process.\u001b[0m\n",
      "Getting LLM to perform the following task: Drain the cooked pasta in a colander and rinse it with cold water to stop the cooking process.\n",
      "> After cooking the pasta, carefully pour it into a colander to drain the excess water. Once most of the water has drained out, rinse the pasta under cold running water. This will help stop the cooking process and prevent the pasta from becoming mushy. Make sure to shake the colander gently to remove any excess water before using the pasta in your dish.\n",
      "\n",
      "\u001b[1m\u001b[30mObservation: The user asked for guidance on how to cook pasta. The steps provided so far include boiling water, adding salt, cooking the pasta, and draining it in a colander while rinsing with cold water.\u001b[0m\n",
      "\u001b[1m\u001b[32mThoughts: To complete the task, the next step could involve providing instructions on how to use the cooked pasta in a dish. This may include suggestions on different pasta recipes or serving options.\u001b[0m\n",
      "\u001b[1m\u001b[34mSubtask identified: Provide suggestions on how to use the cooked pasta in a dish, such as pairing it with sauces, vegetables, or proteins to create a complete meal.\u001b[0m\n",
      "Getting LLM to perform the following task: Provide suggestions on how to use the cooked pasta in a dish, such as pairing it with sauces, vegetables, or proteins to create a complete meal.\n",
      "> To use the cooked pasta in a dish, you can pair it with a variety of sauces such as marinara, alfredo, pesto, or carbonara. Additionally, you can add vegetables like broccoli, bell peppers, cherry tomatoes, or spinach to create a more nutritious meal. For protein options, consider adding grilled chicken, shrimp, meatballs, or tofu. Combining the cooked pasta with these ingredients will help you create a delicious and well-balanced meal.\n",
      "\n",
      "\u001b[1m\u001b[30mObservation: The user asked for guidance on how to cook pasta. I have provided steps on how to cook pasta, including boiling water, adding salt, cooking the pasta, draining, and rinsing it with cold water. Additionally, I have suggested ways to use the cooked pasta in a dish by pairing it with sauces, vegetables, or proteins.\u001b[0m\n",
      "\u001b[1m\u001b[32mThoughts: To complete the remainder of the Assigned Task, I need to provide additional details on cooking pasta, such as the importance of using a large pot, the cooking time for different types of pasta, and tips on testing the doneness of the pasta. I can also suggest specific recipes or variations for using the cooked pasta in dishes to enhance the user's cooking experience.\u001b[0m\n",
      "\u001b[1m\u001b[34mSubtask identified: Provide tips on cooking pasta, such as using a large pot to prevent sticking, stirring the pasta occasionally while cooking, and tasting a piece of pasta to check for doneness. Additionally, suggest specific recipes or variations for using the cooked pasta in dishes to create diverse meals.\u001b[0m\n",
      "Getting LLM to perform the following task: Provide tips on cooking pasta, such as using a large pot to prevent sticking, stirring the pasta occasionally while cooking, and tasting a piece of pasta to check for doneness. Additionally, suggest specific recipes or variations for using the cooked pasta in dishes to create diverse meals.\n",
      "> As a Cooking Expert, here are some tips for cooking pasta: 1. Use a large pot with plenty of water to prevent the pasta from sticking together. 2. Add salt to the boiling water before adding the pasta for flavor. 3. Stir the pasta occasionally while cooking to ensure even cooking. 4. Taste a piece of pasta to check for doneness - it should be tender but still slightly firm (al dente). For recipe variations, you can try dishes like spaghetti aglio e olio, pasta primavera, carbonara, or pasta salad with fresh vegetables and herbs. These variations will help you create diverse and delicious meals using the cooked pasta.\n",
      "\n",
      "### Auto-summarising Subtasks Completed ###\n",
      "To cook pasta, start by boiling water in a large pot. Add salt to the water and then add the pasta once the water is boiling. Cook the pasta according to the package instructions or until it reaches your desired level of doneness. Once cooked, drain the pasta in a colander and rinse it with cold water to stop the cooking process. The pasta is now ready to be used in your favorite dish. After cooking the pasta, carefully pour it into a colander to drain the excess water. Once most of the water has drained out, rinse the pasta under cold running water. This will help stop the cooking process and prevent the pasta from becoming mushy. Make sure to shake the colander gently to remove any excess water before using the pasta in your dish. To use the cooked pasta in a dish, you can pair it with a variety of sauces such as marinara, alfredo, pesto, or carbonara. Additionally, you can add vegetables like broccoli, bell peppers, cherry tomatoes, or spinach to create a more nutritious meal. For protein options, consider adding grilled chicken, shrimp, meatballs, or tofu. Combining the cooked pasta with these ingredients will help you create a delicious and well-balanced meal. As a Cooking Expert, here are some tips for cooking pasta: 1. Use a large pot with plenty of water to prevent the pasta from sticking together. 2. Add salt to the boiling water before adding the pasta for flavor. 3. Stir the pasta occasionally while cooking to ensure even cooking. 4. Taste a piece of pasta to check for doneness - it should be tender but still slightly firm (al dente). For recipe variations, you can try dishes like spaghetti aglio e olio, pasta primavera, carbonara, or pasta salad with fresh vegetables and herbs. These variations will help you create diverse and delicious meals using the cooked pasta.\n",
      "### End of Auto-summary ###\n",
      "\n"
     ]
    },
    {
     "data": {
      "text/plain": [
       "['To cook pasta, start by boiling water in a large pot. Add salt to the water and then add the pasta once the water is boiling. Cook the pasta according to the package instructions or until it reaches your desired level of doneness. Once cooked, drain the pasta in a colander and rinse it with cold water to stop the cooking process. The pasta is now ready to be used in your favorite dish. After cooking the pasta, carefully pour it into a colander to drain the excess water. Once most of the water has drained out, rinse the pasta under cold running water. This will help stop the cooking process and prevent the pasta from becoming mushy. Make sure to shake the colander gently to remove any excess water before using the pasta in your dish. To use the cooked pasta in a dish, you can pair it with a variety of sauces such as marinara, alfredo, pesto, or carbonara. Additionally, you can add vegetables like broccoli, bell peppers, cherry tomatoes, or spinach to create a more nutritious meal. For protein options, consider adding grilled chicken, shrimp, meatballs, or tofu. Combining the cooked pasta with these ingredients will help you create a delicious and well-balanced meal. As a Cooking Expert, here are some tips for cooking pasta: 1. Use a large pot with plenty of water to prevent the pasta from sticking together. 2. Add salt to the boiling water before adding the pasta for flavor. 3. Stir the pasta occasionally while cooking to ensure even cooking. 4. Taste a piece of pasta to check for doneness - it should be tender but still slightly firm (al dente). For recipe variations, you can try dishes like spaghetti aglio e olio, pasta primavera, carbonara, or pasta salad with fresh vegetables and herbs. These variations will help you create diverse and delicious meals using the cooked pasta.']"
      ]
     },
     "execution_count": 5,
     "metadata": {},
     "output_type": "execute_result"
    }
   ],
   "source": [
    "agent.run('Tell me how to cook pasta')"
   ]
  },
  {
   "cell_type": "code",
   "execution_count": 6,
   "id": "ba6365d7-5a73-44b7-8cde-0f0799ab8cd3",
   "metadata": {
    "tags": []
   },
   "outputs": [
    {
     "name": "stdout",
     "output_type": "stream",
     "text": [
      "Agent Name: Cooking Expert\n",
      "Agent Description: Provides cooking guidance\n",
      "Available Functions: ['use_llm', 'end_task']\n",
      "\u001b[1m\u001b[32mTask: Tell me how to cook pasta\u001b[0m\n",
      "\u001b[1m\u001b[30mSubtasks Completed:\u001b[0m\n",
      "\u001b[1m\u001b[34mSubtask: Current Results for 'progress for Tell me how to cook pasta'\u001b[0m\n",
      "To cook pasta, start by boiling water in a large pot. Add salt to the water and then add the pasta once the water is boiling. Cook the pasta according to the package instructions or until it reaches your desired level of doneness. Once cooked, drain the pasta in a colander and rinse it with cold water to stop the cooking process. The pasta is now ready to be used in your favorite dish. After cooking the pasta, carefully pour it into a colander to drain the excess water. Once most of the water has drained out, rinse the pasta under cold running water. This will help stop the cooking process and prevent the pasta from becoming mushy. Make sure to shake the colander gently to remove any excess water before using the pasta in your dish. To use the cooked pasta in a dish, you can pair it with a variety of sauces such as marinara, alfredo, pesto, or carbonara. Additionally, you can add vegetables like broccoli, bell peppers, cherry tomatoes, or spinach to create a more nutritious meal. For protein options, consider adding grilled chicken, shrimp, meatballs, or tofu. Combining the cooked pasta with these ingredients will help you create a delicious and well-balanced meal. As a Cooking Expert, here are some tips for cooking pasta: 1. Use a large pot with plenty of water to prevent the pasta from sticking together. 2. Add salt to the boiling water before adding the pasta for flavor. 3. Stir the pasta occasionally while cooking to ensure even cooking. 4. Taste a piece of pasta to check for doneness - it should be tender but still slightly firm (al dente). For recipe variations, you can try dishes like spaghetti aglio e olio, pasta primavera, carbonara, or pasta salad with fresh vegetables and herbs. These variations will help you create diverse and delicious meals using the cooked pasta.\n",
      "\n",
      "Is Task Completed: False\n"
     ]
    }
   ],
   "source": [
    "agent.status()"
   ]
  },
  {
   "cell_type": "code",
   "execution_count": 7,
   "id": "dd7eb53d-2136-4c10-b1c4-1e4b42cc79c2",
   "metadata": {
    "tags": []
   },
   "outputs": [
    {
     "name": "stdout",
     "output_type": "stream",
     "text": [
      "To cook pasta, start by boiling water in a large pot. Add salt to the water and then add the pasta once the water is boiling. Cook the pasta according to the package instructions or until it reaches your desired level of doneness. Once cooked, drain the pasta in a colander and rinse it with cold water to stop the cooking process. The pasta is now ready to be used in your favorite dish. After cooking the pasta, carefully pour it into a colander to drain the excess water. Once most of the water has drained out, rinse the pasta under cold running water. This will help stop the cooking process and prevent the pasta from becoming mushy. Make sure to shake the colander gently to remove any excess water before using the pasta in your dish. To use the cooked pasta in a dish, you can pair it with a variety of sauces such as marinara, alfredo, pesto, or carbonara. Additionally, you can add vegetables like broccoli, bell peppers, cherry tomatoes, or spinach to create a more nutritious meal. For protein options, consider adding grilled chicken, shrimp, meatballs, or tofu. Combining the cooked pasta with these ingredients will help you create a delicious and well-balanced meal. As a Cooking Expert, here are some tips for cooking pasta: 1. Use a large pot with plenty of water to prevent the pasta from sticking together. 2. Add salt to the boiling water before adding the pasta for flavor. 3. Stir the pasta occasionally while cooking to ensure even cooking. 4. Taste a piece of pasta to check for doneness - it should be tender but still slightly firm (al dente). For recipe variations, you can try dishes like spaghetti aglio e olio, pasta primavera, carbonara, or pasta salad with fresh vegetables and herbs. These variations will help you create diverse and delicious meals using the cooked pasta.\n"
     ]
    },
    {
     "data": {
      "text/plain": [
       "'To cook pasta, start by boiling water in a large pot. Add salt to the water and then add the pasta once the water is boiling. Cook the pasta according to the package instructions or until it reaches your desired level of doneness. Once cooked, drain the pasta in a colander and rinse it with cold water to stop the cooking process. The pasta is now ready to be used in your favorite dish. After cooking the pasta, carefully pour it into a colander to drain the excess water. Once most of the water has drained out, rinse the pasta under cold running water. This will help stop the cooking process and prevent the pasta from becoming mushy. Make sure to shake the colander gently to remove any excess water before using the pasta in your dish. To use the cooked pasta in a dish, you can pair it with a variety of sauces such as marinara, alfredo, pesto, or carbonara. Additionally, you can add vegetables like broccoli, bell peppers, cherry tomatoes, or spinach to create a more nutritious meal. For protein options, consider adding grilled chicken, shrimp, meatballs, or tofu. Combining the cooked pasta with these ingredients will help you create a delicious and well-balanced meal. As a Cooking Expert, here are some tips for cooking pasta: 1. Use a large pot with plenty of water to prevent the pasta from sticking together. 2. Add salt to the boiling water before adding the pasta for flavor. 3. Stir the pasta occasionally while cooking to ensure even cooking. 4. Taste a piece of pasta to check for doneness - it should be tender but still slightly firm (al dente). For recipe variations, you can try dishes like spaghetti aglio e olio, pasta primavera, carbonara, or pasta salad with fresh vegetables and herbs. These variations will help you create diverse and delicious meals using the cooked pasta.'"
      ]
     },
     "execution_count": 7,
     "metadata": {},
     "output_type": "execute_result"
    }
   ],
   "source": [
    "agent.reply_user('Give me in bullet point format how to cook pasta')"
   ]
  },
  {
   "cell_type": "code",
   "execution_count": 8,
   "id": "5331fcfd-de62-4f5a-a78b-5fd6e2a60a2f",
   "metadata": {
    "tags": []
   },
   "outputs": [
    {
     "name": "stdout",
     "output_type": "stream",
     "text": [
      "Agent Name: Cooking Expert\n",
      "Agent Description: Provides cooking guidance\n",
      "Available Functions: ['use_llm', 'end_task']\n",
      "\u001b[1m\u001b[32mTask: Tell me how to cook pasta\u001b[0m\n",
      "\u001b[1m\u001b[30mSubtasks Completed:\u001b[0m\n",
      "\u001b[1m\u001b[34mSubtask: Current Results for 'progress for Tell me how to cook pasta'\u001b[0m\n",
      "To cook pasta, start by boiling water in a large pot. Add salt to the water and then add the pasta once the water is boiling. Cook the pasta according to the package instructions or until it reaches your desired level of doneness. Once cooked, drain the pasta in a colander and rinse it with cold water to stop the cooking process. The pasta is now ready to be used in your favorite dish. After cooking the pasta, carefully pour it into a colander to drain the excess water. Once most of the water has drained out, rinse the pasta under cold running water. This will help stop the cooking process and prevent the pasta from becoming mushy. Make sure to shake the colander gently to remove any excess water before using the pasta in your dish. To use the cooked pasta in a dish, you can pair it with a variety of sauces such as marinara, alfredo, pesto, or carbonara. Additionally, you can add vegetables like broccoli, bell peppers, cherry tomatoes, or spinach to create a more nutritious meal. For protein options, consider adding grilled chicken, shrimp, meatballs, or tofu. Combining the cooked pasta with these ingredients will help you create a delicious and well-balanced meal. As a Cooking Expert, here are some tips for cooking pasta: 1. Use a large pot with plenty of water to prevent the pasta from sticking together. 2. Add salt to the boiling water before adding the pasta for flavor. 3. Stir the pasta occasionally while cooking to ensure even cooking. 4. Taste a piece of pasta to check for doneness - it should be tender but still slightly firm (al dente). For recipe variations, you can try dishes like spaghetti aglio e olio, pasta primavera, carbonara, or pasta salad with fresh vegetables and herbs. These variations will help you create diverse and delicious meals using the cooked pasta.\n",
      "\n",
      "\u001b[1m\u001b[34mSubtask: Give me in bullet point format how to cook pasta\u001b[0m\n",
      "To cook pasta, start by boiling water in a large pot. Add salt to the water and then add the pasta once the water is boiling. Cook the pasta according to the package instructions or until it reaches your desired level of doneness. Once cooked, drain the pasta in a colander and rinse it with cold water to stop the cooking process. The pasta is now ready to be used in your favorite dish. After cooking the pasta, carefully pour it into a colander to drain the excess water. Once most of the water has drained out, rinse the pasta under cold running water. This will help stop the cooking process and prevent the pasta from becoming mushy. Make sure to shake the colander gently to remove any excess water before using the pasta in your dish. To use the cooked pasta in a dish, you can pair it with a variety of sauces such as marinara, alfredo, pesto, or carbonara. Additionally, you can add vegetables like broccoli, bell peppers, cherry tomatoes, or spinach to create a more nutritious meal. For protein options, consider adding grilled chicken, shrimp, meatballs, or tofu. Combining the cooked pasta with these ingredients will help you create a delicious and well-balanced meal. As a Cooking Expert, here are some tips for cooking pasta: 1. Use a large pot with plenty of water to prevent the pasta from sticking together. 2. Add salt to the boiling water before adding the pasta for flavor. 3. Stir the pasta occasionally while cooking to ensure even cooking. 4. Taste a piece of pasta to check for doneness - it should be tender but still slightly firm (al dente). For recipe variations, you can try dishes like spaghetti aglio e olio, pasta primavera, carbonara, or pasta salad with fresh vegetables and herbs. These variations will help you create diverse and delicious meals using the cooked pasta.\n",
      "\n",
      "Is Task Completed: False\n"
     ]
    }
   ],
   "source": [
    "agent.status()"
   ]
  },
  {
   "cell_type": "code",
   "execution_count": 9,
   "id": "ec917ca5-78b7-4b8d-8e4b-9f61bb95d980",
   "metadata": {
    "tags": []
   },
   "outputs": [
    {
     "name": "stdout",
     "output_type": "stream",
     "text": [
      "\u001b[1m\u001b[30mObservation: No subtasks have been completed yet for the assigned task.\u001b[0m\n",
      "\u001b[1m\u001b[32mThoughts: To cook bratwurst sausages, we need to consider methods such as grilling, pan-frying, or baking. It is important to ensure that the sausages are cooked through but not overcooked to maintain their juiciness and flavor. We may also need to provide guidance on seasoning and serving suggestions.\u001b[0m\n",
      "\u001b[1m\u001b[34mSubtask identified: Provide guidance on the recommended cooking methods for bratwurst sausages.\u001b[0m\n",
      "Getting LLM to perform the following task: Provide guidance on the recommended cooking methods for bratwurst sausages.\n",
      "> To cook bratwurst sausages, there are several recommended methods. One common method is to grill them. Preheat the grill to medium heat and place the sausages on the grill. Cook for about 15-20 minutes, turning occasionally, until they are browned and cooked through. Another popular method is to pan-fry the sausages. Heat a skillet over medium heat, add a little oil, and cook the sausages for about 10-12 minutes, turning occasionally. You can also bake bratwurst sausages in the oven. Preheat the oven to 400°F (200°C), place the sausages on a baking sheet, and bake for 20-25 minutes. Whichever method you choose, make sure the internal temperature of the sausages reaches 160°F (71°C) to ensure they are fully cooked.\n",
      "\n",
      "\u001b[1m\u001b[30mObservation: I have provided guidance on the recommended cooking methods for bratwurst sausages.\u001b[0m\n",
      "\u001b[1m\u001b[32mThoughts: Based on the provided guidance, the next step would be to provide instructions on how to serve or pair the cooked bratwurst sausages with sides or condiments for a complete meal.\u001b[0m\n",
      "\u001b[1m\u001b[34mSubtask identified: Provide guidance on serving suggestions or side dishes to accompany bratwurst sausages.\u001b[0m\n",
      "Getting LLM to perform the following task: Provide guidance on serving suggestions or side dishes to accompany bratwurst sausages.\n",
      "> When serving bratwurst sausages, there are various side dishes and serving suggestions that can complement the flavors. Some popular options include sauerkraut, which is a traditional accompaniment that provides a tangy contrast to the richness of the sausages. Mustard, particularly German-style mustard, is another classic condiment that pairs well with bratwurst. Additionally, serving the sausages on a bed of caramelized onions can add a sweet and savory element to the dish. For side dishes, consider options like potato salad, coleslaw, or a hearty pretzel roll to complete the meal. These suggestions can enhance the overall dining experience and create a well-rounded meal.\n",
      "\n",
      "\u001b[1m\u001b[30mObservation: The subtasks completed so far have provided guidance on the recommended cooking methods for bratwurst sausages and serving suggestions or side dishes to accompany them.\u001b[0m\n",
      "\u001b[1m\u001b[32mThoughts: To complete the assigned task of \"How to cook bratwurst sausages,\" the remaining part involves possibly providing information on the best ways to season or flavor the sausages before cooking them. This could include suggestions on marinades, spices, or herbs that enhance the flavor of bratwurst sausages.\u001b[0m\n",
      "\u001b[1m\u001b[34mSubtask identified: Provide guidance on the best ways to season or flavor bratwurst sausages before cooking them.\u001b[0m\n",
      "Getting LLM to perform the following task: Provide guidance on the best ways to season or flavor bratwurst sausages before cooking them.\n",
      "> To season or flavor bratwurst sausages before cooking them, there are several options to enhance their taste. One common method is to marinate the sausages in a mixture of beer, onions, garlic, and spices like mustard seeds, coriander, and black pepper. Let the sausages marinate for at least an hour or overnight in the refrigerator to allow the flavors to penetrate the meat. Another popular seasoning option is to sprinkle the sausages with a blend of herbs such as thyme, rosemary, and sage, along with salt and pepper before cooking. You can also experiment with different seasonings like paprika, cayenne pepper, or fennel seeds to add a unique twist to the flavor profile. Ultimately, the choice of seasonings depends on personal preference, but marinating or seasoning the bratwurst sausages before cooking can elevate their taste and create a more flavorful dish.\n",
      "\n",
      "\u001b[1m\u001b[30mObservation: The subtasks completed so far have provided guidance on the recommended cooking methods, serving suggestions, and seasoning options for bratwurst sausages.\u001b[0m\n",
      "\u001b[1m\u001b[32mThoughts: To complete the remainder of the assigned task, the next step would be to provide guidance on the cooking time and temperature for bratwurst sausages. This information is crucial to ensure that the sausages are cooked to the right level of doneness and are safe to eat. Additionally, it would be helpful to include tips on how to check the internal temperature of the sausages to ensure they are fully cooked.\u001b[0m\n",
      "\u001b[1m\u001b[34mSubtask identified: Provide guidance on the cooking time and temperature for bratwurst sausages, along with tips on checking the internal temperature for doneness.\u001b[0m\n",
      "Getting LLM to perform the following task: Provide guidance on the cooking time and temperature for bratwurst sausages, along with tips on checking the internal temperature for doneness.\n",
      "> To cook bratwurst sausages, it is recommended to grill them at a medium heat for about 15-20 minutes, turning occasionally until they are browned and cooked through. The internal temperature of the sausages should reach 160°F (71°C) to ensure they are fully cooked. It is important to use a meat thermometer to check the internal temperature by inserting it into the thickest part of the sausage without touching the bone or casing. Once the sausages reach the desired temperature, they are ready to be served.\n",
      "\n",
      "### Auto-summarising Subtasks Completed ###\n",
      "To cook bratwurst sausages, there are several recommended methods. One common method is to grill them. Preheat the grill to medium heat and place the sausages on the grill. Cook for about 15-20 minutes, turning occasionally, until they are browned and cooked through. Another popular method is to pan-fry the sausages. Heat a skillet over medium heat, add a little oil, and cook the sausages for about 10-12 minutes, turning occasionally. You can also bake bratwurst sausages in the oven. Preheat the oven to 400°F (200°C), place the sausages on a baking sheet, and bake for 20-25 minutes. Whichever method you choose, make sure the internal temperature of the sausages reaches 160°F (71°C) to ensure they are fully cooked.\n",
      "### End of Auto-summary ###\n",
      "\n",
      "\u001b[1m\u001b[30mObservation: To cook bratwurst sausages, there are several recommended methods. One common method is to grill them. Preheat the grill to medium heat and place the sausages on the grill. Cook for about 15-20 minutes, turning occasionally, until they are browned and cooked through. Another popular method is to pan-fry the sausages. Heat a skillet over medium heat, add a little oil, and cook the sausages for about 10-12 minutes, turning occasionally. You can also bake bratwurst sausages in the oven. Preheat the oven to 400°F (200°C), place the sausages on a baking sheet, and bake for 20-25 minutes. Whichever method you choose, make sure the internal temperature of the sausages reaches 160°F (71°C) to ensure they are fully cooked.\u001b[0m\n",
      "\u001b[1m\u001b[32mThoughts: Based on the methods provided in the completed subtasks, the remaining part of the task involves ensuring the internal temperature of the sausages reaches 160°F (71°C) to ensure they are fully cooked. This can be achieved by using a meat thermometer to check the internal temperature. The final step would be to confirm the sausages are fully cooked and ready to be served.\u001b[0m\n",
      "\u001b[1m\u001b[34mSubtask identified: Check the internal temperature of the bratwurst sausages to ensure they are fully cooked.\u001b[0m\n",
      "Getting LLM to perform the following task: Check the internal temperature of the bratwurst sausages to ensure they are fully cooked.\n",
      "> To check the internal temperature of the bratwurst sausages, you can use a meat thermometer. Insert the thermometer into the center of the sausage, making sure not to touch the pan or grill. The internal temperature should read 160°F (71°C) to ensure that the sausages are fully cooked and safe to eat.\n",
      "\n",
      "\u001b[1m\u001b[30mObservation: The subtasks completed so far provide detailed instructions on how to cook bratwurst sausages using different methods and how to check their internal temperature for doneness.\u001b[0m\n",
      "\u001b[1m\u001b[32mThoughts: Based on the information gathered, the next step would be to provide guidance on serving suggestions, accompaniments, and any additional tips or variations for cooking bratwurst sausages.\u001b[0m\n",
      "\u001b[1m\u001b[34mSubtask identified: Provide serving suggestions, accompaniments, and additional tips or variations for cooking bratwurst sausages.\u001b[0m\n",
      "Getting LLM to perform the following task: Provide serving suggestions, accompaniments, and additional tips or variations for cooking bratwurst sausages.\n",
      "> For serving suggestions, bratwurst sausages can be enjoyed in various ways. They are commonly served in a bun with mustard, sauerkraut, and grilled onions to make a classic bratwurst sandwich. You can also serve them alongside potato salad, coleslaw, or grilled vegetables for a hearty meal. For accompaniments, consider pairing bratwurst sausages with German-style potato dishes like potato pancakes or German potato salad. Additionally, a side of warm pretzels or a fresh green salad can complement the flavors of the sausages. To add some extra flair, you can experiment with different types of mustard, relish, or pickles as condiments. As for additional tips or variations, try marinating the bratwurst sausages in beer or a mixture of herbs and spices before cooking to enhance their flavor. You can also grill some bell peppers and onions alongside the sausages for added taste and color. Another variation is to slice the cooked sausages and incorporate them into pasta dishes, casseroles, or even pizza toppings for a unique twist on traditional recipes.\n",
      "\n",
      "\u001b[1m\u001b[30mObservation: The subtasks completed so far provide detailed instructions on how to cook bratwurst sausages, including methods such as grilling, pan-frying, and baking. It also includes information on checking the internal temperature and serving suggestions with accompaniments and variations.\u001b[0m\n",
      "\u001b[1m\u001b[32mThoughts: Based on the information provided in the subtasks completed, the remaining part of the assigned task involves ending the task after providing the cooking guidance for bratwurst sausages. Since the cooking methods, temperature check, serving suggestions, and accompaniments have already been covered, the final step is to conclude the task.\u001b[0m\n",
      "\u001b[1m\u001b[34mSubtask identified: End Task\u001b[0m\n",
      "Task completed successfully!\n",
      "\n"
     ]
    },
    {
     "data": {
      "text/plain": [
       "['To cook bratwurst sausages, there are several recommended methods. One common method is to grill them. Preheat the grill to medium heat and place the sausages on the grill. Cook for about 15-20 minutes, turning occasionally, until they are browned and cooked through. Another popular method is to pan-fry the sausages. Heat a skillet over medium heat, add a little oil, and cook the sausages for about 10-12 minutes, turning occasionally. You can also bake bratwurst sausages in the oven. Preheat the oven to 400°F (200°C), place the sausages on a baking sheet, and bake for 20-25 minutes. Whichever method you choose, make sure the internal temperature of the sausages reaches 160°F (71°C) to ensure they are fully cooked.',\n",
       " {'Output': 'To check the internal temperature of the bratwurst sausages, you can use a meat thermometer. Insert the thermometer into the center of the sausage, making sure not to touch the pan or grill. The internal temperature should read 160°F (71°C) to ensure that the sausages are fully cooked and safe to eat.'},\n",
       " {'Output': 'For serving suggestions, bratwurst sausages can be enjoyed in various ways. They are commonly served in a bun with mustard, sauerkraut, and grilled onions to make a classic bratwurst sandwich. You can also serve them alongside potato salad, coleslaw, or grilled vegetables for a hearty meal. For accompaniments, consider pairing bratwurst sausages with German-style potato dishes like potato pancakes or German potato salad. Additionally, a side of warm pretzels or a fresh green salad can complement the flavors of the sausages. To add some extra flair, you can experiment with different types of mustard, relish, or pickles as condiments. As for additional tips or variations, try marinating the bratwurst sausages in beer or a mixture of herbs and spices before cooking to enhance their flavor. You can also grill some bell peppers and onions alongside the sausages for added taste and color. Another variation is to slice the cooked sausages and incorporate them into pasta dishes, casseroles, or even pizza toppings for a unique twist on traditional recipes.'}]"
      ]
     },
     "execution_count": 9,
     "metadata": {},
     "output_type": "execute_result"
    }
   ],
   "source": [
    "# Note: it is better to reset an agent if you want to change the task\n",
    "agent.reset()\n",
    "agent.run('How to cook bratwurst sausages')"
   ]
  },
  {
   "cell_type": "code",
   "execution_count": 10,
   "id": "c1a68f85-0209-423d-8506-18e6efd126d9",
   "metadata": {
    "tags": []
   },
   "outputs": [
    {
     "name": "stdout",
     "output_type": "stream",
     "text": [
      "Agent Name: Cooking Expert\n",
      "Agent Description: Provides cooking guidance\n",
      "Available Functions: ['use_llm', 'end_task']\n",
      "\u001b[1m\u001b[32mTask: How to cook bratwurst sausages\u001b[0m\n",
      "\u001b[1m\u001b[30mSubtasks Completed:\u001b[0m\n",
      "\u001b[1m\u001b[34mSubtask: Current Results for 'progress for How to cook bratwurst sausages'\u001b[0m\n",
      "To cook bratwurst sausages, there are several recommended methods. One common method is to grill them. Preheat the grill to medium heat and place the sausages on the grill. Cook for about 15-20 minutes, turning occasionally, until they are browned and cooked through. Another popular method is to pan-fry the sausages. Heat a skillet over medium heat, add a little oil, and cook the sausages for about 10-12 minutes, turning occasionally. You can also bake bratwurst sausages in the oven. Preheat the oven to 400°F (200°C), place the sausages on a baking sheet, and bake for 20-25 minutes. Whichever method you choose, make sure the internal temperature of the sausages reaches 160°F (71°C) to ensure they are fully cooked.\n",
      "\n",
      "\u001b[1m\u001b[34mSubtask: Check the internal temperature of the bratwurst sausages to ensure they are fully cooked.\u001b[0m\n",
      "{'Output': 'To check the internal temperature of the bratwurst sausages, you can use a meat thermometer. Insert the thermometer into the center of the sausage, making sure not to touch the pan or grill. The internal temperature should read 160°F (71°C) to ensure that the sausages are fully cooked and safe to eat.'}\n",
      "\n",
      "\u001b[1m\u001b[34mSubtask: Provide serving suggestions, accompaniments, and additional tips or variations for cooking bratwurst sausages.\u001b[0m\n",
      "{'Output': 'For serving suggestions, bratwurst sausages can be enjoyed in various ways. They are commonly served in a bun with mustard, sauerkraut, and grilled onions to make a classic bratwurst sandwich. You can also serve them alongside potato salad, coleslaw, or grilled vegetables for a hearty meal. For accompaniments, consider pairing bratwurst sausages with German-style potato dishes like potato pancakes or German potato salad. Additionally, a side of warm pretzels or a fresh green salad can complement the flavors of the sausages. To add some extra flair, you can experiment with different types of mustard, relish, or pickles as condiments. As for additional tips or variations, try marinating the bratwurst sausages in beer or a mixture of herbs and spices before cooking to enhance their flavor. You can also grill some bell peppers and onions alongside the sausages for added taste and color. Another variation is to slice the cooked sausages and incorporate them into pasta dishes, casseroles, or even pizza toppings for a unique twist on traditional recipes.'}\n",
      "\n",
      "Is Task Completed: True\n"
     ]
    }
   ],
   "source": [
    "agent.status()"
   ]
  },
  {
   "cell_type": "code",
   "execution_count": 11,
   "id": "96ca48bd-fc5f-4cd2-b95b-083702d5d215",
   "metadata": {
    "tags": []
   },
   "outputs": [
    {
     "name": "stdout",
     "output_type": "stream",
     "text": [
      "Based on the methods provided for cooking bratwurst sausages, the cooking times vary. When grilling the sausages, it takes about 15-20 minutes. If pan-frying, the cooking time is approximately 10-12 minutes. For baking in the oven, it takes around 20-25 minutes. It is essential to ensure that the internal temperature of the sausages reaches 160°F (71°C) regardless of the cooking method to guarantee they are fully cooked.\n"
     ]
    },
    {
     "data": {
      "text/plain": [
       "'Based on the methods provided for cooking bratwurst sausages, the cooking times vary. When grilling the sausages, it takes about 15-20 minutes. If pan-frying, the cooking time is approximately 10-12 minutes. For baking in the oven, it takes around 20-25 minutes. It is essential to ensure that the internal temperature of the sausages reaches 160°F (71°C) regardless of the cooking method to guarantee they are fully cooked.'"
      ]
     },
     "execution_count": 11,
     "metadata": {},
     "output_type": "execute_result"
    }
   ],
   "source": [
    "# Use stateful = False if you don't want the reply to user to go into Subtasks Completed\n",
    "agent.reply_user('How long should I cook for?', stateful = False)"
   ]
  },
  {
   "cell_type": "code",
   "execution_count": 12,
   "id": "d5c76b71-51f8-4305-ae33-e5c67b06e616",
   "metadata": {
    "tags": []
   },
   "outputs": [
    {
     "name": "stdout",
     "output_type": "stream",
     "text": [
      "Agent Name: Cooking Expert\n",
      "Agent Description: Provides cooking guidance\n",
      "Available Functions: ['use_llm', 'end_task']\n",
      "\u001b[1m\u001b[32mTask: How to cook bratwurst sausages\u001b[0m\n",
      "\u001b[1m\u001b[30mSubtasks Completed:\u001b[0m\n",
      "\u001b[1m\u001b[34mSubtask: Current Results for 'progress for How to cook bratwurst sausages'\u001b[0m\n",
      "To cook bratwurst sausages, there are several recommended methods. One common method is to grill them. Preheat the grill to medium heat and place the sausages on the grill. Cook for about 15-20 minutes, turning occasionally, until they are browned and cooked through. Another popular method is to pan-fry the sausages. Heat a skillet over medium heat, add a little oil, and cook the sausages for about 10-12 minutes, turning occasionally. You can also bake bratwurst sausages in the oven. Preheat the oven to 400°F (200°C), place the sausages on a baking sheet, and bake for 20-25 minutes. Whichever method you choose, make sure the internal temperature of the sausages reaches 160°F (71°C) to ensure they are fully cooked.\n",
      "\n",
      "\u001b[1m\u001b[34mSubtask: Check the internal temperature of the bratwurst sausages to ensure they are fully cooked.\u001b[0m\n",
      "{'Output': 'To check the internal temperature of the bratwurst sausages, you can use a meat thermometer. Insert the thermometer into the center of the sausage, making sure not to touch the pan or grill. The internal temperature should read 160°F (71°C) to ensure that the sausages are fully cooked and safe to eat.'}\n",
      "\n",
      "\u001b[1m\u001b[34mSubtask: Provide serving suggestions, accompaniments, and additional tips or variations for cooking bratwurst sausages.\u001b[0m\n",
      "{'Output': 'For serving suggestions, bratwurst sausages can be enjoyed in various ways. They are commonly served in a bun with mustard, sauerkraut, and grilled onions to make a classic bratwurst sandwich. You can also serve them alongside potato salad, coleslaw, or grilled vegetables for a hearty meal. For accompaniments, consider pairing bratwurst sausages with German-style potato dishes like potato pancakes or German potato salad. Additionally, a side of warm pretzels or a fresh green salad can complement the flavors of the sausages. To add some extra flair, you can experiment with different types of mustard, relish, or pickles as condiments. As for additional tips or variations, try marinating the bratwurst sausages in beer or a mixture of herbs and spices before cooking to enhance their flavor. You can also grill some bell peppers and onions alongside the sausages for added taste and color. Another variation is to slice the cooked sausages and incorporate them into pasta dishes, casseroles, or even pizza toppings for a unique twist on traditional recipes.'}\n",
      "\n",
      "Is Task Completed: True\n"
     ]
    }
   ],
   "source": [
    "agent.status()"
   ]
  },
  {
   "cell_type": "markdown",
   "id": "86949085-f3b5-4d60-beed-b8cec9e09b01",
   "metadata": {
    "tags": []
   },
   "source": [
    "## Stepping through one step at a time"
   ]
  },
  {
   "cell_type": "code",
   "execution_count": 13,
   "id": "0360ca0c-d1a4-4433-985b-676aef030fa8",
   "metadata": {
    "tags": []
   },
   "outputs": [],
   "source": [
    "agent = Agent('Cooking Expert','Provides cooking guidance', max_subtasks = 10, llm = custom_llm)"
   ]
  },
  {
   "cell_type": "code",
   "execution_count": 14,
   "id": "309f3b36-dc75-4745-a312-0c17736009dc",
   "metadata": {
    "tags": []
   },
   "outputs": [
    {
     "name": "stdout",
     "output_type": "stream",
     "text": [
      "\u001b[1m\u001b[30mObservation: No subtasks have been completed yet for the assigned task\u001b[0m\n",
      "\u001b[1m\u001b[32mThoughts: To cook an omelette, we need to gather the ingredients, beat the eggs, add seasoning, cook the eggs in a pan, and fold the omelette. Since no subtasks have been completed yet, we need to start with the initial steps of gathering the ingredients and beating the eggs.\u001b[0m\n",
      "\u001b[1m\u001b[34mSubtask identified: Gather the ingredients and beat the eggs\u001b[0m\n",
      "Getting LLM to perform the following task: Gather the ingredients and beat the eggs\n",
      "> I have gathered the ingredients required for the recipe and beaten the eggs until they are well combined and slightly frothy.\n",
      "\n"
     ]
    },
    {
     "data": {
      "text/plain": [
       "[{'Output': 'I have gathered the ingredients required for the recipe and beaten the eggs until they are well combined and slightly frothy.'}]"
      ]
     },
     "execution_count": 14,
     "metadata": {},
     "output_type": "execute_result"
    }
   ],
   "source": [
    "agent.run('Tell me how to cook omelette', num_subtasks = 1)"
   ]
  },
  {
   "cell_type": "code",
   "execution_count": 15,
   "id": "fe39d868-f0c6-4e92-9b68-8bed45762ba9",
   "metadata": {
    "tags": []
   },
   "outputs": [
    {
     "name": "stdout",
     "output_type": "stream",
     "text": [
      "Agent Name: Cooking Expert\n",
      "Agent Description: Provides cooking guidance\n",
      "Available Functions: ['use_llm', 'end_task']\n",
      "\u001b[1m\u001b[32mTask: Tell me how to cook omelette\u001b[0m\n",
      "\u001b[1m\u001b[30mSubtasks Completed:\u001b[0m\n",
      "\u001b[1m\u001b[34mSubtask: Gather the ingredients and beat the eggs\u001b[0m\n",
      "{'Output': 'I have gathered the ingredients required for the recipe and beaten the eggs until they are well combined and slightly frothy.'}\n",
      "\n",
      "Is Task Completed: False\n"
     ]
    }
   ],
   "source": [
    "agent.status()"
   ]
  },
  {
   "cell_type": "code",
   "execution_count": 16,
   "id": "6230fd3d-f679-4429-9977-230bcc616cb2",
   "metadata": {
    "tags": []
   },
   "outputs": [
    {
     "name": "stdout",
     "output_type": "stream",
     "text": [
      "\u001b[1m\u001b[30mObservation: I have gathered the ingredients required for the recipe and beaten the eggs until they are well combined and slightly frothy.\u001b[0m\n",
      "\u001b[1m\u001b[32mThoughts: To complete the remainder of the assigned task, the next step would be to cook the omelette mixture in a pan until it sets. This involves pouring the beaten eggs into a heated and greased pan, allowing it to cook until the edges start to set, and then gently pushing the cooked portions towards the center to allow the uncooked eggs to flow to the edges and cook.\u001b[0m\n",
      "\u001b[1m\u001b[34mSubtask identified: Cook the omelette mixture in a pan until it sets by pouring the beaten eggs into a heated and greased pan, allowing it to cook until the edges start to set, and then gently pushing the cooked portions towards the center to allow the uncooked eggs to flow to the edges and cook.\u001b[0m\n",
      "Getting LLM to perform the following task: Cook the omelette mixture in a pan until it sets by pouring the beaten eggs into a heated and greased pan, allowing it to cook until the edges start to set, and then gently pushing the cooked portions towards the center to allow the uncooked eggs to flow to the edges and cook.\n",
      "> I have cooked the omelette mixture in a pan by pouring the beaten eggs into a heated and greased pan. I allowed it to cook until the edges started to set, then gently pushed the cooked portions towards the center to allow the uncooked eggs to flow to the edges and cook. The omelette is now ready to be served.\n",
      "\n"
     ]
    },
    {
     "data": {
      "text/plain": [
       "[{'Output': 'I have gathered the ingredients required for the recipe and beaten the eggs until they are well combined and slightly frothy.'},\n",
       " {'Output': 'I have cooked the omelette mixture in a pan by pouring the beaten eggs into a heated and greased pan. I allowed it to cook until the edges started to set, then gently pushed the cooked portions towards the center to allow the uncooked eggs to flow to the edges and cook. The omelette is now ready to be served.'}]"
      ]
     },
     "execution_count": 16,
     "metadata": {},
     "output_type": "execute_result"
    }
   ],
   "source": [
    "agent.run('Tell me how to cook omelette', num_subtasks = 1)"
   ]
  },
  {
   "cell_type": "code",
   "execution_count": 17,
   "id": "d9020c13-6435-4c49-ae52-12fa63cd0037",
   "metadata": {
    "tags": []
   },
   "outputs": [
    {
     "name": "stdout",
     "output_type": "stream",
     "text": [
      "Agent Name: Cooking Expert\n",
      "Agent Description: Provides cooking guidance\n",
      "Available Functions: ['use_llm', 'end_task']\n",
      "\u001b[1m\u001b[32mTask: Tell me how to cook omelette\u001b[0m\n",
      "\u001b[1m\u001b[30mSubtasks Completed:\u001b[0m\n",
      "\u001b[1m\u001b[34mSubtask: Gather the ingredients and beat the eggs\u001b[0m\n",
      "{'Output': 'I have gathered the ingredients required for the recipe and beaten the eggs until they are well combined and slightly frothy.'}\n",
      "\n",
      "\u001b[1m\u001b[34mSubtask: Cook the omelette mixture in a pan until it sets by pouring the beaten eggs into a heated and greased pan, allowing it to cook until the edges start to set, and then gently pushing the cooked portions towards the center to allow the uncooked eggs to flow to the edges and cook.\u001b[0m\n",
      "{'Output': 'I have cooked the omelette mixture in a pan by pouring the beaten eggs into a heated and greased pan. I allowed it to cook until the edges started to set, then gently pushed the cooked portions towards the center to allow the uncooked eggs to flow to the edges and cook. The omelette is now ready to be served.'}\n",
      "\n",
      "Is Task Completed: False\n"
     ]
    }
   ],
   "source": [
    "agent.status()"
   ]
  },
  {
   "cell_type": "code",
   "execution_count": 18,
   "id": "6670fe36-bd4b-4784-b0b7-95f143138a83",
   "metadata": {
    "tags": []
   },
   "outputs": [
    {
     "name": "stdout",
     "output_type": "stream",
     "text": [
      "To cook an omelette, gather the ingredients and beat the eggs until well combined and slightly frothy. Then, cook the omelette mixture in a pan by pouring the beaten eggs into a heated and greased pan. Allow it to cook until the edges start to set, then gently push the cooked portions towards the center to allow the uncooked eggs to flow to the edges and cook. The omelette is now ready to be served.\n"
     ]
    },
    {
     "data": {
      "text/plain": [
       "'To cook an omelette, gather the ingredients and beat the eggs until well combined and slightly frothy. Then, cook the omelette mixture in a pan by pouring the beaten eggs into a heated and greased pan. Allow it to cook until the edges start to set, then gently push the cooked portions towards the center to allow the uncooked eggs to flow to the edges and cook. The omelette is now ready to be served.'"
      ]
     },
     "execution_count": 18,
     "metadata": {},
     "output_type": "execute_result"
    }
   ],
   "source": [
    "agent.reply_user('Summarise how to cook an omelette in point form', stateful = False)"
   ]
  },
  {
   "cell_type": "code",
   "execution_count": 19,
   "id": "fffaada1-c48d-44fb-a128-eba6e80f6f55",
   "metadata": {
    "tags": []
   },
   "outputs": [
    {
     "name": "stdout",
     "output_type": "stream",
     "text": [
      "I provide cooking guidance and have completed tasks related to gathering ingredients and cooking omelette mixtures. I do not have information on the number of stars in the universe.\n"
     ]
    },
    {
     "data": {
      "text/plain": [
       "'I provide cooking guidance and have completed tasks related to gathering ingredients and cooking omelette mixtures. I do not have information on the number of stars in the universe.'"
      ]
     },
     "execution_count": 19,
     "metadata": {},
     "output_type": "execute_result"
    }
   ],
   "source": [
    "# reply_user only uses what the subtasks completed has\n",
    "agent.reply_user('How many stars are there in the universe?', stateful = False)"
   ]
  },
  {
   "cell_type": "markdown",
   "id": "52c03591-4cf3-4b19-9c61-a2760c2950bc",
   "metadata": {},
   "source": [
    "## When to use StrictJSON vs TaskGen\n",
    "- TaskGen is for Agentic Flow where you don't know what function to call\n",
    "- strict_json is when you already know what you want to do in the pipeline, then define inputs and outputs to ask LLM to do input-output matching"
   ]
  },
  {
   "cell_type": "code",
   "execution_count": 20,
   "id": "1f757274-b948-4668-939f-1cac7baade6a",
   "metadata": {
    "tags": []
   },
   "outputs": [],
   "source": [
    "res = strict_json('Describe how to cook an omelette in point form', '',\n",
    "            output_format = {'Details of how to cook in bullet form': 'Details'})"
   ]
  },
  {
   "cell_type": "code",
   "execution_count": 21,
   "id": "23d07276-ea56-4140-8aea-7498e6a1539e",
   "metadata": {
    "tags": []
   },
   "outputs": [
    {
     "name": "stdout",
     "output_type": "stream",
     "text": [
      "{'Details of how to cook in bullet form': '1. Crack eggs into a bowl\\n2. Whisk the eggs until well combined\\n3. Heat a non-stick pan over medium heat\\n4. Melt butter in the pan\\n5. Pour the eggs into the pan\\n6. Let the eggs cook for a few minutes until the edges start to set\\n7. Add desired fillings (cheese, vegetables, meats)\\n8. Fold one side of the omelette over the fillings\\n9. Cook for another minute\\n10. Slide the omelette onto a plate and serve hot'}\n"
     ]
    }
   ],
   "source": [
    "print(res)"
   ]
  },
  {
   "cell_type": "markdown",
   "id": "db58db5e-f712-4312-b786-4f3c6a7e47aa",
   "metadata": {
    "tags": []
   },
   "source": [
    "# Agent with Functions"
   ]
  },
  {
   "cell_type": "markdown",
   "id": "112e53af-ad4d-4289-a1c8-556e1ae6b375",
   "metadata": {},
   "source": [
    "## Internal Functions"
   ]
  },
  {
   "cell_type": "code",
   "execution_count": 22,
   "id": "d6338ece-9087-4a06-ae31-c011e22dd117",
   "metadata": {
    "tags": []
   },
   "outputs": [],
   "source": [
    "# this is the shorter way (internal LLM function)\n",
    "cooking_fn = Function('Describe how to cook <dish: str> in point form', {'Details of how to cook in bullet form': 'Details'})"
   ]
  },
  {
   "cell_type": "code",
   "execution_count": 23,
   "id": "1dfbd8f0-98c8-4280-b51c-dc0fba37c998",
   "metadata": {
    "tags": []
   },
   "outputs": [
    {
     "name": "stdout",
     "output_type": "stream",
     "text": [
      "Description: Describe how to cook <dish: str> in point form\n",
      "Input: ['dish']\n",
      "Output: {'Details of how to cook in bullet form': 'Details'}\n",
      "\n"
     ]
    }
   ],
   "source": [
    "# visualise the function\n",
    "print(cooking_fn)"
   ]
  },
  {
   "cell_type": "code",
   "execution_count": 24,
   "id": "4fa1f7d5-54a9-4e63-93c6-eb0fa03b4c02",
   "metadata": {
    "tags": []
   },
   "outputs": [
    {
     "data": {
      "text/plain": [
       "{'Details of how to cook in bullet form': '1. Crack eggs into a bowl\\n2. Beat the eggs until well mixed\\n3. Heat a non-stick pan on medium heat\\n4. Pour the beaten eggs into the pan\\n5. Let the eggs cook for a few minutes until the edges start to set\\n6. Add desired fillings such as cheese, vegetables, or ham\\n7. Fold the omelette in half\\n8. Cook for another minute or until the cheese melts\\n9. Slide the omelette onto a plate and serve hot'}"
      ]
     },
     "execution_count": 24,
     "metadata": {},
     "output_type": "execute_result"
    }
   ],
   "source": [
    "# use the function\n",
    "cooking_fn('Omelette')"
   ]
  },
  {
   "cell_type": "code",
   "execution_count": 25,
   "id": "06678068-1279-4568-93bd-f265d50fd883",
   "metadata": {
    "tags": []
   },
   "outputs": [
    {
     "data": {
      "text/plain": [
       "{'Details of how to cook in bullet form': '1. Preheat a skillet over medium heat\\n2. Add sausages to the skillet\\n3. Cook for about 10-12 minutes, turning occasionally until browned and cooked through\\n4. Remove from heat and let them rest for a few minutes before serving'}"
      ]
     },
     "execution_count": 25,
     "metadata": {},
     "output_type": "execute_result"
    }
   ],
   "source": [
    "cooking_fn('Sausages')"
   ]
  },
  {
   "cell_type": "code",
   "execution_count": 26,
   "id": "f4829e4d-9eb7-4c4d-a1fb-0f6a6d5d0ae2",
   "metadata": {
    "tags": []
   },
   "outputs": [
    {
     "data": {
      "text/plain": [
       "'cook_dish_in_point_form'"
      ]
     },
     "execution_count": 26,
     "metadata": {},
     "output_type": "execute_result"
    }
   ],
   "source": [
    "cooking_fn.fn_name"
   ]
  },
  {
   "cell_type": "markdown",
   "id": "cbd3b5c4-21f5-43ad-9ede-3c9da74e995f",
   "metadata": {},
   "source": [
    "## External Functions"
   ]
  },
  {
   "cell_type": "code",
   "execution_count": 27,
   "id": "61410a2a-0344-41ae-9c5b-9ee0902667fc",
   "metadata": {
    "tags": []
   },
   "outputs": [],
   "source": [
    "# this is the longer way (External Function)\n",
    "def cooking_func(dish: str):\n",
    "    # potentially include some rule-based pre-processing\n",
    "    if ' ' in dish:\n",
    "        dish = dish.split(' ')[0]\n",
    "    \n",
    "    # call the LLM\n",
    "    res = strict_json(f'Describe how to cook an {dish} in point form', '',\n",
    "            output_format = {'Details of how to cook in bullet form': 'Details'})\n",
    "\n",
    "    # potentially include some rule-based post-processing\n",
    "    res['Details of how to cook in bullet form'] = res['Details of how to cook in bullet form'].replace('\\n','\\n\\n')\n",
    "    \n",
    "    return res['Details of how to cook in bullet form']"
   ]
  },
  {
   "cell_type": "code",
   "execution_count": 28,
   "id": "d8b34813-d62a-4355-b4e9-212e20115043",
   "metadata": {
    "tags": []
   },
   "outputs": [],
   "source": [
    "cooking_fn_external = Function('Describe how to cook <dish: str> in point form', {'Details of how to cook in bullet form': 'Details'}, external_fn = cooking_func)"
   ]
  },
  {
   "cell_type": "code",
   "execution_count": 29,
   "id": "01726e6d-ce9f-4037-a5cd-54280ea518b9",
   "metadata": {
    "tags": []
   },
   "outputs": [
    {
     "name": "stdout",
     "output_type": "stream",
     "text": [
      "Description: Describe how to cook <dish: str> in point form\n",
      "Input: ['dish']\n",
      "Output: {'Details of how to cook in bullet form': 'Details'}\n",
      "\n"
     ]
    }
   ],
   "source": [
    "print(cooking_fn_external)"
   ]
  },
  {
   "cell_type": "code",
   "execution_count": 30,
   "id": "026214fb-7935-4660-9d0f-f1943af98736",
   "metadata": {
    "tags": []
   },
   "outputs": [
    {
     "data": {
      "text/plain": [
       "{'Details of how to cook in bullet form': '1. Crack eggs into a bowl\\n\\n2. Whisk the eggs until well combined\\n\\n3. Heat a non-stick pan over medium heat\\n\\n4. Melt butter in the pan\\n\\n5. Pour the eggs into the pan\\n\\n6. Let the eggs cook for a few minutes until the edges start to set\\n\\n7. Use a spatula to gently lift the edges and tilt the pan to let the uncooked eggs flow to the edges\\n\\n8. Add desired fillings such as cheese, vegetables, or ham\\n\\n9. Fold one side of the omelette over the fillings\\n\\n10. Cook for another minute or until the omelette is cooked to your liking\\n\\n11. Slide the omelette onto a plate and serve hot'}"
      ]
     },
     "execution_count": 30,
     "metadata": {},
     "output_type": "execute_result"
    }
   ],
   "source": [
    "cooking_fn_external('Omelette')"
   ]
  },
  {
   "cell_type": "code",
   "execution_count": 31,
   "id": "b67cb37b-e55c-49a9-8152-a6c791957458",
   "metadata": {
    "tags": []
   },
   "outputs": [
    {
     "data": {
      "text/plain": [
       "{'Details of how to cook in bullet form': '1. Preheat a skillet or grill to medium heat\\n\\n2. Place sausages on the skillet or grill\\n\\n3. Cook for about 15-20 minutes, turning occasionally until browned and cooked through\\n\\n4. Use a meat thermometer to ensure internal temperature reaches 160°F\\n\\n5. Remove from heat and let rest for a few minutes before serving'}"
      ]
     },
     "execution_count": 31,
     "metadata": {},
     "output_type": "execute_result"
    }
   ],
   "source": [
    "cooking_fn_external('Sausages')"
   ]
  },
  {
   "cell_type": "code",
   "execution_count": 32,
   "id": "206b810e-d0e9-43ff-8ff2-c891282d27dc",
   "metadata": {
    "tags": []
   },
   "outputs": [
    {
     "data": {
      "text/plain": [
       "'cooking_func'"
      ]
     },
     "execution_count": 32,
     "metadata": {},
     "output_type": "execute_result"
    }
   ],
   "source": [
    "cooking_fn_external.fn_name"
   ]
  },
  {
   "cell_type": "markdown",
   "id": "2c986d0d-4f4a-4380-b8eb-edf1fec43796",
   "metadata": {},
   "source": [
    "## Equip Functions to your Agent"
   ]
  },
  {
   "cell_type": "code",
   "execution_count": 33,
   "id": "c68445a7-a8cc-477c-80e8-c515b758d25b",
   "metadata": {
    "tags": []
   },
   "outputs": [],
   "source": [
    "agent2 = Agent('Personal Assistant', 'Helps User find cooking recipes or schedules stuff. Current schedule: 10am - 1130am: TaskGen Tutorial', default_to_llm = False)"
   ]
  },
  {
   "cell_type": "code",
   "execution_count": 34,
   "id": "508590a7-8fc9-409d-b6dc-a0732a684af8",
   "metadata": {
    "tags": []
   },
   "outputs": [],
   "source": [
    "schedule_fn = Function('Schedules an <appointment> from <start_time> to <end_time>', \n",
    "                       {'Booked Timeslots': 'List of timeslots and event that are booked', \n",
    "                        'Completed Status': 'Successful if Timeslot is booked, otherwise Not Successful'})"
   ]
  },
  {
   "cell_type": "code",
   "execution_count": 35,
   "id": "2abad915-e230-4124-9130-cc19396d2dc2",
   "metadata": {
    "tags": []
   },
   "outputs": [
    {
     "name": "stdout",
     "output_type": "stream",
     "text": [
      "Agent Name: Personal Assistant\n",
      "Agent Description: Helps User find cooking recipes or schedules stuff. Current schedule: 10am - 1130am: TaskGen Tutorial\n",
      "Available Functions: ['end_task']\n",
      "\u001b[1m\u001b[32mTask: No task assigned\u001b[0m\n",
      "\u001b[1m\u001b[34mSubtasks Completed: None\u001b[0m\n",
      "Is Task Completed: False\n"
     ]
    }
   ],
   "source": [
    "agent2.status()"
   ]
  },
  {
   "cell_type": "code",
   "execution_count": 36,
   "id": "8fa10382-5b47-4bdd-8cef-f3ef94f49473",
   "metadata": {
    "tags": []
   },
   "outputs": [
    {
     "data": {
      "text/plain": [
       "<taskgen.agent.Agent at 0x109826690>"
      ]
     },
     "execution_count": 36,
     "metadata": {},
     "output_type": "execute_result"
    }
   ],
   "source": [
    "# assign all your functions\n",
    "agent2.assign_functions([cooking_fn, schedule_fn])"
   ]
  },
  {
   "cell_type": "code",
   "execution_count": 37,
   "id": "69742f66-9fde-4ecc-ae05-8f4f1cd97477",
   "metadata": {
    "tags": []
   },
   "outputs": [
    {
     "name": "stdout",
     "output_type": "stream",
     "text": [
      "Agent Name: Personal Assistant\n",
      "Agent Description: Helps User find cooking recipes or schedules stuff. Current schedule: 10am - 1130am: TaskGen Tutorial\n",
      "Available Functions: ['end_task', 'cook_dish_in_point_form', 'schedule_appointment']\n",
      "\u001b[1m\u001b[32mTask: No task assigned\u001b[0m\n",
      "\u001b[1m\u001b[34mSubtasks Completed: None\u001b[0m\n",
      "Is Task Completed: False\n"
     ]
    }
   ],
   "source": [
    "agent2.status()"
   ]
  },
  {
   "cell_type": "code",
   "execution_count": 38,
   "id": "22cd2070-6414-4794-bfbb-21471bf86a82",
   "metadata": {
    "tags": []
   },
   "outputs": [
    {
     "name": "stdout",
     "output_type": "stream",
     "text": [
      "Name: end_task\n",
      "Description: Use only after task is completed\n",
      "Input: []\n",
      "Output: {}\n",
      "\n",
      "Name: cook_dish_in_point_form\n",
      "Description: Describe how to cook <dish: str> in point form\n",
      "Input: ['dish']\n",
      "Output: {'Details of how to cook in bullet form': 'Details'}\n",
      "\n",
      "Name: schedule_appointment\n",
      "Description: Schedules an <appointment> from <start_time> to <end_time>\n",
      "Input: ['appointment', 'start_time', 'end_time']\n",
      "Output: {'Booked Timeslots': 'List of timeslots and event that are booked', 'Completed Status': 'Successful if Timeslot is booked, otherwise Not Successful'}\n",
      "\n"
     ]
    }
   ],
   "source": [
    "agent2.print_functions()"
   ]
  },
  {
   "cell_type": "code",
   "execution_count": 39,
   "id": "dc306e07-5cc8-47da-a83a-0b1efdda22c9",
   "metadata": {
    "tags": []
   },
   "outputs": [
    {
     "name": "stdout",
     "output_type": "stream",
     "text": [
      "\u001b[1m\u001b[30mObservation: No further inputs provided by User\u001b[0m\n",
      "\u001b[1m\u001b[32mThoughts: Since the User has not provided any additional inputs, it seems like the task is to schedule a 1-hour appointment at 10pm. The current schedule from 10am to 11:30am is already occupied with the TaskGen Tutorial. To complete the task, we need to find a suitable timeslot for the appointment at 10pm.\u001b[0m\n",
      "\u001b[1m\u001b[34mSubtask identified: Schedules an appointment from 10pm to 11pm\u001b[0m\n",
      "Calling function schedule_appointment with parameters {'appointment': '1-hour appointment', 'start_time': '10pm', 'end_time': '11pm'}\n",
      "> {'Booked Timeslots': '10pm - 11pm: 1-hour appointment', 'Completed Status': 'Successful'}\n",
      "\n",
      "\u001b[1m\u001b[30mObservation: The User has requested to schedule a 1-hour appointment at 10pm.\u001b[0m\n",
      "\u001b[1m\u001b[32mThoughts: The appointment from 10pm to 11pm has been successfully scheduled. The remaining task is to End Task.\u001b[0m\n",
      "\u001b[1m\u001b[34mSubtask identified: End Task\u001b[0m\n",
      "Task completed successfully!\n",
      "\n"
     ]
    },
    {
     "data": {
      "text/plain": [
       "[{'Booked Timeslots': '10pm - 11pm: 1-hour appointment',\n",
       "  'Completed Status': 'Successful'}]"
      ]
     },
     "execution_count": 39,
     "metadata": {},
     "output_type": "execute_result"
    }
   ],
   "source": [
    "agent2.reset()\n",
    "agent2.run('Schedule a 1-hour appointment at 10pm')"
   ]
  },
  {
   "cell_type": "code",
   "execution_count": 40,
   "id": "483001c5-8bc0-4f8b-be6c-6de00fd64059",
   "metadata": {
    "tags": []
   },
   "outputs": [
    {
     "name": "stdout",
     "output_type": "stream",
     "text": [
      "\u001b[1m\u001b[30mObservation: No previous subtasks completed\u001b[0m\n",
      "\u001b[1m\u001b[32mThoughts: To teach how to cook an omelette, I can use the function cook_dish_in_point_form to provide step-by-step instructions on how to make an omelette.\u001b[0m\n",
      "\u001b[1m\u001b[34mSubtask identified: Describe how to cook an omelette in point form\u001b[0m\n",
      "Calling function cook_dish_in_point_form with parameters {'dish': 'omelette'}\n",
      "> {'Details of how to cook in bullet form': '1. Crack eggs into a bowl\\n2. Beat the eggs until well mixed\\n3. Heat a non-stick pan on medium heat\\n4. Pour the beaten eggs into the pan\\n5. Let the eggs cook for a few minutes until the edges start to set\\n6. Use a spatula to lift the edges and let the uncooked eggs flow to the bottom\\n7. Add desired fillings such as cheese, vegetables, or ham\\n8. Fold the omelette in half\\n9. Cook for another minute or until the cheese melts\\n10. Slide the omelette onto a plate and serve hot'}\n",
      "\n",
      "\u001b[1m\u001b[30mObservation: The User requested to learn how to cook an omelette, and the steps to cook an omelette in point form have been provided.\u001b[0m\n",
      "\u001b[1m\u001b[32mThoughts: Since the steps to cook an omelette in point form have been provided, the next step would be to end the task as it has been completed successfully.\u001b[0m\n",
      "\u001b[1m\u001b[34mSubtask identified: End Task\u001b[0m\n",
      "Task completed successfully!\n",
      "\n"
     ]
    },
    {
     "data": {
      "text/plain": [
       "[{'Details of how to cook in bullet form': '1. Crack eggs into a bowl\\n2. Beat the eggs until well mixed\\n3. Heat a non-stick pan on medium heat\\n4. Pour the beaten eggs into the pan\\n5. Let the eggs cook for a few minutes until the edges start to set\\n6. Use a spatula to lift the edges and let the uncooked eggs flow to the bottom\\n7. Add desired fillings such as cheese, vegetables, or ham\\n8. Fold the omelette in half\\n9. Cook for another minute or until the cheese melts\\n10. Slide the omelette onto a plate and serve hot'}]"
      ]
     },
     "execution_count": 40,
     "metadata": {},
     "output_type": "execute_result"
    }
   ],
   "source": [
    "agent2.reset()\n",
    "agent2.run('Teach me how to cook an omelette')"
   ]
  },
  {
   "cell_type": "code",
   "execution_count": 41,
   "id": "b9615d7f-10ef-498f-b3a6-22cc2df6c037",
   "metadata": {
    "tags": []
   },
   "outputs": [
    {
     "name": "stdout",
     "output_type": "stream",
     "text": [
      "\u001b[1m\u001b[30mObservation: No subtasks completed yet.\u001b[0m\n",
      "\u001b[1m\u001b[32mThoughts: Since the user wants to add a 1-hour cooking class to cook an omelette at 2pm to their schedule and also mentioned that they do not know how to cook the omelette, the next step would be to find a suitable cooking recipe for an omelette.\u001b[0m\n",
      "\u001b[1m\u001b[34mSubtask identified: Find a cooking recipe for an omelette.\u001b[0m\n",
      "Calling function cook_dish_in_point_form with parameters {'dish': 'omelette'}\n",
      "> {'Details of how to cook in bullet form': '1. Crack eggs into a bowl\\n2. Beat the eggs until well mixed\\n3. Heat a non-stick pan on medium heat\\n4. Pour the beaten eggs into the pan\\n5. Let the eggs cook for a few minutes until the edges start to set\\n6. Use a spatula to lift the edges and let the uncooked eggs flow to the bottom\\n7. Add desired fillings like cheese, vegetables, or ham\\n8. Fold the omelette in half\\n9. Cook for another minute or until the omelette is cooked through\\n10. Slide the omelette onto a plate and serve hot'}\n",
      "\n",
      "\u001b[1m\u001b[30mObservation: A cooking recipe for an omelette has been found and provided in point form.\u001b[0m\n",
      "\u001b[1m\u001b[32mThoughts: Since the cooking recipe for an omelette has been found, the next step is to schedule a 1-hour cooking class to cook an omelette at 2pm. This involves adding the cooking class appointment to the schedule.\u001b[0m\n",
      "\u001b[1m\u001b[34mSubtask identified: Schedule a 1-hour cooking class to cook an omelette at 2pm.\u001b[0m\n",
      "Calling function schedule_appointment with parameters {'appointment': 'Cooking Class: Omelette', 'start_time': '2pm', 'end_time': '3pm'}\n",
      "> {'Booked Timeslots': '2pm to 3pm: Cooking Class: Omelette', 'Completed Status': 'Successful'}\n",
      "\n",
      "\u001b[1m\u001b[30mObservation: The User requested to add a 1-hour cooking class to cook an omelette at 2pm to their schedule. A cooking recipe for an omelette has been found and the cooking class has been successfully scheduled from 2pm to 3pm.\u001b[0m\n",
      "\u001b[1m\u001b[32mThoughts: Since the cooking recipe for an omelette has been provided and the cooking class has been scheduled, the remaining task is to end the current task after the cooking class is completed. This can be achieved by using the \"end_task\" function to mark the task as completed.\u001b[0m\n",
      "\u001b[1m\u001b[34mSubtask identified: End Task\u001b[0m\n",
      "Task completed successfully!\n",
      "\n"
     ]
    },
    {
     "data": {
      "text/plain": [
       "[{'Details of how to cook in bullet form': '1. Crack eggs into a bowl\\n2. Beat the eggs until well mixed\\n3. Heat a non-stick pan on medium heat\\n4. Pour the beaten eggs into the pan\\n5. Let the eggs cook for a few minutes until the edges start to set\\n6. Use a spatula to lift the edges and let the uncooked eggs flow to the bottom\\n7. Add desired fillings like cheese, vegetables, or ham\\n8. Fold the omelette in half\\n9. Cook for another minute or until the omelette is cooked through\\n10. Slide the omelette onto a plate and serve hot'},\n",
       " {'Booked Timeslots': '2pm to 3pm: Cooking Class: Omelette',\n",
       "  'Completed Status': 'Successful'}]"
      ]
     },
     "execution_count": 41,
     "metadata": {},
     "output_type": "execute_result"
    }
   ],
   "source": [
    "agent2.reset()\n",
    "agent2.run('''Add a 1 hour cooking class to cook an omelette at 2pm to my schedule. \n",
    "Alas, I don't know how to cook the omelette''')"
   ]
  },
  {
   "cell_type": "code",
   "execution_count": 42,
   "id": "d04adcd5-3fec-42ce-a293-0a40c329ebe8",
   "metadata": {
    "tags": []
   },
   "outputs": [
    {
     "name": "stdout",
     "output_type": "stream",
     "text": [
      "No, you do not have any appointments at 4pm-5pm today.\n"
     ]
    },
    {
     "data": {
      "text/plain": [
       "'No, you do not have any appointments at 4pm-5pm today.'"
      ]
     },
     "execution_count": 42,
     "metadata": {},
     "output_type": "execute_result"
    }
   ],
   "source": [
    "agent2.reply_user('Do I have any appointments at 4pm-5pm today?', stateful = False)"
   ]
  },
  {
   "cell_type": "markdown",
   "id": "1f30d76f-d7a0-4677-8dc5-ae75c0a70a3c",
   "metadata": {},
   "source": [
    "## Function Calling\n",
    "- If you want fine-grained control over what your function takes in, and what params you want for your function\n",
    "- Generally not needed"
   ]
  },
  {
   "cell_type": "code",
   "execution_count": 43,
   "id": "77e00a13-a89b-4119-9952-360b40ffdc76",
   "metadata": {
    "tags": []
   },
   "outputs": [
    {
     "name": "stdout",
     "output_type": "stream",
     "text": [
      "\u001b[1m\u001b[30mObservation: The current task is to schedule a badminton session at 2-3pm.\u001b[0m\n",
      "\u001b[1m\u001b[32mThoughts: The TaskGen Tutorial is scheduled from 10am to 11:30am. To schedule the badminton session at 2-3pm, we need to find a suitable timeslot and book it.\u001b[0m\n"
     ]
    }
   ],
   "source": [
    "fn_name, fn_params = agent2.select_function('Schedule badminton session at 2-3pm')"
   ]
  },
  {
   "cell_type": "code",
   "execution_count": 44,
   "id": "e34ca50e-9f9d-4d8e-b39c-0aaa4d7d76b4",
   "metadata": {
    "tags": []
   },
   "outputs": [
    {
     "name": "stdout",
     "output_type": "stream",
     "text": [
      "Calling function schedule_appointment with parameters {'appointment': 'badminton session', 'start_time': '2pm', 'end_time': '3pm'}\n",
      "> {'Booked Timeslots': '2pm - 3pm: badminton session', 'Completed Status': 'Successful'}\n",
      "\n"
     ]
    },
    {
     "data": {
      "text/plain": [
       "{'Booked Timeslots': '2pm - 3pm: badminton session',\n",
       " 'Completed Status': 'Successful'}"
      ]
     },
     "execution_count": 44,
     "metadata": {},
     "output_type": "execute_result"
    }
   ],
   "source": [
    "agent2.use_function(fn_name, fn_params, subtask = 'Schedule badminton session at 2-3pm', stateful = False)"
   ]
  },
  {
   "cell_type": "markdown",
   "id": "c7a917a4-d014-4698-816b-19b88c4204be",
   "metadata": {},
   "source": [
    "# Shared Variables\n",
    "- Allows you to store information in external variables\n",
    "- Begins with s_ for Internal LLM functions\n",
    "- Helps to deal with lengthy text / multimodal inputs/outputs"
   ]
  },
  {
   "cell_type": "code",
   "execution_count": 45,
   "id": "ec56c666-2124-4def-acbe-bb7ee5734398",
   "metadata": {},
   "outputs": [],
   "source": [
    "agent3 = Agent('Personal Assistant', 'Helps to find cooking recipes and schedules stuff', default_to_llm = False,\n",
    "              shared_variables = {'s_Scheduled_Timeslots': ['10am - 1130am: TaskGen Tutorial']})"
   ]
  },
  {
   "cell_type": "code",
   "execution_count": 46,
   "id": "12c370b3-2656-4333-88a5-d6fc3195fe6e",
   "metadata": {
    "tags": []
   },
   "outputs": [],
   "source": [
    "# This schedules an appointment, taking into account the s_Booked_Timeslots\n",
    "schedule_fn_shared_variable = Function('Schedules an <appointment> from <start_time> to <end_time>, taking into consideration <s_Scheduled_Timeslots>.', \n",
    "                       {'s_Scheduled_Timeslots': 'Update the s_Scheduled_Timeslots in the format \"Time: Event\" for each event', \n",
    "                        'Completed Status': 'Successful if Timeslot is booked, otherwise Not Successful'})"
   ]
  },
  {
   "cell_type": "code",
   "execution_count": 47,
   "id": "c182d3ce-bb76-472c-b6d4-163176f2808e",
   "metadata": {
    "tags": []
   },
   "outputs": [
    {
     "data": {
      "text/plain": [
       "<taskgen.agent.Agent at 0x1098d3010>"
      ]
     },
     "execution_count": 47,
     "metadata": {},
     "output_type": "execute_result"
    }
   ],
   "source": [
    "# assign all your functions\n",
    "agent3.assign_functions([cooking_fn, schedule_fn_shared_variable])"
   ]
  },
  {
   "cell_type": "code",
   "execution_count": 48,
   "id": "624650cf-56d9-40fb-a9bf-b8c750119b39",
   "metadata": {
    "tags": []
   },
   "outputs": [
    {
     "name": "stdout",
     "output_type": "stream",
     "text": [
      "Agent Name: Personal Assistant\n",
      "Agent Description: Helps to find cooking recipes and schedules stuff\n",
      "Available Functions: ['end_task', 'cook_dish_in_point_form', 'schedule_appointment_within_timeslots']\n",
      "Shared Variables: ['s_Scheduled_Timeslots']\n",
      "\u001b[1m\u001b[32mTask: No task assigned\u001b[0m\n",
      "\u001b[1m\u001b[34mSubtasks Completed: None\u001b[0m\n",
      "Is Task Completed: False\n"
     ]
    }
   ],
   "source": [
    "agent3.status()"
   ]
  },
  {
   "cell_type": "code",
   "execution_count": 49,
   "id": "f94a99e6-499c-4891-b278-02b7e5e0a1f2",
   "metadata": {
    "tags": []
   },
   "outputs": [
    {
     "name": "stdout",
     "output_type": "stream",
     "text": [
      "Name: end_task\n",
      "Description: Use only after task is completed\n",
      "Input: []\n",
      "Output: {}\n",
      "\n",
      "Name: cook_dish_in_point_form\n",
      "Description: Describe how to cook <dish: str> in point form\n",
      "Input: ['dish']\n",
      "Output: {'Details of how to cook in bullet form': 'Details'}\n",
      "\n",
      "Name: schedule_appointment_within_timeslots\n",
      "Description: Schedules an <appointment> from <start_time> to <end_time>, taking into consideration s_Scheduled_Timeslots.\n",
      "Input: ['appointment', 'start_time', 'end_time']\n",
      "Output: {'s_Scheduled_Timeslots': 'Update the s_Scheduled_Timeslots in the format \"Time: Event\" for each event', 'Completed Status': 'Successful if Timeslot is booked, otherwise Not Successful'}\n",
      "\n"
     ]
    }
   ],
   "source": [
    "agent3.print_functions()"
   ]
  },
  {
   "cell_type": "code",
   "execution_count": 50,
   "id": "3dd580d4-7ff0-44b4-9015-ac01fe160e76",
   "metadata": {
    "tags": []
   },
   "outputs": [
    {
     "name": "stdout",
     "output_type": "stream",
     "text": [
      "\u001b[1m\u001b[30mObservation: No observation provided\u001b[0m\n",
      "\u001b[1m\u001b[32mThoughts: Since the task is to schedule a 3-hour badminton session starting from 2pm, we need to find a 3-hour slot available after 2pm in the schedule. We can use the \"schedule_appointment_within_timeslots\" function to book this slot.\u001b[0m\n",
      "\u001b[1m\u001b[34mSubtask identified: Schedule a 3-hour badminton session starting from 2pm\u001b[0m\n",
      "Calling function schedule_appointment_within_timeslots with parameters {'appointment': 'Badminton session', 'start_time': '2:00pm', 'end_time': '5:00pm'}\n",
      "> {'Completed Status': 'Successful'}\n",
      "\n",
      "\u001b[1m\u001b[30mObservation: The 3-hour badminton session starting from 2pm has been successfully scheduled.\u001b[0m\n",
      "\u001b[1m\u001b[32mThoughts: Since the badminton session has been scheduled, the next step would be to end the task as per the user request.\u001b[0m\n",
      "\u001b[1m\u001b[34mSubtask identified: End Task\u001b[0m\n",
      "Task completed successfully!\n",
      "\n"
     ]
    },
    {
     "data": {
      "text/plain": [
       "[{'Completed Status': 'Successful'}]"
      ]
     },
     "execution_count": 50,
     "metadata": {},
     "output_type": "execute_result"
    }
   ],
   "source": [
    "agent3.reset()\n",
    "agent3.run('Schedule a 3 hour badmintion session starting from 2pm')"
   ]
  },
  {
   "cell_type": "code",
   "execution_count": 51,
   "id": "fff7f458-338a-4622-adf1-5e15f9276714",
   "metadata": {
    "tags": []
   },
   "outputs": [
    {
     "data": {
      "text/plain": [
       "{'s_Scheduled_Timeslots': '10am - 1130am: TaskGen Tutorial, 2:00pm - 5:00pm: Badminton session'}"
      ]
     },
     "execution_count": 51,
     "metadata": {},
     "output_type": "execute_result"
    }
   ],
   "source": [
    "agent3.shared_variables"
   ]
  },
  {
   "cell_type": "markdown",
   "id": "7735ce01-d236-4622-a076-540df586ab7d",
   "metadata": {},
   "source": [
    "## Perhaps it is better doing scheduling with rule-based functions"
   ]
  },
  {
   "cell_type": "code",
   "execution_count": 52,
   "id": "c328fd7e-a541-4fbe-9803-1f3effa47130",
   "metadata": {
    "tags": []
   },
   "outputs": [],
   "source": [
    "agent3 = Agent('Personal Assistant', 'Helps to find cooking recipes or schedules stuff', default_to_llm = False,\n",
    "              shared_variables = {'Scheduled Timeslots': ['10am - 1130am: TaskGen Tutorial']})"
   ]
  },
  {
   "cell_type": "code",
   "execution_count": 53,
   "id": "64c08aad-4233-449a-8f66-885625aea1ba",
   "metadata": {
    "tags": []
   },
   "outputs": [],
   "source": [
    "def schedule_with_time_and_appointment(shared_variables, appointment, start_time, end_time):\n",
    "    shared_variables['Scheduled Timeslots'].append(f'{start_time} - {end_time}: {appointment}')\n",
    "    \n",
    "    return 'Completed'"
   ]
  },
  {
   "cell_type": "code",
   "execution_count": 54,
   "id": "6564046d-67f5-47ab-b933-9ef4d3711e07",
   "metadata": {
    "tags": []
   },
   "outputs": [],
   "source": [
    "# This schedules an appointment, taking into account the s_Booked_Timeslots\n",
    "schedule_fn_2 = Function('Schedules an <appointment> from <start_time> to <end_time>', \n",
    "                       {'Completed Status': 'Completed if Timeslot is booked, otherwise Not Completed'},\n",
    "                        external_fn = schedule_with_time_and_appointment)"
   ]
  },
  {
   "cell_type": "code",
   "execution_count": 55,
   "id": "65b208f2-e30a-46f9-937e-e39ba070b12b",
   "metadata": {
    "tags": []
   },
   "outputs": [
    {
     "data": {
      "text/plain": [
       "<taskgen.agent.Agent at 0x109902d90>"
      ]
     },
     "execution_count": 55,
     "metadata": {},
     "output_type": "execute_result"
    }
   ],
   "source": [
    "# assign all your functions\n",
    "agent3.assign_functions([cooking_fn, schedule_fn_2])"
   ]
  },
  {
   "cell_type": "code",
   "execution_count": 56,
   "id": "dc59fbe2-b7b1-4bc5-b20c-a263a5126d19",
   "metadata": {
    "tags": []
   },
   "outputs": [
    {
     "name": "stdout",
     "output_type": "stream",
     "text": [
      "Agent Name: Personal Assistant\n",
      "Agent Description: Helps to find cooking recipes or schedules stuff\n",
      "Available Functions: ['end_task', 'cook_dish_in_point_form', 'schedule_with_time_and_appointment']\n",
      "Shared Variables: ['Scheduled Timeslots']\n",
      "\u001b[1m\u001b[32mTask: No task assigned\u001b[0m\n",
      "\u001b[1m\u001b[34mSubtasks Completed: None\u001b[0m\n",
      "Is Task Completed: False\n"
     ]
    }
   ],
   "source": [
    "agent3.status()"
   ]
  },
  {
   "cell_type": "code",
   "execution_count": 57,
   "id": "254a2ca3-48db-4cb3-b1ad-bcfcdad76450",
   "metadata": {
    "tags": []
   },
   "outputs": [
    {
     "name": "stdout",
     "output_type": "stream",
     "text": [
      "Name: end_task\n",
      "Description: Use only after task is completed\n",
      "Input: []\n",
      "Output: {}\n",
      "\n",
      "Name: cook_dish_in_point_form\n",
      "Description: Describe how to cook <dish: str> in point form\n",
      "Input: ['dish']\n",
      "Output: {'Details of how to cook in bullet form': 'Details'}\n",
      "\n",
      "Name: schedule_with_time_and_appointment\n",
      "Description: Schedules an <appointment> from <start_time> to <end_time>\n",
      "Input: ['appointment', 'start_time', 'end_time']\n",
      "Output: {'Completed Status': 'Completed if Timeslot is booked, otherwise Not Completed'}\n",
      "\n"
     ]
    }
   ],
   "source": [
    "agent3.print_functions()"
   ]
  },
  {
   "cell_type": "code",
   "execution_count": 58,
   "id": "9f2637ca-2e9d-48f8-9bfc-4fc1f65107b7",
   "metadata": {
    "tags": []
   },
   "outputs": [
    {
     "name": "stdout",
     "output_type": "stream",
     "text": [
      "\u001b[1m\u001b[30mObservation: No observations made yet\u001b[0m\n",
      "\u001b[1m\u001b[32mThoughts: To complete the assigned task of scheduling a 3-hour badminton session starting from 2pm, we need to find a suitable time slot and book it for the session.\u001b[0m\n",
      "\u001b[1m\u001b[34mSubtask identified: Schedule a 3-hour badminton session starting from 2pm\u001b[0m\n",
      "Calling function schedule_with_time_and_appointment with parameters {'appointment': 'badminton session', 'start_time': '2:00pm', 'end_time': '5:00pm'}\n",
      "> {'Completed Status': 'Completed'}\n",
      "\n",
      "\u001b[1m\u001b[30mObservation: The 3-hour badminton session starting from 2pm has been successfully scheduled.\u001b[0m\n",
      "\u001b[1m\u001b[32mThoughts: Since the badminton session has been scheduled, the next step would be to end the task as instructed by the user.\u001b[0m\n",
      "\u001b[1m\u001b[34mSubtask identified: End Task\u001b[0m\n",
      "Task completed successfully!\n",
      "\n"
     ]
    },
    {
     "data": {
      "text/plain": [
       "[{'Completed Status': 'Completed'}]"
      ]
     },
     "execution_count": 58,
     "metadata": {},
     "output_type": "execute_result"
    }
   ],
   "source": [
    "agent3.reset()\n",
    "agent3.run('Schedule a 3 hour badmintion session starting from 2pm')"
   ]
  },
  {
   "cell_type": "code",
   "execution_count": 59,
   "id": "e56d092f-882e-4b1a-948f-d7c3b631e081",
   "metadata": {
    "tags": []
   },
   "outputs": [
    {
     "data": {
      "text/plain": [
       "{'Scheduled Timeslots': ['10am - 1130am: TaskGen Tutorial',\n",
       "  '2:00pm - 5:00pm: badminton session']}"
      ]
     },
     "execution_count": 59,
     "metadata": {},
     "output_type": "execute_result"
    }
   ],
   "source": [
    "agent3.shared_variables"
   ]
  },
  {
   "cell_type": "markdown",
   "id": "bac10410-5aba-4f93-9e3b-51a58a320597",
   "metadata": {},
   "source": [
    "# Agent with Global Context\n",
    "- Makes agent hallucinate less as giving it as Global Context for each state and doing step by step generation helps a lot with updating existing start state and starting generation from there\n",
    "- Shifting the Start State closer and closer to End state via Global Context is a very helpful approach for Agentic Generation"
   ]
  },
  {
   "cell_type": "code",
   "execution_count": 60,
   "id": "63235611-849c-4c72-b0f9-bc2ffdd10d26",
   "metadata": {},
   "outputs": [],
   "source": [
    "agent4 = Agent('Personal Assistant', '''Helps User to find cooking recipes or schedules stuff.\n",
    "You are not able to change timeslots already in Booked Timeslots. Shift new appointment timings to avoid clashes''', \n",
    "               default_to_llm = False,\n",
    "              shared_variables = {'Scheduled Timeslots': ['10am - 1130am: TaskGen Tutorial']})"
   ]
  },
  {
   "cell_type": "code",
   "execution_count": 61,
   "id": "94a762e2-2083-4af9-bdbc-6bc169490cb8",
   "metadata": {},
   "outputs": [],
   "source": [
    "def get_global_context(agent):\n",
    "    ''' Outputs additional information to the agent '''\n",
    "    \n",
    "    # process additional context based on shared variables \n",
    "    # (this is what is called persistent variables - variables that will be updated each step)\n",
    "    global_context = f'''Booked Timeslots: ```{agent.shared_variables[\"Scheduled Timeslots\"]}```'''\n",
    "    \n",
    "    return global_context\n",
    "\n",
    "# assign this to agent's additional context\n",
    "agent4.get_global_context = get_global_context"
   ]
  },
  {
   "cell_type": "code",
   "execution_count": 62,
   "id": "2930a18e-c08a-4d6a-a699-5667568b0903",
   "metadata": {
    "tags": []
   },
   "outputs": [],
   "source": [
    "# showcase of TaskGen's v2.1.1 function - just use any Python function for Function\n",
    "def schedule_with_time_and_appointment(shared_variables, appointment: str, start_time: str, end_time: str) -> str:\n",
    "    ''' Schedules an appointment from start_time to end_time '''\n",
    "    # if there is no conflict with existing appointments, then update calendar\n",
    "    # Can potentially add rule-based checker\n",
    "    shared_variables['Scheduled Timeslots'].append(f'{start_time} - {end_time}: {appointment}')\n",
    "    return f'Successfully scheduled {appointment} from {start_time} to {end_time}'"
   ]
  },
  {
   "cell_type": "code",
   "execution_count": 63,
   "id": "245d6a40-5212-4780-b152-061d6b222c8a",
   "metadata": {
    "tags": []
   },
   "outputs": [
    {
     "data": {
      "text/plain": [
       "<taskgen.agent.Agent at 0x1099aeb10>"
      ]
     },
     "execution_count": 63,
     "metadata": {},
     "output_type": "execute_result"
    }
   ],
   "source": [
    "agent4.assign_functions([cooking_fn, schedule_with_time_and_appointment])"
   ]
  },
  {
   "cell_type": "code",
   "execution_count": 64,
   "id": "5bf532ec-3108-49dc-9275-07c401b4b9db",
   "metadata": {
    "tags": []
   },
   "outputs": [
    {
     "name": "stdout",
     "output_type": "stream",
     "text": [
      "Agent Name: Personal Assistant\n",
      "Agent Description: Helps User to find cooking recipes or schedules stuff.\n",
      "You are not able to change timeslots already in Booked Timeslots. Shift new appointment timings to avoid clashes\n",
      "Available Functions: ['end_task', 'cook_dish_in_point_form', 'schedule_with_time_and_appointment']\n",
      "Shared Variables: ['Scheduled Timeslots']\n",
      "\u001b[1m\u001b[32mTask: No task assigned\u001b[0m\n",
      "\u001b[1m\u001b[34mSubtasks Completed: None\u001b[0m\n",
      "Is Task Completed: False\n"
     ]
    }
   ],
   "source": [
    "agent4.status()"
   ]
  },
  {
   "cell_type": "code",
   "execution_count": 65,
   "id": "267c8ef3-7680-490c-8337-d1e6587ee948",
   "metadata": {
    "tags": []
   },
   "outputs": [
    {
     "name": "stdout",
     "output_type": "stream",
     "text": [
      "Name: end_task\n",
      "Description: Use only after task is completed\n",
      "Input: []\n",
      "Output: {}\n",
      "\n",
      "Name: cook_dish_in_point_form\n",
      "Description: Describe how to cook <dish: str> in point form\n",
      "Input: ['dish']\n",
      "Output: {'Details of how to cook in bullet form': 'Details'}\n",
      "\n",
      "Name: schedule_with_time_and_appointment\n",
      "Description:  Schedules an <appointment: str> from <start_time: str> to <end_time: str> \n",
      "Input: ['appointment', 'start_time', 'end_time']\n",
      "Output: {'output_1': 'str'}\n",
      "\n"
     ]
    }
   ],
   "source": [
    "agent4.print_functions()"
   ]
  },
  {
   "cell_type": "code",
   "execution_count": 66,
   "id": "2b061fbf-c924-4d04-9d5c-52401df347bc",
   "metadata": {
    "tags": []
   },
   "outputs": [
    {
     "name": "stdout",
     "output_type": "stream",
     "text": [
      "\u001b[1m\u001b[30mObservation: No further inputs provided by User\u001b[0m\n",
      "\u001b[1m\u001b[32mThoughts: To complete the remainder of the Assigned Task, we need to schedule a 3-hour badminton session starting from 10am. Since there is a clash with the existing appointment \"TaskGen Tutorial\" scheduled from 10am to 11:30am, we need to shift the badminton session to avoid the clash.\u001b[0m\n",
      "\u001b[1m\u001b[34mSubtask identified: Shift the badminton session to start at 11:30am to avoid clash with the existing appointment.\u001b[0m\n",
      "Calling function schedule_with_time_and_appointment with parameters {'appointment': '3 hour badminton session', 'start_time': '11:30am', 'end_time': '2:30pm'}\n",
      "> {'output_1': 'Successfully scheduled 3 hour badminton session from 11:30am to 2:30pm'}\n",
      "\n"
     ]
    },
    {
     "data": {
      "text/plain": [
       "[{'output_1': 'Successfully scheduled 3 hour badminton session from 11:30am to 2:30pm'}]"
      ]
     },
     "execution_count": 66,
     "metadata": {},
     "output_type": "execute_result"
    }
   ],
   "source": [
    "agent4.reset()\n",
    "agent4.run('''Schedule a 3 hour badmintion session from 10am''', num_subtasks = 1)"
   ]
  },
  {
   "cell_type": "code",
   "execution_count": 67,
   "id": "24598bf8-45ca-4bcf-8335-f096401b084d",
   "metadata": {
    "tags": []
   },
   "outputs": [
    {
     "name": "stdout",
     "output_type": "stream",
     "text": [
      "Agent Name: Personal Assistant\n",
      "Agent Description: Helps User to find cooking recipes or schedules stuff.\n",
      "You are not able to change timeslots already in Booked Timeslots. Shift new appointment timings to avoid clashes\n",
      "Available Functions: ['end_task', 'cook_dish_in_point_form', 'schedule_with_time_and_appointment']\n",
      "Shared Variables: ['Scheduled Timeslots']\n",
      "\u001b[1m\u001b[32mTask: Schedule a 3 hour badmintion session from 10am\u001b[0m\n",
      "\u001b[1m\u001b[30mSubtasks Completed:\u001b[0m\n",
      "\u001b[1m\u001b[34mSubtask: Shift the badminton session to start at 11:30am to avoid clash with the existing appointment.\u001b[0m\n",
      "{'output_1': 'Successfully scheduled 3 hour badminton session from 11:30am to 2:30pm'}\n",
      "\n",
      "Is Task Completed: False\n"
     ]
    }
   ],
   "source": [
    "agent4.status()"
   ]
  },
  {
   "cell_type": "code",
   "execution_count": 68,
   "id": "b9e2439a-902d-460f-88e2-c56b61978cf5",
   "metadata": {
    "tags": []
   },
   "outputs": [
    {
     "data": {
      "text/plain": [
       "{'Scheduled Timeslots': ['10am - 1130am: TaskGen Tutorial',\n",
       "  '11:30am - 2:30pm: 3 hour badminton session']}"
      ]
     },
     "execution_count": 68,
     "metadata": {},
     "output_type": "execute_result"
    }
   ],
   "source": [
    "agent4.shared_variables"
   ]
  },
  {
   "cell_type": "code",
   "execution_count": 69,
   "id": "fa2eeade-4c9e-45d7-9b3b-ff7be0168e73",
   "metadata": {
    "tags": []
   },
   "outputs": [
    {
     "name": "stdout",
     "output_type": "stream",
     "text": [
      "\u001b[1m\u001b[30mObservation: No subtasks have been completed yet for the assigned task.\u001b[0m\n",
      "\u001b[1m\u001b[32mThoughts: Since the task is to schedule a 3 hour board games session from 2pm and there are already booked timeslots for the day, the next step would be to find a suitable time slot for the board games session that does not clash with the existing appointments.\u001b[0m\n",
      "\u001b[1m\u001b[34mSubtask identified: Schedules an appointment: 3 hour board games session from start_time: 2:30pm to end_time: 5:30pm\u001b[0m\n",
      "Calling function schedule_with_time_and_appointment with parameters {'appointment': '3 hour board games session', 'start_time': '2:30pm', 'end_time': '5:30pm'}\n",
      "> {'output_1': 'Successfully scheduled 3 hour board games session from 2:30pm to 5:30pm'}\n",
      "\n"
     ]
    },
    {
     "data": {
      "text/plain": [
       "[{'output_1': 'Successfully scheduled 3 hour board games session from 2:30pm to 5:30pm'}]"
      ]
     },
     "execution_count": 69,
     "metadata": {},
     "output_type": "execute_result"
    }
   ],
   "source": [
    "agent4.reset()\n",
    "agent4.run('''Schedule a 3 hour board games session from 2pm''', num_subtasks = 1)"
   ]
  },
  {
   "cell_type": "code",
   "execution_count": 70,
   "id": "191ed053-960d-41f7-8418-0e1879bac458",
   "metadata": {
    "tags": []
   },
   "outputs": [
    {
     "name": "stdout",
     "output_type": "stream",
     "text": [
      "Agent Name: Personal Assistant\n",
      "Agent Description: Helps User to find cooking recipes or schedules stuff.\n",
      "You are not able to change timeslots already in Booked Timeslots. Shift new appointment timings to avoid clashes\n",
      "Available Functions: ['end_task', 'cook_dish_in_point_form', 'schedule_with_time_and_appointment']\n",
      "Shared Variables: ['Scheduled Timeslots']\n",
      "\u001b[1m\u001b[32mTask: Schedule a 3 hour board games session from 2pm\u001b[0m\n",
      "\u001b[1m\u001b[30mSubtasks Completed:\u001b[0m\n",
      "\u001b[1m\u001b[34mSubtask: Schedules an appointment: 3 hour board games session from start_time: 2:30pm to end_time: 5:30pm\u001b[0m\n",
      "{'output_1': 'Successfully scheduled 3 hour board games session from 2:30pm to 5:30pm'}\n",
      "\n",
      "Is Task Completed: False\n"
     ]
    }
   ],
   "source": [
    "agent4.status()"
   ]
  },
  {
   "cell_type": "code",
   "execution_count": 71,
   "id": "b66fe6d3-c72e-42c6-b8d6-b213b8fca308",
   "metadata": {
    "tags": []
   },
   "outputs": [
    {
     "data": {
      "text/plain": [
       "{'Scheduled Timeslots': ['10am - 1130am: TaskGen Tutorial',\n",
       "  '11:30am - 2:30pm: 3 hour badminton session',\n",
       "  '2:30pm - 5:30pm: 3 hour board games session']}"
      ]
     },
     "execution_count": 71,
     "metadata": {},
     "output_type": "execute_result"
    }
   ],
   "source": [
    "agent4.shared_variables"
   ]
  },
  {
   "cell_type": "code",
   "execution_count": 72,
   "id": "fde8633d-806a-4fbf-8ff3-205690ce30c4",
   "metadata": {
    "tags": []
   },
   "outputs": [
    {
     "name": "stdout",
     "output_type": "stream",
     "text": [
      "\u001b[1m\u001b[30mObservation: No progress has been made on the Assigned Task yet.\u001b[0m\n",
      "\u001b[1m\u001b[32mThoughts: To complete the Assigned Task, we need to first provide instructions for making a pizza and then book a 2-hour slot in the evening to cook it. Since the user normally eats after 6pm, we should schedule the cooking slot accordingly.\u001b[0m\n",
      "\u001b[1m\u001b[34mSubtask identified: Provide step-by-step instructions for making a pizza.\u001b[0m\n",
      "Calling function cook_dish_in_point_form with parameters {'dish': 'pizza'}\n",
      "> {'Details of how to cook in bullet form': '1. Preheat the oven to the specified temperature. 2. Roll out the pizza dough on a baking sheet. 3. Spread the tomato sauce evenly on the dough. 4. Add your desired toppings such as cheese, vegetables, and meats. 5. Bake the pizza in the oven until the crust is golden and the cheese is melted. 6. Remove from the oven, slice, and serve hot.'}\n",
      "\n",
      "\u001b[1m\u001b[30mObservation: The step-by-step instructions for making a pizza have been provided in bullet form.\u001b[0m\n",
      "\u001b[1m\u001b[32mThoughts: Since the instructions for making a pizza have been provided, the remaining part of the Assigned Task is to book a 2-hour slot in the evening to cook the pizza. The user normally eats after 6pm, so the slot should be scheduled accordingly.\u001b[0m\n",
      "\u001b[1m\u001b[34mSubtask identified: Schedule a 2-hour slot in the evening to cook the pizza after 6pm.\u001b[0m\n",
      "Calling function schedule_with_time_and_appointment with parameters {'appointment': 'Cooking Pizza', 'start_time': '6:30pm', 'end_time': '8:30pm'}\n",
      "> {'output_1': 'Successfully scheduled Cooking Pizza from 6:30pm to 8:30pm'}\n",
      "\n",
      "\u001b[1m\u001b[30mObservation: The User requested instructions for making a pizza and to schedule a 2-hour slot in the evening to cook it. Both tasks have been successfully completed.\u001b[0m\n",
      "\u001b[1m\u001b[32mThoughts: Since the instructions for making a pizza have been provided and a 2-hour slot in the evening has been scheduled for cooking the pizza, the only remaining task is to end the current task.\u001b[0m\n",
      "\u001b[1m\u001b[34mSubtask identified: End Task\u001b[0m\n",
      "Task completed successfully!\n",
      "\n"
     ]
    },
    {
     "data": {
      "text/plain": [
       "[{'Details of how to cook in bullet form': '1. Preheat the oven to the specified temperature. 2. Roll out the pizza dough on a baking sheet. 3. Spread the tomato sauce evenly on the dough. 4. Add your desired toppings such as cheese, vegetables, and meats. 5. Bake the pizza in the oven until the crust is golden and the cheese is melted. 6. Remove from the oven, slice, and serve hot.'},\n",
       " {'output_1': 'Successfully scheduled Cooking Pizza from 6:30pm to 8:30pm'}]"
      ]
     },
     "execution_count": 72,
     "metadata": {},
     "output_type": "execute_result"
    }
   ],
   "source": [
    "agent4.reset()\n",
    "agent4.run('Give me instructions for making a pizza, then book a 2 hour slot in evening to cook it. I normally eat after 6pm.')"
   ]
  },
  {
   "cell_type": "code",
   "execution_count": 73,
   "id": "af1e5591-0756-4f08-a88f-010978113860",
   "metadata": {
    "tags": []
   },
   "outputs": [
    {
     "name": "stdout",
     "output_type": "stream",
     "text": [
      "\u001b[1m\u001b[30mObservation: No progress has been made on the Assigned Task yet.\u001b[0m\n",
      "\u001b[1m\u001b[32mThoughts: To complete the remainder of the Assigned Task, we need to schedule 3 hours of play time without clashing with the existing booked timeslots. Since the available timeslots are from 10am to 8:30pm, we need to find a suitable time slot for the play time.\u001b[0m\n",
      "\u001b[1m\u001b[34mSubtask identified: Schedules an <Play Time> from <10am> to <1pm>\u001b[0m\n",
      "Calling function schedule_with_time_and_appointment with parameters {'appointment': 'Play Time', 'start_time': '10am', 'end_time': '1pm'}\n",
      "> {'output_1': 'Successfully scheduled Play Time from 10am to 1pm'}\n",
      "\n",
      "\u001b[1m\u001b[30mObservation: The User has requested to schedule 3 hours of play time, which has been successfully completed from 10am to 1pm.\u001b[0m\n",
      "\u001b[1m\u001b[32mThoughts: Since the User has already scheduled 3 hours of play time, the next step is to end the task as per the Assigned Task. This can be done using the \"end_task\" function to mark the task as completed.\u001b[0m\n",
      "\u001b[1m\u001b[34mSubtask identified: End Task\u001b[0m\n",
      "Task completed successfully!\n",
      "\n"
     ]
    },
    {
     "data": {
      "text/plain": [
       "[{'output_1': 'Successfully scheduled Play Time from 10am to 1pm'}]"
      ]
     },
     "execution_count": 73,
     "metadata": {},
     "output_type": "execute_result"
    }
   ],
   "source": [
    "agent4.reset()\n",
    "agent4.run('Schedule me 3 hours of play time')"
   ]
  },
  {
   "cell_type": "code",
   "execution_count": 74,
   "id": "66db87db-5e72-477c-9328-482aefd6c820",
   "metadata": {
    "tags": []
   },
   "outputs": [
    {
     "name": "stdout",
     "output_type": "stream",
     "text": [
      "Agent Name: Personal Assistant\n",
      "Agent Description: Helps User to find cooking recipes or schedules stuff.\n",
      "You are not able to change timeslots already in Booked Timeslots. Shift new appointment timings to avoid clashes\n",
      "Available Functions: ['end_task', 'cook_dish_in_point_form', 'schedule_with_time_and_appointment']\n",
      "Shared Variables: ['Scheduled Timeslots']\n",
      "\u001b[1m\u001b[32mTask: Schedule me 3 hours of play time\u001b[0m\n",
      "\u001b[1m\u001b[30mSubtasks Completed:\u001b[0m\n",
      "\u001b[1m\u001b[34mSubtask: Schedules an <Play Time> from <10am> to <1pm>\u001b[0m\n",
      "{'output_1': 'Successfully scheduled Play Time from 10am to 1pm'}\n",
      "\n",
      "Is Task Completed: True\n"
     ]
    }
   ],
   "source": [
    "agent4.status()"
   ]
  },
  {
   "cell_type": "code",
   "execution_count": 75,
   "id": "0421dcbc-3b9c-4a69-95a0-3b807f3028bb",
   "metadata": {
    "tags": []
   },
   "outputs": [
    {
     "data": {
      "text/plain": [
       "{'Scheduled Timeslots': ['10am - 1130am: TaskGen Tutorial',\n",
       "  '11:30am - 2:30pm: 3 hour badminton session',\n",
       "  '2:30pm - 5:30pm: 3 hour board games session',\n",
       "  '6:30pm - 8:30pm: Cooking Pizza',\n",
       "  '10am - 1pm: Play Time']}"
      ]
     },
     "execution_count": 75,
     "metadata": {},
     "output_type": "execute_result"
    }
   ],
   "source": [
    "agent4.shared_variables"
   ]
  },
  {
   "cell_type": "code",
   "execution_count": null,
   "id": "b7903560-a1c9-4e17-9f45-1548806180e4",
   "metadata": {},
   "outputs": [],
   "source": []
  }
 ],
 "metadata": {
  "kernelspec": {
   "display_name": "Python 3 (ipykernel)",
   "language": "python",
   "name": "python3"
  },
  "language_info": {
   "codemirror_mode": {
    "name": "ipython",
    "version": 3
   },
   "file_extension": ".py",
   "mimetype": "text/x-python",
   "name": "python",
   "nbconvert_exporter": "python",
   "pygments_lexer": "ipython3",
   "version": "3.11.3"
  }
 },
 "nbformat": 4,
 "nbformat_minor": 5
}
