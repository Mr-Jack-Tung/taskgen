{
 "cells": [
  {
   "cell_type": "markdown",
   "id": "2fa1e388-b8f4-4fa3-be5a-ba7c6caae038",
   "metadata": {
    "tags": []
   },
   "source": [
    "# Tutorial 4 - Memory\n",
    "\n",
    "## Key Philosophy\n",
    "- It would be important to learn from past experience and improve the agentic framework - memory is key to that\n",
    "- You can add to the memory bank of your Agents pre-inference (by collecting from a pool of data prior to running the Agent), or during inference (add on in between running subtasks)\n",
    "\n",
    "## Use Memory in Agents\n",
    "- Agent class takes `memory_bank` as a parameter during initialisation of an `Agent`\n",
    "- memory_bank: class Dict[Memory]. Stores multiple types of memory for use by the agent. Customise the Memory config within the Memory class.\n",
    "    - Default: `memory_bank = {'Function': Memory(top_k = 5, mapper = lambda x: x.fn_description, approach = 'retrieve_by_ranker')}`\n",
    "    - Key: `Function` (Already Implemented Natively) - Does RAG over Task -> Function mapping\n",
    "    - Can add in more keys that would fit your use case. Retrieves similar items to task/overall plan (if able) for additional context in `get_next_subtasks()` and `use_llm()` function\n",
    "    - Side Note: RAG can also be done (and may be preferred) as a separate function of the Agent to retrieve more information when needed (so that we do not overload the Agent with information)\n",
    "\n",
    "## Memory Class\n",
    "- Retrieves top k memory items based on task \n",
    "- Inputs:\n",
    "    - `memory`: List. Default: Empty List. The list containing the memory items\n",
    "    - `top_k`: Int. Default: 3. The number of memory list items to retrieve\n",
    "    - `mapper`: Function. Maps the memory item to another form for comparison by ranker or LLM. Default: `lambda x: x`\n",
    "        - Example mapping: `lambda x: x.fn_description` (If x is a Class and the string you want to compare for similarity is the fn_description attribute of that class)\n",
    "    - `approach`: str. Either `retrieve_by_ranker` or `retrieve_by_llm` to retrieve memory items.\n",
    "        - Ranker is faster and cheaper as it compares via embeddings, but are inferior to LLM-based methods for contextual information\n",
    "    - `ranker`: `Ranker`. The Ranker which defines a similarity score between a query and a key. Default: OpenAI `text-embedding-3-small` model. \n",
    "        - Can be replaced with a function which returns similarity score from 0 to 1 when given a query and key\n",
    "        \n",
    "## Example Use Case\n",
    "- Helps to reduce number of functions present in LLM context for more accurate generation\n",
    "```python\n",
    "output = my_agent.run('Calculate 2**10 * (5 + 1) / 10')\n",
    "```\n",
    "\n",
    "`Original Function List: add_numbers, subtract_numbers, add_three_numbers, multiply_numbers, divide_numbers, power_of, GCD_of_two_numbers, modulo_of_numbers, absolute_difference, generate_poem_with_numbers, List_related_words, generate_quote`\n",
    "\n",
    "`Filtered Function Names: add_three_numbers, multiply_numbers, divide_numbers, power_of, modulo_of_numbers`"
   ]
  },
  {
   "cell_type": "code",
   "execution_count": 2,
   "id": "8098f395-fd24-4797-a831-c2a43b359364",
   "metadata": {
    "tags": []
   },
   "outputs": [],
   "source": [
    "# !pip install taskgen-ai"
   ]
  },
  {
   "cell_type": "code",
   "execution_count": 1,
   "id": "076adf5e-beb1-4b19-9078-34ab1b7d9afe",
   "metadata": {
    "tags": []
   },
   "outputs": [],
   "source": [
    "# Set up API key and do the necessary imports\n",
    "import os\n",
    "from taskgen import *\n",
    "import math\n",
    "\n",
    "os.environ['OPENAI_API_KEY'] = '<YOUR API KEY HERE>'"
   ]
  },
  {
   "cell_type": "markdown",
   "id": "a04abb86-6f74-4af5-8b72-b26a6029eb9f",
   "metadata": {},
   "source": [
    "# Use Case 1: Filtering Functions by Task\n",
    "- TaskGen chooses `top k` (default k: 5) functions according to similarity to subtask\n",
    "- In addition to `top k` functions, we will also give agent all the compulsory functions\n",
    "    - `is_compulsory` variable of Function set to `True` means that we will always have it as one of the functions for planning and bypass Function RAG"
   ]
  },
  {
   "cell_type": "code",
   "execution_count": 5,
   "id": "72b4bd9f-b3b8-40e5-baec-3f41c616132a",
   "metadata": {
    "tags": []
   },
   "outputs": [],
   "source": [
    "from typing import List\n",
    "def sum_numbers(num_list: List[float]) -> float:\n",
    "    '''Adds all numbers in num_list'''\n",
    "    return sum(x for x in num_list)\n",
    "\n",
    "def subtract_numbers(num1: float, num2: float) -> float:\n",
    "    '''Subtracts num1 from num2'''\n",
    "    return num1 - num2\n",
    "\n",
    "def multiply_numbers(num1: float, num2: float) -> float:\n",
    "    '''Multiplies num1 by num2'''\n",
    "    return num1 * num2\n",
    "\n",
    "def divide_numbers(num1: float, num2: float) -> float:\n",
    "    '''Divides num1 by num2'''\n",
    "    if num2 == 0:\n",
    "        return -1\n",
    "    return num1/num2\n",
    "\n",
    "def power_operation(num1: float, num2: float) -> float:\n",
    "    '''Returns num1 to the power of num2'''\n",
    "    return math.pow(num1, num2)\n",
    "\n",
    "def greatest_common_divisor(num1: int, num2: int) -> int:\n",
    "    '''Returns greatest common divisor of num1 and num2'''\n",
    "    return math.gcd(num1, num2)\n",
    "\n",
    "def modulo(num1: int, num2: int) -> int:\n",
    "    '''Returns modulo of num1 over num2'''\n",
    "    return num1%num2\n",
    "\n",
    "def absolute_difference(num1: int, num2: int) -> int:\n",
    "    '''Returns absolute difference between num1 and num2'''\n",
    "    return math.abs(num1-num2)\n",
    "\n",
    "# Put this to make sum_numbers always appear for any task and bypass Function RAG\n",
    "sum_numbers = Function(external_fn = sum_numbers, is_compulsory = True)\n",
    "\n",
    "# This is for internal functions\n",
    "generate_poem_with_numbers = Function(\"Generates a poem containing <num1: float> and <num2: float>\", output_format = {\"Poem\": \"Poem\"}, fn_name = 'generate_poem_with_numbers')\n",
    "list_related_words = Function(\"Lists out <num: int> words related to <word: str>\", output_format = {\"List of words\": \"List of words, type: list\"}, fn_name = 'list_related_words')\n",
    "generate_quote = Function(\"Generates a quote about <topic: str>\", output_format = {\"Quote\": \"Quote\"}, fn_name = 'generate_quote')"
   ]
  },
  {
   "cell_type": "code",
   "execution_count": 7,
   "id": "3aa5ac81-b850-44ca-a812-44fbe43d9943",
   "metadata": {
    "tags": []
   },
   "outputs": [],
   "source": [
    "my_agent = Agent('Generalist Agent', \n",
    "'''Does everything''',\n",
    "                default_to_llm = False).assign_functions([sum_numbers, subtract_numbers, multiply_numbers, \n",
    "            divide_numbers, power_operation, greatest_common_divisor, modulo, absolute_difference, \n",
    "            generate_poem_with_numbers, list_related_words, generate_quote])"
   ]
  },
  {
   "cell_type": "code",
   "execution_count": 8,
   "id": "b1a95964-28c6-457b-bda2-49f750013d9f",
   "metadata": {
    "tags": []
   },
   "outputs": [
    {
     "data": {
      "text/plain": [
       "['Name: end_task\\nDescription: Passes the final output to the user\\nInput: []\\nOutput: {}\\n',\n",
       " \"Name: sum_numbers\\nDescription: Adds all numbers in <num_list: list[float]>\\nInput: ['num_list']\\nOutput: {'output_1': 'float'}\\n\",\n",
       " \"Name: subtract_numbers\\nDescription: Subtracts <num1: float> from <num2: float>\\nInput: ['num1', 'num2']\\nOutput: {'output_1': 'float'}\\n\",\n",
       " \"Name: multiply_numbers\\nDescription: Multiplies <num1: float> by <num2: float>\\nInput: ['num1', 'num2']\\nOutput: {'output_1': 'float'}\\n\",\n",
       " \"Name: divide_numbers\\nDescription: Divides <num1: float> by <num2: float>\\nInput: ['num1', 'num2']\\nOutput: {'output_1': 'float'}\\n\",\n",
       " \"Name: power_operation\\nDescription: Returns <num1: float> to the power of <num2: float>\\nInput: ['num1', 'num2']\\nOutput: {'output_1': 'float'}\\n\",\n",
       " \"Name: greatest_common_divisor\\nDescription: Returns greatest common divisor of <num1: int> and <num2: int>\\nInput: ['num1', 'num2']\\nOutput: {'output_1': 'int'}\\n\",\n",
       " \"Name: modulo\\nDescription: Returns modulo of <num1: int> over <num2: int>\\nInput: ['num1', 'num2']\\nOutput: {'output_1': 'int'}\\n\",\n",
       " \"Name: absolute_difference\\nDescription: Returns absolute difference between <num1: int> and <num2: int>\\nInput: ['num1', 'num2']\\nOutput: {'output_1': 'int'}\\n\",\n",
       " \"Name: generate_poem_with_numbers\\nDescription: Generates a poem containing <num1: float> and <num2: float>\\nInput: ['num1', 'num2']\\nOutput: {'Poem': 'Poem'}\\n\",\n",
       " \"Name: list_related_words\\nDescription: Lists out <num: int> words related to <word: str>\\nInput: ['num', 'word']\\nOutput: {'List of words': 'List of words, type: list'}\\n\",\n",
       " \"Name: generate_quote\\nDescription: Generates a quote about <topic: str>\\nInput: ['topic']\\nOutput: {'Quote': 'Quote'}\\n\"]"
      ]
     },
     "execution_count": 8,
     "metadata": {},
     "output_type": "execute_result"
    }
   ],
   "source": [
    "# see the auto-generated names of your functions :)\n",
    "my_agent.list_functions()"
   ]
  },
  {
   "cell_type": "code",
   "execution_count": 9,
   "id": "87357751-5f53-4e4b-adad-0487687d9ef4",
   "metadata": {
    "tags": []
   },
   "outputs": [
    {
     "data": {
      "text/plain": [
       "['subtract_numbers',\n",
       " 'divide_numbers',\n",
       " 'multiply_numbers',\n",
       " 'modulo',\n",
       " 'generate_poem_with_numbers']"
      ]
     },
     "execution_count": 9,
     "metadata": {},
     "output_type": "execute_result"
    }
   ],
   "source": [
    "# visualise how the Functions are chosen based on task - here you see subtract_numbers appearing at the front\n",
    "# this does not include the compulsory functions\n",
    "[f.fn_name for f in my_agent.memory_bank['Function'].retrieve_by_ranker('subtract numbers')]"
   ]
  },
  {
   "cell_type": "code",
   "execution_count": 20,
   "id": "9ac84079-bb50-4fc8-83ac-167685a1b4a8",
   "metadata": {
    "tags": []
   },
   "outputs": [
    {
     "name": "stdout",
     "output_type": "stream",
     "text": [
      "Filtered Function Names: end_task, sum_numbers, subtract_numbers, multiply_numbers, divide_numbers, power_operation, modulo\n",
      "\u001b[1m\u001b[30mObservation: No subtasks have been completed yet for the Assigned Task. The Assigned Task is to evaluate 2+3.\u001b[0m\n",
      "\u001b[1m\u001b[32mThoughts: To complete the evaluation of 2+3, we can use the Equipped Function sum_numbers with input num_list=[2, 3]. Once this subtask is completed, the final output can be passed to the user using the end_task function.\u001b[0m\n",
      "\u001b[1m\u001b[34mSubtask identified: Use the sum_numbers function with input num_list=[2, 3] to add the numbers 2 and 3.\u001b[0m\n",
      "Calling function sum_numbers with parameters {'num_list': [2.0, 3.0]}\n",
      "> {'output_1': 5.0}\n",
      "\n",
      "Filtered Function Names: end_task, sum_numbers, subtract_numbers, multiply_numbers, divide_numbers, power_operation, modulo\n",
      "\u001b[1m\u001b[30mObservation: The sum of 2 and 3 has been successfully calculated using the sum_numbers function.\u001b[0m\n",
      "\u001b[1m\u001b[32mThoughts: Since the last subtask is to End Task, no further action is needed for the Assigned Task.\u001b[0m\n",
      "\u001b[1m\u001b[34mSubtask identified: End Task\u001b[0m\n",
      "Task completed successfully!\n",
      "\n"
     ]
    },
    {
     "data": {
      "text/plain": [
       "[{'output_1': 5.0}]"
      ]
     },
     "execution_count": 20,
     "metadata": {},
     "output_type": "execute_result"
    }
   ],
   "source": [
    "my_agent.reset()\n",
    "my_agent.run('Evaluate 2+3')"
   ]
  },
  {
   "cell_type": "code",
   "execution_count": 21,
   "id": "ed842f9c-84b1-4176-9f70-e97f35e65639",
   "metadata": {
    "tags": []
   },
   "outputs": [
    {
     "name": "stdout",
     "output_type": "stream",
     "text": [
      "Filtered Function Names: end_task, sum_numbers, subtract_numbers, multiply_numbers, divide_numbers, power_operation, modulo\n",
      "\u001b[1m\u001b[30mObservation: No subtasks have been completed yet for the Assigned Task. The Assigned Task involves evaluating a mathematical expression: 2**10 * (3+5) / 10\u001b[0m\n",
      "\u001b[1m\u001b[32mThoughts: To complete the remainder of the Assigned Task, we need to evaluate the mathematical expression provided. The expression involves exponentiation, addition, and division operations.\u001b[0m\n",
      "\u001b[1m\u001b[34mSubtask identified: Perform the exponentiation operation 2**10 using the power_operation Equipped Function\u001b[0m\n",
      "Calling function power_operation with parameters {'num1': 2.0, 'num2': 10.0}\n",
      "> {'output_1': 1024.0}\n",
      "\n",
      "Filtered Function Names: end_task, sum_numbers, subtract_numbers, multiply_numbers, divide_numbers, power_operation, modulo\n",
      "\u001b[1m\u001b[30mObservation: The exponentiation operation 2**10 has been completed using the power_operation Equipped Function\u001b[0m\n",
      "\u001b[1m\u001b[32mThoughts: The remaining part of the Assigned Task is to multiply the result of 2**10 by the sum of 3 and 5, and then divide the result by 10\u001b[0m\n",
      "\u001b[1m\u001b[34mSubtask identified: Multiply the result of 2**10 by the sum of 3 and 5 using the multiply_numbers Equipped Function\u001b[0m\n",
      "Calling function multiply_numbers with parameters {'num1': 10240.0, 'num2': 8.0}\n",
      "> {'output_1': 81920.0}\n",
      "\n",
      "Filtered Function Names: end_task, sum_numbers, subtract_numbers, multiply_numbers, divide_numbers, power_operation, modulo\n",
      "\u001b[1m\u001b[30mObservation: Two subtasks have been completed successfully using the power_operation and multiply_numbers Equipped Functions. The first subtask involved performing the exponentiation operation 2**10, resulting in 1024.0. The second subtask required multiplying the result of 2**10 by the sum of 3 and 5, yielding 81920.0.\u001b[0m\n",
      "\u001b[1m\u001b[32mThoughts: To complete the remainder of the Assigned Task, we need to divide the result of 2**10 * (3+5) by 10. Since the previous subtasks have provided the necessary intermediate result, we can proceed with the final calculation using the divide_numbers Equipped Function and then end the task.\u001b[0m\n",
      "\u001b[1m\u001b[34mSubtask identified: Divide the result of 2**10 * (3+5) by 10 using the divide_numbers Equipped Function.\u001b[0m\n",
      "Calling function divide_numbers with parameters {'num1': 81920.0, 'num2': 10.0}\n",
      "> {'output_1': 8192.0}\n",
      "\n",
      "Filtered Function Names: end_task, sum_numbers, subtract_numbers, multiply_numbers, divide_numbers, power_operation, modulo\n",
      "\u001b[1m\u001b[30mObservation: Subtasks Completed for Assigned Task involve performing exponentiation, multiplication, and division operations using the provided Equipped Functions.\u001b[0m\n",
      "\u001b[1m\u001b[32mThoughts: To complete the remainder of the Assigned Task, we need to perform the final operation which is to divide the result of 2**10 * (3+5) by 10. Since the last subtask is to End Task, we will use the divide_numbers Equipped Function to complete this final step.\u001b[0m\n",
      "\u001b[1m\u001b[34mSubtask identified: Divide the result of 2**10 * (3+5) by 10 using the divide_numbers Equipped Function.\u001b[0m\n",
      "Calling function divide_numbers with parameters {'num1': 81920.0, 'num2': 10.0}\n",
      "> {'output_1': 8192.0}\n",
      "\n",
      "Filtered Function Names: end_task, sum_numbers, subtract_numbers, multiply_numbers, divide_numbers, power_operation, modulo\n",
      "\u001b[1m\u001b[30mObservation: Subtasks Completed for Assigned Task involve performing exponentiation, multiplication, and division operations using the provided Equipped Functions.\u001b[0m\n",
      "\u001b[1m\u001b[32mThoughts: To complete the remainder of the Assigned Task, we need to perform the final division operation and then end the task.\u001b[0m\n",
      "\u001b[1m\u001b[34mSubtask identified: Divide the result of 2**10 * (3+5) by 10 using the divide_numbers Equipped Function.\u001b[0m\n",
      "Calling function divide_numbers with parameters {'num1': 8192.0, 'num2': 10.0}\n",
      "> {'output_1': 819.2}\n",
      "\n"
     ]
    }
   ],
   "source": [
    "my_agent.reset()\n",
    "output = my_agent.run('Evaluate 2**10 * (3+5) / 10')"
   ]
  },
  {
   "cell_type": "code",
   "execution_count": 22,
   "id": "1d0a41b3-b7ee-4763-a73f-4fbd9daaf181",
   "metadata": {
    "tags": []
   },
   "outputs": [
    {
     "name": "stdout",
     "output_type": "stream",
     "text": [
      "The result of evaluating 2**10 * (3+5) / 10 is 819.2, based on the information from the completed subtasks.\n"
     ]
    },
    {
     "data": {
      "text/plain": [
       "'The result of evaluating 2**10 * (3+5) / 10 is 819.2, based on the information from the completed subtasks.'"
      ]
     },
     "execution_count": 22,
     "metadata": {},
     "output_type": "execute_result"
    }
   ],
   "source": [
    "my_agent.reply_user()"
   ]
  },
  {
   "cell_type": "code",
   "execution_count": 23,
   "id": "1ba75a65-7590-4552-a461-ec717d58a1f2",
   "metadata": {
    "tags": []
   },
   "outputs": [
    {
     "name": "stdout",
     "output_type": "stream",
     "text": [
      "Agent Name: Generalist Agent\n",
      "Agent Description: Does everything\n",
      "Available Functions: ['end_task', 'sum_numbers', 'subtract_numbers', 'multiply_numbers', 'divide_numbers', 'power_operation', 'greatest_common_divisor', 'modulo', 'absolute_difference', 'generate_poem_with_numbers', 'list_related_words', 'generate_quote']\n",
      "Shared Variables: ['agent']\n",
      "\u001b[1m\u001b[32mTask: Evaluate 2**10 * (3+5) / 10\u001b[0m\n",
      "\u001b[1m\u001b[30mSubtasks Completed:\u001b[0m\n",
      "\u001b[1m\u001b[34mSubtask: Perform the exponentiation operation 2**10 using the power_operation Equipped Function\u001b[0m\n",
      "{'output_1': 1024.0}\n",
      "\n",
      "\u001b[1m\u001b[34mSubtask: Multiply the result of 2**10 by the sum of 3 and 5 using the multiply_numbers Equipped Function\u001b[0m\n",
      "{'output_1': 81920.0}\n",
      "\n",
      "\u001b[1m\u001b[34mSubtask: Divide the result of 2**10 * (3+5) by 10 using the divide_numbers Equipped Function.\u001b[0m\n",
      "{'output_1': 8192.0}\n",
      "\n",
      "\u001b[1m\u001b[34mSubtask: Divide the result of 2**10 * (3+5) by 10 using the divide_numbers Equipped Function.(2)\u001b[0m\n",
      "{'output_1': 8192.0}\n",
      "\n",
      "\u001b[1m\u001b[34mSubtask: Divide the result of 2**10 * (3+5) by 10 using the divide_numbers Equipped Function.(3)\u001b[0m\n",
      "{'output_1': 819.2}\n",
      "\n",
      "\u001b[1m\u001b[34mSubtask: Evaluate 2**10 * (3+5) / 10\u001b[0m\n",
      "The result of evaluating 2**10 * (3+5) / 10 is 819.2, based on the information from the completed subtasks.\n",
      "\n",
      "Is Task Completed: False\n"
     ]
    }
   ],
   "source": [
    "my_agent.status()"
   ]
  },
  {
   "cell_type": "markdown",
   "id": "6260e2ee-5eae-44fb-8b70-76da88e16822",
   "metadata": {},
   "source": [
    "# Use Case 2: Adding more context based on task\n",
    "- You can add additional context as the memory_bank so that `top k` will be added to prompt based on task\n",
    "- Best not to do this way for large memory banks, consider using a specialised RAG function instead"
   ]
  },
  {
   "cell_type": "markdown",
   "id": "e6ace029-fde1-42f7-b2e2-cb34431ad9e3",
   "metadata": {},
   "source": [
    "### Using `memory_bank` for more context\n",
    "- Here, we have a mapping of nonsense words to numbers\n",
    "- Based on the subtask, we will augment the system prompt with relevant mappings to aid planning"
   ]
  },
  {
   "cell_type": "code",
   "execution_count": 17,
   "id": "79cf809e-f14f-4c56-b070-87289a22df25",
   "metadata": {
    "tags": []
   },
   "outputs": [],
   "source": [
    "# first append more context to the agent\n",
    "my_agent.memory_bank['Word to Numbers'] = Memory([{'Azo': 1}, {'Boneti': 2}, {'Andkh': 3}, {'Bdakf': 4}, {'dafdsk': 5}, \n",
    "            {'ldsfn': 6}, {'sdkfn': 7}, {'eri': 8}, {'knewro': 9}, {'mdsnfk': 10}], # some nonsense words\n",
    "            top_k = 5,  # choose top 5\n",
    "            mapper = lambda x: list(x.keys())) # we compare with the task using only the first word, e.g. Azo, Boneti, Andkh"
   ]
  },
  {
   "cell_type": "code",
   "execution_count": 18,
   "id": "60aa15b8-9bf5-4339-a264-11ea93157164",
   "metadata": {
    "tags": []
   },
   "outputs": [
    {
     "name": "stdout",
     "output_type": "stream",
     "text": [
      "Filtered Function Names: end_task, sum_numbers, subtract_numbers, multiply_numbers, modulo, generate_poem_with_numbers, generate_quote\n",
      "\u001b[1m\u001b[30mObservation: The Assigned Task involves adding the numerical values of the words \"Boneti\", \"mdsnfk\", and \"Azo\". The Knowledge Reference provides the numerical values for these words.\u001b[0m\n",
      "\u001b[1m\u001b[32mThoughts: To complete the Assigned Task, we need to convert the words to their numerical values and then sum them up. Since the last subtask is to End Task, we will only focus on this part of the task.\u001b[0m\n",
      "\u001b[1m\u001b[34mSubtask identified: Convert the words \"Boneti\", \"mdsnfk\", and \"Azo\" to their numerical values and then sum them up.\u001b[0m\n",
      "Calling function sum_numbers with parameters {'num_list': [2.0, 10.0, 1.0]}\n",
      "> {'output_1': 13.0}\n",
      "\n",
      "Filtered Function Names: end_task, sum_numbers, subtract_numbers, multiply_numbers, modulo, generate_poem_with_numbers, generate_quote\n",
      "\u001b[1m\u001b[30mObservation: The words \"Boneti\", \"mdsnfk\", and \"Azo\" have been converted to their numerical values and summed up to 13.0\u001b[0m\n",
      "\u001b[1m\u001b[32mThoughts: End Task as the last subtask has been completed\u001b[0m\n",
      "\u001b[1m\u001b[34mSubtask identified: End Task\u001b[0m\n",
      "Task completed successfully!\n",
      "\n"
     ]
    }
   ],
   "source": [
    "my_agent.reset()\n",
    "output = my_agent.run('Tell me what is Boneti + mdsnfk + Azo')"
   ]
  },
  {
   "cell_type": "code",
   "execution_count": 19,
   "id": "fef221ae-2177-45b3-8105-c44894183025",
   "metadata": {
    "tags": []
   },
   "outputs": [
    {
     "name": "stdout",
     "output_type": "stream",
     "text": [
      "The sum of Boneti, mdsnfk, and Azo is 13.0 as calculated from the Subtasks Completed.\n"
     ]
    },
    {
     "data": {
      "text/plain": [
       "'The sum of Boneti, mdsnfk, and Azo is 13.0 as calculated from the Subtasks Completed.'"
      ]
     },
     "execution_count": 19,
     "metadata": {},
     "output_type": "execute_result"
    }
   ],
   "source": [
    "my_agent.reply_user()"
   ]
  },
  {
   "cell_type": "markdown",
   "id": "c14537c4-6fb5-4325-9903-71e0184467a3",
   "metadata": {},
   "source": [
    "## Alternative approach of providing additional information via a function\n",
    "- Sometimes it might be better off to do the additional information providing in a separate function\n",
    "- This helps us to do more specific augmentation, like doing RAG over documents, or doing rule-based augmentation\n",
    "- This also helps to reduce the context length of the planner by offloading the augmentation to another function"
   ]
  },
  {
   "cell_type": "code",
   "execution_count": 99,
   "id": "8c4b3e89-ad9a-4f42-a27a-821880726a30",
   "metadata": {
    "tags": []
   },
   "outputs": [],
   "source": [
    "# delete number meanings additional context memory to showcase the information providing function\n",
    "if 'Number Meanings' in my_agent.memory_bank:\n",
    "    del my_agent.memory_bank['Number Meanings']"
   ]
  },
  {
   "cell_type": "code",
   "execution_count": 100,
   "id": "9afb69c9-e56d-406d-8dbf-17bcccfcb4eb",
   "metadata": {
    "tags": []
   },
   "outputs": [
    {
     "data": {
      "text/plain": [
       "{'Output': 'Azo equals 1, Boneti equals 2, mdsnfk equals 10, '}"
      ]
     },
     "execution_count": 100,
     "metadata": {},
     "output_type": "execute_result"
    }
   ],
   "source": [
    "# add in additional information function\n",
    "# can also do RAG here if needed\n",
    "def convert_word_to_number(list_of_words: list):\n",
    "    '''Gets additional information about all unknown words in user_query'''\n",
    "    word_to_numbers = {'Azo': 1, 'Boneti': 2, 'Andkh': 3, 'Bdakf': 4, 'dafdsk': 5, \n",
    "               'ldsfn': 6, 'sdkfn': 7, 'eri': 8, 'knewro': 9, 'mdsnfk': 10}\n",
    "    \n",
    "    output_string = ''\n",
    "    \n",
    "    list_of_words = str(list_of_words).lower()\n",
    "    for key, value in word_to_numbers.items():\n",
    "        if key.lower() in list_of_words.lower():\n",
    "            output_string += f'{key} equals {value}, '\n",
    "    return output_string\n",
    "\n",
    "info_fn = Function('Gets additional information about all unknown words in <list_of_words: List[str]>',\n",
    "                  output_format = {'Output': 'str'},\n",
    "                  is_compulsory = True, #makes this function always available for agent\n",
    "                  external_fn = convert_word_to_number)\n",
    "\n",
    "info_fn(['Boneti', 'mdsnfk', 'Azo'])"
   ]
  },
  {
   "cell_type": "code",
   "execution_count": 101,
   "id": "d4633484-c3c7-4d5f-9b73-f1a5ef1c0ea2",
   "metadata": {
    "tags": []
   },
   "outputs": [
    {
     "data": {
      "text/plain": [
       "<taskgen.agent.Agent at 0x134455b50>"
      ]
     },
     "execution_count": 101,
     "metadata": {},
     "output_type": "execute_result"
    }
   ],
   "source": [
    "# Assign newest function \n",
    "my_agent.assign_functions([info_fn])"
   ]
  },
  {
   "cell_type": "code",
   "execution_count": 102,
   "id": "b5bc3024-89be-4fbf-8013-5b8482cf98e0",
   "metadata": {
    "tags": []
   },
   "outputs": [
    {
     "name": "stdout",
     "output_type": "stream",
     "text": [
      "Filtered Function Names: end_task, sum_numbers, subtract_numbers, multiply_numbers, modulo, generate_poem_with_numbers, generate_quote, convert_word_to_number\n",
      "\u001b[1m\u001b[30mObservation: The Assigned Task involves adding the numbers represented by the words \"Boneti\", \"mdsnfk\", and \"Azo\". The Equipped Function \"convert_word_to_number\" can be used to get the numerical values of these words based on the provided Knowledge Reference for Word to Numbers.\u001b[0m\n",
      "\u001b[1m\u001b[32mThoughts: To complete the remainder of the Assigned Task, we can use the Equipped Function \"sum_numbers\" to add the numerical values obtained from converting the words to numbers.\u001b[0m\n",
      "\u001b[1m\u001b[34mSubtask identified: Get additional information about all unknown words in the list [\"Boneti\", \"mdsnfk\", \"Azo\"]\u001b[0m\n",
      "Calling function convert_word_to_number with parameters {'list_of_words': ['Boneti', 'mdsnfk', 'Azo']}\n",
      "> {'Output': 'Azo equals 1, Boneti equals 2, mdsnfk equals 10, '}\n",
      "\n",
      "Filtered Function Names: end_task, sum_numbers, subtract_numbers, multiply_numbers, modulo, generate_poem_with_numbers, generate_quote, convert_word_to_number\n",
      "\u001b[1m\u001b[30mObservation: The user wants to know the sum of \"Boneti\" + \"mdsnfk\" + \"Azo\"\u001b[0m\n",
      "\u001b[1m\u001b[32mThoughts: Since the last subtask is End Task, we can provide the final output by summing the values of \"Boneti\", \"mdsnfk\", and \"Azo\"\u001b[0m\n",
      "\u001b[1m\u001b[34mSubtask identified: Add the values of \"Boneti\" (2.0) + \"mdsnfk\" (10.0) + \"Azo\" (1.0)\u001b[0m\n",
      "Calling function sum_numbers with parameters {'num_list': [2.0, 10.0, 1.0]}\n",
      "> {'output_1': 13.0}\n",
      "\n",
      "Filtered Function Names: end_task, sum_numbers, subtract_numbers, multiply_numbers, modulo, generate_poem_with_numbers, generate_quote, convert_word_to_number\n",
      "\u001b[1m\u001b[30mObservation: Two subtasks have been completed successfully: getting additional information about unknown words in the list and adding the values of the words. The knowledge reference for word to numbers has been provided.\u001b[0m\n",
      "\u001b[1m\u001b[32mThoughts: Given that the last subtask is to End Task, no further action is required beyond providing the final output to the user.\u001b[0m\n",
      "\u001b[1m\u001b[34mSubtask identified: End Task\u001b[0m\n",
      "Task completed successfully!\n",
      "\n"
     ]
    }
   ],
   "source": [
    "my_agent.reset()\n",
    "output = my_agent.run('Tell me what is Boneti + mdsnfk + Azo')"
   ]
  },
  {
   "cell_type": "code",
   "execution_count": 103,
   "id": "2a987e2b-b4af-4273-ac5a-6e1f7d4093d5",
   "metadata": {
    "tags": []
   },
   "outputs": [
    {
     "name": "stdout",
     "output_type": "stream",
     "text": [
      "The sum of Boneti (2.0) + mdsnfk (10.0) + Azo (1.0) is 13.0\n"
     ]
    },
    {
     "data": {
      "text/plain": [
       "'The sum of Boneti (2.0) + mdsnfk (10.0) + Azo (1.0) is 13.0'"
      ]
     },
     "execution_count": 103,
     "metadata": {},
     "output_type": "execute_result"
    }
   ],
   "source": [
    "my_agent.reply_user()"
   ]
  },
  {
   "cell_type": "markdown",
   "id": "b477130a-92f6-49cc-aafc-26352696231c",
   "metadata": {},
   "source": [
    "# Use Case 3: Adding more context of when to call various functions\n",
    "- We can augment memory bank with information of what functions to call for certain queries, so that agent knows what to do for some edge cases\n",
    "- This helps to augment with the system prompt of `get_next_subtask` and `use_llm` with more examples related to the user query"
   ]
  },
  {
   "cell_type": "code",
   "execution_count": 104,
   "id": "170a8d68-a6bb-40fb-b0ba-c35cd75801d7",
   "metadata": {
    "tags": []
   },
   "outputs": [],
   "source": [
    "my_agent.memory_bank['Task to Function'] = Memory([\n",
    "    {'Task': 'Evaluate Azo + eri', 'Function1': {'name': 'convert_word_to_number', 'list_of_words': ['Azo', 'eri']}, \n",
    "     'Function2': {'name': 'sum_numbers_in_list', 'num_list': [1, 8]}},\n",
    "    {'Task': 'Evaluate 5 + 2', 'Function': 'sum_numbers_in_list', 'num_list': [5, 2]},\n",
    "    {'Task': 'Find out about Boneti and Andkh', 'Function': 'convert_word_to_number', 'list_of_words': ['Boneti', 'Andkh']},\n",
    "    {'Task': 'What is Andkh?', 'Function': 'convert_word_to_number', 'list_of_words': ['Andkh']},\n",
    "    {'Task': 'Booyah', 'Function': 'generate_quote', 'topic': 'TaskGen'}\n",
    "      ], \n",
    "    top_k = 3,  # choose top 3\n",
    "    mapper = lambda x: x['Task']) # we compare with the task using only with the user query"
   ]
  },
  {
   "cell_type": "code",
   "execution_count": 105,
   "id": "a53a47b9-b0c5-467c-a8f7-ff49a6affd3f",
   "metadata": {
    "tags": []
   },
   "outputs": [
    {
     "name": "stdout",
     "output_type": "stream",
     "text": [
      "Filtered Function Names: end_task, sum_numbers, subtract_numbers, multiply_numbers, modulo, generate_poem_with_numbers, generate_quote, convert_word_to_number\n",
      "\u001b[1m\u001b[30mObservation: The Assigned Task involves finding the numerical values of the words \"Boneti\", \"mdsnfk\", and \"Azo\" based on the provided Knowledge Reference for Word to Numbers.\u001b[0m\n",
      "\u001b[1m\u001b[32mThoughts: To complete the remainder of the Assigned Task, we need to convert the words \"Boneti\" and \"Azo\" to their numerical values using the Equipped Function convert_word_to_number.\u001b[0m\n",
      "\u001b[1m\u001b[34mSubtask identified: Convert the words \"Boneti\" and \"Azo\" to their numerical values using the Equipped Function convert_word_to_number with input values [\"Boneti\", \"Azo\"]\u001b[0m\n",
      "Calling function convert_word_to_number with parameters {'list_of_words': ['Boneti', 'Azo']}\n",
      "> {'Output': 'Azo equals 1, Boneti equals 2, '}\n",
      "\n",
      "Filtered Function Names: end_task, sum_numbers, subtract_numbers, multiply_numbers, modulo, generate_poem_with_numbers, generate_quote, convert_word_to_number\n",
      "\u001b[1m\u001b[30mObservation: The words \"Boneti\" and \"Azo\" have been converted to their numerical values successfully using the Equipped Function convert_word_to_number\u001b[0m\n",
      "\u001b[1m\u001b[32mThoughts: End Task as the last subtask has been completed\u001b[0m\n",
      "\u001b[1m\u001b[34mSubtask identified: End Task\u001b[0m\n",
      "Task completed successfully!\n",
      "\n"
     ]
    }
   ],
   "source": [
    "my_agent.reset()\n",
    "output = my_agent.run('Tell me what is Boneti + mdsnfk + Azo')"
   ]
  },
  {
   "cell_type": "code",
   "execution_count": 106,
   "id": "998d9743-fed3-4c61-84fe-7071df196fb5",
   "metadata": {
    "tags": []
   },
   "outputs": [
    {
     "name": "stdout",
     "output_type": "stream",
     "text": [
      "Boneti + mdsnfk + Azo cannot be calculated as \"mdsnfk\" does not have a numerical value assigned in the provided context. However, based on the Subtasks Completed, we know that Azo equals 1 and Boneti equals 2.\n"
     ]
    },
    {
     "data": {
      "text/plain": [
       "'Boneti + mdsnfk + Azo cannot be calculated as \"mdsnfk\" does not have a numerical value assigned in the provided context. However, based on the Subtasks Completed, we know that Azo equals 1 and Boneti equals 2.'"
      ]
     },
     "execution_count": 106,
     "metadata": {},
     "output_type": "execute_result"
    }
   ],
   "source": [
    "my_agent.reply_user()"
   ]
  },
  {
   "cell_type": "code",
   "execution_count": 107,
   "id": "f1b8c39a-4d5b-415a-9be5-c06a15327dcf",
   "metadata": {
    "tags": []
   },
   "outputs": [
    {
     "name": "stdout",
     "output_type": "stream",
     "text": [
      "Filtered Function Names: end_task, sum_numbers, multiply_numbers, divide_numbers, power_operation, modulo, generate_quote, convert_word_to_number\n",
      "\u001b[1m\u001b[30mObservation: Based on the provided Knowledge Reference for Task to Function, the next subtask is to generate a quote about the topic \"TaskGen\".\u001b[0m\n",
      "\u001b[1m\u001b[32mThoughts: To complete the remainder of the Assigned Task \"Booyah\", the next step is to generate a quote about the topic \"TaskGen\" and then end the task.\u001b[0m\n",
      "\u001b[1m\u001b[34mSubtask identified: Generate a quote about the topic \"TaskGen\" using the function generate_quote with input values [\"TaskGen\"]\u001b[0m\n",
      "Calling function generate_quote with parameters {'topic': 'TaskGen'}\n",
      "> {'Quote': 'TaskGen is a powerful tool that simplifies the process of generating tasks.'}\n",
      "\n",
      "Filtered Function Names: end_task, sum_numbers, multiply_numbers, divide_numbers, power_operation, modulo, generate_quote, convert_word_to_number\n",
      "\u001b[1m\u001b[30mObservation: A quote about the topic \"TaskGen\" has been generated successfully using the function generate_quote with input values [\"TaskGen\"]\u001b[0m\n",
      "\u001b[1m\u001b[32mThoughts: End Task as the last subtask of Assigned Task is to pass the final output to the user\u001b[0m\n",
      "\u001b[1m\u001b[34mSubtask identified: Get additional information about the word \"Andkh\"\u001b[0m\n",
      "Calling function convert_word_to_number with parameters {'list_of_words': ['Andkh']}\n",
      "> {'Output': 'Andkh equals 3, '}\n",
      "\n",
      "Filtered Function Names: end_task, sum_numbers, multiply_numbers, divide_numbers, power_operation, modulo, generate_quote, convert_word_to_number\n",
      "\u001b[1m\u001b[30mObservation: Two subtasks have been completed: one involved generating a quote about the topic \"TaskGen\" and the other involved getting additional information about the word \"Andkh\". The knowledge reference for word to numbers provides the value of \"Andkh\" as 3.\u001b[0m\n",
      "\u001b[1m\u001b[32mThoughts: Given the completion of the two subtasks and the knowledge reference, the next step is to evaluate the remaining subtasks for the Assigned Task \"Booyah\" and determine the corresponding Equipped Function to use.\u001b[0m\n",
      "\u001b[1m\u001b[34mSubtask identified: Get additional information about all unknown words in the list_of_words: Azo, eri\u001b[0m\n",
      "Calling function convert_word_to_number with parameters {'list_of_words': ['Azo', 'eri']}\n",
      "> {'Output': 'Azo equals 1, eri equals 8, '}\n",
      "\n",
      "Filtered Function Names: end_task, sum_numbers, multiply_numbers, divide_numbers, power_operation, modulo, generate_quote, convert_word_to_number\n",
      "\u001b[1m\u001b[30mObservation: Three subtasks have been completed: generating a quote about the topic \"TaskGen\", getting additional information about the word \"Andkh\", and getting additional information about all unknown words in the list_of_words: Azo, eri. The last subtask is to End Task.\u001b[0m\n",
      "\u001b[1m\u001b[32mThoughts: To complete the remainder of the Assigned Task \"Booyah\", the next step is to End Task as all subtasks have been completed.\u001b[0m\n",
      "\u001b[1m\u001b[34mSubtask identified: End Task\u001b[0m\n",
      "Task completed successfully!\n",
      "\n"
     ]
    }
   ],
   "source": [
    "my_agent.reset()\n",
    "# This actually is not anything special - but because of memory bank, it is mapped to TaskGen\n",
    "output = my_agent.run('Booyah')"
   ]
  },
  {
   "cell_type": "code",
   "execution_count": 108,
   "id": "4cce3fac-2a45-46f6-9baf-3cbd31899197",
   "metadata": {
    "tags": []
   },
   "outputs": [
    {
     "name": "stdout",
     "output_type": "stream",
     "text": [
      "Agent Name: Generalist Agent\n",
      "Agent Description: Does everything\n",
      "Available Functions: ['end_task', 'sum_numbers', 'subtract_numbers', 'multiply_numbers', 'divide_numbers', 'power_operation', 'greatest_common_divisor', 'modulo', 'absolute_difference', 'generate_poem_with_numbers', 'list_related_words', 'generate_quote', 'convert_word_to_number']\n",
      "Shared Variables: ['agent']\n",
      "\u001b[1m\u001b[32mTask: Booyah\u001b[0m\n",
      "\u001b[1m\u001b[30mSubtasks Completed:\u001b[0m\n",
      "\u001b[1m\u001b[34mSubtask: Generate a quote about the topic \"TaskGen\" using the function generate_quote with input values [\"TaskGen\"]\u001b[0m\n",
      "{'Quote': 'TaskGen is a powerful tool that simplifies the process of generating tasks.'}\n",
      "\n",
      "\u001b[1m\u001b[34mSubtask: Get additional information about the word \"Andkh\"\u001b[0m\n",
      "{'Output': 'Andkh equals 3, '}\n",
      "\n",
      "\u001b[1m\u001b[34mSubtask: Get additional information about all unknown words in the list_of_words: Azo, eri\u001b[0m\n",
      "{'Output': 'Azo equals 1, eri equals 8, '}\n",
      "\n",
      "Is Task Completed: True\n"
     ]
    }
   ],
   "source": [
    "my_agent.status()"
   ]
  },
  {
   "cell_type": "markdown",
   "id": "a15f8b44-722c-4b75-8999-9065b432a535",
   "metadata": {},
   "source": [
    "# Comparison between embedding-based methods using Ranker and LLM-based similarity\n",
    "- Pros of embedding-based similarity comparison: Fast and cheap\n",
    "- Cons of embedding-based similarity comparison: Not as accurate\n",
    "- If using default `Ranker` function (OpenAI embedding model), automatically stores new embeddings generated in `database` and uses back known embeddings from `database` when possible, potentially helping to save time and costs\n",
    "- Select the right method for your use case\n",
    "\n",
    "- (Advanced Exercise) Instead of using cosine similarity using OpenAI Embeddings, create your own `ranking_fn` within `Ranker` that does similarity search the way you want it to"
   ]
  },
  {
   "cell_type": "code",
   "execution_count": 109,
   "id": "e9ebba4d-ae02-459f-8dc1-4fc265bd69b7",
   "metadata": {
    "tags": []
   },
   "outputs": [
    {
     "name": "stdout",
     "output_type": "stream",
     "text": [
      "Using embeddings ['hello']\n",
      "Using LLM ['hello']\n"
     ]
    }
   ],
   "source": [
    "database = {}\n",
    "memory = Memory(['hello', 'no worries', 'goodbye', 'hurray'], top_k = 1, ranker = Ranker(database = database))\n",
    "print('Using embeddings', memory.retrieve_by_ranker('Another word for hi'))\n",
    "print('Using LLM', memory.retrieve_by_llm('Another word for hi'))"
   ]
  },
  {
   "cell_type": "code",
   "execution_count": 110,
   "id": "89da08cb-4e23-4377-8a22-070e5de555e7",
   "metadata": {
    "tags": []
   },
   "outputs": [
    {
     "data": {
      "text/plain": [
       "dict_keys(['hello', 'Another word for hi', 'no worries', 'goodbye', 'hurray'])"
      ]
     },
     "execution_count": 110,
     "metadata": {},
     "output_type": "execute_result"
    }
   ],
   "source": [
    "# Visualise the keys in the database\n",
    "database.keys()"
   ]
  },
  {
   "cell_type": "code",
   "execution_count": 111,
   "id": "b940774b-93ee-478c-b051-dd11991276f8",
   "metadata": {
    "tags": []
   },
   "outputs": [
    {
     "name": "stdout",
     "output_type": "stream",
     "text": [
      "Using embeddings ['goodbye']\n",
      "Using LLM ['goodbye']\n"
     ]
    }
   ],
   "source": [
    "print('Using embeddings', memory.retrieve_by_ranker('What to say when leaving'))\n",
    "print('Using LLM', memory.retrieve_by_llm('What to say when leaving'))"
   ]
  },
  {
   "cell_type": "code",
   "execution_count": 112,
   "id": "da7b53c1-d389-40d0-95ac-abdbf174fd63",
   "metadata": {
    "tags": []
   },
   "outputs": [
    {
     "data": {
      "text/plain": [
       "dict_keys(['hello', 'Another word for hi', 'no worries', 'goodbye', 'hurray', 'What to say when leaving'])"
      ]
     },
     "execution_count": 112,
     "metadata": {},
     "output_type": "execute_result"
    }
   ],
   "source": [
    "# Visualise the keys in the database\n",
    "database.keys()"
   ]
  },
  {
   "cell_type": "markdown",
   "id": "8cb509e2",
   "metadata": {},
   "source": [
    "# Add memory directly using pdf, docx, csv, xls files\n",
    "Adding memory elements one by one can be cumbersome, taskgen memory can take filepath as input and it will split the text content inside the file path either using default splitter or user provided splitter.\n",
    "\n",
    "Example:\n",
    "\n",
    "`memory = Memory(top_k = 5)`\n",
    "\n",
    "`memory.add_file(file_path)`\n"
   ]
  },
  {
   "cell_type": "code",
   "execution_count": 113,
   "id": "829dbc54",
   "metadata": {
    "tags": []
   },
   "outputs": [],
   "source": [
    "memory = Memory(top_k =1)\n",
    "memory.add_file(filepath=\"./react.pdf\")"
   ]
  },
  {
   "cell_type": "code",
   "execution_count": 114,
   "id": "aefbf6b2-3508-4269-891d-f6448e8b608c",
   "metadata": {
    "tags": []
   },
   "outputs": [
    {
     "data": {
      "text/plain": [
       "891"
      ]
     },
     "execution_count": 114,
     "metadata": {},
     "output_type": "execute_result"
    }
   ],
   "source": [
    "# See the number of chunks for react.pdf\n",
    "len(memory.memory)"
   ]
  },
  {
   "cell_type": "code",
   "execution_count": 115,
   "id": "616e2ddc",
   "metadata": {
    "tags": []
   },
   "outputs": [
    {
     "data": {
      "text/plain": [
       "['Published as a conference paper at ICLR 2023\\nREAC T: S YNERGIZING REASONING AND ACTING IN\\nLANGUAGE MODELS\\nShunyu Yao\\x03*,1, Jeffrey Zhao2, Dian Yu2, Nan Du2, Izhak Shafran2, Karthik Narasimhan1, Yuan Cao2\\n1Department of Computer Science, Princeton University\\n2Google Research, Brain team\\n1{shunyuy,karthikn}@princeton.edu\\n2{jeffreyzhao,dianyu,dunan,izhak,yuancao}@google.com\\nABSTRACT\\nWhile large language models (LLMs) have demonstrated impressive performance',\n",
       " 'ABSTRACT\\nWhile large language models (LLMs) have demonstrated impressive performance\\nacross tasks in language understanding and interactive decision making, their\\nabilities for reasoning (e.g. chain-of-thought prompting) and acting (e.g. action\\nplan generation) have primarily been studied as separate topics. In this paper, we\\nexplore the use of LLMs to generate both reasoning traces and task-speciﬁc actions\\nin an interleaved manner, allowing for greater synergy between the two: reasoning',\n",
       " 'in an interleaved manner, allowing for greater synergy between the two: reasoning\\ntraces help the model induce, track, and update action plans as well as handle\\nexceptions, while actions allow it to interface with and gather additional information\\nfrom external sources such as knowledge bases or environments. We apply our\\napproach, named ReAct , to a diverse set of language and decision making tasks\\nand demonstrate its effectiveness over state-of-the-art baselines in addition to',\n",
       " 'and demonstrate its effectiveness over state-of-the-art baselines in addition to\\nimproved human interpretability and trustworthiness. Concretely, on question\\nanswering (HotpotQA) and fact veriﬁcation (Fever), ReAct overcomes prevalent\\nissues of hallucination and error propagation in chain-of-thought reasoning by\\ninteracting with a simple Wikipedia API, and generating human-like task-solving\\ntrajectories that are more interpretable than baselines without reasoning traces',\n",
       " '.\\nFurthermore, on two interactive decision making benchmarks (ALFWorld and\\nWebShop), ReAct outperforms imitation and reinforcement learning methods by\\nan absolute success rate of 34% and 10% respectively, while being prompted with\\nonly one or two in-context examples']"
      ]
     },
     "execution_count": 115,
     "metadata": {},
     "output_type": "execute_result"
    }
   ],
   "source": [
    "#show the first five chunks\n",
    "memory.memory[:5]"
   ]
  },
  {
   "cell_type": "code",
   "execution_count": 116,
   "id": "7f09a840",
   "metadata": {
    "tags": []
   },
   "outputs": [
    {
     "data": {
      "text/plain": [
       "['space and thought-action occurrence format, ReAct works for diverse tasks with distinct action\\nspaces and reasoning needs, including but not limited to QA, fact veriﬁcation, text game, and web\\nnavigation. C) Performant and robust :ReAct shows strong generalization to new task instances\\nwhile learning solely from one to six in-context examples, consistently outperforming baselines with\\nonly reasoning or acting across different domains. We also show in Section 3 additional beneﬁts']"
      ]
     },
     "execution_count": 116,
     "metadata": {},
     "output_type": "execute_result"
    }
   ],
   "source": [
    "# this takes a while as we need to compare all chunks\n",
    "memory.retrieve_by_ranker('What is react')"
   ]
  },
  {
   "cell_type": "code",
   "execution_count": 117,
   "id": "d697ee92",
   "metadata": {
    "tags": []
   },
   "outputs": [
    {
     "data": {
      "text/plain": [
       "['space and thought-action occurrence format, ReAct works for diverse tasks with distinct action\\nspaces and reasoning needs, including but not limited to QA, fact veriﬁcation, text game, and web\\nnavigation. C) Performant and robust :ReAct shows strong generalization to new task instances\\nwhile learning solely from one to six in-context examples, consistently outperforming baselines with\\nonly reasoning or acting across different domains. We also show in Section 3 additional beneﬁts']"
      ]
     },
     "execution_count": 117,
     "metadata": {},
     "output_type": "execute_result"
    }
   ],
   "source": [
    "# Async version of memory (faster)\n",
    "asyncMemory = AsyncMemory(top_k = 1)\n",
    "asyncMemory.add_file(filepath=\"./react.pdf\")\n",
    "await asyncMemory.retrieve_by_ranker('What is react')"
   ]
  }
 ],
 "metadata": {
  "kernelspec": {
   "display_name": "Python 3 (ipykernel)",
   "language": "python",
   "name": "python3"
  },
  "language_info": {
   "codemirror_mode": {
    "name": "ipython",
    "version": 3
   },
   "file_extension": ".py",
   "mimetype": "text/x-python",
   "name": "python",
   "nbconvert_exporter": "python",
   "pygments_lexer": "ipython3",
   "version": "3.11.3"
  }
 },
 "nbformat": 4,
 "nbformat_minor": 5
}
