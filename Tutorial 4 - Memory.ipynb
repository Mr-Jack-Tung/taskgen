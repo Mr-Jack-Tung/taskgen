{
 "cells": [
  {
   "cell_type": "markdown",
   "id": "2fa1e388-b8f4-4fa3-be5a-ba7c6caae038",
   "metadata": {
    "tags": []
   },
   "source": [
    "# Tutorial 4 - Memory\n",
    "\n",
    "## Key Philosophy\n",
    "- It would be important to learn from past experience and improve the agentic framework - memory is key to that\n",
    "- You can add to the memory bank of your Agents pre-inference (by collecting from a pool of data prior to running the Agent), or during inference (add on in between running subtasks)\n",
    "\n",
    "## Use Memory in Agents\n",
    "- Agent class takes `memory_bank` as a parameter during initialisation of an `Agent`\n",
    "- memory_bank: class Dict[Memory]. Stores multiple types of memory for use by the agent. Customise the Memory config within the Memory class.\n",
    "    - Default: `memory_bank = {'Function': Memory(top_k = 5, mapper = lambda x: x.fn_description, approach = 'retrieve_by_ranker')}`\n",
    "    - Key: `Function` (Already Implemented Natively) - Does RAG over Task -> Function mapping\n",
    "    - Can add in more keys that would fit your use case. Retrieves similar items to task/overall plan (if able) for additional context in `get_next_subtasks()` and `use_llm()` function\n",
    "    - Side Note: RAG can also be done (and may be preferred) as a separate function of the Agent to retrieve more information when needed (so that we do not overload the Agent with information)\n",
    "\n",
    "## Memory Class\n",
    "- Retrieves top k memory items based on task \n",
    "- Inputs:\n",
    "    - `memory`: List. Default: Empty List. The list containing the memory items\n",
    "    - `top_k`: Int. Default: 3. The number of memory list items to retrieve\n",
    "    - `mapper`: Function. Maps the memory item to another form for comparison by ranker or LLM. Default: `lambda x: x`\n",
    "        - Example mapping: `lambda x: x.fn_description` (If x is a Class and the string you want to compare for similarity is the fn_description attribute of that class)\n",
    "    - `approach`: str. Either `retrieve_by_ranker` or `retrieve_by_llm` to retrieve memory items.\n",
    "        - Ranker is faster and cheaper as it compares via embeddings, but are inferior to LLM-based methods for contextual information\n",
    "    - `ranker`: `Ranker`. The Ranker which defines a similarity score between a query and a key. Default: OpenAI `text-embedding-3-small` model. \n",
    "        - Can be replaced with a function which returns similarity score from 0 to 1 when given a query and key\n",
    "        \n",
    "## Example Use Case\n",
    "- Helps to reduce number of functions present in LLM context for more accurate generation\n",
    "```python\n",
    "output = my_agent.run('Calculate 2**10 * (5 + 1) / 10')\n",
    "```\n",
    "\n",
    "`Original Function List: add_numbers, subtract_numbers, add_three_numbers, multiply_numbers, divide_numbers, power_of, GCD_of_two_numbers, modulo_of_numbers, absolute_difference, generate_poem_with_numbers, List_related_words, generate_quote`\n",
    "\n",
    "`Filtered Function Names: add_three_numbers, multiply_numbers, divide_numbers, power_of, modulo_of_numbers`"
   ]
  },
  {
   "cell_type": "code",
   "execution_count": 2,
   "id": "8098f395-fd24-4797-a831-c2a43b359364",
   "metadata": {
    "tags": []
   },
   "outputs": [],
   "source": [
    "# !pip install taskgen-ai"
   ]
  },
  {
   "cell_type": "code",
   "execution_count": 1,
   "id": "076adf5e-beb1-4b19-9078-34ab1b7d9afe",
   "metadata": {
    "tags": []
   },
   "outputs": [],
   "source": [
    "# Set up API key and do the necessary imports\n",
    "import os\n",
    "from taskgen import *\n",
    "import math\n",
    "\n",
    "os.environ['OPENAI_API_KEY'] = '<YOUR API KEY HERE>'"
   ]
  },
  {
   "cell_type": "markdown",
   "id": "a04abb86-6f74-4af5-8b72-b26a6029eb9f",
   "metadata": {},
   "source": [
    "# Use Case 1: Filtering Functions by Task\n",
    "- TaskGen chooses `top k` (default k: 5) functions according to similarity to subtask\n",
    "- In addition to `top k` functions, we will also give agent all the compulsory functions\n",
    "    - `is_compulsory` variable of Function set to `True` means that we will always have it as one of the functions for planning and bypass Function RAG"
   ]
  },
  {
   "cell_type": "code",
   "execution_count": 3,
   "id": "1d8c8dce-4710-462b-bbbd-715c23dded7c",
   "metadata": {
    "tags": []
   },
   "outputs": [],
   "source": [
    "# Define multiple functions\n",
    "fn_list = [\n",
    "    Function(\"Adds all numbers in <num_list: List[int]>\", output_format = {\"Result\": \"Sum of all numbers in num_list\"}, \n",
    "        is_compulsory = True, external_fn = lambda num_list: sum(x for x in num_list), fn_name = 'sum_numbers'),\n",
    "    Function(\"Subtracts <num1: float> from <num2: float>\", output_format = {\"Result\": \"num1 - num2\"}, fn_name = 'subtract_numbers', external_fn = lambda num1, num2: num1 + num2),\n",
    "    Function(\"Multiply <num1: float> by <num2: float>\", output_format = {\"Result\": \"num1 * num2\"}, fn_name = 'multiply_numbers', external_fn = lambda num1, num2: num1 * num2),\n",
    "    Function(\"Divide <num1: float> by <num2: float>\", output_format = {\"Result\": \"num1 / num2\"}, fn_name = 'divide_numbers', external_fn = lambda num1, num2: num1 / num2),\n",
    "    Function(\"Returns <num1: float>**<num2: float>\", output_format = {\"Result\": \"num1**num2\"}, fn_name = 'power_operation', external_fn = lambda num1, num2: math.pow(num1,num2)),\n",
    "    Function(\"Returns Greatest Common Divisor of <num1: int> and <num2: int>\", output_format = {\"Result\": \"GCD(num1, num2)\"}, fn_name = 'greatest_common_divisor', external_fn = lambda num1, num2: math.gcd(num1, num2)),\n",
    "    Function(\"Returns modulo of <num1: int> over <num2: int>\", output_format = {\"Result\": \"num1 % num2\"}, fn_name = 'modulo_of_numbers', external_fn = lambda num1, num2: num1 % num2),\n",
    "    Function(\"Returns absolute difference between <num1: float> and <num2: float>\", output_format = {\"Result\": \"abs(num1 - num2)\"}, fn_name = 'absolute_difference', external_fn = lambda num1, num2: math.abs(num1-num2)),\n",
    "    Function(\"Generates a poem containing <num1: float> and <num2: float>\", output_format = {\"Poem\": \"Poem\"}, fn_name = 'generate_poem_with_numbers'),\n",
    "    Function(\"Lists out <num: int> words related to <word: str>\", output_format = {\"List of words\": \"List of words, type: list\"}, fn_name = 'list_related_words'),\n",
    "    Function(\"Generates a quote about <topic: str>\", output_format = {\"Quote\": \"Quote\"}, fn_name = 'generate_quote')\n",
    "]"
   ]
  },
  {
   "cell_type": "code",
   "execution_count": 4,
   "id": "3aa5ac81-b850-44ca-a812-44fbe43d9943",
   "metadata": {
    "tags": []
   },
   "outputs": [],
   "source": [
    "my_agent = Agent('Generalist Agent', \n",
    "'''Does everything''',\n",
    "                default_to_llm = False).assign_functions(fn_list)"
   ]
  },
  {
   "cell_type": "code",
   "execution_count": 5,
   "id": "b1a95964-28c6-457b-bda2-49f750013d9f",
   "metadata": {
    "tags": []
   },
   "outputs": [
    {
     "data": {
      "text/plain": [
       "['Name: end_task\\nDescription: Passes the final output to the user\\nInput: []\\nOutput: {}\\n',\n",
       " \"Name: sum_numbers\\nDescription: Adds all numbers in <num_list: List[int]>\\nInput: ['num_list']\\nOutput: {'Result': 'Sum of all numbers in num_list'}\\n\",\n",
       " \"Name: subtract_numbers\\nDescription: Subtracts <num1: float> from <num2: float>\\nInput: ['num1', 'num2']\\nOutput: {'Result': 'num1 - num2'}\\n\",\n",
       " \"Name: multiply_numbers\\nDescription: Multiply <num1: float> by <num2: float>\\nInput: ['num1', 'num2']\\nOutput: {'Result': 'num1 * num2'}\\n\",\n",
       " \"Name: divide_numbers\\nDescription: Divide <num1: float> by <num2: float>\\nInput: ['num1', 'num2']\\nOutput: {'Result': 'num1 / num2'}\\n\",\n",
       " \"Name: power_operation\\nDescription: Returns <num1: float>**<num2: float>\\nInput: ['num1', 'num2']\\nOutput: {'Result': 'num1**num2'}\\n\",\n",
       " \"Name: greatest_common_divisor\\nDescription: Returns Greatest Common Divisor of <num1: int> and <num2: int>\\nInput: ['num1', 'num2']\\nOutput: {'Result': 'GCD(num1, num2)'}\\n\",\n",
       " \"Name: modulo_of_numbers\\nDescription: Returns modulo of <num1: int> over <num2: int>\\nInput: ['num1', 'num2']\\nOutput: {'Result': 'num1 % num2'}\\n\",\n",
       " \"Name: absolute_difference\\nDescription: Returns absolute difference between <num1: float> and <num2: float>\\nInput: ['num1', 'num2']\\nOutput: {'Result': 'abs(num1 - num2)'}\\n\",\n",
       " \"Name: generate_poem_with_numbers\\nDescription: Generates a poem containing <num1: float> and <num2: float>\\nInput: ['num1', 'num2']\\nOutput: {'Poem': 'Poem'}\\n\",\n",
       " \"Name: list_related_words\\nDescription: Lists out <num: int> words related to <word: str>\\nInput: ['num', 'word']\\nOutput: {'List of words': 'List of words, type: list'}\\n\",\n",
       " \"Name: generate_quote\\nDescription: Generates a quote about <topic: str>\\nInput: ['topic']\\nOutput: {'Quote': 'Quote'}\\n\"]"
      ]
     },
     "execution_count": 5,
     "metadata": {},
     "output_type": "execute_result"
    }
   ],
   "source": [
    "# see the auto-generated names of your functions :)\n",
    "my_agent.list_functions()"
   ]
  },
  {
   "cell_type": "code",
   "execution_count": 6,
   "id": "87357751-5f53-4e4b-adad-0487687d9ef4",
   "metadata": {
    "tags": []
   },
   "outputs": [
    {
     "data": {
      "text/plain": [
       "['subtract_numbers',\n",
       " 'divide_numbers',\n",
       " 'multiply_numbers',\n",
       " 'modulo_of_numbers',\n",
       " 'generate_poem_with_numbers']"
      ]
     },
     "execution_count": 6,
     "metadata": {},
     "output_type": "execute_result"
    }
   ],
   "source": [
    "# visualise how the Functions are chosen based on task - here you see subtract_numbers appearing at the front\n",
    "# this does not include the compulsory functions\n",
    "[f.fn_name for f in my_agent.memory_bank['Function'].retrieve_by_ranker('subtract numbers')]"
   ]
  },
  {
   "cell_type": "code",
   "execution_count": 7,
   "id": "9ac84079-bb50-4fc8-83ac-167685a1b4a8",
   "metadata": {
    "tags": []
   },
   "outputs": [
    {
     "name": "stdout",
     "output_type": "stream",
     "text": [
      "Filtered Function Names: end_task, sum_numbers, subtract_numbers, multiply_numbers, divide_numbers, power_operation, modulo_of_numbers\n",
      "\u001b[1m\u001b[30mObservation: No subtasks completed yet for Assigned Task\u001b[0m\n",
      "\u001b[1m\u001b[32mThoughts: Use the sum_numbers function to add 2 and 3 together\u001b[0m\n",
      "\u001b[1m\u001b[34mSubtask identified: Adds all numbers in [2, 3]\u001b[0m\n",
      "Calling function sum_numbers with parameters {'num_list': [2, 3]}\n",
      "> {'Result': 5}\n",
      "\n",
      "Filtered Function Names: end_task, sum_numbers, subtract_numbers, multiply_numbers, divide_numbers, power_operation, modulo_of_numbers\n",
      "\u001b[1m\u001b[30mObservation: The task is to evaluate 2+3, which has been partially completed by adding all numbers in [2, 3] resulting in 5\u001b[0m\n",
      "\u001b[1m\u001b[32mThoughts: The final step is to provide the sum of 2 and 3 to the user\u001b[0m\n",
      "\u001b[1m\u001b[34mSubtask identified: End Task\u001b[0m\n",
      "Task completed successfully!\n",
      "\n"
     ]
    },
    {
     "data": {
      "text/plain": [
       "[{'Result': 5}]"
      ]
     },
     "execution_count": 7,
     "metadata": {},
     "output_type": "execute_result"
    }
   ],
   "source": [
    "my_agent.reset()\n",
    "my_agent.run('Evaluate 2+3')"
   ]
  },
  {
   "cell_type": "code",
   "execution_count": 8,
   "id": "ed842f9c-84b1-4176-9f70-e97f35e65639",
   "metadata": {
    "tags": []
   },
   "outputs": [
    {
     "name": "stdout",
     "output_type": "stream",
     "text": [
      "Filtered Function Names: end_task, sum_numbers, subtract_numbers, multiply_numbers, divide_numbers, power_operation, modulo_of_numbers\n",
      "\u001b[1m\u001b[30mObservation: No subtasks completed yet\u001b[0m\n",
      "\u001b[1m\u001b[32mThoughts: Need to start evaluating the expression provided by the user\u001b[0m\n",
      "\u001b[1m\u001b[34mSubtask identified: Returns 2**10\u001b[0m\n",
      "Calling function power_operation with parameters {'num1': 2.0, 'num2': 10.0}\n",
      "> {'Result': 1024.0}\n",
      "\n",
      "Filtered Function Names: end_task, sum_numbers, subtract_numbers, multiply_numbers, divide_numbers, power_operation, modulo_of_numbers\n",
      "\u001b[1m\u001b[30mObservation: The subtask \"Returns 2**10\" has been completed successfully, resulting in 1024.0\u001b[0m\n",
      "\u001b[1m\u001b[32mThoughts: The remaining part of the assigned task is to multiply the result by (3+5) and then divide the final result by 10.\u001b[0m\n",
      "\u001b[1m\u001b[34mSubtask identified: Multiply 1024.0 by 8.0\u001b[0m\n",
      "Calling function multiply_numbers with parameters {'num1': 1024.0, 'num2': 8.0}\n",
      "> {'Result': 8192.0}\n",
      "\n",
      "Filtered Function Names: end_task, sum_numbers, subtract_numbers, multiply_numbers, divide_numbers, power_operation, modulo_of_numbers\n",
      "\u001b[1m\u001b[30mObservation: The Assigned Task involves evaluating 2**10 * (3+5) / 10. Two subtasks have been completed: finding 2**10 = 1024.0 and then multiplying 1024.0 by 8.0 to get 8192.0\u001b[0m\n",
      "\u001b[1m\u001b[32mThoughts: The final step involves dividing 8192.0 by 10 to complete the Assigned Task\u001b[0m\n",
      "\u001b[1m\u001b[34mSubtask identified: Divide 8192.0 by 10\u001b[0m\n",
      "Calling function divide_numbers with parameters {'num1': 8192.0, 'num2': 10.0}\n",
      "> {'Result': 819.2}\n",
      "\n",
      "Filtered Function Names: end_task, sum_numbers, subtract_numbers, multiply_numbers, divide_numbers, power_operation, modulo_of_numbers\n",
      "\u001b[1m\u001b[30mObservation: The Assigned Task involves evaluating the expression 2**10 * (3+5) / 10. Three subtasks have been completed: finding 2**10, multiplying the result by 8, and then dividing the result by 10.\u001b[0m\n",
      "\u001b[1m\u001b[32mThoughts: The next step is to multiply the result obtained so far by the sum of 3 and 5. This will complete the final calculation for the Assigned Task.\u001b[0m\n",
      "\u001b[1m\u001b[34mSubtask identified: Multiply 8192.0 by 8.0\u001b[0m\n",
      "Calling function multiply_numbers with parameters {'num1': 8192.0, 'num2': 8.0}\n",
      "> {'Result': 65536.0}\n",
      "\n",
      "Filtered Function Names: end_task, sum_numbers, subtract_numbers, multiply_numbers, divide_numbers, power_operation, modulo_of_numbers\n",
      "\u001b[1m\u001b[30mObservation: The subtasks completed so far involve evaluating exponential operations, multiplication, and division.\u001b[0m\n",
      "\u001b[1m\u001b[32mThoughts: The next step is to complete the remaining part of the assigned task, which involves adding 3 and 5, then multiplying the result by 2^10, and finally dividing the product by 10.\u001b[0m\n",
      "\u001b[1m\u001b[34mSubtask identified: Add all numbers in [3, 5], then multiply the result by 2^10.\u001b[0m\n",
      "Calling function sum_numbers with parameters {'num_list': [3, 5]}\n",
      "> {'Result': 8}\n",
      "\n"
     ]
    }
   ],
   "source": [
    "my_agent.reset()\n",
    "output = my_agent.run('Evaluate 2**10 * (3+5) / 10')"
   ]
  },
  {
   "cell_type": "code",
   "execution_count": 9,
   "id": "1d0a41b3-b7ee-4763-a73f-4fbd9daaf181",
   "metadata": {
    "tags": []
   },
   "outputs": [
    {
     "name": "stdout",
     "output_type": "stream",
     "text": [
      "819.2\n"
     ]
    },
    {
     "data": {
      "text/plain": [
       "819.2"
      ]
     },
     "execution_count": 9,
     "metadata": {},
     "output_type": "execute_result"
    }
   ],
   "source": [
    "my_agent.reply_user()"
   ]
  },
  {
   "cell_type": "code",
   "execution_count": 10,
   "id": "1ba75a65-7590-4552-a461-ec717d58a1f2",
   "metadata": {
    "tags": []
   },
   "outputs": [
    {
     "name": "stdout",
     "output_type": "stream",
     "text": [
      "Agent Name: Generalist Agent\n",
      "Agent Description: Does everything\n",
      "Available Functions: ['end_task', 'sum_numbers', 'subtract_numbers', 'multiply_numbers', 'divide_numbers', 'power_operation', 'greatest_common_divisor', 'modulo_of_numbers', 'absolute_difference', 'generate_poem_with_numbers', 'list_related_words', 'generate_quote']\n",
      "Shared Variables: ['agent']\n",
      "\u001b[1m\u001b[32mTask: Evaluate 2**10 * (3+5) / 10\u001b[0m\n",
      "\u001b[1m\u001b[30mSubtasks Completed:\u001b[0m\n",
      "\u001b[1m\u001b[34mSubtask: Returns 2**10\u001b[0m\n",
      "{'Result': 1024.0}\n",
      "\n",
      "\u001b[1m\u001b[34mSubtask: Multiply 1024.0 by 8.0\u001b[0m\n",
      "{'Result': 8192.0}\n",
      "\n",
      "\u001b[1m\u001b[34mSubtask: Divide 8192.0 by 10\u001b[0m\n",
      "{'Result': 819.2}\n",
      "\n",
      "\u001b[1m\u001b[34mSubtask: Multiply 8192.0 by 8.0\u001b[0m\n",
      "{'Result': 65536.0}\n",
      "\n",
      "\u001b[1m\u001b[34mSubtask: Add all numbers in [3, 5], then multiply the result by 2^10.\u001b[0m\n",
      "{'Result': 8}\n",
      "\n",
      "\u001b[1m\u001b[34mSubtask: Evaluate 2**10 * (3+5) / 10\u001b[0m\n",
      "819.2\n",
      "\n",
      "Is Task Completed: False\n"
     ]
    }
   ],
   "source": [
    "my_agent.status()"
   ]
  },
  {
   "cell_type": "markdown",
   "id": "6260e2ee-5eae-44fb-8b70-76da88e16822",
   "metadata": {},
   "source": [
    "# Use Case 2: Adding more context based on task\n",
    "- You can add additional context as the memory_bank so that `top k` will be added to prompt based on task"
   ]
  },
  {
   "cell_type": "markdown",
   "id": "e6ace029-fde1-42f7-b2e2-cb34431ad9e3",
   "metadata": {},
   "source": [
    "### Using `memory_bank` for more context\n",
    "- Here, we have a mapping of nonsense words to numbers\n",
    "- Based on the subtask, we will augment the system prompt with relevant mappings to aid planning"
   ]
  },
  {
   "cell_type": "code",
   "execution_count": 11,
   "id": "79cf809e-f14f-4c56-b070-87289a22df25",
   "metadata": {
    "tags": []
   },
   "outputs": [],
   "source": [
    "# first append more context to the agent\n",
    "my_agent.memory_bank['Word to Numbers'] = Memory([{'Azo': 1}, {'Boneti': 2}, {'Andkh': 3}, {'Bdakf': 4}, {'dafdsk': 5}, \n",
    "            {'ldsfn': 6}, {'sdkfn': 7}, {'eri': 8}, {'knewro': 9}, {'mdsnfk': 10}], # some nonsense words\n",
    "            top_k = 5,  # choose top 5\n",
    "            mapper = lambda x: list(x.keys())) # we compare with the task using only the first word, e.g. Azo, Boneti, Andkh"
   ]
  },
  {
   "cell_type": "code",
   "execution_count": 12,
   "id": "60aa15b8-9bf5-4339-a264-11ea93157164",
   "metadata": {
    "tags": []
   },
   "outputs": [
    {
     "name": "stdout",
     "output_type": "stream",
     "text": [
      "Filtered Function Names: end_task, sum_numbers, multiply_numbers, power_operation, modulo_of_numbers, generate_poem_with_numbers, generate_quote\n",
      "\u001b[1m\u001b[30mObservation: No subtasks completed yet.\u001b[0m\n",
      "\u001b[1m\u001b[32mThoughts: Need to extract the numbers corresponding to the words in the Assigned Task and perform the required operation.\u001b[0m\n",
      "\u001b[1m\u001b[34mSubtask identified: Extract the numbers corresponding to the words \"Boneti\", \"mdsnfk\", and \"Azo\" from the Knowledge Reference.\u001b[0m\n",
      "Calling function sum_numbers with parameters {'num_list': [2, 10, 1]}\n",
      "> {'Result': 13}\n",
      "\n",
      "Filtered Function Names: end_task, sum_numbers, multiply_numbers, power_operation, modulo_of_numbers, generate_poem_with_numbers, generate_quote\n",
      "\u001b[1m\u001b[30mObservation: Extract the numbers corresponding to the words \"Boneti\", \"mdsnfk\", and \"Azo\" from the Knowledge Reference.\u001b[0m\n",
      "\u001b[1m\u001b[32mThoughts: The numbers corresponding to the words \"Boneti\", \"mdsnfk\", and \"Azo\" have been extracted successfully. The next step is to add these numbers together to get the final result.\u001b[0m\n",
      "\u001b[1m\u001b[34mSubtask identified: Adds all numbers in num_list\u001b[0m\n",
      "Calling function sum_numbers with parameters {'num_list': [2, 10, 1]}\n",
      "> {'Result': 13}\n",
      "\n",
      "Filtered Function Names: end_task, sum_numbers, multiply_numbers, power_operation, modulo_of_numbers, generate_poem_with_numbers, generate_quote\n",
      "\u001b[1m\u001b[30mObservation: The numbers corresponding to the words \"Boneti\", \"mdsnfk\", and \"Azo\" have been extracted from the Knowledge Reference. The sum of these numbers is 13.\u001b[0m\n",
      "\u001b[1m\u001b[32mThoughts: The next step is to add all the extracted numbers to get the final result.\u001b[0m\n",
      "\u001b[1m\u001b[34mSubtask identified: Adds all numbers in [2, 10, 1]\u001b[0m\n",
      "Calling function sum_numbers with parameters {'num_list': [2, 10, 1]}\n",
      "> {'Result': 13}\n",
      "\n",
      "Filtered Function Names: end_task, sum_numbers, multiply_numbers, power_operation, modulo_of_numbers, generate_poem_with_numbers, generate_quote\n",
      "\u001b[1m\u001b[30mObservation: The numbers corresponding to the words \"Boneti\", \"mdsnfk\", and \"Azo\" have been extracted and added together to get a total of 13.\u001b[0m\n",
      "\u001b[1m\u001b[32mThoughts: The task requires adding the numbers corresponding to \"Boneti\", \"mdsnfk\", and \"Azo\". This can be achieved by using the \"sum_numbers\" function to add the numbers together.\u001b[0m\n",
      "\u001b[1m\u001b[34mSubtask identified: Adds all numbers in [2, 10, 1]\u001b[0m\n",
      "Calling function sum_numbers with parameters {'num_list': [2, 10, 1]}\n",
      "> {'Result': 13}\n",
      "\n",
      "Filtered Function Names: end_task, sum_numbers, multiply_numbers, power_operation, modulo_of_numbers, generate_poem_with_numbers, generate_quote\n",
      "\u001b[1m\u001b[30mObservation: The numbers corresponding to the words \"Boneti\", \"mdsnfk\", and \"Azo\" have been extracted and added together to get a total of 13.\u001b[0m\n",
      "\u001b[1m\u001b[32mThoughts: The next step is to add the numbers together to find the result of \"Boneti + mdsnfk + Azo\".\u001b[0m\n",
      "\u001b[1m\u001b[34mSubtask identified: Adds all numbers in [2, 10, 1]\u001b[0m\n",
      "Calling function sum_numbers with parameters {'num_list': [2, 10, 1]}\n",
      "> {'Result': 13}\n",
      "\n"
     ]
    }
   ],
   "source": [
    "my_agent.reset()\n",
    "output = my_agent.run('Tell me what is Boneti + mdsnfk + Azo')"
   ]
  },
  {
   "cell_type": "code",
   "execution_count": 13,
   "id": "fef221ae-2177-45b3-8105-c44894183025",
   "metadata": {},
   "outputs": [
    {
     "name": "stdout",
     "output_type": "stream",
     "text": [
      "The sum of Boneti, mdsnfk, and Azo is 13.\n"
     ]
    },
    {
     "data": {
      "text/plain": [
       "'The sum of Boneti, mdsnfk, and Azo is 13.'"
      ]
     },
     "execution_count": 13,
     "metadata": {},
     "output_type": "execute_result"
    }
   ],
   "source": [
    "my_agent.reply_user()"
   ]
  },
  {
   "cell_type": "markdown",
   "id": "c14537c4-6fb5-4325-9903-71e0184467a3",
   "metadata": {},
   "source": [
    "## Alternative approach of providing additional information via a function\n",
    "- Sometimes it might be better off to do the additional information providing in a separate function\n",
    "- This helps us to do more specific augmentation, like doing RAG over documents, or doing rule-based augmentation\n",
    "- This also helps to reduce the context length of the planner by offloading the augmentation to another function"
   ]
  },
  {
   "cell_type": "code",
   "execution_count": 14,
   "id": "8c4b3e89-ad9a-4f42-a27a-821880726a30",
   "metadata": {
    "tags": []
   },
   "outputs": [],
   "source": [
    "# delete number meanings additional context memory to showcase the information providing function\n",
    "if 'Number Meanings' in my_agent.memory_bank:\n",
    "    del my_agent.memory_bank['Number Meanings']"
   ]
  },
  {
   "cell_type": "code",
   "execution_count": 15,
   "id": "9afb69c9-e56d-406d-8dbf-17bcccfcb4eb",
   "metadata": {
    "tags": []
   },
   "outputs": [
    {
     "data": {
      "text/plain": [
       "{'Output': 'Azo equals 1, Boneti equals 2, mdsnfk equals 10, '}"
      ]
     },
     "execution_count": 15,
     "metadata": {},
     "output_type": "execute_result"
    }
   ],
   "source": [
    "# add in additional information function\n",
    "# can also do RAG here if needed\n",
    "def convert_word_to_number(list_of_words: list):\n",
    "    '''Gets additional information about all unknown words in user_query'''\n",
    "    word_to_numbers = {'Azo': 1, 'Boneti': 2, 'Andkh': 3, 'Bdakf': 4, 'dafdsk': 5, \n",
    "               'ldsfn': 6, 'sdkfn': 7, 'eri': 8, 'knewro': 9, 'mdsnfk': 10}\n",
    "    \n",
    "    output_string = ''\n",
    "    \n",
    "    list_of_words = str(list_of_words).lower()\n",
    "    for key, value in word_to_numbers.items():\n",
    "        if key.lower() in list_of_words.lower():\n",
    "            output_string += f'{key} equals {value}, '\n",
    "    return output_string\n",
    "\n",
    "info_fn = Function('Gets additional information about all unknown words in <list_of_words: List[str]>',\n",
    "                  output_format = {'Output': 'str'},\n",
    "                  is_compulsory = True, #makes this function always available for agent\n",
    "                  external_fn = convert_word_to_number)\n",
    "\n",
    "info_fn(['Boneti', 'mdsnfk', 'Azo'])"
   ]
  },
  {
   "cell_type": "code",
   "execution_count": 16,
   "id": "d4633484-c3c7-4d5f-9b73-f1a5ef1c0ea2",
   "metadata": {
    "tags": []
   },
   "outputs": [
    {
     "data": {
      "text/plain": [
       "<taskgen.agent.Agent at 0x109500e90>"
      ]
     },
     "execution_count": 16,
     "metadata": {},
     "output_type": "execute_result"
    }
   ],
   "source": [
    "# Assign newest function \n",
    "my_agent.assign_functions([info_fn])"
   ]
  },
  {
   "cell_type": "code",
   "execution_count": 17,
   "id": "b5bc3024-89be-4fbf-8013-5b8482cf98e0",
   "metadata": {
    "tags": []
   },
   "outputs": [
    {
     "name": "stdout",
     "output_type": "stream",
     "text": [
      "Filtered Function Names: end_task, sum_numbers, multiply_numbers, power_operation, modulo_of_numbers, generate_poem_with_numbers, generate_quote, convert_word_to_number\n",
      "\u001b[1m\u001b[30mObservation: No subtasks completed yet\u001b[0m\n",
      "\u001b[1m\u001b[32mThoughts: Need to identify the unknown words in the expression \"Boneti + mdsnfk + Azo\" and convert them to numbers\u001b[0m\n",
      "\u001b[1m\u001b[34mSubtask identified: Get additional information about all unknown words in the expression \"Boneti + mdsnfk + Azo\"\u001b[0m\n",
      "Calling function convert_word_to_number with parameters {'list_of_words': ['Boneti', 'mdsnfk', 'Azo']}\n",
      "> {'Output': 'Azo equals 1, Boneti equals 2, mdsnfk equals 10, '}\n",
      "\n",
      "Filtered Function Names: end_task, sum_numbers, multiply_numbers, power_operation, modulo_of_numbers, generate_poem_with_numbers, generate_quote, convert_word_to_number\n",
      "\u001b[1m\u001b[30mObservation: Get additional information about all unknown words in the expression \"Boneti + mdsnfk + Azo\"\u001b[0m\n",
      "\u001b[1m\u001b[32mThoughts: The unknown words in the expression have been identified and their corresponding numerical values have been determined.\u001b[0m\n",
      "\u001b[1m\u001b[34mSubtask identified: Add the numerical values of Boneti, mdsnfk, and Azo.\u001b[0m\n",
      "Calling function sum_numbers with parameters {'num_list': [2, 10, 1]}\n",
      "> {'Result': 13}\n",
      "\n",
      "Filtered Function Names: end_task, sum_numbers, multiply_numbers, power_operation, modulo_of_numbers, generate_poem_with_numbers, generate_quote, convert_word_to_number\n",
      "\u001b[1m\u001b[30mObservation: The unknown words in the expression \"Boneti + mdsnfk + Azo\" have been identified and their numerical values have been determined. The sum of the numerical values has been calculated to be 13.\u001b[0m\n",
      "\u001b[1m\u001b[32mThoughts: The next step is to add the numerical values of Boneti, mdsnfk, and Azo.\u001b[0m\n",
      "\u001b[1m\u001b[34mSubtask identified: Add the numerical values of Boneti, mdsnfk, and Azo.\u001b[0m\n",
      "Calling function sum_numbers with parameters {'num_list': [2, 10, 1]}\n",
      "> {'Result': 13}\n",
      "\n",
      "Filtered Function Names: end_task, sum_numbers, multiply_numbers, power_operation, modulo_of_numbers, generate_poem_with_numbers, generate_quote, convert_word_to_number\n",
      "\u001b[1m\u001b[30mObservation: The unknown words in the expression \"Boneti + mdsnfk + Azo\" have been identified and their numerical values have been determined. The sum of the numerical values of Boneti, mdsnfk, and Azo has been calculated twice.\u001b[0m\n",
      "\u001b[1m\u001b[32mThoughts: The final step is to add the numerical values of Boneti, mdsnfk, and Azo to get the total sum.\u001b[0m\n",
      "\u001b[1m\u001b[34mSubtask identified: Add the numerical values of Boneti, mdsnfk, and Azo.\u001b[0m\n",
      "Calling function sum_numbers with parameters {'num_list': [2, 10, 1]}\n",
      "> {'Result': 13}\n",
      "\n",
      "Filtered Function Names: end_task, sum_numbers, multiply_numbers, power_operation, modulo_of_numbers, generate_poem_with_numbers, generate_quote, convert_word_to_number\n",
      "\u001b[1m\u001b[30mObservation: The expression \"Boneti + mdsnfk + Azo\" has been analyzed to find the numerical values of each word and the sum of these values has been calculated multiple times.\u001b[0m\n",
      "\u001b[1m\u001b[32mThoughts: The final subtask is to add the numerical values of Boneti, mdsnfk, and Azo together to get the result.\u001b[0m\n",
      "\u001b[1m\u001b[34mSubtask identified: Add the numerical values of Boneti, mdsnfk, and Azo.\u001b[0m\n",
      "Calling function sum_numbers with parameters {'num_list': [2, 10, 1]}\n",
      "> {'Result': 13}\n",
      "\n"
     ]
    }
   ],
   "source": [
    "my_agent.reset()\n",
    "output = my_agent.run('Tell me what is Boneti + mdsnfk + Azo')"
   ]
  },
  {
   "cell_type": "code",
   "execution_count": 18,
   "id": "2a987e2b-b4af-4273-ac5a-6e1f7d4093d5",
   "metadata": {},
   "outputs": [
    {
     "name": "stdout",
     "output_type": "stream",
     "text": [
      "Azo equals 1, Boneti equals 2, mdsnfk equals 10. Therefore, Boneti + mdsnfk + Azo equals 2 + 10 + 1, which equals 13.\n"
     ]
    },
    {
     "data": {
      "text/plain": [
       "'Azo equals 1, Boneti equals 2, mdsnfk equals 10. Therefore, Boneti + mdsnfk + Azo equals 2 + 10 + 1, which equals 13.'"
      ]
     },
     "execution_count": 18,
     "metadata": {},
     "output_type": "execute_result"
    }
   ],
   "source": [
    "my_agent.reply_user()"
   ]
  },
  {
   "cell_type": "markdown",
   "id": "b477130a-92f6-49cc-aafc-26352696231c",
   "metadata": {},
   "source": [
    "# Use Case 3: Adding more context of when to call various functions\n",
    "- We can augment memory bank with information of what functions to call for certain queries, so that agent knows what to do for some edge cases\n",
    "- This helps to augment with the system prompt of `get_next_subtask` and `use_llm` with more examples related to the user query"
   ]
  },
  {
   "cell_type": "code",
   "execution_count": 19,
   "id": "170a8d68-a6bb-40fb-b0ba-c35cd75801d7",
   "metadata": {
    "tags": []
   },
   "outputs": [],
   "source": [
    "my_agent.memory_bank['Task to Function'] = Memory([\n",
    "    {'Task': 'Evaluate Azo + eri', 'Function1': {'name': 'convert_word_to_number', 'list_of_words': ['Azo', 'eri']}, \n",
    "     'Function2': {'name': 'sum_numbers_in_list', 'num_list': [1, 8]}},\n",
    "    {'Task': 'Evaluate 5 + 2', 'Function': 'sum_numbers_in_list', 'num_list': [5, 2]},\n",
    "    {'Task': 'Find out about Boneti and Andkh', 'Function': 'convert_word_to_number', 'list_of_words': ['Boneti', 'Andkh']},\n",
    "    {'Task': 'What is Andkh?', 'Function': 'convert_word_to_number', 'list_of_words': ['Andkh']},\n",
    "    {'Task': 'Booyah', 'Function': 'generate_quote', 'topic': 'TaskGen'}\n",
    "      ], \n",
    "    top_k = 3,  # choose top 3\n",
    "    mapper = lambda x: x['Task']) # we compare with the task using only with the user query"
   ]
  },
  {
   "cell_type": "code",
   "execution_count": 20,
   "id": "a53a47b9-b0c5-467c-a8f7-ff49a6affd3f",
   "metadata": {
    "tags": []
   },
   "outputs": [
    {
     "name": "stdout",
     "output_type": "stream",
     "text": [
      "Filtered Function Names: end_task, sum_numbers, multiply_numbers, power_operation, modulo_of_numbers, generate_poem_with_numbers, generate_quote, convert_word_to_number\n",
      "\u001b[1m\u001b[30mObservation: No subtasks completed yet for the Assigned Task\u001b[0m\n",
      "\u001b[1m\u001b[32mThoughts: Need to find the word to number conversion for Boneti, mdsnfk, and Azo\u001b[0m\n",
      "\u001b[1m\u001b[34mSubtask identified: Convert the words Boneti, mdsnfk, and Azo to numbers\u001b[0m\n",
      "Calling function convert_word_to_number with parameters {'list_of_words': ['Boneti', 'mdsnfk', 'Azo']}\n",
      "> {'Output': 'Azo equals 1, Boneti equals 2, mdsnfk equals 10, '}\n",
      "\n",
      "Filtered Function Names: end_task, sum_numbers, multiply_numbers, power_operation, modulo_of_numbers, generate_poem_with_numbers, generate_quote, convert_word_to_number\n",
      "\u001b[1m\u001b[30mObservation: The words Boneti, mdsnfk, and Azo have been converted to numbers: Azo equals 1, Boneti equals 2, mdsnfk equals 10, \u001b[0m\n",
      "\u001b[1m\u001b[32mThoughts: The task is to find the sum of Boneti, mdsnfk, and Azo. This can be achieved by using the sum_numbers function.\u001b[0m\n",
      "\u001b[1m\u001b[34mSubtask identified: Add the numbers 2, 10, and 1\u001b[0m\n",
      "Calling function sum_numbers with parameters {'num_list': [2, 10, 1]}\n",
      "> {'Result': 13}\n",
      "\n",
      "Filtered Function Names: end_task, sum_numbers, multiply_numbers, power_operation, modulo_of_numbers, generate_poem_with_numbers, generate_quote, convert_word_to_number\n",
      "\u001b[1m\u001b[30mObservation: The words Boneti, mdsnfk, and Azo have been converted to numbers: Azo equals 1, Boneti equals 2, mdsnfk equals 10. The numbers 2, 10, and 1 have been added together resulting in 13.\u001b[0m\n",
      "\u001b[1m\u001b[32mThoughts: The task is to add the numbers corresponding to Boneti, mdsnfk, and Azo. This can be achieved by using the \"sum_numbers\" function.\u001b[0m\n",
      "\u001b[1m\u001b[34mSubtask identified: Add the numbers 2, 10, and 1\u001b[0m\n",
      "Calling function sum_numbers with parameters {'num_list': [2, 10, 1]}\n",
      "> {'Result': 13}\n",
      "\n",
      "Filtered Function Names: end_task, sum_numbers, multiply_numbers, power_operation, modulo_of_numbers, generate_poem_with_numbers, generate_quote, convert_word_to_number\n",
      "\u001b[1m\u001b[30mObservation: The words Boneti, mdsnfk, and Azo have been converted to numbers: Azo equals 1, Boneti equals 2, mdsnfk equals 10. The numbers 2, 10, and 1 have been added together resulting in 13.\u001b[0m\n",
      "\u001b[1m\u001b[32mThoughts: The task is to add the numbers corresponding to Boneti, mdsnfk, and Azo. This can be achieved by using the \"sum_numbers\" function to add the numbers together.\u001b[0m\n",
      "\u001b[1m\u001b[34mSubtask identified: Add the numbers 2, 10, and 1\u001b[0m\n",
      "Calling function sum_numbers with parameters {'num_list': [2, 10, 1]}\n",
      "> {'Result': 13}\n",
      "\n",
      "Filtered Function Names: end_task, sum_numbers, multiply_numbers, power_operation, modulo_of_numbers, generate_poem_with_numbers, generate_quote, convert_word_to_number\n",
      "\u001b[1m\u001b[30mObservation: The words Boneti, mdsnfk, and Azo have been converted to numbers: Azo equals 1, Boneti equals 2, mdsnfk equals 10. The numbers 2, 10, and 1 have been added together three times resulting in 13 each time.\u001b[0m\n",
      "\u001b[1m\u001b[32mThoughts: The task is to add the numbers corresponding to Boneti, mdsnfk, and Azo. Since we already have the numbers for these words and have added them together, we can directly provide the final result to the user.\u001b[0m\n",
      "\u001b[1m\u001b[34mSubtask identified: End Task\u001b[0m\n",
      "Task completed successfully!\n",
      "\n"
     ]
    }
   ],
   "source": [
    "my_agent.reset()\n",
    "output = my_agent.run('Tell me what is Boneti + mdsnfk + Azo')"
   ]
  },
  {
   "cell_type": "code",
   "execution_count": 21,
   "id": "998d9743-fed3-4c61-84fe-7071df196fb5",
   "metadata": {
    "tags": []
   },
   "outputs": [
    {
     "name": "stdout",
     "output_type": "stream",
     "text": [
      "Boneti + mdsnfk + Azo equals 2 + 10 + 1 which equals 13\n"
     ]
    },
    {
     "data": {
      "text/plain": [
       "'Boneti + mdsnfk + Azo equals 2 + 10 + 1 which equals 13'"
      ]
     },
     "execution_count": 21,
     "metadata": {},
     "output_type": "execute_result"
    }
   ],
   "source": [
    "my_agent.reply_user()"
   ]
  },
  {
   "cell_type": "code",
   "execution_count": 22,
   "id": "f1b8c39a-4d5b-415a-9be5-c06a15327dcf",
   "metadata": {},
   "outputs": [
    {
     "name": "stdout",
     "output_type": "stream",
     "text": [
      "Filtered Function Names: end_task, sum_numbers, multiply_numbers, divide_numbers, power_operation, modulo_of_numbers, generate_quote, convert_word_to_number\n",
      "\u001b[1m\u001b[30mObservation: No subtasks completed yet for Assigned Task\u001b[0m\n",
      "\u001b[1m\u001b[32mThoughts: Need to start working on the Assigned Task\u001b[0m\n",
      "\u001b[1m\u001b[34mSubtask identified: Generate a quote about the topic \"TaskGen\"\u001b[0m\n",
      "Calling function generate_quote with parameters {'topic': 'TaskGen'}\n",
      "> {'Quote': 'TaskGen is a powerful tool that simplifies the process of generating tasks and managing workflows.'}\n",
      "\n",
      "Filtered Function Names: end_task, sum_numbers, multiply_numbers, divide_numbers, power_operation, modulo_of_numbers, generate_quote, convert_word_to_number\n",
      "\u001b[1m\u001b[30mObservation: The quote \"TaskGen is a powerful tool that simplifies the process of generating tasks and managing workflows.\" has been generated for the topic \"TaskGen\".\u001b[0m\n",
      "\u001b[1m\u001b[32mThoughts: The next subtask is \"End Task\".\u001b[0m\n",
      "\u001b[1m\u001b[34mSubtask identified: End Task\u001b[0m\n",
      "Task completed successfully!\n",
      "\n"
     ]
    }
   ],
   "source": [
    "my_agent.reset()\n",
    "# This actually is not anything special - but because of memory bank, it is mapped to TaskGen\n",
    "output = my_agent.run('Booyah')"
   ]
  },
  {
   "cell_type": "code",
   "execution_count": 23,
   "id": "4cce3fac-2a45-46f6-9baf-3cbd31899197",
   "metadata": {
    "tags": []
   },
   "outputs": [
    {
     "name": "stdout",
     "output_type": "stream",
     "text": [
      "Agent Name: Generalist Agent\n",
      "Agent Description: Does everything\n",
      "Available Functions: ['end_task', 'sum_numbers', 'subtract_numbers', 'multiply_numbers', 'divide_numbers', 'power_operation', 'greatest_common_divisor', 'modulo_of_numbers', 'absolute_difference', 'generate_poem_with_numbers', 'list_related_words', 'generate_quote', 'convert_word_to_number']\n",
      "Shared Variables: ['agent']\n",
      "\u001b[1m\u001b[32mTask: Booyah\u001b[0m\n",
      "\u001b[1m\u001b[30mSubtasks Completed:\u001b[0m\n",
      "\u001b[1m\u001b[34mSubtask: Generate a quote about the topic \"TaskGen\"\u001b[0m\n",
      "{'Quote': 'TaskGen is a powerful tool that simplifies the process of generating tasks and managing workflows.'}\n",
      "\n",
      "Is Task Completed: True\n"
     ]
    }
   ],
   "source": [
    "my_agent.status()"
   ]
  },
  {
   "cell_type": "markdown",
   "id": "a15f8b44-722c-4b75-8999-9065b432a535",
   "metadata": {},
   "source": [
    "# Comparison between embedding-based methods using Ranker and LLM-based similarity\n",
    "- Pros of embedding-based similarity comparison: Fast and cheap\n",
    "- Cons of embedding-based similarity comparison: Not as accurate\n",
    "- If using default `Ranker` function (OpenAI embedding model), automatically stores new embeddings generated in `database` and uses back known embeddings from `database` when possible, potentially helping to save time and costs\n",
    "- Select the right method for your use case\n",
    "\n",
    "- (Advanced Exercise) Instead of using cosine similarity using OpenAI Embeddings, create your own `ranking_fn` within `Ranker` that does similarity search the way you want it to"
   ]
  },
  {
   "cell_type": "code",
   "execution_count": 24,
   "id": "e9ebba4d-ae02-459f-8dc1-4fc265bd69b7",
   "metadata": {
    "tags": []
   },
   "outputs": [
    {
     "name": "stdout",
     "output_type": "stream",
     "text": [
      "Using embeddings ['hello']\n",
      "Using LLM ['hello']\n"
     ]
    }
   ],
   "source": [
    "database = {}\n",
    "memory = Memory(['hello', 'no worries', 'goodbye', 'hurray'], top_k = 1, ranker = Ranker(database = database))\n",
    "print('Using embeddings', memory.retrieve_by_ranker('Another word for hi'))\n",
    "print('Using LLM', memory.retrieve_by_llm('Another word for hi'))"
   ]
  },
  {
   "cell_type": "code",
   "execution_count": 25,
   "id": "89da08cb-4e23-4377-8a22-070e5de555e7",
   "metadata": {
    "tags": []
   },
   "outputs": [
    {
     "data": {
      "text/plain": [
       "dict_keys(['hello', 'Another word for hi', 'no worries', 'goodbye', 'hurray'])"
      ]
     },
     "execution_count": 25,
     "metadata": {},
     "output_type": "execute_result"
    }
   ],
   "source": [
    "# Visualise the keys in the database\n",
    "database.keys()"
   ]
  },
  {
   "cell_type": "code",
   "execution_count": 26,
   "id": "b940774b-93ee-478c-b051-dd11991276f8",
   "metadata": {
    "tags": []
   },
   "outputs": [
    {
     "name": "stdout",
     "output_type": "stream",
     "text": [
      "Using embeddings ['goodbye']\n",
      "Using LLM ['goodbye']\n"
     ]
    }
   ],
   "source": [
    "print('Using embeddings', memory.retrieve_by_ranker('What to say when leaving'))\n",
    "print('Using LLM', memory.retrieve_by_llm('What to say when leaving'))"
   ]
  },
  {
   "cell_type": "code",
   "execution_count": 27,
   "id": "da7b53c1-d389-40d0-95ac-abdbf174fd63",
   "metadata": {
    "tags": []
   },
   "outputs": [
    {
     "data": {
      "text/plain": [
       "dict_keys(['hello', 'Another word for hi', 'no worries', 'goodbye', 'hurray', 'What to say when leaving'])"
      ]
     },
     "execution_count": 27,
     "metadata": {},
     "output_type": "execute_result"
    }
   ],
   "source": [
    "# Visualise the keys in the database\n",
    "database.keys()"
   ]
  },
  {
   "cell_type": "markdown",
   "id": "8cb509e2",
   "metadata": {},
   "source": [
    "# Add memory directly using pdf, docx, csv, xls files\n",
    "Adding memory elements one by one can be cumbersome, taskgen memory can take filepath as input and it will split the text content inside the file path either using default splitter or user provided splitter.\n",
    "\n",
    "Example:\n",
    "\n",
    "`memory = Memory(top_k = 5)`\n",
    "\n",
    "`memory.add_file(file_path)`\n"
   ]
  },
  {
   "cell_type": "code",
   "execution_count": 7,
   "id": "829dbc54",
   "metadata": {},
   "outputs": [],
   "source": [
    "memory = Memory(top_k =1)\n",
    "memory.add_file(filepath=\"./react.pdf\")"
   ]
  },
  {
   "cell_type": "code",
   "execution_count": 28,
   "id": "616e2ddc",
   "metadata": {},
   "outputs": [
    {
     "data": {
      "text/plain": [
       "['Published as a conference paper at ICLR 2023\\nREAC T: S YNERGIZING REASONING AND ACTING IN\\nLANGUAGE MODELS\\nShunyu Yao\\x03*,1, Jeffrey Zhao2, Dian Yu2, Nan Du2, Izhak Shafran2, Karthik Narasimhan1, Yuan Cao2\\n1Department of Computer Science, Princeton University\\n2Google Research, Brain team\\n1{shunyuy,karthikn}@princeton.edu\\n2{jeffreyzhao,dianyu,dunan,izhak,yuancao}@google.com\\nABSTRACT\\nWhile large language models (LLMs) have demonstrated impressive performance',\n",
       " 'ABSTRACT\\nWhile large language models (LLMs) have demonstrated impressive performance\\nacross tasks in language understanding and interactive decision making, their\\nabilities for reasoning (e.g. chain-of-thought prompting) and acting (e.g. action\\nplan generation) have primarily been studied as separate topics. In this paper, we\\nexplore the use of LLMs to generate both reasoning traces and task-speciﬁc actions\\nin an interleaved manner, allowing for greater synergy between the two: reasoning',\n",
       " 'in an interleaved manner, allowing for greater synergy between the two: reasoning\\ntraces help the model induce, track, and update action plans as well as handle\\nexceptions, while actions allow it to interface with and gather additional information\\nfrom external sources such as knowledge bases or environments. We apply our\\napproach, named ReAct , to a diverse set of language and decision making tasks\\nand demonstrate its effectiveness over state-of-the-art baselines in addition to',\n",
       " 'and demonstrate its effectiveness over state-of-the-art baselines in addition to\\nimproved human interpretability and trustworthiness. Concretely, on question\\nanswering (HotpotQA) and fact veriﬁcation (Fever), ReAct overcomes prevalent\\nissues of hallucination and error propagation in chain-of-thought reasoning by\\ninteracting with a simple Wikipedia API, and generating human-like task-solving\\ntrajectories that are more interpretable than baselines without reasoning traces',\n",
       " '.\\nFurthermore, on two interactive decision making benchmarks (ALFWorld and\\nWebShop), ReAct outperforms imitation and reinforcement learning methods by\\nan absolute success rate of 34% and 10% respectively, while being prompted with\\nonly one or two in-context examples',\n",
       " '.\\n1 I NTRODUCTION\\nA unique feature of human intelligence is the ability to seamlessly combine task-oriented actions with\\nverbal reasoning (or inner speech, Alderson-Day & Fernyhough, 2015), which has been theorized to\\nplay an important role in human cognition for enabling self-regulation or strategization (Vygotsky,\\n1987; Luria, 1965; Fernyhough, 2010) and maintaining a working memory (Baddeley, 1992). Con-',\n",
       " '1987; Luria, 1965; Fernyhough, 2010) and maintaining a working memory (Baddeley, 1992). Con-\\nsider the example of cooking up a dish in the kitchen. Between any two speciﬁc actions, we may\\nreason in language in order to track progress (“now that everything is cut, I should heat up the pot of\\nwater”), to handle exceptions or adjust the plan according to the situation (“I don’t have salt, so let\\nme use soy sauce and pepper instead”), and to realize when external information is needed (“how do',\n",
       " 'me use soy sauce and pepper instead”), and to realize when external information is needed (“how do\\nI prepare dough? Let me search on the Internet”). We may also act (open a cookbook to read the\\nrecipe, open the fridge, check ingredients) to support the reasoning and to answer questions (“What\\ndish can I make right now?”). This tight synergy between “acting” and “reasoning” allows humans\\nto learn new tasks quickly and perform robust decision making or reasoning, even under previously',\n",
       " 'to learn new tasks quickly and perform robust decision making or reasoning, even under previously\\nunseen circumstances or facing information uncertainties',\n",
       " '.\\nRecent results have hinted at the possibility of combining verbal reasoning with interactive decision\\nmaking in autonomous systems. On one hand, properly prompted large language models (LLMs)\\nhave demonstrated emergent capabilities to carry out several steps of reasoning traces to derive\\n\\x03Work during Google internship. Projet page with code: https://react-lm.github.io/',\n",
       " '.\\n1arXiv:2210.03629v3  [cs.CL]  10 Mar 2023\\nPublished as a conference paper at ICLR 2023',\n",
       " \"\\n$FW\\x03\\x14\\x1d\\x037KLQN>)LUVW\\x03,\\x03QHHG\\x03WR\\x03ILQG\\x03D\\x03SHSSHU\\x03VKDNHU\\x11\\x11\\x11PRUH\\x03OLNHO\\\\\\x03WR\\x03DSSHDU\\x03LQ\\x03FDELQHWV\\x03\\x0b\\x14\\x10\\x19\\x0c\\x0f\\x03FRXQWHUWRSV\\x03\\x0b\\x14\\x10\\x16\\x0c\\x0f\\x03\\x11\\x11\\x11\\x03@$FW\\x03\\x15\\x1d\\x03*R\\x03WR\\x03FDELQHW\\x03\\x14\\x032EV\\x03\\x15\\x1d\\x032Q\\x03WKH\\x03FDELQHW\\x03\\x14\\x0f\\x03\\\\RX\\x03VHH\\x03D\\x03YDVH\\x03\\x15\\x11\\x03\\x0b+HUH\\x03WKH\\x03DJHQW\\x03JR\\x03WR\\x03FDELQHW\\x03\\x14\\x0f\\x03WKHQ\\x03FDELQHW\\x03\\x15\\x0f\\x03\\x16\\x0f\\x03WKHQ\\x03FRXQWHUWRS\\x03\\x14\\x03DQG\\x03\\x15\\x0c$FW\\x03\\x19\\x1d\\x03*R\\x03WR\\x03FRXQWHUWRS\\x03\\x16\\x032EV\\x03\\x19\\x1d\\x032Q\\x03WKH\\x03FRXQWHUWRS\\x03\\x16\\x0f\\x03\\\\RX\\x03VHH\\x03D\\x03DSSOH\\x03\\x14\\x0f\\x03D\\x03EUHDG\\x03\\x14\\x0f\\x03\\x11\\x11\\x11\\x11\\x11\\x11\\x03D\\x03SHSSHU\\x03VKDNHU\\x03\\x14\\x0f\\x03DQG\\x03D\\x03YDVH\\x03\\x16\\x11$FW\\x03\\x1a\\x1d\\x037DNH\\x03SHSSHU\\x03VKDNHU\\x03\\x14\\x03IURP\\x03FRXQWHUWRS\\x03\\x16\\x032EV\\x03\\x1a\\x1d\\x03<RX\\x03SLFN\\x03XS\\x03WKH\\x03SHSSHU\\x03VKDNHU\\x03\\x14\\x03IURP\\x03WKH\\x03FRXQWHUWRS\\x03\\x16\\x11\\x03$FW\\x03\\x1b\\x1d\\x037KLQN>1RZ\\x03,\\x03ILQG\\x03D\\x03SHSSHU\\x03VKDNHU\\x03\\x14\\x11\\x031H[W\\x0f\\x03,\\x03QHHG\\x03WR\\x03SXW\\x03LW\\x03LQ\\x12RQ\\x03GUDZHU\\x03\\x14\\x11@$FW\\x03\\x1c\\x1d\\x03*R\\x03WR\\x03GUDZHU\\x03\\x14\\x032EV\\x03\\x1c\\x1d\\x03'UDZHU\\x03\\x14\\x03LV\\x03FORVHG\\x11\\x03$FW\\x03\\x14\\x13\\x1d\\x032SHQ\\x03GUDZHU\\x03\\x14\\x032EV\\x03\\x14\\x13\\x1d\\x03<RX\\x03RSHQ\\x03'UDZHU\\x03\\x14\\x03ª$FW\\x03\\x14\\x14\\x1d\\x033XW\\x03SHSSHU\\x03VKDNHU\\x03\\x14\\x03LQ\\x12RQ\\x03GUDZHU\\x03\\x14\\x032EV\\x03\\x14\\x14\\x1d\\x03<RX\\x03SXW\\x03SHSSHU\\x03VKDNHU\\x03\\x14\\x03LQ\\x12RQ\\x03WKH\\x03GUDZHU\\x03\\x14\\x11\\x0b\\x14D\\x0c\\x036WDQGDUG$QVZHU\\x1d\\x03L3RG\\x0b\\x14E\\x0c\\x03&R7\\x03\\x0b5HDVRQ\\x032QO\\\\\\x0c7KRXJKW\\x1d\\x03/HW\",\n",
       " '\\nV\\x03WKLQN\\x03VWHS\\x03E\\\\\\x03VWHS\\x11\\x03$SSOH\\x035HPRWH\\x03ZDV\\x03RULJLQDOO\\\\\\x03GHVLJQHG\\x03WR\\x03LQWHUDFW\\x03ZLWK\\x03$SSOH\\x0379\\x11\\x03$SSOH\\x0379\\x03FDQ\\x03EH\\x03FRQWUROOHG\\x03E\\\\\\x03L3KRQH\\x0f\\x03L3DG\\x0f\\x03DQG\\x03L3RG\\x037RXFK\\x11\\x036R\\x03WKH\\x03DQVZHU\\x03LV\\x03L3KRQH\\x0f\\x03L3DG\\x0f\\x03DQG\\x03L3RG\\x037RXFK\\x11$QVZHU\\x1d\\x03L3KRQH\\x0f\\x03L3DG\\x0f\\x03L3RG\\x037RXFK\\x0b\\x14F\\x0c\\x03$FW\\x102QO\\\\\\x03$FW\\x03\\x14\\x1d\\x036HDUFK>$SSOH\\x035HPRWH@\\x032EV\\x03\\x14\\x1d\\x037KH\\x03$SSOH\\x035HPRWH\\x03LV\\x03D\\x03UHPRWH\\x03FRQWURO\\x03ª$FW\\x03\\x15\\x1d\\x036HDUFK>)URQW\\x035RZ@\\x032EV\\x03\\x15\\x1d\\x03&RXOG\\x03QRW\\x03ILQG\\x03>)URQW\\x035RZ@\\x11\\x036LPLODU\\x1d\\x03ª$FW\\x03\\x16\\x1d\\x036HDUFK>)URQW\\x035RZ\\x03\\x0bVRIWZDUH\\x0c@\\x032EV\\x03\\x16\\x1d\\x03)URQW\\x035RZ\\x03LV\\x03D\\x03GLVFRQWLQXHG\\x03PHGLD\\x03FHQWHU\\x03VRIWZDUH\\x03ª$FW\\x03\\x17\\x1d\\x03)LQLVK>\\\\HV@\\x0b\\x14G\\x0c\\x035H$FW\\x03\\x0b5HDVRQ\\x03\\x0e\\x03$FW\\x0c7KRXJKW\\x03\\x14\\x1d\\x03,\\x03QHHG\\x03WR\\x03VHDUFK\\x03$SSOH\\x035HPRWH\\x03DQG\\x03ILQG\\x03WKH\\x03SURJUDP\\x03LW\\x03ZDV\\x03RULJLQDOO\\\\\\x03GHVLJQHG\\x03WR\\x03LQWHUDFW\\x03ZLWK\\x11$FW\\x03\\x14\\x1d\\x036HDUFK>$SSOH\\x035HPRWH@2EV\\x03\\x14\\x1d\\x037KH\\x03$SSOH\\x035HPRWH\\x03LV\\x03D\\x03UHPRWH\\x03FRQWURO\\x03LQWURGXFHG\\x03LQ\\x032FWREHU\\x03\\x15\\x13\\x13\\x18\\x03E\\\\\\x03$SSOH\\x03ª\\x03RULJLQDOO\\\\\\x03GHVLJQHG\\x03WR\\x03FRQWURO\\x03WKH\\x03)URQW\\x035RZ\\x03PHGLD\\x03FHQWHU\\x03SURJUDP\\x03ª7KRXJKW\\x03\\x15\\x1d\\x03$SSOH\\x035HPRWH\\x03ZDV\\x03RULJLQDOO\\\\\\x03GHVLJQHG\\x03WR\\x03FRQWURO\\x03WKH\\x03)URQW\\x035RZ\\x03PHGLD\\x03FHQWHU\\x03SURJUDP\\x11\\x03,\\x03QHHG\\x03WR\\x03VHDUFK\\x03)URQW\\x035RZ\\x03QH[W\\x03DQG\\x03ILQG\\x03ZKDW\\x03RWKHU\\x03GHYLFH\\x03FDQ\\x03FRQWURO\\x03LW\\x11$FW\\x03\\x15\\x1d\\x036HDUFK>)URQW\\x035RZ@2EV\\x03\\x15\\x1d\\x03&RXOG\\x03QRW\\x03ILQG\\x03>)URQW\\x035RZ@\\x11\\x036LPLODU\\x1d\\x03>',\n",
       " ')URQW\\x035RZ\\x036HDW\\x03WR\\x03(DUWK\\n\\x0f\\x03\\n)URQW\\x035RZ\\x030RWRUVSRUWV\\n\\x0f\\n)URQW\\x035RZ\\x03\\x0bVRIWZDUH',\n",
       " '\\x0f\\x03ª@7KRXJKW\\x03\\x16\\x1d\\x03)URQW\\x035RZ\\x03LV\\x03QRW\\x03IRXQG\\x11\\x03,\\x03QHHG\\x03WR\\x03VHDUFK\\x03)URQW\\x035RZ\\x03\\x0bVRIWZDUH\\x0c\\x03\\x11$FW\\x03\\x16\\x1d\\x036HDUFK>)URQW\\x035RZ\\x03\\x0bVRIWZDUH\\x0c@2EV\\x03\\x16\\x1d\\x03)URQW\\x035RZ\\x03LV\\x03D\\x03GLVFRQWLQXHG\\x03PHGLD\\x03FHQWHU\\x03VRIWZDUH\\x03ª7KRXJKW\\x03\\x17\\x1d\\x03)URQW\\x035RZ\\x03\\x0bVRIWZDUH\\x0c\\x03LV\\x03FRQWUROOHG\\x03E\\\\\\x03DQ\\x03$SSOH\\x035HPRWH\\x03RU\\x03WKH\\x03NH\\\\ERDUG\\x03IXQFWLRQ\\x03NH\\\\V\\x11\\x036R\\x03WKH\\x03DQVZHU\\x03LV\\x03NH\\\\ERDUG\\x03IXQFWLRQ\\x03NH\\\\V\\x11$FW\\x03\\x17\\x1d\\x03)LQLVK>NH\\\\ERDUG\\x03IXQFWLRQ\\x03NH\\\\V@Ҽ4XHVWLRQ\\x1d\\x03$VLGH\\x03IURP\\x03WKH\\x03$SSOH\\x035HPRWH\\x0f\\x03ZKDW\\x03RWKHU\\x03GHYLFH\\x03FDQ\\x03FRQWURO\\x03WKH\\x03SURJUDP\\x03$SSOH\\x035HPRWH\\x03ZDV\\x03RULJLQDOO\\\\\\x03GHVLJQHG\\x03WR\\x03LQWHUDFW\\x03ZLWK\"',\n",
       " '\\x15D\\x0c\\x03$FW\\x102QO\\\\\\x03$FW\\x03\\x14\\x1d\\x03*R\\x03WR\\x03GUDZHU\\x03\\x14\\x032EV\\x03\\x14\\x1d\\x037KH\\x03GUDZHU\\x03\\x14\\x03LV\\x03FORVHG\\x11\\x03$FW\\x03\\x15\\x1d\\x032SHQ\\x03GUDZHU\\x03\\x14\\x032EV\\x03\\x15\\x1d\\x03<RX\\x03RSHQ\\x03WKH\\x03GUDZHU\\x03\\x14\\x11\\x037KH\\x03GUDZHU\\x03\\x14\\x03LV\\x03RSHQ\\x11\\x03,Q\\x03LW\\x0f\\x03\\\\RX\\x03VHH\\x03D\\x03GLVKVSRQJH\\x03\\x15\\x0f\\x03DQG\\x03D\\x03VSRRQ\\x03\\x14\\x11\\x03$FW\\x03\\x16\\x1d\\x03*R\\x03WR\\x03VLQNEDVLQ\\x03\\x14\\x032EV\\x03\\x16\\x1d\\x032Q\\x03WKH\\x03VLQNEDVLQ\\x03\\x14\\x0f\\x03\\\\RX\\x03VHH\\x03D\\x03GLVKVSRQJH\\x03\\x16\\x0f\\x03D\\x03VSDWXOD\\x03\\x14\\x0f\\x03DQG\\x03D\\x03VSRRQ\\x03\\x15\\x11\\x03$FW\\x03\\x17\\x1d\\x037DNH\\x03SHSSHUVKDNHU\\x03\\x14\\x03IURP\\x03VLQNEDVLQ\\x03\\x14\\x032EV\\x03\\x17\\x1d\\x031RWKLQJ\\x03KDSSHQV\\x11\\x03$FW\\x03\\x18\\x1d\\x037DNH\\x03SHSSHUVKDNHU\\x03\\x14\\x03IURP\\x03VLQNEDVLQ\\x03\\x14\\x032EV\\x03\\x18\\x1d\\x031RWKLQJ\\x03KDSSHQV\\x11\\x03\\x0b\\x15E\\x0c\\x035H$FW\\x03\\x0b5HDVRQ\\x03\\x0e\\x03$FW',\n",
       " 'Ҽ<RX\\x03DUH\\x03LQ\\x03WKH\\x03PLGGOH\\x03RI\\x03D\\x03URRP\\x11\\x03/RRNLQJ\\x03TXLFNO\\\\\\x03DURXQG\\x03\\\\RX\\x0f\\x03\\\\RX\\x03VHH\\x03D\\x03FDELQHW\\x03\\x19\\x0f\\x03D\\x03FDELQHW\\x03\\x14\\x0f\\x03D\\x03FRIIHH\\x03PDFKLQH\\x03\\x14\\x0f\\x03D\\x03FRXQWHUWRS\\x03\\x16\\x0f\\x03\\x03D\\x03VWRYH\\x03EXUQHU\\x03\\x14\\x0f\\x03DQG\\x03D\\x03WRDVWHU\\x03\\x14\\x11\\x03<RXU\\x03WDVN\\x03LV\\x03WR\\x1d\\x033XW\\x03VRPH\\x03SHSSHU\\x03VKDNHU\\x03RQ\\x03D\\x03GUDZHU\\x11\\x0b\\x15\\x0c\\x03$OI:RUOG\\x0b\\x14\\x0c\\x03+RWVSRW\\x034$\\nFigure 1: (1) Comparison of 4 prompting methods, (a) Standard , (b) Chain-of-thought ( CoT,\\nReason Only), (c) Act-only, and (d) ReAct (Reason+Act), solving a HotpotQA (Yang et al., 2018)',\n",
       " 'Reason Only), (c) Act-only, and (d) ReAct (Reason+Act), solving a HotpotQA (Yang et al., 2018)\\nquestion. (2) Comparison of (a) Act-only and (b) ReAct prompting to solve an AlfWorld (Shridhar\\net al., 2020b) game. In both domains, we omit in-context examples in the prompt, and only show task\\nsolving trajectories generated by the model (Act, Thought) and the environment (Obs)',\n",
       " '.\\nanswers from questions in arithmetic, commonsense, and symbolic reasoning tasks (Wei et al.,\\n2022). However, this “chain-of-thought” reasoning is a static black box, in that the model uses\\nits own internal representations to generate thoughts and is not grounded in the external world,\\nwhich limits its ability to reason reactively or update its knowledge. This can lead to issues like fact\\nhallucination and error propagation over the reasoning process (Figure 1 (1b)). On the other hand,',\n",
       " 'hallucination and error propagation over the reasoning process (Figure 1 (1b)). On the other hand,\\nrecent work has explored the use of pre-trained language models for planning and acting in interactive\\nenvironments (Ahn et al., 2022; Nakano et al., 2021; Yao et al., 2020; Huang et al., 2022a), with\\na focus on predicting actions via language priors. These approaches usually convert multi-modal\\nobservations into text, use a language model to generate domain-speciﬁc actions or plans, and then',\n",
       " 'observations into text, use a language model to generate domain-speciﬁc actions or plans, and then\\nuse a controller to choose or execute them. However, they do not employ language models to reason\\nabstractly about high-level goals or maintain a working memory to support acting, barring Huang\\net al. (2022b) who perform a limited form of verbal reasoning to reiterate spatial facts about the\\ncurrent state. Beyond such simple embodied tasks to interact with a few blocks, there have not been',\n",
       " 'current state. Beyond such simple embodied tasks to interact with a few blocks, there have not been\\nstudies on how reasoning and acting can be combined in a synergistic manner for general task solving,\\nand if such a combination can bring systematic beneﬁts compared to reasoning or acting alone',\n",
       " '.\\nIn this work, we present ReAct , a general paradigm to combine reasoning and acting with language\\nmodels for solving diverse language reasoning and decision making tasks (Figure 1). ReAct\\nprompts LLMs to generate both verbal reasoning traces and actions pertaining to a task in an\\ninterleaved manner, which allows the model to perform dynamic reasoning to create, maintain, and\\nadjust high-level plans for acting (reason to act), while also interact with the external environments',\n",
       " '(e.g. Wikipedia) to incorporate additional information into reasoning (act to reason)',\n",
       " '.\\n2\\nPublished as a conference paper at ICLR 2023\\nWe conduct empirical evaluations of ReAct and state-of-the-art baselines on four diverse benchmarks:\\nquestion answering (HotPotQA, Yang et al., 2018), fact veriﬁcation (Fever, Thorne et al., 2018),\\ntext-based game (ALFWorld, Shridhar et al., 2020b), and webpage navigation (WebShop, Yao\\net al., 2022). For HotPotQA and Fever, with access to a Wikipedia API that the model can interact',\n",
       " 'et al., 2022). For HotPotQA and Fever, with access to a Wikipedia API that the model can interact\\nwith, ReAct outperforms vanilla action generation models while being competitive with chain-of-\\nthought reasoning ( CoT) (Wei et al., 2022). The best approach overall is a combination of ReAct\\nandCoT that allows for the use of both internal knowledge and externally obtained information\\nduring reasoning. On ALFWorld and WebShop, two or even one-shot ReAct prompting is able',\n",
       " 'during reasoning. On ALFWorld and WebShop, two or even one-shot ReAct prompting is able\\nto outperform imitation or reinforcement learning methods trained with 103\\x18105task instances,\\nwith an absolute improvement of 34% and 10% in success rates respectively. We also demonstrate\\nthe importance of sparse, versatile reasoning in decision making by showing consistent advantages\\nover controlled baselines with actions only. Besides general applicability and performance boost,',\n",
       " 'over controlled baselines with actions only. Besides general applicability and performance boost,\\nthe combination of reasoning and acting also contributes to model interpretability, trustworthiness,\\nand diagnosability across all domains, as humans can readily distinguish information from model’s\\ninternal knowledge versus external environments, as well as inspect reasoning traces to understand\\nthe decision basis of model actions',\n",
       " '.\\nTo summarize, our key contributions are the following: (1) we introduce ReAct , a novel prompt-\\nbased paradigm to synergize reasoning and acting in language models for general task solving; (2) we\\nperform extensive experiments across diverse benchmarks to showcase the advantage of ReAct in a\\nfew-shot learning setup over prior approaches that perform either reasoning or action generation in\\nisolation; (3) we present systematic ablations and analysis to understand the importance of acting in',\n",
       " 'reasoning tasks, and reasoning in interactive tasks; (4) we analyze the limitations of ReAct under the\\nprompting setup (i.e. limited support of reasoning and acting behaviors), and perform initial ﬁnetuning\\nexperiments showing the potential of ReAct to improve with additional training data. Scaling up\\nReAct to train and operate on more tasks and combining it with complementary paradigms like\\nreinforcement learning could further unlock the potential of large language models',\n",
       " '.\\n2REAC T: SYNERGIZING REASONING +AC TING\\nConsider a general setup of an agent interacting with an environment for task solving. At time\\nstept, an agent receives an observation ot2O from the environment and takes an action at2A\\nfollowing some policy \\x19(atjct), wherect= (o1;a1;\\x01\\x01\\x01;ot\\x001;at\\x001;ot)is the context to the agent',\n",
       " '.\\nLearning a policy is challenging when the mapping ct7!atis highly implicit and requires extensive\\ncomputation. For example, the agent shown in Figure 1(1c) is unable to generate the correct ﬁnal\\naction (Act 4) to ﬁnish the QA task as it requires complex reasoning over the trajectory context\\n(Question, Act 1-3, Obs 1-3). Similarly, the agent shown in Figure 1(2a) fails to comprehend from the\\ncontext that sinkbasin 1 does not contain peppershaker 1, thus keep producing hallucinating actions',\n",
       " '.\\nThe idea of ReAct is simple: we augment the agent’s action space to ^A=A[L , whereLis the\\nspace of language. An action ^at2L in the language space, which we will refer to as a thought or a\\nreasoning trace , does not affect the external environment, thus leading to no observation feedback',\n",
       " '.\\nInstead, a thought ^ataims to compose useful information by reasoning over the current context ct,\\nand update the context ct+1= (ct;^at)to support future reasoning or acting. As shown in Figure 1,\\nthere could be various types of useful thoughts, e.g. decomposing task goals and create action plans\\n(2b, Act 1; 1d, Thought 1), injecting commonsense knowledge relevant to task solving (2b, Act 1),',\n",
       " '(2b, Act 1; 1d, Thought 1), injecting commonsense knowledge relevant to task solving (2b, Act 1),\\nextracting important parts from observations (1d, Thought2, 4), track progress and transit action plans\\n(2b, Act 8), handle exceptions and adjust action plans (1d, Thought 3), and so on',\n",
       " '.\\nHowever, as the language space Lis unlimited, learning in this augmented action space is difﬁcult\\nand requires strong language priors. In this paper, we mainly focus on the setup where a frozen\\nlarge language model, PaLM-540B (Chowdhery et al., 2022)1, is prompted with few-shot in-context\\nexamples to generate both domain-speciﬁc actions and free-form language thoughts for task solving\\n(Figure 1 (1d), (2b)). Each in-context example is a human trajectory of actions, thoughts, and',\n",
       " '(Figure 1 (1d), (2b)). Each in-context example is a human trajectory of actions, thoughts, and\\nenvironment observations to solve a task instance (see Appendix C). For the tasks where reasoning is\\nof primary importance (Figure 1(1)), we alternate the generation of thoughts and actions so that the\\ntask-solving trajectory consists of multiple thought-action-observation steps. In contrast, for decision',\n",
       " 'making tasks that potentially involve a large number of actions (Figure 1(2)), thoughts only need to\\n1We show some GPT-3 (Brown et al., 2020) results in Appendix A.1, which outperforms PaLM-540B',\n",
       " '.\\n3\\nPublished as a conference paper at ICLR 2023\\nappear sparsely in the most relevant positions of a trajectory, so we let the language model decide the\\nasynchronous occurrence of thoughts and actions for itself',\n",
       " '.\\nSince decision making and reasoning capabilities are integrated into a large language model, ReAct\\nenjoys several unique features: A) Intuitive and easy to design : Designing ReAct prompts is\\nstraightforward as human annotators just type down their thoughts in language on top of their actions\\ntaken. No ad-hoc format choice, thought design, or example selection is used in this paper. We detail\\nprompt design for each task in Sections 3 and 4. B) General and ﬂexible : Due to the ﬂexible thought',\n",
       " 'space and thought-action occurrence format, ReAct works for diverse tasks with distinct action\\nspaces and reasoning needs, including but not limited to QA, fact veriﬁcation, text game, and web\\nnavigation. C) Performant and robust :ReAct shows strong generalization to new task instances\\nwhile learning solely from one to six in-context examples, consistently outperforming baselines with\\nonly reasoning or acting across different domains. We also show in Section 3 additional beneﬁts',\n",
       " 'only reasoning or acting across different domains. We also show in Section 3 additional beneﬁts\\nwhen ﬁnetuning is enabled, and in Section 4 how ReAct performance is robust to prompt selections',\n",
       " '.\\nD) Human aligned and controllable :ReAct promises an interpretable sequential decision making\\nand reasoning process where humans can easily inspect reasoning and factual correctness. Moreover,\\nhumans can also control or correct the agent behavior on the go by thought editing, as shown in\\nFigure 5 in Section 4',\n",
       " '.\\n3 K NOWLEDGE -INTENSIVE REASONING TASKS\\nWe begin with knowledge-intensive reasoning tasks like multi-hop question answering and fact\\nveriﬁcation. As shown in Figure 1(1d), by interacting with a Wikipedia API, ReAct is able to\\nretrieve information to support reasoning, while also use reasoning to target what to retrieve next,\\ndemonstrating a synergy of reasoning and acting',\n",
       " '.\\n3.1 S ETUP\\nDomains We consider two datasets challenging knowledge retrieval and reasoning: (1) Hot-\\nPotQA (Yang et al., 2018), a multi-hop question answering benchmark that requires reasoning\\nover two or more Wikipedia passages, and (2) FEVER (Thorne et al., 2018), a fact veriﬁcation\\nbenchmark where each claim is annotated SUPPORTS, REFUTES, or NOT ENOUGH INFO, based\\non if there exists a Wikipedia passage to verify the claim. In this work, we operate in a question-only',\n",
       " 'setup for both tasks, where models only receive the question/claim as input without access to support\\nparagraphs, and have to rely on their internal knowledge or retrieve knowledge via interacting with\\nan external environment to support reasoning',\n",
       " '.\\nAction Space We design a simple Wikipedia web API with three types of actions to support\\ninteractive information retrieval: (1) search [entity ], which returns the ﬁrst 5 sentences from\\nthe corresponding entity wiki page if it exists, or else suggests top-5 similar entities from the\\nWikipedia search engine, (2) lookup [string ], which would return the next sentence in the page\\ncontaining string , simulating Ctrl+F functionality on the browser. (3) finish [answer ], which',\n",
       " 'containing string , simulating Ctrl+F functionality on the browser. (3) finish [answer ], which\\nwould ﬁnish the current task with answer . We note that this action space mostly can only retrieve a\\nsmall part of a passage based on exact passage name, which is signiﬁcantly weaker than state-of-the-\\nart lexical or neural retrievers. The purpose is to simulate how humans would interact with Wikipedia,\\nand force models to retrieve via explicit reasoning in language',\n",
       " '.\\n3.2 M ETHODS\\nReAct Prompting For HotpotQA and Fever, we randomly select 6 and 3 cases2from the training\\nset and manually compose ReAct -format trajectories to use as few-shot exemplars in the prompts',\n",
       " '.\\nSimilar to Figure 1(d), each trajectory consists of multiple thought-action-observation steps (i.e. dense\\nthought), where free-form thoughts are used for various purposes. Speciﬁcally, we use a combination\\nof thoughts that decompose questions (“I need to search x, ﬁnd y, then ﬁnd z”), extract information\\nfrom Wikipedia observations (“x was started in 1844”, “The paragraph does not tell x”), perform',\n",
       " 'from Wikipedia observations (“x was started in 1844”, “The paragraph does not tell x”), perform\\ncommonsense (“x is not y, so z must instead be...”) or arithmetic reasoning (“1844 < 1989”), guide\\n2We ﬁnd more examples do not improve performance',\n",
       " '.\\n4\\nPublished as a conference paper at ICLR 2023\\nPrompt Methoda HotpotQA Fever\\n(EM) (Acc)\\nStandard 28.7 57.1\\nCoT (Wei et al., 2022) 29.4 56.3\\nCoT-SC (Wang et al., 2022a) 33.4 60.4\\nAct 25.7 58.9\\nReAct 27.4 60.9\\nCoT-SC!ReAct 34.2 64.6\\nReAct!CoT-SC 35.1 62.0\\nSupervised SoTAb67.5 89.5\\nTable 1: PaLM-540B prompting results on\\nHotpotQA and Fever.\\naHotpotQA EM is 27.1, 28.9, 33.8 for Standard ,CoT,\\nCoT-SC in Wang et al. (2022b)',\n",
       " '.\\naHotpotQA EM is 27.1, 28.9, 33.8 for Standard ,CoT,\\nCoT-SC in Wang et al. (2022b).\\nb(Zhu et al., 2021; Lewis et al., 2020)\\n0 5 10 15 20\\n#CoT-SC trials2628303234HotpotQA EM\\n0 5 10 15 20\\n#CoT-SC trials47.550.052.555.057.560.062.565.0Fever AccMethod\\nCoT-SC -> ReAct\\nReAct -> CoT-SC\\nCoT-SC\\nReAct\\nCoTFigure 2: PaLM-540B prompting results with respect to\\nnumber of CoT-SC samples used',\n",
       " '.\\nsearch reformulation (“maybe I can search/look up x instead”), and synthesize the ﬁnal answer (“...so\\nthe answer is x”). See Appendix C for more details',\n",
       " '.\\nBaselines We systematically ablate ReAct trajectories to build prompts for multiple baselines (with\\nformats as Figure 1(1a-1c)): (a) Standard prompting (Standard ), which removes all thoughts,\\nactions, observations in ReAct trajectories. (b) Chain-of-thought prompting (CoT) (Wei et al.,\\n2022), which removes actions and observations and serve as a reasoning-only baseline. We also\\nbuild a self-consistency baseline ( CoT-SC ) (Wang et al., 2022a;b) by sampling 21 CoT trajectories',\n",
       " 'build a self-consistency baseline ( CoT-SC ) (Wang et al., 2022a;b) by sampling 21 CoT trajectories\\nwith decoding temperature 0.7 during inference and adopting the majority answer, which is found to\\nconsistently boost performance over CoT. (c)Acting-only prompt (Act), which removes thoughts\\ninReAct trajectories, loosely resembling how WebGPT (Nakano et al., 2021) interacts with the\\nInternet to answer questions, though it operates on a different task and action space, and uses imitation',\n",
       " 'and reinforcement learning instead of prompting',\n",
       " '.\\nCombining Internal and External Knowledge As will be detail in Section 3.3, we observe that\\nthe problem solving process demonstrated by ReAct is more factual and grounded, whereas CoT\\nis more accurate in formulating reasoning structure but can easily suffer from hallucinated facts\\nor thoughts. We therefore propose to incorporate ReAct andCoT-SC , and let the model decide\\nwhen to switch to the other method based on the following heuristics: A) ReAct!CoT-SC : when',\n",
       " 'when to switch to the other method based on the following heuristics: A) ReAct!CoT-SC : when\\nReAct fails to return an answer within given steps, back off to CoT-SC . We set 7 and 5 steps for\\nHotpotQA and FEVER respectively as we ﬁnd more steps will not improve ReAct performance3',\n",
       " '.\\nB)CoT-SC!ReAct : when the majority answer among nCoT-SC samples occurs less than n=2\\ntimes (i.e. internal knowledge might not support the task conﬁdently), back off to ReAct',\n",
       " '.\\nFinetuning Due to the challenge of manually annotating reasoning traces and actions at scale,\\nwe consider a bootstraping approach similar to Zelikman et al. (2022), using 3,000 trajectories\\nwith correct answers generated by ReAct (also for other baselines) to ﬁnetune smaller language\\nmodels (PaLM-8/62B) to decode trajectories (all thoughts, actions, observations) conditioned on\\ninput questions/claims. More details are in Appendix B.1',\n",
       " '.\\n3.3 R ESULTS AND OBSERVATIONS\\nReAct outperforms Act consistently Table 1 shows HotpotQA and Fever results using PaLM-\\n540B as the base model with different prompting methods. We note that ReAct is better than Act\\non both tasks, demonstrating the value of reasoning to guide acting, especially for synthesizing the\\nﬁnal answer, as shown in Figure 1 (1c-d). Fine-tuning results 3 also conﬁrm the beneﬁt of reasoning\\ntraces for more informed acting',\n",
       " '.\\n3Of all trajectories with correct ﬁnal answers, those with 7 steps on HotpotQA and 5 steps on FEVER only\\ntake up 0.84% and 1.33% respectively',\n",
       " '.\\n5\\nPublished as a conference paper at ICLR 2023\\nType Deﬁnition ReAct CoT\\nSuccessTrue positive Correct reasoning trace and facts 94% 86%\\nFalse positive Hallucinated reasoning trace or facts 6% 14%\\nFailureReasoning error Wrong reasoning trace (including failing to recover from repetitive steps) 47% 16%\\nSearch result error Search return empty or does not contain useful information 23% -\\nHallucination Hallucinated reasoning trace or facts 0% 56%',\n",
       " 'Hallucination Hallucinated reasoning trace or facts 0% 56%\\nLabel ambiguity Right prediction but did not match the label precisely 29% 28%\\nTable 2: Types of success and failure modes of ReAct andCoT on HotpotQA, as well as their\\npercentages in randomly selected examples studied by human',\n",
       " '.\\nReAct vs.CoT On the other hand, ReAct outperforms CoT on Fever (60.9 vs. 56.3) and slightly\\nlags behind CoT on HotpotQA (27.4 vs. 29.4). Fever claims for SUPPORTS/REFUTES might only\\ndiffer by a slight amount (see Appendix D.1), so acting to retrieve accurate and up-to-date knowledge\\nis vital. To better understand the behavioral difference between ReAct andCoT on HotpotQA, we\\nrandomly sampled 50 trajectories with correct and incorrect answers (judged by EM) from ReAct',\n",
       " 'randomly sampled 50 trajectories with correct and incorrect answers (judged by EM) from ReAct\\nandCoT respectively (thus 200 examples in total), and manually labeled their success and failure\\nmodes in Table 2. Some key observations are as follows:\\nA)Hallucination is a serious problem for CoT, resulting in much higher false positive rate than\\nReAct (14% vs. 6%) in success mode, and make up its major failure mode (56%). In contrast, the',\n",
       " 'ReAct (14% vs. 6%) in success mode, and make up its major failure mode (56%). In contrast, the\\nproblem solving trajectory of ReAct is more grounded, fact-driven, and trustworthy, thanks to the\\naccess of an external knowledge base',\n",
       " '.\\nB)While interleaving reasoning, action and observation steps improves ReAct ’s grounded-\\nness and trustworthiness, such a structural constraint also reduces its ﬂexibility in formulating\\nreasoning steps , leading to more reasoning error rate than CoT. we note that there is one frequent\\nerror pattern speciﬁc to ReAct , in which the model repetitively generates the previous thoughts and\\nactions, and we categorize it as part of “reasoning error” as the model fails to reason about what the',\n",
       " 'proper next action to take and jump out of the loop4',\n",
       " '.\\nC)ForReAct , successfully retrieving informative knowledge via search is critical. Non-\\ninformative search, which counts for 23% of the error cases, derails the model reasoning and gives\\nit a hard time to recover and reformulate thoughts. This is perhaps an expected trade-off between\\nfactuality and ﬂexibility, which motivates our proposed strategies of combining two methods',\n",
       " '.\\nWe provide examples for each success and failure modes in Appendix E.1. We also ﬁnd some\\nHotpotQA questions may contain outdated answer labels, see Figure 4 for example.\\nReAct +CoT-SC perform best for prompting LLMs Also shown in Table 1, the best prompting\\nmethod on HotpotQA and Fever are ReAct!CoT-SC andCoT-SC!ReAct respectively',\n",
       " '.\\nFurthermore, Figure 2 shows how different methods perform with respect to the number of CoT-SC\\nsamples used. While two ReAct +CoT-SC methods are advantageous at one task each, they both\\nsigniﬁcantly and consistently outperform CoT-SC across different number of samples, reaching\\nCoT-SC performance with 21 samples using merely 3-5 samples. These results indicate the value of\\nproperly combining model internal knowledge and external knowledge for reasoning tasks',\n",
       " '.\\nReAct performs best for ﬁne-tuning Figure 3 shows the scaling effect of prompting/ﬁnetuning\\nfour methods ( Standard ,CoT,Act,ReAct ) on HotpotQA. With PaLM-8/62B, prompting ReAct\\nperforms worst among four methods due to the difﬁculty to learn both reasoning and acting from\\nin-context examples. However, when ﬁnetuned with just 3,000 examples, ReAct becomes the best\\nmethod among the four, with PaLM-8B ﬁnetuned ReAct outperforming all PaLM-62B prompting',\n",
       " 'method among the four, with PaLM-8B ﬁnetuned ReAct outperforming all PaLM-62B prompting\\nmethods, and PaLM-62B ﬁnetuned ReAct outperforming all 540B prompting methods. In contrast,\\nﬁnetuning Standard orCoT is signiﬁcantly worse than ﬁnetuning ReAct orAct for both PaLM-\\n8/62B, as the former essentially teaches models to memorize (potentially halluincated) knowledge\\nfacts, and the latter teaches models how to (reason and) act to access information from Wikipedia, a',\n",
       " 'more generalizable skill for knowledge reasoning. As all prompting methods are still signiﬁcantly\\nfar from domain-speciﬁc state-of-the-art approaches (Table 1), we believe ﬁnetuning with more\\nhuman-written data might be a better way to unleash the power of ReAct',\n",
       " '.\\n4We suspect that this could be due to the sub-optimal greedy decoding procedure, and future work using\\nbetter decoding (e.g. beam search) might help address this issue.\\n6\\nPublished as a conference paper at ICLR 2023\\n8b 62b 540b\\nsize051015202530HotpotQA EMlearning = prompt\\n8b 62b 540b\\nsizelearning = finetune\\nMethod\\nStandard\\nCoT\\nAct\\nReAct\\nFigure 3: Scaling results for prompting and ﬁnetuning on HotPotQA with ReAct (ours) and baselines',\n",
       " '.\\n4 D ECISION MAKING TASKS\\nWe also test ReAct on two language-based interactive decision-making tasks, ALFWorld and\\nWebShop, both of which feature complex environments that require agents to act over long horizons\\nwith sparse rewards, warranting the need for reasoning to act and explore effectively',\n",
       " '.\\nALFWorld ALFWorld (Shridhar et al., 2020b) (Figure 1(2)) is a synthetic text-based game designed\\nto align with the embodied ALFRED benchmark (Shridhar et al., 2020a). It includes 6 types of\\ntasks in which an agent needs to achieve a high-level goal (e.g. examine paper under desklamp) by\\nnavigating and interacting with a simulated household via text actions (e.g. go to coffeetable 1, take\\npaper 2, use desklamp 1). A task instance can have more than 50 locations and take an expert policy',\n",
       " 'paper 2, use desklamp 1). A task instance can have more than 50 locations and take an expert policy\\nmore than 50 steps to solve, thus challenging an agent to plan and track subgoals, as well as explore\\nsystematically (e.g. check all desks one by one for desklamp). In particular, one challenge built into\\nALFWorld is the need to determine likely locations for common household items (e.g. desklamps will',\n",
       " 'ALFWorld is the need to determine likely locations for common household items (e.g. desklamps will\\nlikely be on desks, shelfs, or dressers), making this environment a good ﬁt for LLMs to exploit their\\npretrained commonsense knowledge. To prompt ReAct , we randomly annotate three trajectories\\nfrom the training set for each task type, where each trajectory includes sparse thoughts that (1)\\ndecompose the goal, (2) track subgoal completion, (3) determine the next subgoal, and (4) reason via',\n",
       " 'commonsense where to ﬁnd an object and what to do with it. We show prompts used for ALFWorld\\nin Appendix C.4. Following Shridhar et al. (2020b), we evaluate on 134 unseen evaluation games\\nin a task-speciﬁc setup. For robustness, we construct 6 prompts for each task type through each\\npermutation of 2 annotated trajectories from the 3 we annotate. Act prompts are constructed using\\nthe same trajectories, but without thoughts — since task instances are randomly chosen from the',\n",
       " 'the same trajectories, but without thoughts — since task instances are randomly chosen from the\\ntraining set, it favors neither ReAct norAct and provides a fair and controlled comparison to test the\\nimportance of sparse thoughts. For baselines, we use BUTLER (Shridhar et al., 2020b), an imitation\\nlearning agent trained on 105expert trajectories for each task type5',\n",
       " '.\\nWebShop CanReAct also interact with noisy real-world language environments for practical\\napplications? We investigate WebShop (Yao et al., 2022), a recently proposed online shopping\\nwebsite environment with 1.18M real-world products and 12k human instructions. Unlike ALFWorld,\\nWebshop contains a high variety of structured and unstructured texts (e.g. product titles, descriptions,\\nand options crawled from Amazon), and requires an agent to purchase a product based on a user',\n",
       " 'and options crawled from Amazon), and requires an agent to purchase a product based on a user\\ninstruction (e.g. “I am looking for a nightstand with drawers. It should have a nickel ﬁnish, and\\npriced lower than $140”) through web interactions (e.g. search “nightstand drawers”, choose buttons\\nsuch as “color: modern-nickel-white” or “back to search”). This task is evaluated by average score\\n(percentage of desired attributes covered by the chosen product averaged across all episodes) and',\n",
       " '(percentage of desired attributes covered by the chosen product averaged across all episodes) and\\nsuccess rate (percentage of episodes where the chosen product satisﬁes all requirements) on 500 test\\ninstructions. We formulate Act prompts with actions to search, choose product, choose options,\\nand buy, with ReAct prompts additionally reasoning to determine what to explore, when to buy,\\nand what products options are relevant to the instruction. See Table 6 for an example prompt, and',\n",
       " 'and what products options are relevant to the instruction. See Table 6 for an example prompt, and\\nTable 10 for model predictions in the Appendix. We compare to an imitation learning (IL) method\\n5Micheli & Fleuret (2021) ﬁnetuned a GPT-2 model on 3553 task instances and achieved a much improved\\nperformance than BUTLER, but it is trained on all task types, thus not included as a baseline',\n",
       " '.\\n7\\nPublished as a conference paper at ICLR 2023\\nMethod Pick Clean Heat Cool Look Pick 2 All\\nAct (best of 6) 88 42 74 67 72 41 45\\nReAct (avg) 65 39 83 76 55 24 57\\nReAct (best of 6) 92 58 96 86 78 41 71\\nReAct-IM (avg) 55 59 60 55 23 24 48\\nReAct-IM (best of 6) 62 68 87 57 39 33 53\\nBUTLER g(best of 8) 33 26 70 76 17 12 22\\nBUTLER (best of 8) 46 39 74 100 22 24 37\\nTable 3: AlfWorld task-speciﬁc success rates (%). BUTLER and\\nBUTLER gresults are from Table 4 of Shridhar et al. (2020b). All',\n",
       " 'BUTLER gresults are from Table 4 of Shridhar et al. (2020b). All\\nmethods use greedy decoding, except that BUTLER uses beam search.Method Score SR\\nAct 62.3 30.1\\nReAct 66.6 40.0\\nIL 59.9 29.1\\nIL+RL 62.4 28.7\\nHuman82.1 59.6Expert\\nTable 4: Score and suc-\\ncess rate (SR) on Web-\\nshop. IL/IL+RL taken\\nfrom Yao et al. (2022)',\n",
       " '.\\ntrained with 1,012 human annotated trajectories, and a imitation + reinforcement learning (IL + RL)\\nmethod additionally trained with 10,587 training instructions',\n",
       " '.\\nResults ReAct outperforms Act on both ALFWorld (Table 3) and Webshop (Table 4). On\\nALFWorld, the best ReAct trial achieves an average success rate of 71%, signiﬁcantly outperforming\\nthe best Act (45%) and BUTLER (37%) trials. In fact, even the worse ReAct trial (48%) beats\\nthe best trial of both methods. Moreover, the advantage of ReAct overAct is consistent across\\nsix controlled trials, with relative performance gain ranging from 33% to 90% and averaging 62%',\n",
       " '.\\nQualitatively, we saw that, without any thoughts at all, Act fails to correctly decompose goals\\ninto smaller subgoals, or loses track of the current state of the environment. Example trajectories\\ncomparing ReAct andAct can be found in Appendix D.2.1 and Appendix D.2.2',\n",
       " '.\\nOn Webshop, one-shot Act prompting already performs on par with IL and IL+RL methods. With\\nadditional sparse reasoning, ReAct achieves signiﬁcantly better performance, with an absolute 10%\\nimprovement over the previous best success rate. By checking examples, we ﬁnd that ReAct is more\\nlikely to identify instruction-relevant products and options by reasoning to bridge the gap between\\nnoisy observations and actions (e.g. “For ‘space-saving ottoman bench for living room’, the item',\n",
       " 'noisy observations and actions (e.g. “For ‘space-saving ottoman bench for living room’, the item\\nhas options ‘39x18x18inch’ and ‘blue’ and seems good to buy.”). However, existing methods are\\nstill far from the performance of expert humans (Table 4), who perform signiﬁcantly more product\\nexplorations and query re-formulations that are still challenging for prompting-based methods',\n",
       " '.\\nOn the value of internal reasoning vs. external feedback To our knowledge, ReAct is the ﬁrst\\ndemonstration of combined reasoning and action using an LLM applied to an interactive environment\\nwithin a closed-loop system. Perhaps the closest prior work is Inner Monologue (IM), from Huang\\net al. (2022b), in which actions from an embodied agent are motivated by an eponymous “inner\\nmonologue”. However, IM’s “inner monologue” is limited to observations of the environment',\n",
       " 'monologue”. However, IM’s “inner monologue” is limited to observations of the environment\\nstate and what needs to be completed by the agent for the goal to be satisﬁed. In contrast, the\\nreasoning traces in ReAct for decision making is ﬂexible and sparse, allowing diverse reasoning\\ntypes (see Section 2) to be induced for different tasks',\n",
       " '.\\nTo demonstrate the differences between ReAct and IM, and to highlight the importance of internal\\nreasoning vs. simple reactions to external feedback, we ran an ablation experiment using a thought\\npattern composed of IM-like dense external feedback. As can be seen in Table 3, ReAct substantially\\noutperforms IM-style prompting ( ReAct-IM ) (71 vs. 53 overall success rate), with consistent\\nadvantages on ﬁve out of six tasks. Qualitatively, we observed that ReAct-IM often made mistakes',\n",
       " 'advantages on ﬁve out of six tasks. Qualitatively, we observed that ReAct-IM often made mistakes\\nin identifying when subgoals were ﬁnished, or what the next subgoal should be, due to a lack of high-\\nlevel goal decomposition. Additionally, many ReAct-IM trajectories struggled to determine where\\nan item would likely be within the ALFWorld environment, due to a lack of commonsense reasoning',\n",
       " '.\\nBoth shortcomings can be addressed in the ReAct paradigm. More details about ReAct-IM is in\\nAppendix B.2. An example prompt for ReAct-IM can be found in Appendix C.4, and an example\\ntrajectory in Appendix D.2.3',\n",
       " '.\\n8\\nPublished as a conference paper at ICLR 2023\\n5 R ELATED WORK\\nLanguage model for reasoning Perhaps the most well-known work of using LLMs for reasoning\\nis Chain-of-Thought (CoT) (Wei et al., 2022), which reveals the ability of LLMs to formulate their\\nown “thinking procedure” for problem solving. Several follow-up works have since been performed,\\nincluding least-to-most prompting for solving complicated tasks (Zhou et al., 2022), zero-shot-',\n",
       " 'including least-to-most prompting for solving complicated tasks (Zhou et al., 2022), zero-shot-\\nCoT (Kojima et al., 2022), and reasoning with self-consistency (Wang et al., 2022a). Recently,\\n(Madaan & Yazdanbakhsh, 2022) systematically studied the formulation and structure of CoT, and\\nobserved that the presence of symbols, patterns and texts is crucial to the effectiveness of CoT. Other\\nwork has also been extended to more sophisticated reasoning architecture beyond simple prompting',\n",
       " '.\\nFor example Selection-Inference (Creswell et al., 2022) divides the reasoning process into two steps\\nof “selection” and “inference”. STaR (Zelikman et al., 2022) bootstraps the reasoning process by\\nﬁnetuning the model on correct rationales generated by the model itself. Faithful reasoning (Creswell\\n& Shanahan, 2022) decomposes multi-step reasoning into three steps, each performed by a dedicated\\nLM respectively. Similar approaches like Scratchpad (Nye et al., 2021), which ﬁnetunes a LM on',\n",
       " 'LM respectively. Similar approaches like Scratchpad (Nye et al., 2021), which ﬁnetunes a LM on\\nintermediate computation steps, also demonstrate improvement on multi-step computation problems',\n",
       " '.\\nIn contrast to these methods, ReAct performs more than just isolated, ﬁxed reasoning, and integrates\\nmodel actions and their corresponding observations into a coherent stream of inputs for the model to\\nreason more accurately and tackle tasks beyond reasoning (e.g. interactive decision making)',\n",
       " '.\\nLanguage model for decision making The strong capability of LLMs has enabled them to perform\\ntasks beyond language generation, and it is becoming more popular to take advantage of LLMs as a\\npolicy model for decision making, especially in interactive environments. WebGPT (Nakano et al.,\\n2021) uses an LM to interact with web browsers, navigate through web pages, and infer answers to\\ncomplicated questions from ELI5 (Fan et al., 2019). In comparison to ReAct , WebGPT does not',\n",
       " 'complicated questions from ELI5 (Fan et al., 2019). In comparison to ReAct , WebGPT does not\\nexplicitly model the thinking and reasoning procedure, instead rely on expensive human feedback for\\nreinforcement learning. In conversation modeling, chatbots like BlenderBot (Shuster et al., 2022b)\\nand Sparrow (Glaese et al., 2022) and task-oriented dialogue systems like SimpleTOD (Hosseini-Asl\\net al., 2020) also train LMs to make decision about API calls. Unlike ReAct , they do not explicitly',\n",
       " 'consider the reasoning procedure either, and also relies on expensive datasets and human feedback\\ncollections for policy learning. In contrast, ReAct learns a policy in a much cheaper way, since the\\ndecision making process only requires language description of the reasoning procedure.6\\nLLMS have also been increasingly employed in interactive and embodied environments for planning\\nand decision making. Perhaps most relevant to ReAct in this respect are SayCan (Ahn et al., 2022)',\n",
       " 'and decision making. Perhaps most relevant to ReAct in this respect are SayCan (Ahn et al., 2022)\\nand Inner Monologue (Huang et al., 2022b), which use LLMs for robotic action planning and decision\\nmaking. In SayCan, LLMs were prompted to directly predict possible actions a robot can take, which\\nis then reranked by an affordance model grounded on the visual environments for ﬁnal prediction',\n",
       " '.\\nInner Monologue made further improvements by adding the eponymous “inner monologue\", which is\\nimplemented as injected feedback from the environment. To our knowledge, Inner Monologue is the\\nﬁrst work that demonstrates such a closed-loop system, which ReAct builds on. However, we argue\\nthat Inner Monologue does not truly comprise of inner thoughts — this is elaborated in Section 4. We\\nalso note that leveraging language as semantically-rich inputs in the process of interactive decision',\n",
       " 'making has been shown to be successful under other settings (Abramson et al., 2020; Karamcheti\\net al., 2021; Huang et al., 2022a; Li et al., 2022). It is becoming more evident that with the help of\\nLLMs, language as a fundamental cognitive mechanism will play a critical role in interaction and\\ndecision making. What is more, progress in LLMs has also inspired the development of versatile and\\ngeneralist agents like Reed et al. (2022)',\n",
       " '.\\n6 C ONCLUSION\\nWe have proposed ReAct – a simple yet effective method for synergizing reasoning and acting in\\nlarge language models. Through a diverse set of experiments on multi-hop question-answering, fact\\nchecking, and interactive decision-making tasks, we show that ReAct leads to superior performance\\nwith interpretable decision traces. Despite the simplicity of our method, complex tasks with large',\n",
       " 'with interpretable decision traces. Despite the simplicity of our method, complex tasks with large\\naction spaces require more demonstrations to learn well, which unfortunately can easily go beyond\\nthe input length limit of in-context learning. We explore the ﬁne-tuning approach on HotpotQA\\n6Human feedback can also be incorporated in a complementary manner but we leave it for future work',\n",
       " '.\\n9\\nPublished as a conference paper at ICLR 2023\\nwith initial promising results, but learning from more high-quality human annotations will be the\\ndesiderata to further improve the performance. Scaling up ReAct with multi-task training and\\ncombining it with complementary paradigms like reinforcement learning could result in stronger\\nagents that further unlock the potential of LLMs for more applications',\n",
       " '.\\nACKNOWLEDGMENTS\\nWe thank the support and feedback of many people from Google Brain team and Princeton NLP\\nGroup. This work was supported in part by the National Science Foundation under Grant No.\\n2107048. Any opinions, ﬁndings, and conclusions or recommendations expressed in this material are\\nthose of the author(s) and do not necessarily reﬂect the views of the National Science Foundation',\n",
       " '.\\nREPRODUCIBILITY STATEMENT\\nOur main experiments are done on PaLM (Chowdhery et al., 2022), which is not an openly accessible\\nmodel yet. To increase reproducibility, we have included all used prompts in Appendix C, additional\\nexperiments using GPT-3 (Brown et al., 2020) in Appendix A.1, and associated GPT-3 ReAct\\nprompting code at https://anonymous.4open.science/r/ReAct-2268/',\n",
       " '.\\nETHICS STATEMENT\\nReAct prompts large language models to generate more human interpretable, diagnosable, and\\ncontrollable task-solving trajectories than previous methods. However, hooking up a large language\\nmodel with an action space to interact with external environments (e.g. the web, physical environ-\\nments) has potential dangers, e.g. looking up inappropriate or private information, or taking harmful',\n",
       " 'actions in an environment. Our experiments minimize such risks by limiting the interactions to\\nspeciﬁc websites (Wikipedia or WebShop) that are free of private information, without any dangerous\\nactions in the action space design (i.e. models cannot really buy products on WebShop the research\\nbenchmark, or edit Wikipedia). We believe researchers should be aware of such risks before designing\\nmore extensive experiments in the future',\n",
       " '.\\nREFERENCES\\nJosh Abramson, Arun Ahuja, Iain Barr, Arthur Brussee, Federico Carnevale, Mary Cassin, Rachita\\nChhaparia, Stephen Clark, Bogdan Damoc, Andrew Dudzik, Petko Georgiev, Aurelia Guy, Tim\\nHarley, Felix Hill, Alden Hung, Zachary Kenton, Jessica Landon, Timothy Lillicrap, Kory Mathew-\\nson, So ˇna Mokrá, Alistair Muldal, Adam Santoro, Nikolay Savinov, Vikrant Varma, Greg Wayne,\\nDuncan Williams, Nathaniel Wong, Chen Yan, and Rui Zhu. Imitating interactive intelligence,',\n",
       " 'Duncan Williams, Nathaniel Wong, Chen Yan, and Rui Zhu. Imitating interactive intelligence,\\n2020. URL https://arxiv.org/abs/2012.05672',\n",
       " '.\\nMichael Ahn, Anthony Brohan, Noah Brown, Yevgen Chebotar, Omar Cortes, Byron David, Chelsea\\nFinn, Chuyuan Fu, Keerthana Gopalakrishnan, Karol Hausman, Alex Herzog, Daniel Ho, Jasmine\\nHsu, Julian Ibarz, Brian Ichter, Alex Irpan, Eric Jang, Rosario Jauregui Ruano, Kyle Jeffrey, Sally\\nJesmonth, Nikhil J Joshi, Ryan Julian, Dmitry Kalashnikov, Yuheng Kuang, Kuang-Huei Lee,\\nSergey Levine, Yao Lu, Linda Luu, Carolina Parada, Peter Pastor, Jornell Quiambao, Kanishka',\n",
       " 'Sergey Levine, Yao Lu, Linda Luu, Carolina Parada, Peter Pastor, Jornell Quiambao, Kanishka\\nRao, Jarek Rettinghouse, Diego Reyes, Pierre Sermanet, Nicolas Sievers, Clayton Tan, Alexander\\nToshev, Vincent Vanhoucke, Fei Xia, Ted Xiao, Peng Xu, Sichun Xu, Mengyuan Yan, and\\nAndy Zeng. Do as i can, not as i say: Grounding language in robotic affordances, 2022. URL\\nhttps://arxiv.org/abs/2204.01691',\n",
       " '.\\nBen Alderson-Day and Charles Fernyhough. Inner speech: development, cognitive functions,\\nphenomenology, and neurobiology. Psychological bulletin , 141(5):931, 2015.\\nAlan Baddeley. Working memory. Science , 255(5044):556–559, 1992',\n",
       " '.\\nAlan Baddeley. Working memory. Science , 255(5044):556–559, 1992.\\nTom Brown, Benjamin Mann, Nick Ryder, Melanie Subbiah, Jared D Kaplan, Prafulla Dhariwal,\\nArvind Neelakantan, Pranav Shyam, Girish Sastry, Amanda Askell, et al. Language models are\\nfew-shot learners. Advances in neural information processing systems , 33:1877–1901, 2020',\n",
       " '.\\n10\\nPublished as a conference paper at ICLR 2023\\nAakanksha Chowdhery, Sharan Narang, Jacob Devlin, Maarten Bosma, Gaurav Mishra, Adam\\nRoberts, Paul Barham, Hyung Won Chung, Charles Sutton, Sebastian Gehrmann, et al. Palm:\\nScaling language modeling with pathways. arXiv preprint arXiv:2204.02311 , 2022.\\nAntonia Creswell and Murray Shanahan. Faithful reasoning using large language models, 2022. URL\\nhttps://arxiv.org/abs/2208.14271',\n",
       " '.\\nAntonia Creswell, Murray Shanahan, and Irina Higgins. Selection-inference: Exploiting large\\nlanguage models for interpretable logical reasoning, 2022. URL https://arxiv.org/abs/\\n2205.09712',\n",
       " '.\\nAngela Fan, Yacine Jernite, Ethan Perez, David Grangier, Jason Weston, and Michael Auli. ELI5:\\nLong form question answering. In Proceedings of the 57th Annual Meeting of the Association\\nfor Computational Linguistics , pp. 3558–3567, Florence, Italy, July 2019. Association for Com-\\nputational Linguistics. doi: 10.18653/v1/P19-1346. URL https://aclanthology.org/\\nP19-1346',\n",
       " '.\\nCharles Fernyhough. Vygotsky, luria, and the social brain. Self and social regulation: Social\\ninteraction and the development of social understanding and executive functions , pp. 56–79, 2010',\n",
       " '.\\nAmelia Glaese, Nat McAleese, Maja Trebacz, John Aslanides, Vlad Firoiu, Timo Ewalds, Mari-\\nbeth Rauh, Laura Weidinger, Martin Chadwick, Phoebe Thacker, Lucy Campbell-Gillingham,\\nJonathan Uesato, Po-Sen Huang, Ramona Comanescu, Fan Yang, Abigail See, Sumanth\\nDathathri, Rory Greig, Charlie Chen, Doug Fritz, Jaume Sanchez Elias, Richard Green,\\nSoˇna Mokrá, Nicholas Fernando, Boxi Wu, Rachel Foley, Susannah Young, Iason Gabriel,',\n",
       " 'Soˇna Mokrá, Nicholas Fernando, Boxi Wu, Rachel Foley, Susannah Young, Iason Gabriel,\\nWilliam Isaac, John Mellor, Demis Hassabis, Koray Kavukcuoglu, Lisa Anne Hendricks, and\\nGeoffrey Irving. Improving alignment of dialogue agents via targeted human judgements,\\n2022. URL https://storage.googleapis.com/deepmind-media/DeepMind',\n",
       " '.\\ncom/Authors-Notes/sparrow/sparrow-final.pdf .\\nEhsan Hosseini-Asl, Bryan McCann, Chien-Sheng Wu, Semih Yavuz, and Richard Socher. A simple\\nlanguage model for task-oriented dialogue. Advances in Neural Information Processing Systems ,\\n33:20179–20191, 2020.\\nWenlong Huang, Pieter Abbeel, Deepak Pathak, and Igor Mordatch. Language models as zero-shot\\nplanners: Extracting actionable knowledge for embodied agents. arXiv preprint arXiv:2201.07207 ,\\n2022a',\n",
       " '.\\nWenlong Huang, Fei Xia, Ted Xiao, Harris Chan, Jacky Liang, Pete Florence, Andy Zeng, Jonathan\\nTompson, Igor Mordatch, Yevgen Chebotar, et al. Inner monologue: Embodied reasoning through\\nplanning with language models. arXiv preprint arXiv:2207.05608 , 2022b.\\nSiddharth Karamcheti, Megha Srivastava, Percy Liang, and Dorsa Sadigh. Lila: Language-informed\\nlatent actions. In CoRL , pp. 1379–1390, 2021. URL https://proceedings.mlr.press/\\nv164/karamcheti22a.html',\n",
       " '.\\nTakeshi Kojima, Shixiang Shane Gu, Machel Reid, Yutaka Matsuo, and Yusuke Iwasawa. Large\\nlanguage models are zero-shot reasoners. arXiv preprint arXiv:2205.11916 , 2022.\\nAngeliki Lazaridou, Elena Gribovskaya, Wojciech Stokowiec, and Nikolai Grigorev. Internet-\\naugmented language models through few-shot prompting for open-domain question answering.\\narXiv preprint arXiv:2203.05115 , 2022',\n",
       " '.\\narXiv preprint arXiv:2203.05115 , 2022.\\nPatrick Lewis, Ethan Perez, Aleksandra Piktus, Fabio Petroni, Vladimir Karpukhin, Naman Goyal,\\nHeinrich Küttler, Mike Lewis, Wen-tau Yih, Tim Rocktäschel, et al. Retrieval-augmented genera-\\ntion for knowledge-intensive nlp tasks. Advances in Neural Information Processing Systems , 33:\\n9459–9474, 2020',\n",
       " '.\\nShuang Li, Xavier Puig, Chris Paxton, Yilun Du, Clinton Wang, Linxi Fan, Tao Chen, De-An\\nHuang, Ekin Akyürek, Anima Anandkumar, Jacob Andreas, Igor Mordatch, Antonio Torralba,\\nand Yuke Zhu. Pre-trained language models for interactive decision-making, 2022. URL https:\\n//arxiv.org/abs/2202.01771 .\\n11\\nPublished as a conference paper at ICLR 2023\\nAleksandr Romanovich Luria. Ls vygotsky and the problem of localization of functions. Neuropsy-\\nchologia , 3(4):387–392, 1965',\n",
       " '.\\nAman Madaan and Amir Yazdanbakhsh. Text and patterns: For effective chain of thought, it takes\\ntwo to tango, 2022. URL https://arxiv.org/abs/2209.07686 .\\nVincent Micheli and François Fleuret. Language models are few-shot butlers. arXiv preprint\\narXiv:2104.07972 , 2021',\n",
       " '.\\nReiichiro Nakano, Jacob Hilton, Suchir Balaji, Jeff Wu, Long Ouyang, Christina Kim, Christopher\\nHesse, Shantanu Jain, Vineet Kosaraju, William Saunders, Xu Jiang, Karl Cobbe, Tyna Eloundou,\\nGretchen Krueger, Kevin Button, Matthew Knight, Benjamin Chess, and John Schulman. Webgpt:\\nBrowser-assisted question-answering with human feedback, 2021. URL https://arxiv.\\norg/abs/2112.09332',\n",
       " '.\\norg/abs/2112.09332 .\\nMaxwell Nye, Anders Johan Andreassen, Guy Gur-Ari, Henryk Michalewski, Jacob Austin, David\\nBieber, David Dohan, Aitor Lewkowycz, Maarten Bosma, David Luan, Charles Sutton, and\\nAugustus Odena. Show your work: Scratchpads for intermediate computation with language\\nmodels, 2021. URL https://arxiv.org/abs/2112.00114',\n",
       " '.\\nScott Reed, Konrad Zolna, Emilio Parisotto, Sergio Gomez Colmenarejo, Alexander Novikov,\\nGabriel Barth-Maron, Mai Gimenez, Yury Sulsky, Jackie Kay, Jost Tobias Springenberg, Tom\\nEccles, Jake Bruce, Ali Razavi, Ashley Edwards, Nicolas Heess, Yutian Chen, Raia Hadsell,\\nOriol Vinyals, Mahyar Bordbar, and Nando de Freitas. A generalist agent, 2022. URL https:\\n//arxiv.org/abs/2205.06175',\n",
       " '.\\nMohit Shridhar, Jesse Thomason, Daniel Gordon, Yonatan Bisk, Winson Han, Roozbeh Mottaghi,\\nLuke Zettlemoyer, and Dieter Fox. Alfred: A benchmark for interpreting grounded instructions\\nfor everyday tasks. In Proceedings of the IEEE/CVF conference on computer vision and pattern\\nrecognition , pp. 10740–10749, 2020a',\n",
       " '.\\nMohit Shridhar, Xingdi Yuan, Marc-Alexandre Côté, Yonatan Bisk, Adam Trischler, and Matthew\\nHausknecht. Alfworld: Aligning text and embodied environments for interactive learning. arXiv\\npreprint arXiv:2010.03768 , 2020b.\\nKurt Shuster, Mojtaba Komeili, Leonard Adolphs, Stephen Roller, Arthur Szlam, and Jason Weston.\\nLanguage models that seek for knowledge: Modular search & generation for dialogue and prompt\\ncompletion. arXiv preprint arXiv:2203.13224 , 2022a',\n",
       " '.\\nKurt Shuster, Jing Xu, Mojtaba Komeili, Da Ju, Eric Michael Smith, Stephen Roller, Megan Ung,\\nMoya Chen, Kushal Arora, Joshua Lane, Morteza Behrooz, William Ngan, Spencer Poff, Naman\\nGoyal, Arthur Szlam, Y-Lan Boureau, Melanie Kambadur, and Jason Weston. Blenderbot 3:\\na deployed conversational agent that continually learns to responsibly engage, 2022b. URL\\nhttps://arxiv.org/abs/2208.03188',\n",
       " '.\\nJames Thorne, Andreas Vlachos, Christos Christodoulopoulos, and Arpit Mittal. Fever: a large-scale\\ndataset for fact extraction and veriﬁcation. arXiv preprint arXiv:1803.05355 , 2018.\\nLev S Vygotsky. Thinking and speech. The collected works of LS Vygotsky , 1:39–285, 1987',\n",
       " '.\\nLev S Vygotsky. Thinking and speech. The collected works of LS Vygotsky , 1:39–285, 1987.\\nXuezhi Wang, Jason Wei, Dale Schuurmans, Quoc Le, Ed Chi, Sharan Narang, Aakanksha Chowdh-\\nery, and Denny Zhou. Self-consistency improves chain of thought reasoning in language models,\\n2022a. URL https://arxiv.org/abs/2203.11171 .\\nXuezhi Wang, Jason Wei, Dale Schuurmans, Quoc Le, Ed Chi, and Denny Zhou. Rationale-augmented\\nensembles in language models. arXiv preprint arXiv:2207.00747 , 2022b',\n",
       " '.\\nJason Wei, Xuezhi Wang, Dale Schuurmans, Maarten Bosma, Ed Chi, Quoc Le, and Denny\\nZhou. Chain of thought prompting elicits reasoning in large language models. arXiv preprint\\narXiv:2201.11903 , 2022.\\nZhilin Yang, Peng Qi, Saizheng Zhang, Yoshua Bengio, William W Cohen, Ruslan Salakhutdinov,\\nand Christopher D Manning. Hotpotqa: A dataset for diverse, explainable multi-hop question\\nanswering. arXiv preprint arXiv:1809.09600 , 2018',\n",
       " '.\\n12\\nPublished as a conference paper at ICLR 2023\\nShunyu Yao, Rohan Rao, Matthew Hausknecht, and Karthik Narasimhan. Keep CALM and explore:\\nLanguage models for action generation in text-based games. In Proceedings of the 2020 Conference\\non Empirical Methods in Natural Language Processing (EMNLP) , pp. 8736–8754, Online, Novem-\\nber 2020. Association for Computational Linguistics. doi: 10.18653/v1/2020.emnlp-main.704.\\nURLhttps://aclanthology.org/2020.emnlp-main.704',\n",
       " '.\\nURLhttps://aclanthology.org/2020.emnlp-main.704 .\\nShunyu Yao, Howard Chen, John Yang, and Karthik Narasimhan. Webshop: Towards scalable\\nreal-world web interaction with grounded language agents. arXiv preprint arXiv:2207.01206 ,\\n2022.\\nEric Zelikman, Yuhuai Wu, Jesse Mu, and Noah D. Goodman. Star: Bootstrapping reasoning with\\nreasoning, 2022. URL https://arxiv.org/abs/2203.14465',\n",
       " '.\\nDenny Zhou, Nathanael Schärli, Le Hou, Jason Wei, Nathan Scales, Xuezhi Wang, Dale Schuurmans,\\nOlivier Bousquet, Quoc Le, and Ed Chi. Least-to-most prompting enables complex reasoning in\\nlarge language models, 2022. URL https://arxiv.org/abs/2205.10625 .\\nYunchang Zhu, Liang Pang, Yanyan Lan, Huawei Shen, and Xueqi Cheng. Adaptive information\\nseeking for open-domain question answering. arXiv preprint arXiv:2109.06747 , 2021',\n",
       " '.\\n13\\nPublished as a conference paper at ICLR 2023\\nA A DDITIONAL RESULTS\\nA.1 GPT-3 E XPERIMENTS\\nPaLM-540B GPT-3\\nHotpotQA (exact match) 29.4 30.8\\nALFWorld (success rate %) 70.9 78.4\\nTable 5: ReAct prompting results using PaLM-540B vs. GPT-3 (text-davinci-002, greedy decoding).\\nOn HotpotQA, we randomly sample a subset of 500 validation questions. On ALFWorld, we use all\\n134 unseen validation task instances, and use the best prompt set according to PaLM-540B',\n",
       " '.\\nWe run additional GPT-3 (Brown et al., 2020) experiments to conﬁrm ReAct prompting performance\\nis general across different large language models. As shown in Table 5, GPT-3 (text-davinci-002,\\ngreedy decoding) consistently outperforms PaLM-540B on HotpotQA and ALFWorld, possibly\\nbecause it is ﬁnetuned with human instruction following. This indicates ReAct prompting is effective\\nacross different large language models on different tasks. The code for these experiments are at',\n",
       " 'across different large language models on different tasks. The code for these experiments are at\\nhttps://react-lm.github.io/',\n",
       " '.\\nA.2 REAC TOBTAINS UP -TO-DATE KNOWLEDGE ON HOTPOT QA\\n\\x0b\\x14D\\x0c\\x036WDQGDUG$QVZHU\\x1d\\x03\\x16\\x0f\\x13\\x13\\x13\\x0b\\x14E\\x0c\\x03&R7\\x03\\x0b5HDVRQ\\x032QO\\\\\\x0c7KRXJKW\\x1d\\x03/HW',\n",
       " '\\nV\\x03WKLQN\\x03VWHS\\x03E\\\\\\x03VWHS\\x11\\x037KH\\x03KRWHO\\x03WKDW\\x03LV\\x03KRPH\\x03WR\\x03WKH\\x03&LUTXH\\x03GX\\x036ROHLO\\x03VKRZ\\x030\\\\VWHUH\\x03LV\\x037UHDVXUH\\x03,VODQG\\x11\\x037UHDVXUH\\x03,VODQG\\x03KDV\\x03\\x15\\x0f\\x1b\\x1b\\x18\\x03URRPV\\x0f\\x03VR\\x03WKH\\x03DQVZHU\\x03LV\\x03\\x15\\x0f\\x1b\\x1b\\x18\\x11$QVZHU\\x1d\\x03\\x15\\x0f\\x1b\\x1b\\x18\\x0b\\x14F\\x0c\\x03$FW\\x102QO\\\\\\x03$FW\\x03\\x14\\x1d\\x036HDUFK>&LUTXH\\x03GX\\x036ROHLO@\\x032EV\\x03\\x14\\x1d\\x03&LUTXH\\x03GX\\x036ROHLO\\x03LV\\x03D\\x03&DQDGLDQ\\x03HQWHUWDLQPHQW\\x03FRPSDQ\\\\ª$FW\\x03\\x15\\x1d\\x03/RRNXS>0\\\\VWHUH@\\x032EV\\x03\\x15\\x1d\\x031R\\x03PRUH\\x03UHVXOWV$FW\\x03\\x16\\x1d\\x036HDUFK>0\\\\VWHUH\\x03\\x0b&LUTXH\\x03GX\\x036ROHLO\\x03VKRZ\\x0c@\\x032EV\\x03\\x16\\x1d\\x03&RXOG\\x03QRW\\x03ILQGª$FW\\x03\\x17\\x1d\\x036HDUFK>0\\\\VWHUH\\x03\\x0b&LUTXH\\x03GX\\x036ROHLO\\x0c@\\x032EV\\x03\\x17\\x1d\\x030\\\\VWqUH\\x03\\x0bP\\\\\\x10VWHHU\\x0c\\x03\\x03LV\\x03RQH\\x03RI\\x03VL[ª$FW\\x03\\x18\\x1d\\x03/RRNXS>7UHDVXUH\\x03,VODQG\\x03+RWHO\\x03DQG\\x03&DVLQR@\\x03ªª\\x0bHQG\\x03ZLWKRXW\\x03DQVZHU\\x0c\\x0b\\x14G\\x0c\\x035H$FW\\x03\\x0b5HDVRQ\\x03\\x0e\\x03$FW\\x0c7KRXJKW\\x03\\x14\\x1d\\x03,\\x03QHHG\\x03WR\\x03VHDUFK\\x03&LUTXH\\x03GX\\x036ROHLO\\x03VKRZ\\x030\\\\VWHUH\\x0f\\x03ILQG\\x03WKH\\x03KRWHO\\x03LW\\x03LV\\x03LQ\\x0f\\x03WKHQ\\x03ILQG\\x03WKH\\x03QXPEHU\\x03RI\\x03URRPV\\x03LQ\\x03WKH\\x03KRWHO\\x11$FW\\x03\\x14\\x1d\\x036HDUFK>&LUTXH\\x03GX\\x036ROHLO\\x03VKRZ\\x030\\\\VWHUH@2EV\\x03\\x14\\x1d\\x03&RXOG\\x03QRW\\x03ILQG\\x03&LUTXH\\x03GX\\x036ROHLO\\x03VKRZ\\x030\\\\VWHUH\\x11\\x036LPLODU\\x1d\\x03>',\n",
       " '&LUTXH\\x03GX\\x036ROHLO',\n",
       " '\\n\\x03ª7KRXJKW\\x03\\x15\\x1d\\x037R\\x03ILQG\\x03WKH\\x03KRWHO\\x0f\\x03,\\x03FDQ\\x03VHDUFK\\x030\\\\VWHUH\\x03\\x0b&LUTXH\\x03GX\\x036ROHLO\\x0c\\x11$FW\\x03\\x15\\x1d\\x036HDUFK>0\\\\VWHUH\\x03\\x0b&LUTXH\\x03GX\\x036ROHLO\\x0c@2EV\\x03\\x15\\x1d\\x030\\\\VWqUH\\x03\\x0bP\\\\\\x10VWHHU\\x0c\\x03\\x03LV\\x03ª\\x03+HOG\\x03LQ\\x03D\\x03FXVWRP\\x03WKHDWUH\\x03DW\\x03WKH\\x037UHDVXUH\\x03,VODQG\\x03+RWHO\\x03DQG\\x03&DVLQR\\x03ª7KRXJKW\\x03\\x16\\x1d\\x030\\\\VWHUH\\x03LV\\x03KHOG\\x03LQ\\x03D\\x03FXVWRP\\x03WKHDWUH\\x03DW\\x03WKH\\x037UHDVXUH\\x03,VODQG\\x03+RWHO\\x03DQG\\x03&DVLQR\\x11\\x036R\\x03,\\x03QHHG\\x03WR\\x03VHDUFK\\x037UHDVXUH\\x03,VODQG\\x03+RWHO\\x03DQG\\x03&DVLQR\\x03QH[W\\x03DQG\\x03ILQG\\x03WKH\\x03QXPEHU\\x03RI\\x03URRPV\\x03LQ\\x03WKH\\x03KRWHO\\x11$FW\\x03\\x16\\x1d\\x036HDUFK>7UHDVXUH\\x03,VODQG\\x03+RWHO\\x03DQG\\x03&DVLQR@2EV\\x03\\x16\\x1d\\x037UHDVXUH\\x03,VODQG\\x03+RWHO\\x03DQG\\x03&DVLQR\\x03ª\\x03ZLWK\\x03\\x15\\x0f\\x1b\\x1b\\x17\\x03URRPV\\x03DQG\\x03\\x15\\x15\\x13\\x03VXLWHV\\x03ª7KRXJKW\\x03\\x17\\x1d\\x037UHDVXUH\\x03,VODQG\\x03+RWHO\\x03DQG\\x03&DVLQR\\x03KDV\\x03\\x15\\x0f\\x1b\\x1b\\x17\\x03URRPV\\x03DQG\\x03\\x15\\x15\\x13\\x03VXLWHV\\x11\\x036R\\x03WKH\\x03DQVZHU\\x03LV\\x03\\x16\\x0f\\x14\\x13\\x17\\x11$FW\\x03\\x17\\x1d\\x03)LQLVK>\\x16\\x0f\\x14\\x13\\x17@Ҽ4XHVWLRQ\\x1d\\x03+RZ\\x03PDQ\\\\\\x03URRPV\\x03DUH\\x03LQ\\x03WKH\\x03KRWHO\\x03WKDW\\x03LV\\x03KRPH\\x03WR\\x03WKH\\x03&LUTXH\\x03GX\\x036ROHLO\\x03VKRZ\\x030\\\\VWHUH\"+RWSRW4$\\x03ODEHO\\x1d\\x03\\x15\\x0f\\x19\\x19\\x17\\x0b\\x14\\x0c\\x03+RWVSRW\\x034$2XWGDWHG\\x03',\n",
       " '8S\\x10WR\\x10GDWH\\x03\\nFigure 4: Another example HotpotQA question, where the original label is outdated. Only ReAct is\\nable to obtain the up-to-date answer thanks to real-world web interaction plus reasoning',\n",
       " '.\\nDuring trajectory inspection, we also ﬁnd that sometimes ReAct does not agree with dataset labels as\\nthe labels themselves could be outdated. For example, as shown in Figure 4, the question asks about\\nthe size of a hotel, which increased from the HotpotQA construction time. While Standard andCoT\\ngive wrong answers due to hallucination, Act fails despite the access of real-world web interaction,\\ndue to a lack of reasoning to guide how to interact with the Internet for QA. Only ReAct is able to',\n",
       " 'due to a lack of reasoning to guide how to interact with the Internet for QA. Only ReAct is able to\\nretrieve up-to-date information from the Internet and provide a reasonable answer. Therefore, better\\nincorporation of reasoning abilities might beneﬁt recent Internet-augmented language models (Nakano\\net al., 2021; Lazaridou et al., 2022; Shuster et al., 2022a) for up-to-date task solving',\n",
       " '.\\nA.3 H UMAN -IN-THE-LOOP BEHAVIOR CORRECTION ON ALFWORLD\\nWe also explore human-in-the-loop interaction with ReAct , to allow a human to inspect and edit\\nReAct ’s reasoning traces. Figure 5 shows that by simply removing a hallucinating sentence in Act\\n17 and adding some hints in Act 23, ReAct can be made to change its behavior drastically to align\\nwith these human thought edits and succeed in the task. From a human perspective, solving such a',\n",
       " 'with these human thought edits and succeed in the task. From a human perspective, solving such a\\ntask becomes signiﬁcantly easier, from typing tens of actions to only editing a couple of thoughts,\\nwhich enables new forms of human-machine collaboration. We note that such a policy edit on-the-go\\n14\\nPublished as a conference paper at ICLR 2023',\n",
       " '\\n\\x0bD\\x0c\\x035H$FW\\x03\\x11\\x11\\x11\\x11\\x11\\x112EV\\x03\\x14\\x19\\x1d\\x03<RX\\x03RSHQ\\x03WKH\\x03GUDZHU\\x03\\x17\\x11\\x037KH\\x03GUDZHU\\x03\\x17\\x03LV\\x03RSHQ\\x11\\x03,Q\\x03LW\\x0f\\x03\\\\RX\\x03VHH\\x03D\\x03NH\\\\FKDLQ\\x03\\x16\\x0f\\x03DQG\\x03D\\x03ZDWFK\\x03\\x15\\x11\\x03$FW\\x03\\x14\\x1a\\x1d\\x037KLQN\\x03>1RZ\\x03,\\x03ILQG\\x03WKH\\x03ILUVW\\x03NH\\\\FKDLQ\\x03\\x0b\\x16\\x0c\\x11\\x031H[W\\x0f\\x03,\\x03QHHG\\x03WR\\x03WDNH\\x03LW\\x11\\x03,\\x03FDQ\\x03ILQG\\x03WKH\\x03VHFRQG\\x03NH\\\\FKDLQ\\x03\\x0b\\x15\\x0c\\x03ODWHU\\x03LQ\\x03GUDZHU\\x03\\x17\\x11\\x03@$FW\\x03\\x14\\x1b\\x1d\\x03WDNH\\x03NH\\\\FKDLQ\\x03\\x16\\x03IURP\\x03GUDZHU\\x03\\x17\\x032EV\\x03\\x14\\x1b\\x1d\\x03<RX\\x03SLFN\\x03XS\\x03WKH\\x03NH\\\\FKDLQ\\x03\\x16\\x03IURP\\x03WKH\\x03GUDZHU\\x03\\x17\\x11\\x03\\x11\\x11\\x11\\x11\\x11\\x11$FW\\x03\\x15\\x15\\x1d\\x03SXW\\x03NH\\\\FKDLQ\\x03\\x16\\x03LQ\\x12RQ\\x03VDIH\\x03\\x14\\x032EV\\x03\\x15\\x15\\x1d\\x03<RX\\x03SXW\\x03WKH\\x03NH\\\\FKDLQ\\x03\\x16\\x03LQ\\x12RQ\\x03WKH\\x03VDIH\\x03\\x14\\x11\\x03$FW\\x03\\x15\\x16\\x1d\\x037KLQN\\x03>1RZ\\x03,\\x03SXW\\x03WKH\\x03ILUVW\\x03NH\\\\FKDLQ\\x03LQ\\x03VDIH\\x11\\x031H[W\\x0f\\x03,\\x03QHHG\\x03WR\\x03ILQG\\x03WKH\\x03VHFRQG\\x03NH\\\\FKDLQ\\x11\\x03,\\x03FDQ\\x03GLUHFWO\\\\\\x03JR\\x03WR\\x03GUDZHU\\x03\\x17\\x11\\x03@$FW\\x03\\x15\\x17\\x1d\\x03JR\\x03WR\\x03GUDZHU\\x03\\x17\\x032EV\\x03\\x15\\x17\\x1d\\x037KH\\x03GUDZHU\\x03\\x17\\x03LV\\x03RSHQ\\x11\\x03,Q\\x03LW\\x0f\\x03\\\\RX\\x03VHH\\x03D\\x03ZDWFK\\x03\\x15\\x11\\x03$FW\\x03\\x15\\x18\\x1d\\x037KLQN\\x03>1RZ\\x03,\\x03ILQG\\x03WKH\\x03VHFRQG\\x03NH\\\\FKDLQ\\x03\\x0b\\x15\\x0c\\x11\\x031H[W\\x0f\\x03,\\x03QHHG\\x03WR\\x03WDNH\\x03LW\\x11@$FW\\x03\\x15\\x19\\x1d\\x03WDNH\\x03NH\\\\FKDLQ\\x03\\x15\\x03IURP\\x03GUDZHU\\x03\\x17\\x032EV\\x03\\x15\\x19\\x1d\\x031RWKLQJ\\x03KDSSHQV\\x11\\x0bE\\x0c\\x035H$FW\\x03\\x0b+XPDQ\\x037KRXJKW\\x03HGLW\\x0c\\x11\\x11\\x11\\x11\\x11\\x112EV\\x03\\x14\\x19\\x1d\\x03<RX\\x03RSHQ\\x03WKH\\x03GUDZHU\\x03\\x17\\x11\\x037KH\\x03GUDZHU\\x03\\x17\\x03LV\\x03RSHQ\\x11\\x03,Q\\x03LW\\x0f\\x03\\\\RX\\x03VHH\\x03D\\x03NH\\\\FKDLQ\\x03\\x16\\x0f\\x03DQG\\x03D\\x03ZDWFK\\x03\\x15\\x11\\x03$FW\\x03\\x14\\x1a\\x1dѕ7KLQNѕ>1RZ\\x03,\\x03ILQG\\x03WKH\\x03ILUVW\\x03NH\\\\FKDLQ\\x03\\x0b\\x16\\x0c\\x11\\x031H[W\\x0f\\x03,\\x03QHHG\\x03WR\\x03WDNH\\x03LW\\x11\\x03,\\x03FDQ\\x03ILQG\\x03WKH\\x03VHFRQG\\x03NH\\\\FKDLQ\\x03\\x0b\\x15\\x0c\\x03ODWHU\\x03LQ\\x03GUDZHU\\x03\\x17\\x11@$FW\\x03\\x14\\x1b\\x1d\\x03WDNH\\x03NH\\\\FKDLQ\\x03\\x16\\x03IURP\\x03GUDZHU\\x03\\x17\\x032EV\\x03\\x14\\x1b\\x1d\\x03<RX\\x03SLFN\\x03XS\\x03WKH\\x03NH\\\\FKDLQ\\x03\\x16\\x03IURP\\x03WKH\\x03GUDZHU\\x03\\x17\\x11\\x03\\x11\\x11\\x11\\x11\\x11\\x11$FW\\x03\\x15\\x15\\x1d\\x03SXW\\x03NH\\\\FKDLQ\\x03\\x16\\x03LQ\\x12RQ\\x03VDIH\\x03\\x14\\x032EV\\x03\\x15\\x15\\x1d\\x03<RX\\x03SXW\\x03WKH\\x03NH\\\\FKDLQ\\x03\\x16\\x03LQ\\x12RQ\\x03WKH\\x03VDIH\\x03\\x14\\x11\\x03$FW\\x03\\x15\\x16\\x1d\\x037KLQNѕ>1RZ\\x03,\\x03SXW\\x03WKH\\x03ILUVW\\x03NH\\\\FKDLQ\\x03LQ\\x03VDIH\\x11\\x031H[W\\x0f\\x03,\\x03QHHG\\x03WR\\x03ILQG\\x03WKH\\x03VHFRQG\\x03NH\\\\FKDLQ\\x0f\\x03ZKLFK\\x03LV\\x03PRUH\\x03OLNHO\\\\\\x03WR\\x03DSSHDU\\x03LQ\\x03GUHVVHU\\x03\\x0b\\x14\\x0c\\x0f\\x03JDUEDJHFDQ\\x03\\x0b\\x14\\x0c\\x0f\\x03VDIH\\x03\\x0b\\x14\\x0c\\x0f\\x03VLGHWDEOH\\x03\\x0b\\x14\\x0c\\x0f\\x03VRID\\x03\\x0b\\x14\\x0c\\x0f\\x03VKHOI\\x03\\x0b\\x14\\x10\\x14\\x15\\x0c\\x11@$FW\\x03\\x15\\x17\\x1d\\x03JR\\x03WR\\x03GUHVVHU\\x03\\x14\\x032EV\\x03\\x15\\x17\\x1d\\x032Q\\x03WKH\\x03GUHVVHU\\x03\\x14\\x0f\\x03\\\\RX\\x03VHH\\x03D\\x03ER[\\x03\\x14\\x0f\\x03D\\x03FUHGLWFDUG\\x03\\x14\\x0f\\x03D\\x03NH\\\\FKDLQ\\x03\\x15\\x0f\\x03D\\x03NH\\\\FKDLQ\\x03\\x14\\x0f\\x03D\\x03ODSWRS\\x03\\x14\\x11\\x11\\x11$FW\\x03\\x15\\x18\\x1d\\x037KLQNѕ>1RZ\\x03,\\x03ILQG\\x03WKH\\x03VHFRQG\\x03NH\\\\FKDLQ\\x03\\x0b\\x15\\x0c\\x11\\x031H[W\\x0f\\x03,\\x03QHHG\\x03WR\\x03WDNH\\x03LW\\x11@$FW\\x03\\x15\\x19\\x1d\\x03WDNH\\x03NH\\\\FKDLQ\\x03\\x15\\x03IURP\\x03GUHVVHU\\x03\\x14\\x032EV\\x03\\x15\\x19\\x1d\\x03<RX\\x03SLFN\\x03XS\\x03WKH\\x03NH\\\\FKDLQ\\x03\\x15\\x03IURP\\x03WKH\\x03GUHVVHU\\x03\\x14\\x11\\x03$FW\\x03\\x15\\x1a\\x1d\\x037KLQNѕ>1RZ\\x03,\\x03WDNH\\x03WKH\\x03VHFRQG\\x03NH\\\\FKDLQ\\x03\\x0b\\x15\\x0c\\x11\\x031H[W\\x0f\\x03,\\x03QHHG\\x03WR\\x03SXW\\x03LW\\x03LQ\\x12RQ\\x03VDIH\\x03\\x14\\x11@$FW\\x03\\x15\\x1b\\x1d\\x03JR\\x03WR\\x03VDIH\\x03\\x142EV\\x03\\x15\\x1b\\x1d\\x037KH\\x03VDIH\\x03\\x14\\x03LV\\x03RSHQ\\x11\\x03,Q\\x03LW\\x0f\\x03\\\\RX\\x03VHH\\x03D\\x03NH\\\\FKDLQ\\x03\\x16\\x0f\\x03D\\x03VWDWXH\\x03\\x15\\x0f\\x03DQG\\x03D\\x03ZDWFK\\x03\\x16\\x11$FW\\x03\\x15\\x1c\\x1d\\x03SXW\\x03NH\\\\FKDLQ\\x03\\x15\\x03LQ\\x12RQ\\x03VDIH\\x03\\x142EV\\x03\\x15\\x1c\\x1d\\x03<RX\\x03SXW\\x03WKH\\x03NH\\\\FKDLQ\\x03\\x15\\x03LQ\\x12RQ\\x03WKH\\x03VDIH\\x03\\x14\\x11Ҽ<RX\\x03DUH\\x03LQ\\x03WKH\\x03PLGGOH\\x03RI\\x03D\\x03URRP\\x11\\x03/RRNLQJ\\x03TXLFNO\\\\\\x03DURXQG\\x03\\\\RX\\x0f\\x03\\\\RX\\x03VHH\\x03D\\x03DUPFKDLU\\x03\\x14\\x0f\\x03D\\x03FDELQHW\\x03\\x17\\x0f\\x03ª\\x03D\\x03FDELQHW\\x03\\x14\\x0f\\x03D\\x03GUDZHU\\x03\\x18\\x0f\\x03ª\\x0f\\x03D\\x03GUDZHU\\x03\\x14\\x0f\\x03D\\x03GUHVVHU\\x03\\x14\\x0f\\x03D\\x03JDUEDJHFDQ\\x03\\x14\\x0f\\x03D\\x03VDIH\\x03\\x14\\x0f\\x03D\\x03VKHOI\\x03\\x14\\x15\\x0f\\x03ª\\x0f\\x03D\\x03VKHOI\\x03\\x14\\x0f\\x03D\\x03VLGHWDEOH\\x03\\x14\\x0f\\x03DQG\\x03D\\x03VRID\\x03\\x14\\x11\\x03<RXU\\x03WDVN\\x03LV\\x03WR\\x1d\\x03SXW\\x03WZR\\x03NH\\\\FKDLQ\\x03LQ\\x03VDIH\\x11$OI:RUOG',\n",
       " 'Figure 5: A human-in-the-loop behavior correction example with ReAct in AlfWorld. (a) ReAct\\ntrajectory fails due to a hallucinating thought (Act 17). (b) By a human simply editing two thoughts\\n(Act 17, 23), the ReAct trajectory produces desirable reasoning traces and actions and succeeds',\n",
       " '.\\nis difﬁcult for Act and previous RL methods, as a human cannot change the model parameters, and\\nchanging a few actions might not edit the rest of the model behavior. This paradigm is also more than\\nhuman dialogue to update the goal or subgoal as in Huang et al. (2022b) — while editing ReAct\\nthoughts can do these, it can also modify the model’s internal belief, reasoning styles, or anything the\\nﬂexible thought space supports, for better task solving. We believe this is an exciting direction for',\n",
       " 'human alignment and leave more systematic study as future work',\n",
       " '.\\nB E XPERIMENT DETAILS\\nB.1 H OTPOT QA F INETUNING DETAILS\\nFor all ﬁnetuning we use a batch size of 64. On PaLM-8B, we ﬁnetune ReAct andAct methods\\nfor4;000steps and Standard andCoT methods for 2;000steps. On PaLM-62B, we ﬁnetune\\nReAct andAct methods for 4;000steps and Standard andCoT methods for 1;000steps. We\\nﬁndReAct andAct methods generally beneﬁt from more training steps (and more training data),\\nwhile Standard andCoT methods degrade soon after ﬁnetuning',\n",
       " '.\\nB.2 A LFWORLD IM-S TYLE DETAILS\\nFor the IM-style ablation, the same expert trajectories used in ReAct are reannotated with dense\\nexternal feedback thoughts within these trajectories, that limit ReAct-IM to only think about (1)\\ndecomposing the current goal and (2) the current subgoal that needs to be completed. In particular,\\nReAct-IM lacks thoughts that (1) determine when a subgoal is completed (2) determine what the',\n",
       " 'ReAct-IM lacks thoughts that (1) determine when a subgoal is completed (2) determine what the\\nnext subgoal should be (3) inducing the LLM to refer to its internal pretraining knowledge to identify\\nwhere items can be within the environment',\n",
       " '.\\n15\\nPublished as a conference paper at ICLR 2023\\nC P ROMPTS\\nC.1 H OTPOT QA\\nHotpot QA Prompts\\nOrig inal\\nQuestion What is the elevation range for the area that the eastern sector of the\\nColorado orogeny extends into?\\nAnswer 1,800 to 7,000 ft\\nQuestion Musician and satirist Allie Goertz wrote a song about the \"The Simpsons\"\\ncharacter Milhouse, who Matt Groening named after who?\\nAnswer Richard Nixon\\nQuestion Which documentary is about Finnish rock groups, Adam Clayton Powell or The\\nSaimaa Gesture?',\n",
       " 'Question Which documentary is about Finnish rock groups, Adam Clayton Powell or The\\nSaimaa Gesture?\\nAnswer The Saimaa Gesture\\nQuestion What profession does Nicholas Ray and Elia Kazan have in common?\\nAnswer director, screenwriter, actor\\nQuestion Which magazine was started first Arthur’s Magazine or First for Women?\\nAnswer Arthur’s Magazine\\nQuestion Were Pavel Urysohn and Leonid Levin known for the same type of work?\\nAnswer Yes\\nAct',\n",
       " 'Question Were Pavel Urysohn and Leonid Levin known for the same type of work?\\nAnswer Yes\\nAct\\nQuestion What is the elevation range for the area that the eastern sector of the\\nColorado orogeny extends into?\\nAction 1 Search[Colorado orogeny]\\nObservation 1 The Colorado orogeny was an episode of mountain building (an orogeny) in\\nColorado and surrounding areas',\n",
       " '.\\nAction 2 Lookup[eastern sector]\\nObservation 2 (Result 1 / 1) The eastern sector extends into the High Plains and is called\\nthe Central Plains orogeny',\n",
       " '.\\nAction 3 Search[High Plains]\\nObservation 3 High Plains refers to one of two distinct land regions:\\nAction 4 Search[High Plains (United States)]\\nObservation 4 The High Plains are a subregion of the Great Plains. From east to west, the\\nHigh Plains rise in elevation from around 1,800 to 7,000 ft (550 to 2,130\\nm).[3]\\nAction 5 Finish[1,800 to 7,000 ft]\\nQuestion Musician and satirist Allie Goertz wrote a song about the \"The Simpsons\"\\ncharacter Milhouse, who Matt Groening named after who?',\n",
       " 'character Milhouse, who Matt Groening named after who?\\nAction 1 Search[Milhouse]\\nObservation 1 Milhouse Mussolini Van Houten is a recurring character in the Fox animated\\ntelevision series The Simpsons voiced by Pamela Hayden and created by Matt\\nGroening',\n",
       " '.\\nAction 2 Lookup[named after]\\nObservation 2 (Result 1 / 1) Milhouse was named after U.S. president Richard Nixon, whose\\nmiddle name was Milhous',\n",
       " '.\\nAction 3 Finish[Richard Nixon]\\nQuestion Which documentary is about Finnish rock groups, Adam Clayton Powell or The\\nSaimaa Gesture?\\nAction 1 Search[Adam Clayton Powell]\\nObservation 1 Could not find [Adam Clayton Powell]. Similar: [’Adam Clayton Powell\\nIII’, ’Seventh Avenue (Manhattan)’, ’Adam Clayton Powell Jr. State Office\\nBuilding’, ’Isabel Washington Powell’, ’Adam Powell’, ’Adam Clayton Powell\\n(film)’, ’Giancarlo Esposito’]',\n",
       " '.\\nAction 2 Search[Adam Clayton Powell (film)]\\nObservation 2 Adam Clayton Powell is a 1989 American documentary film directed by\\nRichard Kilberg. The film is about the rise and fall of influential\\nAfrican-American politician Adam Clayton Powell Jr.[3][4] It was later aired\\nas part of the PBS series The American Experience',\n",
       " '.\\nAction 3 Finish[The Saimaa Gesture]\\nQuestion What profession does Nicholas Ray and Elia Kazan have in common?\\nAction 1 Search[Nicholas Ray]\\nObservation 1 Nicholas Ray (born Raymond Nicholas Kienzle Jr., August 7, 1911 - June 16,\\n1979) was an American film director, screenwriter, and actor best known for\\nthe 1955 film Rebel Without a Cause.\\nAction 2 Search[Elia Kazan]\\nObservation 2 Elia Kazan was an American film and theatre director, producer, screenwriter\\nand actor',\n",
       " '.\\nContinued on next page\\n16\\nPublished as a conference paper at ICLR 2023\\nHotpot QA Prompts – Continued from previous page\\nAction 3 Finish[director, screenwriter, actor]\\nQuestion Which magazine was started first Arthur’s Magazine or First for Women?\\nAction 1 Search[Arthur’s Magazine]\\nObservation 1 Arthur’s Magazine (1844-1846) was an American literary periodical published\\nin Philadelphia in the 19th century',\n",
       " '.\\nAction 2 Search[First for Women]\\nObservation 2 First for Women is a woman’s magazine published by Bauer Media Group in the\\nUSA.[1] The magazine was started in 1989.\\nAction 3 Finish[Arthur’s Magazine]\\nQuestion Were Pavel Urysohn and Leonid Levin known for the same type of work?\\nAction 1 Search[Pavel Urysohn]\\nObservation 1 Pavel Samuilovich Urysohn (February 3, 1898 - August 17, 1924) was a Soviet\\nmathematician who is best known for his contributions in dimension theory',\n",
       " '.\\nAction 2 Search[Leonid Levin]\\nObservation 2 Leonid Anatolievich Levin is a Soviet-American mathematician and computer\\nscientist.\\nAction 3 Finish[yes]\\nCoT\\nQuestion What is the elevation range for the area that the eastern sector of the\\nColorado orogeny extends into?\\nThought Let’s think step by step. The eastern sector of Colorado orogeny extends\\ninto the High Plains. High Plains rise in elevation from around 1,800 to\\n7,000 ft, so the answer is 1,800 to 7,000 ft',\n",
       " '.\\nAnswer 1,800 to 7,000 ft\\nQuestion Musician and satirist Allie Goertz wrote a song about the \"The Simpsons\"\\ncharacter Milhouse, who Matt Groening named after who?\\nThought Let’s think step by step. Milhouse was named after U.S. president Richard\\nNixon, so the answer is Richard Nixon',\n",
       " '.\\nAnswer Richard Nixon\\nQuestion Which documentary is about Finnish rock groups, Adam Clayton Powell or The\\nSaimaa Gesture?\\nThought Let’s think step by step. Adam Clayton Powell (film) is a documentary about\\nan African-American politician, not Finnish rock groups. So the documentary\\nabout Finnish rock groups must instead be The Saimaa Gesture',\n",
       " '.\\nAnswer The Saimaa Gesture\\nQuestion What profession does Nicholas Ray and Elia Kazan have in common?\\nThought Let’s think step by step. Professions of Nicholas Ray are director,\\nscreenwriter, and actor. Professions of Elia Kazan are director, producer,\\nscreenwriter, and actor. So profession Nicholas Ray and Elia Kazan have in\\ncommon is director, screenwriter, and actor',\n",
       " '.\\nAnswer director, screenwriter, actor\\nQuestion Which magazine was started first Arthur’s Magazine or First for Women?\\nThought Let’s think step by step. Arthur’s Magazine was started in 1844. First\\nfor Women was started in 1989. 1844 (Arthur’s Magazine) < 1989 (First for\\nWomen), so Arthur’s Magazine was started first',\n",
       " '.\\nAnswer Arthur’s Magazine\\nQuestion Were Pavel Urysohn and Leonid Levin known for the same type of work?\\nThought Let’s think step by step. Pavel Urysohn is a mathematician. Leonid Levin\\nis a mathematician and computer scientist. So Pavel Urysohn and Leonid\\nLevin have the same type of work',\n",
       " '.\\nAnswer Yes\\nReAct\\nQuestion What is the elevation range for the area that the eastern sector of the\\nColorado orogeny extends into?\\nThought 1 I need to search Colorado orogeny, find the area that the eastern sector\\nof the Colorado orogeny extends into, then find the elevation range of the\\narea.\\nAction 1 Search[Colorado orogeny]\\nObservation 1 The Colorado orogeny was an episode of mountain building (an orogeny) in\\nColorado and surrounding areas',\n",
       " '.\\nThought 2 It does not mention the eastern sector. So I need to look up eastern\\nsector.\\nAction 2 Lookup[eastern sector]\\nObservation 2 (Result 1 / 1) The eastern sector extends into the High Plains and is called\\nthe Central Plains orogeny.\\nThought 3 The eastern sector of Colorado orogeny extends into the High Plains. So I\\nneed to search High Plains and find its elevation range',\n",
       " '.\\nAction 3 Search[High Plains]\\nObservation 3 High Plains refers to one of two distinct land regions\\nThought 4 I need to instead search High Plains (United States)',\n",
       " '.\\nAction 4 Search[High Plains (United States)]\\nContinued on next page\\n17\\nPublished as a conference paper at ICLR 2023\\nHotpot QA Prompts – Continued from previous page\\nObservation 4 The High Plains are a subregion of the Great Plains. From east to west, the\\nHigh Plains rise in elevation from around 1,800 to 7,000 ft (550 to 2,130\\nm).[3]\\nThought 5 High Plains rise in elevation from around 1,800 to 7,000 ft, so the answer\\nis 1,800 to 7,000 ft',\n",
       " '.\\nAction 5 Finish[1,800 to 7,000 ft]\\nQuestion Musician and satirist Allie Goertz wrote a song about the \"The Simpsons\"\\ncharacter Milhouse, who Matt Groening named after who?\\nThought 1 The question simplifies to \"The Simpsons\" character Milhouse is named after\\nwho. I only need to search Milhouse and find who it is named after',\n",
       " '.\\nAction 1 Search[Milhouse]\\nObservation 1 Milhouse Mussolini Van Houten is a recurring character in the Fox animated\\ntelevision series The Simpsons voiced by Pamela Hayden and created by Matt\\nGroening.\\nThought 2 The paragraph does not tell who Milhouse is named after, maybe I can look up\\n\"named after\".\\nAction 2 Lookup[named after]\\nObservation 2 (Result 1 / 1) Milhouse was named after U.S. president Richard Nixon, whose\\nmiddle name was Milhous',\n",
       " '.\\nThought 3 Milhouse was named after U.S. president Richard Nixon, so the answer is\\nRichard Nixon.\\nAction 3 Finish[Richard Nixon]\\nQuestion Which documentary is about Finnish rock groups, Adam Clayton Powell or The\\nSaimaa Gesture?\\nThought 1 I need to search Adam Clayton Powell and The Saimaa Gesture, and find which\\ndocumentary is about Finnish rock groups',\n",
       " '.\\nAction 1 Search[Adam Clayton Powell]\\nObservation 1 Could not find [Adam Clayton Powell]. Similar: [’Adam Clayton Powell\\nIII’, ’Seventh Avenue (Manhattan)’, ’Adam Clayton Powell Jr. State Office\\nBuilding’, ’Isabel Washington Powell’, ’Adam Powell’, ’Adam Clayton Powell\\n(film)’, ’Giancarlo Esposito’].\\nThought 2 To find the documentary, I can search Adam Clayton Powell (film)',\n",
       " '.\\nThought 2 To find the documentary, I can search Adam Clayton Powell (film).\\nAction 2 Search[Adam Clayton Powell (film)]\\nObservation 2 Adam Clayton Powell is a 1989 American documentary film directed by\\nRichard Kilberg. The film is about the rise and fall of influential\\nAfrican-American politician Adam Clayton Powell Jr.[3][4] It was later aired\\nas part of the PBS series The American Experience',\n",
       " '.\\nThought 3 Adam Clayton Powell (film) is a documentary about an African-American\\npolitician, not Finnish rock groups. So the documentary about Finnish rock\\ngroups must instead be The Saimaa Gesture.\\nAction 3 Finish[The Saimaa Gesture]\\nQuestion What profession does Nicholas Ray and Elia Kazan have in common?\\nThought 1 I need to search Nicholas Ray and Elia Kazan, find their professions, then\\nfind the profession they have in common',\n",
       " '.\\nAction 1 Search[Nicholas Ray]\\nObservation 1 Nicholas Ray (born Raymond Nicholas Kienzle Jr., August 7, 1911 - June 16,\\n1979) was an American film director, screenwriter, and actor best known for\\nthe 1955 film Rebel Without a Cause.\\nThought 2 Professions of Nicholas Ray are director, screenwriter, and actor. I need\\nto search Elia Kazan next and find his professions.\\nAction 2 Search[Elia Kazan]\\nObservation 2 Elia Kazan was an American film and theatre director, producer, screenwriter\\nand actor',\n",
       " '.\\nThought 3 Professions of Elia Kazan are director, producer, screenwriter, and actor.\\nSo profession Nicholas Ray and Elia Kazan have in common is director,\\nscreenwriter, and actor.\\nAction 3 Finish[director, screenwriter, actor]\\nQuestion Which magazine was started first Arthur’s Magazine or First for Women?\\nThought 1 I need to search Arthur’s Magazine and First for Women, and find which was\\nstarted first',\n",
       " '.\\nAction 1 Search[Arthur’s Magazine]\\nObservation 1 Arthur’s Magazine (1844-1846) was an American literary periodical published\\nin Philadelphia in the 19th century.\\nThought 2 Arthur’s Magazine was started in 1844. I need to search First for Women\\nnext.\\nAction 2 Search[First for Women]\\nObservation 2 First for Women is a woman’s magazine published by Bauer Media Group in the\\nUSA.[1] The magazine was started in 1989',\n",
       " '.\\nThought 3 First for Women was started in 1989. 1844 (Arthur’s Magazine) < 1989 (First\\nfor Women), so Arthur’s Magazine was started first.\\nAction 3 Finish[Arthur’s Magazine]\\nQuestion Were Pavel Urysohn and Leonid Levin known for the same type of work?\\nThought 1 I need to search Pavel Urysohn and Leonid Levin, find their types of work,\\nthen find if they are the same',\n",
       " '.\\nAction 1 Search[Pavel Urysohn]\\nContinued on next page\\n18\\nPublished as a conference paper at ICLR 2023\\nHotpot QA Prompts – Continued from previous page\\nObservation 1 Pavel Samuilovich Urysohn (February 3, 1898 - August 17, 1924) was a Soviet\\nmathematician who is best known for his contributions in dimension theory.\\nThought 2 Pavel Urysohn is a mathematician. I need to search Leonid Levin next and\\nfind its type of work',\n",
       " '.\\nAction 2 Search[Leonid Levin]\\nObservation 2 Leonid Anatolievich Levin is a Soviet-American mathematician and computer\\nscientist.\\nThought 3 Leonid Levin is a mathematician and computer scientist. So Pavel Urysohn\\nand Leonid Levin have the same type of work.\\nAction 3 Finish[yes]\\n19\\nPublished as a conference paper at ICLR 2023\\nC.2 F EVER\\nFEVER Prompts\\nOrig inal Determine if there is Observation that SUPPORTS or REFUTES a Claim, or if\\nthere is NOT ENOUGH INFORMATION',\n",
       " '.\\nClaim Nikolaj Coster-Waldau worked with the Fox Broadcasting Company.\\nAnswer SUPPORTS\\nClaim Stranger Things is set in Bloomington, Indiana.\\nAnswer REFUTES\\nClaim Beautiful reached number two on the Billboard Hot 100 in 2003.\\nAnswer NOT ENOUGH INFO\\nAct Determine if there is Observation that SUPPORTS or REFUTES a Claim, or if\\nthere is NOT ENOUGH INFORMATION.\\nClaim Nikolaj Coster-Waldau worked with the Fox Broadcasting Company',\n",
       " '.\\nAction2 Search[Nikolaj Coster-Waldau]\\nObservation 1 Nikolaj William Coster-Waldau (born 27 July 1970) is a Danish actor and\\nproducer. He graduated from the Danish National School of Performing Arts\\nin Copenhagen in 1993,[1] and had his breakthrough role in Denmark with\\nthe film Nightwatch (1994). He played Jaime Lannister in the HBO fantasy\\ndrama series Game of Thrones, for which he received two Primetime Emmy\\nAward nominations for Outstanding Supporting Actor in a Drama Series.',\n",
       " '.\\nCoster-Waldau has appeared in numerous films in his native Denmark and\\nScandinavia, including Headhunters (2011) and A Thousand Times Good Night\\n(2013). In the U.S, his debut film role was in the war film Black Hawk Down\\n(2001), playing Medal of Honor recipient Gary Gordon.[2] He then played a\\ndetective in the short-lived Fox television series New Amsterdam (2008), and\\nappeared in the 2009 Fox television film Virtuality, originally intended as\\na pilot',\n",
       " '.\\nAction 2 Finish[SUPPORTS]\\nClaim Stranger Things is set in Bloomington, Indiana.\\nAction 1 Search[Stranger Things]\\nObservation 1 Stranger Things is an American science fiction horror drama television\\nseries created by the Duffer Brothers. Set in the 1980s, primarily in\\nthe fictional town of Hawkins, Indiana, the series centers on a number of\\nmysteries and supernatural events occurring around the town and their impact\\non an ensemble of child and adult characters',\n",
       " '.\\nAction 2 Finish[REFUTES]\\nClaim Beautiful reached number two on the Billboard Hot 100 in 2003.\\nAction 1 Search[Beautiful]\\nObservation 1 Could not find [Beautiful]. Similar: [’Beautiful’, ’Beautiful, Beautiful’,\\n’A Beautiful Mind (film)’, ’Beautiful (Christina Aguilera song)’, ’Life Is\\nBeautiful’].\\nAction 2 Search[Beautiful (Christina Aguilera song)\\nObservation 2 \"Beautiful\" is a song recorded by American singer Christina Aguilera for her\\nfourth studio album, Stripped (2002)',\n",
       " '.\\nAction 3 Lookup[Billboard Hot 100]\\nObservation 3 (Result 1 / 3) The song peaked at number two on the Billboard Hot 100 in the\\nUnited States, where it was certified Gold for 500,000 units shipped.\\nAction 4 Finish[NOT ENOUGH INFO]\\nCoT Determine if there is Observation that SUPPORTS or REFUTES a Claim, or if\\nthere is NOT ENOUGH INFORMATION.\\nClaim Nikolaj Coster-Waldau worked with the Fox Broadcasting Company',\n",
       " '.\\nClaim Nikolaj Coster-Waldau worked with the Fox Broadcasting Company.\\nThought Nikolaj William Coster-Waldau appeared in the 2009 Fox television film\\nVirtuality, so he has worked with the Fox Broadcasting Company.\\nAnswer SUPPORTS\\nClaim Stranger Things is set in Bloomington, Indiana.\\nThought Stranger Things is in the fictional town of Hawkins, Indiana, not in\\nBloomington, Indiana',\n",
       " '.\\nThought Stranger Things is in the fictional town of Hawkins, Indiana, not in\\nBloomington, Indiana.\\nAnswer REFUTES\\nContinued on next page\\n20\\nPublished as a conference paper at ICLR 2023\\nFever Prompts – Continued from previous page\\nClaim Beautiful reached number two on the Billboard Hot 100 in 2003.\\nThought The song peaked at number two on the Billboard Hot 100 in the United States,\\nbut not sure if it was in 2003',\n",
       " '.\\nAnswer NOT ENOUGH INFO\\nReAct Determine if there is Observation that SUPPORTS or REFUTES a Claim, or if\\nthere is NOT ENOUGH INFORMATION.\\nClaim Nikolaj Coster-Waldau worked with the Fox Broadcasting Company.\\nThought 1 I need to search Nikolaj Coster-Waldau and find if he has worked with the\\nFox Broadcasting Company',\n",
       " '.\\nAction 1 Search[Nikolaj Coster-Waldau]\\nObservation 1 Nikolaj William Coster-Waldau (born 27 July 1970) is a Danish actor and\\nproducer. He graduated from the Danish National School of Performing Arts\\nin Copenhagen in 1993,[1] and had his breakthrough role in Denmark with\\nthe film Nightwatch (1994). He played Jaime Lannister in the HBO fantasy\\ndrama series Game of Thrones, for which he received two Primetime Emmy\\nAward nominations for Outstanding Supporting Actor in a Drama Series.',\n",
       " '.\\nCoster-Waldau has appeared in numerous films in his native Denmark and\\nScandinavia, including Headhunters (2011) and A Thousand Times Good Night\\n(2013). In the U.S, his debut film role was in the war film Black Hawk Down\\n(2001), playing Medal of Honor recipient Gary Gordon.[2] He then played a\\ndetective in the short-lived Fox television series New Amsterdam (2008), and\\nappeared in the 2009 Fox television film Virtuality, originally intended as\\na pilot',\n",
       " '.\\nThought 2 Because he \"appeared in the 2009 Fox television film Virtuality\", he should\\nhave worked with the Fox Broadcasting Company.\\nAction 2 Finish[SUPPORTS]\\nClaim Stranger Things is set in Bloomington, Indiana.\\nThought 1 I should search for Stranger Things, and see if it is set in Bloomington,\\nIndiana',\n",
       " '.\\nThought 1 I should search for Stranger Things, and see if it is set in Bloomington,\\nIndiana.\\nAction 1 Search[Stranger Things]\\nObservation 1 Stranger Things is an American science fiction horror drama television\\nseries created by the Duffer Brothers. Set in the 1980s, primarily in\\nthe fictional town of Hawkins, Indiana, the series centers on a number of\\nmysteries and supernatural events occurring around the town and their impact\\non an ensemble of child and adult characters',\n",
       " '.\\nThought 2 The observation says that it is set in a \"fictional town of Hawkins,\\nIndiana\", so it is not set in Bloomington.\\nAction 2 Finish[REFUTES]\\nClaim Beautiful reached number two on the Billboard Hot 100 in 2003.\\nThought 1 I need to search the song Beautiful and find if it reached number two on the\\nBillboard Hot 100 in 2003',\n",
       " '.\\nAction 1 Search[Beautiful]\\nObservation 1 Could not find [Beautiful]. Similar: [’Beautiful’, ’Beautiful, Beautiful’,\\n’A Beautiful Mind (film)’, ’Beautiful (Christina Aguilera song)’, ’Life Is\\nBeautiful’].\\nThought 2 From suggestions, I should search \"Beautiful (Christina Aguilera song)\" to\\nfind the song.\\nAction 2 Search[Beautiful (Christina Aguilera song)]\\nObservation 2 \"Beautiful\" is a song recorded by American singer Christina Aguilera for her\\nfourth studio album, Stripped (2002)',\n",
       " '.\\nThought 3 It does not mention Billboard, so I need to look up \"Billboard Hot 100\" to\\nfind if it reached number two on it in 2003.\\nAction 3 Lookup[Billboard Hot 100]\\nObservation 3 (Result 1 / 3) The song peaked at number two on the Billboard Hot 100 in the\\nUnited States, where it was certified Gold for 500,000 units shipped.\\nThought 4 It only says the song peaked at number two on the Billboard Hot 100, but not\\nif it was in 2003. I am not sure if this claim is true or not',\n",
       " '.\\nAction 4 Finish[NOT ENOUGH INFO]\\n21\\nPublished as a conference paper at ICLR 2023\\nC.3 W EBSHOP\\nTable 6: Prompts used for the Webshop experiments in Section 4. We use the prompt on the left for\\nAct, and use the prompt on the right (add reasoning) for ReAct',\n",
       " '.\\nInstruction : i would like a 3 ounce bottle of bright citrus deodorant for sensitive skin, and price lower than 50.00 dollars\\nAct ReAct\\nAction :search\\x02\\n3 ounce bright citrus deodorant sensitive skin\\x03\\nObservation:\\x02\\nBack to Search\\x03\\nPage 1 (Total results: 50)\\x02\\nNext\\x03\\n\\x02\\nB078GWRC1J\\x03\\nBright Citrus Deodorant by Earth Mama | Natural and Safe for\\nSensitive Skin, Pregnancy and Breastfeeding, Contains Organic\\nCalendula 3-Ounce\\n$10.99\\x02\\nB078GTKVXY\\x03\\nGinger Fresh Deodorant by Earth Mama | Natural and Safe for',\n",
       " 'Calendula 3-Ounce\\n$10.99\\x02\\nB078GTKVXY\\x03\\nGinger Fresh Deodorant by Earth Mama | Natural and Safe for\\nSensitive Skin, Pregnancy and Breastfeeding, Contains Organic\\nCalendula 3-Ounce\\n$10.99\\x02\\nB08KBVJ4XN\\x03\\nBarrel and Oak - Aluminum-Free Deodorant, Deodorant for Men\\n, Essential Oil-Based Scent, 24-Hour Odor Protection, Cedar\\n& Patchouli Blend, Gentle on Sensitive Skin (Mountain Sage,\\n2.7 oz, 2-Pack)\\n$15.95\\nAction :click\\x02\\nB078GWRC1J\\x03\\nObservation :\\x02\\nBack to Search\\x03\\n\\x02\\nPrev\\x03',\n",
       " '2.7 oz, 2-Pack)\\n$15.95\\nAction :click\\x02\\nB078GWRC1J\\x03\\nObservation :\\x02\\nBack to Search\\x03\\n\\x02\\nPrev\\x03\\nscent [assorted scents][bright citrus][calming lavender][ginger\\n[fresh] simply non-scents]\\nsize [travel set (4-pack)][3 ounce (pack of 1)][3-ounce (2\\n-pack)]\\nBright Citrus Deodorant by Earth Mama | Natural and Safe for\\nSensitive Skin, Pregnancy and Breastfeeding, Contains Organic\\nCalendula 3-Ounce\\nPrice: $10.99\\nRating: N.A',\n",
       " '.\\n[Description]\\n[Features]\\n[Reviews]\\n[Buy Now]\\nAction :click [bright citrus]\\nObservation : You have clicked bright citrus.\\nAction :click [3 ounce (pack of 1)]\\nObservation : You have clicked 3 ounce (pack of 1)',\n",
       " '.\\nAction :click [Buy Now]Action :search\\x02\\n3 ounce bright citrus deodorant sensitive skin\\nObservation:\\x02\\nBack to Search\\x03\\nPage 1 (Total results: 50)\\x02\\nNext\\x03\\n\\x02\\nB078GWRC1J\\x03\\nBright Citrus Deodorant by Earth Mama | Natural and Safe for\\nSensitive Skin, Pregnancy and Breastfeeding, Contains Organic\\nCalendula 3-Ounce\\n$10.99\\x02\\nB078GTKVXY\\x03\\nGinger Fresh Deodorant by Earth Mama | Natural and Safe for\\nSensitive Skin, Pregnancy and Breastfeeding, Contains Organic\\nCalendula 3-Ounce\\n$10.99\\x02\\nB08KBVJ4XN\\x03',\n",
       " 'Sensitive Skin, Pregnancy and Breastfeeding, Contains Organic\\nCalendula 3-Ounce\\n$10.99\\x02\\nB08KBVJ4XN\\x03\\nBarrel and Oak - Aluminum-Free Deodorant, Deodorant for Men\\n, Essential Oil-Based Scent, 24-Hour Odor Protection, Cedar\\n& Patchouli Blend, Gentle on Sensitive Skin (Mountain Sage,\\n2.7 oz, 2-Pack)\\n$15.95\\nAction :think [B078GWRC1J and B078GTKVXY are bright citrus\\ndeodorant less then 50 dollars. I can check B078GWRC1J ﬁrst',\n",
       " '.\\nObservation : OK.\\nAction :click\\x02\\nB078GWRC1J\\x03\\nObservation :\\x02\\nBack to Search\\x03\\n\\x02\\nPrev\\x03\\nscent [assorted scents][bright citrus][calming lavender][ginger\\n[fresh] simply non-scents]\\nsize [travel set (4-pack)][3 ounce (pack of 1)][3-ounce (2\\n-pack)]\\nBright Citrus Deodorant by Earth Mama | Natural and Safe for\\nSensitive Skin, Pregnancy and Breastfeeding, Contains Organic\\nCalendula 3-Ounce\\nPrice: $10.99\\nRating: N.A',\n",
       " '.\\n[Description]\\n[Features]\\n[Reviews]\\n[Buy Now]\\nAction :think [For 3 ounce bottle of bright citrus deodorant\\nfor sensitive skin, the item has options ’bright citrus’\\nand ’3 ounce (pack of 1)’ and seems good to buy.]\\nObservation : OK.\\nAction :click [bright citrus]\\nObservation : You have clicked bright citrus.\\nAction :click [3 ounce (pack of 1)]\\nObservation : You have clicked 3 ounce (pack of 1)',\n",
       " '.\\nAction :click [3 ounce (pack of 1)]\\nObservation : You have clicked 3 ounce (pack of 1).\\nAction :click [Buy Now]\\n22\\nPublished as a conference paper at ICLR 2023\\nC.4 ALFW ORLD\\nTable 7: An Act prompt on the ALFWorld clean task. No thoughts are provided',\n",
       " '.\\nYou are in the middle of a room. Looking quickly around you, you see a cabinet\\n13, a cabinet 12, a cabinet 11, a cabinet 10, a cabinet 9, a cabinet 8, a cabinet\\n7, a cabinet 6, a cabinet 5, a cabinet 4, a cabinet 3, a cabinet 2, a cabinet\\n1, a coffeemachine 1, a countertop 1, a diningtable 1, a drawer 1, a fridge 1, a\\ngarbagecan 1, a microwave 1, a shelf 3, a shelf 2, a shelf 1, a sinkbasin 1, a\\nstoveburner 4, a stoveburner 3, a stoveburner 2, a stoveburner 1, and a toaster 1',\n",
       " '.\\nYour task is to: put a clean lettuce in diningtable.\\n>go to fridge 1\\nThe fridge 1 is closed.\\n>open fridge 1\\nYou open the fridge 1. The fridge 1 is open. In it, you see a cup 3, a egg 2, a\\npotato 3, and a potato 2.\\n>go to diningtable 1\\nOn the diningtable 1, you see a apple 1, a bread 1, a butterknife 2, a cup 2, a\\nfork 2, a knife 2, a knife 1, a ladle 1, a lettuce 1, a mug 2, a mug 1, a pan 2, a\\npeppershaker 1, a spatula 3, a tomato 2, and a tomato 1',\n",
       " '.\\n>take lettuce 1 from diningtable 1\\nYou pick up the lettuce 1 from the diningtable 1.\\n>go to sinkbasin 1\\nOn the sinkbasin 1, you see a apple 2, a ladle 2, a spoon 1, and a tomato 3.\\n>clean lettuce 1 with sinkbasin 1\\nYou clean the lettuce 1 using the sinkbasin 1.\\n>think: Now I clean a lettuce (1). Next, I need to put it in/on diningtable 1.\\nOK',\n",
       " '.\\n>think: Now I clean a lettuce (1). Next, I need to put it in/on diningtable 1.\\nOK.\\n>go to diningtable 1\\nOn the diningtable 1, you see a apple 1, a bread 1, a butterknife 2, a cup 2, a fork\\n2, a knife 2, a knife 1, a ladle 1, a mug 2, a mug 1, a pan 2, a peppershaker 1, a\\nspatula 3, a tomato 2, and a tomato 1.\\n>put lettuce 1 in/on diningtable 1\\nYou put the lettuce 1 in/on the diningtable 1.\\n23\\nPublished as a conference paper at ICLR 2023\\nTable 8: An ReAct prompt on the ALFWorld clean task',\n",
       " '.\\nYou are in the middle of a room. Looking quickly around you, you see a cabinet\\n13, a cabinet 12, a cabinet 11, a cabinet 10, a cabinet 9, a cabinet 8, a cabinet\\n7, a cabinet 6, a cabinet 5, a cabinet 4, a cabinet 3, a cabinet 2, a cabinet\\n1, a coffeemachine 1, a countertop 1, a diningtable 1, a drawer 1, a fridge 1, a\\ngarbagecan 1, a microwave 1, a shelf 3, a shelf 2, a shelf 1, a sinkbasin 1, a\\nstoveburner 4, a stoveburner 3, a stoveburner 2, a stoveburner 1, and a toaster 1',\n",
       " '.\\nYour task is to: put a clean lettuce in diningtable.\\n> think: To solve the task, I need to find and take a lettuce, then clean it with\\nsinkbasin, then put it in diningtable.\\nOK.\\n> think: First I need to find a lettuce. A lettuce is more likely to appear in\\nfridge (1), diningtable (1), sinkbasin (1), stoveburner (1-3), cabinet (1-13). I\\ncan check one by one, starting with fridge 1.\\nOK.\\n> go to fridge 1\\nThe fridge 1 is closed',\n",
       " '.\\nOK.\\n> go to fridge 1\\nThe fridge 1 is closed.\\n> open fridge 1\\nYou open the fridge 1. The fridge 1 is open. In it, you see a cup 3, a egg 2, a\\npotato 3, and a potato 2.\\n> go to diningtable 1\\nOn the diningtable 1, you see a apple 1, a bread 1, a butterknife 2, a cup 2, a\\nfork 2, a knife 2, a knife 1, a ladle 1, a lettuce 1, a mug 2, a mug 1, a pan 2, a\\npeppershaker 1, a spatula 3, a tomato 2, and a tomato 1.\\n> think: Now I find a lettuce (1). Next, I need to take it.\\nOK',\n",
       " '.\\n> think: Now I find a lettuce (1). Next, I need to take it.\\nOK.\\n> take lettuce 1 from diningtable 1\\nYou pick up the lettuce 1 from the diningtable 1.\\n> think: Now I take a lettuce (1). Next, I need to go to sinkbasin (1) and clean\\nit.\\nOK.\\n> go to sinkbasin 1\\nOn the sinkbasin 1, you see a apple 2, a ladle 2, a spoon 1, and a tomato 3.\\n> clean lettuce 1 with sinkbasin 1\\nYou clean the lettuce 1 using the sinkbasin 1.\\n> think: Now I clean a lettuce (1). Next, I need to put it in/on diningtable 1',\n",
       " '.\\n> think: Now I clean a lettuce (1). Next, I need to put it in/on diningtable 1.\\nOK.\\n> go to diningtable 1\\nOn the diningtable 1, you see a apple 1, a bread 1, a butterknife 2, a cup 2, a fork\\n2, a knife 2, a knife 1, a ladle 1, a mug 2, a mug 1, a pan 2, a peppershaker 1, a\\nspatula 3, a tomato 2, and a tomato 1.\\n> put lettuce 1 in/on diningtable 1\\nYou put the lettuce 1 in/on the diningtable 1.\\n24\\nPublished as a conference paper at ICLR 2023\\nTable 9: An ReAct-IM prompt on the ALFWorld clean task',\n",
       " '.\\nYou are in the middle of a room. Looking quickly around you, you see a cabinet\\n13, a cabinet 12, a cabinet 11, a cabinet 10, a cabinet 9, a cabinet 8, a cabinet\\n7, a cabinet 6, a cabinet 5, a cabinet 4, a cabinet 3, a cabinet 2, a cabinet\\n1, a coffeemachine 1, a countertop 1, a diningtable 1, a drawer 1, a fridge 1, a\\ngarbagecan 1, a microwave 1, a shelf 3, a shelf 2, a shelf 1, a sinkbasin 1, a\\nstoveburner 4, a stoveburner 3, a stoveburner 2, a stoveburner 1, and a toaster 1',\n",
       " '.\\nYour task is to: put a clean lettuce in diningtable.\\n> think: To solve the task, I need to find and take a lettuce, then clean it with\\nsinkbasin, then put it in diningtable.\\nOK.\\n> think: First I need to find a lettuce.\\nOK.\\n> go to fridge 1\\nThe fridge 1 is closed.\\n> think: First I need to find a lettuce.\\nOK.\\n> open fridge 1\\nYou open the fridge 1. The fridge 1 is open. In it, you see a cup 3, a egg 2, a\\npotato 3, and a potato 2.\\n> think: First I need to find a lettuce.\\nOK',\n",
       " '.\\n> think: First I need to find a lettuce.\\nOK.\\n> go to diningtable 1\\nOn the diningtable 1, you see a apple 1, a bread 1, a butterknife 2, a cup 2, a\\nfork 2, a knife 2, a knife 1, a ladle 1, a lettuce 1, a mug 2, a mug 1, a pan 2, a\\npeppershaker 1, a spatula 3, a tomato 2, and a tomato 1.\\n> think: First I need to find a lettuce.\\nOK.\\n> take lettuce 1 from diningtable 1\\nYou pick up the lettuce 1 from the diningtable 1.\\n> think: I need to clean this lettuce (1) using sinkbasin 1.\\nOK',\n",
       " '.\\n> think: I need to clean this lettuce (1) using sinkbasin 1.\\nOK.\\n> go to sinkbasin 1\\nOn the sinkbasin 1, you see a apple 2, a ladle 2, a spoon 1, and a tomato 3.\\n> think: I need to clean this lettuce (1) using sinkbasin 1.\\nOK.\\n> clean lettuce 1 with sinkbasin 1\\nYou clean the lettuce 1 using the sinkbasin 1.\\n> think: I need to put this cleaned lettuce (1) in/on diningtable 1.\\nOK',\n",
       " '.\\n> think: I need to put this cleaned lettuce (1) in/on diningtable 1.\\nOK.\\n> go to diningtable 1\\nOn the diningtable 1, you see a apple 1, a bread 1, a butterknife 2, a cup 2, a fork\\n2, a knife 2, a knife 1, a ladle 1, a mug 2, a mug 1, a pan 2, a peppershaker 1, a\\nspatula 3, a tomato 2, and a tomato 1.\\n> think: I need to put this cleaned lettuce (1) in/on diningtable 1.\\nOK.\\n> put lettuce 1 in/on diningtable 1\\nYou put the lettuce 1 in/on the diningtable 1',\n",
       " '.\\nOK.\\n> put lettuce 1 in/on diningtable 1\\nYou put the lettuce 1 in/on the diningtable 1.\\nD T RAJECTORIES\\nD.1 FEVER T RAJECTORIES\\nWe provide some trajectories produced by ReAct ,CoTandActon several randomly selected exam-\\nples from the FEVER dev set below. Search results are omitted to space.\\n25\\nPublished as a conference paper at ICLR 2023\\nExample 2491 (gt: REFUTES)\\nReAct\\nClaim: Bermuda Triangle is a loosely-defined region in the Pacific Ocean',\n",
       " '.\\nThought 1: I need to search Bermuda Triangle and find if it is in the Pacific Ocean.\\nAction 1: Search[Bermuda Triangle]\\nObservation 1: Reportedly haunted locations...\\nThought 2: The observation says that it is in the western part of the North Atlantic\\nOcean, so it is not in the Pacific Ocean.\\nAction 2: Finish[REFUTES]\\nObservation 2: Episode finished\\nAct\\nClaim: Bermuda Triangle is a loosely-defined region in the Pacific Ocean',\n",
       " '.\\nAction 1 : Search[Bermuda Triangle]\\nObservation 1 : Reportedly haunted locations:...\\nAction 2: Finish[REFUTES]\\nObservation 2: Episode finished\\nCoT\\nClaim: Bermuda Triangle is a loosely-defined region in the Pacific Ocean.\\nThought: Let’s think step by step. The Bermuda Triangle is a loosely-defined region\\nin the Atlantic Ocean. The Pacific Ocean is not the Atlantic Ocean.\\nAnswer: REFUTES\\nExample 5908 (gt: SUPPORTS)\\nReAct\\nClaim: Princess Mononoke is a film',\n",
       " '.\\nAnswer: REFUTES\\nExample 5908 (gt: SUPPORTS)\\nReAct\\nClaim: Princess Mononoke is a film.\\nThought 1: I need to search Princess Mononoke and find if it is a film.\\nAction 1: Search[Princess Mononoke]\\nObservation 1: Princess Mononoke ...\\nThought 2: From the observation, it says that Princess Mononoke is a film.\\nAction 2: Finish[SUPPORTS]\\nObservation 2: Episode finished\\nAct\\nClaim: Princess Mononoke is a film.\\nAction 1: Search[Princess Mononoke]\\nObservation 1: Princess Mononoke ..',\n",
       " '.\\nAction 1: Search[Princess Mononoke]\\nObservation 1: Princess Mononoke ...\\nAction 2: Finish[SUPPORTS]\\nObservation 2: Episode finished\\nCoT\\nClaim: Princess Mononoke is a film.\\nThought: Let’s think step by step. Princess Mononoke is a movie, and movies are\\nfilms.\\nAnswer: SUPPORTS\\nExample 1951 (gt: REFUTES)\\nReAct\\nClaim: Soyuz was part of the American space program.\\nThought 1: I need to search Soyuz and find if it was part of the American space\\nprogram',\n",
       " '.\\nThought 1: I need to search Soyuz and find if it was part of the American space\\nprogram.\\nAction 1: Search[Soyuz]\\nObservation 1: Soyuz is a transliteration...\\nThought 2: It does not mention the American space program, so I need to search\\n\"American space program\" to find if it was part of it.\\nAction 2: Search[American space program]\\nObservation 2: The space policy...\\nThought 3: It does not mention Soyuz, so I am not sure if this claim is true or not',\n",
       " '.\\nThought 3: It does not mention Soyuz, so I am not sure if this claim is true or not.\\nAction 3: Finish[NOT ENOUGH INFO]\\nObservation 3: Episode finished\\nAct\\nClaim: Soyuz was part of the American space program.\\nAction 1: Search[Soyuz]\\nObservation 1: Soyuz is a transliteration...\\nAction 2: Finish[NOT ENOUGH INFO]\\nObservation 2: Episode finished\\nCoT\\nClaim: Soyuz was part of the American space program',\n",
       " '.\\nThought: Let’s think step by step. Soyuz is a Russian spacecraft. The American\\nspace program is NASA. NASA and Russia have worked together on the\\nInternational Space Station.\\nAnswer: SUPPORTS\\n26\\nPublished as a conference paper at ICLR 2023\\nExample 3208 (gt: REFUTES)\\nReAct\\nClaim: Reign Over Me is an American film made in 2010.\\nThought 1: I need to search for Reign Over Me and find if it is an American film made\\nin 2010.\\nAction 1: Search[Reign Over Me]\\nObservation 1: Reign Over Me ..',\n",
       " '.\\nAction 1: Search[Reign Over Me]\\nObservation 1: Reign Over Me ...\\nThought 2: The observation says that it is an American film made in 2007, so it is not\\nmade in 2010.\\nAction 2: Finish[REFUTES]\\nObservation 2: Episode finished\\nAct\\nClaim: Reign Over Me is an American film made in 2010.\\nAction 1: Search[Reign Over Me]\\nAction 2: Finish[SUPPORTS]\\nObservation 2: Episode finished\\nCoT\\nClaim: Reign Over Me is an American film made in 2010',\n",
       " '.\\nThought: Let’s think step by step. First, is Reign Over Me an American film? Yes,\\nit is. Second, was it made in 2010? Yes, it was.\\nAnswer: SUPPORTS\\nD.2 ALFW ORLD TRAJECTORIES\\nWe provide an example trajectory of ReAct ,Act, andReAct-IM on the same ALFWorld game,\\npick_clean_then_place_in_recep-Knife-None-CounterTop-10/\\ntrial_T20190909_110445_675754 .\\nD.2.1 REAC TTRAJECTORY\\nReAct is able to correctly ﬁnd the knife, clean it, and then place it on a countertop',\n",
       " '.\\n27\\nPublished as a conference paper at ICLR 2023\\nReAct ALFWorld trajectory\\nYou are in the middle of a room. Looking quickly around you, you see a cabinet 6, a\\ncabinet 5, a cabinet 4, a cabinet 3, a cabinet 2, a cabinet 1, a coffeemachine 1, a\\ncountertop 3, a countertop 2, a countertop 1, a drawer 3, a drawer 2, a drawer 1, a\\nfridge 1, a garbagecan 1, a microwave 1, a shelf 3, a shelf 2, a shelf 1, a sinkbasin\\n1, a stoveburner 4, a stoveburner 3, a stoveburner 2, a stoveburner 1, and a toaster\\n1',\n",
       " '.\\nYour task is to: put a clean knife in countertop.\\n> think: To solve the task, I need to find and take a knife, then clean it with\\nsinkbasin, then put it in countertop.\\nOK.\\n> think: First I need to find a knife. A knife is more likely to appear in cabinet\\n(1-6), drawer (1-3), countertop (1-3), fridge (1), garbagecan (1), shelf (1-3),\\nsinkbasin (1), stoveburner (1-4), toaster (1). I can check one by one, starting with\\ncabinet 1.\\nOK.\\n> go to cabinet 1\\nOn the cabinet 1, you see a bowl 1',\n",
       " '.\\nOK.\\n> go to cabinet 1\\nOn the cabinet 1, you see a bowl 1.\\n> go to cabinet 2\\nThe cabinet 2 is closed.\\n> go to cabinet 3\\nOn the cabinet 3, you see a glassbottle 1.\\n> go to cabinet 4\\nOn the cabinet 4, you see a mug 1.\\n> go to cabinet 5\\nThe cabinet 5 is closed.\\n> go to cabinet 6\\nThe cabinet 6 is closed.\\n> go to drawer 1\\nThe drawer 1 is closed.\\n> go to drawer 2\\nThe drawer 2 is closed.\\n> go to drawer 3\\nThe drawer 3 is closed',\n",
       " '.\\n> go to drawer 2\\nThe drawer 2 is closed.\\n> go to drawer 3\\nThe drawer 3 is closed.\\n> go to countertop 1\\nOn the countertop 1, you see a lettuce 2, a mug 2, a peppershaker 1, and a spoon 2.\\n> go to countertop 2\\nOn the countertop 2, you see a cup 1, a dishsponge 1, a glassbottle 3, a knife 1, a\\nplate 2, a potato 3, and a statue 1.\\n> think: Now I find a knife (1). Next, I need to take it.\\nOK.\\n> take knife 1 from countertop 2\\nYou pick up the knife 1 from the countertop 2',\n",
       " '.\\nOK.\\n> take knife 1 from countertop 2\\nYou pick up the knife 1 from the countertop 2.\\n> think: Now I take a knife (1). Next, I need to go to sinkbasin (1) and clean it.\\nOK.\\n> go to sinkbasin 1\\nOn the sinkbasin 1, you see a fork 3, a lettuce 3, and a spatula 2.\\n> clean knife 1 with sinkbasin 1\\nYou clean the knife 1 using the sinkbasin 1.\\n> think: Now I clean a knife (1). Next, I need to put it in/on countertop 1.\\nOK',\n",
       " '.\\n> think: Now I clean a knife (1). Next, I need to put it in/on countertop 1.\\nOK.\\n> go to countertop 1\\nOn the countertop 1, you see a lettuce 2, a mug 2, a peppershaker 1, and a spoon 2.\\n> put knife 1 in/on countertop 1\\nYou put the knife 1 in/on the countertop 1',\n",
       " '.\\n> put knife 1 in/on countertop 1\\nYou put the knife 1 in/on the countertop 1.\\nD.2.2 AC TTRAJECTORY\\nAct is able to correctly ﬁnd the knife, but tries to clean it using a sinkbasin before actually going\\nto the sinkbasin. From there on, the model is unable to recover, and is stuck repeating the same\\nsequence of commands. With ReAct , an existing thought would have concretely identiﬁed that the\\nknife had been taken, and that the next subgoal was to go to a sinkbasin to clean it',\n",
       " '.\\n28\\nPublished as a conference paper at ICLR 2023\\nAct ALFWorld trajectory\\nYou are in the middle of a room. Looking quickly around you, you see a cabinet 6, a\\ncabinet 5, a cabinet 4, a cabinet 3, a cabinet 2, a cabinet 1, a coffeemachine 1, a\\ncountertop 3, a countertop 2, a countertop 1, a drawer 3, a drawer 2, a drawer 1, a\\nfridge 1, a garbagecan 1, a microwave 1, a shelf 3, a shelf 2, a shelf 1, a sinkbasin\\n1, a stoveburner 4, a stoveburner 3, a stoveburner 2, a stoveburner 1, and a toaster\\n1',\n",
       " '.\\nYour task is to: put a clean knife in countertop.\\n> go to countertop 1\\nOn the countertop 1, you see a lettuce 2, a mug 2, a peppershaker 1, and a spoon 2.\\n> go to countertop 2\\nOn the countertop 2, you see a cup 1, a dishsponge 1, a glassbottle 3, a knife 1, a\\nplate 2, a potato 3, and a statue 1.\\n> take knife 1 from countertop 2\\nYou pick up the knife 1 from the countertop 2.\\n> go to countertop 1\\nOn the countertop 1, you see a lettuce 2, a mug 2, a peppershaker 1, and a spoon 2',\n",
       " '.\\n> clean knife 1 with sinkbasin 1\\nNothing happens.\\n> go to countertop 3\\nOn the countertop 3, you see a bread 3, a butterknife 2, a cellphone 1, a creditcard\\n1, a fork 2, a houseplant 1, a knife 2, a spatula 1, a statue 3, a tomato 3, a tomato\\n2, a tomato 1, and a vase 2.\\n> take knife 2 from countertop 3\\nNothing happens.\\n> go to countertop 2\\nOn the countertop 2, you see a cup 1, a dishsponge 1, a glassbottle 3, a plate 2, a\\npotato 3, and a statue 1',\n",
       " '.\\n> take knife 1 from countertop 2\\nNothing happens.\\n> go to countertop 1\\nOn the countertop 1, you see a lettuce 2, a mug 2, a peppershaker 1, and a spoon 2.\\n> clean knife 1 with sinkbasin 1\\nNothing happens.\\n> go to countertop 3\\nOn the countertop 3, you see a bread 3, a butterknife 2, a cellphone 1, a creditcard\\n1, a fork 2, a houseplant 1, a knife 2, a spatula 1, a statue 3, a tomato 3, a tomato\\n2, a tomato 1, and a vase 2.\\n> take knife 2 from countertop 3\\nNothing happens',\n",
       " '.\\n> take knife 2 from countertop 3\\nNothing happens.\\n> go to countertop 2\\nOn the countertop 2, you see a cup 1, a dishsponge 1, a glassbottle 3, a plate 2, a\\npotato 3, and a statue 1.\\n> take knife 1 from countertop 2\\nNothing happens.\\n> go to countertop 1\\nOn the countertop 1, you see a lettuce 2, a mug 2, a peppershaker 1, and a spoon 2.\\n> clean knife 1 with sinkbasin 1\\nNothing happens',\n",
       " '.\\n> clean knife 1 with sinkbasin 1\\nNothing happens.\\n> go to countertop 3\\nOn the countertop 3, you see a bread 3, a butterknife 2, a cellphone 1, a creditcard\\n1, a fork 2, a houseplant 1, a knife 2, a spatula 1, a statue 3, a tomato 3, a tomato\\n2, a tomato 1, and a vase 2.\\n> take knife 2 from countertop 3\\nNothing happens.\\n> go to countertop 2\\nOn the countertop 2, you see a cup 1, a dishsponge 1, a glassbottle 3, a plate 2, a\\npotato 3, and a statue 1',\n",
       " '.\\n> take knife 1 from countertop 2\\nNothing happens.\\n> go to countertop 1\\nOn the countertop 1, you see a lettuce 2, a mug 2, a peppershaker 1, and a spoon 2.\\n> clean knife 1 with sinkbasin 1\\nNothing happens',\n",
       " '.\\n> clean knife 1 with sinkbasin 1\\nNothing happens.\\nD.2.3 REAC T-IM TRAJECTORY\\nReAct-IM is able to correctly ﬁnd the knife, but is unable to clean it as well. The LLM then\\ngets stuck trying to place this knife on a countertop. One possible issue is the incorrect thought\\nthink: I need to find a clean knife. , which seems to trick the LLM in believing\\nthat the knife is already cleaned. In ReAct , this sequence of subgoals would be concretely captured\\nby each thought',\n",
       " '.\\n29\\nPublished as a conference paper at ICLR 2023\\nReAct-IM ALFWorld trajectory\\nYou are in the middle of a room. Looking quickly around you, you see a cabinet 6, a\\ncabinet 5, a cabinet 4, a cabinet 3, a cabinet 2, a cabinet 1, a coffeemachine 1, a\\ncountertop 3, a countertop 2, a countertop 1, a drawer 3, a drawer 2, a drawer 1, a\\nfridge 1, a garbagecan 1, a microwave 1, a shelf 3, a shelf 2, a shelf 1, a sinkbasin',\n",
       " 'fridge 1, a garbagecan 1, a microwave 1, a shelf 3, a shelf 2, a shelf 1, a sinkbasin\\n1, a stoveburner 4, a stoveburner 3, a stoveburner 2, a stoveburner 1, and a toaster\\n1',\n",
       " '.\\nYour task is to: put a clean knife in countertop.\\n> think: To solve the task, I need to find and take a clean knife, then put it in\\ncountertop.\\nOK.\\n> think: I need to find a clean knife.\\nOK.\\n> go to countertop 1\\nOn the countertop 1, you see a lettuce 2, a mug 2, a peppershaker 1, and a spoon 2.\\n> think: I need to find a clean knife.\\nOK.\\n> go to countertop 2\\nOn the countertop 2, you see a cup 1, a dishsponge 1, a glassbottle 3, a knife 1, a\\nplate 2, a potato 3, and a statue 1',\n",
       " '.\\n> think: I need to find a clean knife.\\nOK.\\n> take knife 1 from countertop 2\\nYou pick up the knife 1 from the countertop 2.\\n> think: I need to put this knife (1) in/on countertop 1.\\nOK.\\n> go to countertop 1\\nOn the countertop 1, you see a lettuce 2, a mug 2, a peppershaker 1, and a spoon 2.\\n> think: I need to put this knife (1) in/on countertop 1.\\nOK.\\n> put knife 1 in/on countertop 1\\nYou put the knife 1 in/on the countertop 1.\\n> think: I need to put this knife (1) in/on countertop 1.\\nOK',\n",
       " '.\\n> think: I need to put this knife (1) in/on countertop 1.\\nOK.\\n> put knife 1 in/on countertop 1\\nNothing happens.\\n> think: I need to put this knife (1) in/on countertop 1.\\nOK.\\n> put knife 1 in/on countertop 1\\nNothing happens.\\n> think: I need to put this knife (1) in/on countertop 1.\\nOK.\\n> put knife 1 in/on countertop 1\\nNothing happens.\\n> think: I need to put this knife (1) in/on countertop 1.\\nOK.\\n> put knife 1 in/on countertop 1\\nNothing happens',\n",
       " '.\\nOK.\\n> put knife 1 in/on countertop 1\\nNothing happens.\\n> think: I need to put this knife (1) in/on countertop 1.\\nOK.\\n> put knife 1 in/on countertop 1\\nNothing happens.\\n> think: I need to put this knife (1) in/on countertop 1.\\nOK.\\n30\\nPublished as a conference paper at ICLR 2023\\nD.3 W EBSHOP TRAJECTORIES\\nTable 10: Example trajectories for Webshop predicted by Act andReAct . Compared to Act,\\nReAct uses reasoning to ﬁnd products that satisfy all target attributes',\n",
       " '.\\nInstruction : get me a sixteen pack of apple cinnamon freeze dried banana chips, and price lower than 50.00 dollars\\nAct ReAct\\nAction :search\\x02\\nsixteen pack apple cinnamon freeze dried banana\\nchips\\x03\\nObservation:\\x02\\nBack to Search\\x03\\nPage 1 (Total results: 50)\\x02\\nNext\\x03\\n\\x02\\nB0061IVFZE\\x03\\nBrothers-ALL-Natural Fruit Crisps, Strawberry Banana, 0.42 -\\nOunce (Pack of 100)\\n$85.0\\x02\\nB096H2P6G2\\x03\\nMoon Fruit Freeze Dried Fruit Snacks. Fruit Snacks for Kids -\\n(Variety Pack)\\n$18.99\\x02\\nB092JLLYK6\\x03',\n",
       " 'Moon Fruit Freeze Dried Fruit Snacks. Fruit Snacks for Kids -\\n(Variety Pack)\\n$18.99\\x02\\nB092JLLYK6\\x03\\nNature’s Turn Freeze-Dried Fruit Snacks - Banana Crisps - Perfect\\nFor School Lunches or an On-The-Go Snack - No Sugar Added,\\nNon GMO, Gluten Free, Nothing Artiﬁcial (0.53oz) 6-Pack\\n$12.99\\nAction :click\\x02\\nB0061IVFZE\\x03\\nObservation :\\x02\\nBack to Search\\x03\\n\\x02\\nPrev\\x03\\nﬂavor name [asian pear][banana][fuji apple & cinnamon][strawberry\\nbanana] Brothers-ALL-Natural Fruit Crisps, Strawberry Banana,',\n",
       " 'banana] Brothers-ALL-Natural Fruit Crisps, Strawberry Banana,\\n0.42 Ounce (Pack of 100)\\nPrice: $85.0\\nRating: N.A',\n",
       " '.\\n[Description]\\n[Features]\\n[Reviews]\\n[Buy Now]\\nAction :click [Buy Now]Action :search\\x02\\nsixteen pack apple cinnamon freeze dried banana\\nchips\\x03\\nObservation:\\x02\\nBack to Search\\x03\\nPage 1 (Total results: 50)\\x02\\nNext\\x03\\n\\x02\\nB0061IVFZE\\x03\\nBrothers-ALL-Natural Fruit Crisps, Strawberry Banana, 0.42 -\\nOunce (Pack of 100)\\n$85.0\\x02\\nB096H2P6G2\\x03\\nMoon Fruit Freeze Dried Fruit Snacks. Fruit Snacks for Kids -\\n(Variety Pack)\\n$18.99\\x02\\nB092JLLYK6\\x03\\nNature’s Turn Freeze-Dried Fruit Snacks - Banana Crisps - Perfect',\n",
       " '$18.99\\x02\\nB092JLLYK6\\x03\\nNature’s Turn Freeze-Dried Fruit Snacks - Banana Crisps - Perfect\\nFor School Lunches or an On-The-Go Snack - No Sugar Added,\\nNon GMO, Gluten Free, Nothing Artiﬁcial (0.53oz) 6-Pack\\n$12.99\\nAction :think [B0061IVFZE is strawberry banana, not apple cinnamon',\n",
       " '.\\nB096H2P6G2 is fruit snacks, not freeze dried banana chips.\\nB092JLLYK6 is banana crisps, not apple cinnamon. I can check\\nB092JLLYK6 ﬁrst.\\nObservation : OK',\n",
       " '.\\nAction :click\\x02\\nB092JLLYK6\\x03\\nObservation :\\x02\\nBack to Search\\x03\\n\\x02\\nPrev\\x03\\nﬂavor name [apple][apple cinnamon][banana][cantaloupe][peach][pear]\\n[strawberry][strawberry banana][sampler variety pack][mega variety\\npack][orchard variety pack]\\nsize [0.53 ounce (pack of 6)][0.53 ounce (pack of 8)][0.53 ounce (pack\\nof 16)]\\nNature’s Turn Freeze-Dried Fruit Snacks - Banana Crisps - Perfect\\nFor School Lunches or an On-The-Go Snack - No Sugar Added, Non\\nGMO, Gluten Free, Nothing Artiﬁcial (0.53oz) 6-Pack',\n",
       " 'GMO, Gluten Free, Nothing Artiﬁcial (0.53oz) 6-Pack\\nPrice: $12.99\\nRating: N.A',\n",
       " '.\\n[Description]\\n[Features]\\n[Reviews]\\n[Buy Now]\\nAction :think [For sixteen pack of apple cinnamon freeze dried banana\\nchips, the item has options ’apple cinnamon’ and ’0.53 ounce (pack of\\n16)’ and seems good to buy.]\\nObservation : OK.\\nAction :click [apple cinnamon]\\nObservation : You have clicked apple cinnamon.\\nAction :click [0.53 ounce (pack of 16)]\\nObservation : You have clicked 0.53 ounce (pack of 16)',\n",
       " '.\\nAction :click [0.53 ounce (pack of 16)]\\nObservation : You have clicked 0.53 ounce (pack of 16).\\nAction :click [Buy Now]\\nScore : 0.125 Score : 1.0\\n31\\nPublished as a conference paper at ICLR 2023\\nE M ORE ANALYSIS\\nE.1 S UCCESS AND FAILURE MODES ANALYSIS\\nWe provide some examples corresponding to the success and error mode analysis given in Sec. 3.3.\\nSearch results and non-representative steps are omitted to reduce space',\n",
       " '.\\nSearch results and non-representative steps are omitted to reduce space.\\nSuccess: True positive\\nReAct\\nQuestion: Author David Chanoff has collaborated with a U.S. Navy admiral who served as\\nthe ambassador to the United Kingdom under which President?\\nThought 1: I need to search David Chanoff and find the U.S. Navy admiral he\\ncollaborated with.\\nAction 1: Search[David Chanoff]\\nObservation 1: David Chanoff is a noted author...\\nAction 2: Search[William J. Crowe]\\nObservation 2: William J. Crowe is..',\n",
       " '.\\nAction 2: Search[William J. Crowe]\\nObservation 2: William J. Crowe is...\\nThought 3: William J. Crowe served as the ambassador to the United Kingdom under\\nPresident Bill Clinton. So the answer is Bill Clinton',\n",
       " '.\\nAction 3: Finish[Bill Clinton]\\nObservation 3: Episode finished\\nCoT\\nQuestion: What was the name of the team that represented an Arizona university in\\nthe conference that covers a broad expanse of the western United States,\\nincluding Arizona, California, and New Mexico?\\nThought: Let’s think step by step. The name of the team that represented an Arizona\\nuniversity in the conference that covers a broad expanse of the western\\nUnited States, including Arizona, California, and New Mexico is Arizona',\n",
       " 'United States, including Arizona, California, and New Mexico is Arizona\\nState Sun Devils',\n",
       " '.\\nAnswer: Arizona State Sun Devils\\nSuccess: False positive\\nReAct\\nQuestion: Did the board game San Marco or About Time come out first?\\nThought 1: I need to search San Marco and About Time, and find which came out first.\\nAction 1: Search[San Marco]\\nObservation 1: San Marco is one of the ... The was built in venice.\\nThought 2: San Marco is a sestiere of Venice. I need to search About Time next.\\nAction 2: Search[About Time]\\nObservation 2: Could not find [About Time]. Similar: [...]',\n",
       " '.\\nAction 2: Search[About Time]\\nObservation 2: Could not find [About Time]. Similar: [...].\\nThought 3: About Time is a 2013 film. So San Marco came out first',\n",
       " '.\\nThought 3: About Time is a 2013 film. So San Marco came out first.\\nAction 3: Finish[San Marco]\\nObservation 3: Episode finished\\nCoT\\nQuestion: Was Vanderbilt University or Emory University founded first?\\nThought: Let’s think step by step. Vanderbilt University was founded in 1873. Emory\\nUniversity was founded in 1836. 1873 (Vanderbilt University) > 1836 (Emory\\nUniversity), so Vanderbilt University was founded first',\n",
       " '.\\nAnswer: Emory University\\nFailure: Reasoning error\\nReAct\\nQuestion: What was the middle name of the actress who was cast alongside Harvey\\nFierstein, Linda Hart, Dick Latessa, Clarke Thorell, Mary Bond Davis, Laura\\nBell Bundy, Matthew Morrison, Corey Reynolds, and Marissa Jaret Winokur in\\nHairspray?\\nThought 1: I need to search Harvey Fierstein, Linda Hart, Dick Latessa, Clarke Thorell,\\nMary Bond Davis, Laura Bell Bundy, Matthew Morrison, Corey Reynolds, and',\n",
       " 'Mary Bond Davis, Laura Bell Bundy, Matthew Morrison, Corey Reynolds, and\\nMarissa Jaret Winokur, find the actress that was cast alongside them in\\nHairspray, then find its middle name',\n",
       " '.\\nAction 1: Search[Harvey Fierstein]\\nObservation 1: Harvey Forbes Fierstein ...\\nThought 2: Harvey Fierstein is an actor, playwright, and screenwriter. I need to\\nsearch Linda Hart next...\\nAction 2: Search[Linda Hart]...\\nCoT\\nQuestion: Who is older Danny Green or James Worthy?\\nThought: Let’s think step by step. Danny Green was born in 1987. James Worthy was\\nborn in 1961. 1987 (Danny Green) > 1961 (James Worthy), so Danny Green is\\nolder',\n",
       " '.\\nAnswer: Danny Green\\n32\\nPublished as a conference paper at ICLR 2023\\nFailure: Search error\\nReAct\\nQuestion: What does the goddess associated with the goddess frigg consists of what\\ntales?\\nThought 1: I need to search goddess frigg and find its associated goddess',\n",
       " '.\\nAction 1: Search[goddess frigg]\\nObservation 1: Could not find goddess frigg. Similar: [’Frigg’, ’Frigg and Freyja common\\norigin hypothesis’, ’Freyja (section Relation to Frigg and other goddesses\\nand figures)’, ’Eir (redirect from Eir (goddess))’, ’Baldr’].\\nThought 2: I need to search Frigg instead..',\n",
       " '.\\nThought 2: I need to search Frigg instead...\\nFailure: Hallucination\\nCoT\\nQuestion: What was the first year a scientific journal published by an organization\\nlocated in the Bronx was published?\\nThought: Let’s think step by step. The first year a scientific journal published by\\nan organization located in the Bronx was published was 1916',\n",
       " '.\\nAnswer: 1916 (Label: 1909)\\nFailure: Label ambiguity\\nReAct\\nQuestion: What nationality is the man who developed the dictator game?\\nThought 1: I need to search dictator game, find the man who developed it, then find his\\nnationality.\\nAction 1: Search[dictator game]\\nObservation 1: The dictator game is a popular experimental instrument in social psychology\\nand economics...\\nAction 3: Search[Amos Tversky]\\nObservation 3: Amos Nathan Tversky..',\n",
       " '.\\nAction 3: Search[Amos Tversky]\\nObservation 3: Amos Nathan Tversky...\\nThought 4: Amos Tversky is an Israeli cognitive and mathematical psychologist. So the\\nman who developed the dictator game is Israeli.\\nAction 4: Finish[Israeli] (label: Israel-American)\\nCoT\\nQuestion: Kurt Fuller from Stockton, CA appeared in which American Detective Comedy\\nDrama television series created by Steve Franks?\\nThought: Let’s think step by step. Kurt Fuller from Stockton, CA appeared in Psych',\n",
       " '.\\nPsych is an American Detective Comedy Drama television series created by\\nSteve Franks.\\nAnswer: Psych (label: Psych is an American detective comedy-drama)\\n33']"
      ]
     },
     "execution_count": 28,
     "metadata": {},
     "output_type": "execute_result"
    }
   ],
   "source": [
    "memory.memory"
   ]
  },
  {
   "cell_type": "code",
   "execution_count": 29,
   "id": "7f09a840",
   "metadata": {},
   "outputs": [
    {
     "data": {
      "text/plain": [
       "['space and thought-action occurrence format, ReAct works for diverse tasks with distinct action\\nspaces and reasoning needs, including but not limited to QA, fact veriﬁcation, text game, and web\\nnavigation. C) Performant and robust :ReAct shows strong generalization to new task instances\\nwhile learning solely from one to six in-context examples, consistently outperforming baselines with\\nonly reasoning or acting across different domains. We also show in Section 3 additional beneﬁts']"
      ]
     },
     "execution_count": 29,
     "metadata": {},
     "output_type": "execute_result"
    }
   ],
   "source": [
    "memory.retrieve_by_ranker('What is react')"
   ]
  },
  {
   "cell_type": "code",
   "execution_count": 31,
   "id": "d697ee92",
   "metadata": {},
   "outputs": [
    {
     "data": {
      "text/plain": [
       "['space and thought-action occurrence format, ReAct works for diverse tasks with distinct action\\nspaces and reasoning needs, including but not limited to QA, fact veriﬁcation, text game, and web\\nnavigation. C) Performant and robust :ReAct shows strong generalization to new task instances\\nwhile learning solely from one to six in-context examples, consistently outperforming baselines with\\nonly reasoning or acting across different domains. We also show in Section 3 additional beneﬁts']"
      ]
     },
     "execution_count": 31,
     "metadata": {},
     "output_type": "execute_result"
    }
   ],
   "source": [
    "# Async version of memory (faster)\n",
    "asyncMemory = AsyncMemory(top_k = 1)\n",
    "asyncMemory.add_file(filepath=\"./react.pdf\")\n",
    "await asyncMemory.retrieve_by_ranker('What is react')"
   ]
  }
 ],
 "metadata": {
  "kernelspec": {
   "display_name": "Python 3 (ipykernel)",
   "language": "python",
   "name": "python3"
  },
  "language_info": {
   "codemirror_mode": {
    "name": "ipython",
    "version": 3
   },
   "file_extension": ".py",
   "mimetype": "text/x-python",
   "name": "python",
   "nbconvert_exporter": "python",
   "pygments_lexer": "ipython3",
   "version": "3.12.3"
  }
 },
 "nbformat": 4,
 "nbformat_minor": 5
}
