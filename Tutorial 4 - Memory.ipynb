{
 "cells": [
  {
   "cell_type": "markdown",
   "id": "2fa1e388-b8f4-4fa3-be5a-ba7c6caae038",
   "metadata": {
    "tags": []
   },
   "source": [
    "# Tutorial 4 - Memory\n",
    "\n",
    "## Key Philosophy\n",
    "- It would be important to learn from past experience and improve the agentic framework - memory is key to that\n",
    "- You can add to the memory bank of your Agents pre-inference (by collecting from a pool of data prior to running the Agent), or during inference (add on in between running subtasks)\n",
    "\n",
    "## Use Memory in Agents\n",
    "- Agent class takes `memory_bank` as a parameter during initialisation of an `Agent`\n",
    "- memory_bank: class Dict[Memory]. Stores multiple types of memory for use by the agent. Customise the Memory config within the Memory class.\n",
    "    - Default: `memory_bank = {'Function': Memory(top_k = 5, mapper = lambda x: x.fn_description, approach = 'retrieve_by_ranker')}`\n",
    "    - Key: `Function` (Already Implemented Natively) - Does RAG over Task -> Function mapping\n",
    "    - Can add in more keys that would fit your use case. Retrieves similar items to task/overall plan (if able) for additional context in `get_next_subtasks()` and `use_llm()` function\n",
    "    - Side Note: RAG can also be done (and may be preferred) as a separate function of the Agent to retrieve more information when needed (so that we do not overload the Agent with information)\n",
    "\n",
    "## Memory Class\n",
    "- Retrieves top k memory items based on task \n",
    "- Inputs:\n",
    "    - `memory`: List. Default: Empty List. The list containing the memory items\n",
    "    - `top_k`: Int. Default: 3. The number of memory list items to retrieve\n",
    "    - `mapper`: Function. Maps the memory item to another form for comparison by ranker or LLM. Default: `lambda x: x`\n",
    "        - Example mapping: `lambda x: x.fn_description` (If x is a Class and the string you want to compare for similarity is the fn_description attribute of that class)\n",
    "    - `approach`: str. Either `retrieve_by_ranker` or `retrieve_by_llm` to retrieve memory items.\n",
    "        - Ranker is faster and cheaper as it compares via embeddings, but are inferior to LLM-based methods for contextual information\n",
    "    - `ranker`: `Ranker`. The Ranker which defines a similarity score between a query and a key. Default: OpenAI `text-embedding-3-small` model. \n",
    "        - Can be replaced with a function which returns similarity score from 0 to 1 when given a query and key\n",
    "        \n",
    "## Example Use Case\n",
    "- Helps to reduce number of functions present in LLM context for more accurate generation\n",
    "```python\n",
    "output = my_agent.run('Calculate 2**10 * (5 + 1) / 10')\n",
    "```\n",
    "\n",
    "`Original Function List: add_numbers, subtract_numbers, add_three_numbers, multiply_numbers, divide_numbers, power_of, GCD_of_two_numbers, modulo_of_numbers, absolute_difference, generate_poem_with_numbers, List_related_words, generate_quote`\n",
    "\n",
    "`Filtered Function Names: add_three_numbers, multiply_numbers, divide_numbers, power_of, modulo_of_numbers`"
   ]
  },
  {
   "cell_type": "code",
   "execution_count": 1,
   "id": "8098f395-fd24-4797-a831-c2a43b359364",
   "metadata": {
    "tags": []
   },
   "outputs": [],
   "source": [
    "# !pip install taskgen-ai"
   ]
  },
  {
   "cell_type": "code",
   "execution_count": 2,
   "id": "076adf5e-beb1-4b19-9078-34ab1b7d9afe",
   "metadata": {
    "tags": []
   },
   "outputs": [],
   "source": [
    "# Set up API key and do the necessary imports\n",
    "import os\n",
    "from taskgen import *\n",
    "import math\n",
    "\n",
    "os.environ['OPENAI_API_KEY'] = '<YOUR API KEY HERE>'"
   ]
  },
  {
   "cell_type": "markdown",
   "id": "a04abb86-6f74-4af5-8b72-b26a6029eb9f",
   "metadata": {},
   "source": [
    "# Use Case 1: Filtering Functions by Task\n",
    "- TaskGen chooses `top k` (default k: 5) functions according to similarity to subtask\n",
    "- In addition to `top k` functions, we will also give agent all the compulsory functions\n",
    "    - `is_compulsory` variable of Function set to `True` means that we will always have it as one of the functions for planning and bypass Function RAG"
   ]
  },
  {
   "cell_type": "code",
   "execution_count": 3,
   "id": "1d8c8dce-4710-462b-bbbd-715c23dded7c",
   "metadata": {
    "tags": []
   },
   "outputs": [],
   "source": [
    "# Define multiple functions\n",
    "fn_list = [\n",
    "    Function(\"Adds all numbers in <num_list: List[int]>\", output_format = {\"Result\": \"Sum of all numbers in num_list\"}, \n",
    "        is_compulsory = True, external_fn = lambda num_list: sum(x for x in num_list), fn_name = 'sum_numbers'),\n",
    "    Function(\"Subtracts <num1: float> from <num2: float>\", output_format = {\"Result\": \"num1 - num2\"}, fn_name = 'subtract_numbers', external_fn = lambda num1, num2: num1 + num2),\n",
    "    Function(\"Multiply <num1: float> by <num2: float>\", output_format = {\"Result\": \"num1 * num2\"}, fn_name = 'multiply_numbers', external_fn = lambda num1, num2: num1 * num2),\n",
    "    Function(\"Divide <num1: float> by <num2: float>\", output_format = {\"Result\": \"num1 / num2\"}, fn_name = 'divide_numbers', external_fn = lambda num1, num2: num1 / num2),\n",
    "    Function(\"Returns <num1: float>**<num2: float>\", output_format = {\"Result\": \"num1**num2\"}, fn_name = 'power_operation', external_fn = lambda num1, num2: math.pow(num1,num2)),\n",
    "    Function(\"Returns Greatest Common Divisor of <num1: int> and <num2: int>\", output_format = {\"Result\": \"GCD(num1, num2)\"}, fn_name = 'greatest_common_divisor', external_fn = lambda num1, num2: math.gcd(num1, num2)),\n",
    "    Function(\"Returns modulo of <num1: int> over <num2: int>\", output_format = {\"Result\": \"num1 % num2\"}, fn_name = 'modulo_of_numbers', external_fn = lambda num1, num2: num1 % num2),\n",
    "    Function(\"Returns absolute difference between <num1: float> and <num2: float>\", output_format = {\"Result\": \"abs(num1 - num2)\"}, fn_name = 'absolute_difference', external_fn = lambda num1, num2: math.abs(num1-num2)),\n",
    "    Function(\"Generates a poem containing <num1: float> and <num2: float>\", output_format = {\"Poem\": \"Poem\"}, fn_name = 'generate_poem_with_numbers'),\n",
    "    Function(\"Lists out <num: int> words related to <word: str>\", output_format = {\"List of words\": \"List of words, type: list\"}, fn_name = 'list_related_words'),\n",
    "    Function(\"Generates a quote about <topic: str>\", output_format = {\"Quote\": \"Quote\"}, fn_name = 'generate_quote')\n",
    "]"
   ]
  },
  {
   "cell_type": "code",
   "execution_count": 4,
   "id": "3aa5ac81-b850-44ca-a812-44fbe43d9943",
   "metadata": {
    "tags": []
   },
   "outputs": [],
   "source": [
    "my_agent = Agent('Generalist Agent', \n",
    "'''Does everything''',\n",
    "                default_to_llm = False).assign_functions(fn_list)"
   ]
  },
  {
   "cell_type": "code",
   "execution_count": 5,
   "id": "b1a95964-28c6-457b-bda2-49f750013d9f",
   "metadata": {
    "tags": []
   },
   "outputs": [
    {
     "data": {
      "text/plain": [
       "['Name: end_task\\nDescription: Passes the final output to the user\\nInput: []\\nOutput: {}\\n',\n",
       " \"Name: sum_numbers\\nDescription: Adds all numbers in <num_list: List[int]>\\nInput: ['num_list']\\nOutput: {'Result': 'Sum of all numbers in num_list'}\\n\",\n",
       " \"Name: subtract_numbers\\nDescription: Subtracts <num1: float> from <num2: float>\\nInput: ['num1', 'num2']\\nOutput: {'Result': 'num1 - num2'}\\n\",\n",
       " \"Name: multiply_numbers\\nDescription: Multiply <num1: float> by <num2: float>\\nInput: ['num1', 'num2']\\nOutput: {'Result': 'num1 * num2'}\\n\",\n",
       " \"Name: divide_numbers\\nDescription: Divide <num1: float> by <num2: float>\\nInput: ['num1', 'num2']\\nOutput: {'Result': 'num1 / num2'}\\n\",\n",
       " \"Name: power_operation\\nDescription: Returns <num1: float>**<num2: float>\\nInput: ['num1', 'num2']\\nOutput: {'Result': 'num1**num2'}\\n\",\n",
       " \"Name: greatest_common_divisor\\nDescription: Returns Greatest Common Divisor of <num1: int> and <num2: int>\\nInput: ['num1', 'num2']\\nOutput: {'Result': 'GCD(num1, num2)'}\\n\",\n",
       " \"Name: modulo_of_numbers\\nDescription: Returns modulo of <num1: int> over <num2: int>\\nInput: ['num1', 'num2']\\nOutput: {'Result': 'num1 % num2'}\\n\",\n",
       " \"Name: absolute_difference\\nDescription: Returns absolute difference between <num1: float> and <num2: float>\\nInput: ['num1', 'num2']\\nOutput: {'Result': 'abs(num1 - num2)'}\\n\",\n",
       " \"Name: generate_poem_with_numbers\\nDescription: Generates a poem containing <num1: float> and <num2: float>\\nInput: ['num1', 'num2']\\nOutput: {'Poem': 'Poem'}\\n\",\n",
       " \"Name: list_related_words\\nDescription: Lists out <num: int> words related to <word: str>\\nInput: ['num', 'word']\\nOutput: {'List of words': 'List of words, type: list'}\\n\",\n",
       " \"Name: generate_quote\\nDescription: Generates a quote about <topic: str>\\nInput: ['topic']\\nOutput: {'Quote': 'Quote'}\\n\"]"
      ]
     },
     "execution_count": 5,
     "metadata": {},
     "output_type": "execute_result"
    }
   ],
   "source": [
    "# see the auto-generated names of your functions :)\n",
    "my_agent.list_functions()"
   ]
  },
  {
   "cell_type": "code",
   "execution_count": 6,
   "id": "87357751-5f53-4e4b-adad-0487687d9ef4",
   "metadata": {
    "tags": []
   },
   "outputs": [
    {
     "data": {
      "text/plain": [
       "['subtract_numbers',\n",
       " 'divide_numbers',\n",
       " 'multiply_numbers',\n",
       " 'modulo_of_numbers',\n",
       " 'generate_poem_with_numbers']"
      ]
     },
     "execution_count": 6,
     "metadata": {},
     "output_type": "execute_result"
    }
   ],
   "source": [
    "# visualise how the Functions are chosen based on task - here you see subtract_numbers appearing at the front\n",
    "# this does not include the compulsory functions\n",
    "[f.fn_name for f in my_agent.memory_bank['Function'].retrieve_by_ranker('subtract numbers')]"
   ]
  },
  {
   "cell_type": "code",
   "execution_count": 7,
   "id": "9ac84079-bb50-4fc8-83ac-167685a1b4a8",
   "metadata": {
    "tags": []
   },
   "outputs": [
    {
     "name": "stdout",
     "output_type": "stream",
     "text": [
      "Filtered Function Names: end_task, sum_numbers, subtract_numbers, multiply_numbers, divide_numbers, power_operation, modulo_of_numbers\n",
      "\u001b[1m\u001b[30mObservation: No subtasks completed yet for Assigned Task\u001b[0m\n",
      "\u001b[1m\u001b[32mThoughts: Use the sum_numbers function to add 2 and 3 together\u001b[0m\n",
      "\u001b[1m\u001b[34mSubtask identified: Adds all numbers in [2, 3]\u001b[0m\n",
      "Calling function sum_numbers with parameters {'num_list': [2, 3]}\n",
      "> {'Result': 5}\n",
      "\n",
      "Filtered Function Names: end_task, sum_numbers, subtract_numbers, multiply_numbers, divide_numbers, power_operation, modulo_of_numbers\n",
      "\u001b[1m\u001b[30mObservation: The task is to evaluate 2+3, which has been partially completed by adding all numbers in [2, 3] resulting in 5\u001b[0m\n",
      "\u001b[1m\u001b[32mThoughts: The final step is to provide the sum of 2 and 3 to the user\u001b[0m\n",
      "\u001b[1m\u001b[34mSubtask identified: End Task\u001b[0m\n",
      "Task completed successfully!\n",
      "\n"
     ]
    },
    {
     "data": {
      "text/plain": [
       "[{'Result': 5}]"
      ]
     },
     "execution_count": 7,
     "metadata": {},
     "output_type": "execute_result"
    }
   ],
   "source": [
    "my_agent.reset()\n",
    "my_agent.run('Evaluate 2+3')"
   ]
  },
  {
   "cell_type": "code",
   "execution_count": 8,
   "id": "ed842f9c-84b1-4176-9f70-e97f35e65639",
   "metadata": {
    "tags": []
   },
   "outputs": [
    {
     "name": "stdout",
     "output_type": "stream",
     "text": [
      "Filtered Function Names: end_task, sum_numbers, subtract_numbers, multiply_numbers, divide_numbers, power_operation, modulo_of_numbers\n",
      "\u001b[1m\u001b[30mObservation: No subtasks completed yet\u001b[0m\n",
      "\u001b[1m\u001b[32mThoughts: Need to start evaluating the expression provided by the user\u001b[0m\n",
      "\u001b[1m\u001b[34mSubtask identified: Returns 2**10\u001b[0m\n",
      "Calling function power_operation with parameters {'num1': 2.0, 'num2': 10.0}\n",
      "> {'Result': 1024.0}\n",
      "\n",
      "Filtered Function Names: end_task, sum_numbers, subtract_numbers, multiply_numbers, divide_numbers, power_operation, modulo_of_numbers\n",
      "\u001b[1m\u001b[30mObservation: The subtask \"Returns 2**10\" has been completed successfully, resulting in 1024.0\u001b[0m\n",
      "\u001b[1m\u001b[32mThoughts: The remaining part of the assigned task is to multiply the result by (3+5) and then divide the final result by 10.\u001b[0m\n",
      "\u001b[1m\u001b[34mSubtask identified: Multiply 1024.0 by 8.0\u001b[0m\n",
      "Calling function multiply_numbers with parameters {'num1': 1024.0, 'num2': 8.0}\n",
      "> {'Result': 8192.0}\n",
      "\n",
      "Filtered Function Names: end_task, sum_numbers, subtract_numbers, multiply_numbers, divide_numbers, power_operation, modulo_of_numbers\n",
      "\u001b[1m\u001b[30mObservation: The Assigned Task involves evaluating 2**10 * (3+5) / 10. Two subtasks have been completed: finding 2**10 = 1024.0 and then multiplying 1024.0 by 8.0 to get 8192.0\u001b[0m\n",
      "\u001b[1m\u001b[32mThoughts: The final step involves dividing 8192.0 by 10 to complete the Assigned Task\u001b[0m\n",
      "\u001b[1m\u001b[34mSubtask identified: Divide 8192.0 by 10\u001b[0m\n",
      "Calling function divide_numbers with parameters {'num1': 8192.0, 'num2': 10.0}\n",
      "> {'Result': 819.2}\n",
      "\n",
      "Filtered Function Names: end_task, sum_numbers, subtract_numbers, multiply_numbers, divide_numbers, power_operation, modulo_of_numbers\n",
      "\u001b[1m\u001b[30mObservation: The Assigned Task involves evaluating the expression 2**10 * (3+5) / 10. Three subtasks have been completed: finding 2**10, multiplying the result by 8, and then dividing the result by 10.\u001b[0m\n",
      "\u001b[1m\u001b[32mThoughts: The next step is to multiply the result obtained so far by the sum of 3 and 5. This will complete the final calculation for the Assigned Task.\u001b[0m\n",
      "\u001b[1m\u001b[34mSubtask identified: Multiply 8192.0 by 8.0\u001b[0m\n",
      "Calling function multiply_numbers with parameters {'num1': 8192.0, 'num2': 8.0}\n",
      "> {'Result': 65536.0}\n",
      "\n",
      "Filtered Function Names: end_task, sum_numbers, subtract_numbers, multiply_numbers, divide_numbers, power_operation, modulo_of_numbers\n",
      "\u001b[1m\u001b[30mObservation: The subtasks completed so far involve evaluating exponential operations, multiplication, and division.\u001b[0m\n",
      "\u001b[1m\u001b[32mThoughts: The next step is to complete the remaining part of the assigned task, which involves adding 3 and 5, then multiplying the result by 2^10, and finally dividing the product by 10.\u001b[0m\n",
      "\u001b[1m\u001b[34mSubtask identified: Add all numbers in [3, 5], then multiply the result by 2^10.\u001b[0m\n",
      "Calling function sum_numbers with parameters {'num_list': [3, 5]}\n",
      "> {'Result': 8}\n",
      "\n"
     ]
    }
   ],
   "source": [
    "my_agent.reset()\n",
    "output = my_agent.run('Evaluate 2**10 * (3+5) / 10')"
   ]
  },
  {
   "cell_type": "code",
   "execution_count": 9,
   "id": "1d0a41b3-b7ee-4763-a73f-4fbd9daaf181",
   "metadata": {
    "tags": []
   },
   "outputs": [
    {
     "name": "stdout",
     "output_type": "stream",
     "text": [
      "819.2\n"
     ]
    },
    {
     "data": {
      "text/plain": [
       "819.2"
      ]
     },
     "execution_count": 9,
     "metadata": {},
     "output_type": "execute_result"
    }
   ],
   "source": [
    "my_agent.reply_user()"
   ]
  },
  {
   "cell_type": "code",
   "execution_count": 10,
   "id": "1ba75a65-7590-4552-a461-ec717d58a1f2",
   "metadata": {
    "tags": []
   },
   "outputs": [
    {
     "name": "stdout",
     "output_type": "stream",
     "text": [
      "Agent Name: Generalist Agent\n",
      "Agent Description: Does everything\n",
      "Available Functions: ['end_task', 'sum_numbers', 'subtract_numbers', 'multiply_numbers', 'divide_numbers', 'power_operation', 'greatest_common_divisor', 'modulo_of_numbers', 'absolute_difference', 'generate_poem_with_numbers', 'list_related_words', 'generate_quote']\n",
      "Shared Variables: ['agent']\n",
      "\u001b[1m\u001b[32mTask: Evaluate 2**10 * (3+5) / 10\u001b[0m\n",
      "\u001b[1m\u001b[30mSubtasks Completed:\u001b[0m\n",
      "\u001b[1m\u001b[34mSubtask: Returns 2**10\u001b[0m\n",
      "{'Result': 1024.0}\n",
      "\n",
      "\u001b[1m\u001b[34mSubtask: Multiply 1024.0 by 8.0\u001b[0m\n",
      "{'Result': 8192.0}\n",
      "\n",
      "\u001b[1m\u001b[34mSubtask: Divide 8192.0 by 10\u001b[0m\n",
      "{'Result': 819.2}\n",
      "\n",
      "\u001b[1m\u001b[34mSubtask: Multiply 8192.0 by 8.0\u001b[0m\n",
      "{'Result': 65536.0}\n",
      "\n",
      "\u001b[1m\u001b[34mSubtask: Add all numbers in [3, 5], then multiply the result by 2^10.\u001b[0m\n",
      "{'Result': 8}\n",
      "\n",
      "\u001b[1m\u001b[34mSubtask: Evaluate 2**10 * (3+5) / 10\u001b[0m\n",
      "819.2\n",
      "\n",
      "Is Task Completed: False\n"
     ]
    }
   ],
   "source": [
    "my_agent.status()"
   ]
  },
  {
   "cell_type": "markdown",
   "id": "6260e2ee-5eae-44fb-8b70-76da88e16822",
   "metadata": {},
   "source": [
    "# Use Case 2: Adding more context based on task\n",
    "- You can add additional context as the memory_bank so that `top k` will be added to prompt based on task"
   ]
  },
  {
   "cell_type": "markdown",
   "id": "e6ace029-fde1-42f7-b2e2-cb34431ad9e3",
   "metadata": {},
   "source": [
    "### Using `memory_bank` for more context\n",
    "- Here, we have a mapping of nonsense words to numbers\n",
    "- Based on the subtask, we will augment the system prompt with relevant mappings to aid planning"
   ]
  },
  {
   "cell_type": "code",
   "execution_count": 11,
   "id": "79cf809e-f14f-4c56-b070-87289a22df25",
   "metadata": {
    "tags": []
   },
   "outputs": [],
   "source": [
    "# first append more context to the agent\n",
    "my_agent.memory_bank['Word to Numbers'] = Memory([{'Azo': 1}, {'Boneti': 2}, {'Andkh': 3}, {'Bdakf': 4}, {'dafdsk': 5}, \n",
    "            {'ldsfn': 6}, {'sdkfn': 7}, {'eri': 8}, {'knewro': 9}, {'mdsnfk': 10}], # some nonsense words\n",
    "            top_k = 5,  # choose top 5\n",
    "            mapper = lambda x: list(x.keys())) # we compare with the task using only the first word, e.g. Azo, Boneti, Andkh"
   ]
  },
  {
   "cell_type": "code",
   "execution_count": 12,
   "id": "60aa15b8-9bf5-4339-a264-11ea93157164",
   "metadata": {
    "tags": []
   },
   "outputs": [
    {
     "name": "stdout",
     "output_type": "stream",
     "text": [
      "Filtered Function Names: end_task, sum_numbers, multiply_numbers, power_operation, modulo_of_numbers, generate_poem_with_numbers, generate_quote\n",
      "\u001b[1m\u001b[30mObservation: No subtasks completed yet.\u001b[0m\n",
      "\u001b[1m\u001b[32mThoughts: Need to extract the numbers corresponding to the words in the Assigned Task and perform the required operation.\u001b[0m\n",
      "\u001b[1m\u001b[34mSubtask identified: Extract the numbers corresponding to the words \"Boneti\", \"mdsnfk\", and \"Azo\" from the Knowledge Reference.\u001b[0m\n",
      "Calling function sum_numbers with parameters {'num_list': [2, 10, 1]}\n",
      "> {'Result': 13}\n",
      "\n",
      "Filtered Function Names: end_task, sum_numbers, multiply_numbers, power_operation, modulo_of_numbers, generate_poem_with_numbers, generate_quote\n",
      "\u001b[1m\u001b[30mObservation: Extract the numbers corresponding to the words \"Boneti\", \"mdsnfk\", and \"Azo\" from the Knowledge Reference.\u001b[0m\n",
      "\u001b[1m\u001b[32mThoughts: The numbers corresponding to the words \"Boneti\", \"mdsnfk\", and \"Azo\" have been extracted successfully. The next step is to add these numbers together to get the final result.\u001b[0m\n",
      "\u001b[1m\u001b[34mSubtask identified: Adds all numbers in num_list\u001b[0m\n",
      "Calling function sum_numbers with parameters {'num_list': [2, 10, 1]}\n",
      "> {'Result': 13}\n",
      "\n",
      "Filtered Function Names: end_task, sum_numbers, multiply_numbers, power_operation, modulo_of_numbers, generate_poem_with_numbers, generate_quote\n",
      "\u001b[1m\u001b[30mObservation: The numbers corresponding to the words \"Boneti\", \"mdsnfk\", and \"Azo\" have been extracted from the Knowledge Reference. The sum of these numbers is 13.\u001b[0m\n",
      "\u001b[1m\u001b[32mThoughts: The next step is to add all the extracted numbers to get the final result.\u001b[0m\n",
      "\u001b[1m\u001b[34mSubtask identified: Adds all numbers in [2, 10, 1]\u001b[0m\n",
      "Calling function sum_numbers with parameters {'num_list': [2, 10, 1]}\n",
      "> {'Result': 13}\n",
      "\n",
      "Filtered Function Names: end_task, sum_numbers, multiply_numbers, power_operation, modulo_of_numbers, generate_poem_with_numbers, generate_quote\n",
      "\u001b[1m\u001b[30mObservation: The numbers corresponding to the words \"Boneti\", \"mdsnfk\", and \"Azo\" have been extracted and added together to get a total of 13.\u001b[0m\n",
      "\u001b[1m\u001b[32mThoughts: The task requires adding the numbers corresponding to \"Boneti\", \"mdsnfk\", and \"Azo\". This can be achieved by using the \"sum_numbers\" function to add the numbers together.\u001b[0m\n",
      "\u001b[1m\u001b[34mSubtask identified: Adds all numbers in [2, 10, 1]\u001b[0m\n",
      "Calling function sum_numbers with parameters {'num_list': [2, 10, 1]}\n",
      "> {'Result': 13}\n",
      "\n",
      "Filtered Function Names: end_task, sum_numbers, multiply_numbers, power_operation, modulo_of_numbers, generate_poem_with_numbers, generate_quote\n",
      "\u001b[1m\u001b[30mObservation: The numbers corresponding to the words \"Boneti\", \"mdsnfk\", and \"Azo\" have been extracted and added together to get a total of 13.\u001b[0m\n",
      "\u001b[1m\u001b[32mThoughts: The next step is to add the numbers together to find the result of \"Boneti + mdsnfk + Azo\".\u001b[0m\n",
      "\u001b[1m\u001b[34mSubtask identified: Adds all numbers in [2, 10, 1]\u001b[0m\n",
      "Calling function sum_numbers with parameters {'num_list': [2, 10, 1]}\n",
      "> {'Result': 13}\n",
      "\n"
     ]
    }
   ],
   "source": [
    "my_agent.reset()\n",
    "output = my_agent.run('Tell me what is Boneti + mdsnfk + Azo')"
   ]
  },
  {
   "cell_type": "code",
   "execution_count": 13,
   "id": "fef221ae-2177-45b3-8105-c44894183025",
   "metadata": {},
   "outputs": [
    {
     "name": "stdout",
     "output_type": "stream",
     "text": [
      "The sum of Boneti, mdsnfk, and Azo is 13.\n"
     ]
    },
    {
     "data": {
      "text/plain": [
       "'The sum of Boneti, mdsnfk, and Azo is 13.'"
      ]
     },
     "execution_count": 13,
     "metadata": {},
     "output_type": "execute_result"
    }
   ],
   "source": [
    "my_agent.reply_user()"
   ]
  },
  {
   "cell_type": "markdown",
   "id": "c14537c4-6fb5-4325-9903-71e0184467a3",
   "metadata": {},
   "source": [
    "## Alternative approach of providing additional information via a function\n",
    "- Sometimes it might be better off to do the additional information providing in a separate function\n",
    "- This helps us to do more specific augmentation, like doing RAG over documents, or doing rule-based augmentation\n",
    "- This also helps to reduce the context length of the planner by offloading the augmentation to another function"
   ]
  },
  {
   "cell_type": "code",
   "execution_count": 14,
   "id": "8c4b3e89-ad9a-4f42-a27a-821880726a30",
   "metadata": {
    "tags": []
   },
   "outputs": [],
   "source": [
    "# delete number meanings additional context memory to showcase the information providing function\n",
    "if 'Number Meanings' in my_agent.memory_bank:\n",
    "    del my_agent.memory_bank['Number Meanings']"
   ]
  },
  {
   "cell_type": "code",
   "execution_count": 15,
   "id": "9afb69c9-e56d-406d-8dbf-17bcccfcb4eb",
   "metadata": {
    "tags": []
   },
   "outputs": [
    {
     "data": {
      "text/plain": [
       "{'Output': 'Azo equals 1, Boneti equals 2, mdsnfk equals 10, '}"
      ]
     },
     "execution_count": 15,
     "metadata": {},
     "output_type": "execute_result"
    }
   ],
   "source": [
    "# add in additional information function\n",
    "# can also do RAG here if needed\n",
    "def convert_word_to_number(list_of_words: list):\n",
    "    '''Gets additional information about all unknown words in user_query'''\n",
    "    word_to_numbers = {'Azo': 1, 'Boneti': 2, 'Andkh': 3, 'Bdakf': 4, 'dafdsk': 5, \n",
    "               'ldsfn': 6, 'sdkfn': 7, 'eri': 8, 'knewro': 9, 'mdsnfk': 10}\n",
    "    \n",
    "    output_string = ''\n",
    "    \n",
    "    list_of_words = str(list_of_words).lower()\n",
    "    for key, value in word_to_numbers.items():\n",
    "        if key.lower() in list_of_words.lower():\n",
    "            output_string += f'{key} equals {value}, '\n",
    "    return output_string\n",
    "\n",
    "info_fn = Function('Gets additional information about all unknown words in <list_of_words: List[str]>',\n",
    "                  output_format = {'Output': 'str'},\n",
    "                  is_compulsory = True, #makes this function always available for agent\n",
    "                  external_fn = convert_word_to_number)\n",
    "\n",
    "info_fn(['Boneti', 'mdsnfk', 'Azo'])"
   ]
  },
  {
   "cell_type": "code",
   "execution_count": 16,
   "id": "d4633484-c3c7-4d5f-9b73-f1a5ef1c0ea2",
   "metadata": {
    "tags": []
   },
   "outputs": [
    {
     "data": {
      "text/plain": [
       "<taskgen.agent.Agent at 0x109500e90>"
      ]
     },
     "execution_count": 16,
     "metadata": {},
     "output_type": "execute_result"
    }
   ],
   "source": [
    "# Assign newest function \n",
    "my_agent.assign_functions([info_fn])"
   ]
  },
  {
   "cell_type": "code",
   "execution_count": 17,
   "id": "b5bc3024-89be-4fbf-8013-5b8482cf98e0",
   "metadata": {
    "tags": []
   },
   "outputs": [
    {
     "name": "stdout",
     "output_type": "stream",
     "text": [
      "Filtered Function Names: end_task, sum_numbers, multiply_numbers, power_operation, modulo_of_numbers, generate_poem_with_numbers, generate_quote, convert_word_to_number\n",
      "\u001b[1m\u001b[30mObservation: No subtasks completed yet\u001b[0m\n",
      "\u001b[1m\u001b[32mThoughts: Need to identify the unknown words in the expression \"Boneti + mdsnfk + Azo\" and convert them to numbers\u001b[0m\n",
      "\u001b[1m\u001b[34mSubtask identified: Get additional information about all unknown words in the expression \"Boneti + mdsnfk + Azo\"\u001b[0m\n",
      "Calling function convert_word_to_number with parameters {'list_of_words': ['Boneti', 'mdsnfk', 'Azo']}\n",
      "> {'Output': 'Azo equals 1, Boneti equals 2, mdsnfk equals 10, '}\n",
      "\n",
      "Filtered Function Names: end_task, sum_numbers, multiply_numbers, power_operation, modulo_of_numbers, generate_poem_with_numbers, generate_quote, convert_word_to_number\n",
      "\u001b[1m\u001b[30mObservation: Get additional information about all unknown words in the expression \"Boneti + mdsnfk + Azo\"\u001b[0m\n",
      "\u001b[1m\u001b[32mThoughts: The unknown words in the expression have been identified and their corresponding numerical values have been determined.\u001b[0m\n",
      "\u001b[1m\u001b[34mSubtask identified: Add the numerical values of Boneti, mdsnfk, and Azo.\u001b[0m\n",
      "Calling function sum_numbers with parameters {'num_list': [2, 10, 1]}\n",
      "> {'Result': 13}\n",
      "\n",
      "Filtered Function Names: end_task, sum_numbers, multiply_numbers, power_operation, modulo_of_numbers, generate_poem_with_numbers, generate_quote, convert_word_to_number\n",
      "\u001b[1m\u001b[30mObservation: The unknown words in the expression \"Boneti + mdsnfk + Azo\" have been identified and their numerical values have been determined. The sum of the numerical values has been calculated to be 13.\u001b[0m\n",
      "\u001b[1m\u001b[32mThoughts: The next step is to add the numerical values of Boneti, mdsnfk, and Azo.\u001b[0m\n",
      "\u001b[1m\u001b[34mSubtask identified: Add the numerical values of Boneti, mdsnfk, and Azo.\u001b[0m\n",
      "Calling function sum_numbers with parameters {'num_list': [2, 10, 1]}\n",
      "> {'Result': 13}\n",
      "\n",
      "Filtered Function Names: end_task, sum_numbers, multiply_numbers, power_operation, modulo_of_numbers, generate_poem_with_numbers, generate_quote, convert_word_to_number\n",
      "\u001b[1m\u001b[30mObservation: The unknown words in the expression \"Boneti + mdsnfk + Azo\" have been identified and their numerical values have been determined. The sum of the numerical values of Boneti, mdsnfk, and Azo has been calculated twice.\u001b[0m\n",
      "\u001b[1m\u001b[32mThoughts: The final step is to add the numerical values of Boneti, mdsnfk, and Azo to get the total sum.\u001b[0m\n",
      "\u001b[1m\u001b[34mSubtask identified: Add the numerical values of Boneti, mdsnfk, and Azo.\u001b[0m\n",
      "Calling function sum_numbers with parameters {'num_list': [2, 10, 1]}\n",
      "> {'Result': 13}\n",
      "\n",
      "Filtered Function Names: end_task, sum_numbers, multiply_numbers, power_operation, modulo_of_numbers, generate_poem_with_numbers, generate_quote, convert_word_to_number\n",
      "\u001b[1m\u001b[30mObservation: The expression \"Boneti + mdsnfk + Azo\" has been analyzed to find the numerical values of each word and the sum of these values has been calculated multiple times.\u001b[0m\n",
      "\u001b[1m\u001b[32mThoughts: The final subtask is to add the numerical values of Boneti, mdsnfk, and Azo together to get the result.\u001b[0m\n",
      "\u001b[1m\u001b[34mSubtask identified: Add the numerical values of Boneti, mdsnfk, and Azo.\u001b[0m\n",
      "Calling function sum_numbers with parameters {'num_list': [2, 10, 1]}\n",
      "> {'Result': 13}\n",
      "\n"
     ]
    }
   ],
   "source": [
    "my_agent.reset()\n",
    "output = my_agent.run('Tell me what is Boneti + mdsnfk + Azo')"
   ]
  },
  {
   "cell_type": "code",
   "execution_count": 18,
   "id": "2a987e2b-b4af-4273-ac5a-6e1f7d4093d5",
   "metadata": {},
   "outputs": [
    {
     "name": "stdout",
     "output_type": "stream",
     "text": [
      "Azo equals 1, Boneti equals 2, mdsnfk equals 10. Therefore, Boneti + mdsnfk + Azo equals 2 + 10 + 1, which equals 13.\n"
     ]
    },
    {
     "data": {
      "text/plain": [
       "'Azo equals 1, Boneti equals 2, mdsnfk equals 10. Therefore, Boneti + mdsnfk + Azo equals 2 + 10 + 1, which equals 13.'"
      ]
     },
     "execution_count": 18,
     "metadata": {},
     "output_type": "execute_result"
    }
   ],
   "source": [
    "my_agent.reply_user()"
   ]
  },
  {
   "cell_type": "markdown",
   "id": "b477130a-92f6-49cc-aafc-26352696231c",
   "metadata": {},
   "source": [
    "# Use Case 3: Adding more context of when to call various functions\n",
    "- We can augment memory bank with information of what functions to call for certain queries, so that agent knows what to do for some edge cases\n",
    "- This helps to augment with the system prompt of `get_next_subtask` and `use_llm` with more examples related to the user query"
   ]
  },
  {
   "cell_type": "code",
   "execution_count": 19,
   "id": "170a8d68-a6bb-40fb-b0ba-c35cd75801d7",
   "metadata": {
    "tags": []
   },
   "outputs": [],
   "source": [
    "my_agent.memory_bank['Task to Function'] = Memory([\n",
    "    {'Task': 'Evaluate Azo + eri', 'Function1': {'name': 'convert_word_to_number', 'list_of_words': ['Azo', 'eri']}, \n",
    "     'Function2': {'name': 'sum_numbers_in_list', 'num_list': [1, 8]}},\n",
    "    {'Task': 'Evaluate 5 + 2', 'Function': 'sum_numbers_in_list', 'num_list': [5, 2]},\n",
    "    {'Task': 'Find out about Boneti and Andkh', 'Function': 'convert_word_to_number', 'list_of_words': ['Boneti', 'Andkh']},\n",
    "    {'Task': 'What is Andkh?', 'Function': 'convert_word_to_number', 'list_of_words': ['Andkh']},\n",
    "    {'Task': 'Booyah', 'Function': 'generate_quote', 'topic': 'TaskGen'}\n",
    "      ], \n",
    "    top_k = 3,  # choose top 3\n",
    "    mapper = lambda x: x['Task']) # we compare with the task using only with the user query"
   ]
  },
  {
   "cell_type": "code",
   "execution_count": 20,
   "id": "a53a47b9-b0c5-467c-a8f7-ff49a6affd3f",
   "metadata": {
    "tags": []
   },
   "outputs": [
    {
     "name": "stdout",
     "output_type": "stream",
     "text": [
      "Filtered Function Names: end_task, sum_numbers, multiply_numbers, power_operation, modulo_of_numbers, generate_poem_with_numbers, generate_quote, convert_word_to_number\n",
      "\u001b[1m\u001b[30mObservation: No subtasks completed yet for the Assigned Task\u001b[0m\n",
      "\u001b[1m\u001b[32mThoughts: Need to find the word to number conversion for Boneti, mdsnfk, and Azo\u001b[0m\n",
      "\u001b[1m\u001b[34mSubtask identified: Convert the words Boneti, mdsnfk, and Azo to numbers\u001b[0m\n",
      "Calling function convert_word_to_number with parameters {'list_of_words': ['Boneti', 'mdsnfk', 'Azo']}\n",
      "> {'Output': 'Azo equals 1, Boneti equals 2, mdsnfk equals 10, '}\n",
      "\n",
      "Filtered Function Names: end_task, sum_numbers, multiply_numbers, power_operation, modulo_of_numbers, generate_poem_with_numbers, generate_quote, convert_word_to_number\n",
      "\u001b[1m\u001b[30mObservation: The words Boneti, mdsnfk, and Azo have been converted to numbers: Azo equals 1, Boneti equals 2, mdsnfk equals 10, \u001b[0m\n",
      "\u001b[1m\u001b[32mThoughts: The task is to find the sum of Boneti, mdsnfk, and Azo. This can be achieved by using the sum_numbers function.\u001b[0m\n",
      "\u001b[1m\u001b[34mSubtask identified: Add the numbers 2, 10, and 1\u001b[0m\n",
      "Calling function sum_numbers with parameters {'num_list': [2, 10, 1]}\n",
      "> {'Result': 13}\n",
      "\n",
      "Filtered Function Names: end_task, sum_numbers, multiply_numbers, power_operation, modulo_of_numbers, generate_poem_with_numbers, generate_quote, convert_word_to_number\n",
      "\u001b[1m\u001b[30mObservation: The words Boneti, mdsnfk, and Azo have been converted to numbers: Azo equals 1, Boneti equals 2, mdsnfk equals 10. The numbers 2, 10, and 1 have been added together resulting in 13.\u001b[0m\n",
      "\u001b[1m\u001b[32mThoughts: The task is to add the numbers corresponding to Boneti, mdsnfk, and Azo. This can be achieved by using the \"sum_numbers\" function.\u001b[0m\n",
      "\u001b[1m\u001b[34mSubtask identified: Add the numbers 2, 10, and 1\u001b[0m\n",
      "Calling function sum_numbers with parameters {'num_list': [2, 10, 1]}\n",
      "> {'Result': 13}\n",
      "\n",
      "Filtered Function Names: end_task, sum_numbers, multiply_numbers, power_operation, modulo_of_numbers, generate_poem_with_numbers, generate_quote, convert_word_to_number\n",
      "\u001b[1m\u001b[30mObservation: The words Boneti, mdsnfk, and Azo have been converted to numbers: Azo equals 1, Boneti equals 2, mdsnfk equals 10. The numbers 2, 10, and 1 have been added together resulting in 13.\u001b[0m\n",
      "\u001b[1m\u001b[32mThoughts: The task is to add the numbers corresponding to Boneti, mdsnfk, and Azo. This can be achieved by using the \"sum_numbers\" function to add the numbers together.\u001b[0m\n",
      "\u001b[1m\u001b[34mSubtask identified: Add the numbers 2, 10, and 1\u001b[0m\n",
      "Calling function sum_numbers with parameters {'num_list': [2, 10, 1]}\n",
      "> {'Result': 13}\n",
      "\n",
      "Filtered Function Names: end_task, sum_numbers, multiply_numbers, power_operation, modulo_of_numbers, generate_poem_with_numbers, generate_quote, convert_word_to_number\n",
      "\u001b[1m\u001b[30mObservation: The words Boneti, mdsnfk, and Azo have been converted to numbers: Azo equals 1, Boneti equals 2, mdsnfk equals 10. The numbers 2, 10, and 1 have been added together three times resulting in 13 each time.\u001b[0m\n",
      "\u001b[1m\u001b[32mThoughts: The task is to add the numbers corresponding to Boneti, mdsnfk, and Azo. Since we already have the numbers for these words and have added them together, we can directly provide the final result to the user.\u001b[0m\n",
      "\u001b[1m\u001b[34mSubtask identified: End Task\u001b[0m\n",
      "Task completed successfully!\n",
      "\n"
     ]
    }
   ],
   "source": [
    "my_agent.reset()\n",
    "output = my_agent.run('Tell me what is Boneti + mdsnfk + Azo')"
   ]
  },
  {
   "cell_type": "code",
   "execution_count": 21,
   "id": "998d9743-fed3-4c61-84fe-7071df196fb5",
   "metadata": {
    "tags": []
   },
   "outputs": [
    {
     "name": "stdout",
     "output_type": "stream",
     "text": [
      "Boneti + mdsnfk + Azo equals 2 + 10 + 1 which equals 13\n"
     ]
    },
    {
     "data": {
      "text/plain": [
       "'Boneti + mdsnfk + Azo equals 2 + 10 + 1 which equals 13'"
      ]
     },
     "execution_count": 21,
     "metadata": {},
     "output_type": "execute_result"
    }
   ],
   "source": [
    "my_agent.reply_user()"
   ]
  },
  {
   "cell_type": "code",
   "execution_count": 22,
   "id": "f1b8c39a-4d5b-415a-9be5-c06a15327dcf",
   "metadata": {},
   "outputs": [
    {
     "name": "stdout",
     "output_type": "stream",
     "text": [
      "Filtered Function Names: end_task, sum_numbers, multiply_numbers, divide_numbers, power_operation, modulo_of_numbers, generate_quote, convert_word_to_number\n",
      "\u001b[1m\u001b[30mObservation: No subtasks completed yet for Assigned Task\u001b[0m\n",
      "\u001b[1m\u001b[32mThoughts: Need to start working on the Assigned Task\u001b[0m\n",
      "\u001b[1m\u001b[34mSubtask identified: Generate a quote about the topic \"TaskGen\"\u001b[0m\n",
      "Calling function generate_quote with parameters {'topic': 'TaskGen'}\n",
      "> {'Quote': 'TaskGen is a powerful tool that simplifies the process of generating tasks and managing workflows.'}\n",
      "\n",
      "Filtered Function Names: end_task, sum_numbers, multiply_numbers, divide_numbers, power_operation, modulo_of_numbers, generate_quote, convert_word_to_number\n",
      "\u001b[1m\u001b[30mObservation: The quote \"TaskGen is a powerful tool that simplifies the process of generating tasks and managing workflows.\" has been generated for the topic \"TaskGen\".\u001b[0m\n",
      "\u001b[1m\u001b[32mThoughts: The next subtask is \"End Task\".\u001b[0m\n",
      "\u001b[1m\u001b[34mSubtask identified: End Task\u001b[0m\n",
      "Task completed successfully!\n",
      "\n"
     ]
    }
   ],
   "source": [
    "my_agent.reset()\n",
    "# This actually is not anything special - but because of memory bank, it is mapped to TaskGen\n",
    "output = my_agent.run('Booyah')"
   ]
  },
  {
   "cell_type": "code",
   "execution_count": 23,
   "id": "4cce3fac-2a45-46f6-9baf-3cbd31899197",
   "metadata": {
    "tags": []
   },
   "outputs": [
    {
     "name": "stdout",
     "output_type": "stream",
     "text": [
      "Agent Name: Generalist Agent\n",
      "Agent Description: Does everything\n",
      "Available Functions: ['end_task', 'sum_numbers', 'subtract_numbers', 'multiply_numbers', 'divide_numbers', 'power_operation', 'greatest_common_divisor', 'modulo_of_numbers', 'absolute_difference', 'generate_poem_with_numbers', 'list_related_words', 'generate_quote', 'convert_word_to_number']\n",
      "Shared Variables: ['agent']\n",
      "\u001b[1m\u001b[32mTask: Booyah\u001b[0m\n",
      "\u001b[1m\u001b[30mSubtasks Completed:\u001b[0m\n",
      "\u001b[1m\u001b[34mSubtask: Generate a quote about the topic \"TaskGen\"\u001b[0m\n",
      "{'Quote': 'TaskGen is a powerful tool that simplifies the process of generating tasks and managing workflows.'}\n",
      "\n",
      "Is Task Completed: True\n"
     ]
    }
   ],
   "source": [
    "my_agent.status()"
   ]
  },
  {
   "cell_type": "markdown",
   "id": "a15f8b44-722c-4b75-8999-9065b432a535",
   "metadata": {},
   "source": [
    "# Comparison between embedding-based methods using Ranker and LLM-based similarity\n",
    "- Pros of embedding-based similarity comparison: Fast and cheap\n",
    "- Cons of embedding-based similarity comparison: Not as accurate\n",
    "- If using default `Ranker` function (OpenAI embedding model), automatically stores new embeddings generated in `database` and uses back known embeddings from `database` when possible, potentially helping to save time and costs\n",
    "- Select the right method for your use case\n",
    "\n",
    "- (Advanced Exercise) Instead of using cosine similarity using OpenAI Embeddings, create your own `ranking_fn` within `Ranker` that does similarity search the way you want it to"
   ]
  },
  {
   "cell_type": "code",
   "execution_count": 24,
   "id": "e9ebba4d-ae02-459f-8dc1-4fc265bd69b7",
   "metadata": {
    "tags": []
   },
   "outputs": [
    {
     "name": "stdout",
     "output_type": "stream",
     "text": [
      "Using embeddings ['hello']\n",
      "Using LLM ['hello']\n"
     ]
    }
   ],
   "source": [
    "database = {}\n",
    "memory = Memory(['hello', 'no worries', 'goodbye', 'hurray'], top_k = 1, ranker = Ranker(database = database))\n",
    "print('Using embeddings', memory.retrieve_by_ranker('Another word for hi'))\n",
    "print('Using LLM', memory.retrieve_by_llm('Another word for hi'))"
   ]
  },
  {
   "cell_type": "code",
   "execution_count": 25,
   "id": "89da08cb-4e23-4377-8a22-070e5de555e7",
   "metadata": {
    "tags": []
   },
   "outputs": [
    {
     "data": {
      "text/plain": [
       "dict_keys(['hello', 'Another word for hi', 'no worries', 'goodbye', 'hurray'])"
      ]
     },
     "execution_count": 25,
     "metadata": {},
     "output_type": "execute_result"
    }
   ],
   "source": [
    "# Visualise the keys in the database\n",
    "database.keys()"
   ]
  },
  {
   "cell_type": "code",
   "execution_count": 26,
   "id": "b940774b-93ee-478c-b051-dd11991276f8",
   "metadata": {
    "tags": []
   },
   "outputs": [
    {
     "name": "stdout",
     "output_type": "stream",
     "text": [
      "Using embeddings ['goodbye']\n",
      "Using LLM ['goodbye']\n"
     ]
    }
   ],
   "source": [
    "print('Using embeddings', memory.retrieve_by_ranker('What to say when leaving'))\n",
    "print('Using LLM', memory.retrieve_by_llm('What to say when leaving'))"
   ]
  },
  {
   "cell_type": "code",
   "execution_count": 27,
   "id": "da7b53c1-d389-40d0-95ac-abdbf174fd63",
   "metadata": {
    "tags": []
   },
   "outputs": [
    {
     "data": {
      "text/plain": [
       "dict_keys(['hello', 'Another word for hi', 'no worries', 'goodbye', 'hurray', 'What to say when leaving'])"
      ]
     },
     "execution_count": 27,
     "metadata": {},
     "output_type": "execute_result"
    }
   ],
   "source": [
    "# Visualise the keys in the database\n",
    "database.keys()"
   ]
  }
 ],
 "metadata": {
  "kernelspec": {
   "display_name": "Python 3 (ipykernel)",
   "language": "python",
   "name": "python3"
  },
  "language_info": {
   "codemirror_mode": {
    "name": "ipython",
    "version": 3
   },
   "file_extension": ".py",
   "mimetype": "text/x-python",
   "name": "python",
   "nbconvert_exporter": "python",
   "pygments_lexer": "ipython3",
   "version": "3.11.3"
  }
 },
 "nbformat": 4,
 "nbformat_minor": 5
}
