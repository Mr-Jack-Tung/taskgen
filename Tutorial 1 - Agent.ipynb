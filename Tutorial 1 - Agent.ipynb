{
 "cells": [
  {
   "cell_type": "markdown",
   "id": "28aa7e46-feca-4d00-af73-9a91165b4a0b",
   "metadata": {},
   "source": [
    "# Tutorial 1: Agents\n",
    "\n",
    "## Functionalities:\n",
    "- Task-based Agents which will break down tasks into subtasks and solve them in bite-sized portions\n",
    "- Agents with registered functions as skills"
   ]
  },
  {
   "cell_type": "markdown",
   "id": "ba2c3090-0534-49e9-b648-b3070dd6b7dc",
   "metadata": {
    "tags": []
   },
   "source": [
    "# Install TaskGen"
   ]
  },
  {
   "cell_type": "code",
   "execution_count": 1,
   "id": "49f1f478-92cf-4854-b1bf-802d64c5a9d5",
   "metadata": {
    "tags": []
   },
   "outputs": [],
   "source": [
    "# !pip install taskgen-ai"
   ]
  },
  {
   "cell_type": "code",
   "execution_count": 2,
   "id": "5d2392bb-46cb-4d0e-8631-15b4d368bafe",
   "metadata": {
    "tags": []
   },
   "outputs": [],
   "source": [
    "# Set up API key and do the necessary imports\n",
    "import os\n",
    "from taskgen import *\n",
    "\n",
    "os.environ['OPENAI_API_KEY'] = '<YOUR API KEY HERE>'"
   ]
  },
  {
   "cell_type": "markdown",
   "id": "e2b7f892-eb78-49c1-96db-e553ac2d6727",
   "metadata": {
    "tags": []
   },
   "source": [
    "# Agent Basics\n",
    "- Create an agent by entering your agent's name and description\n",
    "- Agents are task-based, so they will help generate subtasks to fulfil your main task\n",
    "\n",
    "- Agents are made to be non-verbose, so they will just focus only on task instruction (Much more efficient compared to conversational-based agentic frameworks like AutoGen)\n",
    "- Agent's interactions will be stored into `subtasks_completed` by default, which will serve as a memory buffer for future interactions\n",
    "\n",
    "- **Inputs for Agent**:\n",
    "    - **agent_name**: String. Name of agent, hinting at what the agent does\n",
    "    - **agent_description**: String. Short description of what the agent does\n",
    "    - **max_subtasks**: Int. Default: 5. The maximum number of subtasks the agent can have\n",
    "    - **verbose**: Bool. Default: True. Whether to print out agent's intermediate thoughts\n",
    "<br/><br/>\n",
    "\n",
    "- **Agent Internal Parameters**:\n",
    "    - **Task**: String. The task the agent has been assigned to - Defaults to \"No task assigned\"\n",
    "    - **Subtasks Completed**: Dict. The keys are the subtask names and the values are the result of the respective subtask\n",
    "    - **Is Task Completed**: Bool. Whether the current Task is completed\n",
    "<br/><br/>\n",
    "\n",
    "- **Automatic Task Running**\n",
    "    - **reset()**: Resets the Agent Internal Parameters\n",
    "    - **run(task: str)**: Performs the task. Do note that agent's state will not be reset, so if you want to reset it, call reset() prior to running this\n",
    "<br/><br/>\n",
    "\n",
    "\n",
    "- **Manual Task Running**\n",
    "    - **assign(task: str)**: Assigns a task to the agent, setting Is Task Completed to False\n",
    "    - **run(num_subtasks: int)**: Runs the task for num_subtasks number of subtasks. Keeps the state the same \n",
    "<br/><br/>\n",
    "\n",
    "- **Give User Output**\n",
    "    - **reply_user(query: str = '', stateful: bool = True)**: Using all information from subtasks, give a reply about the `query` to the user. If `query` is not given, then it replies based on the current task the agent is doing. If `stateful` is True, saves this query and reply into `subtasks_completed`\n",
    "<br/><br/>\n",
    "    \n",
    "- **Check status of Agent**:\n",
    "    - **status()**: Lists out Agent Name, Agent Description, Available Functions (default function is to use the LLM), Task, Subtasks Completed and Is Task Completed\n",
    "    \n",
    "## Example Agent Creation\n",
    "```python\n",
    "my_agent = Agent('Helpful assistant', 'You are a generalist agent')\n",
    "```\n",
    "\n",
    "## Example Agent Task Running - Split the assigned task into subtasks and execute each of them\n",
    "\n",
    "```python\n",
    "output = my_agent.run('Give me 5 words rhyming with cool, and make a 4-sentence poem using them')\n",
    "```\n",
    "\n",
    "`Subtask identified: Find 5 words that rhyme with 'cool'`\n",
    "\n",
    "`Getting LLM to perform the following task: Find 5 words that rhyme with 'cool'`\n",
    "> pool, rule, fool, tool, school\n",
    "\n",
    "`Subtask identified: Compose a 4-sentence poem using the words 'pool', 'rule', 'fool', 'tool', and 'school'`\n",
    "\n",
    "`Getting LLM to perform the following task: Compose a 4-sentence poem using the words 'pool', 'rule', 'fool', 'tool', and 'school'`\n",
    "> In the school, the golden rule is to never be a fool. Use your mind as a tool, and always follow the pool.\n",
    "\n",
    "`Task completed successfully!`\n",
    "\n",
    "## Example Agent Reply to User - Reference the subtasks' output to answer the user's query\n",
    "```python\n",
    "output = my_agent.reply_user()\n",
    "```\n",
    "\n",
    "`\n",
    "Here are 5 words that rhyme with \"cool\": pool, rule, fool, tool, school. Here is a 4-sentence poem using these words: \"In the school, the golden rule is to never be a fool. Use your mind as a tool, and always follow the pool.\"\n",
    "`\n",
    "\n",
    "## Check Agent's Status\n",
    "```python\n",
    "my_agent.status()\n",
    "```\n",
    "\n",
    "`Agent Name: Helpful assistant`\n",
    "\n",
    "`Agent Description: You are a generalist agent`\n",
    "\n",
    "`Available Functions: ['use_llm', 'end_task']`\n",
    "\n",
    "`Task: Give me 5 words rhyming with cool, and make a 4-sentence poem using them`\n",
    "\n",
    "`Subtasks Completed:`\n",
    "\n",
    "`Subtask: Find 5 words that rhyme with 'cool'`\n",
    "\n",
    "`pool, rule, fool, tool, school`\n",
    "\n",
    "`Subtask: Compose a 4-sentence poem using the words 'pool', 'rule', 'fool', 'tool', and 'school'`\n",
    "\n",
    "`In the school, the golden rule is to never be a fool. Use your mind as a tool, and always follow the pool.`\n",
    "\n",
    "`Is Task Completed: True`"
   ]
  },
  {
   "cell_type": "markdown",
   "id": "15f83723-ad19-4422-9826-81a3a734dc2b",
   "metadata": {},
   "source": [
    "## Create Agent"
   ]
  },
  {
   "cell_type": "code",
   "execution_count": 3,
   "id": "5993aad2-112d-4952-bfcd-43a71c7e2cb3",
   "metadata": {
    "tags": []
   },
   "outputs": [],
   "source": [
    "# Create your agent by specifying name and description\n",
    "my_agent = Agent('Helpful assistant', 'You are a generalist agent')"
   ]
  },
  {
   "cell_type": "code",
   "execution_count": 4,
   "id": "89cc5918-5bd4-468c-8ff9-b4449e050c22",
   "metadata": {
    "tags": []
   },
   "outputs": [
    {
     "name": "stdout",
     "output_type": "stream",
     "text": [
      "Agent Name: Helpful assistant\n",
      "Agent Description: You are a generalist agent\n",
      "Available Functions: ['use_llm', 'end_task']\n",
      "Task: No task assigned\n",
      "Subtasks Completed: None\n",
      "Is Task Completed: False\n"
     ]
    }
   ],
   "source": [
    "# Show the agent status - By default agent comes equipped with default function `use_llm` which queries the llm\n",
    "# end_task is to end the current task if it is completed\n",
    "my_agent.status()"
   ]
  },
  {
   "cell_type": "markdown",
   "id": "6a4fa06e-f2a6-4405-a0f6-f7ec51a6a84e",
   "metadata": {
    "tags": []
   },
   "source": [
    "## Run Task! (Example 1)"
   ]
  },
  {
   "cell_type": "code",
   "execution_count": 5,
   "id": "2e86738a-05d0-4e04-a2f0-1b7c29d0b729",
   "metadata": {
    "tags": []
   },
   "outputs": [
    {
     "name": "stdout",
     "output_type": "stream",
     "text": [
      "Subtask identified: Find 5 words that rhyme with 'cool'\n",
      "Getting LLM to perform the following task: Find 5 words that rhyme with 'cool'\n",
      "> pool, drool, fool, school, tool\n",
      "\n",
      "Subtask identified: Create a 4-sentence poem using the rhyming words\n",
      "Getting LLM to perform the following task: Create a 4-sentence poem using the rhyming words\n",
      "> In the school by the pool, there sat a fool, with a drool, using a tool, trying to look cool.\n",
      "\n",
      "Task completed successfully!\n",
      "\n"
     ]
    }
   ],
   "source": [
    "# Do the task by subtasks. This does generation to fulfil task\n",
    "my_agent.reset()\n",
    "output = my_agent.run('Give me 5 words rhyming with cool, and make a 4-sentence poem using them')"
   ]
  },
  {
   "cell_type": "code",
   "execution_count": 6,
   "id": "afe503c9-ad37-4962-8099-8d62b7844692",
   "metadata": {
    "tags": []
   },
   "outputs": [
    {
     "name": "stdout",
     "output_type": "stream",
     "text": [
      "['pool, drool, fool, school, tool', 'In the school by the pool, there sat a fool, with a drool, using a tool, trying to look cool.']\n"
     ]
    }
   ],
   "source": [
    "# visualise the subtask outputs of the task\n",
    "print(output)"
   ]
  },
  {
   "cell_type": "code",
   "execution_count": 7,
   "id": "79a8a4ba-3375-4ff0-9057-b3073420ed00",
   "metadata": {
    "tags": []
   },
   "outputs": [
    {
     "name": "stdout",
     "output_type": "stream",
     "text": [
      "I found 5 words that rhyme with cool: pool, drool, fool, school, tool. Here is a 4-sentence poem using the rhyming words: In the school by the pool, there sat a fool, with a drool, using a tool, trying to look cool.\n"
     ]
    }
   ],
   "source": [
    "# Generates a meaningful reply to the user about the task according to its current state. Functions like a QA bot\n",
    "output = my_agent.reply_user()"
   ]
  },
  {
   "cell_type": "code",
   "execution_count": 8,
   "id": "e1cbbce6-27b4-47f4-afc1-08e763de82fa",
   "metadata": {},
   "outputs": [
    {
     "name": "stdout",
     "output_type": "stream",
     "text": [
      "The pool is in the school.\n"
     ]
    }
   ],
   "source": [
    "# You can also ask your questions to the agent, and the agent will reply according to its current state. Functions like a QA bot\n",
    "# Here, we set stateful is false because we do not want this to go into subtasks_completed\n",
    "output = my_agent.reply_user('Where is the pool?', stateful = False)"
   ]
  },
  {
   "cell_type": "code",
   "execution_count": 9,
   "id": "d5b6b2b9-4d8a-47ec-a190-819de5e3f051",
   "metadata": {
    "tags": []
   },
   "outputs": [
    {
     "name": "stdout",
     "output_type": "stream",
     "text": [
      "Agent Name: Helpful assistant\n",
      "Agent Description: You are a generalist agent\n",
      "Available Functions: ['use_llm', 'end_task']\n",
      "Task: Give me 5 words rhyming with cool, and make a 4-sentence poem using them\n",
      "Subtasks Completed:\n",
      "Subtask: Find 5 words that rhyme with 'cool'\n",
      "pool, drool, fool, school, tool\n",
      "\n",
      "Subtask: Create a 4-sentence poem using the rhyming words\n",
      "In the school by the pool, there sat a fool, with a drool, using a tool, trying to look cool.\n",
      "\n",
      "Subtask: Give me 5 words rhyming with cool, and make a 4-sentence poem using them\n",
      "I found 5 words that rhyme with cool: pool, drool, fool, school, tool. Here is a 4-sentence poem using the rhyming words: In the school by the pool, there sat a fool, with a drool, using a tool, trying to look cool.\n",
      "\n",
      "Is Task Completed: True\n"
     ]
    }
   ],
   "source": [
    "# see the updated agent status\n",
    "my_agent.status()"
   ]
  },
  {
   "cell_type": "code",
   "execution_count": 10,
   "id": "594b2d07-31fd-47b2-ad81-937f6227f27c",
   "metadata": {},
   "outputs": [
    {
     "name": "stdout",
     "output_type": "stream",
     "text": [
      "Subtask identified: Find 5 words that rhyme with \"task\"\n",
      "Getting LLM to perform the following task: Find 5 words that rhyme with \"task\"\n",
      "> bask, flask, mask, cask, ask\n",
      "\n",
      "Subtask identified: Create a 4-sentence poem using the rhyming words\n",
      "Getting LLM to perform the following task: Create a 4-sentence poem using the rhyming words\n",
      "> In the sun, I like to bask, wearing a colorful mask. Holding a flask, I complete my task, as I sit by the cask.\n",
      "\n",
      "Task completed successfully!\n",
      "\n"
     ]
    }
   ],
   "source": [
    "# when you change the task, we will set the task completed to False so you can do it again. \n",
    "# Do note that the earlier subtasks_history might affect your new task and should be reset if it is not relevant\n",
    "my_agent.reset()\n",
    "output = my_agent.run('Give me 5 words rhyming with task, and make a 4-sentence poem using them')"
   ]
  },
  {
   "cell_type": "code",
   "execution_count": 11,
   "id": "038ee3e2-0c08-470f-adec-2179f2adc63e",
   "metadata": {
    "tags": []
   },
   "outputs": [
    {
     "name": "stdout",
     "output_type": "stream",
     "text": [
      "Agent Name: Helpful assistant\n",
      "Agent Description: You are a generalist agent\n",
      "Available Functions: ['use_llm', 'end_task']\n",
      "Task: Give me 5 words rhyming with task, and make a 4-sentence poem using them\n",
      "Subtasks Completed:\n",
      "Subtask: Find 5 words that rhyme with \"task\"\n",
      "bask, flask, mask, cask, ask\n",
      "\n",
      "Subtask: Create a 4-sentence poem using the rhyming words\n",
      "In the sun, I like to bask, wearing a colorful mask. Holding a flask, I complete my task, as I sit by the cask.\n",
      "\n",
      "Is Task Completed: True\n"
     ]
    }
   ],
   "source": [
    "# see the updated agent staus\n",
    "my_agent.status()"
   ]
  },
  {
   "cell_type": "markdown",
   "id": "dc862bf5-cf86-4d43-b947-c5ba1a3d3004",
   "metadata": {},
   "source": [
    "## Run Task! (Example 2)"
   ]
  },
  {
   "cell_type": "code",
   "execution_count": 12,
   "id": "1caacb89-3e42-46c6-b620-99424fb3b04d",
   "metadata": {
    "tags": []
   },
   "outputs": [],
   "source": [
    "# Create your agent by specifying name and description\n",
    "my_agent = Agent('Trip Scheduler',\n",
    "'''You are a planner for a trip.\n",
    "When given a destination, first do an overall broad schedule for all days with no mention of the time \n",
    "e.g. Day 1 - Going to City for Activities, Day 2 - Going to the Wild for Activities\n",
    "\n",
    "Thereafter, fill in details for the morning, afternoon and evening activities, \n",
    "e.g. Day 1 Morning - Shopping, Afternoon - Eating, Evening - Theatre\n",
    "\n",
    "Do not do anything other than generating the schedule''')"
   ]
  },
  {
   "cell_type": "code",
   "execution_count": 13,
   "id": "db12c32a-66ae-4a96-a73c-d04ef7a900d4",
   "metadata": {
    "tags": []
   },
   "outputs": [
    {
     "name": "stdout",
     "output_type": "stream",
     "text": [
      "Subtask identified: Create a broad schedule for all 3 days\n",
      "Getting LLM to perform the following task: Create a broad schedule for all 3 days\n",
      "> Day 1 - Sightseeing in Hawaii, Day 2 - Scuba-diving in Hawaii, Day 3 - Sightseeing in Hawaii\n",
      "\n",
      "Subtask identified: Fill in details for morning, afternoon, and evening activities for each day\n",
      "Getting LLM to perform the following task: Fill in details for morning, afternoon, and evening activities for each day\n",
      "> Day 1 Morning - Visit Pearl Harbor, Afternoon - Explore Waikiki Beach, Evening - Enjoy a traditional Hawaiian Luau\n",
      "Day 2 Morning - Scuba-diving at Hanauma Bay, Afternoon - Relax on Lanikai Beach, Evening - Sunset cruise along the coast\n",
      "Day 3 Morning - Hike to Diamond Head Crater, Afternoon - Visit the Dole Plantation, Evening - Dinner at a local seafood restaurant\n",
      "\n",
      "Task completed successfully!\n",
      "\n"
     ]
    }
   ],
   "source": [
    "# Do the task by subtasks\n",
    "output = my_agent.run('Give me a broad schedule and a detailed schedule for a 3-day itinerary for Hawaii, involving scuba-diving and some sightseeing')"
   ]
  },
  {
   "cell_type": "code",
   "execution_count": 14,
   "id": "2d209909-50f1-4847-bf49-4aa374ef901d",
   "metadata": {
    "tags": []
   },
   "outputs": [
    {
     "name": "stdout",
     "output_type": "stream",
     "text": [
      "Day 1 - Sightseeing in Hawaii, Day 2 - Scuba-diving in Hawaii, Day 3 - Sightseeing in Hawaii\n",
      "Day 1 Morning - Visit Pearl Harbor, Afternoon - Explore Waikiki Beach, Evening - Enjoy a traditional Hawaiian Luau\n",
      "Day 2 Morning - Scuba-diving at Hanauma Bay, Afternoon - Relax on Lanikai Beach, Evening - Sunset cruise along the coast\n",
      "Day 3 Morning - Hike to Diamond Head Crater, Afternoon - Visit the Dole Plantation, Evening - Dinner at a local seafood restaurant\n"
     ]
    }
   ],
   "source": [
    "# Generates a meaningful reply to the user\n",
    "output = my_agent.reply_user()"
   ]
  },
  {
   "cell_type": "code",
   "execution_count": 15,
   "id": "e7cdb199-1e00-4f42-b2a5-3295ddc6ceb7",
   "metadata": {
    "tags": []
   },
   "outputs": [
    {
     "name": "stdout",
     "output_type": "stream",
     "text": [
      "Agent Name: Trip Scheduler\n",
      "Agent Description: You are a planner for a trip.\n",
      "When given a destination, first do an overall broad schedule for all days with no mention of the time \n",
      "e.g. Day 1 - Going to City for Activities, Day 2 - Going to the Wild for Activities\n",
      "\n",
      "Thereafter, fill in details for the morning, afternoon and evening activities, \n",
      "e.g. Day 1 Morning - Shopping, Afternoon - Eating, Evening - Theatre\n",
      "\n",
      "Do not do anything other than generating the schedule\n",
      "Available Functions: ['use_llm', 'end_task']\n",
      "Task: Give me a broad schedule and a detailed schedule for a 3-day itinerary for Hawaii, involving scuba-diving and some sightseeing\n",
      "Subtasks Completed:\n",
      "Subtask: Create a broad schedule for all 3 days\n",
      "Day 1 - Sightseeing in Hawaii, Day 2 - Scuba-diving in Hawaii, Day 3 - Sightseeing in Hawaii\n",
      "\n",
      "Subtask: Fill in details for morning, afternoon, and evening activities for each day\n",
      "Day 1 Morning - Visit Pearl Harbor, Afternoon - Explore Waikiki Beach, Evening - Enjoy a traditional Hawaiian Luau\n",
      "Day 2 Morning - Scuba-diving at Hanauma Bay, Afternoon - Relax on Lanikai Beach, Evening - Sunset cruise along the coast\n",
      "Day 3 Morning - Hike to Diamond Head Crater, Afternoon - Visit the Dole Plantation, Evening - Dinner at a local seafood restaurant\n",
      "\n",
      "Subtask: Give me a broad schedule and a detailed schedule for a 3-day itinerary for Hawaii, involving scuba-diving and some sightseeing\n",
      "Day 1 - Sightseeing in Hawaii, Day 2 - Scuba-diving in Hawaii, Day 3 - Sightseeing in Hawaii\n",
      "Day 1 Morning - Visit Pearl Harbor, Afternoon - Explore Waikiki Beach, Evening - Enjoy a traditional Hawaiian Luau\n",
      "Day 2 Morning - Scuba-diving at Hanauma Bay, Afternoon - Relax on Lanikai Beach, Evening - Sunset cruise along the coast\n",
      "Day 3 Morning - Hike to Diamond Head Crater, Afternoon - Visit the Dole Plantation, Evening - Dinner at a local seafood restaurant\n",
      "\n",
      "Is Task Completed: True\n"
     ]
    }
   ],
   "source": [
    "my_agent.status()"
   ]
  },
  {
   "cell_type": "markdown",
   "id": "ab96ab55-5749-4338-9a8f-f21fb6be1c85",
   "metadata": {},
   "source": [
    "## Manual Stepping Through each Subtask"
   ]
  },
  {
   "cell_type": "code",
   "execution_count": 40,
   "id": "a38366c2-1467-4de8-bb41-144ecbdbcf0d",
   "metadata": {
    "tags": []
   },
   "outputs": [],
   "source": [
    "# Create your agent by specifying name and description\n",
    "my_agent = Agent('Number Expert', 'You are great with numbers')"
   ]
  },
  {
   "cell_type": "code",
   "execution_count": 41,
   "id": "e3b7d66b-f3a3-4139-948a-56badd9638cc",
   "metadata": {
    "tags": []
   },
   "outputs": [],
   "source": [
    "# Assign a task to the agent\n",
    "my_agent.assign_task('List me three random numbers from 1 to 50, then give me their sum')"
   ]
  },
  {
   "cell_type": "code",
   "execution_count": 42,
   "id": "383d0591-066d-40ba-9232-8ca55597d1cb",
   "metadata": {
    "tags": []
   },
   "outputs": [
    {
     "name": "stdout",
     "output_type": "stream",
     "text": [
      "Agent Name: Number Expert\n",
      "Agent Description: You are great with numbers\n",
      "Available Functions: ['use_llm', 'end_task']\n",
      "Task: List me three random numbers from 1 to 50, then give me their sum\n",
      "Subtasks Completed: None\n",
      "Is Task Completed: False\n"
     ]
    }
   ],
   "source": [
    "# Subtask completed and Is Task Completed should be reset\n",
    "my_agent.status()"
   ]
  },
  {
   "cell_type": "code",
   "execution_count": 43,
   "id": "c2f27a51-4115-4c24-91aa-3e65ca4a97a5",
   "metadata": {
    "tags": []
   },
   "outputs": [
    {
     "name": "stdout",
     "output_type": "stream",
     "text": [
      "Subtask identified: Generate three random numbers from 1 to 50\n",
      "Getting LLM to perform the following task: Generate three random numbers from 1 to 50\n",
      "> Here are three random numbers from 1 to 50: 12, 28, 45. Their sum is 85.\n",
      "\n"
     ]
    }
   ],
   "source": [
    "output = my_agent.run(num_subtasks = 1)"
   ]
  },
  {
   "cell_type": "code",
   "execution_count": 44,
   "id": "582dd4a0-b666-42a3-90c6-d5fa47007a75",
   "metadata": {},
   "outputs": [
    {
     "name": "stdout",
     "output_type": "stream",
     "text": [
      "['Here are three random numbers from 1 to 50: 12, 28, 45. Their sum is 85.']\n"
     ]
    }
   ],
   "source": [
    "# visualise the outputs of the task at the subtask level\n",
    "print(output)"
   ]
  },
  {
   "cell_type": "code",
   "execution_count": 45,
   "id": "4c898f28-c34a-4414-a57a-900471388006",
   "metadata": {
    "tags": []
   },
   "outputs": [
    {
     "name": "stdout",
     "output_type": "stream",
     "text": [
      "Agent Name: Number Expert\n",
      "Agent Description: You are great with numbers\n",
      "Available Functions: ['use_llm', 'end_task']\n",
      "Task: List me three random numbers from 1 to 50, then give me their sum\n",
      "Subtasks Completed:\n",
      "Subtask: Generate three random numbers from 1 to 50\n",
      "Here are three random numbers from 1 to 50: 12, 28, 45. Their sum is 85.\n",
      "\n",
      "Is Task Completed: False\n"
     ]
    }
   ],
   "source": [
    "# Visualise the first subtask\n",
    "my_agent.status()"
   ]
  },
  {
   "cell_type": "code",
   "execution_count": 46,
   "id": "92dca0bf-5b84-4011-89ca-c3ce48648efe",
   "metadata": {
    "tags": []
   },
   "outputs": [
    {
     "name": "stdout",
     "output_type": "stream",
     "text": [
      "Subtask identified: Calculate the sum of the three random numbers\n",
      "Getting LLM to perform the following task: Calculate the sum of the three random numbers\n",
      "> The sum of the three random numbers 12, 28, and 45 is 85.\n",
      "\n"
     ]
    }
   ],
   "source": [
    "output = my_agent.run(num_subtasks = 1)"
   ]
  },
  {
   "cell_type": "code",
   "execution_count": 47,
   "id": "913af15e-c395-4579-a0b8-c369e43f12c3",
   "metadata": {
    "tags": []
   },
   "outputs": [
    {
     "name": "stdout",
     "output_type": "stream",
     "text": [
      "['Here are three random numbers from 1 to 50: 12, 28, 45. Their sum is 85.', 'The sum of the three random numbers 12, 28, and 45 is 85.']\n"
     ]
    }
   ],
   "source": [
    "# visualise the outputs of the task at the subtask level\n",
    "print(output)"
   ]
  },
  {
   "cell_type": "code",
   "execution_count": 48,
   "id": "c8e89a05-51f2-4801-82d2-1d184f43697a",
   "metadata": {
    "tags": []
   },
   "outputs": [
    {
     "name": "stdout",
     "output_type": "stream",
     "text": [
      "Agent Name: Number Expert\n",
      "Agent Description: You are great with numbers\n",
      "Available Functions: ['use_llm', 'end_task']\n",
      "Task: List me three random numbers from 1 to 50, then give me their sum\n",
      "Subtasks Completed:\n",
      "Subtask: Generate three random numbers from 1 to 50\n",
      "Here are three random numbers from 1 to 50: 12, 28, 45. Their sum is 85.\n",
      "\n",
      "Subtask: Calculate the sum of the three random numbers\n",
      "The sum of the three random numbers 12, 28, and 45 is 85.\n",
      "\n",
      "Is Task Completed: False\n"
     ]
    }
   ],
   "source": [
    "# Visualise the first and second subtasks\n",
    "my_agent.status()"
   ]
  },
  {
   "cell_type": "code",
   "execution_count": 49,
   "id": "1ce7cc99-f460-444b-a243-acf09535629d",
   "metadata": {
    "tags": []
   },
   "outputs": [
    {
     "name": "stdout",
     "output_type": "stream",
     "text": [
      "Task completed successfully!\n",
      "\n"
     ]
    }
   ],
   "source": [
    "# if task already completed, then no need to do further\n",
    "output = my_agent.run(num_subtasks = 1)"
   ]
  },
  {
   "cell_type": "code",
   "execution_count": 50,
   "id": "d6397200-ee22-4e96-b002-4d65115f5b9b",
   "metadata": {
    "tags": []
   },
   "outputs": [
    {
     "name": "stdout",
     "output_type": "stream",
     "text": [
      "Here are three random numbers from 1 to 50: 12, 28, 45. Their sum is 85.\n"
     ]
    }
   ],
   "source": [
    "# Generates a meaningful reply to the user\n",
    "output = my_agent.reply_user()"
   ]
  },
  {
   "cell_type": "markdown",
   "id": "282835a4-d4ec-4729-9683-df277bb37ffb",
   "metadata": {
    "tags": []
   },
   "source": [
    "# Functions\n",
    "- Enhances ```strict_json()``` with a function-like interface for repeated use of modular LLM-based functions (or wraps external functions)\n",
    "- Use angle brackets <> to enclose input variable names. First input variable name to appear in `fn_description` will be first input variable and second to appear will be second input variable. For example, `fn_description = 'Adds up two numbers, <var1> and <var2>'` will result in a function with first input variable `var1` and second input variable `var2`\n",
    "- (Optional) If you would like greater specificity in your function's input, you can describe the variable after the : in the input variable name, e.g. `<var1: an integer from 10 to 30>`. Here, `var1` is the input variable and `an integer from 10 to 30` is the description.\n",
    "- (Optional) If your description of the variable is one of `int`, `float`, `str`, `dict`, `list`, `array`, `Dict[]`, `List[]`, `Array[]`, `Enum[]`, `bool`, we will enforce type checking when generating the function inputs in `get_next_subtask` method of the `Agent` class. Example: `<var1: int>` Refer to Tutorial 0, Section 3. Type Forcing Output Variables for details.\n",
    "- Inputs (primary):\n",
    "    - **fn_description**: String. Function description to describe process of transforming input variables to output variables. Variables must be enclosed in <> and listed in order of appearance in function input.\n",
    "        - New feature: If `external_fn` is provided and no `fn_description` is provided, then we will automatically parse out the fn_description based on docstring of `external_fn`. Only requirement is that the docstring must contain the names of all compulsory input variables\n",
    "    - **output_format**: Dict. Dictionary containing output variables names and description for each variable.\n",
    "    \n",
    "- Inputs (optional):\n",
    "    - **examples** - Dict or List[Dict]. Examples in Dictionary form with the input and output variables (list if more than one)\n",
    "    - **external_fn** - Python Function. If defined, instead of using LLM to process the function, we will run the external function. \n",
    "        If there are multiple outputs of this function, we will map it to the keys of `output_format` in a one-to-one fashion\n",
    "    - **fn_name** - String. If provided, this will be the name of the function. Ohterwise, if `external_fn` is provided, it will be the name of `external_fn`. Otherwise, we will use LLM to generate a function name from the `fn_description`\n",
    "    - **kwargs** - Dict. Additional arguments you would like to pass on to the strict_json function\n",
    "        \n",
    "- Outputs:\n",
    "    JSON of output variables in a dictionary (similar to ```strict_json```)\n",
    "    \n",
    "#### Example Internal LLM-Based Function\n",
    "```python\n",
    "# Construct the function: var1 will be first input variable, var2 will be second input variable and so on\n",
    "sentence_style = Function(fn_description = 'Output a sentence with words <var1> and <var2> in the style of <var3>', \n",
    "                     output_format = {'output': 'sentence'})\n",
    "\n",
    "# Use the function\n",
    "sentence_style('ball', 'dog', 'happy') #var1, var2, var3\n",
    "```\n",
    "\n",
    "#### Example Output\n",
    "```{'output': 'The happy dog chased the ball.'}```\n",
    "    \n",
    "#### Example External Function\n",
    "```python\n",
    "def binary_to_decimal(x):\n",
    "    return int(str(x), 2)\n",
    "\n",
    "# an external function with a single output variable, with an expressive variable description\n",
    "b2d = Function(fn_description = 'Convert input <x: a binary number in base 2> to base 10', \n",
    "            output_format = {'output1': 'x in base 10'},\n",
    "            external_fn = binary_to_decimal)\n",
    "\n",
    "# Use the function\n",
    "b2d(10) #x\n",
    "```\n",
    "\n",
    "#### Example Output\n",
    "```{'output1': 2}```\n",
    "\n",
    "#### Example fn_description inferred from type hints and docstring of External Function\n",
    "```python\n",
    "# Docstring must provide all compulsory input variables\n",
    "# We will ignore shared_variables, *args and **kwargs\n",
    "def add_number_to_list(num1: int, num_list: list, other_var: bool = True, *args, **kwargs):\n",
    "    '''Adds num1 to num_list'''\n",
    "    num_list.append(num1)\n",
    "    return num_list\n",
    "\n",
    "fn = Function(external_fn = add_number_to_list, \n",
    "    output_format = {'num_array': 'Array of numbers'})\n",
    "\n",
    "str(fn)\n",
    "```\n",
    "\n",
    "#### Example Output\n",
    "`Description: Adds <num1: int> to <num_list: list>`\n",
    "\n",
    "`Input: ['num1', 'num_list']`\n",
    "\n",
    "`Output: {'num_list': 'Array of numbers'}`"
   ]
  },
  {
   "cell_type": "code",
   "execution_count": 51,
   "id": "9a66d4ff-46a6-410f-8543-d114634740cd",
   "metadata": {
    "tags": []
   },
   "outputs": [],
   "source": [
    "# Example Internal Function\n",
    "sentence_style = Function(fn_description = 'Output a sentence with <obj> and <entity> in the style of <emotion>', \n",
    "                     output_format = {'output': 'sentence'})"
   ]
  },
  {
   "cell_type": "code",
   "execution_count": 52,
   "id": "55273389-800b-403c-a15c-c185f78c9f2d",
   "metadata": {
    "tags": []
   },
   "outputs": [],
   "source": [
    "# Example External Function\n",
    "def binary_to_decimal(x):\n",
    "    return int(str(x), 2)\n",
    "\n",
    "# a single-valued external function, with more expressive variable description\n",
    "b2d = Function(fn_description = 'Convert input <x: a binary number in base 2> to base 10', \n",
    "            output_format = {'output1': 'x in base 10'},\n",
    "            external_fn = binary_to_decimal)"
   ]
  },
  {
   "cell_type": "code",
   "execution_count": 53,
   "id": "6f0071bf-caae-4f60-87f2-6ed478aaaa60",
   "metadata": {
    "tags": []
   },
   "outputs": [
    {
     "data": {
      "text/plain": [
       "\"Description: Adds <num1: int> to <num_list: list>\\nInput: ['num1', 'num_list']\\nOutput: {'num_array': 'Array of numbers'}\\n\""
      ]
     },
     "execution_count": 53,
     "metadata": {},
     "output_type": "execute_result"
    }
   ],
   "source": [
    "# Docstring must provide all compulsory input variables\n",
    "# We will ignore shared_variables, *args and **kwargs\n",
    "def add_number_to_list(num1: int, num_list: list, other_var: bool = True, *args, **kwargs):\n",
    "    '''Adds num1 to num_list'''\n",
    "    num_list.append(num1)\n",
    "    return num_list\n",
    "\n",
    "fn = Function(external_fn = add_number_to_list, \n",
    "    output_format = {'num_array': 'Array of numbers'})\n",
    "\n",
    "str(fn)"
   ]
  },
  {
   "cell_type": "markdown",
   "id": "746bd68c-34e2-4a3c-af10-668e703c8a25",
   "metadata": {},
   "source": [
    "# Power Up your Agents - Bring in Functions (aka Tools)\n",
    "- After creating your agent, use `assign_functions` to assign a list of functions (of class Function) to it\n",
    "- Function names will be automatically inferred if not specified\n",
    "- Proceed to run tasks by using `run()`\n",
    "\n",
    "```python\n",
    "my_agent = Agent('Helpful assistant', 'You are a generalist agent')\n",
    "\n",
    "my_agent.assign_functions([sentence_style, b2d])\n",
    "\n",
    "output = my_agent.run('Generate me a happy sentence with a number and a ball. The number is 1001 converted to decimal')\n",
    "```\n",
    "\n",
    "`Subtask identified: Convert the binary number 1001 to decimal`\n",
    "`Calling function binary_to_decimal with parameters {'x': '1001'}`\n",
    "\n",
    "> {'output1': 9}\n",
    "\n",
    "`Subtask identified: Generate a happy sentence with the decimal number and a ball`\n",
    "`Calling function sentence_with_objects_entities_emotion with parameters {'obj': '9', 'entity': 'ball', 'emotion': 'happy'}`\n",
    "\n",
    "> {'output': 'I am so happy with my 9 balls.'}\n",
    "\n",
    "`Task completed successfully!`\n",
    "\n",
    "- Approach 1: Automatically Run your agent using `run()`\n",
    "\n",
    "- Approach 2: Manually select and use functions for your task\n",
    "    - **select_function(task: str)**: Based on the task, output the next function name and input parameters\n",
    "    - **use_function(function_name: str, function_params: dict, subtask: str = '', stateful: bool = True)**: Uses the function named `function_name` with `function_params`. `stateful` controls whether the output of this function will be saved to `subtasks_completed` under the key of `subtask`\n",
    "<br/><br/>\n",
    "\n",
    "- **Assign/Remove Functions**:\n",
    "    - **assign_functions(function_list: list)**: Assigns a list of functions to the agent\n",
    "    - **remove_function(function_name: str)**: Removes function named function_name from the list of assigned functions\n",
    "<br/><br/>\n",
    "\n",
    "- **Show Functions**:\n",
    "    - **list_functions()**: Returns the list of functions of the agent\n",
    "    - **print_functions()**: Prints the list of functions of the agent\n",
    "<br/><br/>"
   ]
  },
  {
   "cell_type": "code",
   "execution_count": 54,
   "id": "9b50df6b-48e9-4e37-bd60-35a93dd7bdfe",
   "metadata": {
    "tags": []
   },
   "outputs": [],
   "source": [
    "# Create your agent\n",
    "my_agent = Agent(agent_name = 'Helpful assistant', \n",
    "      agent_description = 'You are a generalist agent')"
   ]
  },
  {
   "cell_type": "code",
   "execution_count": 55,
   "id": "e63f4b8f-8d1f-4728-983a-9e371178e94a",
   "metadata": {
    "tags": []
   },
   "outputs": [
    {
     "data": {
      "text/plain": [
       "<taskgen.agent.Agent at 0x129909010>"
      ]
     },
     "execution_count": 55,
     "metadata": {},
     "output_type": "execute_result"
    }
   ],
   "source": [
    "# Assign functions\n",
    "my_agent.assign_functions(function_list = [b2d, sentence_style])"
   ]
  },
  {
   "cell_type": "code",
   "execution_count": 56,
   "id": "e84e8def-3202-461e-8502-32022e4ab9c5",
   "metadata": {
    "tags": []
   },
   "outputs": [
    {
     "name": "stdout",
     "output_type": "stream",
     "text": [
      "Name: use_llm\n",
      "Description: Used only when no other function can do the task\n",
      "Input: []\n",
      "Output: {'Output': 'Output of LLM'}\n",
      "\n",
      "Name: end_task\n",
      "Description: Use only when task is completed\n",
      "Input: []\n",
      "Output: {}\n",
      "\n",
      "Name: binary_to_decimal\n",
      "Description: Convert input <x: a binary number in base 2> to base 10\n",
      "Input: ['x']\n",
      "Output: {'output1': 'x in base 10'}\n",
      "\n",
      "Name: generate_sentence_with_placeholders\n",
      "Description: Output a sentence with <obj> and <entity> in the style of <emotion>\n",
      "Input: ['obj', 'entity', 'emotion']\n",
      "Output: {'output': 'sentence'}\n",
      "\n"
     ]
    }
   ],
   "source": [
    "# Show the functions the agent has\n",
    "my_agent.print_functions()"
   ]
  },
  {
   "cell_type": "markdown",
   "id": "f9d7206a-5741-41d8-b63d-dd4646696d99",
   "metadata": {
    "tags": []
   },
   "source": [
    "## Automatic Usage of Functions"
   ]
  },
  {
   "cell_type": "code",
   "execution_count": 57,
   "id": "5fd3a834-fce4-4fdf-9113-886e1ed9e1b4",
   "metadata": {
    "tags": []
   },
   "outputs": [
    {
     "name": "stdout",
     "output_type": "stream",
     "text": [
      "Subtask identified: Convert the binary number (1001) to decimal\n",
      "Calling function binary_to_decimal with parameters {'x': 1001}\n",
      "> {'output1': 9}\n",
      "\n",
      "Subtask identified: Generate a sentence with placeholders for the decimal number and the object\n",
      "Calling function generate_sentence_with_placeholders with parameters {'obj': 'ball', 'entity': 9, 'emotion': 'happy'}\n",
      "> {'output': 'I am so happy to have 9 balls!'}\n",
      "\n",
      "Task completed successfully!\n",
      "\n"
     ]
    }
   ],
   "source": [
    "# multi-task with multiple functions\n",
    "output = my_agent.run('Generate me a happy sentence with a number (binary: 1001) and a ball')"
   ]
  },
  {
   "cell_type": "code",
   "execution_count": 58,
   "id": "c8b1ebb0-96a8-4119-90b6-0b4e8ca70203",
   "metadata": {
    "tags": []
   },
   "outputs": [
    {
     "name": "stdout",
     "output_type": "stream",
     "text": [
      "[{'output1': 9}, {'output': 'I am so happy to have 9 balls!'}]\n"
     ]
    }
   ],
   "source": [
    "# visualise the subtask outputs of the task\n",
    "print(output)"
   ]
  },
  {
   "cell_type": "code",
   "execution_count": 59,
   "id": "681a4eea-fa16-4679-a330-5f567a0e80d3",
   "metadata": {
    "tags": []
   },
   "outputs": [
    {
     "name": "stdout",
     "output_type": "stream",
     "text": [
      "I am so happy to have 9 balls!\n"
     ]
    }
   ],
   "source": [
    "# give a response to user\n",
    "output = my_agent.reply_user()"
   ]
  },
  {
   "cell_type": "markdown",
   "id": "b37cf760-3d1c-4619-a0c3-4b81b492bc26",
   "metadata": {},
   "source": [
    "# Manual Usage of Functions\n",
    "- If you want to just see what the agent would choose for a hypothetical task, use `select_function`. This will not update the internal state, and will output function name and function params\n",
    "- If you want specificity in the process, you can just execute the agent's functions yourself using `use_function`\n",
    "- `use_function`: Uses an agent's function using name and params. Note that by default there will be updating of subtasks_completed when performing the function. In order not to update subtasks_completed, set `stateful = False`"
   ]
  },
  {
   "cell_type": "code",
   "execution_count": 68,
   "id": "b8663646-7e7c-4859-8a8f-25493cdeeede",
   "metadata": {
    "tags": []
   },
   "outputs": [
    {
     "name": "stdout",
     "output_type": "stream",
     "text": [
      "Selected function name: generate_sentence_with_placeholders\n",
      "Selected function params: {'obj': 'bell', 'entity': 'dog', 'emotion': 'happy'}\n",
      "Calling function generate_sentence_with_placeholders with parameters {'obj': 'bell', 'entity': 'dog', 'emotion': 'happy'}\n",
      "> {'output': 'The dog wagged its tail happily as it heard the bell ringing.'}\n",
      "\n"
     ]
    },
    {
     "data": {
      "text/plain": [
       "{'output': 'The dog wagged its tail happily as it heard the bell ringing.'}"
      ]
     },
     "execution_count": 68,
     "metadata": {},
     "output_type": "execute_result"
    }
   ],
   "source": [
    "# this should call generate_sentence_with_emotion\n",
    "my_agent.reset()\n",
    "function_name, function_params = my_agent.select_function(\n",
    "    task = 'Output a sentence with bell, dog and happy')\n",
    "print(f'Selected function name: {function_name}\\nSelected function params: {function_params}')\n",
    "\n",
    "my_agent.use_function(function_name, function_params, stateful = False)"
   ]
  },
  {
   "cell_type": "code",
   "execution_count": 69,
   "id": "04a9086a-acce-4bd4-bd5e-8219e4884220",
   "metadata": {
    "tags": []
   },
   "outputs": [
    {
     "name": "stdout",
     "output_type": "stream",
     "text": [
      "Selected function name: binary_to_decimal\n",
      "Selected function params: {'x': 101}\n",
      "Calling function binary_to_decimal with parameters {'x': 101}\n",
      "> {'output1': 5}\n",
      "\n"
     ]
    },
    {
     "data": {
      "text/plain": [
       "{'output1': 5}"
      ]
     },
     "execution_count": 69,
     "metadata": {},
     "output_type": "execute_result"
    }
   ],
   "source": [
    "# this should call binary_to_decimal\n",
    "my_agent.reset()\n",
    "function_name, function_params = my_agent.select_function(\n",
    "    task = 'What is the decimal representation of binary number 101?')\n",
    "print(f'Selected function name: {function_name}\\nSelected function params: {function_params}')\n",
    "\n",
    "my_agent.use_function(function_name, function_params, stateful = False)"
   ]
  },
  {
   "cell_type": "code",
   "execution_count": 70,
   "id": "dcf2db16-6bd3-4396-9fdf-d74d9d4b02be",
   "metadata": {
    "tags": []
   },
   "outputs": [
    {
     "name": "stdout",
     "output_type": "stream",
     "text": [
      "Selected function name: use_llm\n",
      "Selected function params: {'instruction': 'Research common benefits of exercise'}\n",
      "Getting LLM to perform the following task: Research common benefits of exercise\n",
      "> 1. Improved mental health: Exercise has been shown to reduce symptoms of anxiety and depression, improve mood, and enhance overall mental well-being. \n",
      "2. Weight management: Regular physical activity can help with weight loss and weight maintenance by burning calories and increasing metabolism. \n",
      "3. Reduced risk of chronic diseases: Exercise is associated with a lower risk of developing various chronic conditions such as heart disease, type 2 diabetes, and certain types of cancer.\n",
      "\n"
     ]
    },
    {
     "data": {
      "text/plain": [
       "'1. Improved mental health: Exercise has been shown to reduce symptoms of anxiety and depression, improve mood, and enhance overall mental well-being. \\n2. Weight management: Regular physical activity can help with weight loss and weight maintenance by burning calories and increasing metabolism. \\n3. Reduced risk of chronic diseases: Exercise is associated with a lower risk of developing various chronic conditions such as heart disease, type 2 diabetes, and certain types of cancer.'"
      ]
     },
     "execution_count": 70,
     "metadata": {},
     "output_type": "execute_result"
    }
   ],
   "source": [
    "# this should call use_llm\n",
    "my_agent.reset()\n",
    "my_agent.assign_task('List me 3 benefits of exercise') # give overall task as context to LLM\n",
    "function_name, function_params = my_agent.select_function(\n",
    "    task = 'List me 3 benefits of exercise')\n",
    "print(f'Selected function name: {function_name}\\nSelected function params: {function_params}')\n",
    "\n",
    "my_agent.use_function(function_name, function_params, stateful = False)"
   ]
  },
  {
   "cell_type": "markdown",
   "id": "e2361b2f-5f2d-48e6-bf09-7276ccca4afc",
   "metadata": {},
   "source": [
    "# Saving and Loading Agents\n",
    "Sometimes you want to configure your agents and save them and load them elsewhere, while maintaining the current agent state\n",
    "\n",
    "- When you use the `save_agent` function, we store the entire agent's internal state, include name, description, list of functions, subtasks history and all other internal variables into a pickle file\n",
    "- When you use the `load_agent` function, and we will load the entire agent saved in the pickle file into the existing agent\n",
    "\n",
    "Key functions:\n",
    "- **save_agent(pickle_file_name: str)**: Saves the agent's internal parameters to a pickle file named pickle_file_name (include .pkl), returns the pickle file\n",
    "- **load_agent(pickle_file_name: str)**: Loads the agent's internal parameters from a pickle file named pickle_file_name (include .pkl), returns loaded agent\n",
    "\n",
    "#### Example 1: Saving Agent\n",
    "```python\n",
    "my_agent.save_agent('myagent.pkl')\n",
    "```\n",
    "\n",
    "#### Example Output\n",
    "```Agent saved to myagent.pkl```\n",
    "\n",
    "#### Example 2: Loading Agent\n",
    "```python\n",
    "new_agent = Agent().load_agent('myagent.pkl')\n",
    "```\n",
    "\n",
    "#### Example Output\n",
    "```Agent loaded from myagent.pkl```"
   ]
  },
  {
   "cell_type": "code",
   "execution_count": 63,
   "id": "55055628-0738-4996-bd45-b5d50814b94b",
   "metadata": {},
   "outputs": [
    {
     "name": "stdout",
     "output_type": "stream",
     "text": [
      "Subtask identified: Convert binary number 101 to decimal\n",
      "Calling function binary_to_decimal with parameters {'x': 101}\n",
      "> {'output1': 5}\n",
      "\n",
      "Task completed successfully!\n",
      "\n"
     ]
    }
   ],
   "source": [
    "# run one task to add something to subtasks_completed\n",
    "my_agent.reset()\n",
    "output = my_agent.run('What is the decimal representation of binary number 101?')"
   ]
  },
  {
   "cell_type": "code",
   "execution_count": 64,
   "id": "e4b26d2b-915a-4201-8c5e-74c9d614af03",
   "metadata": {
    "tags": []
   },
   "outputs": [
    {
     "name": "stdout",
     "output_type": "stream",
     "text": [
      "Agent Name: Helpful assistant\n",
      "Agent Description: You are a generalist agent\n",
      "Available Functions: ['use_llm', 'end_task', 'binary_to_decimal', 'generate_sentence_with_placeholders']\n",
      "Task: What is the decimal representation of binary number 101?\n",
      "Subtasks Completed:\n",
      "Subtask: Convert binary number 101 to decimal\n",
      "{'output1': 5}\n",
      "\n",
      "Is Task Completed: True\n"
     ]
    }
   ],
   "source": [
    "# see status of agent before saving\n",
    "my_agent.status()"
   ]
  },
  {
   "cell_type": "code",
   "execution_count": 65,
   "id": "4b7ba9d3-c5c0-4cf3-b2b0-1a253e2b93fa",
   "metadata": {},
   "outputs": [
    {
     "name": "stdout",
     "output_type": "stream",
     "text": [
      "Agent saved to myagent.pkl\n"
     ]
    }
   ],
   "source": [
    "# save agent\n",
    "my_agent.save_agent('myagent.pkl')"
   ]
  },
  {
   "cell_type": "code",
   "execution_count": 66,
   "id": "30aa1504-3a15-411e-858e-3c4efc330971",
   "metadata": {},
   "outputs": [
    {
     "name": "stdout",
     "output_type": "stream",
     "text": [
      "Agent loaded from myagent.pkl\n"
     ]
    }
   ],
   "source": [
    "# load agent using load_agent code\n",
    "new_agent = Agent().load_agent('myagent.pkl')"
   ]
  },
  {
   "cell_type": "code",
   "execution_count": 67,
   "id": "60a367af-24da-4f0c-aca1-bdd891e9da42",
   "metadata": {
    "tags": []
   },
   "outputs": [
    {
     "name": "stdout",
     "output_type": "stream",
     "text": [
      "Agent Name: Helpful assistant\n",
      "Agent Description: You are a generalist agent\n",
      "Available Functions: ['use_llm', 'end_task', 'binary_to_decimal', 'generate_sentence_with_placeholders']\n",
      "Task: What is the decimal representation of binary number 101?\n",
      "Subtasks Completed:\n",
      "Subtask: Convert binary number 101 to decimal\n",
      "{'output1': 5}\n",
      "\n",
      "Is Task Completed: True\n"
     ]
    }
   ],
   "source": [
    "# see status of loaded agent (which also includes what is saved in subtasks_completed, and shared_variables)\n",
    "new_agent.status()"
   ]
  },
  {
   "cell_type": "code",
   "execution_count": null,
   "id": "6541833e-8f1c-4bf1-9f75-a2255c313d44",
   "metadata": {},
   "outputs": [],
   "source": []
  }
 ],
 "metadata": {
  "kernelspec": {
   "display_name": "Python 3 (ipykernel)",
   "language": "python",
   "name": "python3"
  },
  "language_info": {
   "codemirror_mode": {
    "name": "ipython",
    "version": 3
   },
   "file_extension": ".py",
   "mimetype": "text/x-python",
   "name": "python",
   "nbconvert_exporter": "python",
   "pygments_lexer": "ipython3",
   "version": "3.11.3"
  }
 },
 "nbformat": 4,
 "nbformat_minor": 5
}
