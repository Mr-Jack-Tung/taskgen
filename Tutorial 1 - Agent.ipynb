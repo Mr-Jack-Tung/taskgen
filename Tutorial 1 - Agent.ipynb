{
 "cells": [
  {
   "cell_type": "markdown",
   "id": "28aa7e46-feca-4d00-af73-9a91165b4a0b",
   "metadata": {},
   "source": [
    "# Tutorial 1: Agents\n",
    "\n",
    "## Functionalities:\n",
    "- Task-based Agents which will break down tasks into subtasks and solve them in bite-sized portions\n",
    "- Agents with registered functions as skills"
   ]
  },
  {
   "cell_type": "markdown",
   "id": "fd14d526-e68f-4657-9f94-838a890ad7ab",
   "metadata": {},
   "source": [
    "# Setup Guide"
   ]
  },
  {
   "cell_type": "markdown",
   "id": "633b0fe6-7a3a-4d58-97e8-c0719f09662c",
   "metadata": {},
   "source": [
    "## Step 1: Install TaskGen"
   ]
  },
  {
   "cell_type": "code",
   "execution_count": 1,
   "id": "bcf706f0-ded6-4031-a0dd-31f954dc97e8",
   "metadata": {
    "tags": []
   },
   "outputs": [],
   "source": [
    "# !pip install taskgen-ai"
   ]
  },
  {
   "cell_type": "markdown",
   "id": "3c3118e0-c10e-469d-8a8f-99f8820c33e3",
   "metadata": {},
   "source": [
    "## Step 2: Import required functions and setup relevant API keys for your LLM"
   ]
  },
  {
   "cell_type": "code",
   "execution_count": 2,
   "id": "03fc8ddf-e44d-4dce-b5c3-34b47a0ca2ef",
   "metadata": {
    "tags": []
   },
   "outputs": [],
   "source": [
    "# Set up API key and do the necessary imports\n",
    "from taskgen import *\n",
    "import os\n",
    "\n",
    "# this is only if you use OpenAI as your LLM\n",
    "os.environ['OPENAI_API_KEY'] = '<YOUR API KEY HERE>'"
   ]
  },
  {
   "cell_type": "markdown",
   "id": "72e048af-8d9c-49a6-8896-908709eaeb00",
   "metadata": {},
   "source": [
    "## Step 3: Define your own LLM\n",
    "- Take in a `system_prompt`, `user_prompt`, and outputs llm response string\n",
    "- Note: If you do not define your own LLM, OpenAI 'gpt-3.5-turbo' will be used as default"
   ]
  },
  {
   "cell_type": "code",
   "execution_count": 3,
   "id": "a6d8f0ef-76c5-4508-8dba-e81932714bde",
   "metadata": {
    "tags": []
   },
   "outputs": [],
   "source": [
    "def llm(system_prompt: str, user_prompt: str) -> str:\n",
    "    ''' Here, we use OpenAI for illustration, you can change it to your own LLM '''\n",
    "    # ensure your LLM imports are all within this function\n",
    "    from openai import OpenAI\n",
    "    \n",
    "    # define your own LLM here\n",
    "    client = OpenAI()\n",
    "    response = client.chat.completions.create(\n",
    "        model='gpt-3.5-turbo',\n",
    "        temperature = 0,\n",
    "        messages=[\n",
    "            {\"role\": \"system\", \"content\": system_prompt},\n",
    "            {\"role\": \"user\", \"content\": user_prompt}\n",
    "        ]\n",
    "    )\n",
    "    return response.choices[0].message.content"
   ]
  },
  {
   "cell_type": "code",
   "execution_count": 4,
   "id": "5f022dd4-0027-416e-b9c8-15a80eb0a80c",
   "metadata": {
    "tags": []
   },
   "outputs": [
    {
     "data": {
      "text/plain": [
       "'Positive'"
      ]
     },
     "execution_count": 4,
     "metadata": {},
     "output_type": "execute_result"
    }
   ],
   "source": [
    "# Verify that llm function is working\n",
    "llm(system_prompt = 'You are a classifier to classify the sentiment of a sentence', \n",
    "    user_prompt = 'It is a hot and sunny day')"
   ]
  },
  {
   "cell_type": "markdown",
   "id": "e2b7f892-eb78-49c1-96db-e553ac2d6727",
   "metadata": {
    "tags": []
   },
   "source": [
    "# 1. Agent Basics\n",
    "- Create an agent by entering your agent's name and description\n",
    "- Agents are task-based, so they will help generate subtasks to fulfil your main task\n",
    "\n",
    "- Agents are made to be non-verbose, so they will just focus only on task instruction (Much more efficient compared to conversational-based agentic frameworks like AutoGen)\n",
    "- Agent's interactions will be stored into `subtasks_completed` by default, which will serve as a memory buffer for future interactions\n",
    "\n",
    "- **Inputs for Agent**:\n",
    "    - **agent_name**: String. Name of agent, hinting at what the agent does\n",
    "    - **agent_description**: String. Short description of what the agent does\n",
    "    - **max_subtasks**: Int. Default: 5. The maximum number of subtasks the agent can have\n",
    "    - **verbose**: Bool. Default: True. Whether to print out agent's intermediate thoughts\n",
    "<br/><br/>\n",
    "\n",
    "- **Agent Internal Parameters**:\n",
    "    - **Task**: String. The task the agent has been assigned to - Defaults to \"No task assigned\"\n",
    "    - **Subtasks Completed**: Dict. The keys are the subtask names and the values are the result of the respective subtask\n",
    "    - **Is Task Completed**: Bool. Whether the current Task is completed\n",
    "<br/><br/>\n",
    "\n",
    "- **Task Running**\n",
    "    - **reset()**: Resets the Agent Internal Parameters and Subtasks Completed. You should do this at the start of every new task assigned to the Agent to minimise potential confusion of what has been done for this task versus previous tasks\n",
    "    - **run(task: str, num_subtasks: int = max_subtasks)**: Performs the task. Do note that agent's state will not be reset, so if you want to reset it, call reset() prior to running this. Runs the task for **num_subtasks** steps. If not specified, we will take the **max_subtasks**.\n",
    "<br/><br/>\n",
    "\n",
    "- **Give User Output**\n",
    "    - **reply_user(query: str = '', stateful: bool = True)**: Using all information from subtasks, give a reply about the `query` to the user. If `query` is not given, then it replies based on the current task the agent is doing. If `stateful` is True, saves this query and reply into `subtasks_completed`\n",
    "<br/><br/>\n",
    "    \n",
    "- **Check status of Agent**:\n",
    "    - **status()**: Lists out Agent Name, Agent Description, Available Functions (default function is to use the LLM), Task, Subtasks Completed and Is Task Completed\n",
    "    \n",
    "## Example Agent Creation\n",
    "```python\n",
    "my_agent = Agent('Helpful assistant', 'You are a generalist agent')\n",
    "```\n",
    "\n",
    "## Example Agent Task Running - Split the assigned task into subtasks and execute each of them\n",
    "\n",
    "```python\n",
    "output = my_agent.run('Give me 5 words rhyming with cool, and make a 4-sentence poem using them')\n",
    "```\n",
    "\n",
    "`Subtask identified: Find 5 words that rhyme with 'cool'`\n",
    "\n",
    "`Getting LLM to perform the following task: Find 5 words that rhyme with 'cool'`\n",
    "> pool, rule, fool, tool, school\n",
    "\n",
    "`Subtask identified: Compose a 4-sentence poem using the words 'pool', 'rule', 'fool', 'tool', and 'school'`\n",
    "\n",
    "`Getting LLM to perform the following task: Compose a 4-sentence poem using the words 'pool', 'rule', 'fool', 'tool', and 'school'`\n",
    "> In the school, the golden rule is to never be a fool. Use your mind as a tool, and always follow the pool.\n",
    "\n",
    "`Task completed successfully!`\n",
    "\n",
    "## Check Agent's Status\n",
    "```python\n",
    "my_agent.status()\n",
    "```\n",
    "\n",
    "`Agent Name: Helpful assistant`\n",
    "\n",
    "`Agent Description: You are a generalist agent`\n",
    "\n",
    "`Available Functions: ['use_llm', 'end_task']`\n",
    "\n",
    "`Task: Give me 5 words rhyming with cool, and make a 4-sentence poem using them`\n",
    "\n",
    "`Subtasks Completed:`\n",
    "\n",
    "`Subtask: Find 5 words that rhyme with 'cool'`\n",
    "\n",
    "`pool, rule, fool, tool, school`\n",
    "\n",
    "`Subtask: Compose a 4-sentence poem using the words 'pool', 'rule', 'fool', 'tool', and 'school'`\n",
    "\n",
    "`In the school, the golden rule is to never be a fool. Use your mind as a tool, and always follow the pool.`\n",
    "\n",
    "`Is Task Completed: True`\n",
    "\n",
    "## Example Agent Reply to User - Reference the subtasks' output to answer the user's query\n",
    "```python\n",
    "output = my_agent.reply_user()\n",
    "```\n",
    "\n",
    "`\n",
    "Here are 5 words that rhyme with \"cool\": pool, rule, fool, tool, school. Here is a 4-sentence poem using these words: \"In the school, the golden rule is to never be a fool. Use your mind as a tool, and always follow the pool.\"\n",
    "`"
   ]
  },
  {
   "cell_type": "markdown",
   "id": "15f83723-ad19-4422-9826-81a3a734dc2b",
   "metadata": {},
   "source": [
    "## Create Agent"
   ]
  },
  {
   "cell_type": "code",
   "execution_count": 5,
   "id": "5993aad2-112d-4952-bfcd-43a71c7e2cb3",
   "metadata": {
    "tags": []
   },
   "outputs": [],
   "source": [
    "# Create your agent by specifying name and description\n",
    "my_agent = Agent('Helpful assistant', 'You are a generalist agent', llm = llm)"
   ]
  },
  {
   "cell_type": "code",
   "execution_count": 6,
   "id": "89cc5918-5bd4-468c-8ff9-b4449e050c22",
   "metadata": {
    "tags": []
   },
   "outputs": [
    {
     "name": "stdout",
     "output_type": "stream",
     "text": [
      "Agent Name: Helpful assistant\n",
      "Agent Description: You are a generalist agent\n",
      "Available Functions: ['use_llm', 'end_task']\n",
      "Shared Variables: ['agent']\n",
      "\u001b[1m\u001b[32mTask: No task assigned\u001b[0m\n",
      "\u001b[1m\u001b[34mSubtasks Completed: None\u001b[0m\n",
      "Is Task Completed: False\n"
     ]
    }
   ],
   "source": [
    "# Show the agent status - By default agent comes equipped with default function `use_llm` which queries the llm\n",
    "# end_task is to end the current task if it is completed\n",
    "my_agent.status()"
   ]
  },
  {
   "cell_type": "markdown",
   "id": "6a4fa06e-f2a6-4405-a0f6-f7ec51a6a84e",
   "metadata": {
    "tags": []
   },
   "source": [
    "## Automatic Running of Task"
   ]
  },
  {
   "cell_type": "code",
   "execution_count": 7,
   "id": "2e86738a-05d0-4e04-a2f0-1b7c29d0b729",
   "metadata": {
    "tags": []
   },
   "outputs": [
    {
     "name": "stdout",
     "output_type": "stream",
     "text": [
      "\u001b[1m\u001b[30mObservation: No subtasks have been completed yet for the assigned task.\u001b[0m\n",
      "\u001b[1m\u001b[32mThoughts: To complete the assigned task, we need to find 5 words that rhyme with 'cool' and then use them to create a 4-sentence poem.\u001b[0m\n",
      "\u001b[1m\u001b[34mSubtask identified: Find 5 words that rhyme with 'cool'.\u001b[0m\n",
      "Getting LLM to perform the following task: Find 5 words that rhyme with 'cool'.\n",
      "> The 5 words that rhyme with \"cool\" are: pool, drool, school, tool, and fool.\n",
      "\n",
      "\u001b[1m\u001b[30mObservation: The agent has successfully found 5 words that rhyme with 'cool' and provided them to the user.\u001b[0m\n",
      "\u001b[1m\u001b[32mThoughts: To complete the remainder of the Assigned Task, the agent needs to create a 4-sentence poem using the words: pool, drool, school, tool, and fool.\u001b[0m\n",
      "\u001b[1m\u001b[34mSubtask identified: Generate a 4-sentence poem using the words: pool, drool, school, tool, and fool.\u001b[0m\n",
      "Getting LLM to perform the following task: Generate a 4-sentence poem using the words: pool, drool, school, tool, and fool.\n",
      "> In a school by the pool, a fool with a tool, made others drool. The scene was cool, as they all broke the rule.\n",
      "\n",
      "\u001b[1m\u001b[30mObservation: The agent has successfully found 5 words rhyming with 'cool' and created a 4-sentence poem using them.\u001b[0m\n",
      "\u001b[1m\u001b[32mThoughts: To complete the remainder of the Assigned Task, the agent should focus on delivering the final output to the user.\u001b[0m\n",
      "\u001b[1m\u001b[34mSubtask identified: End Task\u001b[0m\n",
      "Task completed successfully!\n",
      "\n"
     ]
    }
   ],
   "source": [
    "# Do the task by subtasks. This does generation to fulfil task\n",
    "my_agent.reset()\n",
    "output = my_agent.run('Give me 5 words rhyming with cool, and then make a 4-sentence poem using them')"
   ]
  },
  {
   "cell_type": "code",
   "execution_count": 8,
   "id": "afe503c9-ad37-4962-8099-8d62b7844692",
   "metadata": {
    "tags": []
   },
   "outputs": [
    {
     "name": "stdout",
     "output_type": "stream",
     "text": [
      "['The 5 words that rhyme with \"cool\" are: pool, drool, school, tool, and fool.', 'In a school by the pool, a fool with a tool, made others drool. The scene was cool, as they all broke the rule.']\n"
     ]
    }
   ],
   "source": [
    "# visualise the subtask outputs of the task\n",
    "print(output)"
   ]
  },
  {
   "cell_type": "code",
   "execution_count": 9,
   "id": "b5d4c3a7-5ded-4eea-bf36-5120c885de2b",
   "metadata": {
    "tags": []
   },
   "outputs": [
    {
     "name": "stdout",
     "output_type": "stream",
     "text": [
      "Agent Name: Helpful assistant\n",
      "Agent Description: You are a generalist agent\n",
      "Available Functions: ['use_llm', 'end_task']\n",
      "Shared Variables: ['agent']\n",
      "\u001b[1m\u001b[32mTask: Give me 5 words rhyming with cool, and then make a 4-sentence poem using them\u001b[0m\n",
      "\u001b[1m\u001b[30mSubtasks Completed:\u001b[0m\n",
      "\u001b[1m\u001b[34mSubtask: Find 5 words that rhyme with 'cool'.\u001b[0m\n",
      "The 5 words that rhyme with \"cool\" are: pool, drool, school, tool, and fool.\n",
      "\n",
      "\u001b[1m\u001b[34mSubtask: Generate a 4-sentence poem using the words: pool, drool, school, tool, and fool.\u001b[0m\n",
      "In a school by the pool, a fool with a tool, made others drool. The scene was cool, as they all broke the rule.\n",
      "\n",
      "Is Task Completed: True\n"
     ]
    }
   ],
   "source": [
    "# see the updated agent status\n",
    "my_agent.status()"
   ]
  },
  {
   "cell_type": "code",
   "execution_count": 10,
   "id": "79a8a4ba-3375-4ff0-9057-b3073420ed00",
   "metadata": {
    "tags": []
   },
   "outputs": [
    {
     "name": "stdout",
     "output_type": "stream",
     "text": [
      "The 5 words that rhyme with \"cool\" are: pool, drool, school, tool, and fool. In a school by the pool, a fool with a tool, made others drool. The scene was cool, as they all broke the rule.\n"
     ]
    }
   ],
   "source": [
    "# Generates a meaningful reply to the user about the task according to its current state. Functions like a QA bot\n",
    "# The reply will go into subtasks_completed to store the conversation with the user for future context\n",
    "output = my_agent.reply_user()"
   ]
  },
  {
   "cell_type": "code",
   "execution_count": 11,
   "id": "e1cbbce6-27b4-47f4-afc1-08e763de82fa",
   "metadata": {},
   "outputs": [
    {
     "name": "stdout",
     "output_type": "stream",
     "text": [
      "The pool is located in a school where a fool with a tool made others drool. The scene was cool as they all broke the rule.\n"
     ]
    }
   ],
   "source": [
    "# You can also ask your questions to the agent, and the agent will reply according to its current state. Functions like a QA bot\n",
    "# Here, we set stateful is false because we do not want this to go into subtasks_completed\n",
    "output = my_agent.reply_user('Where is the pool?', stateful = False)"
   ]
  },
  {
   "cell_type": "code",
   "execution_count": 12,
   "id": "d5b6b2b9-4d8a-47ec-a190-819de5e3f051",
   "metadata": {
    "tags": []
   },
   "outputs": [
    {
     "name": "stdout",
     "output_type": "stream",
     "text": [
      "Agent Name: Helpful assistant\n",
      "Agent Description: You are a generalist agent\n",
      "Available Functions: ['use_llm', 'end_task']\n",
      "Shared Variables: ['agent']\n",
      "\u001b[1m\u001b[32mTask: Give me 5 words rhyming with cool, and then make a 4-sentence poem using them\u001b[0m\n",
      "\u001b[1m\u001b[30mSubtasks Completed:\u001b[0m\n",
      "\u001b[1m\u001b[34mSubtask: Find 5 words that rhyme with 'cool'.\u001b[0m\n",
      "The 5 words that rhyme with \"cool\" are: pool, drool, school, tool, and fool.\n",
      "\n",
      "\u001b[1m\u001b[34mSubtask: Generate a 4-sentence poem using the words: pool, drool, school, tool, and fool.\u001b[0m\n",
      "In a school by the pool, a fool with a tool, made others drool. The scene was cool, as they all broke the rule.\n",
      "\n",
      "\u001b[1m\u001b[34mSubtask: Give me 5 words rhyming with cool, and then make a 4-sentence poem using them\u001b[0m\n",
      "The 5 words that rhyme with \"cool\" are: pool, drool, school, tool, and fool. In a school by the pool, a fool with a tool, made others drool. The scene was cool, as they all broke the rule.\n",
      "\n",
      "Is Task Completed: True\n"
     ]
    }
   ],
   "source": [
    "# see the updated agent status\n",
    "my_agent.status()"
   ]
  },
  {
   "cell_type": "code",
   "execution_count": 13,
   "id": "b34cc9ef-950e-4ddf-90eb-5b764005c9e3",
   "metadata": {
    "tags": []
   },
   "outputs": [
    {
     "name": "stdout",
     "output_type": "stream",
     "text": [
      "Name: use_llm\n",
      "Description: For general tasks. Used only when no other function can do the task\n",
      "Input: []\n",
      "Output: {'Output': 'Output of LLM'}\n",
      "\n",
      "Name: end_task\n",
      "Description: Passes the final output to the user\n",
      "Input: []\n",
      "Output: {}\n",
      "\n"
     ]
    }
   ],
   "source": [
    "my_agent.print_functions()"
   ]
  },
  {
   "cell_type": "code",
   "execution_count": 14,
   "id": "594b2d07-31fd-47b2-ad81-937f6227f27c",
   "metadata": {},
   "outputs": [
    {
     "name": "stdout",
     "output_type": "stream",
     "text": [
      "\u001b[1m\u001b[30mObservation: No subtasks have been completed yet for the assigned task\u001b[0m\n",
      "\u001b[1m\u001b[32mThoughts: To complete the assigned task, I need to generate 5 words rhyming with \"task\" and then create a 4-sentence poem using them\u001b[0m\n",
      "\u001b[1m\u001b[34mSubtask identified: Generate 5 words rhyming with \"task\"\u001b[0m\n",
      "Getting LLM to perform the following task: Generate 5 words rhyming with \"task\"\n",
      "> Bask, Flask, Mask, Cask, Flask\n",
      "\n",
      "\u001b[1m\u001b[30mObservation: The subtask of generating 5 words rhyming with 'task' has been completed successfully.\u001b[0m\n",
      "\u001b[1m\u001b[32mThoughts: To complete the remainder of the Assigned Task, we need to construct a 4-sentence poem using the words 'Bask', 'Flask', 'Mask', 'Cask', and 'Flask'.\u001b[0m\n",
      "\u001b[1m\u001b[34mSubtask identified: Construct a 4-sentence poem using the words 'Bask', 'Flask', 'Mask', 'Cask', and 'Flask'.\u001b[0m\n",
      "Getting LLM to perform the following task: Construct a 4-sentence poem using the words 'Bask', 'Flask', 'Mask', 'Cask', and 'Flask'.\n",
      "> In the golden sun, I bask, with a flask in hand, wearing a mask, by the cask of memories, I sit and ponder, sipping from my flask, a moment to savor and bask.\n",
      "\n",
      "\u001b[1m\u001b[30mObservation: Subtasks Completed for Assigned Task include generating 5 rhyming words with \"task\" and constructing a 4-sentence poem using those words.\u001b[0m\n",
      "\u001b[1m\u001b[32mThoughts: The completed subtasks provide a foundation for the poem requested by the user. The rhyming words can be creatively incorporated into a cohesive poem.\u001b[0m\n",
      "\u001b[1m\u001b[34mSubtask identified: Compose a 4-sentence poem using the rhyming words: Bask, Flask, Mask, Cask, and Flask.\u001b[0m\n",
      "Getting LLM to perform the following task: Compose a 4-sentence poem using the rhyming words: Bask, Flask, Mask, Cask, and Flask.\n",
      "> In the warm sunlight, I bask, holding a flask, hidden behind a mask, near the cask, I complete my task.\n",
      "\n",
      "\u001b[1m\u001b[30mObservation: Subtasks for generating rhyming words and composing a poem have been completed successfully.\u001b[0m\n",
      "\u001b[1m\u001b[32mThoughts: The remaining part of the Assigned Task is to create a 4-sentence poem using the rhyming words. This can be achieved by utilizing the existing rhyming words in a creative manner.\u001b[0m\n",
      "\u001b[1m\u001b[34mSubtask identified: Compose a 4-sentence poem using the rhyming words: Bask, Flask, Mask, Cask, and Flask.\u001b[0m\n",
      "Getting LLM to perform the following task: Compose a 4-sentence poem using the rhyming words: Bask, Flask, Mask, Cask, and Flask.\n",
      "> In the enchanting moonlight, I bask, holding a flask, concealing behind a mask, near the cask, I complete my task, a moment to cherish and bask.\n",
      "\n",
      "\u001b[1m\u001b[30mObservation: Multiple subtasks have been completed successfully, including generating rhyming words and composing poems using those words.\u001b[0m\n",
      "\u001b[1m\u001b[32mThoughts: Given the completion of the subtasks related to generating rhyming words and composing poems, the remaining part of the Assigned Task involves no new tasks but rather the conclusion of the task.\u001b[0m\n",
      "\u001b[1m\u001b[34mSubtask identified: End Task\u001b[0m\n",
      "Task completed successfully!\n",
      "\n"
     ]
    }
   ],
   "source": [
    "# when you change the task, we will set the task completed to False so you can do it again. \n",
    "# Do note that the earlier subtasks_history might affect your new task and should be reset if it is not relevant\n",
    "my_agent.reset()\n",
    "output = my_agent.run('Give me 5 words rhyming with task, and then make a 4-sentence poem using them')"
   ]
  },
  {
   "cell_type": "code",
   "execution_count": 15,
   "id": "038ee3e2-0c08-470f-adec-2179f2adc63e",
   "metadata": {
    "tags": []
   },
   "outputs": [
    {
     "name": "stdout",
     "output_type": "stream",
     "text": [
      "Agent Name: Helpful assistant\n",
      "Agent Description: You are a generalist agent\n",
      "Available Functions: ['use_llm', 'end_task']\n",
      "Shared Variables: ['agent']\n",
      "\u001b[1m\u001b[32mTask: Give me 5 words rhyming with task, and then make a 4-sentence poem using them\u001b[0m\n",
      "\u001b[1m\u001b[30mSubtasks Completed:\u001b[0m\n",
      "\u001b[1m\u001b[34mSubtask: Generate 5 words rhyming with \"task\"\u001b[0m\n",
      "Bask, Flask, Mask, Cask, Flask\n",
      "\n",
      "\u001b[1m\u001b[34mSubtask: Construct a 4-sentence poem using the words 'Bask', 'Flask', 'Mask', 'Cask', and 'Flask'.\u001b[0m\n",
      "In the golden sun, I bask, with a flask in hand, wearing a mask, by the cask of memories, I sit and ponder, sipping from my flask, a moment to savor and bask.\n",
      "\n",
      "\u001b[1m\u001b[34mSubtask: Compose a 4-sentence poem using the rhyming words: Bask, Flask, Mask, Cask, and Flask.\u001b[0m\n",
      "In the warm sunlight, I bask, holding a flask, hidden behind a mask, near the cask, I complete my task.\n",
      "\n",
      "\u001b[1m\u001b[34mSubtask: Compose a 4-sentence poem using the rhyming words: Bask, Flask, Mask, Cask, and Flask.(2)\u001b[0m\n",
      "In the enchanting moonlight, I bask, holding a flask, concealing behind a mask, near the cask, I complete my task, a moment to cherish and bask.\n",
      "\n",
      "Is Task Completed: True\n"
     ]
    }
   ],
   "source": [
    "# see the updated agent staus\n",
    "my_agent.status()"
   ]
  },
  {
   "cell_type": "markdown",
   "id": "ab96ab55-5749-4338-9a8f-f21fb6be1c85",
   "metadata": {},
   "source": [
    "## Running of Task Step by Step"
   ]
  },
  {
   "cell_type": "code",
   "execution_count": 16,
   "id": "a38366c2-1467-4de8-bb41-144ecbdbcf0d",
   "metadata": {
    "tags": []
   },
   "outputs": [],
   "source": [
    "# Create your agent by specifying name and description\n",
    "my_agent = Agent('Number Expert', 'You are great with numbers', llm = llm)"
   ]
  },
  {
   "cell_type": "code",
   "execution_count": 17,
   "id": "e3b7d66b-f3a3-4139-948a-56badd9638cc",
   "metadata": {
    "tags": []
   },
   "outputs": [
    {
     "name": "stdout",
     "output_type": "stream",
     "text": [
      "\u001b[1m\u001b[30mObservation: No subtasks have been completed yet for the assigned task.\u001b[0m\n",
      "\u001b[1m\u001b[32mThoughts: To complete the assigned task, I need to generate three random numbers between 1 and 50 and then calculate their sum.\u001b[0m\n",
      "\u001b[1m\u001b[34mSubtask identified: Generate three random numbers between 1 and 50.\u001b[0m\n",
      "Getting LLM to perform the following task: Generate three random numbers between 1 and 50.\n",
      "> I have generated three random numbers between 1 and 50: 17, 32, and 45.\n",
      "\n"
     ]
    }
   ],
   "source": [
    "# Runs a task for 1 step by editing num_subtasks variable to 1\n",
    "output = my_agent.run('List me three random numbers from 1 to 50, then give me their sum', num_subtasks = 1)"
   ]
  },
  {
   "cell_type": "code",
   "execution_count": 18,
   "id": "582dd4a0-b666-42a3-90c6-d5fa47007a75",
   "metadata": {},
   "outputs": [
    {
     "name": "stdout",
     "output_type": "stream",
     "text": [
      "['I have generated three random numbers between 1 and 50: 17, 32, and 45.']\n"
     ]
    }
   ],
   "source": [
    "# visualise the outputs of the task at the subtask level\n",
    "print(output)"
   ]
  },
  {
   "cell_type": "code",
   "execution_count": 19,
   "id": "4c898f28-c34a-4414-a57a-900471388006",
   "metadata": {
    "tags": []
   },
   "outputs": [
    {
     "name": "stdout",
     "output_type": "stream",
     "text": [
      "Agent Name: Number Expert\n",
      "Agent Description: You are great with numbers\n",
      "Available Functions: ['use_llm', 'end_task']\n",
      "Shared Variables: ['agent']\n",
      "\u001b[1m\u001b[32mTask: List me three random numbers from 1 to 50, then give me their sum\u001b[0m\n",
      "\u001b[1m\u001b[30mSubtasks Completed:\u001b[0m\n",
      "\u001b[1m\u001b[34mSubtask: Generate three random numbers between 1 and 50.\u001b[0m\n",
      "I have generated three random numbers between 1 and 50: 17, 32, and 45.\n",
      "\n",
      "Is Task Completed: False\n"
     ]
    }
   ],
   "source": [
    "# Visualise the first subtask\n",
    "my_agent.status()"
   ]
  },
  {
   "cell_type": "code",
   "execution_count": 20,
   "id": "92dca0bf-5b84-4011-89ca-c3ce48648efe",
   "metadata": {
    "tags": []
   },
   "outputs": [
    {
     "name": "stdout",
     "output_type": "stream",
     "text": [
      "\u001b[1m\u001b[30mObservation: The three random numbers have been successfully generated.\u001b[0m\n",
      "\u001b[1m\u001b[32mThoughts: To complete the remainder of the Assigned Task, the sum of the three generated numbers needs to be calculated.\u001b[0m\n",
      "\u001b[1m\u001b[34mSubtask identified: Calculate the sum of the three generated numbers: 17, 32, and 45.\u001b[0m\n",
      "Getting LLM to perform the following task: Calculate the sum of the three generated numbers: 17, 32, and 45.\n",
      "> The sum of the three generated numbers 17, 32, and 45 is 94.\n",
      "\n"
     ]
    }
   ],
   "source": [
    "# Runs the task for another step\n",
    "output = my_agent.run('List me three random numbers from 1 to 50, then give me their sum', num_subtasks = 1)"
   ]
  },
  {
   "cell_type": "code",
   "execution_count": 21,
   "id": "913af15e-c395-4579-a0b8-c369e43f12c3",
   "metadata": {
    "tags": []
   },
   "outputs": [
    {
     "name": "stdout",
     "output_type": "stream",
     "text": [
      "['I have generated three random numbers between 1 and 50: 17, 32, and 45.', 'The sum of the three generated numbers 17, 32, and 45 is 94.']\n"
     ]
    }
   ],
   "source": [
    "# visualise the outputs of the task at the subtask level\n",
    "print(output)"
   ]
  },
  {
   "cell_type": "code",
   "execution_count": 22,
   "id": "c8e89a05-51f2-4801-82d2-1d184f43697a",
   "metadata": {
    "tags": []
   },
   "outputs": [
    {
     "name": "stdout",
     "output_type": "stream",
     "text": [
      "Agent Name: Number Expert\n",
      "Agent Description: You are great with numbers\n",
      "Available Functions: ['use_llm', 'end_task']\n",
      "Shared Variables: ['agent']\n",
      "\u001b[1m\u001b[32mTask: List me three random numbers from 1 to 50, then give me their sum\u001b[0m\n",
      "\u001b[1m\u001b[30mSubtasks Completed:\u001b[0m\n",
      "\u001b[1m\u001b[34mSubtask: Generate three random numbers between 1 and 50.\u001b[0m\n",
      "I have generated three random numbers between 1 and 50: 17, 32, and 45.\n",
      "\n",
      "\u001b[1m\u001b[34mSubtask: Calculate the sum of the three generated numbers: 17, 32, and 45.\u001b[0m\n",
      "The sum of the three generated numbers 17, 32, and 45 is 94.\n",
      "\n",
      "Is Task Completed: False\n"
     ]
    }
   ],
   "source": [
    "# Visualise the first and second subtasks\n",
    "my_agent.status()"
   ]
  },
  {
   "cell_type": "code",
   "execution_count": 23,
   "id": "1ce7cc99-f460-444b-a243-acf09535629d",
   "metadata": {
    "tags": []
   },
   "outputs": [
    {
     "name": "stdout",
     "output_type": "stream",
     "text": [
      "\u001b[1m\u001b[30mObservation: The subtasks completed so far involved generating three random numbers between 1 and 50 and calculating their sum successfully.\u001b[0m\n",
      "\u001b[1m\u001b[32mThoughts: To complete the remainder of the assigned task, we need to generate three random numbers from 1 to 50 and then calculate their sum.\u001b[0m\n",
      "\u001b[1m\u001b[34mSubtask identified: Generate three random numbers between 1 and 50.\u001b[0m\n",
      "Getting LLM to perform the following task: Generate three random numbers between 1 and 50.\n",
      "> I have generated three random numbers between 1 and 50: 12, 28, and 49.\n",
      "\n"
     ]
    }
   ],
   "source": [
    "# if task already completed, then no need to do further\n",
    "output = my_agent.run('List me three random numbers from 1 to 50, then give me their sum', num_subtasks = 1)"
   ]
  },
  {
   "cell_type": "code",
   "execution_count": 24,
   "id": "d6397200-ee22-4e96-b002-4d65115f5b9b",
   "metadata": {
    "tags": []
   },
   "outputs": [
    {
     "name": "stdout",
     "output_type": "stream",
     "text": [
      "I have generated three random numbers between 1 and 50: 12, 28, and 49. The sum of the three generated numbers 12, 28, and 49 is 89.\n"
     ]
    }
   ],
   "source": [
    "# Generates a meaningful reply to the user\n",
    "output = my_agent.reply_user()"
   ]
  },
  {
   "cell_type": "markdown",
   "id": "746bd68c-34e2-4a3c-af10-668e703c8a25",
   "metadata": {
    "tags": []
   },
   "source": [
    "# 2. Power Up your Agents - Bring in Functions (aka Tools)\n",
    "- First define the functions, either using class `Function` (see Tutorial 0), or just any Python function with input and output types defined in the signature and with a docstring\n",
    "- After creating your agent, use `assign_functions` to assign a list of functions of class `Function`, or general Python functions (which will be converted to AsyncFunction)\n",
    "- Function names will be automatically inferred if not specified\n",
    "- Proceed to run tasks by using `run()`\n",
    "\n",
    "```python\n",
    "# This is an example of an LLM-based function (see Tutorial 0)\n",
    "sentence_style = Function(fn_description = 'Output a sentence with words <var1> and <var2> in the style of <var3>', \n",
    "                         output_format = {'output': 'sentence'},\n",
    "                         fn_name = 'sentence_with_objects_entities_emotion',\n",
    "                         llm = llm)\n",
    "\n",
    "# This is an example of an external user-defined function (see Tutorial 0)\n",
    "def binary_to_decimal(binary_number: str) -> int:\n",
    "    '''Converts binary_number to integer of base 10'''\n",
    "    return int(str(binary_number), 2)\n",
    "\n",
    "# Initialise your Agent\n",
    "my_agent = Agent('Helpful assistant', 'You are a generalist agent')\n",
    "\n",
    "# Assign the functions\n",
    "my_agent.assign_functions([sentence_style, binary_to_decimal])\n",
    "\n",
    "# Run the Agent\n",
    "output = my_agent.run('First convert binary string 1001 to a number, then generate me a happy sentence with that number and a ball')\n",
    "```\n",
    "\n",
    "`Subtask identified: Convert the binary number 1001 to decimal`\n",
    "`Calling function binary_to_decimal with parameters {'x': '1001'}`\n",
    "\n",
    "> {'output1': 9}\n",
    "\n",
    "`Subtask identified: Generate a happy sentence with the decimal number and a ball`\n",
    "`Calling function sentence_with_objects_entities_emotion with parameters {'obj': '9', 'entity': 'ball', 'emotion': 'happy'}`\n",
    "\n",
    "> {'output': 'I am so happy with my 9 balls.'}\n",
    "\n",
    "`Task completed successfully!`\n",
    "\n",
    "- Approach 1: Automatically Run your agent using `run()`\n",
    "\n",
    "- Approach 2: Manually select and use functions for your task\n",
    "    - **select_function(task: str)**: Based on the task, output the next function name and input parameters\n",
    "    - **use_function(function_name: str, function_params: dict, subtask: str = '', stateful: bool = True)**: Uses the function named `function_name` with `function_params`. `stateful` controls whether the output of this function will be saved to `subtasks_completed` under the key of `subtask`\n",
    "<br/><br/>\n",
    "\n",
    "- **Assign/Remove Functions**:\n",
    "    - **assign_functions(function_list: list)**: Assigns a list of functions to the agent\n",
    "    - **remove_function(function_name: str)**: Removes function named function_name from the list of assigned functions\n",
    "<br/><br/>\n",
    "\n",
    "- **Show Functions**:\n",
    "    - **list_functions()**: Returns the list of functions of the agent\n",
    "    - **print_functions()**: Prints the list of functions of the agent\n",
    "<br/><br/>"
   ]
  },
  {
   "cell_type": "code",
   "execution_count": 25,
   "id": "9a66d4ff-46a6-410f-8543-d114634740cd",
   "metadata": {
    "tags": []
   },
   "outputs": [],
   "source": [
    "# Example LLM-based Function\n",
    "sentence_style = Function(fn_description = 'Output a sentence with <obj> and <entity> in the style of <emotion>', \n",
    "                     output_format = {'output': 'sentence'}, fn_name = 'sentence_with_objects_entities_emotion',\n",
    "                         llm = llm)"
   ]
  },
  {
   "cell_type": "code",
   "execution_count": 26,
   "id": "55273389-800b-403c-a15c-c185f78c9f2d",
   "metadata": {
    "tags": []
   },
   "outputs": [],
   "source": [
    "# Example External Function\n",
    "def binary_to_decimal(binary_string: str) -> int:\n",
    "    '''Converts binary_string to integer of base 10'''\n",
    "    return int(str(binary_string), 2)"
   ]
  },
  {
   "cell_type": "code",
   "execution_count": 27,
   "id": "9b50df6b-48e9-4e37-bd60-35a93dd7bdfe",
   "metadata": {
    "tags": []
   },
   "outputs": [],
   "source": [
    "# Initialise your agent\n",
    "my_agent = Agent('Helpful assistant', 'You are a generalist agent', llm = llm)"
   ]
  },
  {
   "cell_type": "code",
   "execution_count": 28,
   "id": "e63f4b8f-8d1f-4728-983a-9e371178e94a",
   "metadata": {
    "tags": []
   },
   "outputs": [
    {
     "data": {
      "text/plain": [
       "<taskgen.agent.Agent at 0x122278050>"
      ]
     },
     "execution_count": 28,
     "metadata": {},
     "output_type": "execute_result"
    }
   ],
   "source": [
    "# Assign functions\n",
    "my_agent.assign_functions(function_list = [sentence_style, binary_to_decimal])"
   ]
  },
  {
   "cell_type": "code",
   "execution_count": 29,
   "id": "e84e8def-3202-461e-8502-32022e4ab9c5",
   "metadata": {
    "tags": []
   },
   "outputs": [
    {
     "name": "stdout",
     "output_type": "stream",
     "text": [
      "Name: use_llm\n",
      "Description: For general tasks. Used only when no other function can do the task\n",
      "Input: []\n",
      "Output: {'Output': 'Output of LLM'}\n",
      "\n",
      "Name: end_task\n",
      "Description: Passes the final output to the user\n",
      "Input: []\n",
      "Output: {}\n",
      "\n",
      "Name: sentence_with_objects_entities_emotion\n",
      "Description: Output a sentence with <obj> and <entity> in the style of <emotion>\n",
      "Input: ['obj', 'entity', 'emotion']\n",
      "Output: {'output': 'sentence'}\n",
      "\n",
      "Name: binary_to_decimal\n",
      "Description: Converts <binary_string: str> to integer of base 10\n",
      "Input: ['binary_string']\n",
      "Output: {'output_1': 'int'}\n",
      "\n"
     ]
    }
   ],
   "source": [
    "# Show the functions the agent has\n",
    "my_agent.print_functions()"
   ]
  },
  {
   "cell_type": "markdown",
   "id": "d1734206-5b82-4fce-b140-79ad6f71564b",
   "metadata": {
    "tags": []
   },
   "source": [
    "### Approach 1: Automatic Running of Task"
   ]
  },
  {
   "cell_type": "code",
   "execution_count": 30,
   "id": "5fd3a834-fce4-4fdf-9113-886e1ed9e1b4",
   "metadata": {
    "tags": []
   },
   "outputs": [
    {
     "name": "stdout",
     "output_type": "stream",
     "text": [
      "\u001b[1m\u001b[30mObservation: No subtasks have been completed yet for the assigned task.\u001b[0m\n",
      "\u001b[1m\u001b[32mThoughts: To complete the assigned task, we need to first convert the binary string 1001 to a number and then generate a happy sentence with that number and a ball.\u001b[0m\n",
      "\u001b[1m\u001b[34mSubtask identified: Convert the binary string 1001 to a number of base 10.\u001b[0m\n",
      "Calling function binary_to_decimal with parameters {'binary_string': '1001'}\n",
      "> {'output_1': 9}\n",
      "\n",
      "\u001b[1m\u001b[30mObservation: The binary string \"1001\" has been successfully converted to the number 9.\u001b[0m\n",
      "\u001b[1m\u001b[32mThoughts: To complete the remainder of the Assigned Task, we need to generate a happy sentence with the number 9 and a ball.\u001b[0m\n",
      "\u001b[1m\u001b[34mSubtask identified: Generate a happy sentence with the number 9 and a ball in the style of happiness.\u001b[0m\n",
      "Calling function sentence_with_objects_entities_emotion with parameters {'obj': 9, 'entity': 'ball', 'emotion': 'happiness'}\n",
      "> {'output': 'I am filled with happiness when I see the ball'}\n",
      "\n",
      "\u001b[1m\u001b[30mObservation: Two subtasks have been completed successfully: converting binary string 1001 to the number 9 and generating a happy sentence with the number 9 and a ball.\u001b[0m\n",
      "\u001b[1m\u001b[32mThoughts: The remaining part of the Assigned Task is to generate a happy sentence with the number obtained from the binary string conversion and a ball. This can be achieved by using the \"sentence_with_objects_entities_emotion\" function.\u001b[0m\n",
      "\u001b[1m\u001b[34mSubtask identified: Generate a happy sentence with the number obtained from the binary string conversion and a ball.\u001b[0m\n",
      "Calling function sentence_with_objects_entities_emotion with parameters {'obj': 9, 'entity': 'ball', 'emotion': 'happiness'}\n",
      "> {'output': 'I am filled with happiness when I see the ball'}\n",
      "\n",
      "\u001b[1m\u001b[30mObservation: Subtasks Completed for Assigned Task include converting binary string 1001 to the number 9 and generating a happy sentence with the number 9 and a ball. The sentence has already been generated twice.\u001b[0m\n",
      "\u001b[1m\u001b[32mThoughts: The remaining part of the Assigned Task is already completed. No further action is required.\u001b[0m\n",
      "\u001b[1m\u001b[34mSubtask identified: End Task\u001b[0m\n",
      "Task completed successfully!\n",
      "\n"
     ]
    }
   ],
   "source": [
    "my_agent.reset()\n",
    "output = my_agent.run('First convert binary string 1001 to a number, then generate me a happy sentence with that number and a ball')"
   ]
  },
  {
   "cell_type": "code",
   "execution_count": 31,
   "id": "add22966-a6c5-40c1-9f94-ec8e6964e0e8",
   "metadata": {
    "tags": []
   },
   "outputs": [
    {
     "name": "stdout",
     "output_type": "stream",
     "text": [
      "Agent Name: Helpful assistant\n",
      "Agent Description: You are a generalist agent\n",
      "Available Functions: ['use_llm', 'end_task', 'sentence_with_objects_entities_emotion', 'binary_to_decimal']\n",
      "Shared Variables: ['agent']\n",
      "\u001b[1m\u001b[32mTask: First convert binary string 1001 to a number, then generate me a happy sentence with that number and a ball\u001b[0m\n",
      "\u001b[1m\u001b[30mSubtasks Completed:\u001b[0m\n",
      "\u001b[1m\u001b[34mSubtask: binary_to_decimal(binary_string=\"1001\")\u001b[0m\n",
      "{'output_1': 9}\n",
      "\n",
      "\u001b[1m\u001b[34mSubtask: sentence_with_objects_entities_emotion(obj=9, entity=\"ball\", emotion=\"happiness\")\u001b[0m\n",
      "{'output': 'I am filled with happiness when I see the ball'}\n",
      "\n",
      "\u001b[1m\u001b[34mSubtask: sentence_with_objects_entities_emotion(obj=9, entity=\"ball\", emotion=\"happiness\")(2)\u001b[0m\n",
      "{'output': 'I am filled with happiness when I see the ball'}\n",
      "\n",
      "Is Task Completed: True\n"
     ]
    }
   ],
   "source": [
    "my_agent.status()"
   ]
  },
  {
   "cell_type": "code",
   "execution_count": 32,
   "id": "681a4eea-fa16-4679-a330-5f567a0e80d3",
   "metadata": {
    "tags": []
   },
   "outputs": [
    {
     "name": "stdout",
     "output_type": "stream",
     "text": [
      "I am filled with happiness when I see the ball, I am filled with happiness when I see the ball\n"
     ]
    }
   ],
   "source": [
    "# give a response to user\n",
    "output = my_agent.reply_user()"
   ]
  },
  {
   "cell_type": "markdown",
   "id": "b37cf760-3d1c-4619-a0c3-4b81b492bc26",
   "metadata": {},
   "source": [
    "### Approach 2: Manual Selection and Running of Functions\n",
    "- If you want to just see what the agent would choose for a hypothetical task, use `select_function`. This will not update the internal state, and will output function name and function params\n",
    "- If you want specificity in the process, you can just execute the agent's functions yourself using `use_function`\n",
    "- `use_function`: Uses an agent's function using name and params. Note that by default there will be updating of subtasks_completed when performing the function. In order not to update subtasks_completed, set `stateful = False`"
   ]
  },
  {
   "cell_type": "code",
   "execution_count": 33,
   "id": "b8663646-7e7c-4859-8a8f-25493cdeeede",
   "metadata": {
    "tags": []
   },
   "outputs": [
    {
     "name": "stdout",
     "output_type": "stream",
     "text": [
      "\u001b[1m\u001b[30mObservation: The Assigned Task requires generating a sentence with specific objects and emotion.\u001b[0m\n",
      "\u001b[1m\u001b[32mThoughts: To complete the remainder of the Assigned Task, we need to identify a function that can output a sentence with the given objects and emotion.\u001b[0m\n",
      "Selected function name: sentence_with_objects_entities_emotion\n",
      "Selected function params: {'obj': 'bell', 'entity': 'dog', 'emotion': 'happy'}\n",
      "Calling function sentence_with_objects_entities_emotion with parameters {'obj': 'bell', 'entity': 'dog', 'emotion': 'happy'}\n",
      "> {'output': 'The bell made the dog happy.'}\n",
      "\n"
     ]
    },
    {
     "data": {
      "text/plain": [
       "{'output': 'The bell made the dog happy.'}"
      ]
     },
     "execution_count": 33,
     "metadata": {},
     "output_type": "execute_result"
    }
   ],
   "source": [
    "# this should call generate_sentence_with_emotion\n",
    "my_agent.reset()\n",
    "function_name, function_params = my_agent.select_function(\n",
    "    task = 'Output a sentence with bell, dog and happy')\n",
    "print(f'Selected function name: {function_name}\\nSelected function params: {function_params}')\n",
    "\n",
    "my_agent.use_function(function_name, function_params, stateful = False)"
   ]
  },
  {
   "cell_type": "code",
   "execution_count": 34,
   "id": "04a9086a-acce-4bd4-bd5e-8219e4884220",
   "metadata": {
    "tags": []
   },
   "outputs": [
    {
     "name": "stdout",
     "output_type": "stream",
     "text": [
      "\u001b[1m\u001b[30mObservation: The assigned task involves converting a binary number to its decimal representation.\u001b[0m\n",
      "\u001b[1m\u001b[32mThoughts: To complete the task, we need to convert the binary number 101 to its decimal representation.\u001b[0m\n",
      "Selected function name: binary_to_decimal\n",
      "Selected function params: {'binary_string': '101'}\n",
      "Calling function binary_to_decimal with parameters {'binary_string': '101'}\n",
      "> {'output_1': 5}\n",
      "\n"
     ]
    },
    {
     "data": {
      "text/plain": [
       "{'output_1': 5}"
      ]
     },
     "execution_count": 34,
     "metadata": {},
     "output_type": "execute_result"
    }
   ],
   "source": [
    "# this should call binary_to_decimal\n",
    "my_agent.reset()\n",
    "function_name, function_params = my_agent.select_function(\n",
    "    task = 'What is the decimal representation of binary number 101?')\n",
    "print(f'Selected function name: {function_name}\\nSelected function params: {function_params}')\n",
    "\n",
    "my_agent.use_function(function_name, function_params, stateful = False)"
   ]
  },
  {
   "cell_type": "code",
   "execution_count": 35,
   "id": "dcf2db16-6bd3-4396-9fdf-d74d9d4b02be",
   "metadata": {
    "tags": []
   },
   "outputs": [
    {
     "name": "stdout",
     "output_type": "stream",
     "text": [
      "\u001b[1m\u001b[30mObservation: The Assigned Task is to research on the benefits of exercise.\u001b[0m\n",
      "\u001b[1m\u001b[32mThoughts: To complete the remainder of the Assigned Task, it is essential to gather information on the benefits of exercise from reliable sources.\u001b[0m\n",
      "Selected function name: use_llm\n",
      "Selected function params: {'instruction': 'Research and compile a list of physical and mental health benefits associated with regular exercise.'}\n",
      "Getting LLM to perform the following task: Research and compile a list of physical and mental health benefits associated with regular exercise.\n",
      "> After thorough research, a comprehensive list of physical and mental health benefits associated with regular exercise has been compiled. The list includes improved cardiovascular health, increased muscle strength and endurance, weight management, reduced risk of chronic diseases such as diabetes and hypertension, enhanced mood and mental well-being, better sleep quality, and increased overall energy levels. This compilation serves as a valuable resource for individuals looking to understand the numerous advantages of incorporating regular exercise into their lifestyle.\n",
      "\n"
     ]
    },
    {
     "data": {
      "text/plain": [
       "{'Detailed Outcome': 'After thorough research, a comprehensive list of physical and mental health benefits associated with regular exercise has been compiled. The list includes improved cardiovascular health, increased muscle strength and endurance, weight management, reduced risk of chronic diseases such as diabetes and hypertension, enhanced mood and mental well-being, better sleep quality, and increased overall energy levels. This compilation serves as a valuable resource for individuals looking to understand the numerous advantages of incorporating regular exercise into their lifestyle.'}"
      ]
     },
     "execution_count": 35,
     "metadata": {},
     "output_type": "execute_result"
    }
   ],
   "source": [
    "# this should call use_llm\n",
    "my_agent.reset()\n",
    "function_name, function_params = my_agent.select_function(\n",
    "    task = 'Research on the benefits of exercise')\n",
    "print(f'Selected function name: {function_name}\\nSelected function params: {function_params}')\n",
    "\n",
    "my_agent.use_function(function_name, function_params, stateful = False)"
   ]
  },
  {
   "cell_type": "markdown",
   "id": "5f20c1b8-ba3c-48a6-b468-720ab00c4d58",
   "metadata": {
    "tags": []
   },
   "source": [
    "# 3. AsyncAgent\n",
    "\n",
    "- `AsyncAgent` works the same way as `Agent`, only much faster due to parallelisation of tasks\n",
    "- It can only be assigned functions of class `AsyncFunction`, or general Python functions (which will be converted to AsyncFunction)\n",
    "- If you define your own `AsyncFunction`, you should define the fn_name as well if it is not an External Function\n",
    "- As a rule of thumb, just add the `await` keyword to any function that you run with the `AsyncAgent`\n",
    "\n",
    "#### Example LLM in Async Mode\n",
    "```python\n",
    "async def llm_async(system_prompt: str, user_prompt: str):\n",
    "    ''' Here, we use OpenAI for illustration, you can change it to your own LLM '''\n",
    "    # ensure your LLM imports are all within this function\n",
    "    from openai import AsyncOpenAI\n",
    "    \n",
    "    # define your own LLM here\n",
    "    client = AsyncOpenAI()\n",
    "    response = await client.chat.completions.create(\n",
    "        model='gpt-3.5-turbo',\n",
    "        temperature = 0,\n",
    "        messages=[\n",
    "            {\"role\": \"system\", \"content\": system_prompt},\n",
    "            {\"role\": \"user\", \"content\": user_prompt}\n",
    "        ]\n",
    "    )\n",
    "    return response.choices[0].message.content\n",
    "```\n",
    "\n",
    "#### Example Agentic Workflow\n",
    "```python\n",
    "# This is an example of an LLM-based function (see Tutorial 0)\n",
    "sentence_style = AsyncFunction(fn_description = 'Output a sentence with words <var1> and <var2> in the style of <var3>', \n",
    "                         output_format = {'output': 'sentence'},\n",
    "                         fn_name = 'sentence_with_objects_entities_emotion', # you must define fn_name for LLM-based functions\n",
    "                         llm = llm_async) # use an async LLM function\n",
    "\n",
    "# This is an example of an external user-defined function (see Tutorial 0)\n",
    "def binary_to_decimal(binary_number: str) -> int:\n",
    "    '''Converts binary_number to integer of base 10'''\n",
    "    return int(str(binary_number), 2)\n",
    "\n",
    "# Initialise your Agent\n",
    "my_agent = AsyncAgent('Helpful assistant', 'You are a generalist agent')\n",
    "\n",
    "# Assign the functions\n",
    "my_agent.assign_functions([sentence_style, binary_to_decimal])\n",
    "\n",
    "# Run the Agent\n",
    "output = await my_agent.run('Generate me a happy sentence with a number and a ball. The number is b1001 converted to decimal')\n",
    "```"
   ]
  },
  {
   "cell_type": "code",
   "execution_count": 36,
   "id": "79ddfa23-df79-4a46-a5de-11f55c99cd05",
   "metadata": {
    "tags": []
   },
   "outputs": [],
   "source": [
    "# Define an Async LLM function\n",
    "async def llm_async(system_prompt: str, user_prompt: str):\n",
    "    ''' Here, we use OpenAI for illustration, you can change it to your own LLM '''\n",
    "    # ensure your LLM imports are all within this function\n",
    "    from openai import AsyncOpenAI\n",
    "    \n",
    "    # define your own LLM here\n",
    "    client = AsyncOpenAI()\n",
    "    response = await client.chat.completions.create(\n",
    "        model='gpt-3.5-turbo',\n",
    "        temperature = 0,\n",
    "        messages=[\n",
    "            {\"role\": \"system\", \"content\": system_prompt},\n",
    "            {\"role\": \"user\", \"content\": user_prompt}\n",
    "        ]\n",
    "    )\n",
    "    return response.choices[0].message.content"
   ]
  },
  {
   "cell_type": "code",
   "execution_count": 37,
   "id": "c8b8bfd3-53e8-4399-bbae-0da571a2423d",
   "metadata": {
    "tags": []
   },
   "outputs": [
    {
     "name": "stdout",
     "output_type": "stream",
     "text": [
      "\u001b[1m\u001b[30mObservation: No subtasks have been completed yet for the assigned task.\u001b[0m\n",
      "\u001b[1m\u001b[32mThoughts: To complete the assigned task, we need to first convert the binary string 1001 to a number and then generate a happy sentence with that number and a ball.\u001b[0m\n",
      "\u001b[1m\u001b[34mSubtask identified: Convert the binary string 1001 to a number.\u001b[0m\n",
      "Getting LLM to perform the following task: Convert the binary string 1001 to a number.\n",
      "> The binary string 1001 can be converted to a number by multiplying each digit by 2 raised to the power of its position from right to left. In this case, it would be 1*2^3 + 0*2^2 + 0*2^1 + 1*2^0 = 8 + 0 + 0 + 1 = 9. Therefore, the binary string 1001 is equal to the number 9.\n",
      "\n",
      "\u001b[1m\u001b[30mObservation: The binary string 1001 has been successfully converted to the number 9.\u001b[0m\n",
      "\u001b[1m\u001b[32mThoughts: Since the binary string has been converted to a number, the next step is to generate a happy sentence with the number 9 and a ball.\u001b[0m\n",
      "\u001b[1m\u001b[34mSubtask identified: Generate a happy sentence with the number 9 and a ball.\u001b[0m\n",
      "Calling function sentence_with_objects_entities_emotion with parameters {'var1': 9, 'var2': 'ball', 'var3': 'happy'}\n",
      "> {'output': 'I am feeling 9 and ball today'}\n",
      "\n",
      "\u001b[1m\u001b[30mObservation: The binary string 1001 has been successfully converted to the number 9 and a happy sentence has been generated with the number and a ball.\u001b[0m\n",
      "\u001b[1m\u001b[32mThoughts: Since the subtasks related to the conversion and sentence generation have been completed, the remaining part of the Assigned Task is to end the task as it has been successfully accomplished.\u001b[0m\n",
      "\u001b[1m\u001b[34mSubtask identified: End Task\u001b[0m\n",
      "Task completed successfully!\n",
      "\n"
     ]
    }
   ],
   "source": [
    "# This is an example of an LLM-based function (see Tutorial 0)\n",
    "sentence_style = AsyncFunction(fn_description = 'Output a sentence with words <var1> and <var2> in the style of <var3>', \n",
    "                         output_format = {'output': 'sentence'},\n",
    "                         fn_name = 'sentence_with_objects_entities_emotion', # you must define fn_name for LLM-based functions\n",
    "                         llm = llm_async) # you must use an Async LLM function\n",
    "\n",
    "# This is an example of an external user-defined function (see Tutorial 0)\n",
    "def binary_to_decimal(binary_number: str) -> int:\n",
    "    '''Converts binary_number to integer of base 10'''\n",
    "    return int(str(binary_number), 2)\n",
    "\n",
    "# Initialise your Agent\n",
    "my_agent = AsyncAgent('Helpful assistant', 'You are a generalist agent')\n",
    "\n",
    "# Assign the functions\n",
    "my_agent.assign_functions([sentence_style, binary_to_decimal])\n",
    "\n",
    "# Run the Agent\n",
    "output = await my_agent.run('First convert binary string 1001 to a number, then generate me a happy sentence with that number and a ball')"
   ]
  },
  {
   "cell_type": "code",
   "execution_count": 38,
   "id": "d204a954-4ec0-43e3-9fb0-2f257840b726",
   "metadata": {
    "tags": []
   },
   "outputs": [
    {
     "name": "stdout",
     "output_type": "stream",
     "text": [
      "The binary string 1001 can be converted to a number by multiplying each digit by 2 raised to the power of its position from right to left. In this case, it would be 1*2^3 + 0*2^2 + 0*2^1 + 1*2^0 = 8 + 0 + 0 + 1 = 9. Therefore, the binary string 1001 is equal to the number 9. Using this number, a happy sentence can be generated as follows: \"I am feeling 9 and ball today\".\n"
     ]
    }
   ],
   "source": [
    "output = await my_agent.reply_user()"
   ]
  },
  {
   "cell_type": "code",
   "execution_count": 39,
   "id": "bbf73ba3-854a-432b-98c2-3aa89a040cb2",
   "metadata": {
    "tags": []
   },
   "outputs": [
    {
     "name": "stdout",
     "output_type": "stream",
     "text": [
      "\u001b[1m\u001b[30mObservation: The Assigned Task requires generating a sentence with specific words in a particular style.\u001b[0m\n",
      "\u001b[1m\u001b[32mThoughts: To complete the remainder of the Assigned Task, we need to identify a function that can generate a sentence with the words 'bell', 'dog', and 'happy' in a specific style.\u001b[0m\n",
      "Selected function name: sentence_with_objects_entities_emotion\n",
      "Selected function params: {'var1': 'bell', 'var2': 'dog', 'var3': 'happy'}\n",
      "Calling function sentence_with_objects_entities_emotion with parameters {'var1': 'bell', 'var2': 'dog', 'var3': 'happy'}\n",
      "> {'output': 'The bell rang and the dog wagged its tail, both looking very happy.'}\n",
      "\n"
     ]
    },
    {
     "data": {
      "text/plain": [
       "{'output': 'The bell rang and the dog wagged its tail, both looking very happy.'}"
      ]
     },
     "execution_count": 39,
     "metadata": {},
     "output_type": "execute_result"
    }
   ],
   "source": [
    "# this should call generate_sentence_with_emotion\n",
    "my_agent.reset()\n",
    "function_name, function_params = await my_agent.select_function(\n",
    "    task = 'Output a sentence with bell, dog and happy')\n",
    "print(f'Selected function name: {function_name}\\nSelected function params: {function_params}')\n",
    "\n",
    "await my_agent.use_function(function_name, function_params, stateful = False)"
   ]
  },
  {
   "cell_type": "markdown",
   "id": "e2361b2f-5f2d-48e6-bf09-7276ccca4afc",
   "metadata": {},
   "source": [
    "# Saving and Loading Agents\n",
    "Sometimes you want to configure your agents and save them and load them elsewhere, while maintaining the current agent state\n",
    "\n",
    "- When you use the `save_agent` function, we store the entire agent's internal state, include name, description, list of functions, subtasks history and all other internal variables into a pickle file\n",
    "- When you use the `load_agent` function, and we will load the entire agent saved in the pickle file into the existing agent\n",
    "\n",
    "Key functions:\n",
    "- **save_agent(pickle_file_name: str)**: Saves the agent's internal parameters to a pickle file named pickle_file_name (include .pkl), returns the pickle file\n",
    "- **load_agent(pickle_file_name: str)**: Loads the agent's internal parameters from a pickle file named pickle_file_name (include .pkl), returns loaded agent\n",
    "\n",
    "#### Example 1: Saving Agent\n",
    "```python\n",
    "my_agent.save_agent('myagent.pkl')\n",
    "```\n",
    "\n",
    "#### Example Output\n",
    "```Agent saved to myagent.pkl```\n",
    "\n",
    "#### Example 2: Loading Agent\n",
    "```python\n",
    "new_agent = Agent().load_agent('myagent.pkl')\n",
    "```\n",
    "\n",
    "#### Example Output\n",
    "```Agent loaded from myagent.pkl```"
   ]
  },
  {
   "cell_type": "code",
   "execution_count": 40,
   "id": "55055628-0738-4996-bd45-b5d50814b94b",
   "metadata": {},
   "outputs": [],
   "source": [
    "# run one task to add something to subtasks_completed\n",
    "my_agent.reset()\n",
    "output = my_agent.run('What is the decimal representation of binary number 101?')"
   ]
  },
  {
   "cell_type": "code",
   "execution_count": 41,
   "id": "e4b26d2b-915a-4201-8c5e-74c9d614af03",
   "metadata": {
    "tags": []
   },
   "outputs": [
    {
     "name": "stdout",
     "output_type": "stream",
     "text": [
      "Agent Name: Helpful assistant\n",
      "Agent Description: You are a generalist agent\n",
      "Available Functions: ['use_llm', 'end_task', 'sentence_with_objects_entities_emotion', 'binary_to_decimal']\n",
      "Shared Variables: ['agent']\n",
      "\u001b[1m\u001b[32mTask: No task assigned\u001b[0m\n",
      "\u001b[1m\u001b[34mSubtasks Completed: None\u001b[0m\n",
      "Is Task Completed: False\n"
     ]
    }
   ],
   "source": [
    "# see status of agent before saving\n",
    "my_agent.status()"
   ]
  },
  {
   "cell_type": "code",
   "execution_count": 42,
   "id": "4b7ba9d3-c5c0-4cf3-b2b0-1a253e2b93fa",
   "metadata": {},
   "outputs": [
    {
     "name": "stdout",
     "output_type": "stream",
     "text": [
      "Agent saved to myagent.pkl\n"
     ]
    }
   ],
   "source": [
    "# save agent\n",
    "my_agent.save_agent('myagent.pkl')"
   ]
  },
  {
   "cell_type": "code",
   "execution_count": 43,
   "id": "30aa1504-3a15-411e-858e-3c4efc330971",
   "metadata": {},
   "outputs": [
    {
     "name": "stdout",
     "output_type": "stream",
     "text": [
      "Agent loaded from myagent.pkl\n"
     ]
    }
   ],
   "source": [
    "# load agent using load_agent code\n",
    "new_agent = Agent().load_agent('myagent.pkl')"
   ]
  },
  {
   "cell_type": "code",
   "execution_count": 44,
   "id": "60a367af-24da-4f0c-aca1-bdd891e9da42",
   "metadata": {
    "tags": []
   },
   "outputs": [
    {
     "name": "stdout",
     "output_type": "stream",
     "text": [
      "Agent Name: Helpful assistant\n",
      "Agent Description: You are a generalist agent\n",
      "Available Functions: ['use_llm', 'end_task', 'sentence_with_objects_entities_emotion', 'binary_to_decimal']\n",
      "Shared Variables: ['agent']\n",
      "\u001b[1m\u001b[32mTask: No task assigned\u001b[0m\n",
      "\u001b[1m\u001b[34mSubtasks Completed: None\u001b[0m\n",
      "Is Task Completed: False\n"
     ]
    }
   ],
   "source": [
    "# see status of loaded agent (which also includes what is saved in subtasks_completed, and shared_variables)\n",
    "new_agent.status()"
   ]
  },
  {
   "cell_type": "markdown",
   "id": "172064f5",
   "metadata": {},
   "source": [
    "# Contributing agent to community\n",
    "\n",
    "Once you are done developing your agent, we encourage you to contribute your agent to taskgen community.\n",
    "Agent contribution works by creating a Pull Request to taskgen repo, hence you need to have a github profile. We have taken efforts to make the process simple\n",
    "\n",
    "Follow below steps to contribute your agent -\n",
    "- Create your profile on github\n",
    "- Set envrionment variable `GITHUB_USERNAME` as your github user name\n",
    "- Set envrionment variable `GITHUB_TOKEN` as your github token. Steps to create github token below\n",
    "    - Sign-in to your github account on your browser\n",
    "    - Navigate to token settings on github - https://github.com/settings/tokens\n",
    "    - Generate new token (classic)\n",
    "        - Provide token name, expiration\n",
    "        - Slect scope - repo:public_repo\n",
    "- Execute `contribute_agent` function on your agent, and provide comments on what your agent should be used for"
   ]
  },
  {
   "cell_type": "code",
   "execution_count": 45,
   "id": "d8aa8399-e84d-4c48-a93a-dc0a826947c9",
   "metadata": {
    "tags": []
   },
   "outputs": [],
   "source": [
    "def add(x: int, y: int) -> int:\n",
    "    '''Takes in x and y and returns the sum'''\n",
    "    return x+y\n",
    "\n",
    "my_agent = Agent('Math Expert', 'Does Math very well. Calculate only what is necessary.', llm = llm).assign_functions(add)"
   ]
  },
  {
   "cell_type": "code",
   "execution_count": 46,
   "id": "fb98b393-306a-431d-b035-ac0c4d5f26e1",
   "metadata": {
    "tags": []
   },
   "outputs": [
    {
     "name": "stdout",
     "output_type": "stream",
     "text": [
      "\u001b[1m\u001b[30mObservation: No subtasks have been completed yet for the assigned task.\u001b[0m\n",
      "\u001b[1m\u001b[32mThoughts: Since no subtasks have been completed, it is necessary to start by breaking down the assigned task into smaller parts to efficiently calculate the sum.\u001b[0m\n",
      "\u001b[1m\u001b[34mSubtask identified: Calculate 3 + 2\u001b[0m\n",
      "Calling function add with parameters {'x': 3, 'y': 2}\n",
      "> {'output_1': 5}\n",
      "\n",
      "\u001b[1m\u001b[30mObservation: The sum of 3 + 2 has been calculated successfully.\u001b[0m\n",
      "\u001b[1m\u001b[32mThoughts: To complete the remainder of the Assigned Task, we need to calculate the sum of 5 with the existing result.\u001b[0m\n",
      "\u001b[1m\u001b[34mSubtask identified: Calculate 5 + 5\u001b[0m\n",
      "Calling function add with parameters {'x': 5, 'y': 5}\n",
      "> {'output_1': 10}\n",
      "\n",
      "\u001b[1m\u001b[30mObservation: The sum of 3 + 2 + 5 can be calculated by adding the numbers step by step.\u001b[0m\n",
      "\u001b[1m\u001b[32mThoughts: To complete the remainder of the Assigned Task, we need to add the numbers sequentially.\u001b[0m\n",
      "\u001b[1m\u001b[34mSubtask identified: Calculate 10 + 5\u001b[0m\n",
      "Calling function add with parameters {'x': 10, 'y': 5}\n",
      "> {'output_1': 15}\n",
      "\n",
      "\u001b[1m\u001b[30mObservation: The sum of 3 + 2 + 5 has been calculated by adding the numbers sequentially.\u001b[0m\n",
      "\u001b[1m\u001b[32mThoughts: To complete the remainder of the Assigned Task, we need to add the final result of the previous additions to get the total sum.\u001b[0m\n",
      "\u001b[1m\u001b[34mSubtask identified: Add the final result of the previous additions (15) to the last number in the sequence (5).\u001b[0m\n",
      "Calling function add with parameters {'x': 15, 'y': 5}\n",
      "> {'output_1': 20}\n",
      "\n",
      "\u001b[1m\u001b[30mObservation: The subtasks completed so far involve adding numbers together to get the final result.\u001b[0m\n",
      "\u001b[1m\u001b[32mThoughts: To complete the remainder of the assigned task, we need to continue adding numbers together until the final sum is obtained.\u001b[0m\n",
      "\u001b[1m\u001b[34mSubtask identified: Add the numbers 20 and 5 together.\u001b[0m\n",
      "Calling function add with parameters {'x': 20, 'y': 5}\n",
      "> {'output_1': 25}\n",
      "\n"
     ]
    },
    {
     "data": {
      "text/plain": [
       "[{'output_1': 5},\n",
       " {'output_1': 10},\n",
       " {'output_1': 15},\n",
       " {'output_1': 20},\n",
       " {'output_1': 25}]"
      ]
     },
     "execution_count": 46,
     "metadata": {},
     "output_type": "execute_result"
    }
   ],
   "source": [
    "my_agent.run('Calculate 3 + 2 + 5')"
   ]
  },
  {
   "cell_type": "code",
   "execution_count": 47,
   "id": "377ae4af-00d7-4243-b372-9352f00b7a54",
   "metadata": {
    "tags": []
   },
   "outputs": [
    {
     "name": "stdout",
     "output_type": "stream",
     "text": [
      "The sum of 3 + 2 + 5 is 10. This calculation was derived from the completed subtasks where the addition operation was performed on pairs of numbers. Specifically, the subtask add(x=3, y=2) resulted in an output of 5, and the subtask add(x=5, y=5) resulted in an output of 10. By utilizing these results, the sum of 3 + 2 + 5 was accurately determined to be 10.\n"
     ]
    },
    {
     "data": {
      "text/plain": [
       "'The sum of 3 + 2 + 5 is 10. This calculation was derived from the completed subtasks where the addition operation was performed on pairs of numbers. Specifically, the subtask add(x=3, y=2) resulted in an output of 5, and the subtask add(x=5, y=5) resulted in an output of 10. By utilizing these results, the sum of 3 + 2 + 5 was accurately determined to be 10.'"
      ]
     },
     "execution_count": 47,
     "metadata": {},
     "output_type": "execute_result"
    }
   ],
   "source": [
    "my_agent.reply_user()"
   ]
  },
  {
   "cell_type": "code",
   "execution_count": 48,
   "id": "34d29830",
   "metadata": {},
   "outputs": [],
   "source": [
    "os.environ['GITHUB_USERNAME'] = '<your username here>'\n",
    "os.environ['GITHUB_TOKEN'] = '<your token here>'"
   ]
  },
  {
   "cell_type": "code",
   "execution_count": 49,
   "id": "9c987c4e",
   "metadata": {},
   "outputs": [],
   "source": [
    "# my_agent.contribute_agent(author_comments = \"This agent should be used for any addition-based calculation\")"
   ]
  }
 ],
 "metadata": {
  "kernelspec": {
   "display_name": "Python 3 (ipykernel)",
   "language": "python",
   "name": "python3"
  },
  "language_info": {
   "codemirror_mode": {
    "name": "ipython",
    "version": 3
   },
   "file_extension": ".py",
   "mimetype": "text/x-python",
   "name": "python",
   "nbconvert_exporter": "python",
   "pygments_lexer": "ipython3",
   "version": "3.11.3"
  }
 },
 "nbformat": 4,
 "nbformat_minor": 5
}
