{
 "cells": [
  {
   "cell_type": "markdown",
   "id": "2fa1e388-b8f4-4fa3-be5a-ba7c6caae038",
   "metadata": {
    "tags": []
   },
   "source": [
    "# Tutorial 3 - Memory\n",
    "\n",
    "## Key Philosophy\n",
    "- It would be important to learn from past experience and improve the agentic framework - memory is key to that\n",
    "- You can add to the memory bank of your Agents pre-inference (by collecting from a pool of data prior to running the Agent), or during inference (add on in between running subtasks)\n",
    "\n",
    "- In general, for the various Memory classes, you use:\n",
    "    - `append(list_of_memories)`: append a list of memories to the memory bank\n",
    "    - `retrieve(task: str)`: retrieves top_k memories based on task \n",
    "    \n",
    "## Use Memory in Agents\n",
    "- Agent class takes `memory_bank` as a parameter during initialisation of an `Agent`\n",
    "- memory_bank: class Dict[Memory]. Stores multiple types of memory for use by the agent. Customise the Memory config within the Memory class."
   ]
  },
  {
   "cell_type": "markdown",
   "id": "3031deae-4ab4-4602-96c4-0fe84e8a4ac7",
   "metadata": {
    "tags": []
   },
   "source": [
    "# Setup Guide"
   ]
  },
  {
   "cell_type": "markdown",
   "id": "2cd60dae-09c2-47d5-afc0-a7b2f23150f3",
   "metadata": {
    "tags": []
   },
   "source": [
    "## Step 1: Install TaskGen"
   ]
  },
  {
   "cell_type": "code",
   "execution_count": 1,
   "id": "f2f1814b-9361-4c18-b809-ea77a4a68cd3",
   "metadata": {
    "tags": []
   },
   "outputs": [],
   "source": [
    "# !pip install taskgen-ai"
   ]
  },
  {
   "cell_type": "markdown",
   "id": "9796e878-2c66-4d8e-a554-ad2830676896",
   "metadata": {},
   "source": [
    "## Step 2: Import required functions and setup relevant API keys for your LLM"
   ]
  },
  {
   "cell_type": "code",
   "execution_count": 2,
   "id": "7bf6cd18-b46e-485e-af95-987f06c7c78e",
   "metadata": {
    "tags": []
   },
   "outputs": [],
   "source": [
    "# Set up API key and do the necessary imports\n",
    "from taskgen import *\n",
    "import os\n",
    "\n",
    "# this is only if you use OpenAI as your LLM\n",
    "os.environ['OPENAI_API_KEY'] = '<YOUR API KEY HERE>'"
   ]
  },
  {
   "cell_type": "markdown",
   "id": "27d0e782-7d4f-44e9-a8ae-aabdf083317e",
   "metadata": {},
   "source": [
    "## Step 3: Define your own LLM\n",
    "- Take in a `system_prompt`, `user_prompt`, and outputs llm response string"
   ]
  },
  {
   "cell_type": "code",
   "execution_count": 3,
   "id": "2920f842-779a-4704-90ca-35e78da4653b",
   "metadata": {
    "tags": []
   },
   "outputs": [],
   "source": [
    "def llm(system_prompt: str, user_prompt: str) -> str:\n",
    "    ''' Here, we use OpenAI for illustration, you can change it to your own LLM '''\n",
    "    # ensure your LLM imports are all within this function\n",
    "    from openai import OpenAI\n",
    "    \n",
    "    # define your own LLM here\n",
    "    client = OpenAI()\n",
    "    response = client.chat.completions.create(\n",
    "        model='gpt-4o-mini',\n",
    "        temperature = 0,\n",
    "        messages=[\n",
    "            {\"role\": \"system\", \"content\": system_prompt},\n",
    "            {\"role\": \"user\", \"content\": user_prompt}\n",
    "        ]\n",
    "    )\n",
    "    return response.choices[0].message.content"
   ]
  },
  {
   "cell_type": "code",
   "execution_count": 4,
   "id": "e5d3fda4-cb90-468d-b367-c6d6923e77d2",
   "metadata": {
    "tags": []
   },
   "outputs": [
    {
     "data": {
      "text/plain": [
       "'Neutral'"
      ]
     },
     "execution_count": 4,
     "metadata": {},
     "output_type": "execute_result"
    }
   ],
   "source": [
    "# Verify that llm function is working\n",
    "llm(system_prompt = 'You are a classifier to classify the sentiment of a sentence', \n",
    "    user_prompt = 'It is a hot and sunny day')"
   ]
  },
  {
   "cell_type": "markdown",
   "id": "b04eacda-4d82-4187-a93e-dd770c95bedc",
   "metadata": {
    "tags": []
   },
   "source": [
    "# Memory Class 1: Base Memory Class"
   ]
  },
  {
   "cell_type": "markdown",
   "id": "24a176e3-fb39-47f2-910e-eb051b4ead77",
   "metadata": {
    "tags": []
   },
   "source": [
    "- In-house Vector DB that can store anything in a Python list for retrieval to augment the Agent's prompt\n",
    "- Retrieves top k memory items based on task \n",
    "- Inputs:\n",
    "    - `memory`: List. Default: Empty List. The list containing the memory items\n",
    "    - `top_k`: Int. Default: 3. The number of memory list items to retrieve\n",
    "    - `mapper`: Function. Maps the memory item to another form for comparison by ranker or LLM. Default: `lambda x: x`\n",
    "        - Example mapping: `lambda x: x.fn_description` (If x is a Class and the string you want to compare for similarity is the fn_description attribute of that class)\n",
    "    - `approach`: str. Either `retrieve_by_ranker` or `retrieve_by_llm` to retrieve memory items.\n",
    "        - Ranker is faster and cheaper as it compares via embeddings, but are inferior to LLM-based methods for contextual information\n",
    "    - `retrieve_fn`: Default: None. Takes in task and outputs top_k similar memories in a list\n",
    "    - `ranker`: `Ranker`. The Ranker which defines a similarity score between a query and a key. Default: OpenAI `text-embedding-3-small` model. \n",
    "        - Can be replaced with a function which returns similarity score from 0 to 1 when given a query and key\n",
    "        \n",
    "## In-built Memory in TaskGen: Function Memory\n",
    "- Default: `memory_bank = {'Function': Memory(top_k = 5, mapper = lambda x: x.fn_description, approach = 'retrieve_by_ranker'), llm = self.llm}`\n",
    "- Does RAG over Task -> Function mapping"
   ]
  },
  {
   "cell_type": "markdown",
   "id": "a04abb86-6f74-4af5-8b72-b26a6029eb9f",
   "metadata": {
    "tags": []
   },
   "source": [
    "## Use Case 1: Filtering Functions by Task\n",
    "- TaskGen chooses `top k` (default k: 5) functions according to similarity to subtask\n",
    "- In addition to `top k` functions, we will also give agent all the compulsory functions\n",
    "    - `is_compulsory` variable of Function set to `True` means that we will always have it as one of the functions for planning and bypass Function RAG\n",
    "    \n",
    "## Example Use Case\n",
    "- Helps to reduce number of functions present in LLM context for more accurate generation\n",
    "```python\n",
    "output = my_agent.run('Calculate 2**10 * (5 + 1) / 10')\n",
    "```\n",
    "`Original Function List: add_numbers, subtract_numbers, add_three_numbers, multiply_numbers, divide_numbers, power_of, GCD_of_two_numbers, modulo_of_numbers, absolute_difference, generate_poem_with_numbers, List_related_words, generate_quote`\n",
    "\n",
    "`Filtered Function Names: add_three_numbers, multiply_numbers, divide_numbers, power_of, modulo_of_numbers`\n"
   ]
  },
  {
   "cell_type": "code",
   "execution_count": 5,
   "id": "72b4bd9f-b3b8-40e5-baec-3f41c616132a",
   "metadata": {
    "tags": []
   },
   "outputs": [],
   "source": [
    "from typing import List\n",
    "import math\n",
    "def sum_numbers(num_list: List[float]) -> float:\n",
    "    '''Adds all numbers in num_list'''\n",
    "    return sum(x for x in num_list)\n",
    "\n",
    "def subtract_numbers(num1: float, num2: float) -> float:\n",
    "    '''Subtracts num1 from num2'''\n",
    "    return num1 - num2\n",
    "\n",
    "def multiply_numbers(num1: float, num2: float) -> float:\n",
    "    '''Multiplies num1 by num2'''\n",
    "    return num1 * num2\n",
    "\n",
    "def divide_numbers(num1: float, num2: float) -> float:\n",
    "    '''Divides num1 by num2'''\n",
    "    if num2 == 0:\n",
    "        return -1\n",
    "    return num1/num2\n",
    "\n",
    "def power_operation(num1: float, num2: float) -> float:\n",
    "    '''Returns num1 to the power of num2 (num1**num2)'''\n",
    "    return math.pow(num1, num2)\n",
    "\n",
    "def greatest_common_divisor(num1: int, num2: int) -> int:\n",
    "    '''Returns greatest common divisor of num1 and num2'''\n",
    "    return math.gcd(num1, num2)\n",
    "\n",
    "def modulo(num1: int, num2: int) -> int:\n",
    "    '''Returns modulo of num1 over num2'''\n",
    "    return num1%num2\n",
    "\n",
    "def absolute_difference(num1: int, num2: int) -> int:\n",
    "    '''Returns absolute difference between num1 and num2'''\n",
    "    return math.abs(num1-num2)\n",
    "\n",
    "# Put this to make sum_numbers always appear for any task and bypass Function RAG\n",
    "sum_numbers = Function(external_fn = sum_numbers, is_compulsory = True)\n",
    "\n",
    "# This is for Internal Functions\n",
    "generate_poem_with_numbers = Function(\"Generates a poem containing <num1: float> and <num2: float>\", output_format = {\"Poem\": \"Poem\"}, fn_name = 'generate_poem_with_numbers', llm = llm)\n",
    "list_related_words = Function(\"Lists out <num: int> words related to <word: str>\", output_format = {\"List of words\": \"List of words, type: list\"}, fn_name = 'list_related_words', llm = llm)\n",
    "generate_quote = Function(\"Generates a quote about <topic: str>\", output_format = {\"Quote\": \"Quote\"}, fn_name = 'generate_quote', llm = llm)"
   ]
  },
  {
   "cell_type": "code",
   "execution_count": 6,
   "id": "3aa5ac81-b850-44ca-a812-44fbe43d9943",
   "metadata": {
    "tags": []
   },
   "outputs": [],
   "source": [
    "my_agent = Agent('Generalist Agent', \n",
    "'''Does everything''',\n",
    "                default_to_llm = False,\n",
    "                llm = llm).assign_functions([sum_numbers, subtract_numbers, multiply_numbers, \n",
    "            divide_numbers, power_operation, greatest_common_divisor, modulo, absolute_difference, \n",
    "            generate_poem_with_numbers, list_related_words, generate_quote])"
   ]
  },
  {
   "cell_type": "code",
   "execution_count": 7,
   "id": "b1a95964-28c6-457b-bda2-49f750013d9f",
   "metadata": {
    "tags": []
   },
   "outputs": [
    {
     "data": {
      "text/plain": [
       "['Name: end_task\\nDescription: Passes the final output to the user\\nInput: []\\nOutput: {}\\n',\n",
       " \"Name: sum_numbers\\nDescription: Adds all numbers in <num_list: list[float]>\\nInput: ['num_list']\\nOutput: {'output_1': 'float'}\\n\",\n",
       " \"Name: subtract_numbers\\nDescription: Subtracts <num1: float> from <num2: float>\\nInput: ['num1', 'num2']\\nOutput: {'output_1': 'float'}\\n\",\n",
       " \"Name: multiply_numbers\\nDescription: Multiplies <num1: float> by <num2: float>\\nInput: ['num1', 'num2']\\nOutput: {'output_1': 'float'}\\n\",\n",
       " \"Name: divide_numbers\\nDescription: Divides <num1: float> by <num2: float>\\nInput: ['num1', 'num2']\\nOutput: {'output_1': 'float'}\\n\",\n",
       " \"Name: power_operation\\nDescription: Returns <num1: float> to the power of <num2: float> (<num1: float>**<num2: float>)\\nInput: ['num1', 'num2']\\nOutput: {'output_1': 'float'}\\n\",\n",
       " \"Name: greatest_common_divisor\\nDescription: Returns greatest common divisor of <num1: int> and <num2: int>\\nInput: ['num1', 'num2']\\nOutput: {'output_1': 'int'}\\n\",\n",
       " \"Name: modulo\\nDescription: Returns modulo of <num1: int> over <num2: int>\\nInput: ['num1', 'num2']\\nOutput: {'output_1': 'int'}\\n\",\n",
       " \"Name: absolute_difference\\nDescription: Returns absolute difference between <num1: int> and <num2: int>\\nInput: ['num1', 'num2']\\nOutput: {'output_1': 'int'}\\n\",\n",
       " \"Name: generate_poem_with_numbers\\nDescription: Generates a poem containing <num1: float> and <num2: float>\\nInput: ['num1', 'num2']\\nOutput: {'Poem': 'Poem'}\\n\",\n",
       " \"Name: list_related_words\\nDescription: Lists out <num: int> words related to <word: str>\\nInput: ['num', 'word']\\nOutput: {'List of words': 'List of words, type: list'}\\n\",\n",
       " \"Name: generate_quote\\nDescription: Generates a quote about <topic: str>\\nInput: ['topic']\\nOutput: {'Quote': 'Quote'}\\n\"]"
      ]
     },
     "execution_count": 7,
     "metadata": {},
     "output_type": "execute_result"
    }
   ],
   "source": [
    "# see the auto-generated names of your functions :)\n",
    "my_agent.list_functions()"
   ]
  },
  {
   "cell_type": "code",
   "execution_count": 8,
   "id": "90dbed97-b966-4dff-b3b6-7beceee67e76",
   "metadata": {
    "tags": []
   },
   "outputs": [],
   "source": [
    "# Configure your top_k for function filtering here, default is 5\n",
    "my_agent.memory_bank['Function'].top_k = 5"
   ]
  },
  {
   "cell_type": "code",
   "execution_count": 9,
   "id": "87357751-5f53-4e4b-adad-0487687d9ef4",
   "metadata": {
    "tags": []
   },
   "outputs": [
    {
     "data": {
      "text/plain": [
       "['modulo',\n",
       " 'subtract_numbers',\n",
       " 'multiply_numbers',\n",
       " 'divide_numbers',\n",
       " 'absolute_difference']"
      ]
     },
     "execution_count": 9,
     "metadata": {},
     "output_type": "execute_result"
    }
   ],
   "source": [
    "# visualise how the Functions are chosen based on task - here you see subtract_numbers appearing at the front\n",
    "# this does not include the compulsory functions\n",
    "[f.fn_name for f in my_agent.memory_bank['Function'].retrieve_by_ranker('Evaluate 3 - 1')]"
   ]
  },
  {
   "cell_type": "code",
   "execution_count": 10,
   "id": "9ac84079-bb50-4fc8-83ac-167685a1b4a8",
   "metadata": {
    "tags": []
   },
   "outputs": [
    {
     "name": "stdout",
     "output_type": "stream",
     "text": [
      "Filtered Function Names: end_task, sum_numbers, subtract_numbers, multiply_numbers, divide_numbers, power_operation, modulo\n",
      "\u001b[1m\u001b[30mObservation: No subtasks have been completed yet for the assigned task of evaluating 2+3.\u001b[0m\n",
      "\u001b[1m\u001b[32mThoughts: To complete the assigned task, I need to perform the addition of the numbers 2 and 3.\u001b[0m\n",
      "\u001b[1m\u001b[34mSubtask identified: Add the numbers 2 and 3 to get the result.\u001b[0m\n",
      "Calling function sum_numbers with parameters {'num_list': [2.0, 3.0]}\n",
      "> {'output_1': 5.0}\n",
      "\n",
      "Filtered Function Names: end_task, sum_numbers, subtract_numbers, multiply_numbers, divide_numbers, power_operation, modulo\n",
      "\u001b[1m\u001b[30mObservation: The sum of the numbers 2 and 3 has been successfully calculated, resulting in 5.0.\u001b[0m\n",
      "\u001b[1m\u001b[32mThoughts: Since the task is to evaluate 2+3 and we have already computed the sum, the next step is to finalize the output and present it to the user.\u001b[0m\n",
      "\u001b[1m\u001b[34mSubtask identified: End Task\u001b[0m\n",
      "Task completed successfully!\n",
      "\n"
     ]
    },
    {
     "data": {
      "text/plain": [
       "[{'output_1': 5.0}]"
      ]
     },
     "execution_count": 10,
     "metadata": {},
     "output_type": "execute_result"
    }
   ],
   "source": [
    "my_agent.reset()\n",
    "my_agent.run('Evaluate 2+3')"
   ]
  },
  {
   "cell_type": "code",
   "execution_count": 11,
   "id": "ed842f9c-84b1-4176-9f70-e97f35e65639",
   "metadata": {
    "tags": []
   },
   "outputs": [
    {
     "name": "stdout",
     "output_type": "stream",
     "text": [
      "Filtered Function Names: end_task, sum_numbers, subtract_numbers, multiply_numbers, divide_numbers, power_operation, modulo\n",
      "\u001b[1m\u001b[30mObservation: No subtasks have been completed yet for the assigned task of evaluating the expression 2**10 * (3+5) / 10.\u001b[0m\n",
      "\u001b[1m\u001b[32mThoughts: To complete the assigned task, I need to break down the expression into manageable parts. First, I can calculate the exponentiation 2**10, then evaluate the sum (3+5), and finally perform the multiplication and division.\u001b[0m\n",
      "\u001b[1m\u001b[34mSubtask identified: Calculate 2 raised to the power of 10.\u001b[0m\n",
      "Calling function power_operation with parameters {'num1': 2.0, 'num2': 10.0}\n",
      "> {'output_1': 1024.0}\n",
      "\n",
      "Filtered Function Names: end_task, sum_numbers, subtract_numbers, multiply_numbers, divide_numbers, power_operation, modulo\n",
      "\u001b[1m\u001b[30mObservation: The power operation has been completed, calculating 2 raised to the power of 10, resulting in 1024.0.\u001b[0m\n",
      "\u001b[1m\u001b[32mThoughts: Next, I need to evaluate the expression (3+5) and then multiply the result by 1024.0. After that, I will divide the product by 10 to complete the assigned task.\u001b[0m\n",
      "\u001b[1m\u001b[34mSubtask identified: Calculate the sum of 3 and 5, then multiply the result by 1024.0.\u001b[0m\n",
      "Calling function sum_numbers with parameters {'num_list': [3.0, 5.0]}\n",
      "> {'output_1': 8.0}\n",
      "\n",
      "Filtered Function Names: end_task, sum_numbers, subtract_numbers, multiply_numbers, divide_numbers, power_operation, modulo\n",
      "\u001b[1m\u001b[30mObservation: The power operation has been completed, resulting in 1024.0, and the sum of 3 and 5 has been calculated, yielding 8.0.\u001b[0m\n",
      "\u001b[1m\u001b[32mThoughts: To complete the remainder of the task, I need to multiply the result of the power operation (1024.0) by the sum (8.0) and then divide that product by 10.\u001b[0m\n",
      "\u001b[1m\u001b[34mSubtask identified: Multiply 1024.0 by 8.0 and then divide the result by 10.\u001b[0m\n",
      "Calling function multiply_numbers with parameters {'num1': 1024.0, 'num2': 8.0}\n",
      "> {'output_1': 8192.0}\n",
      "\n",
      "Filtered Function Names: end_task, sum_numbers, subtract_numbers, multiply_numbers, divide_numbers, power_operation, modulo\n",
      "\u001b[1m\u001b[30mObservation: The power operation has been completed, resulting in 1024.0. The sum of 3 and 5 has been calculated as 8.0. The multiplication of 1024.0 and 8.0 has been performed, yielding 8192.0. The next step is to divide this result by 10.\u001b[0m\n",
      "\u001b[1m\u001b[32mThoughts: To complete the assigned task, I need to divide the result of 8192.0 by 10. This will give the final output for the expression 2**10 * (3+5) / 10.\u001b[0m\n",
      "\u001b[1m\u001b[34mSubtask identified: Perform the division of 8192.0 by 10 to finalize the evaluation of the assigned task.\u001b[0m\n",
      "Calling function divide_numbers with parameters {'num1': 8192.0, 'num2': 10.0}\n",
      "> {'output_1': 819.2}\n",
      "\n",
      "Filtered Function Names: end_task, sum_numbers, subtract_numbers, multiply_numbers, divide_numbers, power_operation, modulo\n",
      "\u001b[1m\u001b[30mObservation: The calculation for the expression 2**10 * (3+5) / 10 has been completed successfully. The power operation was performed to get 1024.0, the sum of 3 and 5 was calculated to be 8.0, then these results were multiplied to yield 8192.0, and finally, the division by 10 resulted in 819.2.\u001b[0m\n",
      "\u001b[1m\u001b[32mThoughts: The assigned task has been fully completed as the final result of the expression has been calculated. The next step is to finalize and present this output to the user.\u001b[0m\n",
      "\u001b[1m\u001b[34mSubtask identified: End Task\u001b[0m\n",
      "Task completed successfully!\n",
      "\n"
     ]
    }
   ],
   "source": [
    "my_agent.reset()\n",
    "output = my_agent.run('Evaluate 2**10 * (3+5) / 10')"
   ]
  },
  {
   "cell_type": "code",
   "execution_count": 12,
   "id": "1d0a41b3-b7ee-4763-a73f-4fbd9daaf181",
   "metadata": {
    "tags": []
   },
   "outputs": [
    {
     "name": "stdout",
     "output_type": "stream",
     "text": [
      "To evaluate the expression 2**10 * (3+5) / 10, we can break it down using the subtasks completed. First, we calculate 2**10, which is 1024. This value was obtained from the subtask power_operation(num1=2.0, num2=10.0) with an output of 1024. Next, we calculate (3+5), which equals 8. This sum was derived from the subtask sum_numbers(num_list=[3.0, 5.0]) with an output of 8. Now, we multiply these two results: 1024 * 8, which gives us 8192. This multiplication was confirmed by the subtask multiply_numbers(num1=1024.0, num2=8.0) with an output of 8192. Finally, we divide this result by 10: 8192 / 10, which equals 819.2. This division was validated by the subtask divide_numbers(num1=8192.0, num2=10.0) with an output of 819.2. Therefore, the final result of the expression 2**10 * (3+5) / 10 is 819.2.\n"
     ]
    },
    {
     "data": {
      "text/plain": [
       "'To evaluate the expression 2**10 * (3+5) / 10, we can break it down using the subtasks completed. First, we calculate 2**10, which is 1024. This value was obtained from the subtask power_operation(num1=2.0, num2=10.0) with an output of 1024. Next, we calculate (3+5), which equals 8. This sum was derived from the subtask sum_numbers(num_list=[3.0, 5.0]) with an output of 8. Now, we multiply these two results: 1024 * 8, which gives us 8192. This multiplication was confirmed by the subtask multiply_numbers(num1=1024.0, num2=8.0) with an output of 8192. Finally, we divide this result by 10: 8192 / 10, which equals 819.2. This division was validated by the subtask divide_numbers(num1=8192.0, num2=10.0) with an output of 819.2. Therefore, the final result of the expression 2**10 * (3+5) / 10 is 819.2.'"
      ]
     },
     "execution_count": 12,
     "metadata": {},
     "output_type": "execute_result"
    }
   ],
   "source": [
    "my_agent.reply_user()"
   ]
  },
  {
   "cell_type": "code",
   "execution_count": 13,
   "id": "1ba75a65-7590-4552-a461-ec717d58a1f2",
   "metadata": {
    "tags": []
   },
   "outputs": [
    {
     "name": "stdout",
     "output_type": "stream",
     "text": [
      "Agent Name: Generalist Agent\n",
      "Agent Description: Does everything\n",
      "Available Functions: ['end_task', 'sum_numbers', 'subtract_numbers', 'multiply_numbers', 'divide_numbers', 'power_operation', 'greatest_common_divisor', 'modulo', 'absolute_difference', 'generate_poem_with_numbers', 'list_related_words', 'generate_quote']\n",
      "Shared Variables: ['agent']\n",
      "\u001b[1m\u001b[32mTask: Evaluate 2**10 * (3+5) / 10\u001b[0m\n",
      "\u001b[1m\u001b[30mSubtasks Completed:\u001b[0m\n",
      "\u001b[1m\u001b[34mSubtask: power_operation(num1=2.0, num2=10.0)\u001b[0m\n",
      "{'output_1': 1024.0}\n",
      "\n",
      "\u001b[1m\u001b[34mSubtask: sum_numbers(num_list=[3.0, 5.0])\u001b[0m\n",
      "{'output_1': 8.0}\n",
      "\n",
      "\u001b[1m\u001b[34mSubtask: multiply_numbers(num1=1024.0, num2=8.0)\u001b[0m\n",
      "{'output_1': 8192.0}\n",
      "\n",
      "\u001b[1m\u001b[34mSubtask: divide_numbers(num1=8192.0, num2=10.0)\u001b[0m\n",
      "{'output_1': 819.2}\n",
      "\n",
      "\u001b[1m\u001b[34mSubtask: Evaluate 2**10 * (3+5) / 10\u001b[0m\n",
      "To evaluate the expression 2**10 * (3+5) / 10, we can break it down using the subtasks completed. First, we calculate 2**10, which is 1024. This value was obtained from the subtask power_operation(num1=2.0, num2=10.0) with an output of 1024. Next, we calculate (3+5), which equals 8. This sum was derived from the subtask sum_numbers(num_list=[3.0, 5.0]) with an output of 8. Now, we multiply these two results: 1024 * 8, which gives us 8192. This multiplication was confirmed by the subtask multiply_numbers(num1=1024.0, num2=8.0) with an output of 8192. Finally, we divide this result by 10: 8192 / 10, which equals 819.2. This division was validated by the subtask divide_numbers(num1=8192.0, num2=10.0) with an output of 819.2. Therefore, the final result of the expression 2**10 * (3+5) / 10 is 819.2.\n",
      "\n",
      "Is Task Completed: True\n"
     ]
    }
   ],
   "source": [
    "my_agent.status()"
   ]
  },
  {
   "cell_type": "markdown",
   "id": "6260e2ee-5eae-44fb-8b70-76da88e16822",
   "metadata": {},
   "source": [
    "## Use Case 2: Adding more context based on task\n",
    "- You can add task-dependent context to the memory_bank so that `top k` will be added to prompt based on task"
   ]
  },
  {
   "cell_type": "markdown",
   "id": "e6ace029-fde1-42f7-b2e2-cb34431ad9e3",
   "metadata": {},
   "source": [
    "### Using `memory_bank` for more context\n",
    "- Here, we have a mapping of nonsense words to numbers\n",
    "- Based on the subtask, we will augment the system prompt with relevant mappings to aid planning"
   ]
  },
  {
   "cell_type": "code",
   "execution_count": 14,
   "id": "79cf809e-f14f-4c56-b070-87289a22df25",
   "metadata": {
    "tags": []
   },
   "outputs": [],
   "source": [
    "# first append more context to the agent\n",
    "my_agent = Agent('Poem Creator', 'Create a poem according to a name', llm = llm)\n",
    "my_agent.memory_bank['Task Instructions'] = Memory(['For John, generate a poem about the sun', \n",
    "'For Mary, generate a poem about the wind', \n",
    "'For Peter, generate a poem about the sea'], # some task-specific instructions\n",
    "            top_k = 1,  # choose top 5\n",
    "            mapper = lambda x: x) # we compare with the task using only the first word, e.g. Azo, Boneti, Andkh"
   ]
  },
  {
   "cell_type": "code",
   "execution_count": 15,
   "id": "60aa15b8-9bf5-4339-a264-11ea93157164",
   "metadata": {
    "tags": []
   },
   "outputs": [
    {
     "name": "stdout",
     "output_type": "stream",
     "text": [
      "\u001b[1m\u001b[30mObservation: No subtasks have been completed yet for the assigned task of creating a poem for John.\u001b[0m\n",
      "\u001b[1m\u001b[32mThoughts: To complete the assigned task, I need to generate a poem about the sun specifically for John.\u001b[0m\n",
      "\u001b[1m\u001b[34mSubtask identified: Generate a poem about the sun for John.\u001b[0m\n",
      "Getting LLM to perform the following task: Generate a poem about the sun for John.\n",
      "> In the golden embrace of dawn, John awakens to the sun, a radiant orb that dances across the sky, painting the world in hues of amber and gold. The sun, a timeless companion, rises with a gentle warmth, casting away the shadows of the night. Its rays stretch out like fingers, caressing the earth, igniting the flowers to bloom and the birds to sing. Each morning, it whispers promises of new beginnings, illuminating the path ahead with hope and joy. As the day unfolds, the sun reigns supreme, a beacon of light that inspires dreams and fuels the spirit. In the evening, it bids farewell, sinking into the horizon, leaving behind a canvas of fiery colors, a reminder of the beauty that each day holds. For John, the sun is not just a celestial body; it is a symbol of life, love, and endless possibilities.\n",
      "\n",
      "\u001b[1m\u001b[30mObservation: A poem about the sun for John has been successfully generated, capturing the essence of the sun and its significance in John's life.\u001b[0m\n",
      "\u001b[1m\u001b[32mThoughts: Since the poem about the sun is complete, the next step is to finalize the task and present the poem to the user.\u001b[0m\n",
      "\u001b[1m\u001b[34mSubtask identified: End Task\u001b[0m\n",
      "Task completed successfully!\n",
      "\n"
     ]
    }
   ],
   "source": [
    "# If name is present in memory, can use this information (e.g. John -> sun)\n",
    "my_agent.reset()\n",
    "output = my_agent.run('John')"
   ]
  },
  {
   "cell_type": "code",
   "execution_count": 16,
   "id": "fb0e121c-d22f-42ec-a1c7-88fbb7af44f4",
   "metadata": {
    "tags": []
   },
   "outputs": [
    {
     "name": "stdout",
     "output_type": "stream",
     "text": [
      "\u001b[1m\u001b[30mObservation: No subtasks have been completed yet for the assigned task of creating a poem about Isaac Newton.\u001b[0m\n",
      "\u001b[1m\u001b[32mThoughts: To complete the assigned task, I need to generate a poem that reflects the life, achievements, and contributions of Isaac Newton. I can use the general function to create a poem since there are no specific instructions provided for this name.\u001b[0m\n",
      "\u001b[1m\u001b[34mSubtask identified: Generate a poem about Isaac Newton using the equipped function.\u001b[0m\n",
      "Getting LLM to perform the following task: Generate a poem about Isaac Newton using the equipped function.\n",
      "> In the realm of science, a mind so bright, Isaac Newton, a beacon of light. With a gaze to the heavens, he pondered the stars, Unraveling mysteries, near and far. The apple that fell, a tale we all know, Inspired the laws of motion, a brilliant show. Gravity’s pull, a force so profound, In every small action, his genius is found. Calculus born from his quest for the truth, A tool for the ages, the wisdom of youth. Optics revealed, with prisms in hand, The spectrum of colors, a vibrant band. From the laws of the cosmos to the earth’s gentle sway, Newton’s legacy shines, guiding our way. So here’s to the thinker, the scholar, the sage, Whose insights and theories still light up the page. In the book of great minds, his name holds a place, Isaac Newton, forever, in the annals of grace.\n",
      "\n",
      "\u001b[1m\u001b[30mObservation: A poem about Isaac Newton has been successfully generated, capturing his contributions to science and his lasting legacy.\u001b[0m\n",
      "\u001b[1m\u001b[32mThoughts: Since the poem is complete, the next step is to finalize the task and present the output to the user.\u001b[0m\n",
      "\u001b[1m\u001b[34mSubtask identified: End Task\u001b[0m\n",
      "Task completed successfully!\n",
      "\n"
     ]
    }
   ],
   "source": [
    "# If the name is not in the memory, it will be interpreted according to the actual input\n",
    "my_agent.reset()\n",
    "output = my_agent.run('Isaac Newton')"
   ]
  },
  {
   "cell_type": "markdown",
   "id": "8cb509e2",
   "metadata": {},
   "source": [
    "## Use Case 3: Add memory directly using pdf, docx, csv, xls files\n",
    "Adding memory elements one by one can be cumbersome, TaskGen memory can take filepath as input and it will split the text content inside the file path either using default splitter or user provided splitter.\n",
    "\n",
    "- We currently support `pdf`, `docx`, `csv`, `xls` files\n",
    "- You can also input own `text_splitter` function which takes in text and returns a list of splitted text by that function. Default: LangChain's RecursiveCharacterTextSplitter\n",
    "- We recommend the async method for faster accessing of memory\n",
    "\n",
    "Example:\n",
    "\n",
    "`memory = Memory(top_k = 5)`\n",
    "\n",
    "`memory.add_file(file_path)`\n"
   ]
  },
  {
   "cell_type": "code",
   "execution_count": 17,
   "id": "829dbc54",
   "metadata": {
    "tags": []
   },
   "outputs": [
    {
     "name": "stdout",
     "output_type": "stream",
     "text": [
      "Time taken to run the code: 125.64608001708984 seconds\n"
     ]
    }
   ],
   "source": [
    "# ## Run the sync version of add_file (Not recommended)\n",
    "import time\n",
    "\n",
    "start_time = time.time()\n",
    "memory = Memory(top_k = 1)\n",
    "memory.add_file(filepath=\"./react.pdf\")\n",
    "memory.retrieve_by_ranker('What is react')\n",
    "\n",
    "end_time = time.time()\n",
    "print(\"Time taken to run the code:\", end_time - start_time, \"seconds\")"
   ]
  },
  {
   "cell_type": "code",
   "execution_count": 18,
   "id": "d697ee92",
   "metadata": {
    "tags": []
   },
   "outputs": [
    {
     "name": "stdout",
     "output_type": "stream",
     "text": [
      "Time taken to run the code: 46.31857204437256 seconds\n"
     ]
    }
   ],
   "source": [
    "# Async version of memory (Faster)\n",
    "import time\n",
    "\n",
    "start_time = time.time()\n",
    "async_memory = AsyncMemory(top_k = 1)\n",
    "async_memory.add_file(filepath=\"./react.pdf\")\n",
    "await async_memory.retrieve_by_ranker('What is react')\n",
    "\n",
    "end_time = time.time()\n",
    "print(\"Time taken to run the code:\", end_time - start_time, \"seconds\")"
   ]
  },
  {
   "cell_type": "code",
   "execution_count": 40,
   "id": "d457badb-ffba-42c8-8e38-c7c1876243c7",
   "metadata": {
    "tags": []
   },
   "outputs": [],
   "source": [
    "async def llm_async(system_prompt: str, user_prompt: str):\n",
    "    ''' Here, we use OpenAI for illustration, you can change it to your own LLM '''\n",
    "    # ensure your LLM imports are all within this function\n",
    "    from openai import AsyncOpenAI\n",
    "    \n",
    "    # define your own LLM here\n",
    "    client = AsyncOpenAI()\n",
    "    response = await client.chat.completions.create(\n",
    "        model='gpt-4o-mini',\n",
    "        temperature = 0,\n",
    "        messages=[\n",
    "            {\"role\": \"system\", \"content\": system_prompt},\n",
    "            {\"role\": \"user\", \"content\": user_prompt}\n",
    "        ]\n",
    "    )\n",
    "    return response.choices[0].message.content"
   ]
  },
  {
   "cell_type": "code",
   "execution_count": 41,
   "id": "1ed211d2-fedf-4172-a7c3-5f3c3b3d3513",
   "metadata": {
    "tags": []
   },
   "outputs": [],
   "source": [
    "# Equip this memory to the Agent and use it to answer a question\n",
    "agent = AsyncAgent('Content Answerer', 'Replies to questions factually based on given memory', llm = llm_async)"
   ]
  },
  {
   "cell_type": "code",
   "execution_count": 42,
   "id": "9253c639-df16-4479-8ad6-601b4a091563",
   "metadata": {
    "tags": []
   },
   "outputs": [],
   "source": [
    "agent.memory_bank['Document'] = async_memory"
   ]
  },
  {
   "cell_type": "code",
   "execution_count": 43,
   "id": "5433055b-ac0c-416e-b2f8-20f9a76ce0c1",
   "metadata": {
    "tags": []
   },
   "outputs": [
    {
     "name": "stdout",
     "output_type": "stream",
     "text": [
      "\u001b[1m\u001b[30mObservation: No subtasks have been completed yet, but I have a knowledge reference that describes ReAct as a method that integrates model actions and observations for improved reasoning and interactive decision making.\u001b[0m\n",
      "\u001b[1m\u001b[32mThoughts: To complete the remainder of the Assigned Task, I need to provide a clear and concise explanation of what ReAct is, utilizing the knowledge reference I have. I can summarize the key points about its functionality and applications.\u001b[0m\n",
      "\u001b[1m\u001b[34mSubtask identified: Summarize the concept of ReAct based on the provided knowledge reference, focusing on its integration of model actions and observations for enhanced reasoning and decision making.\u001b[0m\n",
      "Getting LLM to perform the following task: Summarize the concept of ReAct based on the provided knowledge reference, focusing on its integration of model actions and observations for enhanced reasoning and decision making.\n",
      "> ReAct is a method that transcends traditional reasoning approaches by integrating model actions with their corresponding observations. This integration creates a continuous flow of inputs that enhances the model’s ability to reason accurately. Unlike fixed reasoning methods, ReAct allows for a more dynamic interaction, enabling the model to engage in tasks that require not only reasoning but also interactive decision-making. This capability makes ReAct particularly effective in scenarios where adaptability and responsiveness to changing inputs are crucial for successful outcomes.\n",
      "\n",
      "\u001b[1m\u001b[30mObservation: The concept of ReAct has been summarized, highlighting its integration of model actions and observations for improved reasoning and decision-making. It emphasizes the dynamic nature of ReAct compared to traditional reasoning methods.\u001b[0m\n",
      "\u001b[1m\u001b[32mThoughts: To complete the remainder of the Assigned Task, I need to provide a concise definition of ReAct and possibly elaborate on its applications or benefits in various scenarios.\u001b[0m\n",
      "\u001b[1m\u001b[34mSubtask identified: Provide a clear and concise definition of ReAct, along with examples of its applications in real-world scenarios.\u001b[0m\n",
      "Getting LLM to perform the following task: Provide a clear and concise definition of ReAct, along with examples of its applications in real-world scenarios.\n",
      "> ReAct, short for Reasoning and Acting, is an advanced framework that combines reasoning processes with actionable responses, allowing models to perform tasks that require both cognitive reasoning and interactive decision-making. This approach is particularly beneficial in environments where inputs are dynamic and require real-time adjustments. \n",
      "\n",
      "For example, in the realm of question answering (QA), ReAct can be utilized to not only retrieve information but also to adapt its responses based on user interactions, leading to more relevant and context-aware answers. In fact verification, ReAct can assess claims against a backdrop of evidence, dynamically adjusting its reasoning as new information is presented. \n",
      "\n",
      "In text-based games, ReAct enables players to engage with the game world in a more immersive manner, as the model can interpret player actions and respond with appropriate narrative developments. Additionally, in web navigation, ReAct can enhance user experience by providing tailored recommendations based on user behavior and preferences, making the navigation process more intuitive and efficient. Overall, ReAct's integration of reasoning and action positions it as a versatile tool across various domains, enhancing both performance and user engagement.\n",
      "\n",
      "\u001b[1m\u001b[30mObservation: The concept of ReAct has been summarized and defined, highlighting its integration of reasoning and actions for enhanced decision-making. Examples of its applications in various real-world scenarios have also been provided.\u001b[0m\n",
      "\u001b[1m\u001b[32mThoughts: The remainder of the Assigned Task involves ensuring that the information provided is clear and accessible to the user. This can be achieved by presenting the summarized information in a user-friendly format and confirming that the user has all the necessary details about ReAct.\u001b[0m\n",
      "\u001b[1m\u001b[34mSubtask identified: End Task\u001b[0m\n",
      "Task completed successfully!\n",
      "\n"
     ]
    },
    {
     "data": {
      "text/plain": [
       "['ReAct is a method that transcends traditional reasoning approaches by integrating model actions with their corresponding observations. This integration creates a continuous flow of inputs that enhances the model’s ability to reason accurately. Unlike fixed reasoning methods, ReAct allows for a more dynamic interaction, enabling the model to engage in tasks that require not only reasoning but also interactive decision-making. This capability makes ReAct particularly effective in scenarios where adaptability and responsiveness to changing inputs are crucial for successful outcomes.',\n",
       " \"ReAct, short for Reasoning and Acting, is an advanced framework that combines reasoning processes with actionable responses, allowing models to perform tasks that require both cognitive reasoning and interactive decision-making. This approach is particularly beneficial in environments where inputs are dynamic and require real-time adjustments. \\n\\nFor example, in the realm of question answering (QA), ReAct can be utilized to not only retrieve information but also to adapt its responses based on user interactions, leading to more relevant and context-aware answers. In fact verification, ReAct can assess claims against a backdrop of evidence, dynamically adjusting its reasoning as new information is presented. \\n\\nIn text-based games, ReAct enables players to engage with the game world in a more immersive manner, as the model can interpret player actions and respond with appropriate narrative developments. Additionally, in web navigation, ReAct can enhance user experience by providing tailored recommendations based on user behavior and preferences, making the navigation process more intuitive and efficient. Overall, ReAct's integration of reasoning and action positions it as a versatile tool across various domains, enhancing both performance and user engagement.\"]"
      ]
     },
     "execution_count": 43,
     "metadata": {},
     "output_type": "execute_result"
    }
   ],
   "source": [
    "await agent.run('What is ReAct?')"
   ]
  },
  {
   "cell_type": "markdown",
   "id": "d62778ea-61a4-4436-8394-478e8931c64f",
   "metadata": {
    "tags": []
   },
   "source": [
    "# Memory Class 2: ChromaDB Memory"
   ]
  },
  {
   "cell_type": "markdown",
   "id": "b64f1982",
   "metadata": {},
   "source": [
    "## What is it?\n",
    "\n",
    "ChromaDB Memory is a tool for storing and retrieving text-based information (like documents or tasks) using vector database technology.\n",
    "\n",
    "- Takes in the following parameters:\n",
    "    - `collection_name`: str. Compulsory. Name of the memory. Need to provide a unique name so that we can disambiguate between collections\n",
    "    - `client` - Default: None. ChromaDB client to use, if any\n",
    "    - `embedding_model`: Name of OpenAI's embedding_model to use with ChromaDB. Default OpenAI \"text-embedding-3-small\"\n",
    "    - `top_k`: Number of elements to retrieve. Default: 3\n",
    "    - `mapper`: Function. Maps the memory value to the embedded value. We do not need to embed the whole value, so this will serve as a way to tell us what to embed. Default: lambda x: x\n",
    "     - `pre_delete`: Bool. Default: False. If set to True, delete collection with all data inside it when initialising'''\n",
    "\n",
    "## Basic Usage\n",
    "\n",
    "### Initialize\n",
    "\n",
    "```python\n",
    "memory = ChromaDbMemory(collection_name = \"collection_name\", top_k=5)\n",
    "```\n",
    "\n",
    "### Add Information\n",
    "\n",
    "```python\n",
    "memory.append([\"Task: Implement login feature\", \"Task: Fix homepage bug\"])\n",
    "```\n",
    "\n",
    "### Retrieve Information\n",
    "\n",
    "```python\n",
    "results = memory.retrieve(\"login feature\")\n",
    "```\n",
    "\n",
    "### Remove Information\n",
    "\n",
    "```python\n",
    "memory.remove([\"Task: Implement login feature\"])\n",
    "```\n",
    "\n",
    "### Reset Entire ChromaDB colllection\n",
    "\n",
    "```python\n",
    "memory.reset()\n",
    "```\n",
    "\n",
    "## Async Version\n",
    "\n",
    "For applications needing asynchronous operations, use `AsyncChromaDbMemory`:\n",
    "\n",
    "```python\n",
    "async_memory = AsyncChromaDbMemory(top_k=5)\n",
    "\n",
    "await async_memory.append([\"Async task 1\", \"Async task 2\"])\n",
    "await async_memory.retrieve(\"task\")\n",
    "```\n",
    "\n",
    "## Tips\n",
    "\n",
    "- Use `add_file()` to add content from text files.\n",
    "- You can customize how information is stored using the `mapper` parameter when initializing.\n",
    "- For better performance in large applications, consider using a persistent ChromaDB client.\n"
   ]
  },
  {
   "cell_type": "code",
   "execution_count": 23,
   "id": "5509aafa",
   "metadata": {
    "tags": []
   },
   "outputs": [],
   "source": [
    "# Sync \n",
    "memory = ChromaDbMemory(collection_name = 'new_collection', mapper = lambda x: x['text'], top_k = 2)\n",
    "memory.append([{ 'text': 'This is One', 'number': 1}, {'text': 'This is Two', 'number': 2}, {'text': 'This is Three', 'number': 3},     \n",
    "               {'text': 'This is Four', 'number': 4}, {'text': 'This is Five', 'number': 5}])"
   ]
  },
  {
   "cell_type": "code",
   "execution_count": 24,
   "id": "4375f1a1-46c6-47a8-aa26-9117e3c88ed4",
   "metadata": {
    "tags": []
   },
   "outputs": [
    {
     "data": {
      "text/plain": [
       "[{'number': 4, 'text': 'This is Four'},\n",
       " {'number': 5, 'text': 'This is Five'},\n",
       " {'number': 6, 'text': 'This is Six'},\n",
       " {'number': 6, 'text': 'This is Six'},\n",
       " {'number': 3, 'text': 'This is Three'}]"
      ]
     },
     "execution_count": 24,
     "metadata": {},
     "output_type": "execute_result"
    }
   ],
   "source": [
    "# view the chunks\n",
    "memory.collection.peek(5)['metadatas']"
   ]
  },
  {
   "cell_type": "code",
   "execution_count": 25,
   "id": "1678dfb7",
   "metadata": {
    "tags": []
   },
   "outputs": [
    {
     "data": {
      "text/plain": [
       "[{'number': 1, 'text': 'This is One'}, {'number': 2, 'text': 'This is Two'}]"
      ]
     },
     "execution_count": 25,
     "metadata": {},
     "output_type": "execute_result"
    }
   ],
   "source": [
    "memory.retrieve(\"What is one\")"
   ]
  },
  {
   "cell_type": "code",
   "execution_count": 26,
   "id": "d1da680a",
   "metadata": {
    "tags": []
   },
   "outputs": [
    {
     "data": {
      "text/plain": [
       "[{'number': 6, 'text': 'This is Six'}, {'number': 6, 'text': 'This is Six'}]"
      ]
     },
     "execution_count": 26,
     "metadata": {},
     "output_type": "execute_result"
    }
   ],
   "source": [
    "memory.append({'text': 'This is Six', 'number': 6})\n",
    "memory.retrieve(\"What is six\")"
   ]
  },
  {
   "cell_type": "code",
   "execution_count": 27,
   "id": "83e6ca2a",
   "metadata": {
    "tags": []
   },
   "outputs": [
    {
     "name": "stdout",
     "output_type": "stream",
     "text": [
      "Removing memory: This is One\n"
     ]
    }
   ],
   "source": [
    "memory.remove([\"This is One\"])"
   ]
  },
  {
   "cell_type": "code",
   "execution_count": 28,
   "id": "b1485cda",
   "metadata": {
    "tags": []
   },
   "outputs": [
    {
     "data": {
      "text/plain": [
       "[{'number': 6, 'text': 'This is Six'},\n",
       " {'number': 4, 'text': 'This is Four'},\n",
       " {'number': 5, 'text': 'This is Five'},\n",
       " {'number': 6, 'text': 'This is Six'},\n",
       " {'number': 6, 'text': 'This is Six'}]"
      ]
     },
     "execution_count": 28,
     "metadata": {},
     "output_type": "execute_result"
    }
   ],
   "source": [
    "# view the chunks\n",
    "memory.collection.peek(5)['metadatas']"
   ]
  },
  {
   "cell_type": "code",
   "execution_count": 29,
   "id": "6c6e4a1b",
   "metadata": {
    "tags": []
   },
   "outputs": [],
   "source": [
    "# Async (if we are using a sync client for ChromaDb, it will use the sync functions)\n",
    "memory = AsyncChromaDbMemory(collection_name = 'new_collection_async', mapper = lambda x: x['text'], top_k = 2)"
   ]
  },
  {
   "cell_type": "code",
   "execution_count": 30,
   "id": "db1b19ab-9827-4ed8-a397-803ac0c47960",
   "metadata": {
    "tags": []
   },
   "outputs": [],
   "source": [
    "await memory.append([{ 'text': 'This is One', 'number': 1}, {'text': 'This is Two', 'number': 2}, {'text': 'This is Three', 'number': 3},     \n",
    "     {'text': 'This is Four', 'number': 4}, {'text': 'This is Five', 'number': 5}])"
   ]
  },
  {
   "cell_type": "code",
   "execution_count": 31,
   "id": "e9a714d2-e4df-4d1d-8b57-4a43b92f7bab",
   "metadata": {},
   "outputs": [
    {
     "data": {
      "text/plain": [
       "[{'number': 3, 'text': 'This is Three'},\n",
       " {'number': 1, 'text': 'This is One'},\n",
       " {'number': 2, 'text': 'This is Two'},\n",
       " {'number': 4, 'text': 'This is Four'},\n",
       " {'number': 5, 'text': 'This is Five'}]"
      ]
     },
     "execution_count": 31,
     "metadata": {},
     "output_type": "execute_result"
    }
   ],
   "source": [
    "# view the chunks\n",
    "memory.collection.peek(5)['metadatas']"
   ]
  },
  {
   "cell_type": "code",
   "execution_count": 32,
   "id": "c0f260da",
   "metadata": {
    "tags": []
   },
   "outputs": [
    {
     "data": {
      "text/plain": [
       "[{'number': 1, 'text': 'This is One'}, {'number': 2, 'text': 'This is Two'}]"
      ]
     },
     "execution_count": 32,
     "metadata": {},
     "output_type": "execute_result"
    }
   ],
   "source": [
    "await memory.retrieve(\"What is one\")"
   ]
  },
  {
   "cell_type": "code",
   "execution_count": 33,
   "id": "03cf6d4d",
   "metadata": {
    "tags": []
   },
   "outputs": [],
   "source": [
    "await memory.reset()"
   ]
  },
  {
   "cell_type": "code",
   "execution_count": 34,
   "id": "82bf9631",
   "metadata": {
    "tags": []
   },
   "outputs": [],
   "source": [
    "memory = AsyncChromaDbMemory(collection_name = \"file_collection\", top_k = 1)\n",
    "await memory.add_file(filepath=\"./react.pdf\")"
   ]
  },
  {
   "cell_type": "code",
   "execution_count": 35,
   "id": "3ec4e4c5",
   "metadata": {
    "tags": []
   },
   "outputs": [
    {
     "data": {
      "text/plain": [
       "[{'content': '.\\nIn contrast to these methods, ReAct performs more than just isolated, ﬁxed reasoning, and integrates\\nmodel actions and their corresponding observations into a coherent stream of inputs for the model to\\nreason more accurately and tackle tasks beyond reasoning (e.g. interactive decision making)',\n",
       "  'filepath': './react.pdf'}]"
      ]
     },
     "execution_count": 35,
     "metadata": {},
     "output_type": "execute_result"
    }
   ],
   "source": [
    "await memory.retrieve(\"What is react\")"
   ]
  },
  {
   "cell_type": "markdown",
   "id": "527aa813-4d3b-42ab-8450-c87d01af4d7b",
   "metadata": {
    "tags": []
   },
   "source": [
    "## For even faster ChromaDB experience, use an Async Client"
   ]
  },
  {
   "cell_type": "code",
   "execution_count": 36,
   "id": "02ab0222",
   "metadata": {
    "tags": []
   },
   "outputs": [],
   "source": [
    "# Chroma db with external Async Client\n",
    "# For below experiment you need to follow following steps to run chromadb server\n",
    "    # git clone https://github.com/chroma-core/chroma\n",
    "    # cd chroma\n",
    "    # docker-compose up -d --build"
   ]
  },
  {
   "cell_type": "code",
   "execution_count": 37,
   "id": "f7df8d20-a4a2-42e6-962e-dd092d7342d7",
   "metadata": {},
   "outputs": [],
   "source": [
    "# import chromadb\n",
    "# chroma_client = await chromadb.AsyncHttpClient(host=\"localhost\", port=8000)\n",
    "# memory = AsyncChromaDbMemory(collection_name = \"1234_collection\",top_k = 1, client = chroma_client)\n",
    "# await memory.add_file(filepath=\"./react.pdf\")"
   ]
  },
  {
   "cell_type": "code",
   "execution_count": 38,
   "id": "449fe54e",
   "metadata": {
    "tags": []
   },
   "outputs": [],
   "source": [
    "# await memory.retrieve(\"What is react\")"
   ]
  }
 ],
 "metadata": {
  "kernelspec": {
   "display_name": "Python 3 (ipykernel)",
   "language": "python",
   "name": "python3"
  },
  "language_info": {
   "codemirror_mode": {
    "name": "ipython",
    "version": 3
   },
   "file_extension": ".py",
   "mimetype": "text/x-python",
   "name": "python",
   "nbconvert_exporter": "python",
   "pygments_lexer": "ipython3",
   "version": "3.11.3"
  }
 },
 "nbformat": 4,
 "nbformat_minor": 5
}
