{
 "cells": [
  {
   "cell_type": "markdown",
   "id": "2fa1e388-b8f4-4fa3-be5a-ba7c6caae038",
   "metadata": {
    "tags": []
   },
   "source": [
    "# Tutorial 3 - Memory\n",
    "\n",
    "## Key Philosophy\n",
    "- It would be important to learn from past experience and improve the agentic framework - memory is key to that\n",
    "- You can add to the memory bank of your Agents pre-inference (by collecting from a pool of data prior to running the Agent), or during inference (add on in between running subtasks)\n",
    "\n",
    "- **This Notebook will be revamped to make it clearer for the usage of append(), bulk_add() and retrieve() functions for the various Memory classes**\n",
    "\n",
    "## Use Memory in Agents\n",
    "- Agent class takes `memory_bank` as a parameter during initialisation of an `Agent`\n",
    "- memory_bank: class Dict[Memory]. Stores multiple types of memory for use by the agent. Customise the Memory config within the Memory class.\n",
    "    - Default: `memory_bank = {'Function': Memory(top_k = 5, mapper = lambda x: x.fn_description, approach = 'retrieve_by_ranker'), llm = self.llm}`\n",
    "    - Define `memory['Function'].retrieve_fn` in `memory_bank` if you would like to not use OpenAI API. This takes in the task and outputs a list of top k memory items\n",
    "    - Key: `Function` (Already Implemented Natively) - Does RAG over Task -> Function mapping\n",
    "    - Can add in more keys that would fit your use case. Retrieves similar items to task/overall plan (if able) for additional context in `get_next_subtasks()` and `use_llm()` function\n",
    "    - Side Note: RAG can also be done (and may be preferred) as a separate function of the Agent to retrieve more information when needed (so that we do not overload the Agent with information)\n",
    "\n",
    "## Memory Class\n",
    "- Retrieves top k memory items based on task \n",
    "- Inputs:\n",
    "    - `memory`: List. Default: Empty List. The list containing the memory items\n",
    "    - `top_k`: Int. Default: 3. The number of memory list items to retrieve\n",
    "    - `mapper`: Function. Maps the memory item to another form for comparison by ranker or LLM. Default: `lambda x: x`\n",
    "        - Example mapping: `lambda x: x.fn_description` (If x is a Class and the string you want to compare for similarity is the fn_description attribute of that class)\n",
    "    - `approach`: str. Either `retrieve_by_ranker` or `retrieve_by_llm` to retrieve memory items.\n",
    "        - Ranker is faster and cheaper as it compares via embeddings, but are inferior to LLM-based methods for contextual information\n",
    "    - `retrieve_fn`: Default: None. Takes in task and outputs top_k similar memories in a list\n",
    "    - `ranker`: `Ranker`. The Ranker which defines a similarity score between a query and a key. Default: OpenAI `text-embedding-3-small` model. \n",
    "        - Can be replaced with a function which returns similarity score from 0 to 1 when given a query and key\n",
    "        \n",
    "## Example Use Case\n",
    "- Helps to reduce number of functions present in LLM context for more accurate generation\n",
    "```python\n",
    "output = my_agent.run('Calculate 2**10 * (5 + 1) / 10')\n",
    "```\n",
    "\n",
    "`Original Function List: add_numbers, subtract_numbers, add_three_numbers, multiply_numbers, divide_numbers, power_of, GCD_of_two_numbers, modulo_of_numbers, absolute_difference, generate_poem_with_numbers, List_related_words, generate_quote`\n",
    "\n",
    "`Filtered Function Names: add_three_numbers, multiply_numbers, divide_numbers, power_of, modulo_of_numbers`"
   ]
  },
  {
   "cell_type": "markdown",
   "id": "3031deae-4ab4-4602-96c4-0fe84e8a4ac7",
   "metadata": {
    "tags": []
   },
   "source": [
    "# Setup Guide"
   ]
  },
  {
   "cell_type": "markdown",
   "id": "2cd60dae-09c2-47d5-afc0-a7b2f23150f3",
   "metadata": {
    "tags": []
   },
   "source": [
    "## Step 1: Install TaskGen"
   ]
  },
  {
   "cell_type": "code",
   "execution_count": 1,
   "id": "f2f1814b-9361-4c18-b809-ea77a4a68cd3",
   "metadata": {
    "tags": []
   },
   "outputs": [],
   "source": [
    "# !pip install taskgen-ai"
   ]
  },
  {
   "cell_type": "markdown",
   "id": "9796e878-2c66-4d8e-a554-ad2830676896",
   "metadata": {},
   "source": [
    "## Step 2: Import required functions and setup relevant API keys for your LLM"
   ]
  },
  {
   "cell_type": "code",
   "execution_count": 1,
   "id": "7bf6cd18-b46e-485e-af95-987f06c7c78e",
   "metadata": {
    "tags": []
   },
   "outputs": [],
   "source": [
    "# Set up API key and do the necessary imports\n",
    "from taskgen import *\n",
    "import os\n",
    "\n",
    "# this is only if you use OpenAI as your LLM\n",
    "os.environ['OPENAI_API_KEY'] = '<YOUR API KEY HERE>'"
   ]
  },
  {
   "cell_type": "markdown",
   "id": "27d0e782-7d4f-44e9-a8ae-aabdf083317e",
   "metadata": {},
   "source": [
    "## Step 3: Define your own LLM\n",
    "- Take in a `system_prompt`, `user_prompt`, and outputs llm response string"
   ]
  },
  {
   "cell_type": "code",
   "execution_count": 2,
   "id": "2920f842-779a-4704-90ca-35e78da4653b",
   "metadata": {
    "tags": []
   },
   "outputs": [],
   "source": [
    "def llm(system_prompt: str, user_prompt: str) -> str:\n",
    "    ''' Here, we use OpenAI for illustration, you can change it to your own LLM '''\n",
    "    # ensure your LLM imports are all within this function\n",
    "    from openai import OpenAI\n",
    "    \n",
    "    # define your own LLM here\n",
    "    client = OpenAI()\n",
    "    response = client.chat.completions.create(\n",
    "        model='gpt-4o-mini',\n",
    "        temperature = 0,\n",
    "        messages=[\n",
    "            {\"role\": \"system\", \"content\": system_prompt},\n",
    "            {\"role\": \"user\", \"content\": user_prompt}\n",
    "        ]\n",
    "    )\n",
    "    return response.choices[0].message.content"
   ]
  },
  {
   "cell_type": "code",
   "execution_count": 3,
   "id": "e5d3fda4-cb90-468d-b367-c6d6923e77d2",
   "metadata": {
    "tags": []
   },
   "outputs": [
    {
     "data": {
      "text/plain": [
       "'Neutral'"
      ]
     },
     "execution_count": 3,
     "metadata": {},
     "output_type": "execute_result"
    }
   ],
   "source": [
    "# Verify that llm function is working\n",
    "llm(system_prompt = 'You are a classifier to classify the sentiment of a sentence', \n",
    "    user_prompt = 'It is a hot and sunny day')"
   ]
  },
  {
   "cell_type": "markdown",
   "id": "a04abb86-6f74-4af5-8b72-b26a6029eb9f",
   "metadata": {},
   "source": [
    "# Use Case 1: Filtering Functions by Task\n",
    "- TaskGen chooses `top k` (default k: 5) functions according to similarity to subtask\n",
    "- In addition to `top k` functions, we will also give agent all the compulsory functions\n",
    "    - `is_compulsory` variable of Function set to `True` means that we will always have it as one of the functions for planning and bypass Function RAG"
   ]
  },
  {
   "cell_type": "code",
   "execution_count": 4,
   "id": "72b4bd9f-b3b8-40e5-baec-3f41c616132a",
   "metadata": {
    "tags": []
   },
   "outputs": [],
   "source": [
    "from typing import List\n",
    "import math\n",
    "def sum_numbers(num_list: List[float]) -> float:\n",
    "    '''Adds all numbers in num_list'''\n",
    "    return sum(x for x in num_list)\n",
    "\n",
    "def subtract_numbers(num1: float, num2: float) -> float:\n",
    "    '''Subtracts num1 from num2'''\n",
    "    return num1 - num2\n",
    "\n",
    "def multiply_numbers(num1: float, num2: float) -> float:\n",
    "    '''Multiplies num1 by num2'''\n",
    "    return num1 * num2\n",
    "\n",
    "def divide_numbers(num1: float, num2: float) -> float:\n",
    "    '''Divides num1 by num2'''\n",
    "    if num2 == 0:\n",
    "        return -1\n",
    "    return num1/num2\n",
    "\n",
    "def power_operation(num1: float, num2: float) -> float:\n",
    "    '''Returns num1 to the power of num2 (num1**num2)'''\n",
    "    return math.pow(num1, num2)\n",
    "\n",
    "def greatest_common_divisor(num1: int, num2: int) -> int:\n",
    "    '''Returns greatest common divisor of num1 and num2'''\n",
    "    return math.gcd(num1, num2)\n",
    "\n",
    "def modulo(num1: int, num2: int) -> int:\n",
    "    '''Returns modulo of num1 over num2'''\n",
    "    return num1%num2\n",
    "\n",
    "def absolute_difference(num1: int, num2: int) -> int:\n",
    "    '''Returns absolute difference between num1 and num2'''\n",
    "    return math.abs(num1-num2)\n",
    "\n",
    "# Put this to make sum_numbers always appear for any task and bypass Function RAG\n",
    "sum_numbers = Function(external_fn = sum_numbers, is_compulsory = True)\n",
    "\n",
    "# This is for Internal Functions\n",
    "generate_poem_with_numbers = Function(\"Generates a poem containing <num1: float> and <num2: float>\", output_format = {\"Poem\": \"Poem\"}, fn_name = 'generate_poem_with_numbers', llm = llm)\n",
    "list_related_words = Function(\"Lists out <num: int> words related to <word: str>\", output_format = {\"List of words\": \"List of words, type: list\"}, fn_name = 'list_related_words', llm = llm)\n",
    "generate_quote = Function(\"Generates a quote about <topic: str>\", output_format = {\"Quote\": \"Quote\"}, fn_name = 'generate_quote', llm = llm)"
   ]
  },
  {
   "cell_type": "code",
   "execution_count": 5,
   "id": "3aa5ac81-b850-44ca-a812-44fbe43d9943",
   "metadata": {
    "tags": []
   },
   "outputs": [],
   "source": [
    "my_agent = Agent('Generalist Agent', \n",
    "'''Does everything''',\n",
    "                default_to_llm = False,\n",
    "                llm = llm).assign_functions([sum_numbers, subtract_numbers, multiply_numbers, \n",
    "            divide_numbers, power_operation, greatest_common_divisor, modulo, absolute_difference, \n",
    "            generate_poem_with_numbers, list_related_words, generate_quote])"
   ]
  },
  {
   "cell_type": "code",
   "execution_count": 6,
   "id": "b1a95964-28c6-457b-bda2-49f750013d9f",
   "metadata": {
    "tags": []
   },
   "outputs": [
    {
     "data": {
      "text/plain": [
       "['Name: end_task\\nDescription: Passes the final output to the user\\nInput: []\\nOutput: {}\\n',\n",
       " \"Name: sum_numbers\\nDescription: Adds all numbers in <num_list: list[float]>\\nInput: ['num_list']\\nOutput: {'output_1': 'float'}\\n\",\n",
       " \"Name: subtract_numbers\\nDescription: Subtracts <num1: float> from <num2: float>\\nInput: ['num1', 'num2']\\nOutput: {'output_1': 'float'}\\n\",\n",
       " \"Name: multiply_numbers\\nDescription: Multiplies <num1: float> by <num2: float>\\nInput: ['num1', 'num2']\\nOutput: {'output_1': 'float'}\\n\",\n",
       " \"Name: divide_numbers\\nDescription: Divides <num1: float> by <num2: float>\\nInput: ['num1', 'num2']\\nOutput: {'output_1': 'float'}\\n\",\n",
       " \"Name: power_operation\\nDescription: Returns <num1: float> to the power of <num2: float> (<num1: float>**<num2: float>)\\nInput: ['num1', 'num2']\\nOutput: {'output_1': 'float'}\\n\",\n",
       " \"Name: greatest_common_divisor\\nDescription: Returns greatest common divisor of <num1: int> and <num2: int>\\nInput: ['num1', 'num2']\\nOutput: {'output_1': 'int'}\\n\",\n",
       " \"Name: modulo\\nDescription: Returns modulo of <num1: int> over <num2: int>\\nInput: ['num1', 'num2']\\nOutput: {'output_1': 'int'}\\n\",\n",
       " \"Name: absolute_difference\\nDescription: Returns absolute difference between <num1: int> and <num2: int>\\nInput: ['num1', 'num2']\\nOutput: {'output_1': 'int'}\\n\",\n",
       " \"Name: generate_poem_with_numbers\\nDescription: Generates a poem containing <num1: float> and <num2: float>\\nInput: ['num1', 'num2']\\nOutput: {'Poem': 'Poem'}\\n\",\n",
       " \"Name: list_related_words\\nDescription: Lists out <num: int> words related to <word: str>\\nInput: ['num', 'word']\\nOutput: {'List of words': 'List of words, type: list'}\\n\",\n",
       " \"Name: generate_quote\\nDescription: Generates a quote about <topic: str>\\nInput: ['topic']\\nOutput: {'Quote': 'Quote'}\\n\"]"
      ]
     },
     "execution_count": 6,
     "metadata": {},
     "output_type": "execute_result"
    }
   ],
   "source": [
    "# see the auto-generated names of your functions :)\n",
    "my_agent.list_functions()"
   ]
  },
  {
   "cell_type": "code",
   "execution_count": 7,
   "id": "90dbed97-b966-4dff-b3b6-7beceee67e76",
   "metadata": {
    "tags": []
   },
   "outputs": [],
   "source": [
    "# Configure your top_k for function filtering here, default is 5\n",
    "my_agent.memory_bank['Function'].top_k = 5"
   ]
  },
  {
   "cell_type": "code",
   "execution_count": 8,
   "id": "87357751-5f53-4e4b-adad-0487687d9ef4",
   "metadata": {
    "tags": []
   },
   "outputs": [
    {
     "data": {
      "text/plain": [
       "['modulo',\n",
       " 'subtract_numbers',\n",
       " 'multiply_numbers',\n",
       " 'divide_numbers',\n",
       " 'absolute_difference']"
      ]
     },
     "execution_count": 8,
     "metadata": {},
     "output_type": "execute_result"
    }
   ],
   "source": [
    "# visualise how the Functions are chosen based on task - here you see subtract_numbers appearing at the front\n",
    "# this does not include the compulsory functions\n",
    "[f.fn_name for f in my_agent.memory_bank['Function'].retrieve_by_ranker('Evaluate 3 - 1')]"
   ]
  },
  {
   "cell_type": "code",
   "execution_count": 9,
   "id": "9ac84079-bb50-4fc8-83ac-167685a1b4a8",
   "metadata": {
    "tags": []
   },
   "outputs": [
    {
     "name": "stdout",
     "output_type": "stream",
     "text": [
      "Filtered Function Names: end_task, sum_numbers, subtract_numbers, multiply_numbers, divide_numbers, power_operation, modulo\n",
      "\u001b[1m\u001b[30mObservation: No subtasks have been completed yet for the assigned task of evaluating 2+3.\u001b[0m\n",
      "\u001b[1m\u001b[32mThoughts: To complete the assigned task, I need to perform the addition operation on the numbers 2 and 3.\u001b[0m\n",
      "\u001b[1m\u001b[34mSubtask identified: Use the sum_numbers function to add the numbers 2 and 3 together.\u001b[0m\n",
      "Calling function sum_numbers with parameters {'num_list': [2.0, 3.0]}\n",
      "> {'output_1': 5.0}\n",
      "\n",
      "Filtered Function Names: end_task, sum_numbers, subtract_numbers, multiply_numbers, divide_numbers, power_operation, modulo\n",
      "\u001b[1m\u001b[30mObservation: The sum of 2 and 3 has been successfully calculated, resulting in 5.0.\u001b[0m\n",
      "\u001b[1m\u001b[32mThoughts: Since the addition has been completed, the next step is to finalize the task and provide the output to the user.\u001b[0m\n",
      "\u001b[1m\u001b[34mSubtask identified: End Task\u001b[0m\n",
      "Task completed successfully!\n",
      "\n"
     ]
    },
    {
     "data": {
      "text/plain": [
       "[{'output_1': 5.0}]"
      ]
     },
     "execution_count": 9,
     "metadata": {},
     "output_type": "execute_result"
    }
   ],
   "source": [
    "my_agent.reset()\n",
    "my_agent.run('Evaluate 2+3')"
   ]
  },
  {
   "cell_type": "code",
   "execution_count": 10,
   "id": "ed842f9c-84b1-4176-9f70-e97f35e65639",
   "metadata": {
    "tags": []
   },
   "outputs": [
    {
     "name": "stdout",
     "output_type": "stream",
     "text": [
      "Filtered Function Names: end_task, sum_numbers, subtract_numbers, multiply_numbers, divide_numbers, power_operation, modulo\n",
      "\u001b[1m\u001b[30mObservation: No subtasks have been completed yet for the assigned task of evaluating the expression 2**10 * (3+5) / 10.\u001b[0m\n",
      "\u001b[1m\u001b[32mThoughts: To complete the assigned task, I need to break down the expression into manageable parts. First, I can calculate the exponentiation 2**10, then evaluate the sum (3+5), and finally perform the multiplication and division.\u001b[0m\n",
      "\u001b[1m\u001b[34mSubtask identified: Calculate 2 raised to the power of 10.\u001b[0m\n",
      "Calling function power_operation with parameters {'num1': 2.0, 'num2': 10.0}\n",
      "> {'output_1': 1024.0}\n",
      "\n",
      "Filtered Function Names: end_task, sum_numbers, subtract_numbers, multiply_numbers, divide_numbers, power_operation, modulo\n",
      "\u001b[1m\u001b[30mObservation: The power operation has been completed, calculating 2 raised to the power of 10, resulting in 1024.0.\u001b[0m\n",
      "\u001b[1m\u001b[32mThoughts: Next, I need to evaluate the expression (3 + 5) and then multiply the result by 1024.0. After that, I will divide the product by 10 to complete the assigned task.\u001b[0m\n",
      "\u001b[1m\u001b[34mSubtask identified: Calculate the sum of 3 and 5.\u001b[0m\n",
      "Calling function sum_numbers with parameters {'num_list': [3.0, 5.0]}\n",
      "> {'output_1': 8.0}\n",
      "\n",
      "Filtered Function Names: end_task, sum_numbers, subtract_numbers, multiply_numbers, divide_numbers, power_operation, modulo\n",
      "\u001b[1m\u001b[30mObservation: The power operation has been completed, resulting in 1024.0, and the sum of 3 and 5 has been calculated, yielding 8.0.\u001b[0m\n",
      "\u001b[1m\u001b[32mThoughts: To complete the remainder of the assigned task, I need to multiply the result of the power operation (1024.0) by the sum (8.0) and then divide that product by 10.\u001b[0m\n",
      "\u001b[1m\u001b[34mSubtask identified: Multiply 1024.0 by 8.0 and then divide the result by 10.\u001b[0m\n",
      "Calling function multiply_numbers with parameters {'num1': 1024.0, 'num2': 8.0}\n",
      "> {'output_1': 8192.0}\n",
      "\n",
      "Filtered Function Names: end_task, sum_numbers, subtract_numbers, multiply_numbers, divide_numbers, power_operation, modulo\n",
      "\u001b[1m\u001b[30mObservation: The power operation has been completed, resulting in 1024.0. The sum of 3 and 5 has been calculated as 8.0. The multiplication of 1024.0 and 8.0 has been performed, yielding 8192.0. The next step is to divide this result by 10.\u001b[0m\n",
      "\u001b[1m\u001b[32mThoughts: To complete the remainder of the Assigned Task, I need to divide the result of 8192.0 by 10. This will give the final output for the expression 2**10 * (3+5) / 10.\u001b[0m\n",
      "\u001b[1m\u001b[34mSubtask identified: Perform the division of 8192.0 by 10 to finalize the evaluation of the expression.\u001b[0m\n",
      "Calling function divide_numbers with parameters {'num1': 8192.0, 'num2': 10.0}\n",
      "> {'output_1': 819.2}\n",
      "\n",
      "Filtered Function Names: end_task, sum_numbers, subtract_numbers, multiply_numbers, divide_numbers, power_operation, modulo\n",
      "\u001b[1m\u001b[30mObservation: The task has been completed successfully by evaluating the expression 2**10 * (3+5) / 10, resulting in the final output of 819.2.\u001b[0m\n",
      "\u001b[1m\u001b[32mThoughts: Since the task is already completed, there is no further action required. The final output can be passed to the user.\u001b[0m\n",
      "\u001b[1m\u001b[34mSubtask identified: End Task\u001b[0m\n",
      "Task completed successfully!\n",
      "\n"
     ]
    }
   ],
   "source": [
    "my_agent.reset()\n",
    "output = my_agent.run('Evaluate 2**10 * (3+5) / 10')"
   ]
  },
  {
   "cell_type": "code",
   "execution_count": 11,
   "id": "1d0a41b3-b7ee-4763-a73f-4fbd9daaf181",
   "metadata": {
    "tags": []
   },
   "outputs": [
    {
     "name": "stdout",
     "output_type": "stream",
     "text": [
      "To evaluate the expression 2**10 * (3+5) / 10, we can break it down using the subtasks completed. First, we know that 2**10 is equal to 1024.0, which was calculated in the subtask power_operation(num1=2.0, num2=10.0). Next, we need to calculate (3+5), which is equal to 8.0, as found in the subtask sum_numbers(num_list=[3.0, 5.0]). Now we can multiply these two results: 1024.0 * 8.0, which gives us 8192.0, as calculated in the subtask multiply_numbers(num1=1024.0, num2=8.0). Finally, we divide this result by 10.0: 8192.0 / 10.0, which results in 819.2, as shown in the subtask divide_numbers(num1=8192.0, num2=10.0). Therefore, the final result of the expression 2**10 * (3+5) / 10 is 819.2.\n"
     ]
    },
    {
     "data": {
      "text/plain": [
       "'To evaluate the expression 2**10 * (3+5) / 10, we can break it down using the subtasks completed. First, we know that 2**10 is equal to 1024.0, which was calculated in the subtask power_operation(num1=2.0, num2=10.0). Next, we need to calculate (3+5), which is equal to 8.0, as found in the subtask sum_numbers(num_list=[3.0, 5.0]). Now we can multiply these two results: 1024.0 * 8.0, which gives us 8192.0, as calculated in the subtask multiply_numbers(num1=1024.0, num2=8.0). Finally, we divide this result by 10.0: 8192.0 / 10.0, which results in 819.2, as shown in the subtask divide_numbers(num1=8192.0, num2=10.0). Therefore, the final result of the expression 2**10 * (3+5) / 10 is 819.2.'"
      ]
     },
     "execution_count": 11,
     "metadata": {},
     "output_type": "execute_result"
    }
   ],
   "source": [
    "my_agent.reply_user()"
   ]
  },
  {
   "cell_type": "code",
   "execution_count": 12,
   "id": "1ba75a65-7590-4552-a461-ec717d58a1f2",
   "metadata": {
    "tags": []
   },
   "outputs": [
    {
     "name": "stdout",
     "output_type": "stream",
     "text": [
      "Agent Name: Generalist Agent\n",
      "Agent Description: Does everything\n",
      "Available Functions: ['end_task', 'sum_numbers', 'subtract_numbers', 'multiply_numbers', 'divide_numbers', 'power_operation', 'greatest_common_divisor', 'modulo', 'absolute_difference', 'generate_poem_with_numbers', 'list_related_words', 'generate_quote']\n",
      "Shared Variables: ['agent']\n",
      "\u001b[1m\u001b[32mTask: Evaluate 2**10 * (3+5) / 10\u001b[0m\n",
      "\u001b[1m\u001b[30mSubtasks Completed:\u001b[0m\n",
      "\u001b[1m\u001b[34mSubtask: power_operation(num1=2.0, num2=10.0)\u001b[0m\n",
      "{'output_1': 1024.0}\n",
      "\n",
      "\u001b[1m\u001b[34mSubtask: sum_numbers(num_list=[3.0, 5.0])\u001b[0m\n",
      "{'output_1': 8.0}\n",
      "\n",
      "\u001b[1m\u001b[34mSubtask: multiply_numbers(num1=1024.0, num2=8.0)\u001b[0m\n",
      "{'output_1': 8192.0}\n",
      "\n",
      "\u001b[1m\u001b[34mSubtask: divide_numbers(num1=8192.0, num2=10.0)\u001b[0m\n",
      "{'output_1': 819.2}\n",
      "\n",
      "\u001b[1m\u001b[34mSubtask: Evaluate 2**10 * (3+5) / 10\u001b[0m\n",
      "To evaluate the expression 2**10 * (3+5) / 10, we can break it down using the subtasks completed. First, we know that 2**10 is equal to 1024.0, which was calculated in the subtask power_operation(num1=2.0, num2=10.0). Next, we need to calculate (3+5), which is equal to 8.0, as found in the subtask sum_numbers(num_list=[3.0, 5.0]). Now we can multiply these two results: 1024.0 * 8.0, which gives us 8192.0, as calculated in the subtask multiply_numbers(num1=1024.0, num2=8.0). Finally, we divide this result by 10.0: 8192.0 / 10.0, which results in 819.2, as shown in the subtask divide_numbers(num1=8192.0, num2=10.0). Therefore, the final result of the expression 2**10 * (3+5) / 10 is 819.2.\n",
      "\n",
      "Is Task Completed: True\n"
     ]
    }
   ],
   "source": [
    "my_agent.status()"
   ]
  },
  {
   "cell_type": "markdown",
   "id": "6260e2ee-5eae-44fb-8b70-76da88e16822",
   "metadata": {},
   "source": [
    "# Use Case 2: Adding more context based on task\n",
    "- You can add additional context as the memory_bank so that `top k` will be added to prompt based on task\n",
    "- Best not to do this way for large memory banks, consider using a specialised RAG function instead"
   ]
  },
  {
   "cell_type": "markdown",
   "id": "e6ace029-fde1-42f7-b2e2-cb34431ad9e3",
   "metadata": {},
   "source": [
    "### Using `memory_bank` for more context\n",
    "- Here, we have a mapping of nonsense words to numbers\n",
    "- Based on the subtask, we will augment the system prompt with relevant mappings to aid planning"
   ]
  },
  {
   "cell_type": "code",
   "execution_count": 13,
   "id": "79cf809e-f14f-4c56-b070-87289a22df25",
   "metadata": {
    "tags": []
   },
   "outputs": [],
   "source": [
    "# first append more context to the agent\n",
    "my_agent.memory_bank['Word to Numbers'] = Memory([{'Azo': 1}, {'Boneti': 2}, {'Andkh': 3}, {'Bdakf': 4}, {'dafdsk': 5}, \n",
    "            {'ldsfn': 6}, {'sdkfn': 7}, {'eri': 8}, {'knewro': 9}, {'mdsnfk': 10}], # some nonsense words\n",
    "            top_k = 5,  # choose top 5\n",
    "            mapper = lambda x: list(x.keys())) # we compare with the task using only the first word, e.g. Azo, Boneti, Andkh"
   ]
  },
  {
   "cell_type": "code",
   "execution_count": 14,
   "id": "60aa15b8-9bf5-4339-a264-11ea93157164",
   "metadata": {
    "tags": []
   },
   "outputs": [
    {
     "name": "stdout",
     "output_type": "stream",
     "text": [
      "Filtered Function Names: end_task, sum_numbers, subtract_numbers, multiply_numbers, modulo, generate_poem_with_numbers, generate_quote\n",
      "\u001b[1m\u001b[30mObservation: The words Boneti, mdsnfk, and Azo have been identified with corresponding numerical values: Boneti = 2, mdsnfk = 10, Azo = 1. No additional subtasks have been completed yet.\u001b[0m\n",
      "\u001b[1m\u001b[32mThoughts: To complete the Assigned Task, I need to sum the numerical values associated with the words Boneti, mdsnfk, and Azo. This will provide the final result for the task.\u001b[0m\n",
      "\u001b[1m\u001b[34mSubtask identified: Sum the numbers corresponding to Boneti, mdsnfk, and Azo, which are 2, 10, and 1 respectively.\u001b[0m\n",
      "Calling function sum_numbers with parameters {'num_list': [2.0, 10.0, 1.0]}\n",
      "> {'output_1': 13.0}\n",
      "\n",
      "Filtered Function Names: end_task, sum_numbers, subtract_numbers, multiply_numbers, modulo, generate_poem_with_numbers, generate_quote\n",
      "\u001b[1m\u001b[30mObservation: The sum of the numbers corresponding to the words Boneti, mdsnfk, and Azo has been calculated, resulting in a total of 13.0.\u001b[0m\n",
      "\u001b[1m\u001b[32mThoughts: Since the task is to tell the user the result of the addition, I can now proceed to finalize the output and communicate it to the user.\u001b[0m\n",
      "\u001b[1m\u001b[34mSubtask identified: End Task\u001b[0m\n",
      "Task completed successfully!\n",
      "\n"
     ]
    }
   ],
   "source": [
    "my_agent.reset()\n",
    "output = my_agent.run('Tell me what is Boneti + mdsnfk + Azo')"
   ]
  },
  {
   "cell_type": "code",
   "execution_count": 15,
   "id": "fef221ae-2177-45b3-8105-c44894183025",
   "metadata": {
    "tags": []
   },
   "outputs": [
    {
     "name": "stdout",
     "output_type": "stream",
     "text": [
      "The assigned task is to evaluate the expression \"Boneti + mdsnfk + Azo\". However, based on the information available from the Global Context and the completed subtasks, there is no numerical or factual data provided regarding the terms \"Boneti\", \"mdsnfk\", and \"Azo\". Therefore, I cannot provide a specific answer or sum for this expression as it does not relate to any numerical values or known entities from the provided context. The only completed subtask involved summing a list of numbers, which does not apply to the terms in the assigned task.\n"
     ]
    },
    {
     "data": {
      "text/plain": [
       "'The assigned task is to evaluate the expression \"Boneti + mdsnfk + Azo\". However, based on the information available from the Global Context and the completed subtasks, there is no numerical or factual data provided regarding the terms \"Boneti\", \"mdsnfk\", and \"Azo\". Therefore, I cannot provide a specific answer or sum for this expression as it does not relate to any numerical values or known entities from the provided context. The only completed subtask involved summing a list of numbers, which does not apply to the terms in the assigned task.'"
      ]
     },
     "execution_count": 15,
     "metadata": {},
     "output_type": "execute_result"
    }
   ],
   "source": [
    "my_agent.reply_user()"
   ]
  },
  {
   "cell_type": "markdown",
   "id": "c14537c4-6fb5-4325-9903-71e0184467a3",
   "metadata": {},
   "source": [
    "## Alternative approach of providing additional information via a function\n",
    "- Sometimes it might be better off to do the additional information providing in a separate function\n",
    "- This helps us to do more specific augmentation, like doing RAG over documents, or doing rule-based augmentation\n",
    "- This also helps to reduce the context length of the planner by offloading the augmentation to another function"
   ]
  },
  {
   "cell_type": "code",
   "execution_count": 16,
   "id": "8c4b3e89-ad9a-4f42-a27a-821880726a30",
   "metadata": {
    "tags": []
   },
   "outputs": [],
   "source": [
    "# delete number meanings additional context memory to showcase the information providing function\n",
    "if 'Word to Numbers' in my_agent.memory_bank:\n",
    "    del my_agent.memory_bank['Word to Numbers']"
   ]
  },
  {
   "cell_type": "code",
   "execution_count": 17,
   "id": "9afb69c9-e56d-406d-8dbf-17bcccfcb4eb",
   "metadata": {
    "tags": []
   },
   "outputs": [
    {
     "data": {
      "text/plain": [
       "{'Output': 'Azo equals 1, Boneti equals 2, mdsnfk equals 10, '}"
      ]
     },
     "execution_count": 17,
     "metadata": {},
     "output_type": "execute_result"
    }
   ],
   "source": [
    "# add in additional information function\n",
    "# can also do RAG here if needed\n",
    "def convert_word_to_number(list_of_words: list):\n",
    "    '''Gets additional information about all unknown words in user_query'''\n",
    "    word_to_numbers = {'Azo': 1, 'Boneti': 2, 'Andkh': 3, 'Bdakf': 4, 'dafdsk': 5, \n",
    "               'ldsfn': 6, 'sdkfn': 7, 'eri': 8, 'knewro': 9, 'mdsnfk': 10}\n",
    "    \n",
    "    output_string = ''\n",
    "    \n",
    "    list_of_words = str(list_of_words).lower()\n",
    "    for key, value in word_to_numbers.items():\n",
    "        if key.lower() in list_of_words.lower():\n",
    "            output_string += f'{key} equals {value}, '\n",
    "    return output_string\n",
    "\n",
    "info_fn = Function('Gets additional information about all unknown words in <list_of_words: List[str]>',\n",
    "                  output_format = {'Output': 'str'},\n",
    "                  is_compulsory = True, #makes this function always available for agent\n",
    "                  external_fn = convert_word_to_number)\n",
    "\n",
    "info_fn(['Boneti', 'mdsnfk', 'Azo'])"
   ]
  },
  {
   "cell_type": "code",
   "execution_count": 18,
   "id": "d4633484-c3c7-4d5f-9b73-f1a5ef1c0ea2",
   "metadata": {
    "tags": []
   },
   "outputs": [
    {
     "data": {
      "text/plain": [
       "<taskgen.agent.Agent at 0x1686735f0>"
      ]
     },
     "execution_count": 18,
     "metadata": {},
     "output_type": "execute_result"
    }
   ],
   "source": [
    "# Assign newest function \n",
    "my_agent.assign_functions([info_fn])"
   ]
  },
  {
   "cell_type": "code",
   "execution_count": 19,
   "id": "b5bc3024-89be-4fbf-8013-5b8482cf98e0",
   "metadata": {
    "tags": []
   },
   "outputs": [
    {
     "name": "stdout",
     "output_type": "stream",
     "text": [
      "Filtered Function Names: end_task, sum_numbers, subtract_numbers, multiply_numbers, modulo, generate_poem_with_numbers, generate_quote, convert_word_to_number\n",
      "\u001b[1m\u001b[30mObservation: No subtasks have been completed yet, and the Assigned Task involves adding the term \"Boneti\" with two other terms that are not clearly defined as numbers.\u001b[0m\n",
      "\u001b[1m\u001b[32mThoughts: Since the terms \"Boneti\" and \"Azo\" are not numerical, I need to determine if they can be converted to numbers or if I should focus on the addition of the terms as they are.\u001b[0m\n",
      "\u001b[1m\u001b[34mSubtask identified: Attempt to convert the terms \"Boneti\" and \"Azo\" into numbers to see if they can be summed, and if not, I will need to handle them as strings.\u001b[0m\n",
      "Calling function convert_word_to_number with parameters {'list_of_words': ['Boneti', 'Azo']}\n",
      "> {'Output': 'Azo equals 1, Boneti equals 2, '}\n",
      "\n",
      "Filtered Function Names: end_task, sum_numbers, subtract_numbers, multiply_numbers, modulo, generate_poem_with_numbers, generate_quote, convert_word_to_number\n",
      "\u001b[1m\u001b[30mObservation: The words \"Boneti\" and \"Azo\" have been converted to their numerical equivalents, with Boneti equaling 2 and Azo equaling 1. However, the term \"mdsnfk\" remains unprocessed and its value is unknown.\u001b[0m\n",
      "\u001b[1m\u001b[32mThoughts: To complete the Assigned Task, I need to determine the value of \"mdsnfk\". Once I have that value, I can sum it with the values of \"Boneti\" and \"Azo\" to provide the final answer.\u001b[0m\n",
      "\u001b[1m\u001b[34mSubtask identified: Convert the word \"mdsnfk\" to its numerical equivalent using the convert_word_to_number function.\u001b[0m\n",
      "Calling function convert_word_to_number with parameters {'list_of_words': ['mdsnfk']}\n",
      "> {'Output': 'mdsnfk equals 10, '}\n",
      "\n",
      "Filtered Function Names: end_task, sum_numbers, subtract_numbers, multiply_numbers, modulo, generate_poem_with_numbers, generate_quote, convert_word_to_number\n",
      "\u001b[1m\u001b[30mObservation: The words \"Boneti\" and \"Azo\" have been converted to their numerical equivalents, with Boneti equaling 2 and Azo equaling 1. The word \"mdsnfk\" has also been converted, equaling 10.\u001b[0m\n",
      "\u001b[1m\u001b[32mThoughts: To complete the Assigned Task, I need to sum the numerical values of Boneti, mdsnfk, and Azo, which are 2, 10, and 1 respectively.\u001b[0m\n",
      "\u001b[1m\u001b[34mSubtask identified: Sum the numerical values of Boneti (2), mdsnfk (10), and Azo (1) to get the final result.\u001b[0m\n",
      "Calling function sum_numbers with parameters {'num_list': [2.0, 10.0, 1.0]}\n",
      "> {'output_1': 13.0}\n",
      "\n",
      "Filtered Function Names: end_task, sum_numbers, subtract_numbers, multiply_numbers, modulo, generate_poem_with_numbers, generate_quote, convert_word_to_number\n",
      "\u001b[1m\u001b[30mObservation: The values for Boneti, mdsnfk, and Azo have been successfully converted to numbers, and their sum has been calculated to be 13.0.\u001b[0m\n",
      "\u001b[1m\u001b[32mThoughts: The Assigned Task is complete as the sum of the values has been determined. I can now finalize the output for the user.\u001b[0m\n",
      "\u001b[1m\u001b[34mSubtask identified: End Task\u001b[0m\n",
      "Task completed successfully!\n",
      "\n"
     ]
    }
   ],
   "source": [
    "my_agent.reset()\n",
    "output = my_agent.run('Tell me what is Boneti + mdsnfk + Azo')"
   ]
  },
  {
   "cell_type": "code",
   "execution_count": 20,
   "id": "2a987e2b-b4af-4273-ac5a-6e1f7d4093d5",
   "metadata": {
    "tags": []
   },
   "outputs": [
    {
     "name": "stdout",
     "output_type": "stream",
     "text": [
      "To solve the equation Boneti + mdsnfk + Azo, we first need to convert the words into their corresponding numerical values based on the completed subtasks. From the subtasks completed, we have the following conversions: Azo equals 1, Boneti equals 2, and mdsnfk equals 10. Now, we can substitute these values into the equation: \n",
      "\n",
      "Boneti (2) + mdsnfk (10) + Azo (1) = 2 + 10 + 1 = 13. \n",
      "\n",
      "Therefore, the result of Boneti + mdsnfk + Azo is 13.\n"
     ]
    },
    {
     "data": {
      "text/plain": [
       "'To solve the equation Boneti + mdsnfk + Azo, we first need to convert the words into their corresponding numerical values based on the completed subtasks. From the subtasks completed, we have the following conversions: Azo equals 1, Boneti equals 2, and mdsnfk equals 10. Now, we can substitute these values into the equation: \\n\\nBoneti (2) + mdsnfk (10) + Azo (1) = 2 + 10 + 1 = 13. \\n\\nTherefore, the result of Boneti + mdsnfk + Azo is 13.'"
      ]
     },
     "execution_count": 20,
     "metadata": {},
     "output_type": "execute_result"
    }
   ],
   "source": [
    "my_agent.reply_user()"
   ]
  },
  {
   "cell_type": "markdown",
   "id": "b477130a-92f6-49cc-aafc-26352696231c",
   "metadata": {},
   "source": [
    "# Use Case 3: Adding more context of when to call various functions\n",
    "- We can augment memory bank with information of what functions to call for certain queries, so that agent knows what to do for some edge cases\n",
    "- This helps to augment with the system prompt of `get_next_subtask` and `use_llm` with more examples related to the user query"
   ]
  },
  {
   "cell_type": "code",
   "execution_count": 21,
   "id": "170a8d68-a6bb-40fb-b0ba-c35cd75801d7",
   "metadata": {
    "tags": []
   },
   "outputs": [],
   "source": [
    "my_agent.memory_bank['Priority Task to Function'] = Memory([\n",
    "    {'Task': 'Evaluate Azo + eri', 'Function1': {'name': 'convert_word_to_number', 'list_of_words': ['Azo', 'eri']}, \n",
    "     'Function2': {'name': 'sum_numbers_in_list', 'num_list': [1, 8]}},\n",
    "    {'Task': 'Evaluate 5 + 2', 'Function': 'sum_numbers_in_list', 'num_list': [5, 2]},\n",
    "    {'Task': 'Find out about Boneti and Andkh', 'Function': 'convert_word_to_number', 'list_of_words': ['Boneti', 'Andkh']},\n",
    "    {'Task': 'What is Andkh?', 'Function': 'convert_word_to_number', 'list_of_words': ['Andkh']},\n",
    "    {'Task': 'Booyah', 'Function': 'generate_quote', 'topic': 'TaskGen'}\n",
    "      ], \n",
    "    top_k = 3,  # choose top 3\n",
    "    mapper = lambda x: x['Task']) # we compare with the task using only with the user query"
   ]
  },
  {
   "cell_type": "code",
   "execution_count": 23,
   "id": "f1b8c39a-4d5b-415a-9be5-c06a15327dcf",
   "metadata": {
    "tags": []
   },
   "outputs": [
    {
     "name": "stdout",
     "output_type": "stream",
     "text": [
      "Filtered Function Names: end_task, sum_numbers, multiply_numbers, divide_numbers, power_operation, modulo, generate_quote, convert_word_to_number\n",
      "\u001b[1m\u001b[30mObservation: No subtasks have been completed yet for the assigned task \"Booyah\".\u001b[0m\n",
      "\u001b[1m\u001b[32mThoughts: To complete the assigned task \"Booyah\", I can generate a quote related to the topic of TaskGen, as indicated in the knowledge reference.\u001b[0m\n",
      "\u001b[1m\u001b[34mSubtask identified: Generate a quote about TaskGen to fulfill the assigned task \"Booyah\".\u001b[0m\n",
      "Calling function generate_quote with parameters {'topic': 'TaskGen'}\n",
      "> {'Quote': 'TaskGen empowers creativity by transforming ideas into actionable plans, making the impossible possible.'}\n",
      "\n",
      "Filtered Function Names: end_task, sum_numbers, multiply_numbers, divide_numbers, power_operation, modulo, generate_quote, convert_word_to_number\n",
      "\u001b[1m\u001b[30mObservation: A quote has been successfully generated about the topic \"TaskGen\", which aligns with the Assigned Task \"Booyah\".\u001b[0m\n",
      "\u001b[1m\u001b[32mThoughts: To complete the Assigned Task, I need to determine if there are any additional components or interpretations of \"Booyah\" that require further exploration or elaboration.\u001b[0m\n",
      "\u001b[1m\u001b[34mSubtask identified: End Task\u001b[0m\n",
      "Task completed successfully!\n",
      "\n"
     ]
    }
   ],
   "source": [
    "my_agent.reset()\n",
    "# This actually is not anything special - but because of memory bank, it is mapped to TaskGen\n",
    "output = my_agent.run('Booyah')"
   ]
  },
  {
   "cell_type": "code",
   "execution_count": 24,
   "id": "a53a47b9-b0c5-467c-a8f7-ff49a6affd3f",
   "metadata": {
    "tags": []
   },
   "outputs": [
    {
     "name": "stdout",
     "output_type": "stream",
     "text": [
      "Filtered Function Names: end_task, sum_numbers, subtract_numbers, multiply_numbers, modulo, generate_poem_with_numbers, generate_quote, convert_word_to_number\n",
      "\u001b[1m\u001b[30mObservation: No subtasks have been completed yet, and the Assigned Task involves understanding the terms Boneti, mdsnfk, and Azo.\u001b[0m\n",
      "\u001b[1m\u001b[32mThoughts: To complete the Assigned Task, I need to gather information about Boneti and Azo. Since mdsnfk is not recognized, I will focus on the known terms. I can use the convert_word_to_number function to find out more about Boneti and Azo.\u001b[0m\n",
      "\u001b[1m\u001b[34mSubtask identified: Use the convert_word_to_number function to get information about Boneti and Azo.\u001b[0m\n",
      "Calling function convert_word_to_number with parameters {'list_of_words': ['Boneti', 'Azo']}\n",
      "> {'Output': 'Azo equals 1, Boneti equals 2, '}\n",
      "\n",
      "Filtered Function Names: end_task, sum_numbers, subtract_numbers, multiply_numbers, modulo, generate_poem_with_numbers, generate_quote, convert_word_to_number\n",
      "\u001b[1m\u001b[30mObservation: The conversion of the words \"Boneti\" and \"Azo\" has been completed, yielding values of 2 and 1 respectively. However, the term \"mdsnfk\" remains unprocessed and its value is unknown.\u001b[0m\n",
      "\u001b[1m\u001b[32mThoughts: To complete the Assigned Task, I need to convert the word \"mdsnfk\" to a numerical value. Once I have that value, I can sum it with the values of \"Boneti\" and \"Azo\" to provide the final result.\u001b[0m\n",
      "\u001b[1m\u001b[34mSubtask identified: Convert the word \"mdsnfk\" to its corresponding numerical value using the convert_word_to_number function.\u001b[0m\n",
      "Calling function convert_word_to_number with parameters {'list_of_words': ['mdsnfk']}\n",
      "> {'Output': 'mdsnfk equals 10, '}\n",
      "\n",
      "Filtered Function Names: end_task, sum_numbers, subtract_numbers, multiply_numbers, modulo, generate_poem_with_numbers, generate_quote, convert_word_to_number\n",
      "\u001b[1m\u001b[30mObservation: The values for Boneti and Azo have been successfully converted to numbers, with Boneti equaling 2 and Azo equaling 1. The value for mdsnfk has also been converted, equaling 10.\u001b[0m\n",
      "\u001b[1m\u001b[32mThoughts: To complete the Assigned Task, I need to sum the numerical values of Boneti, Azo, and mdsnfk, which are 2, 1, and 10 respectively.\u001b[0m\n",
      "\u001b[1m\u001b[34mSubtask identified: Sum the numbers 2, 1, and 10 to find the total.\u001b[0m\n",
      "Calling function sum_numbers with parameters {'num_list': [2.0, 1.0, 10.0]}\n",
      "> {'output_1': 13.0}\n",
      "\n",
      "Filtered Function Names: end_task, sum_numbers, subtract_numbers, multiply_numbers, modulo, generate_poem_with_numbers, generate_quote, convert_word_to_number\n",
      "\u001b[1m\u001b[30mObservation: The values for Boneti, Azo, and mdsnfk have been successfully converted to numbers: Boneti equals 2, Azo equals 1, and mdsnfk equals 10. The sum of these values has been calculated to be 13.0.\u001b[0m\n",
      "\u001b[1m\u001b[32mThoughts: The Assigned Task is complete as the sum of Boneti, Azo, and mdsnfk has been determined. There is no further action required to complete the task.\u001b[0m\n",
      "\u001b[1m\u001b[34mSubtask identified: End Task\u001b[0m\n",
      "Task completed successfully!\n",
      "\n"
     ]
    }
   ],
   "source": [
    "my_agent.reset()\n",
    "output = my_agent.run('Tell me what is Boneti + mdsnfk + Azo')"
   ]
  },
  {
   "cell_type": "code",
   "execution_count": 25,
   "id": "998d9743-fed3-4c61-84fe-7071df196fb5",
   "metadata": {
    "tags": []
   },
   "outputs": [
    {
     "name": "stdout",
     "output_type": "stream",
     "text": [
      "To solve the equation Boneti + mdsnfk + Azo, we first need to convert the words into their corresponding numerical values based on the completed subtasks. From the subtasks completed, we have the following conversions: Azo equals 1, Boneti equals 2, and mdsnfk equals 10. Now, we can substitute these values into the equation: \n",
      "\n",
      "Boneti (2) + mdsnfk (10) + Azo (1) = 2 + 10 + 1. \n",
      "\n",
      "Calculating this gives us: 2 + 10 + 1 = 13. \n",
      "\n",
      "Therefore, the result of Boneti + mdsnfk + Azo is 13.\n"
     ]
    },
    {
     "data": {
      "text/plain": [
       "'To solve the equation Boneti + mdsnfk + Azo, we first need to convert the words into their corresponding numerical values based on the completed subtasks. From the subtasks completed, we have the following conversions: Azo equals 1, Boneti equals 2, and mdsnfk equals 10. Now, we can substitute these values into the equation: \\n\\nBoneti (2) + mdsnfk (10) + Azo (1) = 2 + 10 + 1. \\n\\nCalculating this gives us: 2 + 10 + 1 = 13. \\n\\nTherefore, the result of Boneti + mdsnfk + Azo is 13.'"
      ]
     },
     "execution_count": 25,
     "metadata": {},
     "output_type": "execute_result"
    }
   ],
   "source": [
    "my_agent.reply_user()"
   ]
  },
  {
   "cell_type": "code",
   "execution_count": 26,
   "id": "4cce3fac-2a45-46f6-9baf-3cbd31899197",
   "metadata": {
    "tags": []
   },
   "outputs": [
    {
     "name": "stdout",
     "output_type": "stream",
     "text": [
      "Agent Name: Generalist Agent\n",
      "Agent Description: Does everything\n",
      "Available Functions: ['end_task', 'sum_numbers', 'subtract_numbers', 'multiply_numbers', 'divide_numbers', 'power_operation', 'greatest_common_divisor', 'modulo', 'absolute_difference', 'generate_poem_with_numbers', 'list_related_words', 'generate_quote', 'convert_word_to_number']\n",
      "Shared Variables: ['agent']\n",
      "\u001b[1m\u001b[32mTask: Tell me what is Boneti + mdsnfk + Azo\u001b[0m\n",
      "\u001b[1m\u001b[30mSubtasks Completed:\u001b[0m\n",
      "\u001b[1m\u001b[34mSubtask: convert_word_to_number(list_of_words=['Boneti', 'Azo'])\u001b[0m\n",
      "{'Output': 'Azo equals 1, Boneti equals 2, '}\n",
      "\n",
      "\u001b[1m\u001b[34mSubtask: convert_word_to_number(list_of_words=['mdsnfk'])\u001b[0m\n",
      "{'Output': 'mdsnfk equals 10, '}\n",
      "\n",
      "\u001b[1m\u001b[34mSubtask: sum_numbers(num_list=[2.0, 1.0, 10.0])\u001b[0m\n",
      "{'output_1': 13.0}\n",
      "\n",
      "\u001b[1m\u001b[34mSubtask: Tell me what is Boneti + mdsnfk + Azo\u001b[0m\n",
      "To solve the equation Boneti + mdsnfk + Azo, we first need to convert the words into their corresponding numerical values based on the completed subtasks. From the subtasks completed, we have the following conversions: Azo equals 1, Boneti equals 2, and mdsnfk equals 10. Now, we can substitute these values into the equation: \n",
      "\n",
      "Boneti (2) + mdsnfk (10) + Azo (1) = 2 + 10 + 1. \n",
      "\n",
      "Calculating this gives us: 2 + 10 + 1 = 13. \n",
      "\n",
      "Therefore, the result of Boneti + mdsnfk + Azo is 13.\n",
      "\n",
      "Is Task Completed: True\n"
     ]
    }
   ],
   "source": [
    "my_agent.status()"
   ]
  },
  {
   "cell_type": "markdown",
   "id": "8cb509e2",
   "metadata": {},
   "source": [
    "# Add memory directly using pdf, docx, csv, xls files\n",
    "Adding memory elements one by one can be cumbersome, taskgen memory can take filepath as input and it will split the text content inside the file path either using default splitter or user provided splitter.\n",
    "\n",
    "Example:\n",
    "\n",
    "`memory = Memory(top_k = 5)`\n",
    "\n",
    "`memory.add_file(file_path)`\n"
   ]
  },
  {
   "cell_type": "code",
   "execution_count": 2,
   "id": "829dbc54",
   "metadata": {
    "tags": []
   },
   "outputs": [],
   "source": [
    "memory = Memory(top_k =1)\n",
    "memory.add_file(filepath=\"./react.pdf\")"
   ]
  },
  {
   "cell_type": "code",
   "execution_count": 3,
   "id": "aefbf6b2-3508-4269-891d-f6448e8b608c",
   "metadata": {
    "tags": []
   },
   "outputs": [
    {
     "data": {
      "text/plain": [
       "297"
      ]
     },
     "execution_count": 3,
     "metadata": {},
     "output_type": "execute_result"
    }
   ],
   "source": [
    "# See the number of chunks for react.pdf\n",
    "len(memory.memory)"
   ]
  },
  {
   "cell_type": "code",
   "execution_count": 5,
   "id": "616e2ddc",
   "metadata": {
    "tags": []
   },
   "outputs": [
    {
     "data": {
      "text/plain": [
       "['Published as a conference paper at ICLR 2023\\nREAC T: S YNERGIZING REASONING AND ACTING IN\\nLANGUAGE MODELS\\nShunyu Yao\\x03*,1, Jeffrey Zhao2, Dian Yu2, Nan Du2, Izhak Shafran2, Karthik Narasimhan1, Yuan Cao2\\n1Department of Computer Science, Princeton University\\n2Google Research, Brain team\\n1{shunyuy,karthikn}@princeton.edu\\n2{jeffreyzhao,dianyu,dunan,izhak,yuancao}@google.com\\nABSTRACT\\nWhile large language models (LLMs) have demonstrated impressive performance',\n",
       " 'ABSTRACT\\nWhile large language models (LLMs) have demonstrated impressive performance\\nacross tasks in language understanding and interactive decision making, their\\nabilities for reasoning (e.g. chain-of-thought prompting) and acting (e.g. action\\nplan generation) have primarily been studied as separate topics. In this paper, we\\nexplore the use of LLMs to generate both reasoning traces and task-speciﬁc actions\\nin an interleaved manner, allowing for greater synergy between the two: reasoning',\n",
       " 'in an interleaved manner, allowing for greater synergy between the two: reasoning\\ntraces help the model induce, track, and update action plans as well as handle\\nexceptions, while actions allow it to interface with and gather additional information\\nfrom external sources such as knowledge bases or environments. We apply our\\napproach, named ReAct , to a diverse set of language and decision making tasks\\nand demonstrate its effectiveness over state-of-the-art baselines in addition to',\n",
       " 'and demonstrate its effectiveness over state-of-the-art baselines in addition to\\nimproved human interpretability and trustworthiness. Concretely, on question\\nanswering (HotpotQA) and fact veriﬁcation (Fever), ReAct overcomes prevalent\\nissues of hallucination and error propagation in chain-of-thought reasoning by\\ninteracting with a simple Wikipedia API, and generating human-like task-solving\\ntrajectories that are more interpretable than baselines without reasoning traces',\n",
       " '.\\nFurthermore, on two interactive decision making benchmarks (ALFWorld and\\nWebShop), ReAct outperforms imitation and reinforcement learning methods by\\nan absolute success rate of 34% and 10% respectively, while being prompted with\\nonly one or two in-context examples']"
      ]
     },
     "execution_count": 5,
     "metadata": {},
     "output_type": "execute_result"
    }
   ],
   "source": [
    "#show the first five chunks\n",
    "memory.memory[:5]"
   ]
  },
  {
   "cell_type": "code",
   "execution_count": 6,
   "id": "7f09a840",
   "metadata": {
    "tags": []
   },
   "outputs": [
    {
     "data": {
      "text/plain": [
       "['space and thought-action occurrence format, ReAct works for diverse tasks with distinct action\\nspaces and reasoning needs, including but not limited to QA, fact veriﬁcation, text game, and web\\nnavigation. C) Performant and robust :ReAct shows strong generalization to new task instances\\nwhile learning solely from one to six in-context examples, consistently outperforming baselines with\\nonly reasoning or acting across different domains. We also show in Section 3 additional beneﬁts']"
      ]
     },
     "execution_count": 6,
     "metadata": {},
     "output_type": "execute_result"
    }
   ],
   "source": [
    "# this takes a while as we need to compare all chunks\n",
    "memory.retrieve_by_ranker('What is react')"
   ]
  },
  {
   "cell_type": "code",
   "execution_count": 7,
   "id": "d697ee92",
   "metadata": {
    "tags": []
   },
   "outputs": [
    {
     "data": {
      "text/plain": [
       "['space and thought-action occurrence format, ReAct works for diverse tasks with distinct action\\nspaces and reasoning needs, including but not limited to QA, fact veriﬁcation, text game, and web\\nnavigation. C) Performant and robust :ReAct shows strong generalization to new task instances\\nwhile learning solely from one to six in-context examples, consistently outperforming baselines with\\nonly reasoning or acting across different domains. We also show in Section 3 additional beneﬁts']"
      ]
     },
     "execution_count": 7,
     "metadata": {},
     "output_type": "execute_result"
    }
   ],
   "source": [
    "# Async version of memory (faster)\n",
    "asyncMemory = AsyncMemory(top_k = 1)\n",
    "asyncMemory.add_file(filepath=\"./react.pdf\")\n",
    "await asyncMemory.retrieve_by_ranker('What is react')"
   ]
  },
  {
   "cell_type": "markdown",
   "id": "b64f1982",
   "metadata": {},
   "source": [
    "# ChromaDB Memory: Quick Start Guide\n",
    "\n",
    "## What is it?\n",
    "\n",
    "ChromaDB Memory is a tool for storing and retrieving text-based information (like documents or tasks) using vector database technology.\n",
    "\n",
    "## Basic Usage\n",
    "\n",
    "### Initialize\n",
    "\n",
    "```python\n",
    "from your_module import ChromaDbMemory\n",
    "\n",
    "memory = ChromaDbMemory(top_k=5)\n",
    "```\n",
    "\n",
    "`top_k` is the number of results you want when retrieving information.\n",
    "\n",
    "### Add Information\n",
    "\n",
    "```python\n",
    "memory.append([\"Task: Implement login feature\", \"Task: Fix homepage bug\"])\n",
    "```\n",
    "\n",
    "### Retrieve Information\n",
    "\n",
    "```python\n",
    "results = memory.retrieve(\"login feature\")\n",
    "print(results)\n",
    "```\n",
    "\n",
    "### Remove Information\n",
    "\n",
    "```python\n",
    "memory.remove([\"Task: Implement login feature\"])\n",
    "```\n",
    "\n",
    "### Reset Everything\n",
    "\n",
    "```python\n",
    "memory.reset()\n",
    "```\n",
    "\n",
    "## Async Version\n",
    "\n",
    "For applications needing asynchronous operations, use `AsyncChromaDbMemory`:\n",
    "\n",
    "```python\n",
    "from your_module import AsyncChromaDbMemory\n",
    "import asyncio\n",
    "\n",
    "async_memory = AsyncChromaDbMemory(top_k=5)\n",
    "\n",
    "async def main():\n",
    "    await async_memory.append([\"Async task 1\", \"Async task 2\"])\n",
    "    results = await async_memory.retrieve(\"task\")\n",
    "    print(results)\n",
    "\n",
    "asyncio.run(main())\n",
    "```\n",
    "\n",
    "## Tips\n",
    "\n",
    "- Use `add_file()` to add content from text files.\n",
    "- You can customize how information is stored using the `mapper` parameter when initializing.\n",
    "- For better performance in large applications, consider using a persistent ChromaDB client.\n"
   ]
  },
  {
   "cell_type": "code",
   "execution_count": 2,
   "id": "5509aafa",
   "metadata": {
    "tags": []
   },
   "outputs": [],
   "source": [
    "# Sync \n",
    "memory = ChromaDbMemory(collection_name = 'new_collection', mapper = lambda x: x['text'], top_k = 2)\n",
    "memory.append([{ 'text': 'This is One', 'number': 1}, {'text': 'This is Two', 'number': 2}, {'text': 'This is Three', 'number': 3},     \n",
    "               {'text': 'This is Four', 'number': 4}, {'text': 'This is Five', 'number': 5}])"
   ]
  },
  {
   "cell_type": "code",
   "execution_count": 3,
   "id": "1678dfb7",
   "metadata": {
    "tags": []
   },
   "outputs": [
    {
     "data": {
      "text/plain": [
       "{'ids': [['0915fa10bda1bd00a0b7aef5467c335ac9a595392c460d142f80bae4aecb92f1',\n",
       "   '27297ee2e115b4010877e9dd9c0a623b686cfc88664ca1f76b50f5ec27e0ae7a']],\n",
       " 'distances': [[0.6565089058363519, 1.1682573945587758]],\n",
       " 'metadatas': [[{'number': 1, 'text': 'This is One'},\n",
       "   {'number': 2, 'text': 'This is Two'}]],\n",
       " 'embeddings': None,\n",
       " 'documents': [['This is One', 'This is Two']],\n",
       " 'uris': None,\n",
       " 'data': None,\n",
       " 'included': ['metadatas', 'documents', 'distances']}"
      ]
     },
     "execution_count": 3,
     "metadata": {},
     "output_type": "execute_result"
    }
   ],
   "source": [
    "element =  memory.retrieve(\"What is one\")\n",
    "element"
   ]
  },
  {
   "cell_type": "code",
   "execution_count": 4,
   "id": "d1da680a",
   "metadata": {
    "tags": []
   },
   "outputs": [
    {
     "data": {
      "text/plain": [
       "{'ids': [['f6aa7b54e6b23cd075375e1c49b38f64f91affe31dd5f8f0f47b901878f62b50',\n",
       "   '8914ceb65883fea3eedb01bd47e2818d02a7b8544de7235b340c81459e6631e8']],\n",
       " 'distances': [[0.45432996638186174, 1.1247877765127872]],\n",
       " 'metadatas': [[{'number': 6, 'text': 'This is Six'},\n",
       "   {'number': 5, 'text': 'This is Five'}]],\n",
       " 'embeddings': None,\n",
       " 'documents': [['This is Six', 'This is Five']],\n",
       " 'uris': None,\n",
       " 'data': None,\n",
       " 'included': ['metadatas', 'documents', 'distances']}"
      ]
     },
     "execution_count": 4,
     "metadata": {},
     "output_type": "execute_result"
    }
   ],
   "source": [
    "memory.append({'text': 'This is Six', 'number': 6})\n",
    "element =  memory.retrieve(\"What is six\")\n",
    "element"
   ]
  },
  {
   "cell_type": "code",
   "execution_count": 5,
   "id": "83e6ca2a",
   "metadata": {
    "tags": []
   },
   "outputs": [
    {
     "data": {
      "text/plain": [
       "{'ids': [['27297ee2e115b4010877e9dd9c0a623b686cfc88664ca1f76b50f5ec27e0ae7a',\n",
       "   '8914ceb65883fea3eedb01bd47e2818d02a7b8544de7235b340c81459e6631e8']],\n",
       " 'distances': [[1.1682573945587758, 1.2071998792545846]],\n",
       " 'metadatas': [[{'number': 2, 'text': 'This is Two'},\n",
       "   {'number': 5, 'text': 'This is Five'}]],\n",
       " 'embeddings': None,\n",
       " 'documents': [['This is Two', 'This is Five']],\n",
       " 'uris': None,\n",
       " 'data': None,\n",
       " 'included': ['metadatas', 'documents', 'distances']}"
      ]
     },
     "execution_count": 5,
     "metadata": {},
     "output_type": "execute_result"
    }
   ],
   "source": [
    "memory.remove([\"This is One\"])\n",
    "element =  memory.retrieve(\"What is one\")\n",
    "element"
   ]
  },
  {
   "cell_type": "code",
   "execution_count": 6,
   "id": "b1485cda",
   "metadata": {},
   "outputs": [],
   "source": [
    "memory.reset()"
   ]
  },
  {
   "cell_type": "code",
   "execution_count": 7,
   "id": "6c6e4a1b",
   "metadata": {
    "tags": []
   },
   "outputs": [],
   "source": [
    "# ASync \n",
    "memory = AsyncChromaDbMemory(collection_name = 'new_collection_async', mapper = lambda x: x['text'], top_k = 2)\n",
    "await memory.append([{ 'text': 'This is One', 'number': 1}, {'text': 'This is Two', 'number': 2}, {'text': 'This is Three', 'number': 3},     \n",
    "               {'text': 'This is Four', 'number': 4}, {'text': 'This is Five', 'number': 5}])"
   ]
  },
  {
   "cell_type": "code",
   "execution_count": 8,
   "id": "c0f260da",
   "metadata": {
    "tags": []
   },
   "outputs": [
    {
     "data": {
      "text/plain": [
       "{'ids': [['104926c046968f3d036f5416aa5835cfc621c6bea79bd5e68c81ae4197f06ee1',\n",
       "   '53681675f5338452627bc89fc1c85bac8e83ac1772fcafbfe3ef472995671951']],\n",
       " 'distances': [[0.6565089058363519, 1.1682012797590005]],\n",
       " 'metadatas': [[{'number': 1, 'text': 'This is One'},\n",
       "   {'number': 2, 'text': 'This is Two'}]],\n",
       " 'embeddings': None,\n",
       " 'documents': [['This is One', 'This is Two']],\n",
       " 'uris': None,\n",
       " 'data': None,\n",
       " 'included': ['metadatas', 'documents', 'distances']}"
      ]
     },
     "execution_count": 8,
     "metadata": {},
     "output_type": "execute_result"
    }
   ],
   "source": [
    "element =  await memory.retrieve(\"What is one\")\n",
    "element"
   ]
  },
  {
   "cell_type": "code",
   "execution_count": 9,
   "id": "03cf6d4d",
   "metadata": {},
   "outputs": [],
   "source": [
    "await memory.reset()"
   ]
  },
  {
   "cell_type": "code",
   "execution_count": 10,
   "id": "82bf9631",
   "metadata": {},
   "outputs": [],
   "source": [
    "memory = AsyncChromaDbMemory(collection_name = \"file_collection\",top_k = 1)\n",
    "await memory.add_file(filepath=\"./react.pdf\")"
   ]
  },
  {
   "cell_type": "code",
   "execution_count": 11,
   "id": "3ec4e4c5",
   "metadata": {},
   "outputs": [
    {
     "data": {
      "text/plain": [
       "{'ids': [['b461c61719afaab3c52bcc981a05b0812cbe57356c7d48f09f39e46ee94b6ed5']],\n",
       " 'distances': [[1.0889997482299805]],\n",
       " 'metadatas': [[{'content': '.\\nIn contrast to these methods, ReAct performs more than just isolated, ﬁxed reasoning, and integrates\\nmodel actions and their corresponding observations into a coherent stream of inputs for the model to\\nreason more accurately and tackle tasks beyond reasoning (e.g. interactive decision making)',\n",
       "    'filepath': './react.pdf'}]],\n",
       " 'embeddings': None,\n",
       " 'documents': [['.\\nIn contrast to these methods, ReAct performs more than just isolated, ﬁxed reasoning, and integrates\\nmodel actions and their corresponding observations into a coherent stream of inputs for the model to\\nreason more accurately and tackle tasks beyond reasoning (e.g. interactive decision making)']],\n",
       " 'uris': None,\n",
       " 'data': None,\n",
       " 'included': ['metadatas', 'documents', 'distances']}"
      ]
     },
     "execution_count": 11,
     "metadata": {},
     "output_type": "execute_result"
    }
   ],
   "source": [
    "await memory.retrieve(\"What is react\")"
   ]
  },
  {
   "cell_type": "code",
   "execution_count": null,
   "id": "02ab0222",
   "metadata": {},
   "outputs": [],
   "source": [
    "# Chroma db with external Async Client\n",
    "import chromadb\n",
    "# For below experiment you need to follow following steps to run chromadb server\n",
    "    # git clone https://github.com/chroma-core/chroma\n",
    "    # cd chroma\n",
    "    # docker-compose up -d --build\n",
    "\n",
    "chroma_client = await chromadb.AsyncHttpClient(host=\"localhost\", port=8000)\n",
    "memory = AsyncChromaDbMemory(collection_name = \"1234_collection\",top_k = 1, client = chroma_client)\n",
    "await memory.add_file(filepath=\"./react.pdf\")"
   ]
  },
  {
   "cell_type": "code",
   "execution_count": 10,
   "id": "449fe54e",
   "metadata": {},
   "outputs": [
    {
     "data": {
      "text/plain": [
       "{'ids': [['9beb7ccd0132f116d29b5852426c08431e21bf1eb47469444e56a5f7404e5f1e']],\n",
       " 'distances': [[1.0890089273452759]],\n",
       " 'embeddings': None,\n",
       " 'metadatas': [[{'content': '.\\nIn contrast to these methods, ReAct performs more than just isolated, ﬁxed reasoning, and integrates\\nmodel actions and their corresponding observations into a coherent stream of inputs for the model to\\nreason more accurately and tackle tasks beyond reasoning (e.g. interactive decision making)',\n",
       "    'filepath': './react.pdf'}]],\n",
       " 'documents': [['.\\nIn contrast to these methods, ReAct performs more than just isolated, ﬁxed reasoning, and integrates\\nmodel actions and their corresponding observations into a coherent stream of inputs for the model to\\nreason more accurately and tackle tasks beyond reasoning (e.g. interactive decision making)']],\n",
       " 'uris': None,\n",
       " 'data': None,\n",
       " 'included': ['metadatas', 'documents', 'distances']}"
      ]
     },
     "execution_count": 10,
     "metadata": {},
     "output_type": "execute_result"
    }
   ],
   "source": [
    "await memory.retrieve(\"What is react\")"
   ]
  },
  {
   "cell_type": "markdown",
   "id": "ded7ac22-5b1c-4ab2-aaaa-a5217e853a2e",
   "metadata": {},
   "source": [
    "# Legacy: Comparison between embedding-based methods using Ranker and LLM-based similarity\n",
    "- Pros of embedding-based similarity comparison: Fast and cheap\n",
    "- Cons of embedding-based similarity comparison: Not as accurate\n",
    "- If using default `Ranker` function (OpenAI embedding model), automatically stores new embeddings generated in `database` and uses back known embeddings from `database` when possible, potentially helping to save time and costs\n",
    "- Select the right method for your use case\n",
    "\n",
    "- (Advanced Exercise) Instead of using cosine similarity using OpenAI Embeddings, create your own `ranking_fn` within `Ranker` that does similarity search the way you want it to"
   ]
  },
  {
   "cell_type": "code",
   "execution_count": 12,
   "id": "e9ebba4d-ae02-459f-8dc1-4fc265bd69b7",
   "metadata": {
    "tags": []
   },
   "outputs": [
    {
     "name": "stdout",
     "output_type": "stream",
     "text": [
      "Using embeddings ['hello']\n",
      "Using LLM ['hello']\n"
     ]
    }
   ],
   "source": [
    "database = {}\n",
    "memory = Memory(['hello', 'no worries', 'goodbye', 'hurray'], top_k = 1, ranker = Ranker(database = database))\n",
    "print('Using embeddings', memory.retrieve_by_ranker('Another word for hi'))\n",
    "print('Using LLM', memory.retrieve_by_llm('Another word for hi'))"
   ]
  },
  {
   "cell_type": "code",
   "execution_count": 13,
   "id": "89da08cb-4e23-4377-8a22-070e5de555e7",
   "metadata": {
    "tags": []
   },
   "outputs": [
    {
     "data": {
      "text/plain": [
       "dict_keys(['hello', 'Another word for hi', 'no worries', 'goodbye', 'hurray'])"
      ]
     },
     "execution_count": 13,
     "metadata": {},
     "output_type": "execute_result"
    }
   ],
   "source": [
    "# Visualise the keys in the database\n",
    "database.keys()"
   ]
  },
  {
   "cell_type": "code",
   "execution_count": 14,
   "id": "b940774b-93ee-478c-b051-dd11991276f8",
   "metadata": {
    "tags": []
   },
   "outputs": [
    {
     "name": "stdout",
     "output_type": "stream",
     "text": [
      "Using embeddings ['goodbye']\n",
      "Using LLM ['goodbye']\n"
     ]
    }
   ],
   "source": [
    "print('Using embeddings', memory.retrieve_by_ranker('What to say when leaving'))\n",
    "print('Using LLM', memory.retrieve_by_llm('What to say when leaving'))"
   ]
  },
  {
   "cell_type": "code",
   "execution_count": 15,
   "id": "da7b53c1-d389-40d0-95ac-abdbf174fd63",
   "metadata": {
    "tags": []
   },
   "outputs": [
    {
     "data": {
      "text/plain": [
       "dict_keys(['hello', 'Another word for hi', 'no worries', 'goodbye', 'hurray', 'What to say when leaving'])"
      ]
     },
     "execution_count": 15,
     "metadata": {},
     "output_type": "execute_result"
    }
   ],
   "source": [
    "# Visualise the keys in the database\n",
    "database.keys()"
   ]
  }
 ],
 "metadata": {
  "kernelspec": {
   "display_name": "Python 3 (ipykernel)",
   "language": "python",
   "name": "python3"
  },
  "language_info": {
   "codemirror_mode": {
    "name": "ipython",
    "version": 3
   },
   "file_extension": ".py",
   "mimetype": "text/x-python",
   "name": "python",
   "nbconvert_exporter": "python",
   "pygments_lexer": "ipython3",
   "version": "3.12.3"
  }
 },
 "nbformat": 4,
 "nbformat_minor": 5
}
