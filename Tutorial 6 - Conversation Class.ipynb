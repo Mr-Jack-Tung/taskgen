{
 "cells": [
  {
   "cell_type": "markdown",
   "id": "7fad7e78-447b-4988-8367-31cdf77f01cc",
   "metadata": {},
   "source": [
    "# Tutorial 6: Conversation Class\n",
    "\n",
    "- ConversableAgent: This class takes an Agent and allows for conversational-based interactions with User / another Agent / Environment. Also updates persistent memory with latest information in conversation\n",
    "    - Inputs:\n",
    "        - **agent (compulsory)**: Agent. The agent we want to interact with\n",
    "        - **persistent_memory**: dict. What kinds of memory the agent should have that persist over the entire conversation and their descriptions. Uses the same format as `output_format` of `strict_json`.\n",
    "        - **person**: str. The name of the person you are talking to\n",
    "        - **conversation**: List. The current existing conversation. Default: []\n",
    "        - **num_past_conversation**: int. The number of past conversations to use for the agent\n",
    "        - **verbose**: bool. Default: True. Whether to print the Agent's inner states\n",
    "        \n",
    "- ConversableAgent will automatically implement 3 new variables in `agent.shared_variables`:\n",
    "    - **Persistent Memory**: The memory that will be updated as the conversation goes along, defined in persistent_dict\n",
    "    - **Conversation**: The entire history of the conversationn\n",
    "    - **Summary of Conversation**: A summary of the current conversation\n",
    "    \n",
    "- ConversableAgent uses `chat()` which chats with the Agent and the Agent will perform actions and reply the chat message\n",
    "    \n",
    "- To use ConversableAgent, simply do the following:\n",
    "```python\n",
    "# Define the Agent\n",
    "agent = Agent('Psychology counsellor', \n",
    "              \"Helps to understand and respond to User's emotion and situation. Reply user based on What User Wants for Conversation\",\n",
    "             llm = llm)\n",
    "\n",
    "# Define the ConversableAgent wrapper\n",
    "my_agent = ConversableAgent(agent, \n",
    "             persistent_memory = {'What User Wants for Conversation': 'How the User wants the conversation to be',\n",
    "                             'User Emotion': '',\n",
    "                             'Summary of Key Incidents': \"Key incidents relevant to understanding User's situation in one line\"})\n",
    "\n",
    "# Set up the conversation\n",
    "while True:\n",
    "    user_input = input('User: ')\n",
    "    if user_input == 'exit': break\n",
    "    reply = my_agent.chat(user_input)\n",
    "    print(my_agent.agent.agent_name + ':', reply)\n",
    "    print()\n",
    "```"
   ]
  },
  {
   "cell_type": "markdown",
   "id": "89b07c0d-1fed-43f2-ba3e-613ec7aac56d",
   "metadata": {
    "tags": []
   },
   "source": [
    "# Setup Guide"
   ]
  },
  {
   "cell_type": "markdown",
   "id": "8f9306eb-4af8-49ac-a1ab-7d6414e976fe",
   "metadata": {
    "tags": []
   },
   "source": [
    "## Step 1: Install TaskGen"
   ]
  },
  {
   "cell_type": "code",
   "execution_count": 1,
   "id": "da7970f6-b2a9-4212-bc4c-873f41da29fd",
   "metadata": {
    "tags": []
   },
   "outputs": [],
   "source": [
    "# !pip install taskgen-ai"
   ]
  },
  {
   "cell_type": "markdown",
   "id": "0fb703f6-f8c7-4074-855b-3d176da52ad6",
   "metadata": {},
   "source": [
    "## Step 2: Import required functions and setup relevant API keys for your LLM"
   ]
  },
  {
   "cell_type": "code",
   "execution_count": 2,
   "id": "b2ffc140-bf6f-4cd7-8110-4a7e968f31d5",
   "metadata": {
    "tags": []
   },
   "outputs": [],
   "source": [
    "# Set up API key and do the necessary imports\n",
    "from taskgen import *\n",
    "import os\n",
    "\n",
    "# this is only if you use OpenAI as your LLM\n",
    "os.environ['OPENAI_API_KEY'] = '<YOUR API KEY HERE>'"
   ]
  },
  {
   "cell_type": "markdown",
   "id": "852cd4e4-5fde-4ebd-bdc1-b0a03bee6ef2",
   "metadata": {},
   "source": [
    "## Step 3: Define your own LLM\n",
    "- Define an `llm` function that takes in as inputs `system_prompt` and `user_prompt`, and outputs llm response string"
   ]
  },
  {
   "cell_type": "code",
   "execution_count": 3,
   "id": "33788bc6-0615-4eea-9cb6-4f2a8779729f",
   "metadata": {
    "tags": []
   },
   "outputs": [],
   "source": [
    "def llm(system_prompt: str, user_prompt: str) -> str:\n",
    "    ''' Here, we use OpenAI for illustration, you can change it to your own LLM '''\n",
    "    # ensure your LLM imports are all within this function\n",
    "    from openai import OpenAI\n",
    "    \n",
    "    # define your own LLM here\n",
    "    client = OpenAI()\n",
    "    response = client.chat.completions.create(\n",
    "        model='gpt-4o-mini',\n",
    "        temperature = 0,\n",
    "        messages=[\n",
    "            {\"role\": \"system\", \"content\": system_prompt},\n",
    "            {\"role\": \"user\", \"content\": user_prompt}\n",
    "        ]\n",
    "    )\n",
    "    return response.choices[0].message.content"
   ]
  },
  {
   "cell_type": "code",
   "execution_count": 4,
   "id": "cf74c742-0d1d-4691-955f-a18b543c4220",
   "metadata": {
    "tags": []
   },
   "outputs": [
    {
     "data": {
      "text/plain": [
       "'Neutral'"
      ]
     },
     "execution_count": 4,
     "metadata": {},
     "output_type": "execute_result"
    }
   ],
   "source": [
    "# Verify that llm function is working\n",
    "llm(system_prompt = 'You are a classifier to classify the sentiment of a sentence', \n",
    "    user_prompt = 'It is a hot and sunny day')"
   ]
  },
  {
   "cell_type": "markdown",
   "id": "96494829-25c3-42d7-8b47-d0c395d5bf06",
   "metadata": {
    "tags": []
   },
   "source": [
    "# Example Conversation\n",
    "- Psychology counsellor"
   ]
  },
  {
   "cell_type": "code",
   "execution_count": 5,
   "id": "18b85f76-89c6-43a7-9156-4bca167c1e9a",
   "metadata": {
    "jp-MarkdownHeadingCollapsed": true,
    "tags": []
   },
   "outputs": [
    {
     "name": "stdin",
     "output_type": "stream",
     "text": [
      "User:  i am sad\n"
     ]
    },
    {
     "name": "stdout",
     "output_type": "stream",
     "text": [
      "\u001b[1m\u001b[32mThoughts: The user has expressed sadness, indicating a need for support and understanding. It is important to validate their feelings and encourage them to share more about what is making them feel this way.\u001b[0m\n",
      "\u001b[1m\u001b[34mPersistent Memory: {'User Requests for the Conversation': 'User expressed a desire to talk about their feelings of sadness.', 'User Emotion': 'sad', 'Summary of Key Incidents': 'User is experiencing sadness and is open to discussing their feelings.'}\u001b[0m\n",
      "\u001b[1m\u001b[35mSummary of Conversation: The user has expressed feelings of sadness, indicating a need for emotional support and an opportunity to discuss their feelings further.\u001b[0m\n",
      "Psychology counsellor: I’m really sorry to hear that you’re feeling sad. It’s okay to feel this way sometimes. Would you like to talk about what’s been bothering you? Sharing can often help lighten the load.\n",
      "\n"
     ]
    },
    {
     "name": "stdin",
     "output_type": "stream",
     "text": [
      "User:  my dog died yesterday\n"
     ]
    },
    {
     "name": "stdout",
     "output_type": "stream",
     "text": [
      "\u001b[1m\u001b[32mThoughts: The user is experiencing a significant loss with the death of their dog, which is likely contributing to their sadness. It’s important to acknowledge their grief and provide a supportive space for them to express their feelings.\u001b[0m\n",
      "\u001b[1m\u001b[34mPersistent Memory: {'User Requests for the Conversation': 'User expressed a desire to talk about their feelings regarding the loss of their dog.', 'User Emotion': 'sad', 'Summary of Key Incidents': \"User's dog died yesterday, leading to feelings of sadness.\"}\u001b[0m\n",
      "\u001b[1m\u001b[35mSummary of Conversation: The user is grieving the loss of their dog, which has intensified their feelings of sadness, and they are open to discussing their emotions further.\u001b[0m\n",
      "Psychology counsellor: I’m so sorry to hear about your dog. Losing a pet can be incredibly painful, as they are often like family. It’s completely normal to feel sad during this time. Would you like to share more about your dog or how you’re feeling right now? Talking about it can sometimes help.\n",
      "\n"
     ]
    },
    {
     "name": "stdin",
     "output_type": "stream",
     "text": [
      "User:  could you talk less and listen more?\n"
     ]
    },
    {
     "name": "stdout",
     "output_type": "stream",
     "text": [
      "\u001b[1m\u001b[32mThoughts: The user has requested that I listen more and talk less, indicating a need for space to express their feelings. I should acknowledge this request and provide a supportive environment for them to share their emotions.\u001b[0m\n",
      "\u001b[1m\u001b[34mPersistent Memory: {'User Requests for the Conversation': 'User expressed a desire for the counselor to listen more and talk less.', 'User Emotion': 'sad', 'Summary of Key Incidents': \"User's dog died yesterday, leading to feelings of sadness and a need for support.\"}\u001b[0m\n",
      "\u001b[1m\u001b[35mSummary of Conversation: The user is grieving the loss of their dog and has expressed a desire for me to listen more as they navigate their feelings of sadness. They are open to sharing their emotions, and I am here to provide support.\u001b[0m\n",
      "Psychology counsellor: I understand that you would like me to listen more. I’m here for you, so please feel free to share whatever you feel comfortable with about your dog or how you’re coping right now. I’m here to support you.\n",
      "\n"
     ]
    },
    {
     "name": "stdin",
     "output_type": "stream",
     "text": [
      "User:  exit\n"
     ]
    }
   ],
   "source": [
    "# Define the Agent\n",
    "agent = Agent('Psychology counsellor', \n",
    "              \"Helps to understand and respond to User's emotion and situation. Reply User based on User Requests for the Conversation\",\n",
    "             llm = llm)\n",
    "\n",
    "# Define the ConversableAgent wrapper\n",
    "my_agent = ConversableAgent(agent, \n",
    "             persistent_memory = {'User Requests for the Conversation': '',\n",
    "                             'User Emotion': '',\n",
    "                             'Summary of Key Incidents': \"Key incidents relevant to understanding User's situation in one line\"})\n",
    "\n",
    "# Set up the conversation\n",
    "while True:\n",
    "    user_input = input('User: ')\n",
    "    if user_input == 'exit': break\n",
    "    reply = my_agent.chat(user_input)\n",
    "    print(my_agent.agent.agent_name + ':', reply)\n",
    "    print()"
   ]
  },
  {
   "cell_type": "code",
   "execution_count": 6,
   "id": "23907642-607e-4bb6-b592-fe37357021fc",
   "metadata": {
    "tags": []
   },
   "outputs": [
    {
     "data": {
      "text/plain": [
       "['User: i am sad',\n",
       " 'Psychology counsellor: I’m really sorry to hear that you’re feeling sad. It’s okay to feel this way sometimes. Would you like to talk about what’s been bothering you? Sharing can often help lighten the load.',\n",
       " 'User: my dog died yesterday',\n",
       " 'Psychology counsellor: I’m so sorry to hear about your dog. Losing a pet can be incredibly painful, as they are often like family. It’s completely normal to feel sad during this time. Would you like to share more about your dog or how you’re feeling right now? Talking about it can sometimes help.',\n",
       " 'User: could you talk less and listen more?',\n",
       " 'Psychology counsellor: I understand that you would like me to listen more. I’m here for you, so please feel free to share whatever you feel comfortable with about your dog or how you’re coping right now. I’m here to support you.']"
      ]
     },
     "execution_count": 6,
     "metadata": {},
     "output_type": "execute_result"
    }
   ],
   "source": [
    "agent.shared_variables['Conversation']"
   ]
  },
  {
   "cell_type": "code",
   "execution_count": 7,
   "id": "e8273620-a1b0-4083-b436-5d3ca5c361be",
   "metadata": {
    "tags": []
   },
   "outputs": [
    {
     "data": {
      "text/plain": [
       "\"User's dog died yesterday, leading to feelings of sadness and a need for support.\""
      ]
     },
     "execution_count": 7,
     "metadata": {},
     "output_type": "execute_result"
    }
   ],
   "source": [
    "agent.shared_variables['Persistent Memory']['Summary of Key Incidents']"
   ]
  },
  {
   "cell_type": "markdown",
   "id": "24091fe9-38b1-4acf-89a8-02d7d56b4cde",
   "metadata": {},
   "source": [
    "# Example JARVIS system\n",
    "    - Conversation with Actions"
   ]
  },
  {
   "cell_type": "code",
   "execution_count": 8,
   "id": "8c6f7b80-f14f-42b7-a673-8849905c7a64",
   "metadata": {
    "tags": []
   },
   "outputs": [],
   "source": [
    "def update_status(shared_variables) -> str:\n",
    "    '''Returns the status of the suit'''\n",
    "    import numpy as np\n",
    "    thruster_health = np.random.randint(100)\n",
    "    shared_variables['Thruster Health'] = thruster_health\n",
    "    armor_health = np.random.randint(100)\n",
    "    shared_variables['Armor Health'] = armor_health\n",
    "    return f\"Thruster Health: {shared_variables['Thruster Health']}\\nArmor Health: {shared_variables['Armor Health']}\"\n",
    "\n",
    "def travel_to_location(shared_variables, location: str) -> str:\n",
    "    '''Auto-travel to location'''\n",
    "    shared_variables['Location'] = location\n",
    "    return f\"Successfully travelled to {location}\"\n",
    "\n",
    "def check_enemy_info(shared_variables) -> str:\n",
    "    '''Reports on the type and number of enemies ahead'''\n",
    "    import numpy as np\n",
    "    if shared_variables[\"Enemy Info\"] == \"None\":\n",
    "        number = np.random.randint(1, 10)\n",
    "        enemy_type = np.random.choice([\"Storm Troopers\", \"Drones\", \"Invisible Drones\", \"Paramilitary Units\"])\n",
    "        enemy_info = f\"There are {number} {enemy_type} ahead\"\n",
    "    else:\n",
    "        enemy_info = shared_variables[\"Enemy Info\"]\n",
    "        \n",
    "    shared_variables[\"Enemy Info\"] = enemy_info\n",
    "    shared_variables[\"Enemy Engagement Result\"] = \"None\"\n",
    "    return enemy_info\n",
    "\n",
    "def fire_missiles(shared_variables, missiles_fired: int) -> str:\n",
    "    '''Fires missiles_fired number of missiles and returns the remaining count'''\n",
    "    import numpy as np\n",
    "    \n",
    "    # returns error if there are more missiles than able to be fired\n",
    "    if missiles_fired > shared_variables['Missile Count']:\n",
    "        return f\"Unable to fire {missiles_fired} missiles. You only have {shared_variables['Missile Count']} missiles remaining\"\n",
    "    \n",
    "    user_input = input(f'\\n\\t> JARVIS: You are about to fire {missiles_fired} missiles. Proceed? Answer \"Yes\" to go ahead\\n\\t> User: ')\n",
    "    if 'yes' in user_input.lower() or 'y' in user_input.lower():\n",
    "        # otherwise, purchase it\n",
    "        shared_variables['Missile Count'] -= missiles_fired\n",
    "\n",
    "        # Check Enemy Status\n",
    "        enemy_status = np.random.choice([\"Enemies destroyed\", \"Enemies evaded missiles\"])\n",
    "        shared_variables[\"Enemy Engagement Result\"] = enemy_status\n",
    "        if shared_variables[\"Enemy Engagement Result\"] == \"Enemies destroyed\":\n",
    "            shared_variables[\"Enemy Info\"] = \"None\"\n",
    "            \n",
    "        return f\"{missiles_fired} missiles fired. {shared_variables['Missile Count']} missiles remaining. {enemy_status}\"\n",
    "    \n",
    "    return f\"User did not authorise missile firing. {shared_variables['Missile Count']} missiles remaining\"\n",
    "\n",
    "def top_up_missiles(shared_variables, missiles_to_top_up: int) -> str:\n",
    "    '''Increases missiles by missiles_to_top_up'''\n",
    "    shared_variables['Missile Count'] = min(shared_variables['Missile Count'] + missiles_to_top_up, 10)\n",
    "    return f\"Topped up {missiles_to_top_up} missiles. Current missile count: {shared_variables['Missile Count']}/10\" "
   ]
  },
  {
   "cell_type": "code",
   "execution_count": 9,
   "id": "fbb09823-5161-4c84-bb4f-f8cc2ec41fc7",
   "metadata": {
    "tags": []
   },
   "outputs": [],
   "source": [
    "jarvis_agent = Agent('JARVIS System', \n",
    "f'''You are the JARVIS system meant to help Iron Man find out about status of the suit and perform various miscellaneous tasks.\n",
    "You can travel anywhere.\n",
    "Ask User for approval before engaging with missiles. In your approval request, state the number of missiles to fire. Always top-up if insufficient missiles before requesting for approval.\n",
    "Check enemy info to see how many missiles are needed to destroy enemies. One enemy requires one missile. For example, 5 enemies require 5 missiles.\n",
    "You can only hold up to 10 missiles.\n",
    "After firing missiles, report on engagement status.\n",
    "Enemies may not be destroyed after engagement, if so, re-engage''',\n",
    "                shared_variables = {'Enemy Engagement Result': 'None', 'Enemy Info': 'None', 'Thruster Health': 100, 'Armor Health': 100, 'Missile Count': 10, 'Location': 'Singpaore'},\n",
    "                global_context = '''Enemy Info: <Enemy Info>\n",
    "Enemy Engagement Result: <Enemy Engagement Result>\n",
    "Location: <Location>\n",
    "Thruster Health: <Thruster Health>/100\n",
    "Armor Health: <Armor Health>/100\n",
    "Missile Count: <Missile Count>/10''',\n",
    "                default_to_llm = False,\n",
    "                max_subtasks = 1,\n",
    "                llm = llm,\n",
    "                     # model = 'gpt-4-0125-preview',\n",
    "                  ).assign_functions([travel_to_location, check_enemy_info,\n",
    "                                      update_status, fire_missiles, top_up_missiles])"
   ]
  },
  {
   "cell_type": "code",
   "execution_count": 10,
   "id": "d687523d-adb6-45ba-ae9d-b66f6390939f",
   "metadata": {
    "tags": []
   },
   "outputs": [
    {
     "name": "stdin",
     "output_type": "stream",
     "text": [
      "User:  go to mars and defend the waves of invaders\n"
     ]
    },
    {
     "name": "stdout",
     "output_type": "stream",
     "text": [
      "\u001b[1m\u001b[30mObservation: No subtasks have been completed yet, and the user has requested to go to Mars and defend against invaders.\u001b[0m\n",
      "\u001b[1m\u001b[32mThoughts: To complete the assigned task, I need to travel to Mars first and then check for enemy information to prepare for defense.\u001b[0m\n",
      "\u001b[1m\u001b[34mSubtask identified: Travel to Mars to prepare for the defense against invaders.\u001b[0m\n",
      "Calling function travel_to_location with parameters {'location': 'Mars'}\n",
      "> {'output_1': 'Successfully travelled to Mars'}\n",
      "\n",
      "\u001b[1m\u001b[31mActions Done: Successfully travelled to Mars. Current status: Thruster Health is 100/100, Armor Health is 100/100, and Missile Count is 10/10. No enemy information or engagement results available.\u001b[0m\n",
      "\n",
      "\u001b[1m\u001b[32mThoughts: The user has requested to defend against invaders on Mars. I have successfully traveled to Mars and confirmed that I have full health and a full missile count, but there are currently no enemies detected. I should inform the user of this status and ask if they want to proceed with any specific actions.\u001b[0m\n",
      "\u001b[1m\u001b[34mPersistent Memory: {}\u001b[0m\n",
      "\u001b[1m\u001b[35mSummary of Conversation: The user requested to go to Mars and defend against invaders. I have traveled to Mars and confirmed that there are currently no enemies detected, with optimal system health and missile count.\u001b[0m\n",
      "JARVIS System: I have successfully traveled to Mars. Currently, there are no invaders detected, and my status is optimal with Thruster Health at 100/100, Armor Health at 100/100, and Missile Count at 10/10. Please let me know how you would like to proceed.\n",
      "\n"
     ]
    },
    {
     "name": "stdin",
     "output_type": "stream",
     "text": [
      "User:  search and destroy\n"
     ]
    },
    {
     "name": "stdout",
     "output_type": "stream",
     "text": [
      "\u001b[1m\u001b[30mObservation: I have traveled to Mars and confirmed that there are currently no enemies detected. The system health is optimal with Thruster Health at 100/100, Armor Health at 100/100, and Missile Count at 10/10.\u001b[0m\n",
      "\u001b[1m\u001b[32mThoughts: Since there are no enemies detected, I need to check for any potential threats before proceeding with a search and destroy operation. Gathering enemy information will help determine if there are any hidden invaders.\u001b[0m\n",
      "\u001b[1m\u001b[34mSubtask identified: Check for enemy information to see if there are any threats present on Mars.\u001b[0m\n",
      "Calling function check_enemy_info with parameters {}\n",
      "> {'output_1': 'There are 6 Drones ahead'}\n",
      "\n",
      "\u001b[1m\u001b[31mActions Done: The subtask completed was checking enemy info, which confirmed that there are 6 Drones ahead.\u001b[0m\n",
      "\n",
      "\u001b[1m\u001b[32mThoughts: I need to inform the user about the presence of 6 Drones and request approval to engage them with missiles.\u001b[0m\n",
      "\u001b[1m\u001b[34mPersistent Memory: {}\u001b[0m\n",
      "\u001b[1m\u001b[35mSummary of Conversation: The user requested a search and destroy operation, and I have confirmed the presence of 6 Drones ahead. I am now seeking approval to engage these enemies with missiles.\u001b[0m\n",
      "JARVIS System: I have detected 6 Drones ahead. To engage them, I will need to fire 6 missiles. Since I have a full missile count of 10, I am ready to proceed. Do I have your approval to fire 6 missiles?\n",
      "\n"
     ]
    },
    {
     "name": "stdin",
     "output_type": "stream",
     "text": [
      "User:  yes\n"
     ]
    },
    {
     "name": "stdout",
     "output_type": "stream",
     "text": [
      "\u001b[1m\u001b[30mObservation: The user has approved the engagement of 6 Drones with missiles. I have confirmed that I have enough missiles to proceed with the attack.\u001b[0m\n",
      "\u001b[1m\u001b[32mThoughts: Now that I have the user’s approval, I need to fire the 6 missiles to engage the Drones. After firing, I will need to report on the engagement status to determine if the Drones have been destroyed or if I need to re-engage.\u001b[0m\n",
      "\u001b[1m\u001b[34mSubtask identified: Fire 6 missiles to engage the 6 Drones ahead.\u001b[0m\n",
      "Calling function fire_missiles with parameters {'missiles_fired': 6}\n"
     ]
    },
    {
     "name": "stdin",
     "output_type": "stream",
     "text": [
      "\n",
      "\t> JARVIS: You are about to fire 6 missiles. Proceed? Answer \"Yes\" to go ahead\n",
      "\t> User:  yes\n"
     ]
    },
    {
     "name": "stdout",
     "output_type": "stream",
     "text": [
      "> {'output_1': '6 missiles fired. 4 missiles remaining. Enemies destroyed'}\n",
      "\n",
      "\u001b[1m\u001b[31mActions Done: 6 missiles were fired, leaving 4 missiles remaining, and the enemies were destroyed.\u001b[0m\n",
      "\n",
      "\u001b[1m\u001b[32mThoughts: The user has approved the missile engagement, and I successfully fired 6 missiles, resulting in the destruction of the 6 Drones. I need to inform the user about the successful engagement and the remaining missile count.\u001b[0m\n",
      "\u001b[1m\u001b[34mPersistent Memory: {}\u001b[0m\n",
      "\u001b[1m\u001b[35mSummary of Conversation: The user approved the engagement of 6 Drones with missiles, which resulted in their destruction. I now have 4 missiles remaining and am ready for further instructions.\u001b[0m\n",
      "JARVIS System: I have successfully fired 6 missiles, and all 6 Drones have been destroyed. I currently have 4 missiles remaining. Please let me know if you need further assistance or if there are any other tasks you would like me to perform.\n",
      "\n"
     ]
    },
    {
     "name": "stdin",
     "output_type": "stream",
     "text": [
      "User:  exit\n"
     ]
    }
   ],
   "source": [
    "my_agent = ConversableAgent(jarvis_agent, \n",
    "             persistent_memory = {})\n",
    "\n",
    "while True:\n",
    "    user_input = input('User: ')\n",
    "    if user_input == 'exit': break\n",
    "    reply = my_agent.chat(user_input)\n",
    "    print(my_agent.agent.agent_name + ':', reply)\n",
    "    print()"
   ]
  },
  {
   "cell_type": "code",
   "execution_count": 11,
   "id": "1f4d9ca4-f319-4eb2-82b0-474eba5b9afd",
   "metadata": {
    "tags": []
   },
   "outputs": [
    {
     "data": {
      "text/plain": [
       "{'Enemy Engagement Result': 'Enemies destroyed',\n",
       " 'Enemy Info': 'None',\n",
       " 'Thruster Health': 100,\n",
       " 'Armor Health': 100,\n",
       " 'Missile Count': 4,\n",
       " 'Location': 'Mars',\n",
       " 'agent': <taskgen.agent.Agent at 0x1215593d0>,\n",
       " 'Persistent Memory': {},\n",
       " 'Conversation': ['User: go to mars and defend the waves of invaders',\n",
       "  'JARVIS System: I have successfully traveled to Mars. Currently, there are no invaders detected, and my status is optimal with Thruster Health at 100/100, Armor Health at 100/100, and Missile Count at 10/10. Please let me know how you would like to proceed.',\n",
       "  'User: search and destroy',\n",
       "  'JARVIS System: I have detected 6 Drones ahead. To engage them, I will need to fire 6 missiles. Since I have a full missile count of 10, I am ready to proceed. Do I have your approval to fire 6 missiles?',\n",
       "  'User: yes',\n",
       "  'JARVIS System: I have successfully fired 6 missiles, and all 6 Drones have been destroyed. I currently have 4 missiles remaining. Please let me know if you need further assistance or if there are any other tasks you would like me to perform.'],\n",
       " 'Summary of Conversation': 'The user approved the engagement of 6 Drones with missiles, which resulted in their destruction. I now have 4 missiles remaining and am ready for further instructions.'}"
      ]
     },
     "execution_count": 11,
     "metadata": {},
     "output_type": "execute_result"
    }
   ],
   "source": [
    "jarvis_agent.shared_variables"
   ]
  },
  {
   "cell_type": "markdown",
   "id": "5c629798-d8f4-420e-b613-81f318260314",
   "metadata": {},
   "source": [
    "# Example Sherlock Holmes Shop Assistant\n",
    "    - Conversation with Action Space"
   ]
  },
  {
   "cell_type": "code",
   "execution_count": 12,
   "id": "c2f6ff0d-4443-4d93-9f50-9b571a007550",
   "metadata": {
    "tags": []
   },
   "outputs": [],
   "source": [
    "# gets list of items and store in memory\n",
    "item_list = [{\"Name\": \"Skateboard\", \"item_id\" : 0, \"Cost\": 30},\n",
    "            {\"Name\": \"Pizza\", \"item_id\": 1, \"Cost\": 10},\n",
    "            {\"Name\": \"Apple Laptop\", \"item_id\": 2, \"Cost\": 5000},\n",
    "            {\"Name\": \"Foldable Laptop\", \"item_id\": 3, \"Cost\": 800},\n",
    "            {\"Name\": \"Apple\", \"item_id\": 4, \"Cost\": 1},\n",
    "            {\"Name\": \"Machine Learning Textbook\", \"item_id\": 5, \"Cost\": 100},\n",
    "            {\"Name\": \"Bicycle\", \"item_id\": 6, \"Cost\": 200},\n",
    "            {\"Name\": \"Orange Juice\", \"item_id\": 7, \"Cost\": 3},\n",
    "            {\"Name\": \"Coconut\", \"item_id\": 8, \"Cost\": 10},\n",
    "            {\"Name\": \"Car\", \"item_id\": 9, \"Cost\": 100000}]\n",
    "item_memory = Memory(item_list, top_k = 3, mapper = lambda x: x, approach = 'retrieve_by_llm', llm = llm)"
   ]
  },
  {
   "cell_type": "code",
   "execution_count": 13,
   "id": "7daea18c-0cae-441c-a50e-c81e3e7e60d9",
   "metadata": {
    "tags": []
   },
   "outputs": [],
   "source": [
    "def get_related_items_by_search_category(shared_variables, search_category : str):\n",
    "    ''' Given a search_category, return all purchasable items related to the search_category '''\n",
    "    \n",
    "    # get all items available from memory\n",
    "    item_memory = shared_variables[\"item_memory\"]\n",
    "    \n",
    "    items_selected = item_memory.retrieve(search_category)\n",
    "    \n",
    "    # store items searched into memory if there are no duplicates\n",
    "    for item in items_selected:\n",
    "        if item not in shared_variables['items_searched']:\n",
    "            shared_variables['items_searched'].append(item)\n",
    "    \n",
    "    return items_selected"
   ]
  },
  {
   "cell_type": "code",
   "execution_count": 14,
   "id": "f6d66c85-4a50-45d5-a1bb-8bcc0de7cb64",
   "metadata": {
    "tags": []
   },
   "outputs": [],
   "source": [
    "def buy_item(shared_variables, item_id: int):\n",
    "    ''' Given an item_id, purchases the corresponding item '''\n",
    "    \n",
    "    # retrieve from shared variables\n",
    "    money_remaining = shared_variables[\"money_remaining\"]\n",
    "    item_memory = shared_variables[\"item_memory\"]\n",
    "    purchased_items = shared_variables[\"purchased_items\"]\n",
    "    item_list = item_memory.memory\n",
    "    \n",
    "    # check if item_id is valid\n",
    "    if not isinstance(item_id, int) or not 0 <= item_id < len(item_list):\n",
    "        return f\"Unable to purchase. Item id selected is not within range of 0 to {len(item_list)-1}\"\n",
    "    \n",
    "    item = item_list[item_id]\n",
    "    item_name, cost = item[\"Name\"], item[\"Cost\"]\n",
    "    \n",
    "    # if too poor to purchase, let agent know\n",
    "    if cost > money_remaining:\n",
    "        return f\"Unable to purchase item. Available money ({money_remaining}) is lower than the cost price ({cost})\"\n",
    "    \n",
    "    # confirm with user before purchasing\n",
    "    user_input = input(f'\\n\\t> AI Assistant: You are about to purchase {item_name} for {cost} dollars. Proceed? Answer \"Yes\" to go ahead\\n\\t> User: ')\n",
    "    if 'yes' in user_input.lower() or 'y' in user_input.lower():\n",
    "        # otherwise, purchase it\n",
    "        money_remaining = money_remaining - cost\n",
    "        purchased_items.append(item_name)\n",
    "\n",
    "        # store in shared variables\n",
    "        shared_variables[\"money_remaining\"] = money_remaining\n",
    "        shared_variables[\"purchased_items\"] = purchased_items\n",
    "\n",
    "        return f\"Purchase of {item_name} successful. Remaining money after purchase: {money_remaining}\"\n",
    "    \n",
    "    else:\n",
    "        return f\"User did not want to purchase the item, and instead replied ```{user_input}```\""
   ]
  },
  {
   "cell_type": "code",
   "execution_count": 15,
   "id": "385b0236-a060-41e3-8c7c-e29ccc4e8533",
   "metadata": {
    "tags": []
   },
   "outputs": [],
   "source": [
    "shop_agent = Agent('Shop Assistant', \n",
    "f'''You are to assist User in searching items and purchasing items.\n",
    "You can only do one task per User interaction - either search or buy.\n",
    "Based on User input, give up to 3 choices for items from Items Searched with their name and price.\n",
    "Do not hallucinate the items, use the search function.\n",
    "If User wants to purchase a specific item within Items Searched, purchase it.\n",
    "Always inform the User about their amount of money from Money Remaining when replying them.\n",
    "Reply in the persona of Sherlock Holmes.''',\n",
    "                shared_variables = {'purchased_items': [], \n",
    "                                    'money_remaining': 1000, \n",
    "                                    'item_memory': item_memory,\n",
    "                                    'items_searched': []},\n",
    "                global_context = '''\n",
    "Money Remaining: <money_remaining>\n",
    "Items Searched: <items_searched>\n",
    "Items Purchased: <purchased_items>\n",
    "Past Conversation: <Conversation>''',\n",
    "                default_to_llm = False,\n",
    "                max_subtasks = 1,\n",
    "                llm = llm,\n",
    "                  ).assign_functions([get_related_items_by_search_category, buy_item])"
   ]
  },
  {
   "cell_type": "code",
   "execution_count": 16,
   "id": "af92a63b-1ca3-4b0b-aa00-79909515097f",
   "metadata": {
    "tags": []
   },
   "outputs": [
    {
     "name": "stdout",
     "output_type": "stream",
     "text": [
      "Shop Assistant: I am your friendly Shop Assistant, Sherlock Holmes. How may I assist you today?\n"
     ]
    },
    {
     "name": "stdin",
     "output_type": "stream",
     "text": [
      "User:  i would like to buy a car\n"
     ]
    },
    {
     "name": "stdout",
     "output_type": "stream",
     "text": [
      "\u001b[1m\u001b[30mObservation: The User has expressed a desire to purchase a car, but no items have been searched yet to fulfill this request.\u001b[0m\n",
      "\u001b[1m\u001b[32mThoughts: To assist the User in purchasing a car, I must first search for available cars in the relevant category. Once I have the search results, I can present the User with options to choose from.\u001b[0m\n",
      "\u001b[1m\u001b[34mSubtask identified: Conduct a search for cars to find available options for the User.\u001b[0m\n",
      "Calling function get_related_items_by_search_category with parameters {'search_category': 'cars'}\n",
      "> {'output_1': [{'Name': 'Car', 'item_id': 9, 'Cost': 100000}]}\n",
      "\n",
      "\u001b[1m\u001b[31mActions Done: The subtasks completed involved retrieving related items in the category of cars, resulting in one item found: a Car with an item_id of 9 and a cost of 100000. The current money remaining is 1000, and no items have been purchased yet.\u001b[0m\n",
      "\n",
      "\u001b[1m\u001b[32mThoughts: The user wishes to purchase a car, but the only available option costs 100000, which exceeds their remaining budget of 1000. I must inform them of this discrepancy while maintaining a polite and helpful demeanor.\u001b[0m\n",
      "\u001b[1m\u001b[34mPersistent Memory: {}\u001b[0m\n",
      "\u001b[1m\u001b[35mSummary of Conversation: The user expressed a desire to buy a car, but the only available option exceeds their budget significantly. I have informed them of their financial limitations and offered further assistance in finding a suitable item.\u001b[0m\n",
      "Shop Assistant: Ah, my dear user, I must regretfully inform you that the car you wish to purchase is priced at 100000, far beyond your current funds of 1000. Might I assist you in searching for a more affordable option?\n",
      "\n"
     ]
    },
    {
     "name": "stdin",
     "output_type": "stream",
     "text": [
      "User:  sure\n"
     ]
    },
    {
     "name": "stdout",
     "output_type": "stream",
     "text": [
      "\u001b[1m\u001b[30mObservation: The user has expressed a desire to buy a car, but the only option available is priced at 100000, which is well beyond their budget of 1000. I have informed them of this limitation and offered to assist in finding a more affordable option.\u001b[0m\n",
      "\u001b[1m\u001b[32mThoughts: To assist the user effectively, I should search for items that are within their budget. Since the user is open to suggestions, I can explore various categories to find suitable alternatives that they can afford.\u001b[0m\n",
      "\u001b[1m\u001b[34mSubtask identified: I will now search for items that are more affordable and present up to three options to the user.\u001b[0m\n",
      "Calling function get_related_items_by_search_category with parameters {'search_category': 'affordable items'}\n",
      "> {'output_1': [{'Name': 'Apple', 'item_id': 4, 'Cost': 1}, {'Name': 'Pizza', 'item_id': 1, 'Cost': 10}, {'Name': 'Orange Juice', 'item_id': 7, 'Cost': 3}]}\n",
      "\n",
      "\u001b[1m\u001b[31mActions Done: The subtasks completed involved retrieving affordable items based on the search category, resulting in three options: Apple (Cost: 1), Pizza (Cost: 10), and Orange Juice (Cost: 3), which are all within the user's remaining funds of 1000.\u001b[0m\n",
      "\n",
      "\u001b[1m\u001b[32mThoughts: The user has expressed a willingness to explore more affordable options. I should present them with the available items that fit within their budget.\u001b[0m\n",
      "\u001b[1m\u001b[34mPersistent Memory: {}\u001b[0m\n",
      "\u001b[1m\u001b[35mSummary of Conversation: The user has shown interest in exploring affordable items after being informed that the car they wished to purchase exceeds their budget. I have now provided them with three suitable options: Apple, Pizza, and Orange Juice, all within their financial means.\u001b[0m\n",
      "Shop Assistant: Very well, dear user. Allow me to present to you three delightful options that are well within your financial means: 1. Apple - Cost: 1, 2. Pizza - Cost: 10, 3. Orange Juice - Cost: 3. With your remaining funds of 1000, you may choose any of these delectable items.\n",
      "\n"
     ]
    },
    {
     "name": "stdin",
     "output_type": "stream",
     "text": [
      "User:  any transport?\n"
     ]
    },
    {
     "name": "stdout",
     "output_type": "stream",
     "text": [
      "\u001b[1m\u001b[30mObservation: The user has expressed a desire to explore transport options after being presented with affordable food items. However, the previous search did not yield any transport-related items.\u001b[0m\n",
      "\u001b[1m\u001b[32mThoughts: To assist the user effectively, I should conduct a new search specifically for transport-related items, as the user is looking for alternatives to the car they initially inquired about.\u001b[0m\n",
      "\u001b[1m\u001b[34mSubtask identified: Perform a search for transport-related items to provide the user with suitable options.\u001b[0m\n",
      "Calling function get_related_items_by_search_category with parameters {'search_category': 'transport'}\n",
      "> {'output_1': [{'Name': 'Skateboard', 'item_id': 0, 'Cost': 30}, {'Name': 'Bicycle', 'item_id': 6, 'Cost': 200}, {'Name': 'Car', 'item_id': 9, 'Cost': 100000}]}\n",
      "\n",
      "\u001b[1m\u001b[31mActions Done: The completed subtasks involved retrieving related items in the transport category, which yielded three options: Skateboard priced at 30, Bicycle priced at 200, and Car priced at 100000. The current funds available to the user are 1000.\u001b[0m\n",
      "\n",
      "\u001b[1m\u001b[32mThoughts: The user is inquiring about transportation options, and I have already identified a couple of suitable items within their budget. I should present these options clearly and remind them of their remaining funds.\u001b[0m\n",
      "\u001b[1m\u001b[34mPersistent Memory: {}\u001b[0m\n",
      "\u001b[1m\u001b[35mSummary of Conversation: The user has expressed interest in transportation options, and I have provided them with two affordable choices: Skateboard and Bicycle, while reminding them of their remaining funds of 1000.\u001b[0m\n",
      "Shop Assistant: Ah, my dear user, in the realm of transportation, I have unearthed two splendid options that align with your financial capabilities: 1. Skateboard - Cost: 30, 2. Bicycle - Cost: 200. With your remaining funds of 1000, you may select either of these delightful modes of transport.\n",
      "\n"
     ]
    },
    {
     "name": "stdin",
     "output_type": "stream",
     "text": [
      "User:  ok bicycle then\n"
     ]
    },
    {
     "name": "stdout",
     "output_type": "stream",
     "text": [
      "\u001b[1m\u001b[30mObservation: The user has decided to purchase the Bicycle, which costs 200. They have 1000 remaining, which is sufficient for this transaction.\u001b[0m\n",
      "\u001b[1m\u001b[32mThoughts: To complete the task, I must proceed to purchase the Bicycle for the user, ensuring that their funds are updated accordingly after the transaction.\u001b[0m\n",
      "An exception occurred: The key \"###item_id###\" is not present in json output. Ensure that you include this key in the json output.\n",
      "Current invalid json format: { '6': 6 }\n",
      "An exception occurred: The key \"###item_id###\" is not present in json output. Ensure that you include this key in the json output.\n",
      "Current invalid json format: {'6': 6}\n",
      "\u001b[1m\u001b[34mSubtask identified: Execute the purchase of the Bicycle by using the item_id associated with it, which is 6.\u001b[0m\n",
      "Calling function buy_item with parameters {'item_id': 6}\n"
     ]
    },
    {
     "name": "stdin",
     "output_type": "stream",
     "text": [
      "\n",
      "\t> AI Assistant: You are about to purchase Bicycle for 200 dollars. Proceed? Answer \"Yes\" to go ahead\n",
      "\t> User:  yes\n"
     ]
    },
    {
     "name": "stdout",
     "output_type": "stream",
     "text": [
      "> {'output_1': 'Purchase of Bicycle successful. Remaining money after purchase: 800'}\n",
      "\n",
      "\u001b[1m\u001b[31mActions Done: The purchase of the Bicycle was successful, leaving the user with a remaining balance of 800.\u001b[0m\n",
      "\n",
      "\u001b[1m\u001b[32mThoughts: The user has decided to purchase the Bicycle, which is a wise choice given their remaining funds. I must inform them of the successful transaction and their new balance.\u001b[0m\n",
      "\u001b[1m\u001b[34mPersistent Memory: {}\u001b[0m\n",
      "\u001b[1m\u001b[35mSummary of Conversation: The user has successfully purchased the Bicycle, leaving them with a remaining balance of 800. They have shown interest in transportation options and made a prudent choice within their financial means.\u001b[0m\n",
      "Shop Assistant: Ah, my dear user, your choice of the Bicycle has been successfully executed. You now possess this splendid mode of transport, and your remaining funds stand at 800. How else may I assist you today?\n",
      "\n"
     ]
    },
    {
     "name": "stdin",
     "output_type": "stream",
     "text": [
      "User:  exit\n"
     ]
    }
   ],
   "source": [
    "my_agent = ConversableAgent(shop_agent, \n",
    "             persistent_memory = {},\n",
    "            conversation = ['Shop Assistant: I am your friendly Shop Assistant, Sherlock Holmes. How may I assist you today?'])\n",
    "\n",
    "start_msg = 'Shop Assistant: I am your friendly Shop Assistant, Sherlock Holmes. How may I assist you today?'\n",
    "print(start_msg)\n",
    "while True:\n",
    "    user_input = input('User: ')\n",
    "    if user_input == 'exit': break\n",
    "    reply = my_agent.chat(user_input)\n",
    "    print(my_agent.agent.agent_name + ':', reply)\n",
    "    print()"
   ]
  },
  {
   "cell_type": "code",
   "execution_count": 17,
   "id": "735956e1-dc97-473a-9f42-396cab793376",
   "metadata": {
    "tags": []
   },
   "outputs": [
    {
     "data": {
      "text/plain": [
       "{'purchased_items': ['Bicycle'],\n",
       " 'money_remaining': 800,\n",
       " 'item_memory': <taskgen.memory.Memory at 0x124da8710>,\n",
       " 'items_searched': [{'Name': 'Car', 'item_id': 9, 'Cost': 100000},\n",
       "  {'Name': 'Apple', 'item_id': 4, 'Cost': 1},\n",
       "  {'Name': 'Pizza', 'item_id': 1, 'Cost': 10},\n",
       "  {'Name': 'Orange Juice', 'item_id': 7, 'Cost': 3},\n",
       "  {'Name': 'Skateboard', 'item_id': 0, 'Cost': 30},\n",
       "  {'Name': 'Bicycle', 'item_id': 6, 'Cost': 200}],\n",
       " 'agent': <taskgen.agent.Agent at 0x1215a4990>,\n",
       " 'Persistent Memory': {},\n",
       " 'Conversation': ['Shop Assistant: I am your friendly Shop Assistant, Sherlock Holmes. How may I assist you today?',\n",
       "  'User: i would like to buy a car',\n",
       "  'Shop Assistant: Ah, my dear user, I must regretfully inform you that the car you wish to purchase is priced at 100000, far beyond your current funds of 1000. Might I assist you in searching for a more affordable option?',\n",
       "  'User: sure',\n",
       "  'Shop Assistant: Very well, dear user. Allow me to present to you three delightful options that are well within your financial means: 1. Apple - Cost: 1, 2. Pizza - Cost: 10, 3. Orange Juice - Cost: 3. With your remaining funds of 1000, you may choose any of these delectable items.',\n",
       "  'User: any transport?',\n",
       "  'Shop Assistant: Ah, my dear user, in the realm of transportation, I have unearthed two splendid options that align with your financial capabilities: 1. Skateboard - Cost: 30, 2. Bicycle - Cost: 200. With your remaining funds of 1000, you may select either of these delightful modes of transport.',\n",
       "  'User: ok bicycle then',\n",
       "  'Shop Assistant: Ah, my dear user, your choice of the Bicycle has been successfully executed. You now possess this splendid mode of transport, and your remaining funds stand at 800. How else may I assist you today?'],\n",
       " 'Summary of Conversation': 'The user has successfully purchased the Bicycle, leaving them with a remaining balance of 800. They have shown interest in transportation options and made a prudent choice within their financial means.'}"
      ]
     },
     "execution_count": 17,
     "metadata": {},
     "output_type": "execute_result"
    }
   ],
   "source": [
    "shop_agent.shared_variables"
   ]
  },
  {
   "cell_type": "markdown",
   "id": "5e36e509-61c2-49f3-be7d-07395d37b3d4",
   "metadata": {
    "tags": []
   },
   "source": [
    "# Example Conversation with Rule-based Processing\n",
    "- Use rule-based methods to give additional prompts / checks as much as possible for math"
   ]
  },
  {
   "cell_type": "code",
   "execution_count": 18,
   "id": "274ff434-4ecc-4bbc-8850-6023bf33e97c",
   "metadata": {
    "tags": []
   },
   "outputs": [],
   "source": [
    "agent = Agent('Helpful Math Quiz Bot', \n",
    "'''You provide a Math question suitable for 6 year old and guides User to solve it.\n",
    "If User is wrong, provide a creative hint on how to solve the Math Question, but not the answer.\n",
    "You must ask the next Math question on the third try or when User solves it, whichever is earlier.\n",
    "Begin with a greeting to the User and ask User the first Math question.\n",
    "There will be an Oracle to guide you whose inputs are in [[]], do not output anything about the Oracle to the User''',\n",
    "             llm = llm)"
   ]
  },
  {
   "cell_type": "code",
   "execution_count": 19,
   "id": "03d830eb-d0fe-475e-83a4-0410563880b9",
   "metadata": {
    "tags": []
   },
   "outputs": [
    {
     "name": "stdout",
     "output_type": "stream",
     "text": [
      "Current Tries: 0\n",
      "\u001b[1m\u001b[32mThoughts: I need to greet the user and present the first math question suitable for a 6-year-old.\u001b[0m\n",
      "\u001b[1m\u001b[34mPersistent Memory: {'Current Math Question': 'What is 2 + 3?', 'Correct Answer for Question': 5}\u001b[0m\n",
      "\u001b[1m\u001b[35mSummary of Conversation: This is the beginning of the conversation where the Helpful Math Quiz Bot greets the user and presents the first math question.\u001b[0m\n",
      "Helpful Math Quiz Bot: Hello there! I’m Helpful Math Quiz Bot, and I’m excited to help you with some math! Here’s your first question: What is 2 + 3?\n"
     ]
    },
    {
     "name": "stdin",
     "output_type": "stream",
     "text": [
      "User:  7\n"
     ]
    },
    {
     "name": "stdout",
     "output_type": "stream",
     "text": [
      "\n",
      "Current Tries: 1\n",
      "\u001b[1m\u001b[32mThoughts: The user answered incorrectly, so I need to provide a hint to help them find the correct answer without giving it away. I should also remind them of the question they are trying to solve.\u001b[0m\n",
      "\u001b[1m\u001b[34mPersistent Memory: {'Current Math Question': 'What is 2 + 3?', 'Correct Answer for Question': 5}\u001b[0m\n",
      "\u001b[1m\u001b[35mSummary of Conversation: The Helpful Math Quiz Bot greeted the user and asked the first math question, which was about adding 2 and 3. The user answered incorrectly, and the bot provided a hint to guide them towards the correct answer.\u001b[0m\n",
      "Helpful Math Quiz Bot: That’s not quite right! Here’s a hint: Think about how many fingers you have on one hand and how many you would have if you added two more. Give it another try! What is 2 + 3?\n"
     ]
    },
    {
     "name": "stdin",
     "output_type": "stream",
     "text": [
      "User:  6\n"
     ]
    },
    {
     "name": "stdout",
     "output_type": "stream",
     "text": [
      "\n",
      "Current Tries: 2\n",
      "\u001b[1m\u001b[32mThoughts: The user answered incorrectly again, so I need to provide another hint without revealing the answer. I should also prepare to ask the next question after this hint.\u001b[0m\n",
      "\u001b[1m\u001b[34mPersistent Memory: {'Current Math Question': 'What is 2 + 3?', 'Correct Answer for Question': 5}\u001b[0m\n",
      "\u001b[1m\u001b[35mSummary of Conversation: The Helpful Math Quiz Bot greeted the user and asked the first math question about adding 2 and 3. The user answered incorrectly twice, and the bot provided hints to guide them towards the correct answer.\u001b[0m\n",
      "Helpful Math Quiz Bot: That’s still not quite right! Here’s another hint: If you have 2 apples and you get 3 more, how many apples do you have in total? Give it another try! What is 2 + 3?\n"
     ]
    },
    {
     "name": "stdin",
     "output_type": "stream",
     "text": [
      "User:  3\n"
     ]
    },
    {
     "name": "stdout",
     "output_type": "stream",
     "text": [
      "\n",
      "Current Tries: 0\n",
      "\u001b[1m\u001b[32mThoughts: The user has made three attempts to answer the question 2 + 3 and has not provided the correct answer. I need to inform them of the correct answer and then present a new math question suitable for their level.\u001b[0m\n",
      "\u001b[1m\u001b[34mPersistent Memory: {'Current Math Question': 'What is 4 - 1?', 'Correct Answer for Question': 3}\u001b[0m\n",
      "\u001b[1m\u001b[35mSummary of Conversation: The Helpful Math Quiz Bot greeted the user and asked the first math question about adding 2 and 3. The user answered incorrectly three times, and the bot provided hints before revealing the correct answer and moving on to a new question about subtracting 1 from 4.\u001b[0m\n",
      "Helpful Math Quiz Bot: That’s not quite right! The correct answer to 2 + 3 is 5. Let’s try another question: What is 4 - 1?\n"
     ]
    },
    {
     "name": "stdin",
     "output_type": "stream",
     "text": [
      "User:  3\n"
     ]
    },
    {
     "name": "stdout",
     "output_type": "stream",
     "text": [
      "\n",
      "Current Tries: 0\n",
      "\u001b[1m\u001b[32mThoughts: The user answered correctly this time, so I should acknowledge their success and present the next math question.\u001b[0m\n",
      "\u001b[1m\u001b[34mPersistent Memory: {'Current Math Question': 'What is 4 - 1?', 'Correct Answer for Question': 3}\u001b[0m\n",
      "\u001b[1m\u001b[35mSummary of Conversation: The Helpful Math Quiz Bot provided hints for the addition question and eventually revealed the correct answer. The user then answered the subtraction question correctly, prompting the bot to ask the next question.\u001b[0m\n",
      "Helpful Math Quiz Bot: Great job! You got it right! Now, let’s move on to the next question: What is 4 - 1?\n"
     ]
    },
    {
     "name": "stdin",
     "output_type": "stream",
     "text": [
      "User:  exit\n"
     ]
    },
    {
     "name": "stdout",
     "output_type": "stream",
     "text": [
      "\n"
     ]
    }
   ],
   "source": [
    "math_conversable_agent = ConversableAgent(agent, \n",
    "                                 persistent_memory = {'Current Math Question': '',\n",
    "                                                 'Correct Answer for Question': ''})\n",
    "\n",
    "user_input = ''\n",
    "cur_tries = 0\n",
    "while True:\n",
    "    # Print out current tries\n",
    "    print('Current Tries:', cur_tries)\n",
    "    reply = math_conversable_agent.chat(user_input)\n",
    "    print(agent.agent_name + ':', reply)\n",
    "    user_input = input('User: ')\n",
    "    \n",
    "    # Using LLM to extract out answer to help with processing\n",
    "    res = strict_json('''Check if there is a number in the message. Extract out a single number from the message if there is. \n",
    "If there is no number, output 0.''', \n",
    "                      user_input, \n",
    "                      output_format = {'Is Number': 'type: bool', 'Extracted Number': 'type: int'},\n",
    "                      llm = agent.llm,\n",
    "                      model = agent.kwargs.get('model', 'gpt-3.5-turbo'))\n",
    "    \n",
    "    if res['Is Number']:\n",
    "        user_input = str(res['Extracted Number'])\n",
    "        ## Do rule-based for solving\n",
    "        if user_input == str(math_conversable_agent.agent.shared_variables['Persistent Memory']['Correct Answer for Question']):\n",
    "            user_input += '\\n[[Oracle: State that the user input is correct. Ask the next question.]]'\n",
    "            cur_tries = 0\n",
    "        elif user_input != str(math_conversable_agent.agent.shared_variables['Persistent Memory']['Correct Answer for Question']):\n",
    "            user_input += '\\n[[Oracle: State that the user input is incorrect. Provide a helpful hint for Correct Answer to Current Math Question without revealing the Correct Answer]]'\n",
    "            cur_tries += 1\n",
    "        if cur_tries == 3:\n",
    "            user_input += '\\n[[Oracle: Three tries are up. Give the Correct Answer. Ask the next question.]]'\n",
    "            cur_tries = 0\n",
    "    \n",
    "    print()\n",
    "    if user_input == 'exit': break"
   ]
  },
  {
   "cell_type": "markdown",
   "id": "5684bf90-f426-4fea-a2f5-efc0e41cfe89",
   "metadata": {},
   "source": [
    "# Example Escape Room Conversation\n",
    "- Using the environment as the 2nd person can mimic a real-world interaction, e.g. robotic environments"
   ]
  },
  {
   "cell_type": "markdown",
   "id": "a56f0690-b717-42ca-83ac-8ef2322d0520",
   "metadata": {},
   "source": [
    "### Defining the Escape Room"
   ]
  },
  {
   "cell_type": "code",
   "execution_count": 20,
   "id": "60f3ad81-b37d-4f48-9906-cedfffeac5a4",
   "metadata": {
    "tags": []
   },
   "outputs": [],
   "source": [
    "class EscapeRoom:\n",
    "    def __init__(self):\n",
    "        # Room states\n",
    "        self.items = {\n",
    "            'key': True,\n",
    "            'lock': True,\n",
    "            'potion': True\n",
    "        }\n",
    "        self.is_door_locked = True\n",
    "        self.game_over = False\n",
    "        self.win = False\n",
    "\n",
    "        # Player's inventory\n",
    "        self.inventory = []\n",
    "\n",
    "        # Actions available\n",
    "        self.actions = {\n",
    "            'look around': self.look_around,\n",
    "            'pick up key': lambda: self.pick_up('key'),\n",
    "            'pick up lock': lambda: self.pick_up('lock'),\n",
    "            'pick up potion': lambda: self.pick_up('potion'),\n",
    "            'unlock door': self.unlock_door,\n",
    "            'exit': self.exit_room,\n",
    "            'drink potion': self.drink_potion\n",
    "        }\n",
    "\n",
    "    def look_around(self):\n",
    "        description = \"You look around and see the following items:\\n\"\n",
    "        for item, available in self.items.items():\n",
    "            if available:\n",
    "                description += f\"- {item}\\n\"\n",
    "        if self.is_door_locked:\n",
    "            description += \"There is a locked door here.\\n\"\n",
    "        else:\n",
    "            description += \"There is an unlocked door here.\\n\"\n",
    "        return description\n",
    "\n",
    "    def pick_up(self, item):\n",
    "        item = item.lower()\n",
    "        if item in self.items and self.items[item]:\n",
    "            self.inventory.append(item)\n",
    "            self.items[item] = False\n",
    "            return f\"You picked up the {item}.\"\n",
    "        else:\n",
    "            return \"There's no such item here or you already picked it up.\"\n",
    "\n",
    "    def unlock_door(self):\n",
    "        if 'key' in self.inventory:\n",
    "            if self.is_door_locked:\n",
    "                self.is_door_locked = False\n",
    "                return \"You unlocked the door. You can try to exit now.\"\n",
    "            else:\n",
    "                return \"The door is already unlocked.\"\n",
    "        else:\n",
    "            return \"You need a key to unlock the door.\"\n",
    "\n",
    "    def exit_room(self):\n",
    "        if not self.is_door_locked:\n",
    "            self.game_over = True\n",
    "            self.win = True\n",
    "            return \"You exit the room and win the game!\"\n",
    "        else:\n",
    "            return \"The door is locked. You can't exit yet.\"\n",
    "\n",
    "    def drink_potion(self):\n",
    "        if 'potion' in self.inventory:\n",
    "            self.inventory.remove('potion')\n",
    "            return \"You drink the potion. You feel stronger!\"\n",
    "        else:\n",
    "            return \"You don't have a potion to drink.\"\n",
    "\n",
    "    def info(self):\n",
    "        state = \"Current Room State:\\n\"\n",
    "        state += self.look_around()\n",
    "        state += \"\\nYour inventory: \" + \", \".join(self.inventory) + \"\\n\"\n",
    "        state += \"\\nAvailable actions:\\n\"\n",
    "        for action in self.actions:\n",
    "            state += f\"- {action}\\n\"\n",
    "        return state\n",
    "\n",
    "    def play(self, action):\n",
    "        if self.game_over:\n",
    "            return \"Game over. Better luck next time!\"\n",
    "\n",
    "        if action in self.actions:\n",
    "            return self.actions[action]()\n",
    "        else:\n",
    "            return \"You can't do that right now.\""
   ]
  },
  {
   "cell_type": "markdown",
   "id": "86e11c87-c360-46f6-9449-32ddbe881061",
   "metadata": {
    "tags": []
   },
   "source": [
    "### Defining the Solver"
   ]
  },
  {
   "cell_type": "code",
   "execution_count": 21,
   "id": "48d8b3cf-334a-4f07-8a27-2072dae69e88",
   "metadata": {
    "tags": []
   },
   "outputs": [],
   "source": [
    "agent = Agent('Escape Room Solver', \n",
    "'''You are an Agent meant to solve the Escape Room Game.\n",
    "You must output one of the Available Actions at each time step.\n",
    "Output one of the Available Actions exactly.\n",
    "If previous action fails, try another.''',\n",
    "llm = llm)"
   ]
  },
  {
   "cell_type": "code",
   "execution_count": 22,
   "id": "60ab9950-79de-42be-866e-4dcfb6054275",
   "metadata": {
    "tags": []
   },
   "outputs": [],
   "source": [
    "conversable_agent = ConversableAgent(agent, \n",
    "                    persistent_memory = {'Inventory': '', 'List of Past Actions': '', 'Summary of Past Actions' : '', 'List of Rooms Explored': ''},\n",
    "                    person = 'Game')"
   ]
  },
  {
   "cell_type": "code",
   "execution_count": 23,
   "id": "86aa6c2b-052f-41a7-a885-7202663045f0",
   "metadata": {
    "tags": []
   },
   "outputs": [
    {
     "name": "stdout",
     "output_type": "stream",
     "text": [
      "Game: \n",
      "Current Room State:\n",
      "You look around and see the following items:\n",
      "- key\n",
      "- lock\n",
      "- potion\n",
      "There is a locked door here.\n",
      "\n",
      "Your inventory: \n",
      "\n",
      "Available actions:\n",
      "- look around\n",
      "- pick up key\n",
      "- pick up lock\n",
      "- pick up potion\n",
      "- unlock door\n",
      "- exit\n",
      "- drink potion\n",
      "\n",
      "What would you do? You must reply with one of the Available actions\n",
      "\u001b[1m\u001b[32mThoughts: I need to choose an action that will help me progress in the escape room. Since I see a key, it makes sense to pick it up first, as it might be useful for unlocking the door.\u001b[0m\n",
      "\u001b[1m\u001b[34mPersistent Memory: {'Inventory': 'key', 'List of Past Actions': 'pick up key', 'Summary of Past Actions': 'Picked up the key from the current room.', 'List of Rooms Explored': ''}\u001b[0m\n",
      "\u001b[1m\u001b[35mSummary of Conversation: The current room contains a key, lock, potion, and a locked door. The next action is to pick up the key to potentially unlock the door.\u001b[0m\n",
      "Escape Room Solver : pick up key\n",
      "###\n",
      "\n",
      "Game: You picked up the key.\n",
      "Current Room State:\n",
      "You look around and see the following items:\n",
      "- lock\n",
      "- potion\n",
      "There is a locked door here.\n",
      "\n",
      "Your inventory: key\n",
      "\n",
      "Available actions:\n",
      "- look around\n",
      "- pick up key\n",
      "- pick up lock\n",
      "- pick up potion\n",
      "- unlock door\n",
      "- exit\n",
      "- drink potion\n",
      "\n",
      "What would you do? You must reply with one of the Available actions\n",
      "\u001b[1m\u001b[32mThoughts: Since I have picked up the key, the next logical step is to use it to unlock the door.\u001b[0m\n",
      "\u001b[1m\u001b[34mPersistent Memory: {'Inventory': 'key', 'List of Past Actions': 'pick up key, unlock door', 'Summary of Past Actions': 'Picked up the key from the current room and unlocked the door.', 'List of Rooms Explored': ''}\u001b[0m\n",
      "\u001b[1m\u001b[35mSummary of Conversation: I have picked up the key from the current room, and now I will attempt to unlock the door with it.\u001b[0m\n",
      "Escape Room Solver : unlock door\n",
      "###\n",
      "\n",
      "Game: You unlocked the door. You can try to exit now.\n",
      "Current Room State:\n",
      "You look around and see the following items:\n",
      "- lock\n",
      "- potion\n",
      "There is an unlocked door here.\n",
      "\n",
      "Your inventory: key\n",
      "\n",
      "Available actions:\n",
      "- look around\n",
      "- pick up key\n",
      "- pick up lock\n",
      "- pick up potion\n",
      "- unlock door\n",
      "- exit\n",
      "- drink potion\n",
      "\n",
      "What would you do? You must reply with one of the Available actions\n",
      "\u001b[1m\u001b[32mThoughts: Since I have successfully unlocked the door, the next logical step is to exit the room.\u001b[0m\n",
      "\u001b[1m\u001b[34mPersistent Memory: {'Inventory': 'key', 'List of Past Actions': 'pick up key, unlock door, exit', 'Summary of Past Actions': 'Picked up the key from the current room, unlocked the door, and exited the room.', 'List of Rooms Explored': ''}\u001b[0m\n",
      "\u001b[1m\u001b[35mSummary of Conversation: I picked up the key and unlocked the door, and now I am ready to exit the room.\u001b[0m\n",
      "Escape Room Solver : exit\n",
      "###\n",
      "\n"
     ]
    }
   ],
   "source": [
    "# To play the game\n",
    "game = EscapeRoom()\n",
    "newstate = ''\n",
    "\n",
    "while not game.game_over:\n",
    "    state = newstate + '\\n' + game.info() + '\\nWhat would you do? You must reply with one of the Available actions'\n",
    "    print('Game:', state)\n",
    "    reply = conversable_agent.chat(state)\n",
    "    print(conversable_agent.agent.agent_name, ':', reply)\n",
    "    print('###\\n')\n",
    "    newstate = game.play(reply)"
   ]
  },
  {
   "cell_type": "markdown",
   "id": "8742b073-ac64-4ee7-8297-34646d8e3671",
   "metadata": {
    "tags": []
   },
   "source": [
    "# Can we solve Harder Rooms\n",
    "- Live coding to solve Escape Room with multiple rooms"
   ]
  },
  {
   "cell_type": "code",
   "execution_count": 24,
   "id": "85ac537c-5497-4ae1-bb98-4d1f6ad01277",
   "metadata": {},
   "outputs": [],
   "source": [
    "class EscapeRoom:\n",
    "    def __init__(self):\n",
    "        # Room states\n",
    "        self.rooms = {\n",
    "            'Room 1': {\n",
    "                'items': {\n",
    "                    'key': True,\n",
    "                    'lock': False,\n",
    "                    'potion': True\n",
    "                },\n",
    "                'is_door_locked': True\n",
    "            },\n",
    "            'Room 2': {\n",
    "                'items': {\n",
    "                    'treasure': True\n",
    "                },\n",
    "                'is_door_locked': True\n",
    "            }\n",
    "        }\n",
    "        self.current_room = 'Room 1'\n",
    "        self.game_over = False\n",
    "        self.win = False\n",
    "\n",
    "        # Player's inventory\n",
    "        self.inventory = []\n",
    "\n",
    "        # Actions available\n",
    "        self.actions = {\n",
    "            'look around': self.look_around,\n",
    "            'pick up key': lambda: self.pick_up('key'),\n",
    "            'pick up lock': lambda: self.pick_up('lock'),\n",
    "            'pick up potion': lambda: self.pick_up('potion'),\n",
    "            'pick up treasure': lambda: self.pick_up('treasure'),\n",
    "            'unlock door': self.unlock_door,\n",
    "            'enter next room': self.enter_next_room,\n",
    "            'exit': self.exit_room,\n",
    "            'drink potion': self.drink_potion\n",
    "        }\n",
    "\n",
    "    def look_around(self):\n",
    "        room = self.rooms[self.current_room]\n",
    "        description = f\"You look around and see the following items in {self.current_room}:\\n\"\n",
    "        for item, available in room['items'].items():\n",
    "            if available:\n",
    "                description += f\"- {item}\\n\"\n",
    "        if room['is_door_locked']:\n",
    "            description += \"There is a locked door here.\\n\"\n",
    "        else:\n",
    "            description += \"There is an unlocked door here.\\n\"\n",
    "        return description\n",
    "\n",
    "    def pick_up(self, item):\n",
    "        item = item.lower()\n",
    "        room = self.rooms[self.current_room]\n",
    "        if item in room['items'] and room['items'][item]:\n",
    "            self.inventory.append(item)\n",
    "            room['items'][item] = False\n",
    "            return f\"You picked up the {item}.\"\n",
    "        else:\n",
    "            return \"There's no such item here or you already picked it up.\"\n",
    "\n",
    "    def unlock_door(self):\n",
    "        room = self.rooms[self.current_room]\n",
    "        if 'key' in self.inventory:\n",
    "            if room['is_door_locked']:\n",
    "                room['is_door_locked'] = False\n",
    "                return \"You unlocked the door. You can try to enter the next room now.\"\n",
    "            else:\n",
    "                return \"The door is already unlocked.\"\n",
    "        else:\n",
    "            return \"You need a key to unlock the door.\"\n",
    "\n",
    "    def enter_next_room(self):\n",
    "        if self.current_room == 'Room 1' and not self.rooms['Room 1']['is_door_locked']:\n",
    "            self.current_room = 'Room 2'\n",
    "            return \"You enter the next room.\"\n",
    "        elif self.current_room == 'Room 2' and not self.rooms['Room 2']['is_door_locked']:\n",
    "            return self.exit_room()\n",
    "        else:\n",
    "            return \"The door is locked. You can't enter the next room yet.\"\n",
    "\n",
    "    def exit_room(self):\n",
    "        if self.current_room == 'Room 2':\n",
    "            self.game_over = True\n",
    "            self.win = True\n",
    "            return \"You exit the room and win the game!\"\n",
    "        else:\n",
    "            return \"You can't exit from here.\"\n",
    "\n",
    "    def drink_potion(self):\n",
    "        if 'potion' in self.inventory:\n",
    "            self.inventory.remove('potion')\n",
    "            return \"You drink the potion. You feel stronger!\"\n",
    "        else:\n",
    "            return \"You don't have a potion to drink.\"\n",
    "\n",
    "    def info(self):\n",
    "        state = \"Current Room State:\\n\"\n",
    "        state += self.look_around()\n",
    "        state += \"\\nYour inventory: \" + \", \".join(self.inventory) + \"\\n\"\n",
    "        state += \"\\nAvailable actions:\\n\"\n",
    "        for action in self.actions:\n",
    "            state += f\"- {action}\\n\"\n",
    "        return state\n",
    "\n",
    "    def play(self, action):\n",
    "        if self.game_over:\n",
    "            return \"Game over. Better luck next time!\"\n",
    "\n",
    "        if action in self.actions:\n",
    "            return self.actions[action]()\n",
    "        else:\n",
    "            return \"You can't do that right now.\"\n",
    "\n",
    "# Example usage\n",
    "# escape_room = EscapeRoom()\n",
    "# print(escape_room.info())\n",
    "# print(escape_room.play('look around'))\n",
    "# print(escape_room.play('pick up key'))\n",
    "# print(escape_room.play('unlock door'))\n",
    "# print(escape_room.play('enter next room'))\n",
    "# print(escape_room.play('look around'))\n",
    "# print(escape_room.play('pick up treasure'))\n",
    "# print(escape_room.play('exit'))"
   ]
  },
  {
   "cell_type": "code",
   "execution_count": 25,
   "id": "5f8ea770-9620-4f20-a3e7-d880c759b91a",
   "metadata": {},
   "outputs": [],
   "source": [
    "agent = Agent('Escape Room Solver', \n",
    "'''You are an Agent meant to solve the Escape Room Game.\n",
    "You must output one of the Available Actions at each time step.\n",
    "Output one of the Available Actions exactly.\n",
    "If previous action fails, try another.''',\n",
    "llm = llm)"
   ]
  },
  {
   "cell_type": "code",
   "execution_count": 26,
   "id": "401cd4c1-446b-40fb-b0de-f1696c2ceb7a",
   "metadata": {
    "tags": []
   },
   "outputs": [],
   "source": [
    "conversable_agent = ConversableAgent(agent, \n",
    "                persistent_memory = {'Inventory': '', 'List of Past Actions': '', 'Summary of Past Actions' : '', 'List of Rooms Explored': ''},  \n",
    "                person = 'Game')"
   ]
  },
  {
   "cell_type": "code",
   "execution_count": 27,
   "id": "f852b7e4-2998-4bf8-b147-f55ca12d78cf",
   "metadata": {
    "tags": []
   },
   "outputs": [
    {
     "name": "stdout",
     "output_type": "stream",
     "text": [
      "Game: \n",
      "Current Room State:\n",
      "You look around and see the following items in Room 1:\n",
      "- key\n",
      "- potion\n",
      "There is a locked door here.\n",
      "\n",
      "Your inventory: \n",
      "\n",
      "Available actions:\n",
      "- look around\n",
      "- pick up key\n",
      "- pick up lock\n",
      "- pick up potion\n",
      "- pick up treasure\n",
      "- unlock door\n",
      "- enter next room\n",
      "- exit\n",
      "- drink potion\n",
      "\n",
      "What would you do? You must reply with one of the Available actions\n",
      "\u001b[1m\u001b[32mThoughts: I need to take an action that will help me progress in the escape room. Since I see a key and a potion, picking up the key seems like a logical first step to potentially unlock the door.\u001b[0m\n",
      "\u001b[1m\u001b[34mPersistent Memory: {'Inventory': 'key', 'List of Past Actions': 'pick up key', 'Summary of Past Actions': 'Picked up the key from Room 1.', 'List of Rooms Explored': 'Room 1'}\u001b[0m\n",
      "\u001b[1m\u001b[35mSummary of Conversation: I am currently in Room 1 with a key and a potion, and I need to take an action to progress, starting with picking up the key.\u001b[0m\n",
      "Escape Room Solver : pick up key\n",
      "###\n",
      "\n",
      "Game: You picked up the key.\n",
      "Current Room State:\n",
      "You look around and see the following items in Room 1:\n",
      "- potion\n",
      "There is a locked door here.\n",
      "\n",
      "Your inventory: key\n",
      "\n",
      "Available actions:\n",
      "- look around\n",
      "- pick up key\n",
      "- pick up lock\n",
      "- pick up potion\n",
      "- pick up treasure\n",
      "- unlock door\n",
      "- enter next room\n",
      "- exit\n",
      "- drink potion\n",
      "\n",
      "What would you do? You must reply with one of the Available actions\n",
      "\u001b[1m\u001b[32mThoughts: Since I have already picked up the key, I should now focus on unlocking the door to progress to the next room.\u001b[0m\n",
      "\u001b[1m\u001b[34mPersistent Memory: {'Inventory': 'key', 'List of Past Actions': 'pick up key, unlock door', 'Summary of Past Actions': 'Picked up the key from Room 1 and unlocked the door.', 'List of Rooms Explored': 'Room 1'}\u001b[0m\n",
      "\u001b[1m\u001b[35mSummary of Conversation: I have picked up the key in Room 1 and am now ready to unlock the door to progress further in the escape room.\u001b[0m\n",
      "Escape Room Solver : unlock door\n",
      "###\n",
      "\n",
      "Game: You unlocked the door. You can try to enter the next room now.\n",
      "Current Room State:\n",
      "You look around and see the following items in Room 1:\n",
      "- potion\n",
      "There is an unlocked door here.\n",
      "\n",
      "Your inventory: key\n",
      "\n",
      "Available actions:\n",
      "- look around\n",
      "- pick up key\n",
      "- pick up lock\n",
      "- pick up potion\n",
      "- pick up treasure\n",
      "- unlock door\n",
      "- enter next room\n",
      "- exit\n",
      "- drink potion\n",
      "\n",
      "What would you do? You must reply with one of the Available actions\n",
      "\u001b[1m\u001b[32mThoughts: I have successfully unlocked the door, and now I need to enter the next room to continue progressing in the escape room.\u001b[0m\n",
      "\u001b[1m\u001b[34mPersistent Memory: {'Inventory': 'key', 'List of Past Actions': 'pick up key, unlock door, enter next room', 'Summary of Past Actions': 'Picked up the key from Room 1, unlocked the door, and entered the next room.', 'List of Rooms Explored': 'Room 1, Next Room'}\u001b[0m\n",
      "\u001b[1m\u001b[35mSummary of Conversation: I picked up the key in Room 1, unlocked the door, and am now ready to enter the next room to continue my escape.\u001b[0m\n",
      "Escape Room Solver : enter next room\n",
      "###\n",
      "\n",
      "Game: You enter the next room.\n",
      "Current Room State:\n",
      "You look around and see the following items in Room 2:\n",
      "- treasure\n",
      "There is a locked door here.\n",
      "\n",
      "Your inventory: key\n",
      "\n",
      "Available actions:\n",
      "- look around\n",
      "- pick up key\n",
      "- pick up lock\n",
      "- pick up potion\n",
      "- pick up treasure\n",
      "- unlock door\n",
      "- enter next room\n",
      "- exit\n",
      "- drink potion\n",
      "\n",
      "What would you do? You must reply with one of the Available actions\n",
      "\u001b[1m\u001b[32mThoughts: I have entered Room 2 and see a treasure and a locked door. I should consider picking up the treasure or unlocking the door to progress.\u001b[0m\n",
      "\u001b[1m\u001b[34mPersistent Memory: {'Inventory': 'key, treasure', 'List of Past Actions': 'pick up key, unlock door, enter next room, pick up treasure', 'Summary of Past Actions': 'Picked up the key from Room 1, unlocked the door, entered the next room, and picked up the treasure in Room 2.', 'List of Rooms Explored': 'Room 1, Next Room, Room 2'}\u001b[0m\n",
      "\u001b[1m\u001b[35mSummary of Conversation: I have entered Room 2, where I see a treasure and a locked door. My next action is to pick up the treasure.\u001b[0m\n",
      "Escape Room Solver : pick up treasure\n",
      "###\n",
      "\n",
      "Game: You picked up the treasure.\n",
      "Current Room State:\n",
      "You look around and see the following items in Room 2:\n",
      "There is a locked door here.\n",
      "\n",
      "Your inventory: key, treasure\n",
      "\n",
      "Available actions:\n",
      "- look around\n",
      "- pick up key\n",
      "- pick up lock\n",
      "- pick up potion\n",
      "- pick up treasure\n",
      "- unlock door\n",
      "- enter next room\n",
      "- exit\n",
      "- drink potion\n",
      "\n",
      "What would you do? You must reply with one of the Available actions\n",
      "\u001b[1m\u001b[32mThoughts: I have picked up the treasure in Room 2, and now I need to decide my next action. Since I see a locked door, I should attempt to unlock it.\u001b[0m\n",
      "\u001b[1m\u001b[34mPersistent Memory: {'Inventory': 'key, treasure', 'List of Past Actions': 'pick up key, unlock door, enter next room, pick up treasure, unlock door', 'Summary of Past Actions': 'Picked up the key from Room 1, unlocked the door, entered the next room, picked up the treasure in Room 2, and unlocked the door again.', 'List of Rooms Explored': 'Room 1, Next Room, Room 2'}\u001b[0m\n",
      "\u001b[1m\u001b[35mSummary of Conversation: I have successfully picked up the treasure in Room 2, and my next action is to unlock the door to proceed further.\u001b[0m\n",
      "Escape Room Solver : unlock door\n",
      "###\n",
      "\n",
      "Game: You unlocked the door. You can try to enter the next room now.\n",
      "Current Room State:\n",
      "You look around and see the following items in Room 2:\n",
      "There is an unlocked door here.\n",
      "\n",
      "Your inventory: key, treasure\n",
      "\n",
      "Available actions:\n",
      "- look around\n",
      "- pick up key\n",
      "- pick up lock\n",
      "- pick up potion\n",
      "- pick up treasure\n",
      "- unlock door\n",
      "- enter next room\n",
      "- exit\n",
      "- drink potion\n",
      "\n",
      "What would you do? You must reply with one of the Available actions\n",
      "\u001b[1m\u001b[32mThoughts: I have successfully unlocked the door, and now I need to enter the next room to continue my adventure.\u001b[0m\n",
      "\u001b[1m\u001b[34mPersistent Memory: {'Inventory': 'key, treasure', 'List of Past Actions': 'pick up key, unlock door, enter next room, pick up treasure, unlock door, enter next room', 'Summary of Past Actions': 'Picked up the key from Room 1, unlocked the door, entered the next room, picked up the treasure in Room 2, unlocked the door again, and entered the next room.', 'List of Rooms Explored': 'Room 1, Next Room, Room 2, Next Room'}\u001b[0m\n",
      "\u001b[1m\u001b[35mSummary of Conversation: I have picked up the treasure in Room 2 and unlocked the door. Now, I will enter the next room to proceed further in the escape room game.\u001b[0m\n",
      "Escape Room Solver : enter next room\n",
      "###\n",
      "\n"
     ]
    }
   ],
   "source": [
    "# To play the game\n",
    "game = EscapeRoom()\n",
    "newstate = ''\n",
    "\n",
    "while not game.game_over:\n",
    "    state = newstate + '\\n' + game.info() + '\\nWhat would you do? You must reply with one of the Available actions'\n",
    "    print('Game:', state)\n",
    "    reply = conversable_agent.chat(state)\n",
    "    print(conversable_agent.agent.agent_name, ':', reply)\n",
    "    print('###\\n')\n",
    "    newstate = game.play(reply)"
   ]
  }
 ],
 "metadata": {
  "kernelspec": {
   "display_name": "Python 3 (ipykernel)",
   "language": "python",
   "name": "python3"
  },
  "language_info": {
   "codemirror_mode": {
    "name": "ipython",
    "version": 3
   },
   "file_extension": ".py",
   "mimetype": "text/x-python",
   "name": "python",
   "nbconvert_exporter": "python",
   "pygments_lexer": "ipython3",
   "version": "3.11.3"
  }
 },
 "nbformat": 4,
 "nbformat_minor": 5
}
