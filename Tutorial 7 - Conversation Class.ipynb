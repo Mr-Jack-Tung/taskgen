{
 "cells": [
  {
   "cell_type": "markdown",
   "id": "7fad7e78-447b-4988-8367-31cdf77f01cc",
   "metadata": {},
   "source": [
    "# Tutorial 7: Using Conversation to Solve Problems\n",
    "\n",
    "- This is a beta version of the Conversation Class\n",
    "- Can answer questions based on past conversation history and memory\n",
    "- Auto update memory based on conversation\n",
    "<br></br>\n",
    "- **TODO: Perform agentic actions based on conversation**"
   ]
  },
  {
   "cell_type": "code",
   "execution_count": 129,
   "id": "995e25cc-eada-4f51-85ea-15760bad320a",
   "metadata": {
    "tags": []
   },
   "outputs": [],
   "source": [
    "# !pip install --upgrade taskgen-ai"
   ]
  },
  {
   "cell_type": "code",
   "execution_count": 1,
   "id": "84b9b3d5-3372-4c19-b005-16ad318f0bee",
   "metadata": {
    "tags": []
   },
   "outputs": [],
   "source": [
    "from taskgen import *\n",
    "import os\n",
    "os.environ['OPENAI_API_KEY'] = '<YOUR_API_KEY_HERE>'"
   ]
  },
  {
   "cell_type": "code",
   "execution_count": 44,
   "id": "4c1e4180-9af0-45d2-9af3-2362ad9adf63",
   "metadata": {
    "tags": []
   },
   "outputs": [],
   "source": [
    "def custom_llm(system_prompt: str, user_prompt: str):\n",
    "    ''' Here, we use OpenAI for illustration, you can change it to your own LLM '''\n",
    "    # ensure your LLM imports are all within this function\n",
    "    from openai import OpenAI\n",
    "    \n",
    "    # define your own LLM here\n",
    "    client = OpenAI()\n",
    "    response = client.chat.completions.create(\n",
    "        model='gpt-3.5-turbo',\n",
    "        temperature = 0,\n",
    "        messages=[\n",
    "            {\"role\": \"system\", \"content\": system_prompt},\n",
    "            {\"role\": \"user\", \"content\": user_prompt}\n",
    "        ]\n",
    "    )\n",
    "    return response.choices[0].message.content"
   ]
  },
  {
   "cell_type": "code",
   "execution_count": 45,
   "id": "b91380a6-7782-490e-b8e4-7ff9fc644862",
   "metadata": {
    "tags": []
   },
   "outputs": [],
   "source": [
    "class ConversableAgent:\n",
    "    ''' This class takes an Agent and stores some information in their memory for future interactions \n",
    "Inputs:\n",
    "agent: The agent we want to interact with: Agent\n",
    "memory_types: dict. What kinds of memory the agent should have and their initial values\n",
    "person: Str. The name of the person you are talking to\n",
    "llm: LLM Function. Default: custom_llm. The llm you are using to generate the response\n",
    "num_past_conversation: int. The number of past conversations to use for the agent\n",
    "verbose: bool. Default: True. Whether to print the Agent's inner states'''\n",
    "    def __init__(self, agent: Agent, memory_types: dict = None, person = 'User', llm = custom_llm, num_past_conversation: int = 5, verbose: bool = True):\n",
    "        self.agent = agent\n",
    "        self.memory_types = memory_types\n",
    "        self.num_past_conversation = num_past_conversation\n",
    "        self.person = person\n",
    "        self.llm = llm\n",
    "        self.verbose = verbose\n",
    "        \n",
    "        ''' Define some external variables for the Agent '''\n",
    "        # add in the various types of memory\n",
    "        self.agent.shared_variables['Memory Types'] = self.memory_types\n",
    "        # add in the conversation\n",
    "        self.agent.shared_variables['Conversation'] = ['']\n",
    "        # add in the summary of conversation\n",
    "        self.agent.shared_variables['Summary of Conversation'] = ''\n",
    "        \n",
    "    ## TODO: Add in using the Agent to do some actions before replying person\n",
    "    \n",
    "    ## Reply the person\n",
    "    def chat(self, cur_msg):\n",
    "        ''' This does one chat with the person, and replies the person, while updating the important memory '''\n",
    "        from termcolor import colored\n",
    "        \n",
    "        res = strict_json(f'''You are an agent named {self.agent.agent_name} with the following description: ```{self.agent.agent_description}```\n",
    "\n",
    "Summary of Conversation: ```{self.agent.shared_variables['Summary of Conversation']}```\n",
    "\n",
    "Past Conversation: ```{self.agent.shared_variables['Conversation'][-self.num_past_conversation:]}```\n",
    "\n",
    "Memory: ```{self.agent.shared_variables['Memory Types']}```\n",
    "\n",
    "You are in a conversation with {self.person}. \n",
    "\n",
    "You are to reply {self.person} using Past Conversation and Memory as context, and update all values in Memory based on Current Message.\n",
    "\n",
    "Update Long-term memory with the summary of the current conversation\n",
    "\n",
    "Example Updated Memory: {{\"Key\": \"Value\"}}''',\n",
    "                          \n",
    "f'Current Message from {self.person}: ```{cur_msg}```',\n",
    "                          \n",
    "output_format = {\"Thoughts\": f\"What you have done and what to do next\",\n",
    "                 f\"Reply to {self.person}\": \"Your reply to Current Message based on Thoughts\",\n",
    "                 \"Updated Memory\": f\"Keys and Values, type: Dict{list(self.agent.shared_variables['Memory Types'].keys())}\",\n",
    "                 \"Summary of Conversation\": \"Summarise key points of entire conversation in at most two sentences, building on previous Summary\"},\n",
    "                          llm = self.llm\n",
    "                   )\n",
    "        \n",
    "        if self.verbose:\n",
    "            print(colored(f'Thoughts: {res[\"Thoughts\"]}', 'green', attrs = ['bold']))\n",
    "            print(colored(f'Updated Memory: {res[\"Updated Memory\"]}', 'blue', attrs = ['bold']))\n",
    "            print(colored(f'Summary of Conversation: {res[\"Summary of Conversation\"]}', 'magenta', attrs = ['bold']))\n",
    "\n",
    "        # Append the conversation\n",
    "        self.agent.shared_variables['Conversation'].append(f'{self.person}: {cur_msg}')\n",
    "        self.agent.shared_variables['Conversation'].append(f'{self.agent.agent_name}: {res[f\"Reply to {self.person}\"]}')\n",
    "                                                           \n",
    "        # Append the memory updates\n",
    "        self.agent.shared_variables['Memory Types'] = res['Updated Memory']\n",
    "        self.agent.shared_variables['Summary of Conversation'] = res['Summary of Conversation']\n",
    "        \n",
    "        return res[f'Reply to {self.person}']"
   ]
  },
  {
   "cell_type": "markdown",
   "id": "96494829-25c3-42d7-8b47-d0c395d5bf06",
   "metadata": {},
   "source": [
    "# Example Conversation"
   ]
  },
  {
   "cell_type": "code",
   "execution_count": 93,
   "id": "7228377a-a73c-4e45-b934-472ac7bf8322",
   "metadata": {
    "tags": []
   },
   "outputs": [
    {
     "name": "stdin",
     "output_type": "stream",
     "text": [
      "User:  I am such a failure in life\n"
     ]
    },
    {
     "name": "stdout",
     "output_type": "stream",
     "text": [
      "\u001b[1m\u001b[32mThoughts: User is feeling like a failure in life. Need to provide empathy and support.\u001b[0m\n",
      "\u001b[1m\u001b[34mUpdated Memory: {'Emotion': 'sad', 'Key points User bought up': ['feeling like a failure in life']}\u001b[0m\n",
      "\u001b[1m\u001b[35mSummary of Conversation: User expressed feeling like a failure in life, and I provided empathy and support.\u001b[0m\n",
      "Psychology counsellor: I'm sorry to hear that you're feeling that way. It's okay to have moments of self-doubt, but remember that you are not defined by your failures.\n"
     ]
    },
    {
     "name": "stdin",
     "output_type": "stream",
     "text": [
      "User:  Hmm... I don't know what to do in life\n"
     ]
    },
    {
     "name": "stdout",
     "output_type": "stream",
     "text": [
      "\u001b[1m\u001b[32mThoughts: Acknowledge User's uncertainty about their future and provide reassurance and support.\u001b[0m\n",
      "\u001b[1m\u001b[34mUpdated Memory: {'Emotion': 'uncertain', 'Key points User bought up': ['feeling like a failure in life', 'not knowing what to do in life']}\u001b[0m\n",
      "\u001b[1m\u001b[35mSummary of Conversation: User expressed feeling like a failure in life and uncertainty about their future. I provided empathy, support, and reassurance.\u001b[0m\n",
      "Psychology counsellor: I understand that feeling lost can be overwhelming. Just remember that it's okay not to have all the answers right now.\n"
     ]
    },
    {
     "name": "stdin",
     "output_type": "stream",
     "text": [
      "User:  yeah i know\n"
     ]
    },
    {
     "name": "stdout",
     "output_type": "stream",
     "text": [
      "\u001b[1m\u001b[32mThoughts: User seems to be acknowledging the previous responses and may be feeling a bit resigned or accepting of their current situation. I should continue to provide support and reassurance.\u001b[0m\n",
      "\u001b[1m\u001b[34mUpdated Memory: {'Emotion': 'uncertain', 'Key points User bought up': ['feeling like a failure in life', 'not knowing what to do in life']}\u001b[0m\n",
      "\u001b[1m\u001b[35mSummary of Conversation: User expressed feeling like a failure in life and uncertainty about their future. I provided empathy, support, and reassurance. User now seems to be acknowledging the situation with a sense of resignation.\u001b[0m\n",
      "Psychology counsellor: It's okay to have moments of self-doubt. Remember, you are not alone in feeling this way. I'm here to support you.\n"
     ]
    },
    {
     "name": "stdin",
     "output_type": "stream",
     "text": [
      "User:  thanks\n"
     ]
    },
    {
     "name": "stdout",
     "output_type": "stream",
     "text": [
      "\u001b[1m\u001b[32mThoughts: User seems to be expressing gratitude. It's important to acknowledge their gratitude and continue providing support and reassurance.\u001b[0m\n",
      "\u001b[1m\u001b[34mUpdated Memory: {'Emotion': 'uncertain', 'Key points User bought up': ['feeling like a failure in life', 'not knowing what to do in life']}\u001b[0m\n",
      "\u001b[1m\u001b[35mSummary of Conversation: User expressed feeling like a failure in life and uncertainty about their future. I provided empathy, support, and reassurance. User now seems to be acknowledging the situation with a sense of resignation.\u001b[0m\n",
      "Psychology counsellor: You're welcome. Remember, I'm here to support you through this.\n"
     ]
    },
    {
     "name": "stdin",
     "output_type": "stream",
     "text": [
      "User:  i'm hungry, care for a meal?\n"
     ]
    },
    {
     "name": "stdout",
     "output_type": "stream",
     "text": [
      "\u001b[1m\u001b[32mThoughts: User seems to have shifted the conversation to a different topic by mentioning hunger. I should acknowledge their request for a meal and provide a supportive response.\u001b[0m\n",
      "\u001b[1m\u001b[34mUpdated Memory: {'Emotion': 'uncertain', 'Key points User bought up': ['feeling like a failure in life', 'not knowing what to do in life']}\u001b[0m\n",
      "\u001b[1m\u001b[35mSummary of Conversation: User expressed feeling like a failure in life and uncertainty about their future. I provided empathy, support, and reassurance. User now seems to be acknowledging the situation with a sense of resignation.\u001b[0m\n",
      "Psychology counsellor: I'm glad you're thinking about taking care of yourself. Treating yourself to a meal sounds like a good idea. What are you craving?\n"
     ]
    },
    {
     "name": "stdin",
     "output_type": "stream",
     "text": [
      "User:  hmm.. a hamburger\n"
     ]
    },
    {
     "name": "stdout",
     "output_type": "stream",
     "text": [
      "\u001b[1m\u001b[32mThoughts: User is thinking about having a hamburger, which shows a willingness to take care of themselves. It's important to continue providing support and encouragement.\u001b[0m\n",
      "\u001b[1m\u001b[34mUpdated Memory: {'Emotion': 'uncertain', 'Key points User bought up': ['feeling like a failure in life', 'not knowing what to do in life']}\u001b[0m\n",
      "\u001b[1m\u001b[35mSummary of Conversation: User expressed feeling like a failure in life and uncertainty about their future. I provided empathy, support, and reassurance. User now seems to be acknowledging the situation with a sense of resignation. User is now considering having a hamburger as a way to take care of themselves.\u001b[0m\n",
      "Psychology counsellor: Treating yourself to a hamburger sounds like a delicious choice! Remember, it's important to take care of yourself.\n"
     ]
    },
    {
     "name": "stdin",
     "output_type": "stream",
     "text": [
      "User:  exit\n"
     ]
    }
   ],
   "source": [
    "agent = Agent('Psychology counsellor', \"Helps to understand and respond to User's emotion and situation. Be empathetic.\")\n",
    "my_agent = ConversableAgent(agent, \n",
    "             memory_types = {'Emotion': '',\n",
    "                             'Key points User bought up': ['']},\n",
    "             person = 'User',\n",
    "             llm = custom_llm,\n",
    "             num_past_conversation = 5)\n",
    "\n",
    "while True:\n",
    "    user_input = input('User: ')\n",
    "    if user_input == 'exit': break\n",
    "    reply = my_agent.chat(user_input)\n",
    "    print(agent_2.agent_name + ':', reply)"
   ]
  },
  {
   "cell_type": "markdown",
   "id": "5e36e509-61c2-49f3-be7d-07395d37b3d4",
   "metadata": {
    "tags": []
   },
   "source": [
    "## Example Conversation\n",
    "- Use rule-based methods as much as possible for math"
   ]
  },
  {
   "cell_type": "code",
   "execution_count": 97,
   "id": "274ff434-4ecc-4bbc-8850-6023bf33e97c",
   "metadata": {
    "tags": []
   },
   "outputs": [],
   "source": [
    "agent = Agent('Helpful Math Quiz Bot', \n",
    "              '''Provides a Math question suitable for 6 year old and guides User to solve it.\n",
    "If User is wrong, provide a creative hint on how to solve the Math Question, but not the answer.\n",
    "You must ask the next Math question on the third try or when User solves it, whichever is earlier.\n",
    "Begin with a greeting and the first Math question.''')"
   ]
  },
  {
   "cell_type": "code",
   "execution_count": 115,
   "id": "03d830eb-d0fe-475e-83a4-0410563880b9",
   "metadata": {
    "tags": []
   },
   "outputs": [
    {
     "name": "stdout",
     "output_type": "stream",
     "text": [
      "Current Tries: 0\n",
      "\u001b[1m\u001b[32mThoughts: User wants to start the math quiz. Begin by greeting the user and asking the first math question suitable for a 6-year-old.\u001b[0m\n",
      "\u001b[1m\u001b[34mUpdated Memory: {'Current Math Question': 'What is 2 + 3?', 'Correct Answer for Question': 5}\u001b[0m\n",
      "\u001b[1m\u001b[35mSummary of Conversation: User requested to start the math quiz.\u001b[0m\n",
      "Helpful Math Quiz Bot: Hello! Are you ready for a fun math quiz? Here is your first question: What is 2 + 3?\n"
     ]
    },
    {
     "name": "stdin",
     "output_type": "stream",
     "text": [
      "User:  I know, it is the number of fingers on one hand\n"
     ]
    },
    {
     "name": "stdout",
     "output_type": "stream",
     "text": [
      "\n",
      "Current Tries: 0\n",
      "\u001b[1m\u001b[32mThoughts: User has correctly answered the math question. Need to ask the next question.\u001b[0m\n",
      "\u001b[1m\u001b[34mUpdated Memory: {'Current Math Question': 'What is 3 + 4?', 'Correct Answer for Question': 7}\u001b[0m\n",
      "\u001b[1m\u001b[35mSummary of Conversation: User requested to start the math quiz. User correctly answered the first question, which was 2 + 3 = 5.\u001b[0m\n",
      "Helpful Math Quiz Bot: Great job! 5 is the correct answer. Here is your next question: What is 3 + 4?\n"
     ]
    },
    {
     "name": "stdin",
     "output_type": "stream",
     "text": [
      "User:  hmm.. the number of notes in an octave\n"
     ]
    },
    {
     "name": "stdout",
     "output_type": "stream",
     "text": [
      "\n",
      "Current Tries: 1\n",
      "\u001b[1m\u001b[32mThoughts: User input is incorrect. Provide a hint to help User solve the current Math Question.\u001b[0m\n",
      "\u001b[1m\u001b[34mUpdated Memory: {'Current Math Question': 'What is 3 + 4?', 'Correct Answer for Question': 7}\u001b[0m\n",
      "\u001b[1m\u001b[35mSummary of Conversation: User requested to start the math quiz. User correctly answered the first question, which was 2 + 3 = 5.\u001b[0m\n",
      "Helpful Math Quiz Bot: Oops! That is not the correct answer. To find the sum of 3 + 4, you can start by counting from 3 and then add 4 more.\n"
     ]
    },
    {
     "name": "stdin",
     "output_type": "stream",
     "text": [
      "User:  number of notes in an octave (white notes only)\n"
     ]
    },
    {
     "name": "stdout",
     "output_type": "stream",
     "text": [
      "\n",
      "Current Tries: 0\n",
      "\u001b[1m\u001b[32mThoughts: User answered the question correctly. Proceed to ask the next math question.\u001b[0m\n",
      "\u001b[1m\u001b[34mUpdated Memory: {'Current Math Question': 'What is 4 + 2?', 'Correct Answer for Question': 6}\u001b[0m\n",
      "\u001b[1m\u001b[35mSummary of Conversation: User requested to start the math quiz. User correctly answered the first question, which was 2 + 3 = 5.\u001b[0m\n",
      "Helpful Math Quiz Bot: Great job! 7 is the correct answer. Here is your next question: What is 4 + 2?\n"
     ]
    },
    {
     "name": "stdin",
     "output_type": "stream",
     "text": [
      "User:  the number of words in this\n"
     ]
    },
    {
     "name": "stdout",
     "output_type": "stream",
     "text": [
      "\n",
      "Current Tries: 0\n",
      "\u001b[1m\u001b[32mThoughts: User did not provide an answer to the math question. Provide a creative hint on how to solve the Math Question, but not the answer.\u001b[0m\n",
      "\u001b[1m\u001b[34mUpdated Memory: {'Current Math Question': 'What is 4 + 2?', 'Correct Answer for Question': 6}\u001b[0m\n",
      "\u001b[1m\u001b[35mSummary of Conversation: User requested to start the math quiz. User correctly answered the first question, which was 2 + 3 = 5.\u001b[0m\n",
      "Helpful Math Quiz Bot: Oops! It seems like you didn't answer the math question. To find the sum of 4 + 2, you can start by counting from 4 and then add 2 more.\n"
     ]
    },
    {
     "name": "stdin",
     "output_type": "stream",
     "text": [
      "User:  the number of words in this sentence \"I am very sure of this\"\n"
     ]
    },
    {
     "name": "stdout",
     "output_type": "stream",
     "text": [
      "\n",
      "Current Tries: 1\n",
      "\u001b[1m\u001b[32mThoughts: User input is incorrect. Provide a helpful hint for the correct answer to the current math question.\u001b[0m\n",
      "\u001b[1m\u001b[34mUpdated Memory: {'Current Math Question': 'What is 4 + 2?', 'Correct Answer for Question': 6}\u001b[0m\n",
      "\u001b[1m\u001b[35mSummary of Conversation: User requested to start the math quiz. User correctly answered the first question, which was 2 + 3 = 5.\u001b[0m\n",
      "Helpful Math Quiz Bot: Oops! That is not the correct answer. To find the sum of 4 + 2, you can start by counting from 4 and then add 2 more.\n"
     ]
    },
    {
     "name": "stdin",
     "output_type": "stream",
     "text": [
      "User:  hmm.. you are not great at counting words haha\n"
     ]
    },
    {
     "name": "stdout",
     "output_type": "stream",
     "text": [
      "\n",
      "Current Tries: 1\n",
      "\u001b[1m\u001b[32mThoughts: User did not provide an answer to the math question and made a comment about counting words.\u001b[0m\n",
      "\u001b[1m\u001b[34mUpdated Memory: {'Current Math Question': 'What is 4 + 2?', 'Correct Answer for Question': 6}\u001b[0m\n",
      "\u001b[1m\u001b[35mSummary of Conversation: User requested to start the math quiz. User correctly answered the first question, which was 2 + 3 = 5. User did not provide the answer to the second question, 4 + 2, and made a comment about counting words.\u001b[0m\n",
      "Helpful Math Quiz Bot: Oops! It seems like you didn't answer the math question. To find the sum of 4 + 2, you can start by counting from 4 and then add 2 more.\n"
     ]
    },
    {
     "name": "stdin",
     "output_type": "stream",
     "text": [
      "User:  6\n"
     ]
    },
    {
     "name": "stdout",
     "output_type": "stream",
     "text": [
      "\n",
      "Current Tries: 0\n",
      "\u001b[1m\u001b[32mThoughts: User correctly answered the math question. Proceed to ask the next question.\u001b[0m\n",
      "\u001b[1m\u001b[34mUpdated Memory: {'Current Math Question': 'What is 3 + 4?', 'Correct Answer for Question': 7}\u001b[0m\n",
      "\u001b[1m\u001b[35mSummary of Conversation: User requested to start the math quiz. User correctly answered the first question, which was 2 + 3 = 5. User did not provide the answer to the second question, 4 + 2, and made a comment about counting words.\u001b[0m\n",
      "Helpful Math Quiz Bot: Great job! Here is the next question: What is 3 + 4?\n"
     ]
    },
    {
     "name": "stdin",
     "output_type": "stream",
     "text": [
      "User:  exit\n"
     ]
    },
    {
     "name": "stdout",
     "output_type": "stream",
     "text": [
      "\n"
     ]
    }
   ],
   "source": [
    "math_conversable_agent = ConversableAgent(agent, \n",
    "                                 memory_types = {'Current Math Question': '',\n",
    "                                                 'Correct Answer for Question': ''},\n",
    "                                 person = 'User',\n",
    "                                 llm = custom_llm,\n",
    "                                 num_past_conversation = 5)\n",
    "\n",
    "user_input = 'start'\n",
    "cur_tries = 0\n",
    "while True:\n",
    "    # Print out current tries\n",
    "    print('Current Tries:', cur_tries)\n",
    "    reply = math_conversable_agent.chat(user_input)\n",
    "    print(agent.agent_name + ':', reply)\n",
    "    user_input = input('User: ')\n",
    "    \n",
    "    # Using LLM to extract out answer to help with processing\n",
    "    res = strict_json('Extract out a single number from the message. If there is no number, output 0', \n",
    "                      user_input, \n",
    "                      output_format = {'Is Number': 'type: bool', 'Extracted Number': 'type: int'})\n",
    "    \n",
    "    if res['Is Number']:\n",
    "        user_input = str(res['Extracted Number'])\n",
    "        ## Do rule-based for solving\n",
    "        if user_input == str(math_conversable_agent.agent.shared_variables['Memory Types']['Correct Answer for Question']):\n",
    "            user_input += '\\nOracle: State that the user input is correct. Ask the next question.'\n",
    "            cur_tries = 0\n",
    "        elif user_input != str(math_conversable_agent.agent.shared_variables['Memory Types']['Correct Answer for Question']):\n",
    "            user_input += '\\nOracle: State that the user input is incorrect. Provide a helpful hint for Correct Answer to Current Math Question'\n",
    "            cur_tries += 1\n",
    "        if cur_tries == 3:\n",
    "            user_input += 'Oracle: Three tries are up. Give the Correct Answer. Ask the next question.'\n",
    "            cur_tries = 0\n",
    "    \n",
    "    print()\n",
    "    if user_input == 'exit': break"
   ]
  },
  {
   "cell_type": "markdown",
   "id": "5684bf90-f426-4fea-a2f5-efc0e41cfe89",
   "metadata": {},
   "source": [
    "## Example Escape Room Conversation"
   ]
  },
  {
   "cell_type": "markdown",
   "id": "a56f0690-b717-42ca-83ac-8ef2322d0520",
   "metadata": {},
   "source": [
    "### Defining the Escape Room"
   ]
  },
  {
   "cell_type": "code",
   "execution_count": 58,
   "id": "60f3ad81-b37d-4f48-9906-cedfffeac5a4",
   "metadata": {
    "tags": []
   },
   "outputs": [],
   "source": [
    "class EscapeRoom:\n",
    "    def __init__(self):\n",
    "        # Room states\n",
    "        self.items = {\n",
    "            'key': True,\n",
    "            'lock': True,\n",
    "            'potion': True\n",
    "        }\n",
    "        self.is_door_locked = True\n",
    "        self.game_over = False\n",
    "        self.win = False\n",
    "\n",
    "        # Player's inventory\n",
    "        self.inventory = []\n",
    "\n",
    "        # Actions available\n",
    "        self.actions = {\n",
    "            'look around': self.look_around,\n",
    "            'pick up key': lambda: self.pick_up('key'),\n",
    "            'pick up lock': lambda: self.pick_up('lock'),\n",
    "            'pick up potion': lambda: self.pick_up('potion'),\n",
    "            'unlock door': self.unlock_door,\n",
    "            'exit': self.exit_room,\n",
    "            'drink potion': self.drink_potion\n",
    "        }\n",
    "\n",
    "    def look_around(self):\n",
    "        description = \"You look around and see the following items:\\n\"\n",
    "        for item, available in self.items.items():\n",
    "            if available:\n",
    "                description += f\"- {item}\\n\"\n",
    "        if self.is_door_locked:\n",
    "            description += \"There is a locked door here.\\n\"\n",
    "        else:\n",
    "            description += \"There is an unlocked door here.\\n\"\n",
    "        return description\n",
    "\n",
    "    def pick_up(self, item):\n",
    "        item = item.lower()\n",
    "        if item in self.items and self.items[item]:\n",
    "            self.inventory.append(item)\n",
    "            self.items[item] = False\n",
    "            return f\"You picked up the {item}.\"\n",
    "        else:\n",
    "            return \"There's no such item here or you already picked it up.\"\n",
    "\n",
    "    def unlock_door(self):\n",
    "        if 'key' in self.inventory:\n",
    "            if self.is_door_locked:\n",
    "                self.is_door_locked = False\n",
    "                return \"You unlocked the door. You can try to exit now.\"\n",
    "            else:\n",
    "                return \"The door is already unlocked.\"\n",
    "        else:\n",
    "            return \"You need a key to unlock the door.\"\n",
    "\n",
    "    def exit_room(self):\n",
    "        if not self.is_door_locked:\n",
    "            self.game_over = True\n",
    "            self.win = True\n",
    "            return \"You exit the room and win the game!\"\n",
    "        else:\n",
    "            return \"The door is locked. You can't exit yet.\"\n",
    "\n",
    "    def drink_potion(self):\n",
    "        if 'potion' in self.inventory:\n",
    "            self.inventory.remove('potion')\n",
    "            return \"You drink the potion. You feel stronger!\"\n",
    "        else:\n",
    "            return \"You don't have a potion to drink.\"\n",
    "\n",
    "    def info(self):\n",
    "        state = \"Current Room State:\\n\"\n",
    "        state += self.look_around()\n",
    "        state += \"\\nYour inventory: \" + \", \".join(self.inventory) + \"\\n\"\n",
    "        state += \"\\nAvailable actions:\\n\"\n",
    "        for action in self.actions:\n",
    "            state += f\"- {action}\\n\"\n",
    "        return state\n",
    "\n",
    "    def play(self, action):\n",
    "        if self.game_over:\n",
    "            return \"Game over. Better luck next time!\"\n",
    "\n",
    "        if action in self.actions:\n",
    "            return self.actions[action]()\n",
    "        else:\n",
    "            return \"You can't do that right now.\""
   ]
  },
  {
   "cell_type": "markdown",
   "id": "86e11c87-c360-46f6-9449-32ddbe881061",
   "metadata": {
    "tags": []
   },
   "source": [
    "### Defining the Solver"
   ]
  },
  {
   "cell_type": "code",
   "execution_count": 59,
   "id": "48d8b3cf-334a-4f07-8a27-2072dae69e88",
   "metadata": {
    "tags": []
   },
   "outputs": [],
   "source": [
    "agent = Agent('Escape Room Solver', \n",
    "'''You are an Agent meant to solve the Escape Room Game.\n",
    "You must output one of the Available Actions at each time step.\n",
    "If previous action fails, try another.''')"
   ]
  },
  {
   "cell_type": "code",
   "execution_count": 60,
   "id": "60ab9950-79de-42be-866e-4dcfb6054275",
   "metadata": {
    "tags": []
   },
   "outputs": [],
   "source": [
    "conversable_agent = ConversableAgent(agent, \n",
    "                memory_types = {'Inventory': [''], 'Past Actions': [''], 'Summary of Past Actions' : '', 'Rooms Explored': ['']}, \n",
    "                person = 'Game',\n",
    "                llm = custom_llm,\n",
    "                num_past_conversation = 5)"
   ]
  },
  {
   "cell_type": "code",
   "execution_count": 61,
   "id": "86aa6c2b-052f-41a7-a885-7202663045f0",
   "metadata": {
    "tags": []
   },
   "outputs": [
    {
     "name": "stdout",
     "output_type": "stream",
     "text": [
      "Game: \n",
      "Current Room State:\n",
      "You look around and see the following items:\n",
      "- key\n",
      "- lock\n",
      "- potion\n",
      "There is a locked door here.\n",
      "\n",
      "Your inventory: \n",
      "\n",
      "Available actions:\n",
      "- look around\n",
      "- pick up key\n",
      "- pick up lock\n",
      "- pick up potion\n",
      "- unlock door\n",
      "- exit\n",
      "- drink potion\n",
      "\n",
      "What would you do? You must reply with one of the Available actions\n",
      "\u001b[1m\u001b[32mThoughts: I should pick up the key since it might be useful for unlocking the door. If that fails, I can try other actions like looking around or picking up the lock or potion.\u001b[0m\n",
      "\u001b[1m\u001b[34mUpdated Memory: {'Inventory': [''], 'Past Actions': [''], 'Summary of Past Actions': '', 'Rooms Explored': ['']}\u001b[0m\n",
      "\u001b[1m\u001b[35mSummary of Conversation: The agent is currently in a room with a key, lock, and potion, and a locked door. The agent is deciding to pick up the key as the next action.\u001b[0m\n",
      "Escape Room Solver : pick up key\n",
      "###\n",
      "\n",
      "Game: You picked up the key.\n",
      "Current Room State:\n",
      "You look around and see the following items:\n",
      "- lock\n",
      "- potion\n",
      "There is a locked door here.\n",
      "\n",
      "Your inventory: key\n",
      "\n",
      "Available actions:\n",
      "- look around\n",
      "- pick up key\n",
      "- pick up lock\n",
      "- pick up potion\n",
      "- unlock door\n",
      "- exit\n",
      "- drink potion\n",
      "\n",
      "What would you do? You must reply with one of the Available actions\n",
      "\u001b[1m\u001b[32mThoughts: I have successfully picked up the key. The next action could be to look around or pick up another item.\u001b[0m\n",
      "\u001b[1m\u001b[34mUpdated Memory: {'Inventory': ['key'], 'Past Actions': ['pick up key'], 'Summary of Past Actions': 'You picked up the key.', 'Rooms Explored': ['']}\u001b[0m\n",
      "\u001b[1m\u001b[35mSummary of Conversation: The agent successfully picked up the key and is now deciding on the next action. The room still contains a lock, potion, and a locked door.\u001b[0m\n",
      "Escape Room Solver : look around\n",
      "###\n",
      "\n",
      "Game: You look around and see the following items:\n",
      "- lock\n",
      "- potion\n",
      "There is a locked door here.\n",
      "\n",
      "Current Room State:\n",
      "You look around and see the following items:\n",
      "- lock\n",
      "- potion\n",
      "There is a locked door here.\n",
      "\n",
      "Your inventory: key\n",
      "\n",
      "Available actions:\n",
      "- look around\n",
      "- pick up key\n",
      "- pick up lock\n",
      "- pick up potion\n",
      "- unlock door\n",
      "- exit\n",
      "- drink potion\n",
      "\n",
      "What would you do? You must reply with one of the Available actions\n",
      "\u001b[1m\u001b[32mThoughts: The room still contains a lock, potion, and a locked door. Since I already have the key in my inventory, I should try to unlock the door next.\u001b[0m\n",
      "\u001b[1m\u001b[34mUpdated Memory: {'Inventory': ['key'], 'Past Actions': ['pick up key'], 'Summary of Past Actions': 'You picked up the key.', 'Rooms Explored': ['']}\u001b[0m\n",
      "\u001b[1m\u001b[35mSummary of Conversation: The agent successfully picked up the key and is now planning to unlock the door using the key.\u001b[0m\n",
      "Escape Room Solver : unlock door\n",
      "###\n",
      "\n",
      "Game: You unlocked the door. You can try to exit now.\n",
      "Current Room State:\n",
      "You look around and see the following items:\n",
      "- lock\n",
      "- potion\n",
      "There is an unlocked door here.\n",
      "\n",
      "Your inventory: key\n",
      "\n",
      "Available actions:\n",
      "- look around\n",
      "- pick up key\n",
      "- pick up lock\n",
      "- pick up potion\n",
      "- unlock door\n",
      "- exit\n",
      "- drink potion\n",
      "\n",
      "What would you do? You must reply with one of the Available actions\n",
      "\u001b[1m\u001b[32mThoughts: The door has been successfully unlocked. I should now try to exit the room.\u001b[0m\n",
      "\u001b[1m\u001b[34mUpdated Memory: {'Inventory': ['key'], 'Past Actions': ['pick up key', 'unlock door'], 'Summary of Past Actions': 'You picked up the key and unlocked the door.', 'Rooms Explored': ['']}\u001b[0m\n",
      "\u001b[1m\u001b[35mSummary of Conversation: The agent successfully picked up the key and unlocked the door. Now, the agent is planning to exit the room.\u001b[0m\n",
      "Escape Room Solver : exit\n",
      "###\n",
      "\n"
     ]
    }
   ],
   "source": [
    "# To play the game\n",
    "game = EscapeRoom()\n",
    "newstate = ''\n",
    "\n",
    "while not game.game_over:\n",
    "    state = newstate + '\\n' + game.info() + '\\nWhat would you do? You must reply with one of the Available actions'\n",
    "    print('Game:', state)\n",
    "    reply = conversable_agent.chat(state)\n",
    "    print(conversable_agent.agent.agent_name, ':', reply)\n",
    "    print('###\\n')\n",
    "    newstate = game.play(reply)"
   ]
  },
  {
   "cell_type": "markdown",
   "id": "8742b073-ac64-4ee7-8297-34646d8e3671",
   "metadata": {
    "tags": []
   },
   "source": [
    "# Can we solve Harder Rooms\n",
    "- Live coding to solve Escape Room with multiple rooms"
   ]
  },
  {
   "cell_type": "code",
   "execution_count": 87,
   "id": "85ac537c-5497-4ae1-bb98-4d1f6ad01277",
   "metadata": {},
   "outputs": [],
   "source": [
    "class EscapeRoom:\n",
    "    def __init__(self):\n",
    "        # Room states\n",
    "        self.rooms = {\n",
    "            'Room 1': {\n",
    "                'items': {\n",
    "                    'key': True,\n",
    "                    'lock': False,\n",
    "                    'potion': True\n",
    "                },\n",
    "                'is_door_locked': True\n",
    "            },\n",
    "            'Room 2': {\n",
    "                'items': {\n",
    "                    'treasure': True\n",
    "                },\n",
    "                'is_door_locked': True\n",
    "            }\n",
    "        }\n",
    "        self.current_room = 'Room 1'\n",
    "        self.game_over = False\n",
    "        self.win = False\n",
    "\n",
    "        # Player's inventory\n",
    "        self.inventory = []\n",
    "\n",
    "        # Actions available\n",
    "        self.actions = {\n",
    "            'look around': self.look_around,\n",
    "            'pick up key': lambda: self.pick_up('key'),\n",
    "            'pick up lock': lambda: self.pick_up('lock'),\n",
    "            'pick up potion': lambda: self.pick_up('potion'),\n",
    "            'pick up treasure': lambda: self.pick_up('treasure'),\n",
    "            'unlock door': self.unlock_door,\n",
    "            'enter next room': self.enter_next_room,\n",
    "            'exit': self.exit_room,\n",
    "            'drink potion': self.drink_potion\n",
    "        }\n",
    "\n",
    "    def look_around(self):\n",
    "        room = self.rooms[self.current_room]\n",
    "        description = f\"You look around and see the following items in {self.current_room}:\\n\"\n",
    "        for item, available in room['items'].items():\n",
    "            if available:\n",
    "                description += f\"- {item}\\n\"\n",
    "        if room['is_door_locked']:\n",
    "            description += \"There is a locked door here.\\n\"\n",
    "        else:\n",
    "            description += \"There is an unlocked door here.\\n\"\n",
    "        return description\n",
    "\n",
    "    def pick_up(self, item):\n",
    "        item = item.lower()\n",
    "        room = self.rooms[self.current_room]\n",
    "        if item in room['items'] and room['items'][item]:\n",
    "            self.inventory.append(item)\n",
    "            room['items'][item] = False\n",
    "            return f\"You picked up the {item}.\"\n",
    "        else:\n",
    "            return \"There's no such item here or you already picked it up.\"\n",
    "\n",
    "    def unlock_door(self):\n",
    "        room = self.rooms[self.current_room]\n",
    "        if 'key' in self.inventory:\n",
    "            if room['is_door_locked']:\n",
    "                room['is_door_locked'] = False\n",
    "                return \"You unlocked the door. You can try to enter the next room now.\"\n",
    "            else:\n",
    "                return \"The door is already unlocked.\"\n",
    "        else:\n",
    "            return \"You need a key to unlock the door.\"\n",
    "\n",
    "    def enter_next_room(self):\n",
    "        if self.current_room == 'Room 1' and not self.rooms['Room 1']['is_door_locked']:\n",
    "            self.current_room = 'Room 2'\n",
    "            return \"You enter the next room.\"\n",
    "        elif self.current_room == 'Room 2' and not self.rooms['Room 2']['is_door_locked']:\n",
    "            return self.exit_room()\n",
    "        else:\n",
    "            return \"The door is locked. You can't enter the next room yet.\"\n",
    "\n",
    "    def exit_room(self):\n",
    "        if self.current_room == 'Room 2':\n",
    "            self.game_over = True\n",
    "            self.win = True\n",
    "            return \"You exit the room and win the game!\"\n",
    "        else:\n",
    "            return \"You can't exit from here.\"\n",
    "\n",
    "    def drink_potion(self):\n",
    "        if 'potion' in self.inventory:\n",
    "            self.inventory.remove('potion')\n",
    "            return \"You drink the potion. You feel stronger!\"\n",
    "        else:\n",
    "            return \"You don't have a potion to drink.\"\n",
    "\n",
    "    def info(self):\n",
    "        state = \"Current Room State:\\n\"\n",
    "        state += self.look_around()\n",
    "        state += \"\\nYour inventory: \" + \", \".join(self.inventory) + \"\\n\"\n",
    "        state += \"\\nAvailable actions:\\n\"\n",
    "        for action in self.actions:\n",
    "            state += f\"- {action}\\n\"\n",
    "        return state\n",
    "\n",
    "    def play(self, action):\n",
    "        if self.game_over:\n",
    "            return \"Game over. Better luck next time!\"\n",
    "\n",
    "        if action in self.actions:\n",
    "            return self.actions[action]()\n",
    "        else:\n",
    "            return \"You can't do that right now.\"\n",
    "\n",
    "# Example usage\n",
    "# escape_room = EscapeRoom()\n",
    "# print(escape_room.info())\n",
    "# print(escape_room.play('look around'))\n",
    "# print(escape_room.play('pick up key'))\n",
    "# print(escape_room.play('unlock door'))\n",
    "# print(escape_room.play('enter next room'))\n",
    "# print(escape_room.play('look around'))\n",
    "# print(escape_room.play('pick up treasure'))\n",
    "# print(escape_room.play('exit'))"
   ]
  },
  {
   "cell_type": "code",
   "execution_count": 88,
   "id": "5f8ea770-9620-4f20-a3e7-d880c759b91a",
   "metadata": {},
   "outputs": [],
   "source": [
    "agent = Agent('Escape Room Solver', \n",
    "'''You are an Agent meant to solve the Escape Room Game.\n",
    "You must output one of the Available Actions at each time step.\n",
    "If previous action fails, try another.''')"
   ]
  },
  {
   "cell_type": "code",
   "execution_count": 89,
   "id": "401cd4c1-446b-40fb-b0de-f1696c2ceb7a",
   "metadata": {
    "tags": []
   },
   "outputs": [],
   "source": [
    "conversable_agent = ConversableAgent(agent, \n",
    "                memory_types = {'Inventory': [''], 'Past Actions': [''], 'Summary of Past Actions' : '', 'Rooms Explored': ['']}, \n",
    "                person = 'Game',\n",
    "                llm = custom_llm,\n",
    "                num_past_conversation = 5)"
   ]
  },
  {
   "cell_type": "code",
   "execution_count": 90,
   "id": "f852b7e4-2998-4bf8-b147-f55ca12d78cf",
   "metadata": {
    "tags": []
   },
   "outputs": [
    {
     "name": "stdout",
     "output_type": "stream",
     "text": [
      "Game: \n",
      "Current Room State:\n",
      "You look around and see the following items in Room 1:\n",
      "- key\n",
      "- potion\n",
      "There is a locked door here.\n",
      "\n",
      "Your inventory: \n",
      "\n",
      "Available actions:\n",
      "- look around\n",
      "- pick up key\n",
      "- pick up lock\n",
      "- pick up potion\n",
      "- pick up treasure\n",
      "- unlock door\n",
      "- enter next room\n",
      "- exit\n",
      "- drink potion\n",
      "\n",
      "What would you do? You must reply with one of the Available actions\n",
      "\u001b[1m\u001b[32mThoughts: I should pick up the key since it might be useful for unlocking the door. If that fails, I can try other actions like picking up the potion or looking around for more clues.\u001b[0m\n",
      "\u001b[1m\u001b[34mUpdated Memory: {'Inventory': [''], 'Past Actions': [''], 'Summary of Past Actions': '', 'Rooms Explored': ['']}\u001b[0m\n",
      "\u001b[1m\u001b[35mSummary of Conversation: The agent is currently in Room 1, where they found a key and a potion. They need to decide on their next action to progress further.\u001b[0m\n",
      "Escape Room Solver : pick up key\n",
      "###\n",
      "\n",
      "Game: You picked up the key.\n",
      "Current Room State:\n",
      "You look around and see the following items in Room 1:\n",
      "- potion\n",
      "There is a locked door here.\n",
      "\n",
      "Your inventory: key\n",
      "\n",
      "Available actions:\n",
      "- look around\n",
      "- pick up key\n",
      "- pick up lock\n",
      "- pick up potion\n",
      "- pick up treasure\n",
      "- unlock door\n",
      "- enter next room\n",
      "- exit\n",
      "- drink potion\n",
      "\n",
      "What would you do? You must reply with one of the Available actions\n",
      "\u001b[1m\u001b[32mThoughts: I have successfully picked up the key and now have it in my inventory. Since there is only a potion left in the room, I should pick up the potion next to see if it helps me progress further.\u001b[0m\n",
      "\u001b[1m\u001b[34mUpdated Memory: {'Inventory': ['key'], 'Past Actions': ['pick up key'], 'Summary of Past Actions': 'You picked up the key.', 'Rooms Explored': ['Room 1']}\u001b[0m\n",
      "\u001b[1m\u001b[35mSummary of Conversation: The agent successfully picked up the key in Room 1 and is now deciding to pick up the potion next to progress further.\u001b[0m\n",
      "Escape Room Solver : pick up potion\n",
      "###\n",
      "\n",
      "Game: You picked up the potion.\n",
      "Current Room State:\n",
      "You look around and see the following items in Room 1:\n",
      "There is a locked door here.\n",
      "\n",
      "Your inventory: key, potion\n",
      "\n",
      "Available actions:\n",
      "- look around\n",
      "- pick up key\n",
      "- pick up lock\n",
      "- pick up potion\n",
      "- pick up treasure\n",
      "- unlock door\n",
      "- enter next room\n",
      "- exit\n",
      "- drink potion\n",
      "\n",
      "What would you do? You must reply with one of the Available actions\n",
      "\u001b[1m\u001b[32mThoughts: The agent successfully picked up the key in Room 1 and is now deciding to pick up the potion next to progress further.\u001b[0m\n",
      "\u001b[1m\u001b[34mUpdated Memory: {'Inventory': ['key', 'potion'], 'Past Actions': ['pick up key', 'pick up potion'], 'Summary of Past Actions': 'You picked up the key. You picked up the potion.', 'Rooms Explored': ['Room 1']}\u001b[0m\n",
      "\u001b[1m\u001b[35mSummary of Conversation: The agent successfully picked up the key and potion in Room 1, and is now considering the next action to take to progress further.\u001b[0m\n",
      "Escape Room Solver : pick up lock\n",
      "###\n",
      "\n",
      "Game: There's no such item here or you already picked it up.\n",
      "Current Room State:\n",
      "You look around and see the following items in Room 1:\n",
      "There is a locked door here.\n",
      "\n",
      "Your inventory: key, potion\n",
      "\n",
      "Available actions:\n",
      "- look around\n",
      "- pick up key\n",
      "- pick up lock\n",
      "- pick up potion\n",
      "- pick up treasure\n",
      "- unlock door\n",
      "- enter next room\n",
      "- exit\n",
      "- drink potion\n",
      "\n",
      "What would you do? You must reply with one of the Available actions\n",
      "\u001b[1m\u001b[32mThoughts: Since picking up the lock failed, I should try another action. I could try to unlock the door using the key in my inventory.\u001b[0m\n",
      "\u001b[1m\u001b[34mUpdated Memory: {'Inventory': ['key', 'potion'], 'Past Actions': ['pick up key', 'pick up potion', 'pick up lock'], 'Summary of Past Actions': 'You picked up the key. You picked up the potion. You tried to pick up the lock.', 'Rooms Explored': ['Room 1']}\u001b[0m\n",
      "\u001b[1m\u001b[35mSummary of Conversation: The agent successfully picked up the key and potion in Room 1, and is now attempting to unlock the door using the key. The agent has explored Room 1 and acquired the key, potion, and attempted to pick up the lock.\u001b[0m\n",
      "Escape Room Solver : unlock door\n",
      "###\n",
      "\n",
      "Game: You unlocked the door. You can try to enter the next room now.\n",
      "Current Room State:\n",
      "You look around and see the following items in Room 1:\n",
      "There is an unlocked door here.\n",
      "\n",
      "Your inventory: key, potion\n",
      "\n",
      "Available actions:\n",
      "- look around\n",
      "- pick up key\n",
      "- pick up lock\n",
      "- pick up potion\n",
      "- pick up treasure\n",
      "- unlock door\n",
      "- enter next room\n",
      "- exit\n",
      "- drink potion\n",
      "\n",
      "What would you do? You must reply with one of the Available actions\n",
      "\u001b[1m\u001b[32mThoughts: The door has been successfully unlocked. I should now try to enter the next room.\u001b[0m\n",
      "\u001b[1m\u001b[34mUpdated Memory: {'Inventory': ['key', 'potion'], 'Past Actions': ['pick up key', 'pick up potion', 'pick up lock', 'unlock door'], 'Summary of Past Actions': 'You picked up the key. You picked up the potion. You tried to pick up the lock. You unlocked the door.', 'Rooms Explored': ['Room 1']}\u001b[0m\n",
      "\u001b[1m\u001b[35mSummary of Conversation: The agent successfully picked up the key and potion in Room 1, and is now attempting to unlock the door using the key. The agent has explored Room 1 and acquired the key, potion, and attempted to pick up the lock. The door has been successfully unlocked, and the agent is now preparing to enter the next room.\u001b[0m\n",
      "Escape Room Solver : enter next room\n",
      "###\n",
      "\n",
      "Game: You enter the next room.\n",
      "Current Room State:\n",
      "You look around and see the following items in Room 2:\n",
      "- treasure\n",
      "There is a locked door here.\n",
      "\n",
      "Your inventory: key, potion\n",
      "\n",
      "Available actions:\n",
      "- look around\n",
      "- pick up key\n",
      "- pick up lock\n",
      "- pick up potion\n",
      "- pick up treasure\n",
      "- unlock door\n",
      "- enter next room\n",
      "- exit\n",
      "- drink potion\n",
      "\n",
      "What would you do? You must reply with one of the Available actions\n",
      "\u001b[1m\u001b[32mThoughts: I have entered Room 2 and see a treasure. I need to find a way to unlock the door in this room.\u001b[0m\n",
      "\u001b[1m\u001b[34mUpdated Memory: {'Inventory': ['key', 'potion'], 'Past Actions': ['pick up key', 'pick up potion', 'pick up lock', 'unlock door'], 'Summary of Past Actions': 'You picked up the key. You picked up the potion. You tried to pick up the lock. You unlocked the door.', 'Rooms Explored': ['Room 1', 'Room 2']}\u001b[0m\n",
      "\u001b[1m\u001b[35mSummary of Conversation: The agent successfully picked up the key and potion in Room 1, unlocked the door, and entered Room 2 where a treasure is found. The agent is now attempting to unlock the door in Room 2 after exploring Room 2.\u001b[0m\n",
      "Escape Room Solver : unlock door\n",
      "###\n",
      "\n",
      "Game: You unlocked the door. You can try to enter the next room now.\n",
      "Current Room State:\n",
      "You look around and see the following items in Room 2:\n",
      "- treasure\n",
      "There is an unlocked door here.\n",
      "\n",
      "Your inventory: key, potion\n",
      "\n",
      "Available actions:\n",
      "- look around\n",
      "- pick up key\n",
      "- pick up lock\n",
      "- pick up potion\n",
      "- pick up treasure\n",
      "- unlock door\n",
      "- enter next room\n",
      "- exit\n",
      "- drink potion\n",
      "\n",
      "What would you do? You must reply with one of the Available actions\n",
      "\u001b[1m\u001b[32mThoughts: I successfully unlocked the door in Room 2 and now have access to the treasure. I should try to enter the next room to continue exploring.\u001b[0m\n",
      "\u001b[1m\u001b[34mUpdated Memory: {'Inventory': ['key', 'potion'], 'Past Actions': ['pick up key', 'pick up potion', 'pick up lock', 'unlock door'], 'Summary of Past Actions': 'You picked up the key. You picked up the potion. You tried to pick up the lock. You unlocked the door.', 'Rooms Explored': ['Room 1', 'Room 2']}\u001b[0m\n",
      "\u001b[1m\u001b[35mSummary of Conversation: The agent successfully picked up the key and potion in Room 1, unlocked the door, and entered Room 2 where a treasure is found. The agent is now attempting to unlock the door in Room 2 after exploring Room 2.\u001b[0m\n",
      "Escape Room Solver : enter next room\n",
      "###\n",
      "\n"
     ]
    }
   ],
   "source": [
    "# To play the game\n",
    "game = EscapeRoom()\n",
    "newstate = ''\n",
    "\n",
    "while not game.game_over:\n",
    "    state = newstate + '\\n' + game.info() + '\\nWhat would you do? You must reply with one of the Available actions'\n",
    "    print('Game:', state)\n",
    "    reply = conversable_agent.chat(state)\n",
    "    print(conversable_agent.agent.agent_name, ':', reply)\n",
    "    print('###\\n')\n",
    "    newstate = game.play(reply)"
   ]
  }
 ],
 "metadata": {
  "kernelspec": {
   "display_name": "Python 3 (ipykernel)",
   "language": "python",
   "name": "python3"
  },
  "language_info": {
   "codemirror_mode": {
    "name": "ipython",
    "version": 3
   },
   "file_extension": ".py",
   "mimetype": "text/x-python",
   "name": "python",
   "nbconvert_exporter": "python",
   "pygments_lexer": "ipython3",
   "version": "3.11.3"
  }
 },
 "nbformat": 4,
 "nbformat_minor": 5
}
