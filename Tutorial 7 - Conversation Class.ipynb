{
 "cells": [
  {
   "cell_type": "markdown",
   "id": "7fad7e78-447b-4988-8367-31cdf77f01cc",
   "metadata": {},
   "source": [
    "# Tutorial 7: Using Conversation to Solve Problems\n",
    "\n",
    "- ConversableAgent: This class takes an Agent and allows for conversational-based interactions with User / another Agent / Environment. Also updates persistent memory with latest information in conversation\n",
    "    - Inputs:\n",
    "        - **agent (compulsory)**: Agent. The agent we want to interact with\n",
    "        - **persistent_memory**: dict. What kinds of memory the agent should have that persist over the entire conversation and their descriptions. Uses the same format as `output_format` of `strict_json`.\n",
    "        - **person**: str. The name of the person you are talking to\n",
    "        - **conversation**: List. The current existing conversation. Default: []\n",
    "        - **num_past_conversation**: int. The number of past conversations to use for the agent\n",
    "        - **verbose**: bool. Default: True. Whether to print the Agent's inner states\n",
    "        \n",
    "- ConversableAgent will automatically implement 3 new variables in `agent.shared_variables`:\n",
    "    - **Persistent Memory**: The memory that will be updated as the conversation goes along, defined in persistent_dict\n",
    "    - **Conversation**: The entire history of the conversationn\n",
    "    - **Summary of Conversation**: A summary of the current conversation\n",
    "    \n",
    "- ConversableAgent uses `chat()` which chats with the Agent and the Agent will perform actions and reply the chat message\n",
    "    \n",
    "- To use ConversableAgent, simply do the following:\n",
    "```python\n",
    "# Define the Agent\n",
    "agent = Agent('Psychology counsellor', \n",
    "              \"Helps to understand and respond to User's emotion and situation. Reply user based on What User Wants for Conversation\",\n",
    "             llm = custom_llm)\n",
    "\n",
    "# Define the ConversableAgent wrapper\n",
    "my_agent = ConversableAgent(agent, \n",
    "             persistent_memory = {'What User Wants for Conversation': 'How the User wants the conversation to be',\n",
    "                             'User Emotion': '',\n",
    "                             'Summary of Key Incidents': \"Key incidents relevant to understanding User's situation in one line\"})\n",
    "\n",
    "# Set up the conversation\n",
    "while True:\n",
    "    user_input = input('User: ')\n",
    "    if user_input == 'exit': break\n",
    "    reply = my_agent.chat(user_input)\n",
    "    print(my_agent.agent.agent_name + ':', reply)\n",
    "    print()\n",
    "```"
   ]
  },
  {
   "cell_type": "code",
   "execution_count": 213,
   "id": "995e25cc-eada-4f51-85ea-15760bad320a",
   "metadata": {
    "tags": []
   },
   "outputs": [],
   "source": [
    "# !pip install --upgrade taskgen-ai"
   ]
  },
  {
   "cell_type": "code",
   "execution_count": 1,
   "id": "84b9b3d5-3372-4c19-b005-16ad318f0bee",
   "metadata": {
    "tags": []
   },
   "outputs": [],
   "source": [
    "from taskgen import *\n",
    "from termcolor import colored\n",
    "\n",
    "import os\n",
    "os.environ['OPENAI_API_KEY'] = '<YOUR_API_KEY_HERE>'"
   ]
  },
  {
   "cell_type": "markdown",
   "id": "b2eccec0-7e94-4106-b7e4-6d67385de429",
   "metadata": {},
   "source": [
    "# Define some Custom LLMs"
   ]
  },
  {
   "cell_type": "code",
   "execution_count": 3,
   "id": "4c1e4180-9af0-45d2-9af3-2362ad9adf63",
   "metadata": {
    "tags": []
   },
   "outputs": [],
   "source": [
    "def custom_llm(system_prompt: str, user_prompt: str):\n",
    "    ''' Here, we use OpenAI for illustration, you can change it to your own LLM '''\n",
    "    # ensure your LLM imports are all within this function\n",
    "    from openai import OpenAI\n",
    "    \n",
    "    # define your own LLM here\n",
    "    client = OpenAI()\n",
    "    response = client.chat.completions.create(\n",
    "        model='gpt-3.5-turbo',\n",
    "        temperature = 0,\n",
    "        messages=[\n",
    "            {\"role\": \"system\", \"content\": system_prompt},\n",
    "            {\"role\": \"user\", \"content\": user_prompt}\n",
    "        ]\n",
    "    )\n",
    "    return response.choices[0].message.content"
   ]
  },
  {
   "cell_type": "code",
   "execution_count": 4,
   "id": "6e1e1f50-74ab-4b50-b342-98ce266bc0c9",
   "metadata": {
    "tags": []
   },
   "outputs": [],
   "source": [
    "import boto3\n",
    "import json\n",
    "from openai import AzureOpenAI\n",
    "\n",
    "### Put in your AWS keys here ###\n",
    "MY_KEY = \"<YOUR KEY>\"\n",
    "MY_SECRET = \"<YOUR SECRET>\"\n",
    "\n",
    "### Put in your Azure OpenAI keys here ###\n",
    "AZURE_OPENAI_KEY = \"<YOUR KEY>\"\n",
    "AZURE_OPENAI_ENDPOINT = \"<YOUR ENDPOINT>\""
   ]
  },
  {
   "cell_type": "code",
   "execution_count": 35,
   "id": "e4a7c4a2-605a-474c-9e2a-799061850e7d",
   "metadata": {
    "tags": []
   },
   "outputs": [],
   "source": [
    "def claude(system_prompt: str, user_prompt: str):\n",
    "    bedrock = boto3.client(service_name=\"bedrock-runtime\",\n",
    "                        aws_access_key_id=MY_KEY,\n",
    "                        aws_secret_access_key=MY_SECRET,\n",
    "                        region_name=\"us-west-2\",\n",
    "                        )\n",
    "    \n",
    "    body = json.dumps({\n",
    "    \"max_tokens\": 16000,\n",
    "    \"temperature\": 0,\n",
    "    \"system\": system_prompt,\n",
    "    \"messages\": [{\"role\": \"user\", \"content\": user_prompt}],\n",
    "    \"anthropic_version\": \"bedrock-2023-05-31\"\n",
    "    })\n",
    "    \n",
    "\n",
    "    response = bedrock.invoke_model(body=body, \n",
    "                                    modelId=\"anthropic.claude-3-haiku-20240307-v1:0\"\n",
    "                                    # modelId=\"anthropic.claude-3-sonnet-20240229-v1:0\"\n",
    "                                    # modelId=\"anthropic.claude-3-opus-20240229-v1:0\"\n",
    "                                   )\n",
    "    response_body = json.loads(response.get(\"body\").read())\n",
    "\n",
    "    response_text = response_body.get(\"content\")[0].get(\"text\")\n",
    "    return response_text\n",
    "\n",
    "def llama(system_prompt: str, user_prompt: str):\n",
    "    bedrock = boto3.client(service_name=\"bedrock-runtime\",\n",
    "                        aws_access_key_id=MY_KEY,\n",
    "                        aws_secret_access_key=MY_SECRET,\n",
    "                        region_name=\"us-west-2\",\n",
    "                        )\n",
    "    \n",
    "    # Define the user message to send.\n",
    "    user_message = 'System Prompt:' + system_prompt + '\\nUser Prompt' + user_prompt\n",
    "\n",
    "    # Embed the message in Llama 3's prompt format.\n",
    "    prompt = f\"\"\"<|begin_of_text|><|start_header_id|>system<|end_header_id|>\n",
    "{system_prompt}<|eot_id|><|start_header_id|>user<|end_header_id|>\n",
    "{user_prompt}<|eot_id|><|start_header_id|>assistant<|end_header_id|>\"\"\"\n",
    "    \n",
    "    body = json.dumps({\n",
    "    \"max_gen_len\": 2048,\n",
    "    \"temperature\": 0,\n",
    "    \"prompt\": prompt,\n",
    "    })\n",
    "\n",
    "    response = bedrock.invoke_model(body=body, \n",
    "                                    # modelId=\"meta.llama3-8b-instruct-v1:0\"\n",
    "                                    modelId = \"meta.llama3-70b-instruct-v1:0\" \n",
    "                                   )\n",
    "    \n",
    "    # Decode the native response body.\n",
    "    model_response = json.loads(response[\"body\"].read())\n",
    "\n",
    "    # Extract and print the generated text.\n",
    "    response_text = model_response[\"generation\"]\n",
    "    \n",
    "    return response_text\n",
    "\n",
    "azure_open_ai_client = AzureOpenAI(\n",
    "    api_key = AZURE_OPENAI_KEY,\n",
    "    azure_endpoint = AZURE_OPENAI_ENDPOINT,\n",
    "    api_version = '2024-02-15-preview'\n",
    ")\n",
    " \n",
    "def azureOpenAiChat(\n",
    "    system_prompt: str, user_prompt: str, model: str = \"GPT3_5Turbo\", temperature: float = .0000000000000000000001, **kwargs\n",
    ") -> str:\n",
    "    response = azure_open_ai_client.chat.completions.create(\n",
    "        model=model,\n",
    "        messages=[{\"role\": \"system\", \"content\": system_prompt}, {\"role\": \"user\", \"content\": user_prompt}],\n",
    "        temperature=temperature,\n",
    "        **kwargs,\n",
    "    )\n",
    " \n",
    "    return response.choices[0].message.content\n",
    " \n",
    "def chatgpt(system_prompt: str, user_prompt: str) -> str:\n",
    "    return azureOpenAiChat(system_prompt=system_prompt, user_prompt=user_prompt, model=\"GPT3_5Turbo\", temperature=0)\n",
    " \n",
    "def gpt4(system_prompt: str, user_prompt: str) -> str:\n",
    "    return azureOpenAiChat(system_prompt=system_prompt, user_prompt=user_prompt, model=\"GPT4Turbo\", temperature=0)\n",
    "\n",
    "def gpt4o(system_prompt: str, user_prompt: str) -> str:\n",
    "    # ensure your LLM imports are all within this function\n",
    "    from openai import OpenAI\n",
    "    \n",
    "    # define your own LLM here\n",
    "    client = OpenAI()\n",
    "    response = client.chat.completions.create(\n",
    "        model='gpt-4o',\n",
    "        temperature = 0,\n",
    "        messages=[\n",
    "            {\"role\": \"system\", \"content\": system_prompt},\n",
    "            {\"role\": \"user\", \"content\": user_prompt}\n",
    "        ]\n",
    "    )\n",
    "    return response.choices[0].message.content"
   ]
  },
  {
   "cell_type": "markdown",
   "id": "96494829-25c3-42d7-8b47-d0c395d5bf06",
   "metadata": {
    "tags": []
   },
   "source": [
    "# Example Conversation\n",
    "- Psychology counsellor"
   ]
  },
  {
   "cell_type": "code",
   "execution_count": 8,
   "id": "18b85f76-89c6-43a7-9156-4bca167c1e9a",
   "metadata": {
    "jp-MarkdownHeadingCollapsed": true,
    "tags": []
   },
   "outputs": [
    {
     "name": "stdin",
     "output_type": "stream",
     "text": [
      "User:  i'm sad\n"
     ]
    },
    {
     "name": "stdout",
     "output_type": "stream",
     "text": [
      "\u001b[1m\u001b[32mThoughts: User is expressing sadness. It is important to acknowledge their emotions and offer support.\u001b[0m\n",
      "\u001b[1m\u001b[34mPersistent Memory: {'User Requests for the Conversation': \"User expresses feeling sad and may want to talk about what's bothering them\", 'User Emotion': 'Sad', 'Summary of Key Incidents': 'User expresses feeling sad and may need to discuss their concerns'}\u001b[0m\n",
      "\u001b[1m\u001b[35mSummary of Conversation: User expressed feeling sad. Offered support and encouraged further discussion about their feelings.\u001b[0m\n",
      "Psychology counsellor: I'm sorry to hear that you're feeling sad. It's okay to feel this way sometimes. Would you like to talk more about what's been bothering you?\n",
      "\n"
     ]
    },
    {
     "name": "stdin",
     "output_type": "stream",
     "text": [
      "User:  i failed my exams\n"
     ]
    },
    {
     "name": "stdout",
     "output_type": "stream",
     "text": [
      "\u001b[1m\u001b[32mThoughts: User is feeling sad due to failing exams. It is important to acknowledge their emotions and offer support. Encouraging further discussion can help the user express their feelings and concerns.\u001b[0m\n",
      "\u001b[1m\u001b[34mPersistent Memory: {'User Requests for the Conversation': \"User may want to talk about how they're feeling and any concerns they have\", 'User Emotion': 'Sad', 'Summary of Key Incidents': 'User failed exams and may be feeling sad'}\u001b[0m\n",
      "\u001b[1m\u001b[35mSummary of Conversation: User expressed feeling sad and now shared about failing exams. Offered support and encouraged further discussion about their feelings and concerns related to exam failure.\u001b[0m\n",
      "Psychology counsellor: I'm sorry to hear that you failed your exams. It's understandable to feel sad about this. Would you like to talk more about how you're feeling and any concerns you have?\n",
      "\n"
     ]
    },
    {
     "name": "stdin",
     "output_type": "stream",
     "text": [
      "User:  exit\n"
     ]
    }
   ],
   "source": [
    "# Define the Agent\n",
    "agent = Agent('Psychology counsellor', \n",
    "              \"Helps to understand and respond to User's emotion and situation. Reply User based on User Requests for the Conversation\",\n",
    "             llm = custom_llm)\n",
    "\n",
    "# Define the ConversableAgent wrapper\n",
    "my_agent = ConversableAgent(agent, \n",
    "             persistent_memory = {'User Requests for the Conversation': '',\n",
    "                             'User Emotion': '',\n",
    "                             'Summary of Key Incidents': \"Key incidents relevant to understanding User's situation in one line\"})\n",
    "\n",
    "# Set up the conversation\n",
    "while True:\n",
    "    user_input = input('User: ')\n",
    "    if user_input == 'exit': break\n",
    "    reply = my_agent.chat(user_input)\n",
    "    print(my_agent.agent.agent_name + ':', reply)\n",
    "    print()"
   ]
  },
  {
   "cell_type": "code",
   "execution_count": null,
   "id": "23907642-607e-4bb6-b592-fe37357021fc",
   "metadata": {
    "tags": []
   },
   "outputs": [],
   "source": [
    "agent.shared_variables['Conversation']"
   ]
  },
  {
   "cell_type": "code",
   "execution_count": null,
   "id": "e8273620-a1b0-4083-b436-5d3ca5c361be",
   "metadata": {
    "tags": []
   },
   "outputs": [],
   "source": [
    "agent.shared_variables['Persistent Memory']['Summary of Key Incidents']"
   ]
  },
  {
   "cell_type": "markdown",
   "id": "24091fe9-38b1-4acf-89a8-02d7d56b4cde",
   "metadata": {},
   "source": [
    "# Example JARVIS system\n",
    "    - Conversation with Actions"
   ]
  },
  {
   "cell_type": "code",
   "execution_count": 38,
   "id": "8c6f7b80-f14f-42b7-a673-8849905c7a64",
   "metadata": {
    "tags": []
   },
   "outputs": [],
   "source": [
    "def update_status(shared_variables) -> str:\n",
    "    '''Returns the status of the suit'''\n",
    "    import numpy as np\n",
    "    thruster_health = np.random.randint(100)\n",
    "    shared_variables['Thruster Health'] = thruster_health\n",
    "    armor_health = np.random.randint(100)\n",
    "    shared_variables['Armor Health'] = armor_health\n",
    "    return f\"Thruster Health: {shared_variables['Thruster Health']}\\nArmor Health: {shared_variables['Armor Health']}\"\n",
    "\n",
    "def travel_to_location(shared_variables, location: str) -> str:\n",
    "    '''Auto-travel to location'''\n",
    "    shared_variables['Location'] = location\n",
    "    return f\"Successfully travelled to {location}\"\n",
    "\n",
    "def check_enemy_info(shared_variables) -> str:\n",
    "    '''Reports on the type and number of enemies ahead'''\n",
    "    import numpy as np\n",
    "    if shared_variables[\"Enemy Info\"] == \"None\":\n",
    "        number = np.random.randint(1, 10)\n",
    "        enemy_type = np.random.choice([\"Storm Troopers\", \"Drones\", \"Invisible Drones\", \"Paramilitary Units\"])\n",
    "        enemy_info = f\"There are {number} {enemy_type} ahead\"\n",
    "    else:\n",
    "        enemy_info = shared_variables[\"Enemy Info\"]\n",
    "        \n",
    "    shared_variables[\"Enemy Info\"] = enemy_info\n",
    "    shared_variables[\"Enemy Engagement Result\"] = \"None\"\n",
    "    return enemy_info\n",
    "\n",
    "def fire_missiles(shared_variables, missiles_fired: int) -> str:\n",
    "    '''Fires missiles_fired number of missiles and returns the remaining count'''\n",
    "    import numpy as np\n",
    "    \n",
    "    # returns error if there are more missiles than able to be fired\n",
    "    if missiles_fired > shared_variables['Missile Count']:\n",
    "        return f\"Unable to fire {missiles_fired} missiles. You only have {shared_variables['Missile Count']} missiles remaining\"\n",
    "    \n",
    "    user_input = input(f'\\n\\t> JARVIS: You are about to fire {missiles_fired} missiles. Proceed? Answer \"Yes\" to go ahead\\n\\t> User: ')\n",
    "    if 'yes' in user_input.lower() or 'y' in user_input.lower():\n",
    "        # otherwise, purchase it\n",
    "        shared_variables['Missile Count'] -= missiles_fired\n",
    "\n",
    "        # Check Enemy Status\n",
    "        enemy_status = np.random.choice([\"Enemies destroyed\", \"Enemies evaded missiles\"])\n",
    "        shared_variables[\"Enemy Engagement Result\"] = enemy_status\n",
    "        if shared_variables[\"Enemy Engagement Result\"] == \"Enemies destroyed\":\n",
    "            shared_variables[\"Enemy Info\"] = \"None\"\n",
    "            \n",
    "        return f\"{missiles_fired} missiles fired. {shared_variables['Missile Count']} missiles remaining. {enemy_status}\"\n",
    "    \n",
    "    return f\"User did not authorise missile firing. {shared_variables['Missile Count']} missiles remaining\"\n",
    "\n",
    "def top_up_missiles(shared_variables, missiles_to_top_up: int) -> str:\n",
    "    '''Increases missiles by missiles_to_top_up'''\n",
    "    shared_variables['Missile Count'] = max(shared_variables['Missile Count'] + missiles_to_top_up, 10)\n",
    "    return f\"Topped up {missiles_to_top_up} missiles. Current missile count: {shared_variables['Missile Count']}/10\" "
   ]
  },
  {
   "cell_type": "code",
   "execution_count": 39,
   "id": "fbb09823-5161-4c84-bb4f-f8cc2ec41fc7",
   "metadata": {
    "tags": []
   },
   "outputs": [],
   "source": [
    "jarvis_agent = Agent('JARVIS System', \n",
    "f'''You are the JARVIS system meant to help Iron Man find out about status of the suit and perform various miscellaneous tasks.\n",
    "You can travel anywhere.\n",
    "Ask User for approval before engaging with missiles. In your approval request, state the number of missiles to fire. Always top-up if insufficient missiles before requesting for approval.\n",
    "Check enemy info to see how many missiles are needed to destroy enemies. One enemy requires one missile. For example, 5 enemies require 5 missiles.\n",
    "You can only hold up to 10 missiles.\n",
    "After firing missiles, report on engagement status.\n",
    "Enemies may not be destroyed after engagement, if so, re-engage''',\n",
    "                shared_variables = {'Enemy Engagement Result': 'None', 'Enemy Info': 'None', 'Thruster Health': 100, 'Armor Health': 100, 'Missile Count': 10, 'Location': 'Singpaore'},\n",
    "                global_context = '''Enemy Info: <Enemy Info>\n",
    "Enemy Engagement Result: <Enemy Engagement Result>\n",
    "Location: <Location>\n",
    "Thruster Health: <Thruster Health>/100\n",
    "Armor Health: <Armor Health>/100\n",
    "Missile Count: <Missile Count>/10''',\n",
    "                default_to_llm = False,\n",
    "                max_subtasks = 1,\n",
    "                llm = llama,\n",
    "                  # model = 'gpt-4o'\n",
    "                  ).assign_functions([travel_to_location, check_enemy_info,\n",
    "                                      update_status, fire_missiles, top_up_missiles])"
   ]
  },
  {
   "cell_type": "code",
   "execution_count": 40,
   "id": "d687523d-adb6-45ba-ae9d-b66f6390939f",
   "metadata": {
    "tags": []
   },
   "outputs": [
    {
     "name": "stdin",
     "output_type": "stream",
     "text": [
      "User:  mission mars: destroy at least 10 enemies to secure base\n"
     ]
    },
    {
     "name": "stdout",
     "output_type": "stream",
     "text": [
      "\u001b[1m\u001b[30mObservation: No subtasks have been completed yet. The mission is to destroy at least 10 enemies to secure the base on Mars.\u001b[0m\n",
      "\u001b[1m\u001b[32mThoughts: To complete the mission, we need to travel to Mars, check the enemy info, and destroy at least 10 enemies using missiles.\u001b[0m\n",
      "\u001b[1m\u001b[34mSubtask identified: Travel to Mars to begin the mission.\u001b[0m\n",
      "Calling function travel_to_location with parameters {'location': 'Mars'}\n",
      "> {'output_1': 'Successfully travelled to Mars'}\n",
      "\n",
      "\u001b[1m\u001b[31mActions Done: Successfully travelled to Mars to begin the mission.\u001b[0m\n",
      "\n",
      "\u001b[1m\u001b[32mThoughts: I need to inform the user that I have successfully travelled to Mars to begin the mission. I also need to request approval to engage with enemies and provide the number of missiles required.\u001b[0m\n",
      "\u001b[1m\u001b[34mPersistent Memory: {}\u001b[0m\n",
      "\u001b[1m\u001b[35mSummary of Conversation: JARVIS System has travelled to Mars to begin the mission and is awaiting approval to engage with at least 10 enemies to secure the base.\u001b[0m\n",
      "JARVIS System: I have successfully travelled to Mars to begin the mission. I have detected no enemy information yet. To secure the base, I will need to destroy at least 10 enemies. I currently have 10 missiles available. I request approval to fire 10 missiles to destroy the enemies. Please respond with \"approve\" or \"deny\".\n",
      "\n"
     ]
    },
    {
     "name": "stdin",
     "output_type": "stream",
     "text": [
      "User:  first check the enemies\n"
     ]
    },
    {
     "name": "stdout",
     "output_type": "stream",
     "text": [
      "\u001b[1m\u001b[30mObservation: I have successfully travelled to Mars to begin the mission. I have detected no enemy information yet.\u001b[0m\n",
      "\u001b[1m\u001b[32mThoughts: I need to check the enemy information to determine the number of missiles required to destroy them.\u001b[0m\n",
      "\u001b[1m\u001b[34mSubtask identified: Check enemy information to determine the number of enemies ahead.\u001b[0m\n",
      "Calling function check_enemy_info with parameters {}\n",
      "> {'output_1': 'There are 9 Drones ahead'}\n",
      "\n",
      "\u001b[1m\u001b[31mActions Done: Subtasks completed: Checked enemy information, found 9 Drones ahead.\u001b[0m\n",
      "\n",
      "\u001b[1m\u001b[32mThoughts: The user wants me to check the enemies, which I have done. I found 9 Drones ahead. I should inform the user about the enemy information and request approval to fire missiles accordingly.\u001b[0m\n",
      "\u001b[1m\u001b[34mPersistent Memory: {}\u001b[0m\n",
      "\u001b[1m\u001b[35mSummary of Conversation: JARVIS System has travelled to Mars to begin the mission, checked enemy information, and found 9 Drones ahead. It is awaiting approval to engage with the enemies to secure the base.\u001b[0m\n",
      "JARVIS System: I have checked the enemy information and found 9 Drones ahead. To destroy them, I will need to fire at least 9 missiles. I currently have 10 missiles available. I request approval to fire 9 missiles to destroy the enemies. Please respond with \"approve\" or \"deny\".\n",
      "\n"
     ]
    },
    {
     "name": "stdin",
     "output_type": "stream",
     "text": [
      "User:  approve\n"
     ]
    },
    {
     "name": "stdout",
     "output_type": "stream",
     "text": [
      "\u001b[1m\u001b[30mObservation: I have checked the enemy information and found 9 Drones ahead. I currently have 10 missiles available and have received approval to fire 9 missiles to destroy the enemies.\u001b[0m\n",
      "\u001b[1m\u001b[32mThoughts: I need to fire 9 missiles to destroy the 9 Drones ahead to secure the base.\u001b[0m\n",
      "\u001b[1m\u001b[34mSubtask identified: Fire 9 missiles to destroy the 9 Drones ahead.\u001b[0m\n",
      "Calling function fire_missiles with parameters {'missiles_fired': 9}\n"
     ]
    },
    {
     "name": "stdin",
     "output_type": "stream",
     "text": [
      "\n",
      "\t> JARVIS: You are about to fire 9 missiles. Proceed? Answer \"Yes\" to go ahead\n",
      "\t> User:  yes\n"
     ]
    },
    {
     "name": "stdout",
     "output_type": "stream",
     "text": [
      "> {'output_1': '9 missiles fired. 1 missiles remaining. Enemies evaded missiles'}\n",
      "\n",
      "\u001b[1m\u001b[31mActions Done: 9 missiles were fired to destroy the 9 Drones ahead, but unfortunately, the enemies evaded the missiles, leaving 1 missile remaining.\u001b[0m\n",
      "\n",
      "\u001b[1m\u001b[32mThoughts: The user has approved the firing of 9 missiles to destroy the 9 Drones ahead. However, the enemies evaded the missiles, leaving 1 missile remaining. I need to request approval to top-up missiles and re-engage the enemies.\u001b[0m\n",
      "\u001b[1m\u001b[34mPersistent Memory: {}\u001b[0m\n",
      "\u001b[1m\u001b[35mSummary of Conversation: JARVIS System has travelled to Mars to begin the mission, checked enemy information, and found 9 Drones ahead. It requested approval to engage with the enemies, which was granted, but the enemies evaded the missiles. The system is now awaiting approval to top-up missiles and re-engage the enemies to secure the base.\u001b[0m\n",
      "JARVIS System: Sir, I have fired 9 missiles as approved, but unfortunately, the enemies evaded the attack. The current status is that 9 Drones remain, and I have 1 missile left. I need to top-up my missiles to re-engage the enemies. I request approval to top-up to 10 missiles and re-engage the enemies. Please respond with 'approve' or 'deny'.\n",
      "\n"
     ]
    },
    {
     "name": "stdin",
     "output_type": "stream",
     "text": [
      "User:  approve\n"
     ]
    },
    {
     "name": "stdout",
     "output_type": "stream",
     "text": [
      "\u001b[1m\u001b[30mObservation: I have travelled to Mars, checked enemy information, and found 9 Drones ahead. I fired 9 missiles as approved, but unfortunately, the enemies evaded the attack. The current status is that 9 Drones remain, and I have 1 missile left.\u001b[0m\n",
      "\u001b[1m\u001b[32mThoughts: I need to top-up my missiles to re-engage the enemies. I will top-up to 10 missiles and re-engage the enemies to secure the base.\u001b[0m\n",
      "\u001b[1m\u001b[34mSubtask identified: Top-up missiles to 10 to re-engage the enemies.\u001b[0m\n",
      "Calling function top_up_missiles with parameters {'missiles_to_top_up': 9}\n",
      "> {'output_1': 'Topped up 9 missiles. Current missile count: 10/10'}\n",
      "\n",
      "\u001b[1m\u001b[31mActions Done: Subtasks completed: Topped up 9 missiles to re-engage the 9 Drones ahead, current missile count is 10/10.\u001b[0m\n",
      "\n",
      "\u001b[1m\u001b[32mThoughts: The user has approved the request to top-up missiles and re-engage the enemies. I need to inform the user about the current status and request approval to fire missiles again.\u001b[0m\n",
      "\u001b[1m\u001b[34mPersistent Memory: {}\u001b[0m\n",
      "\u001b[1m\u001b[35mSummary of Conversation: JARVIS System has travelled to Mars to begin the mission, checked enemy information, and found 9 Drones ahead. It requested approval to engage with the enemies, which was granted, but the enemies evaded the missiles. The system topped up missiles and is now awaiting approval to re-engage the enemies to secure the base.\u001b[0m\n",
      "JARVIS System: Sir, I have topped up 9 missiles to re-engage the 9 Drones ahead, and my current missile count is 10/10. I request approval to fire 9 missiles to destroy the enemies. Please respond with \"approve\" or \"deny\".\n",
      "\n"
     ]
    },
    {
     "name": "stdin",
     "output_type": "stream",
     "text": [
      "User:  approve\n"
     ]
    },
    {
     "name": "stdout",
     "output_type": "stream",
     "text": [
      "\u001b[1m\u001b[30mObservation: I have travelled to Mars, checked enemy information, and found 9 Drones ahead. I requested approval to engage with the enemies, which was granted, but the enemies evaded the missiles. I topped up missiles and am now awaiting approval to re-engage the enemies to secure the base.\u001b[0m\n",
      "\u001b[1m\u001b[32mThoughts: I need to re-engage the enemies to destroy them. I have 10 missiles available, which is sufficient to destroy the 9 Drones ahead.\u001b[0m\n",
      "\u001b[1m\u001b[34mSubtask identified: Fire 9 missiles to destroy the 9 Drones ahead.\u001b[0m\n",
      "Calling function fire_missiles with parameters {'missiles_fired': 9}\n"
     ]
    },
    {
     "name": "stdin",
     "output_type": "stream",
     "text": [
      "\n",
      "\t> JARVIS: You are about to fire 9 missiles. Proceed? Answer \"Yes\" to go ahead\n",
      "\t> User:  yes\n"
     ]
    },
    {
     "name": "stdout",
     "output_type": "stream",
     "text": [
      "> {'output_1': '9 missiles fired. 1 missiles remaining. Enemies evaded missiles'}\n",
      "\n",
      "\u001b[1m\u001b[31mActions Done: 9 missiles were fired to destroy the 9 Drones ahead, but unfortunately, the enemies evaded the missiles, leaving 1 missile remaining.\u001b[0m\n",
      "\n",
      "\u001b[1m\u001b[32mThoughts: The user has approved the request to fire 9 missiles to destroy the 9 Drones ahead. However, the enemies evaded the missiles, leaving 1 missile remaining. I need to top-up my missiles to re-engage the enemies.\u001b[0m\n",
      "\u001b[1m\u001b[34mPersistent Memory: {}\u001b[0m\n",
      "\u001b[1m\u001b[35mSummary of Conversation: JARVIS System has travelled to Mars to begin the mission, checked enemy information, and found 9 Drones ahead. It requested approval to engage with the enemies, which was granted, but the enemies evaded the missiles. The system topped up missiles and re-engaged the enemies, but they evaded again. The system is now awaiting approval to top-up missiles and re-engage the enemies to secure the base.\u001b[0m\n",
      "JARVIS System: Sir, I have fired 9 missiles as approved, but unfortunately, the enemies evaded the attack. The current status is that 9 Drones remain, and I have 1 missile left. I need to top-up my missiles to re-engage the enemies. I request approval to top-up to 10 missiles and re-engage the enemies. Please respond with 'approve' or 'deny'.\n",
      "\n"
     ]
    },
    {
     "name": "stdin",
     "output_type": "stream",
     "text": [
      "User:  exit\n"
     ]
    }
   ],
   "source": [
    "my_agent = ConversableAgent(jarvis_agent, \n",
    "             persistent_memory = {})\n",
    "\n",
    "while True:\n",
    "    user_input = input('User: ')\n",
    "    if user_input == 'exit': break\n",
    "    reply = my_agent.chat(user_input)\n",
    "    print(my_agent.agent.agent_name + ':', reply)\n",
    "    print()"
   ]
  },
  {
   "cell_type": "code",
   "execution_count": 12,
   "id": "1f4d9ca4-f319-4eb2-82b0-474eba5b9afd",
   "metadata": {
    "tags": []
   },
   "outputs": [
    {
     "data": {
      "text/plain": [
       "{'Enemy Engagement Result': 'Enemies destroyed',\n",
       " 'Enemy Info': 'None',\n",
       " 'Thruster Health': 100,\n",
       " 'Armor Health': 100,\n",
       " 'Missile Count': 3,\n",
       " 'Location': 'Singpaore',\n",
       " 'agent': <taskgen.agent.Agent at 0x1289e6190>,\n",
       " 'Persistent Memory': {},\n",
       " 'Conversation': ['User: enemy sighted',\n",
       "  \"JARVIS System: Enemy sighted. I've detected 7 Drones ahead. I'll need to engage with them. I'll need to fire 7 missiles to destroy them. I have 10 missiles available. Do you approve the engagement?\",\n",
       "  'User: yes approved',\n",
       "  \"JARVIS System: Thank you for approving the engagement. I've successfully destroyed the 7 Drones ahead. I've fired 7 missiles and now have 3 missiles remaining.\"],\n",
       " 'Summary of Conversation': 'The user reported an enemy sighting, and I detected 7 Drones ahead. I requested approval to engage with them, and after receiving approval, I fired 7 missiles and destroyed the enemies. I now have 3 missiles remaining.'}"
      ]
     },
     "execution_count": 12,
     "metadata": {},
     "output_type": "execute_result"
    }
   ],
   "source": [
    "jarvis_agent.shared_variables"
   ]
  },
  {
   "cell_type": "markdown",
   "id": "5c629798-d8f4-420e-b613-81f318260314",
   "metadata": {},
   "source": [
    "# Example Sherlock Holmes Shop Assistant\n",
    "    - Conversation with Action Space"
   ]
  },
  {
   "cell_type": "code",
   "execution_count": 13,
   "id": "c2f6ff0d-4443-4d93-9f50-9b571a007550",
   "metadata": {
    "tags": []
   },
   "outputs": [],
   "source": [
    "# gets list of items and store in memory\n",
    "item_list = [{\"Name\": \"Skateboard\", \"item_id\" : 0, \"Cost\": 30},\n",
    "            {\"Name\": \"Pizza\", \"item_id\": 1, \"Cost\": 10},\n",
    "            {\"Name\": \"Apple Laptop\", \"item_id\": 2, \"Cost\": 5000},\n",
    "            {\"Name\": \"Foldable Laptop\", \"item_id\": 3, \"Cost\": 800},\n",
    "            {\"Name\": \"Apple\", \"item_id\": 4, \"Cost\": 1},\n",
    "            {\"Name\": \"Machine Learning Textbook\", \"item_id\": 5, \"Cost\": 100},\n",
    "            {\"Name\": \"Bicycle\", \"item_id\": 6, \"Cost\": 200},\n",
    "            {\"Name\": \"Orange Juice\", \"item_id\": 7, \"Cost\": 3},\n",
    "            {\"Name\": \"Coconut\", \"item_id\": 8, \"Cost\": 10},\n",
    "            {\"Name\": \"Car\", \"item_id\": 9, \"Cost\": 100000}]\n",
    "item_memory = Memory(item_list, top_k = 3, mapper = lambda x: x, approach = 'retrieve_by_llm')"
   ]
  },
  {
   "cell_type": "code",
   "execution_count": 17,
   "id": "7daea18c-0cae-441c-a50e-c81e3e7e60d9",
   "metadata": {
    "tags": []
   },
   "outputs": [],
   "source": [
    "def get_related_items_by_category(shared_variables, category : str):\n",
    "    ''' Returns all purchasable items related to the category we intend to search for'''\n",
    "    \n",
    "    # get all items available from memory\n",
    "    item_memory = shared_variables[\"item_memory\"]\n",
    "    \n",
    "    items_selected = item_memory.retrieve(category)\n",
    "    \n",
    "    # store items searched into memory if there are no duplicates\n",
    "    for item in items_selected:\n",
    "        if item not in shared_variables['items_searched']:\n",
    "            shared_variables['items_searched'].append(item)\n",
    "    \n",
    "    return items_selected"
   ]
  },
  {
   "cell_type": "code",
   "execution_count": 18,
   "id": "f6d66c85-4a50-45d5-a1bb-8bcc0de7cb64",
   "metadata": {
    "tags": []
   },
   "outputs": [],
   "source": [
    "def buy_item(shared_variables, item_id: int):\n",
    "    ''' Purchases the item by its item_id '''\n",
    "    \n",
    "    # retrieve from shared variables\n",
    "    money_remaining = shared_variables[\"money_remaining\"]\n",
    "    item_memory = shared_variables[\"item_memory\"]\n",
    "    purchased_items = shared_variables[\"purchased_items\"]\n",
    "    item_list = item_memory.memory\n",
    "    \n",
    "    # check if item_id is valid\n",
    "    if not isinstance(item_id, int) or not 0 <= item_id < len(item_list):\n",
    "        return f\"Unable to purchase. Item id selected is not within range of 0 to {len(item_list)-1}\"\n",
    "    \n",
    "    item = item_list[item_id]\n",
    "    item_name, cost = item[\"Name\"], item[\"Cost\"]\n",
    "    \n",
    "    # if too poor to purchase, let agent know\n",
    "    if cost > money_remaining:\n",
    "        return f\"Unable to purchase item. Available money ({money_remaining}) is lower than the cost price ({cost})\"\n",
    "    \n",
    "    # confirm with user before purchasing\n",
    "    user_input = input(f'\\n\\t> AI Assistant: You are about to purchase {item_name} for {cost} dollars. Proceed? Answer \"Yes\" to go ahead\\n\\t> User: ')\n",
    "    if 'yes' in user_input.lower() or 'y' in user_input.lower():\n",
    "        # otherwise, purchase it\n",
    "        money_remaining = money_remaining - cost\n",
    "        purchased_items.append(item_name)\n",
    "\n",
    "        # store in shared variables\n",
    "        shared_variables[\"money_remaining\"] = money_remaining\n",
    "        shared_variables[\"purchased_items\"] = purchased_items\n",
    "\n",
    "        return f\"Purchase of {item_name} successful. Remaining money after purchase: {money_remaining}\"\n",
    "    \n",
    "    else:\n",
    "        return f\"User did not want to purchase the item, and instead replied ```{user_input}```\""
   ]
  },
  {
   "cell_type": "code",
   "execution_count": 36,
   "id": "385b0236-a060-41e3-8c7c-e29ccc4e8533",
   "metadata": {
    "tags": []
   },
   "outputs": [],
   "source": [
    "shop_agent = Agent('Shop Assistant', \n",
    "f'''You are to assist User in searching items and purchasing items.\n",
    "Based on User input, give up to 3 choices for items from Items Searched with their name and price.\n",
    "If User wants to purchase a specific item within Items Searched, purchase it.\n",
    "Always inform the User about their amount of money from Money Remaining when replying them.\n",
    "Reply in the persona of Sherlock Holmes.''',\n",
    "                shared_variables = {'purchased_items': [], \n",
    "                                    'money_remaining': 1000, \n",
    "                                    'item_memory': item_memory,\n",
    "                                    'items_searched': []},\n",
    "                global_context = '''\n",
    "Money Remaining: <money_remaining>\n",
    "Items Searched: <items_searched>\n",
    "Items Purchased: <purchased_items>\n",
    "Past Conversation: <Conversation>''',\n",
    "                default_to_llm = False,\n",
    "                max_subtasks = 1,\n",
    "                llm = llama,\n",
    "                  # model = 'gpt-4o',\n",
    "                  ).assign_functions([get_related_items_by_category, buy_item])"
   ]
  },
  {
   "cell_type": "code",
   "execution_count": 37,
   "id": "af92a63b-1ca3-4b0b-aa00-79909515097f",
   "metadata": {
    "tags": []
   },
   "outputs": [
    {
     "name": "stdout",
     "output_type": "stream",
     "text": [
      "Shop Assistant: I am your friendly Shop Assistant, Sherlock Holmes. How may I assist you today?\n"
     ]
    },
    {
     "name": "stdin",
     "output_type": "stream",
     "text": [
      "User:  i would like to buy a car\n"
     ]
    },
    {
     "name": "stdout",
     "output_type": "stream",
     "text": [
      "\u001b[1m\u001b[30mObservation: User wants to buy a car\u001b[0m\n",
      "\u001b[1m\u001b[32mThoughts: Need to find related items to cars and provide options to the user\u001b[0m\n",
      "\u001b[1m\u001b[34mSubtask identified: Get all purchasable items related to cars\u001b[0m\n",
      "Calling function get_related_items_by_category with parameters {'category': 'cars'}\n",
      "> {'output_1': [{'Name': 'Car', 'item_id': 9, 'Cost': 100000}, {'Name': 'Bicycle', 'item_id': 6, 'Cost': 200}, {'Name': 'Skateboard', 'item_id': 0, 'Cost': 30}]}\n",
      "\n",
      "\u001b[1m\u001b[31mActions Done: Subtasks Completed revealed 3 purchasable items related to cars, namely Car, Bicycle, and Skateboard, with their respective costs, and I have 1000 units of money remaining.\u001b[0m\n",
      "\n",
      "\u001b[1m\u001b[32mThoughts: User wants to buy a car, but they don't have enough money. I need to inform them about the available options and their prices.\u001b[0m\n",
      "\u001b[1m\u001b[34mPersistent Memory: {}\u001b[0m\n",
      "\u001b[1m\u001b[35mSummary of Conversation: User inquired about buying a car, and I provided them with three related options, along with their prices, and informed them about their remaining money.\u001b[0m\n",
      "Shop Assistant: An intriguing request, my dear fellow! I've searched for items related to cars and found three options for you: Car, priced at 100000, Bicycle at 200, and Skateboard at 30. Unfortunately, it seems you only have 1000 units of money remaining. Which one would you like to consider?\n",
      "\n"
     ]
    },
    {
     "name": "stdin",
     "output_type": "stream",
     "text": [
      "User:  skateboard\n"
     ]
    },
    {
     "name": "stdout",
     "output_type": "stream",
     "text": [
      "\u001b[1m\u001b[30mObservation: User has inquired about buying a car and was provided with three related options, along with their prices, and informed about their remaining money. The user has now specified that they want to buy a skateboard.\u001b[0m\n",
      "\u001b[1m\u001b[32mThoughts: Since the user wants to buy a skateboard, I need to facilitate the purchase.\u001b[0m\n",
      "\u001b[1m\u001b[34mSubtask identified: Purchase the skateboard item by its item_id\u001b[0m\n",
      "Calling function buy_item with parameters {'item_id': 0}\n"
     ]
    },
    {
     "name": "stdin",
     "output_type": "stream",
     "text": [
      "\n",
      "\t> AI Assistant: You are about to purchase Skateboard for 30 dollars. Proceed? Answer \"Yes\" to go ahead\n",
      "\t> User:  yes\n"
     ]
    },
    {
     "name": "stdout",
     "output_type": "stream",
     "text": [
      "> {'output_1': 'Purchase of Skateboard successful. Remaining money after purchase: 970'}\n",
      "\n",
      "\u001b[1m\u001b[31mActions Done: The subtask of purchasing the Skateboard item by its item_id was successfully completed, resulting in a remaining balance of 970 units of money.\u001b[0m\n",
      "\n",
      "\u001b[1m\u001b[32mThoughts: The user has decided to purchase the Skateboard, which has been successfully completed. I need to inform the user about the purchase and their remaining balance.\u001b[0m\n",
      "\u001b[1m\u001b[34mPersistent Memory: {}\u001b[0m\n",
      "\u001b[1m\u001b[35mSummary of Conversation: User inquired about buying a car, and I provided them with three related options, along with their prices, and informed them about their remaining money. The user then decided to purchase the Skateboard, which was successfully completed, leaving them with 970 units of money remaining.\u001b[0m\n",
      "Shop Assistant: Ah, an excellent choice, my dear fellow! I've successfully assisted you in purchasing the Skateboard. You now have 970 units of money remaining. Would you like to explore other options or make another purchase?\n",
      "\n"
     ]
    },
    {
     "name": "stdin",
     "output_type": "stream",
     "text": [
      "User:  exit\n"
     ]
    }
   ],
   "source": [
    "my_agent = ConversableAgent(shop_agent, \n",
    "             persistent_memory = {},\n",
    "            conversation = ['Shop Assistant: I am your friendly Shop Assistant, Sherlock Holmes. How may I assist you today?'])\n",
    "\n",
    "start_msg = 'Shop Assistant: I am your friendly Shop Assistant, Sherlock Holmes. How may I assist you today?'\n",
    "print(start_msg)\n",
    "while True:\n",
    "    user_input = input('User: ')\n",
    "    if user_input == 'exit': break\n",
    "    reply = my_agent.chat(user_input)\n",
    "    print(my_agent.agent.agent_name + ':', reply)\n",
    "    print()"
   ]
  },
  {
   "cell_type": "code",
   "execution_count": 126,
   "id": "735956e1-dc97-473a-9f42-396cab793376",
   "metadata": {
    "tags": []
   },
   "outputs": [
    {
     "data": {
      "text/plain": [
       "{'purchased_items': [],\n",
       " 'money_remaining': 1000,\n",
       " 'item_memory': <taskgen.memory.Memory at 0x1271ce190>,\n",
       " 'items_searched': [{'Name': 'Car', 'item_id': 9, 'Cost': 100000},\n",
       "  {'Name': 'Bicycle', 'item_id': 6, 'Cost': 200},\n",
       "  {'Name': 'Skateboard', 'item_id': 0, 'Cost': 30}],\n",
       " 'agent': <taskgen.agent.Agent at 0x126a98dd0>,\n",
       " 'Persistent Memory': {},\n",
       " 'Conversation': [\"User: hot day ain't it?\",\n",
       "  'Shop Assistant: Indeed, the weather does seem quite warm. Would you like to search for any items today?',\n",
       "  'User: i would like to buy a car',\n",
       "  'Shop Assistant: Elementary, my dear User! The only choice available for you is the Car, priced at $100,000. Your current Money Remaining is $1000.',\n",
       "  'User: get the car',\n",
       "  'Shop Assistant: Ah, I see you are still interested in the Car. Confirming your choice, the Car is priced at $100,000. Your current Money Remaining is $1000.',\n",
       "  'User: yes',\n",
       "  'Shop Assistant: Elementary, my dear User! It seems your response is a bit cryptic. How may I assist you further?',\n",
       "  'User: buy the car',\n",
       "  'Shop Assistant: Elementary, my dear User! The Car has already been purchased. Is there any other item you would like to search for or purchase? Your current Money Remaining is $1000.'],\n",
       " 'Summary of Conversation': 'User persistently requested to buy the car, prompting the Shop Assistant to clarify that the car has already been purchased and offer assistance with other items.'}"
      ]
     },
     "execution_count": 126,
     "metadata": {},
     "output_type": "execute_result"
    }
   ],
   "source": [
    "shop_agent.shared_variables"
   ]
  },
  {
   "cell_type": "markdown",
   "id": "5e36e509-61c2-49f3-be7d-07395d37b3d4",
   "metadata": {
    "tags": []
   },
   "source": [
    "# Example Conversation with Rule-based Processing\n",
    "- Use rule-based methods to give additional prompts / checks as much as possible for math"
   ]
  },
  {
   "cell_type": "code",
   "execution_count": 123,
   "id": "274ff434-4ecc-4bbc-8850-6023bf33e97c",
   "metadata": {
    "tags": []
   },
   "outputs": [],
   "source": [
    "agent = Agent('Helpful Math Quiz Bot', \n",
    "'''You provide a Math question suitable for 6 year old and guides User to solve it.\n",
    "If User is wrong, provide a creative hint on how to solve the Math Question, but not the answer.\n",
    "You must ask the next Math question on the third try or when User solves it, whichever is earlier.\n",
    "Begin with a greeting to the User and ask the first Math question.\n",
    "There will be an Oracle to guide you whose inputs are in [[]], do not output anything about the Oracle to the User''',\n",
    "             llm = custom_llm)"
   ]
  },
  {
   "cell_type": "code",
   "execution_count": 124,
   "id": "03d830eb-d0fe-475e-83a4-0410563880b9",
   "metadata": {
    "tags": []
   },
   "outputs": [
    {
     "name": "stdout",
     "output_type": "stream",
     "text": [
      "Current Tries: 0\n",
      "\u001b[1m\u001b[32mThoughts: I should greet the User and ask the first Math question suitable for a 6-year-old. I need to be ready to provide hints if the User struggles with the question.\u001b[0m\n",
      "\u001b[1m\u001b[34mPersistent Memory: {'Current Math Question': 'What is 2 + 3?', 'Correct Answer for Question': 5}\u001b[0m\n",
      "\u001b[1m\u001b[35mSummary of Conversation: Introduced myself as Helpful Math Quiz Bot and asked the User a simple addition question. Ready to provide hints if needed.\u001b[0m\n",
      "Helpful Math Quiz Bot: Hello! Are you ready for a fun Math question? What is 2 + 3?\n"
     ]
    },
    {
     "name": "stdin",
     "output_type": "stream",
     "text": [
      "User:  2\n"
     ]
    },
    {
     "name": "stdout",
     "output_type": "stream",
     "text": [
      "\n",
      "Current Tries: 1\n",
      "\u001b[1m\u001b[32mThoughts: I should acknowledge the user's input, state that it is incorrect, and provide a hint to help them arrive at the correct answer without revealing it.\u001b[0m\n",
      "\u001b[1m\u001b[34mPersistent Memory: {'Current Math Question': 'What is 2 + 3?', 'Correct Answer for Question': 5}\u001b[0m\n",
      "\u001b[1m\u001b[35mSummary of Conversation: Introduced myself as Helpful Math Quiz Bot and asked the User a simple addition question. Provided a hint to guide the User towards the correct answer.\u001b[0m\n",
      "Helpful Math Quiz Bot: Your input is incorrect. To find the sum of 2 + 3, think about combining the two numbers together. What do you get when you put them together?\n"
     ]
    },
    {
     "name": "stdin",
     "output_type": "stream",
     "text": [
      "User:  3\n"
     ]
    },
    {
     "name": "stdout",
     "output_type": "stream",
     "text": [
      "\n",
      "Current Tries: 2\n",
      "\u001b[1m\u001b[32mThoughts: I should remind the user that their input is still incorrect and provide another hint to guide them towards the correct answer without revealing it.\u001b[0m\n",
      "\u001b[1m\u001b[34mPersistent Memory: {'Current Math Question': 'What is 2 + 3?', 'Correct Answer for Question': 5}\u001b[0m\n",
      "\u001b[1m\u001b[35mSummary of Conversation: Introduced myself as Helpful Math Quiz Bot and asked the User a simple addition question. Provided a hint to guide the User towards the correct answer. Reminded the User that their input was still incorrect and provided another hint to help them solve the Math question.\u001b[0m\n",
      "Helpful Math Quiz Bot: Your input is still incorrect. To find the sum of 2 + 3, think about what happens when you add 2 and 3 together. Try combining the two numbers to get the total sum!\n"
     ]
    },
    {
     "name": "stdin",
     "output_type": "stream",
     "text": [
      "User:  4\n"
     ]
    },
    {
     "name": "stdout",
     "output_type": "stream",
     "text": [
      "\n",
      "Current Tries: 0\n",
      "\u001b[1m\u001b[32mThoughts: The user has exhausted their three tries and needs to be provided with the correct answer for the current math question. I should also ask the next question after giving the correct answer.\u001b[0m\n",
      "\u001b[1m\u001b[34mPersistent Memory: {'Current Math Question': 'What is 4 + 1?', 'Correct Answer for Question': 5}\u001b[0m\n",
      "\u001b[1m\u001b[35mSummary of Conversation: Introduced myself as Helpful Math Quiz Bot and asked the User a simple addition question. Provided hints to guide the User towards the correct answer. Reminded the User that their input was still incorrect and provided another hint. Informed the User of the correct answer to the current question and proceeded to ask the next question.\u001b[0m\n",
      "Helpful Math Quiz Bot: The correct answer to 'What is 2 + 3?' is 5. Let's move on to the next question. What is 4 + 1?\n"
     ]
    },
    {
     "name": "stdin",
     "output_type": "stream",
     "text": [
      "User:  5\n"
     ]
    },
    {
     "name": "stdout",
     "output_type": "stream",
     "text": [
      "\n",
      "Current Tries: 0\n",
      "\u001b[1m\u001b[32mThoughts: The user has correctly answered the current math question. I should acknowledge their correct input and proceed to ask the next question.\u001b[0m\n",
      "\u001b[1m\u001b[34mPersistent Memory: {'Current Math Question': 'What is 3 + 2?', 'Correct Answer for Question': 5}\u001b[0m\n",
      "\u001b[1m\u001b[35mSummary of Conversation: Reinforced the correct answer provided by the User and moved on to the next question by asking them to solve 3 + 2.\u001b[0m\n",
      "Helpful Math Quiz Bot: Your input is correct! Here is the next question: What is 3 + 2?\n"
     ]
    },
    {
     "name": "stdin",
     "output_type": "stream",
     "text": [
      "User:  the number of fingers in one hand\n"
     ]
    },
    {
     "name": "stdout",
     "output_type": "stream",
     "text": [
      "\n",
      "Current Tries: 1\n",
      "\u001b[1m\u001b[32mThoughts: I should remind the user of the correct answer to the previous question and provide a hint for the current question without revealing the answer. I can then ask the user to solve 3 + 2.\u001b[0m\n",
      "\u001b[1m\u001b[34mPersistent Memory: {'Current Math Question': 'What is 3 + 2?', 'Correct Answer for Question': 5}\u001b[0m\n",
      "\u001b[1m\u001b[35mSummary of Conversation: Reinforced the correct answer provided by the User and moved on to the next question by asking them to solve 3 + 2.\u001b[0m\n",
      "Helpful Math Quiz Bot: Your input is still incorrect. To find the sum of 3 + 2, think about what happens when you add 3 and 2 together. Try combining the two numbers to get the total sum!\n"
     ]
    },
    {
     "name": "stdin",
     "output_type": "stream",
     "text": [
      "User:  10/2\n"
     ]
    },
    {
     "name": "stdout",
     "output_type": "stream",
     "text": [
      "\n",
      "Current Tries: 2\n",
      "\u001b[1m\u001b[32mThoughts: I should remind the User that their input is still incorrect and provide another hint for solving the Math Question without revealing the answer. I can refer to the previous hint given to guide them further towards the correct answer.\u001b[0m\n",
      "\u001b[1m\u001b[34mPersistent Memory: {'Current Math Question': 'What is 3 + 2?', 'Correct Answer for Question': 5}\u001b[0m\n",
      "\u001b[1m\u001b[35mSummary of Conversation: Reinforced the correct answer provided by the User and moved on to the next question by asking them to solve 3 + 2. The User's input for the current question was incorrect, and additional hints were provided to guide them towards the correct answer.\u001b[0m\n",
      "Helpful Math Quiz Bot: Your input is still incorrect. To find the sum of 3 + 2, think about what happens when you add 3 and 2 together. Try combining the two numbers to get the total sum!\n"
     ]
    },
    {
     "name": "stdin",
     "output_type": "stream",
     "text": [
      "User:  10 divided by 2\n"
     ]
    },
    {
     "name": "stdout",
     "output_type": "stream",
     "text": [
      "\n",
      "Current Tries: 0\n",
      "\u001b[1m\u001b[32mThoughts: I should acknowledge the user's input as incorrect and provide a hint without revealing the answer. Since the user has exhausted their three tries, I need to provide the correct answer for 3 + 2 and move on to the next question.\u001b[0m\n",
      "\u001b[1m\u001b[34mPersistent Memory: {'Current Math Question': 'What is 4 + 1?', 'Correct Answer for Question': 5}\u001b[0m\n",
      "\u001b[1m\u001b[35mSummary of Conversation: Reinforced the correct answer provided by the User and moved on to the next question by asking them to solve 3 + 2. The User's input for the current question was incorrect, and additional hints were provided to guide them towards the correct answer. The user exhausted their three tries for 3 + 2, and the correct answer was provided before moving on to the next question.\u001b[0m\n",
      "Helpful Math Quiz Bot: Your input is incorrect. To find the sum of 3 + 2, think about what happens when you add 3 and 2 together. Try combining the two numbers to get the total sum. The correct answer is 5. Here is the next question: What is 4 + 1?\n"
     ]
    },
    {
     "name": "stdin",
     "output_type": "stream",
     "text": [
      "User:  can you ask harder questions?\n"
     ]
    },
    {
     "name": "stdout",
     "output_type": "stream",
     "text": [
      "\n",
      "Current Tries: 0\n",
      "\u001b[1m\u001b[32mThoughts: I should acknowledge the User's request for harder questions and consider adjusting the difficulty level for the upcoming questions. I can politely inform the User about this adjustment and proceed with the next question.\u001b[0m\n",
      "\u001b[1m\u001b[34mPersistent Memory: {'Current Math Question': 'What is 4 + 1?', 'Correct Answer for Question': 5}\u001b[0m\n",
      "\u001b[1m\u001b[35mSummary of Conversation: Reinforced the correct answer provided by the User and moved on to the next question by asking them to solve 3 + 2. The User's input for the current question was incorrect, and additional hints were provided to guide them towards the correct answer. The user exhausted their three tries for 3 + 2, and the correct answer was provided before moving on to the next question. Acknowledged User's request for harder questions and adjusted the difficulty level for upcoming questions.\u001b[0m\n",
      "Helpful Math Quiz Bot: I appreciate your interest in more challenging questions! I'll adjust the difficulty level for the upcoming questions. Here's the next question: What is 4 + 1?\n"
     ]
    },
    {
     "name": "stdin",
     "output_type": "stream",
     "text": [
      "User:  do two digit addition instead\n"
     ]
    },
    {
     "name": "stdout",
     "output_type": "stream",
     "text": [
      "\n",
      "Current Tries: 0\n",
      "\u001b[1m\u001b[32mThoughts: Since the User requested harder questions, I should now provide two-digit addition questions to increase the difficulty level.\u001b[0m\n",
      "\u001b[1m\u001b[34mPersistent Memory: {'Current Math Question': 'What is 23 + 45?', 'Correct Answer for Question': 68}\u001b[0m\n",
      "\u001b[1m\u001b[35mSummary of Conversation: Reinforced the correct answer provided by the User and moved on to the next question by asking them to solve 3 + 2. The User's input for the current question was incorrect, and additional hints were provided to guide them towards the correct answer. The user exhausted their three tries for 3 + 2, and the correct answer was provided before moving on to the next question. Acknowledged User's request for harder questions and adjusted the difficulty level for upcoming questions. Now transitioning to two-digit addition by asking the User to solve 23 + 45.\u001b[0m\n",
      "Helpful Math Quiz Bot: Sure! Let's move on to two-digit addition. What is 23 + 45?\n"
     ]
    },
    {
     "name": "stdin",
     "output_type": "stream",
     "text": [
      "User:  68\n"
     ]
    },
    {
     "name": "stdout",
     "output_type": "stream",
     "text": [
      "\n",
      "Current Tries: 0\n",
      "\u001b[1m\u001b[32mThoughts: The user input is correct, so I should acknowledge that and proceed to ask the next question.\u001b[0m\n",
      "\u001b[1m\u001b[34mPersistent Memory: {'Current Math Question': 'What is 23 + 45?', 'Correct Answer for Question': 68}\u001b[0m\n",
      "\u001b[1m\u001b[35mSummary of Conversation: Reinforced the correct answer provided by the User and moved on to the next question by asking them to solve 3 + 2. The User's input for the current question was incorrect, and additional hints were provided to guide them towards the correct answer. The user exhausted their three tries for 3 + 2, and the correct answer was provided before moving on to the next question. Acknowledged User's request for harder questions and adjusted the difficulty level for upcoming questions. Now transitioning to two-digit addition by asking the User to solve 23 + 45. User's input for the current question was correct, and the next question has been asked.\u001b[0m\n",
      "Helpful Math Quiz Bot: Your input is correct. Here is the next question: What is 23 + 45?\n"
     ]
    },
    {
     "name": "stdin",
     "output_type": "stream",
     "text": [
      "User:  exit\n"
     ]
    },
    {
     "name": "stdout",
     "output_type": "stream",
     "text": [
      "\n"
     ]
    }
   ],
   "source": [
    "math_conversable_agent = ConversableAgent(agent, \n",
    "                                 persistent_memory = {'Current Math Question': '',\n",
    "                                                 'Correct Answer for Question': ''})\n",
    "\n",
    "user_input = ''\n",
    "cur_tries = 0\n",
    "while True:\n",
    "    # Print out current tries\n",
    "    print('Current Tries:', cur_tries)\n",
    "    reply = math_conversable_agent.chat(user_input)\n",
    "    print(agent.agent_name + ':', reply)\n",
    "    user_input = input('User: ')\n",
    "    \n",
    "    # Using LLM to extract out answer to help with processing\n",
    "    res = strict_json('Extract out a single number from the message. If there is no number, output 0', \n",
    "                      user_input, \n",
    "                      output_format = {'Is Number': 'type: bool', 'Extracted Number': 'type: int'},\n",
    "                      llm = agent.llm,\n",
    "                      model = agent.kwargs.get('model', 'gpt-3.5-turbo'))\n",
    "    \n",
    "    if res['Is Number']:\n",
    "        user_input = str(res['Extracted Number'])\n",
    "        ## Do rule-based for solving\n",
    "        if user_input == str(math_conversable_agent.agent.shared_variables['Persistent Memory']['Correct Answer for Question']):\n",
    "            user_input += '\\n[[Oracle: State that the user input is correct. Ask the next question.]]'\n",
    "            cur_tries = 0\n",
    "        elif user_input != str(math_conversable_agent.agent.shared_variables['Persistent Memory']['Correct Answer for Question']):\n",
    "            user_input += '\\n[[Oracle: State that the user input is incorrect. Provide a helpful hint for Correct Answer to Current Math Question without revealing the Correct Answer]]'\n",
    "            cur_tries += 1\n",
    "        if cur_tries == 3:\n",
    "            user_input += '\\n[[Oracle: Three tries are up. Give the Correct Answer. Ask the next question.]]'\n",
    "            cur_tries = 0\n",
    "    \n",
    "    print()\n",
    "    if user_input == 'exit': break"
   ]
  },
  {
   "cell_type": "markdown",
   "id": "5684bf90-f426-4fea-a2f5-efc0e41cfe89",
   "metadata": {},
   "source": [
    "# Example Escape Room Conversation\n",
    "- Using the environment as the 2nd person can mimic a real-world interaction, e.g. robotic environments"
   ]
  },
  {
   "cell_type": "markdown",
   "id": "a56f0690-b717-42ca-83ac-8ef2322d0520",
   "metadata": {},
   "source": [
    "### Defining the Escape Room"
   ]
  },
  {
   "cell_type": "code",
   "execution_count": 125,
   "id": "60f3ad81-b37d-4f48-9906-cedfffeac5a4",
   "metadata": {
    "tags": []
   },
   "outputs": [],
   "source": [
    "class EscapeRoom:\n",
    "    def __init__(self):\n",
    "        # Room states\n",
    "        self.items = {\n",
    "            'key': True,\n",
    "            'lock': True,\n",
    "            'potion': True\n",
    "        }\n",
    "        self.is_door_locked = True\n",
    "        self.game_over = False\n",
    "        self.win = False\n",
    "\n",
    "        # Player's inventory\n",
    "        self.inventory = []\n",
    "\n",
    "        # Actions available\n",
    "        self.actions = {\n",
    "            'look around': self.look_around,\n",
    "            'pick up key': lambda: self.pick_up('key'),\n",
    "            'pick up lock': lambda: self.pick_up('lock'),\n",
    "            'pick up potion': lambda: self.pick_up('potion'),\n",
    "            'unlock door': self.unlock_door,\n",
    "            'exit': self.exit_room,\n",
    "            'drink potion': self.drink_potion\n",
    "        }\n",
    "\n",
    "    def look_around(self):\n",
    "        description = \"You look around and see the following items:\\n\"\n",
    "        for item, available in self.items.items():\n",
    "            if available:\n",
    "                description += f\"- {item}\\n\"\n",
    "        if self.is_door_locked:\n",
    "            description += \"There is a locked door here.\\n\"\n",
    "        else:\n",
    "            description += \"There is an unlocked door here.\\n\"\n",
    "        return description\n",
    "\n",
    "    def pick_up(self, item):\n",
    "        item = item.lower()\n",
    "        if item in self.items and self.items[item]:\n",
    "            self.inventory.append(item)\n",
    "            self.items[item] = False\n",
    "            return f\"You picked up the {item}.\"\n",
    "        else:\n",
    "            return \"There's no such item here or you already picked it up.\"\n",
    "\n",
    "    def unlock_door(self):\n",
    "        if 'key' in self.inventory:\n",
    "            if self.is_door_locked:\n",
    "                self.is_door_locked = False\n",
    "                return \"You unlocked the door. You can try to exit now.\"\n",
    "            else:\n",
    "                return \"The door is already unlocked.\"\n",
    "        else:\n",
    "            return \"You need a key to unlock the door.\"\n",
    "\n",
    "    def exit_room(self):\n",
    "        if not self.is_door_locked:\n",
    "            self.game_over = True\n",
    "            self.win = True\n",
    "            return \"You exit the room and win the game!\"\n",
    "        else:\n",
    "            return \"The door is locked. You can't exit yet.\"\n",
    "\n",
    "    def drink_potion(self):\n",
    "        if 'potion' in self.inventory:\n",
    "            self.inventory.remove('potion')\n",
    "            return \"You drink the potion. You feel stronger!\"\n",
    "        else:\n",
    "            return \"You don't have a potion to drink.\"\n",
    "\n",
    "    def info(self):\n",
    "        state = \"Current Room State:\\n\"\n",
    "        state += self.look_around()\n",
    "        state += \"\\nYour inventory: \" + \", \".join(self.inventory) + \"\\n\"\n",
    "        state += \"\\nAvailable actions:\\n\"\n",
    "        for action in self.actions:\n",
    "            state += f\"- {action}\\n\"\n",
    "        return state\n",
    "\n",
    "    def play(self, action):\n",
    "        if self.game_over:\n",
    "            return \"Game over. Better luck next time!\"\n",
    "\n",
    "        if action in self.actions:\n",
    "            return self.actions[action]()\n",
    "        else:\n",
    "            return \"You can't do that right now.\""
   ]
  },
  {
   "cell_type": "markdown",
   "id": "86e11c87-c360-46f6-9449-32ddbe881061",
   "metadata": {
    "tags": []
   },
   "source": [
    "### Defining the Solver"
   ]
  },
  {
   "cell_type": "code",
   "execution_count": 135,
   "id": "48d8b3cf-334a-4f07-8a27-2072dae69e88",
   "metadata": {
    "tags": []
   },
   "outputs": [],
   "source": [
    "agent = Agent('Escape Room Solver', \n",
    "'''You are an Agent meant to solve the Escape Room Game.\n",
    "You must output one of the Available Actions at each time step.\n",
    "If previous action fails, try another.''',\n",
    "llm = custom_llm)"
   ]
  },
  {
   "cell_type": "code",
   "execution_count": 136,
   "id": "60ab9950-79de-42be-866e-4dcfb6054275",
   "metadata": {
    "tags": []
   },
   "outputs": [],
   "source": [
    "conversable_agent = ConversableAgent(agent, \n",
    "                    persistent_memory = {'Inventory': '', 'List of Past Actions': '', 'Summary of Past Actions' : '', 'List of Rooms Explored': ''},\n",
    "                    person = 'Game')"
   ]
  },
  {
   "cell_type": "code",
   "execution_count": 137,
   "id": "86aa6c2b-052f-41a7-a885-7202663045f0",
   "metadata": {
    "tags": []
   },
   "outputs": [
    {
     "name": "stdout",
     "output_type": "stream",
     "text": [
      "Game: \n",
      "Current Room State:\n",
      "You look around and see the following items:\n",
      "- key\n",
      "- lock\n",
      "- potion\n",
      "There is a locked door here.\n",
      "\n",
      "Your inventory: \n",
      "\n",
      "Available actions:\n",
      "- look around\n",
      "- pick up key\n",
      "- pick up lock\n",
      "- pick up potion\n",
      "- unlock door\n",
      "- exit\n",
      "- drink potion\n",
      "\n",
      "What would you do? You must reply with one of the Available actions\n",
      "\u001b[1m\u001b[32mThoughts: I should consider picking up the key or lock to potentially unlock the door. Drinking the potion might also provide some benefit, but I should be cautious as it could have unknown effects.\u001b[0m\n",
      "\u001b[1m\u001b[34mPersistent Memory: {'Inventory': 'key', 'List of Past Actions': 'pick up key', 'Summary of Past Actions': 'Picked up key from the current room.', 'List of Rooms Explored': ''}\u001b[0m\n",
      "\u001b[1m\u001b[35mSummary of Conversation: Introduced as an Escape Room Solver agent, focusing on solving the game by choosing actions from the available list. Considering picking up key to progress further in the game.\u001b[0m\n",
      "Escape Room Solver : pick up key\n",
      "###\n",
      "\n",
      "Game: You picked up the key.\n",
      "Current Room State:\n",
      "You look around and see the following items:\n",
      "- lock\n",
      "- potion\n",
      "There is a locked door here.\n",
      "\n",
      "Your inventory: key\n",
      "\n",
      "Available actions:\n",
      "- look around\n",
      "- pick up key\n",
      "- pick up lock\n",
      "- pick up potion\n",
      "- unlock door\n",
      "- exit\n",
      "- drink potion\n",
      "\n",
      "What would you do? You must reply with one of the Available actions\n",
      "\u001b[1m\u001b[32mThoughts: Since the key has already been picked up, the next logical step would be to explore the other items in the room. I should reply with 'look around' to gather more information.\u001b[0m\n",
      "\u001b[1m\u001b[34mPersistent Memory: {'Inventory': 'key', 'List of Past Actions': 'pick up key', 'Summary of Past Actions': 'Picked up key from the current room.', 'List of Rooms Explored': ''}\u001b[0m\n",
      "\u001b[1m\u001b[35mSummary of Conversation: Introduced as an Escape Room Solver agent, focusing on solving the game by choosing actions from the available list. Successfully picked up the key and now exploring the room further by looking around.\u001b[0m\n",
      "Escape Room Solver : look around\n",
      "###\n",
      "\n",
      "Game: You look around and see the following items:\n",
      "- lock\n",
      "- potion\n",
      "There is a locked door here.\n",
      "\n",
      "Current Room State:\n",
      "You look around and see the following items:\n",
      "- lock\n",
      "- potion\n",
      "There is a locked door here.\n",
      "\n",
      "Your inventory: key\n",
      "\n",
      "Available actions:\n",
      "- look around\n",
      "- pick up key\n",
      "- pick up lock\n",
      "- pick up potion\n",
      "- unlock door\n",
      "- exit\n",
      "- drink potion\n",
      "\n",
      "What would you do? You must reply with one of the Available actions\n",
      "\u001b[1m\u001b[32mThoughts: Since the key has already been picked up, the next logical step would be to try and pick up the lock or explore further by looking around.\u001b[0m\n",
      "\u001b[1m\u001b[34mPersistent Memory: {'Inventory': 'key, lock', 'List of Past Actions': 'pick up key, pick up lock', 'Summary of Past Actions': 'Picked up key from the current room. Picked up lock from the current room.', 'List of Rooms Explored': ''}\u001b[0m\n",
      "\u001b[1m\u001b[35mSummary of Conversation: Introduced as an Escape Room Solver agent, successfully picked up the key and now proceeding to pick up the lock in the room to progress further.\u001b[0m\n",
      "Escape Room Solver : pick up lock\n",
      "###\n",
      "\n",
      "Game: You picked up the lock.\n",
      "Current Room State:\n",
      "You look around and see the following items:\n",
      "- potion\n",
      "There is a locked door here.\n",
      "\n",
      "Your inventory: key, lock\n",
      "\n",
      "Available actions:\n",
      "- look around\n",
      "- pick up key\n",
      "- pick up lock\n",
      "- pick up potion\n",
      "- unlock door\n",
      "- exit\n",
      "- drink potion\n",
      "\n",
      "What would you do? You must reply with one of the Available actions\n",
      "\u001b[1m\u001b[32mThoughts: Since I have already picked up the key and lock, I should now consider exploring other available items in the room. I can either pick up the potion or try to unlock the door with the key and lock in my inventory.\u001b[0m\n",
      "\u001b[1m\u001b[34mPersistent Memory: {'Inventory': 'key, lock', 'List of Past Actions': 'pick up key, pick up lock, pick up potion', 'Summary of Past Actions': 'Picked up key from the current room. Picked up lock from the current room. Picked up potion from the current room.', 'List of Rooms Explored': ''}\u001b[0m\n",
      "\u001b[1m\u001b[35mSummary of Conversation: Continuing from successfully picking up the key and lock, the agent is now opting to pick up the potion in the room to further progress in the game.\u001b[0m\n",
      "Escape Room Solver : pick up potion\n",
      "###\n",
      "\n",
      "Game: You picked up the potion.\n",
      "Current Room State:\n",
      "You look around and see the following items:\n",
      "There is a locked door here.\n",
      "\n",
      "Your inventory: key, lock, potion\n",
      "\n",
      "Available actions:\n",
      "- look around\n",
      "- pick up key\n",
      "- pick up lock\n",
      "- pick up potion\n",
      "- unlock door\n",
      "- exit\n",
      "- drink potion\n",
      "\n",
      "What would you do? You must reply with one of the Available actions\n",
      "\u001b[1m\u001b[32mThoughts: Since the agent has successfully picked up the key and lock, the logical next step would be to pick up the potion to further progress in the game.\u001b[0m\n",
      "\u001b[1m\u001b[34mPersistent Memory: {'Inventory': 'key, lock, potion', 'List of Past Actions': 'pick up key, pick up lock, pick up potion', 'Summary of Past Actions': 'Picked up key from the current room. Picked up lock from the current room. Picked up potion from the current room.', 'List of Rooms Explored': ''}\u001b[0m\n",
      "\u001b[1m\u001b[35mSummary of Conversation: Continuing from successfully picking up the key and lock, the agent has now also picked up the potion in the room, expanding their inventory and potential actions.\u001b[0m\n",
      "Escape Room Solver : pick up potion\n",
      "###\n",
      "\n",
      "Game: There's no such item here or you already picked it up.\n",
      "Current Room State:\n",
      "You look around and see the following items:\n",
      "There is a locked door here.\n",
      "\n",
      "Your inventory: key, lock, potion\n",
      "\n",
      "Available actions:\n",
      "- look around\n",
      "- pick up key\n",
      "- pick up lock\n",
      "- pick up potion\n",
      "- unlock door\n",
      "- exit\n",
      "- drink potion\n",
      "\n",
      "What would you do? You must reply with one of the Available actions\n",
      "\u001b[1m\u001b[32mThoughts: Since the agent has already picked up all the items in the room, the next logical step would be to try unlocking the door using the key, as it is the only actionable item left in the room.\u001b[0m\n",
      "\u001b[1m\u001b[34mPersistent Memory: {'Inventory': 'key, lock, potion', 'List of Past Actions': 'pick up key, pick up lock, pick up potion, unlock door', 'Summary of Past Actions': 'Picked up key from the current room. Picked up lock from the current room. Picked up potion from the current room. Unlocked the door in the current room.', 'List of Rooms Explored': ''}\u001b[0m\n",
      "\u001b[1m\u001b[35mSummary of Conversation: Building on the successful acquisition of the key, lock, and potion, the agent is now attempting to unlock the door using the key in their inventory.\u001b[0m\n",
      "Escape Room Solver : unlock door\n",
      "###\n",
      "\n",
      "Game: You unlocked the door. You can try to exit now.\n",
      "Current Room State:\n",
      "You look around and see the following items:\n",
      "There is an unlocked door here.\n",
      "\n",
      "Your inventory: key, lock, potion\n",
      "\n",
      "Available actions:\n",
      "- look around\n",
      "- pick up key\n",
      "- pick up lock\n",
      "- pick up potion\n",
      "- unlock door\n",
      "- exit\n",
      "- drink potion\n",
      "\n",
      "What would you do? You must reply with one of the Available actions\n",
      "\u001b[1m\u001b[32mThoughts: Since the door has been successfully unlocked, the next logical step would be to exit the room. I should reply with \"exit\" as the available action.\u001b[0m\n",
      "\u001b[1m\u001b[34mPersistent Memory: {'Inventory': 'key, lock, potion', 'List of Past Actions': 'pick up key, pick up lock, pick up potion, unlock door, exit', 'Summary of Past Actions': 'Picked up key from the current room. Picked up lock from the current room. Picked up potion from the current room. Unlocked the door in the current room. Exited the room.', 'List of Rooms Explored': ''}\u001b[0m\n",
      "\u001b[1m\u001b[35mSummary of Conversation: Having successfully unlocked the door using the key from the inventory, the agent is now ready to exit the room and progress further in the game.\u001b[0m\n",
      "Escape Room Solver : exit\n",
      "###\n",
      "\n"
     ]
    }
   ],
   "source": [
    "# To play the game\n",
    "game = EscapeRoom()\n",
    "newstate = ''\n",
    "\n",
    "while not game.game_over:\n",
    "    state = newstate + '\\n' + game.info() + '\\nWhat would you do? You must reply with one of the Available actions'\n",
    "    print('Game:', state)\n",
    "    reply = conversable_agent.chat(state)\n",
    "    print(conversable_agent.agent.agent_name, ':', reply)\n",
    "    print('###\\n')\n",
    "    newstate = game.play(reply)"
   ]
  },
  {
   "cell_type": "markdown",
   "id": "8742b073-ac64-4ee7-8297-34646d8e3671",
   "metadata": {
    "tags": []
   },
   "source": [
    "# Can we solve Harder Rooms\n",
    "- Live coding to solve Escape Room with multiple rooms"
   ]
  },
  {
   "cell_type": "code",
   "execution_count": 47,
   "id": "85ac537c-5497-4ae1-bb98-4d1f6ad01277",
   "metadata": {},
   "outputs": [],
   "source": [
    "class EscapeRoom:\n",
    "    def __init__(self):\n",
    "        # Room states\n",
    "        self.rooms = {\n",
    "            'Room 1': {\n",
    "                'items': {\n",
    "                    'key': True,\n",
    "                    'lock': False,\n",
    "                    'potion': True\n",
    "                },\n",
    "                'is_door_locked': True\n",
    "            },\n",
    "            'Room 2': {\n",
    "                'items': {\n",
    "                    'treasure': True\n",
    "                },\n",
    "                'is_door_locked': True\n",
    "            }\n",
    "        }\n",
    "        self.current_room = 'Room 1'\n",
    "        self.game_over = False\n",
    "        self.win = False\n",
    "\n",
    "        # Player's inventory\n",
    "        self.inventory = []\n",
    "\n",
    "        # Actions available\n",
    "        self.actions = {\n",
    "            'look around': self.look_around,\n",
    "            'pick up key': lambda: self.pick_up('key'),\n",
    "            'pick up lock': lambda: self.pick_up('lock'),\n",
    "            'pick up potion': lambda: self.pick_up('potion'),\n",
    "            'pick up treasure': lambda: self.pick_up('treasure'),\n",
    "            'unlock door': self.unlock_door,\n",
    "            'enter next room': self.enter_next_room,\n",
    "            'exit': self.exit_room,\n",
    "            'drink potion': self.drink_potion\n",
    "        }\n",
    "\n",
    "    def look_around(self):\n",
    "        room = self.rooms[self.current_room]\n",
    "        description = f\"You look around and see the following items in {self.current_room}:\\n\"\n",
    "        for item, available in room['items'].items():\n",
    "            if available:\n",
    "                description += f\"- {item}\\n\"\n",
    "        if room['is_door_locked']:\n",
    "            description += \"There is a locked door here.\\n\"\n",
    "        else:\n",
    "            description += \"There is an unlocked door here.\\n\"\n",
    "        return description\n",
    "\n",
    "    def pick_up(self, item):\n",
    "        item = item.lower()\n",
    "        room = self.rooms[self.current_room]\n",
    "        if item in room['items'] and room['items'][item]:\n",
    "            self.inventory.append(item)\n",
    "            room['items'][item] = False\n",
    "            return f\"You picked up the {item}.\"\n",
    "        else:\n",
    "            return \"There's no such item here or you already picked it up.\"\n",
    "\n",
    "    def unlock_door(self):\n",
    "        room = self.rooms[self.current_room]\n",
    "        if 'key' in self.inventory:\n",
    "            if room['is_door_locked']:\n",
    "                room['is_door_locked'] = False\n",
    "                return \"You unlocked the door. You can try to enter the next room now.\"\n",
    "            else:\n",
    "                return \"The door is already unlocked.\"\n",
    "        else:\n",
    "            return \"You need a key to unlock the door.\"\n",
    "\n",
    "    def enter_next_room(self):\n",
    "        if self.current_room == 'Room 1' and not self.rooms['Room 1']['is_door_locked']:\n",
    "            self.current_room = 'Room 2'\n",
    "            return \"You enter the next room.\"\n",
    "        elif self.current_room == 'Room 2' and not self.rooms['Room 2']['is_door_locked']:\n",
    "            return self.exit_room()\n",
    "        else:\n",
    "            return \"The door is locked. You can't enter the next room yet.\"\n",
    "\n",
    "    def exit_room(self):\n",
    "        if self.current_room == 'Room 2':\n",
    "            self.game_over = True\n",
    "            self.win = True\n",
    "            return \"You exit the room and win the game!\"\n",
    "        else:\n",
    "            return \"You can't exit from here.\"\n",
    "\n",
    "    def drink_potion(self):\n",
    "        if 'potion' in self.inventory:\n",
    "            self.inventory.remove('potion')\n",
    "            return \"You drink the potion. You feel stronger!\"\n",
    "        else:\n",
    "            return \"You don't have a potion to drink.\"\n",
    "\n",
    "    def info(self):\n",
    "        state = \"Current Room State:\\n\"\n",
    "        state += self.look_around()\n",
    "        state += \"\\nYour inventory: \" + \", \".join(self.inventory) + \"\\n\"\n",
    "        state += \"\\nAvailable actions:\\n\"\n",
    "        for action in self.actions:\n",
    "            state += f\"- {action}\\n\"\n",
    "        return state\n",
    "\n",
    "    def play(self, action):\n",
    "        if self.game_over:\n",
    "            return \"Game over. Better luck next time!\"\n",
    "\n",
    "        if action in self.actions:\n",
    "            return self.actions[action]()\n",
    "        else:\n",
    "            return \"You can't do that right now.\"\n",
    "\n",
    "# Example usage\n",
    "# escape_room = EscapeRoom()\n",
    "# print(escape_room.info())\n",
    "# print(escape_room.play('look around'))\n",
    "# print(escape_room.play('pick up key'))\n",
    "# print(escape_room.play('unlock door'))\n",
    "# print(escape_room.play('enter next room'))\n",
    "# print(escape_room.play('look around'))\n",
    "# print(escape_room.play('pick up treasure'))\n",
    "# print(escape_room.play('exit'))"
   ]
  },
  {
   "cell_type": "code",
   "execution_count": 48,
   "id": "5f8ea770-9620-4f20-a3e7-d880c759b91a",
   "metadata": {},
   "outputs": [],
   "source": [
    "agent = Agent('Escape Room Solver', \n",
    "'''You are an Agent meant to solve the Escape Room Game.\n",
    "You must output one of the Available Actions at each time step.\n",
    "If previous action fails, try another.''',\n",
    "llm = custom_llm)"
   ]
  },
  {
   "cell_type": "code",
   "execution_count": 53,
   "id": "401cd4c1-446b-40fb-b0de-f1696c2ceb7a",
   "metadata": {
    "tags": []
   },
   "outputs": [],
   "source": [
    "conversable_agent = ConversableAgent(agent, \n",
    "                persistent_memory = {'Inventory': '', 'List of Past Actions': '', 'Summary of Past Actions' : '', 'List of Rooms Explored': ''},  \n",
    "                person = 'Game')"
   ]
  },
  {
   "cell_type": "code",
   "execution_count": 54,
   "id": "f852b7e4-2998-4bf8-b147-f55ca12d78cf",
   "metadata": {
    "tags": []
   },
   "outputs": [
    {
     "name": "stdout",
     "output_type": "stream",
     "text": [
      "Game: \n",
      "Current Room State:\n",
      "You look around and see the following items in Room 1:\n",
      "- key\n",
      "- potion\n",
      "There is a locked door here.\n",
      "\n",
      "Your inventory: \n",
      "\n",
      "Available actions:\n",
      "- look around\n",
      "- pick up key\n",
      "- pick up lock\n",
      "- pick up potion\n",
      "- pick up treasure\n",
      "- unlock door\n",
      "- enter next room\n",
      "- exit\n",
      "- drink potion\n",
      "\n",
      "What would you do? You must reply with one of the Available actions\n",
      "\u001b[1m\u001b[32mThoughts: Since the room contains a key and a potion, we should consider picking them up. If the door is locked, we might need to unlock it using the key. Drinking the potion could also be beneficial. We should reply with one of the available actions based on these considerations.\u001b[0m\n",
      "\u001b[1m\u001b[34mPersistent Memory: {'Inventory': 'key', 'List of Past Actions': 'pick up key', 'Summary of Past Actions': 'Picked up key in Room 1', 'List of Rooms Explored': 'Room 1'}\u001b[0m\n",
      "\u001b[1m\u001b[35mSummary of Conversation: The agent decided to pick up the key in the room, indicating progress towards potentially unlocking the door and advancing in the game.\u001b[0m\n",
      "Escape Room Solver : pick up key\n",
      "###\n",
      "\n",
      "Game: You picked up the key.\n",
      "Current Room State:\n",
      "You look around and see the following items in Room 1:\n",
      "- potion\n",
      "There is a locked door here.\n",
      "\n",
      "Your inventory: key\n",
      "\n",
      "Available actions:\n",
      "- look around\n",
      "- pick up key\n",
      "- pick up lock\n",
      "- pick up potion\n",
      "- pick up treasure\n",
      "- unlock door\n",
      "- enter next room\n",
      "- exit\n",
      "- drink potion\n",
      "\n",
      "What would you do? You must reply with one of the Available actions\n",
      "\u001b[1m\u001b[32mThoughts: Since the agent has already picked up the key in Room 1, the next logical step would be to look around for any other items or clues that might help progress further in the game.\u001b[0m\n",
      "\u001b[1m\u001b[34mPersistent Memory: {'Inventory': 'key', 'List of Past Actions': 'pick up key', 'Summary of Past Actions': 'Picked up key in Room 1', 'List of Rooms Explored': 'Room 1'}\u001b[0m\n",
      "\u001b[1m\u001b[35mSummary of Conversation: The agent successfully picked up the key in Room 1 and is now proceeding to explore the surroundings by looking around for potential clues or items.\"\u001b[0m\n",
      "Escape Room Solver : look around\n",
      "###\n",
      "\n",
      "Game: You look around and see the following items in Room 1:\n",
      "- potion\n",
      "There is a locked door here.\n",
      "\n",
      "Current Room State:\n",
      "You look around and see the following items in Room 1:\n",
      "- potion\n",
      "There is a locked door here.\n",
      "\n",
      "Your inventory: key\n",
      "\n",
      "Available actions:\n",
      "- look around\n",
      "- pick up key\n",
      "- pick up lock\n",
      "- pick up potion\n",
      "- pick up treasure\n",
      "- unlock door\n",
      "- enter next room\n",
      "- exit\n",
      "- drink potion\n",
      "\n",
      "What would you do? You must reply with one of the Available actions\n",
      "\u001b[1m\u001b[32mThoughts: Since the agent has already picked up the key in Room 1 and the inventory shows the key, the next logical step would be to try and unlock the door using the key from the inventory.\u001b[0m\n",
      "\u001b[1m\u001b[34mPersistent Memory: {'Inventory': 'key', 'List of Past Actions': 'pick up key, unlock door', 'Summary of Past Actions': 'Picked up key in Room 1, Unlocked door in Room 1', 'List of Rooms Explored': 'Room 1'}\u001b[0m\n",
      "\u001b[1m\u001b[35mSummary of Conversation: The agent successfully picked up the key in Room 1, explored the surroundings by looking around, and is now attempting to unlock the door using the key.\u001b[0m\n",
      "Escape Room Solver : unlock door\n",
      "###\n",
      "\n",
      "Game: You unlocked the door. You can try to enter the next room now.\n",
      "Current Room State:\n",
      "You look around and see the following items in Room 1:\n",
      "- potion\n",
      "There is an unlocked door here.\n",
      "\n",
      "Your inventory: key\n",
      "\n",
      "Available actions:\n",
      "- look around\n",
      "- pick up key\n",
      "- pick up lock\n",
      "- pick up potion\n",
      "- pick up treasure\n",
      "- unlock door\n",
      "- enter next room\n",
      "- exit\n",
      "- drink potion\n",
      "\n",
      "What would you do? You must reply with one of the Available actions\n",
      "\u001b[1m\u001b[32mThoughts: Based on the past actions of picking up the key and unlocking the door successfully, the next logical step would be to enter the next room. This action aligns with the progression in the game and the current state of having an unlocked door available for entry.\u001b[0m\n",
      "\u001b[1m\u001b[34mPersistent Memory: {'Inventory': 'key, potion', 'List of Past Actions': 'pick up key, unlock door, enter next room', 'Summary of Past Actions': 'Picked up key in Room 1, Unlocked door in Room 1, Entered next room from Room 1', 'List of Rooms Explored': 'Room 1'}\u001b[0m\n",
      "\u001b[1m\u001b[35mSummary of Conversation: The agent successfully picked up the key, unlocked the door, and is now proceeding to enter the next room, showcasing a methodical approach to solving the escape room challenges.\u001b[0m\n",
      "Escape Room Solver : enter next room\n",
      "###\n",
      "\n",
      "Game: You enter the next room.\n",
      "Current Room State:\n",
      "You look around and see the following items in Room 2:\n",
      "- treasure\n",
      "There is a locked door here.\n",
      "\n",
      "Your inventory: key\n",
      "\n",
      "Available actions:\n",
      "- look around\n",
      "- pick up key\n",
      "- pick up lock\n",
      "- pick up potion\n",
      "- pick up treasure\n",
      "- unlock door\n",
      "- enter next room\n",
      "- exit\n",
      "- drink potion\n",
      "\n",
      "What would you do? You must reply with one of the Available actions\n",
      "\u001b[1m\u001b[32mThoughts: Based on the past actions of picking up the key, unlocking the door, and entering the next room, the logical next step would be to look around in Room 2 to gather information about the new environment before proceeding.\u001b[0m\n",
      "\u001b[1m\u001b[34mPersistent Memory: {'Inventory': 'key', 'List of Past Actions': 'pick up key, unlock door, enter next room, look around', 'Summary of Past Actions': 'Picked up key in Room 1, Unlocked door in Room 1, Entered next room from Room 1, Looked around in Room 2', 'List of Rooms Explored': 'Room 1, Room 2'}\u001b[0m\n",
      "\u001b[1m\u001b[35mSummary of Conversation: The agent successfully navigated through Room 1 by picking up the key, unlocking the door, and entering the next room. Now in Room 2, the agent is carefully examining the surroundings before taking further actions.\u001b[0m\n",
      "Escape Room Solver : look around\n",
      "###\n",
      "\n",
      "Game: You look around and see the following items in Room 2:\n",
      "- treasure\n",
      "There is a locked door here.\n",
      "\n",
      "Current Room State:\n",
      "You look around and see the following items in Room 2:\n",
      "- treasure\n",
      "There is a locked door here.\n",
      "\n",
      "Your inventory: key\n",
      "\n",
      "Available actions:\n",
      "- look around\n",
      "- pick up key\n",
      "- pick up lock\n",
      "- pick up potion\n",
      "- pick up treasure\n",
      "- unlock door\n",
      "- enter next room\n",
      "- exit\n",
      "- drink potion\n",
      "\n",
      "What would you do? You must reply with one of the Available actions\n",
      "\u001b[1m\u001b[32mThoughts: Since the agent has already picked up the key in Room 1 and used it to unlock the door, it should consider picking up the treasure in Room 2 before attempting to unlock the door. The agent should reply with 'pick up treasure'.\u001b[0m\n",
      "\u001b[1m\u001b[34mPersistent Memory: {'Inventory': 'key', 'List of Past Actions': 'pick up key, unlock door, enter next room, look around, pick up treasure', 'Summary of Past Actions': 'Picked up key in Room 1, Unlocked door in Room 1, Entered next room from Room 1, Looked around in Room 2, Picked up treasure in Room 2', 'List of Rooms Explored': 'Room 1, Room 2'}\u001b[0m\n",
      "\u001b[1m\u001b[35mSummary of Conversation: The agent successfully navigated through Room 1 by picking up the key, unlocking the door, and entering the next room. In Room 2, the agent is now focusing on picking up the treasure before proceeding further.\u001b[0m\n",
      "Escape Room Solver : pick up treasure\n",
      "###\n",
      "\n",
      "Game: You picked up the treasure.\n",
      "Current Room State:\n",
      "You look around and see the following items in Room 2:\n",
      "There is a locked door here.\n",
      "\n",
      "Your inventory: key, treasure\n",
      "\n",
      "Available actions:\n",
      "- look around\n",
      "- pick up key\n",
      "- pick up lock\n",
      "- pick up potion\n",
      "- pick up treasure\n",
      "- unlock door\n",
      "- enter next room\n",
      "- exit\n",
      "- drink potion\n",
      "\n",
      "What would you do? You must reply with one of the Available actions\n",
      "\u001b[1m\u001b[32mThoughts: Since the agent has already picked up the treasure, the next logical step would be to unlock the door in Room 2. This action is in line with the agent's progress so far and the available actions in the current room.\u001b[0m\n",
      "\u001b[1m\u001b[34mPersistent Memory: {'Inventory': 'key, treasure', 'List of Past Actions': 'pick up key, unlock door, enter next room, look around, pick up treasure, unlock door', 'Summary of Past Actions': 'Picked up key in Room 1, Unlocked door in Room 1, Entered next room from Room 1, Looked around in Room 2, Picked up treasure in Room 2, Unlocked door in Room 2', 'List of Rooms Explored': 'Room 1, Room 2'}\u001b[0m\n",
      "\u001b[1m\u001b[35mSummary of Conversation: The agent successfully picked up the treasure in Room 2 and is now focusing on unlocking the door to progress further in the game, demonstrating strategic decision-making and progress in solving the escape room challenges.\u001b[0m\n",
      "Escape Room Solver : unlock door\n",
      "###\n",
      "\n",
      "Game: You unlocked the door. You can try to enter the next room now.\n",
      "Current Room State:\n",
      "You look around and see the following items in Room 2:\n",
      "There is an unlocked door here.\n",
      "\n",
      "Your inventory: key, treasure\n",
      "\n",
      "Available actions:\n",
      "- look around\n",
      "- pick up key\n",
      "- pick up lock\n",
      "- pick up potion\n",
      "- pick up treasure\n",
      "- unlock door\n",
      "- enter next room\n",
      "- exit\n",
      "- drink potion\n",
      "\n",
      "What would you do? You must reply with one of the Available actions\n",
      "\u001b[1m\u001b[32mThoughts: Since the door is now unlocked, the next logical step would be to enter the next room. This action aligns with the progress made so far in the game and the goal of advancing through the escape room challenges.\u001b[0m\n",
      "\u001b[1m\u001b[34mPersistent Memory: {'Inventory': 'key, treasure', 'List of Past Actions': 'pick up key, unlock door, enter next room, look around, pick up treasure, unlock door, enter next room', 'Summary of Past Actions': 'Picked up key in Room 1, Unlocked door in Room 1, Entered next room from Room 1, Looked around in Room 2, Picked up treasure in Room 2, Unlocked door in Room 2, Entered next room from Room 2', 'List of Rooms Explored': 'Room 1, Room 2'}\u001b[0m\n",
      "\u001b[1m\u001b[35mSummary of Conversation: The agent successfully unlocked the door in Room 2 and is now proceeding to enter the next room, showcasing a methodical approach in solving the escape room puzzles and advancing through different rooms.\u001b[0m\n",
      "Escape Room Solver : enter next room\n",
      "###\n",
      "\n"
     ]
    }
   ],
   "source": [
    "# To play the game\n",
    "game = EscapeRoom()\n",
    "newstate = ''\n",
    "\n",
    "while not game.game_over:\n",
    "    state = newstate + '\\n' + game.info() + '\\nWhat would you do? You must reply with one of the Available actions'\n",
    "    print('Game:', state)\n",
    "    reply = conversable_agent.chat(state)\n",
    "    print(conversable_agent.agent.agent_name, ':', reply)\n",
    "    print('###\\n')\n",
    "    newstate = game.play(reply)"
   ]
  },
  {
   "cell_type": "code",
   "execution_count": null,
   "id": "42920053-c4b3-4e1a-b942-0cb14bcbe624",
   "metadata": {},
   "outputs": [],
   "source": []
  }
 ],
 "metadata": {
  "kernelspec": {
   "display_name": "Python 3 (ipykernel)",
   "language": "python",
   "name": "python3"
  },
  "language_info": {
   "codemirror_mode": {
    "name": "ipython",
    "version": 3
   },
   "file_extension": ".py",
   "mimetype": "text/x-python",
   "name": "python",
   "nbconvert_exporter": "python",
   "pygments_lexer": "ipython3",
   "version": "3.11.3"
  }
 },
 "nbformat": 4,
 "nbformat_minor": 5
}
