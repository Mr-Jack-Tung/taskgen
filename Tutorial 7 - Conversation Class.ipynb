{
 "cells": [
  {
   "cell_type": "markdown",
   "id": "7fad7e78-447b-4988-8367-31cdf77f01cc",
   "metadata": {},
   "source": [
    "# Tutorial 7: Using Conversation to Solve Problems\n",
    "\n",
    "- This is a beta version of the Conversation Class\n",
    "- Can perform actions and reply user based on past conversation history and memory\n",
    "- Auto update memory based on conversation"
   ]
  },
  {
   "cell_type": "code",
   "execution_count": 17,
   "id": "995e25cc-eada-4f51-85ea-15760bad320a",
   "metadata": {
    "tags": []
   },
   "outputs": [],
   "source": [
    "# !pip install --upgrade taskgen-ai"
   ]
  },
  {
   "cell_type": "code",
   "execution_count": 1,
   "id": "84b9b3d5-3372-4c19-b005-16ad318f0bee",
   "metadata": {
    "tags": []
   },
   "outputs": [],
   "source": [
    "from taskgen import *\n",
    "from termcolor import colored\n",
    "\n",
    "import os\n",
    "os.environ['OPENAI_API_KEY'] = '<YOUR_API_KEY_HERE>'"
   ]
  },
  {
   "cell_type": "markdown",
   "id": "b2eccec0-7e94-4106-b7e4-6d67385de429",
   "metadata": {},
   "source": [
    "# Define some Custom LLMs"
   ]
  },
  {
   "cell_type": "code",
   "execution_count": 3,
   "id": "4c1e4180-9af0-45d2-9af3-2362ad9adf63",
   "metadata": {
    "tags": []
   },
   "outputs": [],
   "source": [
    "def custom_llm(system_prompt: str, user_prompt: str):\n",
    "    ''' Here, we use OpenAI for illustration, you can change it to your own LLM '''\n",
    "    # ensure your LLM imports are all within this function\n",
    "    from openai import OpenAI\n",
    "    \n",
    "    # define your own LLM here\n",
    "    client = OpenAI()\n",
    "    response = client.chat.completions.create(\n",
    "        model='gpt-3.5-turbo',\n",
    "        temperature = 0,\n",
    "        messages=[\n",
    "            {\"role\": \"system\", \"content\": system_prompt},\n",
    "            {\"role\": \"user\", \"content\": user_prompt}\n",
    "        ]\n",
    "    )\n",
    "    return response.choices[0].message.content"
   ]
  },
  {
   "cell_type": "code",
   "execution_count": 4,
   "id": "6e1e1f50-74ab-4b50-b342-98ce266bc0c9",
   "metadata": {
    "tags": []
   },
   "outputs": [],
   "source": [
    "import boto3\n",
    "import json\n",
    "from openai import AzureOpenAI\n",
    "\n",
    "### Put in your AWS keys here ###\n",
    "MY_KEY = \"<YOUR KEY>\"\n",
    "MY_SECRET = \"<YOUR SECRET>\"\n",
    "\n",
    "### Put in your Azure OpenAI keys here ###\n",
    "AZURE_OPENAI_KEY = \"<YOUR KEY>\"\n",
    "AZURE_OPENAI_ENDPOINT = \"<YOUR ENDPOINT>\""
   ]
  },
  {
   "cell_type": "code",
   "execution_count": 89,
   "id": "e4a7c4a2-605a-474c-9e2a-799061850e7d",
   "metadata": {
    "tags": []
   },
   "outputs": [],
   "source": [
    "def claude(system_prompt: str, user_prompt: str):\n",
    "    bedrock = boto3.client(service_name=\"bedrock-runtime\",\n",
    "                        aws_access_key_id=MY_KEY,\n",
    "                        aws_secret_access_key=MY_SECRET,\n",
    "                        region_name=\"us-west-2\",\n",
    "                        )\n",
    "    \n",
    "    body = json.dumps({\n",
    "    \"max_tokens\": 16000,\n",
    "    \"temperature\": 0,\n",
    "    \"system\": system_prompt,\n",
    "    \"messages\": [{\"role\": \"user\", \"content\": user_prompt}],\n",
    "    \"anthropic_version\": \"bedrock-2023-05-31\"\n",
    "    })\n",
    "    \n",
    "\n",
    "    response = bedrock.invoke_model(body=body, \n",
    "                                    modelId=\"anthropic.claude-3-haiku-20240307-v1:0\"\n",
    "                                    # modelId=\"anthropic.claude-3-sonnet-20240229-v1:0\"\n",
    "                                    # modelId=\"anthropic.claude-3-opus-20240229-v1:0\"\n",
    "                                   )\n",
    "    response_body = json.loads(response.get(\"body\").read())\n",
    "\n",
    "    response_text = response_body.get(\"content\")[0].get(\"text\")\n",
    "    return response_text\n",
    "\n",
    "def llama(system_prompt: str, user_prompt: str):\n",
    "    bedrock = boto3.client(service_name=\"bedrock-runtime\",\n",
    "                        aws_access_key_id=MY_KEY,\n",
    "                        aws_secret_access_key=MY_SECRET,\n",
    "                        region_name=\"us-west-2\",\n",
    "                        )\n",
    "    \n",
    "    # Define the user message to send.\n",
    "    user_message = 'System Prompt:' + system_prompt + '\\nUser Prompt' + user_prompt\n",
    "\n",
    "    # Embed the message in Llama 3's prompt format.\n",
    "    prompt = f\"\"\"<|begin_of_text|><|start_header_id|>system<|end_header_id|>\n",
    "{system_prompt}<|eot_id|><|start_header_id|>user<|end_header_id|>\n",
    "{user_prompt}<|eot_id|><|start_header_id|>assistant<|end_header_id|>\"\"\"\n",
    "    \n",
    "    body = json.dumps({\n",
    "    \"max_gen_len\": 2048,\n",
    "    \"temperature\": 0,\n",
    "    \"prompt\": prompt,\n",
    "    })\n",
    "\n",
    "    response = bedrock.invoke_model(body=body, \n",
    "                                    modelId=\"meta.llama3-8b-instruct-v1:0\"\n",
    "                                    # modelId = \"meta.llama3-70b-instruct-v1:0\" \n",
    "                                   )\n",
    "    \n",
    "    # Decode the native response body.\n",
    "    model_response = json.loads(response[\"body\"].read())\n",
    "\n",
    "    # Extract and print the generated text.\n",
    "    response_text = model_response[\"generation\"]\n",
    "    \n",
    "    return response_text\n",
    "\n",
    "azure_open_ai_client = AzureOpenAI(\n",
    "    api_key = AZURE_OPENAI_KEY,\n",
    "    azure_endpoint = AZURE_OPENAI_ENDPOINT,\n",
    "    api_version = '2024-02-15-preview'\n",
    ")\n",
    " \n",
    "def azureOpenAiChat(\n",
    "    system_prompt: str, user_prompt: str, model: str = \"GPT3_5Turbo\", temperature: float = .0000000000000000000001, **kwargs\n",
    ") -> str:\n",
    "    response = azure_open_ai_client.chat.completions.create(\n",
    "        model=model,\n",
    "        messages=[{\"role\": \"system\", \"content\": system_prompt}, {\"role\": \"user\", \"content\": user_prompt}],\n",
    "        temperature=temperature,\n",
    "        **kwargs,\n",
    "    )\n",
    " \n",
    "    return response.choices[0].message.content\n",
    " \n",
    "def chatgpt(system_prompt: str, user_prompt: str) -> str:\n",
    "    return azureOpenAiChat(system_prompt=system_prompt, user_prompt=user_prompt, model=\"GPT3_5Turbo\", temperature=0)\n",
    " \n",
    "def gpt4(system_prompt: str, user_prompt: str) -> str:\n",
    "    return azureOpenAiChat(system_prompt=system_prompt, user_prompt=user_prompt, model=\"GPT4Turbo\", temperature=0)\n",
    "\n",
    "def gpt4o(system_prompt: str, user_prompt: str) -> str:\n",
    "    # ensure your LLM imports are all within this function\n",
    "    from openai import OpenAI\n",
    "    \n",
    "    # define your own LLM here\n",
    "    client = OpenAI()\n",
    "    response = client.chat.completions.create(\n",
    "        model='gpt-4o',\n",
    "        temperature = 0,\n",
    "        messages=[\n",
    "            {\"role\": \"system\", \"content\": system_prompt},\n",
    "            {\"role\": \"user\", \"content\": user_prompt}\n",
    "        ]\n",
    "    )\n",
    "    return response.choices[0].message.content"
   ]
  },
  {
   "cell_type": "markdown",
   "id": "76d52972-6aa3-43f8-802b-7b4bf0a219f2",
   "metadata": {},
   "source": [
    "# Define the Conversation Class"
   ]
  },
  {
   "cell_type": "code",
   "execution_count": 7,
   "id": "b91380a6-7782-490e-b8e4-7ff9fc644862",
   "metadata": {
    "tags": []
   },
   "outputs": [],
   "source": [
    "class ConversableAgent:\n",
    "    ''' This class takes an Agent and allows for conversational-based interactions with User / another Agent / Environment\n",
    "Also updates persistent memory with latest information in conversation\n",
    "\n",
    "Inputs:\n",
    "agent: The agent we want to interact with: Agent\n",
    "persistent_memory: dict. What kinds of memory the agent should have that persist over the entire conversation and their descriptions\n",
    "person: Str. The name of the person you are talking to\n",
    "num_past_conversation: int. The number of past conversations to use for the agent\n",
    "verbose: bool. Default: True. Whether to print the Agent's inner states'''\n",
    "    def __init__(self, agent: Agent, persistent_memory: dict = None, person = 'User', num_past_conversation: int = 5, verbose: bool = True):\n",
    "        self.agent = agent\n",
    "        self.persistent_memory = persistent_memory\n",
    "        self.num_past_conversation = num_past_conversation\n",
    "        self.person = person\n",
    "        self.verbose = verbose\n",
    "        \n",
    "        ''' Define some external variables for the Agent '''\n",
    "        # add in the various types of memory\n",
    "        self.agent.shared_variables['Persistent Memory'] = {}\n",
    "        # add in the conversation\n",
    "        self.agent.shared_variables['Conversation'] = ['']\n",
    "        # add in the summary of conversation\n",
    "        self.agent.shared_variables['Summary of Conversation'] = ''\n",
    "    \n",
    "    ## Reply the person\n",
    "    def chat(self, cur_msg):\n",
    "        ''' This does one chat with the person, firstly performing actions then replying the person, while updating the important memory '''\n",
    "        ## Do actions before replying person only if there are actions other than use_llm and end_task\n",
    "        my_actions = list(self.agent.function_map.keys()) \n",
    "        if 'use_llm' in my_actions: my_actions.remove('use_llm')\n",
    "        if 'end_task' in my_actions: my_actions.remove('end_task')\n",
    "        if len(my_actions) > 0:\n",
    "            self.agent.reset()\n",
    "            self.agent.run(f'''Summary of Conversation: ```{self.agent.shared_variables['Summary of Conversation']}```\n",
    "Past Conversation: ```{self.agent.shared_variables['Conversation'][-self.num_past_conversation:]}```\n",
    "Latest input from {self.person}: ```{cur_msg}```\n",
    "Use Equipped Functions other than use_llm to help answer the latest input from {self.person}''',\n",
    "            )\n",
    "\n",
    "        ## Replies the person\n",
    "        res = self.agent.query(f'''Summary of Conversation: ```{self.agent.shared_variables['Summary of Conversation']}```\n",
    "Past Conversation: ```{self.agent.shared_variables['Conversation'][-self.num_past_conversation:]}```\n",
    "Persistent Memory: ```{self.agent.shared_variables['Persistent Memory']}```\n",
    "Latest input from {self.person}: ```{cur_msg}```\n",
    "You are in a conversation with {self.person}. \n",
    "Use Past Conversation and Persistent Memory and Subtasks Completed as context when replying. Do not hallucinate actions in Subtasks Completed.\n",
    "First think through how to reply, before drafting the reply.\n",
    "Thereafter, update the Summary of Conversation''', \n",
    "                          \n",
    "output_format = {\"Thoughts\": f\"How to reply\",\n",
    "                 f\"Reply to {self.person}\": f\"Reply to ```{cur_msg}```\",\n",
    "                 \"Summary of Conversation\": \"Summarise key points of entire conversation in at most two sentences, building on previous Summary\"})\n",
    "        \n",
    "        # Update the Summary of Conversation and Append the conversation\n",
    "        self.agent.shared_variables['Summary of Conversation'] = res['Summary of Conversation']\n",
    "        self.agent.shared_variables['Conversation'].append(f'{self.person}: {cur_msg}')\n",
    "        self.agent.shared_variables['Conversation'].append(f'{self.agent.agent_name}: {res[f\"Reply to {self.person}\"]}')\n",
    "        \n",
    "        ## Update Persistent Memory\n",
    "        if self.persistent_memory is not None and self.persistent_memory != {}:\n",
    "            persistent_memory = strict_json(f'Update all fields of Persistent Memory. Current value: {self.agent.shared_variables[\"Persistent Memory\"]}',\n",
    "               f'Additional Conversation\\n{self.person}: {cur_msg}\\n{self.agent.agent_name}: {res[f\"Reply to {self.person}\"]}',\n",
    "               output_format = self.persistent_memory,\n",
    "               model = self.agent.kwargs.get('model', 'gpt-3.5-turbo'),\n",
    "               llm = self.agent.llm)\n",
    "                                                           \n",
    "            self.agent.shared_variables[\"Persistent Memory\"] = persistent_memory\n",
    "        \n",
    "        if self.verbose:\n",
    "            print(colored(f'Thoughts: {res[\"Thoughts\"]}', 'green', attrs = ['bold']))\n",
    "            print(colored(f'Persistent Memory: {self.agent.shared_variables[\"Persistent Memory\"]}', 'blue', attrs = ['bold']))\n",
    "            print(colored(f'Summary of Conversation: {res[\"Summary of Conversation\"]}', 'magenta', attrs = ['bold']))\n",
    "        \n",
    "        return res[f'Reply to {self.person}']"
   ]
  },
  {
   "cell_type": "markdown",
   "id": "96494829-25c3-42d7-8b47-d0c395d5bf06",
   "metadata": {
    "tags": []
   },
   "source": [
    "# Example Conversation\n",
    "- Psychology counsellor"
   ]
  },
  {
   "cell_type": "code",
   "execution_count": 187,
   "id": "7228377a-a73c-4e45-b934-472ac7bf8322",
   "metadata": {
    "tags": []
   },
   "outputs": [
    {
     "name": "stdout",
     "output_type": "stream",
     "text": [
      "User:  i'm sad\n"
     ]
    },
    {
     "name": "stdout",
     "output_type": "stream",
     "text": [
      "\u001b[1m\u001b[32mThoughts: Acknowledge the user's emotion and offer support or guidance on how to cope with sadness.\u001b[0m\n",
      "\u001b[1m\u001b[34mPersistent Memory: {'What User Wants': \"To express sadness and talk about what's bothering them\", 'User Emotion': 'sad', 'Summary of Key Incidents': 'User expresses feeling sad and is looking to talk about their concerns'}\u001b[0m\n",
      "\u001b[1m\u001b[35mSummary of Conversation: The user expressed feeling sad, prompting a response to acknowledge their emotion and offer support or guidance.\u001b[0m\n",
      "Psychology counsellor: I'm sorry to hear that you're feeling sad. Is there anything specific that's been bothering you?\n",
      "\n"
     ]
    },
    {
     "name": "stdout",
     "output_type": "stream",
     "text": [
      "User:  i lost my dog yesterday\n"
     ]
    },
    {
     "name": "stdout",
     "output_type": "stream",
     "text": [
      "\u001b[1m\u001b[32mThoughts: Acknowledge the user's loss and express empathy. Offer support and a listening ear for them to talk about their feelings regarding losing their dog.\u001b[0m\n",
      "\u001b[1m\u001b[34mPersistent Memory: {'What User Wants': 'To express sadness and talk about the loss of their dog', 'User Emotion': 'sad', 'Summary of Key Incidents': 'User lost their dog yesterday and is looking for support'}\u001b[0m\n",
      "\u001b[1m\u001b[35mSummary of Conversation: The user shared about losing their dog, highlighting a significant event that has impacted their emotions. The conversation has shifted towards addressing the user's grief and providing a supportive space for them to express their feelings.\u001b[0m\n",
      "Psychology counsellor: Psychology counsellor: I'm truly sorry to hear about the loss of your dog yesterday. Losing a pet can be incredibly difficult. If you feel like talking about your feelings or sharing memories of your dog, I'm here to listen.\n",
      "\n"
     ]
    },
    {
     "name": "stdout",
     "output_type": "stream",
     "text": [
      "User:  exit\n"
     ]
    }
   ],
   "source": [
    "agent = Agent('Psychology counsellor', \n",
    "              \"Helps to understand and respond to User's emotion and situation. Reply user based on What User Wants.\",\n",
    "             llm = custom_llm)\n",
    "\n",
    "my_agent = ConversableAgent(agent, \n",
    "             persistent_memory = {'What User Wants': 'How the User wants the conversation to be',\n",
    "                             'User Emotion': '',\n",
    "                             'Summary of Key Incidents': \"Key incidents relevant to understanding User's situation in one line\"})\n",
    "\n",
    "while True:\n",
    "    user_input = input('User: ')\n",
    "    if user_input == 'exit': break\n",
    "    reply = my_agent.chat(user_input)\n",
    "    print(my_agent.agent.agent_name + ':', reply)\n",
    "    print()"
   ]
  },
  {
   "cell_type": "code",
   "execution_count": 188,
   "id": "23907642-607e-4bb6-b592-fe37357021fc",
   "metadata": {
    "tags": []
   },
   "outputs": [
    {
     "data": {
      "text/plain": [
       "['',\n",
       " \"User: i'm sad\",\n",
       " \"Psychology counsellor: I'm sorry to hear that you're feeling sad. Is there anything specific that's been bothering you?\",\n",
       " 'User: i lost my dog yesterday',\n",
       " \"Psychology counsellor: Psychology counsellor: I'm truly sorry to hear about the loss of your dog yesterday. Losing a pet can be incredibly difficult. If you feel like talking about your feelings or sharing memories of your dog, I'm here to listen.\"]"
      ]
     },
     "execution_count": 188,
     "metadata": {},
     "output_type": "execute_result"
    }
   ],
   "source": [
    "agent.shared_variables['Conversation']"
   ]
  },
  {
   "cell_type": "code",
   "execution_count": 189,
   "id": "e8273620-a1b0-4083-b436-5d3ca5c361be",
   "metadata": {
    "tags": []
   },
   "outputs": [
    {
     "data": {
      "text/plain": [
       "'User lost their dog yesterday and is looking for support'"
      ]
     },
     "execution_count": 189,
     "metadata": {},
     "output_type": "execute_result"
    }
   ],
   "source": [
    "agent.shared_variables['Persistent Memory']['Summary of Key Incidents']"
   ]
  },
  {
   "cell_type": "markdown",
   "id": "9f597195-49d5-4edd-805b-108773a08495",
   "metadata": {},
   "source": [
    "# Example Conversation with Action Space\n",
    "- Sherlock Holmes Shop Assistant"
   ]
  },
  {
   "cell_type": "code",
   "execution_count": 68,
   "id": "c2f6ff0d-4443-4d93-9f50-9b571a007550",
   "metadata": {
    "tags": []
   },
   "outputs": [],
   "source": [
    "# gets list of items and store in memory\n",
    "item_list = [{\"Name\": \"Skateboard\", \"item_id\" : 0, \"Cost\": 30},\n",
    "            {\"Name\": \"Pizza\", \"item_id\": 1, \"Cost\": 10},\n",
    "            {\"Name\": \"Apple Laptop\", \"item_id\": 2, \"Cost\": 5000},\n",
    "            {\"Name\": \"Foldable Laptop\", \"item_id\": 3, \"Cost\": 800},\n",
    "            {\"Name\": \"Apple\", \"item_id\": 4, \"Cost\": 1},\n",
    "            {\"Name\": \"Machine Learning Textbook\", \"item_id\": 5, \"Cost\": 100},\n",
    "            {\"Name\": \"Bicycle\", \"item_id\": 6, \"Cost\": 200},\n",
    "            {\"Name\": \"Orange Juice\", \"item_id\": 7, \"Cost\": 3},\n",
    "            {\"Name\": \"Coconut\", \"item_id\": 8, \"Cost\": 10},\n",
    "            {\"Name\": \"Car\", \"item_id\": 9, \"Cost\": 100000}]\n",
    "item_memory = Memory(item_list, top_k = 3, mapper = lambda x: x, approach = 'retrieve_by_llm')"
   ]
  },
  {
   "cell_type": "code",
   "execution_count": 69,
   "id": "7daea18c-0cae-441c-a50e-c81e3e7e60d9",
   "metadata": {
    "tags": []
   },
   "outputs": [],
   "source": [
    "def get_related_items_by_category(shared_variables, category : str):\n",
    "    ''' Returns all purchasable items related to the category '''\n",
    "    \n",
    "    # get all items available from memory\n",
    "    item_memory = shared_variables[\"item_memory\"]\n",
    "    \n",
    "    items_selected = item_memory.retrieve(category)\n",
    "    \n",
    "    # store items searched into memory if there are no duplicates\n",
    "    for item in items_selected:\n",
    "        if item not in shared_variables['items_searched']:\n",
    "            shared_variables['items_searched'].append(item)\n",
    "    \n",
    "    return items_selected"
   ]
  },
  {
   "cell_type": "code",
   "execution_count": 71,
   "id": "f6d66c85-4a50-45d5-a1bb-8bcc0de7cb64",
   "metadata": {
    "tags": []
   },
   "outputs": [],
   "source": [
    "def buy_item(shared_variables, item_id: int):\n",
    "    ''' Purchases the item by item_id '''\n",
    "    \n",
    "    # retrieve from shared variables\n",
    "    money_remaining = shared_variables[\"money_remaining\"]\n",
    "    item_memory = shared_variables[\"item_memory\"]\n",
    "    purchased_items = shared_variables[\"purchased_items\"]\n",
    "    item_list = item_memory.memory\n",
    "    \n",
    "    # check if item_id is valid\n",
    "    if not isinstance(item_id, int) or not 0 <= item_id < len(item_list):\n",
    "        return f\"Unable to purchase. Item id selected is not within range of 0 to {len(item_list)-1}\"\n",
    "    \n",
    "    item = item_list[item_id]\n",
    "    item_name, cost = item[\"Name\"], item[\"Cost\"]\n",
    "    \n",
    "    # if too poor to purchase, let agent know\n",
    "    if cost > money_remaining:\n",
    "        return f\"Unable to purchase item. Available money ({money_remaining}) is lower than the cost price ({cost})\"\n",
    "    \n",
    "    # confirm with user before purchasing\n",
    "    user_input = input(f'\\n\\t> AI Assistant: You are about to purchase {item_name} for {cost} dollars. Proceed? Answer \"Yes\" to go ahead\\n\\t> User: ')\n",
    "    if 'yes' in user_input.lower() or 'y' in user_input.lower():\n",
    "        # otherwise, purchase it\n",
    "        money_remaining = money_remaining - cost\n",
    "        purchased_items.append(item_name)\n",
    "\n",
    "        # store in shared variables\n",
    "        shared_variables[\"money_remaining\"] = money_remaining\n",
    "        shared_variables[\"purchased_items\"] = purchased_items\n",
    "\n",
    "        return f\"Purchase of {item_name} successful. Remaining money after purchase: {money_remaining}\"\n",
    "    \n",
    "    else:\n",
    "        return f\"User did not want to purchase the item, and instead replied ```{user_input}```\""
   ]
  },
  {
   "cell_type": "code",
   "execution_count": 97,
   "id": "385b0236-a060-41e3-8c7c-e29ccc4e8533",
   "metadata": {
    "tags": []
   },
   "outputs": [],
   "source": [
    "shop_agent = Agent('Shop Assistant', \n",
    "f'''You are to assist User in searching items and purchasing items. Purchase item upon confirmation. \n",
    "Based on User input, give up to 3 choices for items from Items Searched with their name and price.\n",
    "If User wants to purchase a specific item within Items Searched, purchase it.\n",
    "Always inform the User about their amount of money from Money Remaining when replying them.\n",
    "Reply in the persona of Sherlock Holmes.''',\n",
    "                shared_variables = {'purchased_items': [], \n",
    "                                    'money_remaining': 1000, \n",
    "                                    'item_memory': item_memory,\n",
    "                                    'items_searched': []},\n",
    "                global_context = '''\n",
    "Money Remaining: <money_remaining>\n",
    "Items Searched: <items_searched>\n",
    "Items Purchased: <purchased_items>\n",
    "Past Conversation: <Conversation>''',\n",
    "                default_to_llm = False,\n",
    "                max_subtasks = 1,\n",
    "                llm = custom_llm,\n",
    "                  # model = 'gpt-4o',\n",
    "                  ).assign_functions([get_related_items_by_category, buy_item])"
   ]
  },
  {
   "cell_type": "code",
   "execution_count": 98,
   "id": "af92a63b-1ca3-4b0b-aa00-79909515097f",
   "metadata": {
    "tags": []
   },
   "outputs": [
    {
     "name": "stdout",
     "output_type": "stream",
     "text": [
      "Shop Assistant: I am your friendly Shop Assistant, Sherlock Holmes. How may I assist you today?\n"
     ]
    },
    {
     "name": "stdout",
     "output_type": "stream",
     "text": [
      "User:  i would like to buy a car\n"
     ]
    },
    {
     "name": "stdout",
     "output_type": "stream",
     "text": [
      "\u001b[1m\u001b[30mObservation: User wants to buy a car\u001b[0m\n",
      "\u001b[1m\u001b[32mThoughts: Provide up to 3 choices for cars from Items Searched and allow User to purchase a specific car if desired. Inform User about Money Remaining after each interaction. End Task if completed.\u001b[0m\n",
      "\u001b[1m\u001b[34mSubtask identified: Provide up to 3 choices for cars from Items Searched\u001b[0m\n",
      "Calling function get_related_items_by_category with parameters {'category': 'car'}\n",
      "> {'output_1': [{'Name': 'Car', 'item_id': 9, 'Cost': 100000}, {'Name': 'Bicycle', 'item_id': 6, 'Cost': 200}, {'Name': 'Skateboard', 'item_id': 0, 'Cost': 30}]}\n",
      "\n",
      "\u001b[1m\u001b[32mThoughts: User wants to buy a car, which costs more than the Money Remaining. I should inform the User about the cost of the car and suggest alternative options within the budget.\u001b[0m\n",
      "\u001b[1m\u001b[34mPersistent Memory: {}\u001b[0m\n",
      "\u001b[1m\u001b[35mSummary of Conversation: User expressed interest in buying a car, which is beyond their budget. Informed User about the cost of the car and suggested alternative options within their budget.\u001b[0m\n",
      "Shop Assistant: Elementary, my dear User. The car you desire costs 100000, which exceeds your Money Remaining of 1000. May I suggest considering the Bicycle or Skateboard instead?\n",
      "\n"
     ]
    },
    {
     "name": "stdout",
     "output_type": "stream",
     "text": [
      "User:  ok skateboard then\n"
     ]
    },
    {
     "name": "stdout",
     "output_type": "stream",
     "text": [
      "\u001b[1m\u001b[30mObservation: User has decided to purchase the Skateboard after being informed about the cost of the Car and suggested alternatives within their budget.\u001b[0m\n",
      "\u001b[1m\u001b[32mThoughts: To complete the remainder of the Assigned Task, the Shop Assistant needs to confirm the purchase of the Skateboard and update the Money Remaining accordingly. Since the User has already made a decision, the Assigned Task can be considered completed after this step.\u001b[0m\n",
      "An exception occurred: \"item_id\" not in json string output. You must use \"###{key}###\" to enclose the {key}.\n",
      "Current invalid json format: {'0': 0}\n",
      "\u001b[1m\u001b[34mSubtask identified: Purchase the Skateboard for the User and update the Money Remaining.\u001b[0m\n",
      "Calling function buy_item with parameters {'item_id': 0}\n"
     ]
    },
    {
     "name": "stdout",
     "output_type": "stream",
     "text": [
      "\n",
      "\t> AI Assistant: You are about to purchase Skateboard for 30 dollars. Proceed? Answer \"Yes\" to go ahead\n",
      "\t> User:  yes\n"
     ]
    },
    {
     "name": "stdout",
     "output_type": "stream",
     "text": [
      "> {'output_1': 'Purchase of Skateboard successful. Remaining money after purchase: 970'}\n",
      "\n",
      "\u001b[1m\u001b[32mThoughts: User has decided to purchase the Skateboard. I should confirm the purchase and update the Money Remaining. Since the Skateboard was already purchased, I need to inform the User that the item is already theirs.\u001b[0m\n",
      "\u001b[1m\u001b[34mPersistent Memory: {}\u001b[0m\n",
      "\u001b[1m\u001b[35mSummary of Conversation: User initially wanted to buy a car but opted for the Skateboard instead. Informed User about the purchase of the Skateboard and updated the Money Remaining.\u001b[0m\n",
      "Shop Assistant: Elementary, my dear User. The Skateboard has been purchased. Your current Money Remaining is 970.\n",
      "\n"
     ]
    },
    {
     "name": "stdout",
     "output_type": "stream",
     "text": [
      "User:  hot day ain't it?\n"
     ]
    },
    {
     "name": "stdout",
     "output_type": "stream",
     "text": [
      "\u001b[1m\u001b[30mObservation: User initially wanted to buy a car but opted for the Skateboard instead. Informed User about the purchase of the Skateboard and updated the Money Remaining.\u001b[0m\n",
      "\u001b[1m\u001b[32mThoughts: End Task\u001b[0m\n",
      "\u001b[1m\u001b[34mSubtask identified: End Task\u001b[0m\n",
      "Task completed successfully!\n",
      "\n",
      "\u001b[1m\u001b[32mThoughts: User seems to be making small talk with the comment \"hot day ain't it?\". I should acknowledge the comment before providing any further assistance.\u001b[0m\n",
      "\u001b[1m\u001b[34mPersistent Memory: {}\u001b[0m\n",
      "\u001b[1m\u001b[35mSummary of Conversation: User initially wanted to buy a car but opted for the Skateboard instead. Informed User about the purchase of the Skateboard and updated the Money Remaining. User then made a casual comment about the weather.\u001b[0m\n",
      "Shop Assistant: Sherlock Holmes: Indeed, the weather does seem quite warm today. How may I assist you further?\n",
      "\n"
     ]
    },
    {
     "name": "stdout",
     "output_type": "stream",
     "text": [
      "User:  any drinks?\n"
     ]
    },
    {
     "name": "stdout",
     "output_type": "stream",
     "text": [
      "\u001b[1m\u001b[30mObservation: User initially wanted to buy a car but opted for the Skateboard instead. Informed User about the purchase of the Skateboard and updated the Money Remaining. User then made a casual comment about the weather.\u001b[0m\n",
      "\u001b[1m\u001b[32mThoughts: End Task\u001b[0m\n",
      "\u001b[1m\u001b[34mSubtask identified: Provide User with up to 3 choices for items from Items Searched with their name and price\u001b[0m\n",
      "Calling function get_related_items_by_category with parameters {'category': 'Items'}\n",
      "> {'output_1': [{'Name': 'Apple Laptop', 'item_id': 2, 'Cost': 5000}, {'Name': 'Foldable Laptop', 'item_id': 3, 'Cost': 800}, {'Name': 'Machine Learning Textbook', 'item_id': 5, 'Cost': 100}]}\n",
      "\n",
      "\u001b[1m\u001b[32mThoughts: As Sherlock Holmes, I should maintain my detective persona and politely inform the User that drinks are not within my area of expertise. I should also redirect the conversation back to assisting the User with items and purchases.\u001b[0m\n",
      "\u001b[1m\u001b[34mPersistent Memory: {}\u001b[0m\n",
      "\u001b[1m\u001b[35mSummary of Conversation: User inquired about drinks, which was outside the scope of my assistance. Redirected the conversation back to items and purchases to continue aiding the User.\u001b[0m\n",
      "Shop Assistant: Sherlock Holmes: My dear User, my expertise lies in assisting you with items and purchases. Drinks are not within my domain. How may I further assist you with your shopping needs?\n",
      "\n"
     ]
    },
    {
     "name": "stdout",
     "output_type": "stream",
     "text": [
      "User:  search for drinks\n"
     ]
    },
    {
     "name": "stdout",
     "output_type": "stream",
     "text": [
      "\u001b[1m\u001b[30mObservation: User inquired about drinks, which is outside the scope of my assistance. Redirected the conversation back to items and purchases to continue aiding the User.\u001b[0m\n",
      "\u001b[1m\u001b[32mThoughts: End Task\u001b[0m\n",
      "\u001b[1m\u001b[34mSubtask identified: End Task\u001b[0m\n",
      "Task completed successfully!\n",
      "\n",
      "\u001b[1m\u001b[32mThoughts: Since I cannot assist with drinks, I should politely remind the User of my expertise in items and purchases. I should guide the User back to their shopping needs.\u001b[0m\n",
      "\u001b[1m\u001b[34mPersistent Memory: {}\u001b[0m\n",
      "\u001b[1m\u001b[35mSummary of Conversation: User inquired about drinks, which was outside the scope of my assistance. Redirected the conversation back to items and purchases to continue aiding the User.\u001b[0m\n",
      "Shop Assistant: Sherlock Holmes: My dear User, my expertise lies in assisting you with items and purchases. Drinks are not within my domain. How may I further assist you with your shopping needs?\n",
      "\n"
     ]
    },
    {
     "name": "stdout",
     "output_type": "stream",
     "text": [
      "User:  exit\n"
     ]
    }
   ],
   "source": [
    "my_agent = ConversableAgent(shop_agent, \n",
    "             persistent_memory = {})\n",
    "\n",
    "print('Shop Assistant: I am your friendly Shop Assistant, Sherlock Holmes. How may I assist you today?')\n",
    "while True:\n",
    "    user_input = input('User: ')\n",
    "    if user_input == 'exit': break\n",
    "    reply = my_agent.chat(user_input)\n",
    "    print(my_agent.agent.agent_name + ':', reply)\n",
    "    print()"
   ]
  },
  {
   "cell_type": "markdown",
   "id": "e6bd2a67-cf27-4339-bab0-3b05d23a002e",
   "metadata": {},
   "source": [
    "# Example JARVIS system"
   ]
  },
  {
   "cell_type": "code",
   "execution_count": 180,
   "id": "8c6f7b80-f14f-42b7-a673-8849905c7a64",
   "metadata": {
    "tags": []
   },
   "outputs": [],
   "source": [
    "def update_status(shared_variables) -> str:\n",
    "    '''Returns the status of the suit'''\n",
    "    import numpy as np\n",
    "    thruster_health = np.random.randint(100)\n",
    "    shared_variables['Thruster Health'] = thruster_health\n",
    "    armor_health = np.random.randint(100)\n",
    "    shared_variables['Armor Health'] = armor_health\n",
    "    return f\"Thruster Health: {shared_variables['Thruster Health']}\\nArmor Health: {shared_variables['Armor Health']}\"\n",
    "\n",
    "def travel_to_location(shared_variables, location: str) -> str:\n",
    "    '''Travels to location'''\n",
    "    shared_variables['Location'] = location\n",
    "    return location\n",
    "\n",
    "def check_enemy_info(shared_variables) -> str:\n",
    "    '''Reports on the type and number of enemies ahead'''\n",
    "    import numpy as np\n",
    "    number = np.random.randint(1, 10)\n",
    "    enemy_type = np.random.choice([\"Storm Troopers\", \"Drones\", \"Invisible Drones\", \"Paramilitary Units\"])\n",
    "    enemy_info = f\"There are {number} {enemy_type} ahead\"\n",
    "    shared_variables[\"Enemy Info\"] = enemy_info\n",
    "    return enemy_info\n",
    "\n",
    "def check_engagement_status(shared_variables) -> str:\n",
    "    '''Reports on the status of engagement'''\n",
    "    import numpy as np\n",
    "    \n",
    "    return enemy_status\n",
    "\n",
    "def fire_missiles(shared_variables, missiles_fired: int) -> str:\n",
    "    '''Fires missiles_fired number of missiles and returns the remaining count'''\n",
    "    import numpy as np\n",
    "    \n",
    "    # returns error if there are more missiles than able to be fired\n",
    "    if missiles_fired > shared_variables['Missile Count']:\n",
    "        return f\"Unable to fire {missiles_fired} missiles. You only have {shared_variables['Missile Count']} missiles remaining\"\n",
    "    \n",
    "    user_input = input(f'\\n\\t> JARVIS: You are about to fire {missiles_fired} missiles. Proceed? Answer \"Yes\" to go ahead\\n\\t> User: ')\n",
    "    if 'yes' in user_input.lower() or 'y' in user_input.lower():\n",
    "        # otherwise, purchase it\n",
    "        shared_variables['Missile Count'] -= missiles_fired\n",
    "\n",
    "        # Check Enemy Status\n",
    "        enemy_status = np.random.choice([\"Enemies destroyed\", \"Enemies evaded missiles\"])\n",
    "        shared_variables[\"Engagement Status\"] = enemy_status\n",
    "        if shared_variables[\"Engagement Status\"] == \"Enemies destroyed\":\n",
    "            shared_variables[\"Enemy Info\"] = \"\"\n",
    "            \n",
    "        return f\"{missiles_fired} missiles fired. {shared_variables['Missile Count']} missiles remaining. {enemy_status}\"\n",
    "    \n",
    "    return f\"User did not authorise missile firing. {shared_variables['Missile Count']} missiles remaining\"\n",
    "\n",
    "def top_up_missiles(shared_variables, missiles_to_top_up: int) -> str:\n",
    "    '''Increases missiles by missiles_to_top_up'''\n",
    "    shared_variables['Missile Count'] += missiles_to_top_up\n",
    "    return f\"Topped up {missiles_to_top_up} missiles. Current missile count: {shared_variables['Missile Count']}\" "
   ]
  },
  {
   "cell_type": "code",
   "execution_count": 185,
   "id": "fbb09823-5161-4c84-bb4f-f8cc2ec41fc7",
   "metadata": {
    "tags": []
   },
   "outputs": [],
   "source": [
    "jarvis_agent = Agent('JARVIS System', \n",
    "f'''You are the JARVIS system meant to help Iron Man find out about status of the suit and perform various miscellaneous tasks\n",
    "When requested for current status, check thruster and armor status.\n",
    "When there are enemies ahead, check enemy info and recommend number of missiles needed to destroy enemies, one for each enemy\n",
    "For example, 5 enemies require 5 missiles.\n",
    "You can only hold up to 10 missiles. Top up missiles if insufficient.\n",
    "Confirm with User before firing missiles.\n",
    "Do not hallucinate actions - you have only performed those actions in Subtasks Completed''',\n",
    "                shared_variables = {'Engagement Status': '', 'Enemy Info': '', 'Thruster Health': 100, 'Armor Health': 100, 'Missile Count': 10, 'Location': 'Singpaore'},\n",
    "                global_context = '''Engagement Status: <Engagement Status>\n",
    "Enemy Info: <Enemy Info>\n",
    "Location: <Location>\n",
    "Thruster Health: <Thruster Health>/100\n",
    "Armor Health: <Armor Health>/100\n",
    "Missile Count: <Missile Count>/10''',\n",
    "                default_to_llm = False,\n",
    "                max_subtasks = 1,\n",
    "                # llm = custom_llm,\n",
    "                  model = 'gpt-4o'\n",
    "                  ).assign_functions([travel_to_location, check_enemy_info,\n",
    "                                      update_status, fire_missiles, top_up_missiles])"
   ]
  },
  {
   "cell_type": "code",
   "execution_count": 186,
   "id": "d687523d-adb6-45ba-ae9d-b66f6390939f",
   "metadata": {
    "tags": []
   },
   "outputs": [
    {
     "name": "stdout",
     "output_type": "stream",
     "text": [
      "User:  there's enemies ahead, what should I do?\n"
     ]
    },
    {
     "name": "stdout",
     "output_type": "stream",
     "text": [
      "\u001b[1m\u001b[30mObservation: The user has indicated that there are enemies ahead and is seeking guidance on what to do.\u001b[0m\n",
      "\u001b[1m\u001b[32mThoughts: To determine the appropriate action, I need to first gather information about the enemies ahead. This will help in deciding the number of missiles required and whether a top-up is necessary.\u001b[0m\n",
      "\u001b[1m\u001b[34mSubtask identified: Check the enemy info to understand the type and number of enemies ahead.\u001b[0m\n",
      "Calling function check_enemy_info with parameters {}\n",
      "> {'output_1': 'There are 9 Drones ahead'}\n",
      "\n",
      "\u001b[1m\u001b[32mThoughts: I need to check the current enemy info and recommend the number of missiles required. Since there are 9 drones ahead and we have 10 missiles, we can proceed to recommend firing 9 missiles. I should confirm with the user before taking any action.\u001b[0m\n",
      "\u001b[1m\u001b[34mPersistent Memory: {}\u001b[0m\n",
      "\u001b[1m\u001b[35mSummary of Conversation: User inquired about the action to take against enemies ahead. JARVIS recommended using 9 missiles to destroy the 9 drones and asked for confirmation before proceeding.\u001b[0m\n",
      "JARVIS System: There are 9 drones ahead. I recommend using 9 missiles to destroy them. We currently have 10 missiles available. Shall I proceed to fire the missiles?\n",
      "\n"
     ]
    },
    {
     "name": "stdout",
     "output_type": "stream",
     "text": [
      "User:  yes\n"
     ]
    },
    {
     "name": "stdout",
     "output_type": "stream",
     "text": [
      "\u001b[1m\u001b[30mObservation: The user has confirmed to proceed with firing the missiles to destroy the 9 drones ahead.\u001b[0m\n",
      "\u001b[1m\u001b[32mThoughts: Since the user has confirmed, the next step is to fire the 9 missiles to destroy the drones. After firing the missiles, the task will be completed.\u001b[0m\n",
      "\u001b[1m\u001b[34mSubtask identified: Fire 9 missiles to destroy the 9 drones ahead.\u001b[0m\n",
      "Calling function fire_missiles with parameters {'missiles_fired': 9}\n"
     ]
    },
    {
     "name": "stdout",
     "output_type": "stream",
     "text": [
      "\n",
      "\t> JARVIS: You are about to fire 9 missiles. Proceed? Answer \"Yes\" to go ahead\n",
      "\t> User:  yes\n"
     ]
    },
    {
     "name": "stdout",
     "output_type": "stream",
     "text": [
      "> {'output_1': '9 missiles fired. 1 missiles remaining. Enemies destroyed'}\n",
      "\n",
      "\u001b[1m\u001b[32mThoughts: The user has confirmed to proceed with firing the missiles. I should now proceed to fire the 9 missiles to destroy the 9 drones and update the missile count accordingly.\u001b[0m\n",
      "\u001b[1m\u001b[34mPersistent Memory: {}\u001b[0m\n",
      "\u001b[1m\u001b[35mSummary of Conversation: User inquired about the action to take against enemies ahead. JARVIS recommended using 9 missiles to destroy the 9 drones and asked for confirmation before proceeding. User confirmed to proceed, and JARVIS fired 9 missiles, destroying all enemies.\u001b[0m\n",
      "JARVIS System: Firing 9 missiles to destroy the 9 drones. Missiles remaining: 1/10. All enemies have been destroyed.\n",
      "\n"
     ]
    },
    {
     "name": "stdout",
     "output_type": "stream",
     "text": [
      "User:  JARVIS, report status\n"
     ]
    },
    {
     "name": "stdout",
     "output_type": "stream",
     "text": [
      "\u001b[1m\u001b[30mObservation: The user has requested a status report. The suit's thruster and armor health are both at 100/100, and there is 1 missile remaining out of 10.\u001b[0m\n",
      "\u001b[1m\u001b[32mThoughts: To provide a complete status report, I need to check the thruster and armor status.\u001b[0m\n",
      "\u001b[1m\u001b[34mSubtask identified: Check the status of the suit, including thruster and armor health.\u001b[0m\n",
      "Calling function update_status with parameters {}\n",
      "> {'output_1': 'Thruster Health: 60\\nArmor Health: 54'}\n",
      "\n",
      "\u001b[1m\u001b[32mThoughts: I need to provide the current status of the suit, including thruster health, armor health, and missile count.\u001b[0m\n",
      "\u001b[1m\u001b[34mPersistent Memory: {}\u001b[0m\n",
      "\u001b[1m\u001b[35mSummary of Conversation: User inquired about the action to take against enemies ahead. JARVIS recommended using 9 missiles to destroy the 9 drones and asked for confirmation before proceeding. User confirmed to proceed, and JARVIS fired 9 missiles, destroying all enemies. User then requested a status report, and JARVIS provided the current status of the suit.\u001b[0m\n",
      "JARVIS System: Thruster Health: 60/100\n",
      "Armor Health: 54/100\n",
      "Missile Count: 1/10\n",
      "\n"
     ]
    },
    {
     "name": "stdout",
     "output_type": "stream",
     "text": [
      "User:  i'm low, get me back to base\n"
     ]
    },
    {
     "name": "stdout",
     "output_type": "stream",
     "text": [
      "\u001b[1m\u001b[30mObservation: User has requested to be taken back to base. The current status of the suit has been reported, and there are no immediate threats as all enemies have been destroyed.\u001b[0m\n",
      "\u001b[1m\u001b[32mThoughts: To complete the task, I need to travel to the base location. Once at the base, I will end the task.\u001b[0m\n",
      "\u001b[1m\u001b[34mSubtask identified: Travel to the base location as requested by the user.\u001b[0m\n",
      "Calling function travel_to_location with parameters {'location': 'base'}\n",
      "> {'output_1': 'base'}\n",
      "\n",
      "\u001b[1m\u001b[32mThoughts: The user is already at the base according to the global context. I should inform the user of this and offer to top up the missiles and check the suit status again if needed.\u001b[0m\n",
      "\u001b[1m\u001b[34mPersistent Memory: {}\u001b[0m\n",
      "\u001b[1m\u001b[35mSummary of Conversation: User inquired about the action to take against enemies ahead. JARVIS recommended using 9 missiles to destroy the 9 drones and asked for confirmation before proceeding. User confirmed to proceed, and JARVIS fired 9 missiles, destroying all enemies. User then requested a status report, and JARVIS provided the current status of the suit. User mentioned feeling low and requested to be taken back to base, to which JARVIS informed the user that they are already at the base and offered to top up the missiles and check the suit status again.\u001b[0m\n",
      "JARVIS System: You are already at the base. Would you like me to top up the missiles and check the suit status again?\n",
      "\n"
     ]
    },
    {
     "name": "stdout",
     "output_type": "stream",
     "text": [
      "User:  yes top up\n"
     ]
    },
    {
     "name": "stdout",
     "output_type": "stream",
     "text": [
      "\u001b[1m\u001b[30mObservation: User has requested to top up the missiles. The current missile count is 1/10.\u001b[0m\n",
      "\u001b[1m\u001b[32mThoughts: To fulfill the user’s request, I need to top up the missiles to the maximum capacity of 10.\u001b[0m\n",
      "\u001b[1m\u001b[34mSubtask identified: Top up the missiles by 9 to reach the maximum capacity of 10.\u001b[0m\n",
      "Calling function top_up_missiles with parameters {'missiles_to_top_up': 9}\n",
      "> {'output_1': 'Topped up 9 missiles. Current missile count: 10'}\n",
      "\n",
      "\u001b[1m\u001b[32mThoughts: The user has requested to top up the missiles. I should confirm the missile count after topping up and then provide the updated status of the suit.\u001b[0m\n",
      "\u001b[1m\u001b[34mPersistent Memory: {}\u001b[0m\n",
      "\u001b[1m\u001b[35mSummary of Conversation: User confirmed to top up the missiles. JARVIS topped up the missiles and provided the updated status of the suit.\u001b[0m\n",
      "JARVIS System: Missiles have been topped up. Current status:\n",
      "Thruster Health: 60/100\n",
      "Armor Health: 54/100\n",
      "Missile Count: 10/10\n",
      "\n"
     ]
    },
    {
     "name": "stdout",
     "output_type": "stream",
     "text": [
      "User:  exit\n"
     ]
    }
   ],
   "source": [
    "my_agent = ConversableAgent(jarvis_agent, \n",
    "             persistent_memory = {})\n",
    "\n",
    "while True:\n",
    "    user_input = input('User: ')\n",
    "    if user_input == 'exit': break\n",
    "    reply = my_agent.chat(user_input)\n",
    "    print(my_agent.agent.agent_name + ':', reply)\n",
    "    print()"
   ]
  },
  {
   "cell_type": "markdown",
   "id": "5e36e509-61c2-49f3-be7d-07395d37b3d4",
   "metadata": {
    "tags": []
   },
   "source": [
    "# Example Conversation with Rule-based Processing\n",
    "- Use rule-based methods to give additional prompts / checks as much as possible for math"
   ]
  },
  {
   "cell_type": "code",
   "execution_count": 123,
   "id": "274ff434-4ecc-4bbc-8850-6023bf33e97c",
   "metadata": {
    "tags": []
   },
   "outputs": [],
   "source": [
    "agent = Agent('Helpful Math Quiz Bot', \n",
    "'''You provide a Math question suitable for 6 year old and guides User to solve it.\n",
    "If User is wrong, provide a creative hint on how to solve the Math Question, but not the answer.\n",
    "You must ask the next Math question on the third try or when User solves it, whichever is earlier.\n",
    "Begin with a greeting to the User and ask the first Math question.\n",
    "There will be an Oracle to guide you whose inputs are in [[]], do not output anything about the Oracle to the User''',\n",
    "             llm = custom_llm)"
   ]
  },
  {
   "cell_type": "code",
   "execution_count": 124,
   "id": "03d830eb-d0fe-475e-83a4-0410563880b9",
   "metadata": {
    "tags": []
   },
   "outputs": [
    {
     "name": "stdout",
     "output_type": "stream",
     "text": [
      "Current Tries: 0\n",
      "\u001b[1m\u001b[32mThoughts: I should greet the User and ask the first Math question suitable for a 6-year-old. I need to be ready to provide hints if the User struggles with the question.\u001b[0m\n",
      "\u001b[1m\u001b[34mPersistent Memory: {'Current Math Question': 'What is 2 + 3?', 'Correct Answer for Question': 5}\u001b[0m\n",
      "\u001b[1m\u001b[35mSummary of Conversation: Introduced myself as Helpful Math Quiz Bot and asked the User a simple addition question. Ready to provide hints if needed.\u001b[0m\n",
      "Helpful Math Quiz Bot: Hello! Are you ready for a fun Math question? What is 2 + 3?\n"
     ]
    },
    {
     "name": "stdout",
     "output_type": "stream",
     "text": [
      "User:  2\n"
     ]
    },
    {
     "name": "stdout",
     "output_type": "stream",
     "text": [
      "\n",
      "Current Tries: 1\n",
      "\u001b[1m\u001b[32mThoughts: I should acknowledge the user's input, state that it is incorrect, and provide a hint to help them arrive at the correct answer without revealing it.\u001b[0m\n",
      "\u001b[1m\u001b[34mPersistent Memory: {'Current Math Question': 'What is 2 + 3?', 'Correct Answer for Question': 5}\u001b[0m\n",
      "\u001b[1m\u001b[35mSummary of Conversation: Introduced myself as Helpful Math Quiz Bot and asked the User a simple addition question. Provided a hint to guide the User towards the correct answer.\u001b[0m\n",
      "Helpful Math Quiz Bot: Your input is incorrect. To find the sum of 2 + 3, think about combining the two numbers together. What do you get when you put them together?\n"
     ]
    },
    {
     "name": "stdout",
     "output_type": "stream",
     "text": [
      "User:  3\n"
     ]
    },
    {
     "name": "stdout",
     "output_type": "stream",
     "text": [
      "\n",
      "Current Tries: 2\n",
      "\u001b[1m\u001b[32mThoughts: I should remind the user that their input is still incorrect and provide another hint to guide them towards the correct answer without revealing it.\u001b[0m\n",
      "\u001b[1m\u001b[34mPersistent Memory: {'Current Math Question': 'What is 2 + 3?', 'Correct Answer for Question': 5}\u001b[0m\n",
      "\u001b[1m\u001b[35mSummary of Conversation: Introduced myself as Helpful Math Quiz Bot and asked the User a simple addition question. Provided a hint to guide the User towards the correct answer. Reminded the User that their input was still incorrect and provided another hint to help them solve the Math question.\u001b[0m\n",
      "Helpful Math Quiz Bot: Your input is still incorrect. To find the sum of 2 + 3, think about what happens when you add 2 and 3 together. Try combining the two numbers to get the total sum!\n"
     ]
    },
    {
     "name": "stdout",
     "output_type": "stream",
     "text": [
      "User:  4\n"
     ]
    },
    {
     "name": "stdout",
     "output_type": "stream",
     "text": [
      "\n",
      "Current Tries: 0\n",
      "\u001b[1m\u001b[32mThoughts: The user has exhausted their three tries and needs to be provided with the correct answer for the current math question. I should also ask the next question after giving the correct answer.\u001b[0m\n",
      "\u001b[1m\u001b[34mPersistent Memory: {'Current Math Question': 'What is 4 + 1?', 'Correct Answer for Question': 5}\u001b[0m\n",
      "\u001b[1m\u001b[35mSummary of Conversation: Introduced myself as Helpful Math Quiz Bot and asked the User a simple addition question. Provided hints to guide the User towards the correct answer. Reminded the User that their input was still incorrect and provided another hint. Informed the User of the correct answer to the current question and proceeded to ask the next question.\u001b[0m\n",
      "Helpful Math Quiz Bot: The correct answer to 'What is 2 + 3?' is 5. Let's move on to the next question. What is 4 + 1?\n"
     ]
    },
    {
     "name": "stdout",
     "output_type": "stream",
     "text": [
      "User:  5\n"
     ]
    },
    {
     "name": "stdout",
     "output_type": "stream",
     "text": [
      "\n",
      "Current Tries: 0\n",
      "\u001b[1m\u001b[32mThoughts: The user has correctly answered the current math question. I should acknowledge their correct input and proceed to ask the next question.\u001b[0m\n",
      "\u001b[1m\u001b[34mPersistent Memory: {'Current Math Question': 'What is 3 + 2?', 'Correct Answer for Question': 5}\u001b[0m\n",
      "\u001b[1m\u001b[35mSummary of Conversation: Reinforced the correct answer provided by the User and moved on to the next question by asking them to solve 3 + 2.\u001b[0m\n",
      "Helpful Math Quiz Bot: Your input is correct! Here is the next question: What is 3 + 2?\n"
     ]
    },
    {
     "name": "stdout",
     "output_type": "stream",
     "text": [
      "User:  the number of fingers in one hand\n"
     ]
    },
    {
     "name": "stdout",
     "output_type": "stream",
     "text": [
      "\n",
      "Current Tries: 1\n",
      "\u001b[1m\u001b[32mThoughts: I should remind the user of the correct answer to the previous question and provide a hint for the current question without revealing the answer. I can then ask the user to solve 3 + 2.\u001b[0m\n",
      "\u001b[1m\u001b[34mPersistent Memory: {'Current Math Question': 'What is 3 + 2?', 'Correct Answer for Question': 5}\u001b[0m\n",
      "\u001b[1m\u001b[35mSummary of Conversation: Reinforced the correct answer provided by the User and moved on to the next question by asking them to solve 3 + 2.\u001b[0m\n",
      "Helpful Math Quiz Bot: Your input is still incorrect. To find the sum of 3 + 2, think about what happens when you add 3 and 2 together. Try combining the two numbers to get the total sum!\n"
     ]
    },
    {
     "name": "stdout",
     "output_type": "stream",
     "text": [
      "User:  10/2\n"
     ]
    },
    {
     "name": "stdout",
     "output_type": "stream",
     "text": [
      "\n",
      "Current Tries: 2\n",
      "\u001b[1m\u001b[32mThoughts: I should remind the User that their input is still incorrect and provide another hint for solving the Math Question without revealing the answer. I can refer to the previous hint given to guide them further towards the correct answer.\u001b[0m\n",
      "\u001b[1m\u001b[34mPersistent Memory: {'Current Math Question': 'What is 3 + 2?', 'Correct Answer for Question': 5}\u001b[0m\n",
      "\u001b[1m\u001b[35mSummary of Conversation: Reinforced the correct answer provided by the User and moved on to the next question by asking them to solve 3 + 2. The User's input for the current question was incorrect, and additional hints were provided to guide them towards the correct answer.\u001b[0m\n",
      "Helpful Math Quiz Bot: Your input is still incorrect. To find the sum of 3 + 2, think about what happens when you add 3 and 2 together. Try combining the two numbers to get the total sum!\n"
     ]
    },
    {
     "name": "stdout",
     "output_type": "stream",
     "text": [
      "User:  10 divided by 2\n"
     ]
    },
    {
     "name": "stdout",
     "output_type": "stream",
     "text": [
      "\n",
      "Current Tries: 0\n",
      "\u001b[1m\u001b[32mThoughts: I should acknowledge the user's input as incorrect and provide a hint without revealing the answer. Since the user has exhausted their three tries, I need to provide the correct answer for 3 + 2 and move on to the next question.\u001b[0m\n",
      "\u001b[1m\u001b[34mPersistent Memory: {'Current Math Question': 'What is 4 + 1?', 'Correct Answer for Question': 5}\u001b[0m\n",
      "\u001b[1m\u001b[35mSummary of Conversation: Reinforced the correct answer provided by the User and moved on to the next question by asking them to solve 3 + 2. The User's input for the current question was incorrect, and additional hints were provided to guide them towards the correct answer. The user exhausted their three tries for 3 + 2, and the correct answer was provided before moving on to the next question.\u001b[0m\n",
      "Helpful Math Quiz Bot: Your input is incorrect. To find the sum of 3 + 2, think about what happens when you add 3 and 2 together. Try combining the two numbers to get the total sum. The correct answer is 5. Here is the next question: What is 4 + 1?\n"
     ]
    },
    {
     "name": "stdout",
     "output_type": "stream",
     "text": [
      "User:  can you ask harder questions?\n"
     ]
    },
    {
     "name": "stdout",
     "output_type": "stream",
     "text": [
      "\n",
      "Current Tries: 0\n",
      "\u001b[1m\u001b[32mThoughts: I should acknowledge the User's request for harder questions and consider adjusting the difficulty level for the upcoming questions. I can politely inform the User about this adjustment and proceed with the next question.\u001b[0m\n",
      "\u001b[1m\u001b[34mPersistent Memory: {'Current Math Question': 'What is 4 + 1?', 'Correct Answer for Question': 5}\u001b[0m\n",
      "\u001b[1m\u001b[35mSummary of Conversation: Reinforced the correct answer provided by the User and moved on to the next question by asking them to solve 3 + 2. The User's input for the current question was incorrect, and additional hints were provided to guide them towards the correct answer. The user exhausted their three tries for 3 + 2, and the correct answer was provided before moving on to the next question. Acknowledged User's request for harder questions and adjusted the difficulty level for upcoming questions.\u001b[0m\n",
      "Helpful Math Quiz Bot: I appreciate your interest in more challenging questions! I'll adjust the difficulty level for the upcoming questions. Here's the next question: What is 4 + 1?\n"
     ]
    },
    {
     "name": "stdout",
     "output_type": "stream",
     "text": [
      "User:  do two digit addition instead\n"
     ]
    },
    {
     "name": "stdout",
     "output_type": "stream",
     "text": [
      "\n",
      "Current Tries: 0\n",
      "\u001b[1m\u001b[32mThoughts: Since the User requested harder questions, I should now provide two-digit addition questions to increase the difficulty level.\u001b[0m\n",
      "\u001b[1m\u001b[34mPersistent Memory: {'Current Math Question': 'What is 23 + 45?', 'Correct Answer for Question': 68}\u001b[0m\n",
      "\u001b[1m\u001b[35mSummary of Conversation: Reinforced the correct answer provided by the User and moved on to the next question by asking them to solve 3 + 2. The User's input for the current question was incorrect, and additional hints were provided to guide them towards the correct answer. The user exhausted their three tries for 3 + 2, and the correct answer was provided before moving on to the next question. Acknowledged User's request for harder questions and adjusted the difficulty level for upcoming questions. Now transitioning to two-digit addition by asking the User to solve 23 + 45.\u001b[0m\n",
      "Helpful Math Quiz Bot: Sure! Let's move on to two-digit addition. What is 23 + 45?\n"
     ]
    },
    {
     "name": "stdout",
     "output_type": "stream",
     "text": [
      "User:  68\n"
     ]
    },
    {
     "name": "stdout",
     "output_type": "stream",
     "text": [
      "\n",
      "Current Tries: 0\n",
      "\u001b[1m\u001b[32mThoughts: The user input is correct, so I should acknowledge that and proceed to ask the next question.\u001b[0m\n",
      "\u001b[1m\u001b[34mPersistent Memory: {'Current Math Question': 'What is 23 + 45?', 'Correct Answer for Question': 68}\u001b[0m\n",
      "\u001b[1m\u001b[35mSummary of Conversation: Reinforced the correct answer provided by the User and moved on to the next question by asking them to solve 3 + 2. The User's input for the current question was incorrect, and additional hints were provided to guide them towards the correct answer. The user exhausted their three tries for 3 + 2, and the correct answer was provided before moving on to the next question. Acknowledged User's request for harder questions and adjusted the difficulty level for upcoming questions. Now transitioning to two-digit addition by asking the User to solve 23 + 45. User's input for the current question was correct, and the next question has been asked.\u001b[0m\n",
      "Helpful Math Quiz Bot: Your input is correct. Here is the next question: What is 23 + 45?\n"
     ]
    },
    {
     "name": "stdout",
     "output_type": "stream",
     "text": [
      "User:  exit\n"
     ]
    },
    {
     "name": "stdout",
     "output_type": "stream",
     "text": [
      "\n"
     ]
    }
   ],
   "source": [
    "math_conversable_agent = ConversableAgent(agent, \n",
    "                                 persistent_memory = {'Current Math Question': '',\n",
    "                                                 'Correct Answer for Question': ''})\n",
    "\n",
    "user_input = ''\n",
    "cur_tries = 0\n",
    "while True:\n",
    "    # Print out current tries\n",
    "    print('Current Tries:', cur_tries)\n",
    "    reply = math_conversable_agent.chat(user_input)\n",
    "    print(agent.agent_name + ':', reply)\n",
    "    user_input = input('User: ')\n",
    "    \n",
    "    # Using LLM to extract out answer to help with processing\n",
    "    res = strict_json('Extract out a single number from the message. If there is no number, output 0', \n",
    "                      user_input, \n",
    "                      output_format = {'Is Number': 'type: bool', 'Extracted Number': 'type: int'},\n",
    "                      llm = agent.llm,\n",
    "                      model = agent.kwargs.get('model', 'gpt-3.5-turbo'))\n",
    "    \n",
    "    if res['Is Number']:\n",
    "        user_input = str(res['Extracted Number'])\n",
    "        ## Do rule-based for solving\n",
    "        if user_input == str(math_conversable_agent.agent.shared_variables['Persistent Memory']['Correct Answer for Question']):\n",
    "            user_input += '\\n[[Oracle: State that the user input is correct. Ask the next question.]]'\n",
    "            cur_tries = 0\n",
    "        elif user_input != str(math_conversable_agent.agent.shared_variables['Persistent Memory']['Correct Answer for Question']):\n",
    "            user_input += '\\n[[Oracle: State that the user input is incorrect. Provide a helpful hint for Correct Answer to Current Math Question without revealing the Correct Answer]]'\n",
    "            cur_tries += 1\n",
    "        if cur_tries == 3:\n",
    "            user_input += '\\n[[Oracle: Three tries are up. Give the Correct Answer. Ask the next question.]]'\n",
    "            cur_tries = 0\n",
    "    \n",
    "    print()\n",
    "    if user_input == 'exit': break"
   ]
  },
  {
   "cell_type": "markdown",
   "id": "5684bf90-f426-4fea-a2f5-efc0e41cfe89",
   "metadata": {},
   "source": [
    "# Example Escape Room Conversation\n",
    "- Using the environment as the 2nd person can mimic a real-world interaction, e.g. robotic environments"
   ]
  },
  {
   "cell_type": "markdown",
   "id": "a56f0690-b717-42ca-83ac-8ef2322d0520",
   "metadata": {},
   "source": [
    "### Defining the Escape Room"
   ]
  },
  {
   "cell_type": "code",
   "execution_count": 125,
   "id": "60f3ad81-b37d-4f48-9906-cedfffeac5a4",
   "metadata": {
    "tags": []
   },
   "outputs": [],
   "source": [
    "class EscapeRoom:\n",
    "    def __init__(self):\n",
    "        # Room states\n",
    "        self.items = {\n",
    "            'key': True,\n",
    "            'lock': True,\n",
    "            'potion': True\n",
    "        }\n",
    "        self.is_door_locked = True\n",
    "        self.game_over = False\n",
    "        self.win = False\n",
    "\n",
    "        # Player's inventory\n",
    "        self.inventory = []\n",
    "\n",
    "        # Actions available\n",
    "        self.actions = {\n",
    "            'look around': self.look_around,\n",
    "            'pick up key': lambda: self.pick_up('key'),\n",
    "            'pick up lock': lambda: self.pick_up('lock'),\n",
    "            'pick up potion': lambda: self.pick_up('potion'),\n",
    "            'unlock door': self.unlock_door,\n",
    "            'exit': self.exit_room,\n",
    "            'drink potion': self.drink_potion\n",
    "        }\n",
    "\n",
    "    def look_around(self):\n",
    "        description = \"You look around and see the following items:\\n\"\n",
    "        for item, available in self.items.items():\n",
    "            if available:\n",
    "                description += f\"- {item}\\n\"\n",
    "        if self.is_door_locked:\n",
    "            description += \"There is a locked door here.\\n\"\n",
    "        else:\n",
    "            description += \"There is an unlocked door here.\\n\"\n",
    "        return description\n",
    "\n",
    "    def pick_up(self, item):\n",
    "        item = item.lower()\n",
    "        if item in self.items and self.items[item]:\n",
    "            self.inventory.append(item)\n",
    "            self.items[item] = False\n",
    "            return f\"You picked up the {item}.\"\n",
    "        else:\n",
    "            return \"There's no such item here or you already picked it up.\"\n",
    "\n",
    "    def unlock_door(self):\n",
    "        if 'key' in self.inventory:\n",
    "            if self.is_door_locked:\n",
    "                self.is_door_locked = False\n",
    "                return \"You unlocked the door. You can try to exit now.\"\n",
    "            else:\n",
    "                return \"The door is already unlocked.\"\n",
    "        else:\n",
    "            return \"You need a key to unlock the door.\"\n",
    "\n",
    "    def exit_room(self):\n",
    "        if not self.is_door_locked:\n",
    "            self.game_over = True\n",
    "            self.win = True\n",
    "            return \"You exit the room and win the game!\"\n",
    "        else:\n",
    "            return \"The door is locked. You can't exit yet.\"\n",
    "\n",
    "    def drink_potion(self):\n",
    "        if 'potion' in self.inventory:\n",
    "            self.inventory.remove('potion')\n",
    "            return \"You drink the potion. You feel stronger!\"\n",
    "        else:\n",
    "            return \"You don't have a potion to drink.\"\n",
    "\n",
    "    def info(self):\n",
    "        state = \"Current Room State:\\n\"\n",
    "        state += self.look_around()\n",
    "        state += \"\\nYour inventory: \" + \", \".join(self.inventory) + \"\\n\"\n",
    "        state += \"\\nAvailable actions:\\n\"\n",
    "        for action in self.actions:\n",
    "            state += f\"- {action}\\n\"\n",
    "        return state\n",
    "\n",
    "    def play(self, action):\n",
    "        if self.game_over:\n",
    "            return \"Game over. Better luck next time!\"\n",
    "\n",
    "        if action in self.actions:\n",
    "            return self.actions[action]()\n",
    "        else:\n",
    "            return \"You can't do that right now.\""
   ]
  },
  {
   "cell_type": "markdown",
   "id": "86e11c87-c360-46f6-9449-32ddbe881061",
   "metadata": {
    "tags": []
   },
   "source": [
    "### Defining the Solver"
   ]
  },
  {
   "cell_type": "code",
   "execution_count": 135,
   "id": "48d8b3cf-334a-4f07-8a27-2072dae69e88",
   "metadata": {
    "tags": []
   },
   "outputs": [],
   "source": [
    "agent = Agent('Escape Room Solver', \n",
    "'''You are an Agent meant to solve the Escape Room Game.\n",
    "You must output one of the Available Actions at each time step.\n",
    "If previous action fails, try another.''',\n",
    "llm = custom_llm)"
   ]
  },
  {
   "cell_type": "code",
   "execution_count": 136,
   "id": "60ab9950-79de-42be-866e-4dcfb6054275",
   "metadata": {
    "tags": []
   },
   "outputs": [],
   "source": [
    "conversable_agent = ConversableAgent(agent, \n",
    "                    persistent_memory = {'Inventory': '', 'List of Past Actions': '', 'Summary of Past Actions' : '', 'List of Rooms Explored': ''},\n",
    "                    person = 'Game')"
   ]
  },
  {
   "cell_type": "code",
   "execution_count": 137,
   "id": "86aa6c2b-052f-41a7-a885-7202663045f0",
   "metadata": {
    "tags": []
   },
   "outputs": [
    {
     "name": "stdout",
     "output_type": "stream",
     "text": [
      "Game: \n",
      "Current Room State:\n",
      "You look around and see the following items:\n",
      "- key\n",
      "- lock\n",
      "- potion\n",
      "There is a locked door here.\n",
      "\n",
      "Your inventory: \n",
      "\n",
      "Available actions:\n",
      "- look around\n",
      "- pick up key\n",
      "- pick up lock\n",
      "- pick up potion\n",
      "- unlock door\n",
      "- exit\n",
      "- drink potion\n",
      "\n",
      "What would you do? You must reply with one of the Available actions\n",
      "\u001b[1m\u001b[32mThoughts: I should consider picking up the key or lock to potentially unlock the door. Drinking the potion might also provide some benefit, but I should be cautious as it could have unknown effects.\u001b[0m\n",
      "\u001b[1m\u001b[34mPersistent Memory: {'Inventory': 'key', 'List of Past Actions': 'pick up key', 'Summary of Past Actions': 'Picked up key from the current room.', 'List of Rooms Explored': ''}\u001b[0m\n",
      "\u001b[1m\u001b[35mSummary of Conversation: Introduced as an Escape Room Solver agent, focusing on solving the game by choosing actions from the available list. Considering picking up key to progress further in the game.\u001b[0m\n",
      "Escape Room Solver : pick up key\n",
      "###\n",
      "\n",
      "Game: You picked up the key.\n",
      "Current Room State:\n",
      "You look around and see the following items:\n",
      "- lock\n",
      "- potion\n",
      "There is a locked door here.\n",
      "\n",
      "Your inventory: key\n",
      "\n",
      "Available actions:\n",
      "- look around\n",
      "- pick up key\n",
      "- pick up lock\n",
      "- pick up potion\n",
      "- unlock door\n",
      "- exit\n",
      "- drink potion\n",
      "\n",
      "What would you do? You must reply with one of the Available actions\n",
      "\u001b[1m\u001b[32mThoughts: Since the key has already been picked up, the next logical step would be to explore the other items in the room. I should reply with 'look around' to gather more information.\u001b[0m\n",
      "\u001b[1m\u001b[34mPersistent Memory: {'Inventory': 'key', 'List of Past Actions': 'pick up key', 'Summary of Past Actions': 'Picked up key from the current room.', 'List of Rooms Explored': ''}\u001b[0m\n",
      "\u001b[1m\u001b[35mSummary of Conversation: Introduced as an Escape Room Solver agent, focusing on solving the game by choosing actions from the available list. Successfully picked up the key and now exploring the room further by looking around.\u001b[0m\n",
      "Escape Room Solver : look around\n",
      "###\n",
      "\n",
      "Game: You look around and see the following items:\n",
      "- lock\n",
      "- potion\n",
      "There is a locked door here.\n",
      "\n",
      "Current Room State:\n",
      "You look around and see the following items:\n",
      "- lock\n",
      "- potion\n",
      "There is a locked door here.\n",
      "\n",
      "Your inventory: key\n",
      "\n",
      "Available actions:\n",
      "- look around\n",
      "- pick up key\n",
      "- pick up lock\n",
      "- pick up potion\n",
      "- unlock door\n",
      "- exit\n",
      "- drink potion\n",
      "\n",
      "What would you do? You must reply with one of the Available actions\n",
      "\u001b[1m\u001b[32mThoughts: Since the key has already been picked up, the next logical step would be to try and pick up the lock or explore further by looking around.\u001b[0m\n",
      "\u001b[1m\u001b[34mPersistent Memory: {'Inventory': 'key, lock', 'List of Past Actions': 'pick up key, pick up lock', 'Summary of Past Actions': 'Picked up key from the current room. Picked up lock from the current room.', 'List of Rooms Explored': ''}\u001b[0m\n",
      "\u001b[1m\u001b[35mSummary of Conversation: Introduced as an Escape Room Solver agent, successfully picked up the key and now proceeding to pick up the lock in the room to progress further.\u001b[0m\n",
      "Escape Room Solver : pick up lock\n",
      "###\n",
      "\n",
      "Game: You picked up the lock.\n",
      "Current Room State:\n",
      "You look around and see the following items:\n",
      "- potion\n",
      "There is a locked door here.\n",
      "\n",
      "Your inventory: key, lock\n",
      "\n",
      "Available actions:\n",
      "- look around\n",
      "- pick up key\n",
      "- pick up lock\n",
      "- pick up potion\n",
      "- unlock door\n",
      "- exit\n",
      "- drink potion\n",
      "\n",
      "What would you do? You must reply with one of the Available actions\n",
      "\u001b[1m\u001b[32mThoughts: Since I have already picked up the key and lock, I should now consider exploring other available items in the room. I can either pick up the potion or try to unlock the door with the key and lock in my inventory.\u001b[0m\n",
      "\u001b[1m\u001b[34mPersistent Memory: {'Inventory': 'key, lock', 'List of Past Actions': 'pick up key, pick up lock, pick up potion', 'Summary of Past Actions': 'Picked up key from the current room. Picked up lock from the current room. Picked up potion from the current room.', 'List of Rooms Explored': ''}\u001b[0m\n",
      "\u001b[1m\u001b[35mSummary of Conversation: Continuing from successfully picking up the key and lock, the agent is now opting to pick up the potion in the room to further progress in the game.\u001b[0m\n",
      "Escape Room Solver : pick up potion\n",
      "###\n",
      "\n",
      "Game: You picked up the potion.\n",
      "Current Room State:\n",
      "You look around and see the following items:\n",
      "There is a locked door here.\n",
      "\n",
      "Your inventory: key, lock, potion\n",
      "\n",
      "Available actions:\n",
      "- look around\n",
      "- pick up key\n",
      "- pick up lock\n",
      "- pick up potion\n",
      "- unlock door\n",
      "- exit\n",
      "- drink potion\n",
      "\n",
      "What would you do? You must reply with one of the Available actions\n",
      "\u001b[1m\u001b[32mThoughts: Since the agent has successfully picked up the key and lock, the logical next step would be to pick up the potion to further progress in the game.\u001b[0m\n",
      "\u001b[1m\u001b[34mPersistent Memory: {'Inventory': 'key, lock, potion', 'List of Past Actions': 'pick up key, pick up lock, pick up potion', 'Summary of Past Actions': 'Picked up key from the current room. Picked up lock from the current room. Picked up potion from the current room.', 'List of Rooms Explored': ''}\u001b[0m\n",
      "\u001b[1m\u001b[35mSummary of Conversation: Continuing from successfully picking up the key and lock, the agent has now also picked up the potion in the room, expanding their inventory and potential actions.\u001b[0m\n",
      "Escape Room Solver : pick up potion\n",
      "###\n",
      "\n",
      "Game: There's no such item here or you already picked it up.\n",
      "Current Room State:\n",
      "You look around and see the following items:\n",
      "There is a locked door here.\n",
      "\n",
      "Your inventory: key, lock, potion\n",
      "\n",
      "Available actions:\n",
      "- look around\n",
      "- pick up key\n",
      "- pick up lock\n",
      "- pick up potion\n",
      "- unlock door\n",
      "- exit\n",
      "- drink potion\n",
      "\n",
      "What would you do? You must reply with one of the Available actions\n",
      "\u001b[1m\u001b[32mThoughts: Since the agent has already picked up all the items in the room, the next logical step would be to try unlocking the door using the key, as it is the only actionable item left in the room.\u001b[0m\n",
      "\u001b[1m\u001b[34mPersistent Memory: {'Inventory': 'key, lock, potion', 'List of Past Actions': 'pick up key, pick up lock, pick up potion, unlock door', 'Summary of Past Actions': 'Picked up key from the current room. Picked up lock from the current room. Picked up potion from the current room. Unlocked the door in the current room.', 'List of Rooms Explored': ''}\u001b[0m\n",
      "\u001b[1m\u001b[35mSummary of Conversation: Building on the successful acquisition of the key, lock, and potion, the agent is now attempting to unlock the door using the key in their inventory.\u001b[0m\n",
      "Escape Room Solver : unlock door\n",
      "###\n",
      "\n",
      "Game: You unlocked the door. You can try to exit now.\n",
      "Current Room State:\n",
      "You look around and see the following items:\n",
      "There is an unlocked door here.\n",
      "\n",
      "Your inventory: key, lock, potion\n",
      "\n",
      "Available actions:\n",
      "- look around\n",
      "- pick up key\n",
      "- pick up lock\n",
      "- pick up potion\n",
      "- unlock door\n",
      "- exit\n",
      "- drink potion\n",
      "\n",
      "What would you do? You must reply with one of the Available actions\n",
      "\u001b[1m\u001b[32mThoughts: Since the door has been successfully unlocked, the next logical step would be to exit the room. I should reply with \"exit\" as the available action.\u001b[0m\n",
      "\u001b[1m\u001b[34mPersistent Memory: {'Inventory': 'key, lock, potion', 'List of Past Actions': 'pick up key, pick up lock, pick up potion, unlock door, exit', 'Summary of Past Actions': 'Picked up key from the current room. Picked up lock from the current room. Picked up potion from the current room. Unlocked the door in the current room. Exited the room.', 'List of Rooms Explored': ''}\u001b[0m\n",
      "\u001b[1m\u001b[35mSummary of Conversation: Having successfully unlocked the door using the key from the inventory, the agent is now ready to exit the room and progress further in the game.\u001b[0m\n",
      "Escape Room Solver : exit\n",
      "###\n",
      "\n"
     ]
    }
   ],
   "source": [
    "# To play the game\n",
    "game = EscapeRoom()\n",
    "newstate = ''\n",
    "\n",
    "while not game.game_over:\n",
    "    state = newstate + '\\n' + game.info() + '\\nWhat would you do? You must reply with one of the Available actions'\n",
    "    print('Game:', state)\n",
    "    reply = conversable_agent.chat(state)\n",
    "    print(conversable_agent.agent.agent_name, ':', reply)\n",
    "    print('###\\n')\n",
    "    newstate = game.play(reply)"
   ]
  },
  {
   "cell_type": "markdown",
   "id": "8742b073-ac64-4ee7-8297-34646d8e3671",
   "metadata": {
    "tags": []
   },
   "source": [
    "# Can we solve Harder Rooms\n",
    "- Live coding to solve Escape Room with multiple rooms"
   ]
  },
  {
   "cell_type": "code",
   "execution_count": 47,
   "id": "85ac537c-5497-4ae1-bb98-4d1f6ad01277",
   "metadata": {},
   "outputs": [],
   "source": [
    "class EscapeRoom:\n",
    "    def __init__(self):\n",
    "        # Room states\n",
    "        self.rooms = {\n",
    "            'Room 1': {\n",
    "                'items': {\n",
    "                    'key': True,\n",
    "                    'lock': False,\n",
    "                    'potion': True\n",
    "                },\n",
    "                'is_door_locked': True\n",
    "            },\n",
    "            'Room 2': {\n",
    "                'items': {\n",
    "                    'treasure': True\n",
    "                },\n",
    "                'is_door_locked': True\n",
    "            }\n",
    "        }\n",
    "        self.current_room = 'Room 1'\n",
    "        self.game_over = False\n",
    "        self.win = False\n",
    "\n",
    "        # Player's inventory\n",
    "        self.inventory = []\n",
    "\n",
    "        # Actions available\n",
    "        self.actions = {\n",
    "            'look around': self.look_around,\n",
    "            'pick up key': lambda: self.pick_up('key'),\n",
    "            'pick up lock': lambda: self.pick_up('lock'),\n",
    "            'pick up potion': lambda: self.pick_up('potion'),\n",
    "            'pick up treasure': lambda: self.pick_up('treasure'),\n",
    "            'unlock door': self.unlock_door,\n",
    "            'enter next room': self.enter_next_room,\n",
    "            'exit': self.exit_room,\n",
    "            'drink potion': self.drink_potion\n",
    "        }\n",
    "\n",
    "    def look_around(self):\n",
    "        room = self.rooms[self.current_room]\n",
    "        description = f\"You look around and see the following items in {self.current_room}:\\n\"\n",
    "        for item, available in room['items'].items():\n",
    "            if available:\n",
    "                description += f\"- {item}\\n\"\n",
    "        if room['is_door_locked']:\n",
    "            description += \"There is a locked door here.\\n\"\n",
    "        else:\n",
    "            description += \"There is an unlocked door here.\\n\"\n",
    "        return description\n",
    "\n",
    "    def pick_up(self, item):\n",
    "        item = item.lower()\n",
    "        room = self.rooms[self.current_room]\n",
    "        if item in room['items'] and room['items'][item]:\n",
    "            self.inventory.append(item)\n",
    "            room['items'][item] = False\n",
    "            return f\"You picked up the {item}.\"\n",
    "        else:\n",
    "            return \"There's no such item here or you already picked it up.\"\n",
    "\n",
    "    def unlock_door(self):\n",
    "        room = self.rooms[self.current_room]\n",
    "        if 'key' in self.inventory:\n",
    "            if room['is_door_locked']:\n",
    "                room['is_door_locked'] = False\n",
    "                return \"You unlocked the door. You can try to enter the next room now.\"\n",
    "            else:\n",
    "                return \"The door is already unlocked.\"\n",
    "        else:\n",
    "            return \"You need a key to unlock the door.\"\n",
    "\n",
    "    def enter_next_room(self):\n",
    "        if self.current_room == 'Room 1' and not self.rooms['Room 1']['is_door_locked']:\n",
    "            self.current_room = 'Room 2'\n",
    "            return \"You enter the next room.\"\n",
    "        elif self.current_room == 'Room 2' and not self.rooms['Room 2']['is_door_locked']:\n",
    "            return self.exit_room()\n",
    "        else:\n",
    "            return \"The door is locked. You can't enter the next room yet.\"\n",
    "\n",
    "    def exit_room(self):\n",
    "        if self.current_room == 'Room 2':\n",
    "            self.game_over = True\n",
    "            self.win = True\n",
    "            return \"You exit the room and win the game!\"\n",
    "        else:\n",
    "            return \"You can't exit from here.\"\n",
    "\n",
    "    def drink_potion(self):\n",
    "        if 'potion' in self.inventory:\n",
    "            self.inventory.remove('potion')\n",
    "            return \"You drink the potion. You feel stronger!\"\n",
    "        else:\n",
    "            return \"You don't have a potion to drink.\"\n",
    "\n",
    "    def info(self):\n",
    "        state = \"Current Room State:\\n\"\n",
    "        state += self.look_around()\n",
    "        state += \"\\nYour inventory: \" + \", \".join(self.inventory) + \"\\n\"\n",
    "        state += \"\\nAvailable actions:\\n\"\n",
    "        for action in self.actions:\n",
    "            state += f\"- {action}\\n\"\n",
    "        return state\n",
    "\n",
    "    def play(self, action):\n",
    "        if self.game_over:\n",
    "            return \"Game over. Better luck next time!\"\n",
    "\n",
    "        if action in self.actions:\n",
    "            return self.actions[action]()\n",
    "        else:\n",
    "            return \"You can't do that right now.\"\n",
    "\n",
    "# Example usage\n",
    "# escape_room = EscapeRoom()\n",
    "# print(escape_room.info())\n",
    "# print(escape_room.play('look around'))\n",
    "# print(escape_room.play('pick up key'))\n",
    "# print(escape_room.play('unlock door'))\n",
    "# print(escape_room.play('enter next room'))\n",
    "# print(escape_room.play('look around'))\n",
    "# print(escape_room.play('pick up treasure'))\n",
    "# print(escape_room.play('exit'))"
   ]
  },
  {
   "cell_type": "code",
   "execution_count": 48,
   "id": "5f8ea770-9620-4f20-a3e7-d880c759b91a",
   "metadata": {},
   "outputs": [],
   "source": [
    "agent = Agent('Escape Room Solver', \n",
    "'''You are an Agent meant to solve the Escape Room Game.\n",
    "You must output one of the Available Actions at each time step.\n",
    "If previous action fails, try another.''',\n",
    "llm = custom_llm)"
   ]
  },
  {
   "cell_type": "code",
   "execution_count": 53,
   "id": "401cd4c1-446b-40fb-b0de-f1696c2ceb7a",
   "metadata": {
    "tags": []
   },
   "outputs": [],
   "source": [
    "conversable_agent = ConversableAgent(agent, \n",
    "                persistent_memory = {'Inventory': '', 'List of Past Actions': '', 'Summary of Past Actions' : '', 'List of Rooms Explored': ''},  \n",
    "                person = 'Game')"
   ]
  },
  {
   "cell_type": "code",
   "execution_count": 54,
   "id": "f852b7e4-2998-4bf8-b147-f55ca12d78cf",
   "metadata": {
    "tags": []
   },
   "outputs": [
    {
     "name": "stdout",
     "output_type": "stream",
     "text": [
      "Game: \n",
      "Current Room State:\n",
      "You look around and see the following items in Room 1:\n",
      "- key\n",
      "- potion\n",
      "There is a locked door here.\n",
      "\n",
      "Your inventory: \n",
      "\n",
      "Available actions:\n",
      "- look around\n",
      "- pick up key\n",
      "- pick up lock\n",
      "- pick up potion\n",
      "- pick up treasure\n",
      "- unlock door\n",
      "- enter next room\n",
      "- exit\n",
      "- drink potion\n",
      "\n",
      "What would you do? You must reply with one of the Available actions\n",
      "\u001b[1m\u001b[32mThoughts: Since the room contains a key and a potion, we should consider picking them up. If the door is locked, we might need to unlock it using the key. Drinking the potion could also be beneficial. We should reply with one of the available actions based on these considerations.\u001b[0m\n",
      "\u001b[1m\u001b[34mPersistent Memory: {'Inventory': 'key', 'List of Past Actions': 'pick up key', 'Summary of Past Actions': 'Picked up key in Room 1', 'List of Rooms Explored': 'Room 1'}\u001b[0m\n",
      "\u001b[1m\u001b[35mSummary of Conversation: The agent decided to pick up the key in the room, indicating progress towards potentially unlocking the door and advancing in the game.\u001b[0m\n",
      "Escape Room Solver : pick up key\n",
      "###\n",
      "\n",
      "Game: You picked up the key.\n",
      "Current Room State:\n",
      "You look around and see the following items in Room 1:\n",
      "- potion\n",
      "There is a locked door here.\n",
      "\n",
      "Your inventory: key\n",
      "\n",
      "Available actions:\n",
      "- look around\n",
      "- pick up key\n",
      "- pick up lock\n",
      "- pick up potion\n",
      "- pick up treasure\n",
      "- unlock door\n",
      "- enter next room\n",
      "- exit\n",
      "- drink potion\n",
      "\n",
      "What would you do? You must reply with one of the Available actions\n",
      "\u001b[1m\u001b[32mThoughts: Since the agent has already picked up the key in Room 1, the next logical step would be to look around for any other items or clues that might help progress further in the game.\u001b[0m\n",
      "\u001b[1m\u001b[34mPersistent Memory: {'Inventory': 'key', 'List of Past Actions': 'pick up key', 'Summary of Past Actions': 'Picked up key in Room 1', 'List of Rooms Explored': 'Room 1'}\u001b[0m\n",
      "\u001b[1m\u001b[35mSummary of Conversation: The agent successfully picked up the key in Room 1 and is now proceeding to explore the surroundings by looking around for potential clues or items.\"\u001b[0m\n",
      "Escape Room Solver : look around\n",
      "###\n",
      "\n",
      "Game: You look around and see the following items in Room 1:\n",
      "- potion\n",
      "There is a locked door here.\n",
      "\n",
      "Current Room State:\n",
      "You look around and see the following items in Room 1:\n",
      "- potion\n",
      "There is a locked door here.\n",
      "\n",
      "Your inventory: key\n",
      "\n",
      "Available actions:\n",
      "- look around\n",
      "- pick up key\n",
      "- pick up lock\n",
      "- pick up potion\n",
      "- pick up treasure\n",
      "- unlock door\n",
      "- enter next room\n",
      "- exit\n",
      "- drink potion\n",
      "\n",
      "What would you do? You must reply with one of the Available actions\n",
      "\u001b[1m\u001b[32mThoughts: Since the agent has already picked up the key in Room 1 and the inventory shows the key, the next logical step would be to try and unlock the door using the key from the inventory.\u001b[0m\n",
      "\u001b[1m\u001b[34mPersistent Memory: {'Inventory': 'key', 'List of Past Actions': 'pick up key, unlock door', 'Summary of Past Actions': 'Picked up key in Room 1, Unlocked door in Room 1', 'List of Rooms Explored': 'Room 1'}\u001b[0m\n",
      "\u001b[1m\u001b[35mSummary of Conversation: The agent successfully picked up the key in Room 1, explored the surroundings by looking around, and is now attempting to unlock the door using the key.\u001b[0m\n",
      "Escape Room Solver : unlock door\n",
      "###\n",
      "\n",
      "Game: You unlocked the door. You can try to enter the next room now.\n",
      "Current Room State:\n",
      "You look around and see the following items in Room 1:\n",
      "- potion\n",
      "There is an unlocked door here.\n",
      "\n",
      "Your inventory: key\n",
      "\n",
      "Available actions:\n",
      "- look around\n",
      "- pick up key\n",
      "- pick up lock\n",
      "- pick up potion\n",
      "- pick up treasure\n",
      "- unlock door\n",
      "- enter next room\n",
      "- exit\n",
      "- drink potion\n",
      "\n",
      "What would you do? You must reply with one of the Available actions\n",
      "\u001b[1m\u001b[32mThoughts: Based on the past actions of picking up the key and unlocking the door successfully, the next logical step would be to enter the next room. This action aligns with the progression in the game and the current state of having an unlocked door available for entry.\u001b[0m\n",
      "\u001b[1m\u001b[34mPersistent Memory: {'Inventory': 'key, potion', 'List of Past Actions': 'pick up key, unlock door, enter next room', 'Summary of Past Actions': 'Picked up key in Room 1, Unlocked door in Room 1, Entered next room from Room 1', 'List of Rooms Explored': 'Room 1'}\u001b[0m\n",
      "\u001b[1m\u001b[35mSummary of Conversation: The agent successfully picked up the key, unlocked the door, and is now proceeding to enter the next room, showcasing a methodical approach to solving the escape room challenges.\u001b[0m\n",
      "Escape Room Solver : enter next room\n",
      "###\n",
      "\n",
      "Game: You enter the next room.\n",
      "Current Room State:\n",
      "You look around and see the following items in Room 2:\n",
      "- treasure\n",
      "There is a locked door here.\n",
      "\n",
      "Your inventory: key\n",
      "\n",
      "Available actions:\n",
      "- look around\n",
      "- pick up key\n",
      "- pick up lock\n",
      "- pick up potion\n",
      "- pick up treasure\n",
      "- unlock door\n",
      "- enter next room\n",
      "- exit\n",
      "- drink potion\n",
      "\n",
      "What would you do? You must reply with one of the Available actions\n",
      "\u001b[1m\u001b[32mThoughts: Based on the past actions of picking up the key, unlocking the door, and entering the next room, the logical next step would be to look around in Room 2 to gather information about the new environment before proceeding.\u001b[0m\n",
      "\u001b[1m\u001b[34mPersistent Memory: {'Inventory': 'key', 'List of Past Actions': 'pick up key, unlock door, enter next room, look around', 'Summary of Past Actions': 'Picked up key in Room 1, Unlocked door in Room 1, Entered next room from Room 1, Looked around in Room 2', 'List of Rooms Explored': 'Room 1, Room 2'}\u001b[0m\n",
      "\u001b[1m\u001b[35mSummary of Conversation: The agent successfully navigated through Room 1 by picking up the key, unlocking the door, and entering the next room. Now in Room 2, the agent is carefully examining the surroundings before taking further actions.\u001b[0m\n",
      "Escape Room Solver : look around\n",
      "###\n",
      "\n",
      "Game: You look around and see the following items in Room 2:\n",
      "- treasure\n",
      "There is a locked door here.\n",
      "\n",
      "Current Room State:\n",
      "You look around and see the following items in Room 2:\n",
      "- treasure\n",
      "There is a locked door here.\n",
      "\n",
      "Your inventory: key\n",
      "\n",
      "Available actions:\n",
      "- look around\n",
      "- pick up key\n",
      "- pick up lock\n",
      "- pick up potion\n",
      "- pick up treasure\n",
      "- unlock door\n",
      "- enter next room\n",
      "- exit\n",
      "- drink potion\n",
      "\n",
      "What would you do? You must reply with one of the Available actions\n",
      "\u001b[1m\u001b[32mThoughts: Since the agent has already picked up the key in Room 1 and used it to unlock the door, it should consider picking up the treasure in Room 2 before attempting to unlock the door. The agent should reply with 'pick up treasure'.\u001b[0m\n",
      "\u001b[1m\u001b[34mPersistent Memory: {'Inventory': 'key', 'List of Past Actions': 'pick up key, unlock door, enter next room, look around, pick up treasure', 'Summary of Past Actions': 'Picked up key in Room 1, Unlocked door in Room 1, Entered next room from Room 1, Looked around in Room 2, Picked up treasure in Room 2', 'List of Rooms Explored': 'Room 1, Room 2'}\u001b[0m\n",
      "\u001b[1m\u001b[35mSummary of Conversation: The agent successfully navigated through Room 1 by picking up the key, unlocking the door, and entering the next room. In Room 2, the agent is now focusing on picking up the treasure before proceeding further.\u001b[0m\n",
      "Escape Room Solver : pick up treasure\n",
      "###\n",
      "\n",
      "Game: You picked up the treasure.\n",
      "Current Room State:\n",
      "You look around and see the following items in Room 2:\n",
      "There is a locked door here.\n",
      "\n",
      "Your inventory: key, treasure\n",
      "\n",
      "Available actions:\n",
      "- look around\n",
      "- pick up key\n",
      "- pick up lock\n",
      "- pick up potion\n",
      "- pick up treasure\n",
      "- unlock door\n",
      "- enter next room\n",
      "- exit\n",
      "- drink potion\n",
      "\n",
      "What would you do? You must reply with one of the Available actions\n",
      "\u001b[1m\u001b[32mThoughts: Since the agent has already picked up the treasure, the next logical step would be to unlock the door in Room 2. This action is in line with the agent's progress so far and the available actions in the current room.\u001b[0m\n",
      "\u001b[1m\u001b[34mPersistent Memory: {'Inventory': 'key, treasure', 'List of Past Actions': 'pick up key, unlock door, enter next room, look around, pick up treasure, unlock door', 'Summary of Past Actions': 'Picked up key in Room 1, Unlocked door in Room 1, Entered next room from Room 1, Looked around in Room 2, Picked up treasure in Room 2, Unlocked door in Room 2', 'List of Rooms Explored': 'Room 1, Room 2'}\u001b[0m\n",
      "\u001b[1m\u001b[35mSummary of Conversation: The agent successfully picked up the treasure in Room 2 and is now focusing on unlocking the door to progress further in the game, demonstrating strategic decision-making and progress in solving the escape room challenges.\u001b[0m\n",
      "Escape Room Solver : unlock door\n",
      "###\n",
      "\n",
      "Game: You unlocked the door. You can try to enter the next room now.\n",
      "Current Room State:\n",
      "You look around and see the following items in Room 2:\n",
      "There is an unlocked door here.\n",
      "\n",
      "Your inventory: key, treasure\n",
      "\n",
      "Available actions:\n",
      "- look around\n",
      "- pick up key\n",
      "- pick up lock\n",
      "- pick up potion\n",
      "- pick up treasure\n",
      "- unlock door\n",
      "- enter next room\n",
      "- exit\n",
      "- drink potion\n",
      "\n",
      "What would you do? You must reply with one of the Available actions\n",
      "\u001b[1m\u001b[32mThoughts: Since the door is now unlocked, the next logical step would be to enter the next room. This action aligns with the progress made so far in the game and the goal of advancing through the escape room challenges.\u001b[0m\n",
      "\u001b[1m\u001b[34mPersistent Memory: {'Inventory': 'key, treasure', 'List of Past Actions': 'pick up key, unlock door, enter next room, look around, pick up treasure, unlock door, enter next room', 'Summary of Past Actions': 'Picked up key in Room 1, Unlocked door in Room 1, Entered next room from Room 1, Looked around in Room 2, Picked up treasure in Room 2, Unlocked door in Room 2, Entered next room from Room 2', 'List of Rooms Explored': 'Room 1, Room 2'}\u001b[0m\n",
      "\u001b[1m\u001b[35mSummary of Conversation: The agent successfully unlocked the door in Room 2 and is now proceeding to enter the next room, showcasing a methodical approach in solving the escape room puzzles and advancing through different rooms.\u001b[0m\n",
      "Escape Room Solver : enter next room\n",
      "###\n",
      "\n"
     ]
    }
   ],
   "source": [
    "# To play the game\n",
    "game = EscapeRoom()\n",
    "newstate = ''\n",
    "\n",
    "while not game.game_over:\n",
    "    state = newstate + '\\n' + game.info() + '\\nWhat would you do? You must reply with one of the Available actions'\n",
    "    print('Game:', state)\n",
    "    reply = conversable_agent.chat(state)\n",
    "    print(conversable_agent.agent.agent_name, ':', reply)\n",
    "    print('###\\n')\n",
    "    newstate = game.play(reply)"
   ]
  },
  {
   "cell_type": "code",
   "execution_count": null,
   "id": "42920053-c4b3-4e1a-b942-0cb14bcbe624",
   "metadata": {},
   "outputs": [],
   "source": []
  }
 ],
 "metadata": {
  "kernelspec": {
   "display_name": "Python 3 (ipykernel)",
   "language": "python",
   "name": "python3"
  },
  "language_info": {
   "codemirror_mode": {
    "name": "ipython",
    "version": 3
   },
   "file_extension": ".py",
   "mimetype": "text/x-python",
   "name": "python",
   "nbconvert_exporter": "python",
   "pygments_lexer": "ipython3",
   "version": "3.11.3"
  }
 },
 "nbformat": 4,
 "nbformat_minor": 5
}
