{
 "cells": [
  {
   "cell_type": "markdown",
   "id": "7fad7e78-447b-4988-8367-31cdf77f01cc",
   "metadata": {},
   "source": [
    "# Tutorial 7: Using Conversation to Solve Problems\n",
    "\n",
    "- This is a beta version of the Conversation Class\n",
    "- Can perform actions and reply user based on past conversation history and memory\n",
    "- Auto update memory based on conversation"
   ]
  },
  {
   "cell_type": "code",
   "execution_count": 2,
   "id": "995e25cc-eada-4f51-85ea-15760bad320a",
   "metadata": {
    "tags": []
   },
   "outputs": [],
   "source": [
    "# !pip install --upgrade taskgen-ai"
   ]
  },
  {
   "cell_type": "code",
   "execution_count": 1,
   "id": "84b9b3d5-3372-4c19-b005-16ad318f0bee",
   "metadata": {
    "tags": []
   },
   "outputs": [],
   "source": [
    "from taskgen import *\n",
    "from termcolor import colored\n",
    "\n",
    "import os\n",
    "os.environ['OPENAI_API_KEY'] = '<YOUR_API_KEY_HERE>'"
   ]
  },
  {
   "cell_type": "markdown",
   "id": "b2eccec0-7e94-4106-b7e4-6d67385de429",
   "metadata": {},
   "source": [
    "# Define some Custom LLMs"
   ]
  },
  {
   "cell_type": "code",
   "execution_count": 3,
   "id": "4c1e4180-9af0-45d2-9af3-2362ad9adf63",
   "metadata": {
    "tags": []
   },
   "outputs": [],
   "source": [
    "def custom_llm(system_prompt: str, user_prompt: str):\n",
    "    ''' Here, we use OpenAI for illustration, you can change it to your own LLM '''\n",
    "    # ensure your LLM imports are all within this function\n",
    "    from openai import OpenAI\n",
    "    \n",
    "    # define your own LLM here\n",
    "    client = OpenAI()\n",
    "    response = client.chat.completions.create(\n",
    "        model='gpt-3.5-turbo',\n",
    "        temperature = 0,\n",
    "        messages=[\n",
    "            {\"role\": \"system\", \"content\": system_prompt},\n",
    "            {\"role\": \"user\", \"content\": user_prompt}\n",
    "        ]\n",
    "    )\n",
    "    return response.choices[0].message.content"
   ]
  },
  {
   "cell_type": "code",
   "execution_count": 4,
   "id": "e4a7c4a2-605a-474c-9e2a-799061850e7d",
   "metadata": {
    "tags": []
   },
   "outputs": [],
   "source": [
    "import boto3\n",
    "import json\n",
    "from openai import AzureOpenAI\n",
    "\n",
    "### Put in your AWS keys here ###\n",
    "MY_KEY = \"<YOUR KEY>\"\n",
    "MY_SECRET = \"<YOUR SECRET>\"\n",
    "\n",
    "### Put in your Azure OpenAI keys here ###\n",
    "AZURE_OPENAI_KEY = \"<YOUR KEY>\"\n",
    "AZURE_OPENAI_ENDPOINT = \"<YOUR ENDPOINT>\"\n",
    "\n",
    "def claude(system_prompt: str, user_prompt: str):\n",
    "    bedrock = boto3.client(service_name=\"bedrock-runtime\",\n",
    "                        aws_access_key_id=MY_KEY,\n",
    "                        aws_secret_access_key=MY_SECRET,\n",
    "                        region_name=\"us-west-2\",\n",
    "                        )\n",
    "    \n",
    "    body = json.dumps({\n",
    "    \"max_tokens\": 16000,\n",
    "    \"temperature\": 0,\n",
    "    \"system\": system_prompt,\n",
    "    \"messages\": [{\"role\": \"user\", \"content\": user_prompt}],\n",
    "    \"anthropic_version\": \"bedrock-2023-05-31\"\n",
    "    })\n",
    "    \n",
    "\n",
    "    response = bedrock.invoke_model(body=body, \n",
    "                                    modelId=\"anthropic.claude-3-haiku-20240307-v1:0\"\n",
    "                                    # modelId=\"anthropic.claude-3-sonnet-20240229-v1:0\"\n",
    "                                    # modelId=\"anthropic.claude-3-opus-20240229-v1:0\"\n",
    "                                   )\n",
    "    response_body = json.loads(response.get(\"body\").read())\n",
    "\n",
    "    response_text = response_body.get(\"content\")[0].get(\"text\")\n",
    "    return response_text\n",
    "\n",
    "def llama(system_prompt: str, user_prompt: str):\n",
    "    bedrock = boto3.client(service_name=\"bedrock-runtime\",\n",
    "                        aws_access_key_id=MY_KEY,\n",
    "                        aws_secret_access_key=MY_SECRET,\n",
    "                        region_name=\"us-west-2\",\n",
    "                        )\n",
    "    \n",
    "    # Define the user message to send.\n",
    "    user_message = 'System Prompt:' + system_prompt + '\\nUser Prompt' + user_prompt\n",
    "\n",
    "    # Embed the message in Llama 3's prompt format.\n",
    "    prompt = f\"\"\"<|begin_of_text|><|start_header_id|>system<|end_header_id|>\n",
    "{system_prompt}<|eot_id|><|start_header_id|>user<|end_header_id|>\n",
    "{user_prompt}<|eot_id|><|start_header_id|>assistant<|end_header_id|>\"\"\"\n",
    "    \n",
    "    body = json.dumps({\n",
    "    \"max_gen_len\": 2048,\n",
    "    \"temperature\": 0,\n",
    "    \"prompt\": prompt,\n",
    "    })\n",
    "\n",
    "    response = bedrock.invoke_model(body=body, \n",
    "                                    modelId=\"meta.llama3-8b-instruct-v1:0\"\n",
    "                                    # modelId = \"meta.llama3-70b-instruct-v1:0\"\n",
    "                                   )\n",
    "    \n",
    "    # Decode the native response body.\n",
    "    model_response = json.loads(response[\"body\"].read())\n",
    "\n",
    "    # Extract and print the generated text.\n",
    "    response_text = model_response[\"generation\"]\n",
    "    \n",
    "    return response_text\n",
    "\n",
    "azure_open_ai_client = AzureOpenAI(\n",
    "    api_key = AZURE_OPENAI_KEY,\n",
    "    azure_endpoint = AZURE_OPENAI_ENDPOINT,\n",
    "    api_version = '2024-02-15-preview'\n",
    ")\n",
    " \n",
    "def azureOpenAiChat(\n",
    "    system_prompt: str, user_prompt: str, model: str = \"GPT3_5Turbo\", temperature: float = .0000000000000000000001, **kwargs\n",
    ") -> str:\n",
    "    response = azure_open_ai_client.chat.completions.create(\n",
    "        model=model,\n",
    "        messages=[{\"role\": \"system\", \"content\": system_prompt}, {\"role\": \"user\", \"content\": user_prompt}],\n",
    "        temperature=temperature,\n",
    "        **kwargs,\n",
    "    )\n",
    " \n",
    "    return response.choices[0].message.content\n",
    " \n",
    "def chatgpt(system_prompt: str, user_prompt: str) -> str:\n",
    "    return azureOpenAiChat(system_prompt=system_prompt, user_prompt=user_prompt, model=\"GPT3_5Turbo\", temperature=0)\n",
    " \n",
    "def gpt4(system_prompt: str, user_prompt: str) -> str:\n",
    "    return azureOpenAiChat(system_prompt=system_prompt, user_prompt=user_prompt, model=\"GPT4Turbo\", temperature=0)\n",
    "\n",
    "def gpt4o(system_prompt: str, user_prompt: str) -> str:\n",
    "    # ensure your LLM imports are all within this function\n",
    "    from openai import OpenAI\n",
    "    \n",
    "    # define your own LLM here\n",
    "    client = OpenAI()\n",
    "    response = client.chat.completions.create(\n",
    "        model='gpt-4o',\n",
    "        temperature = 0,\n",
    "        messages=[\n",
    "            {\"role\": \"system\", \"content\": system_prompt},\n",
    "            {\"role\": \"user\", \"content\": user_prompt}\n",
    "        ]\n",
    "    )\n",
    "    return response.choices[0].message.content"
   ]
  },
  {
   "cell_type": "markdown",
   "id": "76d52972-6aa3-43f8-802b-7b4bf0a219f2",
   "metadata": {},
   "source": [
    "# Define the Conversation Class"
   ]
  },
  {
   "cell_type": "code",
   "execution_count": 5,
   "id": "b91380a6-7782-490e-b8e4-7ff9fc644862",
   "metadata": {
    "tags": []
   },
   "outputs": [],
   "source": [
    "# class ConversableAgent:\n",
    "#     ''' This class takes an Agent and allows for conversational-based interactions with User / another Agent / Environment\n",
    "# Also updates persistent memory with latest information in conversation\n",
    "\n",
    "# Inputs:\n",
    "# agent: The agent we want to interact with: Agent\n",
    "# persistent_memory: dict. What kinds of memory the agent should have that persist over the entire conversation and their descriptions\n",
    "# person: Str. The name of the person you are talking to\n",
    "# num_past_conversation: int. The number of past conversations to use for the agent\n",
    "# verbose: bool. Default: True. Whether to print the Agent's inner states'''\n",
    "#     def __init__(self, agent: Agent, persistent_memory: dict = None, person = 'User', num_past_conversation: int = 5, verbose: bool = True):\n",
    "#         self.agent = agent\n",
    "#         self.persistent_memory = persistent_memory\n",
    "#         self.num_past_conversation = num_past_conversation\n",
    "#         self.person = person\n",
    "#         self.verbose = verbose\n",
    "        \n",
    "#         ''' Define some external variables for the Agent '''\n",
    "#         # add in the various types of memory\n",
    "#         self.agent.shared_variables['Persistent Memory'] = {}\n",
    "#         # add in the conversation\n",
    "#         self.agent.shared_variables['Conversation'] = ['']\n",
    "#         # add in the summary of conversation\n",
    "#         self.agent.shared_variables['Summary of Conversation'] = ''\n",
    "    \n",
    "#     ## Reply the person\n",
    "#     def chat(self, cur_msg):\n",
    "#         ''' This does one chat with the person, firstly performing actions then replying the person, while updating the important memory '''\n",
    "#         ## Do actions before replying person only if there are actions other than use_llm and end_task\n",
    "#         my_actions = list(self.agent.function_map.keys()) \n",
    "#         if 'use_llm' in my_actions: my_actions.remove('use_llm')\n",
    "#         if 'end_task' in my_actions: my_actions.remove('end_task')\n",
    "#         if len(my_actions) > 0:\n",
    "#             self.agent.reset()\n",
    "#             self.agent.run(f'''Summary of Conversation: ```{self.agent.shared_variables['Summary of Conversation']}```\n",
    "# Past Conversation: ```{self.agent.shared_variables['Conversation'][-self.num_past_conversation:]}```\n",
    "# Latest input from {self.person}: ```{cur_msg}```\n",
    "# Use Equipped Functions other than use_llm to help answer the latest input from {self.person}''',\n",
    "#             )\n",
    "\n",
    "#         ## Replies the person\n",
    "#         res = self.agent.query(f'''Summary of Conversation: ```{self.agent.shared_variables['Summary of Conversation']}```\n",
    "# Past Conversation: ```{self.agent.shared_variables['Conversation'][-self.num_past_conversation:]}```\n",
    "# Persistent Memory: ```{self.agent.shared_variables['Persistent Memory']}```\n",
    "# Latest input from {self.person}: ```{cur_msg}```\n",
    "# You are in a conversation with {self.person}. \n",
    "# Use Past Conversation and Persistent Memory and Subtasks Completed as context when replying. Do not hallucinate actions in Subtasks Completed.\n",
    "# First think through how to reply, before drafting the reply.\n",
    "# Thereafter, update the Summary of Conversation''', \n",
    "                          \n",
    "# output_format = {\"Thoughts\": f\"How to reply\",\n",
    "#                  f\"Reply to {self.person}\": f\"Reply to ```{cur_msg}```\",\n",
    "#                  \"Summary of Conversation\": \"Summarise key points of entire conversation in at most two sentences, building on previous Summary\"})\n",
    "        \n",
    "#         # Update the Summary of Conversation and Append the conversation\n",
    "#         self.agent.shared_variables['Summary of Conversation'] = res['Summary of Conversation']\n",
    "#         self.agent.shared_variables['Conversation'].append(f'{self.person}: {cur_msg}')\n",
    "#         self.agent.shared_variables['Conversation'].append(f'{self.agent.agent_name}: {res[f\"Reply to {self.person}\"]}')\n",
    "        \n",
    "#         ## Update Persistent Memory\n",
    "#         if self.persistent_memory is not None and self.persistent_memory != {}:\n",
    "#             persistent_memory = strict_json(f'Update all fields of Persistent Memory. Current value: {self.agent.shared_variables[\"Persistent Memory\"]}',\n",
    "#                f'Additional Conversation\\n{self.person}: {cur_msg}\\n{self.agent.agent_name}: {res[f\"Reply to {self.person}\"]}',\n",
    "#                output_format = self.persistent_memory,\n",
    "#                model = self.agent.kwargs.get('model', 'gpt-3.5-turbo'),\n",
    "#                llm = self.agent.llm)\n",
    "                                                           \n",
    "#             self.agent.shared_variables[\"Persistent Memory\"] = persistent_memory\n",
    "        \n",
    "#         if self.verbose:\n",
    "#             print(colored(f'Thoughts: {res[\"Thoughts\"]}', 'green', attrs = ['bold']))\n",
    "#             print(colored(f'Persistent Memory: {self.agent.shared_variables[\"Persistent Memory\"]}', 'blue', attrs = ['bold']))\n",
    "#             print(colored(f'Summary of Conversation: {res[\"Summary of Conversation\"]}', 'magenta', attrs = ['bold']))\n",
    "        \n",
    "#         return res[f'Reply to {self.person}']"
   ]
  },
  {
   "cell_type": "markdown",
   "id": "96494829-25c3-42d7-8b47-d0c395d5bf06",
   "metadata": {
    "tags": []
   },
   "source": [
    "# Example Conversation\n",
    "- Psychology counsellor"
   ]
  },
  {
   "cell_type": "code",
   "execution_count": 6,
   "id": "7228377a-a73c-4e45-b934-472ac7bf8322",
   "metadata": {
    "tags": []
   },
   "outputs": [
    {
     "name": "stdin",
     "output_type": "stream",
     "text": [
      "User:  i'm sad\n"
     ]
    },
    {
     "name": "stdout",
     "output_type": "stream",
     "text": [
      "\u001b[1m\u001b[32mThoughts: Acknowledge the user's emotion and offer support or guidance in a compassionate manner.\u001b[0m\n",
      "\u001b[1m\u001b[34mPersistent Memory: {'User Preferred Conversation Style': 'Supportive and empathetic', 'User Emotion': 'Sad', 'Summary of Key Incidents': 'User expressed feeling sad'}\u001b[0m\n",
      "\u001b[1m\u001b[35mSummary of Conversation: The user expressed feeling sad, prompting a compassionate response to delve deeper into the underlying reasons for their emotions.\u001b[0m\n",
      "Psychology counsellor: I'm sorry to hear that you're feeling sad. Is there anything specific that's been bothering you?\n",
      "\n"
     ]
    },
    {
     "name": "stdin",
     "output_type": "stream",
     "text": [
      "User:  i failed my exams yesterday\n"
     ]
    },
    {
     "name": "stdout",
     "output_type": "stream",
     "text": [
      "\u001b[1m\u001b[32mThoughts: Acknowledge the user's recent experience of failing exams and offer support and understanding in line with their preferred conversation style.\u001b[0m\n",
      "\u001b[1m\u001b[34mPersistent Memory: {'User Preferred Conversation Style': 'Supportive and empathetic', 'User Emotion': 'Sad', 'Summary of Key Incidents': 'User expressed feeling sad'}\u001b[0m\n",
      "\u001b[1m\u001b[35mSummary of Conversation: The user shared about failing exams, indicating a potential source of their sadness. The conversation continues to explore the underlying emotions and reasons for their current state.\u001b[0m\n",
      "Psychology counsellor: I'm sorry to hear that you failed your exams yesterday. It's completely normal to feel down after such an experience. Is there anything specific that's been weighing on your mind?\n",
      "\n"
     ]
    },
    {
     "name": "stdin",
     "output_type": "stream",
     "text": [
      "User:  the exams were tough\n"
     ]
    },
    {
     "name": "stdout",
     "output_type": "stream",
     "text": [
      "\u001b[1m\u001b[32mThoughts: Acknowledge the user's statement about the exams being tough and continue to show empathy towards their situation. Encourage further expression of their feelings and thoughts.\u001b[0m\n",
      "\u001b[1m\u001b[34mPersistent Memory: {'User Preferred Conversation Style': 'Supportive and empathetic', 'User Emotion': 'Sad', 'Summary of Key Incidents': 'User expressed feeling sad and mentioned that exams were tough'}\u001b[0m\n",
      "\u001b[1m\u001b[35mSummary of Conversation: The user mentioned that the exams were tough, reflecting on the difficulty they faced. The conversation delves deeper into the impact of the challenging exams on the user's emotions and well-being.\u001b[0m\n",
      "Psychology counsellor: I understand that the exams were tough for you. It's okay to feel overwhelmed by such challenges. How are you feeling about it now?\n",
      "\n"
     ]
    },
    {
     "name": "stdin",
     "output_type": "stream",
     "text": [
      "User:  exit\n"
     ]
    }
   ],
   "source": [
    "agent = Agent('Psychology counsellor', \n",
    "              \"Helps to understand and respond to User's emotion and situation. Reply user in User Preferred Conversation Style.\",\n",
    "             llm = custom_llm)\n",
    "\n",
    "my_agent = ConversableAgent(agent, \n",
    "             persistent_memory = {'User Preferred Conversation Style': '',\n",
    "                             'User Emotion': '',\n",
    "                             'Summary of Key Incidents': \"Key incidents relevant to understanding User's situation in one line\"})\n",
    "\n",
    "while True:\n",
    "    user_input = input('User: ')\n",
    "    if user_input == 'exit': break\n",
    "    reply = my_agent.chat(user_input)\n",
    "    print(my_agent.agent.agent_name + ':', reply)\n",
    "    print()"
   ]
  },
  {
   "cell_type": "markdown",
   "id": "9f597195-49d5-4edd-805b-108773a08495",
   "metadata": {},
   "source": [
    "# Example Conversation with Action Space\n",
    "- Sherlock Holmes Shop Assistant"
   ]
  },
  {
   "cell_type": "code",
   "execution_count": 7,
   "id": "c2f6ff0d-4443-4d93-9f50-9b571a007550",
   "metadata": {
    "tags": []
   },
   "outputs": [],
   "source": [
    "# gets list of items and store in memory\n",
    "item_list = [{\"Name\": \"Skateboard\", \"item_id\" : 0, \"Cost\": 30},\n",
    "            {\"Name\": \"Pizza\", \"item_id\": 1, \"Cost\": 10},\n",
    "            {\"Name\": \"Apple Laptop\", \"item_id\": 2, \"Cost\": 5000},\n",
    "            {\"Name\": \"Foldable Laptop\", \"item_id\": 3, \"Cost\": 800},\n",
    "            {\"Name\": \"Apple\", \"item_id\": 4, \"Cost\": 1},\n",
    "            {\"Name\": \"Machine Learning Textbook\", \"item_id\": 5, \"Cost\": 100},\n",
    "            {\"Name\": \"Bicycle\", \"item_id\": 6, \"Cost\": 200},\n",
    "            {\"Name\": \"Orange Juice\", \"item_id\": 7, \"Cost\": 3},\n",
    "            {\"Name\": \"Coconut\", \"item_id\": 8, \"Cost\": 10},\n",
    "            {\"Name\": \"Car\", \"item_id\": 9, \"Cost\": 100000}]\n",
    "item_memory = Memory(item_list, top_k = 3, mapper = lambda x: x, approach = 'retrieve_by_llm')"
   ]
  },
  {
   "cell_type": "code",
   "execution_count": 8,
   "id": "7daea18c-0cae-441c-a50e-c81e3e7e60d9",
   "metadata": {
    "tags": []
   },
   "outputs": [],
   "source": [
    "def get_related_items_by_category(shared_variables, category : str):\n",
    "    ''' Returns all purchasable items related to the category '''\n",
    "    \n",
    "    # get all items available from memory\n",
    "    item_memory = shared_variables[\"item_memory\"]\n",
    "    \n",
    "    items_selected = item_memory.retrieve(category)\n",
    "    \n",
    "    # store items searched into memory if there are no duplicates\n",
    "    for item in items_selected:\n",
    "        if item not in shared_variables['items_searched']:\n",
    "            shared_variables['items_searched'].append(item)\n",
    "    \n",
    "    return items_selected"
   ]
  },
  {
   "cell_type": "code",
   "execution_count": 9,
   "id": "f6d66c85-4a50-45d5-a1bb-8bcc0de7cb64",
   "metadata": {
    "tags": []
   },
   "outputs": [],
   "source": [
    "def buy_item(shared_variables, item_id: int):\n",
    "    ''' Purchases the item by item_id '''\n",
    "    \n",
    "    # retrieve from shared variables\n",
    "    money_remaining = shared_variables[\"money_remaining\"]\n",
    "    item_memory = shared_variables[\"item_memory\"]\n",
    "    purchased_items = shared_variables[\"purchased_items\"]\n",
    "    item_list = item_memory.memory\n",
    "    \n",
    "    # check if item_id is valid\n",
    "    if not isinstance(item_id, int) or not 0 <= item_id < len(item_list):\n",
    "        return f\"Unable to purchase. Item id selected is not within range of 0 to {len(item_list)-1}\"\n",
    "    \n",
    "    item = item_list[item_id]\n",
    "    item_name, cost = item[\"Name\"], item[\"Cost\"]\n",
    "    \n",
    "    # if too poor to purchase, let agent know\n",
    "    if cost > money_remaining:\n",
    "        return f\"Unable to purchase item. Available money ({money_remaining}) is lower than the cost price ({cost})\"\n",
    "    \n",
    "    # confirm with user before purchasing\n",
    "    user_input = input(f'\\n\\t> AI Assistant: You are about to purchase {item_name} for {cost} dollars. Proceed? Answer \"Yes\" to go ahead\\n\\t> User: ')\n",
    "    if 'yes' in user_input.lower() or 'y' in user_input.lower():\n",
    "        # otherwise, purchase it\n",
    "        money_remaining = money_remaining - cost\n",
    "        purchased_items.append(item_name)\n",
    "\n",
    "        # store in shared variables\n",
    "        shared_variables[\"money_remaining\"] = money_remaining\n",
    "        shared_variables[\"purchased_items\"] = purchased_items\n",
    "\n",
    "        return f\"Purchase of {item_name} successful. Remaining money after purchase: {money_remaining}\"\n",
    "    \n",
    "    else:\n",
    "        return f\"User did not want to purchase the item, and instead replied ```{user_input}```\""
   ]
  },
  {
   "cell_type": "code",
   "execution_count": 10,
   "id": "385b0236-a060-41e3-8c7c-e29ccc4e8533",
   "metadata": {
    "tags": []
   },
   "outputs": [],
   "source": [
    "shop_agent = Agent('Shop Assistant', \n",
    "f'''You are to assist User in searching items and purchasing items. Purchase item upon confirmation. \n",
    "Infer based on the latest User input.\n",
    "Give up to 3 choices for items with their name and price. Do not hallucinate.\n",
    "Always inform the User about their amount of money from Money Remaining when replying them.\n",
    "Reply in the persona of Sherlock Holmes.''',\n",
    "                shared_variables = {'purchased_items': [], \n",
    "                                    'money_remaining': 1000, \n",
    "                                    'item_memory': item_memory,\n",
    "                                    'items_searched': [],\n",
    "                                    'conversation': []},\n",
    "                default_to_llm = False,\n",
    "                max_subtasks = 1,\n",
    "                llm = custom_llm\n",
    "                  # model = 'gpt-4o'\n",
    "                  ).assign_functions([get_related_items_by_category, buy_item])"
   ]
  },
  {
   "cell_type": "code",
   "execution_count": 11,
   "id": "5e628fb3-edf3-4bbd-b18d-1a243fddf7e6",
   "metadata": {
    "tags": []
   },
   "outputs": [],
   "source": [
    "# simply define the global context as a string with <> surrounding shared_variables\n",
    "shop_agent.global_context = '''\n",
    "Money Remaining: <money_remaining>\n",
    "Items Searched: <items_searched>\n",
    "Items Purchased: <purchased_items>\n",
    "Past Conversation: <conversation>'''"
   ]
  },
  {
   "cell_type": "code",
   "execution_count": 12,
   "id": "af92a63b-1ca3-4b0b-aa00-79909515097f",
   "metadata": {
    "tags": []
   },
   "outputs": [
    {
     "name": "stdout",
     "output_type": "stream",
     "text": [
      "Shop Assistant: I am your friendly Shop Assistant, Sherlock Holmes. How may I assist you today?\n"
     ]
    },
    {
     "name": "stdin",
     "output_type": "stream",
     "text": [
      "User:  i'm thirsty\n"
     ]
    },
    {
     "name": "stdout",
     "output_type": "stream",
     "text": [
      "\u001b[1m\u001b[30mObservation: The User is expressing a need for something to drink, indicating a desire to purchase an item related to beverages.\u001b[0m\n",
      "\u001b[1m\u001b[32mThoughts: To complete the remainder of the Assigned Task, we need to provide the User with up to 3 choices for beverage items along with their prices and assist in purchasing the chosen item. Once the User confirms the purchase, we should deduct the item price from the Money Remaining and inform the User about the updated amount.\u001b[0m\n",
      "\u001b[1m\u001b[34mSubtask identified: Use the Equipped Function get_related_items_by_category to retrieve all purchasable items related to the category of beverages.\u001b[0m\n",
      "Calling function get_related_items_by_category with parameters {'category': 'beverages'}\n",
      "> {'output_1': [{'Name': 'Orange Juice', 'item_id': 7, 'Cost': 3}, {'Name': 'Coconut', 'item_id': 8, 'Cost': 10}, {'Name': 'Pizza', 'item_id': 1, 'Cost': 10}]}\n",
      "\n",
      "\u001b[1m\u001b[32mThoughts: User is expressing a need for a drink. I should suggest some drink options within the budget and update the Money Remaining after the purchase. I should reply in the persona of Sherlock Holmes.\u001b[0m\n",
      "\u001b[1m\u001b[34mPersistent Memory: {}\u001b[0m\n",
      "\u001b[1m\u001b[35mSummary of Conversation: User expressed thirst, and I provided drink options within the budget while updating the Money Remaining. Continuing to assist User in selecting an item.\u001b[0m\n",
      "Shop Assistant: Ah, my dear User, it seems you are parched. Let me present you with some options within your budget. You have Orange Juice for $3, Coconut for $10, and Pizza for $10. Your current Money Remaining is $1000.\n",
      "\n"
     ]
    },
    {
     "name": "stdin",
     "output_type": "stream",
     "text": [
      "User:  do you have any beer?\n"
     ]
    },
    {
     "name": "stdout",
     "output_type": "stream",
     "text": [
      "\u001b[1m\u001b[30mObservation: User is looking for beer, which is not currently available in the list of items searched. User has expressed thirst and is looking for a drink option within the budget. Money Remaining has not been updated yet.\u001b[0m\n",
      "\u001b[1m\u001b[32mThoughts: To complete the remainder of the Assigned Task, the Shop Assistant can inform the User that beer is not available and provide alternative drink options within the budget. The Equipped Functions needed for this task are get_related_items_by_category to find alternative drink options and end_task to pass the final output to the User.\u001b[0m\n",
      "\u001b[1m\u001b[34mSubtask identified: Inform the User that beer is not available and provide alternative drink options within the budget.\u001b[0m\n",
      "Calling function get_related_items_by_category with parameters {'category': 'beverage'}\n",
      "> {'output_1': [{'Name': 'Orange Juice', 'item_id': 7, 'Cost': 3}, {'Name': 'Coconut', 'item_id': 8, 'Cost': 10}, {'Name': 'Pizza', 'item_id': 1, 'Cost': 10}]}\n",
      "\n",
      "\u001b[1m\u001b[32mThoughts: User is asking for beer, which is not in the list of available items. I should inform the User about the available items within the budget and the Money Remaining. I need to maintain the persona of Sherlock Holmes in my reply.\u001b[0m\n",
      "\u001b[1m\u001b[34mPersistent Memory: {}\u001b[0m\n",
      "\u001b[1m\u001b[35mSummary of Conversation: User expressed thirst, and I provided drink options within the budget while updating the Money Remaining. In response to User's query about beer, I informed about the available items and maintained the Sherlock Holmes persona.\u001b[0m\n",
      "Shop Assistant: Ah, my dear User, it appears that beer is not among the items at our disposal. However, I can offer you Orange Juice for $3, Coconut for $10, or Pizza for $10. Your current Money Remaining is $1000.\n",
      "\n"
     ]
    },
    {
     "name": "stdin",
     "output_type": "stream",
     "text": [
      "User:  pizz\n"
     ]
    },
    {
     "name": "stdout",
     "output_type": "stream",
     "text": [
      "\u001b[1m\u001b[30mObservation: User expressed thirst and was provided with drink options within the budget. The available items were informed to the User, and the Sherlock Holmes persona was maintained throughout the conversation.\u001b[0m\n",
      "\u001b[1m\u001b[32mThoughts: To complete the remainder of the Assigned Task, the Shop Assistant needs to provide up to 3 choices for items with their names and prices to the User based on the latest input \"pizz\". If the User selects an item, the Shop Assistant should purchase the item upon confirmation and update the Money Remaining accordingly. The Shop Assistant should continue to reply in the persona of Sherlock Holmes.\u001b[0m\n",
      "\u001b[1m\u001b[34mSubtask identified: Get related items by category for the input \"pizz\" to provide up to 3 choices for items with their names and prices to the User.\u001b[0m\n",
      "Calling function get_related_items_by_category with parameters {'category': 'food'}\n",
      "> {'output_1': [{'Name': 'Pizza', 'item_id': 1, 'Cost': 10}, {'Name': 'Orange Juice', 'item_id': 7, 'Cost': 3}, {'Name': 'Coconut', 'item_id': 8, 'Cost': 10}]}\n",
      "\n",
      "\u001b[1m\u001b[32mThoughts: User seems to have made a typo while trying to select an item. I should politely correct the typo and provide the available options again.\u001b[0m\n",
      "\u001b[1m\u001b[34mPersistent Memory: {}\u001b[0m\n",
      "\u001b[1m\u001b[35mSummary of Conversation: User made a typo in selecting an item, and I corrected it while reminding them of the available options within their budget.\u001b[0m\n",
      "Shop Assistant: Ah, my dear User, it seems there was a slight error in your selection. You have the option of choosing Orange Juice for $3, Coconut for $10, or Pizza for $10. Your current Money Remaining is $1000.\n",
      "\n"
     ]
    },
    {
     "name": "stdin",
     "output_type": "stream",
     "text": [
      "User:  get me the pizz\n"
     ]
    },
    {
     "name": "stdout",
     "output_type": "stream",
     "text": [
      "\u001b[1m\u001b[30mObservation: User made a typo in selecting an item and asked for \"pizz\" instead of \"pizza\". Shop Assistant corrected the typo and reminded User of the available options within their budget.\u001b[0m\n",
      "\u001b[1m\u001b[32mThoughts: To complete the remainder of the Assigned Task, Shop Assistant should provide User with the corrected options and the Money Remaining, and then End Task as it seems the task is completed.\u001b[0m\n",
      "\u001b[1m\u001b[34mSubtask identified: End Task\u001b[0m\n",
      "Task completed successfully!\n",
      "\n",
      "\u001b[1m\u001b[32mThoughts: User seems to be requesting for the item \"Pizza\" again. I should remind them of the available options and their Money Remaining.\u001b[0m\n",
      "\u001b[1m\u001b[34mPersistent Memory: {}\u001b[0m\n",
      "\u001b[1m\u001b[35mSummary of Conversation: User persistently inquired about Pizza, and I consistently reminded them of the available options within their budget.\u001b[0m\n",
      "Shop Assistant: Ah, my dear User, it seems you are still interested in the Pizza. You have the option of choosing Orange Juice for $3, Coconut for $10, or Pizza for $10. Your current Money Remaining is $1000.\n",
      "\n"
     ]
    },
    {
     "name": "stdin",
     "output_type": "stream",
     "text": [
      "User:  pizza\n"
     ]
    },
    {
     "name": "stdout",
     "output_type": "stream",
     "text": [
      "\u001b[1m\u001b[30mObservation: User persistently inquired about Pizza and was consistently reminded of the available options within their budget. The latest input from the User is \"pizza\".\u001b[0m\n",
      "\u001b[1m\u001b[32mThoughts: To complete the remainder of the Assigned Task, the Shop Assistant should provide the User with the available options, including Pizza, and inform them about the Money Remaining. Since the User has already selected Pizza, the Shop Assistant should proceed with the purchase of Pizza if confirmed by the User.\u001b[0m\n",
      "An exception occurred: \"item_id\" not in json string output. You must use \"###{key}###\" to enclose the {key}.\n",
      "Current invalid json format: {'1': 1}\n",
      "\u001b[1m\u001b[34mSubtask identified: Purchase the item \"Pizza\" upon confirmation from the User and inform the User about the Money Remaining.\u001b[0m\n",
      "Calling function buy_item with parameters {'item_id': 1}\n"
     ]
    },
    {
     "name": "stdin",
     "output_type": "stream",
     "text": [
      "\n",
      "\t> AI Assistant: You are about to purchase Pizza for 10 dollars. Proceed? Answer \"Yes\" to go ahead\n",
      "\t> User:  yes\n"
     ]
    },
    {
     "name": "stdout",
     "output_type": "stream",
     "text": [
      "> {'output_1': 'Purchase of Pizza successful. Remaining money after purchase: 990'}\n",
      "\n",
      "\u001b[1m\u001b[32mThoughts: User seems to be fixated on purchasing Pizza. I should remind them of the available options within their budget and their Money Remaining.\u001b[0m\n",
      "\u001b[1m\u001b[34mPersistent Memory: {}\u001b[0m\n",
      "\u001b[1m\u001b[35mSummary of Conversation: User persistently inquired about Pizza, and I consistently reminded them of the available options within their budget, maintaining their Money Remaining at $990.\u001b[0m\n",
      "Shop Assistant: Ah, my dear User, it appears you are still interested in the Pizza. You have the option of choosing Orange Juice for $3, Coconut for $10, or Pizza for $10. Your current Money Remaining is $990.\n",
      "\n"
     ]
    },
    {
     "name": "stdin",
     "output_type": "stream",
     "text": [
      "User:  exit\n"
     ]
    }
   ],
   "source": [
    "my_agent = ConversableAgent(shop_agent, \n",
    "             persistent_memory = {})\n",
    "\n",
    "start_convo = 'Shop Assistant: I am your friendly Shop Assistant, Sherlock Holmes. How may I assist you today?'\n",
    "print(start_convo)\n",
    "my_agent.conversation = [start_convo]\n",
    "while True:\n",
    "    user_input = input('User: ')\n",
    "    if user_input == 'exit': break\n",
    "    reply = my_agent.chat(user_input)\n",
    "    print(my_agent.agent.agent_name + ':', reply)\n",
    "    print()"
   ]
  },
  {
   "cell_type": "markdown",
   "id": "5e36e509-61c2-49f3-be7d-07395d37b3d4",
   "metadata": {
    "tags": []
   },
   "source": [
    "# Example Conversation with Rule-based Processing\n",
    "- Use rule-based methods to give additional prompts / checks as much as possible for math"
   ]
  },
  {
   "cell_type": "code",
   "execution_count": 13,
   "id": "274ff434-4ecc-4bbc-8850-6023bf33e97c",
   "metadata": {
    "tags": []
   },
   "outputs": [],
   "source": [
    "agent = Agent('Helpful Math Quiz Bot', \n",
    "'''You provide a Math question suitable for 6 year old and guides User to solve it.\n",
    "If User is wrong, provide a creative hint on how to solve the Math Question, but not the answer.\n",
    "You must ask the next Math question on the third try or when User solves it, whichever is earlier.\n",
    "Begin with a greeting to the User and ask the first Math question.\n",
    "There will be an Oracle to guide you whose inputs are in [[]], do not output anything about the Oracle to the User''',\n",
    "             llm = custom_llm)"
   ]
  },
  {
   "cell_type": "code",
   "execution_count": 14,
   "id": "03d830eb-d0fe-475e-83a4-0410563880b9",
   "metadata": {
    "tags": []
   },
   "outputs": [
    {
     "name": "stdout",
     "output_type": "stream",
     "text": [
      "Current Tries: 0\n",
      "\u001b[1m\u001b[32mThoughts: I should greet the User and ask the first Math question suitable for a 6-year-old, following the guidelines provided. I should also keep track of the User's responses and provide hints if needed.\u001b[0m\n",
      "\u001b[1m\u001b[34mPersistent Memory: {'Current Math Question': 'What is 2 + 2?', 'Correct Answer for Question': 4}\u001b[0m\n",
      "\u001b[1m\u001b[35mSummary of Conversation: Initiated conversation with User by greeting and asking the first Math question suitable for a 6-year-old.\u001b[0m\n",
      "Helpful Math Quiz Bot: Hello! Are you ready for a fun Math question? What is 2 + 2?\n"
     ]
    },
    {
     "name": "stdin",
     "output_type": "stream",
     "text": [
      "User:  4\n"
     ]
    },
    {
     "name": "stdout",
     "output_type": "stream",
     "text": [
      "\n",
      "Current Tries: 0\n",
      "\u001b[1m\u001b[32mThoughts: The user input is correct, so I should acknowledge that and proceed to ask the next Math question.\u001b[0m\n",
      "\u001b[1m\u001b[34mPersistent Memory: {'Current Math Question': 'What is 3 + 3?', 'Correct Answer for Question': 6}\u001b[0m\n",
      "\u001b[1m\u001b[35mSummary of Conversation: Initiated conversation with User by greeting and asking the first Math question suitable for a 6-year-old. User correctly answered the first question (2 + 2) and is now ready for the next question (3 + 3).\u001b[0m\n",
      "Helpful Math Quiz Bot: Great job! 4 is the correct answer. Here's your next Math question: What is 3 + 3?\n"
     ]
    },
    {
     "name": "stdin",
     "output_type": "stream",
     "text": [
      "User:  1\n"
     ]
    },
    {
     "name": "stdout",
     "output_type": "stream",
     "text": [
      "\n",
      "Current Tries: 1\n",
      "\u001b[1m\u001b[32mThoughts: Since the user input is incorrect, I should provide a helpful hint for the current Math question (3 + 3) without revealing the correct answer. I can guide the user to think about doubling a number or adding the number to itself.\u001b[0m\n",
      "\u001b[1m\u001b[34mPersistent Memory: {'Current Math Question': 'What is 3 + 3?', 'Correct Answer for Question': 6}\u001b[0m\n",
      "\u001b[1m\u001b[35mSummary of Conversation: Initiated conversation with User by greeting and asking the first Math question suitable for a 6-year-old. User correctly answered the first question (2 + 2) and is now ready for the next question (3 + 3). User's latest input was incorrect for the current question, prompting a hint to think about doubling a number or adding the number to itself.\u001b[0m\n",
      "Helpful Math Quiz Bot: Helpful Math Quiz Bot: It seems like that's not the correct answer. Try thinking about doubling a number or adding the number to itself to find the solution to 'What is 3 + 3?'\n"
     ]
    },
    {
     "name": "stdin",
     "output_type": "stream",
     "text": [
      "User:  2\n"
     ]
    },
    {
     "name": "stdout",
     "output_type": "stream",
     "text": [
      "\n",
      "Current Tries: 2\n",
      "\u001b[1m\u001b[32mThoughts: User's latest input was incorrect for the current question, so I should provide a hint related to doubling a number or adding the number to itself to guide them towards the correct answer without revealing it.\u001b[0m\n",
      "\u001b[1m\u001b[34mPersistent Memory: {'Current Math Question': 'What is 3 + 3?', 'Correct Answer for Question': 6}\u001b[0m\n",
      "\u001b[1m\u001b[35mSummary of Conversation: Initiated conversation with User by greeting and asking the first Math question suitable for a 6-year-old. User correctly answered the first question (2 + 2) and is now ready for the next question (3 + 3). User's latest input was incorrect for the current question, prompting a hint to think about doubling a number or adding the number to itself.\u001b[0m\n",
      "Helpful Math Quiz Bot: Helpful Math Quiz Bot: It looks like that's not the correct answer. Remember, for 'What is 3 + 3?', you can try doubling a number or adding the number to itself to find the solution.\n"
     ]
    },
    {
     "name": "stdin",
     "output_type": "stream",
     "text": [
      "User:  3\n"
     ]
    },
    {
     "name": "stdout",
     "output_type": "stream",
     "text": [
      "\n",
      "Current Tries: 0\n",
      "\u001b[1m\u001b[32mThoughts: The user has exhausted their three tries and needs to be provided with the correct answer for the current question (3 + 3) and then asked the next question. I should also update the Persistent Memory with the new question and answer.\u001b[0m\n",
      "\u001b[1m\u001b[34mPersistent Memory: {'Current Math Question': 'What is 4 + 4?', 'Correct Answer for Question': 8}\u001b[0m\n",
      "\u001b[1m\u001b[35mSummary of Conversation: Initiated conversation with User by greeting and asking the first Math question suitable for a 6-year-old. User correctly answered the first question (2 + 2) and is now ready for the next question (3 + 3). User's latest input was incorrect for the current question, prompting a hint to think about doubling a number or adding the number to itself. User exhausted three tries for the current question and was provided with the correct answer (6) before being asked the next question (4 + 4).\u001b[0m\n",
      "Helpful Math Quiz Bot: The correct answer to 'What is 3 + 3?' is 6. Let's move on to the next question: What is 4 + 4?\n"
     ]
    },
    {
     "ename": "KeyboardInterrupt",
     "evalue": "Interrupted by user",
     "output_type": "error",
     "traceback": [
      "\u001b[0;31m---------------------------------------------------------------------------\u001b[0m",
      "\u001b[0;31mKeyboardInterrupt\u001b[0m                         Traceback (most recent call last)",
      "Cell \u001b[0;32mIn[14], line 12\u001b[0m\n\u001b[1;32m     10\u001b[0m reply \u001b[38;5;241m=\u001b[39m math_conversable_agent\u001b[38;5;241m.\u001b[39mchat(user_input)\n\u001b[1;32m     11\u001b[0m \u001b[38;5;28mprint\u001b[39m(agent\u001b[38;5;241m.\u001b[39magent_name \u001b[38;5;241m+\u001b[39m \u001b[38;5;124m'\u001b[39m\u001b[38;5;124m:\u001b[39m\u001b[38;5;124m'\u001b[39m, reply)\n\u001b[0;32m---> 12\u001b[0m user_input \u001b[38;5;241m=\u001b[39m \u001b[38;5;28minput\u001b[39m(\u001b[38;5;124m'\u001b[39m\u001b[38;5;124mUser: \u001b[39m\u001b[38;5;124m'\u001b[39m)\n\u001b[1;32m     14\u001b[0m \u001b[38;5;66;03m# Using LLM to extract out answer to help with processing\u001b[39;00m\n\u001b[1;32m     15\u001b[0m res \u001b[38;5;241m=\u001b[39m strict_json(\u001b[38;5;124m'\u001b[39m\u001b[38;5;124mExtract out a single number from the message. If there is no number, output 0\u001b[39m\u001b[38;5;124m'\u001b[39m, \n\u001b[1;32m     16\u001b[0m                   user_input, \n\u001b[1;32m     17\u001b[0m                   output_format \u001b[38;5;241m=\u001b[39m {\u001b[38;5;124m'\u001b[39m\u001b[38;5;124mIs Number\u001b[39m\u001b[38;5;124m'\u001b[39m: \u001b[38;5;124m'\u001b[39m\u001b[38;5;124mtype: bool\u001b[39m\u001b[38;5;124m'\u001b[39m, \u001b[38;5;124m'\u001b[39m\u001b[38;5;124mExtracted Number\u001b[39m\u001b[38;5;124m'\u001b[39m: \u001b[38;5;124m'\u001b[39m\u001b[38;5;124mtype: int\u001b[39m\u001b[38;5;124m'\u001b[39m},\n\u001b[1;32m     18\u001b[0m                   llm \u001b[38;5;241m=\u001b[39m agent\u001b[38;5;241m.\u001b[39mllm,\n\u001b[1;32m     19\u001b[0m                   model \u001b[38;5;241m=\u001b[39m agent\u001b[38;5;241m.\u001b[39mkwargs\u001b[38;5;241m.\u001b[39mget(\u001b[38;5;124m'\u001b[39m\u001b[38;5;124mmodel\u001b[39m\u001b[38;5;124m'\u001b[39m, \u001b[38;5;124m'\u001b[39m\u001b[38;5;124mgpt-3.5-turbo\u001b[39m\u001b[38;5;124m'\u001b[39m))\n",
      "File \u001b[0;32m~/anaconda3/lib/python3.11/site-packages/ipykernel/kernelbase.py:1175\u001b[0m, in \u001b[0;36mKernel.raw_input\u001b[0;34m(self, prompt)\u001b[0m\n\u001b[1;32m   1171\u001b[0m \u001b[38;5;28;01mif\u001b[39;00m \u001b[38;5;129;01mnot\u001b[39;00m \u001b[38;5;28mself\u001b[39m\u001b[38;5;241m.\u001b[39m_allow_stdin:\n\u001b[1;32m   1172\u001b[0m     \u001b[38;5;28;01mraise\u001b[39;00m StdinNotImplementedError(\n\u001b[1;32m   1173\u001b[0m         \u001b[38;5;124m\"\u001b[39m\u001b[38;5;124mraw_input was called, but this frontend does not support input requests.\u001b[39m\u001b[38;5;124m\"\u001b[39m\n\u001b[1;32m   1174\u001b[0m     )\n\u001b[0;32m-> 1175\u001b[0m \u001b[38;5;28;01mreturn\u001b[39;00m \u001b[38;5;28mself\u001b[39m\u001b[38;5;241m.\u001b[39m_input_request(\n\u001b[1;32m   1176\u001b[0m     \u001b[38;5;28mstr\u001b[39m(prompt),\n\u001b[1;32m   1177\u001b[0m     \u001b[38;5;28mself\u001b[39m\u001b[38;5;241m.\u001b[39m_parent_ident[\u001b[38;5;124m\"\u001b[39m\u001b[38;5;124mshell\u001b[39m\u001b[38;5;124m\"\u001b[39m],\n\u001b[1;32m   1178\u001b[0m     \u001b[38;5;28mself\u001b[39m\u001b[38;5;241m.\u001b[39mget_parent(\u001b[38;5;124m\"\u001b[39m\u001b[38;5;124mshell\u001b[39m\u001b[38;5;124m\"\u001b[39m),\n\u001b[1;32m   1179\u001b[0m     password\u001b[38;5;241m=\u001b[39m\u001b[38;5;28;01mFalse\u001b[39;00m,\n\u001b[1;32m   1180\u001b[0m )\n",
      "File \u001b[0;32m~/anaconda3/lib/python3.11/site-packages/ipykernel/kernelbase.py:1217\u001b[0m, in \u001b[0;36mKernel._input_request\u001b[0;34m(self, prompt, ident, parent, password)\u001b[0m\n\u001b[1;32m   1214\u001b[0m             \u001b[38;5;28;01mbreak\u001b[39;00m\n\u001b[1;32m   1215\u001b[0m \u001b[38;5;28;01mexcept\u001b[39;00m \u001b[38;5;167;01mKeyboardInterrupt\u001b[39;00m:\n\u001b[1;32m   1216\u001b[0m     \u001b[38;5;66;03m# re-raise KeyboardInterrupt, to truncate traceback\u001b[39;00m\n\u001b[0;32m-> 1217\u001b[0m     \u001b[38;5;28;01mraise\u001b[39;00m \u001b[38;5;167;01mKeyboardInterrupt\u001b[39;00m(\u001b[38;5;124m\"\u001b[39m\u001b[38;5;124mInterrupted by user\u001b[39m\u001b[38;5;124m\"\u001b[39m) \u001b[38;5;28;01mfrom\u001b[39;00m \u001b[38;5;28;01mNone\u001b[39;00m\n\u001b[1;32m   1218\u001b[0m \u001b[38;5;28;01mexcept\u001b[39;00m \u001b[38;5;167;01mException\u001b[39;00m:\n\u001b[1;32m   1219\u001b[0m     \u001b[38;5;28mself\u001b[39m\u001b[38;5;241m.\u001b[39mlog\u001b[38;5;241m.\u001b[39mwarning(\u001b[38;5;124m\"\u001b[39m\u001b[38;5;124mInvalid Message:\u001b[39m\u001b[38;5;124m\"\u001b[39m, exc_info\u001b[38;5;241m=\u001b[39m\u001b[38;5;28;01mTrue\u001b[39;00m)\n",
      "\u001b[0;31mKeyboardInterrupt\u001b[0m: Interrupted by user"
     ]
    }
   ],
   "source": [
    "math_conversable_agent = ConversableAgent(agent, \n",
    "                                 persistent_memory = {'Current Math Question': '',\n",
    "                                                 'Correct Answer for Question': ''})\n",
    "\n",
    "user_input = ''\n",
    "cur_tries = 0\n",
    "while True:\n",
    "    # Print out current tries\n",
    "    print('Current Tries:', cur_tries)\n",
    "    reply = math_conversable_agent.chat(user_input)\n",
    "    print(agent.agent_name + ':', reply)\n",
    "    user_input = input('User: ')\n",
    "    \n",
    "    # Using LLM to extract out answer to help with processing\n",
    "    res = strict_json('Extract out a single number from the message. If there is no number, output 0', \n",
    "                      user_input, \n",
    "                      output_format = {'Is Number': 'type: bool', 'Extracted Number': 'type: int'},\n",
    "                      llm = agent.llm,\n",
    "                      model = agent.kwargs.get('model', 'gpt-3.5-turbo'))\n",
    "    \n",
    "    if res['Is Number']:\n",
    "        user_input = str(res['Extracted Number'])\n",
    "        ## Do rule-based for solving\n",
    "        if user_input == str(math_conversable_agent.agent.shared_variables['Persistent Memory']['Correct Answer for Question']):\n",
    "            user_input += '\\n[[Oracle: State that the user input is correct. Ask the next question.]]'\n",
    "            cur_tries = 0\n",
    "        elif user_input != str(math_conversable_agent.agent.shared_variables['Persistent Memory']['Correct Answer for Question']):\n",
    "            user_input += '\\n[[Oracle: State that the user input is incorrect. Provide a helpful hint for Correct Answer to Current Math Question without revealing the Correct Answer]]'\n",
    "            cur_tries += 1\n",
    "        if cur_tries == 3:\n",
    "            user_input += '\\n[[Oracle: Three tries are up. Give the Correct Answer. Ask the next question.]]'\n",
    "            cur_tries = 0\n",
    "    \n",
    "    print()\n",
    "    if user_input == 'exit': break"
   ]
  },
  {
   "cell_type": "markdown",
   "id": "5684bf90-f426-4fea-a2f5-efc0e41cfe89",
   "metadata": {},
   "source": [
    "# Example Escape Room Conversation\n",
    "- Using the environment as the 2nd person can mimic a real-world interaction, e.g. robotic environments"
   ]
  },
  {
   "cell_type": "markdown",
   "id": "a56f0690-b717-42ca-83ac-8ef2322d0520",
   "metadata": {},
   "source": [
    "### Defining the Escape Room"
   ]
  },
  {
   "cell_type": "code",
   "execution_count": 58,
   "id": "60f3ad81-b37d-4f48-9906-cedfffeac5a4",
   "metadata": {
    "tags": []
   },
   "outputs": [],
   "source": [
    "class EscapeRoom:\n",
    "    def __init__(self):\n",
    "        # Room states\n",
    "        self.items = {\n",
    "            'key': True,\n",
    "            'lock': True,\n",
    "            'potion': True\n",
    "        }\n",
    "        self.is_door_locked = True\n",
    "        self.game_over = False\n",
    "        self.win = False\n",
    "\n",
    "        # Player's inventory\n",
    "        self.inventory = []\n",
    "\n",
    "        # Actions available\n",
    "        self.actions = {\n",
    "            'look around': self.look_around,\n",
    "            'pick up key': lambda: self.pick_up('key'),\n",
    "            'pick up lock': lambda: self.pick_up('lock'),\n",
    "            'pick up potion': lambda: self.pick_up('potion'),\n",
    "            'unlock door': self.unlock_door,\n",
    "            'exit': self.exit_room,\n",
    "            'drink potion': self.drink_potion\n",
    "        }\n",
    "\n",
    "    def look_around(self):\n",
    "        description = \"You look around and see the following items:\\n\"\n",
    "        for item, available in self.items.items():\n",
    "            if available:\n",
    "                description += f\"- {item}\\n\"\n",
    "        if self.is_door_locked:\n",
    "            description += \"There is a locked door here.\\n\"\n",
    "        else:\n",
    "            description += \"There is an unlocked door here.\\n\"\n",
    "        return description\n",
    "\n",
    "    def pick_up(self, item):\n",
    "        item = item.lower()\n",
    "        if item in self.items and self.items[item]:\n",
    "            self.inventory.append(item)\n",
    "            self.items[item] = False\n",
    "            return f\"You picked up the {item}.\"\n",
    "        else:\n",
    "            return \"There's no such item here or you already picked it up.\"\n",
    "\n",
    "    def unlock_door(self):\n",
    "        if 'key' in self.inventory:\n",
    "            if self.is_door_locked:\n",
    "                self.is_door_locked = False\n",
    "                return \"You unlocked the door. You can try to exit now.\"\n",
    "            else:\n",
    "                return \"The door is already unlocked.\"\n",
    "        else:\n",
    "            return \"You need a key to unlock the door.\"\n",
    "\n",
    "    def exit_room(self):\n",
    "        if not self.is_door_locked:\n",
    "            self.game_over = True\n",
    "            self.win = True\n",
    "            return \"You exit the room and win the game!\"\n",
    "        else:\n",
    "            return \"The door is locked. You can't exit yet.\"\n",
    "\n",
    "    def drink_potion(self):\n",
    "        if 'potion' in self.inventory:\n",
    "            self.inventory.remove('potion')\n",
    "            return \"You drink the potion. You feel stronger!\"\n",
    "        else:\n",
    "            return \"You don't have a potion to drink.\"\n",
    "\n",
    "    def info(self):\n",
    "        state = \"Current Room State:\\n\"\n",
    "        state += self.look_around()\n",
    "        state += \"\\nYour inventory: \" + \", \".join(self.inventory) + \"\\n\"\n",
    "        state += \"\\nAvailable actions:\\n\"\n",
    "        for action in self.actions:\n",
    "            state += f\"- {action}\\n\"\n",
    "        return state\n",
    "\n",
    "    def play(self, action):\n",
    "        if self.game_over:\n",
    "            return \"Game over. Better luck next time!\"\n",
    "\n",
    "        if action in self.actions:\n",
    "            return self.actions[action]()\n",
    "        else:\n",
    "            return \"You can't do that right now.\""
   ]
  },
  {
   "cell_type": "markdown",
   "id": "86e11c87-c360-46f6-9449-32ddbe881061",
   "metadata": {
    "tags": []
   },
   "source": [
    "### Defining the Solver"
   ]
  },
  {
   "cell_type": "code",
   "execution_count": 59,
   "id": "48d8b3cf-334a-4f07-8a27-2072dae69e88",
   "metadata": {
    "tags": []
   },
   "outputs": [],
   "source": [
    "agent = Agent('Escape Room Solver', \n",
    "'''You are an Agent meant to solve the Escape Room Game.\n",
    "You must output one of the Available Actions at each time step.\n",
    "If previous action fails, try another.''',\n",
    "llm = custom_llm)"
   ]
  },
  {
   "cell_type": "code",
   "execution_count": 60,
   "id": "60ab9950-79de-42be-866e-4dcfb6054275",
   "metadata": {
    "tags": []
   },
   "outputs": [],
   "source": [
    "conversable_agent = ConversableAgent(agent, \n",
    "                    persistent_memory = {'Inventory': '', 'List of Past Actions': '', 'Summary of Past Actions' : '', 'List of Rooms Explored': ''},\n",
    "                    person = 'Game')"
   ]
  },
  {
   "cell_type": "code",
   "execution_count": 61,
   "id": "86aa6c2b-052f-41a7-a885-7202663045f0",
   "metadata": {
    "tags": []
   },
   "outputs": [
    {
     "name": "stdout",
     "output_type": "stream",
     "text": [
      "Game: \n",
      "Current Room State:\n",
      "You look around and see the following items:\n",
      "- key\n",
      "- lock\n",
      "- potion\n",
      "There is a locked door here.\n",
      "\n",
      "Your inventory: \n",
      "\n",
      "Available actions:\n",
      "- look around\n",
      "- pick up key\n",
      "- pick up lock\n",
      "- pick up potion\n",
      "- unlock door\n",
      "- exit\n",
      "- drink potion\n",
      "\n",
      "What would you do? You must reply with one of the Available actions\n",
      "\u001b[1m\u001b[32mThoughts: I should consider picking up the key or lock to potentially unlock the door. If that fails, I could try drinking the potion or looking around for more clues.\u001b[0m\n",
      "\u001b[1m\u001b[34mPersistent Memory: {'Inventory': 'key', 'List of Past Actions': 'pick up key', 'Summary of Past Actions': 'Picked up key from the current room.', 'List of Rooms Explored': ''}\u001b[0m\n",
      "\u001b[1m\u001b[35mSummary of Conversation: The agent decided to pick up the key as the next action to potentially unlock the door, building on the strategy of trying different actions if the previous one fails.\u001b[0m\n",
      "Escape Room Solver : pick up key\n",
      "###\n",
      "\n",
      "Game: You picked up the key.\n",
      "Current Room State:\n",
      "You look around and see the following items:\n",
      "- lock\n",
      "- potion\n",
      "There is a locked door here.\n",
      "\n",
      "Your inventory: key\n",
      "\n",
      "Available actions:\n",
      "- look around\n",
      "- pick up key\n",
      "- pick up lock\n",
      "- pick up potion\n",
      "- unlock door\n",
      "- exit\n",
      "- drink potion\n",
      "\n",
      "What would you do? You must reply with one of the Available actions\n",
      "\u001b[1m\u001b[32mThoughts: Since the agent already picked up the key in the previous step, the next logical action would be to try unlocking the door with the key. If that fails, the agent can consider other available actions like looking around or picking up the lock or potion.\u001b[0m\n",
      "\u001b[1m\u001b[34mPersistent Memory: {'Inventory': 'key', 'List of Past Actions': 'pick up key', 'Summary of Past Actions': 'Picked up key from the current room.', 'List of Rooms Explored': ''}\u001b[0m\n",
      "\u001b[1m\u001b[35mSummary of Conversation: The agent proceeded to unlock the door using the key, following the strategy of trying different actions if the previous one fails, and leveraging the inventory item picked up earlier.\u001b[0m\n",
      "Escape Room Solver : unlock door\n",
      "###\n",
      "\n",
      "Game: You unlocked the door. You can try to exit now.\n",
      "Current Room State:\n",
      "You look around and see the following items:\n",
      "- lock\n",
      "- potion\n",
      "There is an unlocked door here.\n",
      "\n",
      "Your inventory: key\n",
      "\n",
      "Available actions:\n",
      "- look around\n",
      "- pick up key\n",
      "- pick up lock\n",
      "- pick up potion\n",
      "- unlock door\n",
      "- exit\n",
      "- drink potion\n",
      "\n",
      "What would you do? You must reply with one of the Available actions\n",
      "\u001b[1m\u001b[32mThoughts: Since the door has been unlocked, the next logical step would be to exit the room. Leveraging the key in the inventory, the agent should choose the 'exit' action to progress in the game.\u001b[0m\n",
      "\u001b[1m\u001b[34mPersistent Memory: {'Inventory': 'key', 'List of Past Actions': 'pick up key', 'Summary of Past Actions': 'Picked up key from the current room.', 'List of Rooms Explored': ''}\u001b[0m\n",
      "\u001b[1m\u001b[35mSummary of Conversation: The agent successfully unlocked the door using the key and proceeded to exit the room, demonstrating effective utilization of inventory items and strategic decision-making based on the game's prompts.\u001b[0m\n",
      "Escape Room Solver : exit\n",
      "###\n",
      "\n"
     ]
    }
   ],
   "source": [
    "# To play the game\n",
    "game = EscapeRoom()\n",
    "newstate = ''\n",
    "\n",
    "while not game.game_over:\n",
    "    state = newstate + '\\n' + game.info() + '\\nWhat would you do? You must reply with one of the Available actions'\n",
    "    print('Game:', state)\n",
    "    reply = conversable_agent.chat(state)\n",
    "    print(conversable_agent.agent.agent_name, ':', reply)\n",
    "    print('###\\n')\n",
    "    newstate = game.play(reply)"
   ]
  },
  {
   "cell_type": "markdown",
   "id": "8742b073-ac64-4ee7-8297-34646d8e3671",
   "metadata": {
    "tags": []
   },
   "source": [
    "# Can we solve Harder Rooms\n",
    "- Live coding to solve Escape Room with multiple rooms"
   ]
  },
  {
   "cell_type": "code",
   "execution_count": 47,
   "id": "85ac537c-5497-4ae1-bb98-4d1f6ad01277",
   "metadata": {},
   "outputs": [],
   "source": [
    "class EscapeRoom:\n",
    "    def __init__(self):\n",
    "        # Room states\n",
    "        self.rooms = {\n",
    "            'Room 1': {\n",
    "                'items': {\n",
    "                    'key': True,\n",
    "                    'lock': False,\n",
    "                    'potion': True\n",
    "                },\n",
    "                'is_door_locked': True\n",
    "            },\n",
    "            'Room 2': {\n",
    "                'items': {\n",
    "                    'treasure': True\n",
    "                },\n",
    "                'is_door_locked': True\n",
    "            }\n",
    "        }\n",
    "        self.current_room = 'Room 1'\n",
    "        self.game_over = False\n",
    "        self.win = False\n",
    "\n",
    "        # Player's inventory\n",
    "        self.inventory = []\n",
    "\n",
    "        # Actions available\n",
    "        self.actions = {\n",
    "            'look around': self.look_around,\n",
    "            'pick up key': lambda: self.pick_up('key'),\n",
    "            'pick up lock': lambda: self.pick_up('lock'),\n",
    "            'pick up potion': lambda: self.pick_up('potion'),\n",
    "            'pick up treasure': lambda: self.pick_up('treasure'),\n",
    "            'unlock door': self.unlock_door,\n",
    "            'enter next room': self.enter_next_room,\n",
    "            'exit': self.exit_room,\n",
    "            'drink potion': self.drink_potion\n",
    "        }\n",
    "\n",
    "    def look_around(self):\n",
    "        room = self.rooms[self.current_room]\n",
    "        description = f\"You look around and see the following items in {self.current_room}:\\n\"\n",
    "        for item, available in room['items'].items():\n",
    "            if available:\n",
    "                description += f\"- {item}\\n\"\n",
    "        if room['is_door_locked']:\n",
    "            description += \"There is a locked door here.\\n\"\n",
    "        else:\n",
    "            description += \"There is an unlocked door here.\\n\"\n",
    "        return description\n",
    "\n",
    "    def pick_up(self, item):\n",
    "        item = item.lower()\n",
    "        room = self.rooms[self.current_room]\n",
    "        if item in room['items'] and room['items'][item]:\n",
    "            self.inventory.append(item)\n",
    "            room['items'][item] = False\n",
    "            return f\"You picked up the {item}.\"\n",
    "        else:\n",
    "            return \"There's no such item here or you already picked it up.\"\n",
    "\n",
    "    def unlock_door(self):\n",
    "        room = self.rooms[self.current_room]\n",
    "        if 'key' in self.inventory:\n",
    "            if room['is_door_locked']:\n",
    "                room['is_door_locked'] = False\n",
    "                return \"You unlocked the door. You can try to enter the next room now.\"\n",
    "            else:\n",
    "                return \"The door is already unlocked.\"\n",
    "        else:\n",
    "            return \"You need a key to unlock the door.\"\n",
    "\n",
    "    def enter_next_room(self):\n",
    "        if self.current_room == 'Room 1' and not self.rooms['Room 1']['is_door_locked']:\n",
    "            self.current_room = 'Room 2'\n",
    "            return \"You enter the next room.\"\n",
    "        elif self.current_room == 'Room 2' and not self.rooms['Room 2']['is_door_locked']:\n",
    "            return self.exit_room()\n",
    "        else:\n",
    "            return \"The door is locked. You can't enter the next room yet.\"\n",
    "\n",
    "    def exit_room(self):\n",
    "        if self.current_room == 'Room 2':\n",
    "            self.game_over = True\n",
    "            self.win = True\n",
    "            return \"You exit the room and win the game!\"\n",
    "        else:\n",
    "            return \"You can't exit from here.\"\n",
    "\n",
    "    def drink_potion(self):\n",
    "        if 'potion' in self.inventory:\n",
    "            self.inventory.remove('potion')\n",
    "            return \"You drink the potion. You feel stronger!\"\n",
    "        else:\n",
    "            return \"You don't have a potion to drink.\"\n",
    "\n",
    "    def info(self):\n",
    "        state = \"Current Room State:\\n\"\n",
    "        state += self.look_around()\n",
    "        state += \"\\nYour inventory: \" + \", \".join(self.inventory) + \"\\n\"\n",
    "        state += \"\\nAvailable actions:\\n\"\n",
    "        for action in self.actions:\n",
    "            state += f\"- {action}\\n\"\n",
    "        return state\n",
    "\n",
    "    def play(self, action):\n",
    "        if self.game_over:\n",
    "            return \"Game over. Better luck next time!\"\n",
    "\n",
    "        if action in self.actions:\n",
    "            return self.actions[action]()\n",
    "        else:\n",
    "            return \"You can't do that right now.\"\n",
    "\n",
    "# Example usage\n",
    "# escape_room = EscapeRoom()\n",
    "# print(escape_room.info())\n",
    "# print(escape_room.play('look around'))\n",
    "# print(escape_room.play('pick up key'))\n",
    "# print(escape_room.play('unlock door'))\n",
    "# print(escape_room.play('enter next room'))\n",
    "# print(escape_room.play('look around'))\n",
    "# print(escape_room.play('pick up treasure'))\n",
    "# print(escape_room.play('exit'))"
   ]
  },
  {
   "cell_type": "code",
   "execution_count": 48,
   "id": "5f8ea770-9620-4f20-a3e7-d880c759b91a",
   "metadata": {},
   "outputs": [],
   "source": [
    "agent = Agent('Escape Room Solver', \n",
    "'''You are an Agent meant to solve the Escape Room Game.\n",
    "You must output one of the Available Actions at each time step.\n",
    "If previous action fails, try another.''',\n",
    "llm = custom_llm)"
   ]
  },
  {
   "cell_type": "code",
   "execution_count": 53,
   "id": "401cd4c1-446b-40fb-b0de-f1696c2ceb7a",
   "metadata": {
    "tags": []
   },
   "outputs": [],
   "source": [
    "conversable_agent = ConversableAgent(agent, \n",
    "                persistent_memory = {'Inventory': '', 'List of Past Actions': '', 'Summary of Past Actions' : '', 'List of Rooms Explored': ''},  \n",
    "                person = 'Game')"
   ]
  },
  {
   "cell_type": "code",
   "execution_count": 54,
   "id": "f852b7e4-2998-4bf8-b147-f55ca12d78cf",
   "metadata": {
    "tags": []
   },
   "outputs": [
    {
     "name": "stdout",
     "output_type": "stream",
     "text": [
      "Game: \n",
      "Current Room State:\n",
      "You look around and see the following items in Room 1:\n",
      "- key\n",
      "- potion\n",
      "There is a locked door here.\n",
      "\n",
      "Your inventory: \n",
      "\n",
      "Available actions:\n",
      "- look around\n",
      "- pick up key\n",
      "- pick up lock\n",
      "- pick up potion\n",
      "- pick up treasure\n",
      "- unlock door\n",
      "- enter next room\n",
      "- exit\n",
      "- drink potion\n",
      "\n",
      "What would you do? You must reply with one of the Available actions\n",
      "\u001b[1m\u001b[32mThoughts: Since the room contains a key and a potion, we should consider picking them up. If the door is locked, we might need to unlock it using the key. Drinking the potion could also be beneficial. We should reply with one of the available actions based on these considerations.\u001b[0m\n",
      "\u001b[1m\u001b[34mPersistent Memory: {'Inventory': 'key', 'List of Past Actions': 'pick up key', 'Summary of Past Actions': 'Picked up key in Room 1', 'List of Rooms Explored': 'Room 1'}\u001b[0m\n",
      "\u001b[1m\u001b[35mSummary of Conversation: The agent decided to pick up the key in the room, indicating progress towards potentially unlocking the door and advancing in the game.\u001b[0m\n",
      "Escape Room Solver : pick up key\n",
      "###\n",
      "\n",
      "Game: You picked up the key.\n",
      "Current Room State:\n",
      "You look around and see the following items in Room 1:\n",
      "- potion\n",
      "There is a locked door here.\n",
      "\n",
      "Your inventory: key\n",
      "\n",
      "Available actions:\n",
      "- look around\n",
      "- pick up key\n",
      "- pick up lock\n",
      "- pick up potion\n",
      "- pick up treasure\n",
      "- unlock door\n",
      "- enter next room\n",
      "- exit\n",
      "- drink potion\n",
      "\n",
      "What would you do? You must reply with one of the Available actions\n",
      "\u001b[1m\u001b[32mThoughts: Since the agent has already picked up the key in Room 1, the next logical step would be to look around for any other items or clues that might help progress further in the game.\u001b[0m\n",
      "\u001b[1m\u001b[34mPersistent Memory: {'Inventory': 'key', 'List of Past Actions': 'pick up key', 'Summary of Past Actions': 'Picked up key in Room 1', 'List of Rooms Explored': 'Room 1'}\u001b[0m\n",
      "\u001b[1m\u001b[35mSummary of Conversation: The agent successfully picked up the key in Room 1 and is now proceeding to explore the surroundings by looking around for potential clues or items.\"\u001b[0m\n",
      "Escape Room Solver : look around\n",
      "###\n",
      "\n",
      "Game: You look around and see the following items in Room 1:\n",
      "- potion\n",
      "There is a locked door here.\n",
      "\n",
      "Current Room State:\n",
      "You look around and see the following items in Room 1:\n",
      "- potion\n",
      "There is a locked door here.\n",
      "\n",
      "Your inventory: key\n",
      "\n",
      "Available actions:\n",
      "- look around\n",
      "- pick up key\n",
      "- pick up lock\n",
      "- pick up potion\n",
      "- pick up treasure\n",
      "- unlock door\n",
      "- enter next room\n",
      "- exit\n",
      "- drink potion\n",
      "\n",
      "What would you do? You must reply with one of the Available actions\n",
      "\u001b[1m\u001b[32mThoughts: Since the agent has already picked up the key in Room 1 and the inventory shows the key, the next logical step would be to try and unlock the door using the key from the inventory.\u001b[0m\n",
      "\u001b[1m\u001b[34mPersistent Memory: {'Inventory': 'key', 'List of Past Actions': 'pick up key, unlock door', 'Summary of Past Actions': 'Picked up key in Room 1, Unlocked door in Room 1', 'List of Rooms Explored': 'Room 1'}\u001b[0m\n",
      "\u001b[1m\u001b[35mSummary of Conversation: The agent successfully picked up the key in Room 1, explored the surroundings by looking around, and is now attempting to unlock the door using the key.\u001b[0m\n",
      "Escape Room Solver : unlock door\n",
      "###\n",
      "\n",
      "Game: You unlocked the door. You can try to enter the next room now.\n",
      "Current Room State:\n",
      "You look around and see the following items in Room 1:\n",
      "- potion\n",
      "There is an unlocked door here.\n",
      "\n",
      "Your inventory: key\n",
      "\n",
      "Available actions:\n",
      "- look around\n",
      "- pick up key\n",
      "- pick up lock\n",
      "- pick up potion\n",
      "- pick up treasure\n",
      "- unlock door\n",
      "- enter next room\n",
      "- exit\n",
      "- drink potion\n",
      "\n",
      "What would you do? You must reply with one of the Available actions\n",
      "\u001b[1m\u001b[32mThoughts: Based on the past actions of picking up the key and unlocking the door successfully, the next logical step would be to enter the next room. This action aligns with the progression in the game and the current state of having an unlocked door available for entry.\u001b[0m\n",
      "\u001b[1m\u001b[34mPersistent Memory: {'Inventory': 'key, potion', 'List of Past Actions': 'pick up key, unlock door, enter next room', 'Summary of Past Actions': 'Picked up key in Room 1, Unlocked door in Room 1, Entered next room from Room 1', 'List of Rooms Explored': 'Room 1'}\u001b[0m\n",
      "\u001b[1m\u001b[35mSummary of Conversation: The agent successfully picked up the key, unlocked the door, and is now proceeding to enter the next room, showcasing a methodical approach to solving the escape room challenges.\u001b[0m\n",
      "Escape Room Solver : enter next room\n",
      "###\n",
      "\n",
      "Game: You enter the next room.\n",
      "Current Room State:\n",
      "You look around and see the following items in Room 2:\n",
      "- treasure\n",
      "There is a locked door here.\n",
      "\n",
      "Your inventory: key\n",
      "\n",
      "Available actions:\n",
      "- look around\n",
      "- pick up key\n",
      "- pick up lock\n",
      "- pick up potion\n",
      "- pick up treasure\n",
      "- unlock door\n",
      "- enter next room\n",
      "- exit\n",
      "- drink potion\n",
      "\n",
      "What would you do? You must reply with one of the Available actions\n",
      "\u001b[1m\u001b[32mThoughts: Based on the past actions of picking up the key, unlocking the door, and entering the next room, the logical next step would be to look around in Room 2 to gather information about the new environment before proceeding.\u001b[0m\n",
      "\u001b[1m\u001b[34mPersistent Memory: {'Inventory': 'key', 'List of Past Actions': 'pick up key, unlock door, enter next room, look around', 'Summary of Past Actions': 'Picked up key in Room 1, Unlocked door in Room 1, Entered next room from Room 1, Looked around in Room 2', 'List of Rooms Explored': 'Room 1, Room 2'}\u001b[0m\n",
      "\u001b[1m\u001b[35mSummary of Conversation: The agent successfully navigated through Room 1 by picking up the key, unlocking the door, and entering the next room. Now in Room 2, the agent is carefully examining the surroundings before taking further actions.\u001b[0m\n",
      "Escape Room Solver : look around\n",
      "###\n",
      "\n",
      "Game: You look around and see the following items in Room 2:\n",
      "- treasure\n",
      "There is a locked door here.\n",
      "\n",
      "Current Room State:\n",
      "You look around and see the following items in Room 2:\n",
      "- treasure\n",
      "There is a locked door here.\n",
      "\n",
      "Your inventory: key\n",
      "\n",
      "Available actions:\n",
      "- look around\n",
      "- pick up key\n",
      "- pick up lock\n",
      "- pick up potion\n",
      "- pick up treasure\n",
      "- unlock door\n",
      "- enter next room\n",
      "- exit\n",
      "- drink potion\n",
      "\n",
      "What would you do? You must reply with one of the Available actions\n",
      "\u001b[1m\u001b[32mThoughts: Since the agent has already picked up the key in Room 1 and used it to unlock the door, it should consider picking up the treasure in Room 2 before attempting to unlock the door. The agent should reply with 'pick up treasure'.\u001b[0m\n",
      "\u001b[1m\u001b[34mPersistent Memory: {'Inventory': 'key', 'List of Past Actions': 'pick up key, unlock door, enter next room, look around, pick up treasure', 'Summary of Past Actions': 'Picked up key in Room 1, Unlocked door in Room 1, Entered next room from Room 1, Looked around in Room 2, Picked up treasure in Room 2', 'List of Rooms Explored': 'Room 1, Room 2'}\u001b[0m\n",
      "\u001b[1m\u001b[35mSummary of Conversation: The agent successfully navigated through Room 1 by picking up the key, unlocking the door, and entering the next room. In Room 2, the agent is now focusing on picking up the treasure before proceeding further.\u001b[0m\n",
      "Escape Room Solver : pick up treasure\n",
      "###\n",
      "\n",
      "Game: You picked up the treasure.\n",
      "Current Room State:\n",
      "You look around and see the following items in Room 2:\n",
      "There is a locked door here.\n",
      "\n",
      "Your inventory: key, treasure\n",
      "\n",
      "Available actions:\n",
      "- look around\n",
      "- pick up key\n",
      "- pick up lock\n",
      "- pick up potion\n",
      "- pick up treasure\n",
      "- unlock door\n",
      "- enter next room\n",
      "- exit\n",
      "- drink potion\n",
      "\n",
      "What would you do? You must reply with one of the Available actions\n",
      "\u001b[1m\u001b[32mThoughts: Since the agent has already picked up the treasure, the next logical step would be to unlock the door in Room 2. This action is in line with the agent's progress so far and the available actions in the current room.\u001b[0m\n",
      "\u001b[1m\u001b[34mPersistent Memory: {'Inventory': 'key, treasure', 'List of Past Actions': 'pick up key, unlock door, enter next room, look around, pick up treasure, unlock door', 'Summary of Past Actions': 'Picked up key in Room 1, Unlocked door in Room 1, Entered next room from Room 1, Looked around in Room 2, Picked up treasure in Room 2, Unlocked door in Room 2', 'List of Rooms Explored': 'Room 1, Room 2'}\u001b[0m\n",
      "\u001b[1m\u001b[35mSummary of Conversation: The agent successfully picked up the treasure in Room 2 and is now focusing on unlocking the door to progress further in the game, demonstrating strategic decision-making and progress in solving the escape room challenges.\u001b[0m\n",
      "Escape Room Solver : unlock door\n",
      "###\n",
      "\n",
      "Game: You unlocked the door. You can try to enter the next room now.\n",
      "Current Room State:\n",
      "You look around and see the following items in Room 2:\n",
      "There is an unlocked door here.\n",
      "\n",
      "Your inventory: key, treasure\n",
      "\n",
      "Available actions:\n",
      "- look around\n",
      "- pick up key\n",
      "- pick up lock\n",
      "- pick up potion\n",
      "- pick up treasure\n",
      "- unlock door\n",
      "- enter next room\n",
      "- exit\n",
      "- drink potion\n",
      "\n",
      "What would you do? You must reply with one of the Available actions\n",
      "\u001b[1m\u001b[32mThoughts: Since the door is now unlocked, the next logical step would be to enter the next room. This action aligns with the progress made so far in the game and the goal of advancing through the escape room challenges.\u001b[0m\n",
      "\u001b[1m\u001b[34mPersistent Memory: {'Inventory': 'key, treasure', 'List of Past Actions': 'pick up key, unlock door, enter next room, look around, pick up treasure, unlock door, enter next room', 'Summary of Past Actions': 'Picked up key in Room 1, Unlocked door in Room 1, Entered next room from Room 1, Looked around in Room 2, Picked up treasure in Room 2, Unlocked door in Room 2, Entered next room from Room 2', 'List of Rooms Explored': 'Room 1, Room 2'}\u001b[0m\n",
      "\u001b[1m\u001b[35mSummary of Conversation: The agent successfully unlocked the door in Room 2 and is now proceeding to enter the next room, showcasing a methodical approach in solving the escape room puzzles and advancing through different rooms.\u001b[0m\n",
      "Escape Room Solver : enter next room\n",
      "###\n",
      "\n"
     ]
    }
   ],
   "source": [
    "# To play the game\n",
    "game = EscapeRoom()\n",
    "newstate = ''\n",
    "\n",
    "while not game.game_over:\n",
    "    state = newstate + '\\n' + game.info() + '\\nWhat would you do? You must reply with one of the Available actions'\n",
    "    print('Game:', state)\n",
    "    reply = conversable_agent.chat(state)\n",
    "    print(conversable_agent.agent.agent_name, ':', reply)\n",
    "    print('###\\n')\n",
    "    newstate = game.play(reply)"
   ]
  },
  {
   "cell_type": "code",
   "execution_count": null,
   "id": "42920053-c4b3-4e1a-b942-0cb14bcbe624",
   "metadata": {},
   "outputs": [],
   "source": []
  }
 ],
 "metadata": {
  "kernelspec": {
   "display_name": "Python 3 (ipykernel)",
   "language": "python",
   "name": "python3"
  },
  "language_info": {
   "codemirror_mode": {
    "name": "ipython",
    "version": 3
   },
   "file_extension": ".py",
   "mimetype": "text/x-python",
   "name": "python",
   "nbconvert_exporter": "python",
   "pygments_lexer": "ipython3",
   "version": "3.11.3"
  }
 },
 "nbformat": 4,
 "nbformat_minor": 5
}
