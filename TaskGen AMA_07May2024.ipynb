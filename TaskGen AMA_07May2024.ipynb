{
 "cells": [
  {
   "cell_type": "markdown",
   "id": "2fa1e388-b8f4-4fa3-be5a-ba7c6caae038",
   "metadata": {
    "tags": []
   },
   "source": [
    "# TaskGen Ask Me Anything\n",
    "- 7 May 2024\n",
    "- John Tan Chong Min\n",
    "- Updated on 9 May 2024, using TaskGen v2.0.0 to make it more robust and handle multi-step instructions better (removed list of steps to constrain generation, and instead, replan after each subtask)"
   ]
  },
  {
   "cell_type": "code",
   "execution_count": 1,
   "id": "db31585a-1502-490c-ae8a-c60f9dcdb73f",
   "metadata": {
    "tags": []
   },
   "outputs": [],
   "source": [
    "# !pip install taskgen-ai"
   ]
  },
  {
   "cell_type": "code",
   "execution_count": 2,
   "id": "076adf5e-beb1-4b19-9078-34ab1b7d9afe",
   "metadata": {
    "tags": []
   },
   "outputs": [],
   "source": [
    "# Set up API key and do the necessary imports\n",
    "import os\n",
    "from taskgen import *\n",
    "import random\n",
    "\n",
    "os.environ['OPENAI_API_KEY'] = '<YOUR API KEY HERE>'"
   ]
  },
  {
   "cell_type": "markdown",
   "id": "b7ece608-45cd-461c-8e96-7d0a8c037d72",
   "metadata": {
    "tags": []
   },
   "source": [
    "# Default Agent"
   ]
  },
  {
   "cell_type": "code",
   "execution_count": 3,
   "id": "780199d4-689c-4ef3-a844-e7e2fbe5e094",
   "metadata": {
    "tags": []
   },
   "outputs": [],
   "source": [
    "# you can use a custom LLM with TaskGen by adding it to Agent()\n",
    "def custom_llm(system_prompt: str, user_prompt: str):\n",
    "    ''' Here, we use OpenAI for illustration, you can change it to your own LLM '''\n",
    "    # ensure your LLM imports are all within this function\n",
    "    from openai import OpenAI\n",
    "    \n",
    "    # define your own LLM here\n",
    "    client = OpenAI()\n",
    "    response = client.chat.completions.create(\n",
    "        model='gpt-3.5-turbo',\n",
    "        temperature = 0,\n",
    "        messages=[\n",
    "            {\"role\": \"system\", \"content\": system_prompt},\n",
    "            {\"role\": \"user\", \"content\": user_prompt}\n",
    "        ]\n",
    "    )\n",
    "    return response.choices[0].message.content"
   ]
  },
  {
   "cell_type": "code",
   "execution_count": 4,
   "id": "86b29290-fbaf-40ae-8170-2f47cfe1698e",
   "metadata": {
    "tags": []
   },
   "outputs": [],
   "source": [
    "agent = Agent('Cooking Expert','Provides cooking guidance', max_subtasks = 10, llm = custom_llm)"
   ]
  },
  {
   "cell_type": "code",
   "execution_count": 5,
   "id": "ed76e0f3-5598-41ba-bb42-ca06eb7c2156",
   "metadata": {
    "tags": []
   },
   "outputs": [
    {
     "name": "stdout",
     "output_type": "stream",
     "text": [
      "Subtask identified: Explain the steps to cook pasta\n",
      "Getting LLM to perform the following task: Explain the steps to cook pasta\n",
      "> To cook pasta, follow these steps: \n",
      "1. Boil water in a large pot. \n",
      "2. Add salt to the boiling water. \n",
      "3. Add the pasta to the pot and stir occasionally. \n",
      "4. Cook the pasta according to the package instructions for al dente texture. \n",
      "5. Once the pasta is cooked, drain it in a colander. \n",
      "6. You can then mix the pasta with your desired sauce and toppings before serving.\n",
      "\n",
      "Task completed successfully!\n",
      "\n"
     ]
    },
    {
     "data": {
      "text/plain": [
       "['To cook pasta, follow these steps: \\n1. Boil water in a large pot. \\n2. Add salt to the boiling water. \\n3. Add the pasta to the pot and stir occasionally. \\n4. Cook the pasta according to the package instructions for al dente texture. \\n5. Once the pasta is cooked, drain it in a colander. \\n6. You can then mix the pasta with your desired sauce and toppings before serving.']"
      ]
     },
     "execution_count": 5,
     "metadata": {},
     "output_type": "execute_result"
    }
   ],
   "source": [
    "agent.run('Tell me how to cook pasta')"
   ]
  },
  {
   "cell_type": "code",
   "execution_count": 6,
   "id": "ba6365d7-5a73-44b7-8cde-0f0799ab8cd3",
   "metadata": {
    "tags": []
   },
   "outputs": [
    {
     "name": "stdout",
     "output_type": "stream",
     "text": [
      "Agent Name: Cooking Expert\n",
      "Agent Description: Provides cooking guidance\n",
      "Available Functions: ['use_llm', 'end_task']\n",
      "Task: Tell me how to cook pasta\n",
      "Subtasks Completed:\n",
      "Subtask: Explain the steps to cook pasta\n",
      "To cook pasta, follow these steps: \n",
      "1. Boil water in a large pot. \n",
      "2. Add salt to the boiling water. \n",
      "3. Add the pasta to the pot and stir occasionally. \n",
      "4. Cook the pasta according to the package instructions for al dente texture. \n",
      "5. Once the pasta is cooked, drain it in a colander. \n",
      "6. You can then mix the pasta with your desired sauce and toppings before serving.\n",
      "\n",
      "Is Task Completed: True\n"
     ]
    }
   ],
   "source": [
    "agent.status()"
   ]
  },
  {
   "cell_type": "code",
   "execution_count": 7,
   "id": "dd7eb53d-2136-4c10-b1c4-1e4b42cc79c2",
   "metadata": {
    "tags": []
   },
   "outputs": [
    {
     "name": "stdout",
     "output_type": "stream",
     "text": [
      "To cook pasta, follow these steps: \n",
      "1. Boil water in a large pot. \n",
      "2. Add salt to the boiling water. \n",
      "3. Add the pasta to the pot and stir occasionally. \n",
      "4. Cook the pasta according to the package instructions for al dente texture. \n",
      "5. Once the pasta is cooked, drain it in a colander. \n",
      "6. You can then mix the pasta with your desired sauce and toppings before serving.\n"
     ]
    },
    {
     "data": {
      "text/plain": [
       "'To cook pasta, follow these steps: \\n1. Boil water in a large pot. \\n2. Add salt to the boiling water. \\n3. Add the pasta to the pot and stir occasionally. \\n4. Cook the pasta according to the package instructions for al dente texture. \\n5. Once the pasta is cooked, drain it in a colander. \\n6. You can then mix the pasta with your desired sauce and toppings before serving.'"
      ]
     },
     "execution_count": 7,
     "metadata": {},
     "output_type": "execute_result"
    }
   ],
   "source": [
    "agent.reply_user('Give me in bullet point format how to cook pasta')"
   ]
  },
  {
   "cell_type": "code",
   "execution_count": 8,
   "id": "5331fcfd-de62-4f5a-a78b-5fd6e2a60a2f",
   "metadata": {
    "tags": []
   },
   "outputs": [
    {
     "name": "stdout",
     "output_type": "stream",
     "text": [
      "Agent Name: Cooking Expert\n",
      "Agent Description: Provides cooking guidance\n",
      "Available Functions: ['use_llm', 'end_task']\n",
      "Task: Tell me how to cook pasta\n",
      "Subtasks Completed:\n",
      "Subtask: Explain the steps to cook pasta\n",
      "To cook pasta, follow these steps: \n",
      "1. Boil water in a large pot. \n",
      "2. Add salt to the boiling water. \n",
      "3. Add the pasta to the pot and stir occasionally. \n",
      "4. Cook the pasta according to the package instructions for al dente texture. \n",
      "5. Once the pasta is cooked, drain it in a colander. \n",
      "6. You can then mix the pasta with your desired sauce and toppings before serving.\n",
      "\n",
      "Subtask: Give me in bullet point format how to cook pasta\n",
      "To cook pasta, follow these steps: \n",
      "1. Boil water in a large pot. \n",
      "2. Add salt to the boiling water. \n",
      "3. Add the pasta to the pot and stir occasionally. \n",
      "4. Cook the pasta according to the package instructions for al dente texture. \n",
      "5. Once the pasta is cooked, drain it in a colander. \n",
      "6. You can then mix the pasta with your desired sauce and toppings before serving.\n",
      "\n",
      "Is Task Completed: True\n"
     ]
    }
   ],
   "source": [
    "agent.status()"
   ]
  },
  {
   "cell_type": "code",
   "execution_count": 9,
   "id": "ec917ca5-78b7-4b8d-8e4b-9f61bb95d980",
   "metadata": {
    "tags": []
   },
   "outputs": [
    {
     "name": "stdout",
     "output_type": "stream",
     "text": [
      "Subtask identified: Provide instructions on how to cook bratwurst sausages\n",
      "Getting LLM to perform the following task: Provide instructions on how to cook bratwurst sausages\n",
      "> To cook bratwurst sausages, start by preheating a grill or skillet to medium-high heat. Place the sausages on the grill or skillet and cook for about 5-7 minutes per side, or until they are browned and cooked through. You can also add sliced onions and peppers to the grill for extra flavor. Once the sausages are cooked, serve them on a bun with your favorite toppings like mustard, sauerkraut, or grilled onions.\n",
      "\n",
      "Task completed successfully!\n",
      "\n"
     ]
    },
    {
     "data": {
      "text/plain": [
       "['To cook bratwurst sausages, start by preheating a grill or skillet to medium-high heat. Place the sausages on the grill or skillet and cook for about 5-7 minutes per side, or until they are browned and cooked through. You can also add sliced onions and peppers to the grill for extra flavor. Once the sausages are cooked, serve them on a bun with your favorite toppings like mustard, sauerkraut, or grilled onions.']"
      ]
     },
     "execution_count": 9,
     "metadata": {},
     "output_type": "execute_result"
    }
   ],
   "source": [
    "# Note: it is better to reset an agent if you want to change the task\n",
    "agent.reset()\n",
    "agent.run('How to cook bratwurst sausages')"
   ]
  },
  {
   "cell_type": "code",
   "execution_count": 10,
   "id": "c1a68f85-0209-423d-8506-18e6efd126d9",
   "metadata": {
    "tags": []
   },
   "outputs": [
    {
     "name": "stdout",
     "output_type": "stream",
     "text": [
      "Agent Name: Cooking Expert\n",
      "Agent Description: Provides cooking guidance\n",
      "Available Functions: ['use_llm', 'end_task']\n",
      "Task: How to cook bratwurst sausages\n",
      "Subtasks Completed:\n",
      "Subtask: Provide instructions on how to cook bratwurst sausages\n",
      "To cook bratwurst sausages, start by preheating a grill or skillet to medium-high heat. Place the sausages on the grill or skillet and cook for about 5-7 minutes per side, or until they are browned and cooked through. You can also add sliced onions and peppers to the grill for extra flavor. Once the sausages are cooked, serve them on a bun with your favorite toppings like mustard, sauerkraut, or grilled onions.\n",
      "\n",
      "Is Task Completed: True\n"
     ]
    }
   ],
   "source": [
    "agent.status()"
   ]
  },
  {
   "cell_type": "code",
   "execution_count": 11,
   "id": "96ca48bd-fc5f-4cd2-b95b-083702d5d215",
   "metadata": {
    "tags": []
   },
   "outputs": [
    {
     "name": "stdout",
     "output_type": "stream",
     "text": [
      "You should cook the bratwurst sausages for about 5-7 minutes per side, or until they are browned and cooked through.\n"
     ]
    },
    {
     "data": {
      "text/plain": [
       "'You should cook the bratwurst sausages for about 5-7 minutes per side, or until they are browned and cooked through.'"
      ]
     },
     "execution_count": 11,
     "metadata": {},
     "output_type": "execute_result"
    }
   ],
   "source": [
    "# Use stateful = False if you don't want the reply to user to go into Subtasks Completed\n",
    "agent.reply_user('How long should I cook for?', stateful = False)"
   ]
  },
  {
   "cell_type": "code",
   "execution_count": 12,
   "id": "d5c76b71-51f8-4305-ae33-e5c67b06e616",
   "metadata": {
    "tags": []
   },
   "outputs": [
    {
     "name": "stdout",
     "output_type": "stream",
     "text": [
      "Agent Name: Cooking Expert\n",
      "Agent Description: Provides cooking guidance\n",
      "Available Functions: ['use_llm', 'end_task']\n",
      "Task: How to cook bratwurst sausages\n",
      "Subtasks Completed:\n",
      "Subtask: Provide instructions on how to cook bratwurst sausages\n",
      "To cook bratwurst sausages, start by preheating a grill or skillet to medium-high heat. Place the sausages on the grill or skillet and cook for about 5-7 minutes per side, or until they are browned and cooked through. You can also add sliced onions and peppers to the grill for extra flavor. Once the sausages are cooked, serve them on a bun with your favorite toppings like mustard, sauerkraut, or grilled onions.\n",
      "\n",
      "Is Task Completed: True\n"
     ]
    }
   ],
   "source": [
    "agent.status()"
   ]
  },
  {
   "cell_type": "markdown",
   "id": "86949085-f3b5-4d60-beed-b8cec9e09b01",
   "metadata": {
    "tags": []
   },
   "source": [
    "## Stepping through one step at a time"
   ]
  },
  {
   "cell_type": "code",
   "execution_count": 13,
   "id": "0360ca0c-d1a4-4433-985b-676aef030fa8",
   "metadata": {
    "tags": []
   },
   "outputs": [],
   "source": [
    "agent = Agent('Cooking Expert','Provides cooking guidance', max_subtasks = 10, llm = custom_llm)"
   ]
  },
  {
   "cell_type": "code",
   "execution_count": 14,
   "id": "309f3b36-dc75-4745-a312-0c17736009dc",
   "metadata": {
    "tags": []
   },
   "outputs": [
    {
     "name": "stdout",
     "output_type": "stream",
     "text": [
      "Subtask identified: Provide step-by-step instructions on how to cook an omelette\n",
      "Getting LLM to perform the following task: Provide step-by-step instructions on how to cook an omelette\n",
      "> In a bowl, crack <2-3> eggs and whisk them together until well combined. Heat a non-stick skillet over medium heat and add a knob of butter. Once the butter has melted and is bubbling, pour in the whisked eggs. Let the eggs cook for a minute or two until the edges start to set. Using a spatula, gently push the cooked edges towards the center, allowing the uncooked eggs to flow to the edges of the pan. Continue this process until the omelette is mostly set but still slightly runny on top. Add your desired fillings such as cheese, vegetables, or ham to one half of the omelette. Using the spatula, carefully fold the other half of the omelette over the fillings. Cook for another minute to melt the cheese and heat the fillings. Slide the omelette onto a plate and serve hot. Enjoy your delicious omelette!\n",
      "\n"
     ]
    },
    {
     "data": {
      "text/plain": [
       "['In a bowl, crack <2-3> eggs and whisk them together until well combined. Heat a non-stick skillet over medium heat and add a knob of butter. Once the butter has melted and is bubbling, pour in the whisked eggs. Let the eggs cook for a minute or two until the edges start to set. Using a spatula, gently push the cooked edges towards the center, allowing the uncooked eggs to flow to the edges of the pan. Continue this process until the omelette is mostly set but still slightly runny on top. Add your desired fillings such as cheese, vegetables, or ham to one half of the omelette. Using the spatula, carefully fold the other half of the omelette over the fillings. Cook for another minute to melt the cheese and heat the fillings. Slide the omelette onto a plate and serve hot. Enjoy your delicious omelette!']"
      ]
     },
     "execution_count": 14,
     "metadata": {},
     "output_type": "execute_result"
    }
   ],
   "source": [
    "agent.run('How to cook omelette', num_subtasks = 1)"
   ]
  },
  {
   "cell_type": "code",
   "execution_count": 15,
   "id": "fe39d868-f0c6-4e92-9b68-8bed45762ba9",
   "metadata": {
    "tags": []
   },
   "outputs": [
    {
     "name": "stdout",
     "output_type": "stream",
     "text": [
      "Agent Name: Cooking Expert\n",
      "Agent Description: Provides cooking guidance\n",
      "Available Functions: ['use_llm', 'end_task']\n",
      "Task: How to cook omelette\n",
      "Subtasks Completed:\n",
      "Subtask: Provide step-by-step instructions on how to cook an omelette\n",
      "In a bowl, crack <2-3> eggs and whisk them together until well combined. Heat a non-stick skillet over medium heat and add a knob of butter. Once the butter has melted and is bubbling, pour in the whisked eggs. Let the eggs cook for a minute or two until the edges start to set. Using a spatula, gently push the cooked edges towards the center, allowing the uncooked eggs to flow to the edges of the pan. Continue this process until the omelette is mostly set but still slightly runny on top. Add your desired fillings such as cheese, vegetables, or ham to one half of the omelette. Using the spatula, carefully fold the other half of the omelette over the fillings. Cook for another minute to melt the cheese and heat the fillings. Slide the omelette onto a plate and serve hot. Enjoy your delicious omelette!\n",
      "\n",
      "Is Task Completed: False\n"
     ]
    }
   ],
   "source": [
    "agent.status()"
   ]
  },
  {
   "cell_type": "code",
   "execution_count": 16,
   "id": "6230fd3d-f679-4429-9977-230bcc616cb2",
   "metadata": {
    "tags": []
   },
   "outputs": [
    {
     "name": "stdout",
     "output_type": "stream",
     "text": [
      "Task completed successfully!\n",
      "\n"
     ]
    },
    {
     "data": {
      "text/plain": [
       "['In a bowl, crack <2-3> eggs and whisk them together until well combined. Heat a non-stick skillet over medium heat and add a knob of butter. Once the butter has melted and is bubbling, pour in the whisked eggs. Let the eggs cook for a minute or two until the edges start to set. Using a spatula, gently push the cooked edges towards the center, allowing the uncooked eggs to flow to the edges of the pan. Continue this process until the omelette is mostly set but still slightly runny on top. Add your desired fillings such as cheese, vegetables, or ham to one half of the omelette. Using the spatula, carefully fold the other half of the omelette over the fillings. Cook for another minute to melt the cheese and heat the fillings. Slide the omelette onto a plate and serve hot. Enjoy your delicious omelette!']"
      ]
     },
     "execution_count": 16,
     "metadata": {},
     "output_type": "execute_result"
    }
   ],
   "source": [
    "agent.run('How to cook omelette', num_subtasks = 1)"
   ]
  },
  {
   "cell_type": "code",
   "execution_count": 17,
   "id": "d9020c13-6435-4c49-ae52-12fa63cd0037",
   "metadata": {
    "tags": []
   },
   "outputs": [
    {
     "name": "stdout",
     "output_type": "stream",
     "text": [
      "Agent Name: Cooking Expert\n",
      "Agent Description: Provides cooking guidance\n",
      "Available Functions: ['use_llm', 'end_task']\n",
      "Task: How to cook omelette\n",
      "Subtasks Completed:\n",
      "Subtask: Provide step-by-step instructions on how to cook an omelette\n",
      "In a bowl, crack <2-3> eggs and whisk them together until well combined. Heat a non-stick skillet over medium heat and add a knob of butter. Once the butter has melted and is bubbling, pour in the whisked eggs. Let the eggs cook for a minute or two until the edges start to set. Using a spatula, gently push the cooked edges towards the center, allowing the uncooked eggs to flow to the edges of the pan. Continue this process until the omelette is mostly set but still slightly runny on top. Add your desired fillings such as cheese, vegetables, or ham to one half of the omelette. Using the spatula, carefully fold the other half of the omelette over the fillings. Cook for another minute to melt the cheese and heat the fillings. Slide the omelette onto a plate and serve hot. Enjoy your delicious omelette!\n",
      "\n",
      "Is Task Completed: True\n"
     ]
    }
   ],
   "source": [
    "agent.status()"
   ]
  },
  {
   "cell_type": "code",
   "execution_count": 18,
   "id": "6670fe36-bd4b-4784-b0b7-95f143138a83",
   "metadata": {
    "tags": []
   },
   "outputs": [
    {
     "name": "stdout",
     "output_type": "stream",
     "text": [
      "To cook an omelette: 1. Whisk <2-3> eggs in a bowl until well combined. 2. Heat a non-stick skillet and add butter. 3. Pour in the whisked eggs and let them cook. 4. Push the cooked edges towards the center. 5. Add desired fillings to one half of the omelette. 6. Fold the other half over the fillings. 7. Cook briefly to melt cheese and heat fillings. 8. Slide onto a plate and serve hot.\n"
     ]
    },
    {
     "data": {
      "text/plain": [
       "'To cook an omelette: 1. Whisk <2-3> eggs in a bowl until well combined. 2. Heat a non-stick skillet and add butter. 3. Pour in the whisked eggs and let them cook. 4. Push the cooked edges towards the center. 5. Add desired fillings to one half of the omelette. 6. Fold the other half over the fillings. 7. Cook briefly to melt cheese and heat fillings. 8. Slide onto a plate and serve hot.'"
      ]
     },
     "execution_count": 18,
     "metadata": {},
     "output_type": "execute_result"
    }
   ],
   "source": [
    "agent.reply_user('Summarise how to cook an omelette in point form', stateful = False)"
   ]
  },
  {
   "cell_type": "code",
   "execution_count": 19,
   "id": "fffaada1-c48d-44fb-a128-eba6e80f6f55",
   "metadata": {
    "tags": []
   },
   "outputs": [
    {
     "name": "stdout",
     "output_type": "stream",
     "text": [
      "I provide cooking guidance and have completed the task of providing step-by-step instructions on how to cook an omelette. I do not have information on the number of stars in the universe.\n"
     ]
    },
    {
     "data": {
      "text/plain": [
       "'I provide cooking guidance and have completed the task of providing step-by-step instructions on how to cook an omelette. I do not have information on the number of stars in the universe.'"
      ]
     },
     "execution_count": 19,
     "metadata": {},
     "output_type": "execute_result"
    }
   ],
   "source": [
    "# reply_user only uses what the subtasks completed has\n",
    "agent.reply_user('How many stars are there in the universe?', stateful = False)"
   ]
  },
  {
   "cell_type": "markdown",
   "id": "52c03591-4cf3-4b19-9c61-a2760c2950bc",
   "metadata": {},
   "source": [
    "## When to use StrictJSON vs TaskGen\n",
    "- TaskGen is for Agentic Flow where you don't know what function to call\n",
    "- strict_json is when you already know what you want to do in the pipeline, then define inputs and outputs to ask LLM to do input-output matching"
   ]
  },
  {
   "cell_type": "code",
   "execution_count": 20,
   "id": "1f757274-b948-4668-939f-1cac7baade6a",
   "metadata": {
    "tags": []
   },
   "outputs": [],
   "source": [
    "res = strict_json('Describe how to cook an omelette in point form', '',\n",
    "            output_format = {'Details of how to cook in bullet form': 'Details'})"
   ]
  },
  {
   "cell_type": "code",
   "execution_count": 21,
   "id": "23d07276-ea56-4140-8aea-7498e6a1539e",
   "metadata": {
    "tags": []
   },
   "outputs": [
    {
     "name": "stdout",
     "output_type": "stream",
     "text": [
      "{'Details of how to cook in bullet form': '1. Crack eggs into a bowl\\n2. Whisk the eggs until well combined\\n3. Heat a non-stick pan over medium heat\\n4. Melt butter in the pan\\n5. Pour the eggs into the pan\\n6. Let the eggs cook for a few minutes until the edges start to set\\n7. Add desired fillings (cheese, vegetables, meats)\\n8. Use a spatula to fold one side of the omelette over the other\\n9. Cook for another minute or until the cheese is melted\\n10. Slide the omelette onto a plate and serve hot'}\n"
     ]
    }
   ],
   "source": [
    "print(res)"
   ]
  },
  {
   "cell_type": "markdown",
   "id": "db58db5e-f712-4312-b786-4f3c6a7e47aa",
   "metadata": {
    "tags": []
   },
   "source": [
    "# Agent with Functions"
   ]
  },
  {
   "cell_type": "markdown",
   "id": "112e53af-ad4d-4289-a1c8-556e1ae6b375",
   "metadata": {},
   "source": [
    "## Internal Functions"
   ]
  },
  {
   "cell_type": "code",
   "execution_count": 22,
   "id": "d6338ece-9087-4a06-ae31-c011e22dd117",
   "metadata": {
    "tags": []
   },
   "outputs": [],
   "source": [
    "# this is the shorter way (internal LLM function)\n",
    "cooking_fn = Function('Describe how to cook <dish: str> in point form', {'Details of how to cook in bullet form': 'Details'})"
   ]
  },
  {
   "cell_type": "code",
   "execution_count": 23,
   "id": "1dfbd8f0-98c8-4280-b51c-dc0fba37c998",
   "metadata": {
    "tags": []
   },
   "outputs": [
    {
     "name": "stdout",
     "output_type": "stream",
     "text": [
      "Description: Describe how to cook <dish: str> in point form\n",
      "Input: ['dish']\n",
      "Output: {'Details of how to cook in bullet form': 'Details'}\n",
      "\n"
     ]
    }
   ],
   "source": [
    "# visualise the function\n",
    "print(cooking_fn)"
   ]
  },
  {
   "cell_type": "code",
   "execution_count": 24,
   "id": "4fa1f7d5-54a9-4e63-93c6-eb0fa03b4c02",
   "metadata": {
    "tags": []
   },
   "outputs": [
    {
     "data": {
      "text/plain": [
       "{'Details of how to cook in bullet form': '1. Crack eggs into a bowl\\n2. Beat the eggs until well mixed\\n3. Heat a non-stick pan on medium heat\\n4. Pour the beaten eggs into the pan\\n5. Let the eggs cook for a few minutes until the edges start to set\\n6. Add desired fillings such as cheese, vegetables, or meats\\n7. Fold the omelette in half\\n8. Cook for another minute or until fully set\\n9. Slide the omelette onto a plate and serve hot'}"
      ]
     },
     "execution_count": 24,
     "metadata": {},
     "output_type": "execute_result"
    }
   ],
   "source": [
    "# use the function\n",
    "cooking_fn('Omelette')"
   ]
  },
  {
   "cell_type": "code",
   "execution_count": 25,
   "id": "06678068-1279-4568-93bd-f265d50fd883",
   "metadata": {
    "tags": []
   },
   "outputs": [
    {
     "data": {
      "text/plain": [
       "{'Details of how to cook in bullet form': '1. Preheat a skillet over medium heat\\n2. Add sausages to the skillet\\n3. Cook for about 10-12 minutes, turning occasionally until browned and cooked through\\n4. Remove from heat and let them rest for a few minutes before serving'}"
      ]
     },
     "execution_count": 25,
     "metadata": {},
     "output_type": "execute_result"
    }
   ],
   "source": [
    "cooking_fn('Sausages')"
   ]
  },
  {
   "cell_type": "code",
   "execution_count": 26,
   "id": "f4829e4d-9eb7-4c4d-a1fb-0f6a6d5d0ae2",
   "metadata": {
    "tags": []
   },
   "outputs": [
    {
     "data": {
      "text/plain": [
       "'cook_dish_in_point_form'"
      ]
     },
     "execution_count": 26,
     "metadata": {},
     "output_type": "execute_result"
    }
   ],
   "source": [
    "cooking_fn.fn_name"
   ]
  },
  {
   "cell_type": "markdown",
   "id": "cbd3b5c4-21f5-43ad-9ede-3c9da74e995f",
   "metadata": {},
   "source": [
    "## External Functions"
   ]
  },
  {
   "cell_type": "code",
   "execution_count": 27,
   "id": "61410a2a-0344-41ae-9c5b-9ee0902667fc",
   "metadata": {
    "tags": []
   },
   "outputs": [],
   "source": [
    "# this is the longer way (External Function)\n",
    "def cooking_func(dish: str):\n",
    "    # potentially include some rule-based pre-processing\n",
    "    if ' ' in dish:\n",
    "        dish = dish.split(' ')[0]\n",
    "    \n",
    "    # call the LLM\n",
    "    res = strict_json(f'Describe how to cook an {dish} in point form', '',\n",
    "            output_format = {'Details of how to cook in bullet form': 'Details'})\n",
    "\n",
    "    # potentially include some rule-based post-processing\n",
    "    res['Details of how to cook in bullet form'] = res['Details of how to cook in bullet form'].replace('\\n','\\n\\n')\n",
    "    \n",
    "    return res['Details of how to cook in bullet form']"
   ]
  },
  {
   "cell_type": "code",
   "execution_count": 28,
   "id": "d8b34813-d62a-4355-b4e9-212e20115043",
   "metadata": {
    "tags": []
   },
   "outputs": [],
   "source": [
    "cooking_fn_external = Function('Describe how to cook <dish: str> in point form', {'Details of how to cook in bullet form': 'Details'}, external_fn = cooking_func)"
   ]
  },
  {
   "cell_type": "code",
   "execution_count": 29,
   "id": "01726e6d-ce9f-4037-a5cd-54280ea518b9",
   "metadata": {
    "tags": []
   },
   "outputs": [
    {
     "name": "stdout",
     "output_type": "stream",
     "text": [
      "Description: Describe how to cook <dish: str> in point form\n",
      "Input: ['dish']\n",
      "Output: {'Details of how to cook in bullet form': 'Details'}\n",
      "\n"
     ]
    }
   ],
   "source": [
    "print(cooking_fn_external)"
   ]
  },
  {
   "cell_type": "code",
   "execution_count": 30,
   "id": "026214fb-7935-4660-9d0f-f1943af98736",
   "metadata": {
    "tags": []
   },
   "outputs": [
    {
     "data": {
      "text/plain": [
       "{'Details of how to cook in bullet form': '1. Crack eggs into a bowl\\n\\n2. Whisk the eggs until well combined\\n\\n3. Heat a non-stick pan over medium heat\\n\\n4. Melt butter in the pan\\n\\n5. Pour the whisked eggs into the pan\\n\\n6. Let the eggs cook for a few minutes until the edges start to set\\n\\n7. Use a spatula to gently lift the edges and tilt the pan to let the uncooked eggs flow to the edges\\n\\n8. Add desired fillings such as cheese, vegetables, or ham to one side of the omelette\\n\\n9. Fold the omelette in half with the spatula\\n\\n10. Cook for another minute or until the cheese is melted\\n\\n11. Slide the omelette onto a plate and serve hot'}"
      ]
     },
     "execution_count": 30,
     "metadata": {},
     "output_type": "execute_result"
    }
   ],
   "source": [
    "cooking_fn_external('Omelette')"
   ]
  },
  {
   "cell_type": "code",
   "execution_count": 31,
   "id": "b67cb37b-e55c-49a9-8152-a6c791957458",
   "metadata": {
    "tags": []
   },
   "outputs": [
    {
     "data": {
      "text/plain": [
       "{'Details of how to cook in bullet form': '1. Preheat a skillet or grill to medium heat\\n\\n2. Place sausages on the skillet or grill\\n\\n3. Cook for about 15-20 minutes, turning occasionally until browned and cooked through\\n\\n4. Use a meat thermometer to ensure sausages reach an internal temperature of 160Â°F\\n\\n5. Remove from heat and let rest for a few minutes before serving'}"
      ]
     },
     "execution_count": 31,
     "metadata": {},
     "output_type": "execute_result"
    }
   ],
   "source": [
    "cooking_fn_external('Sausages')"
   ]
  },
  {
   "cell_type": "code",
   "execution_count": 32,
   "id": "206b810e-d0e9-43ff-8ff2-c891282d27dc",
   "metadata": {
    "tags": []
   },
   "outputs": [
    {
     "data": {
      "text/plain": [
       "'cooking_func'"
      ]
     },
     "execution_count": 32,
     "metadata": {},
     "output_type": "execute_result"
    }
   ],
   "source": [
    "cooking_fn_external.fn_name"
   ]
  },
  {
   "cell_type": "markdown",
   "id": "2c986d0d-4f4a-4380-b8eb-edf1fec43796",
   "metadata": {},
   "source": [
    "## Equip Functions to your Agent"
   ]
  },
  {
   "cell_type": "code",
   "execution_count": 33,
   "id": "c68445a7-a8cc-477c-80e8-c515b758d25b",
   "metadata": {
    "tags": []
   },
   "outputs": [],
   "source": [
    "agent2 = Agent('Personal Assistant', 'Helps User find cooking recipes and schedules stuff. Current schedule: 10am - 1130am: TaskGen Tutorial', default_to_llm = False)"
   ]
  },
  {
   "cell_type": "code",
   "execution_count": 34,
   "id": "508590a7-8fc9-409d-b6dc-a0732a684af8",
   "metadata": {
    "tags": []
   },
   "outputs": [],
   "source": [
    "schedule_fn = Function('Schedules an <appointment> from <start_time> to <end_time>', \n",
    "                       {'Booked Timeslots': 'List of timeslots and event that are booked', \n",
    "                        'Completed Status': 'Successful if Timeslot is booked, otherwise Not Successful'})"
   ]
  },
  {
   "cell_type": "code",
   "execution_count": 35,
   "id": "2abad915-e230-4124-9130-cc19396d2dc2",
   "metadata": {
    "tags": []
   },
   "outputs": [
    {
     "name": "stdout",
     "output_type": "stream",
     "text": [
      "Agent Name: Personal Assistant\n",
      "Agent Description: Helps User find cooking recipes and schedules stuff. Current schedule: 10am - 1130am: TaskGen Tutorial\n",
      "Available Functions: ['end_task']\n",
      "Task: No task assigned\n",
      "Subtasks Completed: None\n",
      "Is Task Completed: False\n"
     ]
    }
   ],
   "source": [
    "agent2.status()"
   ]
  },
  {
   "cell_type": "code",
   "execution_count": 36,
   "id": "8fa10382-5b47-4bdd-8cef-f3ef94f49473",
   "metadata": {
    "tags": []
   },
   "outputs": [
    {
     "data": {
      "text/plain": [
       "<taskgen.agent.Agent at 0x10f5caf90>"
      ]
     },
     "execution_count": 36,
     "metadata": {},
     "output_type": "execute_result"
    }
   ],
   "source": [
    "# assign all your functions\n",
    "agent2.assign_functions([cooking_fn, schedule_fn])"
   ]
  },
  {
   "cell_type": "code",
   "execution_count": 37,
   "id": "69742f66-9fde-4ecc-ae05-8f4f1cd97477",
   "metadata": {
    "tags": []
   },
   "outputs": [
    {
     "name": "stdout",
     "output_type": "stream",
     "text": [
      "Agent Name: Personal Assistant\n",
      "Agent Description: Helps User find cooking recipes and schedules stuff. Current schedule: 10am - 1130am: TaskGen Tutorial\n",
      "Available Functions: ['end_task', 'cook_dish_in_point_form', 'schedule_appointment']\n",
      "Task: No task assigned\n",
      "Subtasks Completed: None\n",
      "Is Task Completed: False\n"
     ]
    }
   ],
   "source": [
    "agent2.status()"
   ]
  },
  {
   "cell_type": "code",
   "execution_count": 38,
   "id": "22cd2070-6414-4794-bfbb-21471bf86a82",
   "metadata": {
    "tags": []
   },
   "outputs": [
    {
     "name": "stdout",
     "output_type": "stream",
     "text": [
      "Name: end_task\n",
      "Description: Use only when task is completed\n",
      "Input: []\n",
      "Output: {}\n",
      "\n",
      "Name: cook_dish_in_point_form\n",
      "Description: Describe how to cook <dish: str> in point form\n",
      "Input: ['dish']\n",
      "Output: {'Details of how to cook in bullet form': 'Details'}\n",
      "\n",
      "Name: schedule_appointment\n",
      "Description: Schedules an <appointment> from <start_time> to <end_time>\n",
      "Input: ['appointment', 'start_time', 'end_time']\n",
      "Output: {'Booked Timeslots': 'List of timeslots and event that are booked', 'Completed Status': 'Successful if Timeslot is booked, otherwise Not Successful'}\n",
      "\n"
     ]
    }
   ],
   "source": [
    "agent2.print_functions()"
   ]
  },
  {
   "cell_type": "code",
   "execution_count": 39,
   "id": "dc306e07-5cc8-47da-a83a-0b1efdda22c9",
   "metadata": {
    "tags": []
   },
   "outputs": [
    {
     "name": "stdout",
     "output_type": "stream",
     "text": [
      "Subtask identified: Schedule a 1-hour appointment at 10pm\n",
      "Calling function schedule_appointment with parameters {'appointment': '1-hour appointment', 'start_time': '10pm', 'end_time': '11pm'}\n",
      "> {'Booked Timeslots': '10pm - 11pm: 1-hour appointment', 'Completed Status': 'Successful'}\n",
      "\n",
      "Task completed successfully!\n",
      "\n"
     ]
    },
    {
     "data": {
      "text/plain": [
       "[{'Booked Timeslots': '10pm - 11pm: 1-hour appointment',\n",
       "  'Completed Status': 'Successful'}]"
      ]
     },
     "execution_count": 39,
     "metadata": {},
     "output_type": "execute_result"
    }
   ],
   "source": [
    "agent2.reset()\n",
    "agent2.run('Schedule a 1-hour appointment at 10pm')"
   ]
  },
  {
   "cell_type": "code",
   "execution_count": 40,
   "id": "483001c5-8bc0-4f8b-be6c-6de00fd64059",
   "metadata": {
    "tags": []
   },
   "outputs": [
    {
     "name": "stdout",
     "output_type": "stream",
     "text": [
      "Subtask identified: Describe how to cook an omelette in point form\n",
      "Calling function cook_dish_in_point_form with parameters {'dish': 'omelette'}\n",
      "> {'Details of how to cook in bullet form': '1. Crack eggs into a bowl\\n2. Beat the eggs until well mixed\\n3. Heat a non-stick pan on medium heat\\n4. Pour the egg mixture into the pan\\n5. Let it cook for a few minutes until the edges start to set\\n6. Use a spatula to lift the edges and let the uncooked egg flow underneath\\n7. Once the omelette is mostly set, fold it in half\\n8. Cook for another minute or until fully set\\n9. Slide the omelette onto a plate and serve hot'}\n",
      "\n",
      "Task completed successfully!\n",
      "\n"
     ]
    },
    {
     "data": {
      "text/plain": [
       "[{'Details of how to cook in bullet form': '1. Crack eggs into a bowl\\n2. Beat the eggs until well mixed\\n3. Heat a non-stick pan on medium heat\\n4. Pour the egg mixture into the pan\\n5. Let it cook for a few minutes until the edges start to set\\n6. Use a spatula to lift the edges and let the uncooked egg flow underneath\\n7. Once the omelette is mostly set, fold it in half\\n8. Cook for another minute or until fully set\\n9. Slide the omelette onto a plate and serve hot'}]"
      ]
     },
     "execution_count": 40,
     "metadata": {},
     "output_type": "execute_result"
    }
   ],
   "source": [
    "agent2.reset()\n",
    "agent2.run('Teach me how to cook an omelette')"
   ]
  },
  {
   "cell_type": "code",
   "execution_count": 41,
   "id": "b9615d7f-10ef-498f-b3a6-22cc2df6c037",
   "metadata": {
    "tags": []
   },
   "outputs": [
    {
     "name": "stdout",
     "output_type": "stream",
     "text": [
      "Subtask identified: Schedule a 1-hour cooking class to cook an omelette at 2pm\n",
      "Calling function schedule_appointment with parameters {'appointment': 'cooking class to cook an omelette', 'start_time': '2pm', 'end_time': '3pm'}\n",
      "> {'Booked Timeslots': '2pm to 3pm: cooking class to cook an omelette', 'Completed Status': 'Successful'}\n",
      "\n",
      "Subtask identified: Find the cooking recipe for omelette\n",
      "Calling function cook_dish_in_point_form with parameters {'dish': 'omelette'}\n",
      "> {'Details of how to cook in bullet form': '1. Crack eggs into a bowl\\n2. Beat the eggs until well mixed\\n3. Heat a non-stick pan on medium heat\\n4. Pour the egg mixture into the pan\\n5. Let it cook for a few minutes until the edges start to set\\n6. Use a spatula to lift the edges and let the uncooked egg flow to the bottom\\n7. Cook until the omelette is set but slightly runny in the middle\\n8. Fold the omelette in half and serve hot'}\n",
      "\n",
      "Task completed successfully!\n",
      "\n"
     ]
    },
    {
     "data": {
      "text/plain": [
       "[{'Booked Timeslots': '2pm to 3pm: cooking class to cook an omelette',\n",
       "  'Completed Status': 'Successful'},\n",
       " {'Details of how to cook in bullet form': '1. Crack eggs into a bowl\\n2. Beat the eggs until well mixed\\n3. Heat a non-stick pan on medium heat\\n4. Pour the egg mixture into the pan\\n5. Let it cook for a few minutes until the edges start to set\\n6. Use a spatula to lift the edges and let the uncooked egg flow to the bottom\\n7. Cook until the omelette is set but slightly runny in the middle\\n8. Fold the omelette in half and serve hot'}]"
      ]
     },
     "execution_count": 41,
     "metadata": {},
     "output_type": "execute_result"
    }
   ],
   "source": [
    "agent2.reset()\n",
    "agent2.run('''Add a 1 hour cooking class to cook an omelette at 2pm to my schedule. \n",
    "Also, find me the cooking recipe''')"
   ]
  },
  {
   "cell_type": "code",
   "execution_count": 42,
   "id": "d04adcd5-3fec-42ce-a293-0a40c329ebe8",
   "metadata": {
    "tags": []
   },
   "outputs": [
    {
     "name": "stdout",
     "output_type": "stream",
     "text": [
      "No, you do not have any appointments at 4pm-5pm today.\n"
     ]
    },
    {
     "data": {
      "text/plain": [
       "'No, you do not have any appointments at 4pm-5pm today.'"
      ]
     },
     "execution_count": 42,
     "metadata": {},
     "output_type": "execute_result"
    }
   ],
   "source": [
    "agent2.reply_user('Do I have any appointments at 4pm-5pm today?', stateful = False)"
   ]
  },
  {
   "cell_type": "markdown",
   "id": "1f30d76f-d7a0-4677-8dc5-ae75c0a70a3c",
   "metadata": {},
   "source": [
    "## Function Calling\n",
    "- If you want fine-grained control over what your function takes in, and what params you want for your function\n",
    "- Generally not needed"
   ]
  },
  {
   "cell_type": "code",
   "execution_count": 43,
   "id": "77e00a13-a89b-4119-9952-360b40ffdc76",
   "metadata": {
    "tags": []
   },
   "outputs": [],
   "source": [
    "fn_name, fn_params = agent2.select_function('Schedule badminton session at 2-3pm')"
   ]
  },
  {
   "cell_type": "code",
   "execution_count": 44,
   "id": "e34ca50e-9f9d-4d8e-b39c-0aaa4d7d76b4",
   "metadata": {
    "tags": []
   },
   "outputs": [
    {
     "name": "stdout",
     "output_type": "stream",
     "text": [
      "Calling function schedule_appointment with parameters {'appointment': 'badminton session', 'start_time': '2:00pm', 'end_time': '3:00pm'}\n",
      "> {'Booked Timeslots': '2:00pm - 3:00pm: badminton session', 'Completed Status': 'Successful'}\n",
      "\n"
     ]
    },
    {
     "data": {
      "text/plain": [
       "{'Booked Timeslots': '2:00pm - 3:00pm: badminton session',\n",
       " 'Completed Status': 'Successful'}"
      ]
     },
     "execution_count": 44,
     "metadata": {},
     "output_type": "execute_result"
    }
   ],
   "source": [
    "agent2.use_function(fn_name, fn_params, subtask = 'Schedule badminton session at 2-3pm', stateful = False)"
   ]
  },
  {
   "cell_type": "markdown",
   "id": "c7a917a4-d014-4698-816b-19b88c4204be",
   "metadata": {},
   "source": [
    "# Shared Variables\n",
    "- Allows you to store information in external variables\n",
    "- Begins with s_ for Internal LLM functions\n",
    "- Helps to deal with lengthy text / multimodal inputs/outputs"
   ]
  },
  {
   "cell_type": "code",
   "execution_count": 45,
   "id": "ec56c666-2124-4def-acbe-bb7ee5734398",
   "metadata": {},
   "outputs": [],
   "source": [
    "agent3 = Agent('Personal Assistant', 'Helps User find cooking recipes and schedules stuff', default_to_llm = False,\n",
    "              shared_variables = {'s_Scheduled_Timeslots': ['10am - 1130am: TaskGen Tutorial']})"
   ]
  },
  {
   "cell_type": "code",
   "execution_count": 46,
   "id": "12c370b3-2656-4333-88a5-d6fc3195fe6e",
   "metadata": {
    "tags": []
   },
   "outputs": [],
   "source": [
    "# This schedules an appointment, taking into account the s_Booked_Timeslots\n",
    "schedule_fn_shared_variable = Function('Schedules an <appointment> from <start_time> to <end_time>, taking into consideration <s_Scheduled_Timeslots>.', \n",
    "                       {'s_Scheduled_Timeslots': 'Update the s_Scheduled_Timeslots in the format \"Time: Event\" for each event', \n",
    "                        'Completed Status': 'Successful if Timeslot is booked, otherwise Not Successful'})"
   ]
  },
  {
   "cell_type": "code",
   "execution_count": 47,
   "id": "c182d3ce-bb76-472c-b6d4-163176f2808e",
   "metadata": {
    "tags": []
   },
   "outputs": [
    {
     "data": {
      "text/plain": [
       "<taskgen.agent.Agent at 0x11215b090>"
      ]
     },
     "execution_count": 47,
     "metadata": {},
     "output_type": "execute_result"
    }
   ],
   "source": [
    "# assign all your functions\n",
    "agent3.assign_functions([cooking_fn, schedule_fn_shared_variable])"
   ]
  },
  {
   "cell_type": "code",
   "execution_count": 48,
   "id": "624650cf-56d9-40fb-a9bf-b8c750119b39",
   "metadata": {
    "tags": []
   },
   "outputs": [
    {
     "name": "stdout",
     "output_type": "stream",
     "text": [
      "Agent Name: Personal Assistant\n",
      "Agent Description: Helps User find cooking recipes and schedules stuff\n",
      "Available Functions: ['end_task', 'cook_dish_in_point_form', 'schedule_appointment_within_timeslots']\n",
      "Shared Variables: ['s_Scheduled_Timeslots']\n",
      "Task: No task assigned\n",
      "Subtasks Completed: None\n",
      "Is Task Completed: False\n"
     ]
    }
   ],
   "source": [
    "agent3.status()"
   ]
  },
  {
   "cell_type": "code",
   "execution_count": 49,
   "id": "f94a99e6-499c-4891-b278-02b7e5e0a1f2",
   "metadata": {
    "tags": []
   },
   "outputs": [
    {
     "name": "stdout",
     "output_type": "stream",
     "text": [
      "Name: end_task\n",
      "Description: Use only when task is completed\n",
      "Input: []\n",
      "Output: {}\n",
      "\n",
      "Name: cook_dish_in_point_form\n",
      "Description: Describe how to cook <dish: str> in point form\n",
      "Input: ['dish']\n",
      "Output: {'Details of how to cook in bullet form': 'Details'}\n",
      "\n",
      "Name: schedule_appointment_within_timeslots\n",
      "Description: Schedules an <appointment> from <start_time> to <end_time>, taking into consideration s_Scheduled_Timeslots.\n",
      "Input: ['appointment', 'start_time', 'end_time']\n",
      "Output: {'s_Scheduled_Timeslots': 'Update the s_Scheduled_Timeslots in the format \"Time: Event\" for each event', 'Completed Status': 'Successful if Timeslot is booked, otherwise Not Successful'}\n",
      "\n"
     ]
    }
   ],
   "source": [
    "agent3.print_functions()"
   ]
  },
  {
   "cell_type": "code",
   "execution_count": 50,
   "id": "3dd580d4-7ff0-44b4-9015-ac01fe160e76",
   "metadata": {
    "tags": []
   },
   "outputs": [
    {
     "name": "stdout",
     "output_type": "stream",
     "text": [
      "Subtask identified: Schedule a 3 hour badminton session starting from 2pm\n",
      "Calling function schedule_appointment_within_timeslots with parameters {'appointment': 'badminton session', 'start_time': '2:00pm', 'end_time': '5:00pm'}\n",
      "> {'Completed Status': 'Successful'}\n",
      "\n",
      "Task completed successfully!\n",
      "\n"
     ]
    },
    {
     "data": {
      "text/plain": [
       "[{'Completed Status': 'Successful'}]"
      ]
     },
     "execution_count": 50,
     "metadata": {},
     "output_type": "execute_result"
    }
   ],
   "source": [
    "agent3.reset()\n",
    "agent3.run('Schedule a 3 hour badmintion session starting from 2pm')"
   ]
  },
  {
   "cell_type": "code",
   "execution_count": 51,
   "id": "fff7f458-338a-4622-adf1-5e15f9276714",
   "metadata": {
    "tags": []
   },
   "outputs": [
    {
     "data": {
      "text/plain": [
       "{'s_Scheduled_Timeslots': '10am - 1130am: TaskGen Tutorial, 2:00pm - 5:00pm: badminton session'}"
      ]
     },
     "execution_count": 51,
     "metadata": {},
     "output_type": "execute_result"
    }
   ],
   "source": [
    "agent3.shared_variables"
   ]
  },
  {
   "cell_type": "markdown",
   "id": "7735ce01-d236-4622-a076-540df586ab7d",
   "metadata": {},
   "source": [
    "## Perhaps it is better doing scheduling with rule-based functions"
   ]
  },
  {
   "cell_type": "code",
   "execution_count": 52,
   "id": "c328fd7e-a541-4fbe-9803-1f3effa47130",
   "metadata": {
    "tags": []
   },
   "outputs": [],
   "source": [
    "agent3 = Agent('Personal Assistant', 'Helps User find cooking recipes and schedules stuff', default_to_llm = False,\n",
    "              shared_variables = {'Scheduled Timeslots': ['10am - 1130am: TaskGen Tutorial']})"
   ]
  },
  {
   "cell_type": "code",
   "execution_count": 53,
   "id": "64c08aad-4233-449a-8f66-885625aea1ba",
   "metadata": {
    "tags": []
   },
   "outputs": [],
   "source": [
    "def schedule_with_time_and_appointment(shared_variables, appointment, start_time, end_time):\n",
    "    shared_variables['Scheduled Timeslots'].append(f'{start_time} - {end_time}: {appointment}')\n",
    "    \n",
    "    return 'Completed'"
   ]
  },
  {
   "cell_type": "code",
   "execution_count": 54,
   "id": "6564046d-67f5-47ab-b933-9ef4d3711e07",
   "metadata": {
    "tags": []
   },
   "outputs": [],
   "source": [
    "# This schedules an appointment, taking into account the s_Booked_Timeslots\n",
    "schedule_fn_2 = Function('Schedules an <appointment> from <start_time> to <end_time>', \n",
    "                       {'Completed Status': 'Completed if Timeslot is booked, otherwise Not Completed'},\n",
    "                        external_fn = schedule_with_time_and_appointment)"
   ]
  },
  {
   "cell_type": "code",
   "execution_count": 55,
   "id": "65b208f2-e30a-46f9-937e-e39ba070b12b",
   "metadata": {
    "tags": []
   },
   "outputs": [
    {
     "data": {
      "text/plain": [
       "<taskgen.agent.Agent at 0x10f3d30d0>"
      ]
     },
     "execution_count": 55,
     "metadata": {},
     "output_type": "execute_result"
    }
   ],
   "source": [
    "# assign all your functions\n",
    "agent3.assign_functions([cooking_fn, schedule_fn_2])"
   ]
  },
  {
   "cell_type": "code",
   "execution_count": 56,
   "id": "dc59fbe2-b7b1-4bc5-b20c-a263a5126d19",
   "metadata": {
    "tags": []
   },
   "outputs": [
    {
     "name": "stdout",
     "output_type": "stream",
     "text": [
      "Agent Name: Personal Assistant\n",
      "Agent Description: Helps User find cooking recipes and schedules stuff\n",
      "Available Functions: ['end_task', 'cook_dish_in_point_form', 'schedule_with_time_and_appointment']\n",
      "Shared Variables: ['Scheduled Timeslots']\n",
      "Task: No task assigned\n",
      "Subtasks Completed: None\n",
      "Is Task Completed: False\n"
     ]
    }
   ],
   "source": [
    "agent3.status()"
   ]
  },
  {
   "cell_type": "code",
   "execution_count": 57,
   "id": "254a2ca3-48db-4cb3-b1ad-bcfcdad76450",
   "metadata": {
    "tags": []
   },
   "outputs": [
    {
     "name": "stdout",
     "output_type": "stream",
     "text": [
      "Name: end_task\n",
      "Description: Use only when task is completed\n",
      "Input: []\n",
      "Output: {}\n",
      "\n",
      "Name: cook_dish_in_point_form\n",
      "Description: Describe how to cook <dish: str> in point form\n",
      "Input: ['dish']\n",
      "Output: {'Details of how to cook in bullet form': 'Details'}\n",
      "\n",
      "Name: schedule_with_time_and_appointment\n",
      "Description: Schedules an <appointment> from <start_time> to <end_time>\n",
      "Input: ['appointment', 'start_time', 'end_time']\n",
      "Output: {'Completed Status': 'Completed if Timeslot is booked, otherwise Not Completed'}\n",
      "\n"
     ]
    }
   ],
   "source": [
    "agent3.print_functions()"
   ]
  },
  {
   "cell_type": "code",
   "execution_count": 58,
   "id": "9f2637ca-2e9d-48f8-9bfc-4fc1f65107b7",
   "metadata": {
    "tags": []
   },
   "outputs": [
    {
     "name": "stdout",
     "output_type": "stream",
     "text": [
      "Subtask identified: Schedule a 3 hour badminton session starting from 2pm\n",
      "Calling function schedule_with_time_and_appointment with parameters {'appointment': 'badminton session', 'start_time': '2:00pm', 'end_time': '5:00pm'}\n",
      "> {'Completed Status': 'Completed'}\n",
      "\n",
      "Task completed successfully!\n",
      "\n"
     ]
    },
    {
     "data": {
      "text/plain": [
       "[{'Completed Status': 'Completed'}]"
      ]
     },
     "execution_count": 58,
     "metadata": {},
     "output_type": "execute_result"
    }
   ],
   "source": [
    "agent3.reset()\n",
    "agent3.run('Schedule a 3 hour badmintion session starting from 2pm')"
   ]
  },
  {
   "cell_type": "code",
   "execution_count": 59,
   "id": "e56d092f-882e-4b1a-948f-d7c3b631e081",
   "metadata": {
    "tags": []
   },
   "outputs": [
    {
     "data": {
      "text/plain": [
       "{'Scheduled Timeslots': ['10am - 1130am: TaskGen Tutorial',\n",
       "  '2:00pm - 5:00pm: badminton session']}"
      ]
     },
     "execution_count": 59,
     "metadata": {},
     "output_type": "execute_result"
    }
   ],
   "source": [
    "agent3.shared_variables"
   ]
  },
  {
   "cell_type": "markdown",
   "id": "bac10410-5aba-4f93-9e3b-51a58a320597",
   "metadata": {},
   "source": [
    "# Agent with Global Context\n",
    "- Makes agent hallucinate less as giving it as Global Context for each state and doing step by step generation helps a lot with updating existing start state and starting generation from there\n",
    "- Shifting the Start State closer and closer to End state via Global Context is a very helpful approach for Agentic Generation"
   ]
  },
  {
   "cell_type": "code",
   "execution_count": 131,
   "id": "63235611-849c-4c72-b0f9-bc2ffdd10d26",
   "metadata": {},
   "outputs": [],
   "source": [
    "agent4 = Agent('Personal Assistant', '''Helps User find cooking recipes and schedules stuff. \n",
    "You are not able to change timeslots already in Booked Timeslots. Shift new appointment timings if needed to avoid clashes''', \n",
    "               default_to_llm = False,\n",
    "              shared_variables = {'Scheduled Timeslots': ['10am - 1130am: TaskGen Tutorial']})"
   ]
  },
  {
   "cell_type": "code",
   "execution_count": 132,
   "id": "94a762e2-2083-4af9-bdbc-6bc169490cb8",
   "metadata": {},
   "outputs": [],
   "source": [
    "def get_global_context(agent):\n",
    "    ''' Outputs additional information to the agent '''\n",
    "    \n",
    "    # process additional context based on shared variables \n",
    "    # (this is what is called persistent variables - variables that will be updated each step)\n",
    "    global_context = f'''Booked Timeslots: ```{agent.shared_variables[\"Scheduled Timeslots\"]}```'''\n",
    "    \n",
    "    return global_context\n",
    "\n",
    "# assign this to agent's additional context\n",
    "agent4.get_global_context = get_global_context"
   ]
  },
  {
   "cell_type": "code",
   "execution_count": 133,
   "id": "2930a18e-c08a-4d6a-a699-5667568b0903",
   "metadata": {
    "tags": []
   },
   "outputs": [],
   "source": [
    "def schedule_with_time_and_appointment(shared_variables, appointment, start_time, end_time):\n",
    "    # if there is no conflict with existing appointments, then update calendar\n",
    "    # Can potentially add rule-based checker\n",
    "    shared_variables['Scheduled Timeslots'].append(f'{start_time} - {end_time}: {appointment}')\n",
    "    return f'Successful'"
   ]
  },
  {
   "cell_type": "code",
   "execution_count": 134,
   "id": "d9c6d2b7-f77e-464e-ac8f-c0e9e78f761b",
   "metadata": {
    "tags": []
   },
   "outputs": [],
   "source": [
    "# This schedules an appointment, taking into account the s_Booked_Timeslots\n",
    "schedule_fn_3 = Function('Schedules an <appointment> from <start_time> to <end_time>', \n",
    "                       {'Completed Status': 'Successful if Timeslot is scheduled, otherwise Unsuccessful'},\n",
    "                        external_fn = schedule_with_time_and_appointment)"
   ]
  },
  {
   "cell_type": "code",
   "execution_count": 135,
   "id": "245d6a40-5212-4780-b152-061d6b222c8a",
   "metadata": {
    "tags": []
   },
   "outputs": [
    {
     "data": {
      "text/plain": [
       "<taskgen.agent.Agent at 0x10d0fd2d0>"
      ]
     },
     "execution_count": 135,
     "metadata": {},
     "output_type": "execute_result"
    }
   ],
   "source": [
    "agent4.assign_functions([cooking_fn, schedule_fn_3])"
   ]
  },
  {
   "cell_type": "code",
   "execution_count": 136,
   "id": "5bf532ec-3108-49dc-9275-07c401b4b9db",
   "metadata": {
    "tags": []
   },
   "outputs": [
    {
     "name": "stdout",
     "output_type": "stream",
     "text": [
      "Agent Name: Personal Assistant\n",
      "Agent Description: Helps User find cooking recipes and schedules stuff. \n",
      "You are not able to change timeslots already in Booked Timeslots. Shift new appointment timings if needed to avoid clashes\n",
      "Available Functions: ['end_task', 'cook_dish_in_point_form', 'schedule_with_time_and_appointment']\n",
      "Shared Variables: ['Scheduled Timeslots']\n",
      "Task: No task assigned\n",
      "Subtasks Completed: None\n",
      "Is Task Completed: False\n"
     ]
    }
   ],
   "source": [
    "agent4.status()"
   ]
  },
  {
   "cell_type": "code",
   "execution_count": 137,
   "id": "267c8ef3-7680-490c-8337-d1e6587ee948",
   "metadata": {
    "tags": []
   },
   "outputs": [
    {
     "name": "stdout",
     "output_type": "stream",
     "text": [
      "Name: end_task\n",
      "Description: Use only when task is completed\n",
      "Input: []\n",
      "Output: {}\n",
      "\n",
      "Name: cook_dish_in_point_form\n",
      "Description: Describe how to cook <dish: str> in point form\n",
      "Input: ['dish']\n",
      "Output: {'Details of how to cook in bullet form': 'Details'}\n",
      "\n",
      "Name: schedule_with_time_and_appointment\n",
      "Description: Schedules an <appointment> from <start_time> to <end_time>\n",
      "Input: ['appointment', 'start_time', 'end_time']\n",
      "Output: {'Completed Status': 'Successful if Timeslot is scheduled, otherwise Unsuccessful'}\n",
      "\n"
     ]
    }
   ],
   "source": [
    "agent4.print_functions()"
   ]
  },
  {
   "cell_type": "code",
   "execution_count": 138,
   "id": "2b061fbf-c924-4d04-9d5c-52401df347bc",
   "metadata": {
    "tags": []
   },
   "outputs": [
    {
     "name": "stdout",
     "output_type": "stream",
     "text": [
      "Subtask identified: Schedule a 3 hour badminton session starting from 1130am to avoid clash with the already booked timeslot, End Task if completed\n",
      "Calling function schedule_with_time_and_appointment with parameters {'appointment': 'badminton session', 'start_time': '1130am', 'end_time': '230pm'}\n",
      "> {'Completed Status': 'Successful'}\n",
      "\n"
     ]
    },
    {
     "data": {
      "text/plain": [
       "[{'Completed Status': 'Successful'}]"
      ]
     },
     "execution_count": 138,
     "metadata": {},
     "output_type": "execute_result"
    }
   ],
   "source": [
    "agent4.reset()\n",
    "agent4.run('''Schedule a 3 hour badmintion session from 10am''', num_subtasks = 1)"
   ]
  },
  {
   "cell_type": "code",
   "execution_count": 139,
   "id": "24598bf8-45ca-4bcf-8335-f096401b084d",
   "metadata": {
    "tags": []
   },
   "outputs": [
    {
     "name": "stdout",
     "output_type": "stream",
     "text": [
      "Agent Name: Personal Assistant\n",
      "Agent Description: Helps User find cooking recipes and schedules stuff. \n",
      "You are not able to change timeslots already in Booked Timeslots. Shift new appointment timings if needed to avoid clashes\n",
      "Available Functions: ['end_task', 'cook_dish_in_point_form', 'schedule_with_time_and_appointment']\n",
      "Shared Variables: ['Scheduled Timeslots']\n",
      "Task: Schedule a 3 hour badmintion session from 10am\n",
      "Subtasks Completed:\n",
      "Subtask: Schedule a 3 hour badminton session starting from 1130am to avoid clash with the already booked timeslot, End Task if completed\n",
      "{'Completed Status': 'Successful'}\n",
      "\n",
      "Is Task Completed: False\n"
     ]
    }
   ],
   "source": [
    "agent4.status()"
   ]
  },
  {
   "cell_type": "code",
   "execution_count": 140,
   "id": "b9e2439a-902d-460f-88e2-c56b61978cf5",
   "metadata": {
    "tags": []
   },
   "outputs": [
    {
     "data": {
      "text/plain": [
       "{'Scheduled Timeslots': ['10am - 1130am: TaskGen Tutorial',\n",
       "  '1130am - 230pm: badminton session']}"
      ]
     },
     "execution_count": 140,
     "metadata": {},
     "output_type": "execute_result"
    }
   ],
   "source": [
    "agent4.shared_variables"
   ]
  },
  {
   "cell_type": "code",
   "execution_count": 141,
   "id": "fa2eeade-4c9e-45d7-9b3b-ff7be0168e73",
   "metadata": {
    "tags": []
   },
   "outputs": [
    {
     "name": "stdout",
     "output_type": "stream",
     "text": [
      "Subtask identified: Schedule a 3 hour board games session from 2pm to 5pm\n",
      "Calling function schedule_with_time_and_appointment with parameters {'appointment': 'board games session', 'start_time': '2pm', 'end_time': '5pm'}\n",
      "> {'Completed Status': 'Successful'}\n",
      "\n"
     ]
    },
    {
     "data": {
      "text/plain": [
       "[{'Completed Status': 'Successful'}]"
      ]
     },
     "execution_count": 141,
     "metadata": {},
     "output_type": "execute_result"
    }
   ],
   "source": [
    "agent4.reset()\n",
    "agent4.run('''Schedule a 3 hour board games session beginning at 2pm''', num_subtasks = 1)"
   ]
  },
  {
   "cell_type": "code",
   "execution_count": 142,
   "id": "191ed053-960d-41f7-8418-0e1879bac458",
   "metadata": {
    "tags": []
   },
   "outputs": [
    {
     "name": "stdout",
     "output_type": "stream",
     "text": [
      "Agent Name: Personal Assistant\n",
      "Agent Description: Helps User find cooking recipes and schedules stuff. \n",
      "You are not able to change timeslots already in Booked Timeslots. Shift new appointment timings if needed to avoid clashes\n",
      "Available Functions: ['end_task', 'cook_dish_in_point_form', 'schedule_with_time_and_appointment']\n",
      "Shared Variables: ['Scheduled Timeslots']\n",
      "Task: Schedule a 3 hour board games session beginning at 2pm\n",
      "Subtasks Completed:\n",
      "Subtask: Schedule a 3 hour board games session from 2pm to 5pm\n",
      "{'Completed Status': 'Successful'}\n",
      "\n",
      "Is Task Completed: False\n"
     ]
    }
   ],
   "source": [
    "agent4.status()"
   ]
  },
  {
   "cell_type": "code",
   "execution_count": 143,
   "id": "b66fe6d3-c72e-42c6-b8d6-b213b8fca308",
   "metadata": {
    "tags": []
   },
   "outputs": [
    {
     "data": {
      "text/plain": [
       "{'Scheduled Timeslots': ['10am - 1130am: TaskGen Tutorial',\n",
       "  '1130am - 230pm: badminton session',\n",
       "  '2pm - 5pm: board games session']}"
      ]
     },
     "execution_count": 143,
     "metadata": {},
     "output_type": "execute_result"
    }
   ],
   "source": [
    "agent4.shared_variables"
   ]
  },
  {
   "cell_type": "code",
   "execution_count": 144,
   "id": "fde8633d-806a-4fbf-8ff3-205690ce30c4",
   "metadata": {
    "tags": []
   },
   "outputs": [
    {
     "name": "stdout",
     "output_type": "stream",
     "text": [
      "Subtask identified: Describe how to cook a pizza in point form and then schedule a 2-hour slot in the evening to cook it, ensuring it's after 6pm and doesn't clash with existing appointments.\n",
      "Calling function cook_dish_in_point_form with parameters {'dish': 'pizza'}\n",
      "> {'Details of how to cook in bullet form': '1. Preheat the oven to the specified temperature. 2. Roll out the pizza dough on a baking sheet. 3. Spread the tomato sauce evenly on the dough. 4. Add your desired toppings such as cheese, vegetables, and meats. 5. Bake the pizza in the oven until the crust is golden and the cheese is melted. 6. Remove from the oven, slice, and serve hot.'}\n",
      "\n",
      "Subtask identified: Schedule a 2-hour slot in the evening to cook the pizza, ensuring it's after 6pm and doesn't clash with existing appointments.\n",
      "Calling function schedule_with_time_and_appointment with parameters {'appointment': 'Cooking Pizza', 'start_time': '6pm', 'end_time': '8pm'}\n",
      "> {'Completed Status': 'Successful'}\n",
      "\n",
      "Task completed successfully!\n",
      "\n"
     ]
    },
    {
     "data": {
      "text/plain": [
       "[{'Details of how to cook in bullet form': '1. Preheat the oven to the specified temperature. 2. Roll out the pizza dough on a baking sheet. 3. Spread the tomato sauce evenly on the dough. 4. Add your desired toppings such as cheese, vegetables, and meats. 5. Bake the pizza in the oven until the crust is golden and the cheese is melted. 6. Remove from the oven, slice, and serve hot.'},\n",
       " {'Completed Status': 'Successful'}]"
      ]
     },
     "execution_count": 144,
     "metadata": {},
     "output_type": "execute_result"
    }
   ],
   "source": [
    "agent4.reset()\n",
    "agent4.run('Give me instructions for making a pizza, then book a 2 hour slot in evening to cook it. I normally eat after 6pm.')"
   ]
  },
  {
   "cell_type": "code",
   "execution_count": 145,
   "id": "af1e5591-0756-4f08-a88f-010978113860",
   "metadata": {
    "tags": []
   },
   "outputs": [
    {
     "name": "stdout",
     "output_type": "stream",
     "text": [
      "Subtask identified: Identify the remaining free periods in the schedule to fit in 3 hours of play time\n",
      "Calling function schedule_with_time_and_appointment with parameters {'appointment': 'play time', 'start_time': '8pm', 'end_time': '11pm'}\n",
      "> {'Completed Status': 'Successful'}\n",
      "\n"
     ]
    },
    {
     "data": {
      "text/plain": [
       "[{'Completed Status': 'Successful'}]"
      ]
     },
     "execution_count": 145,
     "metadata": {},
     "output_type": "execute_result"
    }
   ],
   "source": [
    "agent4.reset()\n",
    "agent4.run('Schedule 3 hours of play time in remaining free periods', num_subtasks = 1)"
   ]
  },
  {
   "cell_type": "code",
   "execution_count": 146,
   "id": "66db87db-5e72-477c-9328-482aefd6c820",
   "metadata": {
    "tags": []
   },
   "outputs": [
    {
     "name": "stdout",
     "output_type": "stream",
     "text": [
      "Agent Name: Personal Assistant\n",
      "Agent Description: Helps User find cooking recipes and schedules stuff. \n",
      "You are not able to change timeslots already in Booked Timeslots. Shift new appointment timings if needed to avoid clashes\n",
      "Available Functions: ['end_task', 'cook_dish_in_point_form', 'schedule_with_time_and_appointment']\n",
      "Shared Variables: ['Scheduled Timeslots']\n",
      "Task: Schedule 3 hours of play time in remaining free periods\n",
      "Subtasks Completed:\n",
      "Subtask: Identify the remaining free periods in the schedule to fit in 3 hours of play time\n",
      "{'Completed Status': 'Successful'}\n",
      "\n",
      "Is Task Completed: False\n"
     ]
    }
   ],
   "source": [
    "agent4.status()"
   ]
  },
  {
   "cell_type": "code",
   "execution_count": 147,
   "id": "0421dcbc-3b9c-4a69-95a0-3b807f3028bb",
   "metadata": {
    "tags": []
   },
   "outputs": [
    {
     "data": {
      "text/plain": [
       "{'Scheduled Timeslots': ['10am - 1130am: TaskGen Tutorial',\n",
       "  '1130am - 230pm: badminton session',\n",
       "  '2pm - 5pm: board games session',\n",
       "  '6pm - 8pm: Cooking Pizza',\n",
       "  '8pm - 11pm: play time']}"
      ]
     },
     "execution_count": 147,
     "metadata": {},
     "output_type": "execute_result"
    }
   ],
   "source": [
    "agent4.shared_variables"
   ]
  }
 ],
 "metadata": {
  "kernelspec": {
   "display_name": "Python 3 (ipykernel)",
   "language": "python",
   "name": "python3"
  },
  "language_info": {
   "codemirror_mode": {
    "name": "ipython",
    "version": 3
   },
   "file_extension": ".py",
   "mimetype": "text/x-python",
   "name": "python",
   "nbconvert_exporter": "python",
   "pygments_lexer": "ipython3",
   "version": "3.11.3"
  }
 },
 "nbformat": 4,
 "nbformat_minor": 5
}
