{
 "cells": [
  {
   "cell_type": "markdown",
   "id": "2fa1e388-b8f4-4fa3-be5a-ba7c6caae038",
   "metadata": {
    "tags": []
   },
   "source": [
    "# TaskGen Ask Me Anything\n",
    "- First Created: 7 May 2024\n",
    "- Video: https://www.youtube.com/watch?v=mheIWKugqF4\n",
    "- John Tan Chong Min\n",
    "- Updated on 18 May 2024, using TaskGen v2.2.0 to make it more robust and handle feedback from environment better (removed list of steps to constrain generation, and instead, replan after each subtask)"
   ]
  },
  {
   "cell_type": "code",
   "execution_count": 1,
   "id": "db31585a-1502-490c-ae8a-c60f9dcdb73f",
   "metadata": {
    "tags": []
   },
   "outputs": [],
   "source": [
    "# !pip install taskgen-ai"
   ]
  },
  {
   "cell_type": "code",
   "execution_count": 2,
   "id": "076adf5e-beb1-4b19-9078-34ab1b7d9afe",
   "metadata": {
    "tags": []
   },
   "outputs": [],
   "source": [
    "# Set up API key and do the necessary imports\n",
    "import os\n",
    "from taskgen import *\n",
    "import random\n",
    "\n",
    "os.environ['OPENAI_API_KEY'] = '<YOUR API KEY HERE>'"
   ]
  },
  {
   "cell_type": "markdown",
   "id": "b7ece608-45cd-461c-8e96-7d0a8c037d72",
   "metadata": {
    "tags": []
   },
   "source": [
    "# Default Agent"
   ]
  },
  {
   "cell_type": "code",
   "execution_count": 3,
   "id": "780199d4-689c-4ef3-a844-e7e2fbe5e094",
   "metadata": {
    "tags": []
   },
   "outputs": [],
   "source": [
    "# you can use a custom LLM with TaskGen by adding it to Agent()\n",
    "def custom_llm(system_prompt: str, user_prompt: str):\n",
    "    ''' Here, we use OpenAI for illustration, you can change it to your own LLM '''\n",
    "    # ensure your LLM imports are all within this function\n",
    "    from openai import OpenAI\n",
    "    \n",
    "    # define your own LLM here\n",
    "    client = OpenAI()\n",
    "    response = client.chat.completions.create(\n",
    "        model='gpt-3.5-turbo',\n",
    "        temperature = 0,\n",
    "        messages=[\n",
    "            {\"role\": \"system\", \"content\": system_prompt},\n",
    "            {\"role\": \"user\", \"content\": user_prompt}\n",
    "        ]\n",
    "    )\n",
    "    return response.choices[0].message.content"
   ]
  },
  {
   "cell_type": "code",
   "execution_count": 4,
   "id": "86b29290-fbaf-40ae-8170-2f47cfe1698e",
   "metadata": {
    "tags": []
   },
   "outputs": [],
   "source": [
    "agent = Agent('Cooking Expert','Provides cooking guidance', max_subtasks = 10, llm = custom_llm)"
   ]
  },
  {
   "cell_type": "code",
   "execution_count": 5,
   "id": "ed76e0f3-5598-41ba-bb42-ca06eb7c2156",
   "metadata": {
    "tags": []
   },
   "outputs": [
    {
     "name": "stdout",
     "output_type": "stream",
     "text": [
      "\u001b[1m\u001b[30mObservation: No subtasks completed yet for the assigned task\u001b[0m\n",
      "\u001b[1m\u001b[32mThoughts: I can start by providing a general overview of how to cook pasta using the use_llm function.\u001b[0m\n",
      "\u001b[1m\u001b[34mSubtask identified: Provide a general overview of how to cook pasta\u001b[0m\n",
      "Getting LLM to perform the following task: Provide a general overview of how to cook pasta\n",
      "> To cook pasta, start by bringing a large pot of water to a boil. Add a generous amount of salt to the water to season the pasta as it cooks. Once the water is boiling, add the pasta and stir occasionally to prevent sticking. Cook the pasta according to the package instructions, usually around 8-12 minutes depending on the type of pasta. Taste a piece of pasta to check for doneness - it should be al dente, meaning firm but not hard. Once the pasta is cooked to your liking, drain it in a colander and rinse with warm water if you're not using it right away. You can then toss the pasta with your favorite sauce or ingredients and serve hot. Enjoy your delicious pasta dish!\n",
      "\n",
      "\u001b[1m\u001b[30mObservation: The general overview of how to cook pasta has been provided\u001b[0m\n",
      "\u001b[1m\u001b[32mThoughts: The next step could be to provide specific recipes or variations for cooking pasta\u001b[0m\n",
      "\u001b[1m\u001b[34mSubtask identified: Provide a simple recipe for cooking spaghetti aglio e olio\u001b[0m\n",
      "Getting LLM to perform the following task: Provide a simple recipe for cooking spaghetti aglio e olio\n",
      "> To cook spaghetti aglio e olio, start by bringing a large pot of salted water to a boil. Add the spaghetti and cook according to the package instructions until al dente. In a separate pan, heat olive oil and minced garlic over low heat until the garlic is fragrant and golden, being careful not to burn it. Add red pepper flakes for a bit of heat if desired. Once the spaghetti is cooked, transfer it to the pan with the garlic oil using tongs. Toss the spaghetti to coat it evenly with the garlic oil. You can add some pasta water to help create a sauce that coats the spaghetti nicely. Season with salt and pepper to taste. Serve the spaghetti aglio e olio hot, garnished with chopped parsley and grated Parmesan cheese. Enjoy your flavorful and simple dish!\n",
      "\n",
      "\u001b[1m\u001b[30mObservation: Two subtasks have been completed for the assigned task, providing a general overview of how to cook pasta and a simple recipe for spaghetti aglio e olio.\u001b[0m\n",
      "\u001b[1m\u001b[32mThoughts: The assigned task has been partially completed with the provided general overview and recipe. The next step could be to provide a more detailed recipe for a different type of pasta dish.\u001b[0m\n",
      "\u001b[1m\u001b[34mSubtask identified: Provide a detailed recipe for cooking creamy mushroom pasta.\u001b[0m\n",
      "Getting LLM to perform the following task: Provide a detailed recipe for cooking creamy mushroom pasta.\n",
      "> To cook creamy mushroom pasta, start by bringing a large pot of salted water to a boil. Add the pasta and cook according to the package instructions until al dente. In a separate pan, melt butter over medium heat. Add sliced mushrooms and cook until they are golden brown and all the liquid has evaporated. Add minced garlic and cook for another minute until fragrant. Pour in heavy cream and bring to a simmer. Let the sauce thicken slightly. Season with salt, pepper, and any herbs of your choice like thyme or parsley. Once the pasta is cooked, drain it and add it to the creamy mushroom sauce. Toss everything together until the pasta is well coated. If the sauce is too thick, you can add a splash of pasta water to loosen it up. Serve the creamy mushroom pasta hot, garnished with freshly grated Parmesan cheese and chopped parsley. Enjoy your rich and flavorful pasta dish!\n",
      "\n",
      "\u001b[1m\u001b[30mObservation: Three subtasks related to cooking pasta have been completed, providing a general overview of how to cook pasta, a simple recipe for spaghetti aglio e olio, and a detailed recipe for creamy mushroom pasta.\u001b[0m\n",
      "\u001b[1m\u001b[32mThoughts: The assigned task of providing guidance on how to cook pasta has been completed with the subtasks. No further guidance is needed.\u001b[0m\n",
      "\u001b[1m\u001b[34mSubtask identified: End Task\u001b[0m\n",
      "Task completed successfully!\n",
      "\n"
     ]
    },
    {
     "data": {
      "text/plain": [
       "[{'Output': \"To cook pasta, start by bringing a large pot of water to a boil. Add a generous amount of salt to the water to season the pasta as it cooks. Once the water is boiling, add the pasta and stir occasionally to prevent sticking. Cook the pasta according to the package instructions, usually around 8-12 minutes depending on the type of pasta. Taste a piece of pasta to check for doneness - it should be al dente, meaning firm but not hard. Once the pasta is cooked to your liking, drain it in a colander and rinse with warm water if you're not using it right away. You can then toss the pasta with your favorite sauce or ingredients and serve hot. Enjoy your delicious pasta dish!\"},\n",
       " {'Output': 'To cook spaghetti aglio e olio, start by bringing a large pot of salted water to a boil. Add the spaghetti and cook according to the package instructions until al dente. In a separate pan, heat olive oil and minced garlic over low heat until the garlic is fragrant and golden, being careful not to burn it. Add red pepper flakes for a bit of heat if desired. Once the spaghetti is cooked, transfer it to the pan with the garlic oil using tongs. Toss the spaghetti to coat it evenly with the garlic oil. You can add some pasta water to help create a sauce that coats the spaghetti nicely. Season with salt and pepper to taste. Serve the spaghetti aglio e olio hot, garnished with chopped parsley and grated Parmesan cheese. Enjoy your flavorful and simple dish!'},\n",
       " {'Output': 'To cook creamy mushroom pasta, start by bringing a large pot of salted water to a boil. Add the pasta and cook according to the package instructions until al dente. In a separate pan, melt butter over medium heat. Add sliced mushrooms and cook until they are golden brown and all the liquid has evaporated. Add minced garlic and cook for another minute until fragrant. Pour in heavy cream and bring to a simmer. Let the sauce thicken slightly. Season with salt, pepper, and any herbs of your choice like thyme or parsley. Once the pasta is cooked, drain it and add it to the creamy mushroom sauce. Toss everything together until the pasta is well coated. If the sauce is too thick, you can add a splash of pasta water to loosen it up. Serve the creamy mushroom pasta hot, garnished with freshly grated Parmesan cheese and chopped parsley. Enjoy your rich and flavorful pasta dish!'}]"
      ]
     },
     "execution_count": 5,
     "metadata": {},
     "output_type": "execute_result"
    }
   ],
   "source": [
    "agent.run('Tell me how to cook pasta')"
   ]
  },
  {
   "cell_type": "code",
   "execution_count": 6,
   "id": "ba6365d7-5a73-44b7-8cde-0f0799ab8cd3",
   "metadata": {
    "tags": []
   },
   "outputs": [
    {
     "name": "stdout",
     "output_type": "stream",
     "text": [
      "Agent Name: Cooking Expert\n",
      "Agent Description: Provides cooking guidance\n",
      "Available Functions: ['use_llm', 'end_task']\n",
      "\u001b[1m\u001b[32mTask: Tell me how to cook pasta\u001b[0m\n",
      "\u001b[1m\u001b[30mSubtasks Completed:\u001b[0m\n",
      "\u001b[1m\u001b[34mSubtask: Provide a general overview of how to cook pasta\u001b[0m\n",
      "{'Output': \"To cook pasta, start by bringing a large pot of water to a boil. Add a generous amount of salt to the water to season the pasta as it cooks. Once the water is boiling, add the pasta and stir occasionally to prevent sticking. Cook the pasta according to the package instructions, usually around 8-12 minutes depending on the type of pasta. Taste a piece of pasta to check for doneness - it should be al dente, meaning firm but not hard. Once the pasta is cooked to your liking, drain it in a colander and rinse with warm water if you're not using it right away. You can then toss the pasta with your favorite sauce or ingredients and serve hot. Enjoy your delicious pasta dish!\"}\n",
      "\n",
      "\u001b[1m\u001b[34mSubtask: Provide a simple recipe for cooking spaghetti aglio e olio\u001b[0m\n",
      "{'Output': 'To cook spaghetti aglio e olio, start by bringing a large pot of salted water to a boil. Add the spaghetti and cook according to the package instructions until al dente. In a separate pan, heat olive oil and minced garlic over low heat until the garlic is fragrant and golden, being careful not to burn it. Add red pepper flakes for a bit of heat if desired. Once the spaghetti is cooked, transfer it to the pan with the garlic oil using tongs. Toss the spaghetti to coat it evenly with the garlic oil. You can add some pasta water to help create a sauce that coats the spaghetti nicely. Season with salt and pepper to taste. Serve the spaghetti aglio e olio hot, garnished with chopped parsley and grated Parmesan cheese. Enjoy your flavorful and simple dish!'}\n",
      "\n",
      "\u001b[1m\u001b[34mSubtask: Provide a detailed recipe for cooking creamy mushroom pasta.\u001b[0m\n",
      "{'Output': 'To cook creamy mushroom pasta, start by bringing a large pot of salted water to a boil. Add the pasta and cook according to the package instructions until al dente. In a separate pan, melt butter over medium heat. Add sliced mushrooms and cook until they are golden brown and all the liquid has evaporated. Add minced garlic and cook for another minute until fragrant. Pour in heavy cream and bring to a simmer. Let the sauce thicken slightly. Season with salt, pepper, and any herbs of your choice like thyme or parsley. Once the pasta is cooked, drain it and add it to the creamy mushroom sauce. Toss everything together until the pasta is well coated. If the sauce is too thick, you can add a splash of pasta water to loosen it up. Serve the creamy mushroom pasta hot, garnished with freshly grated Parmesan cheese and chopped parsley. Enjoy your rich and flavorful pasta dish!'}\n",
      "\n",
      "Is Task Completed: True\n"
     ]
    }
   ],
   "source": [
    "agent.status()"
   ]
  },
  {
   "cell_type": "code",
   "execution_count": 7,
   "id": "dd7eb53d-2136-4c10-b1c4-1e4b42cc79c2",
   "metadata": {
    "tags": []
   },
   "outputs": [
    {
     "name": "stdout",
     "output_type": "stream",
     "text": [
      "To cook pasta, start by bringing a large pot of water to a boil. Add a generous amount of salt to the water to season the pasta as it cooks. Once the water is boiling, add the pasta and stir occasionally to prevent sticking. Cook the pasta according to the package instructions, usually around 8-12 minutes depending on the type of pasta. Taste a piece of pasta to check for doneness - it should be al dente, meaning firm but not hard. Once the pasta is cooked to your liking, drain it in a colander and rinse with warm water if you're not using it right away. You can then toss the pasta with your favorite sauce or ingredients and serve hot. Enjoy your delicious pasta dish!\n"
     ]
    },
    {
     "data": {
      "text/plain": [
       "\"To cook pasta, start by bringing a large pot of water to a boil. Add a generous amount of salt to the water to season the pasta as it cooks. Once the water is boiling, add the pasta and stir occasionally to prevent sticking. Cook the pasta according to the package instructions, usually around 8-12 minutes depending on the type of pasta. Taste a piece of pasta to check for doneness - it should be al dente, meaning firm but not hard. Once the pasta is cooked to your liking, drain it in a colander and rinse with warm water if you're not using it right away. You can then toss the pasta with your favorite sauce or ingredients and serve hot. Enjoy your delicious pasta dish!\""
      ]
     },
     "execution_count": 7,
     "metadata": {},
     "output_type": "execute_result"
    }
   ],
   "source": [
    "agent.reply_user('Give me in bullet point format how to cook pasta')"
   ]
  },
  {
   "cell_type": "code",
   "execution_count": 8,
   "id": "5331fcfd-de62-4f5a-a78b-5fd6e2a60a2f",
   "metadata": {
    "tags": []
   },
   "outputs": [
    {
     "name": "stdout",
     "output_type": "stream",
     "text": [
      "Agent Name: Cooking Expert\n",
      "Agent Description: Provides cooking guidance\n",
      "Available Functions: ['use_llm', 'end_task']\n",
      "\u001b[1m\u001b[32mTask: Tell me how to cook pasta\u001b[0m\n",
      "\u001b[1m\u001b[30mSubtasks Completed:\u001b[0m\n",
      "\u001b[1m\u001b[34mSubtask: Provide a general overview of how to cook pasta\u001b[0m\n",
      "{'Output': \"To cook pasta, start by bringing a large pot of water to a boil. Add a generous amount of salt to the water to season the pasta as it cooks. Once the water is boiling, add the pasta and stir occasionally to prevent sticking. Cook the pasta according to the package instructions, usually around 8-12 minutes depending on the type of pasta. Taste a piece of pasta to check for doneness - it should be al dente, meaning firm but not hard. Once the pasta is cooked to your liking, drain it in a colander and rinse with warm water if you're not using it right away. You can then toss the pasta with your favorite sauce or ingredients and serve hot. Enjoy your delicious pasta dish!\"}\n",
      "\n",
      "\u001b[1m\u001b[34mSubtask: Provide a simple recipe for cooking spaghetti aglio e olio\u001b[0m\n",
      "{'Output': 'To cook spaghetti aglio e olio, start by bringing a large pot of salted water to a boil. Add the spaghetti and cook according to the package instructions until al dente. In a separate pan, heat olive oil and minced garlic over low heat until the garlic is fragrant and golden, being careful not to burn it. Add red pepper flakes for a bit of heat if desired. Once the spaghetti is cooked, transfer it to the pan with the garlic oil using tongs. Toss the spaghetti to coat it evenly with the garlic oil. You can add some pasta water to help create a sauce that coats the spaghetti nicely. Season with salt and pepper to taste. Serve the spaghetti aglio e olio hot, garnished with chopped parsley and grated Parmesan cheese. Enjoy your flavorful and simple dish!'}\n",
      "\n",
      "\u001b[1m\u001b[34mSubtask: Provide a detailed recipe for cooking creamy mushroom pasta.\u001b[0m\n",
      "{'Output': 'To cook creamy mushroom pasta, start by bringing a large pot of salted water to a boil. Add the pasta and cook according to the package instructions until al dente. In a separate pan, melt butter over medium heat. Add sliced mushrooms and cook until they are golden brown and all the liquid has evaporated. Add minced garlic and cook for another minute until fragrant. Pour in heavy cream and bring to a simmer. Let the sauce thicken slightly. Season with salt, pepper, and any herbs of your choice like thyme or parsley. Once the pasta is cooked, drain it and add it to the creamy mushroom sauce. Toss everything together until the pasta is well coated. If the sauce is too thick, you can add a splash of pasta water to loosen it up. Serve the creamy mushroom pasta hot, garnished with freshly grated Parmesan cheese and chopped parsley. Enjoy your rich and flavorful pasta dish!'}\n",
      "\n",
      "\u001b[1m\u001b[34mSubtask: Give me in bullet point format how to cook pasta\u001b[0m\n",
      "To cook pasta, start by bringing a large pot of water to a boil. Add a generous amount of salt to the water to season the pasta as it cooks. Once the water is boiling, add the pasta and stir occasionally to prevent sticking. Cook the pasta according to the package instructions, usually around 8-12 minutes depending on the type of pasta. Taste a piece of pasta to check for doneness - it should be al dente, meaning firm but not hard. Once the pasta is cooked to your liking, drain it in a colander and rinse with warm water if you're not using it right away. You can then toss the pasta with your favorite sauce or ingredients and serve hot. Enjoy your delicious pasta dish!\n",
      "\n",
      "Is Task Completed: True\n"
     ]
    }
   ],
   "source": [
    "agent.status()"
   ]
  },
  {
   "cell_type": "code",
   "execution_count": 9,
   "id": "ec917ca5-78b7-4b8d-8e4b-9f61bb95d980",
   "metadata": {
    "tags": []
   },
   "outputs": [
    {
     "name": "stdout",
     "output_type": "stream",
     "text": [
      "\u001b[1m\u001b[30mObservation: No subtasks completed yet for the assigned task\u001b[0m\n",
      "\u001b[1m\u001b[32mThoughts: Need to start with the first step of cooking bratwurst sausages\u001b[0m\n",
      "\u001b[1m\u001b[34mSubtask identified: Research the basic steps for cooking bratwurst sausages\u001b[0m\n",
      "Getting LLM to perform the following task: Research the basic steps for cooking bratwurst sausages\n",
      "> To cook bratwurst sausages, start by preheating a grill or skillet to medium heat. Place the sausages on the grill or skillet and cook for about 15-20 minutes, turning occasionally to ensure even cooking. You can also add some beer or water to the skillet and cover it to steam the sausages for a juicier result. Make sure the internal temperature of the sausages reaches 160°F (71°C) before serving. Once cooked, you can enjoy the bratwurst sausages on a bun with your favorite toppings or alongside sauerkraut and mustard.\n",
      "\n",
      "\u001b[1m\u001b[30mObservation: The basic steps for cooking bratwurst sausages have been researched and provided\u001b[0m\n",
      "\u001b[1m\u001b[32mThoughts: The next step could be to provide tips on how to enhance the flavor of bratwurst sausages or suggest side dishes to serve with them. This can be done using the \"use_llm\" function.\u001b[0m\n",
      "\u001b[1m\u001b[34mSubtask identified: Provide tips on how to enhance the flavor of bratwurst sausages\u001b[0m\n",
      "Getting LLM to perform the following task: Provide tips on how to enhance the flavor of bratwurst sausages\n",
      "> To enhance the flavor of bratwurst sausages, you can try the following tips:\\n1. Marinate the sausages in a mixture of beer, onions, garlic, and herbs for a few hours or overnight before cooking to infuse them with extra flavor.\\n2. Grill the sausages over charcoal or wood chips to add a smoky flavor.\\n3. Serve the cooked sausages with caramelized onions, sauerkraut, or spicy mustard for added depth of taste.\\n4. Experiment with different seasonings such as paprika, fennel seeds, or caraway seeds to create unique flavor profiles.\\n5. Pair the bratwurst sausages with a side of German potato salad or grilled vegetables to complement the savory taste of the sausages.\n",
      "\n",
      "\u001b[1m\u001b[30mObservation: The basic steps for cooking bratwurst sausages and tips to enhance their flavor have been researched and provided.\u001b[0m\n",
      "\u001b[1m\u001b[32mThoughts: The next step could be to provide serving suggestions or recipe variations for bratwurst sausages.\u001b[0m\n",
      "\u001b[1m\u001b[34mSubtask identified: Provide serving suggestions for bratwurst sausages.\u001b[0m\n",
      "Getting LLM to perform the following task: Provide serving suggestions for bratwurst sausages.\n",
      "> When serving bratwurst sausages, consider the following suggestions to elevate the dining experience:\\\\n1. Create a bratwurst bar where guests can customize their sausages with a variety of toppings such as grilled peppers, onions, pickles, and different types of mustard.\\\\n2. Serve the bratwurst sausages with a side of warm pretzels and spicy mustard for a classic German combination.\\\\n3. Pair the sausages with a refreshing beer or cider to complement the savory flavors.\\\\n4. Incorporate the sausages into a hearty stew or casserole for a comforting and filling meal.\\\\n5. Offer a selection of dipping sauces like barbecue sauce, honey mustard, or horseradish aioli for added flavor options.\n",
      "\n",
      "\u001b[1m\u001b[30mObservation: The basic steps, flavor enhancement tips, and serving suggestions for cooking bratwurst sausages have been researched and provided.\u001b[0m\n",
      "\u001b[1m\u001b[32mThoughts: The next step is to provide a recipe for making homemade bratwurst sausages.\u001b[0m\n",
      "\u001b[1m\u001b[34mSubtask identified: Provide a recipe for making homemade bratwurst sausages.\u001b[0m\n",
      "Getting LLM to perform the following task: Provide a recipe for making homemade bratwurst sausages.\n",
      "> To make homemade bratwurst sausages, you will need the following ingredients: pork shoulder, pork belly, salt, white pepper, nutmeg, mace, ginger, and fresh parsley. Start by grinding the pork shoulder and pork belly together. Then, mix in the salt, white pepper, nutmeg, mace, ginger, and chopped parsley until well combined. Cover the mixture and let it sit in the refrigerator for a few hours to allow the flavors to meld. Once the mixture has rested, stuff it into natural casings and twist into individual sausage links. To cook the bratwurst sausages, you can follow the basic steps mentioned earlier, ensuring they reach an internal temperature of 160°F (71°C) before serving. Enjoy your homemade bratwurst sausages with your favorite toppings or sides.\n",
      "\n",
      "### Auto-summarising Subtasks Completed ###\n",
      "To cook bratwurst sausages, start by preheating a grill or skillet to medium heat. Place the sausages on the grill or skillet and cook for about 15-20 minutes, turning occasionally to ensure even cooking. You can also add some beer or water to the skillet and cover it to steam the sausages for a juicier result. Make sure the internal temperature of the sausages reaches 160°F (71°C) before serving. Once cooked, you can enjoy the bratwurst sausages on a bun with your favorite toppings or alongside sauerkraut and mustard.\n",
      "### End of Auto-summary ###\n",
      "\n",
      "\u001b[1m\u001b[30mObservation: The steps for cooking bratwurst sausages have been completed successfully.\u001b[0m\n",
      "\u001b[1m\u001b[32mThoughts: The task of cooking bratwurst sausages has been fully explained. It seems like the task is completed.\u001b[0m\n",
      "\u001b[1m\u001b[34mSubtask identified: End Task\u001b[0m\n",
      "Task completed successfully!\n",
      "\n"
     ]
    },
    {
     "data": {
      "text/plain": [
       "['To cook bratwurst sausages, start by preheating a grill or skillet to medium heat. Place the sausages on the grill or skillet and cook for about 15-20 minutes, turning occasionally to ensure even cooking. You can also add some beer or water to the skillet and cover it to steam the sausages for a juicier result. Make sure the internal temperature of the sausages reaches 160°F (71°C) before serving. Once cooked, you can enjoy the bratwurst sausages on a bun with your favorite toppings or alongside sauerkraut and mustard.']"
      ]
     },
     "execution_count": 9,
     "metadata": {},
     "output_type": "execute_result"
    }
   ],
   "source": [
    "# Note: it is better to reset an agent if you want to change the task\n",
    "agent.reset()\n",
    "agent.run('How to cook bratwurst sausages')"
   ]
  },
  {
   "cell_type": "code",
   "execution_count": 10,
   "id": "c1a68f85-0209-423d-8506-18e6efd126d9",
   "metadata": {
    "tags": []
   },
   "outputs": [
    {
     "name": "stdout",
     "output_type": "stream",
     "text": [
      "Agent Name: Cooking Expert\n",
      "Agent Description: Provides cooking guidance\n",
      "Available Functions: ['use_llm', 'end_task']\n",
      "\u001b[1m\u001b[32mTask: How to cook bratwurst sausages\u001b[0m\n",
      "\u001b[1m\u001b[30mSubtasks Completed:\u001b[0m\n",
      "\u001b[1m\u001b[34mSubtask: Summary of progress for How to cook bratwurst sausages\u001b[0m\n",
      "To cook bratwurst sausages, start by preheating a grill or skillet to medium heat. Place the sausages on the grill or skillet and cook for about 15-20 minutes, turning occasionally to ensure even cooking. You can also add some beer or water to the skillet and cover it to steam the sausages for a juicier result. Make sure the internal temperature of the sausages reaches 160°F (71°C) before serving. Once cooked, you can enjoy the bratwurst sausages on a bun with your favorite toppings or alongside sauerkraut and mustard.\n",
      "\n",
      "Is Task Completed: True\n"
     ]
    }
   ],
   "source": [
    "agent.status()"
   ]
  },
  {
   "cell_type": "code",
   "execution_count": 11,
   "id": "96ca48bd-fc5f-4cd2-b95b-083702d5d215",
   "metadata": {
    "tags": []
   },
   "outputs": [
    {
     "name": "stdout",
     "output_type": "stream",
     "text": [
      "To cook bratwurst sausages, you should cook them for about 15-20 minutes on a preheated grill or skillet, turning occasionally to ensure even cooking. Make sure the internal temperature of the sausages reaches 160°F (71°C) before serving.\n"
     ]
    },
    {
     "data": {
      "text/plain": [
       "'To cook bratwurst sausages, you should cook them for about 15-20 minutes on a preheated grill or skillet, turning occasionally to ensure even cooking. Make sure the internal temperature of the sausages reaches 160°F (71°C) before serving.'"
      ]
     },
     "execution_count": 11,
     "metadata": {},
     "output_type": "execute_result"
    }
   ],
   "source": [
    "# Use stateful = False if you don't want the reply to user to go into Subtasks Completed\n",
    "agent.reply_user('How long should I cook for?', stateful = False)"
   ]
  },
  {
   "cell_type": "code",
   "execution_count": 12,
   "id": "d5c76b71-51f8-4305-ae33-e5c67b06e616",
   "metadata": {
    "tags": []
   },
   "outputs": [
    {
     "name": "stdout",
     "output_type": "stream",
     "text": [
      "Agent Name: Cooking Expert\n",
      "Agent Description: Provides cooking guidance\n",
      "Available Functions: ['use_llm', 'end_task']\n",
      "\u001b[1m\u001b[32mTask: How to cook bratwurst sausages\u001b[0m\n",
      "\u001b[1m\u001b[30mSubtasks Completed:\u001b[0m\n",
      "\u001b[1m\u001b[34mSubtask: Summary of progress for How to cook bratwurst sausages\u001b[0m\n",
      "To cook bratwurst sausages, start by preheating a grill or skillet to medium heat. Place the sausages on the grill or skillet and cook for about 15-20 minutes, turning occasionally to ensure even cooking. You can also add some beer or water to the skillet and cover it to steam the sausages for a juicier result. Make sure the internal temperature of the sausages reaches 160°F (71°C) before serving. Once cooked, you can enjoy the bratwurst sausages on a bun with your favorite toppings or alongside sauerkraut and mustard.\n",
      "\n",
      "Is Task Completed: True\n"
     ]
    }
   ],
   "source": [
    "agent.status()"
   ]
  },
  {
   "cell_type": "markdown",
   "id": "86949085-f3b5-4d60-beed-b8cec9e09b01",
   "metadata": {
    "tags": []
   },
   "source": [
    "## Stepping through one step at a time"
   ]
  },
  {
   "cell_type": "code",
   "execution_count": 76,
   "id": "0360ca0c-d1a4-4433-985b-676aef030fa8",
   "metadata": {
    "tags": []
   },
   "outputs": [],
   "source": [
    "agent = Agent('Cooking Expert','Provides cooking guidance', max_subtasks = 10, llm = custom_llm)"
   ]
  },
  {
   "cell_type": "code",
   "execution_count": 77,
   "id": "309f3b36-dc75-4745-a312-0c17736009dc",
   "metadata": {
    "tags": []
   },
   "outputs": [
    {
     "name": "stdout",
     "output_type": "stream",
     "text": [
      "\u001b[1m\u001b[30mObservation: No subtasks completed yet for the assigned task\u001b[0m\n",
      "\u001b[1m\u001b[32mThoughts: Need to provide guidance on how to cook an omelette using the equipped functions\u001b[0m\n",
      "\u001b[1m\u001b[34mSubtask identified: Provide step-by-step instructions on how to cook an omelette\u001b[0m\n",
      "Getting LLM to perform the following task: Provide step-by-step instructions on how to cook an omelette\n",
      "> To cook an omelette, start by cracking 2-3 eggs into a bowl and whisking them together with a pinch of salt and pepper. Heat a non-stick skillet over medium heat and add a small amount of butter or oil. Pour the whisked eggs into the skillet and let them cook for a few minutes until the edges start to set. Use a spatula to gently lift the edges of the omelette and tilt the skillet to let the uncooked eggs flow to the edges. Once the omelette is mostly set but still slightly runny on top, add your desired fillings such as cheese, vegetables, or ham to one half of the omelette. Use the spatula to fold the other half of the omelette over the fillings. Let the omelette cook for another minute or so until the cheese is melted and the fillings are heated through. Slide the omelette onto a plate and serve hot. Enjoy your delicious omelette!\n",
      "\n"
     ]
    },
    {
     "data": {
      "text/plain": [
       "[{'Output': 'To cook an omelette, start by cracking 2-3 eggs into a bowl and whisking them together with a pinch of salt and pepper. Heat a non-stick skillet over medium heat and add a small amount of butter or oil. Pour the whisked eggs into the skillet and let them cook for a few minutes until the edges start to set. Use a spatula to gently lift the edges of the omelette and tilt the skillet to let the uncooked eggs flow to the edges. Once the omelette is mostly set but still slightly runny on top, add your desired fillings such as cheese, vegetables, or ham to one half of the omelette. Use the spatula to fold the other half of the omelette over the fillings. Let the omelette cook for another minute or so until the cheese is melted and the fillings are heated through. Slide the omelette onto a plate and serve hot. Enjoy your delicious omelette!'}]"
      ]
     },
     "execution_count": 77,
     "metadata": {},
     "output_type": "execute_result"
    }
   ],
   "source": [
    "agent.run('Tell me how to cook omelette', num_subtasks = 1)"
   ]
  },
  {
   "cell_type": "code",
   "execution_count": 78,
   "id": "fe39d868-f0c6-4e92-9b68-8bed45762ba9",
   "metadata": {
    "tags": []
   },
   "outputs": [
    {
     "name": "stdout",
     "output_type": "stream",
     "text": [
      "Agent Name: Cooking Expert\n",
      "Agent Description: Provides cooking guidance\n",
      "Available Functions: ['use_llm', 'end_task']\n",
      "\u001b[1m\u001b[32mTask: Tell me how to cook omelette\u001b[0m\n",
      "\u001b[1m\u001b[30mSubtasks Completed:\u001b[0m\n",
      "\u001b[1m\u001b[34mSubtask: Provide step-by-step instructions on how to cook an omelette\u001b[0m\n",
      "{'Output': 'To cook an omelette, start by cracking 2-3 eggs into a bowl and whisking them together with a pinch of salt and pepper. Heat a non-stick skillet over medium heat and add a small amount of butter or oil. Pour the whisked eggs into the skillet and let them cook for a few minutes until the edges start to set. Use a spatula to gently lift the edges of the omelette and tilt the skillet to let the uncooked eggs flow to the edges. Once the omelette is mostly set but still slightly runny on top, add your desired fillings such as cheese, vegetables, or ham to one half of the omelette. Use the spatula to fold the other half of the omelette over the fillings. Let the omelette cook for another minute or so until the cheese is melted and the fillings are heated through. Slide the omelette onto a plate and serve hot. Enjoy your delicious omelette!'}\n",
      "\n",
      "Is Task Completed: False\n"
     ]
    }
   ],
   "source": [
    "agent.status()"
   ]
  },
  {
   "cell_type": "code",
   "execution_count": 79,
   "id": "6230fd3d-f679-4429-9977-230bcc616cb2",
   "metadata": {
    "tags": []
   },
   "outputs": [
    {
     "name": "stdout",
     "output_type": "stream",
     "text": [
      "\u001b[1m\u001b[30mObservation: Provided step-by-step instructions on how to cook an omelette\u001b[0m\n",
      "\u001b[1m\u001b[32mThoughts: The step-by-step instructions on how to cook an omelette have been provided. The task seems to be completed as the user has not requested any further information.\u001b[0m\n",
      "\u001b[1m\u001b[34mSubtask identified: End Task\u001b[0m\n",
      "Task completed successfully!\n",
      "\n"
     ]
    },
    {
     "data": {
      "text/plain": [
       "[{'Output': 'To cook an omelette, start by cracking 2-3 eggs into a bowl and whisking them together with a pinch of salt and pepper. Heat a non-stick skillet over medium heat and add a small amount of butter or oil. Pour the whisked eggs into the skillet and let them cook for a few minutes until the edges start to set. Use a spatula to gently lift the edges of the omelette and tilt the skillet to let the uncooked eggs flow to the edges. Once the omelette is mostly set but still slightly runny on top, add your desired fillings such as cheese, vegetables, or ham to one half of the omelette. Use the spatula to fold the other half of the omelette over the fillings. Let the omelette cook for another minute or so until the cheese is melted and the fillings are heated through. Slide the omelette onto a plate and serve hot. Enjoy your delicious omelette!'}]"
      ]
     },
     "execution_count": 79,
     "metadata": {},
     "output_type": "execute_result"
    }
   ],
   "source": [
    "agent.run('Tell me how to cook omelette', num_subtasks = 1)"
   ]
  },
  {
   "cell_type": "code",
   "execution_count": 80,
   "id": "d9020c13-6435-4c49-ae52-12fa63cd0037",
   "metadata": {
    "tags": []
   },
   "outputs": [
    {
     "name": "stdout",
     "output_type": "stream",
     "text": [
      "Agent Name: Cooking Expert\n",
      "Agent Description: Provides cooking guidance\n",
      "Available Functions: ['use_llm', 'end_task']\n",
      "\u001b[1m\u001b[32mTask: Tell me how to cook omelette\u001b[0m\n",
      "\u001b[1m\u001b[30mSubtasks Completed:\u001b[0m\n",
      "\u001b[1m\u001b[34mSubtask: Provide step-by-step instructions on how to cook an omelette\u001b[0m\n",
      "{'Output': 'To cook an omelette, start by cracking 2-3 eggs into a bowl and whisking them together with a pinch of salt and pepper. Heat a non-stick skillet over medium heat and add a small amount of butter or oil. Pour the whisked eggs into the skillet and let them cook for a few minutes until the edges start to set. Use a spatula to gently lift the edges of the omelette and tilt the skillet to let the uncooked eggs flow to the edges. Once the omelette is mostly set but still slightly runny on top, add your desired fillings such as cheese, vegetables, or ham to one half of the omelette. Use the spatula to fold the other half of the omelette over the fillings. Let the omelette cook for another minute or so until the cheese is melted and the fillings are heated through. Slide the omelette onto a plate and serve hot. Enjoy your delicious omelette!'}\n",
      "\n",
      "Is Task Completed: True\n"
     ]
    }
   ],
   "source": [
    "agent.status()"
   ]
  },
  {
   "cell_type": "code",
   "execution_count": 81,
   "id": "6670fe36-bd4b-4784-b0b7-95f143138a83",
   "metadata": {
    "tags": []
   },
   "outputs": [
    {
     "name": "stdout",
     "output_type": "stream",
     "text": [
      "To cook an omelette: 1. Whisk 2-3 eggs with salt and pepper. 2. Heat skillet with butter/oil. 3. Pour eggs, cook edges. 4. Add fillings on one half. 5. Fold omelette. 6. Cook until set. 7. Slide onto plate and serve hot.\n"
     ]
    },
    {
     "data": {
      "text/plain": [
       "'To cook an omelette: 1. Whisk 2-3 eggs with salt and pepper. 2. Heat skillet with butter/oil. 3. Pour eggs, cook edges. 4. Add fillings on one half. 5. Fold omelette. 6. Cook until set. 7. Slide onto plate and serve hot.'"
      ]
     },
     "execution_count": 81,
     "metadata": {},
     "output_type": "execute_result"
    }
   ],
   "source": [
    "agent.reply_user('Summarise how to cook an omelette in point form', stateful = False)"
   ]
  },
  {
   "cell_type": "code",
   "execution_count": 82,
   "id": "fffaada1-c48d-44fb-a128-eba6e80f6f55",
   "metadata": {
    "tags": []
   },
   "outputs": [
    {
     "name": "stdout",
     "output_type": "stream",
     "text": [
      "I am sorry, but I am a Cooking Expert and my area of expertise is providing cooking guidance. If you have any questions related to cooking or recipes, feel free to ask!\n"
     ]
    },
    {
     "data": {
      "text/plain": [
       "'I am sorry, but I am a Cooking Expert and my area of expertise is providing cooking guidance. If you have any questions related to cooking or recipes, feel free to ask!'"
      ]
     },
     "execution_count": 82,
     "metadata": {},
     "output_type": "execute_result"
    }
   ],
   "source": [
    "# reply_user only uses what the subtasks completed has\n",
    "agent.reply_user('How many stars are there in the universe?', stateful = False)"
   ]
  },
  {
   "cell_type": "markdown",
   "id": "52c03591-4cf3-4b19-9c61-a2760c2950bc",
   "metadata": {},
   "source": [
    "## When to use StrictJSON vs TaskGen\n",
    "- TaskGen is for Agentic Flow where you don't know what function to call\n",
    "- strict_json is when you already know what you want to do in the pipeline, then define inputs and outputs to ask LLM to do input-output matching"
   ]
  },
  {
   "cell_type": "code",
   "execution_count": 83,
   "id": "1f757274-b948-4668-939f-1cac7baade6a",
   "metadata": {
    "tags": []
   },
   "outputs": [],
   "source": [
    "res = strict_json('Describe how to cook an omelette in point form', '',\n",
    "            output_format = {'Details of how to cook in bullet form': 'Details'})"
   ]
  },
  {
   "cell_type": "code",
   "execution_count": 84,
   "id": "23d07276-ea56-4140-8aea-7498e6a1539e",
   "metadata": {
    "tags": []
   },
   "outputs": [
    {
     "name": "stdout",
     "output_type": "stream",
     "text": [
      "{'Details of how to cook in bullet form': '1. Crack eggs into a bowl\\\\n2. Whisk the eggs until well combined\\\\n3. Heat a non-stick pan over medium heat\\\\n4. Melt butter in the pan\\\\n5. Pour the eggs into the pan\\\\n6. Let the eggs cook for a few minutes until the edges start to set\\\\n7. Add desired fillings (cheese, vegetables, meats)\\\\n8. Fold the omelette in half with a spatula\\\\n9. Cook for another minute or until the cheese melts\\\\n10. Slide the omelette onto a plate and serve'}\n"
     ]
    }
   ],
   "source": [
    "print(res)"
   ]
  },
  {
   "cell_type": "markdown",
   "id": "db58db5e-f712-4312-b786-4f3c6a7e47aa",
   "metadata": {
    "tags": []
   },
   "source": [
    "# Agent with Functions"
   ]
  },
  {
   "cell_type": "markdown",
   "id": "112e53af-ad4d-4289-a1c8-556e1ae6b375",
   "metadata": {},
   "source": [
    "## Internal Functions"
   ]
  },
  {
   "cell_type": "code",
   "execution_count": 85,
   "id": "d6338ece-9087-4a06-ae31-c011e22dd117",
   "metadata": {
    "tags": []
   },
   "outputs": [],
   "source": [
    "# this is the shorter way (internal LLM function)\n",
    "cooking_fn = Function('Describe how to cook <dish: str> in point form', {'Details of how to cook in bullet form': 'Details'})"
   ]
  },
  {
   "cell_type": "code",
   "execution_count": 86,
   "id": "1dfbd8f0-98c8-4280-b51c-dc0fba37c998",
   "metadata": {
    "tags": []
   },
   "outputs": [
    {
     "name": "stdout",
     "output_type": "stream",
     "text": [
      "Description: Describe how to cook <dish: str> in point form\n",
      "Input: ['dish']\n",
      "Output: {'Details of how to cook in bullet form': 'Details'}\n",
      "\n"
     ]
    }
   ],
   "source": [
    "# visualise the function\n",
    "print(cooking_fn)"
   ]
  },
  {
   "cell_type": "code",
   "execution_count": 87,
   "id": "4fa1f7d5-54a9-4e63-93c6-eb0fa03b4c02",
   "metadata": {
    "tags": []
   },
   "outputs": [
    {
     "data": {
      "text/plain": [
       "{'Details of how to cook in bullet form': '1. Crack eggs into a bowl\\\\n2. Beat the eggs until well mixed\\\\n3. Heat a non-stick pan on medium heat\\\\n4. Pour the egg mixture into the pan\\\\n5. Let it cook for a few minutes until the edges start to set\\\\n6. Use a spatula to lift the edges and let the uncooked egg flow underneath\\\\n7. Add desired fillings like cheese, vegetables, or ham\\\\n8. Fold the omelette in half\\\\n9. Cook for another minute or until the cheese melts\\\\n10. Slide the omelette onto a plate and serve hot'}"
      ]
     },
     "execution_count": 87,
     "metadata": {},
     "output_type": "execute_result"
    }
   ],
   "source": [
    "# use the function\n",
    "cooking_fn('Omelette')"
   ]
  },
  {
   "cell_type": "code",
   "execution_count": 88,
   "id": "06678068-1279-4568-93bd-f265d50fd883",
   "metadata": {
    "tags": []
   },
   "outputs": [
    {
     "data": {
      "text/plain": [
       "{'Details of how to cook in bullet form': '1. Preheat a skillet or grill over medium heat. 2. Place sausages on the skillet or grill. 3. Cook for about 15-20 minutes, turning occasionally, until sausages are browned and cooked through. 4. Serve hot.'}"
      ]
     },
     "execution_count": 88,
     "metadata": {},
     "output_type": "execute_result"
    }
   ],
   "source": [
    "cooking_fn('Sausages')"
   ]
  },
  {
   "cell_type": "code",
   "execution_count": 89,
   "id": "f4829e4d-9eb7-4c4d-a1fb-0f6a6d5d0ae2",
   "metadata": {
    "tags": []
   },
   "outputs": [
    {
     "data": {
      "text/plain": [
       "'describe_cooking_steps'"
      ]
     },
     "execution_count": 89,
     "metadata": {},
     "output_type": "execute_result"
    }
   ],
   "source": [
    "cooking_fn.fn_name"
   ]
  },
  {
   "cell_type": "markdown",
   "id": "cbd3b5c4-21f5-43ad-9ede-3c9da74e995f",
   "metadata": {},
   "source": [
    "## External Functions"
   ]
  },
  {
   "cell_type": "code",
   "execution_count": 90,
   "id": "61410a2a-0344-41ae-9c5b-9ee0902667fc",
   "metadata": {
    "tags": []
   },
   "outputs": [],
   "source": [
    "# this is the longer way (External Function)\n",
    "def cooking_func(dish: str):\n",
    "    # potentially include some rule-based pre-processing\n",
    "    if ' ' in dish:\n",
    "        dish = dish.split(' ')[0]\n",
    "    \n",
    "    # call the LLM\n",
    "    res = strict_json(f'Describe how to cook an {dish} in point form', '',\n",
    "            output_format = {'Details of how to cook in bullet form': 'Details'})\n",
    "\n",
    "    # potentially include some rule-based post-processing\n",
    "    res['Details of how to cook in bullet form'] = res['Details of how to cook in bullet form'].replace('\\n','\\n\\n')\n",
    "    \n",
    "    return res['Details of how to cook in bullet form']"
   ]
  },
  {
   "cell_type": "code",
   "execution_count": 91,
   "id": "d8b34813-d62a-4355-b4e9-212e20115043",
   "metadata": {
    "tags": []
   },
   "outputs": [],
   "source": [
    "cooking_fn_external = Function('Describe how to cook <dish: str> in point form', {'Details of how to cook in bullet form': 'Details'}, external_fn = cooking_func)"
   ]
  },
  {
   "cell_type": "code",
   "execution_count": 92,
   "id": "01726e6d-ce9f-4037-a5cd-54280ea518b9",
   "metadata": {
    "tags": []
   },
   "outputs": [
    {
     "name": "stdout",
     "output_type": "stream",
     "text": [
      "Description: Describe how to cook <dish: str> in point form\n",
      "Input: ['dish']\n",
      "Output: {'Details of how to cook in bullet form': 'Details'}\n",
      "\n"
     ]
    }
   ],
   "source": [
    "print(cooking_fn_external)"
   ]
  },
  {
   "cell_type": "code",
   "execution_count": 93,
   "id": "026214fb-7935-4660-9d0f-f1943af98736",
   "metadata": {
    "tags": []
   },
   "outputs": [
    {
     "data": {
      "text/plain": [
       "{'Details of how to cook in bullet form': '1. Crack eggs into a bowl\\\\n2. Whisk the eggs until well combined\\\\n3. Heat a non-stick pan over medium heat\\\\n4. Melt butter in the pan\\\\n5. Pour the whisked eggs into the pan\\\\n6. Let the eggs cook for a few minutes until the edges start to set\\\\n7. Add desired fillings such as cheese, vegetables, or ham\\\\n8. Use a spatula to fold one side of the omelette over the fillings\\\\n9. Cook for another minute or until the omelette is cooked to your liking\\\\n10. Slide the omelette onto a plate and serve hot'}"
      ]
     },
     "execution_count": 93,
     "metadata": {},
     "output_type": "execute_result"
    }
   ],
   "source": [
    "cooking_fn_external('Omelette')"
   ]
  },
  {
   "cell_type": "code",
   "execution_count": 94,
   "id": "b67cb37b-e55c-49a9-8152-a6c791957458",
   "metadata": {
    "tags": []
   },
   "outputs": [
    {
     "data": {
      "text/plain": [
       "{'Details of how to cook in bullet form': '1. Preheat a skillet or grill to medium heat\\\\n2. Place sausages on the skillet or grill\\\\n3. Cook for about 15-20 minutes, turning occasionally until browned and cooked through\\\\n4. Use a meat thermometer to ensure sausages reach an internal temperature of 160°F\\\\n5. Remove from heat and let rest for a few minutes before serving'}"
      ]
     },
     "execution_count": 94,
     "metadata": {},
     "output_type": "execute_result"
    }
   ],
   "source": [
    "cooking_fn_external('Sausages')"
   ]
  },
  {
   "cell_type": "code",
   "execution_count": 95,
   "id": "206b810e-d0e9-43ff-8ff2-c891282d27dc",
   "metadata": {
    "tags": []
   },
   "outputs": [
    {
     "data": {
      "text/plain": [
       "'cooking_func'"
      ]
     },
     "execution_count": 95,
     "metadata": {},
     "output_type": "execute_result"
    }
   ],
   "source": [
    "cooking_fn_external.fn_name"
   ]
  },
  {
   "cell_type": "markdown",
   "id": "2c986d0d-4f4a-4380-b8eb-edf1fec43796",
   "metadata": {},
   "source": [
    "## Equip Functions to your Agent"
   ]
  },
  {
   "cell_type": "code",
   "execution_count": 96,
   "id": "c68445a7-a8cc-477c-80e8-c515b758d25b",
   "metadata": {
    "tags": []
   },
   "outputs": [],
   "source": [
    "agent2 = Agent('Personal Assistant', 'Helps User find cooking recipes or schedules stuff. Current schedule: 10am - 1130am: TaskGen Tutorial', default_to_llm = False)"
   ]
  },
  {
   "cell_type": "code",
   "execution_count": 97,
   "id": "508590a7-8fc9-409d-b6dc-a0732a684af8",
   "metadata": {
    "tags": []
   },
   "outputs": [],
   "source": [
    "schedule_fn = Function('Schedules an <appointment> from <start_time> to <end_time>', \n",
    "                       {'Booked Timeslots': 'List of timeslots and event that are booked', \n",
    "                        'Completed Status': 'Successful if Timeslot is booked, otherwise Not Successful'})"
   ]
  },
  {
   "cell_type": "code",
   "execution_count": 98,
   "id": "2abad915-e230-4124-9130-cc19396d2dc2",
   "metadata": {
    "tags": []
   },
   "outputs": [
    {
     "name": "stdout",
     "output_type": "stream",
     "text": [
      "Agent Name: Personal Assistant\n",
      "Agent Description: Helps User find cooking recipes or schedules stuff. Current schedule: 10am - 1130am: TaskGen Tutorial\n",
      "Available Functions: ['end_task']\n",
      "\u001b[1m\u001b[32mTask: No task assigned\u001b[0m\n",
      "\u001b[1m\u001b[34mSubtasks Completed: None\u001b[0m\n",
      "Is Task Completed: False\n"
     ]
    }
   ],
   "source": [
    "agent2.status()"
   ]
  },
  {
   "cell_type": "code",
   "execution_count": 99,
   "id": "8fa10382-5b47-4bdd-8cef-f3ef94f49473",
   "metadata": {
    "tags": []
   },
   "outputs": [
    {
     "data": {
      "text/plain": [
       "<taskgen.agent.Agent at 0x1139fddd0>"
      ]
     },
     "execution_count": 99,
     "metadata": {},
     "output_type": "execute_result"
    }
   ],
   "source": [
    "# assign all your functions\n",
    "agent2.assign_functions([cooking_fn, schedule_fn])"
   ]
  },
  {
   "cell_type": "code",
   "execution_count": 100,
   "id": "69742f66-9fde-4ecc-ae05-8f4f1cd97477",
   "metadata": {
    "tags": []
   },
   "outputs": [
    {
     "name": "stdout",
     "output_type": "stream",
     "text": [
      "Agent Name: Personal Assistant\n",
      "Agent Description: Helps User find cooking recipes or schedules stuff. Current schedule: 10am - 1130am: TaskGen Tutorial\n",
      "Available Functions: ['end_task', 'describe_cooking_steps', 'schedule_appointment']\n",
      "\u001b[1m\u001b[32mTask: No task assigned\u001b[0m\n",
      "\u001b[1m\u001b[34mSubtasks Completed: None\u001b[0m\n",
      "Is Task Completed: False\n"
     ]
    }
   ],
   "source": [
    "agent2.status()"
   ]
  },
  {
   "cell_type": "code",
   "execution_count": 101,
   "id": "22cd2070-6414-4794-bfbb-21471bf86a82",
   "metadata": {
    "tags": []
   },
   "outputs": [
    {
     "name": "stdout",
     "output_type": "stream",
     "text": [
      "Name: end_task\n",
      "Description: Use only after task is completed\n",
      "Input: []\n",
      "Output: {}\n",
      "\n",
      "Name: describe_cooking_steps\n",
      "Description: Describe how to cook <dish: str> in point form\n",
      "Input: ['dish']\n",
      "Output: {'Details of how to cook in bullet form': 'Details'}\n",
      "\n",
      "Name: schedule_appointment\n",
      "Description: Schedules an <appointment> from <start_time> to <end_time>\n",
      "Input: ['appointment', 'start_time', 'end_time']\n",
      "Output: {'Booked Timeslots': 'List of timeslots and event that are booked', 'Completed Status': 'Successful if Timeslot is booked, otherwise Not Successful'}\n",
      "\n"
     ]
    }
   ],
   "source": [
    "agent2.print_functions()"
   ]
  },
  {
   "cell_type": "code",
   "execution_count": 102,
   "id": "dc306e07-5cc8-47da-a83a-0b1efdda22c9",
   "metadata": {
    "tags": []
   },
   "outputs": [
    {
     "name": "stdout",
     "output_type": "stream",
     "text": [
      "\u001b[1m\u001b[30mObservation: No progress has been made on the assigned task yet\u001b[0m\n",
      "\u001b[1m\u001b[32mThoughts: The task is to schedule a 1-hour appointment at 10pm. Since the current time is 10am, there is still time to complete this task. We can use the \"schedule_appointment\" function to schedule the appointment at 10pm.\u001b[0m\n",
      "\u001b[1m\u001b[34mSubtask identified: Schedule a 1-hour appointment at 10pm\u001b[0m\n",
      "Calling function schedule_appointment with parameters {'appointment': '1-hour appointment', 'start_time': '10pm', 'end_time': '11pm'}\n",
      "> {'Booked Timeslots': '10pm - 11pm: 1-hour appointment', 'Completed Status': 'Successful'}\n",
      "\n",
      "\u001b[1m\u001b[30mObservation: The task to schedule a 1-hour appointment at 10pm has been successfully completed.\u001b[0m\n",
      "\u001b[1m\u001b[32mThoughts: No remainder of the Assigned Task. It has been completed successfully.\u001b[0m\n",
      "\u001b[1m\u001b[34mSubtask identified: End Task\u001b[0m\n",
      "Task completed successfully!\n",
      "\n"
     ]
    },
    {
     "data": {
      "text/plain": [
       "[{'Booked Timeslots': '10pm - 11pm: 1-hour appointment',\n",
       "  'Completed Status': 'Successful'}]"
      ]
     },
     "execution_count": 102,
     "metadata": {},
     "output_type": "execute_result"
    }
   ],
   "source": [
    "agent2.reset()\n",
    "agent2.run('Schedule a 1-hour appointment at 10pm')"
   ]
  },
  {
   "cell_type": "code",
   "execution_count": 103,
   "id": "483001c5-8bc0-4f8b-be6c-6de00fd64059",
   "metadata": {
    "tags": []
   },
   "outputs": [
    {
     "name": "stdout",
     "output_type": "stream",
     "text": [
      "\u001b[1m\u001b[30mObservation: No progress has been made on the Assigned Task yet\u001b[0m\n",
      "\u001b[1m\u001b[32mThoughts: To teach how to cook an omelette, the next step could be to describe the cooking steps in point form\u001b[0m\n",
      "\u001b[1m\u001b[34mSubtask identified: Describe how to cook an omelette in point form\u001b[0m\n",
      "Calling function describe_cooking_steps with parameters {'dish': 'omelette'}\n",
      "> {'Details of how to cook in bullet form': '1. Crack eggs into a bowl\\\\n2. Beat the eggs until well mixed\\\\n3. Heat a non-stick pan on medium heat\\\\n4. Pour the beaten eggs into the pan\\\\n5. Let the eggs cook for a few minutes until the edges start to set\\\\n6. Add desired fillings such as cheese, vegetables, or ham\\\\n7. Fold the omelette in half\\\\n8. Cook for another minute or until the cheese melts\\\\n9. Slide the omelette onto a plate and serve hot'}\n",
      "\n",
      "\u001b[1m\u001b[30mObservation: The user has not provided any input or request\u001b[0m\n",
      "\u001b[1m\u001b[32mThoughts: No further action is needed as there is no input or request from the user\u001b[0m\n",
      "\u001b[1m\u001b[34mSubtask identified: End Task\u001b[0m\n",
      "Task completed successfully!\n",
      "\n"
     ]
    },
    {
     "data": {
      "text/plain": [
       "[{'Details of how to cook in bullet form': '1. Crack eggs into a bowl\\\\n2. Beat the eggs until well mixed\\\\n3. Heat a non-stick pan on medium heat\\\\n4. Pour the beaten eggs into the pan\\\\n5. Let the eggs cook for a few minutes until the edges start to set\\\\n6. Add desired fillings such as cheese, vegetables, or ham\\\\n7. Fold the omelette in half\\\\n8. Cook for another minute or until the cheese melts\\\\n9. Slide the omelette onto a plate and serve hot'}]"
      ]
     },
     "execution_count": 103,
     "metadata": {},
     "output_type": "execute_result"
    }
   ],
   "source": [
    "agent2.reset()\n",
    "agent2.run('Teach me how to cook an omelette')"
   ]
  },
  {
   "cell_type": "code",
   "execution_count": 104,
   "id": "b9615d7f-10ef-498f-b3a6-22cc2df6c037",
   "metadata": {
    "tags": []
   },
   "outputs": [
    {
     "name": "stdout",
     "output_type": "stream",
     "text": [
      "\u001b[1m\u001b[30mObservation: No progress has been made on the Assigned Task yet.\u001b[0m\n",
      "\u001b[1m\u001b[32mThoughts: To complete the Assigned Task, we need to add a 1-hour cooking class to cook an omelette at 2pm to the schedule and find the cooking recipe. We can start by scheduling the cooking class and then proceed to find the recipe.\u001b[0m\n",
      "\u001b[1m\u001b[34mSubtask identified: Schedule a 1-hour cooking class to cook an omelette at 2pm.\u001b[0m\n",
      "Calling function schedule_appointment with parameters {'appointment': 'cooking class to cook an omelette', 'start_time': '2pm', 'end_time': '3pm'}\n",
      "> {'Booked Timeslots': '2pm to 3pm: cooking class to cook an omelette', 'Completed Status': 'Successful'}\n",
      "\n",
      "\u001b[1m\u001b[30mObservation: A 1-hour cooking class to cook an omelette at 2pm has been successfully scheduled.\u001b[0m\n",
      "\u001b[1m\u001b[32mThoughts: The next step is to find the cooking recipe for the omelette.\u001b[0m\n",
      "\u001b[1m\u001b[34mSubtask identified: Find the cooking recipe for an omelette.\u001b[0m\n",
      "Calling function describe_cooking_steps with parameters {'dish': 'omelette'}\n",
      "> {'Details of how to cook in bullet form': '1. Crack eggs into a bowl\\\\n2. Beat the eggs until well mixed\\\\n3. Heat a non-stick pan on medium heat\\\\n4. Pour the egg mixture into the pan\\\\n5. Let it cook for a few minutes until the edges start to set\\\\n6. Use a spatula to lift the edges and let the uncooked egg flow to the bottom\\\\n7. Cook until the omelette is set but slightly runny in the middle\\\\n8. Fold the omelette in half and serve hot'}\n",
      "\n",
      "\u001b[1m\u001b[30mObservation: Two subtasks have been completed successfully for the assigned task: scheduling a 1-hour cooking class to cook an omelette at 2pm and finding the cooking recipe for an omelette.\u001b[0m\n",
      "\u001b[1m\u001b[32mThoughts: The remaining part of the assigned task is to add a 1-hour cooking class to the schedule at 2pm. This can be achieved by using the \"schedule_appointment\" function with the appropriate inputs.\u001b[0m\n",
      "\u001b[1m\u001b[34mSubtask identified: Add a 1-hour cooking class to the schedule at 2pm.\u001b[0m\n",
      "Calling function schedule_appointment with parameters {'appointment': 'cooking class to cook an omelette', 'start_time': '2pm', 'end_time': '3pm'}\n",
      "> {'Booked Timeslots': '2pm to 3pm - cooking class to cook an omelette', 'Completed Status': 'Successful'}\n",
      "\n",
      "\u001b[1m\u001b[30mObservation: The user has successfully scheduled a 1-hour cooking class to cook an omelette at 2pm and found the cooking recipe for an omelette.\u001b[0m\n",
      "\u001b[1m\u001b[32mThoughts: The user has completed all parts of the assigned task. It is time to end the task as it has been successfully completed.\u001b[0m\n",
      "\u001b[1m\u001b[34mSubtask identified: End Task\u001b[0m\n",
      "Task completed successfully!\n",
      "\n"
     ]
    },
    {
     "data": {
      "text/plain": [
       "[{'Booked Timeslots': '2pm to 3pm: cooking class to cook an omelette',\n",
       "  'Completed Status': 'Successful'},\n",
       " {'Details of how to cook in bullet form': '1. Crack eggs into a bowl\\\\n2. Beat the eggs until well mixed\\\\n3. Heat a non-stick pan on medium heat\\\\n4. Pour the egg mixture into the pan\\\\n5. Let it cook for a few minutes until the edges start to set\\\\n6. Use a spatula to lift the edges and let the uncooked egg flow to the bottom\\\\n7. Cook until the omelette is set but slightly runny in the middle\\\\n8. Fold the omelette in half and serve hot'},\n",
       " {'Booked Timeslots': '2pm to 3pm - cooking class to cook an omelette',\n",
       "  'Completed Status': 'Successful'}]"
      ]
     },
     "execution_count": 104,
     "metadata": {},
     "output_type": "execute_result"
    }
   ],
   "source": [
    "agent2.reset()\n",
    "agent2.run('''Add a 1 hour cooking class to cook an omelette at 2pm to my schedule. \n",
    "Also, find me the cooking recipe''')"
   ]
  },
  {
   "cell_type": "code",
   "execution_count": 105,
   "id": "d04adcd5-3fec-42ce-a293-0a40c329ebe8",
   "metadata": {
    "tags": []
   },
   "outputs": [
    {
     "name": "stdout",
     "output_type": "stream",
     "text": [
      "No, you do not have any appointments at 4pm-5pm today.\n"
     ]
    },
    {
     "data": {
      "text/plain": [
       "'No, you do not have any appointments at 4pm-5pm today.'"
      ]
     },
     "execution_count": 105,
     "metadata": {},
     "output_type": "execute_result"
    }
   ],
   "source": [
    "agent2.reply_user('Do I have any appointments at 4pm-5pm today?', stateful = False)"
   ]
  },
  {
   "cell_type": "markdown",
   "id": "1f30d76f-d7a0-4677-8dc5-ae75c0a70a3c",
   "metadata": {},
   "source": [
    "## Function Calling\n",
    "- If you want fine-grained control over what your function takes in, and what params you want for your function\n",
    "- Generally not needed"
   ]
  },
  {
   "cell_type": "code",
   "execution_count": 106,
   "id": "77e00a13-a89b-4119-9952-360b40ffdc76",
   "metadata": {
    "tags": []
   },
   "outputs": [
    {
     "name": "stdout",
     "output_type": "stream",
     "text": [
      "\u001b[1m\u001b[30mObservation: No subtasks completed yet for Assigned Task\u001b[0m\n",
      "\u001b[1m\u001b[32mThoughts: Need to schedule a badminton session at 2-3pm\u001b[0m\n"
     ]
    }
   ],
   "source": [
    "fn_name, fn_params = agent2.select_function('Schedule badminton session at 2-3pm')"
   ]
  },
  {
   "cell_type": "code",
   "execution_count": 107,
   "id": "e34ca50e-9f9d-4d8e-b39c-0aaa4d7d76b4",
   "metadata": {
    "tags": []
   },
   "outputs": [
    {
     "name": "stdout",
     "output_type": "stream",
     "text": [
      "Calling function schedule_appointment with parameters {'appointment': 'badminton session', 'start_time': '2pm', 'end_time': '3pm'}\n",
      "> {'Booked Timeslots': '2pm - 3pm: badminton session', 'Completed Status': 'Successful'}\n",
      "\n"
     ]
    },
    {
     "data": {
      "text/plain": [
       "{'Booked Timeslots': '2pm - 3pm: badminton session',\n",
       " 'Completed Status': 'Successful'}"
      ]
     },
     "execution_count": 107,
     "metadata": {},
     "output_type": "execute_result"
    }
   ],
   "source": [
    "agent2.use_function(fn_name, fn_params, subtask = 'Schedule badminton session at 2-3pm', stateful = False)"
   ]
  },
  {
   "cell_type": "markdown",
   "id": "c7a917a4-d014-4698-816b-19b88c4204be",
   "metadata": {},
   "source": [
    "# Shared Variables\n",
    "- Allows you to store information in external variables\n",
    "- Begins with s_ for Internal LLM functions\n",
    "- Helps to deal with lengthy text / multimodal inputs/outputs"
   ]
  },
  {
   "cell_type": "code",
   "execution_count": 187,
   "id": "ec56c666-2124-4def-acbe-bb7ee5734398",
   "metadata": {},
   "outputs": [],
   "source": [
    "agent3 = Agent('Personal Assistant', 'Helps to find cooking recipes and schedules stuff', default_to_llm = False,\n",
    "              shared_variables = {'s_Scheduled_Timeslots': ['10am - 1130am: TaskGen Tutorial']})"
   ]
  },
  {
   "cell_type": "code",
   "execution_count": 188,
   "id": "12c370b3-2656-4333-88a5-d6fc3195fe6e",
   "metadata": {
    "tags": []
   },
   "outputs": [],
   "source": [
    "# This schedules an appointment, taking into account the s_Booked_Timeslots\n",
    "schedule_fn_shared_variable = Function('Schedules an <appointment> from <start_time> to <end_time>, taking into consideration <s_Scheduled_Timeslots>.', \n",
    "                       {'s_Scheduled_Timeslots': 'Update the s_Scheduled_Timeslots in the format \"Time: Event\" for each event', \n",
    "                        'Completed Status': 'Successful if Timeslot is booked, otherwise Not Successful'})"
   ]
  },
  {
   "cell_type": "code",
   "execution_count": 189,
   "id": "c182d3ce-bb76-472c-b6d4-163176f2808e",
   "metadata": {
    "tags": []
   },
   "outputs": [
    {
     "data": {
      "text/plain": [
       "<taskgen.agent.Agent at 0x1109370d0>"
      ]
     },
     "execution_count": 189,
     "metadata": {},
     "output_type": "execute_result"
    }
   ],
   "source": [
    "# assign all your functions\n",
    "agent3.assign_functions([cooking_fn, schedule_fn_shared_variable])"
   ]
  },
  {
   "cell_type": "code",
   "execution_count": 190,
   "id": "624650cf-56d9-40fb-a9bf-b8c750119b39",
   "metadata": {
    "tags": []
   },
   "outputs": [
    {
     "name": "stdout",
     "output_type": "stream",
     "text": [
      "Agent Name: Personal Assistant\n",
      "Agent Description: Helps to find cooking recipes and schedules stuff\n",
      "Available Functions: ['end_task', 'describe_cooking_steps', 'schedule_appointment']\n",
      "Shared Variables: ['s_Scheduled_Timeslots']\n",
      "\u001b[1m\u001b[32mTask: No task assigned\u001b[0m\n",
      "\u001b[1m\u001b[34mSubtasks Completed: None\u001b[0m\n",
      "Is Task Completed: False\n"
     ]
    }
   ],
   "source": [
    "agent3.status()"
   ]
  },
  {
   "cell_type": "code",
   "execution_count": 191,
   "id": "f94a99e6-499c-4891-b278-02b7e5e0a1f2",
   "metadata": {
    "tags": []
   },
   "outputs": [
    {
     "name": "stdout",
     "output_type": "stream",
     "text": [
      "Name: end_task\n",
      "Description: Use only after task is completed\n",
      "Input: []\n",
      "Output: {}\n",
      "\n",
      "Name: describe_cooking_steps\n",
      "Description: Describe how to cook <dish: str> in point form\n",
      "Input: ['dish']\n",
      "Output: {'Details of how to cook in bullet form': 'Details'}\n",
      "\n",
      "Name: schedule_appointment\n",
      "Description: Schedules an <appointment> from <start_time> to <end_time>, taking into consideration s_Scheduled_Timeslots.\n",
      "Input: ['appointment', 'start_time', 'end_time']\n",
      "Output: {'s_Scheduled_Timeslots': 'Update the s_Scheduled_Timeslots in the format \"Time: Event\" for each event', 'Completed Status': 'Successful if Timeslot is booked, otherwise Not Successful'}\n",
      "\n"
     ]
    }
   ],
   "source": [
    "agent3.print_functions()"
   ]
  },
  {
   "cell_type": "code",
   "execution_count": 192,
   "id": "3dd580d4-7ff0-44b4-9015-ac01fe160e76",
   "metadata": {
    "tags": []
   },
   "outputs": [
    {
     "name": "stdout",
     "output_type": "stream",
     "text": [
      "\u001b[1m\u001b[30mObservation: No progress has been made on the assigned task\u001b[0m\n",
      "\u001b[1m\u001b[32mThoughts: I can use the \"schedule_appointment\" function to schedule the badminton session\u001b[0m\n",
      "\u001b[1m\u001b[34mSubtask identified: Schedule a 3 hour badminton session starting from 2pm\u001b[0m\n",
      "Calling function schedule_appointment with parameters {'appointment': 'badminton session', 'start_time': '2:00pm', 'end_time': '5:00pm'}\n",
      "> {'Completed Status': 'Successful'}\n",
      "\n",
      "\u001b[1m\u001b[30mObservation: The task is to schedule a 3 hour badminton session starting from 2pm. This task has been successfully completed.\u001b[0m\n",
      "\u001b[1m\u001b[32mThoughts: No remainder of the Assigned Task. The task has been completed successfully using the schedule_appointment function.\u001b[0m\n",
      "\u001b[1m\u001b[34mSubtask identified: End Task\u001b[0m\n",
      "Task completed successfully!\n",
      "\n"
     ]
    },
    {
     "data": {
      "text/plain": [
       "[{'Completed Status': 'Successful'}]"
      ]
     },
     "execution_count": 192,
     "metadata": {},
     "output_type": "execute_result"
    }
   ],
   "source": [
    "agent3.reset()\n",
    "agent3.run('Schedule a 3 hour badmintion session starting from 2pm')"
   ]
  },
  {
   "cell_type": "code",
   "execution_count": 193,
   "id": "fff7f458-338a-4622-adf1-5e15f9276714",
   "metadata": {
    "tags": []
   },
   "outputs": [
    {
     "data": {
      "text/plain": [
       "{'s_Scheduled_Timeslots': '10am - 1130am: TaskGen Tutorial, 2:00pm - 5:00pm: badminton session'}"
      ]
     },
     "execution_count": 193,
     "metadata": {},
     "output_type": "execute_result"
    }
   ],
   "source": [
    "agent3.shared_variables"
   ]
  },
  {
   "cell_type": "markdown",
   "id": "7735ce01-d236-4622-a076-540df586ab7d",
   "metadata": {},
   "source": [
    "## Perhaps it is better doing scheduling with rule-based functions"
   ]
  },
  {
   "cell_type": "code",
   "execution_count": 147,
   "id": "c328fd7e-a541-4fbe-9803-1f3effa47130",
   "metadata": {
    "tags": []
   },
   "outputs": [],
   "source": [
    "agent3 = Agent('Personal Assistant', 'Helps to find cooking recipes or schedules stuff', default_to_llm = False,\n",
    "              shared_variables = {'Scheduled Timeslots': ['10am - 1130am: TaskGen Tutorial']})"
   ]
  },
  {
   "cell_type": "code",
   "execution_count": 148,
   "id": "64c08aad-4233-449a-8f66-885625aea1ba",
   "metadata": {
    "tags": []
   },
   "outputs": [],
   "source": [
    "def schedule_with_time_and_appointment(shared_variables, appointment, start_time, end_time):\n",
    "    shared_variables['Scheduled Timeslots'].append(f'{start_time} - {end_time}: {appointment}')\n",
    "    \n",
    "    return 'Completed'"
   ]
  },
  {
   "cell_type": "code",
   "execution_count": 149,
   "id": "6564046d-67f5-47ab-b933-9ef4d3711e07",
   "metadata": {
    "tags": []
   },
   "outputs": [],
   "source": [
    "# This schedules an appointment, taking into account the s_Booked_Timeslots\n",
    "schedule_fn_2 = Function('Schedules an <appointment> from <start_time> to <end_time>', \n",
    "                       {'Completed Status': 'Completed if Timeslot is booked, otherwise Not Completed'},\n",
    "                        external_fn = schedule_with_time_and_appointment)"
   ]
  },
  {
   "cell_type": "code",
   "execution_count": 150,
   "id": "65b208f2-e30a-46f9-937e-e39ba070b12b",
   "metadata": {
    "tags": []
   },
   "outputs": [
    {
     "data": {
      "text/plain": [
       "<taskgen.agent.Agent at 0x113b16790>"
      ]
     },
     "execution_count": 150,
     "metadata": {},
     "output_type": "execute_result"
    }
   ],
   "source": [
    "# assign all your functions\n",
    "agent3.assign_functions([cooking_fn, schedule_fn_2])"
   ]
  },
  {
   "cell_type": "code",
   "execution_count": 151,
   "id": "dc59fbe2-b7b1-4bc5-b20c-a263a5126d19",
   "metadata": {
    "tags": []
   },
   "outputs": [
    {
     "name": "stdout",
     "output_type": "stream",
     "text": [
      "Agent Name: Personal Assistant\n",
      "Agent Description: Helps to find cooking recipes or schedules stuff\n",
      "Available Functions: ['end_task', 'describe_cooking_steps', 'schedule_with_time_and_appointment']\n",
      "Shared Variables: ['Scheduled Timeslots']\n",
      "\u001b[1m\u001b[32mTask: No task assigned\u001b[0m\n",
      "\u001b[1m\u001b[34mSubtasks Completed: None\u001b[0m\n",
      "Is Task Completed: False\n"
     ]
    }
   ],
   "source": [
    "agent3.status()"
   ]
  },
  {
   "cell_type": "code",
   "execution_count": 152,
   "id": "254a2ca3-48db-4cb3-b1ad-bcfcdad76450",
   "metadata": {
    "tags": []
   },
   "outputs": [
    {
     "name": "stdout",
     "output_type": "stream",
     "text": [
      "Name: end_task\n",
      "Description: Use only after task is completed\n",
      "Input: []\n",
      "Output: {}\n",
      "\n",
      "Name: describe_cooking_steps\n",
      "Description: Describe how to cook <dish: str> in point form\n",
      "Input: ['dish']\n",
      "Output: {'Details of how to cook in bullet form': 'Details'}\n",
      "\n",
      "Name: schedule_with_time_and_appointment\n",
      "Description: Schedules an <appointment> from <start_time> to <end_time>\n",
      "Input: ['appointment', 'start_time', 'end_time']\n",
      "Output: {'Completed Status': 'Completed if Timeslot is booked, otherwise Not Completed'}\n",
      "\n"
     ]
    }
   ],
   "source": [
    "agent3.print_functions()"
   ]
  },
  {
   "cell_type": "code",
   "execution_count": 153,
   "id": "9f2637ca-2e9d-48f8-9bfc-4fc1f65107b7",
   "metadata": {
    "tags": []
   },
   "outputs": [
    {
     "name": "stdout",
     "output_type": "stream",
     "text": [
      "\u001b[1m\u001b[30mObservation: No input provided from the user\u001b[0m\n",
      "\u001b[1m\u001b[32mThoughts: No specific task to be completed based on the input provided\u001b[0m\n",
      "\u001b[1m\u001b[34mSubtask identified: End Task\u001b[0m\n",
      "Task completed successfully!\n",
      "\n"
     ]
    },
    {
     "data": {
      "text/plain": [
       "[]"
      ]
     },
     "execution_count": 153,
     "metadata": {},
     "output_type": "execute_result"
    }
   ],
   "source": [
    "agent3.reset()\n",
    "agent3.run('Schedule a 3 hour badmintion session starting from 2pm')"
   ]
  },
  {
   "cell_type": "code",
   "execution_count": 154,
   "id": "e56d092f-882e-4b1a-948f-d7c3b631e081",
   "metadata": {
    "tags": []
   },
   "outputs": [
    {
     "data": {
      "text/plain": [
       "{'Scheduled Timeslots': ['10am - 1130am: TaskGen Tutorial']}"
      ]
     },
     "execution_count": 154,
     "metadata": {},
     "output_type": "execute_result"
    }
   ],
   "source": [
    "agent3.shared_variables"
   ]
  },
  {
   "cell_type": "markdown",
   "id": "bac10410-5aba-4f93-9e3b-51a58a320597",
   "metadata": {},
   "source": [
    "# Agent with Global Context\n",
    "- Makes agent hallucinate less as giving it as Global Context for each state and doing step by step generation helps a lot with updating existing start state and starting generation from there\n",
    "- Shifting the Start State closer and closer to End state via Global Context is a very helpful approach for Agentic Generation"
   ]
  },
  {
   "cell_type": "code",
   "execution_count": 171,
   "id": "63235611-849c-4c72-b0f9-bc2ffdd10d26",
   "metadata": {},
   "outputs": [],
   "source": [
    "agent4 = Agent('Personal Assistant', '''Helps to find cooking recipes or schedules stuff. \n",
    "You are not able to change timeslots already in Booked Timeslots. Shift new appointment timings to avoid clashes''', \n",
    "               default_to_llm = False,\n",
    "              shared_variables = {'Scheduled Timeslots': ['10am - 1130am: TaskGen Tutorial']})"
   ]
  },
  {
   "cell_type": "code",
   "execution_count": 172,
   "id": "94a762e2-2083-4af9-bdbc-6bc169490cb8",
   "metadata": {},
   "outputs": [],
   "source": [
    "def get_global_context(agent):\n",
    "    ''' Outputs additional information to the agent '''\n",
    "    \n",
    "    # process additional context based on shared variables \n",
    "    # (this is what is called persistent variables - variables that will be updated each step)\n",
    "    global_context = f'''Booked Timeslots: ```{agent.shared_variables[\"Scheduled Timeslots\"]}```'''\n",
    "    \n",
    "    return global_context\n",
    "\n",
    "# assign this to agent's additional context\n",
    "agent4.get_global_context = get_global_context"
   ]
  },
  {
   "cell_type": "code",
   "execution_count": 173,
   "id": "2930a18e-c08a-4d6a-a699-5667568b0903",
   "metadata": {
    "tags": []
   },
   "outputs": [],
   "source": [
    "# showcase of TaskGen's v2.1.1 function - just use any Python function for Function\n",
    "def schedule_with_time_and_appointment(shared_variables, appointment: str, start_time: str, end_time: str) -> str:\n",
    "    ''' Schedules an appointment from start_time to end_time '''\n",
    "    # if there is no conflict with existing appointments, then update calendar\n",
    "    # Can potentially add rule-based checker\n",
    "    shared_variables['Scheduled Timeslots'].append(f'{start_time} - {end_time}: {appointment}')\n",
    "    return f'Successfully scheduled {appointment} from {start_time} to {end_time}'"
   ]
  },
  {
   "cell_type": "code",
   "execution_count": 174,
   "id": "245d6a40-5212-4780-b152-061d6b222c8a",
   "metadata": {
    "tags": []
   },
   "outputs": [
    {
     "data": {
      "text/plain": [
       "<taskgen.agent.Agent at 0x1139e3710>"
      ]
     },
     "execution_count": 174,
     "metadata": {},
     "output_type": "execute_result"
    }
   ],
   "source": [
    "agent4.assign_functions([cooking_fn, schedule_with_time_and_appointment])"
   ]
  },
  {
   "cell_type": "code",
   "execution_count": 175,
   "id": "5bf532ec-3108-49dc-9275-07c401b4b9db",
   "metadata": {
    "tags": []
   },
   "outputs": [
    {
     "name": "stdout",
     "output_type": "stream",
     "text": [
      "Agent Name: Personal Assistant\n",
      "Agent Description: Helps to find cooking recipes or schedules stuff. \n",
      "You are not able to change timeslots already in Booked Timeslots. Shift new appointment timings to avoid clashes\n",
      "Available Functions: ['end_task', 'describe_cooking_steps', 'schedule_with_time_and_appointment']\n",
      "Shared Variables: ['Scheduled Timeslots']\n",
      "\u001b[1m\u001b[32mTask: No task assigned\u001b[0m\n",
      "\u001b[1m\u001b[34mSubtasks Completed: None\u001b[0m\n",
      "Is Task Completed: False\n"
     ]
    }
   ],
   "source": [
    "agent4.status()"
   ]
  },
  {
   "cell_type": "code",
   "execution_count": 176,
   "id": "267c8ef3-7680-490c-8337-d1e6587ee948",
   "metadata": {
    "tags": []
   },
   "outputs": [
    {
     "name": "stdout",
     "output_type": "stream",
     "text": [
      "Name: end_task\n",
      "Description: Use only after task is completed\n",
      "Input: []\n",
      "Output: {}\n",
      "\n",
      "Name: describe_cooking_steps\n",
      "Description: Describe how to cook <dish: str> in point form\n",
      "Input: ['dish']\n",
      "Output: {'Details of how to cook in bullet form': 'Details'}\n",
      "\n",
      "Name: schedule_with_time_and_appointment\n",
      "Description:  Schedules an <appointment: str> from <start_time: str> to <end_time: str> \n",
      "Input: ['appointment', 'start_time', 'end_time']\n",
      "Output: {'output_1': 'str'}\n",
      "\n"
     ]
    }
   ],
   "source": [
    "agent4.print_functions()"
   ]
  },
  {
   "cell_type": "code",
   "execution_count": 177,
   "id": "2b061fbf-c924-4d04-9d5c-52401df347bc",
   "metadata": {
    "tags": []
   },
   "outputs": [
    {
     "name": "stdout",
     "output_type": "stream",
     "text": [
      "\u001b[1m\u001b[30mObservation: No observations recorded\u001b[0m\n",
      "\u001b[1m\u001b[32mThoughts: Identify the next step to be completed for the assigned task\u001b[0m\n",
      "\u001b[1m\u001b[34mSubtask identified: Schedule a 3 hour badminton session from 10am\u001b[0m\n",
      "Calling function schedule_with_time_and_appointment with parameters {'appointment': 'Badminton session', 'start_time': '1130am', 'end_time': '230pm'}\n",
      "> {'output_1': 'Successfully scheduled Badminton session from 1130am to 230pm'}\n",
      "\n"
     ]
    },
    {
     "data": {
      "text/plain": [
       "[{'output_1': 'Successfully scheduled Badminton session from 1130am to 230pm'}]"
      ]
     },
     "execution_count": 177,
     "metadata": {},
     "output_type": "execute_result"
    }
   ],
   "source": [
    "agent4.reset()\n",
    "agent4.run('''Schedule a 3 hour badmintion session from 10am''', num_subtasks = 1)"
   ]
  },
  {
   "cell_type": "code",
   "execution_count": 178,
   "id": "24598bf8-45ca-4bcf-8335-f096401b084d",
   "metadata": {
    "tags": []
   },
   "outputs": [
    {
     "name": "stdout",
     "output_type": "stream",
     "text": [
      "Agent Name: Personal Assistant\n",
      "Agent Description: Helps to find cooking recipes or schedules stuff. \n",
      "You are not able to change timeslots already in Booked Timeslots. Shift new appointment timings to avoid clashes\n",
      "Available Functions: ['end_task', 'describe_cooking_steps', 'schedule_with_time_and_appointment']\n",
      "Shared Variables: ['Scheduled Timeslots']\n",
      "\u001b[1m\u001b[32mTask: Schedule a 3 hour badmintion session from 10am\u001b[0m\n",
      "\u001b[1m\u001b[30mSubtasks Completed:\u001b[0m\n",
      "\u001b[1m\u001b[34mSubtask: Schedule a 3 hour badminton session from 10am\u001b[0m\n",
      "{'output_1': 'Successfully scheduled Badminton session from 1130am to 230pm'}\n",
      "\n",
      "Is Task Completed: False\n"
     ]
    }
   ],
   "source": [
    "agent4.status()"
   ]
  },
  {
   "cell_type": "code",
   "execution_count": 179,
   "id": "b9e2439a-902d-460f-88e2-c56b61978cf5",
   "metadata": {
    "tags": []
   },
   "outputs": [
    {
     "data": {
      "text/plain": [
       "{'Scheduled Timeslots': ['10am - 1130am: TaskGen Tutorial',\n",
       "  '1130am - 230pm: Badminton session']}"
      ]
     },
     "execution_count": 179,
     "metadata": {},
     "output_type": "execute_result"
    }
   ],
   "source": [
    "agent4.shared_variables"
   ]
  },
  {
   "cell_type": "code",
   "execution_count": 180,
   "id": "fa2eeade-4c9e-45d7-9b3b-ff7be0168e73",
   "metadata": {
    "tags": []
   },
   "outputs": [
    {
     "name": "stdout",
     "output_type": "stream",
     "text": [
      "\u001b[1m\u001b[30mObservation: No subtasks completed yet for the assigned task\u001b[0m\n",
      "\u001b[1m\u001b[32mThoughts: Need to schedule a 3-hour board games session starting from 2pm without clashing with the existing booked timeslots\u001b[0m\n",
      "\u001b[1m\u001b[34mSubtask identified: Schedule a 3-hour board games session starting from 2pm\u001b[0m\n",
      "Calling function schedule_with_time_and_appointment with parameters {'appointment': 'board games session', 'start_time': '2pm', 'end_time': '5pm'}\n",
      "> {'output_1': 'Successfully scheduled board games session from 2pm to 5pm'}\n",
      "\n"
     ]
    },
    {
     "data": {
      "text/plain": [
       "[{'output_1': 'Successfully scheduled board games session from 2pm to 5pm'}]"
      ]
     },
     "execution_count": 180,
     "metadata": {},
     "output_type": "execute_result"
    }
   ],
   "source": [
    "agent4.reset()\n",
    "agent4.run('''Schedule a 3 hour board games session from 2pm''', num_subtasks = 1)"
   ]
  },
  {
   "cell_type": "code",
   "execution_count": 181,
   "id": "191ed053-960d-41f7-8418-0e1879bac458",
   "metadata": {
    "tags": []
   },
   "outputs": [
    {
     "name": "stdout",
     "output_type": "stream",
     "text": [
      "Agent Name: Personal Assistant\n",
      "Agent Description: Helps to find cooking recipes or schedules stuff. \n",
      "You are not able to change timeslots already in Booked Timeslots. Shift new appointment timings to avoid clashes\n",
      "Available Functions: ['end_task', 'describe_cooking_steps', 'schedule_with_time_and_appointment']\n",
      "Shared Variables: ['Scheduled Timeslots']\n",
      "\u001b[1m\u001b[32mTask: Schedule a 3 hour board games session from 2pm\u001b[0m\n",
      "\u001b[1m\u001b[30mSubtasks Completed:\u001b[0m\n",
      "\u001b[1m\u001b[34mSubtask: Schedule a 3-hour board games session starting from 2pm\u001b[0m\n",
      "{'output_1': 'Successfully scheduled board games session from 2pm to 5pm'}\n",
      "\n",
      "Is Task Completed: False\n"
     ]
    }
   ],
   "source": [
    "agent4.status()"
   ]
  },
  {
   "cell_type": "code",
   "execution_count": 182,
   "id": "b66fe6d3-c72e-42c6-b8d6-b213b8fca308",
   "metadata": {
    "tags": []
   },
   "outputs": [
    {
     "data": {
      "text/plain": [
       "{'Scheduled Timeslots': ['10am - 1130am: TaskGen Tutorial',\n",
       "  '1130am - 230pm: Badminton session',\n",
       "  '2pm - 5pm: board games session']}"
      ]
     },
     "execution_count": 182,
     "metadata": {},
     "output_type": "execute_result"
    }
   ],
   "source": [
    "agent4.shared_variables"
   ]
  },
  {
   "cell_type": "code",
   "execution_count": 183,
   "id": "fde8633d-806a-4fbf-8ff3-205690ce30c4",
   "metadata": {
    "tags": []
   },
   "outputs": [
    {
     "name": "stdout",
     "output_type": "stream",
     "text": [
      "\u001b[1m\u001b[30mObservation: No subtasks completed yet\u001b[0m\n",
      "\u001b[1m\u001b[32mThoughts: The user requested instructions for making a pizza and booking a 2-hour slot in the evening to cook it. We can start by providing the cooking instructions for making a pizza.\u001b[0m\n",
      "\u001b[1m\u001b[34mSubtask identified: Describe how to cook a pizza in point form\u001b[0m\n",
      "Calling function describe_cooking_steps with parameters {'dish': 'pizza'}\n",
      "> {'Details of how to cook in bullet form': '1. Preheat the oven to the specified temperature. 2. Roll out the pizza dough on a baking sheet. 3. Spread the tomato sauce evenly on the dough. 4. Add your desired toppings such as cheese, vegetables, and meats. 5. Bake the pizza in the oven until the crust is golden and the cheese is melted. 6. Remove from the oven, slice, and serve hot.'}\n",
      "\n",
      "\u001b[1m\u001b[30mObservation: The user requested instructions for making a pizza and to book a 2-hour slot in the evening to cook it. Cooking instructions for pizza have been provided.\u001b[0m\n",
      "\u001b[1m\u001b[32mThoughts: The remaining task is to book a 2-hour slot in the evening to cook the pizza after 6pm. We need to use the \"schedule_with_time_and_appointment\" function to schedule this cooking slot.\u001b[0m\n",
      "\u001b[1m\u001b[34mSubtask identified: Schedule a 2-hour slot in the evening after 6pm for cooking the pizza.\u001b[0m\n",
      "Calling function schedule_with_time_and_appointment with parameters {'appointment': 'Cooking Pizza', 'start_time': '6pm', 'end_time': '8pm'}\n",
      "> {'output_1': 'Successfully scheduled Cooking Pizza from 6pm to 8pm'}\n",
      "\n",
      "\u001b[1m\u001b[30mObservation: The cooking instructions for making a pizza have been provided in point form. A 2-hour slot in the evening after 6pm has been successfully scheduled for cooking the pizza.\u001b[0m\n",
      "\u001b[1m\u001b[32mThoughts: The remaining part of the Assigned Task is to end the task as it has been completed successfully.\u001b[0m\n",
      "\u001b[1m\u001b[34mSubtask identified: End Task\u001b[0m\n",
      "Task completed successfully!\n",
      "\n"
     ]
    },
    {
     "data": {
      "text/plain": [
       "[{'Details of how to cook in bullet form': '1. Preheat the oven to the specified temperature. 2. Roll out the pizza dough on a baking sheet. 3. Spread the tomato sauce evenly on the dough. 4. Add your desired toppings such as cheese, vegetables, and meats. 5. Bake the pizza in the oven until the crust is golden and the cheese is melted. 6. Remove from the oven, slice, and serve hot.'},\n",
       " {'output_1': 'Successfully scheduled Cooking Pizza from 6pm to 8pm'}]"
      ]
     },
     "execution_count": 183,
     "metadata": {},
     "output_type": "execute_result"
    }
   ],
   "source": [
    "agent4.reset()\n",
    "agent4.run('Give me instructions for making a pizza, then book a 2 hour slot in evening to cook it. I normally eat after 6pm.')"
   ]
  },
  {
   "cell_type": "code",
   "execution_count": 194,
   "id": "af1e5591-0756-4f08-a88f-010978113860",
   "metadata": {
    "tags": []
   },
   "outputs": [
    {
     "name": "stdout",
     "output_type": "stream",
     "text": [
      "\u001b[1m\u001b[30mObservation: No progress has been made on the Assigned Task yet\u001b[0m\n",
      "\u001b[1m\u001b[32mThoughts: To schedule 3 hours of play time, I can use the \"schedule_with_time_and_appointment\" function to find a suitable time slot without clashes\u001b[0m\n",
      "\u001b[1m\u001b[34mSubtask identified: Schedule 3 hours of play time without overlapping with the existing booked timeslots\u001b[0m\n",
      "Calling function schedule_with_time_and_appointment with parameters {'appointment': 'Play time', 'start_time': '8pm', 'end_time': '11pm'}\n",
      "> {'output_1': 'Successfully scheduled Play time from 8pm to 11pm'}\n",
      "\n"
     ]
    },
    {
     "data": {
      "text/plain": [
       "[{'output_1': 'Successfully scheduled Play time from 8pm to 11pm'}]"
      ]
     },
     "execution_count": 194,
     "metadata": {},
     "output_type": "execute_result"
    }
   ],
   "source": [
    "agent4.reset()\n",
    "agent4.run('Schedule me 3 hours of play time', num_subtasks = 1)"
   ]
  },
  {
   "cell_type": "code",
   "execution_count": 195,
   "id": "66db87db-5e72-477c-9328-482aefd6c820",
   "metadata": {
    "tags": []
   },
   "outputs": [
    {
     "name": "stdout",
     "output_type": "stream",
     "text": [
      "Agent Name: Personal Assistant\n",
      "Agent Description: Helps to find cooking recipes or schedules stuff. \n",
      "You are not able to change timeslots already in Booked Timeslots. Shift new appointment timings to avoid clashes\n",
      "Available Functions: ['end_task', 'describe_cooking_steps', 'schedule_with_time_and_appointment']\n",
      "Shared Variables: ['Scheduled Timeslots']\n",
      "\u001b[1m\u001b[32mTask: Schedule me 3 hours of play time\u001b[0m\n",
      "\u001b[1m\u001b[30mSubtasks Completed:\u001b[0m\n",
      "\u001b[1m\u001b[34mSubtask: Schedule 3 hours of play time without overlapping with the existing booked timeslots\u001b[0m\n",
      "{'output_1': 'Successfully scheduled Play time from 8pm to 11pm'}\n",
      "\n",
      "Is Task Completed: False\n"
     ]
    }
   ],
   "source": [
    "agent4.status()"
   ]
  },
  {
   "cell_type": "code",
   "execution_count": 196,
   "id": "0421dcbc-3b9c-4a69-95a0-3b807f3028bb",
   "metadata": {
    "tags": []
   },
   "outputs": [
    {
     "data": {
      "text/plain": [
       "{'Scheduled Timeslots': ['10am - 1130am: TaskGen Tutorial',\n",
       "  '1130am - 230pm: Badminton session',\n",
       "  '2pm - 5pm: board games session',\n",
       "  '6pm - 8pm: Cooking Pizza',\n",
       "  '8pm - 11pm: Play time']}"
      ]
     },
     "execution_count": 196,
     "metadata": {},
     "output_type": "execute_result"
    }
   ],
   "source": [
    "agent4.shared_variables"
   ]
  },
  {
   "cell_type": "code",
   "execution_count": null,
   "id": "b7903560-a1c9-4e17-9f45-1548806180e4",
   "metadata": {},
   "outputs": [],
   "source": []
  }
 ],
 "metadata": {
  "kernelspec": {
   "display_name": "Python 3 (ipykernel)",
   "language": "python",
   "name": "python3"
  },
  "language_info": {
   "codemirror_mode": {
    "name": "ipython",
    "version": 3
   },
   "file_extension": ".py",
   "mimetype": "text/x-python",
   "name": "python",
   "nbconvert_exporter": "python",
   "pygments_lexer": "ipython3",
   "version": "3.11.3"
  }
 },
 "nbformat": 4,
 "nbformat_minor": 5
}
