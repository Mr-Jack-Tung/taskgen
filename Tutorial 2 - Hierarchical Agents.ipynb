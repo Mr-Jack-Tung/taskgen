{
 "cells": [
  {
   "cell_type": "markdown",
   "id": "2fa1e388-b8f4-4fa3-be5a-ba7c6caae038",
   "metadata": {
    "tags": []
   },
   "source": [
    "# Tutorial 2 - Hierarchical Agents\n",
    "\n",
    "## Functionalities:\n",
    "- An agent (referred as meta agent) can also assign other agents (referred as inner agents) as the function call, thereby creating a hierarchical structure\n",
    "- Whenever the inner agent is called, we will run the full inner agent's process until termination\n",
    "- Maximum number of steps for each agent (meta agent or inner agent) can be defined in `max_subtasks` (default: 5) variable when initialising agent\n",
    "\n",
    "## Additional Details:\n",
    "- The inner agent will take in meta agent's instruction as input\n",
    "- In addition, the inner agent will also have access to meta agent's task and subtasks completed for global context\n",
    "- Inner agent's output will directly go into meta agent's subtasks completed dictionary, enabling it to directly update global context\n",
    "\n",
    "## Design Philosophy:\n",
    "- Bottom layers can get context of the top layers for more context-specific generation\n",
    "- Top layers choose bottom layers in a hierarchical fashion so as to limit the number of choices at each level for better performance\n",
    "- `subtasks_completed` serves as the global context for the meta agents and the inner agents, and can be summarised as needed, e.g. when performing a new task to filter out irrelevant information "
   ]
  },
  {
   "cell_type": "markdown",
   "id": "a3c27cfb-0612-45a1-8cec-fecd59bcd7d2",
   "metadata": {},
   "source": [
    "# Install TaskGen"
   ]
  },
  {
   "cell_type": "code",
   "execution_count": 1,
   "id": "c4e7f7e0-3656-41a0-afa2-b91f5640ab04",
   "metadata": {},
   "outputs": [],
   "source": [
    "# !pip install taskgen-ai"
   ]
  },
  {
   "cell_type": "code",
   "execution_count": 2,
   "id": "076adf5e-beb1-4b19-9078-34ab1b7d9afe",
   "metadata": {
    "tags": []
   },
   "outputs": [],
   "source": [
    "# Set up API key and do the necessary imports\n",
    "import os\n",
    "from taskgen import *\n",
    "\n",
    "os.environ['OPENAI_API_KEY'] = '<YOUR API KEY HERE>'"
   ]
  },
  {
   "cell_type": "markdown",
   "id": "d485cc60-ad94-49ad-8a2d-204368a7065d",
   "metadata": {},
   "source": [
    "# Define Agents and Meta Agents\n",
    "- You can also create a Meta Agent that uses other Agents (referred to as Inner Agents) as functions\n",
    "- Create your Meta agent using `Agent()` (Note: No different from usual process of creating Agents - your Meta Agent is also an Agent)\n",
    "- Set up an Inner Agent list and assign it to your Meta agent using `assign_agents(agent_list)`\n",
    "\n",
    "## Example Meta Agent Setup\n",
    "```python\n",
    "# Define your meta-agent\n",
    "my_agent = Agent('Menu Creator', \n",
    "                 'Creates a menu for a restaurant. Menu item includes Name, Description, Ingredients, Pricing.')\n",
    "\n",
    "# Define your agent list. Note you can just assign functions to the agent in place using .assign_functions(function_list)\n",
    "agent_list = [\n",
    "    Agent('Chef', 'Takes in dish names and generates ingredients for each of them. Does not generate prices.'),\n",
    "    Agent('Boss', 'Does final quality check on menu items'),\n",
    "    Agent('Creative Writer', 'Takes in a cuisine type and generates interesting dish names and descriptions.', max_subtasks = 2),\n",
    "    Agent('Economist', 'Takes in dish names and comes up with pricing for each of them').assign_functions([fp])\n",
    "    ]\n",
    "\n",
    "my_agent.assign_agents(agent_list)\n",
    "```\n",
    "\n",
    "## Run the Meta Agent\n",
    "- Let us run the agent and see the interactions between the Meta Agent and Inner Agents to solve the task!\n",
    "```python\n",
    "output = my_agent.run('Generate 5 menu items with name, description, ingredients and price based on Italian food choices. Ensure all parts of menu are generated.')\n",
    "```"
   ]
  },
  {
   "cell_type": "code",
   "execution_count": 3,
   "id": "1f2304be-b9fa-4292-b20f-2ac6c6909015",
   "metadata": {
    "tags": []
   },
   "outputs": [],
   "source": [
    "def random_number_from_string(input_string):\n",
    "    ''' Returns a random number between 1 and 10 when given an input string '''\n",
    "    import hashlib\n",
    "    import random\n",
    "    # Hash the input string\n",
    "    hashed_string = hashlib.sha256(input_string.encode()).hexdigest()\n",
    "    \n",
    "    # Convert the hashed string to an integer\n",
    "    hashed_integer = int(hashed_string, 16)\n",
    "    \n",
    "    # Seed the random number generator with the hashed integer\n",
    "    random.seed(hashed_integer)\n",
    "    \n",
    "    # Generate a random number between 1 and 10\n",
    "    return random.randint(1, 10)"
   ]
  },
  {
   "cell_type": "code",
   "execution_count": 4,
   "id": "7222e82b-e030-4494-894d-41a61370c747",
   "metadata": {
    "tags": []
   },
   "outputs": [],
   "source": [
    "# assign a dish pricing function for economist\n",
    "# Note: Try to make the output informative that is understandable by the Agent - use free text or json to explain the output so that someone can understand without the input\n",
    "def dish_price(list_of_dish_names: list) -> dict:\n",
    "    ''' Takes in list_of_dish_names and outputs price '''\n",
    "    if not isinstance(list_of_dish_names, list):\n",
    "        list_of_food_items = [list_of_dish_names]\n",
    "    output = {}\n",
    "    for each in list_of_dish_names:\n",
    "        output[each] = '$'+str(random_number_from_string(each))\n",
    "    return output\n",
    "    \n",
    "fp = Function(fn_description = \"Takes in <list_of_dish_names: list> and outputs price\", \n",
    "              output_format = {\"Price\": \"Dish name as key and price as value\"}, \n",
    "              examples = {\"list_of_dish_names\": [\"Pasta\", \"Pizza\"], \"Price\": [{'Pasta': '$5'}, {'Pizza':'$2'}]},\n",
    "              external_fn = dish_price)"
   ]
  },
  {
   "cell_type": "code",
   "execution_count": 5,
   "id": "fc770857-5ca0-43a1-a72f-5df7a97f7c02",
   "metadata": {
    "tags": []
   },
   "outputs": [],
   "source": [
    "# Define your meta-agent\n",
    "my_agent = Agent('Menu Creator', \n",
    "                 'Creates a menu for a restaurant. Menu item includes Name, Description, Ingredients, Pricing.')"
   ]
  },
  {
   "cell_type": "code",
   "execution_count": 6,
   "id": "7302c9ec-6e27-40c0-8a3c-3cd350964027",
   "metadata": {
    "jp-MarkdownHeadingCollapsed": true,
    "tags": []
   },
   "outputs": [],
   "source": [
    "# Define your agent list. Note you can just assign functions to the agent in place using .assign_functions(function_list)\n",
    "agent_list = [\n",
    "    Agent('Chef', 'Takes in dish names and generates ingredients for each of them. Does not generate prices.'),\n",
    "    Agent('Boss', 'Does final quality check on menu items'),\n",
    "    Agent('Creative Writer', 'Takes in a cuisine type and generates interesting dish names and descriptions. Does not generate prices or ingredients.', max_subtasks = 1),\n",
    "    Agent('Economist', 'Takes in dish names and comes up with pricing for each of them').assign_functions([fp])\n",
    "    ]"
   ]
  },
  {
   "cell_type": "code",
   "execution_count": 7,
   "id": "d4e9c84e-0ffa-4450-9522-6e21d86bad29",
   "metadata": {
    "tags": []
   },
   "outputs": [
    {
     "data": {
      "text/plain": [
       "<taskgen.agent.Agent at 0x107daff90>"
      ]
     },
     "execution_count": 7,
     "metadata": {},
     "output_type": "execute_result"
    }
   ],
   "source": [
    "my_agent.assign_agents(agent_list)"
   ]
  },
  {
   "cell_type": "markdown",
   "id": "b3a63cf7-0c50-4c6d-993a-8cee1de738d9",
   "metadata": {},
   "source": [
    "# Approach 1: Run a generic task with the Meta-Agent\n",
    "- Let us run a general task to create 5 menu items for an Italian restaurant\n",
    "- You can also specify how Agents interact with one another in the task, otherwise the Meta-Agent will infer what should be done"
   ]
  },
  {
   "cell_type": "code",
   "execution_count": 8,
   "id": "4aabd0c2-6470-43e1-b476-d77e2c85c0bb",
   "metadata": {
    "tags": []
   },
   "outputs": [
    {
     "name": "stdout",
     "output_type": "stream",
     "text": [
      "Subtask identified: Generate interesting dish names and descriptions for Italian food choices using the Creative Writer function.\n",
      "Calling function Creative Writer with parameters {'instruction': 'Generate interesting dish names and descriptions for Italian food choices using the Creative Writer function.'}\n",
      "\n",
      "### Start of Inner Agent: Creative Writer ###\n",
      "Subtask identified: Generate interesting dish names and descriptions for Italian food choices\n",
      "Getting LLM to perform the following task: Generate interesting dish names and descriptions for Italian food choices\n",
      "> {'MenuItems': [{'name': 'Ravioli Romantica', 'description': 'Delicate ravioli filled with creamy ricotta and spinach, topped with a savory marinara sauce.', 'price': '$15.99'}, {'name': 'Pollo Parmigiano', 'description': 'Tender chicken breast breaded and fried to perfection, smothered in melted mozzarella and tangy marinara.', 'price': '$17.99'}, {'name': 'Gnocchi al Funghi', 'description': 'Homemade potato gnocchi tossed in a rich mushroom cream sauce, garnished with fresh parsley.', 'price': '$14.99'}, {'name': 'Tiramisu Tornado', 'description': 'Layers of espresso-soaked ladyfingers and mascarpone cream, dusted with cocoa powder for a sweet finish.', 'price': '$8.99'}, {'name': 'Linguine Frutti di Mare', 'description': \"A seafood lover's dream with linguine pasta, shrimp, mussels, and clams in a zesty tomato sauce.\", 'price': '$19.99'}]}\n",
      "\n",
      "### End of Inner Agent: Creative Writer ###\n",
      "\n",
      "> {'Status': 'Completed'}\n",
      "\n",
      "Subtask identified: Generate pricing for the 5 menu items based on Italian food choices\n",
      "Calling function Economist with parameters {'instruction': 'Generate pricing for the 5 menu items based on Italian food choices'}\n",
      "\n",
      "### Start of Inner Agent: Economist ###\n",
      "Subtask identified: Use the dish_price function to assign prices to the 5 menu items\n",
      "Calling function dish_price with parameters {'list_of_dish_names': ['Ravioli Romantica', 'Pollo Parmigiano', 'Gnocchi al Funghi', 'Tiramisu Tornado', 'Linguine Frutti di Mare']}\n",
      "> {'Price': {'Ravioli Romantica': '$5', 'Pollo Parmigiano': '$4', 'Gnocchi al Funghi': '$9', 'Tiramisu Tornado': '$4', 'Linguine Frutti di Mare': '$10'}}\n",
      "\n",
      "Subtask identified: Generate pricing for the 5 menu items based on Italian food choices\n",
      "Calling function dish_price with parameters {'list_of_dish_names': ['Ravioli Romantica', 'Pollo Parmigiano', 'Gnocchi al Funghi', 'Tiramisu Tornado', 'Linguine Frutti di Mare']}\n",
      "> {'Price': {'Ravioli Romantica': '$5', 'Pollo Parmigiano': '$4', 'Gnocchi al Funghi': '$9', 'Tiramisu Tornado': '$4', 'Linguine Frutti di Mare': '$10'}}\n",
      "\n",
      "Task completed successfully!\n",
      "\n",
      "### End of Inner Agent: Economist ###\n",
      "\n",
      "> {'Status': 'Completed'}\n",
      "\n",
      "Subtask identified: Use the Chef function to generate ingredients for the 5 menu items\n",
      "Calling function Chef with parameters {'instruction': 'Use the Chef function to generate ingredients for the 5 menu items'}\n",
      "\n",
      "### Start of Inner Agent: Chef ###\n",
      "Subtask identified: Use the Chef function to generate ingredients for the 5 menu items\n",
      "Getting LLM to perform the following task: Use the Chef function to generate ingredients for the 5 menu items\n",
      "> As Chef, I have generated the ingredients for the 5 menu items based on Italian food choices: 1. Ravioli Romantica - Ingredients: Ricotta cheese, spinach, marinara sauce 2. Pollo Parmigiano - Ingredients: Chicken breast, mozzarella cheese, marinara sauce 3. Gnocchi al Funghi - Ingredients: Potato gnocchi, mushrooms, cream, parsley 4. Tiramisu Tornado - Ingredients: Ladyfingers, mascarpone cheese, espresso, cocoa powder 5. Linguine Frutti di Mare - Ingredients: Linguine pasta, shrimp, mussels, clams, tomato sauce\n",
      "\n",
      "Task completed successfully!\n",
      "\n",
      "### End of Inner Agent: Chef ###\n",
      "\n",
      "> {'Status': 'Completed'}\n",
      "\n",
      "Subtask identified: Perform final quality check on the menu items\n",
      "Calling function Boss with parameters {'instruction': 'Perform final quality check on the menu items'}\n",
      "\n",
      "### Start of Inner Agent: Boss ###\n",
      "Task completed successfully!\n",
      "\n",
      "### End of Inner Agent: Boss ###\n",
      "\n",
      "> {'Status': 'Completed'}\n",
      "\n",
      "Subtask identified: Perform final quality check on the menu items\n",
      "Calling function Boss with parameters {'instruction': 'Perform final quality check on the menu items'}\n",
      "\n",
      "### Start of Inner Agent: Boss ###\n",
      "Task completed successfully!\n",
      "\n",
      "### End of Inner Agent: Boss ###\n",
      "\n",
      "> {'Status': 'Completed'}\n",
      "\n"
     ]
    }
   ],
   "source": [
    "output = my_agent.run('Generate 5 menu items with name, description, ingredients and price based on Italian food choices. Ensure all parts of menu are generated.')"
   ]
  },
  {
   "cell_type": "code",
   "execution_count": 9,
   "id": "b6ec6b0f-9a70-4b47-b6ea-1c29cd88116f",
   "metadata": {
    "tags": []
   },
   "outputs": [
    {
     "name": "stdout",
     "output_type": "stream",
     "text": [
      "Based on Italian food choices, I have created 5 menu items with their respective names, descriptions, ingredients, and prices. Here they are: 1. Ravioli Romantica - Description: Delicate ravioli filled with creamy ricotta and spinach, topped with a savory marinara sauce. Ingredients: Ricotta cheese, spinach, marinara sauce. Price: $5. 2. Pollo Parmigiano - Description: Tender chicken breast breaded and fried to perfection, smothered in melted mozzarella and tangy marinara. Ingredients: Chicken breast, mozzarella cheese, marinara sauce. Price: $4. 3. Gnocchi al Funghi - Description: Homemade potato gnocchi tossed in a rich mushroom cream sauce, garnished with fresh parsley. Ingredients: Potato gnocchi, mushrooms, cream, parsley. Price: $9. 4. Tiramisu Tornado - Description: Layers of espresso-soaked ladyfingers and mascarpone cream, dusted with cocoa powder for a sweet finish. Ingredients: Ladyfingers, mascarpone cheese, espresso, cocoa powder. Price: $4. 5. Linguine Frutti di Mare - Description: A seafood lover's dream with linguine pasta, shrimp, mussels, and clams in a zesty tomato sauce. Ingredients: Linguine pasta, shrimp, mussels, clams, tomato sauce. Price: $10.\n"
     ]
    }
   ],
   "source": [
    "output = my_agent.reply_user()"
   ]
  },
  {
   "cell_type": "code",
   "execution_count": 10,
   "id": "5a4a96d3-2580-4989-8e3b-f240d1f12190",
   "metadata": {
    "tags": []
   },
   "outputs": [
    {
     "name": "stdout",
     "output_type": "stream",
     "text": [
      "Agent Name: Menu Creator\n",
      "Agent Description: Creates a menu for a restaurant. Menu item includes Name, Description, Ingredients, Pricing.\n",
      "Available Functions: ['use_llm', 'end_task', 'Chef', 'Boss', 'Creative Writer', 'Economist']\n",
      "Task: Generate 5 menu items with name, description, ingredients and price based on Italian food choices. Ensure all parts of menu are generated.\n",
      "Subtasks Completed:\n",
      "Subtask: Generate interesting dish names and descriptions for Italian food choices\n",
      "{'MenuItems': [{'name': 'Ravioli Romantica', 'description': 'Delicate ravioli filled with creamy ricotta and spinach, topped with a savory marinara sauce.', 'price': '$15.99'}, {'name': 'Pollo Parmigiano', 'description': 'Tender chicken breast breaded and fried to perfection, smothered in melted mozzarella and tangy marinara.', 'price': '$17.99'}, {'name': 'Gnocchi al Funghi', 'description': 'Homemade potato gnocchi tossed in a rich mushroom cream sauce, garnished with fresh parsley.', 'price': '$14.99'}, {'name': 'Tiramisu Tornado', 'description': 'Layers of espresso-soaked ladyfingers and mascarpone cream, dusted with cocoa powder for a sweet finish.', 'price': '$8.99'}, {'name': 'Linguine Frutti di Mare', 'description': \"A seafood lover's dream with linguine pasta, shrimp, mussels, and clams in a zesty tomato sauce.\", 'price': '$19.99'}]}\n",
      "\n",
      "Subtask: Generate interesting dish names and descriptions for Italian food choices using the Creative Writer function.\n",
      "{'Status': 'Completed'}\n",
      "\n",
      "Subtask: Use the dish_price function to assign prices to the 5 menu items\n",
      "{'Price': {'Ravioli Romantica': '$5', 'Pollo Parmigiano': '$4', 'Gnocchi al Funghi': '$9', 'Tiramisu Tornado': '$4', 'Linguine Frutti di Mare': '$10'}}\n",
      "\n",
      "Subtask: Generate pricing for the 5 menu items based on Italian food choices\n",
      "{'Price': {'Ravioli Romantica': '$5', 'Pollo Parmigiano': '$4', 'Gnocchi al Funghi': '$9', 'Tiramisu Tornado': '$4', 'Linguine Frutti di Mare': '$10'}}\n",
      "\n",
      "Subtask: Generate pricing for the 5 menu items based on Italian food choices(2)\n",
      "{'Status': 'Completed'}\n",
      "\n",
      "Subtask: Use the Chef function to generate ingredients for the 5 menu items\n",
      "As Chef, I have generated the ingredients for the 5 menu items based on Italian food choices: 1. Ravioli Romantica - Ingredients: Ricotta cheese, spinach, marinara sauce 2. Pollo Parmigiano - Ingredients: Chicken breast, mozzarella cheese, marinara sauce 3. Gnocchi al Funghi - Ingredients: Potato gnocchi, mushrooms, cream, parsley 4. Tiramisu Tornado - Ingredients: Ladyfingers, mascarpone cheese, espresso, cocoa powder 5. Linguine Frutti di Mare - Ingredients: Linguine pasta, shrimp, mussels, clams, tomato sauce\n",
      "\n",
      "Subtask: Use the Chef function to generate ingredients for the 5 menu items(2)\n",
      "{'Status': 'Completed'}\n",
      "\n",
      "Subtask: Perform final quality check on the menu items\n",
      "{'Status': 'Completed'}\n",
      "\n",
      "Subtask: Perform final quality check on the menu items(2)\n",
      "{'Status': 'Completed'}\n",
      "\n",
      "Subtask: Generate 5 menu items with name, description, ingredients and price based on Italian food choices. Ensure all parts of menu are generated.\n",
      "Based on Italian food choices, I have created 5 menu items with their respective names, descriptions, ingredients, and prices. Here they are: 1. Ravioli Romantica - Description: Delicate ravioli filled with creamy ricotta and spinach, topped with a savory marinara sauce. Ingredients: Ricotta cheese, spinach, marinara sauce. Price: $5. 2. Pollo Parmigiano - Description: Tender chicken breast breaded and fried to perfection, smothered in melted mozzarella and tangy marinara. Ingredients: Chicken breast, mozzarella cheese, marinara sauce. Price: $4. 3. Gnocchi al Funghi - Description: Homemade potato gnocchi tossed in a rich mushroom cream sauce, garnished with fresh parsley. Ingredients: Potato gnocchi, mushrooms, cream, parsley. Price: $9. 4. Tiramisu Tornado - Description: Layers of espresso-soaked ladyfingers and mascarpone cream, dusted with cocoa powder for a sweet finish. Ingredients: Ladyfingers, mascarpone cheese, espresso, cocoa powder. Price: $4. 5. Linguine Frutti di Mare - Description: A seafood lover's dream with linguine pasta, shrimp, mussels, and clams in a zesty tomato sauce. Ingredients: Linguine pasta, shrimp, mussels, clams, tomato sauce. Price: $10.\n",
      "\n",
      "Is Task Completed: False\n"
     ]
    }
   ],
   "source": [
    "my_agent.status()"
   ]
  },
  {
   "cell_type": "markdown",
   "id": "18be4496-fc6b-4d61-957a-e42809989f89",
   "metadata": {},
   "source": [
    "# Approach 2: Step through the process yourself as the Meta Agent\n",
    "- You can use agents manually using `use_agent(agent_name: str, agent_task: str)` The outputs of the agents will be stored into `subtasks_completed` of the meta agent automatically\n",
    "- You can also interact with the meta agent using `reply_user(task: str, stateful: bool = False)`. This generates a reply for the agent to the `task` using `subtasks_completed` as context. If `stateful` is true, this will also store the output into `subtasks_completed`\n",
    "- If `subtasks_completed` is too lengthy, you can run `summarise_subtasks_completed(task: str)` This summarises `subtasks_completed` according to what is relevant to the `task`\n",
    "- If you want to redo a subtask, you can remove the most recent subtask from `subtasks_completed` using `remove_last_subtask()`"
   ]
  },
  {
   "cell_type": "code",
   "execution_count": 11,
   "id": "9b1828fd-975e-41c1-ad6c-5f1552286a82",
   "metadata": {
    "tags": []
   },
   "outputs": [
    {
     "name": "stdout",
     "output_type": "stream",
     "text": [
      "Agent Name: Menu Creator\n",
      "Agent Description: Creates a menu for a restaurant. Menu item includes Name, Description, Ingredients, Pricing.\n",
      "Available Functions: ['use_llm', 'end_task', 'Chef', 'Boss', 'Creative Writer', 'Economist']\n",
      "Task: No task assigned\n",
      "Subtasks Completed: None\n",
      "Is Task Completed: False\n"
     ]
    }
   ],
   "source": [
    "# reset the state of the agent\n",
    "my_agent.reset()\n",
    "# currently should have no task and nothing in subtasks_completed\n",
    "my_agent.status()"
   ]
  },
  {
   "cell_type": "code",
   "execution_count": 12,
   "id": "83e65804-6519-4160-81ac-bb05ad10237b",
   "metadata": {
    "tags": []
   },
   "outputs": [],
   "source": [
    "# Assign a task for the meta agent - this helps to contextualise what you give each of the inner agents later on\n",
    "my_agent.assign_task('Generate 5 menu items with name, description, ingredients and price based on Italian food choices. Ensure all parts of menu are generated.')"
   ]
  },
  {
   "cell_type": "code",
   "execution_count": 13,
   "id": "1cc2a7e3-407f-448b-a49b-92260f433527",
   "metadata": {},
   "outputs": [
    {
     "name": "stdout",
     "output_type": "stream",
     "text": [
      "Calling function Creative Writer with parameters {'instruction': 'Generate only 5 Italian dish names and descriptions'}\n",
      "\n",
      "### Start of Inner Agent: Creative Writer ###\n",
      "Subtask identified: Generate Italian dish names and descriptions\n",
      "Getting LLM to perform the following task: Generate Italian dish names and descriptions\n",
      "> {'menu_items': [{'name': 'Ravioli di Zucca', 'description': 'Homemade ravioli filled with roasted pumpkin, ricotta cheese, and sage butter sauce.'}, {'name': 'Penne alla Vodka', 'description': 'Penne pasta cooked in a creamy tomato and vodka sauce with a hint of chili flakes.'}, {'name': 'Saltimbocca alla Romana', 'description': 'Thinly sliced veal topped with prosciutto and sage, cooked in a white wine and butter sauce.'}, {'name': 'Tiramisu', 'description': 'Classic Italian dessert made with layers of coffee-soaked ladyfingers and mascarpone cheese, dusted with cocoa powder.'}, {'name': 'Caprese Salad', 'description': 'Fresh mozzarella cheese, ripe tomatoes, and basil leaves drizzled with extra virgin olive oil and balsamic glaze.'}]}\n",
      "\n",
      "### End of Inner Agent: Creative Writer ###\n",
      "\n",
      "> {'Status': 'Completed'}\n",
      "\n"
     ]
    }
   ],
   "source": [
    "# This will run the Agent Creative Writer (with shared subtasks_completed as meta agent)\n",
    "# Output of task will go directly into subtasks_completed - we view the inner agent as simply an extension of the meta agent\n",
    "my_agent.use_agent('Creative Writer', 'Generate only 5 Italian dish names and descriptions')"
   ]
  },
  {
   "cell_type": "code",
   "execution_count": 14,
   "id": "d7baae92-097a-47db-a083-58e3328451db",
   "metadata": {
    "tags": []
   },
   "outputs": [
    {
     "name": "stdout",
     "output_type": "stream",
     "text": [
      "Agent Name: Menu Creator\n",
      "Agent Description: Creates a menu for a restaurant. Menu item includes Name, Description, Ingredients, Pricing.\n",
      "Available Functions: ['use_llm', 'end_task', 'Chef', 'Boss', 'Creative Writer', 'Economist']\n",
      "Task: Generate 5 menu items with name, description, ingredients and price based on Italian food choices. Ensure all parts of menu are generated.\n",
      "Subtasks Completed:\n",
      "Subtask: Generate Italian dish names and descriptions\n",
      "{'menu_items': [{'name': 'Ravioli di Zucca', 'description': 'Homemade ravioli filled with roasted pumpkin, ricotta cheese, and sage butter sauce.'}, {'name': 'Penne alla Vodka', 'description': 'Penne pasta cooked in a creamy tomato and vodka sauce with a hint of chili flakes.'}, {'name': 'Saltimbocca alla Romana', 'description': 'Thinly sliced veal topped with prosciutto and sage, cooked in a white wine and butter sauce.'}, {'name': 'Tiramisu', 'description': 'Classic Italian dessert made with layers of coffee-soaked ladyfingers and mascarpone cheese, dusted with cocoa powder.'}, {'name': 'Caprese Salad', 'description': 'Fresh mozzarella cheese, ripe tomatoes, and basil leaves drizzled with extra virgin olive oil and balsamic glaze.'}]}\n",
      "\n",
      "Subtask: Generate only 5 Italian dish names and descriptions\n",
      "{'Status': 'Completed'}\n",
      "\n",
      "Is Task Completed: False\n"
     ]
    }
   ],
   "source": [
    "# subtasks_completed should be updated with the Creative Agent's outputs\n",
    "my_agent.status()"
   ]
  },
  {
   "cell_type": "code",
   "execution_count": 15,
   "id": "db731e85-444e-4a9d-8f31-e990594a6bf1",
   "metadata": {},
   "outputs": [
    {
     "name": "stdout",
     "output_type": "stream",
     "text": [
      "Calling function Chef with parameters {'instruction': 'Generate ingredients for the 5 Italian dishes'}\n",
      "\n",
      "### Start of Inner Agent: Chef ###\n",
      "Subtask identified: Generate ingredients for the 5 Italian dishes\n",
      "Getting LLM to perform the following task: Generate ingredients for the 5 Italian dishes\n",
      "> As an agent named Chef, I will generate ingredients for the 5 Italian dishes provided: \n",
      "1. Ravioli di Zucca: Roasted pumpkin, ricotta cheese, sage, butter, flour, eggs \n",
      "2. Penne alla Vodka: Penne pasta, tomato, cream, vodka, chili flakes, garlic, onion \n",
      "3. Saltimbocca alla Romana: Veal, prosciutto, sage, white wine, butter, salt, pepper \n",
      "4. Tiramisu: Ladyfingers, coffee, mascarpone cheese, cocoa powder, sugar, eggs \n",
      "5. Caprese Salad: Mozzarella cheese, tomatoes, basil, olive oil, balsamic glaze, salt, pepper\n",
      "\n",
      "Task completed successfully!\n",
      "\n",
      "### End of Inner Agent: Chef ###\n",
      "\n",
      "> {'Status': 'Completed'}\n",
      "\n"
     ]
    }
   ],
   "source": [
    "my_agent.use_agent('Chef', 'Generate ingredients for the 5 Italian dishes')"
   ]
  },
  {
   "cell_type": "code",
   "execution_count": 16,
   "id": "fd1b1fda-7e72-4669-8e40-f01207ad198f",
   "metadata": {
    "tags": []
   },
   "outputs": [
    {
     "name": "stdout",
     "output_type": "stream",
     "text": [
      "Calling function Economist with parameters {'instruction': 'Generate prices for the 5 Italian dishes'}\n",
      "\n",
      "### Start of Inner Agent: Economist ###\n",
      "Subtask identified: Use the dish_price function to assign prices to the 5 Italian dishes.\n",
      "Calling function dish_price with parameters {'list_of_dish_names': ['Ravioli di Zucca', 'Penne alla Vodka', 'Saltimbocca alla Romana', 'Tiramisu', 'Caprese Salad']}\n",
      "> {'Price': {'Ravioli di Zucca': '$5', 'Penne alla Vodka': '$4', 'Saltimbocca alla Romana': '$3', 'Tiramisu': '$10', 'Caprese Salad': '$2'}}\n",
      "\n",
      "Subtask identified: Assign prices to the 5 Italian dishes using the dish_price function\n",
      "Calling function dish_price with parameters {'list_of_dish_names': ['Ravioli di Zucca', 'Penne alla Vodka', 'Saltimbocca alla Romana', 'Tiramisu', 'Caprese Salad']}\n",
      "> {'Price': {'Ravioli di Zucca': '$5', 'Penne alla Vodka': '$4', 'Saltimbocca alla Romana': '$3', 'Tiramisu': '$10', 'Caprese Salad': '$2'}}\n",
      "\n",
      "Task completed successfully!\n",
      "\n",
      "### End of Inner Agent: Economist ###\n",
      "\n",
      "> {'Status': 'Completed'}\n",
      "\n"
     ]
    }
   ],
   "source": [
    "my_agent.use_agent('Economist', 'Generate prices for the 5 Italian dishes')"
   ]
  },
  {
   "cell_type": "code",
   "execution_count": 17,
   "id": "3d0ff21d-3684-49ad-9a59-8d63e8c181aa",
   "metadata": {
    "tags": []
   },
   "outputs": [
    {
     "name": "stdout",
     "output_type": "stream",
     "text": [
      "Calling function Boss with parameters {'instruction': 'Choose only 3 Italian dishes to serve that will please Gordon Ramsay'}\n",
      "\n",
      "### Start of Inner Agent: Boss ###\n",
      "Subtask identified: Select 3 Italian dishes that will please Gordon Ramsay\n",
      "Getting LLM to perform the following task: Select 3 Italian dishes that will please Gordon Ramsay\n",
      "> As the final quality check agent, I have selected 3 Italian dishes that will please Gordon Ramsay: Penne alla Vodka, Saltimbocca alla Romana, and Tiramisu. These dishes are known for their rich flavors and traditional Italian cooking techniques, which are sure to impress a chef of Gordon Ramsay's caliber.\n",
      "\n",
      "Task completed successfully!\n",
      "\n",
      "### End of Inner Agent: Boss ###\n",
      "\n",
      "> {'Status': 'Completed'}\n",
      "\n"
     ]
    }
   ],
   "source": [
    "my_agent.use_agent('Boss', 'Choose only 3 Italian dishes to serve that will please Gordon Ramsay')"
   ]
  },
  {
   "cell_type": "code",
   "execution_count": 18,
   "id": "9290ba86-c1a7-4d68-ba2e-5ffbe292f403",
   "metadata": {
    "tags": []
   },
   "outputs": [
    {
     "name": "stdout",
     "output_type": "stream",
     "text": [
      "Penne alla Vodka, Penne pasta cooked in a creamy tomato and vodka sauce with a hint of chili flakes, Penne pasta, tomato, cream, vodka, chili flakes, garlic, onion, $4\n",
      "Saltimbocca alla Romana, Thinly sliced veal topped with prosciutto and sage, cooked in a white wine and butter sauce, Veal, prosciutto, sage, white wine, butter, salt, pepper, $3\n",
      "Tiramisu, Classic Italian dessert made with layers of coffee-soaked ladyfingers and mascarpone cheese, dusted with cocoa powder, Ladyfingers, coffee, mascarpone cheese, cocoa powder, sugar, eggs, $10\n"
     ]
    }
   ],
   "source": [
    "# Get a targeted response from your agent, and add this to subtask_completed\n",
    "output = my_agent.reply_user('Choose the 3 menu items for Gordon Ramsay line by line in this format - Dish Name, Dish Description, Dish Ingredients, Dish Price')"
   ]
  },
  {
   "cell_type": "code",
   "execution_count": 19,
   "id": "8c134d97-36fc-4f33-880a-fbb79e2388a5",
   "metadata": {},
   "outputs": [
    {
     "name": "stdout",
     "output_type": "stream",
     "text": [
      "Agent Name: Menu Creator\n",
      "Agent Description: Creates a menu for a restaurant. Menu item includes Name, Description, Ingredients, Pricing.\n",
      "Available Functions: ['use_llm', 'end_task', 'Chef', 'Boss', 'Creative Writer', 'Economist']\n",
      "Task: Generate 5 menu items with name, description, ingredients and price based on Italian food choices. Ensure all parts of menu are generated.\n",
      "Subtasks Completed:\n",
      "Subtask: Generate Italian dish names and descriptions\n",
      "{'menu_items': [{'name': 'Ravioli di Zucca', 'description': 'Homemade ravioli filled with roasted pumpkin, ricotta cheese, and sage butter sauce.'}, {'name': 'Penne alla Vodka', 'description': 'Penne pasta cooked in a creamy tomato and vodka sauce with a hint of chili flakes.'}, {'name': 'Saltimbocca alla Romana', 'description': 'Thinly sliced veal topped with prosciutto and sage, cooked in a white wine and butter sauce.'}, {'name': 'Tiramisu', 'description': 'Classic Italian dessert made with layers of coffee-soaked ladyfingers and mascarpone cheese, dusted with cocoa powder.'}, {'name': 'Caprese Salad', 'description': 'Fresh mozzarella cheese, ripe tomatoes, and basil leaves drizzled with extra virgin olive oil and balsamic glaze.'}]}\n",
      "\n",
      "Subtask: Generate only 5 Italian dish names and descriptions\n",
      "{'Status': 'Completed'}\n",
      "\n",
      "Subtask: Generate ingredients for the 5 Italian dishes\n",
      "As an agent named Chef, I will generate ingredients for the 5 Italian dishes provided: \n",
      "1. Ravioli di Zucca: Roasted pumpkin, ricotta cheese, sage, butter, flour, eggs \n",
      "2. Penne alla Vodka: Penne pasta, tomato, cream, vodka, chili flakes, garlic, onion \n",
      "3. Saltimbocca alla Romana: Veal, prosciutto, sage, white wine, butter, salt, pepper \n",
      "4. Tiramisu: Ladyfingers, coffee, mascarpone cheese, cocoa powder, sugar, eggs \n",
      "5. Caprese Salad: Mozzarella cheese, tomatoes, basil, olive oil, balsamic glaze, salt, pepper\n",
      "\n",
      "Subtask: Generate ingredients for the 5 Italian dishes(2)\n",
      "{'Status': 'Completed'}\n",
      "\n",
      "Subtask: Use the dish_price function to assign prices to the 5 Italian dishes.\n",
      "{'Price': {'Ravioli di Zucca': '$5', 'Penne alla Vodka': '$4', 'Saltimbocca alla Romana': '$3', 'Tiramisu': '$10', 'Caprese Salad': '$2'}}\n",
      "\n",
      "Subtask: Assign prices to the 5 Italian dishes using the dish_price function\n",
      "{'Price': {'Ravioli di Zucca': '$5', 'Penne alla Vodka': '$4', 'Saltimbocca alla Romana': '$3', 'Tiramisu': '$10', 'Caprese Salad': '$2'}}\n",
      "\n",
      "Subtask: Generate prices for the 5 Italian dishes\n",
      "{'Status': 'Completed'}\n",
      "\n",
      "Subtask: Select 3 Italian dishes that will please Gordon Ramsay\n",
      "As the final quality check agent, I have selected 3 Italian dishes that will please Gordon Ramsay: Penne alla Vodka, Saltimbocca alla Romana, and Tiramisu. These dishes are known for their rich flavors and traditional Italian cooking techniques, which are sure to impress a chef of Gordon Ramsay's caliber.\n",
      "\n",
      "Subtask: Choose only 3 Italian dishes to serve that will please Gordon Ramsay\n",
      "{'Status': 'Completed'}\n",
      "\n",
      "Subtask: Choose the 3 menu items for Gordon Ramsay line by line in this format - Dish Name, Dish Description, Dish Ingredients, Dish Price\n",
      "Penne alla Vodka, Penne pasta cooked in a creamy tomato and vodka sauce with a hint of chili flakes, Penne pasta, tomato, cream, vodka, chili flakes, garlic, onion, $4\n",
      "Saltimbocca alla Romana, Thinly sliced veal topped with prosciutto and sage, cooked in a white wine and butter sauce, Veal, prosciutto, sage, white wine, butter, salt, pepper, $3\n",
      "Tiramisu, Classic Italian dessert made with layers of coffee-soaked ladyfingers and mascarpone cheese, dusted with cocoa powder, Ladyfingers, coffee, mascarpone cheese, cocoa powder, sugar, eggs, $10\n",
      "\n",
      "Is Task Completed: False\n"
     ]
    }
   ],
   "source": [
    "my_agent.status()"
   ]
  },
  {
   "cell_type": "code",
   "execution_count": 20,
   "id": "8bdfad22-3b67-42d5-a4c6-cfd607dd22b1",
   "metadata": {
    "tags": []
   },
   "outputs": [
    {
     "name": "stdout",
     "output_type": "stream",
     "text": [
      "Penne alla Vodka\n",
      "Description: Penne pasta cooked in a creamy tomato and vodka sauce with a hint of chili flakes\n",
      "Ingredients: Penne pasta, tomato, cream, vodka, chili flakes, garlic, onion\n",
      "Price: $4\n",
      "\n",
      "Saltimbocca alla Romana\n",
      "Description: Thinly sliced veal topped with prosciutto and sage, cooked in a white wine and butter sauce\n",
      "Ingredients: Veal, prosciutto, sage, white wine, butter, salt, pepper\n",
      "Price: $3\n",
      "\n",
      "Tiramisu\n",
      "Description: Classic Italian dessert made with layers of coffee-soaked ladyfingers and mascarpone cheese, dusted with cocoa powder\n",
      "Ingredients: Ladyfingers, coffee, mascarpone cheese, cocoa powder, sugar, eggs\n",
      "Price: $10\n"
     ]
    }
   ],
   "source": [
    "# you can summarise the subtasks_history for the next task\n",
    "my_agent.summarise_subtasks_completed('Generate the 3 Italian dishes for Gordon Ramsay in menu format')"
   ]
  },
  {
   "cell_type": "code",
   "execution_count": 21,
   "id": "ea8ebd26-25e2-41b3-a2a3-78f03d324f3b",
   "metadata": {
    "tags": []
   },
   "outputs": [
    {
     "name": "stdout",
     "output_type": "stream",
     "text": [
      "Agent Name: Menu Creator\n",
      "Agent Description: Creates a menu for a restaurant. Menu item includes Name, Description, Ingredients, Pricing.\n",
      "Available Functions: ['use_llm', 'end_task', 'Chef', 'Boss', 'Creative Writer', 'Economist']\n",
      "Task: Generate 5 menu items with name, description, ingredients and price based on Italian food choices. Ensure all parts of menu are generated.\n",
      "Subtasks Completed:\n",
      "Subtask: Summary of Generate the 3 Italian dishes for Gordon Ramsay in menu format\n",
      "Penne alla Vodka\n",
      "Description: Penne pasta cooked in a creamy tomato and vodka sauce with a hint of chili flakes\n",
      "Ingredients: Penne pasta, tomato, cream, vodka, chili flakes, garlic, onion\n",
      "Price: $4\n",
      "\n",
      "Saltimbocca alla Romana\n",
      "Description: Thinly sliced veal topped with prosciutto and sage, cooked in a white wine and butter sauce\n",
      "Ingredients: Veal, prosciutto, sage, white wine, butter, salt, pepper\n",
      "Price: $3\n",
      "\n",
      "Tiramisu\n",
      "Description: Classic Italian dessert made with layers of coffee-soaked ladyfingers and mascarpone cheese, dusted with cocoa powder\n",
      "Ingredients: Ladyfingers, coffee, mascarpone cheese, cocoa powder, sugar, eggs\n",
      "Price: $10\n",
      "\n",
      "Is Task Completed: False\n"
     ]
    }
   ],
   "source": [
    "# subtask has been summarised, helping to reduce the context significantly for later task generation\n",
    "my_agent.status()"
   ]
  },
  {
   "cell_type": "code",
   "execution_count": 22,
   "id": "c7887297-c007-42fd-a21e-5196afef605a",
   "metadata": {
    "tags": []
   },
   "outputs": [
    {
     "name": "stdout",
     "output_type": "stream",
     "text": [
      "Removed last subtask from subtasks_completed: ('Summary of Generate the 3 Italian dishes for Gordon Ramsay in menu format', 'Penne alla Vodka\\nDescription: Penne pasta cooked in a creamy tomato and vodka sauce with a hint of chili flakes\\nIngredients: Penne pasta, tomato, cream, vodka, chili flakes, garlic, onion\\nPrice: $4\\n\\nSaltimbocca alla Romana\\nDescription: Thinly sliced veal topped with prosciutto and sage, cooked in a white wine and butter sauce\\nIngredients: Veal, prosciutto, sage, white wine, butter, salt, pepper\\nPrice: $3\\n\\nTiramisu\\nDescription: Classic Italian dessert made with layers of coffee-soaked ladyfingers and mascarpone cheese, dusted with cocoa powder\\nIngredients: Ladyfingers, coffee, mascarpone cheese, cocoa powder, sugar, eggs\\nPrice: $10')\n"
     ]
    }
   ],
   "source": [
    "# we also allow you to manually remove the last item added to subtasks_completed, so you can revert your agent state if needed for backtracking\n",
    "my_agent.remove_last_subtask()"
   ]
  },
  {
   "cell_type": "code",
   "execution_count": 23,
   "id": "35340b71-d7ea-4f28-ad0a-dddf6099737f",
   "metadata": {
    "tags": []
   },
   "outputs": [
    {
     "name": "stdout",
     "output_type": "stream",
     "text": [
      "Agent Name: Menu Creator\n",
      "Agent Description: Creates a menu for a restaurant. Menu item includes Name, Description, Ingredients, Pricing.\n",
      "Available Functions: ['use_llm', 'end_task', 'Chef', 'Boss', 'Creative Writer', 'Economist']\n",
      "Task: Generate 5 menu items with name, description, ingredients and price based on Italian food choices. Ensure all parts of menu are generated.\n",
      "Subtasks Completed: None\n",
      "Is Task Completed: False\n"
     ]
    }
   ],
   "source": [
    "# visualise your agent's status - should have empty subtasks_completed\n",
    "my_agent.status()"
   ]
  },
  {
   "cell_type": "code",
   "execution_count": null,
   "id": "6dec8c56-7463-4dcf-8246-115583858de9",
   "metadata": {},
   "outputs": [],
   "source": []
  }
 ],
 "metadata": {
  "kernelspec": {
   "display_name": "Python 3 (ipykernel)",
   "language": "python",
   "name": "python3"
  },
  "language_info": {
   "codemirror_mode": {
    "name": "ipython",
    "version": 3
   },
   "file_extension": ".py",
   "mimetype": "text/x-python",
   "name": "python",
   "nbconvert_exporter": "python",
   "pygments_lexer": "ipython3",
   "version": "3.11.3"
  }
 },
 "nbformat": 4,
 "nbformat_minor": 5
}
