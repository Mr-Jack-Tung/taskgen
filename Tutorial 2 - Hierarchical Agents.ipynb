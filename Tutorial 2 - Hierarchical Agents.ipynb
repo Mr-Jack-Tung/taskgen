{
 "cells": [
  {
   "cell_type": "markdown",
   "id": "2fa1e388-b8f4-4fa3-be5a-ba7c6caae038",
   "metadata": {
    "tags": []
   },
   "source": [
    "# Tutorial 2 - Hierarchical Agents\n",
    "\n",
    "## Functionalities:\n",
    "- An agent (referred as meta agent) can also assign other agents (referred as inner agents) as the function call, thereby creating a hierarchical structure\n",
    "- Whenever the inner agent is called, we will run the full inner agent's process until termination\n",
    "- Maximum number of steps for each agent (meta agent or inner agent) can be defined in `max_subtasks` (default: 5) variable when initialising agent\n",
    "\n",
    "## Additional Details:\n",
    "- The inner agent will take in meta agent's instruction as input\n",
    "- In addition, the inner agent will also have access to meta agent's task and subtasks completed for global context\n",
    "- Inner agent's output will directly go into meta agent's subtasks completed dictionary, enabling it to directly update global context\n",
    "\n",
    "## Design Philosophy:\n",
    "- Bottom layers can get context of the top layers for more context-specific generation\n",
    "- Top layers choose bottom layers in a hierarchical fashion so as to limit the number of choices at each level for better performance\n",
    "- `subtasks_completed` serves as the global context for the meta agents and the inner agents, and can be summarised as needed, e.g. when performing a new task to filter out irrelevant information "
   ]
  },
  {
   "cell_type": "markdown",
   "id": "a3c27cfb-0612-45a1-8cec-fecd59bcd7d2",
   "metadata": {},
   "source": [
    "# Install TaskGen"
   ]
  },
  {
   "cell_type": "code",
   "execution_count": 1,
   "id": "c4e7f7e0-3656-41a0-afa2-b91f5640ab04",
   "metadata": {},
   "outputs": [],
   "source": [
    "# !pip install taskgen-ai"
   ]
  },
  {
   "cell_type": "code",
   "execution_count": 2,
   "id": "076adf5e-beb1-4b19-9078-34ab1b7d9afe",
   "metadata": {
    "tags": []
   },
   "outputs": [],
   "source": [
    "# Set up API key and do the necessary imports\n",
    "import os\n",
    "from taskgen import *\n",
    "\n",
    "os.environ['OPENAI_API_KEY'] = '<YOUR API KEY HERE>'"
   ]
  },
  {
   "cell_type": "markdown",
   "id": "d485cc60-ad94-49ad-8a2d-204368a7065d",
   "metadata": {},
   "source": [
    "# Define Agents and Meta Agents\n",
    "- You can also create a Meta Agent that uses other Agents (referred to as Inner Agents) as functions\n",
    "- Create your Meta agent using `Agent()` (Note: No different from usual process of creating Agents - your Meta Agent is also an Agent)\n",
    "- Set up an Inner Agent list and assign it to your Meta agent using `assign_agents(agent_list)`\n",
    "\n",
    "## Example Meta Agent Setup\n",
    "```python\n",
    "# Define your meta-agent\n",
    "my_agent = Agent('Menu Creator', \n",
    "                 'Creates a menu for a restaurant. Menu item includes Name, Description, Ingredients, Pricing.')\n",
    "\n",
    "# Define your agent list. Note you can just assign functions to the agent in place using .assign_functions(function_list)\n",
    "agent_list = [\n",
    "    Agent('Chef', 'Takes in dish names and generates ingredients for each of them. Does not generate prices.'),\n",
    "    Agent('Boss', 'Does final quality check on menu items'),\n",
    "    Agent('Creative Writer', 'Takes in a cuisine type and generates interesting dish names and descriptions.', max_subtasks = 2),\n",
    "    Agent('Economist', 'Takes in dish names and comes up with fictitious pricing for each of them')\n",
    "    ]\n",
    "\n",
    "my_agent.assign_agents(agent_list)\n",
    "```\n",
    "\n",
    "## Run the Meta Agent\n",
    "- Let us run the agent and see the interactions between the Meta Agent and Inner Agents to solve the task!\n",
    "```python\n",
    "output = my_agent.run('Generate 5 menu items with name, description, ingredients and price based on Italian food choices. Ensure all parts of menu are generated.')\n",
    "```"
   ]
  },
  {
   "cell_type": "code",
   "execution_count": 3,
   "id": "1f2304be-b9fa-4292-b20f-2ac6c6909015",
   "metadata": {
    "tags": []
   },
   "outputs": [],
   "source": [
    "def random_number_from_string(input_string):\n",
    "    ''' Returns a random number between 1 and 10 when given an input string '''\n",
    "    import hashlib\n",
    "    import random\n",
    "    # Hash the input string\n",
    "    hashed_string = hashlib.sha256(input_string.encode()).hexdigest()\n",
    "    \n",
    "    # Convert the hashed string to an integer\n",
    "    hashed_integer = int(hashed_string, 16)\n",
    "    \n",
    "    # Seed the random number generator with the hashed integer\n",
    "    random.seed(hashed_integer)\n",
    "    \n",
    "    # Generate a random number between 1 and 10\n",
    "    return random.randint(1, 10)"
   ]
  },
  {
   "cell_type": "code",
   "execution_count": 4,
   "id": "7222e82b-e030-4494-894d-41a61370c747",
   "metadata": {
    "tags": []
   },
   "outputs": [],
   "source": [
    "# assign a dish pricing function for economist\n",
    "# Note: Try to make the output informative that is understandable by the Agent - use free text or json to explain the output so that someone can understand without the input\n",
    "def dish_price(list_of_dish_names: list) -> dict:\n",
    "    ''' Takes in list_of_dish_names and outputs price '''\n",
    "    if not isinstance(list_of_dish_names, list):\n",
    "        list_of_food_items = [list_of_dish_names]\n",
    "    output = {}\n",
    "    for each in list_of_dish_names:\n",
    "        output[each] = '$'+str(random_number_from_string(each))\n",
    "    return output\n",
    "    \n",
    "fp = Function(fn_description = \"Takes in <list_of_dish_names: list> and outputs price\", \n",
    "              output_format = {\"Price\": \"Dish name as key and price as value\"}, \n",
    "              examples = {\"list_of_dish_names\": [\"Pasta\", \"Pizza\"], \"Price\": [{'Pasta': '$5'}, {'Pizza':'$2'}]},\n",
    "              external_fn = dish_price)"
   ]
  },
  {
   "cell_type": "code",
   "execution_count": 5,
   "id": "fc770857-5ca0-43a1-a72f-5df7a97f7c02",
   "metadata": {
    "tags": []
   },
   "outputs": [],
   "source": [
    "# Define your meta-agent\n",
    "my_agent = Agent('Menu Creator', \n",
    "                 'Creates a menu for a restaurant. Menu item includes Name, Description, Ingredients, Pricing.')"
   ]
  },
  {
   "cell_type": "code",
   "execution_count": 6,
   "id": "7302c9ec-6e27-40c0-8a3c-3cd350964027",
   "metadata": {
    "jp-MarkdownHeadingCollapsed": true,
    "tags": []
   },
   "outputs": [],
   "source": [
    "# Define your agent list. Note you can just assign functions to the agent in place using .assign_functions(function_list)\n",
    "agent_list = [\n",
    "    Agent('Chef', 'Takes in dish names and generates ingredients for each of them. Does not generate prices.'),\n",
    "    Agent('Boss', 'Does final quality check on menu items'),\n",
    "    Agent('Creative Writer', 'Takes in a cuisine type and generates interesting dish names and descriptions. Does not generate prices or ingredients.', max_subtasks = 2),\n",
    "    Agent('Economist', 'Takes in dish names and comes up with fictitious pricing for each of them').assign_functions([fp])\n",
    "    ]"
   ]
  },
  {
   "cell_type": "code",
   "execution_count": 7,
   "id": "d4e9c84e-0ffa-4450-9522-6e21d86bad29",
   "metadata": {
    "tags": []
   },
   "outputs": [
    {
     "data": {
      "text/plain": [
       "<taskgen.agent.Agent at 0x109a98190>"
      ]
     },
     "execution_count": 7,
     "metadata": {},
     "output_type": "execute_result"
    }
   ],
   "source": [
    "my_agent.assign_agents(agent_list)"
   ]
  },
  {
   "cell_type": "markdown",
   "id": "b3a63cf7-0c50-4c6d-993a-8cee1de738d9",
   "metadata": {},
   "source": [
    "# Approach 1: Run a generic task with the Meta-Agent\n",
    "- Let us run a general task to create 5 menu items for an Italian restaurant\n",
    "- You can also specify how Agents interact with one another in the task, otherwise the Meta-Agent will infer what should be done"
   ]
  },
  {
   "cell_type": "code",
   "execution_count": 8,
   "id": "4aabd0c2-6470-43e1-b476-d77e2c85c0bb",
   "metadata": {
    "tags": []
   },
   "outputs": [
    {
     "name": "stdout",
     "output_type": "stream",
     "text": [
      "Subtask identified: Generate interesting dish names and descriptions using Creative Writer for 5 menu items\n",
      "Calling function Creative Writer with parameters {'instruction': 'Generate interesting dish names and descriptions for 5 Italian food menu items.'}\n",
      "\n",
      "### Start of Inner Agent: Creative Writer ###\n",
      "Subtask identified: Brainstorm creative dish names and descriptions for Italian food menu items.\n",
      "Getting LLM to perform the following task: Brainstorm creative dish names and descriptions for Italian food menu items.\n",
      "> {'MenuItems': [{'name': 'Ravioli di Mare', 'description': 'Delicate ravioli filled with a blend of fresh seafood, served in a creamy tomato sauce.', 'ingredients': 'Seafood, pasta, tomato sauce, cream', 'price': 'Market Price'}, {'name': 'Pollo alla Griglia', 'description': 'Grilled chicken breast marinated in herbs and olive oil, served with roasted vegetables.', 'ingredients': 'Chicken breast, herbs, olive oil, vegetables', 'price': 'Market Price'}, {'name': 'Tortellini al Forno', 'description': 'Baked tortellini stuffed with ricotta and spinach, topped with melted mozzarella cheese.', 'ingredients': 'Tortellini, ricotta, spinach, mozzarella cheese', 'price': 'Market Price'}, {'name': 'Gnocchi Gorgonzola', 'description': 'Soft potato gnocchi in a creamy gorgonzola sauce, sprinkled with toasted walnuts.', 'ingredients': 'Gnocchi, gorgonzola cheese, walnuts, cream', 'price': 'Market Price'}, {'name': 'Tiramisu Classico', 'description': 'Traditional Italian dessert made with layers of coffee-soaked ladyfingers and mascarpone cream, dusted with cocoa powder.', 'ingredients': 'Ladyfingers, coffee, mascarpone cheese, cocoa powder', 'price': 'Market Price'}]}\n",
      "\n",
      "Task completed successfully!\n",
      "\n",
      "### End of Inner Agent: Creative Writer ###\n",
      "\n",
      "> {'Status': 'Completed'}\n",
      "\n",
      "Subtask identified: Generate ingredients for the 5 menu items using Chef\n",
      "Calling function Chef with parameters {'instruction': 'Generate ingredients for Italian food menu items'}\n",
      "\n",
      "### Start of Inner Agent: Chef ###\n",
      "Subtask identified: Brainstorm and list out ingredients for Ravioli di Mare\n",
      "Getting LLM to perform the following task: Brainstorm and list out ingredients for Ravioli di Mare\n",
      "> For the Ravioli di Mare dish, the ingredients include a blend of fresh seafood, pasta, tomato sauce, and cream.\n",
      "\n",
      "Subtask identified: Brainstorm and list out ingredients for Pollo alla Griglia\n",
      "Getting LLM to perform the following task: Brainstorm and list out ingredients for Pollo alla Griglia\n",
      "> For the Pollo alla Griglia dish, the ingredients include chicken breast, herbs, olive oil, and vegetables.\n",
      "\n",
      "Subtask identified: Brainstorm and list out ingredients for Tortellini al Forno\n",
      "Getting LLM to perform the following task: Brainstorm and list out ingredients for Tortellini al Forno\n",
      "> For the Tortellini al Forno dish, the ingredients include tortellini, ricotta, spinach, and mozzarella cheese.\n",
      "\n",
      "Subtask identified: Brainstorm and list out ingredients for Gnocchi Gorgonzola\n",
      "Getting LLM to perform the following task: Brainstorm and list out ingredients for Gnocchi Gorgonzola\n",
      "> For the Gnocchi Gorgonzola dish, the ingredients include gnocchi, gorgonzola cheese, walnuts, and cream.\n",
      "\n",
      "Task completed successfully!\n",
      "\n",
      "### End of Inner Agent: Chef ###\n",
      "\n",
      "> {'Status': 'Completed'}\n",
      "\n",
      "Subtask identified: Generate fictitious pricing for the 5 menu items using Economist\n",
      "Calling function Economist with parameters {'instruction': 'Generate fictitious pricing for the 5 menu items based on Italian food choices.'}\n",
      "\n",
      "### Start of Inner Agent: Economist ###\n",
      "Subtask identified: Generate fictitious pricing for Ravioli di Mare\n",
      "Calling function dish_price with parameters {'list_of_dish_names': ['Ravioli di Mare']}\n",
      "> {'Price': {'Ravioli di Mare': '$2'}}\n",
      "\n",
      "Subtask identified: Generate fictitious pricing for Pollo alla Griglia\n",
      "Calling function dish_price with parameters {'list_of_dish_names': ['Pollo alla Griglia']}\n",
      "> {'Price': {'Pollo alla Griglia': '$8'}}\n",
      "\n",
      "Subtask identified: Generate fictitious pricing for Tortellini al Forno\n",
      "Calling function dish_price with parameters {'list_of_dish_names': ['Tortellini al Forno']}\n",
      "> {'Price': {'Tortellini al Forno': '$10'}}\n",
      "\n",
      "Subtask identified: Generate fictitious pricing for Gnocchi Gorgonzola\n",
      "Calling function dish_price with parameters {'list_of_dish_names': ['Gnocchi Gorgonzola']}\n",
      "> {'Price': {'Gnocchi Gorgonzola': '$9'}}\n",
      "\n",
      "Subtask identified: Generate fictitious pricing for Tiramisu Classico\n",
      "Calling function dish_price with parameters {'list_of_dish_names': ['Tiramisu Classico']}\n",
      "> {'Price': {'Tiramisu Classico': '$2'}}\n",
      "\n",
      "Task completed successfully!\n",
      "\n",
      "### End of Inner Agent: Economist ###\n",
      "\n",
      "> {'Status': 'Completed'}\n",
      "\n",
      "Task completed successfully!\n",
      "\n"
     ]
    }
   ],
   "source": [
    "output = my_agent.run('Generate 5 menu items with name, description, ingredients and price based on Italian food choices. Ensure all parts of menu are generated.')"
   ]
  },
  {
   "cell_type": "code",
   "execution_count": 9,
   "id": "b6ec6b0f-9a70-4b47-b6ea-1c29cd88116f",
   "metadata": {
    "tags": []
   },
   "outputs": [
    {
     "name": "stdout",
     "output_type": "stream",
     "text": [
      "{'MenuItems': [{'name': 'Ravioli di Mare', 'description': 'Delicate ravioli filled with a blend of fresh seafood, served in a creamy tomato sauce.', 'ingredients': 'Seafood, pasta, tomato sauce, cream', 'price': '$2'}, {'name': 'Pollo alla Griglia', 'description': 'Grilled chicken breast marinated in herbs and olive oil, served with roasted vegetables.', 'ingredients': 'Chicken breast, herbs, olive oil, vegetables', 'price': '$8'}, {'name': 'Tortellini al Forno', 'description': 'Baked tortellini stuffed with ricotta and spinach, topped with melted mozzarella cheese.', 'ingredients': 'Tortellini, ricotta, spinach, mozzarella cheese', 'price': '$10'}, {'name': 'Gnocchi Gorgonzola', 'description': 'Soft potato gnocchi in a creamy gorgonzola sauce, sprinkled with toasted walnuts.', 'ingredients': 'Gnocchi, gorgonzola cheese, walnuts, cream', 'price': '$9'}, {'name': 'Tiramisu Classico', 'description': 'Traditional Italian dessert made with layers of coffee-soaked ladyfingers and mascarpone cream, dusted with cocoa powder.', 'ingredients': 'Ladyfingers, coffee, mascarpone cheese, cocoa powder', 'price': '$2'}]}\n"
     ]
    }
   ],
   "source": [
    "output = my_agent.reply_user()"
   ]
  },
  {
   "cell_type": "code",
   "execution_count": 10,
   "id": "5a4a96d3-2580-4989-8e3b-f240d1f12190",
   "metadata": {
    "tags": []
   },
   "outputs": [
    {
     "name": "stdout",
     "output_type": "stream",
     "text": [
      "Agent Name: Menu Creator\n",
      "Agent Description: Creates a menu for a restaurant. Menu item includes Name, Description, Ingredients, Pricing.\n",
      "Available Functions: ['use_llm', 'end_task', 'Chef', 'Boss', 'Creative Writer', 'Economist']\n",
      "Task: Generate 5 menu items with name, description, ingredients and price based on Italian food choices. Ensure all parts of menu are generated.\n",
      "Subtasks Completed:\n",
      "Subtask: Brainstorm creative dish names and descriptions for Italian food menu items.\n",
      "{'MenuItems': [{'name': 'Ravioli di Mare', 'description': 'Delicate ravioli filled with a blend of fresh seafood, served in a creamy tomato sauce.', 'ingredients': 'Seafood, pasta, tomato sauce, cream', 'price': 'Market Price'}, {'name': 'Pollo alla Griglia', 'description': 'Grilled chicken breast marinated in herbs and olive oil, served with roasted vegetables.', 'ingredients': 'Chicken breast, herbs, olive oil, vegetables', 'price': 'Market Price'}, {'name': 'Tortellini al Forno', 'description': 'Baked tortellini stuffed with ricotta and spinach, topped with melted mozzarella cheese.', 'ingredients': 'Tortellini, ricotta, spinach, mozzarella cheese', 'price': 'Market Price'}, {'name': 'Gnocchi Gorgonzola', 'description': 'Soft potato gnocchi in a creamy gorgonzola sauce, sprinkled with toasted walnuts.', 'ingredients': 'Gnocchi, gorgonzola cheese, walnuts, cream', 'price': 'Market Price'}, {'name': 'Tiramisu Classico', 'description': 'Traditional Italian dessert made with layers of coffee-soaked ladyfingers and mascarpone cream, dusted with cocoa powder.', 'ingredients': 'Ladyfingers, coffee, mascarpone cheese, cocoa powder', 'price': 'Market Price'}]}\n",
      "\n",
      "Subtask: Generate interesting dish names and descriptions using Creative Writer for 5 menu items\n",
      "{'Status': 'Completed'}\n",
      "\n",
      "Subtask: Brainstorm and list out ingredients for Ravioli di Mare\n",
      "For the Ravioli di Mare dish, the ingredients include a blend of fresh seafood, pasta, tomato sauce, and cream.\n",
      "\n",
      "Subtask: Brainstorm and list out ingredients for Pollo alla Griglia\n",
      "For the Pollo alla Griglia dish, the ingredients include chicken breast, herbs, olive oil, and vegetables.\n",
      "\n",
      "Subtask: Brainstorm and list out ingredients for Tortellini al Forno\n",
      "For the Tortellini al Forno dish, the ingredients include tortellini, ricotta, spinach, and mozzarella cheese.\n",
      "\n",
      "Subtask: Brainstorm and list out ingredients for Gnocchi Gorgonzola\n",
      "For the Gnocchi Gorgonzola dish, the ingredients include gnocchi, gorgonzola cheese, walnuts, and cream.\n",
      "\n",
      "Subtask: Generate ingredients for the 5 menu items using Chef\n",
      "{'Status': 'Completed'}\n",
      "\n",
      "Subtask: Generate fictitious pricing for Ravioli di Mare\n",
      "{'Price': {'Ravioli di Mare': '$2'}}\n",
      "\n",
      "Subtask: Generate fictitious pricing for Pollo alla Griglia\n",
      "{'Price': {'Pollo alla Griglia': '$8'}}\n",
      "\n",
      "Subtask: Generate fictitious pricing for Tortellini al Forno\n",
      "{'Price': {'Tortellini al Forno': '$10'}}\n",
      "\n",
      "Subtask: Generate fictitious pricing for Gnocchi Gorgonzola\n",
      "{'Price': {'Gnocchi Gorgonzola': '$9'}}\n",
      "\n",
      "Subtask: Generate fictitious pricing for Tiramisu Classico\n",
      "{'Price': {'Tiramisu Classico': '$2'}}\n",
      "\n",
      "Subtask: Generate fictitious pricing for the 5 menu items using Economist\n",
      "{'Status': 'Completed'}\n",
      "\n",
      "Subtask: Generate 5 menu items with name, description, ingredients and price based on Italian food choices. Ensure all parts of menu are generated.\n",
      "{'MenuItems': [{'name': 'Ravioli di Mare', 'description': 'Delicate ravioli filled with a blend of fresh seafood, served in a creamy tomato sauce.', 'ingredients': 'Seafood, pasta, tomato sauce, cream', 'price': '$2'}, {'name': 'Pollo alla Griglia', 'description': 'Grilled chicken breast marinated in herbs and olive oil, served with roasted vegetables.', 'ingredients': 'Chicken breast, herbs, olive oil, vegetables', 'price': '$8'}, {'name': 'Tortellini al Forno', 'description': 'Baked tortellini stuffed with ricotta and spinach, topped with melted mozzarella cheese.', 'ingredients': 'Tortellini, ricotta, spinach, mozzarella cheese', 'price': '$10'}, {'name': 'Gnocchi Gorgonzola', 'description': 'Soft potato gnocchi in a creamy gorgonzola sauce, sprinkled with toasted walnuts.', 'ingredients': 'Gnocchi, gorgonzola cheese, walnuts, cream', 'price': '$9'}, {'name': 'Tiramisu Classico', 'description': 'Traditional Italian dessert made with layers of coffee-soaked ladyfingers and mascarpone cream, dusted with cocoa powder.', 'ingredients': 'Ladyfingers, coffee, mascarpone cheese, cocoa powder', 'price': '$2'}]}\n",
      "\n",
      "Is Task Completed: True\n"
     ]
    }
   ],
   "source": [
    "my_agent.status()"
   ]
  },
  {
   "cell_type": "markdown",
   "id": "18be4496-fc6b-4d61-957a-e42809989f89",
   "metadata": {},
   "source": [
    "# Approach 2: Step through the process yourself as the Meta Agent\n",
    "- You can use agents manually using `use_agent(agent_name: str, agent_task: str)` The outputs of the agents will be stored into `subtasks_completed` of the meta agent automatically\n",
    "- You can also interact with the meta agent using `reply_user(task: str, stateful: bool = False)`. This generates a reply for the agent to the `task` using `subtasks_completed` as context. If `stateful` is true, this will also store the output into `subtasks_completed`\n",
    "- If `subtasks_completed` is too lengthy, you can run `summarise_subtasks_completed(task: str)` This summarises `subtasks_completed` according to what is relevant to the `task`\n",
    "- If you want to redo a subtask, you can remove the most recent subtask from `subtasks_completed` using `remove_last_subtask()`"
   ]
  },
  {
   "cell_type": "code",
   "execution_count": 11,
   "id": "9b1828fd-975e-41c1-ad6c-5f1552286a82",
   "metadata": {
    "tags": []
   },
   "outputs": [
    {
     "name": "stdout",
     "output_type": "stream",
     "text": [
      "Agent Name: Menu Creator\n",
      "Agent Description: Creates a menu for a restaurant. Menu item includes Name, Description, Ingredients, Pricing.\n",
      "Available Functions: ['use_llm', 'end_task', 'Chef', 'Boss', 'Creative Writer', 'Economist']\n",
      "Task: No task assigned\n",
      "Subtasks Completed: None\n",
      "Is Task Completed: False\n"
     ]
    }
   ],
   "source": [
    "# reset the state of the agent\n",
    "my_agent.reset()\n",
    "# currently should have no task and nothing in subtasks_completed\n",
    "my_agent.status()"
   ]
  },
  {
   "cell_type": "code",
   "execution_count": 12,
   "id": "83e65804-6519-4160-81ac-bb05ad10237b",
   "metadata": {
    "tags": []
   },
   "outputs": [],
   "source": [
    "# Assign a task for the meta agent - this helps to contextualise what you give each of the inner agents later on\n",
    "my_agent.assign_task('Generate 5 menu items with name, description, ingredients and price based on Italian food choices. Ensure all parts of menu are generated.')"
   ]
  },
  {
   "cell_type": "code",
   "execution_count": 13,
   "id": "1cc2a7e3-407f-448b-a49b-92260f433527",
   "metadata": {},
   "outputs": [
    {
     "name": "stdout",
     "output_type": "stream",
     "text": [
      "Calling function Creative Writer with parameters {'instruction': 'Generate 5 Italian dish names and descriptions'}\n",
      "\n",
      "### Start of Inner Agent: Creative Writer ###\n",
      "Subtask identified: Research traditional Italian dishes\n",
      "Getting LLM to perform the following task: Research traditional Italian dishes\n",
      "> 1. Dish Name: Risotto ai Funghi Description: Creamy risotto cooked with a variety of mushrooms, finished with a drizzle of truffle oil. 2. Dish Name: Osso Buco alla Milanese Description: Tender veal shanks braised in a rich tomato and vegetable sauce, served with gremolata. 3. Dish Name: Caprese Salad Description: A classic Italian salad made with fresh tomatoes, mozzarella cheese, basil leaves, and a drizzle of balsamic glaze. 4. Dish Name: Tiramisu Description: A decadent dessert made with layers of coffee-soaked ladyfingers, mascarpone cheese, and cocoa powder. 5. Dish Name: Spaghetti Carbonara Description: Al dente spaghetti tossed in a creamy sauce made with eggs, pecorino cheese, pancetta, and black pepper.\n",
      "\n",
      "Subtask identified: Generate 5 Italian dish names and descriptions\n",
      "Getting LLM to perform the following task: Generate 5 Italian dish names and descriptions\n",
      "> 1. Dish Name: Pollo alla Cacciatora Description: Tender chicken cooked in a savory tomato sauce with onions, garlic, and bell peppers. 2. Dish Name: Bruschetta al Pomodoro Description: Toasted bread topped with fresh tomatoes, garlic, basil, and a drizzle of olive oil. 3. Dish Name: Gnocchi alla Sorrentina Description: Soft potato dumplings baked in a rich tomato sauce with melted mozzarella cheese. 4. Dish Name: Saltimbocca alla Romana Description: Thin slices of veal topped with prosciutto and sage, cooked in a white wine and butter sauce. 5. Dish Name: Cannoli Siciliani Description: Crispy pastry tubes filled with sweet ricotta cheese, chocolate chips, and pistachios.\n",
      "\n",
      "Task completed successfully!\n",
      "\n",
      "### End of Inner Agent: Creative Writer ###\n",
      "\n",
      "> {'Status': 'Completed'}\n",
      "\n"
     ]
    }
   ],
   "source": [
    "# This will run the Agent Creative Writer (with shared subtasks_completed as meta agent)\n",
    "# Output of task will go directly into subtasks_completed - we view the inner agent as simply an extension of the meta agent\n",
    "my_agent.use_agent('Creative Writer', 'Generate 5 Italian dish names and descriptions')"
   ]
  },
  {
   "cell_type": "code",
   "execution_count": 14,
   "id": "d7baae92-097a-47db-a083-58e3328451db",
   "metadata": {
    "tags": []
   },
   "outputs": [
    {
     "name": "stdout",
     "output_type": "stream",
     "text": [
      "Agent Name: Menu Creator\n",
      "Agent Description: Creates a menu for a restaurant. Menu item includes Name, Description, Ingredients, Pricing.\n",
      "Available Functions: ['use_llm', 'end_task', 'Chef', 'Boss', 'Creative Writer', 'Economist']\n",
      "Task: Generate 5 menu items with name, description, ingredients and price based on Italian food choices. Ensure all parts of menu are generated.\n",
      "Subtasks Completed:\n",
      "Subtask: Research traditional Italian dishes\n",
      "1. Dish Name: Risotto ai Funghi Description: Creamy risotto cooked with a variety of mushrooms, finished with a drizzle of truffle oil. 2. Dish Name: Osso Buco alla Milanese Description: Tender veal shanks braised in a rich tomato and vegetable sauce, served with gremolata. 3. Dish Name: Caprese Salad Description: A classic Italian salad made with fresh tomatoes, mozzarella cheese, basil leaves, and a drizzle of balsamic glaze. 4. Dish Name: Tiramisu Description: A decadent dessert made with layers of coffee-soaked ladyfingers, mascarpone cheese, and cocoa powder. 5. Dish Name: Spaghetti Carbonara Description: Al dente spaghetti tossed in a creamy sauce made with eggs, pecorino cheese, pancetta, and black pepper.\n",
      "\n",
      "Subtask: Generate 5 Italian dish names and descriptions\n",
      "1. Dish Name: Pollo alla Cacciatora Description: Tender chicken cooked in a savory tomato sauce with onions, garlic, and bell peppers. 2. Dish Name: Bruschetta al Pomodoro Description: Toasted bread topped with fresh tomatoes, garlic, basil, and a drizzle of olive oil. 3. Dish Name: Gnocchi alla Sorrentina Description: Soft potato dumplings baked in a rich tomato sauce with melted mozzarella cheese. 4. Dish Name: Saltimbocca alla Romana Description: Thin slices of veal topped with prosciutto and sage, cooked in a white wine and butter sauce. 5. Dish Name: Cannoli Siciliani Description: Crispy pastry tubes filled with sweet ricotta cheese, chocolate chips, and pistachios.\n",
      "\n",
      "Subtask: Generate 5 Italian dish names and descriptions(2)\n",
      "{'Status': 'Completed'}\n",
      "\n",
      "Is Task Completed: False\n"
     ]
    }
   ],
   "source": [
    "# subtasks_completed should be updated with the Creative Agent's outputs\n",
    "my_agent.status()"
   ]
  },
  {
   "cell_type": "code",
   "execution_count": 15,
   "id": "db731e85-444e-4a9d-8f31-e990594a6bf1",
   "metadata": {},
   "outputs": [
    {
     "name": "stdout",
     "output_type": "stream",
     "text": [
      "Calling function Chef with parameters {'instruction': 'Generate ingredients for the 5 Italian dishes'}\n",
      "\n",
      "### Start of Inner Agent: Chef ###\n",
      "Subtask identified: Research ingredients for Pollo alla Cacciatora\n",
      "Getting LLM to perform the following task: Research ingredients for Pollo alla Cacciatora\n",
      "> Pollo alla Cacciatora is a traditional Italian dish made with the following ingredients: \n",
      "1. Chicken pieces\n",
      "2. Tomato sauce\n",
      "3. Onions\n",
      "4. Garlic\n",
      "5. Bell peppers\n",
      "6. Olive oil\n",
      "7. Salt\n",
      "8. Pepper\n",
      "9. Italian herbs (such as oregano and basil)\n",
      "10. Red wine (optional)\n",
      "11. Chicken broth\n",
      "\n",
      "Subtask identified: Research ingredients for Bruschetta al Pomodoro\n",
      "Getting LLM to perform the following task: Research ingredients for Bruschetta al Pomodoro\n",
      "> Bruschetta al Pomodoro is a classic Italian appetizer made with the following ingredients: \n",
      "1. Sliced bread (such as baguette or ciabatta)\n",
      "2. Fresh tomatoes\n",
      "3. Garlic\n",
      "4. Fresh basil leaves\n",
      "5. Extra virgin olive oil\n",
      "6. Salt\n",
      "7. Pepper\n",
      "\n",
      "Subtask identified: Research ingredients for Gnocchi alla Sorrentina\n",
      "Getting LLM to perform the following task: Research ingredients for Gnocchi alla Sorrentina\n",
      "> Gnocchi alla Sorrentina is a delicious Italian dish that requires the following ingredients: \n",
      "1. Potato gnocchi\n",
      "2. Tomato sauce\n",
      "3. Mozzarella cheese\n",
      "4. Parmesan cheese\n",
      "5. Fresh basil leaves\n",
      "6. Olive oil\n",
      "7. Salt\n",
      "8. Pepper\n",
      "9. Garlic\n",
      "10. Onion\n",
      "\n",
      "Subtask identified: Research ingredients for Saltimbocca alla Romana\n",
      "Getting LLM to perform the following task: Research ingredients for Saltimbocca alla Romana\n",
      "> Saltimbocca alla Romana is a traditional Italian dish made with the following ingredients: \n",
      "1. Veal slices\n",
      "2. Prosciutto\n",
      "3. Sage leaves\n",
      "4. White wine\n",
      "5. Butter\n",
      "6. Salt\n",
      "7. Pepper\n",
      "\n",
      "Subtask identified: Research ingredients for Cannoli Siciliani\n",
      "Getting LLM to perform the following task: Research ingredients for Cannoli Siciliani\n",
      "> Cannoli Siciliani is a traditional Italian dessert that requires the following ingredients: \n",
      "1. Pastry tubes\n",
      "2. Ricotta cheese\n",
      "3. Chocolate chips\n",
      "4. Pistachios\n",
      "5. Sugar\n",
      "6. Cinnamon\n",
      "7. Vanilla extract\n",
      "8. Candied fruit (optional)\n",
      "9. Powdered sugar for dusting\n",
      "\n",
      "Task completed successfully!\n",
      "\n",
      "### End of Inner Agent: Chef ###\n",
      "\n",
      "> {'Status': 'Completed'}\n",
      "\n"
     ]
    }
   ],
   "source": [
    "my_agent.use_agent('Chef', 'Generate ingredients for the 5 Italian dishes')"
   ]
  },
  {
   "cell_type": "code",
   "execution_count": 16,
   "id": "fd1b1fda-7e72-4669-8e40-f01207ad198f",
   "metadata": {
    "tags": []
   },
   "outputs": [
    {
     "name": "stdout",
     "output_type": "stream",
     "text": [
      "Calling function Economist with parameters {'instruction': 'Generate prices for the 5 Italian dishes'}\n",
      "\n",
      "### Start of Inner Agent: Economist ###\n",
      "Subtask identified: Generate prices for Pollo alla Cacciatora\n",
      "Calling function dish_price with parameters {'list_of_dish_names': ['Pollo alla Cacciatora']}\n",
      "> {'Price': {'Pollo alla Cacciatora': '$6'}}\n",
      "\n",
      "Subtask identified: Generate prices for Bruschetta al Pomodoro\n",
      "Calling function dish_price with parameters {'list_of_dish_names': ['Bruschetta al Pomodoro']}\n",
      "> {'Price': {'Bruschetta al Pomodoro': '$7'}}\n",
      "\n",
      "Subtask identified: Generate prices for Gnocchi alla Sorrentina\n",
      "Calling function dish_price with parameters {'list_of_dish_names': ['Gnocchi alla Sorrentina']}\n",
      "> {'Price': {'Gnocchi alla Sorrentina': '$10'}}\n",
      "\n",
      "Subtask identified: Generate prices for Saltimbocca alla Romana\n",
      "Calling function dish_price with parameters {'list_of_dish_names': ['Saltimbocca alla Romana']}\n",
      "> {'Price': {'Saltimbocca alla Romana': '$3'}}\n",
      "\n",
      "Subtask identified: Generate prices for Cannoli Siciliani\n",
      "Calling function dish_price with parameters {'list_of_dish_names': ['Cannoli Siciliani']}\n",
      "> {'Price': {'Cannoli Siciliani': '$9'}}\n",
      "\n",
      "Task completed successfully!\n",
      "\n",
      "### End of Inner Agent: Economist ###\n",
      "\n",
      "> {'Status': 'Completed'}\n",
      "\n"
     ]
    }
   ],
   "source": [
    "my_agent.use_agent('Economist', 'Generate prices for the 5 Italian dishes')"
   ]
  },
  {
   "cell_type": "code",
   "execution_count": 17,
   "id": "3d0ff21d-3684-49ad-9a59-8d63e8c181aa",
   "metadata": {
    "tags": []
   },
   "outputs": [
    {
     "name": "stdout",
     "output_type": "stream",
     "text": [
      "Calling function Boss with parameters {'instruction': 'Choose only 3 Italian dishes to serve that will please Gordon Ramsay'}\n",
      "\n",
      "### Start of Inner Agent: Boss ###\n",
      "Subtask identified: Ensure the dishes are of high quality and authentic\n",
      "Getting LLM to perform the following task: Ensure the dishes are of high quality and authentic\n",
      "> As the final quality check agent, I have reviewed the 5 menu items based on Italian food choices. I can confirm that all dishes are of high quality and authentic. The menu items are as follows:\n",
      "\n",
      "1. Pollo alla Cacciatora\n",
      "Description: Tender chicken cooked in a savory tomato sauce with onions, garlic, and bell peppers.\n",
      "Ingredients: Chicken pieces, Tomato sauce, Onions, Garlic, Bell peppers, Olive oil, Salt, Pepper, Italian herbs, Red wine (optional), Chicken broth.\n",
      "Price: $6\n",
      "\n",
      "2. Bruschetta al Pomodoro\n",
      "Description: Toasted bread topped with fresh tomatoes, garlic, basil, and a drizzle of olive oil.\n",
      "Ingredients: Sliced bread, Fresh tomatoes, Garlic, Fresh basil leaves, Extra virgin olive oil, Salt, Pepper.\n",
      "Price: $7\n",
      "\n",
      "3. Gnocchi alla Sorrentina\n",
      "Description: Soft potato dumplings baked in a rich tomato sauce with melted mozzarella cheese.\n",
      "Ingredients: Potato gnocchi, Tomato sauce, Mozzarella cheese, Parmesan cheese, Fresh basil leaves, Olive oil, Salt, Pepper, Garlic, Onion.\n",
      "Price: $10\n",
      "\n",
      "4. Saltimbocca alla Romana\n",
      "Description: Thin slices of veal topped with prosciutto and sage, cooked in a white wine and butter sauce.\n",
      "Ingredients: Veal slices, Prosciutto, Sage leaves, White wine, Butter, Salt, Pepper.\n",
      "Price: $3\n",
      "\n",
      "5. Cannoli Siciliani\n",
      "Description: Crispy pastry tubes filled with sweet ricotta cheese, chocolate chips, and pistachios.\n",
      "Ingredients: Pastry tubes, Ricotta cheese, Chocolate chips, Pistachios, Sugar, Cinnamon, Vanilla extract, Candied fruit (optional), Powdered sugar for dusting.\n",
      "Price: $9\n",
      "\n",
      "I can assure you that these dishes meet the standards of authenticity and quality for traditional Italian cuisine.\n",
      "\n",
      "Subtask identified: Select 3 Italian dishes that align with Gordon Ramsay's preferences\n",
      "Getting LLM to perform the following task: Select 3 Italian dishes that align with Gordon Ramsay's preferences\n",
      "> As the final quality check agent, I have selected 3 Italian dishes that align with Gordon Ramsay's preferences. The chosen dishes are:\n",
      "\n",
      "1. Risotto ai Funghi\n",
      "Description: Creamy risotto cooked with a variety of mushrooms, finished with a drizzle of truffle oil.\n",
      "Ingredients: Arborio rice, Mixed mushrooms, Truffle oil, Parmesan cheese, Onion, Garlic, Vegetable broth, Butter, White wine, Salt, Black pepper.\n",
      "Price: $12\n",
      "\n",
      "2. Osso Buco alla Milanese\n",
      "Description: Tender veal shanks braised in a rich tomato and vegetable sauce, served with gremolata.\n",
      "Ingredients: Veal shanks, Tomato, Carrot, Celery, Onion, Garlic, White wine, Beef broth, Gremolata (lemon zest, garlic, parsley), Olive oil, Salt, Black pepper.\n",
      "Price: $18\n",
      "\n",
      "3. Tiramisu\n",
      "Description: A decadent dessert made with layers of coffee-soaked ladyfingers, mascarpone cheese, and cocoa powder.\n",
      "Ingredients: Ladyfingers, Mascarpone cheese, Eggs, Sugar, Coffee, Cocoa powder, Marsala wine, Vanilla extract.\n",
      "Price: $8\n",
      "\n",
      "These dishes are known for their exquisite flavors and attention to detail, which are qualities that resonate with Gordon Ramsay's culinary preferences.\n",
      "\n",
      "Task completed successfully!\n",
      "\n",
      "### End of Inner Agent: Boss ###\n",
      "\n",
      "> {'Status': 'Completed'}\n",
      "\n"
     ]
    }
   ],
   "source": [
    "my_agent.use_agent('Boss', 'Choose only 3 Italian dishes to serve that will please Gordon Ramsay')"
   ]
  },
  {
   "cell_type": "code",
   "execution_count": 18,
   "id": "9290ba86-c1a7-4d68-ba2e-5ffbe292f403",
   "metadata": {
    "tags": []
   },
   "outputs": [
    {
     "name": "stdout",
     "output_type": "stream",
     "text": [
      "Risotto ai Funghi, Creamy risotto cooked with a variety of mushrooms, finished with a drizzle of truffle oil, Arborio rice, Mixed mushrooms, Truffle oil, Parmesan cheese, Onion, Garlic, Vegetable broth, Butter, White wine, Salt, Black pepper, $12\n",
      "Osso Buco alla Milanese, Tender veal shanks braised in a rich tomato and vegetable sauce, served with gremolata, Veal shanks, Tomato, Carrot, Celery, Onion, Garlic, White wine, Beef broth, Gremolata (lemon zest, garlic, parsley), Olive oil, Salt, Black pepper, $18\n",
      "Tiramisu, A decadent dessert made with layers of coffee-soaked ladyfingers, mascarpone cheese, and cocoa powder, Ladyfingers, Mascarpone cheese, Eggs, Sugar, Coffee, Cocoa powder, Marsala wine, Vanilla extract, $8\n"
     ]
    }
   ],
   "source": [
    "# Get a targeted response from your agent, and add this to subtask_completed\n",
    "output = my_agent.reply_user('Choose the 3 menu items for Gordon Ramsay line by line in this format - Dish Name, Dish Description, Dish Ingredients, Dish Price')"
   ]
  },
  {
   "cell_type": "code",
   "execution_count": 19,
   "id": "8c134d97-36fc-4f33-880a-fbb79e2388a5",
   "metadata": {},
   "outputs": [
    {
     "name": "stdout",
     "output_type": "stream",
     "text": [
      "Agent Name: Menu Creator\n",
      "Agent Description: Creates a menu for a restaurant. Menu item includes Name, Description, Ingredients, Pricing.\n",
      "Available Functions: ['use_llm', 'end_task', 'Chef', 'Boss', 'Creative Writer', 'Economist']\n",
      "Task: Generate 5 menu items with name, description, ingredients and price based on Italian food choices. Ensure all parts of menu are generated.\n",
      "Subtasks Completed:\n",
      "Subtask: Research traditional Italian dishes\n",
      "1. Dish Name: Risotto ai Funghi Description: Creamy risotto cooked with a variety of mushrooms, finished with a drizzle of truffle oil. 2. Dish Name: Osso Buco alla Milanese Description: Tender veal shanks braised in a rich tomato and vegetable sauce, served with gremolata. 3. Dish Name: Caprese Salad Description: A classic Italian salad made with fresh tomatoes, mozzarella cheese, basil leaves, and a drizzle of balsamic glaze. 4. Dish Name: Tiramisu Description: A decadent dessert made with layers of coffee-soaked ladyfingers, mascarpone cheese, and cocoa powder. 5. Dish Name: Spaghetti Carbonara Description: Al dente spaghetti tossed in a creamy sauce made with eggs, pecorino cheese, pancetta, and black pepper.\n",
      "\n",
      "Subtask: Generate 5 Italian dish names and descriptions\n",
      "1. Dish Name: Pollo alla Cacciatora Description: Tender chicken cooked in a savory tomato sauce with onions, garlic, and bell peppers. 2. Dish Name: Bruschetta al Pomodoro Description: Toasted bread topped with fresh tomatoes, garlic, basil, and a drizzle of olive oil. 3. Dish Name: Gnocchi alla Sorrentina Description: Soft potato dumplings baked in a rich tomato sauce with melted mozzarella cheese. 4. Dish Name: Saltimbocca alla Romana Description: Thin slices of veal topped with prosciutto and sage, cooked in a white wine and butter sauce. 5. Dish Name: Cannoli Siciliani Description: Crispy pastry tubes filled with sweet ricotta cheese, chocolate chips, and pistachios.\n",
      "\n",
      "Subtask: Generate 5 Italian dish names and descriptions(2)\n",
      "{'Status': 'Completed'}\n",
      "\n",
      "Subtask: Research ingredients for Pollo alla Cacciatora\n",
      "Pollo alla Cacciatora is a traditional Italian dish made with the following ingredients: \n",
      "1. Chicken pieces\n",
      "2. Tomato sauce\n",
      "3. Onions\n",
      "4. Garlic\n",
      "5. Bell peppers\n",
      "6. Olive oil\n",
      "7. Salt\n",
      "8. Pepper\n",
      "9. Italian herbs (such as oregano and basil)\n",
      "10. Red wine (optional)\n",
      "11. Chicken broth\n",
      "\n",
      "Subtask: Research ingredients for Bruschetta al Pomodoro\n",
      "Bruschetta al Pomodoro is a classic Italian appetizer made with the following ingredients: \n",
      "1. Sliced bread (such as baguette or ciabatta)\n",
      "2. Fresh tomatoes\n",
      "3. Garlic\n",
      "4. Fresh basil leaves\n",
      "5. Extra virgin olive oil\n",
      "6. Salt\n",
      "7. Pepper\n",
      "\n",
      "Subtask: Research ingredients for Gnocchi alla Sorrentina\n",
      "Gnocchi alla Sorrentina is a delicious Italian dish that requires the following ingredients: \n",
      "1. Potato gnocchi\n",
      "2. Tomato sauce\n",
      "3. Mozzarella cheese\n",
      "4. Parmesan cheese\n",
      "5. Fresh basil leaves\n",
      "6. Olive oil\n",
      "7. Salt\n",
      "8. Pepper\n",
      "9. Garlic\n",
      "10. Onion\n",
      "\n",
      "Subtask: Research ingredients for Saltimbocca alla Romana\n",
      "Saltimbocca alla Romana is a traditional Italian dish made with the following ingredients: \n",
      "1. Veal slices\n",
      "2. Prosciutto\n",
      "3. Sage leaves\n",
      "4. White wine\n",
      "5. Butter\n",
      "6. Salt\n",
      "7. Pepper\n",
      "\n",
      "Subtask: Research ingredients for Cannoli Siciliani\n",
      "Cannoli Siciliani is a traditional Italian dessert that requires the following ingredients: \n",
      "1. Pastry tubes\n",
      "2. Ricotta cheese\n",
      "3. Chocolate chips\n",
      "4. Pistachios\n",
      "5. Sugar\n",
      "6. Cinnamon\n",
      "7. Vanilla extract\n",
      "8. Candied fruit (optional)\n",
      "9. Powdered sugar for dusting\n",
      "\n",
      "Subtask: Generate ingredients for the 5 Italian dishes\n",
      "{'Status': 'Completed'}\n",
      "\n",
      "Subtask: Generate prices for Pollo alla Cacciatora\n",
      "{'Price': {'Pollo alla Cacciatora': '$6'}}\n",
      "\n",
      "Subtask: Generate prices for Bruschetta al Pomodoro\n",
      "{'Price': {'Bruschetta al Pomodoro': '$7'}}\n",
      "\n",
      "Subtask: Generate prices for Gnocchi alla Sorrentina\n",
      "{'Price': {'Gnocchi alla Sorrentina': '$10'}}\n",
      "\n",
      "Subtask: Generate prices for Saltimbocca alla Romana\n",
      "{'Price': {'Saltimbocca alla Romana': '$3'}}\n",
      "\n",
      "Subtask: Generate prices for Cannoli Siciliani\n",
      "{'Price': {'Cannoli Siciliani': '$9'}}\n",
      "\n",
      "Subtask: Generate prices for the 5 Italian dishes\n",
      "{'Status': 'Completed'}\n",
      "\n",
      "Subtask: Ensure the dishes are of high quality and authentic\n",
      "As the final quality check agent, I have reviewed the 5 menu items based on Italian food choices. I can confirm that all dishes are of high quality and authentic. The menu items are as follows:\n",
      "\n",
      "1. Pollo alla Cacciatora\n",
      "Description: Tender chicken cooked in a savory tomato sauce with onions, garlic, and bell peppers.\n",
      "Ingredients: Chicken pieces, Tomato sauce, Onions, Garlic, Bell peppers, Olive oil, Salt, Pepper, Italian herbs, Red wine (optional), Chicken broth.\n",
      "Price: $6\n",
      "\n",
      "2. Bruschetta al Pomodoro\n",
      "Description: Toasted bread topped with fresh tomatoes, garlic, basil, and a drizzle of olive oil.\n",
      "Ingredients: Sliced bread, Fresh tomatoes, Garlic, Fresh basil leaves, Extra virgin olive oil, Salt, Pepper.\n",
      "Price: $7\n",
      "\n",
      "3. Gnocchi alla Sorrentina\n",
      "Description: Soft potato dumplings baked in a rich tomato sauce with melted mozzarella cheese.\n",
      "Ingredients: Potato gnocchi, Tomato sauce, Mozzarella cheese, Parmesan cheese, Fresh basil leaves, Olive oil, Salt, Pepper, Garlic, Onion.\n",
      "Price: $10\n",
      "\n",
      "4. Saltimbocca alla Romana\n",
      "Description: Thin slices of veal topped with prosciutto and sage, cooked in a white wine and butter sauce.\n",
      "Ingredients: Veal slices, Prosciutto, Sage leaves, White wine, Butter, Salt, Pepper.\n",
      "Price: $3\n",
      "\n",
      "5. Cannoli Siciliani\n",
      "Description: Crispy pastry tubes filled with sweet ricotta cheese, chocolate chips, and pistachios.\n",
      "Ingredients: Pastry tubes, Ricotta cheese, Chocolate chips, Pistachios, Sugar, Cinnamon, Vanilla extract, Candied fruit (optional), Powdered sugar for dusting.\n",
      "Price: $9\n",
      "\n",
      "I can assure you that these dishes meet the standards of authenticity and quality for traditional Italian cuisine.\n",
      "\n",
      "Subtask: Select 3 Italian dishes that align with Gordon Ramsay's preferences\n",
      "As the final quality check agent, I have selected 3 Italian dishes that align with Gordon Ramsay's preferences. The chosen dishes are:\n",
      "\n",
      "1. Risotto ai Funghi\n",
      "Description: Creamy risotto cooked with a variety of mushrooms, finished with a drizzle of truffle oil.\n",
      "Ingredients: Arborio rice, Mixed mushrooms, Truffle oil, Parmesan cheese, Onion, Garlic, Vegetable broth, Butter, White wine, Salt, Black pepper.\n",
      "Price: $12\n",
      "\n",
      "2. Osso Buco alla Milanese\n",
      "Description: Tender veal shanks braised in a rich tomato and vegetable sauce, served with gremolata.\n",
      "Ingredients: Veal shanks, Tomato, Carrot, Celery, Onion, Garlic, White wine, Beef broth, Gremolata (lemon zest, garlic, parsley), Olive oil, Salt, Black pepper.\n",
      "Price: $18\n",
      "\n",
      "3. Tiramisu\n",
      "Description: A decadent dessert made with layers of coffee-soaked ladyfingers, mascarpone cheese, and cocoa powder.\n",
      "Ingredients: Ladyfingers, Mascarpone cheese, Eggs, Sugar, Coffee, Cocoa powder, Marsala wine, Vanilla extract.\n",
      "Price: $8\n",
      "\n",
      "These dishes are known for their exquisite flavors and attention to detail, which are qualities that resonate with Gordon Ramsay's culinary preferences.\n",
      "\n",
      "Subtask: Choose only 3 Italian dishes to serve that will please Gordon Ramsay\n",
      "{'Status': 'Completed'}\n",
      "\n",
      "Subtask: Choose the 3 menu items for Gordon Ramsay line by line in this format - Dish Name, Dish Description, Dish Ingredients, Dish Price\n",
      "Risotto ai Funghi, Creamy risotto cooked with a variety of mushrooms, finished with a drizzle of truffle oil, Arborio rice, Mixed mushrooms, Truffle oil, Parmesan cheese, Onion, Garlic, Vegetable broth, Butter, White wine, Salt, Black pepper, $12\n",
      "Osso Buco alla Milanese, Tender veal shanks braised in a rich tomato and vegetable sauce, served with gremolata, Veal shanks, Tomato, Carrot, Celery, Onion, Garlic, White wine, Beef broth, Gremolata (lemon zest, garlic, parsley), Olive oil, Salt, Black pepper, $18\n",
      "Tiramisu, A decadent dessert made with layers of coffee-soaked ladyfingers, mascarpone cheese, and cocoa powder, Ladyfingers, Mascarpone cheese, Eggs, Sugar, Coffee, Cocoa powder, Marsala wine, Vanilla extract, $8\n",
      "\n",
      "Is Task Completed: False\n"
     ]
    }
   ],
   "source": [
    "my_agent.status()"
   ]
  },
  {
   "cell_type": "code",
   "execution_count": 20,
   "id": "8bdfad22-3b67-42d5-a4c6-cfd607dd22b1",
   "metadata": {
    "tags": []
   },
   "outputs": [
    {
     "name": "stdout",
     "output_type": "stream",
     "text": [
      "Risotto ai Funghi, Creamy risotto cooked with a variety of mushrooms, finished with a drizzle of truffle oil, Arborio rice, Mixed mushrooms, Truffle oil, Parmesan cheese, Onion, Garlic, Vegetable broth, Butter, White wine, Salt, Black pepper, $12\n",
      "Osso Buco alla Milanese, Tender veal shanks braised in a rich tomato and vegetable sauce, served with gremolata, Veal shanks, Tomato, Carrot, Celery, Onion, Garlic, White wine, Beef broth, Gremolata (lemon zest, garlic, parsley), Olive oil, Salt, Black pepper, $18\n",
      "Tiramisu, A decadent dessert made with layers of coffee-soaked ladyfingers, mascarpone cheese, and cocoa powder, Ladyfingers, Mascarpone cheese, Eggs, Sugar, Coffee, Cocoa powder, Marsala wine, Vanilla extract, $8\n"
     ]
    }
   ],
   "source": [
    "# you can summarise the subtasks_history for the next task\n",
    "my_agent.summarise_subtasks_completed('Generate the 3 Italian dishes for Gordon Ramsay in menu format')"
   ]
  },
  {
   "cell_type": "code",
   "execution_count": 21,
   "id": "ea8ebd26-25e2-41b3-a2a3-78f03d324f3b",
   "metadata": {
    "tags": []
   },
   "outputs": [
    {
     "name": "stdout",
     "output_type": "stream",
     "text": [
      "Agent Name: Menu Creator\n",
      "Agent Description: Creates a menu for a restaurant. Menu item includes Name, Description, Ingredients, Pricing.\n",
      "Available Functions: ['use_llm', 'end_task', 'Chef', 'Boss', 'Creative Writer', 'Economist']\n",
      "Task: Generate 5 menu items with name, description, ingredients and price based on Italian food choices. Ensure all parts of menu are generated.\n",
      "Subtasks Completed:\n",
      "Subtask: Summary of Generate the 3 Italian dishes for Gordon Ramsay in menu format\n",
      "Risotto ai Funghi, Creamy risotto cooked with a variety of mushrooms, finished with a drizzle of truffle oil, Arborio rice, Mixed mushrooms, Truffle oil, Parmesan cheese, Onion, Garlic, Vegetable broth, Butter, White wine, Salt, Black pepper, $12\n",
      "Osso Buco alla Milanese, Tender veal shanks braised in a rich tomato and vegetable sauce, served with gremolata, Veal shanks, Tomato, Carrot, Celery, Onion, Garlic, White wine, Beef broth, Gremolata (lemon zest, garlic, parsley), Olive oil, Salt, Black pepper, $18\n",
      "Tiramisu, A decadent dessert made with layers of coffee-soaked ladyfingers, mascarpone cheese, and cocoa powder, Ladyfingers, Mascarpone cheese, Eggs, Sugar, Coffee, Cocoa powder, Marsala wine, Vanilla extract, $8\n",
      "\n",
      "Is Task Completed: False\n"
     ]
    }
   ],
   "source": [
    "# subtask has been summarised, helping to reduce the context significantly for later task generation\n",
    "my_agent.status()"
   ]
  },
  {
   "cell_type": "code",
   "execution_count": 22,
   "id": "c7887297-c007-42fd-a21e-5196afef605a",
   "metadata": {
    "tags": []
   },
   "outputs": [
    {
     "name": "stdout",
     "output_type": "stream",
     "text": [
      "Removed last subtask from subtasks_completed: ('Summary of Generate the 3 Italian dishes for Gordon Ramsay in menu format', 'Risotto ai Funghi, Creamy risotto cooked with a variety of mushrooms, finished with a drizzle of truffle oil, Arborio rice, Mixed mushrooms, Truffle oil, Parmesan cheese, Onion, Garlic, Vegetable broth, Butter, White wine, Salt, Black pepper, $12\\nOsso Buco alla Milanese, Tender veal shanks braised in a rich tomato and vegetable sauce, served with gremolata, Veal shanks, Tomato, Carrot, Celery, Onion, Garlic, White wine, Beef broth, Gremolata (lemon zest, garlic, parsley), Olive oil, Salt, Black pepper, $18\\nTiramisu, A decadent dessert made with layers of coffee-soaked ladyfingers, mascarpone cheese, and cocoa powder, Ladyfingers, Mascarpone cheese, Eggs, Sugar, Coffee, Cocoa powder, Marsala wine, Vanilla extract, $8')\n"
     ]
    }
   ],
   "source": [
    "# we also allow you to manually remove the last item added to subtasks_completed, so you can revert your agent state if needed for backtracking\n",
    "my_agent.remove_last_subtask()"
   ]
  },
  {
   "cell_type": "code",
   "execution_count": 23,
   "id": "35340b71-d7ea-4f28-ad0a-dddf6099737f",
   "metadata": {
    "tags": []
   },
   "outputs": [
    {
     "name": "stdout",
     "output_type": "stream",
     "text": [
      "Agent Name: Menu Creator\n",
      "Agent Description: Creates a menu for a restaurant. Menu item includes Name, Description, Ingredients, Pricing.\n",
      "Available Functions: ['use_llm', 'end_task', 'Chef', 'Boss', 'Creative Writer', 'Economist']\n",
      "Task: Generate 5 menu items with name, description, ingredients and price based on Italian food choices. Ensure all parts of menu are generated.\n",
      "Subtasks Completed: None\n",
      "Is Task Completed: False\n"
     ]
    }
   ],
   "source": [
    "# visualise your agent's status - should have empty subtasks_completed\n",
    "my_agent.status()"
   ]
  },
  {
   "cell_type": "code",
   "execution_count": null,
   "id": "6dec8c56-7463-4dcf-8246-115583858de9",
   "metadata": {},
   "outputs": [],
   "source": []
  }
 ],
 "metadata": {
  "kernelspec": {
   "display_name": "Python 3 (ipykernel)",
   "language": "python",
   "name": "python3"
  },
  "language_info": {
   "codemirror_mode": {
    "name": "ipython",
    "version": 3
   },
   "file_extension": ".py",
   "mimetype": "text/x-python",
   "name": "python",
   "nbconvert_exporter": "python",
   "pygments_lexer": "ipython3",
   "version": "3.11.3"
  }
 },
 "nbformat": 4,
 "nbformat_minor": 5
}
