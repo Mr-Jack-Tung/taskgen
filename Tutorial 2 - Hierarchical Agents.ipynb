{
 "cells": [
  {
   "cell_type": "markdown",
   "id": "2fa1e388-b8f4-4fa3-be5a-ba7c6caae038",
   "metadata": {
    "tags": []
   },
   "source": [
    "# Tutorial 2 - Hierarchical Agents\n",
    "\n",
    "## Functionalities:\n",
    "- An agent (referred as meta agent) can also assign other agents (referred as inner agents) as the function call, thereby creating a hierarchical structure\n",
    "- Whenever the inner agent is called, we will run the full inner agent's process until termination\n",
    "- Maximum number of steps for each agent (meta agent or inner agent) can be defined in `max_subtasks` (default: 5) variable when initialising agent\n",
    "\n",
    "## Additional Details:\n",
    "- The inner agent will take in meta agent's instruction as input\n",
    "- In addition, the inner agent will also have access to meta agent's task and subtasks completed for global context\n",
    "- Inner agent's output will directly go into meta agent's subtasks completed dictionary, enabling it to directly update global context\n",
    "\n",
    "## Design Philosophy:\n",
    "- Bottom layers can get context of the top layers for more context-specific generation\n",
    "- Top layers choose bottom layers in a hierarchical fashion so as to limit the number of choices at each level for better performance\n",
    "- `subtasks_completed` serves as the global context for the meta agents and the inner agents, and can be summarised as needed, e.g. when performing a new task to filter out irrelevant information "
   ]
  },
  {
   "cell_type": "markdown",
   "id": "a3c27cfb-0612-45a1-8cec-fecd59bcd7d2",
   "metadata": {},
   "source": [
    "# Install TaskGen"
   ]
  },
  {
   "cell_type": "code",
   "execution_count": 1,
   "id": "c4e7f7e0-3656-41a0-afa2-b91f5640ab04",
   "metadata": {},
   "outputs": [],
   "source": [
    "# !pip install taskgen-ai"
   ]
  },
  {
   "cell_type": "code",
   "execution_count": 2,
   "id": "076adf5e-beb1-4b19-9078-34ab1b7d9afe",
   "metadata": {
    "tags": []
   },
   "outputs": [],
   "source": [
    "# Set up API key and do the necessary imports\n",
    "import os\n",
    "from taskgen import *\n",
    "\n",
    "os.environ['OPENAI_API_KEY'] = '<YOUR API KEY HERE>'"
   ]
  },
  {
   "cell_type": "markdown",
   "id": "d485cc60-ad94-49ad-8a2d-204368a7065d",
   "metadata": {},
   "source": [
    "# Define Agents and Meta Agents\n",
    "- You can also create a Meta Agent that uses other Agents (referred to as Inner Agents) as functions\n",
    "- Create your Meta agent using `Agent()` (Note: No different from usual process of creating Agents - your Meta Agent is also an Agent)\n",
    "- Set up an Inner Agent list and assign it to your Meta agent using `assign_agents(agent_list)`\n",
    "\n",
    "## Example Meta Agent Setup\n",
    "```python\n",
    "# Define your meta-agent\n",
    "my_agent = Agent('Menu Creator', \n",
    "                 'Creates a menu for a restaurant. Menu item includes Name, Description, Ingredients, Pricing.')\n",
    "\n",
    "# Define your agent list. Note you can just assign functions to the agent in place using .assign_functions(function_list)\n",
    "agent_list = [\n",
    "    Agent('Chef', 'Takes in dish names and generates ingredients for each of them. Does not generate prices.'),\n",
    "    Agent('Boss', 'Does final quality check on menu items'),\n",
    "    Agent('Creative Writer', 'Takes in a cuisine type and generates interesting dish names and descriptions.', max_subtasks = 2),\n",
    "    Agent('Economist', 'Takes in dish names and comes up with pricing for each of them').assign_functions([fp])\n",
    "    ]\n",
    "\n",
    "my_agent.assign_agents(agent_list)\n",
    "```\n",
    "\n",
    "## Run the Meta Agent\n",
    "- Let us run the agent and see the interactions between the Meta Agent and Inner Agents to solve the task!\n",
    "```python\n",
    "output = my_agent.run('Generate 5 menu items with name, description, ingredients and price based on Italian food choices. Ensure all parts of menu are generated.')\n",
    "```"
   ]
  },
  {
   "cell_type": "code",
   "execution_count": 3,
   "id": "1f2304be-b9fa-4292-b20f-2ac6c6909015",
   "metadata": {
    "tags": []
   },
   "outputs": [],
   "source": [
    "def random_number_from_string(input_string):\n",
    "    ''' Returns a random number between 1 and 10 when given an input string '''\n",
    "    import hashlib\n",
    "    import random\n",
    "    # Hash the input string\n",
    "    hashed_string = hashlib.sha256(input_string.encode()).hexdigest()\n",
    "    \n",
    "    # Convert the hashed string to an integer\n",
    "    hashed_integer = int(hashed_string, 16)\n",
    "    \n",
    "    # Seed the random number generator with the hashed integer\n",
    "    random.seed(hashed_integer)\n",
    "    \n",
    "    # Generate a random number between 1 and 10\n",
    "    return random.randint(1, 10)"
   ]
  },
  {
   "cell_type": "code",
   "execution_count": 4,
   "id": "7222e82b-e030-4494-894d-41a61370c747",
   "metadata": {
    "tags": []
   },
   "outputs": [],
   "source": [
    "# assign a dish pricing function for economist\n",
    "# Note: Try to make the output informative that is understandable by the Agent - use free text or json to explain the output so that someone can understand without the input\n",
    "def dish_price(list_of_dish_names: list) -> dict:\n",
    "    ''' Takes in list_of_dish_names and outputs price '''\n",
    "    if not isinstance(list_of_dish_names, list):\n",
    "        list_of_food_items = [list_of_dish_names]\n",
    "    output = {}\n",
    "    for each in list_of_dish_names:\n",
    "        output[each] = '$'+str(random_number_from_string(each))\n",
    "    return output\n",
    "    \n",
    "fp = Function(fn_description = \"Takes in <list_of_dish_names: list> and outputs price\", \n",
    "              output_format = {\"Price\": \"Dish name as key and price as value\"}, \n",
    "              examples = {\"list_of_dish_names\": [\"Pasta\", \"Pizza\"], \"Price\": [{'Pasta': '$5'}, {'Pizza':'$2'}]},\n",
    "              external_fn = dish_price)"
   ]
  },
  {
   "cell_type": "code",
   "execution_count": 5,
   "id": "fc770857-5ca0-43a1-a72f-5df7a97f7c02",
   "metadata": {
    "tags": []
   },
   "outputs": [],
   "source": [
    "# Define your meta-agent\n",
    "my_agent = Agent('Menu Creator', \n",
    "                 'Creates a menu for a restaurant. Menu item includes Name, Description, Ingredients, Pricing.')"
   ]
  },
  {
   "cell_type": "code",
   "execution_count": 6,
   "id": "7302c9ec-6e27-40c0-8a3c-3cd350964027",
   "metadata": {
    "jp-MarkdownHeadingCollapsed": true,
    "tags": []
   },
   "outputs": [],
   "source": [
    "# Define your agent list. Note you can just assign functions to the agent in place using .assign_functions(function_list)\n",
    "agent_list = [\n",
    "    Agent('Chef', 'Takes in dish names and generates ingredients for each of them. Does not generate prices.'),\n",
    "    Agent('Boss', 'Does final quality check on menu items'),\n",
    "    Agent('Creative Writer', 'Takes in a cuisine type and generates interesting dish names and descriptions. Does not generate prices or ingredients.', max_subtasks = 1),\n",
    "    Agent('Economist', 'Takes in dish names and comes up with pricing for each of them').assign_functions([fp])\n",
    "    ]"
   ]
  },
  {
   "cell_type": "code",
   "execution_count": 7,
   "id": "d4e9c84e-0ffa-4450-9522-6e21d86bad29",
   "metadata": {
    "tags": []
   },
   "outputs": [
    {
     "data": {
      "text/plain": [
       "<taskgen.agent.Agent at 0x10ca8edd0>"
      ]
     },
     "execution_count": 7,
     "metadata": {},
     "output_type": "execute_result"
    }
   ],
   "source": [
    "my_agent.assign_agents(agent_list)"
   ]
  },
  {
   "cell_type": "markdown",
   "id": "b3a63cf7-0c50-4c6d-993a-8cee1de738d9",
   "metadata": {},
   "source": [
    "# Approach 1: Run a generic task with the Meta-Agent\n",
    "- Let us run a general task to create 5 menu items for an Italian restaurant\n",
    "- You can also specify how Agents interact with one another in the task, otherwise the Meta-Agent will infer what should be done"
   ]
  },
  {
   "cell_type": "code",
   "execution_count": 8,
   "id": "4aabd0c2-6470-43e1-b476-d77e2c85c0bb",
   "metadata": {
    "tags": []
   },
   "outputs": [
    {
     "name": "stdout",
     "output_type": "stream",
     "text": [
      "Subtask identified: Use Creative Writer to generate dish names and descriptions for Italian food choices\n",
      "Calling function Creative Writer with parameters {'instruction': 'Use Creative Writer to generate dish names and descriptions for Italian food choices'}\n",
      "\n",
      "### Start of Inner Agent: Creative Writer ###\n",
      "Subtask identified: Use Creative Writer to generate dish names and descriptions for Italian food choices\n",
      "Getting LLM to perform the following task: Use Creative Writer to generate dish names and descriptions for Italian food choices\n",
      "> {'Menu': [{'name': 'Ravioli di Zucca', 'description': 'Homemade ravioli filled with roasted pumpkin, ricotta cheese, and sage butter sauce.'}, {'name': 'Pollo alla Cacciatora', 'description': 'Tender chicken cooked in a rich tomato sauce with onions, peppers, and mushrooms.'}, {'name': 'Tiramisu Classico', 'description': 'Traditional Italian dessert made with layers of coffee-soaked ladyfingers and mascarpone cream, dusted with cocoa powder.'}, {'name': \"Penne all'Arrabbiata\", 'description': 'Penne pasta tossed in a spicy tomato sauce with garlic, chili flakes, and fresh parsley.'}, {'name': 'Osso Buco', 'description': 'Braised veal shanks cooked until tender in a flavorful broth with vegetables and gremolata.'}]}\n",
      "\n",
      "### End of Inner Agent: Creative Writer ###\n",
      "\n",
      "> {'Status': 'Completed'}\n",
      "\n",
      "Subtask identified: Generate ingredients and pricing for the Italian dishes provided by the Creative Writer\n",
      "Calling function Chef with parameters {'instruction': 'Generate ingredients and pricing for the Italian dishes provided by the Creative Writer'}\n",
      "\n",
      "### Start of Inner Agent: Chef ###\n",
      "Subtask identified: Generate ingredients for the Italian dishes: Ravioli di Zucca, Pollo alla Cacciatora, Tiramisu Classico, Penne all'Arrabbiata, Osso Buco\n",
      "Getting LLM to perform the following task: Generate ingredients for the Italian dishes: Ravioli di Zucca, Pollo alla Cacciatora, Tiramisu Classico, Penne all'Arrabbiata, Osso Buco\n",
      "> As an agent named Chef, I will generate the ingredients for the Italian dishes as follows: \n",
      "1. Ravioli di Zucca: Roasted pumpkin, ricotta cheese, sage, butter, flour, eggs, salt, pepper\n",
      "2. Pollo alla Cacciatora: Chicken, tomato sauce, onions, peppers, mushrooms, olive oil, garlic, salt, pepper, herbs\n",
      "3. Tiramisu Classico: Ladyfingers, mascarpone cheese, eggs, sugar, coffee, cocoa powder\n",
      "4. Penne all'Arrabbiata: Penne pasta, tomato sauce, garlic, chili flakes, parsley, olive oil, salt, pepper\n",
      "5. Osso Buco: Veal shanks, broth, vegetables, gremolata (lemon zest, garlic, parsley), flour, olive oil, salt, pepper\n",
      "\n",
      "Subtask identified: Generate pricing for the Italian dishes: Ravioli di Zucca, Pollo alla Cacciatora, Tiramisu Classico, Penne all'Arrabbiata, Osso Buco\n",
      "Getting LLM to perform the following task: Generate pricing for the Italian dishes: Ravioli di Zucca, Pollo alla Cacciatora, Tiramisu Classico, Penne all'Arrabbiata, Osso Buco\n",
      "> As an agent named Chef, I will not generate prices for the Italian dishes. I have provided the ingredients for the dishes Ravioli di Zucca, Pollo alla Cacciatora, Tiramisu Classico, Penne all'Arrabbiata, and Osso Buco as follows: \n",
      "1. Ravioli di Zucca: Roasted pumpkin, ricotta cheese, sage, butter, flour, eggs, salt, pepper\n",
      "2. Pollo alla Cacciatora: Chicken, tomato sauce, onions, peppers, mushrooms, olive oil, garlic, salt, pepper, herbs\n",
      "3. Tiramisu Classico: Ladyfingers, mascarpone cheese, eggs, sugar, coffee, cocoa powder\n",
      "4. Penne all'Arrabbiata: Penne pasta, tomato sauce, garlic, chili flakes, parsley, olive oil, salt, pepper\n",
      "5. Osso Buco: Veal shanks, broth, vegetables, gremolata (lemon zest, garlic, parsley), flour, olive oil, salt, pepper\n",
      "\n",
      "Task completed successfully!\n",
      "\n",
      "### End of Inner Agent: Chef ###\n",
      "\n",
      "> {'Status': 'Completed'}\n",
      "\n",
      "Task completed successfully!\n",
      "\n"
     ]
    }
   ],
   "source": [
    "output = my_agent.run('Generate 5 menu items with name, description, ingredients and price based on Italian food choices. Ensure all parts of menu are generated.')"
   ]
  },
  {
   "cell_type": "code",
   "execution_count": 9,
   "id": "b6ec6b0f-9a70-4b47-b6ea-1c29cd88116f",
   "metadata": {
    "tags": []
   },
   "outputs": [
    {
     "name": "stdout",
     "output_type": "stream",
     "text": [
      "I have created a menu with 5 Italian food choices. Each menu item includes a name, description, ingredients, and pricing. Here are the menu items:\n",
      "1. Name: Ravioli di Zucca\n",
      "   Description: Homemade ravioli filled with roasted pumpkin, ricotta cheese, and sage butter sauce.\n",
      "   Ingredients: Roasted pumpkin, ricotta cheese, sage, butter, flour, eggs, salt, pepper\n",
      "   Pricing: Not provided\n",
      "2. Name: Pollo alla Cacciatora\n",
      "   Description: Tender chicken cooked in a rich tomato sauce with onions, peppers, and mushrooms.\n",
      "   Ingredients: Chicken, tomato sauce, onions, peppers, mushrooms, olive oil, garlic, salt, pepper, herbs\n",
      "   Pricing: Not provided\n",
      "3. Name: Tiramisu Classico\n",
      "   Description: Traditional Italian dessert made with layers of coffee-soaked ladyfingers and mascarpone cream, dusted with cocoa powder.\n",
      "   Ingredients: Ladyfingers, mascarpone cheese, eggs, sugar, coffee, cocoa powder\n",
      "   Pricing: Not provided\n",
      "4. Name: Penne all'Arrabbiata\n",
      "   Description: Penne pasta tossed in a spicy tomato sauce with garlic, chili flakes, and fresh parsley.\n",
      "   Ingredients: Penne pasta, tomato sauce, garlic, chili flakes, parsley, olive oil, salt, pepper\n",
      "   Pricing: Not provided\n",
      "5. Name: Osso Buco\n",
      "   Description: Braised veal shanks cooked until tender in a flavorful broth with vegetables and gremolata.\n",
      "   Ingredients: Veal shanks, broth, vegetables, gremolata (lemon zest, garlic, parsley), flour, olive oil, salt, pepper\n",
      "   Pricing: Not provided\n"
     ]
    }
   ],
   "source": [
    "output = my_agent.reply_user()"
   ]
  },
  {
   "cell_type": "code",
   "execution_count": 10,
   "id": "5a4a96d3-2580-4989-8e3b-f240d1f12190",
   "metadata": {
    "tags": []
   },
   "outputs": [
    {
     "name": "stdout",
     "output_type": "stream",
     "text": [
      "Agent Name: Menu Creator\n",
      "Agent Description: Creates a menu for a restaurant. Menu item includes Name, Description, Ingredients, Pricing.\n",
      "Available Functions: ['use_llm', 'end_task', 'Chef', 'Boss', 'Creative Writer', 'Economist']\n",
      "Task: Generate 5 menu items with name, description, ingredients and price based on Italian food choices. Ensure all parts of menu are generated.\n",
      "Subtasks Completed:\n",
      "Subtask: Use Creative Writer to generate dish names and descriptions for Italian food choices\n",
      "{'Output': {'Menu': [{'name': 'Ravioli di Zucca', 'description': 'Homemade ravioli filled with roasted pumpkin, ricotta cheese, and sage butter sauce.'}, {'name': 'Pollo alla Cacciatora', 'description': 'Tender chicken cooked in a rich tomato sauce with onions, peppers, and mushrooms.'}, {'name': 'Tiramisu Classico', 'description': 'Traditional Italian dessert made with layers of coffee-soaked ladyfingers and mascarpone cream, dusted with cocoa powder.'}, {'name': \"Penne all'Arrabbiata\", 'description': 'Penne pasta tossed in a spicy tomato sauce with garlic, chili flakes, and fresh parsley.'}, {'name': 'Osso Buco', 'description': 'Braised veal shanks cooked until tender in a flavorful broth with vegetables and gremolata.'}]}}\n",
      "\n",
      "Subtask: Use Creative Writer to generate dish names and descriptions for Italian food choices(2)\n",
      "{'Status': 'Completed'}\n",
      "\n",
      "Subtask: Generate ingredients for the Italian dishes: Ravioli di Zucca, Pollo alla Cacciatora, Tiramisu Classico, Penne all'Arrabbiata, Osso Buco\n",
      "{'Output': \"As an agent named Chef, I will generate the ingredients for the Italian dishes as follows: \\n1. Ravioli di Zucca: Roasted pumpkin, ricotta cheese, sage, butter, flour, eggs, salt, pepper\\n2. Pollo alla Cacciatora: Chicken, tomato sauce, onions, peppers, mushrooms, olive oil, garlic, salt, pepper, herbs\\n3. Tiramisu Classico: Ladyfingers, mascarpone cheese, eggs, sugar, coffee, cocoa powder\\n4. Penne all'Arrabbiata: Penne pasta, tomato sauce, garlic, chili flakes, parsley, olive oil, salt, pepper\\n5. Osso Buco: Veal shanks, broth, vegetables, gremolata (lemon zest, garlic, parsley), flour, olive oil, salt, pepper\"}\n",
      "\n",
      "Subtask: Generate pricing for the Italian dishes: Ravioli di Zucca, Pollo alla Cacciatora, Tiramisu Classico, Penne all'Arrabbiata, Osso Buco\n",
      "{'Output': \"As an agent named Chef, I will not generate prices for the Italian dishes. I have provided the ingredients for the dishes Ravioli di Zucca, Pollo alla Cacciatora, Tiramisu Classico, Penne all'Arrabbiata, and Osso Buco as follows: \\n1. Ravioli di Zucca: Roasted pumpkin, ricotta cheese, sage, butter, flour, eggs, salt, pepper\\n2. Pollo alla Cacciatora: Chicken, tomato sauce, onions, peppers, mushrooms, olive oil, garlic, salt, pepper, herbs\\n3. Tiramisu Classico: Ladyfingers, mascarpone cheese, eggs, sugar, coffee, cocoa powder\\n4. Penne all'Arrabbiata: Penne pasta, tomato sauce, garlic, chili flakes, parsley, olive oil, salt, pepper\\n5. Osso Buco: Veal shanks, broth, vegetables, gremolata (lemon zest, garlic, parsley), flour, olive oil, salt, pepper\"}\n",
      "\n",
      "Subtask: Generate ingredients and pricing for the Italian dishes provided by the Creative Writer\n",
      "{'Status': 'Completed'}\n",
      "\n",
      "Subtask: Generate 5 menu items with name, description, ingredients and price based on Italian food choices. Ensure all parts of menu are generated.\n",
      "I have created a menu with 5 Italian food choices. Each menu item includes a name, description, ingredients, and pricing. Here are the menu items:\n",
      "1. Name: Ravioli di Zucca\n",
      "   Description: Homemade ravioli filled with roasted pumpkin, ricotta cheese, and sage butter sauce.\n",
      "   Ingredients: Roasted pumpkin, ricotta cheese, sage, butter, flour, eggs, salt, pepper\n",
      "   Pricing: Not provided\n",
      "2. Name: Pollo alla Cacciatora\n",
      "   Description: Tender chicken cooked in a rich tomato sauce with onions, peppers, and mushrooms.\n",
      "   Ingredients: Chicken, tomato sauce, onions, peppers, mushrooms, olive oil, garlic, salt, pepper, herbs\n",
      "   Pricing: Not provided\n",
      "3. Name: Tiramisu Classico\n",
      "   Description: Traditional Italian dessert made with layers of coffee-soaked ladyfingers and mascarpone cream, dusted with cocoa powder.\n",
      "   Ingredients: Ladyfingers, mascarpone cheese, eggs, sugar, coffee, cocoa powder\n",
      "   Pricing: Not provided\n",
      "4. Name: Penne all'Arrabbiata\n",
      "   Description: Penne pasta tossed in a spicy tomato sauce with garlic, chili flakes, and fresh parsley.\n",
      "   Ingredients: Penne pasta, tomato sauce, garlic, chili flakes, parsley, olive oil, salt, pepper\n",
      "   Pricing: Not provided\n",
      "5. Name: Osso Buco\n",
      "   Description: Braised veal shanks cooked until tender in a flavorful broth with vegetables and gremolata.\n",
      "   Ingredients: Veal shanks, broth, vegetables, gremolata (lemon zest, garlic, parsley), flour, olive oil, salt, pepper\n",
      "   Pricing: Not provided\n",
      "\n",
      "Is Task Completed: True\n"
     ]
    }
   ],
   "source": [
    "my_agent.status()"
   ]
  },
  {
   "cell_type": "markdown",
   "id": "18be4496-fc6b-4d61-957a-e42809989f89",
   "metadata": {},
   "source": [
    "# Approach 2: Step through the process yourself as the Meta Agent\n",
    "- You can use agents manually using `use_agent(agent_name: str, agent_task: str)` The outputs of the agents will be stored into `subtasks_completed` of the meta agent automatically\n",
    "- You can also interact with the meta agent using `reply_user(task: str, stateful: bool = False)`. This generates a reply for the agent to the `task` using `subtasks_completed` as context. If `stateful` is true, this will also store the output into `subtasks_completed`\n",
    "- If `subtasks_completed` is too lengthy, you can run `summarise_subtasks_completed(task: str)` This summarises `subtasks_completed` according to what is relevant to the `task`\n",
    "- If you want to redo a subtask, you can remove the most recent subtask from `subtasks_completed` using `remove_last_subtask()`"
   ]
  },
  {
   "cell_type": "code",
   "execution_count": 11,
   "id": "9b1828fd-975e-41c1-ad6c-5f1552286a82",
   "metadata": {
    "tags": []
   },
   "outputs": [
    {
     "name": "stdout",
     "output_type": "stream",
     "text": [
      "Agent Name: Menu Creator\n",
      "Agent Description: Creates a menu for a restaurant. Menu item includes Name, Description, Ingredients, Pricing.\n",
      "Available Functions: ['use_llm', 'end_task', 'Chef', 'Boss', 'Creative Writer', 'Economist']\n",
      "Task: No task assigned\n",
      "Subtasks Completed: None\n",
      "Is Task Completed: False\n"
     ]
    }
   ],
   "source": [
    "# reset the state of the agent\n",
    "my_agent.reset()\n",
    "# currently should have no task and nothing in subtasks_completed\n",
    "my_agent.status()"
   ]
  },
  {
   "cell_type": "code",
   "execution_count": 12,
   "id": "83e65804-6519-4160-81ac-bb05ad10237b",
   "metadata": {
    "tags": []
   },
   "outputs": [],
   "source": [
    "# Assign a task for the meta agent - this helps to contextualise what you give each of the inner agents later on\n",
    "my_agent.assign_task('Generate 5 menu items with name, description, ingredients and price based on Italian food choices. Ensure all parts of menu are generated.')"
   ]
  },
  {
   "cell_type": "code",
   "execution_count": 13,
   "id": "1cc2a7e3-407f-448b-a49b-92260f433527",
   "metadata": {},
   "outputs": [
    {
     "name": "stdout",
     "output_type": "stream",
     "text": [
      "Calling function Creative Writer with parameters {'instruction': 'Generate only 5 Italian dish names and descriptions'}\n",
      "\n",
      "### Start of Inner Agent: Creative Writer ###\n",
      "Subtask identified: Generate Italian dish names and descriptions\n",
      "Getting LLM to perform the following task: Generate Italian dish names and descriptions\n",
      "> {'Menu Items': [{'Name': 'Ravioli di Zucca', 'Description': 'Homemade ravioli filled with roasted pumpkin, ricotta cheese, and sage butter sauce.'}, {'Name': 'Pollo alla Cacciatora', 'Description': 'Tender chicken cooked in a rich tomato sauce with onions, mushrooms, and bell peppers.'}, {'Name': 'Gnocchi al Gorgonzola', 'Description': 'Potato gnocchi served in a creamy gorgonzola cheese sauce with walnuts and fresh parsley.'}, {'Name': 'Osso Buco alla Milanese', 'Description': 'Braised veal shanks cooked in white wine and broth, served with gremolata and risotto alla Milanese.'}, {'Name': 'Tiramisu', 'Description': 'Classic Italian dessert made with layers of coffee-soaked ladyfingers and mascarpone cheese, dusted with cocoa powder.'}]}\n",
      "\n",
      "### End of Inner Agent: Creative Writer ###\n",
      "\n",
      "> {'Status': 'Completed'}\n",
      "\n"
     ]
    }
   ],
   "source": [
    "# This will run the Agent Creative Writer (with shared subtasks_completed as meta agent)\n",
    "# Output of task will go directly into subtasks_completed - we view the inner agent as simply an extension of the meta agent\n",
    "my_agent.use_agent('Creative Writer', 'Generate only 5 Italian dish names and descriptions')"
   ]
  },
  {
   "cell_type": "code",
   "execution_count": 14,
   "id": "d7baae92-097a-47db-a083-58e3328451db",
   "metadata": {
    "tags": []
   },
   "outputs": [
    {
     "name": "stdout",
     "output_type": "stream",
     "text": [
      "Agent Name: Menu Creator\n",
      "Agent Description: Creates a menu for a restaurant. Menu item includes Name, Description, Ingredients, Pricing.\n",
      "Available Functions: ['use_llm', 'end_task', 'Chef', 'Boss', 'Creative Writer', 'Economist']\n",
      "Task: Generate 5 menu items with name, description, ingredients and price based on Italian food choices. Ensure all parts of menu are generated.\n",
      "Subtasks Completed:\n",
      "Subtask: Generate Italian dish names and descriptions\n",
      "{'Output': {'Menu Items': [{'Name': 'Ravioli di Zucca', 'Description': 'Homemade ravioli filled with roasted pumpkin, ricotta cheese, and sage butter sauce.'}, {'Name': 'Pollo alla Cacciatora', 'Description': 'Tender chicken cooked in a rich tomato sauce with onions, mushrooms, and bell peppers.'}, {'Name': 'Gnocchi al Gorgonzola', 'Description': 'Potato gnocchi served in a creamy gorgonzola cheese sauce with walnuts and fresh parsley.'}, {'Name': 'Osso Buco alla Milanese', 'Description': 'Braised veal shanks cooked in white wine and broth, served with gremolata and risotto alla Milanese.'}, {'Name': 'Tiramisu', 'Description': 'Classic Italian dessert made with layers of coffee-soaked ladyfingers and mascarpone cheese, dusted with cocoa powder.'}]}}\n",
      "\n",
      "Subtask: Generate only 5 Italian dish names and descriptions\n",
      "{'Status': 'Completed'}\n",
      "\n",
      "Is Task Completed: False\n"
     ]
    }
   ],
   "source": [
    "# subtasks_completed should be updated with the Creative Agent's outputs\n",
    "my_agent.status()"
   ]
  },
  {
   "cell_type": "code",
   "execution_count": 15,
   "id": "db731e85-444e-4a9d-8f31-e990594a6bf1",
   "metadata": {},
   "outputs": [
    {
     "name": "stdout",
     "output_type": "stream",
     "text": [
      "Calling function Chef with parameters {'instruction': 'Generate ingredients for the 5 Italian dishes'}\n",
      "\n",
      "### Start of Inner Agent: Chef ###\n",
      "Subtask identified: Generate ingredients for the 5 Italian dishes\n",
      "Getting LLM to perform the following task: Generate ingredients for the 5 Italian dishes\n",
      "> As Chef, I have generated the ingredients for the 5 Italian dishes: \n",
      "1. Ravioli di Zucca: Roasted pumpkin, ricotta cheese, sage, butter, flour, eggs\n",
      "2. Pollo alla Cacciatora: Chicken, tomato sauce, onions, mushrooms, bell peppers, olive oil\n",
      "3. Gnocchi al Gorgonzola: Potato, gorgonzola cheese, walnuts, parsley, cream, butter\n",
      "4. Osso Buco alla Milanese: Veal shanks, white wine, broth, gremolata, risotto, saffron\n",
      "5. Tiramisu: Ladyfingers, coffee, mascarpone cheese, cocoa powder, eggs, sugar\n",
      "\n",
      "Task completed successfully!\n",
      "\n",
      "### End of Inner Agent: Chef ###\n",
      "\n",
      "> {'Status': 'Completed'}\n",
      "\n"
     ]
    }
   ],
   "source": [
    "my_agent.use_agent('Chef', 'Generate ingredients for the 5 Italian dishes')"
   ]
  },
  {
   "cell_type": "code",
   "execution_count": 16,
   "id": "fd1b1fda-7e72-4669-8e40-f01207ad198f",
   "metadata": {
    "tags": []
   },
   "outputs": [
    {
     "name": "stdout",
     "output_type": "stream",
     "text": [
      "Calling function Economist with parameters {'instruction': 'Generate prices for the 5 Italian dishes'}\n",
      "\n",
      "### Start of Inner Agent: Economist ###\n",
      "Subtask identified: Determine the pricing for the 5 Italian dishes\n",
      "Calling function dish_price with parameters {'list_of_dish_names': ['Ravioli di Zucca', 'Pollo alla Cacciatora', 'Gnocchi al Gorgonzola', 'Osso Buco alla Milanese', 'Tiramisu']}\n",
      "> {'Price': {'Ravioli di Zucca': '$5', 'Pollo alla Cacciatora': '$6', 'Gnocchi al Gorgonzola': '$9', 'Osso Buco alla Milanese': '$2', 'Tiramisu': '$10'}}\n",
      "\n",
      "Subtask identified: Generate prices for the 5 Italian dishes\n",
      "Calling function dish_price with parameters {'list_of_dish_names': ['Ravioli di Zucca', 'Pollo alla Cacciatora', 'Gnocchi al Gorgonzola', 'Osso Buco alla Milanese', 'Tiramisu']}\n",
      "> {'Price': {'Ravioli di Zucca': '$5', 'Pollo alla Cacciatora': '$6', 'Gnocchi al Gorgonzola': '$9', 'Osso Buco alla Milanese': '$2', 'Tiramisu': '$10'}}\n",
      "\n",
      "Task completed successfully!\n",
      "\n",
      "### End of Inner Agent: Economist ###\n",
      "\n",
      "> {'Status': 'Completed'}\n",
      "\n"
     ]
    }
   ],
   "source": [
    "my_agent.use_agent('Economist', 'Generate prices for the 5 Italian dishes')"
   ]
  },
  {
   "cell_type": "code",
   "execution_count": 17,
   "id": "3d0ff21d-3684-49ad-9a59-8d63e8c181aa",
   "metadata": {
    "tags": []
   },
   "outputs": [
    {
     "name": "stdout",
     "output_type": "stream",
     "text": [
      "Calling function Boss with parameters {'instruction': 'Choose only 3 Italian dishes to serve that will please Gordon Ramsay'}\n",
      "\n",
      "### Start of Inner Agent: Boss ###\n",
      "Subtask identified: Select 3 Italian dishes that will please Gordon Ramsay\n",
      "Getting LLM to perform the following task: Select 3 Italian dishes that will please Gordon Ramsay\n",
      "> As the final quality check agent, I have selected 3 Italian dishes that will please Gordon Ramsay: \n",
      "1. Ravioli di Zucca: Homemade ravioli filled with roasted pumpkin, ricotta cheese, and sage butter sauce.\n",
      "2. Gnocchi al Gorgonzola: Potato gnocchi served in a creamy gorgonzola cheese sauce with walnuts and fresh parsley.\n",
      "3. Tiramisu: Classic Italian dessert made with layers of coffee-soaked ladyfingers and mascarpone cheese, dusted with cocoa powder. These dishes are sure to impress Gordon Ramsay with their flavors and presentation.\n",
      "\n",
      "Task completed successfully!\n",
      "\n",
      "### End of Inner Agent: Boss ###\n",
      "\n",
      "> {'Status': 'Completed'}\n",
      "\n"
     ]
    }
   ],
   "source": [
    "my_agent.use_agent('Boss', 'Choose only 3 Italian dishes to serve that will please Gordon Ramsay')"
   ]
  },
  {
   "cell_type": "code",
   "execution_count": 18,
   "id": "9290ba86-c1a7-4d68-ba2e-5ffbe292f403",
   "metadata": {
    "tags": []
   },
   "outputs": [
    {
     "name": "stdout",
     "output_type": "stream",
     "text": [
      "1. Ravioli di Zucca, Homemade ravioli filled with roasted pumpkin, ricotta cheese, and sage butter sauce, Roasted pumpkin, ricotta cheese, sage, butter, flour, eggs, $5\n",
      "2. Gnocchi al Gorgonzola, Potato gnocchi served in a creamy gorgonzola cheese sauce with walnuts and fresh parsley, Potato, gorgonzola cheese, walnuts, parsley, cream, butter, $9\n",
      "3. Tiramisu, Classic Italian dessert made with layers of coffee-soaked ladyfingers and mascarpone cheese, dusted with cocoa powder, Ladyfingers, coffee, mascarpone cheese, cocoa powder, eggs, sugar, $10\n"
     ]
    }
   ],
   "source": [
    "# Get a targeted response from your agent, and add this to subtask_completed\n",
    "output = my_agent.reply_user('Choose the 3 menu items for Gordon Ramsay line by line in this format - Dish Name, Dish Description, Dish Ingredients, Dish Price')"
   ]
  },
  {
   "cell_type": "code",
   "execution_count": 19,
   "id": "8c134d97-36fc-4f33-880a-fbb79e2388a5",
   "metadata": {},
   "outputs": [
    {
     "name": "stdout",
     "output_type": "stream",
     "text": [
      "Agent Name: Menu Creator\n",
      "Agent Description: Creates a menu for a restaurant. Menu item includes Name, Description, Ingredients, Pricing.\n",
      "Available Functions: ['use_llm', 'end_task', 'Chef', 'Boss', 'Creative Writer', 'Economist']\n",
      "Task: Generate 5 menu items with name, description, ingredients and price based on Italian food choices. Ensure all parts of menu are generated.\n",
      "Subtasks Completed:\n",
      "Subtask: Generate Italian dish names and descriptions\n",
      "{'Output': {'Menu Items': [{'Name': 'Ravioli di Zucca', 'Description': 'Homemade ravioli filled with roasted pumpkin, ricotta cheese, and sage butter sauce.'}, {'Name': 'Pollo alla Cacciatora', 'Description': 'Tender chicken cooked in a rich tomato sauce with onions, mushrooms, and bell peppers.'}, {'Name': 'Gnocchi al Gorgonzola', 'Description': 'Potato gnocchi served in a creamy gorgonzola cheese sauce with walnuts and fresh parsley.'}, {'Name': 'Osso Buco alla Milanese', 'Description': 'Braised veal shanks cooked in white wine and broth, served with gremolata and risotto alla Milanese.'}, {'Name': 'Tiramisu', 'Description': 'Classic Italian dessert made with layers of coffee-soaked ladyfingers and mascarpone cheese, dusted with cocoa powder.'}]}}\n",
      "\n",
      "Subtask: Generate only 5 Italian dish names and descriptions\n",
      "{'Status': 'Completed'}\n",
      "\n",
      "Subtask: Generate ingredients for the 5 Italian dishes\n",
      "{'Output': 'As Chef, I have generated the ingredients for the 5 Italian dishes: \\n1. Ravioli di Zucca: Roasted pumpkin, ricotta cheese, sage, butter, flour, eggs\\n2. Pollo alla Cacciatora: Chicken, tomato sauce, onions, mushrooms, bell peppers, olive oil\\n3. Gnocchi al Gorgonzola: Potato, gorgonzola cheese, walnuts, parsley, cream, butter\\n4. Osso Buco alla Milanese: Veal shanks, white wine, broth, gremolata, risotto, saffron\\n5. Tiramisu: Ladyfingers, coffee, mascarpone cheese, cocoa powder, eggs, sugar'}\n",
      "\n",
      "Subtask: Generate ingredients for the 5 Italian dishes(2)\n",
      "{'Status': 'Completed'}\n",
      "\n",
      "Subtask: Determine the pricing for the 5 Italian dishes\n",
      "{'Price': {'Ravioli di Zucca': '$5', 'Pollo alla Cacciatora': '$6', 'Gnocchi al Gorgonzola': '$9', 'Osso Buco alla Milanese': '$2', 'Tiramisu': '$10'}}\n",
      "\n",
      "Subtask: Generate prices for the 5 Italian dishes\n",
      "{'Price': {'Ravioli di Zucca': '$5', 'Pollo alla Cacciatora': '$6', 'Gnocchi al Gorgonzola': '$9', 'Osso Buco alla Milanese': '$2', 'Tiramisu': '$10'}}\n",
      "\n",
      "Subtask: Generate prices for the 5 Italian dishes(2)\n",
      "{'Status': 'Completed'}\n",
      "\n",
      "Subtask: Select 3 Italian dishes that will please Gordon Ramsay\n",
      "{'Output': 'As the final quality check agent, I have selected 3 Italian dishes that will please Gordon Ramsay: \\n1. Ravioli di Zucca: Homemade ravioli filled with roasted pumpkin, ricotta cheese, and sage butter sauce.\\n2. Gnocchi al Gorgonzola: Potato gnocchi served in a creamy gorgonzola cheese sauce with walnuts and fresh parsley.\\n3. Tiramisu: Classic Italian dessert made with layers of coffee-soaked ladyfingers and mascarpone cheese, dusted with cocoa powder. These dishes are sure to impress Gordon Ramsay with their flavors and presentation.'}\n",
      "\n",
      "Subtask: Choose only 3 Italian dishes to serve that will please Gordon Ramsay\n",
      "{'Status': 'Completed'}\n",
      "\n",
      "Subtask: Choose the 3 menu items for Gordon Ramsay line by line in this format - Dish Name, Dish Description, Dish Ingredients, Dish Price\n",
      "1. Ravioli di Zucca, Homemade ravioli filled with roasted pumpkin, ricotta cheese, and sage butter sauce, Roasted pumpkin, ricotta cheese, sage, butter, flour, eggs, $5\n",
      "2. Gnocchi al Gorgonzola, Potato gnocchi served in a creamy gorgonzola cheese sauce with walnuts and fresh parsley, Potato, gorgonzola cheese, walnuts, parsley, cream, butter, $9\n",
      "3. Tiramisu, Classic Italian dessert made with layers of coffee-soaked ladyfingers and mascarpone cheese, dusted with cocoa powder, Ladyfingers, coffee, mascarpone cheese, cocoa powder, eggs, sugar, $10\n",
      "\n",
      "Is Task Completed: False\n"
     ]
    }
   ],
   "source": [
    "my_agent.status()"
   ]
  },
  {
   "cell_type": "code",
   "execution_count": 20,
   "id": "8bdfad22-3b67-42d5-a4c6-cfd607dd22b1",
   "metadata": {
    "tags": []
   },
   "outputs": [
    {
     "name": "stdout",
     "output_type": "stream",
     "text": [
      "{\n",
      "1. Name: Ravioli di Zucca\n",
      "   Description: Homemade ravioli filled with roasted pumpkin, ricotta cheese, and sage butter sauce.\n",
      "   Ingredients: Roasted pumpkin, ricotta cheese, sage, butter, flour, eggs\n",
      "   Price: $5\n",
      "\n",
      "2. Name: Gnocchi al Gorgonzola\n",
      "   Description: Potato gnocchi served in a creamy gorgonzola cheese sauce with walnuts and fresh parsley.\n",
      "   Ingredients: Potato, gorgonzola cheese, walnuts, parsley, cream, butter\n",
      "   Price: $9\n",
      "\n",
      "3. Name: Tiramisu\n",
      "   Description: Classic Italian dessert made with layers of coffee-soaked ladyfingers and mascarpone cheese, dusted with cocoa powder.\n",
      "   Ingredients: Ladyfingers, coffee, mascarpone cheese, cocoa powder, eggs, sugar\n",
      "   Price: $10\n",
      "}\n"
     ]
    }
   ],
   "source": [
    "# you can summarise the subtasks_history for the next task\n",
    "my_agent.summarise_subtasks_completed('Generate the 3 Italian dishes for Gordon Ramsay in menu format')"
   ]
  },
  {
   "cell_type": "code",
   "execution_count": 21,
   "id": "ea8ebd26-25e2-41b3-a2a3-78f03d324f3b",
   "metadata": {
    "tags": []
   },
   "outputs": [
    {
     "name": "stdout",
     "output_type": "stream",
     "text": [
      "Agent Name: Menu Creator\n",
      "Agent Description: Creates a menu for a restaurant. Menu item includes Name, Description, Ingredients, Pricing.\n",
      "Available Functions: ['use_llm', 'end_task', 'Chef', 'Boss', 'Creative Writer', 'Economist']\n",
      "Task: Generate 5 menu items with name, description, ingredients and price based on Italian food choices. Ensure all parts of menu are generated.\n",
      "Subtasks Completed:\n",
      "Subtask: Summary of Generate the 3 Italian dishes for Gordon Ramsay in menu format\n",
      "{\n",
      "1. Name: Ravioli di Zucca\n",
      "   Description: Homemade ravioli filled with roasted pumpkin, ricotta cheese, and sage butter sauce.\n",
      "   Ingredients: Roasted pumpkin, ricotta cheese, sage, butter, flour, eggs\n",
      "   Price: $5\n",
      "\n",
      "2. Name: Gnocchi al Gorgonzola\n",
      "   Description: Potato gnocchi served in a creamy gorgonzola cheese sauce with walnuts and fresh parsley.\n",
      "   Ingredients: Potato, gorgonzola cheese, walnuts, parsley, cream, butter\n",
      "   Price: $9\n",
      "\n",
      "3. Name: Tiramisu\n",
      "   Description: Classic Italian dessert made with layers of coffee-soaked ladyfingers and mascarpone cheese, dusted with cocoa powder.\n",
      "   Ingredients: Ladyfingers, coffee, mascarpone cheese, cocoa powder, eggs, sugar\n",
      "   Price: $10\n",
      "}\n",
      "\n",
      "Is Task Completed: False\n"
     ]
    }
   ],
   "source": [
    "# subtask has been summarised, helping to reduce the context significantly for later task generation\n",
    "my_agent.status()"
   ]
  },
  {
   "cell_type": "code",
   "execution_count": 22,
   "id": "c7887297-c007-42fd-a21e-5196afef605a",
   "metadata": {
    "tags": []
   },
   "outputs": [
    {
     "name": "stdout",
     "output_type": "stream",
     "text": [
      "Removed last subtask from subtasks_completed: ('Summary of Generate the 3 Italian dishes for Gordon Ramsay in menu format', '{\\n1. Name: Ravioli di Zucca\\n   Description: Homemade ravioli filled with roasted pumpkin, ricotta cheese, and sage butter sauce.\\n   Ingredients: Roasted pumpkin, ricotta cheese, sage, butter, flour, eggs\\n   Price: $5\\n\\n2. Name: Gnocchi al Gorgonzola\\n   Description: Potato gnocchi served in a creamy gorgonzola cheese sauce with walnuts and fresh parsley.\\n   Ingredients: Potato, gorgonzola cheese, walnuts, parsley, cream, butter\\n   Price: $9\\n\\n3. Name: Tiramisu\\n   Description: Classic Italian dessert made with layers of coffee-soaked ladyfingers and mascarpone cheese, dusted with cocoa powder.\\n   Ingredients: Ladyfingers, coffee, mascarpone cheese, cocoa powder, eggs, sugar\\n   Price: $10\\n}')\n"
     ]
    }
   ],
   "source": [
    "# we also allow you to manually remove the last item added to subtasks_completed, so you can revert your agent state if needed for backtracking\n",
    "my_agent.remove_last_subtask()"
   ]
  },
  {
   "cell_type": "code",
   "execution_count": 23,
   "id": "35340b71-d7ea-4f28-ad0a-dddf6099737f",
   "metadata": {
    "tags": []
   },
   "outputs": [
    {
     "name": "stdout",
     "output_type": "stream",
     "text": [
      "Agent Name: Menu Creator\n",
      "Agent Description: Creates a menu for a restaurant. Menu item includes Name, Description, Ingredients, Pricing.\n",
      "Available Functions: ['use_llm', 'end_task', 'Chef', 'Boss', 'Creative Writer', 'Economist']\n",
      "Task: Generate 5 menu items with name, description, ingredients and price based on Italian food choices. Ensure all parts of menu are generated.\n",
      "Subtasks Completed: None\n",
      "Is Task Completed: False\n"
     ]
    }
   ],
   "source": [
    "# visualise your agent's status - should have empty subtasks_completed\n",
    "my_agent.status()"
   ]
  },
  {
   "cell_type": "code",
   "execution_count": null,
   "id": "6dec8c56-7463-4dcf-8246-115583858de9",
   "metadata": {},
   "outputs": [],
   "source": []
  }
 ],
 "metadata": {
  "kernelspec": {
   "display_name": "Python 3 (ipykernel)",
   "language": "python",
   "name": "python3"
  },
  "language_info": {
   "codemirror_mode": {
    "name": "ipython",
    "version": 3
   },
   "file_extension": ".py",
   "mimetype": "text/x-python",
   "name": "python",
   "nbconvert_exporter": "python",
   "pygments_lexer": "ipython3",
   "version": "3.11.3"
  }
 },
 "nbformat": 4,
 "nbformat_minor": 5
}
