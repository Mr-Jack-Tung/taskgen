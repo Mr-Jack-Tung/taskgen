{
 "cells": [
  {
   "cell_type": "markdown",
   "id": "2fa1e388-b8f4-4fa3-be5a-ba7c6caae038",
   "metadata": {
    "tags": []
   },
   "source": [
    "# TaskGen Ask Me Anything\n",
    "- First Created: 7 May 2024\n",
    "- Video: https://www.youtube.com/watch?v=mheIWKugqF4\n",
    "- John Tan Chong Min\n",
    "- Updated: 10 Jul 2024\n",
    "- Updated on 5 Jul 2024, to use best practices of TaskGen v3.1.0 for External Functions and Shared Variables\n",
    "- Updated on 18 May 2024, using TaskGen v2.2.0 to make it more robust and handle feedback from environment better (removed list of steps to constrain generation, and instead, replan after each subtask)"
   ]
  },
  {
   "cell_type": "markdown",
   "id": "1ed7d18a-aa02-48dd-bc87-8f89755b02f8",
   "metadata": {},
   "source": [
    "# Setup Guide"
   ]
  },
  {
   "cell_type": "markdown",
   "id": "2836f141-1a69-4e0f-b735-090113c791ba",
   "metadata": {},
   "source": [
    "## Step 1: Install TaskGen"
   ]
  },
  {
   "cell_type": "code",
   "execution_count": 1,
   "id": "0e5ca555-0def-4c6c-a47b-d43423b48702",
   "metadata": {
    "tags": []
   },
   "outputs": [],
   "source": [
    "# !pip install taskgen-ai"
   ]
  },
  {
   "cell_type": "markdown",
   "id": "682f565a-b525-462b-9b2b-f206efd189f9",
   "metadata": {},
   "source": [
    "## Step 2: Import required functions and setup relevant API keys for your LLM"
   ]
  },
  {
   "cell_type": "code",
   "execution_count": 2,
   "id": "63d4d037-94d2-49dd-9e17-41079f8ffcf9",
   "metadata": {
    "tags": []
   },
   "outputs": [],
   "source": [
    "# Set up API key and do the necessary imports\n",
    "from taskgen import *\n",
    "import os\n",
    "\n",
    "# this is only if you use OpenAI as your LLM\n",
    "os.environ['OPENAI_API_KEY'] = '<YOUR API KEY HERE>'"
   ]
  },
  {
   "cell_type": "markdown",
   "id": "346ab3d6-0ad8-4b6b-8cd4-fa229546f588",
   "metadata": {},
   "source": [
    "## Step 3: Define your own LLM\n",
    "- Define an `llm` function that takes in as inputs `system_prompt` and `user_prompt`, and outputs llm response string\n",
    "- Note: If you do not define your own LLM, OpenAI `gpt-3.5-turbo` will be used as default"
   ]
  },
  {
   "cell_type": "code",
   "execution_count": 3,
   "id": "27ef9969-ebb5-46aa-b2b7-3ad6ef24bb95",
   "metadata": {
    "tags": []
   },
   "outputs": [],
   "source": [
    "def llm(system_prompt: str, user_prompt: str) -> str:\n",
    "    ''' Here, we use OpenAI for illustration, you can change it to your own LLM '''\n",
    "    # ensure your LLM imports are all within this function\n",
    "    from openai import OpenAI\n",
    "    \n",
    "    # define your own LLM here\n",
    "    client = OpenAI()\n",
    "    response = client.chat.completions.create(\n",
    "        model='gpt-3.5-turbo',\n",
    "        temperature = 0,\n",
    "        messages=[\n",
    "            {\"role\": \"system\", \"content\": system_prompt},\n",
    "            {\"role\": \"user\", \"content\": user_prompt}\n",
    "        ]\n",
    "    )\n",
    "    return response.choices[0].message.content"
   ]
  },
  {
   "cell_type": "code",
   "execution_count": 4,
   "id": "e35c34f8-21d1-4bc6-a989-16c8d59f5171",
   "metadata": {
    "tags": []
   },
   "outputs": [
    {
     "data": {
      "text/plain": [
       "'Positive'"
      ]
     },
     "execution_count": 4,
     "metadata": {},
     "output_type": "execute_result"
    }
   ],
   "source": [
    "# Verify that llm function is working\n",
    "llm(system_prompt = 'You are a classifier to classify the sentiment of a sentence', \n",
    "    user_prompt = 'It is a hot and sunny day')"
   ]
  },
  {
   "cell_type": "markdown",
   "id": "c374068e-e469-4d51-913e-b0812318620f",
   "metadata": {},
   "source": [
    "# Define your Agent"
   ]
  },
  {
   "cell_type": "code",
   "execution_count": 5,
   "id": "86b29290-fbaf-40ae-8170-2f47cfe1698e",
   "metadata": {
    "tags": []
   },
   "outputs": [],
   "source": [
    "agent = Agent('Cooking Expert','Provides cooking guidance', max_subtasks = 10, llm = llm)"
   ]
  },
  {
   "cell_type": "code",
   "execution_count": 6,
   "id": "ed76e0f3-5598-41ba-bb42-ca06eb7c2156",
   "metadata": {
    "tags": []
   },
   "outputs": [
    {
     "name": "stdout",
     "output_type": "stream",
     "text": [
      "\u001b[1m\u001b[30mObservation: No subtasks have been completed yet for the assigned task.\u001b[0m\n",
      "\u001b[1m\u001b[32mThoughts: Since no subtasks have been completed, it is necessary to start with the basics of cooking pasta.\u001b[0m\n",
      "\u001b[1m\u001b[34mSubtask identified: Provide a simple recipe for cooking pasta.\u001b[0m\n",
      "Getting LLM to perform the following task: Provide a simple recipe for cooking pasta.\n",
      "> Here is a simple recipe for cooking pasta: \n",
      "Ingredients: 8 oz pasta, 4 cups water, 1 tsp salt, 1 tbsp olive oil, 1/2 cup pasta sauce, grated cheese (optional) \n",
      "Instructions: \n",
      "1. Boil water in a pot, add salt and olive oil. \n",
      "2. Add pasta to the boiling water and cook according to package instructions until al dente. \n",
      "3. Drain the pasta and mix with pasta sauce. \n",
      "4. Serve hot, topped with grated cheese if desired. Enjoy your delicious pasta!\n",
      "\n",
      "\u001b[1m\u001b[30mObservation: A simple recipe for cooking pasta has been provided in the completed subtasks.\u001b[0m\n",
      "\u001b[1m\u001b[32mThoughts: The completed subtask has already provided a simple recipe for cooking pasta, so the remaining part of the assigned task is to end the task as it has been completed.\u001b[0m\n",
      "\u001b[1m\u001b[34mSubtask identified: End Task\u001b[0m\n",
      "Task completed successfully!\n",
      "\n"
     ]
    },
    {
     "data": {
      "text/plain": [
       "['Here is a simple recipe for cooking pasta: \\nIngredients: 8 oz pasta, 4 cups water, 1 tsp salt, 1 tbsp olive oil, 1/2 cup pasta sauce, grated cheese (optional) \\nInstructions: \\n1. Boil water in a pot, add salt and olive oil. \\n2. Add pasta to the boiling water and cook according to package instructions until al dente. \\n3. Drain the pasta and mix with pasta sauce. \\n4. Serve hot, topped with grated cheese if desired. Enjoy your delicious pasta!']"
      ]
     },
     "execution_count": 6,
     "metadata": {},
     "output_type": "execute_result"
    }
   ],
   "source": [
    "agent.run('Tell me how to cook pasta')"
   ]
  },
  {
   "cell_type": "code",
   "execution_count": 7,
   "id": "ba6365d7-5a73-44b7-8cde-0f0799ab8cd3",
   "metadata": {
    "tags": []
   },
   "outputs": [
    {
     "name": "stdout",
     "output_type": "stream",
     "text": [
      "Agent Name: Cooking Expert\n",
      "Agent Description: Provides cooking guidance\n",
      "Available Functions: ['use_llm', 'end_task']\n",
      "Shared Variables: ['agent']\n",
      "\u001b[1m\u001b[32mTask: Tell me how to cook pasta\u001b[0m\n",
      "\u001b[1m\u001b[30mSubtasks Completed:\u001b[0m\n",
      "\u001b[1m\u001b[34mSubtask: Provide a simple recipe for cooking pasta.\u001b[0m\n",
      "Here is a simple recipe for cooking pasta: \n",
      "Ingredients: 8 oz pasta, 4 cups water, 1 tsp salt, 1 tbsp olive oil, 1/2 cup pasta sauce, grated cheese (optional) \n",
      "Instructions: \n",
      "1. Boil water in a pot, add salt and olive oil. \n",
      "2. Add pasta to the boiling water and cook according to package instructions until al dente. \n",
      "3. Drain the pasta and mix with pasta sauce. \n",
      "4. Serve hot, topped with grated cheese if desired. Enjoy your delicious pasta!\n",
      "\n",
      "Is Task Completed: True\n"
     ]
    }
   ],
   "source": [
    "agent.status()"
   ]
  },
  {
   "cell_type": "code",
   "execution_count": 8,
   "id": "dd7eb53d-2136-4c10-b1c4-1e4b42cc79c2",
   "metadata": {
    "tags": []
   },
   "outputs": [
    {
     "name": "stdout",
     "output_type": "stream",
     "text": [
      "Here is a simple recipe for cooking pasta: \n",
      "- Boil water in a pot, add salt and olive oil. \n",
      "- Add pasta to the boiling water and cook according to package instructions until al dente. \n",
      "- Drain the pasta and mix with pasta sauce. \n",
      "- Serve hot, topped with grated cheese if desired. Enjoy your delicious pasta!\n"
     ]
    },
    {
     "data": {
      "text/plain": [
       "'Here is a simple recipe for cooking pasta: \\n- Boil water in a pot, add salt and olive oil. \\n- Add pasta to the boiling water and cook according to package instructions until al dente. \\n- Drain the pasta and mix with pasta sauce. \\n- Serve hot, topped with grated cheese if desired. Enjoy your delicious pasta!'"
      ]
     },
     "execution_count": 8,
     "metadata": {},
     "output_type": "execute_result"
    }
   ],
   "source": [
    "agent.reply_user('Give me in bullet point format how to cook pasta')"
   ]
  },
  {
   "cell_type": "code",
   "execution_count": 9,
   "id": "5331fcfd-de62-4f5a-a78b-5fd6e2a60a2f",
   "metadata": {
    "tags": []
   },
   "outputs": [
    {
     "name": "stdout",
     "output_type": "stream",
     "text": [
      "Agent Name: Cooking Expert\n",
      "Agent Description: Provides cooking guidance\n",
      "Available Functions: ['use_llm', 'end_task']\n",
      "Shared Variables: ['agent']\n",
      "\u001b[1m\u001b[32mTask: Tell me how to cook pasta\u001b[0m\n",
      "\u001b[1m\u001b[30mSubtasks Completed:\u001b[0m\n",
      "\u001b[1m\u001b[34mSubtask: Provide a simple recipe for cooking pasta.\u001b[0m\n",
      "Here is a simple recipe for cooking pasta: \n",
      "Ingredients: 8 oz pasta, 4 cups water, 1 tsp salt, 1 tbsp olive oil, 1/2 cup pasta sauce, grated cheese (optional) \n",
      "Instructions: \n",
      "1. Boil water in a pot, add salt and olive oil. \n",
      "2. Add pasta to the boiling water and cook according to package instructions until al dente. \n",
      "3. Drain the pasta and mix with pasta sauce. \n",
      "4. Serve hot, topped with grated cheese if desired. Enjoy your delicious pasta!\n",
      "\n",
      "\u001b[1m\u001b[34mSubtask: Give me in bullet point format how to cook pasta\u001b[0m\n",
      "Here is a simple recipe for cooking pasta: \n",
      "- Boil water in a pot, add salt and olive oil. \n",
      "- Add pasta to the boiling water and cook according to package instructions until al dente. \n",
      "- Drain the pasta and mix with pasta sauce. \n",
      "- Serve hot, topped with grated cheese if desired. Enjoy your delicious pasta!\n",
      "\n",
      "Is Task Completed: True\n"
     ]
    }
   ],
   "source": [
    "agent.status()"
   ]
  },
  {
   "cell_type": "code",
   "execution_count": 10,
   "id": "ec917ca5-78b7-4b8d-8e4b-9f61bb95d980",
   "metadata": {
    "tags": []
   },
   "outputs": [
    {
     "name": "stdout",
     "output_type": "stream",
     "text": [
      "\u001b[1m\u001b[30mObservation: No subtasks have been completed yet for the assigned task.\u001b[0m\n",
      "\u001b[1m\u001b[32mThoughts: To complete the assigned task, I need to break it down into smaller subtasks and determine the steps required to cook bratwurst sausages.\u001b[0m\n",
      "\u001b[1m\u001b[34mSubtask identified: Research the optimal cooking method for bratwurst sausages.\u001b[0m\n",
      "Getting LLM to perform the following task: Research the optimal cooking method for bratwurst sausages.\n",
      "> After thorough research, it has been determined that the optimal cooking method for bratwurst sausages is to first simmer them in beer and onions to infuse flavor, then finish by grilling or pan-frying to achieve a crispy exterior. This method ensures a juicy and flavorful bratwurst sausage that is cooked to perfection.\n",
      "\n",
      "\u001b[1m\u001b[30mObservation: Thorough research has been conducted to determine the optimal cooking method for bratwurst sausages.\u001b[0m\n",
      "\u001b[1m\u001b[32mThoughts: The optimal cooking method involves simmering the sausages in beer and onions for flavor infusion, followed by grilling or pan-frying for a crispy exterior. This method ensures a juicy and flavorful outcome.\u001b[0m\n",
      "\u001b[1m\u001b[34mSubtask identified: Simmer the bratwurst sausages in beer and onions to infuse flavor.\u001b[0m\n",
      "Getting LLM to perform the following task: Simmer the bratwurst sausages in beer and onions to infuse flavor.\n",
      "> The bratwurst sausages were simmered in a flavorful mixture of beer and onions, allowing them to absorb the rich and aromatic essence. The simmering process ensured that the sausages were infused with a delicious combination of flavors, enhancing their taste profile. This method not only added depth to the bratwurst sausages but also contributed to a tender and juicy texture. The end result is a perfectly flavored bratwurst sausage that is ready to be enjoyed either grilled or pan-fried to achieve a delightful crispy exterior.\n",
      "\n",
      "\u001b[1m\u001b[30mObservation: The optimal cooking method for bratwurst sausages involves simmering them in beer and onions to infuse flavor before grilling or pan-frying.\u001b[0m\n",
      "\u001b[1m\u001b[32mThoughts: To complete the remainder of the Assigned Task, the next step would be to proceed with grilling or pan-frying the bratwurst sausages after they have been simmered in beer and onions.\u001b[0m\n",
      "\u001b[1m\u001b[34mSubtask identified: Grill or pan-fry the bratwurst sausages to achieve a crispy exterior after they have been simmered in beer and onions to infuse flavor.\u001b[0m\n",
      "Getting LLM to perform the following task: Grill or pan-fry the bratwurst sausages to achieve a crispy exterior after they have been simmered in beer and onions to infuse flavor.\n",
      "> The bratwurst sausages have been successfully simmered in a flavorful mixture of beer and onions, allowing them to absorb the rich and aromatic essence. They are now ready to be grilled or pan-fried to achieve a crispy exterior. The simmering process has ensured that the sausages are infused with a delicious combination of flavors, enhancing their taste profile. This method not only adds depth to the bratwurst sausages but also contributes to a tender and juicy texture. The end result is perfectly flavored bratwurst sausages that are now prepared to be enjoyed with a delightful crispy exterior.\n",
      "\n",
      "\u001b[1m\u001b[30mObservation: The optimal cooking method for bratwurst sausages involves simmering them in beer and onions to infuse flavor, then grilling or pan-frying for a crispy exterior.\u001b[0m\n",
      "\u001b[1m\u001b[32mThoughts: To complete the remainder of the Assigned Task, focus on the grilling or pan-frying step after the sausages have been simmered in beer and onions.\u001b[0m\n",
      "\u001b[1m\u001b[34mSubtask identified: Grill or pan-fry the bratwurst sausages to achieve a crispy exterior after they have been simmered in beer and onions to infuse flavor.\u001b[0m\n",
      "Getting LLM to perform the following task: Grill or pan-fry the bratwurst sausages to achieve a crispy exterior after they have been simmered in beer and onions to infuse flavor.\n",
      "> The bratwurst sausages have been successfully simmered in a flavorful mixture of beer and onions, allowing them to absorb the rich and aromatic essence. They are now ready to be grilled or pan-fried to achieve a crispy exterior. The simmering process has ensured that the sausages are infused with a delicious combination of flavors, enhancing their taste profile. This method not only adds depth to the bratwurst sausages but also contributes to a tender and juicy texture. The end result is perfectly flavored bratwurst sausages that are now prepared to be enjoyed with a delightful crispy exterior.\n",
      "\n",
      "\u001b[1m\u001b[30mObservation: The optimal cooking method for bratwurst sausages involves simmering them in beer and onions to infuse flavor before grilling or pan-frying for a crispy exterior.\u001b[0m\n",
      "\u001b[1m\u001b[32mThoughts: To complete the remainder of the Assigned Task, the next step would be to provide instructions on how to properly grill or pan-fry the bratwurst sausages after they have been simmered in beer and onions.\u001b[0m\n",
      "\u001b[1m\u001b[34mSubtask identified: Provide detailed instructions on how to grill or pan-fry the bratwurst sausages to achieve a crispy exterior after they have been simmered in beer and onions.\u001b[0m\n",
      "Getting LLM to perform the following task: Provide detailed instructions on how to grill or pan-fry the bratwurst sausages to achieve a crispy exterior after they have been simmered in beer and onions.\n",
      "> After simmering the bratwurst sausages in a flavorful mixture of beer and onions to infuse flavor, the next step is to grill or pan-fry them to achieve a crispy exterior. To grill, preheat the grill to medium-high heat and place the sausages on the grill. Cook for about 5-7 minutes per side, rotating occasionally, until they develop grill marks and reach an internal temperature of 160°F. To pan-fry, heat a skillet over medium heat with a bit of oil. Add the sausages and cook for about 5-7 minutes per side, turning occasionally, until they are golden brown and cooked through. Once done, serve the bratwurst sausages hot with your favorite sides and enjoy the delicious crispy exterior!\n",
      "\n",
      "\u001b[1m\u001b[30mObservation: The optimal cooking method for bratwurst sausages involves simmering them in beer and onions to infuse flavor, then finishing by grilling or pan-frying for a crispy exterior. Detailed instructions on grilling or pan-frying have been provided.\u001b[0m\n",
      "\u001b[1m\u001b[32mThoughts: To complete the remainder of the Assigned Task, focus on summarizing the cooking process and providing any additional tips or variations for cooking bratwurst sausages.\u001b[0m\n",
      "\u001b[1m\u001b[34mSubtask identified: Summarize the optimal cooking method for bratwurst sausages, highlighting the key steps of simmering in beer and onions for flavor infusion, followed by grilling or pan-frying for a crispy exterior. Include any additional tips or variations.\u001b[0m\n",
      "Getting LLM to perform the following task: Summarize the optimal cooking method for bratwurst sausages, highlighting the key steps of simmering in beer and onions for flavor infusion, followed by grilling or pan-frying for a crispy exterior. Include any additional tips or variations.\n",
      "> The optimal cooking method for bratwurst sausages involves first simmering them in a flavorful mixture of beer and onions to infuse rich and aromatic essence. This step ensures that the sausages absorb a delicious combination of flavors, enhancing their taste profile and resulting in a tender and juicy texture. The next key step is to grill or pan-fry the sausages to achieve a crispy exterior. When grilling, preheat the grill to medium-high heat and cook the sausages for 5-7 minutes per side, rotating occasionally until they develop grill marks and reach an internal temperature of 160°F. For pan-frying, heat a skillet over medium heat with oil, cook the sausages for 5-7 minutes per side, turning occasionally until they are golden brown and cooked through. Additional tips include using different types of beer for varied flavors, adding herbs or spices to the simmering mixture for extra depth, and serving the bratwurst sausages with mustard, sauerkraut, or grilled onions for a delicious meal.\n",
      "\n",
      "### Auto-summarising Subtasks Completed (Change frequency via `summarise_subtasks_count` variable) ###\n",
      "The optimal cooking method for bratwurst sausages involves first simmering them in a flavorful mixture of beer and onions to infuse rich and aromatic essence. This step ensures that the sausages absorb a delicious combination of flavors, enhancing their taste profile and resulting in a tender and juicy texture. The next key step is to grill or pan-fry the sausages to achieve a crispy exterior. When grilling, preheat the grill to medium-high heat and cook the sausages for 5-7 minutes per side, rotating occasionally until they develop grill marks and reach an internal temperature of 160°F. For pan-frying, heat a skillet over medium heat with oil, cook the sausages for 5-7 minutes per side, turning occasionally until they are golden brown and cooked through. Additional tips include using different types of beer for varied flavors, adding herbs or spices to the simmering mixture for extra depth, and serving the bratwurst sausages with mustard, sauerkraut, or grilled onions for a delicious meal.\n",
      "### End of Auto-summary ###\n",
      "\n",
      "\u001b[1m\u001b[30mObservation: The optimal cooking method for bratwurst sausages involves simmering them in a flavorful mixture of beer and onions before grilling or pan-frying. Additional tips include using different types of beer, herbs, and spices for enhanced flavors.\u001b[0m\n",
      "\u001b[1m\u001b[32mThoughts: To complete the remainder of the Assigned Task, focus on providing guidance on grilling or pan-frying the sausages and serving them with recommended accompaniments.\u001b[0m\n",
      "\u001b[1m\u001b[34mSubtask identified: Provide detailed instructions on how to grill bratwurst sausages to achieve a crispy exterior and juicy interior. Include steps such as preheating the grill, cooking time per side, and tips for optimal results.\u001b[0m\n",
      "Getting LLM to perform the following task: Provide detailed instructions on how to grill bratwurst sausages to achieve a crispy exterior and juicy interior. Include steps such as preheating the grill, cooking time per side, and tips for optimal results.\n",
      "> To grill bratwurst sausages to achieve a crispy exterior and juicy interior, follow these detailed instructions: 1. Preheat the grill to medium-high heat to ensure proper cooking temperature. 2. Place the sausages on the grill and cook for 5-7 minutes per side, rotating occasionally. This will help develop grill marks and ensure even cooking. 3. Use a meat thermometer to check the internal temperature of the sausages, aiming for 160°F for safe consumption. 4. Avoid piercing the sausages with a fork while grilling to retain their juices and flavors. 5. For optimal results, consider using different types of beer for marinating the sausages before grilling to enhance their flavor profile. 6. Serve the grilled bratwurst sausages with condiments like mustard, sauerkraut, or grilled onions for a delicious meal.\n",
      "\n",
      "\u001b[1m\u001b[30mObservation: The agent has already provided detailed instructions on how to grill bratwurst sausages to achieve a crispy exterior and juicy interior.\u001b[0m\n",
      "\u001b[1m\u001b[32mThoughts: The agent should consider moving on to the next step of the cooking process or providing additional information on other cooking methods for bratwurst sausages.\u001b[0m\n",
      "\u001b[1m\u001b[34mSubtask identified: End Task\u001b[0m\n",
      "Task completed successfully!\n",
      "\n"
     ]
    },
    {
     "data": {
      "text/plain": [
       "['The optimal cooking method for bratwurst sausages involves first simmering them in a flavorful mixture of beer and onions to infuse rich and aromatic essence. This step ensures that the sausages absorb a delicious combination of flavors, enhancing their taste profile and resulting in a tender and juicy texture. The next key step is to grill or pan-fry the sausages to achieve a crispy exterior. When grilling, preheat the grill to medium-high heat and cook the sausages for 5-7 minutes per side, rotating occasionally until they develop grill marks and reach an internal temperature of 160°F. For pan-frying, heat a skillet over medium heat with oil, cook the sausages for 5-7 minutes per side, turning occasionally until they are golden brown and cooked through. Additional tips include using different types of beer for varied flavors, adding herbs or spices to the simmering mixture for extra depth, and serving the bratwurst sausages with mustard, sauerkraut, or grilled onions for a delicious meal.',\n",
       " 'To grill bratwurst sausages to achieve a crispy exterior and juicy interior, follow these detailed instructions: 1. Preheat the grill to medium-high heat to ensure proper cooking temperature. 2. Place the sausages on the grill and cook for 5-7 minutes per side, rotating occasionally. This will help develop grill marks and ensure even cooking. 3. Use a meat thermometer to check the internal temperature of the sausages, aiming for 160°F for safe consumption. 4. Avoid piercing the sausages with a fork while grilling to retain their juices and flavors. 5. For optimal results, consider using different types of beer for marinating the sausages before grilling to enhance their flavor profile. 6. Serve the grilled bratwurst sausages with condiments like mustard, sauerkraut, or grilled onions for a delicious meal.']"
      ]
     },
     "execution_count": 10,
     "metadata": {},
     "output_type": "execute_result"
    }
   ],
   "source": [
    "# Note: it is better to reset an agent if you want to change the task\n",
    "agent.reset()\n",
    "agent.run('How to cook bratwurst sausages')"
   ]
  },
  {
   "cell_type": "code",
   "execution_count": 11,
   "id": "c1a68f85-0209-423d-8506-18e6efd126d9",
   "metadata": {
    "tags": []
   },
   "outputs": [
    {
     "name": "stdout",
     "output_type": "stream",
     "text": [
      "Agent Name: Cooking Expert\n",
      "Agent Description: Provides cooking guidance\n",
      "Available Functions: ['use_llm', 'end_task']\n",
      "Shared Variables: ['agent']\n",
      "\u001b[1m\u001b[32mTask: How to cook bratwurst sausages\u001b[0m\n",
      "\u001b[1m\u001b[30mSubtasks Completed:\u001b[0m\n",
      "\u001b[1m\u001b[34mSubtask: Current Results for 'progress for How to cook bratwurst sausages'\u001b[0m\n",
      "The optimal cooking method for bratwurst sausages involves first simmering them in a flavorful mixture of beer and onions to infuse rich and aromatic essence. This step ensures that the sausages absorb a delicious combination of flavors, enhancing their taste profile and resulting in a tender and juicy texture. The next key step is to grill or pan-fry the sausages to achieve a crispy exterior. When grilling, preheat the grill to medium-high heat and cook the sausages for 5-7 minutes per side, rotating occasionally until they develop grill marks and reach an internal temperature of 160°F. For pan-frying, heat a skillet over medium heat with oil, cook the sausages for 5-7 minutes per side, turning occasionally until they are golden brown and cooked through. Additional tips include using different types of beer for varied flavors, adding herbs or spices to the simmering mixture for extra depth, and serving the bratwurst sausages with mustard, sauerkraut, or grilled onions for a delicious meal.\n",
      "\n",
      "\u001b[1m\u001b[34mSubtask: Provide detailed instructions on how to grill bratwurst sausages to achieve a crispy exterior and juicy interior. Include steps such as preheating the grill, cooking time per side, and tips for optimal results.\u001b[0m\n",
      "To grill bratwurst sausages to achieve a crispy exterior and juicy interior, follow these detailed instructions: 1. Preheat the grill to medium-high heat to ensure proper cooking temperature. 2. Place the sausages on the grill and cook for 5-7 minutes per side, rotating occasionally. This will help develop grill marks and ensure even cooking. 3. Use a meat thermometer to check the internal temperature of the sausages, aiming for 160°F for safe consumption. 4. Avoid piercing the sausages with a fork while grilling to retain their juices and flavors. 5. For optimal results, consider using different types of beer for marinating the sausages before grilling to enhance their flavor profile. 6. Serve the grilled bratwurst sausages with condiments like mustard, sauerkraut, or grilled onions for a delicious meal.\n",
      "\n",
      "Is Task Completed: True\n"
     ]
    }
   ],
   "source": [
    "agent.status()"
   ]
  },
  {
   "cell_type": "code",
   "execution_count": 12,
   "id": "96ca48bd-fc5f-4cd2-b95b-083702d5d215",
   "metadata": {
    "tags": []
   },
   "outputs": [
    {
     "name": "stdout",
     "output_type": "stream",
     "text": [
      "The optimal cooking time for grilling bratwurst sausages to achieve a crispy exterior and juicy interior is 5-7 minutes per side. It is recommended to rotate the sausages occasionally during cooking to ensure even heat distribution and the development of grill marks. Using a meat thermometer to check for an internal temperature of 160°F is crucial for safe consumption. Avoid piercing the sausages with a fork while grilling to retain their juices and flavors. Additionally, marinating the sausages in different types of beer before grilling can enhance their flavor profile. Serving the grilled bratwurst sausages with condiments like mustard, sauerkraut, or grilled onions can complement the dish.\n"
     ]
    },
    {
     "data": {
      "text/plain": [
       "'The optimal cooking time for grilling bratwurst sausages to achieve a crispy exterior and juicy interior is 5-7 minutes per side. It is recommended to rotate the sausages occasionally during cooking to ensure even heat distribution and the development of grill marks. Using a meat thermometer to check for an internal temperature of 160°F is crucial for safe consumption. Avoid piercing the sausages with a fork while grilling to retain their juices and flavors. Additionally, marinating the sausages in different types of beer before grilling can enhance their flavor profile. Serving the grilled bratwurst sausages with condiments like mustard, sauerkraut, or grilled onions can complement the dish.'"
      ]
     },
     "execution_count": 12,
     "metadata": {},
     "output_type": "execute_result"
    }
   ],
   "source": [
    "# Use stateful = False if you don't want the reply to user to go into Subtasks Completed\n",
    "agent.reply_user('How long should I cook for?', stateful = False)"
   ]
  },
  {
   "cell_type": "code",
   "execution_count": 13,
   "id": "d5c76b71-51f8-4305-ae33-e5c67b06e616",
   "metadata": {
    "tags": []
   },
   "outputs": [
    {
     "name": "stdout",
     "output_type": "stream",
     "text": [
      "Agent Name: Cooking Expert\n",
      "Agent Description: Provides cooking guidance\n",
      "Available Functions: ['use_llm', 'end_task']\n",
      "Shared Variables: ['agent']\n",
      "\u001b[1m\u001b[32mTask: How to cook bratwurst sausages\u001b[0m\n",
      "\u001b[1m\u001b[30mSubtasks Completed:\u001b[0m\n",
      "\u001b[1m\u001b[34mSubtask: Current Results for 'progress for How to cook bratwurst sausages'\u001b[0m\n",
      "The optimal cooking method for bratwurst sausages involves first simmering them in a flavorful mixture of beer and onions to infuse rich and aromatic essence. This step ensures that the sausages absorb a delicious combination of flavors, enhancing their taste profile and resulting in a tender and juicy texture. The next key step is to grill or pan-fry the sausages to achieve a crispy exterior. When grilling, preheat the grill to medium-high heat and cook the sausages for 5-7 minutes per side, rotating occasionally until they develop grill marks and reach an internal temperature of 160°F. For pan-frying, heat a skillet over medium heat with oil, cook the sausages for 5-7 minutes per side, turning occasionally until they are golden brown and cooked through. Additional tips include using different types of beer for varied flavors, adding herbs or spices to the simmering mixture for extra depth, and serving the bratwurst sausages with mustard, sauerkraut, or grilled onions for a delicious meal.\n",
      "\n",
      "\u001b[1m\u001b[34mSubtask: Provide detailed instructions on how to grill bratwurst sausages to achieve a crispy exterior and juicy interior. Include steps such as preheating the grill, cooking time per side, and tips for optimal results.\u001b[0m\n",
      "To grill bratwurst sausages to achieve a crispy exterior and juicy interior, follow these detailed instructions: 1. Preheat the grill to medium-high heat to ensure proper cooking temperature. 2. Place the sausages on the grill and cook for 5-7 minutes per side, rotating occasionally. This will help develop grill marks and ensure even cooking. 3. Use a meat thermometer to check the internal temperature of the sausages, aiming for 160°F for safe consumption. 4. Avoid piercing the sausages with a fork while grilling to retain their juices and flavors. 5. For optimal results, consider using different types of beer for marinating the sausages before grilling to enhance their flavor profile. 6. Serve the grilled bratwurst sausages with condiments like mustard, sauerkraut, or grilled onions for a delicious meal.\n",
      "\n",
      "Is Task Completed: True\n"
     ]
    }
   ],
   "source": [
    "agent.status()"
   ]
  },
  {
   "cell_type": "markdown",
   "id": "86949085-f3b5-4d60-beed-b8cec9e09b01",
   "metadata": {
    "tags": []
   },
   "source": [
    "## Stepping through one step at a time"
   ]
  },
  {
   "cell_type": "code",
   "execution_count": 14,
   "id": "0360ca0c-d1a4-4433-985b-676aef030fa8",
   "metadata": {
    "tags": []
   },
   "outputs": [],
   "source": [
    "agent = Agent('Cooking Expert','Provides cooking guidance', max_subtasks = 10, llm = llm)"
   ]
  },
  {
   "cell_type": "code",
   "execution_count": 15,
   "id": "309f3b36-dc75-4745-a312-0c17736009dc",
   "metadata": {
    "tags": []
   },
   "outputs": [
    {
     "name": "stdout",
     "output_type": "stream",
     "text": [
      "\u001b[1m\u001b[30mObservation: No subtasks have been completed yet for the assigned task.\u001b[0m\n",
      "\u001b[1m\u001b[32mThoughts: To complete the assigned task, I need to provide guidance on how to cook an omelette.\u001b[0m\n",
      "\u001b[1m\u001b[34mSubtask identified: Provide step-by-step instructions on how to cook an omelette.\u001b[0m\n",
      "Getting LLM to perform the following task: Provide step-by-step instructions on how to cook an omelette.\n",
      "> To cook an omelette, start by cracking 2-3 eggs into a bowl and whisking them until well combined. Heat a non-stick pan over medium heat and add a small amount of butter or oil. Pour the whisked eggs into the pan and let them cook for a minute or two until the edges start to set. Using a spatula, gently push the cooked edges towards the center, allowing the uncooked eggs to flow to the edges. Continue this process until the omelette is mostly set but still slightly runny on top. Add your desired fillings such as cheese, vegetables, or ham to one half of the omelette. Using the spatula, fold the other half of the omelette over the fillings. Cook for another minute to melt the cheese and heat the fillings. Slide the omelette onto a plate and garnish with herbs or additional toppings if desired. Enjoy your delicious and fluffy omelette!\n",
      "\n"
     ]
    },
    {
     "data": {
      "text/plain": [
       "['To cook an omelette, start by cracking 2-3 eggs into a bowl and whisking them until well combined. Heat a non-stick pan over medium heat and add a small amount of butter or oil. Pour the whisked eggs into the pan and let them cook for a minute or two until the edges start to set. Using a spatula, gently push the cooked edges towards the center, allowing the uncooked eggs to flow to the edges. Continue this process until the omelette is mostly set but still slightly runny on top. Add your desired fillings such as cheese, vegetables, or ham to one half of the omelette. Using the spatula, fold the other half of the omelette over the fillings. Cook for another minute to melt the cheese and heat the fillings. Slide the omelette onto a plate and garnish with herbs or additional toppings if desired. Enjoy your delicious and fluffy omelette!']"
      ]
     },
     "execution_count": 15,
     "metadata": {},
     "output_type": "execute_result"
    }
   ],
   "source": [
    "agent.run('Tell me how to cook omelette', num_subtasks = 1)"
   ]
  },
  {
   "cell_type": "code",
   "execution_count": 16,
   "id": "fe39d868-f0c6-4e92-9b68-8bed45762ba9",
   "metadata": {
    "tags": []
   },
   "outputs": [
    {
     "name": "stdout",
     "output_type": "stream",
     "text": [
      "Agent Name: Cooking Expert\n",
      "Agent Description: Provides cooking guidance\n",
      "Available Functions: ['use_llm', 'end_task']\n",
      "Shared Variables: ['agent']\n",
      "\u001b[1m\u001b[32mTask: Tell me how to cook omelette\u001b[0m\n",
      "\u001b[1m\u001b[30mSubtasks Completed:\u001b[0m\n",
      "\u001b[1m\u001b[34mSubtask: Provide step-by-step instructions on how to cook an omelette.\u001b[0m\n",
      "To cook an omelette, start by cracking 2-3 eggs into a bowl and whisking them until well combined. Heat a non-stick pan over medium heat and add a small amount of butter or oil. Pour the whisked eggs into the pan and let them cook for a minute or two until the edges start to set. Using a spatula, gently push the cooked edges towards the center, allowing the uncooked eggs to flow to the edges. Continue this process until the omelette is mostly set but still slightly runny on top. Add your desired fillings such as cheese, vegetables, or ham to one half of the omelette. Using the spatula, fold the other half of the omelette over the fillings. Cook for another minute to melt the cheese and heat the fillings. Slide the omelette onto a plate and garnish with herbs or additional toppings if desired. Enjoy your delicious and fluffy omelette!\n",
      "\n",
      "Is Task Completed: False\n"
     ]
    }
   ],
   "source": [
    "agent.status()"
   ]
  },
  {
   "cell_type": "code",
   "execution_count": 17,
   "id": "6230fd3d-f679-4429-9977-230bcc616cb2",
   "metadata": {
    "tags": []
   },
   "outputs": [
    {
     "name": "stdout",
     "output_type": "stream",
     "text": [
      "\u001b[1m\u001b[30mObservation: The agent has already provided step-by-step instructions on how to cook an omelette.\u001b[0m\n",
      "\u001b[1m\u001b[32mThoughts: The agent has completed the subtask of providing instructions on cooking an omelette. The remaining part of the assigned task is to end the task as it has been completed.\u001b[0m\n",
      "\u001b[1m\u001b[34mSubtask identified: End Task\u001b[0m\n",
      "Task completed successfully!\n",
      "\n"
     ]
    },
    {
     "data": {
      "text/plain": [
       "['To cook an omelette, start by cracking 2-3 eggs into a bowl and whisking them until well combined. Heat a non-stick pan over medium heat and add a small amount of butter or oil. Pour the whisked eggs into the pan and let them cook for a minute or two until the edges start to set. Using a spatula, gently push the cooked edges towards the center, allowing the uncooked eggs to flow to the edges. Continue this process until the omelette is mostly set but still slightly runny on top. Add your desired fillings such as cheese, vegetables, or ham to one half of the omelette. Using the spatula, fold the other half of the omelette over the fillings. Cook for another minute to melt the cheese and heat the fillings. Slide the omelette onto a plate and garnish with herbs or additional toppings if desired. Enjoy your delicious and fluffy omelette!']"
      ]
     },
     "execution_count": 17,
     "metadata": {},
     "output_type": "execute_result"
    }
   ],
   "source": [
    "agent.run('Tell me how to cook omelette', num_subtasks = 1)"
   ]
  },
  {
   "cell_type": "code",
   "execution_count": 18,
   "id": "d9020c13-6435-4c49-ae52-12fa63cd0037",
   "metadata": {
    "tags": []
   },
   "outputs": [
    {
     "name": "stdout",
     "output_type": "stream",
     "text": [
      "Agent Name: Cooking Expert\n",
      "Agent Description: Provides cooking guidance\n",
      "Available Functions: ['use_llm', 'end_task']\n",
      "Shared Variables: ['agent']\n",
      "\u001b[1m\u001b[32mTask: Tell me how to cook omelette\u001b[0m\n",
      "\u001b[1m\u001b[30mSubtasks Completed:\u001b[0m\n",
      "\u001b[1m\u001b[34mSubtask: Provide step-by-step instructions on how to cook an omelette.\u001b[0m\n",
      "To cook an omelette, start by cracking 2-3 eggs into a bowl and whisking them until well combined. Heat a non-stick pan over medium heat and add a small amount of butter or oil. Pour the whisked eggs into the pan and let them cook for a minute or two until the edges start to set. Using a spatula, gently push the cooked edges towards the center, allowing the uncooked eggs to flow to the edges. Continue this process until the omelette is mostly set but still slightly runny on top. Add your desired fillings such as cheese, vegetables, or ham to one half of the omelette. Using the spatula, fold the other half of the omelette over the fillings. Cook for another minute to melt the cheese and heat the fillings. Slide the omelette onto a plate and garnish with herbs or additional toppings if desired. Enjoy your delicious and fluffy omelette!\n",
      "\n",
      "Is Task Completed: True\n"
     ]
    }
   ],
   "source": [
    "agent.status()"
   ]
  },
  {
   "cell_type": "code",
   "execution_count": 19,
   "id": "6670fe36-bd4b-4784-b0b7-95f143138a83",
   "metadata": {
    "tags": []
   },
   "outputs": [
    {
     "name": "stdout",
     "output_type": "stream",
     "text": [
      "To cook an omelette, start by whisking 2-3 eggs in a bowl until well combined. Heat a non-stick pan over medium heat and add butter or oil. Pour the eggs into the pan and cook until edges set. Gently push edges towards center, letting uncooked eggs flow. Continue until omelette is mostly set but slightly runny on top. Add desired fillings to one half. Fold other half over fillings. Cook briefly to melt cheese and heat fillings. Slide omelette onto plate, garnish, and enjoy.\n"
     ]
    },
    {
     "data": {
      "text/plain": [
       "'To cook an omelette, start by whisking 2-3 eggs in a bowl until well combined. Heat a non-stick pan over medium heat and add butter or oil. Pour the eggs into the pan and cook until edges set. Gently push edges towards center, letting uncooked eggs flow. Continue until omelette is mostly set but slightly runny on top. Add desired fillings to one half. Fold other half over fillings. Cook briefly to melt cheese and heat fillings. Slide omelette onto plate, garnish, and enjoy.'"
      ]
     },
     "execution_count": 19,
     "metadata": {},
     "output_type": "execute_result"
    }
   ],
   "source": [
    "agent.reply_user('Summarise how to cook an omelette in point form', stateful = False)"
   ]
  },
  {
   "cell_type": "code",
   "execution_count": 20,
   "id": "fffaada1-c48d-44fb-a128-eba6e80f6f55",
   "metadata": {
    "tags": []
   },
   "outputs": [
    {
     "name": "stdout",
     "output_type": "stream",
     "text": [
      "There are estimated to be around 100 billion stars in our Milky Way galaxy alone, and there are estimated to be over 100 billion galaxies in the observable universe. This means there are roughly 10^24 stars in the observable universe. However, this number is constantly being refined as new observations and calculations are made by astronomers and astrophysicists.\n"
     ]
    },
    {
     "data": {
      "text/plain": [
       "'There are estimated to be around 100 billion stars in our Milky Way galaxy alone, and there are estimated to be over 100 billion galaxies in the observable universe. This means there are roughly 10^24 stars in the observable universe. However, this number is constantly being refined as new observations and calculations are made by astronomers and astrophysicists.'"
      ]
     },
     "execution_count": 20,
     "metadata": {},
     "output_type": "execute_result"
    }
   ],
   "source": [
    "# reply_user only uses what the subtasks completed has\n",
    "agent.reply_user('How many stars are there in the universe?', stateful = False)"
   ]
  },
  {
   "cell_type": "markdown",
   "id": "52c03591-4cf3-4b19-9c61-a2760c2950bc",
   "metadata": {},
   "source": [
    "## When to use StrictJSON vs TaskGen\n",
    "- `Agent` in TaskGen is for Agentic Flow where you don't know what function to call\n",
    "- `strict_json` is when you already know what you want to do in the pipeline, then define inputs and outputs to ask LLM to do input-output matching"
   ]
  },
  {
   "cell_type": "code",
   "execution_count": 21,
   "id": "1f757274-b948-4668-939f-1cac7baade6a",
   "metadata": {
    "tags": []
   },
   "outputs": [],
   "source": [
    "res = strict_json('Describe how to cook an omelette in point form', '',\n",
    "            output_format = {'Details of how to cook in bullet form': 'Details'},\n",
    "                 llm = llm)"
   ]
  },
  {
   "cell_type": "code",
   "execution_count": 22,
   "id": "23d07276-ea56-4140-8aea-7498e6a1539e",
   "metadata": {
    "tags": []
   },
   "outputs": [
    {
     "name": "stdout",
     "output_type": "stream",
     "text": [
      "{'Details of how to cook in bullet form': '1. Crack eggs into a bowl\\n2. Whisk the eggs until well beaten\\n3. Heat a non-stick pan on medium heat\\n4. Melt butter in the pan\\n5. Pour the eggs into the pan\\n6. Let the eggs cook for a few minutes\\n7. Add desired fillings (cheese, vegetables, etc.) on one side of the omelette\\n8. Use a spatula to fold the omelette in half\\n9. Cook for another minute\\n10. Slide the omelette onto a plate and serve hot'}\n"
     ]
    }
   ],
   "source": [
    "print(res)"
   ]
  },
  {
   "cell_type": "markdown",
   "id": "db58db5e-f712-4312-b786-4f3c6a7e47aa",
   "metadata": {
    "tags": []
   },
   "source": [
    "# Agent with Functions"
   ]
  },
  {
   "cell_type": "markdown",
   "id": "112e53af-ad4d-4289-a1c8-556e1ae6b375",
   "metadata": {},
   "source": [
    "## Internal Functions"
   ]
  },
  {
   "cell_type": "code",
   "execution_count": 23,
   "id": "d6338ece-9087-4a06-ae31-c011e22dd117",
   "metadata": {
    "tags": []
   },
   "outputs": [],
   "source": [
    "# this is the shorter way (internal LLM function)\n",
    "cooking_fn = Function('Describe how to cook <dish: str> in point form', \n",
    "                      {'Details of how to cook in bullet form': 'Details'},\n",
    "                     llm = llm)"
   ]
  },
  {
   "cell_type": "code",
   "execution_count": 24,
   "id": "1dfbd8f0-98c8-4280-b51c-dc0fba37c998",
   "metadata": {
    "tags": []
   },
   "outputs": [
    {
     "name": "stdout",
     "output_type": "stream",
     "text": [
      "Description: Describe how to cook <dish: str> in point form\n",
      "Input: ['dish']\n",
      "Output: {'Details of how to cook in bullet form': 'Details'}\n",
      "\n"
     ]
    }
   ],
   "source": [
    "# visualise the function\n",
    "print(cooking_fn)"
   ]
  },
  {
   "cell_type": "code",
   "execution_count": 25,
   "id": "4fa1f7d5-54a9-4e63-93c6-eb0fa03b4c02",
   "metadata": {
    "tags": []
   },
   "outputs": [
    {
     "data": {
      "text/plain": [
       "{'Details of how to cook in bullet form': '1. Crack eggs into a bowl and whisk with salt and pepper. \\n2. Heat a non-stick pan over medium heat and add butter. \\n3. Pour the egg mixture into the pan. \\n4. Let it cook for a few minutes until the edges start to set. \\n5. Use a spatula to lift the edges and let the uncooked eggs flow to the bottom. \\n6. Add desired fillings like cheese, vegetables, or ham. \\n7. Fold the omelette in half and cook for another minute. \\n8. Slide onto a plate and serve hot.'}"
      ]
     },
     "execution_count": 25,
     "metadata": {},
     "output_type": "execute_result"
    }
   ],
   "source": [
    "# use the function\n",
    "cooking_fn('Omelette')"
   ]
  },
  {
   "cell_type": "code",
   "execution_count": 26,
   "id": "06678068-1279-4568-93bd-f265d50fd883",
   "metadata": {
    "tags": []
   },
   "outputs": [
    {
     "data": {
      "text/plain": [
       "{'Details of how to cook in bullet form': '1. Preheat the grill to medium heat. 2. Place sausages on the grill and cook for 15-20 minutes, turning occasionally. 3. Ensure sausages are cooked through and no longer pink in the middle. 4. Serve hot.'}"
      ]
     },
     "execution_count": 26,
     "metadata": {},
     "output_type": "execute_result"
    }
   ],
   "source": [
    "cooking_fn('Sausages')"
   ]
  },
  {
   "cell_type": "code",
   "execution_count": 27,
   "id": "f4829e4d-9eb7-4c4d-a1fb-0f6a6d5d0ae2",
   "metadata": {
    "tags": []
   },
   "outputs": [
    {
     "data": {
      "text/plain": [
       "'cook_dish_in_point_form'"
      ]
     },
     "execution_count": 27,
     "metadata": {},
     "output_type": "execute_result"
    }
   ],
   "source": [
    "# LLM-generated name for Internal Function\n",
    "cooking_fn.fn_name"
   ]
  },
  {
   "cell_type": "markdown",
   "id": "cbd3b5c4-21f5-43ad-9ede-3c9da74e995f",
   "metadata": {},
   "source": [
    "## External Functions"
   ]
  },
  {
   "cell_type": "code",
   "execution_count": 28,
   "id": "61410a2a-0344-41ae-9c5b-9ee0902667fc",
   "metadata": {
    "tags": []
   },
   "outputs": [],
   "source": [
    "# this is the longer way (External Function)\n",
    "def cooking_func(dish: str) -> str:\n",
    "    ''' Describe how to cook dish in point form '''\n",
    "    # potentially include some rule-based pre-processing\n",
    "    if ' ' in dish:\n",
    "        dish = dish.split(' ')[0]\n",
    "    \n",
    "    # call the LLM\n",
    "    res = strict_json(f'Describe how to cook an {dish} in point form', '',\n",
    "            output_format = {'Details of how to cook in bullet form': 'Details'})\n",
    "\n",
    "    # potentially include some rule-based post-processing\n",
    "    res['Details of how to cook in bullet form'] = res['Details of how to cook in bullet form'].replace('\\n','\\n\\n')\n",
    "    \n",
    "    return res['Details of how to cook in bullet form']"
   ]
  },
  {
   "cell_type": "code",
   "execution_count": 29,
   "id": "d8b34813-d62a-4355-b4e9-212e20115043",
   "metadata": {
    "tags": []
   },
   "outputs": [],
   "source": [
    "cooking_fn_external = Function(external_fn = cooking_func)"
   ]
  },
  {
   "cell_type": "code",
   "execution_count": 30,
   "id": "01726e6d-ce9f-4037-a5cd-54280ea518b9",
   "metadata": {
    "tags": []
   },
   "outputs": [
    {
     "name": "stdout",
     "output_type": "stream",
     "text": [
      "Description:  Describe how to cook <dish: str> in point form \n",
      "Input: ['dish']\n",
      "Output: {'output_1': 'str'}\n",
      "\n"
     ]
    }
   ],
   "source": [
    "print(cooking_fn_external)"
   ]
  },
  {
   "cell_type": "code",
   "execution_count": 31,
   "id": "026214fb-7935-4660-9d0f-f1943af98736",
   "metadata": {
    "tags": []
   },
   "outputs": [
    {
     "data": {
      "text/plain": [
       "{'output_1': '1. Crack eggs into a bowl\\n\\n2. Whisk the eggs until well combined\\n\\n3. Heat a non-stick pan over medium heat\\n\\n4. Melt butter in the pan\\n\\n5. Pour the eggs into the pan\\n\\n6. Let the eggs cook for a few minutes\\n\\n7. Add desired fillings (cheese, vegetables, etc.) on one side of the omelette\\n\\n8. Use a spatula to fold the omelette in half\\n\\n9. Cook for another minute\\n\\n10. Slide the omelette onto a plate and serve hot'}"
      ]
     },
     "execution_count": 31,
     "metadata": {},
     "output_type": "execute_result"
    }
   ],
   "source": [
    "cooking_fn_external('Omelette')"
   ]
  },
  {
   "cell_type": "code",
   "execution_count": 32,
   "id": "b67cb37b-e55c-49a9-8152-a6c791957458",
   "metadata": {
    "tags": []
   },
   "outputs": [
    {
     "data": {
      "text/plain": [
       "{'output_1': '1. Preheat the grill to medium heat. 2. Place sausages on the grill. 3. Cook for about 15-20 minutes, turning occasionally. 4. Check the internal temperature to ensure it reaches 160°F (71°C). 5. Remove from grill and let it rest for a few minutes before serving.'}"
      ]
     },
     "execution_count": 32,
     "metadata": {},
     "output_type": "execute_result"
    }
   ],
   "source": [
    "cooking_fn_external('Sausages')"
   ]
  },
  {
   "cell_type": "code",
   "execution_count": 33,
   "id": "ae3bca7b-881e-4906-bda5-6602138a2221",
   "metadata": {
    "tags": []
   },
   "outputs": [
    {
     "data": {
      "text/plain": [
       "'cooking_func'"
      ]
     },
     "execution_count": 33,
     "metadata": {},
     "output_type": "execute_result"
    }
   ],
   "source": [
    "# name of the External Function\n",
    "cooking_fn_external.fn_name"
   ]
  },
  {
   "cell_type": "markdown",
   "id": "2c986d0d-4f4a-4380-b8eb-edf1fec43796",
   "metadata": {},
   "source": [
    "## Equip Functions to your Agent"
   ]
  },
  {
   "cell_type": "code",
   "execution_count": 70,
   "id": "c68445a7-a8cc-477c-80e8-c515b758d25b",
   "metadata": {
    "tags": []
   },
   "outputs": [],
   "source": [
    "agent2 = Agent('Personal Assistant', 'Helps User find cooking recipes or schedules stuff. Current schedule: 10am - 1130am: TaskGen Tutorial', default_to_llm = False)"
   ]
  },
  {
   "cell_type": "code",
   "execution_count": 71,
   "id": "508590a7-8fc9-409d-b6dc-a0732a684af8",
   "metadata": {
    "tags": []
   },
   "outputs": [],
   "source": [
    "schedule_fn = Function('Schedules an <appointment> from <start_time> to <end_time>', \n",
    "                       {'Booked Timeslots': 'List of timeslots and event that are booked', \n",
    "                        'Completed Status': 'Successful if Timeslot is booked, otherwise Not Successful'},\n",
    "                      llm = llm)"
   ]
  },
  {
   "cell_type": "code",
   "execution_count": 72,
   "id": "2abad915-e230-4124-9130-cc19396d2dc2",
   "metadata": {
    "tags": []
   },
   "outputs": [
    {
     "name": "stdout",
     "output_type": "stream",
     "text": [
      "Agent Name: Personal Assistant\n",
      "Agent Description: Helps User find cooking recipes or schedules stuff. Current schedule: 10am - 1130am: TaskGen Tutorial\n",
      "Available Functions: ['end_task']\n",
      "Shared Variables: ['agent']\n",
      "\u001b[1m\u001b[32mTask: No task assigned\u001b[0m\n",
      "\u001b[1m\u001b[34mSubtasks Completed: None\u001b[0m\n",
      "Is Task Completed: False\n"
     ]
    }
   ],
   "source": [
    "agent2.status()"
   ]
  },
  {
   "cell_type": "code",
   "execution_count": 73,
   "id": "8fa10382-5b47-4bdd-8cef-f3ef94f49473",
   "metadata": {
    "tags": []
   },
   "outputs": [
    {
     "data": {
      "text/plain": [
       "<taskgen.agent.Agent at 0x1309ea510>"
      ]
     },
     "execution_count": 73,
     "metadata": {},
     "output_type": "execute_result"
    }
   ],
   "source": [
    "# assign all your functions\n",
    "agent2.assign_functions([cooking_fn, schedule_fn])"
   ]
  },
  {
   "cell_type": "code",
   "execution_count": 74,
   "id": "69742f66-9fde-4ecc-ae05-8f4f1cd97477",
   "metadata": {
    "tags": []
   },
   "outputs": [
    {
     "name": "stdout",
     "output_type": "stream",
     "text": [
      "Agent Name: Personal Assistant\n",
      "Agent Description: Helps User find cooking recipes or schedules stuff. Current schedule: 10am - 1130am: TaskGen Tutorial\n",
      "Available Functions: ['end_task', 'cook_dish_in_point_form', 'schedule_appointment']\n",
      "Shared Variables: ['agent']\n",
      "\u001b[1m\u001b[32mTask: No task assigned\u001b[0m\n",
      "\u001b[1m\u001b[34mSubtasks Completed: None\u001b[0m\n",
      "Is Task Completed: False\n"
     ]
    }
   ],
   "source": [
    "agent2.status()"
   ]
  },
  {
   "cell_type": "code",
   "execution_count": 75,
   "id": "22cd2070-6414-4794-bfbb-21471bf86a82",
   "metadata": {
    "tags": []
   },
   "outputs": [
    {
     "name": "stdout",
     "output_type": "stream",
     "text": [
      "Name: end_task\n",
      "Description: Passes the final output to the user\n",
      "Input: []\n",
      "Output: {}\n",
      "\n",
      "Name: cook_dish_in_point_form\n",
      "Description: Describe how to cook <dish: str> in point form\n",
      "Input: ['dish']\n",
      "Output: {'Details of how to cook in bullet form': 'Details'}\n",
      "\n",
      "Name: schedule_appointment\n",
      "Description: Schedules an <appointment> from <start_time> to <end_time>\n",
      "Input: ['appointment', 'start_time', 'end_time']\n",
      "Output: {'Booked Timeslots': 'List of timeslots and event that are booked', 'Completed Status': 'Successful if Timeslot is booked, otherwise Not Successful'}\n",
      "\n"
     ]
    }
   ],
   "source": [
    "agent2.print_functions()"
   ]
  },
  {
   "cell_type": "code",
   "execution_count": 76,
   "id": "dc306e07-5cc8-47da-a83a-0b1efdda22c9",
   "metadata": {
    "tags": []
   },
   "outputs": [
    {
     "name": "stdout",
     "output_type": "stream",
     "text": [
      "\u001b[1m\u001b[30mObservation: No subtasks have been completed yet for the Assigned Task.\u001b[0m\n",
      "\u001b[1m\u001b[32mThoughts: To complete the Assigned Task, it seems like we need to schedule a 1-hour appointment at 10pm. We should consider the current schedule from 10am - 1130am: TaskGen Tutorial and ensure the appointment does not overlap with it.\u001b[0m\n",
      "\u001b[1m\u001b[34mSubtask identified: Schedule a 1-hour appointment at 10pm without overlapping with the current schedule.\u001b[0m\n",
      "Calling function schedule_appointment with parameters {'appointment': '1-hour appointment', 'start_time': '10pm', 'end_time': '11pm'}\n",
      "> {'Booked Timeslots': '10pm - 11pm: 1-hour appointment', 'Completed Status': 'Successful'}\n",
      "\n",
      "\u001b[1m\u001b[30mObservation: Successfully scheduled a 1-hour appointment from 10pm to 11pm\u001b[0m\n",
      "\u001b[1m\u001b[32mThoughts: The Assigned Task has been completed, no further action is needed\u001b[0m\n",
      "\u001b[1m\u001b[34mSubtask identified: End Task\u001b[0m\n",
      "Task completed successfully!\n",
      "\n"
     ]
    },
    {
     "data": {
      "text/plain": [
       "[{'Booked Timeslots': '10pm - 11pm: 1-hour appointment',\n",
       "  'Completed Status': 'Successful'}]"
      ]
     },
     "execution_count": 76,
     "metadata": {},
     "output_type": "execute_result"
    }
   ],
   "source": [
    "agent2.reset()\n",
    "agent2.run('Schedule a 1-hour appointment at 10pm')"
   ]
  },
  {
   "cell_type": "code",
   "execution_count": 77,
   "id": "483001c5-8bc0-4f8b-be6c-6de00fd64059",
   "metadata": {
    "tags": []
   },
   "outputs": [
    {
     "name": "stdout",
     "output_type": "stream",
     "text": [
      "\u001b[1m\u001b[30mObservation: No subtasks have been completed yet for the Assigned Task.\u001b[0m\n",
      "\u001b[1m\u001b[32mThoughts: To complete the Assigned Task, I need to provide instructions on how to cook an omelette.\u001b[0m\n",
      "\u001b[1m\u001b[34mSubtask identified: Use the function cook_dish_in_point_form to describe how to cook an omelette in point form.\u001b[0m\n",
      "Calling function cook_dish_in_point_form with parameters {'dish': 'omelette'}\n",
      "> {'Details of how to cook in bullet form': '1. Crack eggs into a bowl and whisk with salt and pepper. \\n2. Heat a non-stick pan over medium heat and add butter. \\n3. Pour the egg mixture into the pan. \\n4. Cook until the edges are set and the bottom is golden brown. \\n5. Add desired fillings like cheese, vegetables, or ham. \\n6. Fold the omelette in half and cook for another minute. \\n7. Slide the omelette onto a plate and serve hot.'}\n",
      "\n",
      "\u001b[1m\u001b[30mObservation: The subtask to describe how to cook an omelette in point form has been completed successfully.\u001b[0m\n",
      "\u001b[1m\u001b[32mThoughts: Since the subtask has been completed, the next step is to provide the final output to the user as the task of teaching how to cook an omelette is now finished.\u001b[0m\n",
      "\u001b[1m\u001b[34mSubtask identified: End Task\u001b[0m\n",
      "Task completed successfully!\n",
      "\n"
     ]
    },
    {
     "data": {
      "text/plain": [
       "[{'Details of how to cook in bullet form': '1. Crack eggs into a bowl and whisk with salt and pepper. \\n2. Heat a non-stick pan over medium heat and add butter. \\n3. Pour the egg mixture into the pan. \\n4. Cook until the edges are set and the bottom is golden brown. \\n5. Add desired fillings like cheese, vegetables, or ham. \\n6. Fold the omelette in half and cook for another minute. \\n7. Slide the omelette onto a plate and serve hot.'}]"
      ]
     },
     "execution_count": 77,
     "metadata": {},
     "output_type": "execute_result"
    }
   ],
   "source": [
    "agent2.reset()\n",
    "agent2.run('Teach me how to cook an omelette')"
   ]
  },
  {
   "cell_type": "code",
   "execution_count": 78,
   "id": "b9615d7f-10ef-498f-b3a6-22cc2df6c037",
   "metadata": {
    "tags": []
   },
   "outputs": [
    {
     "name": "stdout",
     "output_type": "stream",
     "text": [
      "\u001b[1m\u001b[30mObservation: No subtasks have been completed yet for the assigned task.\u001b[0m\n",
      "\u001b[1m\u001b[32mThoughts: To complete the assigned task, we need to find a way to learn how to cook an omelette before scheduling the cooking class.\u001b[0m\n",
      "\u001b[1m\u001b[34mSubtask identified: Learn how to cook an omelette.\u001b[0m\n",
      "Calling function cook_dish_in_point_form with parameters {'dish': 'omelette'}\n",
      "> {'Details of how to cook in bullet form': '1. Crack eggs into a bowl and whisk with salt and pepper. \\n2. Heat a non-stick pan over medium heat and add butter. \\n3. Pour the egg mixture into the pan. \\n4. Cook until the edges are set, then gently lift the edges to let the uncooked eggs flow underneath. \\n5. Add desired fillings like cheese, vegetables, or ham. \\n6. Fold the omelette in half and cook for another minute. \\n7. Slide the omelette onto a plate and serve hot.'}\n",
      "\n",
      "\u001b[1m\u001b[30mObservation: The user has requested to add a 1-hour cooking class to cook an omelette at 2pm to their schedule. The user does not know how to cook the omelette.\u001b[0m\n",
      "\u001b[1m\u001b[32mThoughts: To complete the remainder of the assigned task, the user needs to learn how to cook the omelette before adding the cooking class to their schedule.\u001b[0m\n",
      "\u001b[1m\u001b[34mSubtask identified: Learn how to cook an omelette following the provided steps: 1. Crack eggs into a bowl and whisk with salt and pepper. 2. Heat a non-stick pan over medium heat and add butter. 3. Pour the egg mixture into the pan. 4. Cook until the edges are set, then gently lift the edges to let the uncooked eggs flow underneath. 5. Add desired fillings like cheese, vegetables, or ham. 6. Fold the omelette in half and cook for another minute. 7. Slide the omelette onto a plate and serve hot.\u001b[0m\n",
      "Calling function cook_dish_in_point_form with parameters {'dish': 'omelette'}\n",
      "> {'Details of how to cook in bullet form': '1. Crack eggs into a bowl and whisk with salt and pepper. \\n2. Heat a non-stick pan over medium heat and add butter. \\n3. Pour the egg mixture into the pan. \\n4. Cook until the edges are set, then gently lift the edges to let the uncooked eggs flow underneath. \\n5. Add desired fillings like cheese, vegetables, or ham. \\n6. Fold the omelette in half and cook for another minute. \\n7. Slide the omelette onto a plate and serve hot.'}\n",
      "\n",
      "\u001b[1m\u001b[30mObservation: The user has already found detailed instructions on how to cook an omelette through the completed subtasks.\u001b[0m\n",
      "\u001b[1m\u001b[32mThoughts: Since the user now knows how to cook the omelette, the focus should be on adding the cooking class to the schedule.\u001b[0m\n",
      "\u001b[1m\u001b[34mSubtask identified: Schedule a 1-hour cooking class to cook an omelette at 2pm.\u001b[0m\n",
      "Calling function schedule_appointment with parameters {'appointment': 'Cooking Class to Cook Omelette', 'start_time': '2:00pm', 'end_time': '3:00pm'}\n",
      "> {'Booked Timeslots': '2:00pm - 3:00pm: Cooking Class to Cook Omelette', 'Completed Status': 'Successful'}\n",
      "\n",
      "\u001b[1m\u001b[30mObservation: The user has successfully booked a cooking class to cook an omelette at 2pm and has received instructions on how to cook the omelette in point form.\u001b[0m\n",
      "\u001b[1m\u001b[32mThoughts: Since the user has already booked the cooking class and received detailed instructions on how to cook the omelette, the next step is to attend the cooking class and follow the provided instructions to cook the omelette.\u001b[0m\n",
      "\u001b[1m\u001b[34mSubtask identified: End Task\u001b[0m\n",
      "Task completed successfully!\n",
      "\n"
     ]
    },
    {
     "data": {
      "text/plain": [
       "[{'Details of how to cook in bullet form': '1. Crack eggs into a bowl and whisk with salt and pepper. \\n2. Heat a non-stick pan over medium heat and add butter. \\n3. Pour the egg mixture into the pan. \\n4. Cook until the edges are set, then gently lift the edges to let the uncooked eggs flow underneath. \\n5. Add desired fillings like cheese, vegetables, or ham. \\n6. Fold the omelette in half and cook for another minute. \\n7. Slide the omelette onto a plate and serve hot.'},\n",
       " {'Details of how to cook in bullet form': '1. Crack eggs into a bowl and whisk with salt and pepper. \\n2. Heat a non-stick pan over medium heat and add butter. \\n3. Pour the egg mixture into the pan. \\n4. Cook until the edges are set, then gently lift the edges to let the uncooked eggs flow underneath. \\n5. Add desired fillings like cheese, vegetables, or ham. \\n6. Fold the omelette in half and cook for another minute. \\n7. Slide the omelette onto a plate and serve hot.'},\n",
       " {'Booked Timeslots': '2:00pm - 3:00pm: Cooking Class to Cook Omelette',\n",
       "  'Completed Status': 'Successful'}]"
      ]
     },
     "execution_count": 78,
     "metadata": {},
     "output_type": "execute_result"
    }
   ],
   "source": [
    "agent2.reset()\n",
    "agent2.run('''Add a 1 hour cooking class to cook an omelette at 2pm to my schedule. \n",
    "Alas, I don't know how to cook the omelette''')"
   ]
  },
  {
   "cell_type": "code",
   "execution_count": 79,
   "id": "d04adcd5-3fec-42ce-a293-0a40c329ebe8",
   "metadata": {
    "tags": []
   },
   "outputs": [
    {
     "name": "stdout",
     "output_type": "stream",
     "text": [
      "No, you do not have any appointments at 4pm-5pm today.\n"
     ]
    },
    {
     "data": {
      "text/plain": [
       "'No, you do not have any appointments at 4pm-5pm today.'"
      ]
     },
     "execution_count": 79,
     "metadata": {},
     "output_type": "execute_result"
    }
   ],
   "source": [
    "agent2.reply_user('Do I have any appointments at 4pm-5pm today?', stateful = False)"
   ]
  },
  {
   "cell_type": "markdown",
   "id": "1f30d76f-d7a0-4677-8dc5-ae75c0a70a3c",
   "metadata": {},
   "source": [
    "## Function Calling\n",
    "- If you want fine-grained control over what your function takes in, and what params you want for your function\n",
    "- Generally not needed"
   ]
  },
  {
   "cell_type": "code",
   "execution_count": 80,
   "id": "77e00a13-a89b-4119-9952-360b40ffdc76",
   "metadata": {
    "tags": []
   },
   "outputs": [
    {
     "name": "stdout",
     "output_type": "stream",
     "text": [
      "\u001b[1m\u001b[30mObservation: The current schedule is from 10am to 1130am for a TaskGen Tutorial. The user wants to schedule a badminton session at 2-3pm.\u001b[0m\n",
      "\u001b[1m\u001b[32mThoughts: To complete the remainder of the assigned task, we need to schedule the badminton session at the requested time.\u001b[0m\n"
     ]
    }
   ],
   "source": [
    "fn_name, fn_params = agent2.select_function('Schedule badminton session at 2-3pm')"
   ]
  },
  {
   "cell_type": "code",
   "execution_count": 81,
   "id": "e34ca50e-9f9d-4d8e-b39c-0aaa4d7d76b4",
   "metadata": {
    "tags": []
   },
   "outputs": [
    {
     "name": "stdout",
     "output_type": "stream",
     "text": [
      "Calling function schedule_appointment with parameters {'appointment': 'badminton session', 'start_time': '2pm', 'end_time': '3pm'}\n",
      "> {'Booked Timeslots': '2pm to 3pm: badminton session', 'Completed Status': 'Successful'}\n",
      "\n"
     ]
    },
    {
     "data": {
      "text/plain": [
       "{'Booked Timeslots': '2pm to 3pm: badminton session',\n",
       " 'Completed Status': 'Successful'}"
      ]
     },
     "execution_count": 81,
     "metadata": {},
     "output_type": "execute_result"
    }
   ],
   "source": [
    "agent2.use_function(fn_name, fn_params, stateful = False)"
   ]
  },
  {
   "cell_type": "markdown",
   "id": "c7a917a4-d014-4698-816b-19b88c4204be",
   "metadata": {},
   "source": [
    "# Shared Variables\n",
    "- Allows you to store information in external variables\n",
    "- Helps to deal with lengthy text / multimodal inputs/outputs"
   ]
  },
  {
   "cell_type": "code",
   "execution_count": 82,
   "id": "c328fd7e-a541-4fbe-9803-1f3effa47130",
   "metadata": {
    "tags": []
   },
   "outputs": [],
   "source": [
    "agent3 = Agent('Personal Assistant', 'Helps to find cooking recipes or schedules stuff', \n",
    "              default_to_llm = False,\n",
    "              shared_variables = {'Scheduled Timeslots': ['10am - 1130am: TaskGen Tutorial']},\n",
    "              llm = llm)"
   ]
  },
  {
   "cell_type": "code",
   "execution_count": 83,
   "id": "64c08aad-4233-449a-8f66-885625aea1ba",
   "metadata": {
    "tags": []
   },
   "outputs": [],
   "source": [
    "def schedule_with_time_and_appointment(shared_variables, appointment, start_time, end_time):\n",
    "    shared_variables['Scheduled Timeslots'].append(f'{start_time} - {end_time}: {appointment}')\n",
    "    \n",
    "    return 'Completed'"
   ]
  },
  {
   "cell_type": "code",
   "execution_count": 84,
   "id": "6564046d-67f5-47ab-b933-9ef4d3711e07",
   "metadata": {
    "tags": []
   },
   "outputs": [],
   "source": [
    "# This schedules an appointment, taking into account the s_Booked_Timeslots\n",
    "schedule_fn_2 = Function('Schedules an <appointment> from <start_time> to <end_time>', \n",
    "                       {'Completed Status': 'Completed if Timeslot is booked, otherwise Not Completed'},\n",
    "                        external_fn = schedule_with_time_and_appointment)"
   ]
  },
  {
   "cell_type": "code",
   "execution_count": 85,
   "id": "65b208f2-e30a-46f9-937e-e39ba070b12b",
   "metadata": {
    "tags": []
   },
   "outputs": [
    {
     "data": {
      "text/plain": [
       "<taskgen.agent.Agent at 0x130961290>"
      ]
     },
     "execution_count": 85,
     "metadata": {},
     "output_type": "execute_result"
    }
   ],
   "source": [
    "# assign all your functions\n",
    "agent3.assign_functions([cooking_fn, schedule_fn_2])"
   ]
  },
  {
   "cell_type": "code",
   "execution_count": 86,
   "id": "dc59fbe2-b7b1-4bc5-b20c-a263a5126d19",
   "metadata": {
    "tags": []
   },
   "outputs": [
    {
     "name": "stdout",
     "output_type": "stream",
     "text": [
      "Agent Name: Personal Assistant\n",
      "Agent Description: Helps to find cooking recipes or schedules stuff\n",
      "Available Functions: ['end_task', 'cook_dish_in_point_form', 'schedule_with_time_and_appointment']\n",
      "Shared Variables: ['Scheduled Timeslots', 'agent']\n",
      "\u001b[1m\u001b[32mTask: No task assigned\u001b[0m\n",
      "\u001b[1m\u001b[34mSubtasks Completed: None\u001b[0m\n",
      "Is Task Completed: False\n"
     ]
    }
   ],
   "source": [
    "agent3.status()"
   ]
  },
  {
   "cell_type": "code",
   "execution_count": 87,
   "id": "254a2ca3-48db-4cb3-b1ad-bcfcdad76450",
   "metadata": {
    "tags": []
   },
   "outputs": [
    {
     "name": "stdout",
     "output_type": "stream",
     "text": [
      "Name: end_task\n",
      "Description: Passes the final output to the user\n",
      "Input: []\n",
      "Output: {}\n",
      "\n",
      "Name: cook_dish_in_point_form\n",
      "Description: Describe how to cook <dish: str> in point form\n",
      "Input: ['dish']\n",
      "Output: {'Details of how to cook in bullet form': 'Details'}\n",
      "\n",
      "Name: schedule_with_time_and_appointment\n",
      "Description: Schedules an <appointment> from <start_time> to <end_time>\n",
      "Input: ['appointment', 'start_time', 'end_time']\n",
      "Output: {'Completed Status': 'Completed if Timeslot is booked, otherwise Not Completed'}\n",
      "\n"
     ]
    }
   ],
   "source": [
    "agent3.print_functions()"
   ]
  },
  {
   "cell_type": "code",
   "execution_count": 88,
   "id": "9f2637ca-2e9d-48f8-9bfc-4fc1f65107b7",
   "metadata": {
    "tags": []
   },
   "outputs": [
    {
     "name": "stdout",
     "output_type": "stream",
     "text": [
      "\u001b[1m\u001b[30mObservation: No subtasks have been completed yet for the assigned task.\u001b[0m\n",
      "\u001b[1m\u001b[32mThoughts: To complete the assigned task, we need to schedule a 3-hour badminton session starting from 2pm.\u001b[0m\n",
      "\u001b[1m\u001b[34mSubtask identified: Schedule a 3-hour badminton session starting from 2pm.\u001b[0m\n",
      "Calling function schedule_with_time_and_appointment with parameters {'appointment': 'badminton session', 'start_time': '2pm', 'end_time': '5pm'}\n",
      "> {'Completed Status': 'Completed'}\n",
      "\n",
      "\u001b[1m\u001b[30mObservation: The badminton session from 2pm to 5pm has been successfully scheduled.\u001b[0m\n",
      "\u001b[1m\u001b[32mThoughts: Since the badminton session has been scheduled, the Assigned Task is completed. No further action is required.\u001b[0m\n",
      "\u001b[1m\u001b[34mSubtask identified: End Task\u001b[0m\n",
      "Task completed successfully!\n",
      "\n"
     ]
    },
    {
     "data": {
      "text/plain": [
       "[{'Completed Status': 'Completed'}]"
      ]
     },
     "execution_count": 88,
     "metadata": {},
     "output_type": "execute_result"
    }
   ],
   "source": [
    "agent3.reset()\n",
    "agent3.run('Schedule a 3 hour badmintion session starting from 2pm')"
   ]
  },
  {
   "cell_type": "code",
   "execution_count": 89,
   "id": "e56d092f-882e-4b1a-948f-d7c3b631e081",
   "metadata": {
    "tags": []
   },
   "outputs": [
    {
     "data": {
      "text/plain": [
       "{'Scheduled Timeslots': ['10am - 1130am: TaskGen Tutorial',\n",
       "  '2pm - 5pm: badminton session'],\n",
       " 'agent': <taskgen.agent.Agent at 0x130961290>}"
      ]
     },
     "execution_count": 89,
     "metadata": {},
     "output_type": "execute_result"
    }
   ],
   "source": [
    "agent3.shared_variables"
   ]
  },
  {
   "cell_type": "markdown",
   "id": "bac10410-5aba-4f93-9e3b-51a58a320597",
   "metadata": {},
   "source": [
    "# Agent with Global Context\n",
    "- Makes agent hallucinate less as giving it as Global Context for each state and doing step by step generation helps a lot with updating existing start state and starting generation from there\n",
    "- Shifting the Start State closer and closer to End state via Global Context is a very helpful approach for Agentic Generation"
   ]
  },
  {
   "cell_type": "code",
   "execution_count": 90,
   "id": "63235611-849c-4c72-b0f9-bc2ffdd10d26",
   "metadata": {},
   "outputs": [],
   "source": [
    "agent4 = Agent('Personal Assistant', '''Helps User to find cooking recipes or schedules stuff.\n",
    "You are not able to change timeslots already in Booked Timeslots. Shift new appointment timings to avoid clashes''', \n",
    "               default_to_llm = False,\n",
    "              shared_variables = {'Scheduled Timeslots': ['10am - 1130am: TaskGen Tutorial']},\n",
    "              llm = llm)"
   ]
  },
  {
   "cell_type": "code",
   "execution_count": 91,
   "id": "94a762e2-2083-4af9-bdbc-6bc169490cb8",
   "metadata": {},
   "outputs": [],
   "source": [
    "def get_global_context(agent):\n",
    "    ''' Outputs additional information to the agent '''\n",
    "    \n",
    "    # process additional context based on shared variables \n",
    "    # (this is what is called persistent variables - variables that will be updated each step)\n",
    "    global_context = f'''Booked Timeslots: ```{agent.shared_variables[\"Scheduled Timeslots\"]}```'''\n",
    "    \n",
    "    return global_context\n",
    "\n",
    "# assign this to agent's additional context\n",
    "agent4.get_global_context = get_global_context"
   ]
  },
  {
   "cell_type": "code",
   "execution_count": 92,
   "id": "2930a18e-c08a-4d6a-a699-5667568b0903",
   "metadata": {
    "tags": []
   },
   "outputs": [],
   "source": [
    "def schedule_with_time_and_appointment(shared_variables, appointment: str, start_time: str, end_time: str) -> str:\n",
    "    ''' Schedules an appointment from start_time to end_time '''\n",
    "    # if there is no conflict with existing appointments, then update calendar\n",
    "    # Can potentially add rule-based checker\n",
    "    shared_variables['Scheduled Timeslots'].append(f'{start_time} - {end_time}: {appointment}')\n",
    "    return f'Successfully scheduled {appointment} from {start_time} to {end_time}'"
   ]
  },
  {
   "cell_type": "code",
   "execution_count": 93,
   "id": "245d6a40-5212-4780-b152-061d6b222c8a",
   "metadata": {
    "tags": []
   },
   "outputs": [
    {
     "data": {
      "text/plain": [
       "<taskgen.agent.Agent at 0x130a563d0>"
      ]
     },
     "execution_count": 93,
     "metadata": {},
     "output_type": "execute_result"
    }
   ],
   "source": [
    "agent4.assign_functions([cooking_fn, schedule_with_time_and_appointment])"
   ]
  },
  {
   "cell_type": "code",
   "execution_count": 94,
   "id": "5bf532ec-3108-49dc-9275-07c401b4b9db",
   "metadata": {
    "tags": []
   },
   "outputs": [
    {
     "name": "stdout",
     "output_type": "stream",
     "text": [
      "Agent Name: Personal Assistant\n",
      "Agent Description: Helps User to find cooking recipes or schedules stuff.\n",
      "You are not able to change timeslots already in Booked Timeslots. Shift new appointment timings to avoid clashes\n",
      "Available Functions: ['end_task', 'cook_dish_in_point_form', 'schedule_with_time_and_appointment']\n",
      "Shared Variables: ['Scheduled Timeslots', 'agent']\n",
      "\u001b[1m\u001b[32mTask: No task assigned\u001b[0m\n",
      "\u001b[1m\u001b[34mSubtasks Completed: None\u001b[0m\n",
      "Is Task Completed: False\n"
     ]
    }
   ],
   "source": [
    "agent4.status()"
   ]
  },
  {
   "cell_type": "code",
   "execution_count": 95,
   "id": "267c8ef3-7680-490c-8337-d1e6587ee948",
   "metadata": {
    "tags": []
   },
   "outputs": [
    {
     "name": "stdout",
     "output_type": "stream",
     "text": [
      "Name: end_task\n",
      "Description: Passes the final output to the user\n",
      "Input: []\n",
      "Output: {}\n",
      "\n",
      "Name: cook_dish_in_point_form\n",
      "Description: Describe how to cook <dish: str> in point form\n",
      "Input: ['dish']\n",
      "Output: {'Details of how to cook in bullet form': 'Details'}\n",
      "\n",
      "Name: schedule_with_time_and_appointment\n",
      "Description:  Schedules an <appointment: str> from <start_time: str> to <end_time: str> \n",
      "Input: ['appointment', 'start_time', 'end_time']\n",
      "Output: {'output_1': 'str'}\n",
      "\n"
     ]
    }
   ],
   "source": [
    "agent4.print_functions()"
   ]
  },
  {
   "cell_type": "code",
   "execution_count": 96,
   "id": "2b061fbf-c924-4d04-9d5c-52401df347bc",
   "metadata": {
    "tags": []
   },
   "outputs": [
    {
     "name": "stdout",
     "output_type": "stream",
     "text": [
      "\u001b[1m\u001b[30mObservation: There is a clash with the already booked timeslot from 10am to 1130am for TaskGen Tutorial.\u001b[0m\n",
      "\u001b[1m\u001b[32mThoughts: To avoid clashes, the badminton session should be shifted to a different time slot.\u001b[0m\n",
      "\u001b[1m\u001b[34mSubtask identified: Reschedule the 3 hour badminton session to start after 1130am.\u001b[0m\n",
      "Calling function schedule_with_time_and_appointment with parameters {'appointment': 'badminton session', 'start_time': '1130am', 'end_time': '230pm'}\n",
      "> {'output_1': 'Successfully scheduled badminton session from 1130am to 230pm'}\n",
      "\n"
     ]
    },
    {
     "data": {
      "text/plain": [
       "[{'output_1': 'Successfully scheduled badminton session from 1130am to 230pm'}]"
      ]
     },
     "execution_count": 96,
     "metadata": {},
     "output_type": "execute_result"
    }
   ],
   "source": [
    "agent4.reset()\n",
    "agent4.run('''Schedule a 3 hour badmintion session from 10am''', num_subtasks = 1)"
   ]
  },
  {
   "cell_type": "code",
   "execution_count": 97,
   "id": "24598bf8-45ca-4bcf-8335-f096401b084d",
   "metadata": {
    "tags": []
   },
   "outputs": [
    {
     "name": "stdout",
     "output_type": "stream",
     "text": [
      "Agent Name: Personal Assistant\n",
      "Agent Description: Helps User to find cooking recipes or schedules stuff.\n",
      "You are not able to change timeslots already in Booked Timeslots. Shift new appointment timings to avoid clashes\n",
      "Available Functions: ['end_task', 'cook_dish_in_point_form', 'schedule_with_time_and_appointment']\n",
      "Shared Variables: ['Scheduled Timeslots', 'agent']\n",
      "\u001b[1m\u001b[32mTask: Schedule a 3 hour badmintion session from 10am\u001b[0m\n",
      "\u001b[1m\u001b[30mSubtasks Completed:\u001b[0m\n",
      "\u001b[1m\u001b[34mSubtask: schedule_with_time_and_appointment(appointment=\"badminton session\", start_time=\"1130am\", end_time=\"230pm\")\u001b[0m\n",
      "{'output_1': 'Successfully scheduled badminton session from 1130am to 230pm'}\n",
      "\n",
      "Is Task Completed: False\n"
     ]
    }
   ],
   "source": [
    "agent4.status()"
   ]
  },
  {
   "cell_type": "code",
   "execution_count": 98,
   "id": "b9e2439a-902d-460f-88e2-c56b61978cf5",
   "metadata": {
    "tags": []
   },
   "outputs": [
    {
     "data": {
      "text/plain": [
       "{'Scheduled Timeslots': ['10am - 1130am: TaskGen Tutorial',\n",
       "  '1130am - 230pm: badminton session'],\n",
       " 'agent': <taskgen.agent.Agent at 0x130a563d0>}"
      ]
     },
     "execution_count": 98,
     "metadata": {},
     "output_type": "execute_result"
    }
   ],
   "source": [
    "agent4.shared_variables"
   ]
  },
  {
   "cell_type": "code",
   "execution_count": 99,
   "id": "fa2eeade-4c9e-45d7-9b3b-ff7be0168e73",
   "metadata": {
    "tags": []
   },
   "outputs": [
    {
     "name": "stdout",
     "output_type": "stream",
     "text": [
      "\u001b[1m\u001b[30mObservation: No subtasks have been completed yet for the assigned task.\u001b[0m\n",
      "\u001b[1m\u001b[32mThoughts: To complete the remainder of the assigned task, we need to schedule a 3-hour board games session from 2pm without clashing with the already booked timeslots.\u001b[0m\n",
      "\u001b[1m\u001b[34mSubtask identified: Shift the appointment timing to avoid clashes and schedule a 3-hour board games session from 2pm.\u001b[0m\n",
      "Calling function schedule_with_time_and_appointment with parameters {'appointment': 'board games session', 'start_time': '230pm', 'end_time': '530pm'}\n",
      "> {'output_1': 'Successfully scheduled board games session from 230pm to 530pm'}\n",
      "\n"
     ]
    },
    {
     "data": {
      "text/plain": [
       "[{'output_1': 'Successfully scheduled board games session from 230pm to 530pm'}]"
      ]
     },
     "execution_count": 99,
     "metadata": {},
     "output_type": "execute_result"
    }
   ],
   "source": [
    "agent4.reset()\n",
    "agent4.run('''Schedule a 3 hour board games session from 2pm''', num_subtasks = 1)"
   ]
  },
  {
   "cell_type": "code",
   "execution_count": 100,
   "id": "191ed053-960d-41f7-8418-0e1879bac458",
   "metadata": {
    "tags": []
   },
   "outputs": [
    {
     "name": "stdout",
     "output_type": "stream",
     "text": [
      "Agent Name: Personal Assistant\n",
      "Agent Description: Helps User to find cooking recipes or schedules stuff.\n",
      "You are not able to change timeslots already in Booked Timeslots. Shift new appointment timings to avoid clashes\n",
      "Available Functions: ['end_task', 'cook_dish_in_point_form', 'schedule_with_time_and_appointment']\n",
      "Shared Variables: ['Scheduled Timeslots', 'agent']\n",
      "\u001b[1m\u001b[32mTask: Schedule a 3 hour board games session from 2pm\u001b[0m\n",
      "\u001b[1m\u001b[30mSubtasks Completed:\u001b[0m\n",
      "\u001b[1m\u001b[34mSubtask: schedule_with_time_and_appointment(appointment=\"board games session\", start_time=\"230pm\", end_time=\"530pm\")\u001b[0m\n",
      "{'output_1': 'Successfully scheduled board games session from 230pm to 530pm'}\n",
      "\n",
      "Is Task Completed: False\n"
     ]
    }
   ],
   "source": [
    "agent4.status()"
   ]
  },
  {
   "cell_type": "code",
   "execution_count": 101,
   "id": "b66fe6d3-c72e-42c6-b8d6-b213b8fca308",
   "metadata": {
    "tags": []
   },
   "outputs": [
    {
     "data": {
      "text/plain": [
       "{'Scheduled Timeslots': ['10am - 1130am: TaskGen Tutorial',\n",
       "  '1130am - 230pm: badminton session',\n",
       "  '230pm - 530pm: board games session'],\n",
       " 'agent': <taskgen.agent.Agent at 0x130a563d0>}"
      ]
     },
     "execution_count": 101,
     "metadata": {},
     "output_type": "execute_result"
    }
   ],
   "source": [
    "agent4.shared_variables"
   ]
  },
  {
   "cell_type": "code",
   "execution_count": 102,
   "id": "fde8633d-806a-4fbf-8ff3-205690ce30c4",
   "metadata": {
    "tags": []
   },
   "outputs": [
    {
     "name": "stdout",
     "output_type": "stream",
     "text": [
      "\u001b[1m\u001b[30mObservation: User wants to make a pizza and book a 2-hour slot in the evening to cook it. User normally eats after 6pm.\u001b[0m\n",
      "\u001b[1m\u001b[32mThoughts: To complete the remainder of the Assigned Task, we need to provide instructions for making a pizza and then schedule a 2-hour slot in the evening for cooking it.\u001b[0m\n",
      "\u001b[1m\u001b[34mSubtask identified: Describe how to cook a pizza in point form\u001b[0m\n",
      "Calling function cook_dish_in_point_form with parameters {'dish': 'pizza'}\n",
      "> {'Details of how to cook in bullet form': '1. Preheat the oven to the specified temperature. 2. Roll out the pizza dough on a floured surface. 3. Add your desired toppings such as sauce, cheese, and vegetables. 4. Place the pizza in the oven and bake until the crust is golden and the cheese is melted. 5. Remove from the oven, slice, and enjoy!'}\n",
      "\n",
      "\u001b[1m\u001b[30mObservation: The user has requested instructions for making a pizza and booking a 2-hour slot in the evening to cook it. The user normally eats after 6pm.\u001b[0m\n",
      "\u001b[1m\u001b[32mThoughts: To complete the remainder of the assigned task, we need to schedule a 2-hour slot in the evening for cooking the pizza to avoid clashes with the already booked timeslots.\u001b[0m\n",
      "\u001b[1m\u001b[34mSubtask identified: Schedule a 2-hour slot in the evening for cooking the pizza.\u001b[0m\n",
      "Calling function schedule_with_time_and_appointment with parameters {'appointment': 'Cooking Pizza', 'start_time': '6pm', 'end_time': '8pm'}\n",
      "> {'output_1': 'Successfully scheduled Cooking Pizza from 6pm to 8pm'}\n",
      "\n",
      "\u001b[1m\u001b[30mObservation: Subtasks Completed for Assigned Task include providing instructions for making a pizza and booking a 2-hour slot in the evening to cook it. The pizza cooking instructions have been detailed in bullet points, and the Cooking Pizza appointment has been successfully scheduled from 6pm to 8pm.\u001b[0m\n",
      "\u001b[1m\u001b[32mThoughts: To complete the remainder of the Assigned Task, the focus should be on ensuring that the cooking process for the pizza is executed smoothly within the scheduled time slot without any clashes.\u001b[0m\n",
      "\u001b[1m\u001b[34mSubtask identified: End Task\u001b[0m\n",
      "Task completed successfully!\n",
      "\n"
     ]
    },
    {
     "data": {
      "text/plain": [
       "[{'Details of how to cook in bullet form': '1. Preheat the oven to the specified temperature. 2. Roll out the pizza dough on a floured surface. 3. Add your desired toppings such as sauce, cheese, and vegetables. 4. Place the pizza in the oven and bake until the crust is golden and the cheese is melted. 5. Remove from the oven, slice, and enjoy!'},\n",
       " {'output_1': 'Successfully scheduled Cooking Pizza from 6pm to 8pm'}]"
      ]
     },
     "execution_count": 102,
     "metadata": {},
     "output_type": "execute_result"
    }
   ],
   "source": [
    "agent4.reset()\n",
    "agent4.run('Give me instructions for making a pizza, then book a 2 hour slot in evening to cook it. I normally eat after 6pm.')"
   ]
  },
  {
   "cell_type": "code",
   "execution_count": 103,
   "id": "af1e5591-0756-4f08-a88f-010978113860",
   "metadata": {
    "tags": []
   },
   "outputs": [
    {
     "name": "stdout",
     "output_type": "stream",
     "text": [
      "\u001b[1m\u001b[30mObservation: No subtasks have been completed yet for the assigned task.\u001b[0m\n",
      "\u001b[1m\u001b[32mThoughts: To complete the remainder of the assigned task, we need to schedule 3 hours of play time without conflicting with the already booked timeslots.\u001b[0m\n",
      "\u001b[1m\u001b[34mSubtask identified: Use the \"schedule_with_time_and_appointment\" function to schedule 3 hours of play time avoiding clashes with the existing booked timeslots.\u001b[0m\n",
      "Calling function schedule_with_time_and_appointment with parameters {'appointment': 'Play Time', 'start_time': '8pm', 'end_time': '11pm'}\n",
      "> {'output_1': 'Successfully scheduled Play Time from 8pm to 11pm'}\n",
      "\n"
     ]
    },
    {
     "data": {
      "text/plain": [
       "[{'output_1': 'Successfully scheduled Play Time from 8pm to 11pm'}]"
      ]
     },
     "execution_count": 103,
     "metadata": {},
     "output_type": "execute_result"
    }
   ],
   "source": [
    "agent4.reset()\n",
    "agent4.run('Schedule me 3 hours of play time', num_subtasks = 1)"
   ]
  },
  {
   "cell_type": "code",
   "execution_count": 104,
   "id": "66db87db-5e72-477c-9328-482aefd6c820",
   "metadata": {
    "tags": []
   },
   "outputs": [
    {
     "name": "stdout",
     "output_type": "stream",
     "text": [
      "Agent Name: Personal Assistant\n",
      "Agent Description: Helps User to find cooking recipes or schedules stuff.\n",
      "You are not able to change timeslots already in Booked Timeslots. Shift new appointment timings to avoid clashes\n",
      "Available Functions: ['end_task', 'cook_dish_in_point_form', 'schedule_with_time_and_appointment']\n",
      "Shared Variables: ['Scheduled Timeslots', 'agent']\n",
      "\u001b[1m\u001b[32mTask: Schedule me 3 hours of play time\u001b[0m\n",
      "\u001b[1m\u001b[30mSubtasks Completed:\u001b[0m\n",
      "\u001b[1m\u001b[34mSubtask: schedule_with_time_and_appointment(appointment=\"Play Time\", start_time=\"8pm\", end_time=\"11pm\")\u001b[0m\n",
      "{'output_1': 'Successfully scheduled Play Time from 8pm to 11pm'}\n",
      "\n",
      "Is Task Completed: False\n"
     ]
    }
   ],
   "source": [
    "agent4.status()"
   ]
  },
  {
   "cell_type": "code",
   "execution_count": 105,
   "id": "0421dcbc-3b9c-4a69-95a0-3b807f3028bb",
   "metadata": {
    "tags": []
   },
   "outputs": [
    {
     "data": {
      "text/plain": [
       "{'Scheduled Timeslots': ['10am - 1130am: TaskGen Tutorial',\n",
       "  '1130am - 230pm: badminton session',\n",
       "  '230pm - 530pm: board games session',\n",
       "  '6pm - 8pm: Cooking Pizza',\n",
       "  '8pm - 11pm: Play Time'],\n",
       " 'agent': <taskgen.agent.Agent at 0x130a563d0>}"
      ]
     },
     "execution_count": 105,
     "metadata": {},
     "output_type": "execute_result"
    }
   ],
   "source": [
    "agent4.shared_variables"
   ]
  }
 ],
 "metadata": {
  "kernelspec": {
   "display_name": "Python 3 (ipykernel)",
   "language": "python",
   "name": "python3"
  },
  "language_info": {
   "codemirror_mode": {
    "name": "ipython",
    "version": 3
   },
   "file_extension": ".py",
   "mimetype": "text/x-python",
   "name": "python",
   "nbconvert_exporter": "python",
   "pygments_lexer": "ipython3",
   "version": "3.11.3"
  }
 },
 "nbformat": 4,
 "nbformat_minor": 5
}
