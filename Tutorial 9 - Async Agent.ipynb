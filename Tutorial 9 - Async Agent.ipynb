{
 "cells": [
  {
   "cell_type": "markdown",
   "id": "28aa7e46-feca-4d00-af73-9a91165b4a0b",
   "metadata": {},
   "source": [
    "# Tutorial 9: Async Agent\n",
    "\n",
    "- This is an async version of Tutorial 1 - Agent, Tutorial 3 - Shared Variables and Tutorial 4 - Memory using fully async processes.\n",
    "\n",
    "- We use `AsyncAgent`, `AsyncFunction` and `strict_json_async`\n",
    "    - These are the async equivalents of `Agent`, `Function` and `strict_json`\n",
    "    \n",
    "- Using Async can help do parallel processes simulataneously, resulting in a much faster workflow"
   ]
  },
  {
   "cell_type": "markdown",
   "id": "ba2c3090-0534-49e9-b648-b3070dd6b7dc",
   "metadata": {
    "tags": []
   },
   "source": [
    "# Install TaskGen"
   ]
  },
  {
   "cell_type": "code",
   "execution_count": 1,
   "id": "49f1f478-92cf-4854-b1bf-802d64c5a9d5",
   "metadata": {
    "tags": []
   },
   "outputs": [],
   "source": [
    "# !pip install taskgen-ai"
   ]
  },
  {
   "cell_type": "code",
   "execution_count": 2,
   "id": "5d2392bb-46cb-4d0e-8631-15b4d368bafe",
   "metadata": {
    "tags": []
   },
   "outputs": [],
   "source": [
    "# Set up API key and do the necessary imports\n",
    "import os\n",
    "from taskgen import *\n",
    "os.environ['OPENAI_API_KEY'] = '<YOUR_API_KEY_HERE>'"
   ]
  },
  {
   "cell_type": "markdown",
   "id": "e2b7f892-eb78-49c1-96db-e553ac2d6727",
   "metadata": {
    "tags": []
   },
   "source": [
    "# Agent Basics\n",
    "- Create an agent by entering your agent's name and description\n",
    "- Agents are task-based, so they will help generate subtasks to fulfil your main task\n",
    "\n",
    "- Agents are made to be non-verbose, so they will just focus only on task instruction (Much more efficient compared to conversational-based agentic frameworks like AutoGen)\n",
    "- Agent's interactions will be stored into `subtasks_completed` by default, which will serve as a memory buffer for future interactions\n",
    "\n",
    "- **Inputs for Agent**:\n",
    "    - **agent_name**: String. Name of agent, hinting at what the agent does\n",
    "    - **agent_description**: String. Short description of what the agent does\n",
    "    - **max_subtasks**: Int. Default: 5. The maximum number of subtasks the agent can have\n",
    "    - **verbose**: Bool. Default: True. Whether to print out agent's intermediate thoughts\n",
    "<br/><br/>\n",
    "\n",
    "- **Agent Internal Parameters**:\n",
    "    - **Task**: String. The task the agent has been assigned to - Defaults to \"No task assigned\"\n",
    "    - **Subtasks Completed**: Dict. The keys are the subtask names and the values are the result of the respective subtask\n",
    "    - **Is Task Completed**: Bool. Whether the current Task is completed\n",
    "<br/><br/>\n",
    "\n",
    "- **Automatic Task Running**\n",
    "    - **reset()**: Resets the Agent Internal Parameters\n",
    "    - **run(task: str)**: Performs the task. Do note that agent's state will not be reset, so if you want to reset it, call reset() prior to running this\n",
    "<br/><br/>\n",
    "\n",
    "\n",
    "- **Manual Task Running**\n",
    "    - **assign(task: str)**: Assigns a task to the agent, setting Is Task Completed to False\n",
    "    - **run(num_subtasks: int)**: Runs the task for num_subtasks number of subtasks. Uses the existing assigned task\n",
    "<br/><br/>\n",
    "\n",
    "- **Give User Output**\n",
    "    - **reply_user(query: str = '', stateful: bool = True)**: Using all information from subtasks, give a reply about the `query` to the user. If `query` is not given, then it replies based on the current task the agent is doing. If `stateful` is True, saves this query and reply into `subtasks_completed`\n",
    "<br/><br/>\n",
    "    \n",
    "- **Check status of Agent**:\n",
    "    - **status()**: Lists out Agent Name, Agent Description, Available Functions (default function is to use the LLM), Task, Subtasks Completed and Is Task Completed\n",
    "    \n",
    "## Example Agent Creation\n",
    "```python\n",
    "my_agent = AsyncAgent('Helpful assistant', 'You are a generalist agent')\n",
    "```\n",
    "\n",
    "## Example Agent Task Running - Split the assigned task into subtasks and execute each of them\n",
    "\n",
    "```python\n",
    "output = await my_agent.run('Give me 5 words rhyming with cool, and make a 4-sentence poem using them')\n",
    "```\n",
    "\n",
    "`Subtask identified: Find 5 words that rhyme with 'cool'`\n",
    "\n",
    "`Getting LLM to perform the following task: Find 5 words that rhyme with 'cool'`\n",
    "> pool, rule, fool, tool, school\n",
    "\n",
    "`Subtask identified: Compose a 4-sentence poem using the words 'pool', 'rule', 'fool', 'tool', and 'school'`\n",
    "\n",
    "`Getting LLM to perform the following task: Compose a 4-sentence poem using the words 'pool', 'rule', 'fool', 'tool', and 'school'`\n",
    "> In the school, the golden rule is to never be a fool. Use your mind as a tool, and always follow the pool.\n",
    "\n",
    "`Task completed successfully!`\n",
    "\n",
    "## Example Agent Reply to User - Reference the subtasks' output to answer the user's query\n",
    "```python\n",
    "output = await my_agent.reply_user()\n",
    "```\n",
    "\n",
    "`\n",
    "Here are 5 words that rhyme with \"cool\": pool, rule, fool, tool, school. Here is a 4-sentence poem using these words: \"In the school, the golden rule is to never be a fool. Use your mind as a tool, and always follow the pool.\"\n",
    "`\n",
    "\n",
    "## Check Agent's Status\n",
    "```python\n",
    "my_agent.status()\n",
    "```\n",
    "\n",
    "`Agent Name: Helpful assistant`\n",
    "\n",
    "`Agent Description: You are a generalist agent`\n",
    "\n",
    "`Available Functions: ['use_llm', 'end_task']`\n",
    "\n",
    "`Task: Give me 5 words rhyming with cool, and make a 4-sentence poem using them`\n",
    "\n",
    "`Subtasks Completed:`\n",
    "\n",
    "`Subtask: Find 5 words that rhyme with 'cool'`\n",
    "\n",
    "`pool, rule, fool, tool, school`\n",
    "\n",
    "`Subtask: Compose a 4-sentence poem using the words 'pool', 'rule', 'fool', 'tool', and 'school'`\n",
    "\n",
    "`In the school, the golden rule is to never be a fool. Use your mind as a tool, and always follow the pool.`\n",
    "\n",
    "`Is Task Completed: True`"
   ]
  },
  {
   "cell_type": "markdown",
   "id": "15f83723-ad19-4422-9826-81a3a734dc2b",
   "metadata": {},
   "source": [
    "## Create Agent"
   ]
  },
  {
   "cell_type": "code",
   "execution_count": 3,
   "id": "5993aad2-112d-4952-bfcd-43a71c7e2cb3",
   "metadata": {
    "tags": []
   },
   "outputs": [],
   "source": [
    "# Create your agent by specifying name and description\n",
    "my_agent = AsyncAgent('Helpful assistant', 'You are a generalist agent')"
   ]
  },
  {
   "cell_type": "code",
   "execution_count": 4,
   "id": "89cc5918-5bd4-468c-8ff9-b4449e050c22",
   "metadata": {
    "tags": []
   },
   "outputs": [
    {
     "name": "stdout",
     "output_type": "stream",
     "text": [
      "Agent Name: Helpful assistant\n",
      "Agent Description: You are a generalist agent\n",
      "Available Functions: ['use_llm', 'end_task']\n",
      "Shared Variables: ['agent']\n",
      "\u001b[1m\u001b[32mTask: No task assigned\u001b[0m\n",
      "\u001b[1m\u001b[34mSubtasks Completed: None\u001b[0m\n",
      "Is Task Completed: False\n"
     ]
    }
   ],
   "source": [
    "# Show the agent status - By default agent comes equipped with default function `use_llm` which queries the llm\n",
    "# end_task is to end the current task if it is completed\n",
    "my_agent.status()"
   ]
  },
  {
   "cell_type": "markdown",
   "id": "6a4fa06e-f2a6-4405-a0f6-f7ec51a6a84e",
   "metadata": {
    "tags": []
   },
   "source": [
    "## Run Task! (Example 1)"
   ]
  },
  {
   "cell_type": "code",
   "execution_count": 5,
   "id": "7444343a",
   "metadata": {},
   "outputs": [
    {
     "name": "stdout",
     "output_type": "stream",
     "text": [
      "\u001b[1m\u001b[30mObservation: No subtasks have been completed yet.\u001b[0m\n",
      "\u001b[1m\u001b[32mThoughts: To complete the assigned task, I need to find 5 words rhyming with \"cool\" and then create a 4-sentence poem using them.\u001b[0m\n",
      "\u001b[1m\u001b[34mSubtask identified: Find 5 words that rhyme with \"cool\".\u001b[0m\n",
      "Getting LLM to perform the following task: Find 5 words that rhyme with \"cool\".\n",
      "> As a generalist agent, I have found 5 words that rhyme with \"cool\": pool, drool, school, tool, and fool.\n",
      "\n",
      "\u001b[1m\u001b[30mObservation: I have found 5 words that rhyme with \"cool\": pool, drool, school, tool, and fool.\u001b[0m\n",
      "\u001b[1m\u001b[32mThoughts: The next step is to create a 4-sentence poem using these words.\u001b[0m\n",
      "\u001b[1m\u001b[34mSubtask identified: Compose a 4-sentence poem using the words: pool, drool, school, tool, and fool.\u001b[0m\n",
      "Getting LLM to perform the following task: Compose a 4-sentence poem using the words: pool, drool, school, tool, and fool.\n",
      "> As a generalist agent, I have composed a 4-sentence poem using the words: pool, drool, school, tool, and fool. Here it is: In the school by the pool, a fool with a tool made others drool. The cool water in the pool was the perfect tool to cool off after school. The fool played it cool, acting like a tool, making everyone drool at his poolside school.\n",
      "\n",
      "\u001b[1m\u001b[30mObservation: The agent has successfully found 5 words that rhyme with \"cool\" and composed a 4-sentence poem using these words: pool, drool, school, tool, and fool.\u001b[0m\n",
      "\u001b[1m\u001b[32mThoughts: The agent needs to pass the final output to the user as the last subtask of the assigned task.\u001b[0m\n",
      "\u001b[1m\u001b[34mSubtask identified: End Task\u001b[0m\n",
      "Task completed successfully!\n",
      "\n",
      "[{'Detailed Outcome': 'As a generalist agent, I have found 5 words that rhyme with \"cool\": pool, drool, school, tool, and fool.'}, {'Detailed Outcome': 'As a generalist agent, I have composed a 4-sentence poem using the words: pool, drool, school, tool, and fool. Here it is: In the school by the pool, a fool with a tool made others drool. The cool water in the pool was the perfect tool to cool off after school. The fool played it cool, acting like a tool, making everyone drool at his poolside school.'}]\n"
     ]
    }
   ],
   "source": [
    "# ASYNC\n",
    "my_agent.reset()\n",
    "output = await my_agent.run('Give me 5 words rhyming with cool, and then make a 4-sentence poem using them')\n",
    "print(output)"
   ]
  },
  {
   "cell_type": "code",
   "execution_count": 6,
   "id": "711c8d4b",
   "metadata": {},
   "outputs": [
    {
     "name": "stdout",
     "output_type": "stream",
     "text": [
      "As a generalist agent, I have found 5 words that rhyme with \"cool\": pool, drool, school, tool, and fool. I have also composed a 4-sentence poem using these words: In the school by the pool, a fool with a tool made others drool. The cool water in the pool was the perfect tool to cool off after school. The fool played it cool, acting like a tool, making everyone drool at his poolside school.\n"
     ]
    }
   ],
   "source": [
    "output_async = await my_agent.reply_user()"
   ]
  },
  {
   "cell_type": "code",
   "execution_count": 7,
   "id": "e1cbbce6-27b4-47f4-afc1-08e763de82fa",
   "metadata": {},
   "outputs": [
    {
     "name": "stdout",
     "output_type": "stream",
     "text": [
      "The pool is located in the school by the poolside where the fool with a tool made others drool. It was the perfect place to cool off after school.\n"
     ]
    }
   ],
   "source": [
    "# You can also ask your questions to the agent, and the agent will reply according to its current state. Functions like a QA bot\n",
    "# Here, we set stateful is false because we do not want this to go into subtasks_completed\n",
    "output = await my_agent.reply_user('Where is the pool?', stateful = False)"
   ]
  },
  {
   "cell_type": "code",
   "execution_count": 8,
   "id": "d5b6b2b9-4d8a-47ec-a190-819de5e3f051",
   "metadata": {
    "tags": []
   },
   "outputs": [
    {
     "name": "stdout",
     "output_type": "stream",
     "text": [
      "Agent Name: Helpful assistant\n",
      "Agent Description: You are a generalist agent\n",
      "Available Functions: ['use_llm', 'end_task']\n",
      "Shared Variables: ['agent']\n",
      "\u001b[1m\u001b[32mTask: Give me 5 words rhyming with cool, and then make a 4-sentence poem using them\u001b[0m\n",
      "\u001b[1m\u001b[30mSubtasks Completed:\u001b[0m\n",
      "\u001b[1m\u001b[34mSubtask: Find 5 words that rhyme with \"cool\".\u001b[0m\n",
      "{'Detailed Outcome': 'As a generalist agent, I have found 5 words that rhyme with \"cool\": pool, drool, school, tool, and fool.'}\n",
      "\n",
      "\u001b[1m\u001b[34mSubtask: Compose a 4-sentence poem using the words: pool, drool, school, tool, and fool.\u001b[0m\n",
      "{'Detailed Outcome': 'As a generalist agent, I have composed a 4-sentence poem using the words: pool, drool, school, tool, and fool. Here it is: In the school by the pool, a fool with a tool made others drool. The cool water in the pool was the perfect tool to cool off after school. The fool played it cool, acting like a tool, making everyone drool at his poolside school.'}\n",
      "\n",
      "\u001b[1m\u001b[34mSubtask: Give me 5 words rhyming with cool, and then make a 4-sentence poem using them\u001b[0m\n",
      "As a generalist agent, I have found 5 words that rhyme with \"cool\": pool, drool, school, tool, and fool. I have also composed a 4-sentence poem using these words: In the school by the pool, a fool with a tool made others drool. The cool water in the pool was the perfect tool to cool off after school. The fool played it cool, acting like a tool, making everyone drool at his poolside school.\n",
      "\n",
      "Is Task Completed: True\n"
     ]
    }
   ],
   "source": [
    "# see the updated agent status\n",
    "my_agent.status()"
   ]
  },
  {
   "cell_type": "markdown",
   "id": "dc862bf5-cf86-4d43-b947-c5ba1a3d3004",
   "metadata": {},
   "source": [
    "## Run Task! (Example 2)"
   ]
  },
  {
   "cell_type": "code",
   "execution_count": 9,
   "id": "1caacb89-3e42-46c6-b620-99424fb3b04d",
   "metadata": {
    "tags": []
   },
   "outputs": [],
   "source": [
    "# Create your agent by specifying name and description\n",
    "my_agent = AsyncAgent('Trip Planner',\n",
    "'''You are a planner for a trip.\n",
    "When given a destination, first do an overall broad plan for all days with no mention of the time \n",
    "e.g. Day 1 - Going to City for Activities, Day 2 - Going to the Wild for Activities\n",
    "\n",
    "Thereafter, fill in details for the morning, afternoon and evening activities, \n",
    "e.g. Day 1 Morning - Shopping, Afternoon - Eating, Evening - Theatre\n",
    "\n",
    "Do not do anything other than generating the plan''')"
   ]
  },
  {
   "cell_type": "code",
   "execution_count": 10,
   "id": "db12c32a-66ae-4a96-a73c-d04ef7a900d4",
   "metadata": {
    "tags": []
   },
   "outputs": [
    {
     "name": "stdout",
     "output_type": "stream",
     "text": [
      "\u001b[1m\u001b[30mObservation: No subtasks have been completed yet.\u001b[0m\n",
      "\u001b[1m\u001b[32mThoughts: I need to start by creating a broad plan and a detailed plan for a 3-day itinerary for Hawaii, involving scuba-diving and some sightseeing.\u001b[0m\n",
      "\u001b[1m\u001b[34mSubtask identified: Generate a broad plan for a 3-day itinerary in Hawaii, involving scuba-diving and sightseeing.\u001b[0m\n",
      "Getting LLM to perform the following task: Generate a broad plan for a 3-day itinerary in Hawaii, involving scuba-diving and sightseeing.\n",
      "> {\n",
      "    Day 1 - Exploring the North Shore\n",
      "    Morning - Visit Waimea Valley for a nature walk\n",
      "    Afternoon - Enjoy snorkeling at Shark's Cove\n",
      "    Evening - Dinner at a local food truck\n",
      "\n",
      "    Day 2 - Scuba Diving Adventure\n",
      "    Morning - Scuba diving session at Hanauma Bay\n",
      "    Afternoon - Relax at Lanikai Beach\n",
      "    Evening - Sunset cruise along the coast\n",
      "\n",
      "    Day 3 - Sightseeing in Honolulu\n",
      "    Morning - Visit Pearl Harbor and the USS Arizona Memorial\n",
      "    Afternoon - Explore the Waikiki Aquarium\n",
      "    Evening - Dinner at a traditional Hawaiian luau'}\n",
      "\n",
      "\u001b[1m\u001b[30mObservation: The broad and detailed plan for a 3-day itinerary in Hawaii involving scuba-diving and sightseeing has been generated successfully.\u001b[0m\n",
      "\u001b[1m\u001b[32mThoughts: The next step is to provide the final output to the user as the task has been completed.\u001b[0m\n",
      "\u001b[1m\u001b[34mSubtask identified: End Task\u001b[0m\n",
      "Task completed successfully!\n",
      "\n"
     ]
    }
   ],
   "source": [
    "# Do the task by subtasks\n",
    "output = await my_agent.run('Give me a broad plan and a detailed plan for a 3-day itinerary for Hawaii, involving scuba-diving and some sightseeing')"
   ]
  },
  {
   "cell_type": "code",
   "execution_count": 11,
   "id": "2d209909-50f1-4847-bf49-4aa374ef901d",
   "metadata": {
    "tags": []
   },
   "outputs": [
    {
     "name": "stdout",
     "output_type": "stream",
     "text": [
      "{\n",
      "    Day 1 - Exploring the North Shore\n",
      "    Morning - Visit Waimea Valley for a nature walk\n",
      "    Afternoon - Enjoy snorkeling at Shark's Cove\n",
      "    Evening - Dinner at a local food truck\n",
      "\n",
      "    Day 2 - Scuba Diving Adventure\n",
      "    Morning - Scuba diving session at Hanauma Bay\n",
      "    Afternoon - Relax at Lanikai Beach\n",
      "    Evening - Sunset cruise along the coast\n",
      "\n",
      "    Day 3 - Sightseeing in Honolulu\n",
      "    Morning - Visit Pearl Harbor and the USS Arizona Memorial\n",
      "    Afternoon - Explore the Waikiki Aquarium\n",
      "    Evening - Dinner at a traditional Hawaiian luau\n",
      "}\n"
     ]
    }
   ],
   "source": [
    "# Generates a meaningful reply to the user\n",
    "output =await my_agent.reply_user()"
   ]
  },
  {
   "cell_type": "code",
   "execution_count": 12,
   "id": "e7cdb199-1e00-4f42-b2a5-3295ddc6ceb7",
   "metadata": {
    "tags": []
   },
   "outputs": [
    {
     "name": "stdout",
     "output_type": "stream",
     "text": [
      "Agent Name: Trip Planner\n",
      "Agent Description: You are a planner for a trip.\n",
      "When given a destination, first do an overall broad plan for all days with no mention of the time \n",
      "e.g. Day 1 - Going to City for Activities, Day 2 - Going to the Wild for Activities\n",
      "\n",
      "Thereafter, fill in details for the morning, afternoon and evening activities, \n",
      "e.g. Day 1 Morning - Shopping, Afternoon - Eating, Evening - Theatre\n",
      "\n",
      "Do not do anything other than generating the plan\n",
      "Available Functions: ['use_llm', 'end_task']\n",
      "Shared Variables: ['agent']\n",
      "\u001b[1m\u001b[32mTask: Give me a broad plan and a detailed plan for a 3-day itinerary for Hawaii, involving scuba-diving and some sightseeing\u001b[0m\n",
      "\u001b[1m\u001b[30mSubtasks Completed:\u001b[0m\n",
      "\u001b[1m\u001b[34mSubtask: Generate a broad plan for a 3-day itinerary in Hawaii, involving scuba-diving and sightseeing.\u001b[0m\n",
      "{'Detailed Outcome': \"{\\n    Day 1 - Exploring the North Shore\\n    Morning - Visit Waimea Valley for a nature walk\\n    Afternoon - Enjoy snorkeling at Shark's Cove\\n    Evening - Dinner at a local food truck\\n\\n    Day 2 - Scuba Diving Adventure\\n    Morning - Scuba diving session at Hanauma Bay\\n    Afternoon - Relax at Lanikai Beach\\n    Evening - Sunset cruise along the coast\\n\\n    Day 3 - Sightseeing in Honolulu\\n    Morning - Visit Pearl Harbor and the USS Arizona Memorial\\n    Afternoon - Explore the Waikiki Aquarium\\n    Evening - Dinner at a traditional Hawaiian luau'}\"}\n",
      "\n",
      "\u001b[1m\u001b[34mSubtask: Give me a broad plan and a detailed plan for a 3-day itinerary for Hawaii, involving scuba-diving and some sightseeing\u001b[0m\n",
      "{\n",
      "    Day 1 - Exploring the North Shore\n",
      "    Morning - Visit Waimea Valley for a nature walk\n",
      "    Afternoon - Enjoy snorkeling at Shark's Cove\n",
      "    Evening - Dinner at a local food truck\n",
      "\n",
      "    Day 2 - Scuba Diving Adventure\n",
      "    Morning - Scuba diving session at Hanauma Bay\n",
      "    Afternoon - Relax at Lanikai Beach\n",
      "    Evening - Sunset cruise along the coast\n",
      "\n",
      "    Day 3 - Sightseeing in Honolulu\n",
      "    Morning - Visit Pearl Harbor and the USS Arizona Memorial\n",
      "    Afternoon - Explore the Waikiki Aquarium\n",
      "    Evening - Dinner at a traditional Hawaiian luau\n",
      "}\n",
      "\n",
      "Is Task Completed: True\n"
     ]
    }
   ],
   "source": [
    "my_agent.status()"
   ]
  },
  {
   "cell_type": "markdown",
   "id": "746bd68c-34e2-4a3c-af10-668e703c8a25",
   "metadata": {},
   "source": [
    "# Power Up your Agents - Bring in Functions (aka Tools)\n",
    "- After creating your agent, use `assign_functions` to assign a list of functions (of class Function) to it\n",
    "- Function names will be automatically inferred if not specified\n",
    "- Proceed to run tasks by using `run()`\n",
    "\n",
    "```python\n",
    "my_agent = AsyncAgent('Helpful assistant', 'You are a generalist agent')\n",
    "\n",
    "my_agent.assign_functions([sentence_style, b2d])\n",
    "\n",
    "output = await my_agent.run('Generate me a happy sentence with a number and a ball. The number is 1001 converted to decimal')\n",
    "```\n",
    "\n",
    "`Subtask identified: Convert the binary number 1001 to decimal`\n",
    "`Calling function binary_to_decimal with parameters {'x': '1001'}`\n",
    "\n",
    "> {'output1': 9}\n",
    "\n",
    "`Subtask identified: Generate a happy sentence with the decimal number and a ball`\n",
    "`Calling function sentence_with_objects_entities_emotion with parameters {'obj': '9', 'entity': 'ball', 'emotion': 'happy'}`\n",
    "\n",
    "> {'output': 'I am so happy with my 9 balls.'}\n",
    "\n",
    "`Task completed successfully!`\n",
    "\n",
    "- Approach 1: Automatically Run your agent using `run()`\n",
    "\n",
    "- Approach 2: Manually select and use functions for your task\n",
    "    - **select_function(task: str)**: Based on the task, output the next function name and input parameters\n",
    "    - **use_function(function_name: str, function_params: dict, subtask: str = '', stateful: bool = True)**: Uses the function named `function_name` with `function_params`. `stateful` controls whether the output of this function will be saved to `subtasks_completed` under the key of `subtask`\n",
    "<br/><br/>\n",
    "\n",
    "- **Assign/Remove Functions**:\n",
    "    - **assign_functions(function_list: list)**: Assigns a list of functions to the agent\n",
    "    - **remove_function(function_name: str)**: Removes function named function_name from the list of assigned functions\n",
    "<br/><br/>\n",
    "\n",
    "- **Show Functions**:\n",
    "    - **list_functions()**: Returns the list of functions of the agent\n",
    "    - **print_functions()**: Prints the list of functions of the agent\n",
    "<br/><br/>"
   ]
  },
  {
   "cell_type": "code",
   "execution_count": 13,
   "id": "1ef27daa",
   "metadata": {},
   "outputs": [],
   "source": [
    "def binary_to_decimal(x):\n",
    "    return int(str(x), 2)\n",
    "\n",
    "sentence_style_async = AsyncFunction(fn_description = 'Output a sentence with <obj> and <entity> in the style of <emotion>', \n",
    "                     output_format = {'output': 'sentence'}, fn_name = 'sentence_with_objects_entities_emotion')\n",
    "\n",
    "\n",
    "\n",
    "b2d_async = AsyncFunction(fn_name = \"binary_to_decimal\",fn_description = 'Convert input <x: a binary number in base 2> to base 10', \n",
    "            output_format = {'output1': 'x in base 10'},\n",
    "            external_fn = binary_to_decimal)"
   ]
  },
  {
   "cell_type": "code",
   "execution_count": 14,
   "id": "9b50df6b-48e9-4e37-bd60-35a93dd7bdfe",
   "metadata": {
    "tags": []
   },
   "outputs": [],
   "source": [
    "# Create your agent\n",
    "\n",
    "my_agent= AsyncAgent(agent_name = 'Helpful assistant', \n",
    "      agent_description = 'You are a generalist agent')"
   ]
  },
  {
   "cell_type": "code",
   "execution_count": 15,
   "id": "e63f4b8f-8d1f-4728-983a-9e371178e94a",
   "metadata": {
    "tags": []
   },
   "outputs": [
    {
     "data": {
      "text/plain": [
       "<taskgen.agent.AsyncAgent at 0x10c884910>"
      ]
     },
     "execution_count": 15,
     "metadata": {},
     "output_type": "execute_result"
    }
   ],
   "source": [
    "# Assign functions\n",
    "my_agent.assign_functions(function_list = [b2d_async, sentence_style_async])"
   ]
  },
  {
   "cell_type": "code",
   "execution_count": 16,
   "id": "e84e8def-3202-461e-8502-32022e4ab9c5",
   "metadata": {
    "tags": []
   },
   "outputs": [
    {
     "name": "stdout",
     "output_type": "stream",
     "text": [
      "Name: use_llm\n",
      "Description: For general tasks. Used only when no other function can do the task\n",
      "Input: []\n",
      "Output: {'Output': 'Output of LLM'}\n",
      "\n",
      "Name: end_task\n",
      "Description: Passes the final output to the user\n",
      "Input: []\n",
      "Output: {}\n",
      "\n",
      "Name: binary_to_decimal\n",
      "Description: Convert input <x: a binary number in base 2> to base 10\n",
      "Input: ['x']\n",
      "Output: {'output1': 'x in base 10'}\n",
      "\n",
      "Name: sentence_with_objects_entities_emotion\n",
      "Description: Output a sentence with <obj> and <entity> in the style of <emotion>\n",
      "Input: ['obj', 'entity', 'emotion']\n",
      "Output: {'output': 'sentence'}\n",
      "\n"
     ]
    }
   ],
   "source": [
    "# Show the functions the agent has\n",
    "my_agent.print_functions()"
   ]
  },
  {
   "cell_type": "markdown",
   "id": "f9d7206a-5741-41d8-b63d-dd4646696d99",
   "metadata": {
    "tags": []
   },
   "source": [
    "## Automatic Usage of Functions"
   ]
  },
  {
   "cell_type": "code",
   "execution_count": 17,
   "id": "5fd3a834-fce4-4fdf-9113-886e1ed9e1b4",
   "metadata": {
    "tags": []
   },
   "outputs": [
    {
     "name": "stdout",
     "output_type": "stream",
     "text": [
      "\u001b[1m\u001b[30mObservation: No subtasks have been completed yet for the Assigned Task\u001b[0m\n",
      "\u001b[1m\u001b[32mThoughts: To complete the Assigned Task, I need to generate a happy sentence with a number (convert from binary: 1001) and a ball. I can use the equipped function \"binary_to_decimal\" to convert the binary number to base 10 and then construct the sentence with the objects and emotion specified.\u001b[0m\n",
      "\u001b[1m\u001b[34mSubtask identified: Convert the binary number 1001 to base 10\u001b[0m\n",
      "Calling function binary_to_decimal with parameters {'x': 1001}\n",
      "> {'output1': 9}\n",
      "\n",
      "\u001b[1m\u001b[30mObservation: The binary number 1001 has been successfully converted to base 10, resulting in the number 9\u001b[0m\n",
      "\u001b[1m\u001b[32mThoughts: To complete the assigned task, we need to generate a happy sentence with the number 9 (converted from binary: 1001) and a ball\u001b[0m\n",
      "\u001b[1m\u001b[34mSubtask identified: Output a sentence with \"9\" and \"ball\" in the style of \"happy\"\u001b[0m\n",
      "Calling function sentence_with_objects_entities_emotion with parameters {'obj': 9, 'entity': 'ball', 'emotion': 'happy'}\n",
      "> {'output': 'I am so happy to have 9 balls!'}\n",
      "\n",
      "\u001b[1m\u001b[30mObservation: The binary number 1001 has been converted to base 10, resulting in the number 9. A happy sentence has been generated with \"9\" and \"ball\" in the style of \"happy.\"\u001b[0m\n",
      "\u001b[1m\u001b[32mThoughts: The next and final step is to end the task as all subtasks have been completed.\u001b[0m\n",
      "\u001b[1m\u001b[34mSubtask identified: End Task\u001b[0m\n",
      "Task completed successfully!\n",
      "\n"
     ]
    }
   ],
   "source": [
    "# multi-task with multiple functions\n",
    "output = await my_agent.run('Generate me a happy sentence with a number (convert from binary: 1001) and a ball')"
   ]
  },
  {
   "cell_type": "code",
   "execution_count": 18,
   "id": "c8b1ebb0-96a8-4119-90b6-0b4e8ca70203",
   "metadata": {
    "tags": []
   },
   "outputs": [
    {
     "name": "stdout",
     "output_type": "stream",
     "text": [
      "[{'output1': 9}, {'output': 'I am so happy to have 9 balls!'}]\n"
     ]
    }
   ],
   "source": [
    "# visualise the subtask outputs of the task\n",
    "print(output)"
   ]
  },
  {
   "cell_type": "code",
   "execution_count": 19,
   "id": "681a4eea-fa16-4679-a330-5f567a0e80d3",
   "metadata": {
    "tags": []
   },
   "outputs": [
    {
     "name": "stdout",
     "output_type": "stream",
     "text": [
      "I am so happy to have 9 balls!\n"
     ]
    }
   ],
   "source": [
    "# give a response to user\n",
    "output = await my_agent.reply_user()"
   ]
  },
  {
   "cell_type": "markdown",
   "id": "b37cf760-3d1c-4619-a0c3-4b81b492bc26",
   "metadata": {},
   "source": [
    "# Manual Usage of Functions\n",
    "- If you want to just see what the agent would choose for a hypothetical task, use `select_function`. This will not update the internal state, and will output function name and function params\n",
    "- If you want specificity in the process, you can just execute the agent's functions yourself using `use_function`\n",
    "- `use_function`: Uses an agent's function using name and params. Note that by default there will be updating of subtasks_completed when performing the function. In order not to update subtasks_completed, set `stateful = False`"
   ]
  },
  {
   "cell_type": "code",
   "execution_count": 20,
   "id": "b8663646-7e7c-4859-8a8f-25493cdeeede",
   "metadata": {
    "tags": []
   },
   "outputs": [
    {
     "name": "stdout",
     "output_type": "stream",
     "text": [
      "\u001b[1m\u001b[30mObservation: The assigned task is to output a sentence with bell, dog and happy.\u001b[0m\n",
      "\u001b[1m\u001b[32mThoughts: To complete the assigned task, we need to generate a sentence that includes the objects \"bell\" and \"dog\" in a style that conveys \"happy\" emotion.\u001b[0m\n",
      "Selected function name: sentence_with_objects_entities_emotion\n",
      "Selected function params: {'obj': 'bell', 'entity': 'dog', 'emotion': 'happy'}\n",
      "Calling function sentence_with_objects_entities_emotion with parameters {'obj': 'bell', 'entity': 'dog', 'emotion': 'happy'}\n",
      "> {'output': 'The dog wagged its tail happily when it heard the bell.'}\n",
      "\n"
     ]
    },
    {
     "data": {
      "text/plain": [
       "{'output': 'The dog wagged its tail happily when it heard the bell.'}"
      ]
     },
     "execution_count": 20,
     "metadata": {},
     "output_type": "execute_result"
    }
   ],
   "source": [
    "# this should call generate_sentence_with_emotion\n",
    "my_agent.reset()\n",
    "function_name, function_params = await my_agent.select_function(\n",
    "    task = 'Output a sentence with bell, dog and happy')\n",
    "print(f'Selected function name: {function_name}\\nSelected function params: {function_params}')\n",
    "\n",
    "await my_agent.use_function(function_name, function_params, stateful = False)"
   ]
  },
  {
   "cell_type": "markdown",
   "id": "6a627498",
   "metadata": {},
   "source": [
    "# Shared Variables\n",
    "\n",
    "*\"Because text is not enough\"* - Anonymous\n",
    "\n",
    "- `shared_variables` is a dictionary, that is initialised in Agent (default empty dictionary), and can be referenced by any function of the agent (including Inner Agents and their functions)\n",
    "- This can be useful for non-text modalitiies (e.g. audio, pdfs, image) and lengthy text modalities, which we do not want to output into `subtasks_completed` directly\n",
    "- `s_` at the start of the variable names means shared variables\n",
    "    - For input, it means we take the variable from `shared_variables` instead of LLM generated input\n",
    "    - For output, it means we store the variable into `shared_variables` instead of storing it in `subtasks_completed`. If `subtasks_completed` output is empty, it will be output as `{'Status': 'Completed'}`\n",
    "- Example shared variables names: `s_sum`, `s_total`, `s_list_of_words`\n",
    "- Note: For external functions, you need not put a `s_` at the start of the name of shared variables\n",
    "\n",
    "### Example Input\n",
    "```python\n",
    "add = AsyncFunction(fn_description = \"Add <increment: int> to <s_total>\", \n",
    "              output_format = {\"s_total\": \"Modified total\"})\n",
    "\n",
    "# Define the calculator agent and the shared_variables - Note the naming convention of s_ at the start of the names for shared variables\n",
    "my_agent = AsyncAgent('Calculator', 'Does computations', shared_variables = {'s_total': 0}).assign_functions([add])\n",
    "\n",
    "output = await my_agent.run('Increment s_total by 1')\n",
    "\n",
    "print('Shared Variables:', my_agent.shared_variables)\n",
    "```\n",
    "\n",
    "### Example Output\n",
    "`Subtask identified: Add 1 to s_total`\n",
    "\n",
    "`Calling function add_int_to_variable with parameters {'increment': 1}`\n",
    "> {'Status': 'Completed'}\n",
    "\n",
    "`Task completed successfully!`\n",
    "\n",
    "`Shared Variables: {'s_total': 1}`\n"
   ]
  },
  {
   "cell_type": "markdown",
   "id": "bb851b73",
   "metadata": {},
   "source": [
    "# Direct input and output link to shared variable\n",
    "- Get shared variable as input from `shared_variables`, and output shared variable directly into `shared_variables`\n",
    "- Both LLM-based functions and external functions can use this approach\n",
    "- Used when you want to input and output to a shared pool of variables without letting the LLM know the details, e.g. store a persistent state throughout function calls"
   ]
  },
  {
   "cell_type": "code",
   "execution_count": 21,
   "id": "55fbe716",
   "metadata": {},
   "outputs": [],
   "source": [
    "add = AsyncFunction(fn_description = \"Add <increment: int> to <s_total>\", \n",
    "              output_format = {\"s_total\": \"Modified total\"})\n",
    "await add.async_init()"
   ]
  },
  {
   "cell_type": "code",
   "execution_count": 22,
   "id": "37f23564",
   "metadata": {},
   "outputs": [],
   "source": [
    "def multiply_count(multiplier: int, s_total: int):\n",
    "    ''' Multiplies s_total by multiplier '''\n",
    "    return s_total * multiplier\n",
    "\n",
    "multiply = AsyncFunction(\n",
    "    output_format = {\"s_total\": \"Modified total\"}, external_fn = multiply_count)\n",
    "\n",
    "await multiply.async_init()\n"
   ]
  },
  {
   "cell_type": "code",
   "execution_count": 23,
   "id": "e2956e76",
   "metadata": {},
   "outputs": [],
   "source": [
    "my_agent = AsyncAgent('Calculator', 'Does computations', default_to_llm = False, shared_variables = {'s_total': 0}).assign_functions([add, multiply])"
   ]
  },
  {
   "cell_type": "code",
   "execution_count": 24,
   "id": "91c4f7fd",
   "metadata": {},
   "outputs": [
    {
     "name": "stdout",
     "output_type": "stream",
     "text": [
      "Shared Variables Sync: {'s_total': 0, 'agent': <taskgen.agent.AsyncAgent object at 0x10c85c390>}\n"
     ]
    }
   ],
   "source": [
    "print('Shared Variables Sync:', my_agent.shared_variables)\n"
   ]
  },
  {
   "cell_type": "code",
   "execution_count": 25,
   "id": "c48758ab",
   "metadata": {},
   "outputs": [
    {
     "data": {
      "text/plain": [
       "{'end_task': <taskgen.function.AsyncFunction at 0x10c8e5610>,\n",
       " 'add_increment_to_s_total': <taskgen.function.AsyncFunction at 0x10c8aced0>,\n",
       " 'multiply_count': <taskgen.function.AsyncFunction at 0x10c8bd7d0>}"
      ]
     },
     "execution_count": 25,
     "metadata": {},
     "output_type": "execute_result"
    }
   ],
   "source": [
    "my_agent.function_map"
   ]
  },
  {
   "cell_type": "code",
   "execution_count": 26,
   "id": "a6708ce8",
   "metadata": {},
   "outputs": [
    {
     "name": "stdout",
     "output_type": "stream",
     "text": [
      "\u001b[1m\u001b[30mObservation: No subtasks completed yet for Assigned Task\u001b[0m\n",
      "\u001b[1m\u001b[32mThoughts: Need to increment s_total by 1\u001b[0m\n",
      "\u001b[1m\u001b[34mSubtask identified: Increment s_total by 1\u001b[0m\n",
      "Calling function add_increment_to_s_total with parameters {'increment': 1}\n",
      "> {'Status': 'Completed'}\n",
      "\n",
      "\u001b[1m\u001b[30mObservation: All subtasks for the Assigned Task have been completed successfully\u001b[0m\n",
      "\u001b[1m\u001b[32mThoughts: The Assigned Task is already completed, so the next step is to end the task.\u001b[0m\n",
      "\u001b[1m\u001b[34mSubtask identified: End Task\u001b[0m\n",
      "Task completed successfully!\n",
      "\n"
     ]
    }
   ],
   "source": [
    "output = await my_agent.run('Increment s_total by 1')"
   ]
  },
  {
   "cell_type": "code",
   "execution_count": 27,
   "id": "6447f3e6",
   "metadata": {},
   "outputs": [
    {
     "data": {
      "text/plain": [
       "{'s_total': 1, 'agent': <taskgen.agent.AsyncAgent at 0x10c85c390>}"
      ]
     },
     "execution_count": 27,
     "metadata": {},
     "output_type": "execute_result"
    }
   ],
   "source": [
    "my_agent.shared_variables"
   ]
  },
  {
   "cell_type": "code",
   "execution_count": 28,
   "id": "08d1711d",
   "metadata": {},
   "outputs": [
    {
     "name": "stdout",
     "output_type": "stream",
     "text": [
      "\u001b[1m\u001b[30mObservation: No subtasks have been completed yet for the Assigned Task\u001b[0m\n",
      "\u001b[1m\u001b[32mThoughts: Need to start by incrementing s_total by 2\u001b[0m\n",
      "\u001b[1m\u001b[34mSubtask identified: Add 2 to s_total\u001b[0m\n",
      "Calling function add_increment_to_s_total with parameters {'increment': 2}\n",
      "> {'Status': 'Completed'}\n",
      "\n",
      "\u001b[1m\u001b[30mObservation: The subtask \"Add 2 to s_total\" has been completed\u001b[0m\n",
      "\u001b[1m\u001b[32mThoughts: The next step is to multiply the current s_total by 5 to complete the assigned task\u001b[0m\n",
      "\u001b[1m\u001b[34mSubtask identified: Multiply the current s_total by 5\u001b[0m\n",
      "Calling function multiply_count with parameters {'multiplier': 5}\n",
      "> {'Status': 'Completed'}\n",
      "\n",
      "\u001b[1m\u001b[30mObservation: Both subtasks have been completed successfully for the Assigned Task\u001b[0m\n",
      "\u001b[1m\u001b[32mThoughts: The next step is to pass the final output to the user as the last subtask\u001b[0m\n",
      "\u001b[1m\u001b[34mSubtask identified: End Task\u001b[0m\n",
      "Task completed successfully!\n",
      "\n"
     ]
    }
   ],
   "source": [
    "my_agent.reset()\n",
    "# When doing agents as OS, it is important to reset past subtasks completed so as not to influence future tasks\n",
    "output = await my_agent.run('First increment s_total by 2, then multiply by 5')"
   ]
  },
  {
   "cell_type": "code",
   "execution_count": 29,
   "id": "d6a1b218",
   "metadata": {},
   "outputs": [
    {
     "data": {
      "text/plain": [
       "{'s_total': 15, 'agent': <taskgen.agent.AsyncAgent at 0x10c85c390>}"
      ]
     },
     "execution_count": 29,
     "metadata": {},
     "output_type": "execute_result"
    }
   ],
   "source": [
    "my_agent.shared_variables"
   ]
  },
  {
   "cell_type": "markdown",
   "id": "e1cfe86d",
   "metadata": {},
   "source": [
    "#  Memory\n",
    "\n",
    "## Key Philosophy\n",
    "- It would be important to learn from past experience and improve the agentic framework - memory is key to that\n",
    "- You can add to the memory bank of your Agents pre-inference (by collecting from a pool of data prior to running the Agent), or during inference (add on in between running subtasks)\n",
    "\n",
    "## Use Memory in Agents\n",
    "- Agent class takes `memory_bank` as a parameter during initialisation of an `Agent`\n",
    "- memory_bank: class Dict[Memory]. Stores multiple types of memory for use by the agent. Customise the Memory config within the Memory class.\n",
    "    - Default: `memory_bank = {'Function': AsyncMemory(top_k = 5, mapper = lambda x: x.fn_description, approach = 'retrieve_by_ranker')}`\n",
    "\n",
    "## AsyncMemory Class\n",
    "- Retrieves top k memory items based on task \n",
    "- Inputs:\n",
    "    - `memory`: List. Default: Empty List. The list containing the memory items\n",
    "    - `top_k`: Int. Default: 3. The number of memory list items to retrieve\n",
    "    - `mapper`: Function. Maps the memory item to another form for comparison by ranker or LLM. Default: `lambda x: x`\n",
    "        - Example mapping: `lambda x: x.fn_description` (If x is a Class and the string you want to compare for similarity is the fn_description attribute of that class)\n",
    "    - `approach`: str. Either `retrieve_by_ranker` or `retrieve_by_llm` to retrieve memory items.\n",
    "        - Ranker is faster and cheaper as it compares via embeddings, but are inferior to LLM-based methods for contextual information\n",
    "    - `ranker`: `AsyncRanker`. The Ranker which defines a similarity score between a query and a key. Default: OpenAI `text-embedding-3-small` model. \n",
    "        - Can be replaced with a async function which returns similarity score from 0 to 1 when given a query and key\n",
    "        \n",
    "## Example Use Case\n",
    "- Helps to reduce number of functions present in LLM context for more accurate generation\n",
    "```python\n",
    "output =await my_agent.run('Calculate 2**10 * (5 + 1) / 10')\n",
    "```\n",
    "\n",
    "`Original Function List: add_numbers, subtract_numbers, add_three_numbers, multiply_numbers, divide_numbers, power_of, GCD_of_two_numbers, modulo_of_numbers, absolute_difference, generate_poem_with_numbers, List_related_words, generate_quote`\n",
    "\n",
    "`Filtered Function Names: add_three_numbers, multiply_numbers, divide_numbers, power_of, modulo_of_numbers`\n"
   ]
  },
  {
   "cell_type": "code",
   "execution_count": 30,
   "id": "0854653e",
   "metadata": {},
   "outputs": [],
   "source": [
    "# Define multiple functions\n",
    "import math\n",
    "\n",
    "fn_list = [\n",
    "    AsyncFunction(\"Adds all numbers in <num_list: List[int]>\", output_format = {\"Result\": \"Sum of all numbers in num_list\"}, \n",
    "        is_compulsory = True, external_fn = lambda num_list: sum(x for x in num_list), fn_name = 'sum_numbers'),\n",
    "    AsyncFunction(\"Subtracts <num1: float> from <num2: float>\", output_format = {\"Result\": \"num1 - num2\"}, fn_name = 'subtract_numbers', external_fn = lambda num1, num2: num1 + num2),\n",
    "    AsyncFunction(\"Multiply <num1: float> by <num2: float>\", output_format = {\"Result\": \"num1 * num2\"}, fn_name = 'multiply_numbers', external_fn = lambda num1, num2: num1 * num2),\n",
    "    AsyncFunction(\"Divide <num1: float> by <num2: float>\", output_format = {\"Result\": \"num1 / num2\"}, fn_name = 'divide_numbers', external_fn = lambda num1, num2: num1 / num2),\n",
    "    AsyncFunction(\"Returns <num1: float>**<num2: float>\", output_format = {\"Result\": \"num1**num2\"}, fn_name = 'power_operation', external_fn = lambda num1, num2: math.pow(num1,num2)),\n",
    "    AsyncFunction(\"Returns Greatest Common Divisor of <num1: int> and <num2: int>\", output_format = {\"Result\": \"GCD(num1, num2)\"}, fn_name = 'greatest_common_divisor', external_fn = lambda num1, num2: math.gcd(num1, num2)),\n",
    "    AsyncFunction(\"Returns modulo of <num1: int> over <num2: int>\", output_format = {\"Result\": \"num1 % num2\"}, fn_name = 'modulo_of_numbers', external_fn = lambda num1, num2: num1 % num2),\n",
    "    AsyncFunction(\"Returns absolute difference between <num1: float> and <num2: float>\", output_format = {\"Result\": \"abs(num1 - num2)\"}, fn_name = 'absolute_difference', external_fn = lambda num1, num2: math.abs(num1-num2)),\n",
    "    AsyncFunction(\"Generates a poem containing <num1: float> and <num2: float>\", output_format = {\"Poem\": \"Poem\"}, fn_name = 'generate_poem_with_numbers'),\n",
    "    AsyncFunction(\"Lists out <num: int> words related to <word: str>\", output_format = {\"List of words\": \"List of words, type: list\"}, fn_name = 'list_related_words'),\n",
    "    AsyncFunction(\"Generates a quote about <topic: str>\", output_format = {\"Quote\": \"Quote\"}, fn_name = 'generate_quote')\n",
    "]"
   ]
  },
  {
   "cell_type": "code",
   "execution_count": 31,
   "id": "c2b78316",
   "metadata": {},
   "outputs": [],
   "source": [
    "import asyncio\n",
    "\n",
    "tasks = [f.async_init() for f in fn_list]\n",
    "results = await asyncio.gather(*tasks)"
   ]
  },
  {
   "cell_type": "code",
   "execution_count": 32,
   "id": "b7b3a50f",
   "metadata": {},
   "outputs": [],
   "source": [
    "my_agent = AsyncAgent('Generalist Agent', \n",
    "'''Does everything''',\n",
    "                default_to_llm = False).assign_functions(fn_list)"
   ]
  },
  {
   "cell_type": "code",
   "execution_count": 33,
   "id": "c6ad6ec4",
   "metadata": {},
   "outputs": [
    {
     "data": {
      "text/plain": [
       "['Name: end_task\\nDescription: Passes the final output to the user\\nInput: []\\nOutput: {}\\n',\n",
       " \"Name: sum_numbers\\nDescription: Adds all numbers in <num_list: List[int]>\\nInput: ['num_list']\\nOutput: {'Result': 'Sum of all numbers in num_list'}\\n\",\n",
       " \"Name: subtract_numbers\\nDescription: Subtracts <num1: float> from <num2: float>\\nInput: ['num1', 'num2']\\nOutput: {'Result': 'num1 - num2'}\\n\",\n",
       " \"Name: multiply_numbers\\nDescription: Multiply <num1: float> by <num2: float>\\nInput: ['num1', 'num2']\\nOutput: {'Result': 'num1 * num2'}\\n\",\n",
       " \"Name: divide_numbers\\nDescription: Divide <num1: float> by <num2: float>\\nInput: ['num1', 'num2']\\nOutput: {'Result': 'num1 / num2'}\\n\",\n",
       " \"Name: power_operation\\nDescription: Returns <num1: float>**<num2: float>\\nInput: ['num1', 'num2']\\nOutput: {'Result': 'num1**num2'}\\n\",\n",
       " \"Name: greatest_common_divisor\\nDescription: Returns Greatest Common Divisor of <num1: int> and <num2: int>\\nInput: ['num1', 'num2']\\nOutput: {'Result': 'GCD(num1, num2)'}\\n\",\n",
       " \"Name: modulo_of_numbers\\nDescription: Returns modulo of <num1: int> over <num2: int>\\nInput: ['num1', 'num2']\\nOutput: {'Result': 'num1 % num2'}\\n\",\n",
       " \"Name: absolute_difference\\nDescription: Returns absolute difference between <num1: float> and <num2: float>\\nInput: ['num1', 'num2']\\nOutput: {'Result': 'abs(num1 - num2)'}\\n\",\n",
       " \"Name: generate_poem_with_numbers\\nDescription: Generates a poem containing <num1: float> and <num2: float>\\nInput: ['num1', 'num2']\\nOutput: {'Poem': 'Poem'}\\n\",\n",
       " \"Name: list_related_words\\nDescription: Lists out <num: int> words related to <word: str>\\nInput: ['num', 'word']\\nOutput: {'List of words': 'List of words, type: list'}\\n\",\n",
       " \"Name: generate_quote\\nDescription: Generates a quote about <topic: str>\\nInput: ['topic']\\nOutput: {'Quote': 'Quote'}\\n\"]"
      ]
     },
     "execution_count": 33,
     "metadata": {},
     "output_type": "execute_result"
    }
   ],
   "source": [
    "my_agent.list_functions()"
   ]
  },
  {
   "cell_type": "code",
   "execution_count": 34,
   "id": "a93ee5eb",
   "metadata": {},
   "outputs": [
    {
     "data": {
      "text/plain": [
       "['subtract_numbers',\n",
       " 'divide_numbers',\n",
       " 'multiply_numbers',\n",
       " 'modulo_of_numbers',\n",
       " 'generate_poem_with_numbers']"
      ]
     },
     "execution_count": 34,
     "metadata": {},
     "output_type": "execute_result"
    }
   ],
   "source": [
    "[f.fn_name for f in await my_agent.memory_bank['Function'].retrieve_by_ranker('subtract numbers')]"
   ]
  },
  {
   "cell_type": "code",
   "execution_count": 35,
   "id": "d6017166",
   "metadata": {},
   "outputs": [
    {
     "name": "stdout",
     "output_type": "stream",
     "text": [
      "Filtered Function Names: end_task, sum_numbers, subtract_numbers, multiply_numbers, divide_numbers, power_operation, modulo_of_numbers\n",
      "\u001b[1m\u001b[30mObservation: No subtasks completed yet\u001b[0m\n",
      "\u001b[1m\u001b[32mThoughts: Need to evaluate 2+3\u001b[0m\n",
      "\u001b[1m\u001b[34mSubtask identified: Add all numbers in the list [2, 3]\u001b[0m\n",
      "Calling function sum_numbers with parameters {'num_list': [2, 3]}\n",
      "> {'Result': 5}\n",
      "\n",
      "Filtered Function Names: end_task, sum_numbers, subtract_numbers, multiply_numbers, divide_numbers, power_operation, modulo_of_numbers\n",
      "\u001b[1m\u001b[30mObservation: The sum of all numbers in the list [2, 3] has been calculated, resulting in 5\u001b[0m\n",
      "\u001b[1m\u001b[32mThoughts: The task is almost complete, only the final output needs to be passed to the user\u001b[0m\n",
      "\u001b[1m\u001b[34mSubtask identified: End Task\u001b[0m\n",
      "Task completed successfully!\n",
      "\n"
     ]
    },
    {
     "data": {
      "text/plain": [
       "[{'Result': 5}]"
      ]
     },
     "execution_count": 35,
     "metadata": {},
     "output_type": "execute_result"
    }
   ],
   "source": [
    "my_agent.reset()\n",
    "await my_agent.run('Evaluate 2+3')"
   ]
  },
  {
   "cell_type": "code",
   "execution_count": 38,
   "id": "58104def",
   "metadata": {},
   "outputs": [
    {
     "name": "stdout",
     "output_type": "stream",
     "text": [
      "Filtered Function Names: end_task, sum_numbers, subtract_numbers, multiply_numbers, divide_numbers, power_operation, modulo_of_numbers\n",
      "\u001b[1m\u001b[30mObservation: No subtasks completed yet\u001b[0m\n",
      "\u001b[1m\u001b[32mThoughts: Need to perform a mathematical operation involving exponentiation, addition, and division\u001b[0m\n",
      "\u001b[1m\u001b[34mSubtask identified: Evaluate 2**10\u001b[0m\n",
      "Calling function power_operation with parameters {'num1': 2.0, 'num2': 10.0}\n",
      "> {'Result': 1024.0}\n",
      "\n",
      "Filtered Function Names: end_task, sum_numbers, subtract_numbers, multiply_numbers, divide_numbers, power_operation, modulo_of_numbers\n",
      "\u001b[1m\u001b[30mObservation: The subtask \"Evaluate 2**10\" has been completed, resulting in 1024.0\u001b[0m\n",
      "\u001b[1m\u001b[32mThoughts: To complete the remainder of the assigned task, we need to multiply the result of 2**10 by (3+5) and then divide the product by 10.\u001b[0m\n",
      "\u001b[1m\u001b[34mSubtask identified: Multiply 1024.0 by 8.0\u001b[0m\n",
      "Calling function multiply_numbers with parameters {'num1': 1024.0, 'num2': 8.0}\n",
      "> {'Result': 8192.0}\n",
      "\n",
      "Filtered Function Names: end_task, sum_numbers, subtract_numbers, multiply_numbers, divide_numbers, power_operation, modulo_of_numbers\n",
      "\u001b[1m\u001b[30mObservation: The Assigned Task is to Evaluate 2**10 * (3+5) / 10. Two subtasks have been completed: Evaluate 2**10 resulting in 1024.0 and Multiply 1024.0 by 8.0 resulting in 8192.0\u001b[0m\n",
      "\u001b[1m\u001b[32mThoughts: The final step involves dividing the result of the multiplication by 10. This can be achieved using the divide_numbers function to divide 8192.0 by 10\u001b[0m\n",
      "\u001b[1m\u001b[34mSubtask identified: Divide 8192.0 by 10\u001b[0m\n",
      "Calling function divide_numbers with parameters {'num1': 8192.0, 'num2': 10.0}\n",
      "> {'Result': 819.2}\n",
      "\n",
      "Filtered Function Names: end_task, sum_numbers, subtract_numbers, multiply_numbers, divide_numbers, power_operation, modulo_of_numbers\n",
      "\u001b[1m\u001b[30mObservation: The Assigned Task is to Evaluate 2**10 * (3+5) / 10. Two subtasks have been completed: evaluating 2**10 and then multiplying the result by 8.\u001b[0m\n",
      "\u001b[1m\u001b[32mThoughts: The next step is to divide the result of 8192.0 by 10 to complete the Assigned Task.\u001b[0m\n",
      "\u001b[1m\u001b[34mSubtask identified: Divide 8192.0 by 10\u001b[0m\n",
      "Calling function divide_numbers with parameters {'num1': 8192.0, 'num2': 10.0}\n",
      "> {'Result': 819.2}\n",
      "\n",
      "Filtered Function Names: end_task, sum_numbers, subtract_numbers, multiply_numbers, divide_numbers, power_operation, modulo_of_numbers\n",
      "\u001b[1m\u001b[30mObservation: The Assigned Task involves evaluating the expression 2**10 * (3+5) / 10. Subtasks Completed include evaluating 2**10, multiplying the result by 8, and then dividing the result by 10 twice.\u001b[0m\n",
      "\u001b[1m\u001b[32mThoughts: The next step is to divide the current result by 10 using the appropriate function to complete the Assigned Task.\u001b[0m\n",
      "\u001b[1m\u001b[34mSubtask identified: End Task\u001b[0m\n",
      "Task completed successfully!\n",
      "\n"
     ]
    }
   ],
   "source": [
    "my_agent.reset()\n",
    "output = await my_agent.run('Evaluate 2**10 * (3+5) / 10')"
   ]
  },
  {
   "cell_type": "code",
   "execution_count": 46,
   "id": "0c50d268",
   "metadata": {
    "tags": []
   },
   "outputs": [
    {
     "name": "stdout",
     "output_type": "stream",
     "text": [
      "The result of evaluating 2**10 * (3+5) / 10 is 819.2\n"
     ]
    },
    {
     "data": {
      "text/plain": [
       "'The result of evaluating 2**10 * (3+5) / 10 is 819.2'"
      ]
     },
     "execution_count": 46,
     "metadata": {},
     "output_type": "execute_result"
    }
   ],
   "source": [
    "await my_agent.reply_user()"
   ]
  }
 ],
 "metadata": {
  "kernelspec": {
   "display_name": "Python 3 (ipykernel)",
   "language": "python",
   "name": "python3"
  },
  "language_info": {
   "codemirror_mode": {
    "name": "ipython",
    "version": 3
   },
   "file_extension": ".py",
   "mimetype": "text/x-python",
   "name": "python",
   "nbconvert_exporter": "python",
   "pygments_lexer": "ipython3",
   "version": "3.11.3"
  }
 },
 "nbformat": 4,
 "nbformat_minor": 5
}
