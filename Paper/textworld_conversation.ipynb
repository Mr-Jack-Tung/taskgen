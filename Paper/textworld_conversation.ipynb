{
  "cells": [
    {
      "cell_type": "code",
      "execution_count": null,
      "metadata": {
        "colab": {
          "base_uri": "https://localhost:8080/"
        },
        "collapsed": true,
        "id": "3k9S056z4yKc",
        "outputId": "4f53d91b-157a-439c-c6c5-f44db0843332"
      },
      "outputs": [
        {
          "name": "stdout",
          "output_type": "stream",
          "text": [
            "Collecting taskgen-ai\n",
            "  Downloading taskgen_ai-3.2.0-py3-none-any.whl (49 kB)\n",
            "\u001b[2K     \u001b[90m━━━━━━━━━━━━━━━━━━━━━━━━━━━━━━━━━━━━━━━━\u001b[0m \u001b[32m49.4/49.4 kB\u001b[0m \u001b[31m738.5 kB/s\u001b[0m eta \u001b[36m0:00:00\u001b[0m\n",
            "\u001b[?25hCollecting textworld\n",
            "  Downloading textworld-1.6.1.tar.gz (708 kB)\n",
            "\u001b[2K     \u001b[90m━━━━━━━━━━━━━━━━━━━━━━━━━━━━━━━━━━━━━━━━\u001b[0m \u001b[32m708.6/708.6 kB\u001b[0m \u001b[31m11.2 MB/s\u001b[0m eta \u001b[36m0:00:00\u001b[0m\n",
            "\u001b[?25h  Installing build dependencies ... \u001b[?25l\u001b[?25hdone\n",
            "  Getting requirements to build wheel ... \u001b[?25l\u001b[?25hdone\n",
            "  Preparing metadata (pyproject.toml) ... \u001b[?25l\u001b[?25hdone\n",
            "Requirement already satisfied: gym in /usr/local/lib/python3.10/dist-packages (0.25.2)\n",
            "Collecting openai>=1.3.6 (from taskgen-ai)\n",
            "  Downloading openai-1.35.13-py3-none-any.whl (328 kB)\n",
            "\u001b[2K     \u001b[90m━━━━━━━━━━━━━━━━━━━━━━━━━━━━━━━━━━━━━━━━\u001b[0m \u001b[32m328.5/328.5 kB\u001b[0m \u001b[31m26.5 MB/s\u001b[0m eta \u001b[36m0:00:00\u001b[0m\n",
            "\u001b[?25hCollecting dill>=0.3.7 (from taskgen-ai)\n",
            "  Downloading dill-0.3.8-py3-none-any.whl (116 kB)\n",
            "\u001b[2K     \u001b[90m━━━━━━━━━━━━━━━━━━━━━━━━━━━━━━━━━━━━━━━━\u001b[0m \u001b[32m116.3/116.3 kB\u001b[0m \u001b[31m12.1 MB/s\u001b[0m eta \u001b[36m0:00:00\u001b[0m\n",
            "\u001b[?25hRequirement already satisfied: termcolor>=2.3.0 in /usr/local/lib/python3.10/dist-packages (from taskgen-ai) (2.4.0)\n",
            "Requirement already satisfied: requests in /usr/local/lib/python3.10/dist-packages (from taskgen-ai) (2.31.0)\n",
            "Collecting langchain (from taskgen-ai)\n",
            "  Downloading langchain-0.2.8-py3-none-any.whl (987 kB)\n",
            "\u001b[2K     \u001b[90m━━━━━━━━━━━━━━━━━━━━━━━━━━━━━━━━━━━━━━━━\u001b[0m \u001b[32m987.6/987.6 kB\u001b[0m \u001b[31m45.7 MB/s\u001b[0m eta \u001b[36m0:00:00\u001b[0m\n",
            "\u001b[?25hCollecting PyPDF2 (from taskgen-ai)\n",
            "  Downloading pypdf2-3.0.1-py3-none-any.whl (232 kB)\n",
            "\u001b[2K     \u001b[90m━━━━━━━━━━━━━━━━━━━━━━━━━━━━━━━━━━━━━━━━\u001b[0m \u001b[32m232.6/232.6 kB\u001b[0m \u001b[31m24.1 MB/s\u001b[0m eta \u001b[36m0:00:00\u001b[0m\n",
            "\u001b[?25hCollecting python-docx (from taskgen-ai)\n",
            "  Downloading python_docx-1.1.2-py3-none-any.whl (244 kB)\n",
            "\u001b[2K     \u001b[90m━━━━━━━━━━━━━━━━━━━━━━━━━━━━━━━━━━━━━━━━\u001b[0m \u001b[32m244.3/244.3 kB\u001b[0m \u001b[31m24.4 MB/s\u001b[0m eta \u001b[36m0:00:00\u001b[0m\n",
            "\u001b[?25hRequirement already satisfied: pandas in /usr/local/lib/python3.10/dist-packages (from taskgen-ai) (2.0.3)\n",
            "Requirement already satisfied: xlrd in /usr/local/lib/python3.10/dist-packages (from taskgen-ai) (2.0.1)\n",
            "Requirement already satisfied: numpy>=1.14.5 in /usr/local/lib/python3.10/dist-packages (from textworld) (1.25.2)\n",
            "Requirement already satisfied: tqdm>=4.17.1 in /usr/local/lib/python3.10/dist-packages (from textworld) (4.66.4)\n",
            "Requirement already satisfied: cffi>=1.0.0 in /usr/local/lib/python3.10/dist-packages (from textworld) (1.16.0)\n",
            "Requirement already satisfied: networkx>=2 in /usr/local/lib/python3.10/dist-packages (from textworld) (3.3)\n",
            "Requirement already satisfied: more-itertools in /usr/local/lib/python3.10/dist-packages (from textworld) (10.1.0)\n",
            "Collecting tatsu>=5.8.3 (from textworld)\n",
            "  Downloading TatSu-5.8.3-py2.py3-none-any.whl (101 kB)\n",
            "\u001b[2K     \u001b[90m━━━━━━━━━━━━━━━━━━━━━━━━━━━━━━━━━━━━━━━━\u001b[0m \u001b[32m101.5/101.5 kB\u001b[0m \u001b[31m11.0 MB/s\u001b[0m eta \u001b[36m0:00:00\u001b[0m\n",
            "\u001b[?25hCollecting hashids>=1.2.0 (from textworld)\n",
            "  Downloading hashids-1.3.1-py2.py3-none-any.whl (6.6 kB)\n",
            "Collecting jericho>=3.0.3 (from textworld)\n",
            "  Downloading jericho-3.2.1.tar.gz (1.3 MB)\n",
            "\u001b[2K     \u001b[90m━━━━━━━━━━━━━━━━━━━━━━━━━━━━━━━━━━━━━━━━\u001b[0m \u001b[32m1.3/1.3 MB\u001b[0m \u001b[31m57.6 MB/s\u001b[0m eta \u001b[36m0:00:00\u001b[0m\n",
            "\u001b[?25h  Preparing metadata (setup.py) ... \u001b[?25l\u001b[?25hdone\n",
            "Collecting mementos>=1.3.1 (from textworld)\n",
            "  Downloading mementos-1.3.1-py2.py3-none-any.whl (12 kB)\n",
            "Requirement already satisfied: prompt-toolkit in /usr/local/lib/python3.10/dist-packages (from textworld) (3.0.47)\n",
            "Requirement already satisfied: cloudpickle>=1.2.0 in /usr/local/lib/python3.10/dist-packages (from gym) (2.2.1)\n",
            "Requirement already satisfied: gym-notices>=0.0.4 in /usr/local/lib/python3.10/dist-packages (from gym) (0.0.8)\n",
            "Requirement already satisfied: pycparser in /usr/local/lib/python3.10/dist-packages (from cffi>=1.0.0->textworld) (2.22)\n",
            "Requirement already satisfied: spacy>=2.1.0 in /usr/local/lib/python3.10/dist-packages (from jericho>=3.0.3->textworld) (3.7.5)\n",
            "Requirement already satisfied: anyio<5,>=3.5.0 in /usr/local/lib/python3.10/dist-packages (from openai>=1.3.6->taskgen-ai) (3.7.1)\n",
            "Requirement already satisfied: distro<2,>=1.7.0 in /usr/lib/python3/dist-packages (from openai>=1.3.6->taskgen-ai) (1.7.0)\n",
            "Collecting httpx<1,>=0.23.0 (from openai>=1.3.6->taskgen-ai)\n",
            "  Downloading httpx-0.27.0-py3-none-any.whl (75 kB)\n",
            "\u001b[2K     \u001b[90m━━━━━━━━━━━━━━━━━━━━━━━━━━━━━━━━━━━━━━━━\u001b[0m \u001b[32m75.6/75.6 kB\u001b[0m \u001b[31m5.9 MB/s\u001b[0m eta \u001b[36m0:00:00\u001b[0m\n",
            "\u001b[?25hRequirement already satisfied: pydantic<3,>=1.9.0 in /usr/local/lib/python3.10/dist-packages (from openai>=1.3.6->taskgen-ai) (2.8.2)\n",
            "Requirement already satisfied: sniffio in /usr/local/lib/python3.10/dist-packages (from openai>=1.3.6->taskgen-ai) (1.3.1)\n",
            "Requirement already satisfied: typing-extensions<5,>=4.7 in /usr/local/lib/python3.10/dist-packages (from openai>=1.3.6->taskgen-ai) (4.12.2)\n",
            "Requirement already satisfied: PyYAML>=5.3 in /usr/local/lib/python3.10/dist-packages (from langchain->taskgen-ai) (6.0.1)\n",
            "Requirement already satisfied: SQLAlchemy<3,>=1.4 in /usr/local/lib/python3.10/dist-packages (from langchain->taskgen-ai) (2.0.31)\n",
            "Requirement already satisfied: aiohttp<4.0.0,>=3.8.3 in /usr/local/lib/python3.10/dist-packages (from langchain->taskgen-ai) (3.9.5)\n",
            "Requirement already satisfied: async-timeout<5.0.0,>=4.0.0 in /usr/local/lib/python3.10/dist-packages (from langchain->taskgen-ai) (4.0.3)\n",
            "Collecting langchain-core<0.3.0,>=0.2.19 (from langchain->taskgen-ai)\n",
            "  Downloading langchain_core-0.2.19-py3-none-any.whl (366 kB)\n",
            "\u001b[2K     \u001b[90m━━━━━━━━━━━━━━━━━━━━━━━━━━━━━━━━━━━━━━━━\u001b[0m \u001b[32m366.5/366.5 kB\u001b[0m \u001b[31m24.2 MB/s\u001b[0m eta \u001b[36m0:00:00\u001b[0m\n",
            "\u001b[?25hCollecting langchain-text-splitters<0.3.0,>=0.2.0 (from langchain->taskgen-ai)\n",
            "  Downloading langchain_text_splitters-0.2.2-py3-none-any.whl (25 kB)\n",
            "Collecting langsmith<0.2.0,>=0.1.17 (from langchain->taskgen-ai)\n",
            "  Downloading langsmith-0.1.86-py3-none-any.whl (129 kB)\n",
            "\u001b[2K     \u001b[90m━━━━━━━━━━━━━━━━━━━━━━━━━━━━━━━━━━━━━━━━\u001b[0m \u001b[32m129.4/129.4 kB\u001b[0m \u001b[31m10.8 MB/s\u001b[0m eta \u001b[36m0:00:00\u001b[0m\n",
            "\u001b[?25hRequirement already satisfied: tenacity!=8.4.0,<9.0.0,>=8.1.0 in /usr/local/lib/python3.10/dist-packages (from langchain->taskgen-ai) (8.5.0)\n",
            "Requirement already satisfied: charset-normalizer<4,>=2 in /usr/local/lib/python3.10/dist-packages (from requests->taskgen-ai) (3.3.2)\n",
            "Requirement already satisfied: idna<4,>=2.5 in /usr/local/lib/python3.10/dist-packages (from requests->taskgen-ai) (3.7)\n",
            "Requirement already satisfied: urllib3<3,>=1.21.1 in /usr/local/lib/python3.10/dist-packages (from requests->taskgen-ai) (2.0.7)\n",
            "Requirement already satisfied: certifi>=2017.4.17 in /usr/local/lib/python3.10/dist-packages (from requests->taskgen-ai) (2024.7.4)\n",
            "Requirement already satisfied: python-dateutil>=2.8.2 in /usr/local/lib/python3.10/dist-packages (from pandas->taskgen-ai) (2.8.2)\n",
            "Requirement already satisfied: pytz>=2020.1 in /usr/local/lib/python3.10/dist-packages (from pandas->taskgen-ai) (2023.4)\n",
            "Requirement already satisfied: tzdata>=2022.1 in /usr/local/lib/python3.10/dist-packages (from pandas->taskgen-ai) (2024.1)\n",
            "Requirement already satisfied: wcwidth in /usr/local/lib/python3.10/dist-packages (from prompt-toolkit->textworld) (0.2.13)\n",
            "Requirement already satisfied: lxml>=3.1.0 in /usr/local/lib/python3.10/dist-packages (from python-docx->taskgen-ai) (4.9.4)\n",
            "Requirement already satisfied: aiosignal>=1.1.2 in /usr/local/lib/python3.10/dist-packages (from aiohttp<4.0.0,>=3.8.3->langchain->taskgen-ai) (1.3.1)\n",
            "Requirement already satisfied: attrs>=17.3.0 in /usr/local/lib/python3.10/dist-packages (from aiohttp<4.0.0,>=3.8.3->langchain->taskgen-ai) (23.2.0)\n",
            "Requirement already satisfied: frozenlist>=1.1.1 in /usr/local/lib/python3.10/dist-packages (from aiohttp<4.0.0,>=3.8.3->langchain->taskgen-ai) (1.4.1)\n",
            "Requirement already satisfied: multidict<7.0,>=4.5 in /usr/local/lib/python3.10/dist-packages (from aiohttp<4.0.0,>=3.8.3->langchain->taskgen-ai) (6.0.5)\n",
            "Requirement already satisfied: yarl<2.0,>=1.0 in /usr/local/lib/python3.10/dist-packages (from aiohttp<4.0.0,>=3.8.3->langchain->taskgen-ai) (1.9.4)\n",
            "Requirement already satisfied: exceptiongroup in /usr/local/lib/python3.10/dist-packages (from anyio<5,>=3.5.0->openai>=1.3.6->taskgen-ai) (1.2.1)\n",
            "Collecting httpcore==1.* (from httpx<1,>=0.23.0->openai>=1.3.6->taskgen-ai)\n",
            "  Downloading httpcore-1.0.5-py3-none-any.whl (77 kB)\n",
            "\u001b[2K     \u001b[90m━━━━━━━━━━━━━━━━━━━━━━━━━━━━━━━━━━━━━━━━\u001b[0m \u001b[32m77.9/77.9 kB\u001b[0m \u001b[31m6.8 MB/s\u001b[0m eta \u001b[36m0:00:00\u001b[0m\n",
            "\u001b[?25hCollecting h11<0.15,>=0.13 (from httpcore==1.*->httpx<1,>=0.23.0->openai>=1.3.6->taskgen-ai)\n",
            "  Downloading h11-0.14.0-py3-none-any.whl (58 kB)\n",
            "\u001b[2K     \u001b[90m━━━━━━━━━━━━━━━━━━━━━━━━━━━━━━━━━━━━━━━━\u001b[0m \u001b[32m58.3/58.3 kB\u001b[0m \u001b[31m3.5 MB/s\u001b[0m eta \u001b[36m0:00:00\u001b[0m\n",
            "\u001b[?25hCollecting jsonpatch<2.0,>=1.33 (from langchain-core<0.3.0,>=0.2.19->langchain->taskgen-ai)\n",
            "  Downloading jsonpatch-1.33-py2.py3-none-any.whl (12 kB)\n",
            "Requirement already satisfied: packaging<25,>=23.2 in /usr/local/lib/python3.10/dist-packages (from langchain-core<0.3.0,>=0.2.19->langchain->taskgen-ai) (24.1)\n",
            "Collecting orjson<4.0.0,>=3.9.14 (from langsmith<0.2.0,>=0.1.17->langchain->taskgen-ai)\n",
            "  Downloading orjson-3.10.6-cp310-cp310-manylinux_2_17_x86_64.manylinux2014_x86_64.whl (141 kB)\n",
            "\u001b[2K     \u001b[90m━━━━━━━━━━━━━━━━━━━━━━━━━━━━━━━━━━━━━━━━\u001b[0m \u001b[32m141.1/141.1 kB\u001b[0m \u001b[31m5.2 MB/s\u001b[0m eta \u001b[36m0:00:00\u001b[0m\n",
            "\u001b[?25hRequirement already satisfied: annotated-types>=0.4.0 in /usr/local/lib/python3.10/dist-packages (from pydantic<3,>=1.9.0->openai>=1.3.6->taskgen-ai) (0.7.0)\n",
            "Requirement already satisfied: pydantic-core==2.20.1 in /usr/local/lib/python3.10/dist-packages (from pydantic<3,>=1.9.0->openai>=1.3.6->taskgen-ai) (2.20.1)\n",
            "Requirement already satisfied: six>=1.5 in /usr/local/lib/python3.10/dist-packages (from python-dateutil>=2.8.2->pandas->taskgen-ai) (1.16.0)\n",
            "Requirement already satisfied: spacy-legacy<3.1.0,>=3.0.11 in /usr/local/lib/python3.10/dist-packages (from spacy>=2.1.0->jericho>=3.0.3->textworld) (3.0.12)\n",
            "Requirement already satisfied: spacy-loggers<2.0.0,>=1.0.0 in /usr/local/lib/python3.10/dist-packages (from spacy>=2.1.0->jericho>=3.0.3->textworld) (1.0.5)\n",
            "Requirement already satisfied: murmurhash<1.1.0,>=0.28.0 in /usr/local/lib/python3.10/dist-packages (from spacy>=2.1.0->jericho>=3.0.3->textworld) (1.0.10)\n",
            "Requirement already satisfied: cymem<2.1.0,>=2.0.2 in /usr/local/lib/python3.10/dist-packages (from spacy>=2.1.0->jericho>=3.0.3->textworld) (2.0.8)\n",
            "Requirement already satisfied: preshed<3.1.0,>=3.0.2 in /usr/local/lib/python3.10/dist-packages (from spacy>=2.1.0->jericho>=3.0.3->textworld) (3.0.9)\n",
            "Requirement already satisfied: thinc<8.3.0,>=8.2.2 in /usr/local/lib/python3.10/dist-packages (from spacy>=2.1.0->jericho>=3.0.3->textworld) (8.2.5)\n",
            "Requirement already satisfied: wasabi<1.2.0,>=0.9.1 in /usr/local/lib/python3.10/dist-packages (from spacy>=2.1.0->jericho>=3.0.3->textworld) (1.1.3)\n",
            "Requirement already satisfied: srsly<3.0.0,>=2.4.3 in /usr/local/lib/python3.10/dist-packages (from spacy>=2.1.0->jericho>=3.0.3->textworld) (2.4.8)\n",
            "Requirement already satisfied: catalogue<2.1.0,>=2.0.6 in /usr/local/lib/python3.10/dist-packages (from spacy>=2.1.0->jericho>=3.0.3->textworld) (2.0.10)\n",
            "Requirement already satisfied: weasel<0.5.0,>=0.1.0 in /usr/local/lib/python3.10/dist-packages (from spacy>=2.1.0->jericho>=3.0.3->textworld) (0.4.1)\n",
            "Requirement already satisfied: typer<1.0.0,>=0.3.0 in /usr/local/lib/python3.10/dist-packages (from spacy>=2.1.0->jericho>=3.0.3->textworld) (0.12.3)\n",
            "Requirement already satisfied: jinja2 in /usr/local/lib/python3.10/dist-packages (from spacy>=2.1.0->jericho>=3.0.3->textworld) (3.1.4)\n",
            "Requirement already satisfied: setuptools in /usr/local/lib/python3.10/dist-packages (from spacy>=2.1.0->jericho>=3.0.3->textworld) (67.7.2)\n",
            "Requirement already satisfied: langcodes<4.0.0,>=3.2.0 in /usr/local/lib/python3.10/dist-packages (from spacy>=2.1.0->jericho>=3.0.3->textworld) (3.4.0)\n",
            "Requirement already satisfied: greenlet!=0.4.17 in /usr/local/lib/python3.10/dist-packages (from SQLAlchemy<3,>=1.4->langchain->taskgen-ai) (3.0.3)\n",
            "Collecting jsonpointer>=1.9 (from jsonpatch<2.0,>=1.33->langchain-core<0.3.0,>=0.2.19->langchain->taskgen-ai)\n",
            "  Downloading jsonpointer-3.0.0-py2.py3-none-any.whl (7.6 kB)\n",
            "Requirement already satisfied: language-data>=1.2 in /usr/local/lib/python3.10/dist-packages (from langcodes<4.0.0,>=3.2.0->spacy>=2.1.0->jericho>=3.0.3->textworld) (1.2.0)\n",
            "Requirement already satisfied: blis<0.8.0,>=0.7.8 in /usr/local/lib/python3.10/dist-packages (from thinc<8.3.0,>=8.2.2->spacy>=2.1.0->jericho>=3.0.3->textworld) (0.7.11)\n",
            "Requirement already satisfied: confection<1.0.0,>=0.0.1 in /usr/local/lib/python3.10/dist-packages (from thinc<8.3.0,>=8.2.2->spacy>=2.1.0->jericho>=3.0.3->textworld) (0.1.5)\n",
            "Requirement already satisfied: click>=8.0.0 in /usr/local/lib/python3.10/dist-packages (from typer<1.0.0,>=0.3.0->spacy>=2.1.0->jericho>=3.0.3->textworld) (8.1.7)\n",
            "Requirement already satisfied: shellingham>=1.3.0 in /usr/local/lib/python3.10/dist-packages (from typer<1.0.0,>=0.3.0->spacy>=2.1.0->jericho>=3.0.3->textworld) (1.5.4)\n",
            "Requirement already satisfied: rich>=10.11.0 in /usr/local/lib/python3.10/dist-packages (from typer<1.0.0,>=0.3.0->spacy>=2.1.0->jericho>=3.0.3->textworld) (13.7.1)\n",
            "Requirement already satisfied: cloudpathlib<1.0.0,>=0.7.0 in /usr/local/lib/python3.10/dist-packages (from weasel<0.5.0,>=0.1.0->spacy>=2.1.0->jericho>=3.0.3->textworld) (0.18.1)\n",
            "Requirement already satisfied: smart-open<8.0.0,>=5.2.1 in /usr/local/lib/python3.10/dist-packages (from weasel<0.5.0,>=0.1.0->spacy>=2.1.0->jericho>=3.0.3->textworld) (7.0.4)\n",
            "Requirement already satisfied: MarkupSafe>=2.0 in /usr/local/lib/python3.10/dist-packages (from jinja2->spacy>=2.1.0->jericho>=3.0.3->textworld) (2.1.5)\n",
            "Requirement already satisfied: marisa-trie>=0.7.7 in /usr/local/lib/python3.10/dist-packages (from language-data>=1.2->langcodes<4.0.0,>=3.2.0->spacy>=2.1.0->jericho>=3.0.3->textworld) (1.2.0)\n",
            "Requirement already satisfied: markdown-it-py>=2.2.0 in /usr/local/lib/python3.10/dist-packages (from rich>=10.11.0->typer<1.0.0,>=0.3.0->spacy>=2.1.0->jericho>=3.0.3->textworld) (3.0.0)\n",
            "Requirement already satisfied: pygments<3.0.0,>=2.13.0 in /usr/local/lib/python3.10/dist-packages (from rich>=10.11.0->typer<1.0.0,>=0.3.0->spacy>=2.1.0->jericho>=3.0.3->textworld) (2.16.1)\n",
            "Requirement already satisfied: wrapt in /usr/local/lib/python3.10/dist-packages (from smart-open<8.0.0,>=5.2.1->weasel<0.5.0,>=0.1.0->spacy>=2.1.0->jericho>=3.0.3->textworld) (1.14.1)\n",
            "Requirement already satisfied: mdurl~=0.1 in /usr/local/lib/python3.10/dist-packages (from markdown-it-py>=2.2.0->rich>=10.11.0->typer<1.0.0,>=0.3.0->spacy>=2.1.0->jericho>=3.0.3->textworld) (0.1.2)\n",
            "Building wheels for collected packages: textworld, jericho\n",
            "  Building wheel for textworld (pyproject.toml) ... \u001b[?25l\u001b[?25hdone\n",
            "  Created wheel for textworld: filename=textworld-1.6.1-cp310-cp310-linux_x86_64.whl size=6723023 sha256=12d8bd44e0c6ba79bd5d5d0705d7937a01dae3e1975c4da68e3d1775cc89e2d3\n",
            "  Stored in directory: /root/.cache/pip/wheels/34/ff/fd/806c0a27e57b83e5aa6eae2dcaf74f93afca93936bfeecbf6e\n",
            "  Building wheel for jericho (setup.py) ... \u001b[?25l\u001b[?25hdone\n",
            "  Created wheel for jericho: filename=jericho-3.2.1-py3-none-any.whl size=326331 sha256=676b7d828fa5f042c26e4ed15106a8a8e232ac64e7ff8f3f083dfe1f0349892f\n",
            "  Stored in directory: /root/.cache/pip/wheels/ce/81/3b/8e321137a8ff69217d8b9c0eade4f76fe1ffed70fbb40a6370\n",
            "Successfully built textworld jericho\n",
            "Installing collected packages: mementos, tatsu, python-docx, PyPDF2, orjson, jsonpointer, hashids, h11, dill, jsonpatch, httpcore, langsmith, httpx, openai, langchain-core, langchain-text-splitters, langchain, jericho, textworld, taskgen-ai\n",
            "Successfully installed PyPDF2-3.0.1 dill-0.3.8 h11-0.14.0 hashids-1.3.1 httpcore-1.0.5 httpx-0.27.0 jericho-3.2.1 jsonpatch-1.33 jsonpointer-3.0.0 langchain-0.2.8 langchain-core-0.2.19 langchain-text-splitters-0.2.2 langsmith-0.1.86 mementos-1.3.1 openai-1.35.13 orjson-3.10.6 python-docx-1.1.2 taskgen-ai-3.2.0 tatsu-5.8.3 textworld-1.6.1\n"
          ]
        }
      ],
      "source": [
        "%pip install taskgen-ai textworld gym"
      ]
    },
    {
      "cell_type": "code",
      "execution_count": null,
      "metadata": {
        "id": "xbAsOdyO5AtD"
      },
      "outputs": [],
      "source": [
        "# Set up API key and do the necessary imports\n",
        "from taskgen import *\n",
        "import os\n",
        "from google.colab import userdata\n",
        "\n",
        "# this is only if you use OpenAI as your LLM\n",
        "keyname = 'SymbianAI-OpenAI-API-key'\n",
        "os.environ['OPENAI_API_KEY'] = userdata.get(keyname)"
      ]
    },
    {
      "cell_type": "code",
      "execution_count": null,
      "metadata": {
        "id": "89QQ2ruf6T1m"
      },
      "outputs": [],
      "source": [
        "def llm(system_prompt: str, user_prompt: str) -> str:\n",
        "    ''' Here, we use OpenAI for illustration, you can change it to your own LLM '''\n",
        "    # ensure your LLM imports are all within this function\n",
        "    from openai import OpenAI\n",
        "\n",
        "    # define your own LLM here\n",
        "    client = OpenAI()\n",
        "    response = client.chat.completions.create(\n",
        "        #model='gpt-3.5-turbo',\n",
        "        model='gpt-4o',\n",
        "        seed=42,\n",
        "        temperature = 0,\n",
        "        messages=[\n",
        "            {\"role\": \"system\", \"content\": system_prompt},\n",
        "            {\"role\": \"user\", \"content\": user_prompt}\n",
        "        ]\n",
        "    )\n",
        "    return response.choices[0].message.content"
      ]
    },
    {
      "cell_type": "code",
      "execution_count": null,
      "metadata": {
        "id": "a5LwB1SJBpZ7"
      },
      "outputs": [],
      "source": [
        "!tw-make tw-simple --rewards dense --goal detailed --seed 18 --test --silent -f --output games/tw-rewardsDense_goalDetailed.z8"
      ]
    },
    {
      "cell_type": "code",
      "execution_count": null,
      "metadata": {
        "id": "y2QQN9Xow-BS"
      },
      "outputs": [],
      "source": [
        "import os\n",
        "from glob import glob\n",
        "import numpy as np\n",
        "import textworld.gym\n",
        "\n",
        "import torch\n",
        "\n",
        "\n",
        "def play(agent, path, max_step=100, nb_episodes=10, verbose=True):\n",
        "    torch.manual_seed(20211021)  # For reproducibility when using action sampling.\n",
        "\n",
        "    infos_to_request = agent.infos_to_request\n",
        "    infos_to_request.max_score = True  # Needed to normalize the scores.\n",
        "\n",
        "    gamefiles = [path]\n",
        "    if os.path.isdir(path):\n",
        "        gamefiles = glob(os.path.join(path, \"*.z8\"))\n",
        "\n",
        "    env_id = textworld.gym.register_games(gamefiles,\n",
        "                                          request_infos=infos_to_request,\n",
        "                                          max_episode_steps=max_step)\n",
        "    env = textworld.gym.make(env_id)  # Create a Gym environment to play the text game.\n",
        "    if verbose:\n",
        "        if os.path.isdir(path):\n",
        "            print(os.path.dirname(path), end=\"\")\n",
        "        else:\n",
        "            print(os.path.basename(path), end=\"\")\n",
        "\n",
        "    # Collect some statistics: nb_steps, final reward.\n",
        "    avg_moves, avg_scores, avg_norm_scores = [], [], []\n",
        "    for no_episode in range(nb_episodes):\n",
        "        obs, infos = env.reset()  # Start new episode.\n",
        "\n",
        "        score = 0\n",
        "        done = False\n",
        "        nb_moves = 0\n",
        "        while not done:\n",
        "            command = agent.act(obs, score, done, infos)\n",
        "            obs, score, done, infos = env.step(command)\n",
        "            nb_moves += 1\n",
        "\n",
        "        agent.act(obs, score, done, infos)  # Let the agent know the game is done.\n",
        "\n",
        "        if verbose:\n",
        "            print(\".\", end=\"\")\n",
        "        avg_moves.append(nb_moves)\n",
        "        avg_scores.append(score)\n",
        "        avg_norm_scores.append(score / infos[\"max_score\"])\n",
        "\n",
        "    env.close()\n",
        "    if verbose:\n",
        "        if os.path.isdir(path):\n",
        "            msg = \"  \\tavg. steps: {:5.1f}; avg. normalized score: {:4.1f} / {}.\"\n",
        "            print(msg.format(np.mean(avg_moves), np.mean(avg_norm_scores), 1))\n",
        "        else:\n",
        "            msg = \"  \\tavg. steps: {:5.1f}; avg. score: {:4.1f} / {}.\"\n",
        "            print(msg.format(np.mean(avg_moves), np.mean(avg_scores), infos[\"max_score\"]))"
      ]
    },
    {
      "cell_type": "code",
      "execution_count": null,
      "metadata": {
        "id": "RR2fanXNBuCv"
      },
      "outputs": [],
      "source": [
        "from typing import Mapping, Any\n",
        "\n",
        "def remove_ascii_art(text):\n",
        "    import re\n",
        "    new_message = \"\"\n",
        "    for line in text.splitlines():\n",
        "        x = re.findall(\"[:alphanum:]\", line)\n",
        "        if x:\n",
        "            new_message += line\n",
        "    return new_message\n",
        "\n",
        "class TaskgenAgent(textworld.gym.Agent):\n",
        "    def __init__(self, seed=1234):\n",
        "        self._seed = seed\n",
        "        self._player = Agent('interactive fiction player',\n",
        "                            'You are the player of an interactive fiction game. \\\n",
        "                            Consider which comands have been successful and try variations throughout the game. \\\n",
        "                            As the player, you may only issue commands in this game. \\\n",
        "                            complete game objectives then explore the game world. \\\n",
        "                            Consider whether the previous command was poorly formed or referred to an object not present. \\\n",
        "                            Commands are like \"LOOK AT BOB\"; \"EAST\"; \"EXAMINE KNIFE\". \\\n",
        "                            Respond only with a single command.',\n",
        "                            llm = llm,\n",
        "                            debug=False)\n",
        "        self.new_conversation()\n",
        "\n",
        "    def new_conversation(self):\n",
        "      self._agent = ConversableAgent(self._player,\n",
        "            persistent_memory = {'game objectives': 'an array of remaining game objectives. exploration may inform new objectives. array excludes objectives achieved.',\n",
        "                                'successful commands': \"an array of commands that succeeded in the game.\",\n",
        "                                'objects' : \"an array of objects discovered and where they were last seen e.g.: 'red car in the northern carpark'; 'cup on the low table'; 'cardboard box in the cellar'.\",\n",
        "                                'rooms': \"an array of rooms discovered and how they are organised e.g.: 'northern carpark east of the kitchen'; 'landing at the top of the stairs'.\"\n",
        "                                },\n",
        "            person = 'Game',\n",
        "            verbose=False)\n",
        "\n",
        "    @property\n",
        "    def infos_to_request(self) -> textworld.EnvInfos:\n",
        "        return textworld.EnvInfos(\n",
        "            #admissible_commands=True,\n",
        "            inventory=True)\n",
        "\n",
        "    def act(self, obs: str, score: int, done: bool, infos: Mapping[str, Any]) -> str:\n",
        "        if done:\n",
        "          self.new_conversation()\n",
        "          return \"quit\"\n",
        "        else:\n",
        "          # result must be shorter than 200 chars https://gitlab.com/DavidGriffith/frotz/-/blob/master/Makefile#L120\n",
        "          obs = remove_ascii_art(obs)\n",
        "          #[ print(f'CHT: {x}') for x in infos]\n",
        "          chat_input = f\"{obs}\\n\\n{infos['inventory']}\\n\"\n",
        "          if 'admissible_commands' in infos :\n",
        "            commands = \"\\n\".join([ f\"- {x}\" for x in infos['admissible_commands'] ])\n",
        "            chat_input += f\"\\npossible commands:\\n{commands}\"\n",
        "          #print(f'INP: {chat_input}')\n",
        "          out_str = self._agent.chat(chat_input)\n",
        "          if len(out_str) > 99:\n",
        "              out_str = out_str[:99]\n",
        "          self._last_command = out_str\n",
        "          #print(f' OUT: {out_str}')\n",
        "          #foo = input('do anything to continue')\n",
        "          return out_str"
      ]
    },
    {
      "cell_type": "code",
      "execution_count": null,
      "metadata": {
        "colab": {
          "base_uri": "https://localhost:8080/"
        },
        "id": "Mid-GpEBG9iT",
        "outputId": "e5113cb5-b34f-4c40-a7e6-9882c7fd1a22"
      },
      "outputs": [
        {
          "name": "stdout",
          "output_type": "stream",
          "text": [
            "tw-rewardsDense_goalDetailed.z8.......... \tavg. steps:  75.2; avg. score:  9.6 / 10.\n"
          ]
        }
      ],
      "source": [
        "play(TaskgenAgent(), \"./games/tw-rewardsDense_goalDetailed.z8\")    # Dense rewards"
      ]
    },
    {
      "cell_type": "code",
      "execution_count": null,
      "metadata": {
        "id": "jkzFWXI8dvU3"
      },
      "outputs": [],
      "source": [
        "!tw-make tw-simple --rewards sparse --goal brief --seed 18 --test --silent -f --output games/tw-rewardsSparse_goalBrief.z8"
      ]
    },
    {
      "cell_type": "code",
      "execution_count": null,
      "metadata": {
        "colab": {
          "base_uri": "https://localhost:8080/"
        },
        "id": "mUEQmzz5ebuV",
        "outputId": "ac0d5278-bcea-4ddf-b061-4cf2a4dc8377"
      },
      "outputs": [
        {
          "name": "stdout",
          "output_type": "stream",
          "text": [
            "tw-rewardsSparse_goalBrief.z8..........  \tavg. steps:  86.5; avg. score:  0.3 / 1.\n"
          ]
        }
      ],
      "source": [
        "play(TaskgenAgent(), \"./games/tw-rewardsSparse_goalBrief.z8\")    # Sparse rewards, brief goal"
      ]
    },
    {
      "cell_type": "code",
      "execution_count": null,
      "metadata": {
        "id": "r3vuGeyOVepG"
      },
      "outputs": [],
      "source": [
        "!tw-make tw-simple --rewards sparse --goal none --seed 18 --test --silent -f --output games/tw-rewardsSparse_goalNone.z8"
      ]
    },
    {
      "cell_type": "code",
      "execution_count": null,
      "metadata": {
        "colab": {
          "base_uri": "https://localhost:8080/"
        },
        "id": "0W3IK2JpVvGq",
        "outputId": "8c12106e-357a-4268-a9ab-81306b4abbfb"
      },
      "outputs": [
        {
          "name": "stdout",
          "output_type": "stream",
          "text": [
            "tw-rewardsSparse_goalNone.z8..........  \tavg. steps:  87.8; avg. score:  0.3 / 1.\n"
          ]
        }
      ],
      "source": [
        "play(TaskgenAgent(), \"games/tw-rewardsSparse_goalNone.z8\")    # Sparse rewards, no goal"
      ]
    }
  ],
  "metadata": {
    "colab": {
      "provenance": []
    },
    "kernelspec": {
      "display_name": "Python 3",
      "name": "python3"
    },
    "language_info": {
      "name": "python"
    }
  },
  "nbformat": 4,
  "nbformat_minor": 0
}
