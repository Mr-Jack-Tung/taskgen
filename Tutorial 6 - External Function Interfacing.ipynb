{
 "cells": [
  {
   "cell_type": "markdown",
   "id": "2fa1e388-b8f4-4fa3-be5a-ba7c6caae038",
   "metadata": {
    "tags": []
   },
   "source": [
    "# Tutorial 6 - External Function Interfacing\n",
    "- There are many other existing Agentic Frameworks like Crew.ai, LangChain / LangGraph, LlamaIndex that have many pre-established tools\n",
    "- TaskGen provides an easy way to interface with them and input them directly into TaskGen Agents!\n",
    "\n",
    "- Future Works\n",
    "    - In the future, you can import main tools from other frameworks / TaskGen native tools via `tools.py`\n",
    "    - In the future, there will also be an easy way to upload / download TaskGen community-based tools via code :)"
   ]
  },
  {
   "cell_type": "code",
   "execution_count": 4,
   "id": "2a75f665-03e3-48d9-bc70-fab5f0549424",
   "metadata": {
    "tags": []
   },
   "outputs": [],
   "source": [
    "# !pip install taskgen-ai"
   ]
  },
  {
   "cell_type": "code",
   "execution_count": 1,
   "id": "076adf5e-beb1-4b19-9078-34ab1b7d9afe",
   "metadata": {
    "tags": []
   },
   "outputs": [],
   "source": [
    "# Set up API key and do the necessary imports\n",
    "import os\n",
    "from taskgen import *\n",
    "\n",
    "os.environ['OPENAI_API_KEY'] = '<YOUR API KEY HERE>'"
   ]
  },
  {
   "cell_type": "markdown",
   "id": "210e6e4b-597e-497e-8434-753b1dd70240",
   "metadata": {},
   "source": [
    "# Define your own Custom LLM"
   ]
  },
  {
   "cell_type": "code",
   "execution_count": 339,
   "id": "11c129ea-ff2c-4961-9545-a5913597d33e",
   "metadata": {
    "tags": []
   },
   "outputs": [],
   "source": [
    "def custom_llm(system_prompt: str, user_prompt: str):\n",
    "    ''' Here, we use OpenAI for illustration, you can change it to your own LLM '''\n",
    "    # ensure your LLM imports are all within this function\n",
    "    from openai import OpenAI\n",
    "    \n",
    "    # define your own LLM here\n",
    "    client = OpenAI()\n",
    "    response = client.chat.completions.create(\n",
    "        model='gpt-3.5-turbo',\n",
    "        temperature = 0,\n",
    "        messages=[\n",
    "            {\"role\": \"system\", \"content\": system_prompt},\n",
    "            {\"role\": \"user\", \"content\": user_prompt}\n",
    "        ]\n",
    "    )\n",
    "    return response.choices[0].message.content"
   ]
  },
  {
   "cell_type": "code",
   "execution_count": 340,
   "id": "2dc2d3e9-fcca-4098-a194-0903b7a57ab6",
   "metadata": {
    "tags": []
   },
   "outputs": [
    {
     "data": {
      "text/plain": [
       "'Sentiment: Positive'"
      ]
     },
     "execution_count": 340,
     "metadata": {},
     "output_type": "execute_result"
    }
   ],
   "source": [
    "custom_llm('You are a classifier to classify the sentiment of a sentence', 'It is a hot and sunny day')"
   ]
  },
  {
   "cell_type": "markdown",
   "id": "a5409acd-6835-47f1-9adf-aff3bc514f46",
   "metadata": {},
   "source": [
    "# Overview of Function Interfacing with TaskGen"
   ]
  },
  {
   "cell_type": "markdown",
   "id": "773b9a5f-7e80-4a03-a822-8135b1f8da3f",
   "metadata": {
    "tags": []
   },
   "source": [
    "## 1. Adding Python Function directly to Function\n",
    "- You should write a docstring that describes the function and contains all the input variable names that are not `args`, `kwargs` or `shared_variables`\n",
    "- typing for inputs and outputs will be automatically converted to TaskGen `Function` format\n",
    "\n",
    "- **Smart Function Generator**: Even if you miss out the input type, or miss out output type, or have docstring without all input variables, or no docstring, we will smartly generate something out for you and the function can still be converted automatically to a Function"
   ]
  },
  {
   "cell_type": "code",
   "execution_count": 780,
   "id": "1ed33cbb-bc0e-45ca-b06b-68cdeb50a2f6",
   "metadata": {
    "tags": []
   },
   "outputs": [],
   "source": [
    "from typing import List, Dict\n",
    "\n",
    "def add_number_to_list(num1: int, num_list: List[int], *args, **kwargs) -> List[int]:\n",
    "    ''' Appends num1 to num_list '''\n",
    "    num_list.append(num1)\n",
    "    return num_list"
   ]
  },
  {
   "cell_type": "code",
   "execution_count": 781,
   "id": "4e7a1664-691d-403e-9116-6c445657c43f",
   "metadata": {
    "tags": []
   },
   "outputs": [],
   "source": [
    "fn = Function(external_fn = add_number_to_list)"
   ]
  },
  {
   "cell_type": "code",
   "execution_count": 782,
   "id": "26ac5b13-97b6-4d89-90fc-3092a3256960",
   "metadata": {
    "tags": []
   },
   "outputs": [
    {
     "name": "stdout",
     "output_type": "stream",
     "text": [
      "Description:  Appends <num1: int> to <num_list: list[int]> \n",
      "Input: ['num1', 'num_list']\n",
      "Output: {'output_1': 'list[int]'}\n",
      "\n"
     ]
    }
   ],
   "source": [
    "print(fn)"
   ]
  },
  {
   "cell_type": "code",
   "execution_count": 783,
   "id": "f808e8cd-6150-4317-96d0-cb8ca42fcc90",
   "metadata": {
    "tags": []
   },
   "outputs": [
    {
     "data": {
      "text/plain": [
       "{'output_1': [2, 3, 7]}"
      ]
     },
     "execution_count": 783,
     "metadata": {},
     "output_type": "execute_result"
    }
   ],
   "source": [
    "fn(7, [2, 3])"
   ]
  },
  {
   "cell_type": "markdown",
   "id": "0367956e-916b-441c-906c-892090eee051",
   "metadata": {},
   "source": [
    "## 2. Adding Python Function directly to Agent\n",
    "- We can also assign the Python function directly to an Agent and it will automatically convert it to `Function` class"
   ]
  },
  {
   "cell_type": "code",
   "execution_count": 784,
   "id": "c3e6c470-92a6-4fe1-8370-a9c74c1cf390",
   "metadata": {
    "tags": []
   },
   "outputs": [],
   "source": [
    "agent = Agent('Math Whiz', 'Does Math Calculations', llm = custom_llm).assign_functions([add_number_to_list])"
   ]
  },
  {
   "cell_type": "code",
   "execution_count": 785,
   "id": "ab3b6747-64a5-4e9e-858c-cddd5e0de689",
   "metadata": {
    "tags": []
   },
   "outputs": [
    {
     "name": "stdout",
     "output_type": "stream",
     "text": [
      "Name: use_llm\n",
      "Description: For general tasks. Used only when no other function can do the task\n",
      "Input: []\n",
      "Output: {'Output': 'Output of LLM'}\n",
      "\n",
      "Name: end_task\n",
      "Description: Use only after task is completed\n",
      "Input: []\n",
      "Output: {}\n",
      "\n",
      "Name: add_number_to_list\n",
      "Description:  Appends <num1: int> to <num_list: list[int]> \n",
      "Input: ['num1', 'num_list']\n",
      "Output: {'output_1': 'list[int]'}\n",
      "\n"
     ]
    }
   ],
   "source": [
    "agent.print_functions()"
   ]
  },
  {
   "cell_type": "code",
   "execution_count": 786,
   "id": "5238a9a6-a654-482c-811a-0f4c8d21f3e3",
   "metadata": {
    "tags": []
   },
   "outputs": [
    {
     "name": "stdout",
     "output_type": "stream",
     "text": [
      "\u001b[1m\u001b[30mObservation: No subtasks completed yet\u001b[0m\n",
      "\u001b[1m\u001b[32mThoughts: To complete the assigned task of appending 7 to [2, 4], I need to use the 'add_number_to_list' function to add 7 to the list [2, 4].\u001b[0m\n",
      "\u001b[1m\u001b[34mSubtask identified: Add 7 to the list [2, 4]\u001b[0m\n",
      "Calling function add_number_to_list with parameters {'num1': 7, 'num_list': [2, 4]}\n",
      "> {'output_1': [2, 4, 7]}\n",
      "\n",
      "\u001b[1m\u001b[30mObservation: The task is to append 7 to the list [2, 4]. One subtask has been completed successfully, which is adding 7 to the list.\u001b[0m\n",
      "\u001b[1m\u001b[32mThoughts: Since the subtask of adding 7 to the list has been completed, the remaining task is to end the task. This can be done by using the \"end_task\" function.\u001b[0m\n",
      "\u001b[1m\u001b[34mSubtask identified: End Task\u001b[0m\n",
      "Task completed successfully!\n",
      "\n"
     ]
    },
    {
     "data": {
      "text/plain": [
       "[{'output_1': [2, 4, 7]}]"
      ]
     },
     "execution_count": 786,
     "metadata": {},
     "output_type": "execute_result"
    }
   ],
   "source": [
    "agent.run('Append 7 to [2, 4]')"
   ]
  },
  {
   "cell_type": "markdown",
   "id": "34f6a7b7-2fdb-407e-bd5c-3024c007a8a5",
   "metadata": {},
   "source": [
    "# CrewAI Structured Tools Interface with TaskGen"
   ]
  },
  {
   "cell_type": "code",
   "execution_count": 10,
   "id": "8455989c-b934-49ee-aaed-e3562002722a",
   "metadata": {
    "tags": []
   },
   "outputs": [],
   "source": [
    "# !pip install crewai==0.28.8 crewai_tools==0.1.6 langchain_community==0.0.29"
   ]
  },
  {
   "cell_type": "code",
   "execution_count": 351,
   "id": "efb3295a-6db9-4511-b0ca-4efce7d31bae",
   "metadata": {
    "tags": []
   },
   "outputs": [],
   "source": [
    "def query_pdf_tool(file_path: str, query: str):\n",
    "    ''' Queries a pdf file at file_path using query and returns the relevant content '''\n",
    "    from crewai_tools import PDFSearchTool\n",
    "    \n",
    "    return PDFSearchTool(pdf=file_path).run(query)"
   ]
  },
  {
   "cell_type": "code",
   "execution_count": 352,
   "id": "03b2f805-eddb-460a-af8d-55e9cf40348b",
   "metadata": {
    "tags": []
   },
   "outputs": [
    {
     "name": "stdout",
     "output_type": "stream",
     "text": [
      "--2024-05-21 13:08:37--  https://arxiv.org/pdf/2210.03629\n",
      "Resolving arxiv.org (arxiv.org)... 151.101.3.42, 151.101.67.42, 151.101.131.42, ...\n",
      "Connecting to arxiv.org (arxiv.org)|151.101.3.42|:443... connected.\n",
      "HTTP request sent, awaiting response... 200 OK\n",
      "Length: 633805 (619K) [application/pdf]\n",
      "Saving to: ‘react.pdf’\n",
      "\n",
      "react.pdf           100%[===================>] 618.95K  --.-KB/s    in 0.02s   \n",
      "\n",
      "2024-05-21 13:08:37 (27.6 MB/s) - ‘react.pdf’ saved [633805/633805]\n",
      "\n"
     ]
    }
   ],
   "source": [
    "!wget https://arxiv.org/pdf/2210.03629 -O react.pdf"
   ]
  },
  {
   "cell_type": "code",
   "execution_count": 353,
   "id": "d9c32bd7-2a4c-4ecd-8754-6f2eca657b5f",
   "metadata": {
    "tags": []
   },
   "outputs": [
    {
     "name": "stdout",
     "output_type": "stream",
     "text": [
      "Using Tool: Search a PDF's content\n"
     ]
    },
    {
     "data": {
      "text/plain": [
       "'Relevant Content:\\nReAct-IM is in\\n\\nand gather additional information from external sources such as knowledge bases or environments. We apply our approach, named ReAct , to a diverse set of language and decision making tasks and demonstrate its effectiveness over state-of-the-art baselines in addition to improved human interpretability and trustworthiness. Concretely, on question answering (HotpotQA) and fact veriﬁcation (Fever), ReAct overcomes prevalent issues of hallucination and error propagation in chain-of-thought reasoning by interacting with a simple Wikipedia API, and generating human-like task-solving trajectories that are more interpretable than baselines without reasoning traces. Furthermore, on two interactive decision making benchmarks (ALFWorld and WebShop), ReAct outperforms imitation and reinforcement learning methods by an absolute success rate of 34% and 10% respectively, while being prompted with only one or two in-context examples. 1 I NTRODUCTION A unique feature of human intelligence is the\\n\\nPublished as a conference paper at ICLR 2023 appear sparsely in the most relevant positions of a trajectory, so we let the language model decide the asynchronous occurrence of thoughts and actions for itself. Since decision making and reasoning capabilities are integrated into a large language model, ReAct enjoys several unique features: A) Intuitive and easy to design : Designing ReAct prompts is straightforward as human annotators just type down their thoughts in language on top of their actions taken. No ad-hoc format choice, thought design, or example selection is used in this paper. We detail prompt design for each task in Sections 3 and 4. B) General and ﬂexible : Due to the ﬂexible thought space and thought-action occurrence format, ReAct works for diverse tasks with distinct action spaces and reasoning needs, including but not limited to QA, fact veriﬁcation, text game, and web navigation. C) Performant and robust :ReAct shows strong generalization to new task instances while'"
      ]
     },
     "execution_count": 353,
     "metadata": {},
     "output_type": "execute_result"
    }
   ],
   "source": [
    "query_pdf_tool('react.pdf', 'What is ReAct?')"
   ]
  },
  {
   "cell_type": "code",
   "execution_count": 357,
   "id": "07b6d1c3-92bf-4a40-ae0d-5c1bbfb38897",
   "metadata": {
    "tags": []
   },
   "outputs": [],
   "source": [
    "agent = Agent('PDF Query Agent', 'References react.pdf and answers a user query').assign_functions([query_pdf_tool])"
   ]
  },
  {
   "cell_type": "code",
   "execution_count": 358,
   "id": "4371a03b-1e28-4931-954a-47e1c0f9676f",
   "metadata": {
    "tags": []
   },
   "outputs": [
    {
     "name": "stdout",
     "output_type": "stream",
     "text": [
      "Name: use_llm\n",
      "Description: For general tasks. Used only when no other function can do the task\n",
      "Input: []\n",
      "Output: {'Output': 'Output of LLM'}\n",
      "\n",
      "Name: end_task\n",
      "Description: Use only after task is completed\n",
      "Input: []\n",
      "Output: {}\n",
      "\n",
      "Name: query_pdf_tool\n",
      "Description:  Queries a pdf file at <file_path: str> using <query: str> and returns the relevant content \n",
      "Input: ['file_path', 'query']\n",
      "Output: {}\n",
      "\n"
     ]
    }
   ],
   "source": [
    "agent.print_functions()"
   ]
  },
  {
   "cell_type": "code",
   "execution_count": 359,
   "id": "884e70b6-735c-4cc0-bd62-6117279c4b66",
   "metadata": {
    "tags": []
   },
   "outputs": [
    {
     "name": "stdout",
     "output_type": "stream",
     "text": [
      "\u001b[1m\u001b[30mObservation: \u001b[0m\n",
      "\u001b[1m\u001b[32mThoughts: To answer the question 'What is ReAct?', we need to refer to the react.pdf file to find the relevant information.\u001b[0m\n",
      "\u001b[1m\u001b[34mSubtask identified: Query the react.pdf file to find the definition and information about ReAct.\u001b[0m\n",
      "Calling function query_pdf_tool with parameters {'file_path': 'react.pdf', 'query': 'ReAct'}\n",
      "Using Tool: Search a PDF's content\n",
      "> {'output_1': 'Relevant Content:\\nReAct-IM is in\\n\\nand gather additional information from external sources such as knowledge bases or environments. We apply our approach, named ReAct , to a diverse set of language and decision making tasks and demonstrate its effectiveness over state-of-the-art baselines in addition to improved human interpretability and trustworthiness. Concretely, on question answering (HotpotQA) and fact veriﬁcation (Fever), ReAct overcomes prevalent issues of hallucination and error propagation in chain-of-thought reasoning by interacting with a simple Wikipedia API, and generating human-like task-solving trajectories that are more interpretable than baselines without reasoning traces. Furthermore, on two interactive decision making benchmarks (ALFWorld and WebShop), ReAct outperforms imitation and reinforcement learning methods by an absolute success rate of 34% and 10% respectively, while being prompted with only one or two in-context examples. 1 I NTRODUCTION A unique feature of human intelligence is the\\n\\nPublished as a conference paper at ICLR 2023 appear sparsely in the most relevant positions of a trajectory, so we let the language model decide the asynchronous occurrence of thoughts and actions for itself. Since decision making and reasoning capabilities are integrated into a large language model, ReAct enjoys several unique features: A) Intuitive and easy to design : Designing ReAct prompts is straightforward as human annotators just type down their thoughts in language on top of their actions taken. No ad-hoc format choice, thought design, or example selection is used in this paper. We detail prompt design for each task in Sections 3 and 4. B) General and ﬂexible : Due to the ﬂexible thought space and thought-action occurrence format, ReAct works for diverse tasks with distinct action spaces and reasoning needs, including but not limited to QA, fact veriﬁcation, text game, and web navigation. C) Performant and robust :ReAct shows strong generalization to new task instances while'}\n",
      "\n",
      "\u001b[1m\u001b[30mObservation: The query to the react.pdf file has provided relevant information about ReAct, including its definition and features.\u001b[0m\n",
      "\u001b[1m\u001b[32mThoughts: Based on the information gathered from the react.pdf file, it seems that ReAct is a system that integrates decision making and reasoning capabilities into a large language model. It is designed to interact with external sources and demonstrate effectiveness in various tasks such as question answering, fact verification, and interactive decision making. The system aims to improve human interpretability and trustworthiness by generating human-like task-solving trajectories. To complete the assigned task, we need to provide a concise summary of ReAct.\u001b[0m\n",
      "\u001b[1m\u001b[34mSubtask identified: End Task\u001b[0m\n",
      "Task completed successfully!\n",
      "\n"
     ]
    },
    {
     "data": {
      "text/plain": [
       "[{'output_1': 'Relevant Content:\\nReAct-IM is in\\n\\nand gather additional information from external sources such as knowledge bases or environments. We apply our approach, named ReAct , to a diverse set of language and decision making tasks and demonstrate its effectiveness over state-of-the-art baselines in addition to improved human interpretability and trustworthiness. Concretely, on question answering (HotpotQA) and fact veriﬁcation (Fever), ReAct overcomes prevalent issues of hallucination and error propagation in chain-of-thought reasoning by interacting with a simple Wikipedia API, and generating human-like task-solving trajectories that are more interpretable than baselines without reasoning traces. Furthermore, on two interactive decision making benchmarks (ALFWorld and WebShop), ReAct outperforms imitation and reinforcement learning methods by an absolute success rate of 34% and 10% respectively, while being prompted with only one or two in-context examples. 1 I NTRODUCTION A unique feature of human intelligence is the\\n\\nPublished as a conference paper at ICLR 2023 appear sparsely in the most relevant positions of a trajectory, so we let the language model decide the asynchronous occurrence of thoughts and actions for itself. Since decision making and reasoning capabilities are integrated into a large language model, ReAct enjoys several unique features: A) Intuitive and easy to design : Designing ReAct prompts is straightforward as human annotators just type down their thoughts in language on top of their actions taken. No ad-hoc format choice, thought design, or example selection is used in this paper. We detail prompt design for each task in Sections 3 and 4. B) General and ﬂexible : Due to the ﬂexible thought space and thought-action occurrence format, ReAct works for diverse tasks with distinct action spaces and reasoning needs, including but not limited to QA, fact veriﬁcation, text game, and web navigation. C) Performant and robust :ReAct shows strong generalization to new task instances while'}]"
      ]
     },
     "execution_count": 359,
     "metadata": {},
     "output_type": "execute_result"
    }
   ],
   "source": [
    "agent.reset()\n",
    "agent.run('What is ReAct?')"
   ]
  },
  {
   "cell_type": "code",
   "execution_count": 360,
   "id": "6d4c1687-5fbd-421d-a497-8c7fcb29a464",
   "metadata": {
    "tags": []
   },
   "outputs": [
    {
     "name": "stdout",
     "output_type": "stream",
     "text": [
      "ReAct is a unique approach that integrates decision making and reasoning capabilities into a large language model. It is designed to interact with a simple Wikipedia API and generate human-like task-solving trajectories that are more interpretable than baselines without reasoning traces. ReAct is intuitive and easy to design, general and flexible, and performant and robust. It shows strong generalization to new task instances.\n"
     ]
    },
    {
     "data": {
      "text/plain": [
       "'ReAct is a unique approach that integrates decision making and reasoning capabilities into a large language model. It is designed to interact with a simple Wikipedia API and generate human-like task-solving trajectories that are more interpretable than baselines without reasoning traces. ReAct is intuitive and easy to design, general and flexible, and performant and robust. It shows strong generalization to new task instances.'"
      ]
     },
     "execution_count": 360,
     "metadata": {},
     "output_type": "execute_result"
    }
   ],
   "source": [
    "agent.reply_user()"
   ]
  },
  {
   "cell_type": "code",
   "execution_count": 120,
   "id": "d2c37c1b-439b-4948-ba2b-e1266e394a0a",
   "metadata": {
    "tags": []
   },
   "outputs": [],
   "source": [
    "# just wrap the external tool within a function\n",
    "def scrape_website_tool(website_url: str) -> str:\n",
    "    ''' Scrapes data from website_url '''\n",
    "    # import the tool\n",
    "    from crewai_tools import ScrapeWebsiteTool\n",
    "    \n",
    "    # initialise the tool\n",
    "    docs_scrape_tool = ScrapeWebsiteTool(\n",
    "        website_url=website_url)\n",
    "    \n",
    "    # run the tool\n",
    "    return docs_scrape_tool.run()"
   ]
  },
  {
   "cell_type": "code",
   "execution_count": 140,
   "id": "74d03606-5399-4056-9ed2-d8c7e6a262f0",
   "metadata": {
    "tags": []
   },
   "outputs": [],
   "source": [
    "agent = Agent('Website summariser', 'Scrapes and then uses LLM to summarise a website to the user', \n",
    "              summarise_subtasks_count = 5).assign_functions([scrape_website_tool])"
   ]
  },
  {
   "cell_type": "code",
   "execution_count": 141,
   "id": "f3605667-a7de-4051-918a-8d32cb008d66",
   "metadata": {
    "tags": []
   },
   "outputs": [
    {
     "name": "stdout",
     "output_type": "stream",
     "text": [
      "Name: use_llm\n",
      "Description: For general tasks. Used only when no other function can do the task\n",
      "Input: []\n",
      "Output: {'Output': 'Output of LLM'}\n",
      "\n",
      "Name: end_task\n",
      "Description: Use only after task is completed\n",
      "Input: []\n",
      "Output: {}\n",
      "\n",
      "Name: scrape_website_tool\n",
      "Description:  Scrapes data from <website_url: str> \n",
      "Input: ['website_url']\n",
      "Output: {'output_1': 'str'}\n",
      "\n"
     ]
    }
   ],
   "source": [
    "agent.print_functions()"
   ]
  },
  {
   "cell_type": "code",
   "execution_count": 142,
   "id": "9c23c8d1-0b4e-40d7-9dfd-12c69ac16016",
   "metadata": {
    "tags": []
   },
   "outputs": [
    {
     "name": "stdout",
     "output_type": "stream",
     "text": [
      "\u001b[1m\u001b[30mObservation: No subtasks have been completed yet.\u001b[0m\n",
      "\u001b[1m\u001b[32mThoughts: To complete the assigned task, we need to gather information on the differences between TaskGen and CrewAI. This can be achieved by scraping the respective websites and then summarising the content using LLM.\u001b[0m\n",
      "\u001b[1m\u001b[34mSubtask identified: Scrapes data from \"https://github.com/simbianai/taskgen\"\u001b[0m\n",
      "Calling function scrape_website_tool with parameters {'website_url': 'https://github.com/simbianai/taskgen'}\n",
      "Using Tool: Read website content\n",
      "> {'output_1': 'GitHub - simbianai/taskgen: Task-based Agentic Framework using StrictJSON as the core\\nSkip to content\\nNavigation Menu\\nToggle navigation\\n Sign in\\n Product\\nActions\\n Automate any workflow\\nPackages\\n Host and manage packages\\nSecurity\\n Find and fix vulnerabilities\\nCodespaces\\n Instant dev environments\\nCopilot\\n Write better code with AI\\nCode review\\n Manage code changes\\nIssues\\n Plan and track work\\nDiscussions\\n Collaborate outside of code\\nExplore\\n All features\\n Documentation\\n GitHub Skills\\n Blog\\n Solutions\\nFor\\n Enterprise\\n Teams\\n Startups\\n Education\\nBy Solution\\n CI/CD & Automation\\n DevOps\\n DevSecOps\\nResources\\n Learning Pathways\\n White papers, Ebooks, Webinars\\n Customer Stories\\n Partners\\n Open Source\\nGitHub Sponsors\\n Fund open source developers\\nThe ReadME Project\\n GitHub community articles\\nRepositories\\n Topics\\n Trending\\n Collections\\nPricing\\nSearch or jump to...\\nSearch code, repositories, users, issues, pull requests...\\n Search\\nClear\\n Search syntax tips\\n Provide feedback\\nWe read every piece of feedback, and take your input very seriously.\\nInclude my email address so I can be contacted\\n Cancel\\n Submit feedback\\n Saved searches\\nUse saved searches to filter your results more quickly\\nName\\nQuery\\n To see all available qualifiers, see our documentation.\\n Cancel\\n Create saved search\\n Sign in\\n Sign up\\nYou signed in with another tab or window. Reload to refresh your session.\\nYou signed out in another tab or window. Reload to refresh your session.\\nYou switched accounts on another tab or window. Reload to refresh your session.\\nDismiss alert\\n simbianai\\n/\\ntaskgen\\nPublic\\nNotifications\\nFork\\n 10\\n Star\\n 76\\n Task-based Agentic Framework using StrictJSON as the core\\nLicense\\n MIT license\\n76\\n stars\\n10\\n forks\\nBranches\\nTags\\nActivity\\n Star\\nNotifications\\nCode\\nIssues\\n3\\nPull requests\\n0\\nActions\\nProjects\\n0\\nSecurity\\nInsights\\nAdditional navigation options\\n Code\\n Issues\\n Pull requests\\n Actions\\n Projects\\n Security\\n Insights\\nsimbianai/taskgen\\nThis commit does not belong to any branch on this repository, and may belong to a fork outside of the repository.\\n \\xa0mainBranchesTagsGo to fileCodeFolders and filesNameNameLast commit messageLast commit dateLatest commit\\xa0History98 CommitsPaperPaper\\xa0\\xa0contribcontrib\\xa0\\xa0resourcesresources\\xa0\\xa0taskgentaskgen\\xa0\\xa0.example.env.example.env\\xa0\\xa0.gitignore.gitignore\\xa0\\xa0LICENSELICENSE\\xa0\\xa0PyGame_Essay_Creator.ipynbPyGame_Essay_Creator.ipynb\\xa0\\xa0README.mdREADME.md\\xa0\\xa0TaskGen AMA_18May2024.ipynbTaskGen AMA_18May2024.ipynb\\xa0\\xa0Tutorial 0 - StrictJSON.ipynbTutorial 0 - StrictJSON.ipynb\\xa0\\xa0Tutorial 1 - Agent.ipynbTutorial 1 - Agent.ipynb\\xa0\\xa0Tutorial 2 - Hierarchical Agents.ipynbTutorial 2 - Hierarchical Agents.ipynb\\xa0\\xa0Tutorial 3 - Shared Variables.ipynbTutorial 3 - Shared Variables.ipynb\\xa0\\xa0Tutorial 4 - Memory.ipynbTutorial 4 - Memory.ipynb\\xa0\\xa0Tutorial 5 - Additional Context.ipynbTutorial 5 - Additional Context.ipynb\\xa0\\xa0Tutorial 6 - External Function Interfacing.ipynbTutorial 6 - External Function Interfacing.ipynb\\xa0\\xa0changelog.txtchangelog.txt\\xa0\\xa0myagent.pklmyagent.pkl\\xa0\\xa0pyproject.tomlpyproject.toml\\xa0\\xa0requirements.txtrequirements.txt\\xa0\\xa0setup.pysetup.py\\xa0\\xa0View all filesRepository files navigationREADMEMIT licenseTaskGen v2.3.0\\nA Task-based agentic framework building on StrictJSON outputs by LLM agents\\nRelated Repositories: StrictJSON (https://github.com/tanchongmin/strictjson)\\nVideo (Part 1): https://www.youtube.com/watch?v=O_XyTT7QGH4\\nVideo (Part 2): https://www.youtube.com/watch?v=OWk7moRfTPE\\nTaskGen Ask Me Anything: https://www.youtube.com/watch?v=mheIWKugqF4\\nCreator\\'s Preamble\\nHappy to share that the task-based agentic framework I have been working on - TaskGen - is largely complete!\\nNoteable features include:\\nSplitting of Tasks into subtasks for bite-sized solutions for each subtask\\nSingle Agent with LLM Functions\\nSingle Agent with External Functions\\nMeta Agent with Inner Agents as Functions\\nShared Variables for multi-modality support\\nRetrieval Augmented Generation (RAG) over Function space\\nMemory to provide additional task-based prompts for task\\nGlobal Context for configuring your own prompts + add persistent variables\\nI am quite sure that this is the best open-source agentic framework for task-based execution out there!\\nExisting frameworks like AutoGen rely too much on conversational text which is lengthy and not targeted.\\nTaskGen uses StrictJSON (JSON parser with type checking and more!) as the core, and agents are efficient and are able to do Chain of Thought natively using JSON keys and descriptions as a guide.\\nWhat can you do to help:\\nStar the github so more people can use it (It\\'s open source and free to use, even commercially!)\\nContribute your favourite external function integrations so that it can be much more boilerplate for others to use :)\\nContribute template Jupyter Notebooks for your favourite use cases :)\\nI can\\'t wait to see what this new framework can do for you!\\nBenefits of JSON messaging over agentic frameworks using conversational free-text like AutoGen\\nJSON format helps do Chain-of-Thought prompting naturally and is less verbose than free text\\nJSON format allows natural parsing of multiple output fields by agents\\nStrictJSON helps to ensure all output fields are there and of the right format required for downstream processing\\nTutorials and Community Support\\nCreated: 17 Feb 2024 by John Tan Chong Min\\nCollaborators welcome\\nDiscussion Channel (my discord - John\\'s AI Group): https://discord.gg/bzp87AHJy5\\nHow do I use this?\\nDownload package via command line pip install taskgen-ai\\nSet up your OpenAPI API Key\\nImport the required functions from taskgen and use them!\\nDifferences in LLM for Agentic Framework\\nChatGPT (gpt-3.5-turbo) is consistent only if you specify very clearly what you want the Agent to do and give examples of what you want\\ngpt-4-turbo and more advanced models can perform better zero-shot without much examples\\nTaskGen is compatible with ChatGPT and similar models, but for more robust use, consider using gpt-4-turbo and better models\\nAgent Basics - See Tutorial 1\\nCreate an agent by entering your agent\\'s name and description\\nAgents are task-based, so they will help generate subtasks to fulfil your main task\\nAgents are made to be non-verbose, so they will just focus only on task instruction (Much more efficient compared to conversational-based agentic frameworks like AutoGen)\\nExample Agent Creation\\nmy_agent = Agent(\\'Helpful assistant\\', \\'You are a generalist agent\\')\\nExample Agent Task Running - Split the assigned task into subtasks and execute each of them\\n# Run your agent\\noutput = my_agent.run(\\'Give me 5 words rhyming with cool, and make a 4-sentence poem using them\\')\\nSubtask identified: Find 5 words that rhyme with \\'cool\\'\\nGetting LLM to perform the following task: Find 5 words that rhyme with \\'cool\\'\\npool, rule, fool, tool, school\\nSubtask identified: Compose a 4-sentence poem using the words \\'pool\\', \\'rule\\', \\'fool\\', \\'tool\\', and \\'school\\'\\nGetting LLM to perform the following task: Compose a 4-sentence poem using the words \\'pool\\', \\'rule\\', \\'fool\\', \\'tool\\', and \\'school\\'\\nIn the school, the golden rule is to never be a fool. Use your mind as a tool, and always follow the pool.\\nTask completed successfully!\\nExample Agent Reply to User - Reference the subtasks\\' output to answer the user\\'s query\\noutput = my_agent.reply_user()\\nHere are 5 words that rhyme with \"cool\": pool, rule, fool, tool, school. Here is a 4-sentence poem using these words: \"In the school, the golden rule is to never be a fool. Use your mind as a tool, and always follow the pool.\"\\nCheck Agent\\'s Status\\nmy_agent.status()\\nAgent Name: Helpful assistant\\nAgent Description: You are a generalist agent\\nAvailable Functions: [\\'use_llm\\', \\'end_task\\']\\nTask: Give me 5 words rhyming with cool, and make a 4-sentence poem using them\\nSubtasks Completed:\\nSubtask: Find 5 words that rhyme with \\'cool\\'\\npool, rule, fool, tool, school\\nSubtask: Compose a 4-sentence poem using the words \\'pool\\', \\'rule\\', \\'fool\\', \\'tool\\', and \\'school\\'\\nIn the school, the golden rule is to never be a fool. Use your mind as a tool, and always follow the pool.\\nIs Task Completed: True\\nFunctions\\nEnhances strict_json() with a function-like interface for repeated use of modular LLM-based functions (or wraps external functions)\\nUse angle brackets <> to enclose input variable names. First input variable name to appear in fn_description will be first input variable and second to appear will be second input variable. For example, fn_description = \\'Adds up two numbers, <var1> and <var2>\\' will result in a function with first input variable var1 and second input variable var2\\n(Optional) If you would like greater specificity in your function\\'s input, you can describe the variable after the : in the input variable name, e.g. <var1: an integer from 10 to 30>. Here, var1 is the input variable and an integer from 10 to 30 is the description.\\n(Optional) If your description of the variable is one of int, float, str, dict, list, array, Dict[], List[], Array[], Enum[], bool, we will enforce type checking when generating the function inputs in get_next_subtask method of the Agent class. Example: <var1: int> Refer to Tutorial 0, Section 3. Type Forcing Output Variables for details.\\nInputs (primary):\\nfn_description: String. Function description to describe process of transforming input variables to output variables. Variables must be enclosed in <> and listed in order of appearance in function input.\\nNew feature: If external_fn is provided and no fn_description is provided, then we will automatically parse out the fn_description based on docstring of external_fn. Only requirement is that the docstring must contain the names of all compulsory input variables\\noutput_format: Dict. Dictionary containing output variables names and description for each variable.\\nInputs (optional):\\nexamples - Dict or List[Dict]. Examples in Dictionary form with the input and output variables (list if more than one)\\nexternal_fn - Python Function. If defined, instead of using LLM to process the function, we will run the external function.\\nIf there are multiple outputs of this function, we will map it to the keys of output_format in a one-to-one fashion\\nfn_name - String. If provided, this will be the name of the function. Ohterwise, if external_fn is provided, it will be the name of external_fn. Otherwise, we will use LLM to generate a function name from the fn_description\\nkwargs - Dict. Additional arguments you would like to pass on to the strict_json function\\nOutputs:\\nJSON of output variables in a dictionary (similar to strict_json)\\nExample Internal LLM-Based Function\\n# Construct the function: var1 will be first input variable, var2 will be second input variable and so on\\nsentence_style = Function(fn_description = \\'Output a sentence with words <var1> and <var2> in the style of <var3>\\', output_format = {\\'output\\': \\'sentence\\'})\\n# Use the function\\nsentence_style(\\'ball\\', \\'dog\\', \\'happy\\') #var1, var2, var3\\nExample Output\\n{\\'output\\': \\'The happy dog chased the ball.\\'}\\nExample External Function\\ndef binary_to_decimal(x):\\n return int(str(x), 2)\\n# an external function with a single output variable, with an expressive variable description\\nb2d = Function(fn_description = \\'Convert input <x: a binary number in base 2> to base 10\\', output_format = {\\'output1\\': \\'x in base 10\\'},\\n external_fn = binary_to_decimal)\\n# Use the function\\nb2d(10) #x\\nExample Output\\n{\\'output1\\': 2}\\nExample fn_description inferred from type hints and docstring of External Function\\n# Docstring must provide all input variables\\n# We will ignore shared_variables, *args and **kwargs\\nfrom typing import List\\ndef add_number_to_list(num1: int, num_list: List[int], *args, **kwargs) -> List[int]:\\n \\'\\'\\'Adds num1 to num_list\\'\\'\\'\\n num_list.append(num1)\\n return num_list\\nfn = Function(external_fn = add_number_to_list, #output_format = {\\'num_array\\': \\'Array of numbers\\'} ## If you would like to name output variables (helps with LLM understanding), define your own output_format\\n )\\nstr(fn)\\nExample Output\\nDescription: Adds Adds <num1: int> to <num_list: list[int]>\\nInput: [\\'num1\\', \\'num_list\\']\\nOutput: {\\'output_1\\': \\'list[int]\\'}\\nPower Up your Agents - Bring in Functions (aka Tools)\\nAfter creating your agent, use assign_functions to assign a list of functions (of class Function) to it\\nFunction names will be automatically inferred if not specified\\nProceed to run tasks by using run()\\nmy_agent = Agent(\\'Helpful assistant\\', \\'You are a generalist agent\\')\\nmy_agent.assign_functions([sentence_style, b2d])\\noutput = my_agent.run(\\'Generate me a happy sentence with a number and a ball. The number is 1001 converted to decimal\\')\\nSubtask identified: Convert the binary number 1001 to decimal\\nCalling function binary_to_decimal with parameters {\\'x\\': \\'1001\\'}\\n{\\'output1\\': 9}\\nSubtask identified: Generate a happy sentence with the decimal number and a ball\\nCalling function sentence_with_objects_entities_emotion with parameters {\\'obj\\': \\'9\\', \\'entity\\': \\'ball\\', \\'emotion\\': \\'happy\\'}\\n{\\'output\\': \\'I am so happy with my 9 balls.\\'}\\nTask completed successfully!\\nSaving and Loading Agents\\nSometimes you want to configure your agents and save them and load them elsewhere, while maintaining the current agent state\\nWhen you use the save_agent function, we store the entire agent\\'s internal state, include name, description, list of functions, subtasks history and all other internal variables into a pickle file\\nWhen you use the load_agent function, and we will load the entire agent saved in the pickle file into the existing agent\\nKey functions:\\nsave_agent(pickle_file_name: str): Saves the agent\\'s internal parameters to a pickle file named pickle_file_name (include .pkl), returns the pickle file\\nload_agent(pickle_file_name: str): Loads the agent\\'s internal parameters from a pickle file named pickle_file_name (include .pkl), returns loaded agent\\nExample 1: Saving Agent\\nmy_agent.save_agent(\\'myagent.pkl\\')\\nExample Output\\nAgent saved to myagent.pkl\\nExample 2: Loading Agent\\nnew_agent = Agent().load_agent(\\'myagent.pkl\\')\\nExample Output\\nAgent loaded from myagent.pkl\\nInception: Agents within Agents - See Tutorial 2\\nYou can also create a Meta Agent that uses other Agents (referred to as Inner Agents) as functions\\nCreate your Meta agent using Agent() (Note: No different from usual process of creating Agents - your Meta Agent is also an Agent)\\nSet up an Inner Agent list and assign it to your Meta agent using assign_agents(agent_list)\\nExample Meta Agent Setup\\n# Define your meta-agent\\nmy_agent = Agent(\\'Menu Creator\\', \\'Creates a menu for a restaurant. Menu item includes Name, Description, Ingredients, Pricing.\\')\\n# Define your agent list. Note you can just assign functions to the agent in place using .assign_functions(function_list)\\nagent_list = [\\n Agent(\\'Chef\\', \\'Takes in dish names and comes up with ingredients for each of them. Does not generate prices.\\'),\\n Agent(\\'Boss\\', \\'\\'Does final quality check on menu items\\'),\\n Agent(\\'Creative Writer\\', \\'Takes in a cuisine type and generates interesting dish names and descriptions. Does not generate prices or ingredients.\\', max_subtasks = 2),\\n Agent(\\'Economist\\', \\'Takes in dish names and comes up with fictitious pricing for each of them\\')\\n ]\\nmy_agent.assign_agents(agent_list)\\nRun the Meta Agent\\nLet us run the agent and see the interactions between the Meta Agent and Inner Agents to solve the task!\\noutput = my_agent.run(\\'Give me 5 menu items with name, description, ingredients and price based on Italian food choices. Ensure all parts of menu are generated.\\')\\nShared Variables - See Tutorial 3\\n\"Because text is not enough\" - Anonymous\\nshared_variables is a dictionary, that is initialised in Agent (default empty dictionary), and can be referenced by any function of the agent (including Inner Agents and their functions)\\nThis can be useful for non-text modalitiies (e.g. audio, pdfs, image) and lengthy text modalities, which we do not want to output into subtasks_completed directly\\ns_ at the start of the variable names means shared variables\\nFor input, it means we take the variable from shared_variables instead of LLM generated input\\nFor output, it means we store the variable into shared_variables instead of storing it in subtasks_completed. If subtasks_completed output is empty, it will be output as {\\'Status\\': \\'Completed\\'}\\nExample shared variables names: s_sum, s_total, s_list_of_words\\nExample Input\\n# Function takes in increment (LLM generated) and s_total (retrieves from shared variable dict), and outputs to s_total (in shared variable dict)\\nadd = Function(fn_description = \"Add <increment: int> to <s_total>\", output_format = {\"s_total\": \"Modified total\"})\\n# Define the calculator agent and the shared_variables - Note the naming convention of s_ at the start of the names for shared variables\\nmy_agent = Agent(\\'Calculator\\', \\'Does computations\\', shared_variables = {\\'s_total\\': 0}).assign_functions([add])\\noutput = my_agent.run(\\'Increment total by 1\\')\\nprint(\\'Shared Variables:\\', my_agent.shared_variables)\\nExample Output\\nSubtask identified: Add 1 to the total\\nCalling function add_int_to_variable with parameters {\\'increment\\': 1}\\n{\\'Status\\': \\'Completed\\'}\\nTask completed successfully!\\nShared Variables: {\\'s_total\\': 1}\\nExample External Function Accessing Shared Variables (Advanced)\\n# Use shared_variables as input to your external function to access and modify the shared variables\\ndef generate_quotes(shared_variables, number_of_quotes: int, category: str):\\n \\'\\'\\' Generates number_of_quotes quotes about category \\'\\'\\'\\n # Retrieve from shared variables\\n my_quote_list = shared_variables[\\'quote_list\\']\\n ### Add your function code here ###\\n # Store back to shared variables\\n shared_variables[\\'quote_list\\'] = my_quote_list\\ngenerate_quote_fn = Function(output_format = {}, external_fn = generate_quotes)\\nMemory - See Tutorial 4\\nKey Philosophy\\nIt would be important to learn from past experience and improve the agentic framework - memory is key to that\\nYou can add to the memory bank of your Agents pre-inference (by collecting from a pool of data prior to running the Agent), or during inference (add on in between running subtasks)\\nUse Memory in Agents\\nAgent class takes memory_bank as a parameter during initialisation of an Agent\\nmemory_bank: class Dict[Memory]. Stores multiple types of memory for use by the agent. Customise the Memory config within the Memory class.\\nDefault: memory_bank = {\\'Function\\': Memory(top_k = 5, mapper = lambda x: x.fn_description, approach = \\'retrieve_by_ranker\\')}\\nKey: Function (Already Implemented Natively) - Does RAG over Task -> Function mapping\\nCan add in more keys that would fit your use case. Retrieves similar items to task/overall plan (if able) for additional context in get_next_subtasks() and use_llm() function\\nSide Note: RAG can also be done (and may be preferred) as a separate function of the Agent to retrieve more information when needed (so that we do not overload the Agent with information)\\nMemory Class\\nRetrieves top k memory items based on task\\nInputs:\\nmemory: List. Default: Empty List. The list containing the memory items\\ntop_k: Int. Default: 3. The number of memory list items to retrieve\\nmapper: Function. Maps the memory item to another form for comparison by ranker or LLM. Default: lambda x: x\\nExample mapping: lambda x: x.fn_description (If x is a Class and the string you want to compare for similarity is the fn_description attribute of that class)\\napproach: str. Either retrieve_by_ranker or retrieve_by_llm to retrieve memory items.\\nRanker is faster and cheaper as it compares via embeddings, but are inferior to LLM-based methods for context information\\nranker: Ranker. The Ranker which defines a similarity score between a query and a key. Default: OpenAI text-embedding-3-small model.\\nCan be replaced with a function which returns similarity score from 0 to 1 when given a query and key\\nExample Use Case\\nHelps to reduce number of functions present in LLM context for more accurate generation\\noutput = my_agent.run(\\'Calculate 2**10 * (5 + 1) / 10\\')\\nOriginal Function List: add_numbers, subtract_numbers, add_three_numbers, multiply_numbers, divide_numbers, power_of, GCD_of_two_numbers, modulo_of_numbers, absolute_difference, generate_poem_with_numbers, List_related_words, generate_quote\\nFiltered Function Names: add_three_numbers, multiply_numbers, divide_numbers, power_of, modulo_of_numbers\\nGlobal Context - See Tutorial 5 (Advanced)\\nAgent takes in one additional parameter: get_global_context\\nThis is a function that takes in the agent\\'s internal parameters (self) and outputs a string to the LLM to append to the prompts of any LLM-based calls internally, e.g. get_next_subtask, use_llm, reply_to_user\\nYou have full flexibility to access anything the agent knows and configure a global prompt to the agent\\nUses\\nUsed mainly to provide persistent variables to an agent that is not conveniently stored in subtasks_completed, e.g. ingredients remaining, location in grid for robot\\nImplementing your own specific instructions to the default planner prompt\\nImplement your own memory-based RAG / global prompt instruction if you need more than what the default prompt can achieve\\nAvoid Multiple Similar Subtasks in subtasks_history\\nIf you have multiple similar subtask names, then it is likely the Agent can be confused and think it has already done the subtask\\nIn this case, you can disambiguate by resetting the agent and store the persistent information in shared_variables and provide it to the agent using get_global_context\\nHas the benefit of shifting the Start State closer to End State desired by resetting the Agent\\'s planning cycle\\nKnown Limitations\\nTo be added\\nContributing to the project\\nTest locally\\nClone the repository\\nIf using a virtual environment, activate it\\ncd into taskgen repository\\nInstall the package via command line pip install -e .\\nNow you can import the package and use it in your code\\nSubmitting a pull request\\nFork the repository\\nCreate a new branch\\nMake your changes\\nPush your changes to your fork\\nSubmit a pull request\\nWhat are we looking out for?\\nIntegrations with functions - It would be good if we could import function definitions from elsewhere, e.g. LangChain, into the format shown here. It might even be done automatically using LLM-based conversion using StrictJSON!\\nJupyter Notebooks showcasing what could be done with the framework for something useful. Let your imagination guide you, we look forward to see what you create\\nOther Known Limitations - Do test the framework out extensively and note its failure cases. We will see if we can address them, if not we will put them in Known Limitations.\\n(For the prompt engineer). If you could find a better way to make the prompts work, let us know directly - we do need to test this out across all Tutorial Jupyter Notebooks to make sure that it really works with existing datasets. Also, if you are using other LLMs beside OpenAI, and find the prompts do not work as well - try to rejig your own prompts and let us know as well!\\nAbout\\n Task-based Agentic Framework using StrictJSON as the core\\nResources\\n Readme\\nLicense\\n MIT license\\nActivity\\nCustom properties\\nStars\\n76\\n stars\\nWatchers\\n4\\n watching\\nForks\\n10\\n forks\\n Report repository\\n Releases\\nNo releases published\\n Packages\\n 0\\n No packages published Contributors\\n 3\\nLanguages\\nJupyter Notebook\\n97.2%\\nPython\\n2.8%\\nFooter\\n © 2024 GitHub,\\xa0Inc.\\nFooter navigation\\nTerms\\nPrivacy\\nSecurity\\nStatus\\nDocs\\nContact\\n Manage cookies\\n Do not share my personal information\\n You can’t perform that action at this time.'}\n",
      "\n",
      "\u001b[1m\u001b[30mObservation: The differences between TaskGen and CrewAI have been explored by scraping the website of TaskGen and summarizing its features and functionalities.\u001b[0m\n",
      "\u001b[1m\u001b[32mThoughts: To complete the remainder of the Assigned Task, we need to scrape the website of CrewAI and summarize its features and functionalities. This will allow us to compare the information gathered from both websites and highlight the distinctions between TaskGen and CrewAI.\u001b[0m\n",
      "\u001b[1m\u001b[34mSubtask identified: Scrape data from \"https://github.com/joaomdmoura/CrewAI\"\u001b[0m\n",
      "Calling function scrape_website_tool with parameters {'website_url': 'https://github.com/joaomdmoura/CrewAI'}\n",
      "Using Tool: Read website content\n",
      "> {'output_1': 'GitHub - joaomdmoura/crewAI: Framework for orchestrating role-playing, autonomous AI agents. By fostering collaborative intelligence, CrewAI empowers agents to work together seamlessly, tackling complex tasks.\\nSkip to content\\nNavigation Menu\\nToggle navigation\\n Sign in\\n Product\\nActions\\n Automate any workflow\\nPackages\\n Host and manage packages\\nSecurity\\n Find and fix vulnerabilities\\nCodespaces\\n Instant dev environments\\nCopilot\\n Write better code with AI\\nCode review\\n Manage code changes\\nIssues\\n Plan and track work\\nDiscussions\\n Collaborate outside of code\\nExplore\\n All features\\n Documentation\\n GitHub Skills\\n Blog\\n Solutions\\nFor\\n Enterprise\\n Teams\\n Startups\\n Education\\nBy Solution\\n CI/CD & Automation\\n DevOps\\n DevSecOps\\nResources\\n Learning Pathways\\n White papers, Ebooks, Webinars\\n Customer Stories\\n Partners\\n Open Source\\nGitHub Sponsors\\n Fund open source developers\\nThe ReadME Project\\n GitHub community articles\\nRepositories\\n Topics\\n Trending\\n Collections\\nPricing\\nSearch or jump to...\\nSearch code, repositories, users, issues, pull requests...\\n Search\\nClear\\n Search syntax tips\\n Provide feedback\\nWe read every piece of feedback, and take your input very seriously.\\nInclude my email address so I can be contacted\\n Cancel\\n Submit feedback\\n Saved searches\\nUse saved searches to filter your results more quickly\\nName\\nQuery\\n To see all available qualifiers, see our documentation.\\n Cancel\\n Create saved search\\n Sign in\\n Sign up\\nYou signed in with another tab or window. Reload to refresh your session.\\nYou signed out in another tab or window. Reload to refresh your session.\\nYou switched accounts on another tab or window. Reload to refresh your session.\\nDismiss alert\\n joaomdmoura\\n/\\ncrewAI\\nPublic\\nNotifications\\nFork\\n 1.9k\\n Star\\n 14.5k\\n Framework for orchestrating role-playing, autonomous AI agents. By fostering collaborative intelligence, CrewAI empowers agents to work together seamlessly, tackling complex tasks.\\ncrewai.com\\nLicense\\n MIT license\\n14.5k\\n stars\\n1.9k\\n forks\\nBranches\\nTags\\nActivity\\n Star\\nNotifications\\nCode\\nIssues\\n304\\nPull requests\\n24\\nActions\\nProjects\\n0\\nSecurity\\nInsights\\nAdditional navigation options\\n Code\\n Issues\\n Pull requests\\n Actions\\n Projects\\n Security\\n Insights\\njoaomdmoura/crewAI\\nThis commit does not belong to any branch on this repository, and may belong to a fork outside of the repository.\\n \\xa0mainBranchesTagsGo to fileCodeFolders and filesNameNameLast commit messageLast commit dateLatest commit\\xa0History465 Commits.cache/plugin/social.cache/plugin/social\\xa0\\xa0.github/workflows.github/workflows\\xa0\\xa0docsdocs\\xa0\\xa0src/crewaisrc/crewai\\xa0\\xa0teststests\\xa0\\xa0.editorconfig.editorconfig\\xa0\\xa0.gitignore.gitignore\\xa0\\xa0.pre-commit-config.yaml.pre-commit-config.yaml\\xa0\\xa0LICENSELICENSE\\xa0\\xa0README.mdREADME.md\\xa0\\xa0crewAI.excalidrawcrewAI.excalidraw\\xa0\\xa0mkdocs.ymlmkdocs.yml\\xa0\\xa0poetry.lockpoetry.lock\\xa0\\xa0pyproject.tomlpyproject.toml\\xa0\\xa0View all filesRepository files navigationREADMEMIT license\\ncrewAI\\n🤖 crewAI: Cutting-edge framework for orchestrating role-playing, autonomous AI agents. By fostering collaborative intelligence, CrewAI empowers agents to work together seamlessly, tackling complex tasks.\\nHomepage | Documentation | Chat with Docs | Examples | Discord\\nTable of contents\\nWhy CrewAI?\\nGetting Started\\nKey Features\\nExamples\\nQuick Tutorial\\nWrite Job Descriptions\\nTrip Planner\\nStock Analysis\\nConnecting Your Crew to a Model\\nHow CrewAI Compares\\nContribution\\nTelemetry\\nLicense\\nWhy CrewAI?\\nThe power of AI collaboration has too much to offer.\\nCrewAI is designed to enable AI agents to assume roles, share goals, and operate in a cohesive unit - much like a well-oiled crew. Whether you\\'re building a smart assistant platform, an automated customer service ensemble, or a multi-agent research team, CrewAI provides the backbone for sophisticated multi-agent interactions.\\nGetting Started\\nTo get started with CrewAI, follow these simple steps:\\n1. Installation\\npip install crewai\\nIf you want to install the \\'crewai\\' package along with its optional features that include additional tools for agents, you can do so by using the following command: pip install \\'crewai[tools]\\'. This command installs the basic package and also adds extra components which require more dependencies to function.\"\\npip install \\'crewai[tools]\\'\\n2. Setting Up Your Crew\\nimport os\\nfrom crewai import Agent, Task, Crew, Process\\nfrom crewai_tools import SerperDevTool\\nos.environ[\"OPENAI_API_KEY\"] = \"YOUR_API_KEY\"\\nos.environ[\"SERPER_API_KEY\"] = \"Your Key\" # serper.dev API key\\n# You can choose to use a local model through Ollama for example. See https://docs.crewai.com/how-to/LLM-Connections/ for more information.\\n# os.environ[\"OPENAI_API_BASE\"] = \\'http://localhost:11434/v1\\'\\n# os.environ[\"OPENAI_MODEL_NAME\"] =\\'openhermes\\' # Adjust based on available model\\n# os.environ[\"OPENAI_API_KEY\"] =\\'sk-111111111111111111111111111111111111111111111111\\'\\nsearch_tool = SerperDevTool()\\n# Define your agents with roles and goals\\nresearcher = Agent(\\n role=\\'Senior Research Analyst\\',\\n goal=\\'Uncover cutting-edge developments in AI and data science\\',\\n backstory=\"\"\"You work at a leading tech think tank.\\n Your expertise lies in identifying emerging trends.\\n You have a knack for dissecting complex data and presenting actionable insights.\"\"\",\\n verbose=True,\\n allow_delegation=False,\\n tools=[search_tool]\\n # You can pass an optional llm attribute specifying what model you wanna use.\\n # It can be a local model through Ollama / LM Studio or a remote\\n # model like OpenAI, Mistral, Antrophic or others (https://docs.crewai.com/how-to/LLM-Connections/)\\n #\\n # import os\\n # os.environ[\\'OPENAI_MODEL_NAME\\'] = \\'gpt-3.5-turbo\\'\\n #\\n # OR\\n #\\n # from langchain_openai import ChatOpenAI\\n # llm=ChatOpenAI(model_name=\"gpt-3.5\", temperature=0.7)\\n)\\nwriter = Agent(\\n role=\\'Tech Content Strategist\\',\\n goal=\\'Craft compelling content on tech advancements\\',\\n backstory=\"\"\"You are a renowned Content Strategist, known for your insightful and engaging articles.\\n You transform complex concepts into compelling narratives.\"\"\",\\n verbose=True,\\n allow_delegation=True\\n)\\n# Create tasks for your agents\\ntask1 = Task(\\n description=\"\"\"Conduct a comprehensive analysis of the latest advancements in AI in 2024.\\n Identify key trends, breakthrough technologies, and potential industry impacts.\"\"\",\\n expected_output=\"Full analysis report in bullet points\",\\n agent=researcher\\n)\\ntask2 = Task(\\n description=\"\"\"Using the insights provided, develop an engaging blog\\n post that highlights the most significant AI advancements.\\n Your post should be informative yet accessible, catering to a tech-savvy audience.\\n Make it sound cool, avoid complex words so it doesn\\'t sound like AI.\"\"\",\\n expected_output=\"Full blog post of at least 4 paragraphs\",\\n agent=writer\\n)\\n# Instantiate your crew with a sequential process\\ncrew = Crew(\\n agents=[researcher, writer],\\n tasks=[task1, task2],\\n verbose=2, # You can set it to 1 or 2 to different logging levels\\n)\\n# Get your crew to work!\\nresult = crew.kickoff()\\nprint(\"######################\")\\nprint(result)\\nIn addition to the sequential process, you can use the hierarchical process, which automatically assigns a manager to the defined crew to properly coordinate the planning and execution of tasks through delegation and validation of results. See more about the processes here.\\nKey Features\\nRole-Based Agent Design: Customize agents with specific roles, goals, and tools.\\nAutonomous Inter-Agent Delegation: Agents can autonomously delegate tasks and inquire amongst themselves, enhancing problem-solving efficiency.\\nFlexible Task Management: Define tasks with customizable tools and assign them to agents dynamically.\\nProcesses Driven: Currently only supports sequential task execution and hierarchical processes, but more complex processes like consensual and autonomous are being worked on.\\nSave output as file: Save the output of individual tasks as a file, so you can use it later.\\nParse output as Pydantic or Json: Parse the output of individual tasks as a Pydantic model or as a Json if you want to.\\nWorks with Open Source Models: Run your crew using Open AI or open source models refer to the Connect crewAI to LLMs page for details on configuring your agents\\' connections to models, even ones running locally!\\nExamples\\nYou can test different real life examples of AI crews in the crewAI-examples repo:\\nLanding Page Generator\\nHaving Human input on the execution\\nTrip Planner\\nStock Analysis\\nQuick Tutorial\\nWrite Job Descriptions\\nCheck out code for this example or watch a video below:\\nTrip Planner\\nCheck out code for this example or watch a video below:\\nStock Analysis\\nCheck out code for this example or watch a video below:\\nConnecting Your Crew to a Model\\ncrewAI supports using various LLMs through a variety of connection options. By default your agents will use the OpenAI API when querying the model. However, there are several other ways to allow your agents to connect to models. For example, you can configure your agents to use a local model via the Ollama tool.\\nPlease refer to the Connect crewAI to LLMs page for details on configuring you agents\\' connections to models.\\nHow CrewAI Compares\\nAutogen: While Autogen does good in creating conversational agents capable of working together, it lacks an inherent concept of process. In Autogen, orchestrating agents\\' interactions requires additional programming, which can become complex and cumbersome as the scale of tasks grows.\\nChatDev: ChatDev introduced the idea of processes into the realm of AI agents, but its implementation is quite rigid. Customizations in ChatDev are limited and not geared towards production environments, which can hinder scalability and flexibility in real-world applications.\\nCrewAI\\'s Advantage: CrewAI is built with production in mind. It offers the flexibility of Autogen\\'s conversational agents and the structured process approach of ChatDev, but without the rigidity. CrewAI\\'s processes are designed to be dynamic and adaptable, fitting seamlessly into both development and production workflows.\\nContribution\\nCrewAI is open-source and we welcome contributions. If you\\'re looking to contribute, please:\\nFork the repository.\\nCreate a new branch for your feature.\\nAdd your feature or improvement.\\nSend a pull request.\\nWe appreciate your input!\\nInstalling Dependencies\\npoetry lock\\npoetry install\\nVirtual Env\\npoetry shell\\nPre-commit hooks\\npre-commit install\\nRunning Tests\\npoetry run pytest\\nRunning static type checks\\npoetry run mypy\\nPackaging\\npoetry build\\nInstalling Locally\\npip install dist/*.tar.gz\\nTelemetry\\nCrewAI uses anonymous telemetry to collect usage data with the main purpose of helping us improve the library by focusing our efforts on the most used features, integrations and tools.\\nThere is NO data being collected on the prompts, tasks descriptions agents backstories or goals nor tools usage, no API calls, nor responses nor any data that is being processed by the agents, nor any secrets and env vars.\\nData collected includes:\\nVersion of crewAI\\nSo we can understand how many users are using the latest version\\nVersion of Python\\nSo we can decide on what versions to better support\\nGeneral OS (e.g. number of CPUs, macOS/Windows/Linux)\\nSo we know what OS we should focus on and if we could build specific OS related features\\nNumber of agents and tasks in a crew\\nSo we make sure we are testing internally with similar use cases and educate people on the best practices\\nCrew Process being used\\nUnderstand where we should focus our efforts\\nIf Agents are using memory or allowing delegation\\nUnderstand if we improved the features or maybe even drop them\\nIf Tasks are being executed in parallel or sequentially\\nUnderstand if we should focus more on parallel execution\\nLanguage model being used\\nImproved support on most used languages\\nRoles of agents in a crew\\nUnderstand high level use cases so we can build better tools, integrations and examples about it\\nTools names available\\nUnderstand out of the publically available tools, which ones are being used the most so we can improve them\\nUsers can opt-in sharing the complete telemetry data by setting the share_crew attribute to True on their Crews.\\nLicense\\nCrewAI is released under the MIT License.\\nAbout\\n Framework for orchestrating role-playing, autonomous AI agents. By fostering collaborative intelligence, CrewAI empowers agents to work together seamlessly, tackling complex tasks.\\ncrewai.com\\nTopics\\n ai\\n agents\\n ai-agents\\n llms\\nResources\\n Readme\\nLicense\\n MIT license\\nActivity\\nStars\\n14.5k\\n stars\\nWatchers\\n174\\n watching\\nForks\\n1.9k\\n forks\\n Report repository\\n Releases\\n 35\\nv0.30.8\\n Latest\\nMay 14, 2024\\n + 34 releases\\n Packages\\n 0\\n No packages published Used by 1.1k\\n + 1,074\\n Contributors\\n 75\\n + 61 contributors\\nLanguages\\nPython\\n100.0%\\nFooter\\n © 2024 GitHub,\\xa0Inc.\\nFooter navigation\\nTerms\\nPrivacy\\nSecurity\\nStatus\\nDocs\\nContact\\n Manage cookies\\n Do not share my personal information\\n You can’t perform that action at this time.'}\n",
      "\n",
      "\u001b[1m\u001b[30mObservation: Data has been scraped from both TaskGen and CrewAI repositories on GitHub, providing detailed information about each framework.\u001b[0m\n",
      "\u001b[1m\u001b[32mThoughts: To complete the task of identifying the differences between TaskGen and CrewAI, we can compare the key features, design principles, and functionalities of both frameworks. We need to analyze the information extracted from the scraped data to highlight the distinctions between TaskGen and CrewAI.\u001b[0m\n",
      "\u001b[1m\u001b[34mSubtask identified: Compare the key features, design principles, and functionalities of TaskGen and CrewAI to identify the differences between the two frameworks.\u001b[0m\n",
      "Getting LLM to perform the following task: Compare the key features, design principles, and functionalities of TaskGen and CrewAI to identify the differences between the two frameworks.\n",
      "> TaskGen and CrewAI are two distinct frameworks with unique features and design principles. TaskGen focuses on a task-based agentic framework using StrictJSON as the core, enabling efficient and targeted task execution. It emphasizes splitting tasks into subtasks, shared variables, and retrieval augmented generation for enhanced performance. On the other hand, CrewAI is designed for orchestrating role-playing autonomous AI agents, fostering collaborative intelligence for seamless task handling. It offers role-based agent design, autonomous inter-agent delegation, and flexible task management. While TaskGen excels in task efficiency and structured execution, CrewAI stands out for its collaborative agent interactions and dynamic process-driven approach.\n",
      "\n",
      "\u001b[1m\u001b[30mObservation: Key features, design principles, and functionalities of TaskGen and CrewAI have been compared to identify their differences.\u001b[0m\n",
      "\u001b[1m\u001b[32mThoughts: Based on the comparison, the differences between TaskGen and CrewAI have been highlighted. To complete the remaining part of the Assigned Task, we need to summarize the key differences between TaskGen and CrewAI.\u001b[0m\n",
      "\u001b[1m\u001b[34mSubtask identified: Summarize the key differences between TaskGen and CrewAI based on the comparison of their features, design principles, and functionalities.\u001b[0m\n",
      "Getting LLM to perform the following task: Summarize the key differences between TaskGen and CrewAI based on the comparison of their features, design principles, and functionalities.\n",
      "> TaskGen and CrewAI are two distinct frameworks with unique features and design principles. TaskGen focuses on a task-based agentic framework using StrictJSON as the core, enabling efficient and targeted task execution. It emphasizes splitting tasks into subtasks, shared variables, and retrieval augmented generation for enhanced performance. On the other hand, CrewAI is designed for orchestrating role-playing autonomous AI agents, fostering collaborative intelligence for seamless task handling. It offers role-based agent design, autonomous inter-agent delegation, and flexible task management. While TaskGen excels in task efficiency and structured execution, CrewAI stands out for its collaborative agent interactions and dynamic process-driven approach.\n",
      "\n",
      "\u001b[1m\u001b[30mObservation: The differences between TaskGen and CrewAI have been summarized based on their key features, design principles, and functionalities.\u001b[0m\n",
      "\u001b[1m\u001b[32mThoughts: To complete the remainder of the Assigned Task, we need to provide a comparison of the key features, design principles, and functionalities of TaskGen and CrewAI. This comparison should highlight the unique aspects of each framework and how they cater to different needs in the AI domain. We can focus on aspects such as task execution efficiency, agent interactions, and overall framework flexibility.\u001b[0m\n",
      "\u001b[1m\u001b[34mSubtask identified: Compare the key features, design principles, and functionalities of TaskGen and CrewAI to highlight their unique aspects and how they cater to different requirements in the AI domain.\u001b[0m\n",
      "Getting LLM to perform the following task: Compare the key features, design principles, and functionalities of TaskGen and CrewAI to highlight their unique aspects and how they cater to different requirements in the AI domain.\n",
      "> TaskGen and CrewAI are two distinct frameworks with unique features and design principles. TaskGen focuses on a task-based agentic framework using StrictJSON as the core, enabling efficient and targeted task execution. It emphasizes splitting tasks into subtasks, shared variables, and retrieval augmented generation for enhanced performance. On the other hand, CrewAI is designed for orchestrating role-playing autonomous AI agents, fostering collaborative intelligence for seamless task handling. It offers role-based agent design, autonomous inter-agent delegation, and flexible task management. While TaskGen excels in task efficiency and structured execution, CrewAI stands out for its collaborative agent interactions and dynamic process-driven approach.\n",
      "\n"
     ]
    },
    {
     "data": {
      "text/plain": [
       "[{'output_1': 'GitHub - simbianai/taskgen: Task-based Agentic Framework using StrictJSON as the core\\nSkip to content\\nNavigation Menu\\nToggle navigation\\n Sign in\\n Product\\nActions\\n Automate any workflow\\nPackages\\n Host and manage packages\\nSecurity\\n Find and fix vulnerabilities\\nCodespaces\\n Instant dev environments\\nCopilot\\n Write better code with AI\\nCode review\\n Manage code changes\\nIssues\\n Plan and track work\\nDiscussions\\n Collaborate outside of code\\nExplore\\n All features\\n Documentation\\n GitHub Skills\\n Blog\\n Solutions\\nFor\\n Enterprise\\n Teams\\n Startups\\n Education\\nBy Solution\\n CI/CD & Automation\\n DevOps\\n DevSecOps\\nResources\\n Learning Pathways\\n White papers, Ebooks, Webinars\\n Customer Stories\\n Partners\\n Open Source\\nGitHub Sponsors\\n Fund open source developers\\nThe ReadME Project\\n GitHub community articles\\nRepositories\\n Topics\\n Trending\\n Collections\\nPricing\\nSearch or jump to...\\nSearch code, repositories, users, issues, pull requests...\\n Search\\nClear\\n Search syntax tips\\n Provide feedback\\nWe read every piece of feedback, and take your input very seriously.\\nInclude my email address so I can be contacted\\n Cancel\\n Submit feedback\\n Saved searches\\nUse saved searches to filter your results more quickly\\nName\\nQuery\\n To see all available qualifiers, see our documentation.\\n Cancel\\n Create saved search\\n Sign in\\n Sign up\\nYou signed in with another tab or window. Reload to refresh your session.\\nYou signed out in another tab or window. Reload to refresh your session.\\nYou switched accounts on another tab or window. Reload to refresh your session.\\nDismiss alert\\n simbianai\\n/\\ntaskgen\\nPublic\\nNotifications\\nFork\\n 10\\n Star\\n 76\\n Task-based Agentic Framework using StrictJSON as the core\\nLicense\\n MIT license\\n76\\n stars\\n10\\n forks\\nBranches\\nTags\\nActivity\\n Star\\nNotifications\\nCode\\nIssues\\n3\\nPull requests\\n0\\nActions\\nProjects\\n0\\nSecurity\\nInsights\\nAdditional navigation options\\n Code\\n Issues\\n Pull requests\\n Actions\\n Projects\\n Security\\n Insights\\nsimbianai/taskgen\\nThis commit does not belong to any branch on this repository, and may belong to a fork outside of the repository.\\n \\xa0mainBranchesTagsGo to fileCodeFolders and filesNameNameLast commit messageLast commit dateLatest commit\\xa0History98 CommitsPaperPaper\\xa0\\xa0contribcontrib\\xa0\\xa0resourcesresources\\xa0\\xa0taskgentaskgen\\xa0\\xa0.example.env.example.env\\xa0\\xa0.gitignore.gitignore\\xa0\\xa0LICENSELICENSE\\xa0\\xa0PyGame_Essay_Creator.ipynbPyGame_Essay_Creator.ipynb\\xa0\\xa0README.mdREADME.md\\xa0\\xa0TaskGen AMA_18May2024.ipynbTaskGen AMA_18May2024.ipynb\\xa0\\xa0Tutorial 0 - StrictJSON.ipynbTutorial 0 - StrictJSON.ipynb\\xa0\\xa0Tutorial 1 - Agent.ipynbTutorial 1 - Agent.ipynb\\xa0\\xa0Tutorial 2 - Hierarchical Agents.ipynbTutorial 2 - Hierarchical Agents.ipynb\\xa0\\xa0Tutorial 3 - Shared Variables.ipynbTutorial 3 - Shared Variables.ipynb\\xa0\\xa0Tutorial 4 - Memory.ipynbTutorial 4 - Memory.ipynb\\xa0\\xa0Tutorial 5 - Additional Context.ipynbTutorial 5 - Additional Context.ipynb\\xa0\\xa0Tutorial 6 - External Function Interfacing.ipynbTutorial 6 - External Function Interfacing.ipynb\\xa0\\xa0changelog.txtchangelog.txt\\xa0\\xa0myagent.pklmyagent.pkl\\xa0\\xa0pyproject.tomlpyproject.toml\\xa0\\xa0requirements.txtrequirements.txt\\xa0\\xa0setup.pysetup.py\\xa0\\xa0View all filesRepository files navigationREADMEMIT licenseTaskGen v2.3.0\\nA Task-based agentic framework building on StrictJSON outputs by LLM agents\\nRelated Repositories: StrictJSON (https://github.com/tanchongmin/strictjson)\\nVideo (Part 1): https://www.youtube.com/watch?v=O_XyTT7QGH4\\nVideo (Part 2): https://www.youtube.com/watch?v=OWk7moRfTPE\\nTaskGen Ask Me Anything: https://www.youtube.com/watch?v=mheIWKugqF4\\nCreator\\'s Preamble\\nHappy to share that the task-based agentic framework I have been working on - TaskGen - is largely complete!\\nNoteable features include:\\nSplitting of Tasks into subtasks for bite-sized solutions for each subtask\\nSingle Agent with LLM Functions\\nSingle Agent with External Functions\\nMeta Agent with Inner Agents as Functions\\nShared Variables for multi-modality support\\nRetrieval Augmented Generation (RAG) over Function space\\nMemory to provide additional task-based prompts for task\\nGlobal Context for configuring your own prompts + add persistent variables\\nI am quite sure that this is the best open-source agentic framework for task-based execution out there!\\nExisting frameworks like AutoGen rely too much on conversational text which is lengthy and not targeted.\\nTaskGen uses StrictJSON (JSON parser with type checking and more!) as the core, and agents are efficient and are able to do Chain of Thought natively using JSON keys and descriptions as a guide.\\nWhat can you do to help:\\nStar the github so more people can use it (It\\'s open source and free to use, even commercially!)\\nContribute your favourite external function integrations so that it can be much more boilerplate for others to use :)\\nContribute template Jupyter Notebooks for your favourite use cases :)\\nI can\\'t wait to see what this new framework can do for you!\\nBenefits of JSON messaging over agentic frameworks using conversational free-text like AutoGen\\nJSON format helps do Chain-of-Thought prompting naturally and is less verbose than free text\\nJSON format allows natural parsing of multiple output fields by agents\\nStrictJSON helps to ensure all output fields are there and of the right format required for downstream processing\\nTutorials and Community Support\\nCreated: 17 Feb 2024 by John Tan Chong Min\\nCollaborators welcome\\nDiscussion Channel (my discord - John\\'s AI Group): https://discord.gg/bzp87AHJy5\\nHow do I use this?\\nDownload package via command line pip install taskgen-ai\\nSet up your OpenAPI API Key\\nImport the required functions from taskgen and use them!\\nDifferences in LLM for Agentic Framework\\nChatGPT (gpt-3.5-turbo) is consistent only if you specify very clearly what you want the Agent to do and give examples of what you want\\ngpt-4-turbo and more advanced models can perform better zero-shot without much examples\\nTaskGen is compatible with ChatGPT and similar models, but for more robust use, consider using gpt-4-turbo and better models\\nAgent Basics - See Tutorial 1\\nCreate an agent by entering your agent\\'s name and description\\nAgents are task-based, so they will help generate subtasks to fulfil your main task\\nAgents are made to be non-verbose, so they will just focus only on task instruction (Much more efficient compared to conversational-based agentic frameworks like AutoGen)\\nExample Agent Creation\\nmy_agent = Agent(\\'Helpful assistant\\', \\'You are a generalist agent\\')\\nExample Agent Task Running - Split the assigned task into subtasks and execute each of them\\n# Run your agent\\noutput = my_agent.run(\\'Give me 5 words rhyming with cool, and make a 4-sentence poem using them\\')\\nSubtask identified: Find 5 words that rhyme with \\'cool\\'\\nGetting LLM to perform the following task: Find 5 words that rhyme with \\'cool\\'\\npool, rule, fool, tool, school\\nSubtask identified: Compose a 4-sentence poem using the words \\'pool\\', \\'rule\\', \\'fool\\', \\'tool\\', and \\'school\\'\\nGetting LLM to perform the following task: Compose a 4-sentence poem using the words \\'pool\\', \\'rule\\', \\'fool\\', \\'tool\\', and \\'school\\'\\nIn the school, the golden rule is to never be a fool. Use your mind as a tool, and always follow the pool.\\nTask completed successfully!\\nExample Agent Reply to User - Reference the subtasks\\' output to answer the user\\'s query\\noutput = my_agent.reply_user()\\nHere are 5 words that rhyme with \"cool\": pool, rule, fool, tool, school. Here is a 4-sentence poem using these words: \"In the school, the golden rule is to never be a fool. Use your mind as a tool, and always follow the pool.\"\\nCheck Agent\\'s Status\\nmy_agent.status()\\nAgent Name: Helpful assistant\\nAgent Description: You are a generalist agent\\nAvailable Functions: [\\'use_llm\\', \\'end_task\\']\\nTask: Give me 5 words rhyming with cool, and make a 4-sentence poem using them\\nSubtasks Completed:\\nSubtask: Find 5 words that rhyme with \\'cool\\'\\npool, rule, fool, tool, school\\nSubtask: Compose a 4-sentence poem using the words \\'pool\\', \\'rule\\', \\'fool\\', \\'tool\\', and \\'school\\'\\nIn the school, the golden rule is to never be a fool. Use your mind as a tool, and always follow the pool.\\nIs Task Completed: True\\nFunctions\\nEnhances strict_json() with a function-like interface for repeated use of modular LLM-based functions (or wraps external functions)\\nUse angle brackets <> to enclose input variable names. First input variable name to appear in fn_description will be first input variable and second to appear will be second input variable. For example, fn_description = \\'Adds up two numbers, <var1> and <var2>\\' will result in a function with first input variable var1 and second input variable var2\\n(Optional) If you would like greater specificity in your function\\'s input, you can describe the variable after the : in the input variable name, e.g. <var1: an integer from 10 to 30>. Here, var1 is the input variable and an integer from 10 to 30 is the description.\\n(Optional) If your description of the variable is one of int, float, str, dict, list, array, Dict[], List[], Array[], Enum[], bool, we will enforce type checking when generating the function inputs in get_next_subtask method of the Agent class. Example: <var1: int> Refer to Tutorial 0, Section 3. Type Forcing Output Variables for details.\\nInputs (primary):\\nfn_description: String. Function description to describe process of transforming input variables to output variables. Variables must be enclosed in <> and listed in order of appearance in function input.\\nNew feature: If external_fn is provided and no fn_description is provided, then we will automatically parse out the fn_description based on docstring of external_fn. Only requirement is that the docstring must contain the names of all compulsory input variables\\noutput_format: Dict. Dictionary containing output variables names and description for each variable.\\nInputs (optional):\\nexamples - Dict or List[Dict]. Examples in Dictionary form with the input and output variables (list if more than one)\\nexternal_fn - Python Function. If defined, instead of using LLM to process the function, we will run the external function.\\nIf there are multiple outputs of this function, we will map it to the keys of output_format in a one-to-one fashion\\nfn_name - String. If provided, this will be the name of the function. Ohterwise, if external_fn is provided, it will be the name of external_fn. Otherwise, we will use LLM to generate a function name from the fn_description\\nkwargs - Dict. Additional arguments you would like to pass on to the strict_json function\\nOutputs:\\nJSON of output variables in a dictionary (similar to strict_json)\\nExample Internal LLM-Based Function\\n# Construct the function: var1 will be first input variable, var2 will be second input variable and so on\\nsentence_style = Function(fn_description = \\'Output a sentence with words <var1> and <var2> in the style of <var3>\\', output_format = {\\'output\\': \\'sentence\\'})\\n# Use the function\\nsentence_style(\\'ball\\', \\'dog\\', \\'happy\\') #var1, var2, var3\\nExample Output\\n{\\'output\\': \\'The happy dog chased the ball.\\'}\\nExample External Function\\ndef binary_to_decimal(x):\\n return int(str(x), 2)\\n# an external function with a single output variable, with an expressive variable description\\nb2d = Function(fn_description = \\'Convert input <x: a binary number in base 2> to base 10\\', output_format = {\\'output1\\': \\'x in base 10\\'},\\n external_fn = binary_to_decimal)\\n# Use the function\\nb2d(10) #x\\nExample Output\\n{\\'output1\\': 2}\\nExample fn_description inferred from type hints and docstring of External Function\\n# Docstring must provide all input variables\\n# We will ignore shared_variables, *args and **kwargs\\nfrom typing import List\\ndef add_number_to_list(num1: int, num_list: List[int], *args, **kwargs) -> List[int]:\\n \\'\\'\\'Adds num1 to num_list\\'\\'\\'\\n num_list.append(num1)\\n return num_list\\nfn = Function(external_fn = add_number_to_list, #output_format = {\\'num_array\\': \\'Array of numbers\\'} ## If you would like to name output variables (helps with LLM understanding), define your own output_format\\n )\\nstr(fn)\\nExample Output\\nDescription: Adds Adds <num1: int> to <num_list: list[int]>\\nInput: [\\'num1\\', \\'num_list\\']\\nOutput: {\\'output_1\\': \\'list[int]\\'}\\nPower Up your Agents - Bring in Functions (aka Tools)\\nAfter creating your agent, use assign_functions to assign a list of functions (of class Function) to it\\nFunction names will be automatically inferred if not specified\\nProceed to run tasks by using run()\\nmy_agent = Agent(\\'Helpful assistant\\', \\'You are a generalist agent\\')\\nmy_agent.assign_functions([sentence_style, b2d])\\noutput = my_agent.run(\\'Generate me a happy sentence with a number and a ball. The number is 1001 converted to decimal\\')\\nSubtask identified: Convert the binary number 1001 to decimal\\nCalling function binary_to_decimal with parameters {\\'x\\': \\'1001\\'}\\n{\\'output1\\': 9}\\nSubtask identified: Generate a happy sentence with the decimal number and a ball\\nCalling function sentence_with_objects_entities_emotion with parameters {\\'obj\\': \\'9\\', \\'entity\\': \\'ball\\', \\'emotion\\': \\'happy\\'}\\n{\\'output\\': \\'I am so happy with my 9 balls.\\'}\\nTask completed successfully!\\nSaving and Loading Agents\\nSometimes you want to configure your agents and save them and load them elsewhere, while maintaining the current agent state\\nWhen you use the save_agent function, we store the entire agent\\'s internal state, include name, description, list of functions, subtasks history and all other internal variables into a pickle file\\nWhen you use the load_agent function, and we will load the entire agent saved in the pickle file into the existing agent\\nKey functions:\\nsave_agent(pickle_file_name: str): Saves the agent\\'s internal parameters to a pickle file named pickle_file_name (include .pkl), returns the pickle file\\nload_agent(pickle_file_name: str): Loads the agent\\'s internal parameters from a pickle file named pickle_file_name (include .pkl), returns loaded agent\\nExample 1: Saving Agent\\nmy_agent.save_agent(\\'myagent.pkl\\')\\nExample Output\\nAgent saved to myagent.pkl\\nExample 2: Loading Agent\\nnew_agent = Agent().load_agent(\\'myagent.pkl\\')\\nExample Output\\nAgent loaded from myagent.pkl\\nInception: Agents within Agents - See Tutorial 2\\nYou can also create a Meta Agent that uses other Agents (referred to as Inner Agents) as functions\\nCreate your Meta agent using Agent() (Note: No different from usual process of creating Agents - your Meta Agent is also an Agent)\\nSet up an Inner Agent list and assign it to your Meta agent using assign_agents(agent_list)\\nExample Meta Agent Setup\\n# Define your meta-agent\\nmy_agent = Agent(\\'Menu Creator\\', \\'Creates a menu for a restaurant. Menu item includes Name, Description, Ingredients, Pricing.\\')\\n# Define your agent list. Note you can just assign functions to the agent in place using .assign_functions(function_list)\\nagent_list = [\\n Agent(\\'Chef\\', \\'Takes in dish names and comes up with ingredients for each of them. Does not generate prices.\\'),\\n Agent(\\'Boss\\', \\'\\'Does final quality check on menu items\\'),\\n Agent(\\'Creative Writer\\', \\'Takes in a cuisine type and generates interesting dish names and descriptions. Does not generate prices or ingredients.\\', max_subtasks = 2),\\n Agent(\\'Economist\\', \\'Takes in dish names and comes up with fictitious pricing for each of them\\')\\n ]\\nmy_agent.assign_agents(agent_list)\\nRun the Meta Agent\\nLet us run the agent and see the interactions between the Meta Agent and Inner Agents to solve the task!\\noutput = my_agent.run(\\'Give me 5 menu items with name, description, ingredients and price based on Italian food choices. Ensure all parts of menu are generated.\\')\\nShared Variables - See Tutorial 3\\n\"Because text is not enough\" - Anonymous\\nshared_variables is a dictionary, that is initialised in Agent (default empty dictionary), and can be referenced by any function of the agent (including Inner Agents and their functions)\\nThis can be useful for non-text modalitiies (e.g. audio, pdfs, image) and lengthy text modalities, which we do not want to output into subtasks_completed directly\\ns_ at the start of the variable names means shared variables\\nFor input, it means we take the variable from shared_variables instead of LLM generated input\\nFor output, it means we store the variable into shared_variables instead of storing it in subtasks_completed. If subtasks_completed output is empty, it will be output as {\\'Status\\': \\'Completed\\'}\\nExample shared variables names: s_sum, s_total, s_list_of_words\\nExample Input\\n# Function takes in increment (LLM generated) and s_total (retrieves from shared variable dict), and outputs to s_total (in shared variable dict)\\nadd = Function(fn_description = \"Add <increment: int> to <s_total>\", output_format = {\"s_total\": \"Modified total\"})\\n# Define the calculator agent and the shared_variables - Note the naming convention of s_ at the start of the names for shared variables\\nmy_agent = Agent(\\'Calculator\\', \\'Does computations\\', shared_variables = {\\'s_total\\': 0}).assign_functions([add])\\noutput = my_agent.run(\\'Increment total by 1\\')\\nprint(\\'Shared Variables:\\', my_agent.shared_variables)\\nExample Output\\nSubtask identified: Add 1 to the total\\nCalling function add_int_to_variable with parameters {\\'increment\\': 1}\\n{\\'Status\\': \\'Completed\\'}\\nTask completed successfully!\\nShared Variables: {\\'s_total\\': 1}\\nExample External Function Accessing Shared Variables (Advanced)\\n# Use shared_variables as input to your external function to access and modify the shared variables\\ndef generate_quotes(shared_variables, number_of_quotes: int, category: str):\\n \\'\\'\\' Generates number_of_quotes quotes about category \\'\\'\\'\\n # Retrieve from shared variables\\n my_quote_list = shared_variables[\\'quote_list\\']\\n ### Add your function code here ###\\n # Store back to shared variables\\n shared_variables[\\'quote_list\\'] = my_quote_list\\ngenerate_quote_fn = Function(output_format = {}, external_fn = generate_quotes)\\nMemory - See Tutorial 4\\nKey Philosophy\\nIt would be important to learn from past experience and improve the agentic framework - memory is key to that\\nYou can add to the memory bank of your Agents pre-inference (by collecting from a pool of data prior to running the Agent), or during inference (add on in between running subtasks)\\nUse Memory in Agents\\nAgent class takes memory_bank as a parameter during initialisation of an Agent\\nmemory_bank: class Dict[Memory]. Stores multiple types of memory for use by the agent. Customise the Memory config within the Memory class.\\nDefault: memory_bank = {\\'Function\\': Memory(top_k = 5, mapper = lambda x: x.fn_description, approach = \\'retrieve_by_ranker\\')}\\nKey: Function (Already Implemented Natively) - Does RAG over Task -> Function mapping\\nCan add in more keys that would fit your use case. Retrieves similar items to task/overall plan (if able) for additional context in get_next_subtasks() and use_llm() function\\nSide Note: RAG can also be done (and may be preferred) as a separate function of the Agent to retrieve more information when needed (so that we do not overload the Agent with information)\\nMemory Class\\nRetrieves top k memory items based on task\\nInputs:\\nmemory: List. Default: Empty List. The list containing the memory items\\ntop_k: Int. Default: 3. The number of memory list items to retrieve\\nmapper: Function. Maps the memory item to another form for comparison by ranker or LLM. Default: lambda x: x\\nExample mapping: lambda x: x.fn_description (If x is a Class and the string you want to compare for similarity is the fn_description attribute of that class)\\napproach: str. Either retrieve_by_ranker or retrieve_by_llm to retrieve memory items.\\nRanker is faster and cheaper as it compares via embeddings, but are inferior to LLM-based methods for context information\\nranker: Ranker. The Ranker which defines a similarity score between a query and a key. Default: OpenAI text-embedding-3-small model.\\nCan be replaced with a function which returns similarity score from 0 to 1 when given a query and key\\nExample Use Case\\nHelps to reduce number of functions present in LLM context for more accurate generation\\noutput = my_agent.run(\\'Calculate 2**10 * (5 + 1) / 10\\')\\nOriginal Function List: add_numbers, subtract_numbers, add_three_numbers, multiply_numbers, divide_numbers, power_of, GCD_of_two_numbers, modulo_of_numbers, absolute_difference, generate_poem_with_numbers, List_related_words, generate_quote\\nFiltered Function Names: add_three_numbers, multiply_numbers, divide_numbers, power_of, modulo_of_numbers\\nGlobal Context - See Tutorial 5 (Advanced)\\nAgent takes in one additional parameter: get_global_context\\nThis is a function that takes in the agent\\'s internal parameters (self) and outputs a string to the LLM to append to the prompts of any LLM-based calls internally, e.g. get_next_subtask, use_llm, reply_to_user\\nYou have full flexibility to access anything the agent knows and configure a global prompt to the agent\\nUses\\nUsed mainly to provide persistent variables to an agent that is not conveniently stored in subtasks_completed, e.g. ingredients remaining, location in grid for robot\\nImplementing your own specific instructions to the default planner prompt\\nImplement your own memory-based RAG / global prompt instruction if you need more than what the default prompt can achieve\\nAvoid Multiple Similar Subtasks in subtasks_history\\nIf you have multiple similar subtask names, then it is likely the Agent can be confused and think it has already done the subtask\\nIn this case, you can disambiguate by resetting the agent and store the persistent information in shared_variables and provide it to the agent using get_global_context\\nHas the benefit of shifting the Start State closer to End State desired by resetting the Agent\\'s planning cycle\\nKnown Limitations\\nTo be added\\nContributing to the project\\nTest locally\\nClone the repository\\nIf using a virtual environment, activate it\\ncd into taskgen repository\\nInstall the package via command line pip install -e .\\nNow you can import the package and use it in your code\\nSubmitting a pull request\\nFork the repository\\nCreate a new branch\\nMake your changes\\nPush your changes to your fork\\nSubmit a pull request\\nWhat are we looking out for?\\nIntegrations with functions - It would be good if we could import function definitions from elsewhere, e.g. LangChain, into the format shown here. It might even be done automatically using LLM-based conversion using StrictJSON!\\nJupyter Notebooks showcasing what could be done with the framework for something useful. Let your imagination guide you, we look forward to see what you create\\nOther Known Limitations - Do test the framework out extensively and note its failure cases. We will see if we can address them, if not we will put them in Known Limitations.\\n(For the prompt engineer). If you could find a better way to make the prompts work, let us know directly - we do need to test this out across all Tutorial Jupyter Notebooks to make sure that it really works with existing datasets. Also, if you are using other LLMs beside OpenAI, and find the prompts do not work as well - try to rejig your own prompts and let us know as well!\\nAbout\\n Task-based Agentic Framework using StrictJSON as the core\\nResources\\n Readme\\nLicense\\n MIT license\\nActivity\\nCustom properties\\nStars\\n76\\n stars\\nWatchers\\n4\\n watching\\nForks\\n10\\n forks\\n Report repository\\n Releases\\nNo releases published\\n Packages\\n 0\\n No packages published Contributors\\n 3\\nLanguages\\nJupyter Notebook\\n97.2%\\nPython\\n2.8%\\nFooter\\n © 2024 GitHub,\\xa0Inc.\\nFooter navigation\\nTerms\\nPrivacy\\nSecurity\\nStatus\\nDocs\\nContact\\n Manage cookies\\n Do not share my personal information\\n You can’t perform that action at this time.'},\n",
       " {'output_1': 'GitHub - joaomdmoura/crewAI: Framework for orchestrating role-playing, autonomous AI agents. By fostering collaborative intelligence, CrewAI empowers agents to work together seamlessly, tackling complex tasks.\\nSkip to content\\nNavigation Menu\\nToggle navigation\\n Sign in\\n Product\\nActions\\n Automate any workflow\\nPackages\\n Host and manage packages\\nSecurity\\n Find and fix vulnerabilities\\nCodespaces\\n Instant dev environments\\nCopilot\\n Write better code with AI\\nCode review\\n Manage code changes\\nIssues\\n Plan and track work\\nDiscussions\\n Collaborate outside of code\\nExplore\\n All features\\n Documentation\\n GitHub Skills\\n Blog\\n Solutions\\nFor\\n Enterprise\\n Teams\\n Startups\\n Education\\nBy Solution\\n CI/CD & Automation\\n DevOps\\n DevSecOps\\nResources\\n Learning Pathways\\n White papers, Ebooks, Webinars\\n Customer Stories\\n Partners\\n Open Source\\nGitHub Sponsors\\n Fund open source developers\\nThe ReadME Project\\n GitHub community articles\\nRepositories\\n Topics\\n Trending\\n Collections\\nPricing\\nSearch or jump to...\\nSearch code, repositories, users, issues, pull requests...\\n Search\\nClear\\n Search syntax tips\\n Provide feedback\\nWe read every piece of feedback, and take your input very seriously.\\nInclude my email address so I can be contacted\\n Cancel\\n Submit feedback\\n Saved searches\\nUse saved searches to filter your results more quickly\\nName\\nQuery\\n To see all available qualifiers, see our documentation.\\n Cancel\\n Create saved search\\n Sign in\\n Sign up\\nYou signed in with another tab or window. Reload to refresh your session.\\nYou signed out in another tab or window. Reload to refresh your session.\\nYou switched accounts on another tab or window. Reload to refresh your session.\\nDismiss alert\\n joaomdmoura\\n/\\ncrewAI\\nPublic\\nNotifications\\nFork\\n 1.9k\\n Star\\n 14.5k\\n Framework for orchestrating role-playing, autonomous AI agents. By fostering collaborative intelligence, CrewAI empowers agents to work together seamlessly, tackling complex tasks.\\ncrewai.com\\nLicense\\n MIT license\\n14.5k\\n stars\\n1.9k\\n forks\\nBranches\\nTags\\nActivity\\n Star\\nNotifications\\nCode\\nIssues\\n304\\nPull requests\\n24\\nActions\\nProjects\\n0\\nSecurity\\nInsights\\nAdditional navigation options\\n Code\\n Issues\\n Pull requests\\n Actions\\n Projects\\n Security\\n Insights\\njoaomdmoura/crewAI\\nThis commit does not belong to any branch on this repository, and may belong to a fork outside of the repository.\\n \\xa0mainBranchesTagsGo to fileCodeFolders and filesNameNameLast commit messageLast commit dateLatest commit\\xa0History465 Commits.cache/plugin/social.cache/plugin/social\\xa0\\xa0.github/workflows.github/workflows\\xa0\\xa0docsdocs\\xa0\\xa0src/crewaisrc/crewai\\xa0\\xa0teststests\\xa0\\xa0.editorconfig.editorconfig\\xa0\\xa0.gitignore.gitignore\\xa0\\xa0.pre-commit-config.yaml.pre-commit-config.yaml\\xa0\\xa0LICENSELICENSE\\xa0\\xa0README.mdREADME.md\\xa0\\xa0crewAI.excalidrawcrewAI.excalidraw\\xa0\\xa0mkdocs.ymlmkdocs.yml\\xa0\\xa0poetry.lockpoetry.lock\\xa0\\xa0pyproject.tomlpyproject.toml\\xa0\\xa0View all filesRepository files navigationREADMEMIT license\\ncrewAI\\n🤖 crewAI: Cutting-edge framework for orchestrating role-playing, autonomous AI agents. By fostering collaborative intelligence, CrewAI empowers agents to work together seamlessly, tackling complex tasks.\\nHomepage | Documentation | Chat with Docs | Examples | Discord\\nTable of contents\\nWhy CrewAI?\\nGetting Started\\nKey Features\\nExamples\\nQuick Tutorial\\nWrite Job Descriptions\\nTrip Planner\\nStock Analysis\\nConnecting Your Crew to a Model\\nHow CrewAI Compares\\nContribution\\nTelemetry\\nLicense\\nWhy CrewAI?\\nThe power of AI collaboration has too much to offer.\\nCrewAI is designed to enable AI agents to assume roles, share goals, and operate in a cohesive unit - much like a well-oiled crew. Whether you\\'re building a smart assistant platform, an automated customer service ensemble, or a multi-agent research team, CrewAI provides the backbone for sophisticated multi-agent interactions.\\nGetting Started\\nTo get started with CrewAI, follow these simple steps:\\n1. Installation\\npip install crewai\\nIf you want to install the \\'crewai\\' package along with its optional features that include additional tools for agents, you can do so by using the following command: pip install \\'crewai[tools]\\'. This command installs the basic package and also adds extra components which require more dependencies to function.\"\\npip install \\'crewai[tools]\\'\\n2. Setting Up Your Crew\\nimport os\\nfrom crewai import Agent, Task, Crew, Process\\nfrom crewai_tools import SerperDevTool\\nos.environ[\"OPENAI_API_KEY\"] = \"YOUR_API_KEY\"\\nos.environ[\"SERPER_API_KEY\"] = \"Your Key\" # serper.dev API key\\n# You can choose to use a local model through Ollama for example. See https://docs.crewai.com/how-to/LLM-Connections/ for more information.\\n# os.environ[\"OPENAI_API_BASE\"] = \\'http://localhost:11434/v1\\'\\n# os.environ[\"OPENAI_MODEL_NAME\"] =\\'openhermes\\' # Adjust based on available model\\n# os.environ[\"OPENAI_API_KEY\"] =\\'sk-111111111111111111111111111111111111111111111111\\'\\nsearch_tool = SerperDevTool()\\n# Define your agents with roles and goals\\nresearcher = Agent(\\n role=\\'Senior Research Analyst\\',\\n goal=\\'Uncover cutting-edge developments in AI and data science\\',\\n backstory=\"\"\"You work at a leading tech think tank.\\n Your expertise lies in identifying emerging trends.\\n You have a knack for dissecting complex data and presenting actionable insights.\"\"\",\\n verbose=True,\\n allow_delegation=False,\\n tools=[search_tool]\\n # You can pass an optional llm attribute specifying what model you wanna use.\\n # It can be a local model through Ollama / LM Studio or a remote\\n # model like OpenAI, Mistral, Antrophic or others (https://docs.crewai.com/how-to/LLM-Connections/)\\n #\\n # import os\\n # os.environ[\\'OPENAI_MODEL_NAME\\'] = \\'gpt-3.5-turbo\\'\\n #\\n # OR\\n #\\n # from langchain_openai import ChatOpenAI\\n # llm=ChatOpenAI(model_name=\"gpt-3.5\", temperature=0.7)\\n)\\nwriter = Agent(\\n role=\\'Tech Content Strategist\\',\\n goal=\\'Craft compelling content on tech advancements\\',\\n backstory=\"\"\"You are a renowned Content Strategist, known for your insightful and engaging articles.\\n You transform complex concepts into compelling narratives.\"\"\",\\n verbose=True,\\n allow_delegation=True\\n)\\n# Create tasks for your agents\\ntask1 = Task(\\n description=\"\"\"Conduct a comprehensive analysis of the latest advancements in AI in 2024.\\n Identify key trends, breakthrough technologies, and potential industry impacts.\"\"\",\\n expected_output=\"Full analysis report in bullet points\",\\n agent=researcher\\n)\\ntask2 = Task(\\n description=\"\"\"Using the insights provided, develop an engaging blog\\n post that highlights the most significant AI advancements.\\n Your post should be informative yet accessible, catering to a tech-savvy audience.\\n Make it sound cool, avoid complex words so it doesn\\'t sound like AI.\"\"\",\\n expected_output=\"Full blog post of at least 4 paragraphs\",\\n agent=writer\\n)\\n# Instantiate your crew with a sequential process\\ncrew = Crew(\\n agents=[researcher, writer],\\n tasks=[task1, task2],\\n verbose=2, # You can set it to 1 or 2 to different logging levels\\n)\\n# Get your crew to work!\\nresult = crew.kickoff()\\nprint(\"######################\")\\nprint(result)\\nIn addition to the sequential process, you can use the hierarchical process, which automatically assigns a manager to the defined crew to properly coordinate the planning and execution of tasks through delegation and validation of results. See more about the processes here.\\nKey Features\\nRole-Based Agent Design: Customize agents with specific roles, goals, and tools.\\nAutonomous Inter-Agent Delegation: Agents can autonomously delegate tasks and inquire amongst themselves, enhancing problem-solving efficiency.\\nFlexible Task Management: Define tasks with customizable tools and assign them to agents dynamically.\\nProcesses Driven: Currently only supports sequential task execution and hierarchical processes, but more complex processes like consensual and autonomous are being worked on.\\nSave output as file: Save the output of individual tasks as a file, so you can use it later.\\nParse output as Pydantic or Json: Parse the output of individual tasks as a Pydantic model or as a Json if you want to.\\nWorks with Open Source Models: Run your crew using Open AI or open source models refer to the Connect crewAI to LLMs page for details on configuring your agents\\' connections to models, even ones running locally!\\nExamples\\nYou can test different real life examples of AI crews in the crewAI-examples repo:\\nLanding Page Generator\\nHaving Human input on the execution\\nTrip Planner\\nStock Analysis\\nQuick Tutorial\\nWrite Job Descriptions\\nCheck out code for this example or watch a video below:\\nTrip Planner\\nCheck out code for this example or watch a video below:\\nStock Analysis\\nCheck out code for this example or watch a video below:\\nConnecting Your Crew to a Model\\ncrewAI supports using various LLMs through a variety of connection options. By default your agents will use the OpenAI API when querying the model. However, there are several other ways to allow your agents to connect to models. For example, you can configure your agents to use a local model via the Ollama tool.\\nPlease refer to the Connect crewAI to LLMs page for details on configuring you agents\\' connections to models.\\nHow CrewAI Compares\\nAutogen: While Autogen does good in creating conversational agents capable of working together, it lacks an inherent concept of process. In Autogen, orchestrating agents\\' interactions requires additional programming, which can become complex and cumbersome as the scale of tasks grows.\\nChatDev: ChatDev introduced the idea of processes into the realm of AI agents, but its implementation is quite rigid. Customizations in ChatDev are limited and not geared towards production environments, which can hinder scalability and flexibility in real-world applications.\\nCrewAI\\'s Advantage: CrewAI is built with production in mind. It offers the flexibility of Autogen\\'s conversational agents and the structured process approach of ChatDev, but without the rigidity. CrewAI\\'s processes are designed to be dynamic and adaptable, fitting seamlessly into both development and production workflows.\\nContribution\\nCrewAI is open-source and we welcome contributions. If you\\'re looking to contribute, please:\\nFork the repository.\\nCreate a new branch for your feature.\\nAdd your feature or improvement.\\nSend a pull request.\\nWe appreciate your input!\\nInstalling Dependencies\\npoetry lock\\npoetry install\\nVirtual Env\\npoetry shell\\nPre-commit hooks\\npre-commit install\\nRunning Tests\\npoetry run pytest\\nRunning static type checks\\npoetry run mypy\\nPackaging\\npoetry build\\nInstalling Locally\\npip install dist/*.tar.gz\\nTelemetry\\nCrewAI uses anonymous telemetry to collect usage data with the main purpose of helping us improve the library by focusing our efforts on the most used features, integrations and tools.\\nThere is NO data being collected on the prompts, tasks descriptions agents backstories or goals nor tools usage, no API calls, nor responses nor any data that is being processed by the agents, nor any secrets and env vars.\\nData collected includes:\\nVersion of crewAI\\nSo we can understand how many users are using the latest version\\nVersion of Python\\nSo we can decide on what versions to better support\\nGeneral OS (e.g. number of CPUs, macOS/Windows/Linux)\\nSo we know what OS we should focus on and if we could build specific OS related features\\nNumber of agents and tasks in a crew\\nSo we make sure we are testing internally with similar use cases and educate people on the best practices\\nCrew Process being used\\nUnderstand where we should focus our efforts\\nIf Agents are using memory or allowing delegation\\nUnderstand if we improved the features or maybe even drop them\\nIf Tasks are being executed in parallel or sequentially\\nUnderstand if we should focus more on parallel execution\\nLanguage model being used\\nImproved support on most used languages\\nRoles of agents in a crew\\nUnderstand high level use cases so we can build better tools, integrations and examples about it\\nTools names available\\nUnderstand out of the publically available tools, which ones are being used the most so we can improve them\\nUsers can opt-in sharing the complete telemetry data by setting the share_crew attribute to True on their Crews.\\nLicense\\nCrewAI is released under the MIT License.\\nAbout\\n Framework for orchestrating role-playing, autonomous AI agents. By fostering collaborative intelligence, CrewAI empowers agents to work together seamlessly, tackling complex tasks.\\ncrewai.com\\nTopics\\n ai\\n agents\\n ai-agents\\n llms\\nResources\\n Readme\\nLicense\\n MIT license\\nActivity\\nStars\\n14.5k\\n stars\\nWatchers\\n174\\n watching\\nForks\\n1.9k\\n forks\\n Report repository\\n Releases\\n 35\\nv0.30.8\\n Latest\\nMay 14, 2024\\n + 34 releases\\n Packages\\n 0\\n No packages published Used by 1.1k\\n + 1,074\\n Contributors\\n 75\\n + 61 contributors\\nLanguages\\nPython\\n100.0%\\nFooter\\n © 2024 GitHub,\\xa0Inc.\\nFooter navigation\\nTerms\\nPrivacy\\nSecurity\\nStatus\\nDocs\\nContact\\n Manage cookies\\n Do not share my personal information\\n You can’t perform that action at this time.'},\n",
       " {'Output': 'TaskGen and CrewAI are two distinct frameworks with unique features and design principles. TaskGen focuses on a task-based agentic framework using StrictJSON as the core, enabling efficient and targeted task execution. It emphasizes splitting tasks into subtasks, shared variables, and retrieval augmented generation for enhanced performance. On the other hand, CrewAI is designed for orchestrating role-playing autonomous AI agents, fostering collaborative intelligence for seamless task handling. It offers role-based agent design, autonomous inter-agent delegation, and flexible task management. While TaskGen excels in task efficiency and structured execution, CrewAI stands out for its collaborative agent interactions and dynamic process-driven approach.'},\n",
       " {'Output': 'TaskGen and CrewAI are two distinct frameworks with unique features and design principles. TaskGen focuses on a task-based agentic framework using StrictJSON as the core, enabling efficient and targeted task execution. It emphasizes splitting tasks into subtasks, shared variables, and retrieval augmented generation for enhanced performance. On the other hand, CrewAI is designed for orchestrating role-playing autonomous AI agents, fostering collaborative intelligence for seamless task handling. It offers role-based agent design, autonomous inter-agent delegation, and flexible task management. While TaskGen excels in task efficiency and structured execution, CrewAI stands out for its collaborative agent interactions and dynamic process-driven approach.'},\n",
       " {'Output': 'TaskGen and CrewAI are two distinct frameworks with unique features and design principles. TaskGen focuses on a task-based agentic framework using StrictJSON as the core, enabling efficient and targeted task execution. It emphasizes splitting tasks into subtasks, shared variables, and retrieval augmented generation for enhanced performance. On the other hand, CrewAI is designed for orchestrating role-playing autonomous AI agents, fostering collaborative intelligence for seamless task handling. It offers role-based agent design, autonomous inter-agent delegation, and flexible task management. While TaskGen excels in task efficiency and structured execution, CrewAI stands out for its collaborative agent interactions and dynamic process-driven approach.'}]"
      ]
     },
     "execution_count": 142,
     "metadata": {},
     "output_type": "execute_result"
    }
   ],
   "source": [
    "agent.run('What are the differences between TaskGen (\"https://github.com/simbianai/taskgen\") and CrewAI (\"https://github.com/joaomdmoura/CrewAI\")?')"
   ]
  },
  {
   "cell_type": "code",
   "execution_count": 143,
   "id": "910d658e-89e4-4530-972d-e4a37f9f2437",
   "metadata": {
    "tags": []
   },
   "outputs": [
    {
     "name": "stdout",
     "output_type": "stream",
     "text": [
      "The key imports needed for TaskGen include importing the required functions from taskgen and using them. For CrewAI, the key imports involve importing various modules such as Agent, Task, Crew, Process, and SerperDevTool from crewai and crewai_tools packages.\n"
     ]
    },
    {
     "data": {
      "text/plain": [
       "'The key imports needed for TaskGen include importing the required functions from taskgen and using them. For CrewAI, the key imports involve importing various modules such as Agent, Task, Crew, Process, and SerperDevTool from crewai and crewai_tools packages.'"
      ]
     },
     "execution_count": 143,
     "metadata": {},
     "output_type": "execute_result"
    }
   ],
   "source": [
    "agent.reply_user('What are the key imports needed?')"
   ]
  },
  {
   "cell_type": "code",
   "execution_count": 144,
   "id": "3c8fbd4a-ab85-4e03-88cd-6e17924e8fdb",
   "metadata": {
    "collapsed": true,
    "jupyter": {
     "outputs_hidden": true
    },
    "tags": []
   },
   "outputs": [
    {
     "name": "stdout",
     "output_type": "stream",
     "text": [
      "TaskGen and CrewAI are compatible with different versions of packages. TaskGen requires the package \"taskgen-ai\" to be installed, which can be done using \"pip install taskgen-ai\". For CrewAI, the package \"crewai\" needs to be installed, and additional tools can be included by using \"pip install 'crewai[tools]'\". Both frameworks may have dependencies on specific versions of Python and other libraries, so it is essential to refer to their respective documentation for detailed compatibility information.\n"
     ]
    },
    {
     "data": {
      "text/plain": [
       "'TaskGen and CrewAI are compatible with different versions of packages. TaskGen requires the package \"taskgen-ai\" to be installed, which can be done using \"pip install taskgen-ai\". For CrewAI, the package \"crewai\" needs to be installed, and additional tools can be included by using \"pip install \\'crewai[tools]\\'\". Both frameworks may have dependencies on specific versions of Python and other libraries, so it is essential to refer to their respective documentation for detailed compatibility information.'"
      ]
     },
     "execution_count": 144,
     "metadata": {},
     "output_type": "execute_result"
    }
   ],
   "source": [
    "agent.reply_user('What version of packages are they compatible with?')"
   ]
  },
  {
   "cell_type": "markdown",
   "id": "2a0c8158-7cd7-4bdd-8402-40e55bb55566",
   "metadata": {},
   "source": [
    "# LangChain Structured Tools Interface with TaskGen\n",
    "- If User defines a function in LangChain, simply just add <fn_name>.func to TaskGen Agent"
   ]
  },
  {
   "cell_type": "code",
   "execution_count": 149,
   "id": "a529f507-3a54-497d-9c0c-3e5e1c12a308",
   "metadata": {
    "tags": []
   },
   "outputs": [],
   "source": [
    "from langchain_core.tools import tool\n",
    "\n",
    "@tool\n",
    "def add(a: int, b: int) -> int:\n",
    "    \"\"\"Adds a and b.\"\"\"\n",
    "    return a + b\n",
    "\n",
    "\n",
    "@tool\n",
    "def multiply(a: int, b: int) -> int:\n",
    "    \"\"\"Multiplies a and b.\"\"\"\n",
    "    return a * b\n",
    "\n",
    "\n",
    "tools = [add, multiply]"
   ]
  },
  {
   "cell_type": "code",
   "execution_count": 150,
   "id": "4e0f6992-0fb3-4124-82e2-41f8a299dabb",
   "metadata": {
    "tags": []
   },
   "outputs": [],
   "source": [
    "from taskgen import Agent\n",
    "agent = Agent('Math Whiz', 'Does calculations').assign_functions([add.func, multiply.func])"
   ]
  },
  {
   "cell_type": "code",
   "execution_count": 151,
   "id": "5e011a86-35f6-4922-803b-184f86c6a331",
   "metadata": {
    "tags": []
   },
   "outputs": [
    {
     "data": {
      "text/plain": [
       "[\"Name: use_llm\\nDescription: For general tasks. Used only when no other function can do the task\\nInput: []\\nOutput: {'Output': 'Output of LLM'}\\n\",\n",
       " 'Name: end_task\\nDescription: Use only after task is completed\\nInput: []\\nOutput: {}\\n',\n",
       " \"Name: add\\nDescription: Adds <a: int> and <b: int>.\\nInput: ['a', 'b']\\nOutput: {'output_1': 'int'}\\n\",\n",
       " \"Name: multiply\\nDescription: Multiplies <a: int> and <b: int>.\\nInput: ['a', 'b']\\nOutput: {'output_1': 'int'}\\n\"]"
      ]
     },
     "execution_count": 151,
     "metadata": {},
     "output_type": "execute_result"
    }
   ],
   "source": [
    "agent.list_functions()"
   ]
  },
  {
   "cell_type": "code",
   "execution_count": 152,
   "id": "5506cd63-51c5-43e6-99b4-d4068579d7b3",
   "metadata": {
    "tags": []
   },
   "outputs": [
    {
     "name": "stdout",
     "output_type": "stream",
     "text": [
      "\u001b[1m\u001b[30mObservation: No subtasks completed yet.\u001b[0m\n",
      "\u001b[1m\u001b[32mThoughts: To calculate 3*5+3, we need to first multiply 3 and 5, then add 3 to the result.\u001b[0m\n",
      "\u001b[1m\u001b[34mSubtask identified: Multiply 3 and 5.\u001b[0m\n",
      "Calling function multiply with parameters {'a': 3, 'b': 5}\n",
      "> {'output_1': 15}\n",
      "\n",
      "\u001b[1m\u001b[30mObservation: The task is to calculate 3*5+3. The subtask of multiplying 3 and 5 has been completed successfully.\u001b[0m\n",
      "\u001b[1m\u001b[32mThoughts: Since the multiplication of 3 and 5 has been done, the next step is to add 3 to the result of the multiplication to complete the calculation. This can be achieved by using the \"add\" function with the result of the multiplication and 3 as inputs.\u001b[0m\n",
      "\u001b[1m\u001b[34mSubtask identified: Add 3 to the result of multiplying 3 and 5.\u001b[0m\n",
      "Calling function add with parameters {'a': 15, 'b': 3}\n",
      "> {'output_1': 18}\n",
      "\n",
      "\u001b[1m\u001b[30mObservation: The Assigned Task is to calculate 3*5+3. Two subtasks have been completed: multiplying 3 and 5 to get 15, and adding 3 to the result of multiplying 3 and 5 to get 18.\u001b[0m\n",
      "\u001b[1m\u001b[32mThoughts: To complete the remainder of the Assigned Task, we need to perform the final calculation of adding 3 to the result obtained from multiplying 3 and 5. Since the multiplication and addition have been done, the final step is to add 3 to the result. This can be achieved by using the \"add\" function with inputs a=15 and b=3.\u001b[0m\n",
      "\u001b[1m\u001b[34mSubtask identified: Add 3 to the result obtained from multiplying 3 and 5.\u001b[0m\n",
      "Calling function add with parameters {'a': 15, 'b': 3}\n",
      "> {'output_1': 18}\n",
      "\n",
      "\u001b[1m\u001b[30mObservation: The subtasks completed so far involve multiplying 3 and 5, adding 3 to the result of multiplying 3 and 5, and adding 3 to the result obtained from multiplying 3 and 5.\u001b[0m\n",
      "\u001b[1m\u001b[32mThoughts: To complete the remainder of the assigned task, we need to calculate the final result by adding 3 to the result obtained from multiplying 3 and 5. Since we already have the result of the previous calculations, we can directly add 3 to it to get the final answer.\u001b[0m\n",
      "\u001b[1m\u001b[34mSubtask identified: Adds 18 and 3.\u001b[0m\n",
      "Calling function add with parameters {'a': 18, 'b': 3}\n",
      "> {'output_1': 21}\n",
      "\n",
      "### Auto-summarising Subtasks Completed ###\n",
      "The calculation for 3*5+3 is already completed. The result is 18.\n",
      "### End of Auto-summary ###\n",
      "\n",
      "\u001b[1m\u001b[30mObservation: The calculation for 3*5+3 is already completed. The result is 18.\u001b[0m\n",
      "\u001b[1m\u001b[32mThoughts: Since the calculation for 3*5+3 is already completed and the result is 18, the next step is to end the task.\u001b[0m\n",
      "\u001b[1m\u001b[34mSubtask identified: End Task\u001b[0m\n",
      "Task completed successfully!\n",
      "\n"
     ]
    },
    {
     "data": {
      "text/plain": [
       "['The calculation for 3*5+3 is already completed. The result is 18.']"
      ]
     },
     "execution_count": 152,
     "metadata": {},
     "output_type": "execute_result"
    }
   ],
   "source": [
    "agent.run('Calculate 3*5+3')"
   ]
  },
  {
   "cell_type": "markdown",
   "id": "d2cfcddc-b3cf-4d1c-8749-89827b901b06",
   "metadata": {},
   "source": [
    "# LangChain Community Tools Interface with TaskGen\n",
    "- See https://python.langchain.com/v0.2/docs/integrations/providers/ for full list\n",
    "- Wikipedia\n",
    "- Python REPL (not that great to run many things - have created my own in TaskGen)"
   ]
  },
  {
   "cell_type": "code",
   "execution_count": 71,
   "id": "72872030-d4dc-4bc6-8351-73f6fd8c214a",
   "metadata": {
    "tags": []
   },
   "outputs": [],
   "source": [
    "# !pip -q install wikipedia"
   ]
  },
  {
   "cell_type": "code",
   "execution_count": 153,
   "id": "0e866e88-8f0d-4aaf-a12e-ae7fb91dea3d",
   "metadata": {
    "tags": []
   },
   "outputs": [],
   "source": [
    "def wikipedia_tool(search_query: str) -> str:\n",
    "    ''' Uses search_query and returns text from wikipedia '''\n",
    "    from langchain.tools import WikipediaQueryRun\n",
    "    from langchain.utilities import WikipediaAPIWrapper\n",
    "\n",
    "    return WikipediaQueryRun(api_wrapper=WikipediaAPIWrapper()).run(search_query)"
   ]
  },
  {
   "cell_type": "code",
   "execution_count": 154,
   "id": "9e4cbb92-7e2e-483d-b372-7560c6bd1622",
   "metadata": {
    "tags": []
   },
   "outputs": [
    {
     "data": {
      "text/plain": [
       "'Page: Joe Biden\\nSummary: Joseph Robinette Biden Jr. (  BY-dən; born November 20, 1942) is an America'"
      ]
     },
     "execution_count": 154,
     "metadata": {},
     "output_type": "execute_result"
    }
   ],
   "source": [
    "wikipedia_tool('Joe Biden')[:100]"
   ]
  },
  {
   "cell_type": "code",
   "execution_count": 8,
   "id": "b60580ab-b847-422d-8b4c-5ee0015bcc80",
   "metadata": {
    "tags": []
   },
   "outputs": [],
   "source": [
    "# !pip install --upgrade --quiet  duckduckgo-search"
   ]
  },
  {
   "cell_type": "code",
   "execution_count": 155,
   "id": "fa1142de-bb06-4d6c-839b-faa29f6990bc",
   "metadata": {
    "tags": []
   },
   "outputs": [],
   "source": [
    "## Note: Rate Limit reached\n",
    "def duckduckgo_search_tool(search_query: str) -> str:\n",
    "    ''' Returns the result of duckduckgo search tool with search_query '''\n",
    "    from langchain_community.tools import DuckDuckGoSearchRun\n",
    "    return DuckDuckGoSearchRun().run(search_query)"
   ]
  },
  {
   "cell_type": "code",
   "execution_count": 10,
   "id": "3b9b3c96-2de4-4e9c-83dd-5862425afd30",
   "metadata": {
    "tags": []
   },
   "outputs": [],
   "source": [
    "# duckduckgo_search_tool('What are 5 good restaurants in Singapore?')"
   ]
  },
  {
   "cell_type": "code",
   "execution_count": 156,
   "id": "113648d9-8b57-4449-8681-dfc86385d6dd",
   "metadata": {
    "tags": []
   },
   "outputs": [],
   "source": [
    "def python_repl_tool(python_code: str) -> str:\n",
    "    ''' Runs python_code, returns the final result, or any debugging errors '''\n",
    "    from langchain.utilities import PythonREPL\n",
    "    \n",
    "    return PythonREPL().run(python_code)"
   ]
  },
  {
   "cell_type": "code",
   "execution_count": 157,
   "id": "163cf349-c8b0-444e-a64d-e46f1a72853a",
   "metadata": {
    "tags": []
   },
   "outputs": [
    {
     "name": "stderr",
     "output_type": "stream",
     "text": [
      "2024-05-21 10:56:00,758 - 140704271009536 - python.py-python:16 - WARNING: Python REPL can execute arbitrary code. Use with caution.\n"
     ]
    },
    {
     "data": {
      "text/plain": [
       "'8\\n'"
      ]
     },
     "execution_count": 157,
     "metadata": {},
     "output_type": "execute_result"
    }
   ],
   "source": [
    "python_repl_tool('print(3+5)')"
   ]
  },
  {
   "cell_type": "markdown",
   "id": "15467ba9-48e8-4c23-943e-dbec1d7d3150",
   "metadata": {},
   "source": [
    "# TaskGen Custom Tools\n",
    "- Some initial tools TaskGen can provide are as follows:\n",
    "    - Code generator: `python_generator_tool`\n",
    "    - Code executor: `python_run_tool`\n",
    "    - Code debugger: `python_debug_tool`\n",
    "    - Code generator, executor and debugger combined: `python_generate_and_run_code_tool`\n",
    "    - Webpage parser: `get_text_from_url_tool`"
   ]
  },
  {
   "cell_type": "code",
   "execution_count": 758,
   "id": "b665c6a5-450b-43a3-a9b8-2167b1aff2b9",
   "metadata": {
    "tags": []
   },
   "outputs": [],
   "source": [
    "python_generator_tool = Function('''Generate code based only on <instruction: str> without additional context.\n",
    "    Ensure that you define all variables and list out all imports.\n",
    "    You can only import the following modules: math, numpy, random, datetime, re, matplotlib, pandas, plotly\n",
    "    Do not define any functions\n",
    "    You are not able to use the Equipped Functions using this tool.\n",
    "    Ensure all required output are in print statements''',\n",
    "                                     output_format = {'Output Code': 'type: code'}, fn_name = 'python_generator_tool')"
   ]
  },
  {
   "cell_type": "code",
   "execution_count": 759,
   "id": "e5513395-eb20-4b05-9582-2f313fa3900a",
   "metadata": {
    "tags": []
   },
   "outputs": [
    {
     "data": {
      "text/plain": [
       "{'Output Code': 'result = 2 + 3\\nprint(result)'}"
      ]
     },
     "execution_count": 759,
     "metadata": {},
     "output_type": "execute_result"
    }
   ],
   "source": [
    "python_generator_tool('What is 2+3?')"
   ]
  },
  {
   "cell_type": "code",
   "execution_count": 760,
   "id": "ff8a319d-fbb7-4daa-aca4-452078746523",
   "metadata": {
    "tags": []
   },
   "outputs": [],
   "source": [
    "def python_run_tool(code_snippet: str) -> str:\n",
    "    '''Runs code_snippet and outputs the result of all print statements'''\n",
    "    import sys\n",
    "    import io\n",
    "    import math\n",
    "    import numpy\n",
    "    import random\n",
    "    import datetime\n",
    "    import re\n",
    "    import matplotlib\n",
    "    import pandas\n",
    "    import plotly\n",
    "\n",
    "    # Disable file access\n",
    "    def restricted_open(*args, **kwargs):\n",
    "        raise PermissionError(\"File access is restricted\")\n",
    "    \n",
    "    # Capture the output\n",
    "    old_stdout = sys.stdout\n",
    "    sys.stdout = io.StringIO()\n",
    "\n",
    "    try:\n",
    "        # Safe environment to execute the user code\n",
    "        allowed_globals = {\n",
    "            '__builtins__': {\n",
    "                'print': print,\n",
    "                'range': range,\n",
    "                'len': len,\n",
    "                'int': int,\n",
    "                'float': float,\n",
    "                'str': str,\n",
    "                'list': list,\n",
    "                'dict': dict,\n",
    "                'set': set,\n",
    "                'tuple': tuple,\n",
    "                'abs': abs,\n",
    "                'min': min,\n",
    "                'max': max,\n",
    "                'sum': sum,\n",
    "                'any': any,\n",
    "                'all': all,\n",
    "                'sorted': sorted,\n",
    "                'zip': zip,\n",
    "                'map': map,\n",
    "                'filter': filter,\n",
    "                '__import__': __import__,\n",
    "                'math': math,  # Allow access to the math module\n",
    "                'datetime': datetime, # Allow access to datetime module\n",
    "                'random': random, # Allow access to random module\n",
    "                'numpy': numpy, # Allow access to numpy module\n",
    "                're': re,\n",
    "                'matplotlib': matplotlib,\n",
    "                'pandas': pandas,\n",
    "                'plotly': plotly,\n",
    "                'open': restricted_open,  # Override open to restrict file access\n",
    "            }\n",
    "        }\n",
    "\n",
    "        safe_locals = {}\n",
    "\n",
    "        exec(code_snippet, allowed_globals, safe_locals)\n",
    "        output = sys.stdout.getvalue()\n",
    "    except Exception as e:\n",
    "        output = f\"Error: {e}\"\n",
    "    finally:\n",
    "        # Restore the original stdout\n",
    "        sys.stdout = old_stdout\n",
    "\n",
    "    return output"
   ]
  },
  {
   "cell_type": "code",
   "execution_count": 761,
   "id": "3b24ea1a-8ee8-49b0-8ea3-408807e35bf7",
   "metadata": {
    "tags": []
   },
   "outputs": [
    {
     "data": {
      "text/plain": [
       "'This is a great tool to debug and run code!\\nAwesome!\\n'"
      ]
     },
     "execution_count": 761,
     "metadata": {},
     "output_type": "execute_result"
    }
   ],
   "source": [
    "python_run_tool('print(\"This is a great tool to debug and run code!\")\\nprint(\"Awesome!\")')"
   ]
  },
  {
   "cell_type": "code",
   "execution_count": 762,
   "id": "ad33dc12-e535-4ec3-854b-8a29e7ac1121",
   "metadata": {
    "tags": []
   },
   "outputs": [],
   "source": [
    "python_debug_tool = Function('''Debugs Python Code and returns corrected code.\n",
    "Instruction: <instruction: str>\n",
    "Current Code: <python_code: str>\n",
    "Error Message: <error_msg: str>''',\n",
    "                                 output_format = {'Thoughts': 'How to correct code', 'Corrected Code': 'type: code'}, fn_name = 'python_debug_tool')"
   ]
  },
  {
   "cell_type": "code",
   "execution_count": 763,
   "id": "928c5385-23ce-461d-8435-6ad00f462dba",
   "metadata": {
    "tags": []
   },
   "outputs": [
    {
     "data": {
      "text/plain": [
       "{'Thoughts': 'The error message indicates that there is an issue with the decimal literal in the code. We need to add a space between the number 3 and the print statement.',\n",
       " 'Corrected Code': 'result = 3\\nprint(result)'}"
      ]
     },
     "execution_count": 763,
     "metadata": {},
     "output_type": "execute_result"
    }
   ],
   "source": [
    "python_debug_tool('Print result', 'result = 3print(result)', 'invalid decimal literal (<string>, line 1)')"
   ]
  },
  {
   "cell_type": "markdown",
   "id": "37f55b09-def9-4706-98cb-84a84ba2cf54",
   "metadata": {},
   "source": [
    "## Combining all Python Code tools into one\n",
    "- This is like a rule-based agent, doing the three functions inside it, so that we don't have to keep passing in code as input variable to the functions\n",
    "- This is also a context-based function, taking in agent's overall task and subtasks completed via shared_variables\n",
    "- Do note that you need to pass in the agent as the shared_variables to utilise this function (to be done by default in future versions of TaskGen)"
   ]
  },
  {
   "cell_type": "code",
   "execution_count": 764,
   "id": "04fde2ab-40e9-49e1-a3d2-d36fa899e519",
   "metadata": {
    "tags": []
   },
   "outputs": [],
   "source": [
    "# Uses LLM to generate Code\n",
    "def python_generate_and_run_code_tool(shared_variables, instruction: str) -> str:\n",
    "    ''' Generates and runs code based on instruction. Returns 1) the result of all print statements in code, or error messages, and 2) the code '''\n",
    "    # from termcolor import colored\n",
    "    \n",
    "    # Append context to tool\n",
    "    if shared_variables and 'agent' in shared_variables:\n",
    "        instruction = f\"Context: {shared_variables['agent'].overall_task}\\nPrevious Subtasks: {shared_variables['agent'].subtasks_completed}\\nInstruction: {instruction}\"\n",
    "    # Generate Code\n",
    "    python_code = python_generator_tool(instruction)['Output Code']\n",
    "    # print(colored(f'Generated code: ```{python_code}```', 'magenta'))\n",
    "    \n",
    "    # Run and Debug Code\n",
    "    for _ in range(3):\n",
    "        output = python_run_tool(python_code)\n",
    "\n",
    "        if output[:5] == \"Error\":\n",
    "            debugged_code = python_debug_tool(instruction, python_code, output)\n",
    "            python_code = debugged_code['Corrected Code']\n",
    "            # print(colored(output, 'red'))\n",
    "            # print(colored(f'Debugged code: ```{python_code}```', 'magenta'))\n",
    "        else:\n",
    "            break\n",
    "            \n",
    "    return output, python_code"
   ]
  },
  {
   "cell_type": "code",
   "execution_count": 765,
   "id": "761e5b7e-cb38-42b4-9b33-49e24f5578ed",
   "metadata": {
    "tags": []
   },
   "outputs": [
    {
     "data": {
      "text/plain": [
       "('[3, 7, 11, 13, 17, 19, 23, 29, 31, 37]\\n',\n",
       " 'primes = [3, 7, 11, 13, 17, 19, 23, 29, 31, 37]\\nprint(primes)')"
      ]
     },
     "execution_count": 765,
     "metadata": {},
     "output_type": "execute_result"
    }
   ],
   "source": [
    "python_code_tool(None, 'Give me first 10 primes, without 2 and 5')"
   ]
  },
  {
   "cell_type": "code",
   "execution_count": 766,
   "id": "41b11393-3a2b-4c75-9bdb-0b8245b0f1d0",
   "metadata": {
    "tags": []
   },
   "outputs": [],
   "source": [
    "def get_text_from_url_tool(url) -> str:\n",
    "    ''' Returns text from a url '''\n",
    "    from selenium import webdriver\n",
    "    from selenium.webdriver.chrome.service import Service\n",
    "    from webdriver_manager.chrome import ChromeDriverManager\n",
    "    from selenium.webdriver.chrome.options import Options\n",
    "    from bs4 import BeautifulSoup\n",
    "    from bs4.element import Comment\n",
    "    \n",
    "    # Maximum character length\n",
    "    MAX_LEN = 10000\n",
    "\n",
    "    def tag_visible(element):\n",
    "        if element.parent.name in ['style', 'script', 'head', 'title', 'meta', '[document]']:\n",
    "            return False\n",
    "        if isinstance(element, Comment):\n",
    "            return False\n",
    "        return True\n",
    "\n",
    "    def text_from_html(body):\n",
    "        soup = BeautifulSoup(body, 'html.parser')\n",
    "        text = soup.get_text()\n",
    "\n",
    "        # break into lines and remove leading and trailing space on each\n",
    "        lines = (line.strip() for line in text.splitlines())\n",
    "        # break multi-headlines into a line each\n",
    "        chunks = (phrase.strip() for line in lines for phrase in line.split(\"  \"))\n",
    "        # drop blank lines\n",
    "        text = '\\n'.join(chunk for chunk in chunks if chunk)\n",
    "        return text\n",
    "\n",
    "    # Create an instance of Options\n",
    "    options = Options()\n",
    "\n",
    "    # Set the option for headless\n",
    "    options.headless = True\n",
    "\n",
    "    # Set up the WebDriver with the ChromeDriverManager and options\n",
    "    service = Service(ChromeDriverManager().install())\n",
    "    driver = webdriver.Chrome(service=service, options=options)\n",
    "    \n",
    "    driver.implicitly_wait(2)\n",
    "    # Open the webpage\n",
    "    driver.get(url)\n",
    "\n",
    "    html = driver.page_source\n",
    "\n",
    "    # Close the driver\n",
    "    driver.quit()\n",
    "\n",
    "    return text_from_html(html)[:MAX_LEN]"
   ]
  },
  {
   "cell_type": "code",
   "execution_count": 771,
   "id": "12493d87-7e25-4fab-b8d1-8d5799e3616a",
   "metadata": {
    "tags": []
   },
   "outputs": [],
   "source": [
    "agent = Agent('Generalist Agent', \n",
    "'''Helps user with tasks. When deterministic output is needed, generate and run code. Do not use LLM for calculations. End task if you need to output to user.''', \n",
    "             summarise_subtasks_count = 10).assign_functions(\n",
    "    [wikipedia_tool, python_code_tool, get_text_from_url_tool])\n",
    "\n",
    "# assign shared variables for agent so code tool can get context of the task\n",
    "agent.shared_variables['agent'] = agent"
   ]
  },
  {
   "cell_type": "code",
   "execution_count": 772,
   "id": "8ecd00be-93c2-42e3-9865-5341fd290040",
   "metadata": {
    "tags": []
   },
   "outputs": [
    {
     "name": "stdout",
     "output_type": "stream",
     "text": [
      "\u001b[1m\u001b[30mObservation: No subtasks have been completed yet.\u001b[0m\n",
      "\u001b[1m\u001b[32mThoughts: To complete the remainder of the assigned task, we need to calculate the final number of apples John has after receiving 21 more from Mary and giving 10 to Tim. We can achieve this by performing simple arithmetic operations.\u001b[0m\n",
      "\u001b[1m\u001b[34mSubtask identified: Calculate the final number of apples John has after receiving 21 more from Mary and giving 10 to Tim.\u001b[0m\n",
      "Calling function python_code_tool with parameters {'instruction': 'Calculate the final number of apples John has after receiving 21 more from Mary and giving 10 to Tim.'}\n",
      "> {'output_1': 'John has 16 apples at the end\\n', 'output_2': 'john_apples = 5\\njohn_apples += 21\\njohn_apples -= 10\\nprint(\"John has\", john_apples, \"apples at the end\")'}\n",
      "\n",
      "\u001b[1m\u001b[30mObservation: The current subtask involves determining the final number of apples John has after receiving 21 more from Mary and giving 10 to Tim. The calculation has been completed successfully using Python code.\u001b[0m\n",
      "\u001b[1m\u001b[32mThoughts: To complete the remainder of the assigned task, we need to determine the final number of apples John has at the end. Since we already have the code to perform the calculation, we can simply run the existing code to get the result.\u001b[0m\n",
      "\u001b[1m\u001b[34mSubtask identified: Run the existing Python code to determine the final number of apples John has at the end.\u001b[0m\n",
      "Calling function python_code_tool with parameters {'instruction': 'Run the existing Python code to determine the final number of apples John has at the end.'}\n",
      "> {'output_1': 'John has 16 apples at the end\\n', 'output_2': 'john_apples = 5\\njohn_apples += 21\\njohn_apples -= 10\\nprint(\"John has\", john_apples, \"apples at the end\")'}\n",
      "\n",
      "\u001b[1m\u001b[30mObservation: The subtasks completed involved calculating the final number of apples John has after receiving 21 more from Mary and giving 10 to Tim. The Python code was generated and run to determine that John has 16 apples at the end.\u001b[0m\n",
      "\u001b[1m\u001b[32mThoughts: Since the final number of apples John has at the end has been calculated, the next step is to end the task as there are no further calculations or actions required.\u001b[0m\n",
      "\u001b[1m\u001b[34mSubtask identified: End Task\u001b[0m\n",
      "Task completed successfully!\n",
      "\n"
     ]
    },
    {
     "data": {
      "text/plain": [
       "[{'output_1': 'John has 16 apples at the end\\n',\n",
       "  'output_2': 'john_apples = 5\\njohn_apples += 21\\njohn_apples -= 10\\nprint(\"John has\", john_apples, \"apples at the end\")'},\n",
       " {'output_1': 'John has 16 apples at the end\\n',\n",
       "  'output_2': 'john_apples = 5\\njohn_apples += 21\\njohn_apples -= 10\\nprint(\"John has\", john_apples, \"apples at the end\")'}]"
      ]
     },
     "execution_count": 772,
     "metadata": {},
     "output_type": "execute_result"
    }
   ],
   "source": [
    "agent.reset()\n",
    "agent.run('John has 5 apples. John received another 21 more from Mary, and gave 10 to Tim. How many apples does John have at the end?')"
   ]
  },
  {
   "cell_type": "code",
   "execution_count": 773,
   "id": "63f3c0c3-19e5-4465-af6a-aa24e46c4c9b",
   "metadata": {
    "tags": []
   },
   "outputs": [
    {
     "name": "stdout",
     "output_type": "stream",
     "text": [
      "John has 16 apples at the end\n"
     ]
    },
    {
     "data": {
      "text/plain": [
       "'John has 16 apples at the end'"
      ]
     },
     "execution_count": 773,
     "metadata": {},
     "output_type": "execute_result"
    }
   ],
   "source": [
    "agent.reply_user()"
   ]
  },
  {
   "cell_type": "code",
   "execution_count": 774,
   "id": "45745b01-e18a-4863-a356-a25e5ef10d9e",
   "metadata": {
    "tags": []
   },
   "outputs": [
    {
     "name": "stdout",
     "output_type": "stream",
     "text": [
      "\u001b[1m\u001b[30mObservation: No subtasks have been completed yet.\u001b[0m\n",
      "\u001b[1m\u001b[32mThoughts: To plot a graph of y = 2x^2, we need to generate the code for plotting the graph using a Python plotting library like Matplotlib. We can use the python_code_tool function to generate the necessary code for plotting the graph.\u001b[0m\n",
      "\u001b[1m\u001b[34mSubtask identified: Generate and run Python code to plot the graph of y = 2x^2 using Matplotlib.\u001b[0m\n",
      "Calling function python_code_tool with parameters {'instruction': 'Generate and run Python code to plot the graph of y = 2x^2 using Matplotlib.'}\n"
     ]
    },
    {
     "data": {
      "image/png": "[encoded data removed]",
      "text/plain": [
       "<Figure size 640x480 with 1 Axes>"
      ]
     },
     "metadata": {},
     "output_type": "display_data"
    },
    {
     "name": "stdout",
     "output_type": "stream",
     "text": [
      "> {'output_1': '', 'output_2': 'import matplotlib.pyplot as plt\\nimport numpy as np\\n\\nx = np.linspace(-10, 10, 100)\\ny = 2 * x**2\\n\\nplt.plot(x, y)\\nplt.xlabel(\"x\")\\nplt.ylabel(\"y\")\\nplt.title(\"Graph of y = 2x^2\")\\nplt.grid(True)\\nplt.show()'}\n",
      "\n",
      "\u001b[1m\u001b[30mObservation: The graph of y = 2x^2 has been successfully plotted using Matplotlib in Python.\u001b[0m\n",
      "\u001b[1m\u001b[32mThoughts: Since the graph has been plotted, the next step is to end the task as there are no further subtasks to be completed.\u001b[0m\n",
      "\u001b[1m\u001b[34mSubtask identified: End Task\u001b[0m\n",
      "Task completed successfully!\n",
      "\n"
     ]
    },
    {
     "data": {
      "text/plain": [
       "[{'output_1': '',\n",
       "  'output_2': 'import matplotlib.pyplot as plt\\nimport numpy as np\\n\\nx = np.linspace(-10, 10, 100)\\ny = 2 * x**2\\n\\nplt.plot(x, y)\\nplt.xlabel(\"x\")\\nplt.ylabel(\"y\")\\nplt.title(\"Graph of y = 2x^2\")\\nplt.grid(True)\\nplt.show()'}]"
      ]
     },
     "execution_count": 774,
     "metadata": {},
     "output_type": "execute_result"
    }
   ],
   "source": [
    "agent.reset()\n",
    "agent.run('Plot me a graph of y = 2x^2')"
   ]
  },
  {
   "cell_type": "code",
   "execution_count": 775,
   "id": "6d4cc46c-d2dc-40e0-b124-e5764d6ea058",
   "metadata": {
    "tags": []
   },
   "outputs": [
    {
     "name": "stdout",
     "output_type": "stream",
     "text": [
      "\u001b[1m\u001b[30mObservation: No subtasks have been completed yet.\u001b[0m\n",
      "\u001b[1m\u001b[32mThoughts: To find the first 10 prime numbers, we can use a simple algorithm to check for prime numbers. We can start by checking numbers starting from 2 and keep track of the prime numbers found until we have the first 10.\u001b[0m\n",
      "\u001b[1m\u001b[34mSubtask identified: Generate and run code to find the first 10 prime numbers.\u001b[0m\n",
      "Calling function python_code_tool with parameters {'instruction': 'Generate and run code to find the first 10 prime numbers.'}\n",
      "> {'output_1': 'The first 10 prime numbers are: [2, 3, 5, 7, 11, 13, 17, 19, 23, 29]\\n', 'output_2': 'import math\\n\\nprimes = []\\nnum = 2\\n\\nwhile len(primes) < 10:\\n    is_prime = True\\n    for i in range(2, int(math.sqrt(num)) + 1):\\n        if num % i == 0:\\n            is_prime = False\\n            break\\n    if is_prime:\\n        primes.append(num)\\n    num += 1\\n\\nprint(\"The first 10 prime numbers are:\", primes)'}\n",
      "\n",
      "\u001b[1m\u001b[30mObservation: The first 10 prime numbers have been successfully generated using code.\u001b[0m\n",
      "\u001b[1m\u001b[32mThoughts: Since the first 10 prime numbers have been found, the next step is to end the task as per the user query.\u001b[0m\n",
      "\u001b[1m\u001b[34mSubtask identified: End Task\u001b[0m\n",
      "Task completed successfully!\n",
      "\n"
     ]
    },
    {
     "data": {
      "text/plain": [
       "[{'output_1': 'The first 10 prime numbers are: [2, 3, 5, 7, 11, 13, 17, 19, 23, 29]\\n',\n",
       "  'output_2': 'import math\\n\\nprimes = []\\nnum = 2\\n\\nwhile len(primes) < 10:\\n    is_prime = True\\n    for i in range(2, int(math.sqrt(num)) + 1):\\n        if num % i == 0:\\n            is_prime = False\\n            break\\n    if is_prime:\\n        primes.append(num)\\n    num += 1\\n\\nprint(\"The first 10 prime numbers are:\", primes)'}]"
      ]
     },
     "execution_count": 775,
     "metadata": {},
     "output_type": "execute_result"
    }
   ],
   "source": [
    "agent.reset()\n",
    "agent.run('What are the first 10 prime numbers?')"
   ]
  },
  {
   "cell_type": "code",
   "execution_count": 776,
   "id": "935e82a7-e207-4ff1-9187-d57d57e82806",
   "metadata": {
    "tags": []
   },
   "outputs": [
    {
     "name": "stdout",
     "output_type": "stream",
     "text": [
      "\u001b[1m\u001b[30mObservation: No subtasks have been completed yet for the assigned task.\u001b[0m\n",
      "\u001b[1m\u001b[32mThoughts: To complete the assigned task, we need to find information about Joe Biden and calculate his current age. We can use the Wikipedia tool to gather information about Joe Biden and then calculate his current age based on his birthdate.\u001b[0m\n",
      "\u001b[1m\u001b[34mSubtask identified: Uses \"Joe Biden\" to gather information from Wikipedia\u001b[0m\n",
      "Calling function wikipedia_tool with parameters {'search_query': 'Joe Biden'}\n",
      "> {'output_1': \"Page: Joe Biden\\nSummary: Joseph Robinette Biden Jr. (  BY-dən; born November 20, 1942) is an American politician who is the 46th and current president of the United States since 2021. A member of the Democratic Party, he previously served as the 47th vice president from 2009 to 2017 under President Barack Obama and represented Delaware in the United States Senate from 1973 to 2009.\\nBorn in Scranton, Pennsylvania, Biden moved with his family to Delaware in 1953. He graduated from the University of Delaware before earning his law degree from Syracuse University. He was elected to the New Castle County Council in 1970 and to the U.S. Senate in 1972. As a senator, Biden drafted and led the effort to pass the Violent Crime Control and Law Enforcement Act and the Violence Against Women Act. He also oversaw six U.S. Supreme Court confirmation hearings, including the contentious hearings for Robert Bork and Clarence Thomas. Biden ran unsuccessfully for the Democratic presidential nomination in 1988 and 2008. In 2008, Obama chose Biden as his running mate, and he was a close counselor to Obama during his two terms as vice president. In the 2020 presidential election, Biden and his running mate, Kamala Harris, defeated incumbents Donald Trump and Mike Pence. He is the oldest president in U.S. history, and the first to have a female vice president.\\nAs president, Biden signed the American Rescue Plan Act in response to the COVID-19 pandemic and subsequent recession. He signed bipartisan bills on infrastructure and manufacturing. He proposed the Build Back Better Act, which failed in Congress, but aspects of which were incorporated into the Inflation Reduction Act that he signed into law in 2022. Biden appointed Ketanji Brown Jackson to the Supreme Court. He worked with congressional Republicans to resolve the 2023 United States debt-ceiling crisis by negotiating a deal to raise the debt ceiling. In foreign policy, Biden restored America's membership in the Paris Agreement. He oversaw the complete withdrawal of U.S. troops from Afghanistan that ended the war in Afghanistan, during which the Afghan government collapsed and the Taliban seized control. He responded to the Russian invasion of Ukraine by imposing sanctions on Russia and authorizing civilian and military aid to Ukraine. During the Israel–Hamas war, Biden condemned the actions of Hamas and other Palestinian militants as terrorism, announced military support for Israel, and ordered the U.S. military to build a port to facilitate the delivery of humanitarian aid to Palestinian civilians in Gaza. In April 2023, Biden announced his candidacy for the Democratic nomination in the 2024 presidential election.\\n\\nPage: Family of Joe Biden\\nSummary: Joe Biden, the 46th and current president of the United States, has family members who are prominent in law, education, activism and politics. Biden's immediate family became the first family of the United States on his inauguration on January 20, 2021. His immediate family circle was also the second family of the United States from 2009 to 2017, when Biden was vice president. Biden's family is mostly descended from the British Isles, with most of their ancestors coming from Ireland and England, and a smaller number descending from the French.\\nOf Joe Biden's sixteen great-great-grandparents, ten were born in Ireland. He is descended from the Blewitts of County Mayo and the Finnegans of County Louth. One of Biden's great-great-great-grandfathers was born in Sussex, England, and emigrated to Maryland in the United States by 1820.\\n\\nPage: Presidency of Joe Biden\\nSummary: Joe Biden's tenure as the 46th president of the United States began with his inauguration on January 20, 2021. Biden, a Democrat from Delaware who previously served as vice president for two terms under President Barack Obama, took office following his victory in the 2020 presidential election over Republican incumbent president Donald Trump. Upon his inauguration, he became the oldes\"}\n",
      "\n",
      "\u001b[1m\u001b[30mObservation: The information gathered from Wikipedia about Joe Biden includes his birthdate in 1942, making him 80 years old in 2022.\u001b[0m\n",
      "\u001b[1m\u001b[32mThoughts: To determine Joe Biden's current age in 2023, we need to calculate the difference between the current year and his birth year. Since we already know his birth year is 1942, we can subtract 1942 from the current year to find his age in 2023.\u001b[0m\n",
      "\u001b[1m\u001b[34mSubtask identified: Calculate Joe Biden's current age in 2023 by subtracting his birth year (1942) from the current year.\u001b[0m\n",
      "Calling function python_code_tool with parameters {'instruction': \"Calculate Joe Biden's current age in 2023 by subtracting his birth year (1942) from the current year.\"}\n",
      "> {'output_1': 'Joe Biden is currently 81 years old in 2023\\n', 'output_2': 'current_year = 2023\\nbirth_year = 1942\\nage = current_year - birth_year\\nprint(\"Joe Biden is currently\", age, \"years old in 2023\")'}\n",
      "\n",
      "\u001b[1m\u001b[30mObservation: The user asked about who Joe Biden is and his current age based on calculation. Information about Joe Biden was gathered from Wikipedia, including his birth year (1942). The calculation was performed to determine his current age in 2023 (81 years old).\u001b[0m\n",
      "\u001b[1m\u001b[32mThoughts: To complete the remaining part of the assigned task, we need to provide the user with Joe Biden's current age, which is 81 years old in 2023. This can be achieved by using the calculated age result from the previous step. We can directly output this information to the user to fulfill the task.\u001b[0m\n",
      "\u001b[1m\u001b[34mSubtask identified: End Task\u001b[0m\n",
      "Task completed successfully!\n",
      "\n"
     ]
    },
    {
     "data": {
      "text/plain": [
       "[{'output_1': \"Page: Joe Biden\\nSummary: Joseph Robinette Biden Jr. (  BY-dən; born November 20, 1942) is an American politician who is the 46th and current president of the United States since 2021. A member of the Democratic Party, he previously served as the 47th vice president from 2009 to 2017 under President Barack Obama and represented Delaware in the United States Senate from 1973 to 2009.\\nBorn in Scranton, Pennsylvania, Biden moved with his family to Delaware in 1953. He graduated from the University of Delaware before earning his law degree from Syracuse University. He was elected to the New Castle County Council in 1970 and to the U.S. Senate in 1972. As a senator, Biden drafted and led the effort to pass the Violent Crime Control and Law Enforcement Act and the Violence Against Women Act. He also oversaw six U.S. Supreme Court confirmation hearings, including the contentious hearings for Robert Bork and Clarence Thomas. Biden ran unsuccessfully for the Democratic presidential nomination in 1988 and 2008. In 2008, Obama chose Biden as his running mate, and he was a close counselor to Obama during his two terms as vice president. In the 2020 presidential election, Biden and his running mate, Kamala Harris, defeated incumbents Donald Trump and Mike Pence. He is the oldest president in U.S. history, and the first to have a female vice president.\\nAs president, Biden signed the American Rescue Plan Act in response to the COVID-19 pandemic and subsequent recession. He signed bipartisan bills on infrastructure and manufacturing. He proposed the Build Back Better Act, which failed in Congress, but aspects of which were incorporated into the Inflation Reduction Act that he signed into law in 2022. Biden appointed Ketanji Brown Jackson to the Supreme Court. He worked with congressional Republicans to resolve the 2023 United States debt-ceiling crisis by negotiating a deal to raise the debt ceiling. In foreign policy, Biden restored America's membership in the Paris Agreement. He oversaw the complete withdrawal of U.S. troops from Afghanistan that ended the war in Afghanistan, during which the Afghan government collapsed and the Taliban seized control. He responded to the Russian invasion of Ukraine by imposing sanctions on Russia and authorizing civilian and military aid to Ukraine. During the Israel–Hamas war, Biden condemned the actions of Hamas and other Palestinian militants as terrorism, announced military support for Israel, and ordered the U.S. military to build a port to facilitate the delivery of humanitarian aid to Palestinian civilians in Gaza. In April 2023, Biden announced his candidacy for the Democratic nomination in the 2024 presidential election.\\n\\nPage: Family of Joe Biden\\nSummary: Joe Biden, the 46th and current president of the United States, has family members who are prominent in law, education, activism and politics. Biden's immediate family became the first family of the United States on his inauguration on January 20, 2021. His immediate family circle was also the second family of the United States from 2009 to 2017, when Biden was vice president. Biden's family is mostly descended from the British Isles, with most of their ancestors coming from Ireland and England, and a smaller number descending from the French.\\nOf Joe Biden's sixteen great-great-grandparents, ten were born in Ireland. He is descended from the Blewitts of County Mayo and the Finnegans of County Louth. One of Biden's great-great-great-grandfathers was born in Sussex, England, and emigrated to Maryland in the United States by 1820.\\n\\nPage: Presidency of Joe Biden\\nSummary: Joe Biden's tenure as the 46th president of the United States began with his inauguration on January 20, 2021. Biden, a Democrat from Delaware who previously served as vice president for two terms under President Barack Obama, took office following his victory in the 2020 presidential election over Republican incumbent president Donald Trump. Upon his inauguration, he became the oldes\"},\n",
       " {'output_1': 'Joe Biden is currently 81 years old in 2023\\n',\n",
       "  'output_2': 'current_year = 2023\\nbirth_year = 1942\\nage = current_year - birth_year\\nprint(\"Joe Biden is currently\", age, \"years old in 2023\")'}]"
      ]
     },
     "execution_count": 776,
     "metadata": {},
     "output_type": "execute_result"
    }
   ],
   "source": [
    "agent.reset()\n",
    "agent.run('Who is Joe Biden and how old is he now based on calculation?')"
   ]
  },
  {
   "cell_type": "code",
   "execution_count": 777,
   "id": "a78e0343-d854-46d2-9bf0-647af8f0ad96",
   "metadata": {
    "tags": []
   },
   "outputs": [
    {
     "name": "stdout",
     "output_type": "stream",
     "text": [
      "Joe Biden is an American politician who is the 46th and current president of the United States. He was born on November 20, 1942. Based on calculation, Joe Biden is currently 81 years old in 2023.\n"
     ]
    },
    {
     "data": {
      "text/plain": [
       "'Joe Biden is an American politician who is the 46th and current president of the United States. He was born on November 20, 1942. Based on calculation, Joe Biden is currently 81 years old in 2023.'"
      ]
     },
     "execution_count": 777,
     "metadata": {},
     "output_type": "execute_result"
    }
   ],
   "source": [
    "agent.reply_user()"
   ]
  },
  {
   "cell_type": "code",
   "execution_count": 778,
   "id": "6c860b75-0c0f-48c7-a20a-7a2b1ede56d6",
   "metadata": {
    "tags": []
   },
   "outputs": [
    {
     "name": "stdout",
     "output_type": "stream",
     "text": [
      "\u001b[1m\u001b[30mObservation: No subtasks have been completed yet.\u001b[0m\n",
      "\u001b[1m\u001b[32mThoughts: To find the number of stars in the TaskGen GitHub repository, we can use the get_text_from_url_tool function to extract the required information from the GitHub page. We will then need to parse the text to find the number of stars.\u001b[0m\n",
      "\u001b[1m\u001b[34mSubtask identified: Use the get_text_from_url_tool function to extract text from the GitHub page of TaskGen (https://github.com/simbianai/taskgen).\u001b[0m\n",
      "Calling function get_text_from_url_tool with parameters {'url': 'https://github.com/simbianai/taskgen'}\n",
      "> {'output_1': 'GitHub - simbianai/taskgen: Task-based Agentic Framework using StrictJSON as the core\\nSkip to content\\nNavigation Menu\\nToggle navigation\\nSign in\\nProduct\\nActions\\nAutomate any workflow\\nPackages\\nHost and manage packages\\nSecurity\\nFind and fix vulnerabilities\\nCodespaces\\nInstant dev environments\\nCopilot\\nWrite better code with AI\\nCode review\\nManage code changes\\nIssues\\nPlan and track work\\nDiscussions\\nCollaborate outside of code\\nExplore\\nAll features\\nDocumentation\\nGitHub Skills\\nBlog\\nSolutions\\nFor\\nEnterprise\\nTeams\\nStartups\\nEducation\\nBy Solution\\nCI/CD & Automation\\nDevOps\\nDevSecOps\\nResources\\nLearning Pathways\\nWhite papers, Ebooks, Webinars\\nCustomer Stories\\nPartners\\nOpen Source\\nGitHub Sponsors\\nFund open source developers\\nThe ReadME Project\\nGitHub community articles\\nRepositories\\nTopics\\nTrending\\nCollections\\nPricing\\nSearch or jump to...\\nSearch code, repositories, users, issues, pull requests...\\nSearch\\nClear\\nSearch syntax tips\\nProvide feedback\\nWe read every piece of feedback, and take your input very seriously.\\nInclude my email address so I can be contacted\\nCancel\\nSubmit feedback\\nSaved searches\\nUse saved searches to filter your results more quickly\\nName\\nQuery\\nTo see all available qualifiers, see our documentation.\\nCancel\\nCreate saved search\\nSign in\\nSign up\\nYou signed in with another tab or window. Reload to refresh your session.\\nYou signed out in another tab or window. Reload to refresh your session.\\nYou switched accounts on another tab or window. Reload to refresh your session.\\nDismiss alert\\nsimbianai\\n/\\ntaskgen\\nPublic\\nNotifications\\nFork\\n11\\nStar\\n77\\nTask-based Agentic Framework using StrictJSON as the core\\nLicense\\nMIT license\\n77\\nstars\\n11\\nforks\\nBranches\\nTags\\nActivity\\nStar\\nNotifications\\nCode\\nIssues\\n3\\nPull requests\\n0\\nActions\\nProjects\\n0\\nSecurity\\nInsights\\nAdditional navigation options\\nCode\\nIssues\\nPull requests\\nActions\\nProjects\\nSecurity\\nInsights\\nsimbianai/taskgen\\nThis commit does not belong to any branch on this repository, and may belong to a fork outside of the repository.\\nmainBranchesTagsGo to fileCodeFolders and filesNameNameLast commit messageLast commit dateLatest commit\\xa0History99 CommitsPaperPaper\\xa0\\xa0contribcontrib\\xa0\\xa0resourcesresources\\xa0\\xa0taskgentaskgen\\xa0\\xa0.example.env.example.env\\xa0\\xa0.gitignore.gitignore\\xa0\\xa0LICENSELICENSE\\xa0\\xa0PyGame_Essay_Creator.ipynbPyGame_Essay_Creator.ipynb\\xa0\\xa0README.mdREADME.md\\xa0\\xa0TaskGen AMA_18May2024.ipynbTaskGen AMA_18May2024.ipynb\\xa0\\xa0Tutorial 0 - StrictJSON.ipynbTutorial 0 - StrictJSON.ipynb\\xa0\\xa0Tutorial 1 - Agent.ipynbTutorial 1 - Agent.ipynb\\xa0\\xa0Tutorial 2 - Hierarchical Agents.ipynbTutorial 2 - Hierarchical Agents.ipynb\\xa0\\xa0Tutorial 3 - Shared Variables.ipynbTutorial 3 - Shared Variables.ipynb\\xa0\\xa0Tutorial 4 - Memory.ipynbTutorial 4 - Memory.ipynb\\xa0\\xa0Tutorial 5 - Additional Context.ipynbTutorial 5 - Additional Context.ipynb\\xa0\\xa0Tutorial 6 - External Function Interfacing.ipynbTutorial 6 - External Function Interfacing.ipynb\\xa0\\xa0changelog.txtchangelog.txt\\xa0\\xa0myagent.pklmyagent.pkl\\xa0\\xa0pyproject.tomlpyproject.toml\\xa0\\xa0requirements.txtrequirements.txt\\xa0\\xa0setup.pysetup.py\\xa0\\xa0View all filesRepository files navigationREADMEMIT licenseTaskGen v2.3.0\\nA Task-based agentic framework building on StrictJSON outputs by LLM agents\\nRelated Repositories: StrictJSON (https://github.com/tanchongmin/strictjson)\\nVideo (Part 1): https://www.youtube.com/watch?v=O_XyTT7QGH4\\nVideo (Part 2): https://www.youtube.com/watch?v=OWk7moRfTPE\\nTaskGen Ask Me Anything: https://www.youtube.com/watch?v=mheIWKugqF4\\nCreator\\'s Preamble\\nHappy to share that the task-based agentic framework I have been working on - TaskGen - is largely complete!\\nNoteable features include:\\nSplitting of Tasks into subtasks for bite-sized solutions for each subtask\\nSingle Agent with LLM Functions\\nSingle Agent with External Functions\\nMeta Agent with Inner Agents as Functions\\nShared Variables for multi-modality support\\nRetrieval Augmented Generation (RAG) over Function space\\nMemory to provide additional task-based prompts for task\\nGlobal Context for configuring your own prompts + add persistent variables\\nI am quite sure that this is the best open-source agentic framework for task-based execution out there!\\nExisting frameworks like AutoGen rely too much on conversational text which is lengthy and not targeted.\\nTaskGen uses StrictJSON (JSON parser with type checking and more!) as the core, and agents are efficient and are able to do Chain of Thought natively using JSON keys and descriptions as a guide.\\nWhat can you do to help:\\nStar the github so more people can use it (It\\'s open source and free to use, even commercially!)\\nContribute your favourite external function integrations so that it can be much more boilerplate for others to use :)\\nContribute template Jupyter Notebooks for your favourite use cases :)\\nI can\\'t wait to see what this new framework can do for you!\\nBenefits of JSON messaging over agentic frameworks using conversational free-text like AutoGen\\nJSON format helps do Chain-of-Thought prompting naturally and is less verbose than free text\\nJSON format allows natural parsing of multiple output fields by agents\\nStrictJSON helps to ensure all output fields are there and of the right format required for downstream processing\\nTutorials and Community Support\\nCreated: 17 Feb 2024 by John Tan Chong Min\\nCollaborators welcome\\nDiscussion Channel (my discord - John\\'s AI Group): https://discord.gg/bzp87AHJy5\\nHow do I use this?\\nDownload package via command line pip install taskgen-ai\\nSet up your OpenAPI API Key\\nImport the required functions from taskgen and use them!\\nDifferences in LLM for Agentic Framework\\nChatGPT (gpt-3.5-turbo) is consistent only if you specify very clearly what you want the Agent to do and give examples of what you want\\ngpt-4-turbo and more advanced models can perform better zero-shot without much examples\\nTaskGen is compatible with ChatGPT and similar models, but for more robust use, consider using gpt-4-turbo and better models\\nAgent Basics - See Tutorial 1\\nCreate an agent by entering your agent\\'s name and description\\nAgents are task-based, so they will help generate subtasks to fulfil your main task\\nAgents are made to be non-verbose, so they will just focus only on task instruction (Much more efficient compared to conversational-based agentic frameworks like AutoGen)\\nExample Agent Creation\\nmy_agent = Agent(\\'Helpful assistant\\', \\'You are a generalist agent\\')\\nExample Agent Task Running - Split the assigned task into subtasks and execute each of them\\n# Run your agent\\noutput = my_agent.run(\\'Give me 5 words rhyming with cool, and make a 4-sentence poem using them\\')\\nSubtask identified: Find 5 words that rhyme with \\'cool\\'\\nGetting LLM to perform the following task: Find 5 words that rhyme with \\'cool\\'\\npool, rule, fool, tool, school\\nSubtask identified: Compose a 4-sentence poem using the words \\'pool\\', \\'rule\\', \\'fool\\', \\'tool\\', and \\'school\\'\\nGetting LLM to perform the following task: Compose a 4-sentence poem using the words \\'pool\\', \\'rule\\', \\'fool\\', \\'tool\\', and \\'school\\'\\nIn the school, the golden rule is to never be a fool. Use your mind as a tool, and always follow the pool.\\nTask completed successfully!\\nExample Agent Reply to User - Reference the subtasks\\' output to answer the user\\'s query\\noutput = my_agent.reply_user()\\nHere are 5 words that rhyme with \"cool\": pool, rule, fool, tool, school. Here is a 4-sentence poem using these words: \"In the school, the golden rule is to never be a fool. Use your mind as a tool, and always follow the pool.\"\\nCheck Agent\\'s Status\\nmy_agent.status()\\nAgent Name: Helpful assistant\\nAgent Description: You are a generalist agent\\nAvailable Functions: [\\'use_llm\\', \\'end_task\\']\\nTask: Give me 5 words rhyming with cool, and make a 4-sentence poem using them\\nSubtasks Completed:\\nSubtask: Find 5 words that rhyme with \\'cool\\'\\npool, rule, fool, tool, school\\nSubtask: Compose a 4-sentence poem using the words \\'pool\\', \\'rule\\', \\'fool\\', \\'tool\\', and \\'school\\'\\nIn the school, the golden rule is to never be a fool. Use your mind as a tool, and always follow the pool.\\nIs Task Completed: True\\nFunctions\\nEnhances strict_json() with a function-like interface for repeated use of modular LLM-based functions (or wraps external functions)\\nUse angle brackets <> to enclose input variable names. First input variable name to appear in fn_description will be first input variable and second to appear will be second input variable. For example, fn_description = \\'Adds up two numbers, <var1> and <var2>\\' will result in a function with first input variable var1 and second input variable var2\\n(Optional) If you would like greater specificity in your function\\'s input, you can describe the variable after the : in the input variable name, e.g. <var1: an integer from 10 to 30>. Here, var1 is the input variable and an integer from 10 to 30 is the description.\\n(Optional) If your description of the variable is one of int, float, str, dict, list, array, Dict[], List[], Array[], Enum[], bool, we will enforce type checking when generating the function inputs in get_next_subtask method of the Agent class. Example: <var1: int> Refer to Tutorial 0, Section 3. Type Forcing Output Variables for details.\\nInputs (primary):\\nfn_description: String. Function description to describe process of transforming input variables to output variables. Variables must be enclosed in <> and listed in order of appearance in function input.\\nNew feature: If external_fn is provided and no fn_description is provided, then we will automatically parse out the fn_description based on docstring of external_fn. Only requirement is that the docstring must contain the names of all compulsory input variables\\noutput_format: Dict. Dictionary containing output variables names and description for each variable.\\nInputs (optional):\\nexamples - Dict or List[Dict]. Examples in Dictionary form with the input and output variables (list if more than one)\\nexternal_fn - Python Function. If defined, instead of using LLM to process the function, we will run the external function.\\nIf there are multiple outputs of this function, we will map it to the keys of output_format in a one-to-one fashion'}\n",
      "\n",
      "\u001b[1m\u001b[30mObservation: The text extracted from the GitHub page of TaskGen shows that the repository has 77 stars.\u001b[0m\n",
      "\u001b[1m\u001b[32mThoughts: To determine the number of stars in TaskGen GitHub, we can extract the star count from the text. Since we already have the required information, we can directly provide the answer to the user.\u001b[0m\n",
      "\u001b[1m\u001b[34mSubtask identified: End Task\u001b[0m\n",
      "Task completed successfully!\n",
      "\n"
     ]
    },
    {
     "data": {
      "text/plain": [
       "[{'output_1': 'GitHub - simbianai/taskgen: Task-based Agentic Framework using StrictJSON as the core\\nSkip to content\\nNavigation Menu\\nToggle navigation\\nSign in\\nProduct\\nActions\\nAutomate any workflow\\nPackages\\nHost and manage packages\\nSecurity\\nFind and fix vulnerabilities\\nCodespaces\\nInstant dev environments\\nCopilot\\nWrite better code with AI\\nCode review\\nManage code changes\\nIssues\\nPlan and track work\\nDiscussions\\nCollaborate outside of code\\nExplore\\nAll features\\nDocumentation\\nGitHub Skills\\nBlog\\nSolutions\\nFor\\nEnterprise\\nTeams\\nStartups\\nEducation\\nBy Solution\\nCI/CD & Automation\\nDevOps\\nDevSecOps\\nResources\\nLearning Pathways\\nWhite papers, Ebooks, Webinars\\nCustomer Stories\\nPartners\\nOpen Source\\nGitHub Sponsors\\nFund open source developers\\nThe ReadME Project\\nGitHub community articles\\nRepositories\\nTopics\\nTrending\\nCollections\\nPricing\\nSearch or jump to...\\nSearch code, repositories, users, issues, pull requests...\\nSearch\\nClear\\nSearch syntax tips\\nProvide feedback\\nWe read every piece of feedback, and take your input very seriously.\\nInclude my email address so I can be contacted\\nCancel\\nSubmit feedback\\nSaved searches\\nUse saved searches to filter your results more quickly\\nName\\nQuery\\nTo see all available qualifiers, see our documentation.\\nCancel\\nCreate saved search\\nSign in\\nSign up\\nYou signed in with another tab or window. Reload to refresh your session.\\nYou signed out in another tab or window. Reload to refresh your session.\\nYou switched accounts on another tab or window. Reload to refresh your session.\\nDismiss alert\\nsimbianai\\n/\\ntaskgen\\nPublic\\nNotifications\\nFork\\n11\\nStar\\n77\\nTask-based Agentic Framework using StrictJSON as the core\\nLicense\\nMIT license\\n77\\nstars\\n11\\nforks\\nBranches\\nTags\\nActivity\\nStar\\nNotifications\\nCode\\nIssues\\n3\\nPull requests\\n0\\nActions\\nProjects\\n0\\nSecurity\\nInsights\\nAdditional navigation options\\nCode\\nIssues\\nPull requests\\nActions\\nProjects\\nSecurity\\nInsights\\nsimbianai/taskgen\\nThis commit does not belong to any branch on this repository, and may belong to a fork outside of the repository.\\nmainBranchesTagsGo to fileCodeFolders and filesNameNameLast commit messageLast commit dateLatest commit\\xa0History99 CommitsPaperPaper\\xa0\\xa0contribcontrib\\xa0\\xa0resourcesresources\\xa0\\xa0taskgentaskgen\\xa0\\xa0.example.env.example.env\\xa0\\xa0.gitignore.gitignore\\xa0\\xa0LICENSELICENSE\\xa0\\xa0PyGame_Essay_Creator.ipynbPyGame_Essay_Creator.ipynb\\xa0\\xa0README.mdREADME.md\\xa0\\xa0TaskGen AMA_18May2024.ipynbTaskGen AMA_18May2024.ipynb\\xa0\\xa0Tutorial 0 - StrictJSON.ipynbTutorial 0 - StrictJSON.ipynb\\xa0\\xa0Tutorial 1 - Agent.ipynbTutorial 1 - Agent.ipynb\\xa0\\xa0Tutorial 2 - Hierarchical Agents.ipynbTutorial 2 - Hierarchical Agents.ipynb\\xa0\\xa0Tutorial 3 - Shared Variables.ipynbTutorial 3 - Shared Variables.ipynb\\xa0\\xa0Tutorial 4 - Memory.ipynbTutorial 4 - Memory.ipynb\\xa0\\xa0Tutorial 5 - Additional Context.ipynbTutorial 5 - Additional Context.ipynb\\xa0\\xa0Tutorial 6 - External Function Interfacing.ipynbTutorial 6 - External Function Interfacing.ipynb\\xa0\\xa0changelog.txtchangelog.txt\\xa0\\xa0myagent.pklmyagent.pkl\\xa0\\xa0pyproject.tomlpyproject.toml\\xa0\\xa0requirements.txtrequirements.txt\\xa0\\xa0setup.pysetup.py\\xa0\\xa0View all filesRepository files navigationREADMEMIT licenseTaskGen v2.3.0\\nA Task-based agentic framework building on StrictJSON outputs by LLM agents\\nRelated Repositories: StrictJSON (https://github.com/tanchongmin/strictjson)\\nVideo (Part 1): https://www.youtube.com/watch?v=O_XyTT7QGH4\\nVideo (Part 2): https://www.youtube.com/watch?v=OWk7moRfTPE\\nTaskGen Ask Me Anything: https://www.youtube.com/watch?v=mheIWKugqF4\\nCreator\\'s Preamble\\nHappy to share that the task-based agentic framework I have been working on - TaskGen - is largely complete!\\nNoteable features include:\\nSplitting of Tasks into subtasks for bite-sized solutions for each subtask\\nSingle Agent with LLM Functions\\nSingle Agent with External Functions\\nMeta Agent with Inner Agents as Functions\\nShared Variables for multi-modality support\\nRetrieval Augmented Generation (RAG) over Function space\\nMemory to provide additional task-based prompts for task\\nGlobal Context for configuring your own prompts + add persistent variables\\nI am quite sure that this is the best open-source agentic framework for task-based execution out there!\\nExisting frameworks like AutoGen rely too much on conversational text which is lengthy and not targeted.\\nTaskGen uses StrictJSON (JSON parser with type checking and more!) as the core, and agents are efficient and are able to do Chain of Thought natively using JSON keys and descriptions as a guide.\\nWhat can you do to help:\\nStar the github so more people can use it (It\\'s open source and free to use, even commercially!)\\nContribute your favourite external function integrations so that it can be much more boilerplate for others to use :)\\nContribute template Jupyter Notebooks for your favourite use cases :)\\nI can\\'t wait to see what this new framework can do for you!\\nBenefits of JSON messaging over agentic frameworks using conversational free-text like AutoGen\\nJSON format helps do Chain-of-Thought prompting naturally and is less verbose than free text\\nJSON format allows natural parsing of multiple output fields by agents\\nStrictJSON helps to ensure all output fields are there and of the right format required for downstream processing\\nTutorials and Community Support\\nCreated: 17 Feb 2024 by John Tan Chong Min\\nCollaborators welcome\\nDiscussion Channel (my discord - John\\'s AI Group): https://discord.gg/bzp87AHJy5\\nHow do I use this?\\nDownload package via command line pip install taskgen-ai\\nSet up your OpenAPI API Key\\nImport the required functions from taskgen and use them!\\nDifferences in LLM for Agentic Framework\\nChatGPT (gpt-3.5-turbo) is consistent only if you specify very clearly what you want the Agent to do and give examples of what you want\\ngpt-4-turbo and more advanced models can perform better zero-shot without much examples\\nTaskGen is compatible with ChatGPT and similar models, but for more robust use, consider using gpt-4-turbo and better models\\nAgent Basics - See Tutorial 1\\nCreate an agent by entering your agent\\'s name and description\\nAgents are task-based, so they will help generate subtasks to fulfil your main task\\nAgents are made to be non-verbose, so they will just focus only on task instruction (Much more efficient compared to conversational-based agentic frameworks like AutoGen)\\nExample Agent Creation\\nmy_agent = Agent(\\'Helpful assistant\\', \\'You are a generalist agent\\')\\nExample Agent Task Running - Split the assigned task into subtasks and execute each of them\\n# Run your agent\\noutput = my_agent.run(\\'Give me 5 words rhyming with cool, and make a 4-sentence poem using them\\')\\nSubtask identified: Find 5 words that rhyme with \\'cool\\'\\nGetting LLM to perform the following task: Find 5 words that rhyme with \\'cool\\'\\npool, rule, fool, tool, school\\nSubtask identified: Compose a 4-sentence poem using the words \\'pool\\', \\'rule\\', \\'fool\\', \\'tool\\', and \\'school\\'\\nGetting LLM to perform the following task: Compose a 4-sentence poem using the words \\'pool\\', \\'rule\\', \\'fool\\', \\'tool\\', and \\'school\\'\\nIn the school, the golden rule is to never be a fool. Use your mind as a tool, and always follow the pool.\\nTask completed successfully!\\nExample Agent Reply to User - Reference the subtasks\\' output to answer the user\\'s query\\noutput = my_agent.reply_user()\\nHere are 5 words that rhyme with \"cool\": pool, rule, fool, tool, school. Here is a 4-sentence poem using these words: \"In the school, the golden rule is to never be a fool. Use your mind as a tool, and always follow the pool.\"\\nCheck Agent\\'s Status\\nmy_agent.status()\\nAgent Name: Helpful assistant\\nAgent Description: You are a generalist agent\\nAvailable Functions: [\\'use_llm\\', \\'end_task\\']\\nTask: Give me 5 words rhyming with cool, and make a 4-sentence poem using them\\nSubtasks Completed:\\nSubtask: Find 5 words that rhyme with \\'cool\\'\\npool, rule, fool, tool, school\\nSubtask: Compose a 4-sentence poem using the words \\'pool\\', \\'rule\\', \\'fool\\', \\'tool\\', and \\'school\\'\\nIn the school, the golden rule is to never be a fool. Use your mind as a tool, and always follow the pool.\\nIs Task Completed: True\\nFunctions\\nEnhances strict_json() with a function-like interface for repeated use of modular LLM-based functions (or wraps external functions)\\nUse angle brackets <> to enclose input variable names. First input variable name to appear in fn_description will be first input variable and second to appear will be second input variable. For example, fn_description = \\'Adds up two numbers, <var1> and <var2>\\' will result in a function with first input variable var1 and second input variable var2\\n(Optional) If you would like greater specificity in your function\\'s input, you can describe the variable after the : in the input variable name, e.g. <var1: an integer from 10 to 30>. Here, var1 is the input variable and an integer from 10 to 30 is the description.\\n(Optional) If your description of the variable is one of int, float, str, dict, list, array, Dict[], List[], Array[], Enum[], bool, we will enforce type checking when generating the function inputs in get_next_subtask method of the Agent class. Example: <var1: int> Refer to Tutorial 0, Section 3. Type Forcing Output Variables for details.\\nInputs (primary):\\nfn_description: String. Function description to describe process of transforming input variables to output variables. Variables must be enclosed in <> and listed in order of appearance in function input.\\nNew feature: If external_fn is provided and no fn_description is provided, then we will automatically parse out the fn_description based on docstring of external_fn. Only requirement is that the docstring must contain the names of all compulsory input variables\\noutput_format: Dict. Dictionary containing output variables names and description for each variable.\\nInputs (optional):\\nexamples - Dict or List[Dict]. Examples in Dictionary form with the input and output variables (list if more than one)\\nexternal_fn - Python Function. If defined, instead of using LLM to process the function, we will run the external function.\\nIf there are multiple outputs of this function, we will map it to the keys of output_format in a one-to-one fashion'}]"
      ]
     },
     "execution_count": 778,
     "metadata": {},
     "output_type": "execute_result"
    }
   ],
   "source": [
    "agent.reset()\n",
    "agent.run('What are the number of stars in TaskGen GitHub? (https://github.com/simbianai/taskgen)')"
   ]
  },
  {
   "cell_type": "code",
   "execution_count": 779,
   "id": "d40a5ef6-9ba7-44ff-981b-dae6a5389ad4",
   "metadata": {
    "tags": []
   },
   "outputs": [
    {
     "name": "stdout",
     "output_type": "stream",
     "text": [
      "The number of stars in TaskGen GitHub is 77.\n"
     ]
    },
    {
     "data": {
      "text/plain": [
       "'The number of stars in TaskGen GitHub is 77.'"
      ]
     },
     "execution_count": 779,
     "metadata": {},
     "output_type": "execute_result"
    }
   ],
   "source": [
    "agent.reply_user()"
   ]
  },
  {
   "cell_type": "markdown",
   "id": "eda84665-304f-4e22-94d9-dab271d909a1",
   "metadata": {
    "tags": []
   },
   "source": [
    "# LlamaIndex Function Interface with TaskGen\n",
    "- If User defines a function in LlamaIndex, simply just add <fn_name>.fn to TaskGen Agent\n",
    "- TODO: Add structure for other kinds of functions in LlamaIndex"
   ]
  },
  {
   "cell_type": "code",
   "execution_count": 332,
   "id": "cd7cad1e-abe9-4f13-9478-ccabd02338e4",
   "metadata": {
    "tags": []
   },
   "outputs": [],
   "source": [
    "from llama_index.core.tools import FunctionTool\n",
    "\n",
    "def get_weather(location: str) -> str:\n",
    "    \"\"\"Usfeful for getting the weather for a given location.\"\"\"\n",
    "    return 'Sunny'\n",
    "    ...\n",
    "\n",
    "tool = FunctionTool.from_defaults(\n",
    "    get_weather,\n",
    "    # async_fn=aget_weather,  # optional!\n",
    ")"
   ]
  },
  {
   "cell_type": "code",
   "execution_count": 333,
   "id": "a5dbfa06-9849-4864-b775-094bcf98e401",
   "metadata": {
    "tags": []
   },
   "outputs": [],
   "source": [
    "agent = Agent('Weather Agent', 'Returns the Weather').assign_functions(tool.fn)"
   ]
  },
  {
   "cell_type": "code",
   "execution_count": 334,
   "id": "366387df-b36c-44a1-b45a-fa6cd2b58fa0",
   "metadata": {
    "tags": []
   },
   "outputs": [
    {
     "data": {
      "text/plain": [
       "[\"Name: use_llm\\nDescription: For general tasks. Used only when no other function can do the task\\nInput: []\\nOutput: {'Output': 'Output of LLM'}\\n\",\n",
       " 'Name: end_task\\nDescription: Use only after task is completed\\nInput: []\\nOutput: {}\\n',\n",
       " \"Name: get_weather\\nDescription: Usfeful for getting the weather for a given <location: str>.\\nInput: ['location']\\nOutput: {'output_1': 'str'}\\n\"]"
      ]
     },
     "execution_count": 334,
     "metadata": {},
     "output_type": "execute_result"
    }
   ],
   "source": [
    "agent.list_functions()"
   ]
  },
  {
   "cell_type": "code",
   "execution_count": 335,
   "id": "29544561-a87c-4190-ad87-9d9f4c3cb235",
   "metadata": {
    "tags": []
   },
   "outputs": [
    {
     "name": "stdout",
     "output_type": "stream",
     "text": [
      "\u001b[1m\u001b[30mObservation: No subtasks completed yet\u001b[0m\n",
      "\u001b[1m\u001b[32mThoughts: Since no subtasks have been completed yet, the first step would be to use the get_weather function to retrieve the weather information for the specified location, which in this case is Miami.\u001b[0m\n",
      "\u001b[1m\u001b[34mSubtask identified: Retrieve the weather information for Miami\u001b[0m\n",
      "Calling function get_weather with parameters {'location': 'Miami'}\n",
      "> {'output_1': 'Sunny'}\n",
      "\n",
      "\u001b[1m\u001b[30mObservation: The weather information for Miami has been retrieved successfully (Sunny).\u001b[0m\n",
      "\u001b[1m\u001b[32mThoughts: Since the weather information for Miami has been obtained, the next step is to end the task.\u001b[0m\n",
      "\u001b[1m\u001b[34mSubtask identified: End Task\u001b[0m\n",
      "Task completed successfully!\n",
      "\n"
     ]
    },
    {
     "data": {
      "text/plain": [
       "[{'output_1': 'Sunny'}]"
      ]
     },
     "execution_count": 335,
     "metadata": {},
     "output_type": "execute_result"
    }
   ],
   "source": [
    "agent.run('What is the weather in Miami?')"
   ]
  }
 ],
 "metadata": {
  "kernelspec": {
   "display_name": "Python 3 (ipykernel)",
   "language": "python",
   "name": "python3"
  },
  "language_info": {
   "codemirror_mode": {
    "name": "ipython",
    "version": 3
   },
   "file_extension": ".py",
   "mimetype": "text/x-python",
   "name": "python",
   "nbconvert_exporter": "python",
   "pygments_lexer": "ipython3",
   "version": "3.11.3"
  }
 },
 "nbformat": 4,
 "nbformat_minor": 5
}
