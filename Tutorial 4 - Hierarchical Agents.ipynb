{
 "cells": [
  {
   "cell_type": "markdown",
   "id": "2fa1e388-b8f4-4fa3-be5a-ba7c6caae038",
   "metadata": {
    "tags": []
   },
   "source": [
    "# Tutorial 4 - Hierarchical Agents\n",
    "\n",
    "## Functionalities:\n",
    "- An agent (referred as meta agent) can also assign other agents (referred as inner agents) as the function call, thereby creating a hierarchical structure\n",
    "- Whenever the inner agent is called, we will run the full inner agent's process until termination\n",
    "- Maximum number of steps for each agent (meta agent or inner agent) can be defined in `max_subtasks` (default: 5) variable when initialising agent\n",
    "\n",
    "## Additional Details:\n",
    "- The inner agent will take in meta agent's instruction as input\n",
    "- In addition, the inner agent will also have access to meta agent's task and subtasks completed for global context\n",
    "- Inner agent's output will directly go into meta agent's subtasks completed dictionary, enabling it to directly update global context\n",
    "\n",
    "## Design Philosophy:\n",
    "- Bottom layers can get context of the top layers for more context-specific generation\n",
    "- Top layers choose bottom layers in a hierarchical fashion so as to limit the number of choices at each level for better performance\n",
    "- `subtasks_completed` serves as the global context for the meta agents and the inner agents, and can be summarised as needed, e.g. when performing a new task to filter out irrelevant information "
   ]
  },
  {
   "cell_type": "markdown",
   "id": "0b305952-5ff3-4235-8ae0-c23f36b78aa2",
   "metadata": {},
   "source": [
    "# Setup Guide"
   ]
  },
  {
   "cell_type": "markdown",
   "id": "666ab955-7060-4581-8539-95eff8b339dc",
   "metadata": {},
   "source": [
    "## Step 1: Install TaskGen"
   ]
  },
  {
   "cell_type": "code",
   "execution_count": 1,
   "id": "f542fc42-e84d-4302-9eda-d053815ea316",
   "metadata": {
    "tags": []
   },
   "outputs": [],
   "source": [
    "# !pip install taskgen-ai"
   ]
  },
  {
   "cell_type": "markdown",
   "id": "c6615712-c0a3-4e26-94f6-02878ae242cb",
   "metadata": {},
   "source": [
    "## Step 2: Import required functions and setup relevant API keys for your LLM"
   ]
  },
  {
   "cell_type": "code",
   "execution_count": 2,
   "id": "511f92ac-633a-46e4-ad1f-5db04c4b8674",
   "metadata": {
    "tags": []
   },
   "outputs": [],
   "source": [
    "# Set up API key and do the necessary imports\n",
    "from taskgen import *\n",
    "import os\n",
    "\n",
    "# this is only if you use OpenAI as your LLM\n",
    "os.environ['OPENAI_API_KEY'] = '<YOUR API KEY HERE>'"
   ]
  },
  {
   "cell_type": "markdown",
   "id": "4107c095-7879-49c9-8b80-894078202b08",
   "metadata": {},
   "source": [
    "## Step 3: Define your own LLM\n",
    "- Take in a `system_prompt`, `user_prompt`, and outputs llm response string"
   ]
  },
  {
   "cell_type": "code",
   "execution_count": 3,
   "id": "1a34fa2d-4339-47ad-a0b0-098d653b9f5c",
   "metadata": {
    "tags": []
   },
   "outputs": [],
   "source": [
    "def llm(system_prompt: str, user_prompt: str) -> str:\n",
    "    ''' Here, we use OpenAI for illustration, you can change it to your own LLM '''\n",
    "    # ensure your LLM imports are all within this function\n",
    "    from openai import OpenAI\n",
    "    \n",
    "    # define your own LLM here\n",
    "    client = OpenAI()\n",
    "    response = client.chat.completions.create(\n",
    "        model='gpt-4o-mini',\n",
    "        temperature = 0,\n",
    "        messages=[\n",
    "            {\"role\": \"system\", \"content\": system_prompt},\n",
    "            {\"role\": \"user\", \"content\": user_prompt}\n",
    "        ]\n",
    "    )\n",
    "    return response.choices[0].message.content"
   ]
  },
  {
   "cell_type": "code",
   "execution_count": 4,
   "id": "4019a53b-da17-4971-ba8a-3d10294600ef",
   "metadata": {
    "tags": []
   },
   "outputs": [
    {
     "data": {
      "text/plain": [
       "'Neutral'"
      ]
     },
     "execution_count": 4,
     "metadata": {},
     "output_type": "execute_result"
    }
   ],
   "source": [
    "# Verify that llm function is working\n",
    "llm(system_prompt = 'You are a classifier to classify the sentiment of a sentence', \n",
    "    user_prompt = 'It is a hot and sunny day')"
   ]
  },
  {
   "cell_type": "markdown",
   "id": "d485cc60-ad94-49ad-8a2d-204368a7065d",
   "metadata": {},
   "source": [
    "# Define Agents and Meta Agents\n",
    "- You can also create a Meta Agent that uses other Agents (referred to as Inner Agents) as functions\n",
    "- Create your Meta agent using `Agent()` (Note: No different from usual process of creating Agents - your Meta Agent is also an Agent)\n",
    "- Set up an Inner Agent list and assign it to your Meta agent using `assign_agents(agent_list)`\n",
    "\n",
    "## Example Meta Agent Setup\n",
    "```python\n",
    "# Define your meta-agent\n",
    "my_agent = Agent('Menu Creator', \n",
    "                 'Creates a menu for a restaurant. Menu item includes Name, Description, Ingredients, Pricing.',\n",
    "                 llm = llm)\n",
    "\n",
    "# Define your agent list. Note you can just assign functions to the agent in place using .assign_functions(function_list)\n",
    "agent_list = [\n",
    "    Agent('Chef', 'Takes in dish names and generates ingredients for each of them. Does not generate prices.', llm = llm),\n",
    "    Agent('Boss', 'Makes decision on which items to include in menu.', llm = llm),\n",
    "    Agent('Creative Writer', 'Takes in a cuisine type and generates interesting dish names and descriptions.', max_subtasks = 2, llm = llm),\n",
    "    Agent('Economist', 'Takes in dish names and comes up with pricing for each of them', llm = llm).assign_functions([fp])\n",
    "    ]\n",
    "\n",
    "my_agent.assign_agents(agent_list)\n",
    "```\n",
    "\n",
    "## Run the Meta Agent\n",
    "- Let us run the agent and see the interactions between the Meta Agent and Inner Agents to solve the task!\n",
    "```python\n",
    "output = my_agent.run('Generate 5 menu items with name, description, ingredients and price based on Italian food choices. Ensure all parts of menu are generated.')\n",
    "```"
   ]
  },
  {
   "cell_type": "code",
   "execution_count": 5,
   "id": "1f2304be-b9fa-4292-b20f-2ac6c6909015",
   "metadata": {
    "tags": []
   },
   "outputs": [],
   "source": [
    "def random_number_from_string(input_string) -> int:\n",
    "    ''' Returns a random number between 1 and 10 when given an input string '''\n",
    "    import hashlib\n",
    "    import random\n",
    "    # Hash the input string\n",
    "    hashed_string = hashlib.sha256(input_string.encode()).hexdigest()\n",
    "    \n",
    "    # Convert the hashed string to an integer\n",
    "    hashed_integer = int(hashed_string, 16)\n",
    "    \n",
    "    # Seed the random number generator with the hashed integer\n",
    "    random.seed(hashed_integer)\n",
    "    \n",
    "    # Generate a random number between 1 and 10\n",
    "    return random.randint(1, 10)"
   ]
  },
  {
   "cell_type": "code",
   "execution_count": 6,
   "id": "7222e82b-e030-4494-894d-41a61370c747",
   "metadata": {
    "tags": []
   },
   "outputs": [],
   "source": [
    "# assign a dish pricing function for economist\n",
    "# Note: Try to make the output informative that is understandable by the Agent - use free text or json to explain the output so that someone can understand without the input\n",
    "def dish_price(list_of_dish_names: list) -> dict:\n",
    "    ''' Takes in list_of_dish_names and outputs price of each dish '''\n",
    "    if not isinstance(list_of_dish_names, list):\n",
    "        list_of_food_items = [list_of_dish_names]\n",
    "    output = {}\n",
    "    for each in list_of_dish_names:\n",
    "        output[each] = '$'+str(random_number_from_string(each))\n",
    "    return output"
   ]
  },
  {
   "cell_type": "code",
   "execution_count": 7,
   "id": "fc770857-5ca0-43a1-a72f-5df7a97f7c02",
   "metadata": {
    "tags": []
   },
   "outputs": [],
   "source": [
    "# Define your meta-agent\n",
    "my_agent = Agent('Menu Creator', \n",
    "                 'Creates a menu for a restaurant. Menu item includes Name, Description, Ingredients, Pricing.',\n",
    "                 llm = llm)"
   ]
  },
  {
   "cell_type": "code",
   "execution_count": 8,
   "id": "7302c9ec-6e27-40c0-8a3c-3cd350964027",
   "metadata": {
    "jp-MarkdownHeadingCollapsed": true,
    "tags": []
   },
   "outputs": [],
   "source": [
    "# Define your agent list. Note you can just assign functions to the agent in place using .assign_functions(function_list)\n",
    "agent_list = [\n",
    "    Agent('Chef', 'Takes in dish names and generates ingredients for each of them. Does not generate prices.', llm = llm),\n",
    "    Agent('Boss', 'Makes decisions on which items to include in Menu', llm = llm),\n",
    "    Agent('Creative Writer', 'Takes in a cuisine type and generates interesting dish names and descriptions. Does not generate prices or ingredients.', \n",
    "          max_subtasks = 1, llm = llm),\n",
    "    Agent('Economist', 'Takes in dish names and comes up with pricing for each of them', llm = llm).assign_functions([dish_price])\n",
    "    ]"
   ]
  },
  {
   "cell_type": "code",
   "execution_count": 9,
   "id": "d4e9c84e-0ffa-4450-9522-6e21d86bad29",
   "metadata": {
    "tags": []
   },
   "outputs": [
    {
     "data": {
      "text/plain": [
       "<taskgen.agent.Agent at 0x126d9bfd0>"
      ]
     },
     "execution_count": 9,
     "metadata": {},
     "output_type": "execute_result"
    }
   ],
   "source": [
    "my_agent.assign_agents(agent_list)"
   ]
  },
  {
   "cell_type": "markdown",
   "id": "b3a63cf7-0c50-4c6d-993a-8cee1de738d9",
   "metadata": {},
   "source": [
    "# Approach 1: Run a generic task with the Meta-Agent\n",
    "- Let us run a general task to create 5 menu items for an Italian restaurant\n",
    "- You can also specify how Agents interact with one another in the task, otherwise the Meta-Agent will infer what should be done"
   ]
  },
  {
   "cell_type": "code",
   "execution_count": 10,
   "id": "4aabd0c2-6470-43e1-b476-d77e2c85c0bb",
   "metadata": {
    "tags": []
   },
   "outputs": [
    {
     "name": "stdout",
     "output_type": "stream",
     "text": [
      "\u001b[1m\u001b[30mObservation: No subtasks have been completed yet for the assigned task of generating 5 menu items based on Italian food choices.\u001b[0m\n",
      "\u001b[1m\u001b[32mThoughts: To complete the assigned task, I need to first generate interesting dish names and descriptions for Italian cuisine. After that, I will need to generate the ingredients for each dish and finally determine the pricing.\u001b[0m\n",
      "\u001b[1m\u001b[34mSubtask identified: Generate interesting dish names and descriptions for 5 Italian menu items.\u001b[0m\n",
      "Calling function Creative Writer with parameters {'instruction': 'Generate interesting dish names and descriptions for 5 Italian menu items.'}\n",
      "\n",
      "### Start of Inner Agent: Creative Writer ###\n",
      "\u001b[1m\u001b[30mObservation: No subtasks have been completed yet for generating interesting dish names and descriptions for Italian menu items.\u001b[0m\n",
      "\u001b[1m\u001b[32mThoughts: To complete the assigned task, I need to generate creative and appealing dish names along with their descriptions that reflect Italian cuisine. I can utilize the general function to create these names and descriptions.\u001b[0m\n",
      "\u001b[1m\u001b[34mSubtask identified: Use the equipped function to generate interesting dish names and descriptions for 5 Italian menu items.\u001b[0m\n",
      "Getting LLM to perform the following task: Use the equipped function to generate interesting dish names and descriptions for 5 Italian menu items.\n",
      "> 1. **Trattoria di Sogni**: A whimsical pasta dish that combines hand-rolled fettuccine with a rich, creamy truffle sauce, topped with a sprinkle of aged Parmigiano-Reggiano and a drizzle of fragrant white truffle oil. Each bite transports you to a cozy Italian trattoria, where dreams are made of pasta.\n",
      "\n",
      "2. **Sole di Napoli**: A vibrant seafood medley featuring pan-seared sole fillets, nestled on a bed of saffron-infused risotto. Garnished with fresh cherry tomatoes and a hint of lemon zest, this dish captures the essence of the sun-kissed Amalfi Coast.\n",
      "\n",
      "3. **Fior di Latte Fantasia**: A delightful twist on the classic Margherita pizza, this creation boasts a fluffy, wood-fired crust topped with creamy fior di latte cheese, heirloom tomatoes, and a sprinkle of fresh basil. Each slice is a celebration of summer flavors, perfect for sharing with friends.\n",
      "\n",
      "4. **Pollo al Limone Serenata**: Tender chicken breasts marinated in a zesty lemon and herb blend, grilled to perfection and served with a side of roasted seasonal vegetables. This dish sings with the bright notes of Mediterranean sunshine, making it a refreshing choice for any meal.\n",
      "\n",
      "5. **Dolce di Ricotta e Miele**: A heavenly dessert featuring a light ricotta cheesecake drizzled with wildflower honey and topped with a medley of seasonal berries. This sweet finale is a perfect way to end your Italian dining experience, leaving you with a taste of sweetness and satisfaction.\n",
      "\n",
      "\u001b[1m\u001b[35m###\n",
      "Reply from Creative Writer to Menu Creator:\n",
      "1. **Trattoria di Sogni**: A whimsical pasta dish that combines hand-rolled fettuccine with a rich, creamy truffle sauce, topped with a sprinkle of aged Parmigiano-Reggiano and a drizzle of fragrant white truffle oil. Each bite transports you to a cozy Italian trattoria, where dreams are made of pasta.\n",
      "\n",
      "2. **Sole di Napoli**: A vibrant seafood medley featuring pan-seared sole fillets, nestled on a bed of saffron-infused risotto. Garnished with fresh cherry tomatoes and a hint of lemon zest, this dish captures the essence of the sun-kissed Amalfi Coast.\n",
      "\n",
      "3. **Fior di Latte Fantasia**: A delightful twist on the classic Margherita pizza, this creation boasts a fluffy, wood-fired crust topped with creamy fior di latte cheese, heirloom tomatoes, and a sprinkle of fresh basil. Each slice is a celebration of summer flavors, perfect for sharing with friends.\n",
      "\n",
      "4. **Pollo al Limone Serenata**: Tender chicken breasts marinated in a zesty lemon and herb blend, grilled to perfection and served with a side of roasted seasonal vegetables. This dish sings with the bright notes of Mediterranean sunshine, making it a refreshing choice for any meal.\n",
      "\n",
      "5. **Dolce di Ricotta e Miele**: A heavenly dessert featuring a light ricotta cheesecake drizzled with wildflower honey and topped with a medley of seasonal berries. This sweet finale is a perfect way to end your Italian dining experience, leaving you with a taste of sweetness and satisfaction.\n",
      "###\n",
      "\u001b[0m\n",
      "### End of Inner Agent: Creative Writer ###\n",
      "\n",
      "\u001b[1m\u001b[30mObservation: The Creative Writer has successfully generated interesting dish names and descriptions for 5 Italian menu items.\u001b[0m\n",
      "\u001b[1m\u001b[32mThoughts: Next, I need to generate the ingredients for each of the 5 menu items. Since the dish names and descriptions are already created, I can use the Chef function to generate the necessary ingredients for each dish.\u001b[0m\n",
      "\u001b[1m\u001b[34mSubtask identified: Use the Chef function to generate ingredients for the 5 Italian menu items based on the names provided.\u001b[0m\n",
      "Calling function Chef with parameters {'instruction': 'Use the Chef function to generate ingredients for the 5 Italian menu items based on the names provided.'}\n",
      "\n",
      "### Start of Inner Agent: Chef ###\n",
      "\u001b[1m\u001b[30mObservation: The dish names and descriptions for 5 Italian menu items have been creatively generated, but no ingredients have been provided yet.\u001b[0m\n",
      "\u001b[1m\u001b[32mThoughts: To complete the Assigned Task, I need to generate the ingredients for each of the 5 Italian menu items based on their names.\u001b[0m\n",
      "\u001b[1m\u001b[34mSubtask identified: Generate the ingredients for the following dishes: Trattoria di Sogni, Sole di Napoli, Fior di Latte Fantasia, Pollo al Limone Serenata, and Dolce di Ricotta e Miele.\u001b[0m\n",
      "Getting LLM to perform the following task: Generate the ingredients for the following dishes: Trattoria di Sogni, Sole di Napoli, Fior di Latte Fantasia, Pollo al Limone Serenata, and Dolce di Ricotta e Miele.\n",
      "> 1. **Trattoria di Sogni**: Ingredients include hand-rolled fettuccine, heavy cream, truffle oil, aged Parmigiano-Reggiano, fresh black truffles, garlic, and parsley.\n",
      "\n",
      "2. **Sole di Napoli**: Ingredients consist of sole fillets, saffron, Arborio rice, vegetable broth, cherry tomatoes, lemon zest, olive oil, and fresh basil.\n",
      "\n",
      "3. **Fior di Latte Fantasia**: Ingredients feature wood-fired pizza dough, fior di latte cheese, heirloom tomatoes, fresh basil, olive oil, and sea salt.\n",
      "\n",
      "4. **Pollo al Limone Serenata**: Ingredients include chicken breasts, lemon juice, olive oil, garlic, fresh herbs (such as rosemary and thyme), seasonal vegetables (like zucchini and bell peppers), and salt.\n",
      "\n",
      "5. **Dolce di Ricotta e Miele**: Ingredients comprise ricotta cheese, wildflower honey, graham cracker crust, eggs, vanilla extract, and a mix of seasonal berries (such as strawberries, blueberries, and raspberries).\n",
      "\n",
      "\u001b[1m\u001b[30mObservation: The ingredients for the 5 Italian menu items have been successfully generated, including Trattoria di Sogni, Sole di Napoli, Fior di Latte Fantasia, Pollo al Limone Serenata, and Dolce di Ricotta e Miele.\u001b[0m\n",
      "\u001b[1m\u001b[32mThoughts: Since all ingredients have been generated, the next step is to finalize the task and provide the complete output to the user.\u001b[0m\n",
      "\u001b[1m\u001b[34mSubtask identified: End Task\u001b[0m\n",
      "Task completed successfully!\n",
      "\n",
      "\u001b[1m\u001b[35m###\n",
      "Reply from Chef to Menu Creator:\n",
      "1. **Trattoria di Sogni**: Ingredients include hand-rolled fettuccine, heavy cream, truffle oil, aged Parmigiano-Reggiano, fresh black truffles, garlic, and parsley.\n",
      "\n",
      "2. **Sole di Napoli**: Ingredients consist of sole fillets, saffron, Arborio rice, vegetable broth, cherry tomatoes, lemon zest, olive oil, and fresh basil.\n",
      "\n",
      "3. **Fior di Latte Fantasia**: Ingredients feature wood-fired pizza dough, fior di latte cheese, heirloom tomatoes, fresh basil, olive oil, and sea salt.\n",
      "\n",
      "4. **Pollo al Limone Serenata**: Ingredients include chicken breasts, lemon juice, olive oil, garlic, fresh herbs (such as rosemary and thyme), seasonal vegetables (like zucchini and bell peppers), and salt.\n",
      "\n",
      "5. **Dolce di Ricotta e Miele**: Ingredients comprise ricotta cheese, wildflower honey, graham cracker crust, eggs, vanilla extract, and a mix of seasonal berries (such as strawberries, blueberries, and raspberries).\n",
      "###\n",
      "\u001b[0m\n",
      "### End of Inner Agent: Chef ###\n",
      "\n",
      "\u001b[1m\u001b[30mObservation: The dish names and descriptions have been successfully generated for 5 Italian menu items, and the ingredients for each dish have also been provided.\u001b[0m\n",
      "\u001b[1m\u001b[32mThoughts: The next step is to determine the pricing for each of the 5 menu items based on the ingredients and dish names provided. This can be done by using the Economist function to generate appropriate prices.\u001b[0m\n",
      "\u001b[1m\u001b[34mSubtask identified: Use the Economist function to generate pricing for the 5 Italian menu items based on their names.\u001b[0m\n",
      "Calling function Economist with parameters {'instruction': 'Use the Economist function to generate pricing for the 5 Italian menu items based on their names.'}\n",
      "\n",
      "### Start of Inner Agent: Economist ###\n",
      "\u001b[1m\u001b[30mObservation: No subtasks have been completed yet for the assigned task of generating pricing for the 5 Italian menu items.\u001b[0m\n",
      "\u001b[1m\u001b[32mThoughts: To complete the assigned task, I need to use the dish names generated in the previous subtasks to determine appropriate pricing for each dish.\u001b[0m\n",
      "\u001b[1m\u001b[34mSubtask identified: Use the dish_price function to input the list of dish names and generate the corresponding prices for each of the 5 Italian menu items.\u001b[0m\n",
      "Calling function dish_price with parameters {'list_of_dish_names': ['Trattoria di Sogni', 'Sole di Napoli', 'Fior di Latte Fantasia', 'Pollo al Limone Serenata', 'Dolce di Ricotta e Miele']}\n",
      "> {'output_1': {'Trattoria di Sogni': '$6', 'Sole di Napoli': '$8', 'Fior di Latte Fantasia': '$6', 'Pollo al Limone Serenata': '$10', 'Dolce di Ricotta e Miele': '$1'}}\n",
      "\n",
      "\u001b[1m\u001b[30mObservation: The pricing for the 5 Italian menu items has been successfully generated, with each dish assigned a price: Trattoria di Sogni: $6, Sole di Napoli: $8, Fior di Latte Fantasia: $6, Pollo al Limone Serenata: $10, and Dolce di Ricotta e Miele: $1.\u001b[0m\n",
      "\u001b[1m\u001b[32mThoughts: Since the pricing has already been completed for all the dishes, the next step is to finalize the output and present it to the user.\u001b[0m\n",
      "\u001b[1m\u001b[34mSubtask identified: End Task\u001b[0m\n",
      "Task completed successfully!\n",
      "\n",
      "\u001b[1m\u001b[35m###\n",
      "Reply from Economist to Menu Creator:\n",
      "The pricing for the 5 Italian menu items based on their names is as follows:\n",
      "\n",
      "1. **Trattoria di Sogni**: $6\n",
      "2. **Sole di Napoli**: $8\n",
      "3. **Fior di Latte Fantasia**: $6\n",
      "4. **Pollo al Limone Serenata**: $10\n",
      "5. **Dolce di Ricotta e Miele**: $1\n",
      "\n",
      "These prices reflect the value of the ingredients and the culinary experience associated with each dish.\n",
      "###\n",
      "\u001b[0m\n",
      "### End of Inner Agent: Economist ###\n",
      "\n",
      "\u001b[1m\u001b[30mObservation: The menu items have been creatively named and described, and the ingredients for each dish have been generated. Additionally, pricing for each item has been established.\u001b[0m\n",
      "\u001b[1m\u001b[32mThoughts: The next step is to compile all the information into a structured menu format that includes the name, description, ingredients, and pricing for each of the five Italian dishes.\u001b[0m\n",
      "\u001b[1m\u001b[34mSubtask identified: End Task\u001b[0m\n",
      "Task completed successfully!\n",
      "\n"
     ]
    }
   ],
   "source": [
    "output = my_agent.run('Generate 5 menu items with name, description, ingredients and price based on Italian food choices. Output in Menu format.')"
   ]
  },
  {
   "cell_type": "code",
   "execution_count": 11,
   "id": "5a4a96d3-2580-4989-8e3b-f240d1f12190",
   "metadata": {
    "tags": []
   },
   "outputs": [
    {
     "name": "stdout",
     "output_type": "stream",
     "text": [
      "Agent Name: Menu Creator\n",
      "Agent Description: Creates a menu for a restaurant. Menu item includes Name, Description, Ingredients, Pricing.\n",
      "Available Functions: ['use_llm', 'end_task', 'Chef', 'Boss', 'Creative Writer', 'Economist']\n",
      "Shared Variables: ['agent']\n",
      "\u001b[1m\u001b[32mTask: Generate 5 menu items with name, description, ingredients and price based on Italian food choices. Output in Menu format.\u001b[0m\n",
      "\u001b[1m\u001b[30mSubtasks Completed:\u001b[0m\n",
      "\u001b[1m\u001b[34mSubtask: Creative Writer(instruction=\"Generate interesting dish names and descriptions for 5 Italian menu items.\")\u001b[0m\n",
      "{'Agent Output': '1. **Trattoria di Sogni**: A whimsical pasta dish that combines hand-rolled fettuccine with a rich, creamy truffle sauce, topped with a sprinkle of aged Parmigiano-Reggiano and a drizzle of fragrant white truffle oil. Each bite transports you to a cozy Italian trattoria, where dreams are made of pasta.\\n\\n2. **Sole di Napoli**: A vibrant seafood medley featuring pan-seared sole fillets, nestled on a bed of saffron-infused risotto. Garnished with fresh cherry tomatoes and a hint of lemon zest, this dish captures the essence of the sun-kissed Amalfi Coast.\\n\\n3. **Fior di Latte Fantasia**: A delightful twist on the classic Margherita pizza, this creation boasts a fluffy, wood-fired crust topped with creamy fior di latte cheese, heirloom tomatoes, and a sprinkle of fresh basil. Each slice is a celebration of summer flavors, perfect for sharing with friends.\\n\\n4. **Pollo al Limone Serenata**: Tender chicken breasts marinated in a zesty lemon and herb blend, grilled to perfection and served with a side of roasted seasonal vegetables. This dish sings with the bright notes of Mediterranean sunshine, making it a refreshing choice for any meal.\\n\\n5. **Dolce di Ricotta e Miele**: A heavenly dessert featuring a light ricotta cheesecake drizzled with wildflower honey and topped with a medley of seasonal berries. This sweet finale is a perfect way to end your Italian dining experience, leaving you with a taste of sweetness and satisfaction.'}\n",
      "\n",
      "\u001b[1m\u001b[34mSubtask: Chef(instruction=\"Use the Chef function to generate ingredients for the 5 Italian menu items based on the names provided.\")\u001b[0m\n",
      "{'Agent Output': '1. **Trattoria di Sogni**: Ingredients include hand-rolled fettuccine, heavy cream, truffle oil, aged Parmigiano-Reggiano, fresh black truffles, garlic, and parsley.\\n\\n2. **Sole di Napoli**: Ingredients consist of sole fillets, saffron, Arborio rice, vegetable broth, cherry tomatoes, lemon zest, olive oil, and fresh basil.\\n\\n3. **Fior di Latte Fantasia**: Ingredients feature wood-fired pizza dough, fior di latte cheese, heirloom tomatoes, fresh basil, olive oil, and sea salt.\\n\\n4. **Pollo al Limone Serenata**: Ingredients include chicken breasts, lemon juice, olive oil, garlic, fresh herbs (such as rosemary and thyme), seasonal vegetables (like zucchini and bell peppers), and salt.\\n\\n5. **Dolce di Ricotta e Miele**: Ingredients comprise ricotta cheese, wildflower honey, graham cracker crust, eggs, vanilla extract, and a mix of seasonal berries (such as strawberries, blueberries, and raspberries).'}\n",
      "\n",
      "\u001b[1m\u001b[34mSubtask: Economist(instruction=\"Use the Economist function to generate pricing for the 5 Italian menu items based on their names.\")\u001b[0m\n",
      "{'Agent Output': 'The pricing for the 5 Italian menu items based on their names is as follows:\\n\\n1. **Trattoria di Sogni**: $6\\n2. **Sole di Napoli**: $8\\n3. **Fior di Latte Fantasia**: $6\\n4. **Pollo al Limone Serenata**: $10\\n5. **Dolce di Ricotta e Miele**: $1\\n\\nThese prices reflect the value of the ingredients and the culinary experience associated with each dish.'}\n",
      "\n",
      "Is Task Completed: True\n"
     ]
    }
   ],
   "source": [
    "my_agent.status()"
   ]
  },
  {
   "cell_type": "code",
   "execution_count": 12,
   "id": "b6ec6b0f-9a70-4b47-b6ea-1c29cd88116f",
   "metadata": {
    "tags": []
   },
   "outputs": [
    {
     "name": "stdout",
     "output_type": "stream",
     "text": [
      "1. **Trattoria di Sogni**  \n",
      "   - **Description**: A whimsical pasta dish that combines hand-rolled fettuccine with a rich, creamy truffle sauce, topped with a sprinkle of aged Parmigiano-Reggiano and a drizzle of fragrant white truffle oil. Each bite transports you to a cozy Italian trattoria, where dreams are made of pasta.  \n",
      "   - **Ingredients**: Hand-rolled fettuccine, heavy cream, truffle oil, aged Parmigiano-Reggiano, fresh black truffles, garlic, and parsley.  \n",
      "   - **Price**: $6  \n",
      "\n",
      "2. **Sole di Napoli**  \n",
      "   - **Description**: A vibrant seafood medley featuring pan-seared sole fillets, nestled on a bed of saffron-infused risotto. Garnished with fresh cherry tomatoes and a hint of lemon zest, this dish captures the essence of the sun-kissed Amalfi Coast.  \n",
      "   - **Ingredients**: Sole fillets, saffron, Arborio rice, vegetable broth, cherry tomatoes, lemon zest, olive oil, and fresh basil.  \n",
      "   - **Price**: $8  \n",
      "\n",
      "3. **Fior di Latte Fantasia**  \n",
      "   - **Description**: A delightful twist on the classic Margherita pizza, this creation boasts a fluffy, wood-fired crust topped with creamy fior di latte cheese, heirloom tomatoes, and a sprinkle of fresh basil. Each slice is a celebration of summer flavors, perfect for sharing with friends.  \n",
      "   - **Ingredients**: Wood-fired pizza dough, fior di latte cheese, heirloom tomatoes, fresh basil, olive oil, and sea salt.  \n",
      "   - **Price**: $6  \n",
      "\n",
      "4. **Pollo al Limone Serenata**  \n",
      "   - **Description**: Tender chicken breasts marinated in a zesty lemon and herb blend, grilled to perfection and served with a side of roasted seasonal vegetables. This dish sings with the bright notes of Mediterranean sunshine, making it a refreshing choice for any meal.  \n",
      "   - **Ingredients**: Chicken breasts, lemon juice, olive oil, garlic, fresh herbs (such as rosemary and thyme), seasonal vegetables (like zucchini and bell peppers), and salt.  \n",
      "   - **Price**: $10  \n",
      "\n",
      "5. **Dolce di Ricotta e Miele**  \n",
      "   - **Description**: A heavenly dessert featuring a light ricotta cheesecake drizzled with wildflower honey and topped with a medley of seasonal berries. This sweet finale is a perfect way to end your Italian dining experience, leaving you with a taste of sweetness and satisfaction.  \n",
      "   - **Ingredients**: Ricotta cheese, wildflower honey, graham cracker crust, eggs, vanilla extract, and a mix of seasonal berries (such as strawberries, blueberries, and raspberries).  \n",
      "   - **Price**: $1\n"
     ]
    }
   ],
   "source": [
    "output = my_agent.reply_user()"
   ]
  },
  {
   "cell_type": "markdown",
   "id": "18be4496-fc6b-4d61-957a-e42809989f89",
   "metadata": {},
   "source": [
    "# Approach 2: Step through the process yourself as the Meta Agent\n",
    "- You can use agents manually using `use_agent(agent_name: str, agent_task: str)` The outputs of the agents will be stored into `subtasks_completed` of the meta agent automatically\n",
    "- You can also interact with the meta agent using `reply_user(task: str, stateful: bool = False)`. This generates a reply for the agent to the `task` using `subtasks_completed` as context. If `stateful` is true, this will also store the output into `subtasks_completed`\n",
    "- If `subtasks_completed` is too lengthy, you can run `summarise_subtasks_completed(task: str)` This summarises `subtasks_completed` according to what is relevant to the `task`\n",
    "- If you want to redo a subtask, you can remove the most recent subtask from `subtasks_completed` using `remove_last_subtask()`"
   ]
  },
  {
   "cell_type": "code",
   "execution_count": 13,
   "id": "9b1828fd-975e-41c1-ad6c-5f1552286a82",
   "metadata": {
    "tags": []
   },
   "outputs": [
    {
     "name": "stdout",
     "output_type": "stream",
     "text": [
      "Agent Name: Menu Creator\n",
      "Agent Description: Creates a menu for a restaurant. Menu item includes Name, Description, Ingredients, Pricing.\n",
      "Available Functions: ['use_llm', 'end_task', 'Chef', 'Boss', 'Creative Writer', 'Economist']\n",
      "Shared Variables: ['agent']\n",
      "\u001b[1m\u001b[32mTask: No task assigned\u001b[0m\n",
      "\u001b[1m\u001b[34mSubtasks Completed: None\u001b[0m\n",
      "Is Task Completed: False\n"
     ]
    }
   ],
   "source": [
    "# reset the state of the agent\n",
    "my_agent.reset()\n",
    "# currently should have no task and nothing in subtasks_completed\n",
    "my_agent.status()"
   ]
  },
  {
   "cell_type": "code",
   "execution_count": 14,
   "id": "83e65804-6519-4160-81ac-bb05ad10237b",
   "metadata": {
    "tags": []
   },
   "outputs": [],
   "source": [
    "# Assign a task for the meta agent - this helps to contextualise what you give each of the inner agents later on\n",
    "my_agent.assign_task('Generate 5 menu items with name, description, ingredients and price based on Italian food choices. Output in Menu format.')"
   ]
  },
  {
   "cell_type": "code",
   "execution_count": 15,
   "id": "1cc2a7e3-407f-448b-a49b-92260f433527",
   "metadata": {},
   "outputs": [
    {
     "name": "stdout",
     "output_type": "stream",
     "text": [
      "Calling function Creative Writer with parameters {'instruction': 'Generate only 5 Italian dish names and descriptions'}\n",
      "\n",
      "### Start of Inner Agent: Creative Writer ###\n",
      "\u001b[1m\u001b[30mObservation: No subtasks have been completed yet for the task of generating 5 Italian dish names and descriptions.\u001b[0m\n",
      "\u001b[1m\u001b[32mThoughts: To complete the remainder of the assigned task, I need to generate creative and appealing names along with descriptions for 5 Italian dishes.\u001b[0m\n",
      "\u001b[1m\u001b[34mSubtask identified: Use the equipped function to generate interesting Italian dish names and descriptions.\u001b[0m\n",
      "Getting LLM to perform the following task: Use the equipped function to generate interesting Italian dish names and descriptions.\n",
      "> 1. **Sorrento Sunset Risotto**: A creamy arborio rice dish infused with the vibrant flavors of sun-dried tomatoes and fresh basil, finished with a drizzle of lemon-infused olive oil that captures the essence of a sunset over the Amalfi Coast.\n",
      "\n",
      "2. **Tuscan Truffle Tagliatelle**: Handcrafted tagliatelle pasta tossed in a rich truffle cream sauce, garnished with shaved black truffles and a sprinkle of Parmigiano-Reggiano, offering a luxurious taste of the Italian countryside.\n",
      "\n",
      "3. **Venetian Seafood Symphony**: A delightful medley of fresh seafood, including calamari, shrimp, and mussels, simmered in a zesty tomato and white wine sauce, served over a bed of al dente linguine, reminiscent of a gondola ride through the canals of Venice.\n",
      "\n",
      "4. **Caprese Skewers with a Twist**: Skewered cherry tomatoes, creamy mozzarella balls, and fresh basil leaves, drizzled with a balsamic reduction and a hint of chili oil, providing a refreshing appetizer that bursts with flavor.\n",
      "\n",
      "5. **Roman Holiday Pizza**: A thin-crust pizza topped with a blend of spicy salami, artichoke hearts, and a sprinkle of arugula, capturing the spirit of a lively Roman street market in every bite.\n",
      "\n",
      "\u001b[1m\u001b[35m###\n",
      "Reply from Creative Writer to Menu Creator:\n",
      "1. **Sorrento Sunset Risotto**: A creamy arborio rice dish infused with the vibrant flavors of sun-dried tomatoes and fresh basil, finished with a drizzle of lemon-infused olive oil that captures the essence of a sunset over the Amalfi Coast.\n",
      "\n",
      "2. **Tuscan Truffle Tagliatelle**: Handcrafted tagliatelle pasta tossed in a rich truffle cream sauce, garnished with shaved black truffles and a sprinkle of Parmigiano-Reggiano, offering a luxurious taste of the Italian countryside.\n",
      "\n",
      "3. **Venetian Seafood Symphony**: A delightful medley of fresh seafood, including calamari, shrimp, and mussels, simmered in a zesty tomato and white wine sauce, served over a bed of al dente linguine, reminiscent of a gondola ride through the canals of Venice.\n",
      "\n",
      "4. **Caprese Skewers with a Twist**: Skewered cherry tomatoes, creamy mozzarella balls, and fresh basil leaves, drizzled with a balsamic reduction and a hint of chili oil, providing a refreshing appetizer that bursts with flavor.\n",
      "\n",
      "5. **Roman Holiday Pizza**: A thin-crust pizza topped with a blend of spicy salami, artichoke hearts, and a sprinkle of arugula, capturing the spirit of a lively Roman street market in every bite.\n",
      "###\n",
      "\u001b[0m\n",
      "### End of Inner Agent: Creative Writer ###\n",
      "\n"
     ]
    }
   ],
   "source": [
    "# This will run the Agent Creative Writer (with shared subtasks_completed as meta agent)\n",
    "# Output of task will go directly into subtasks_completed - we view the inner agent as simply an extension of the meta agent\n",
    "my_agent.use_agent('Creative Writer', 'Generate only 5 Italian dish names and descriptions')"
   ]
  },
  {
   "cell_type": "code",
   "execution_count": 16,
   "id": "d7baae92-097a-47db-a083-58e3328451db",
   "metadata": {
    "tags": []
   },
   "outputs": [
    {
     "name": "stdout",
     "output_type": "stream",
     "text": [
      "Agent Name: Menu Creator\n",
      "Agent Description: Creates a menu for a restaurant. Menu item includes Name, Description, Ingredients, Pricing.\n",
      "Available Functions: ['use_llm', 'end_task', 'Chef', 'Boss', 'Creative Writer', 'Economist']\n",
      "Shared Variables: ['agent']\n",
      "\u001b[1m\u001b[32mTask: Generate 5 menu items with name, description, ingredients and price based on Italian food choices. Output in Menu format.\u001b[0m\n",
      "\u001b[1m\u001b[30mSubtasks Completed:\u001b[0m\n",
      "\u001b[1m\u001b[34mSubtask: Creative Writer(instruction=\"Generate only 5 Italian dish names and descriptions\")\u001b[0m\n",
      "{'Agent Output': '1. **Sorrento Sunset Risotto**: A creamy arborio rice dish infused with the vibrant flavors of sun-dried tomatoes and fresh basil, finished with a drizzle of lemon-infused olive oil that captures the essence of a sunset over the Amalfi Coast.\\n\\n2. **Tuscan Truffle Tagliatelle**: Handcrafted tagliatelle pasta tossed in a rich truffle cream sauce, garnished with shaved black truffles and a sprinkle of Parmigiano-Reggiano, offering a luxurious taste of the Italian countryside.\\n\\n3. **Venetian Seafood Symphony**: A delightful medley of fresh seafood, including calamari, shrimp, and mussels, simmered in a zesty tomato and white wine sauce, served over a bed of al dente linguine, reminiscent of a gondola ride through the canals of Venice.\\n\\n4. **Caprese Skewers with a Twist**: Skewered cherry tomatoes, creamy mozzarella balls, and fresh basil leaves, drizzled with a balsamic reduction and a hint of chili oil, providing a refreshing appetizer that bursts with flavor.\\n\\n5. **Roman Holiday Pizza**: A thin-crust pizza topped with a blend of spicy salami, artichoke hearts, and a sprinkle of arugula, capturing the spirit of a lively Roman street market in every bite.'}\n",
      "\n",
      "Is Task Completed: False\n"
     ]
    }
   ],
   "source": [
    "# subtasks_completed should be updated with the Creative Agent's outputs\n",
    "my_agent.status()"
   ]
  },
  {
   "cell_type": "code",
   "execution_count": 17,
   "id": "db731e85-444e-4a9d-8f31-e990594a6bf1",
   "metadata": {},
   "outputs": [
    {
     "name": "stdout",
     "output_type": "stream",
     "text": [
      "Calling function Chef with parameters {'instruction': 'Generate ingredients for the 5 Italian dishes'}\n",
      "\n",
      "### Start of Inner Agent: Chef ###\n",
      "\u001b[1m\u001b[30mObservation: I have generated 5 Italian dish names and descriptions, which provide a clear idea of the dishes that need ingredients.\u001b[0m\n",
      "\u001b[1m\u001b[32mThoughts: Now, I need to generate the ingredients for each of the 5 Italian dishes based on the descriptions provided. This will involve identifying the key components of each dish and listing them accordingly.\u001b[0m\n",
      "\u001b[1m\u001b[34mSubtask identified: Generate a list of ingredients for each of the 5 Italian dishes: Sorrento Sunset Risotto, Tuscan Truffle Tagliatelle, Venetian Seafood Symphony, Caprese Skewers with a Twist, and Roman Holiday Pizza.\u001b[0m\n",
      "Getting LLM to perform the following task: Generate a list of ingredients for each of the 5 Italian dishes: Sorrento Sunset Risotto, Tuscan Truffle Tagliatelle, Venetian Seafood Symphony, Caprese Skewers with a Twist, and Roman Holiday Pizza.\n",
      "> 1. **Sorrento Sunset Risotto**: Ingredients include arborio rice, sun-dried tomatoes, fresh basil, lemon-infused olive oil, vegetable broth, garlic, onion, and Parmesan cheese.\n",
      "\n",
      "2. **Tuscan Truffle Tagliatelle**: Ingredients consist of tagliatelle pasta, truffle cream sauce (made with heavy cream, truffle oil, and garlic), black truffles, and Parmigiano-Reggiano cheese.\n",
      "\n",
      "3. **Venetian Seafood Symphony**: Ingredients feature calamari, shrimp, mussels, linguine pasta, zesty tomato sauce (made with crushed tomatoes, garlic, and herbs), white wine, olive oil, and parsley.\n",
      "\n",
      "4. **Caprese Skewers with a Twist**: Ingredients include cherry tomatoes, mozzarella balls, fresh basil leaves, balsamic reduction, chili oil, and skewers.\n",
      "\n",
      "5. **Roman Holiday Pizza**: Ingredients comprise thin-crust pizza dough, spicy salami, artichoke hearts, arugula, tomato sauce, mozzarella cheese, and olive oil.\n",
      "\n",
      "\u001b[1m\u001b[30mObservation: I have successfully generated a list of ingredients for each of the 5 Italian dishes: Sorrento Sunset Risotto, Tuscan Truffle Tagliatelle, Venetian Seafood Symphony, Caprese Skewers with a Twist, and Roman Holiday Pizza.\u001b[0m\n",
      "\u001b[1m\u001b[32mThoughts: Since the ingredients for all dishes have been generated, the next step is to finalize the output and pass it to the user.\u001b[0m\n",
      "\u001b[1m\u001b[34mSubtask identified: End Task\u001b[0m\n",
      "Task completed successfully!\n",
      "\n",
      "\u001b[1m\u001b[35m###\n",
      "Reply from Chef to Menu Creator:\n",
      "1. **Sorrento Sunset Risotto**: Ingredients include arborio rice, sun-dried tomatoes, fresh basil, lemon-infused olive oil, vegetable broth, garlic, onion, and Parmesan cheese.\n",
      "\n",
      "2. **Tuscan Truffle Tagliatelle**: Ingredients consist of tagliatelle pasta, truffle cream sauce (made with heavy cream, truffle oil, and garlic), black truffles, and Parmigiano-Reggiano cheese.\n",
      "\n",
      "3. **Venetian Seafood Symphony**: Ingredients feature calamari, shrimp, mussels, linguine pasta, zesty tomato sauce (made with crushed tomatoes, garlic, and herbs), white wine, olive oil, and parsley.\n",
      "\n",
      "4. **Caprese Skewers with a Twist**: Ingredients include cherry tomatoes, mozzarella balls, fresh basil leaves, balsamic reduction, chili oil, and skewers.\n",
      "\n",
      "5. **Roman Holiday Pizza**: Ingredients comprise thin-crust pizza dough, spicy salami, artichoke hearts, arugula, tomato sauce, mozzarella cheese, and olive oil.\n",
      "###\n",
      "\u001b[0m\n",
      "### End of Inner Agent: Chef ###\n",
      "\n"
     ]
    }
   ],
   "source": [
    "my_agent.use_agent('Chef', 'Generate ingredients for the 5 Italian dishes')"
   ]
  },
  {
   "cell_type": "code",
   "execution_count": 18,
   "id": "fd1b1fda-7e72-4669-8e40-f01207ad198f",
   "metadata": {
    "tags": []
   },
   "outputs": [
    {
     "name": "stdout",
     "output_type": "stream",
     "text": [
      "Calling function Economist with parameters {'instruction': 'Generate prices for the 5 Italian dishes'}\n",
      "\n",
      "### Start of Inner Agent: Economist ###\n",
      "\u001b[1m\u001b[30mObservation: The dish names have been generated, but no prices have been assigned yet.\u001b[0m\n",
      "\u001b[1m\u001b[32mThoughts: To complete the task of generating prices for the 5 Italian dishes, I can utilize the dish names that have already been created. I need to input these dish names into the appropriate function to obtain their prices.\u001b[0m\n",
      "\u001b[1m\u001b[34mSubtask identified: Use the dish_price function to input the list of the 5 Italian dish names and retrieve their corresponding prices.\u001b[0m\n",
      "Calling function dish_price with parameters {'list_of_dish_names': ['Sorrento Sunset Risotto', 'Tuscan Truffle Tagliatelle', 'Venetian Seafood Symphony', 'Caprese Skewers with a Twist', 'Roman Holiday Pizza']}\n",
      "> {'output_1': {'Sorrento Sunset Risotto': '$7', 'Tuscan Truffle Tagliatelle': '$8', 'Venetian Seafood Symphony': '$1', 'Caprese Skewers with a Twist': '$10', 'Roman Holiday Pizza': '$8'}}\n",
      "\n",
      "\u001b[1m\u001b[30mObservation: The prices for the 5 Italian dishes have been successfully generated, with each dish assigned a specific price.\u001b[0m\n",
      "\u001b[1m\u001b[32mThoughts: Since the prices have already been generated, the next step is to finalize the output and present it to the user.\u001b[0m\n",
      "\u001b[1m\u001b[34mSubtask identified: End Task\u001b[0m\n",
      "Task completed successfully!\n",
      "\n",
      "\u001b[1m\u001b[35m###\n",
      "Reply from Economist to Menu Creator:\n",
      "The prices for the 5 Italian dishes are as follows:\n",
      "\n",
      "1. **Sorrento Sunset Risotto**: $7\n",
      "2. **Tuscan Truffle Tagliatelle**: $8\n",
      "3. **Venetian Seafood Symphony**: $1\n",
      "4. **Caprese Skewers with a Twist**: $10\n",
      "5. **Roman Holiday Pizza**: $8\n",
      "\n",
      "These prices reflect the value of each dish based on the ingredients and preparation involved, as well as the culinary experience they offer.\n",
      "###\n",
      "\u001b[0m\n",
      "### End of Inner Agent: Economist ###\n",
      "\n"
     ]
    }
   ],
   "source": [
    "my_agent.use_agent('Economist', 'Generate prices for the 5 Italian dishes')"
   ]
  },
  {
   "cell_type": "code",
   "execution_count": 19,
   "id": "3d0ff21d-3684-49ad-9a59-8d63e8c181aa",
   "metadata": {
    "tags": []
   },
   "outputs": [
    {
     "name": "stdout",
     "output_type": "stream",
     "text": [
      "Calling function Boss with parameters {'instruction': 'Choose only 3 Italian dishes to serve that will please Gordon Ramsay'}\n",
      "\n",
      "### Start of Inner Agent: Boss ###\n",
      "\u001b[1m\u001b[30mObservation: I have generated a list of 5 Italian dishes along with their descriptions, ingredients, and prices, but no dishes have been selected yet for serving.\u001b[0m\n",
      "\u001b[1m\u001b[32mThoughts: To choose 3 Italian dishes that will please Gordon Ramsay, I should consider the quality of ingredients, presentation, and overall appeal of the dishes. I need to select dishes that are not only delicious but also showcase culinary skill and creativity.\u001b[0m\n",
      "\u001b[1m\u001b[34mSubtask identified: Evaluate the 5 Italian dishes based on their descriptions and select the top 3 that would likely impress Gordon Ramsay, considering factors like flavor complexity, presentation, and uniqueness.\u001b[0m\n",
      "Getting LLM to perform the following task: Evaluate the 5 Italian dishes based on their descriptions and select the top 3 that would likely impress Gordon Ramsay, considering factors like flavor complexity, presentation, and uniqueness.\n",
      "> After evaluating the five Italian dishes based on their descriptions, the top three that would likely impress Gordon Ramsay are:\n",
      "\n",
      "1. **Tuscan Truffle Tagliatelle**: This dish stands out due to its luxurious ingredients, particularly the use of black truffles and a rich truffle cream sauce. The handcrafted tagliatelle adds a personal touch, and the garnishing with shaved truffles and Parmigiano-Reggiano showcases a high level of culinary skill. The flavor complexity and the elegance of presentation make it a strong contender.\n",
      "\n",
      "2. **Venetian Seafood Symphony**: This dish offers a delightful medley of fresh seafood, which is always a crowd-pleaser. The combination of calamari, shrimp, and mussels in a zesty tomato and white wine sauce served over al dente linguine not only highlights the freshness of the ingredients but also presents a beautiful color palette. The unique aspect of this dish is its ability to transport diners to the canals of Venice, making it a memorable experience.\n",
      "\n",
      "3. **Sorrento Sunset Risotto**: The creamy texture of arborio rice combined with sun-dried tomatoes and fresh basil creates a comforting yet sophisticated dish. The drizzle of lemon-infused olive oil adds a refreshing twist that enhances the overall flavor profile. The visual appeal of the dish, reminiscent of a sunset, along with its rich flavors, would likely resonate with Ramsay’s appreciation for both taste and presentation.\n",
      "\n",
      "These selections reflect a balance of flavor complexity, presentation, and uniqueness, aligning with the high standards expected by a chef of Gordon Ramsay's caliber.\n",
      "\n",
      "\u001b[1m\u001b[30mObservation: The top three Italian dishes selected to impress Gordon Ramsay are Tuscan Truffle Tagliatelle, Venetian Seafood Symphony, and Sorrento Sunset Risotto. These dishes were chosen based on their flavor complexity, presentation, and uniqueness, which align with Ramsay’s high culinary standards.\u001b[0m\n",
      "\u001b[1m\u001b[32mThoughts: To complete the Assigned Task, I need to finalize the selection of the three dishes and prepare to present them in a way that highlights their strengths and appeals to Gordon Ramsay’s preferences.\u001b[0m\n",
      "\u001b[1m\u001b[34mSubtask identified: End Task\u001b[0m\n",
      "Task completed successfully!\n",
      "\n",
      "\u001b[1m\u001b[35m###\n",
      "Reply from Boss to Menu Creator:\n",
      "After evaluating the five Italian dishes based on their descriptions, the top three that would likely impress Gordon Ramsay are:\n",
      "\n",
      "1. **Tuscan Truffle Tagliatelle**: This dish stands out due to its luxurious ingredients, particularly the use of black truffles and a rich truffle cream sauce. The handcrafted tagliatelle adds a personal touch, and the garnishing with shaved truffles and Parmigiano-Reggiano showcases a high level of culinary skill. The flavor complexity and the elegance of presentation make it a strong contender.\n",
      "\n",
      "2. **Venetian Seafood Symphony**: This dish offers a delightful medley of fresh seafood, which is always a crowd-pleaser. The combination of calamari, shrimp, and mussels in a zesty tomato and white wine sauce served over al dente linguine not only highlights the freshness of the ingredients but also presents a beautiful color palette. The unique aspect of this dish is its ability to transport diners to the canals of Venice, making it a memorable experience.\n",
      "\n",
      "3. **Sorrento Sunset Risotto**: The creamy texture of arborio rice combined with sun-dried tomatoes and fresh basil creates a comforting yet sophisticated dish. The drizzle of lemon-infused olive oil adds a refreshing twist that enhances the overall flavor profile. The visual appeal of the dish, reminiscent of a sunset, along with its rich flavors, would likely resonate with Ramsay’s appreciation for both taste and presentation.\n",
      "\n",
      "These selections reflect a balance of flavor complexity, presentation, and uniqueness, aligning with the high standards expected by a chef of Gordon Ramsay's caliber.\n",
      "###\n",
      "\u001b[0m\n",
      "### End of Inner Agent: Boss ###\n",
      "\n"
     ]
    }
   ],
   "source": [
    "my_agent.use_agent('Boss', 'Choose only 3 Italian dishes to serve that will please Gordon Ramsay')"
   ]
  },
  {
   "cell_type": "code",
   "execution_count": 20,
   "id": "9290ba86-c1a7-4d68-ba2e-5ffbe292f403",
   "metadata": {
    "tags": []
   },
   "outputs": [
    {
     "name": "stdout",
     "output_type": "stream",
     "text": [
      "1. **Tuscan Truffle Tagliatelle**: Handcrafted tagliatelle pasta tossed in a rich truffle cream sauce, garnished with shaved black truffles and a sprinkle of Parmigiano-Reggiano, offering a luxurious taste of the Italian countryside. Ingredients consist of tagliatelle pasta, truffle cream sauce (made with heavy cream, truffle oil, and garlic), black truffles, and Parmigiano-Reggiano cheese. Price: $8\n",
      "\n",
      "2. **Venetian Seafood Symphony**: A delightful medley of fresh seafood, including calamari, shrimp, and mussels, simmered in a zesty tomato and white wine sauce, served over a bed of al dente linguine, reminiscent of a gondola ride through the canals of Venice. Ingredients feature calamari, shrimp, mussels, linguine pasta, zesty tomato sauce (made with crushed tomatoes, garlic, and herbs), white wine, olive oil, and parsley. Price: $1\n",
      "\n",
      "3. **Sorrento Sunset Risotto**: A creamy arborio rice dish infused with the vibrant flavors of sun-dried tomatoes and fresh basil, finished with a drizzle of lemon-infused olive oil that captures the essence of a sunset over the Amalfi Coast. Ingredients include arborio rice, sun-dried tomatoes, fresh basil, lemon-infused olive oil, vegetable broth, garlic, onion, and Parmesan cheese. Price: $7\n"
     ]
    }
   ],
   "source": [
    "# Get a targeted response from your agent, and add this to subtask_completed\n",
    "output = my_agent.reply_user('Choose the 3 menu items for Gordon Ramsay line by line in this format - Dish Name, Dish Description, Dish Ingredients, Dish Price')"
   ]
  },
  {
   "cell_type": "code",
   "execution_count": 21,
   "id": "8c134d97-36fc-4f33-880a-fbb79e2388a5",
   "metadata": {},
   "outputs": [
    {
     "name": "stdout",
     "output_type": "stream",
     "text": [
      "Agent Name: Menu Creator\n",
      "Agent Description: Creates a menu for a restaurant. Menu item includes Name, Description, Ingredients, Pricing.\n",
      "Available Functions: ['use_llm', 'end_task', 'Chef', 'Boss', 'Creative Writer', 'Economist']\n",
      "Shared Variables: ['agent']\n",
      "\u001b[1m\u001b[32mTask: Generate 5 menu items with name, description, ingredients and price based on Italian food choices. Output in Menu format.\u001b[0m\n",
      "\u001b[1m\u001b[30mSubtasks Completed:\u001b[0m\n",
      "\u001b[1m\u001b[34mSubtask: Creative Writer(instruction=\"Generate only 5 Italian dish names and descriptions\")\u001b[0m\n",
      "{'Agent Output': '1. **Sorrento Sunset Risotto**: A creamy arborio rice dish infused with the vibrant flavors of sun-dried tomatoes and fresh basil, finished with a drizzle of lemon-infused olive oil that captures the essence of a sunset over the Amalfi Coast.\\n\\n2. **Tuscan Truffle Tagliatelle**: Handcrafted tagliatelle pasta tossed in a rich truffle cream sauce, garnished with shaved black truffles and a sprinkle of Parmigiano-Reggiano, offering a luxurious taste of the Italian countryside.\\n\\n3. **Venetian Seafood Symphony**: A delightful medley of fresh seafood, including calamari, shrimp, and mussels, simmered in a zesty tomato and white wine sauce, served over a bed of al dente linguine, reminiscent of a gondola ride through the canals of Venice.\\n\\n4. **Caprese Skewers with a Twist**: Skewered cherry tomatoes, creamy mozzarella balls, and fresh basil leaves, drizzled with a balsamic reduction and a hint of chili oil, providing a refreshing appetizer that bursts with flavor.\\n\\n5. **Roman Holiday Pizza**: A thin-crust pizza topped with a blend of spicy salami, artichoke hearts, and a sprinkle of arugula, capturing the spirit of a lively Roman street market in every bite.'}\n",
      "\n",
      "\u001b[1m\u001b[34mSubtask: Chef(instruction=\"Generate ingredients for the 5 Italian dishes\")\u001b[0m\n",
      "{'Agent Output': '1. **Sorrento Sunset Risotto**: Ingredients include arborio rice, sun-dried tomatoes, fresh basil, lemon-infused olive oil, vegetable broth, garlic, onion, and Parmesan cheese.\\n\\n2. **Tuscan Truffle Tagliatelle**: Ingredients consist of tagliatelle pasta, truffle cream sauce (made with heavy cream, truffle oil, and garlic), black truffles, and Parmigiano-Reggiano cheese.\\n\\n3. **Venetian Seafood Symphony**: Ingredients feature calamari, shrimp, mussels, linguine pasta, zesty tomato sauce (made with crushed tomatoes, garlic, and herbs), white wine, olive oil, and parsley.\\n\\n4. **Caprese Skewers with a Twist**: Ingredients include cherry tomatoes, mozzarella balls, fresh basil leaves, balsamic reduction, chili oil, and skewers.\\n\\n5. **Roman Holiday Pizza**: Ingredients comprise thin-crust pizza dough, spicy salami, artichoke hearts, arugula, tomato sauce, mozzarella cheese, and olive oil.'}\n",
      "\n",
      "\u001b[1m\u001b[34mSubtask: Economist(instruction=\"Generate prices for the 5 Italian dishes\")\u001b[0m\n",
      "{'Agent Output': 'The prices for the 5 Italian dishes are as follows:\\n\\n1. **Sorrento Sunset Risotto**: $7\\n2. **Tuscan Truffle Tagliatelle**: $8\\n3. **Venetian Seafood Symphony**: $1\\n4. **Caprese Skewers with a Twist**: $10\\n5. **Roman Holiday Pizza**: $8\\n\\nThese prices reflect the value of each dish based on the ingredients and preparation involved, as well as the culinary experience they offer.'}\n",
      "\n",
      "\u001b[1m\u001b[34mSubtask: Boss(instruction=\"Choose only 3 Italian dishes to serve that will please Gordon Ramsay\")\u001b[0m\n",
      "{'Agent Output': \"After evaluating the five Italian dishes based on their descriptions, the top three that would likely impress Gordon Ramsay are:\\n\\n1. **Tuscan Truffle Tagliatelle**: This dish stands out due to its luxurious ingredients, particularly the use of black truffles and a rich truffle cream sauce. The handcrafted tagliatelle adds a personal touch, and the garnishing with shaved truffles and Parmigiano-Reggiano showcases a high level of culinary skill. The flavor complexity and the elegance of presentation make it a strong contender.\\n\\n2. **Venetian Seafood Symphony**: This dish offers a delightful medley of fresh seafood, which is always a crowd-pleaser. The combination of calamari, shrimp, and mussels in a zesty tomato and white wine sauce served over al dente linguine not only highlights the freshness of the ingredients but also presents a beautiful color palette. The unique aspect of this dish is its ability to transport diners to the canals of Venice, making it a memorable experience.\\n\\n3. **Sorrento Sunset Risotto**: The creamy texture of arborio rice combined with sun-dried tomatoes and fresh basil creates a comforting yet sophisticated dish. The drizzle of lemon-infused olive oil adds a refreshing twist that enhances the overall flavor profile. The visual appeal of the dish, reminiscent of a sunset, along with its rich flavors, would likely resonate with Ramsay’s appreciation for both taste and presentation.\\n\\nThese selections reflect a balance of flavor complexity, presentation, and uniqueness, aligning with the high standards expected by a chef of Gordon Ramsay's caliber.\"}\n",
      "\n",
      "\u001b[1m\u001b[34mSubtask: Choose the 3 menu items for Gordon Ramsay line by line in this format - Dish Name, Dish Description, Dish Ingredients, Dish Price\u001b[0m\n",
      "1. **Tuscan Truffle Tagliatelle**: Handcrafted tagliatelle pasta tossed in a rich truffle cream sauce, garnished with shaved black truffles and a sprinkle of Parmigiano-Reggiano, offering a luxurious taste of the Italian countryside. Ingredients consist of tagliatelle pasta, truffle cream sauce (made with heavy cream, truffle oil, and garlic), black truffles, and Parmigiano-Reggiano cheese. Price: $8\n",
      "\n",
      "2. **Venetian Seafood Symphony**: A delightful medley of fresh seafood, including calamari, shrimp, and mussels, simmered in a zesty tomato and white wine sauce, served over a bed of al dente linguine, reminiscent of a gondola ride through the canals of Venice. Ingredients feature calamari, shrimp, mussels, linguine pasta, zesty tomato sauce (made with crushed tomatoes, garlic, and herbs), white wine, olive oil, and parsley. Price: $1\n",
      "\n",
      "3. **Sorrento Sunset Risotto**: A creamy arborio rice dish infused with the vibrant flavors of sun-dried tomatoes and fresh basil, finished with a drizzle of lemon-infused olive oil that captures the essence of a sunset over the Amalfi Coast. Ingredients include arborio rice, sun-dried tomatoes, fresh basil, lemon-infused olive oil, vegetable broth, garlic, onion, and Parmesan cheese. Price: $7\n",
      "\n",
      "Is Task Completed: False\n"
     ]
    }
   ],
   "source": [
    "my_agent.status()"
   ]
  },
  {
   "cell_type": "code",
   "execution_count": 22,
   "id": "8bdfad22-3b67-42d5-a4c6-cfd607dd22b1",
   "metadata": {
    "tags": []
   },
   "outputs": [
    {
     "name": "stdout",
     "output_type": "stream",
     "text": [
      "1. **Tuscan Truffle Tagliatelle**: Handcrafted tagliatelle pasta tossed in a rich truffle cream sauce, garnished with shaved black truffles and a sprinkle of Parmigiano-Reggiano, offering a luxurious taste of the Italian countryside. \n",
      "   - **Ingredients**: Tagliatelle pasta, truffle cream sauce (made with heavy cream, truffle oil, and garlic), black truffles, and Parmigiano-Reggiano cheese. \n",
      "   - **Price**: $8\n",
      "\n",
      "2. **Venetian Seafood Symphony**: A delightful medley of fresh seafood, including calamari, shrimp, and mussels, simmered in a zesty tomato and white wine sauce, served over a bed of al dente linguine, reminiscent of a gondola ride through the canals of Venice. \n",
      "   - **Ingredients**: Calamari, shrimp, mussels, linguine pasta, zesty tomato sauce (made with crushed tomatoes, garlic, and herbs), white wine, olive oil, and parsley. \n",
      "   - **Price**: $1\n",
      "\n",
      "3. **Sorrento Sunset Risotto**: A creamy arborio rice dish infused with the vibrant flavors of sun-dried tomatoes and fresh basil, finished with a drizzle of lemon-infused olive oil that captures the essence of a sunset over the Amalfi Coast. \n",
      "   - **Ingredients**: Arborio rice, sun-dried tomatoes, fresh basil, lemon-infused olive oil, vegetable broth, garlic, onion, and Parmesan cheese. \n",
      "   - **Price**: $7\n"
     ]
    }
   ],
   "source": [
    "# you can summarise the subtasks_history for the next task\n",
    "my_agent.summarise_subtasks_completed('Generate the 3 Italian dishes for Gordon Ramsay in menu format')"
   ]
  },
  {
   "cell_type": "code",
   "execution_count": 23,
   "id": "ea8ebd26-25e2-41b3-a2a3-78f03d324f3b",
   "metadata": {
    "tags": []
   },
   "outputs": [
    {
     "name": "stdout",
     "output_type": "stream",
     "text": [
      "Agent Name: Menu Creator\n",
      "Agent Description: Creates a menu for a restaurant. Menu item includes Name, Description, Ingredients, Pricing.\n",
      "Available Functions: ['use_llm', 'end_task', 'Chef', 'Boss', 'Creative Writer', 'Economist']\n",
      "Shared Variables: ['agent']\n",
      "\u001b[1m\u001b[32mTask: Generate 5 menu items with name, description, ingredients and price based on Italian food choices. Output in Menu format.\u001b[0m\n",
      "\u001b[1m\u001b[30mSubtasks Completed:\u001b[0m\n",
      "\u001b[1m\u001b[34mSubtask: Current Results for 'Generate the 3 Italian dishes for Gordon Ramsay in menu format'\u001b[0m\n",
      "1. **Tuscan Truffle Tagliatelle**: Handcrafted tagliatelle pasta tossed in a rich truffle cream sauce, garnished with shaved black truffles and a sprinkle of Parmigiano-Reggiano, offering a luxurious taste of the Italian countryside. \n",
      "   - **Ingredients**: Tagliatelle pasta, truffle cream sauce (made with heavy cream, truffle oil, and garlic), black truffles, and Parmigiano-Reggiano cheese. \n",
      "   - **Price**: $8\n",
      "\n",
      "2. **Venetian Seafood Symphony**: A delightful medley of fresh seafood, including calamari, shrimp, and mussels, simmered in a zesty tomato and white wine sauce, served over a bed of al dente linguine, reminiscent of a gondola ride through the canals of Venice. \n",
      "   - **Ingredients**: Calamari, shrimp, mussels, linguine pasta, zesty tomato sauce (made with crushed tomatoes, garlic, and herbs), white wine, olive oil, and parsley. \n",
      "   - **Price**: $1\n",
      "\n",
      "3. **Sorrento Sunset Risotto**: A creamy arborio rice dish infused with the vibrant flavors of sun-dried tomatoes and fresh basil, finished with a drizzle of lemon-infused olive oil that captures the essence of a sunset over the Amalfi Coast. \n",
      "   - **Ingredients**: Arborio rice, sun-dried tomatoes, fresh basil, lemon-infused olive oil, vegetable broth, garlic, onion, and Parmesan cheese. \n",
      "   - **Price**: $7\n",
      "\n",
      "Is Task Completed: False\n"
     ]
    }
   ],
   "source": [
    "# subtask has been summarised, helping to reduce the context significantly for later task generation\n",
    "my_agent.status()"
   ]
  },
  {
   "cell_type": "code",
   "execution_count": 24,
   "id": "c7887297-c007-42fd-a21e-5196afef605a",
   "metadata": {
    "tags": []
   },
   "outputs": [
    {
     "name": "stdout",
     "output_type": "stream",
     "text": [
      "Removed last subtask from subtasks_completed: (\"Current Results for 'Generate the 3 Italian dishes for Gordon Ramsay in menu format'\", '1. **Tuscan Truffle Tagliatelle**: Handcrafted tagliatelle pasta tossed in a rich truffle cream sauce, garnished with shaved black truffles and a sprinkle of Parmigiano-Reggiano, offering a luxurious taste of the Italian countryside. \\n   - **Ingredients**: Tagliatelle pasta, truffle cream sauce (made with heavy cream, truffle oil, and garlic), black truffles, and Parmigiano-Reggiano cheese. \\n   - **Price**: $8\\n\\n2. **Venetian Seafood Symphony**: A delightful medley of fresh seafood, including calamari, shrimp, and mussels, simmered in a zesty tomato and white wine sauce, served over a bed of al dente linguine, reminiscent of a gondola ride through the canals of Venice. \\n   - **Ingredients**: Calamari, shrimp, mussels, linguine pasta, zesty tomato sauce (made with crushed tomatoes, garlic, and herbs), white wine, olive oil, and parsley. \\n   - **Price**: $1\\n\\n3. **Sorrento Sunset Risotto**: A creamy arborio rice dish infused with the vibrant flavors of sun-dried tomatoes and fresh basil, finished with a drizzle of lemon-infused olive oil that captures the essence of a sunset over the Amalfi Coast. \\n   - **Ingredients**: Arborio rice, sun-dried tomatoes, fresh basil, lemon-infused olive oil, vegetable broth, garlic, onion, and Parmesan cheese. \\n   - **Price**: $7')\n"
     ]
    }
   ],
   "source": [
    "# we also allow you to manually remove the last item added to subtasks_completed, so you can revert your agent state if needed for backtracking\n",
    "my_agent.remove_last_subtask()"
   ]
  },
  {
   "cell_type": "code",
   "execution_count": 25,
   "id": "35340b71-d7ea-4f28-ad0a-dddf6099737f",
   "metadata": {
    "tags": []
   },
   "outputs": [
    {
     "name": "stdout",
     "output_type": "stream",
     "text": [
      "Agent Name: Menu Creator\n",
      "Agent Description: Creates a menu for a restaurant. Menu item includes Name, Description, Ingredients, Pricing.\n",
      "Available Functions: ['use_llm', 'end_task', 'Chef', 'Boss', 'Creative Writer', 'Economist']\n",
      "Shared Variables: ['agent']\n",
      "\u001b[1m\u001b[32mTask: Generate 5 menu items with name, description, ingredients and price based on Italian food choices. Output in Menu format.\u001b[0m\n",
      "\u001b[1m\u001b[34mSubtasks Completed: None\u001b[0m\n",
      "Is Task Completed: False\n"
     ]
    }
   ],
   "source": [
    "# visualise your agent's status - should have empty subtasks_completed\n",
    "my_agent.status()"
   ]
  },
  {
   "cell_type": "markdown",
   "id": "8a03f820-c405-4004-982a-b46dc7c9a191",
   "metadata": {},
   "source": [
    "# More Advanced Agents with Shared Variables\n",
    "- Each Inner Agent has access to a specific part of Shared Variables via Global Context\n",
    "- Each Inner Agent will update the Shared Variables as it is changed by their actions\n",
    "- Meta Agent will know of the change in inventory via Shared Variables, as well as the reply of the Inner Agent"
   ]
  },
  {
   "cell_type": "code",
   "execution_count": 26,
   "id": "e3b4c40c-a742-4909-82c9-3c351eda4aac",
   "metadata": {
    "tags": []
   },
   "outputs": [],
   "source": [
    "def add_item_to_inventory(shared_variables, item: str) -> str:\n",
    "    ''' Adds item to inventory, and returns outcome of action '''\n",
    "    shared_variables['Inventory A'].append(item)\n",
    "    return f'{item} successfully added to Inventory A'\n",
    "\n",
    "def remove_item_from_inventory(shared_variables, item: str) -> str:\n",
    "    ''' Removes item from inventory and returns outcome of action '''\n",
    "    if item in shared_variables['Inventory A']:\n",
    "        shared_variables['Inventory A'].remove(item)\n",
    "        return f'{item} successfully removed from Inventory A'\n",
    "    else:\n",
    "        return f'{item} not found in Inventory A, unable to remove'"
   ]
  },
  {
   "cell_type": "code",
   "execution_count": 27,
   "id": "fd56209d-21c8-4630-ab4d-5f819789d980",
   "metadata": {
    "tags": []
   },
   "outputs": [],
   "source": [
    "def add_item_to_inventory_2(shared_variables, item: str) -> str:\n",
    "    ''' Adds item to inventory, and returns outcome of action '''\n",
    "    shared_variables['Inventory B'].append(item)\n",
    "    return f'{item} successfully added to Inventory B'\n",
    "    \n",
    "def remove_item_from_inventory_2(shared_variables, item: str) -> str:\n",
    "    ''' Removes item from inventory and returns outcome of action '''\n",
    "    if item in shared_variables['Inventory B']:\n",
    "        shared_variables['Inventory B'].remove(item)\n",
    "        return f'{item} successfully removed from Inventory B'\n",
    "    else:\n",
    "        return f'{item} not found in Inventory B, unable to remove'"
   ]
  },
  {
   "cell_type": "code",
   "execution_count": 28,
   "id": "ddd6a358-be78-4f49-871b-674456b08c1c",
   "metadata": {
    "tags": []
   },
   "outputs": [],
   "source": [
    "agent_a = Agent('Factory A Inventory Manager', \n",
    "      'Adds and removes items in Inventory A. Only able to remove items if present in Inventory A',\n",
    "      shared_variables = {'Inventory A': []},\n",
    "      global_context = 'Inventory of Factory A: <Inventory A>', # Add in Global Context here with shared_variables Inventory\n",
    "      llm = llm).assign_functions([add_item_to_inventory, remove_item_from_inventory])\n",
    "\n",
    "agent_b = Agent('Factory B Inventory Manager', \n",
    "      'Adds and removes items in Inventory B. Only able to remove items if present in Inventory B',\n",
    "     shared_variables = {'Inventory B': []},\n",
    "      global_context = 'Inventory of Factory B: <Inventory B>', # Add in Global Context here with shared_variables Inventory\n",
    "      llm = llm).assign_functions([add_item_to_inventory_2, remove_item_from_inventory_2])\n",
    "\n",
    "meta_agent = Agent('Inventory Manager', 'Manages inventory of all factories', \n",
    "       shared_variables = {'Inventory A': [],\n",
    "                           'Inventory B': []},\n",
    "        llm = llm,\n",
    "       global_context = 'Inventory of Factory A: <Inventory A>\\nInventory of Factory B: <Inventory B>').assign_functions([agent_a, agent_b])"
   ]
  },
  {
   "cell_type": "code",
   "execution_count": 29,
   "id": "12f2bd5f-4b8c-44d0-9c96-90a667a38a93",
   "metadata": {
    "tags": []
   },
   "outputs": [
    {
     "name": "stdout",
     "output_type": "stream",
     "text": [
      "Name: use_llm\n",
      "Description: For general tasks. Used only when no other function can do the task\n",
      "Input: []\n",
      "Output: {'Output': 'Output of LLM'}\n",
      "\n",
      "Name: end_task\n",
      "Description: Passes the final output to the user\n",
      "Input: []\n",
      "Output: {}\n",
      "\n",
      "Name: Factory A Inventory Manager\n",
      "Description: Agent Description: ```Adds and removes items in Inventory A. Only able to remove items if present in Inventory A```\n",
      "Executes the given <instruction>\n",
      "Input: ['instruction']\n",
      "Output: {'Agent Output': 'Output of instruction'}\n",
      "\n",
      "Name: Factory B Inventory Manager\n",
      "Description: Agent Description: ```Adds and removes items in Inventory B. Only able to remove items if present in Inventory B```\n",
      "Executes the given <instruction>\n",
      "Input: ['instruction']\n",
      "Output: {'Agent Output': 'Output of instruction'}\n",
      "\n"
     ]
    }
   ],
   "source": [
    "meta_agent.print_functions()"
   ]
  },
  {
   "cell_type": "code",
   "execution_count": 30,
   "id": "e7d4ffdf-031d-4f54-802e-c0447b67172a",
   "metadata": {
    "tags": []
   },
   "outputs": [
    {
     "name": "stdout",
     "output_type": "stream",
     "text": [
      "\u001b[1m\u001b[30mObservation: No subtasks have been completed yet, and the inventory for both Factory A and Factory B is currently empty.\u001b[0m\n",
      "\u001b[1m\u001b[32mThoughts: To complete the assigned task, I need to add apples to Factory A and pears to Factory B. Since both inventories are empty, I can start by adding apples to Factory A first.\u001b[0m\n",
      "\u001b[1m\u001b[34mSubtask identified: Add apples to Factory A by executing the appropriate instruction.\u001b[0m\n",
      "Calling function Factory A Inventory Manager with parameters {'instruction': 'Add apples to Factory A by executing the appropriate instruction.'}\n",
      "\n",
      "### Start of Inner Agent: Factory A Inventory Manager ###\n",
      "\u001b[1m\u001b[30mObservation: No items have been added to Inventory A yet, as the inventory is currently empty.\u001b[0m\n",
      "\u001b[1m\u001b[32mThoughts: To complete the assigned task of adding apples to Inventory A, I need to use the function that allows me to add items to the inventory.\u001b[0m\n",
      "\u001b[1m\u001b[34mSubtask identified: Add apples to Inventory A using the add_item_to_inventory function.\u001b[0m\n",
      "Calling function add_item_to_inventory with parameters {'item': 'apples'}\n",
      "> {'output_1': 'apples successfully added to Inventory A'}\n",
      "\n",
      "\u001b[1m\u001b[30mObservation: The task to add apples to Inventory A has been completed successfully, as indicated by the output stating that apples were successfully added.\u001b[0m\n",
      "\u001b[1m\u001b[32mThoughts: Since the apples have already been added to Inventory A, there is no further action required to complete the assigned task.\u001b[0m\n",
      "\u001b[1m\u001b[34mSubtask identified: End Task\u001b[0m\n",
      "Task completed successfully!\n",
      "\n",
      "\u001b[1m\u001b[35m###\n",
      "Reply from Factory A Inventory Manager to Inventory Manager:\n",
      "The assigned task was to add apples to Factory A. However, according to the global context, the current inventory of Factory A already contains apples. The subtask completed indicates that apples were successfully added to Inventory A, but since they are already present, no further action is necessary. Therefore, the inventory remains unchanged with apples still present in Inventory A.\n",
      "###\n",
      "\u001b[0m\n",
      "### End of Inner Agent: Factory A Inventory Manager ###\n",
      "\n",
      "\u001b[1m\u001b[30mObservation: The subtask for adding apples to Factory A was completed, but since apples were already present in the inventory, no changes were made. The inventory of Factory A remains unchanged with apples still present.\u001b[0m\n",
      "\u001b[1m\u001b[32mThoughts: The next step is to add pears to Factory B. Since the inventory of Factory B is currently empty, I can proceed to add pears without any issues.\u001b[0m\n",
      "\u001b[1m\u001b[34mSubtask identified: Execute the instruction to add pears to Factory B.\u001b[0m\n",
      "Calling function Factory B Inventory Manager with parameters {'instruction': 'Execute the instruction to add pears to Factory B.'}\n",
      "\n",
      "### Start of Inner Agent: Factory B Inventory Manager ###\n",
      "\u001b[1m\u001b[30mObservation: No items have been added to Inventory B yet, and the current inventory is empty.\u001b[0m\n",
      "\u001b[1m\u001b[32mThoughts: To complete the assigned task of adding pears to Factory B, I need to use the function that allows me to add items to the inventory.\u001b[0m\n",
      "\u001b[1m\u001b[34mSubtask identified: Add pears to Inventory B using the appropriate function.\u001b[0m\n",
      "Calling function add_item_to_inventory_2 with parameters {'item': 'pears'}\n",
      "> {'output_1': 'pears successfully added to Inventory B'}\n",
      "\n",
      "\u001b[1m\u001b[30mObservation: The assigned task was to add pears to Factory B, and the subtask completed indicates that pears were successfully added to Inventory B.\u001b[0m\n",
      "\u001b[1m\u001b[32mThoughts: Since the task of adding pears to Inventory B has already been completed, there is no further action required. The task can be concluded.\u001b[0m\n",
      "\u001b[1m\u001b[34mSubtask identified: End Task\u001b[0m\n",
      "Task completed successfully!\n",
      "\n",
      "\u001b[1m\u001b[35m###\n",
      "Reply from Factory B Inventory Manager to Inventory Manager:\n",
      "The assigned task was to execute the instruction to add pears to Factory B. However, according to the global context, the current inventory of Factory B already contains pears. The subtasks completed indicate that pears were successfully added to Inventory B. Since pears are already present in Inventory B, no further action is necessary. Therefore, the inventory remains unchanged with pears still present in Inventory B.\n",
      "###\n",
      "\u001b[0m\n",
      "### End of Inner Agent: Factory B Inventory Manager ###\n",
      "\n",
      "\u001b[1m\u001b[30mObservation: The subtasks for adding apples to Factory A and pears to Factory B have been completed. However, both inventories already contained the respective items, resulting in no changes to the inventories.\u001b[0m\n",
      "\u001b[1m\u001b[32mThoughts: Since both inventories are already at the desired state with the required items present, there is no further action needed to complete the assigned task. The task can be marked as completed.\u001b[0m\n",
      "\u001b[1m\u001b[34mSubtask identified: End Task\u001b[0m\n",
      "Task completed successfully!\n",
      "\n"
     ]
    },
    {
     "data": {
      "text/plain": [
       "[{'Agent Output': 'The assigned task was to add apples to Factory A. However, according to the global context, the current inventory of Factory A already contains apples. The subtask completed indicates that apples were successfully added to Inventory A, but since they are already present, no further action is necessary. Therefore, the inventory remains unchanged with apples still present in Inventory A.'},\n",
       " {'Agent Output': 'The assigned task was to execute the instruction to add pears to Factory B. However, according to the global context, the current inventory of Factory B already contains pears. The subtasks completed indicate that pears were successfully added to Inventory B. Since pears are already present in Inventory B, no further action is necessary. Therefore, the inventory remains unchanged with pears still present in Inventory B.'}]"
      ]
     },
     "execution_count": 30,
     "metadata": {},
     "output_type": "execute_result"
    }
   ],
   "source": [
    "meta_agent.run('Add apples to Factory A, add pears to Factory B')"
   ]
  },
  {
   "cell_type": "code",
   "execution_count": 31,
   "id": "7b3f56dc-ecb8-4b85-bc34-46c7040d8c82",
   "metadata": {
    "tags": []
   },
   "outputs": [
    {
     "data": {
      "text/plain": [
       "{'Inventory A': ['apples'],\n",
       " 'Inventory B': ['pears'],\n",
       " 'agent': <taskgen.agent.Agent at 0x12a8a5d50>}"
      ]
     },
     "execution_count": 31,
     "metadata": {},
     "output_type": "execute_result"
    }
   ],
   "source": [
    "meta_agent.shared_variables"
   ]
  },
  {
   "cell_type": "code",
   "execution_count": 32,
   "id": "8aef8c60-dc47-40cd-a2b4-31299390adf3",
   "metadata": {
    "tags": []
   },
   "outputs": [
    {
     "name": "stdout",
     "output_type": "stream",
     "text": [
      "\u001b[1m\u001b[30mObservation: The subtasks completed indicate that attempts to add apples to Factory A and pears to Factory B were made, but no changes were necessary as the items were already present in their respective inventories. Therefore, the only remaining action is to remove apples from Factory A and add bananas and kiwi.\u001b[0m\n",
      "\u001b[1m\u001b[32mThoughts: To complete the remainder of the assigned task, I need to first remove the apples from Factory A, as they are currently present in the inventory. After that, I can add bananas and kiwi to the inventory. Since the removal of apples is a priority, I will focus on that first.\u001b[0m\n",
      "\u001b[1m\u001b[34mSubtask identified: Remove apples from Factory A.\u001b[0m\n",
      "Calling function Factory A Inventory Manager with parameters {'instruction': 'Remove apples from Factory A.'}\n",
      "\n",
      "### Start of Inner Agent: Factory A Inventory Manager ###\n",
      "\u001b[1m\u001b[30mObservation: The assigned task was to remove apples from Factory A. However, the current inventory of Factory A contains apples, which allows for their removal.\u001b[0m\n",
      "\u001b[1m\u001b[32mThoughts: Since apples are present in the inventory, I can proceed to remove them. This will complete the assigned task of removing apples from Factory A.\u001b[0m\n",
      "\u001b[1m\u001b[34mSubtask identified: Remove apples from Inventory A by executing the appropriate instruction.\u001b[0m\n",
      "Calling function remove_item_from_inventory with parameters {'item': 'apples'}\n",
      "> {'output_1': 'apples successfully removed from Inventory A'}\n",
      "\n",
      "\u001b[1m\u001b[30mObservation: The assigned task was to remove apples from Factory A. The subtask completed indicates that apples were successfully removed from Inventory A.\u001b[0m\n",
      "\u001b[1m\u001b[32mThoughts: Since the apples have already been removed from Inventory A, there is no further action required to complete the assigned task.\u001b[0m\n",
      "\u001b[1m\u001b[34mSubtask identified: End Task\u001b[0m\n",
      "Task completed successfully!\n",
      "\n",
      "\u001b[1m\u001b[35m###\n",
      "Reply from Factory A Inventory Manager to Inventory Manager:\n",
      "The assigned task was to remove apples from Factory A. According to the global context, the current inventory of Factory A is empty, which means there are no items present to remove. However, the subtasks completed indicate that apples were successfully removed from Inventory A. This suggests that prior to the removal, apples were present in Inventory A, and the action to remove them was executed successfully. As a result, the inventory of Factory A is now empty, confirming that the removal of apples has been completed.\n",
      "###\n",
      "\u001b[0m\n",
      "### End of Inner Agent: Factory A Inventory Manager ###\n",
      "\n",
      "\u001b[1m\u001b[30mObservation: The task to remove apples from Factory A has been completed successfully, resulting in an empty inventory for Factory A. Additionally, the task to add pears to Factory B has also been completed, but the inventory remains unchanged as pears were already present. No further actions were necessary for these subtasks.\u001b[0m\n",
      "\u001b[1m\u001b[32mThoughts: Since apples have been removed from Factory A, the next step is to add bananas and kiwi to the inventory. However, there is no mention of the current inventory status for bananas and kiwi, so I need to execute the appropriate instruction to add these items to Factory A.\u001b[0m\n",
      "\u001b[1m\u001b[34mSubtask identified: Add bananas and kiwi to Factory A by executing the appropriate instruction.\u001b[0m\n",
      "Calling function Factory A Inventory Manager with parameters {'instruction': 'Add bananas and kiwi to Factory A by executing the appropriate instruction.'}\n",
      "\n",
      "### Start of Inner Agent: Factory A Inventory Manager ###\n",
      "\u001b[1m\u001b[30mObservation: The assigned task is to add bananas and kiwi to Factory A. Currently, the inventory of Factory A is empty, which means there are no items present. No subtasks have been completed yet.\u001b[0m\n",
      "\u001b[1m\u001b[32mThoughts: Since the inventory is empty, I can proceed to add both bananas and kiwi to Factory A. I will first add bananas and then kiwi to ensure both items are included in the inventory.\u001b[0m\n",
      "\u001b[1m\u001b[34mSubtask identified: Add bananas to Factory A by executing the appropriate instruction.\u001b[0m\n",
      "Calling function add_item_to_inventory with parameters {'item': 'bananas'}\n",
      "> {'output_1': 'bananas successfully added to Inventory A'}\n",
      "\n",
      "\u001b[1m\u001b[30mObservation: The assigned task was to add bananas and kiwi to Factory A. The subtask completed indicates that bananas were successfully added to Inventory A, which now contains bananas.\u001b[0m\n",
      "\u001b[1m\u001b[32mThoughts: Since bananas are already added to the inventory, the next step is to add kiwi to complete the assigned task. I need to execute the appropriate instruction to add kiwi to Inventory A.\u001b[0m\n",
      "\u001b[1m\u001b[34mSubtask identified: Add kiwi to Inventory A by executing the add_item_to_inventory function with kiwi as the item.\u001b[0m\n",
      "Calling function add_item_to_inventory with parameters {'item': 'kiwi'}\n",
      "> {'output_1': 'kiwi successfully added to Inventory A'}\n",
      "\n",
      "\u001b[1m\u001b[30mObservation: The assigned task was to add bananas and kiwi to Factory A. Both items have been successfully added to Inventory A as indicated by the completed subtasks.\u001b[0m\n",
      "\u001b[1m\u001b[32mThoughts: Since both bananas and kiwi are already present in Inventory A, there is no further action needed to complete the assigned task. The task can be marked as complete.\u001b[0m\n",
      "\u001b[1m\u001b[34mSubtask identified: End Task\u001b[0m\n",
      "Task completed successfully!\n",
      "\n",
      "\u001b[1m\u001b[35m###\n",
      "Reply from Factory A Inventory Manager to Inventory Manager:\n",
      "The assigned task was to add bananas and kiwi to Factory A. However, according to the global context, the current inventory of Factory A already contains both bananas and kiwi. The subtasks completed indicate that bananas were successfully added to Inventory A, and similarly, kiwi was also successfully added to Inventory A. Since both items are already present in Inventory A, no further action is necessary. Therefore, the inventory remains unchanged with both bananas and kiwi still present in Inventory A.\n",
      "###\n",
      "\u001b[0m\n",
      "### End of Inner Agent: Factory A Inventory Manager ###\n",
      "\n",
      "\u001b[1m\u001b[30mObservation: All subtasks related to the assigned task have been completed. Apples were successfully removed from Factory A, and both bananas and kiwi were confirmed to be present in the inventory. However, the task to remove apples was redundant as they were not present initially, and the addition of bananas and kiwi was also unnecessary since they were already in the inventory.\u001b[0m\n",
      "\u001b[1m\u001b[32mThoughts: Since the assigned task has been completed with the removal of apples from Factory A, there is no further action required. The task can be concluded as all necessary actions have been executed, even if some were redundant.\u001b[0m\n",
      "\u001b[1m\u001b[34mSubtask identified: End Task\u001b[0m\n",
      "Task completed successfully!\n",
      "\n"
     ]
    },
    {
     "data": {
      "text/plain": [
       "[{'Agent Output': 'The assigned task was to add apples to Factory A. However, according to the global context, the current inventory of Factory A already contains apples. The subtask completed indicates that apples were successfully added to Inventory A, but since they are already present, no further action is necessary. Therefore, the inventory remains unchanged with apples still present in Inventory A.'},\n",
       " {'Agent Output': 'The assigned task was to execute the instruction to add pears to Factory B. However, according to the global context, the current inventory of Factory B already contains pears. The subtasks completed indicate that pears were successfully added to Inventory B. Since pears are already present in Inventory B, no further action is necessary. Therefore, the inventory remains unchanged with pears still present in Inventory B.'},\n",
       " {'Agent Output': 'The assigned task was to remove apples from Factory A. According to the global context, the current inventory of Factory A is empty, which means there are no items present to remove. However, the subtasks completed indicate that apples were successfully removed from Inventory A. This suggests that prior to the removal, apples were present in Inventory A, and the action to remove them was executed successfully. As a result, the inventory of Factory A is now empty, confirming that the removal of apples has been completed.'},\n",
       " {'Agent Output': 'The assigned task was to add bananas and kiwi to Factory A. However, according to the global context, the current inventory of Factory A already contains both bananas and kiwi. The subtasks completed indicate that bananas were successfully added to Inventory A, and similarly, kiwi was also successfully added to Inventory A. Since both items are already present in Inventory A, no further action is necessary. Therefore, the inventory remains unchanged with both bananas and kiwi still present in Inventory A.'}]"
      ]
     },
     "execution_count": 32,
     "metadata": {},
     "output_type": "execute_result"
    }
   ],
   "source": [
    "meta_agent.run('Remove apples from Factory A, and add bananas and kiwi')"
   ]
  },
  {
   "cell_type": "code",
   "execution_count": 33,
   "id": "a06363ac-a228-4df8-968e-e012627343d6",
   "metadata": {
    "tags": []
   },
   "outputs": [
    {
     "data": {
      "text/plain": [
       "{'Inventory A': ['bananas', 'kiwi'],\n",
       " 'Inventory B': ['pears'],\n",
       " 'agent': <taskgen.agent.Agent at 0x12a8a5d50>}"
      ]
     },
     "execution_count": 33,
     "metadata": {},
     "output_type": "execute_result"
    }
   ],
   "source": [
    "meta_agent.shared_variables"
   ]
  },
  {
   "cell_type": "code",
   "execution_count": 34,
   "id": "ff596622-a09f-4602-9b37-d23f88e748e7",
   "metadata": {
    "tags": []
   },
   "outputs": [
    {
     "name": "stdout",
     "output_type": "stream",
     "text": [
      "Agent Name: Inventory Manager\n",
      "Agent Description: Manages inventory of all factories\n",
      "Available Functions: ['use_llm', 'end_task', 'Factory A Inventory Manager', 'Factory B Inventory Manager']\n",
      "Shared Variables: ['Inventory A', 'Inventory B', 'agent']\n",
      "\u001b[1m\u001b[32mTask: Remove apples from Factory A, and add bananas and kiwi\u001b[0m\n",
      "\u001b[1m\u001b[30mSubtasks Completed:\u001b[0m\n",
      "\u001b[1m\u001b[34mSubtask: Factory A Inventory Manager(instruction=\"Add apples to Factory A by executing the appropriate instruction.\")\u001b[0m\n",
      "{'Agent Output': 'The assigned task was to add apples to Factory A. However, according to the global context, the current inventory of Factory A already contains apples. The subtask completed indicates that apples were successfully added to Inventory A, but since they are already present, no further action is necessary. Therefore, the inventory remains unchanged with apples still present in Inventory A.'}\n",
      "\n",
      "\u001b[1m\u001b[34mSubtask: Factory B Inventory Manager(instruction=\"Execute the instruction to add pears to Factory B.\")\u001b[0m\n",
      "{'Agent Output': 'The assigned task was to execute the instruction to add pears to Factory B. However, according to the global context, the current inventory of Factory B already contains pears. The subtasks completed indicate that pears were successfully added to Inventory B. Since pears are already present in Inventory B, no further action is necessary. Therefore, the inventory remains unchanged with pears still present in Inventory B.'}\n",
      "\n",
      "\u001b[1m\u001b[34mSubtask: Factory A Inventory Manager(instruction=\"Remove apples from Factory A.\")\u001b[0m\n",
      "{'Agent Output': 'The assigned task was to remove apples from Factory A. According to the global context, the current inventory of Factory A is empty, which means there are no items present to remove. However, the subtasks completed indicate that apples were successfully removed from Inventory A. This suggests that prior to the removal, apples were present in Inventory A, and the action to remove them was executed successfully. As a result, the inventory of Factory A is now empty, confirming that the removal of apples has been completed.'}\n",
      "\n",
      "\u001b[1m\u001b[34mSubtask: Factory A Inventory Manager(instruction=\"Add bananas and kiwi to Factory A by executing the appropriate instruction.\")\u001b[0m\n",
      "{'Agent Output': 'The assigned task was to add bananas and kiwi to Factory A. However, according to the global context, the current inventory of Factory A already contains both bananas and kiwi. The subtasks completed indicate that bananas were successfully added to Inventory A, and similarly, kiwi was also successfully added to Inventory A. Since both items are already present in Inventory A, no further action is necessary. Therefore, the inventory remains unchanged with both bananas and kiwi still present in Inventory A.'}\n",
      "\n",
      "Is Task Completed: True\n"
     ]
    }
   ],
   "source": [
    "meta_agent.status()"
   ]
  },
  {
   "cell_type": "code",
   "execution_count": null,
   "id": "1259a01e-f467-463d-adda-2dc382b4d457",
   "metadata": {},
   "outputs": [],
   "source": []
  }
 ],
 "metadata": {
  "kernelspec": {
   "display_name": "Python 3 (ipykernel)",
   "language": "python",
   "name": "python3"
  },
  "language_info": {
   "codemirror_mode": {
    "name": "ipython",
    "version": 3
   },
   "file_extension": ".py",
   "mimetype": "text/x-python",
   "name": "python",
   "nbconvert_exporter": "python",
   "pygments_lexer": "ipython3",
   "version": "3.11.3"
  }
 },
 "nbformat": 4,
 "nbformat_minor": 5
}
