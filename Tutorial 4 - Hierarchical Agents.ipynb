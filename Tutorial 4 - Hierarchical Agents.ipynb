{
 "cells": [
  {
   "cell_type": "markdown",
   "id": "2fa1e388-b8f4-4fa3-be5a-ba7c6caae038",
   "metadata": {
    "tags": []
   },
   "source": [
    "# Tutorial 2 - Hierarchical Agents\n",
    "\n",
    "## Functionalities:\n",
    "- An agent (referred as meta agent) can also assign other agents (referred as inner agents) as the function call, thereby creating a hierarchical structure\n",
    "- Whenever the inner agent is called, we will run the full inner agent's process until termination\n",
    "- Maximum number of steps for each agent (meta agent or inner agent) can be defined in `max_subtasks` (default: 5) variable when initialising agent\n",
    "\n",
    "## Additional Details:\n",
    "- The inner agent will take in meta agent's instruction as input\n",
    "- In addition, the inner agent will also have access to meta agent's task and subtasks completed for global context\n",
    "- Inner agent's output will directly go into meta agent's subtasks completed dictionary, enabling it to directly update global context\n",
    "\n",
    "## Design Philosophy:\n",
    "- Bottom layers can get context of the top layers for more context-specific generation\n",
    "- Top layers choose bottom layers in a hierarchical fashion so as to limit the number of choices at each level for better performance\n",
    "- `subtasks_completed` serves as the global context for the meta agents and the inner agents, and can be summarised as needed, e.g. when performing a new task to filter out irrelevant information "
   ]
  },
  {
   "cell_type": "markdown",
   "id": "0b305952-5ff3-4235-8ae0-c23f36b78aa2",
   "metadata": {},
   "source": [
    "# Setup Guide"
   ]
  },
  {
   "cell_type": "markdown",
   "id": "666ab955-7060-4581-8539-95eff8b339dc",
   "metadata": {},
   "source": [
    "## Step 1: Install TaskGen"
   ]
  },
  {
   "cell_type": "code",
   "execution_count": 1,
   "id": "f542fc42-e84d-4302-9eda-d053815ea316",
   "metadata": {
    "tags": []
   },
   "outputs": [],
   "source": [
    "# !pip install taskgen-ai"
   ]
  },
  {
   "cell_type": "markdown",
   "id": "c6615712-c0a3-4e26-94f6-02878ae242cb",
   "metadata": {},
   "source": [
    "## Step 2: Import required functions and setup relevant API keys for your LLM"
   ]
  },
  {
   "cell_type": "code",
   "execution_count": 2,
   "id": "511f92ac-633a-46e4-ad1f-5db04c4b8674",
   "metadata": {
    "tags": []
   },
   "outputs": [],
   "source": [
    "# Set up API key and do the necessary imports\n",
    "from taskgen import *\n",
    "import os\n",
    "\n",
    "# this is only if you use OpenAI as your LLM\n",
    "os.environ['OPENAI_API_KEY'] = '<YOUR API KEY HERE>'"
   ]
  },
  {
   "cell_type": "markdown",
   "id": "4107c095-7879-49c9-8b80-894078202b08",
   "metadata": {},
   "source": [
    "## Step 3: Define your own LLM\n",
    "- Take in a `system_prompt`, `user_prompt`, and outputs llm response string\n",
    "- Note: If you do not define your own LLM, OpenAI 'gpt-3.5-turbo' will be used as default"
   ]
  },
  {
   "cell_type": "code",
   "execution_count": 3,
   "id": "1a34fa2d-4339-47ad-a0b0-098d653b9f5c",
   "metadata": {
    "tags": []
   },
   "outputs": [],
   "source": [
    "def llm(system_prompt: str, user_prompt: str) -> str:\n",
    "    ''' Here, we use OpenAI for illustration, you can change it to your own LLM '''\n",
    "    # ensure your LLM imports are all within this function\n",
    "    from openai import OpenAI\n",
    "    \n",
    "    # define your own LLM here\n",
    "    client = OpenAI()\n",
    "    response = client.chat.completions.create(\n",
    "        model='gpt-3.5-turbo',\n",
    "        temperature = 0,\n",
    "        messages=[\n",
    "            {\"role\": \"system\", \"content\": system_prompt},\n",
    "            {\"role\": \"user\", \"content\": user_prompt}\n",
    "        ]\n",
    "    )\n",
    "    return response.choices[0].message.content"
   ]
  },
  {
   "cell_type": "code",
   "execution_count": 4,
   "id": "4019a53b-da17-4971-ba8a-3d10294600ef",
   "metadata": {
    "tags": []
   },
   "outputs": [
    {
     "data": {
      "text/plain": [
       "'Positive'"
      ]
     },
     "execution_count": 4,
     "metadata": {},
     "output_type": "execute_result"
    }
   ],
   "source": [
    "# Verify that llm function is working\n",
    "llm(system_prompt = 'You are a classifier to classify the sentiment of a sentence', \n",
    "    user_prompt = 'It is a hot and sunny day')"
   ]
  },
  {
   "cell_type": "markdown",
   "id": "d485cc60-ad94-49ad-8a2d-204368a7065d",
   "metadata": {},
   "source": [
    "# Define Agents and Meta Agents\n",
    "- You can also create a Meta Agent that uses other Agents (referred to as Inner Agents) as functions\n",
    "- Create your Meta agent using `Agent()` (Note: No different from usual process of creating Agents - your Meta Agent is also an Agent)\n",
    "- Set up an Inner Agent list and assign it to your Meta agent using `assign_agents(agent_list)`\n",
    "\n",
    "## Example Meta Agent Setup\n",
    "```python\n",
    "# Define your meta-agent\n",
    "my_agent = Agent('Menu Creator', \n",
    "                 'Creates a menu for a restaurant. Menu item includes Name, Description, Ingredients, Pricing.')\n",
    "\n",
    "# Define your agent list. Note you can just assign functions to the agent in place using .assign_functions(function_list)\n",
    "agent_list = [\n",
    "    Agent('Chef', 'Takes in dish names and generates ingredients for each of them. Does not generate prices.'),\n",
    "    Agent('Boss', 'Makes decision on which items to include in menu.'),\n",
    "    Agent('Creative Writer', 'Takes in a cuisine type and generates interesting dish names and descriptions.', max_subtasks = 2),\n",
    "    Agent('Economist', 'Takes in dish names and comes up with pricing for each of them').assign_functions([fp])\n",
    "    ]\n",
    "\n",
    "my_agent.assign_agents(agent_list)\n",
    "```\n",
    "\n",
    "## Run the Meta Agent\n",
    "- Let us run the agent and see the interactions between the Meta Agent and Inner Agents to solve the task!\n",
    "```python\n",
    "output = my_agent.run('Generate 5 menu items with name, description, ingredients and price based on Italian food choices. Ensure all parts of menu are generated.')\n",
    "```"
   ]
  },
  {
   "cell_type": "code",
   "execution_count": 5,
   "id": "1f2304be-b9fa-4292-b20f-2ac6c6909015",
   "metadata": {
    "tags": []
   },
   "outputs": [],
   "source": [
    "def random_number_from_string(input_string) -> int:\n",
    "    ''' Returns a random number between 1 and 10 when given an input string '''\n",
    "    import hashlib\n",
    "    import random\n",
    "    # Hash the input string\n",
    "    hashed_string = hashlib.sha256(input_string.encode()).hexdigest()\n",
    "    \n",
    "    # Convert the hashed string to an integer\n",
    "    hashed_integer = int(hashed_string, 16)\n",
    "    \n",
    "    # Seed the random number generator with the hashed integer\n",
    "    random.seed(hashed_integer)\n",
    "    \n",
    "    # Generate a random number between 1 and 10\n",
    "    return random.randint(1, 10)"
   ]
  },
  {
   "cell_type": "code",
   "execution_count": 6,
   "id": "7222e82b-e030-4494-894d-41a61370c747",
   "metadata": {
    "tags": []
   },
   "outputs": [],
   "source": [
    "# assign a dish pricing function for economist\n",
    "# Note: Try to make the output informative that is understandable by the Agent - use free text or json to explain the output so that someone can understand without the input\n",
    "def dish_price(list_of_dish_names: list) -> dict:\n",
    "    ''' Takes in list_of_dish_names and outputs price of each dish '''\n",
    "    if not isinstance(list_of_dish_names, list):\n",
    "        list_of_food_items = [list_of_dish_names]\n",
    "    output = {}\n",
    "    for each in list_of_dish_names:\n",
    "        output[each] = '$'+str(random_number_from_string(each))\n",
    "    return output"
   ]
  },
  {
   "cell_type": "code",
   "execution_count": 7,
   "id": "fc770857-5ca0-43a1-a72f-5df7a97f7c02",
   "metadata": {
    "tags": []
   },
   "outputs": [],
   "source": [
    "# Define your meta-agent\n",
    "my_agent = Agent('Menu Creator', \n",
    "                 'Creates a menu for a restaurant. Menu item includes Name, Description, Ingredients, Pricing.',\n",
    "                llm = llm)"
   ]
  },
  {
   "cell_type": "code",
   "execution_count": 8,
   "id": "7302c9ec-6e27-40c0-8a3c-3cd350964027",
   "metadata": {
    "jp-MarkdownHeadingCollapsed": true,
    "tags": []
   },
   "outputs": [],
   "source": [
    "# Define your agent list. Note you can just assign functions to the agent in place using .assign_functions(function_list)\n",
    "agent_list = [\n",
    "    Agent('Chef', 'Takes in dish names and generates ingredients for each of them. Does not generate prices.'),\n",
    "    Agent('Boss', 'Makes decisions on which items to include in Menu'),\n",
    "    Agent('Creative Writer', 'Takes in a cuisine type and generates interesting dish names and descriptions. Does not generate prices or ingredients.', max_subtasks = 1),\n",
    "    Agent('Economist', 'Takes in dish names and comes up with pricing for each of them').assign_functions([dish_price])\n",
    "    ]"
   ]
  },
  {
   "cell_type": "code",
   "execution_count": 9,
   "id": "d4e9c84e-0ffa-4450-9522-6e21d86bad29",
   "metadata": {
    "tags": []
   },
   "outputs": [
    {
     "data": {
      "text/plain": [
       "<taskgen.agent.Agent at 0x12b4a6710>"
      ]
     },
     "execution_count": 9,
     "metadata": {},
     "output_type": "execute_result"
    }
   ],
   "source": [
    "my_agent.assign_agents(agent_list)"
   ]
  },
  {
   "cell_type": "markdown",
   "id": "b3a63cf7-0c50-4c6d-993a-8cee1de738d9",
   "metadata": {},
   "source": [
    "# Approach 1: Run a generic task with the Meta-Agent\n",
    "- Let us run a general task to create 5 menu items for an Italian restaurant\n",
    "- You can also specify how Agents interact with one another in the task, otherwise the Meta-Agent will infer what should be done"
   ]
  },
  {
   "cell_type": "code",
   "execution_count": 10,
   "id": "4aabd0c2-6470-43e1-b476-d77e2c85c0bb",
   "metadata": {
    "tags": []
   },
   "outputs": [
    {
     "name": "stdout",
     "output_type": "stream",
     "text": [
      "\u001b[1m\u001b[30mObservation: Assigned Task is to generate 5 menu items based on Italian food choices with name, description, ingredients, and price. No subtasks have been completed yet.\u001b[0m\n",
      "\u001b[1m\u001b[32mThoughts: To complete the Assigned Task, the menu items need to be created with the required details. The Equipped Functions available can be utilized to generate the necessary components for each menu item.\u001b[0m\n",
      "\u001b[1m\u001b[34mSubtask identified: Generate interesting dish names and descriptions for the 5 menu items based on Italian food choices.\u001b[0m\n",
      "Calling function Creative Writer with parameters {'instruction': 'Generate interesting dish names and descriptions for the 5 menu items based on Italian food choices.'}\n",
      "\n",
      "### Start of Inner Agent: Creative Writer ###\n",
      "\u001b[1m\u001b[30mObservation: No subtasks have been completed yet for the Assigned Task.\u001b[0m\n",
      "\u001b[1m\u001b[32mThoughts: To complete the Assigned Task, I will need to generate interesting dish names and descriptions for the 5 menu items based on Italian food choices. Since no specific subtasks have been completed yet, I will start by brainstorming dish names and descriptions for each menu item.\u001b[0m\n",
      "\u001b[1m\u001b[34mSubtask identified: Brainstorm interesting dish names and descriptions for the 5 menu items based on Italian food choices.\u001b[0m\n",
      "Getting LLM to perform the following task: Brainstorm interesting dish names and descriptions for the 5 menu items based on Italian food choices.\n",
      "> 1. Bella Vita Pasta: A delightful combination of al dente spaghetti tossed in a rich tomato and basil sauce, topped with freshly grated Parmesan cheese. The perfect representation of the Italian zest for life.\n",
      "2. Tuscan Sunset Risotto: Creamy Arborio rice cooked to perfection with saffron, sun-dried tomatoes, and a hint of garlic. This dish captures the essence of a picturesque Tuscan sunset in every bite.\n",
      "3. Amore Pizza Bianca: A thin crust pizza topped with creamy ricotta, mozzarella, and a drizzle of truffle oil. Each bite is a love letter to the simplicity and elegance of Italian cuisine.\n",
      "4. Caprese Dream Salad: A refreshing salad featuring ripe tomatoes, fresh basil, and creamy mozzarella, drizzled with balsamic glaze. This dish is a dreamy ode to the classic Caprese flavors.\n",
      "5. Dolce Vita Tiramisu: Layers of espresso-soaked ladyfingers and mascarpone cheese, dusted with cocoa powder. Indulge in this decadent dessert that embodies the sweet life of Italy.\n",
      "\n",
      "\u001b[1m\u001b[35m###\n",
      "Reply from Creative Writer to Menu Creator:\n",
      "The agent named Creative Writer has successfully completed the task of generating interesting dish names and descriptions for 5 menu items based on Italian food choices. The dishes created are as follows:\n",
      "1. Bella Vita Pasta: A delightful combination of al dente spaghetti tossed in a rich tomato and basil sauce, topped with freshly grated Parmesan cheese. The perfect representation of the Italian zest for life.\n",
      "2. Tuscan Sunset Risotto: Creamy Arborio rice cooked to perfection with saffron, sun-dried tomatoes, and a hint of garlic. This dish captures the essence of a picturesque Tuscan sunset in every bite.\n",
      "3. Amore Pizza Bianca: A thin crust pizza topped with creamy ricotta, mozzarella, and a drizzle of truffle oil. Each bite is a love letter to the simplicity and elegance of Italian cuisine.\n",
      "4. Caprese Dream Salad: A refreshing salad featuring ripe tomatoes, fresh basil, and creamy mozzarella, drizzled with balsamic glaze. This dish is a dreamy ode to the classic Caprese flavors.\n",
      "5. Dolce Vita Tiramisu: Layers of espresso-soaked ladyfingers and mascarpone cheese, dusted with cocoa powder. Indulge in this decadent dessert that embodies the sweet life of Italy.\n",
      "###\n",
      "\u001b[0m\n",
      "### End of Inner Agent: Creative Writer ###\n",
      "\n",
      "\u001b[1m\u001b[30mObservation: The Creative Writer has successfully generated interesting dish names and descriptions for the 5 menu items based on Italian food choices.\u001b[0m\n",
      "\u001b[1m\u001b[32mThoughts: To complete the remainder of the Assigned Task, the menu items still need ingredients and pricing. The next step is to assign the ingredients to each dish and then determine the pricing for each item.\u001b[0m\n",
      "\u001b[1m\u001b[34mSubtask identified: Assign ingredients to each of the 5 menu items based on Italian food choices. Once ingredients are assigned, determine the pricing for each item.\u001b[0m\n",
      "Calling function Chef with parameters {'instruction': 'Assign ingredients to each of the 5 menu items based on Italian food choices. Once ingredients are assigned, determine the pricing for each item.'}\n",
      "\n",
      "### Start of Inner Agent: Chef ###\n",
      "\u001b[1m\u001b[30mObservation: The dish names and descriptions have been successfully generated by the agent named Creative Writer based on Italian food choices.\u001b[0m\n",
      "\u001b[1m\u001b[32mThoughts: To complete the remainder of the Assigned Task, the ingredients need to be assigned to each of the 5 menu items and then determine the pricing for each item. Since the task involves generating ingredients and pricing, the Equipped Function 'use_llm' may not be suitable for this specific subtask.\u001b[0m\n",
      "\u001b[1m\u001b[34mSubtask identified: Assign ingredients to each of the 5 menu items based on Italian food choices.\u001b[0m\n",
      "Getting LLM to perform the following task: Assign ingredients to each of the 5 menu items based on Italian food choices.\n",
      "> Successfully assigned ingredients to each of the 5 menu items based on Italian food choices:\n",
      "1. Bella Vita Pasta: Ingredients - spaghetti, tomato, basil, Parmesan cheese\n",
      "2. Tuscan Sunset Risotto: Ingredients - Arborio rice, saffron, sun-dried tomatoes, garlic\n",
      "3. Amore Pizza Bianca: Ingredients - ricotta cheese, mozzarella cheese, truffle oil\n",
      "4. Caprese Dream Salad: Ingredients - tomatoes, basil, mozzarella cheese, balsamic glaze\n",
      "5. Dolce Vita Tiramisu: Ingredients - ladyfingers, mascarpone cheese, cocoa powder\n",
      "\n",
      "\u001b[1m\u001b[30mObservation: Ingredients have been successfully assigned to each of the 5 menu items based on Italian food choices. Pricing for each item still needs to be determined.\u001b[0m\n",
      "\u001b[1m\u001b[32mThoughts: To complete the remainder of the Assigned Task, pricing for each item needs to be determined. The last subtask is to pass the final output to the user.\u001b[0m\n",
      "\u001b[1m\u001b[34mSubtask identified: Determine the pricing for each of the 5 menu items based on the assigned ingredients.\u001b[0m\n",
      "Getting LLM to perform the following task: Determine the pricing for each of the 5 menu items based on the assigned ingredients.\n",
      "> Successfully determined the pricing for each of the 5 menu items based on the assigned ingredients:\n",
      "1. Bella Vita Pasta: Pricing - $12.99\n",
      "2. Tuscan Sunset Risotto: Pricing - $14.99\n",
      "3. Amore Pizza Bianca: Pricing - $11.99\n",
      "4. Caprese Dream Salad: Pricing - $9.99\n",
      "5. Dolce Vita Tiramisu: Pricing - $8.99\n",
      "\n",
      "\u001b[1m\u001b[30mObservation: All ingredients have been successfully assigned to each of the 5 menu items based on Italian food choices. Pricing has also been determined for each item.\u001b[0m\n",
      "\u001b[1m\u001b[32mThoughts: The next step is to pass the final output to the user as the last subtask of the Assigned Task. Since the task is to end here, the Equipped Function 'end_task' should be used to complete the task.\u001b[0m\n",
      "\u001b[1m\u001b[34mSubtask identified: End Task\u001b[0m\n",
      "Task completed successfully!\n",
      "\n",
      "\u001b[1m\u001b[35m###\n",
      "Reply from Chef to Menu Creator:\n",
      "As the agent named Chef, I have successfully completed the task of assigning ingredients to each of the 5 menu items based on Italian food choices. The ingredients for each dish are as follows:\n",
      "1. Bella Vita Pasta: Ingredients - spaghetti, tomato, basil, Parmesan cheese\n",
      "2. Tuscan Sunset Risotto: Ingredients - Arborio rice, saffron, sun-dried tomatoes, garlic\n",
      "3. Amore Pizza Bianca: Ingredients - ricotta cheese, mozzarella cheese, truffle oil\n",
      "4. Caprese Dream Salad: Ingredients - tomatoes, basil, mozzarella cheese, balsamic glaze\n",
      "5. Dolce Vita Tiramisu: Ingredients - ladyfingers, mascarpone cheese, cocoa powder\n",
      "Additionally, the pricing for each of the 5 menu items based on the assigned ingredients has been determined as follows:\n",
      "1. Bella Vita Pasta: Pricing - $12.99\n",
      "2. Tuscan Sunset Risotto: Pricing - $14.99\n",
      "3. Amore Pizza Bianca: Pricing - $11.99\n",
      "4. Caprese Dream Salad: Pricing - $9.99\n",
      "5. Dolce Vita Tiramisu: Pricing - $8.99\n",
      "###\n",
      "\u001b[0m\n",
      "### End of Inner Agent: Chef ###\n",
      "\n",
      "\u001b[1m\u001b[30mObservation: The dish names, descriptions, ingredients, and pricing for 5 menu items based on Italian food choices have been successfully generated and assigned.\u001b[0m\n",
      "\u001b[1m\u001b[32mThoughts: The next step is to format the output into a menu format and present it to the user. Since this is the final step of the Assigned Task, the Equipped Function \"end_task\" should be used to pass the final output to the user.\u001b[0m\n",
      "\u001b[1m\u001b[34mSubtask identified: End Task\u001b[0m\n",
      "Task completed successfully!\n",
      "\n"
     ]
    }
   ],
   "source": [
    "output = my_agent.run('Generate 5 menu items with name, description, ingredients and price based on Italian food choices. Output in Menu format.')"
   ]
  },
  {
   "cell_type": "code",
   "execution_count": 11,
   "id": "b6ec6b0f-9a70-4b47-b6ea-1c29cd88116f",
   "metadata": {
    "tags": []
   },
   "outputs": [
    {
     "name": "stdout",
     "output_type": "stream",
     "text": [
      "As the agent named Menu Creator, I have successfully completed the task of generating 5 menu items based on Italian food choices. The menu items are as follows:\n",
      "\n",
      "1. Bella Vita Pasta\n",
      "Description: A delightful combination of al dente spaghetti tossed in a rich tomato and basil sauce, topped with freshly grated Parmesan cheese. The perfect representation of the Italian zest for life.\n",
      "Ingredients: spaghetti, tomato, basil, Parmesan cheese\n",
      "Price: $12.99\n",
      "\n",
      "2. Tuscan Sunset Risotto\n",
      "Description: Creamy Arborio rice cooked to perfection with saffron, sun-dried tomatoes, and a hint of garlic. This dish captures the essence of a picturesque Tuscan sunset in every bite.\n",
      "Ingredients: Arborio rice, saffron, sun-dried tomatoes, garlic\n",
      "Price: $14.99\n",
      "\n",
      "3. Amore Pizza Bianca\n",
      "Description: A thin crust pizza topped with creamy ricotta, mozzarella, and a drizzle of truffle oil. Each bite is a love letter to the simplicity and elegance of Italian cuisine.\n",
      "Ingredients: ricotta cheese, mozzarella cheese, truffle oil\n",
      "Price: $11.99\n",
      "\n",
      "4. Caprese Dream Salad\n",
      "Description: A refreshing salad featuring ripe tomatoes, fresh basil, and creamy mozzarella, drizzled with balsamic glaze. This dish is a dreamy ode to the classic Caprese flavors.\n",
      "Ingredients: tomatoes, basil, mozzarella cheese, balsamic glaze\n",
      "Price: $9.99\n",
      "\n",
      "5. Dolce Vita Tiramisu\n",
      "Description: Layers of espresso-soaked ladyfingers and mascarpone cheese, dusted with cocoa powder. Indulge in this decadent dessert that embodies the sweet life of Italy.\n",
      "Ingredients: ladyfingers, mascarpone cheese, cocoa powder\n",
      "Price: $8.99\n"
     ]
    }
   ],
   "source": [
    "output = my_agent.reply_user()"
   ]
  },
  {
   "cell_type": "code",
   "execution_count": 12,
   "id": "5a4a96d3-2580-4989-8e3b-f240d1f12190",
   "metadata": {
    "tags": []
   },
   "outputs": [
    {
     "name": "stdout",
     "output_type": "stream",
     "text": [
      "Agent Name: Menu Creator\n",
      "Agent Description: Creates a menu for a restaurant. Menu item includes Name, Description, Ingredients, Pricing.\n",
      "Available Functions: ['use_llm', 'end_task', 'Chef', 'Boss', 'Creative Writer', 'Economist']\n",
      "Shared Variables: ['agent']\n",
      "\u001b[1m\u001b[32mTask: Generate 5 menu items with name, description, ingredients and price based on Italian food choices. Output in Menu format.\u001b[0m\n",
      "\u001b[1m\u001b[30mSubtasks Completed:\u001b[0m\n",
      "\u001b[1m\u001b[34mSubtask: Creative Writer(instruction=\"Generate interesting dish names and descriptions for the 5 menu items based on Italian food choices.\")\u001b[0m\n",
      "{'Agent Output': 'The agent named Creative Writer has successfully completed the task of generating interesting dish names and descriptions for 5 menu items based on Italian food choices. The dishes created are as follows:\\n1. Bella Vita Pasta: A delightful combination of al dente spaghetti tossed in a rich tomato and basil sauce, topped with freshly grated Parmesan cheese. The perfect representation of the Italian zest for life.\\n2. Tuscan Sunset Risotto: Creamy Arborio rice cooked to perfection with saffron, sun-dried tomatoes, and a hint of garlic. This dish captures the essence of a picturesque Tuscan sunset in every bite.\\n3. Amore Pizza Bianca: A thin crust pizza topped with creamy ricotta, mozzarella, and a drizzle of truffle oil. Each bite is a love letter to the simplicity and elegance of Italian cuisine.\\n4. Caprese Dream Salad: A refreshing salad featuring ripe tomatoes, fresh basil, and creamy mozzarella, drizzled with balsamic glaze. This dish is a dreamy ode to the classic Caprese flavors.\\n5. Dolce Vita Tiramisu: Layers of espresso-soaked ladyfingers and mascarpone cheese, dusted with cocoa powder. Indulge in this decadent dessert that embodies the sweet life of Italy.'}\n",
      "\n",
      "\u001b[1m\u001b[34mSubtask: Chef(instruction=\"Assign ingredients to each of the 5 menu items based on Italian food choices. Once ingredients are assigned, determine the pricing for each item.\")\u001b[0m\n",
      "{'Agent Output': 'As the agent named Chef, I have successfully completed the task of assigning ingredients to each of the 5 menu items based on Italian food choices. The ingredients for each dish are as follows:\\n1. Bella Vita Pasta: Ingredients - spaghetti, tomato, basil, Parmesan cheese\\n2. Tuscan Sunset Risotto: Ingredients - Arborio rice, saffron, sun-dried tomatoes, garlic\\n3. Amore Pizza Bianca: Ingredients - ricotta cheese, mozzarella cheese, truffle oil\\n4. Caprese Dream Salad: Ingredients - tomatoes, basil, mozzarella cheese, balsamic glaze\\n5. Dolce Vita Tiramisu: Ingredients - ladyfingers, mascarpone cheese, cocoa powder\\nAdditionally, the pricing for each of the 5 menu items based on the assigned ingredients has been determined as follows:\\n1. Bella Vita Pasta: Pricing - $12.99\\n2. Tuscan Sunset Risotto: Pricing - $14.99\\n3. Amore Pizza Bianca: Pricing - $11.99\\n4. Caprese Dream Salad: Pricing - $9.99\\n5. Dolce Vita Tiramisu: Pricing - $8.99'}\n",
      "\n",
      "\u001b[1m\u001b[34mSubtask: Generate 5 menu items with name, description, ingredients and price based on Italian food choices. Output in Menu format.\u001b[0m\n",
      "As the agent named Menu Creator, I have successfully completed the task of generating 5 menu items based on Italian food choices. The menu items are as follows:\n",
      "\n",
      "1. Bella Vita Pasta\n",
      "Description: A delightful combination of al dente spaghetti tossed in a rich tomato and basil sauce, topped with freshly grated Parmesan cheese. The perfect representation of the Italian zest for life.\n",
      "Ingredients: spaghetti, tomato, basil, Parmesan cheese\n",
      "Price: $12.99\n",
      "\n",
      "2. Tuscan Sunset Risotto\n",
      "Description: Creamy Arborio rice cooked to perfection with saffron, sun-dried tomatoes, and a hint of garlic. This dish captures the essence of a picturesque Tuscan sunset in every bite.\n",
      "Ingredients: Arborio rice, saffron, sun-dried tomatoes, garlic\n",
      "Price: $14.99\n",
      "\n",
      "3. Amore Pizza Bianca\n",
      "Description: A thin crust pizza topped with creamy ricotta, mozzarella, and a drizzle of truffle oil. Each bite is a love letter to the simplicity and elegance of Italian cuisine.\n",
      "Ingredients: ricotta cheese, mozzarella cheese, truffle oil\n",
      "Price: $11.99\n",
      "\n",
      "4. Caprese Dream Salad\n",
      "Description: A refreshing salad featuring ripe tomatoes, fresh basil, and creamy mozzarella, drizzled with balsamic glaze. This dish is a dreamy ode to the classic Caprese flavors.\n",
      "Ingredients: tomatoes, basil, mozzarella cheese, balsamic glaze\n",
      "Price: $9.99\n",
      "\n",
      "5. Dolce Vita Tiramisu\n",
      "Description: Layers of espresso-soaked ladyfingers and mascarpone cheese, dusted with cocoa powder. Indulge in this decadent dessert that embodies the sweet life of Italy.\n",
      "Ingredients: ladyfingers, mascarpone cheese, cocoa powder\n",
      "Price: $8.99\n",
      "\n",
      "Is Task Completed: True\n"
     ]
    }
   ],
   "source": [
    "my_agent.status()"
   ]
  },
  {
   "cell_type": "markdown",
   "id": "18be4496-fc6b-4d61-957a-e42809989f89",
   "metadata": {},
   "source": [
    "# Approach 2: Step through the process yourself as the Meta Agent\n",
    "- You can use agents manually using `use_agent(agent_name: str, agent_task: str)` The outputs of the agents will be stored into `subtasks_completed` of the meta agent automatically\n",
    "- You can also interact with the meta agent using `reply_user(task: str, stateful: bool = False)`. This generates a reply for the agent to the `task` using `subtasks_completed` as context. If `stateful` is true, this will also store the output into `subtasks_completed`\n",
    "- If `subtasks_completed` is too lengthy, you can run `summarise_subtasks_completed(task: str)` This summarises `subtasks_completed` according to what is relevant to the `task`\n",
    "- If you want to redo a subtask, you can remove the most recent subtask from `subtasks_completed` using `remove_last_subtask()`"
   ]
  },
  {
   "cell_type": "code",
   "execution_count": 13,
   "id": "9b1828fd-975e-41c1-ad6c-5f1552286a82",
   "metadata": {
    "tags": []
   },
   "outputs": [
    {
     "name": "stdout",
     "output_type": "stream",
     "text": [
      "Agent Name: Menu Creator\n",
      "Agent Description: Creates a menu for a restaurant. Menu item includes Name, Description, Ingredients, Pricing.\n",
      "Available Functions: ['use_llm', 'end_task', 'Chef', 'Boss', 'Creative Writer', 'Economist']\n",
      "Shared Variables: ['agent']\n",
      "\u001b[1m\u001b[32mTask: No task assigned\u001b[0m\n",
      "\u001b[1m\u001b[34mSubtasks Completed: None\u001b[0m\n",
      "Is Task Completed: False\n"
     ]
    }
   ],
   "source": [
    "# reset the state of the agent\n",
    "my_agent.reset()\n",
    "# currently should have no task and nothing in subtasks_completed\n",
    "my_agent.status()"
   ]
  },
  {
   "cell_type": "code",
   "execution_count": 14,
   "id": "83e65804-6519-4160-81ac-bb05ad10237b",
   "metadata": {
    "tags": []
   },
   "outputs": [],
   "source": [
    "# Assign a task for the meta agent - this helps to contextualise what you give each of the inner agents later on\n",
    "my_agent.assign_task('Generate 5 menu items with name, description, ingredients and price based on Italian food choices. Output in Menu format.')"
   ]
  },
  {
   "cell_type": "code",
   "execution_count": 15,
   "id": "1cc2a7e3-407f-448b-a49b-92260f433527",
   "metadata": {},
   "outputs": [
    {
     "name": "stdout",
     "output_type": "stream",
     "text": [
      "Calling function Creative Writer with parameters {'instruction': 'Generate only 5 Italian dish names and descriptions'}\n",
      "\n",
      "### Start of Inner Agent: Creative Writer ###\n",
      "\u001b[1m\u001b[30mObservation: No subtasks have been completed yet for the Assigned Task.\u001b[0m\n",
      "\u001b[1m\u001b[32mThoughts: To complete the Assigned Task, I need to generate 5 Italian dish names and descriptions. Since no specific requirements have been provided, I will need to rely on a general function to generate these names and descriptions.\u001b[0m\n",
      "\u001b[1m\u001b[34mSubtask identified: Generate 5 Italian dish names and descriptions using the use_llm function.\u001b[0m\n",
      "Getting LLM to perform the following task: Generate 5 Italian dish names and descriptions using the use_llm function.\n",
      "> 1. Bella Vita Pasta: A delightful combination of al dente pasta tossed in a rich tomato and basil sauce, topped with freshly grated Parmesan cheese. This dish will transport you to the charming streets of Italy with every bite.\n",
      "2. Tuscan Sunrise Risotto: Creamy Arborio rice cooked to perfection with sun-dried tomatoes, spinach, and a hint of saffron. This dish captures the essence of a beautiful Tuscan morning, warm and comforting.\n",
      "3. Amore Alla Carbonara: Indulge in this classic Roman dish featuring spaghetti coated in a velvety sauce made with eggs, Pecorino Romano cheese, and crispy pancetta. Each forkful is a taste of pure love.\n",
      "4. Sicilian Citrus Seafood Medley: A vibrant dish showcasing a medley of fresh seafood including shrimp, mussels, and calamari, cooked in a zesty citrus sauce with a touch of Sicilian herbs. This dish is a burst of flavors from the Mediterranean.\n",
      "5. Venetian Dream Tiramisu: End your meal on a sweet note with this luscious dessert made of layers of coffee-soaked ladyfingers and mascarpone cream, dusted with cocoa powder. This Venetian classic is a dreamy finale to your Italian culinary journey.\n",
      "\n",
      "\u001b[1m\u001b[35m###\n",
      "Reply from Creative Writer to Menu Creator:\n",
      "The agent named Creative Writer has successfully completed the task by generating 5 Italian dish names and descriptions. The dishes include Bella Vita Pasta, Tuscan Sunrise Risotto, Amore Alla Carbonara, Sicilian Citrus Seafood Medley, and Venetian Dream Tiramisu. Each dish has a unique description highlighting the flavors and essence of Italian cuisine.\n",
      "###\n",
      "\u001b[0m\n",
      "### End of Inner Agent: Creative Writer ###\n",
      "\n"
     ]
    }
   ],
   "source": [
    "# This will run the Agent Creative Writer (with shared subtasks_completed as meta agent)\n",
    "# Output of task will go directly into subtasks_completed - we view the inner agent as simply an extension of the meta agent\n",
    "my_agent.use_agent('Creative Writer', 'Generate only 5 Italian dish names and descriptions')"
   ]
  },
  {
   "cell_type": "code",
   "execution_count": 16,
   "id": "d7baae92-097a-47db-a083-58e3328451db",
   "metadata": {
    "tags": []
   },
   "outputs": [
    {
     "name": "stdout",
     "output_type": "stream",
     "text": [
      "Agent Name: Menu Creator\n",
      "Agent Description: Creates a menu for a restaurant. Menu item includes Name, Description, Ingredients, Pricing.\n",
      "Available Functions: ['use_llm', 'end_task', 'Chef', 'Boss', 'Creative Writer', 'Economist']\n",
      "Shared Variables: ['agent']\n",
      "\u001b[1m\u001b[32mTask: Generate 5 menu items with name, description, ingredients and price based on Italian food choices. Output in Menu format.\u001b[0m\n",
      "\u001b[1m\u001b[30mSubtasks Completed:\u001b[0m\n",
      "\u001b[1m\u001b[34mSubtask: Creative Writer(instruction=\"Generate only 5 Italian dish names and descriptions\")\u001b[0m\n",
      "{'Agent Output': 'The agent named Creative Writer has successfully completed the task by generating 5 Italian dish names and descriptions. The dishes include Bella Vita Pasta, Tuscan Sunrise Risotto, Amore Alla Carbonara, Sicilian Citrus Seafood Medley, and Venetian Dream Tiramisu. Each dish has a unique description highlighting the flavors and essence of Italian cuisine.'}\n",
      "\n",
      "Is Task Completed: False\n"
     ]
    }
   ],
   "source": [
    "# subtasks_completed should be updated with the Creative Agent's outputs\n",
    "my_agent.status()"
   ]
  },
  {
   "cell_type": "code",
   "execution_count": 17,
   "id": "db731e85-444e-4a9d-8f31-e990594a6bf1",
   "metadata": {},
   "outputs": [
    {
     "name": "stdout",
     "output_type": "stream",
     "text": [
      "Calling function Chef with parameters {'instruction': 'Generate ingredients for the 5 Italian dishes'}\n",
      "\n",
      "### Start of Inner Agent: Chef ###\n",
      "\u001b[1m\u001b[30mObservation: No subtasks have been completed for the Assigned Task. The dish names and descriptions have been generated by the agent named Creative Writer.\u001b[0m\n",
      "\u001b[1m\u001b[32mThoughts: Since no subtasks have been completed, the first step is to identify the ingredients for each of the 5 Italian dishes. The agent named Chef should focus on extracting the ingredients based on the dish names provided.\u001b[0m\n",
      "\u001b[1m\u001b[34mSubtask identified: Extract the ingredients for the 5 Italian dishes: Bella Vita Pasta, Tuscan Sunrise Risotto, Amore Alla Carbonara, Sicilian Citrus Seafood Medley, and Venetian Dream Tiramisu.\u001b[0m\n",
      "Getting LLM to perform the following task: Extract the ingredients for the 5 Italian dishes: Bella Vita Pasta, Tuscan Sunrise Risotto, Amore Alla Carbonara, Sicilian Citrus Seafood Medley, and Venetian Dream Tiramisu.\n",
      "> For the 5 Italian dishes:\n",
      "1. Bella Vita Pasta - Ingredients: Pasta, Olive Oil, Garlic, Cherry Tomatoes, Basil, Parmesan Cheese\n",
      "2. Tuscan Sunrise Risotto - Ingredients: Arborio Rice, Chicken Broth, White Wine, Onion, Parmesan Cheese, Sun-dried Tomatoes\n",
      "3. Amore Alla Carbonara - Ingredients: Spaghetti, Pancetta, Eggs, Parmesan Cheese, Black Pepper\n",
      "4. Sicilian Citrus Seafood Medley - Ingredients: Shrimp, Scallops, Mussels, Lemon, Orange, White Wine, Garlic, Parsley\n",
      "5. Venetian Dream Tiramisu - Ingredients: Ladyfingers, Espresso, Mascarpone Cheese, Eggs, Sugar, Cocoa Powder\n",
      "\n",
      "\u001b[1m\u001b[30mObservation: Ingredients for the 5 Italian dishes have already been extracted and provided in the Subtasks Completed.\u001b[0m\n",
      "\u001b[1m\u001b[32mThoughts: Since the ingredients for the 5 Italian dishes have been extracted, the next step is to pass the final output to the user using the 'end_task' function.\u001b[0m\n",
      "\u001b[1m\u001b[34mSubtask identified: End Task\u001b[0m\n",
      "Task completed successfully!\n",
      "\n",
      "\u001b[1m\u001b[35m###\n",
      "Reply from Chef to Menu Creator:\n",
      "For the 5 Italian dishes:\n",
      "1. Bella Vita Pasta - Ingredients: Pasta, Olive Oil, Garlic, Cherry Tomatoes, Basil, Parmesan Cheese\n",
      "2. Tuscan Sunrise Risotto - Ingredients: Arborio Rice, Chicken Broth, White Wine, Onion, Parmesan Cheese, Sun-dried Tomatoes\n",
      "3. Amore Alla Carbonara - Ingredients: Spaghetti, Pancetta, Eggs, Parmesan Cheese, Black Pepper\n",
      "4. Sicilian Citrus Seafood Medley - Ingredients: Shrimp, Scallops, Mussels, Lemon, Orange, White Wine, Garlic, Parsley\n",
      "5. Venetian Dream Tiramisu - Ingredients: Ladyfingers, Espresso, Mascarpone Cheese, Eggs, Sugar, Cocoa Powder\n",
      "###\n",
      "\u001b[0m\n",
      "### End of Inner Agent: Chef ###\n",
      "\n"
     ]
    }
   ],
   "source": [
    "my_agent.use_agent('Chef', 'Generate ingredients for the 5 Italian dishes')"
   ]
  },
  {
   "cell_type": "code",
   "execution_count": 18,
   "id": "fd1b1fda-7e72-4669-8e40-f01207ad198f",
   "metadata": {
    "tags": []
   },
   "outputs": [
    {
     "name": "stdout",
     "output_type": "stream",
     "text": [
      "Calling function Economist with parameters {'instruction': 'Generate prices for the 5 Italian dishes'}\n",
      "\n",
      "### Start of Inner Agent: Economist ###\n",
      "\u001b[1m\u001b[30mObservation: No subtasks have been completed yet for the Assigned Task. The dish names and their descriptions have been generated by the Creative Writer, and the ingredients for the dishes have been provided by the Chef.\u001b[0m\n",
      "\u001b[1m\u001b[32mThoughts: Since no subtasks have been completed yet, the first step is to calculate the prices for the 5 Italian dishes. This can be achieved by using the dish_price function.\u001b[0m\n",
      "\u001b[1m\u001b[34mSubtask identified: Use the dish_price function to calculate the prices for the 5 Italian dishes: Bella Vita Pasta, Tuscan Sunrise Risotto, Amore Alla Carbonara, Sicilian Citrus Seafood Medley, and Venetian Dream Tiramisu.\u001b[0m\n",
      "Calling function dish_price with parameters {'list_of_dish_names': ['Bella Vita Pasta', 'Tuscan Sunrise Risotto', 'Amore Alla Carbonara', 'Sicilian Citrus Seafood Medley', 'Venetian Dream Tiramisu']}\n",
      "> {'output_1': {'Bella Vita Pasta': '$10', 'Tuscan Sunrise Risotto': '$5', 'Amore Alla Carbonara': '$9', 'Sicilian Citrus Seafood Medley': '$6', 'Venetian Dream Tiramisu': '$1'}}\n",
      "\n",
      "\u001b[1m\u001b[30mObservation: Prices for the 5 Italian dishes have already been generated in the subtasks completed.\u001b[0m\n",
      "\u001b[1m\u001b[32mThoughts: Since the prices for the dishes have already been generated, the task of generating prices for the 5 Italian dishes is completed. The final output can be passed to the user using the end_task function.\u001b[0m\n",
      "\u001b[1m\u001b[34mSubtask identified: End Task\u001b[0m\n",
      "Task completed successfully!\n",
      "\n",
      "\u001b[1m\u001b[35m###\n",
      "Reply from Economist to Menu Creator:\n",
      "The prices for the 5 Italian dishes are as follows: Bella Vita Pasta - $10, Tuscan Sunrise Risotto - $5, Amore Alla Carbonara - $9, Sicilian Citrus Seafood Medley - $6, Venetian Dream Tiramisu - $1.\n",
      "###\n",
      "\u001b[0m\n",
      "### End of Inner Agent: Economist ###\n",
      "\n"
     ]
    }
   ],
   "source": [
    "my_agent.use_agent('Economist', 'Generate prices for the 5 Italian dishes')"
   ]
  },
  {
   "cell_type": "code",
   "execution_count": 19,
   "id": "3d0ff21d-3684-49ad-9a59-8d63e8c181aa",
   "metadata": {
    "tags": []
   },
   "outputs": [
    {
     "name": "stdout",
     "output_type": "stream",
     "text": [
      "Calling function Boss with parameters {'instruction': 'Choose only 3 Italian dishes to serve that will please Gordon Ramsay'}\n",
      "\n",
      "### Start of Inner Agent: Boss ###\n",
      "\u001b[1m\u001b[30mObservation: The agent named Creative Writer has generated 5 Italian dish names and descriptions, the Chef has provided the ingredients for the 5 Italian dishes, and the Economist has generated prices for the 5 Italian dishes.\u001b[0m\n",
      "\u001b[1m\u001b[32mThoughts: To complete the remainder of the Assigned Task, we need to select only 3 Italian dishes that will please Gordon Ramsay. Since this task involves decision-making based on specific criteria, the Equipped Function 'use_llm' will not be suitable. We will need to analyze the descriptions, ingredients, and prices of the dishes to make the best selection.\u001b[0m\n",
      "\u001b[1m\u001b[34mSubtask identified: End Task\u001b[0m\n",
      "Task completed successfully!\n",
      "\n",
      "\u001b[1m\u001b[35m###\n",
      "Reply from Boss to Menu Creator:\n",
      "As the agent named Boss, I have reviewed the information provided in the Global Context and the completed subtasks. From the list of 5 Italian dishes generated by the Creative Writer, the ingredients provided by the Chef, and the prices generated by the Economist, I have selected the following 3 Italian dishes to serve that will please Gordon Ramsay: 1. Bella Vita Pasta priced at $10, 2. Amore Alla Carbonara priced at $9, and 3. Venetian Dream Tiramisu priced at $1. These dishes have been chosen based on their unique flavors, quality ingredients, and reasonable pricing.\n",
      "###\n",
      "\u001b[0m\n",
      "### End of Inner Agent: Boss ###\n",
      "\n"
     ]
    }
   ],
   "source": [
    "my_agent.use_agent('Boss', 'Choose only 3 Italian dishes to serve that will please Gordon Ramsay')"
   ]
  },
  {
   "cell_type": "code",
   "execution_count": 20,
   "id": "9290ba86-c1a7-4d68-ba2e-5ffbe292f403",
   "metadata": {
    "tags": []
   },
   "outputs": [
    {
     "name": "stdout",
     "output_type": "stream",
     "text": [
      "1. Bella Vita Pasta, Bella Vita Pasta is a delightful pasta dish that combines the flavors of cherry tomatoes, basil, and Parmesan cheese to create a truly authentic Italian experience. Ingredients: Pasta, Olive Oil, Garlic, Cherry Tomatoes, Basil, Parmesan Cheese, Price: $10\n",
      "2. Amore Alla Carbonara, Amore Alla Carbonara is a classic Italian dish featuring spaghetti, pancetta, eggs, and Parmesan cheese, seasoned with black pepper for a rich and creamy flavor. Ingredients: Spaghetti, Pancetta, Eggs, Parmesan Cheese, Black Pepper, Price: $9\n",
      "3. Venetian Dream Tiramisu, Venetian Dream Tiramisu is a heavenly dessert made with layers of ladyfingers soaked in espresso and creamy mascarpone cheese, dusted with cocoa powder for a perfect finish. Ingredients: Ladyfingers, Espresso, Mascarpone Cheese, Eggs, Sugar, Cocoa Powder, Price: $1\n"
     ]
    }
   ],
   "source": [
    "# Get a targeted response from your agent, and add this to subtask_completed\n",
    "output = my_agent.reply_user('Choose the 3 menu items for Gordon Ramsay line by line in this format - Dish Name, Dish Description, Dish Ingredients, Dish Price')"
   ]
  },
  {
   "cell_type": "code",
   "execution_count": 21,
   "id": "8c134d97-36fc-4f33-880a-fbb79e2388a5",
   "metadata": {},
   "outputs": [
    {
     "name": "stdout",
     "output_type": "stream",
     "text": [
      "Agent Name: Menu Creator\n",
      "Agent Description: Creates a menu for a restaurant. Menu item includes Name, Description, Ingredients, Pricing.\n",
      "Available Functions: ['use_llm', 'end_task', 'Chef', 'Boss', 'Creative Writer', 'Economist']\n",
      "Shared Variables: ['agent']\n",
      "\u001b[1m\u001b[32mTask: Generate 5 menu items with name, description, ingredients and price based on Italian food choices. Output in Menu format.\u001b[0m\n",
      "\u001b[1m\u001b[30mSubtasks Completed:\u001b[0m\n",
      "\u001b[1m\u001b[34mSubtask: Creative Writer(instruction=\"Generate only 5 Italian dish names and descriptions\")\u001b[0m\n",
      "{'Agent Output': 'The agent named Creative Writer has successfully completed the task by generating 5 Italian dish names and descriptions. The dishes include Bella Vita Pasta, Tuscan Sunrise Risotto, Amore Alla Carbonara, Sicilian Citrus Seafood Medley, and Venetian Dream Tiramisu. Each dish has a unique description highlighting the flavors and essence of Italian cuisine.'}\n",
      "\n",
      "\u001b[1m\u001b[34mSubtask: Chef(instruction=\"Generate ingredients for the 5 Italian dishes\")\u001b[0m\n",
      "{'Agent Output': 'For the 5 Italian dishes:\\n1. Bella Vita Pasta - Ingredients: Pasta, Olive Oil, Garlic, Cherry Tomatoes, Basil, Parmesan Cheese\\n2. Tuscan Sunrise Risotto - Ingredients: Arborio Rice, Chicken Broth, White Wine, Onion, Parmesan Cheese, Sun-dried Tomatoes\\n3. Amore Alla Carbonara - Ingredients: Spaghetti, Pancetta, Eggs, Parmesan Cheese, Black Pepper\\n4. Sicilian Citrus Seafood Medley - Ingredients: Shrimp, Scallops, Mussels, Lemon, Orange, White Wine, Garlic, Parsley\\n5. Venetian Dream Tiramisu - Ingredients: Ladyfingers, Espresso, Mascarpone Cheese, Eggs, Sugar, Cocoa Powder'}\n",
      "\n",
      "\u001b[1m\u001b[34mSubtask: Economist(instruction=\"Generate prices for the 5 Italian dishes\")\u001b[0m\n",
      "{'Agent Output': 'The prices for the 5 Italian dishes are as follows: Bella Vita Pasta - $10, Tuscan Sunrise Risotto - $5, Amore Alla Carbonara - $9, Sicilian Citrus Seafood Medley - $6, Venetian Dream Tiramisu - $1.'}\n",
      "\n",
      "\u001b[1m\u001b[34mSubtask: Boss(instruction=\"Choose only 3 Italian dishes to serve that will please Gordon Ramsay\")\u001b[0m\n",
      "{'Agent Output': 'As the agent named Boss, I have reviewed the information provided in the Global Context and the completed subtasks. From the list of 5 Italian dishes generated by the Creative Writer, the ingredients provided by the Chef, and the prices generated by the Economist, I have selected the following 3 Italian dishes to serve that will please Gordon Ramsay: 1. Bella Vita Pasta priced at $10, 2. Amore Alla Carbonara priced at $9, and 3. Venetian Dream Tiramisu priced at $1. These dishes have been chosen based on their unique flavors, quality ingredients, and reasonable pricing.'}\n",
      "\n",
      "\u001b[1m\u001b[34mSubtask: Choose the 3 menu items for Gordon Ramsay line by line in this format - Dish Name, Dish Description, Dish Ingredients, Dish Price\u001b[0m\n",
      "1. Bella Vita Pasta, Bella Vita Pasta is a delightful pasta dish that combines the flavors of cherry tomatoes, basil, and Parmesan cheese to create a truly authentic Italian experience. Ingredients: Pasta, Olive Oil, Garlic, Cherry Tomatoes, Basil, Parmesan Cheese, Price: $10\n",
      "2. Amore Alla Carbonara, Amore Alla Carbonara is a classic Italian dish featuring spaghetti, pancetta, eggs, and Parmesan cheese, seasoned with black pepper for a rich and creamy flavor. Ingredients: Spaghetti, Pancetta, Eggs, Parmesan Cheese, Black Pepper, Price: $9\n",
      "3. Venetian Dream Tiramisu, Venetian Dream Tiramisu is a heavenly dessert made with layers of ladyfingers soaked in espresso and creamy mascarpone cheese, dusted with cocoa powder for a perfect finish. Ingredients: Ladyfingers, Espresso, Mascarpone Cheese, Eggs, Sugar, Cocoa Powder, Price: $1\n",
      "\n",
      "Is Task Completed: False\n"
     ]
    }
   ],
   "source": [
    "my_agent.status()"
   ]
  },
  {
   "cell_type": "code",
   "execution_count": 22,
   "id": "8bdfad22-3b67-42d5-a4c6-cfd607dd22b1",
   "metadata": {
    "tags": []
   },
   "outputs": [
    {
     "name": "stdout",
     "output_type": "stream",
     "text": [
      "The 3 Italian dishes selected to serve Gordon Ramsay are as follows:\n",
      "\n",
      "1. Bella Vita Pasta\n",
      "Description: Bella Vita Pasta is a delightful pasta dish that combines the flavors of cherry tomatoes, basil, and Parmesan cheese to create a truly authentic Italian experience.\n",
      "Ingredients: Pasta, Olive Oil, Garlic, Cherry Tomatoes, Basil, Parmesan Cheese\n",
      "Price: $10\n",
      "\n",
      "2. Amore Alla Carbonara\n",
      "Description: Amore Alla Carbonara is a classic Italian dish featuring spaghetti, pancetta, eggs, and Parmesan cheese, seasoned with black pepper for a rich and creamy flavor.\n",
      "Ingredients: Spaghetti, Pancetta, Eggs, Parmesan Cheese, Black Pepper\n",
      "Price: $9\n",
      "\n",
      "3. Venetian Dream Tiramisu\n",
      "Description: Venetian Dream Tiramisu is a heavenly dessert made with layers of ladyfingers soaked in espresso and creamy mascarpone cheese, dusted with cocoa powder for a perfect finish.\n",
      "Ingredients: Ladyfingers, Espresso, Mascarpone Cheese, Eggs, Sugar, Cocoa Powder\n",
      "Price: $1\n"
     ]
    }
   ],
   "source": [
    "# you can summarise the subtasks_history for the next task\n",
    "my_agent.summarise_subtasks_completed('Generate the 3 Italian dishes for Gordon Ramsay in menu format')"
   ]
  },
  {
   "cell_type": "code",
   "execution_count": 23,
   "id": "ea8ebd26-25e2-41b3-a2a3-78f03d324f3b",
   "metadata": {
    "tags": []
   },
   "outputs": [
    {
     "name": "stdout",
     "output_type": "stream",
     "text": [
      "Agent Name: Menu Creator\n",
      "Agent Description: Creates a menu for a restaurant. Menu item includes Name, Description, Ingredients, Pricing.\n",
      "Available Functions: ['use_llm', 'end_task', 'Chef', 'Boss', 'Creative Writer', 'Economist']\n",
      "Shared Variables: ['agent']\n",
      "\u001b[1m\u001b[32mTask: Generate 5 menu items with name, description, ingredients and price based on Italian food choices. Output in Menu format.\u001b[0m\n",
      "\u001b[1m\u001b[30mSubtasks Completed:\u001b[0m\n",
      "\u001b[1m\u001b[34mSubtask: Current Results for 'Generate the 3 Italian dishes for Gordon Ramsay in menu format'\u001b[0m\n",
      "The 3 Italian dishes selected to serve Gordon Ramsay are as follows:\n",
      "\n",
      "1. Bella Vita Pasta\n",
      "Description: Bella Vita Pasta is a delightful pasta dish that combines the flavors of cherry tomatoes, basil, and Parmesan cheese to create a truly authentic Italian experience.\n",
      "Ingredients: Pasta, Olive Oil, Garlic, Cherry Tomatoes, Basil, Parmesan Cheese\n",
      "Price: $10\n",
      "\n",
      "2. Amore Alla Carbonara\n",
      "Description: Amore Alla Carbonara is a classic Italian dish featuring spaghetti, pancetta, eggs, and Parmesan cheese, seasoned with black pepper for a rich and creamy flavor.\n",
      "Ingredients: Spaghetti, Pancetta, Eggs, Parmesan Cheese, Black Pepper\n",
      "Price: $9\n",
      "\n",
      "3. Venetian Dream Tiramisu\n",
      "Description: Venetian Dream Tiramisu is a heavenly dessert made with layers of ladyfingers soaked in espresso and creamy mascarpone cheese, dusted with cocoa powder for a perfect finish.\n",
      "Ingredients: Ladyfingers, Espresso, Mascarpone Cheese, Eggs, Sugar, Cocoa Powder\n",
      "Price: $1\n",
      "\n",
      "Is Task Completed: False\n"
     ]
    }
   ],
   "source": [
    "# subtask has been summarised, helping to reduce the context significantly for later task generation\n",
    "my_agent.status()"
   ]
  },
  {
   "cell_type": "code",
   "execution_count": 24,
   "id": "c7887297-c007-42fd-a21e-5196afef605a",
   "metadata": {
    "tags": []
   },
   "outputs": [
    {
     "name": "stdout",
     "output_type": "stream",
     "text": [
      "Removed last subtask from subtasks_completed: (\"Current Results for 'Generate the 3 Italian dishes for Gordon Ramsay in menu format'\", 'The 3 Italian dishes selected to serve Gordon Ramsay are as follows:\\n\\n1. Bella Vita Pasta\\nDescription: Bella Vita Pasta is a delightful pasta dish that combines the flavors of cherry tomatoes, basil, and Parmesan cheese to create a truly authentic Italian experience.\\nIngredients: Pasta, Olive Oil, Garlic, Cherry Tomatoes, Basil, Parmesan Cheese\\nPrice: $10\\n\\n2. Amore Alla Carbonara\\nDescription: Amore Alla Carbonara is a classic Italian dish featuring spaghetti, pancetta, eggs, and Parmesan cheese, seasoned with black pepper for a rich and creamy flavor.\\nIngredients: Spaghetti, Pancetta, Eggs, Parmesan Cheese, Black Pepper\\nPrice: $9\\n\\n3. Venetian Dream Tiramisu\\nDescription: Venetian Dream Tiramisu is a heavenly dessert made with layers of ladyfingers soaked in espresso and creamy mascarpone cheese, dusted with cocoa powder for a perfect finish.\\nIngredients: Ladyfingers, Espresso, Mascarpone Cheese, Eggs, Sugar, Cocoa Powder\\nPrice: $1')\n"
     ]
    }
   ],
   "source": [
    "# we also allow you to manually remove the last item added to subtasks_completed, so you can revert your agent state if needed for backtracking\n",
    "my_agent.remove_last_subtask()"
   ]
  },
  {
   "cell_type": "code",
   "execution_count": 25,
   "id": "35340b71-d7ea-4f28-ad0a-dddf6099737f",
   "metadata": {
    "tags": []
   },
   "outputs": [
    {
     "name": "stdout",
     "output_type": "stream",
     "text": [
      "Agent Name: Menu Creator\n",
      "Agent Description: Creates a menu for a restaurant. Menu item includes Name, Description, Ingredients, Pricing.\n",
      "Available Functions: ['use_llm', 'end_task', 'Chef', 'Boss', 'Creative Writer', 'Economist']\n",
      "Shared Variables: ['agent']\n",
      "\u001b[1m\u001b[32mTask: Generate 5 menu items with name, description, ingredients and price based on Italian food choices. Output in Menu format.\u001b[0m\n",
      "\u001b[1m\u001b[34mSubtasks Completed: None\u001b[0m\n",
      "Is Task Completed: False\n"
     ]
    }
   ],
   "source": [
    "# visualise your agent's status - should have empty subtasks_completed\n",
    "my_agent.status()"
   ]
  },
  {
   "cell_type": "code",
   "execution_count": null,
   "id": "6dec8c56-7463-4dcf-8246-115583858de9",
   "metadata": {},
   "outputs": [],
   "source": []
  }
 ],
 "metadata": {
  "kernelspec": {
   "display_name": "Python 3 (ipykernel)",
   "language": "python",
   "name": "python3"
  },
  "language_info": {
   "codemirror_mode": {
    "name": "ipython",
    "version": 3
   },
   "file_extension": ".py",
   "mimetype": "text/x-python",
   "name": "python",
   "nbconvert_exporter": "python",
   "pygments_lexer": "ipython3",
   "version": "3.11.3"
  }
 },
 "nbformat": 4,
 "nbformat_minor": 5
}
