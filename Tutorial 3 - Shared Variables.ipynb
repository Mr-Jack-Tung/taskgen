{
 "cells": [
  {
   "cell_type": "markdown",
   "id": "2fa1e388-b8f4-4fa3-be5a-ba7c6caae038",
   "metadata": {
    "tags": []
   },
   "source": [
    "# Tutorial 3 - Shared Variables\n",
    "\n",
    "*\"Because text is not enough\"* - Anonymous\n",
    "\n",
    "- `shared_variables` is a dictionary, that is initialised in Agent (default empty dictionary), and can be referenced by any function of the agent (including Inner Agents and their functions)\n",
    "- This can be useful for non-text modalitiies (e.g. audio, pdfs, image) and lengthy text modalities, which we do not want to output into `subtasks_completed` directly\n",
    "- `s_` at the start of the variable names means shared variables\n",
    "    - For input, it means we take the variable from `shared_variables` instead of LLM generated input\n",
    "    - For output, it means we store the variable into `shared_variables` instead of storing it in `subtasks_completed`. If `subtasks_completed` output is empty, it will be output as `{'Status': 'Completed'}`\n",
    "- Example shared variables names: `s_sum`, `s_total`, `s_list_of_words`\n",
    "- Note: For external functions, you need not put a `s_` at the start of the name of shared variables\n",
    "\n",
    "### Example Input\n",
    "```python\n",
    "# Function takes in increment (LLM generated) and s_total (retrieves from shared variable dict), and outputs to s_total (in shared variable dict)\n",
    "add = Function(fn_description = \"Add <increment: int> to <s_total>\", \n",
    "              output_format = {\"s_total\": \"Modified total\"})\n",
    "\n",
    "# Define the calculator agent and the shared_variables - Note the naming convention of s_ at the start of the names for shared variables\n",
    "my_agent = Agent('Calculator', 'Does computations', shared_variables = {'s_total': 0}).assign_functions([add])\n",
    "\n",
    "output = my_agent.run('Increment s_total by 1')\n",
    "\n",
    "print('Shared Variables:', my_agent.shared_variables)\n",
    "```\n",
    "\n",
    "### Example Output\n",
    "`Subtask identified: Add 1 to s_total`\n",
    "\n",
    "`Calling function add_int_to_variable with parameters {'increment': 1}`\n",
    "> {'Status': 'Completed'}\n",
    "\n",
    "`Task completed successfully!`\n",
    "\n",
    "`Shared Variables: {'s_total': 1}`\n",
    "\n",
    "### Example External Function Accessing Shared Variables (Advanced)\n",
    "```python\n",
    "# Use shared_variables as input to your external function to access and modify the shared variables\n",
    "def generate_quotes(shared_variables, number_of_quotes: int, category: str):\n",
    "    ''' Generates number_of_quotes quotes about category '''\n",
    "    # Retrieve from shared variables\n",
    "    my_quote_list = shared_variables['s_quote_list']\n",
    "    \n",
    "    ### Add your function code here ###\n",
    "    \n",
    "    # Store back to shared variables\n",
    "    shared_variables['s_quote_list'] = my_quote_list\n",
    "\n",
    "generate_quote_fn = Function(output_format = {}, external_fn = generate_quotes)\n",
    "```"
   ]
  },
  {
   "cell_type": "markdown",
   "id": "a3c27cfb-0612-45a1-8cec-fecd59bcd7d2",
   "metadata": {},
   "source": [
    "# Install TaskGen"
   ]
  },
  {
   "cell_type": "code",
   "execution_count": 1,
   "id": "c4e7f7e0-3656-41a0-afa2-b91f5640ab04",
   "metadata": {},
   "outputs": [],
   "source": [
    "# !pip install taskgen-ai"
   ]
  },
  {
   "cell_type": "code",
   "execution_count": 2,
   "id": "076adf5e-beb1-4b19-9078-34ab1b7d9afe",
   "metadata": {
    "tags": []
   },
   "outputs": [],
   "source": [
    "# Set up API key and do the necessary imports\n",
    "import os\n",
    "from taskgen import *\n",
    "\n",
    "os.environ['OPENAI_API_KEY'] = '<YOUR API KEY HERE>'"
   ]
  },
  {
   "cell_type": "markdown",
   "id": "43425208-6ae8-40ff-a891-3847d1c9da2c",
   "metadata": {
    "tags": []
   },
   "source": [
    "# Approach 1: Direct input and output link to shared variable\n",
    "- Get shared variable as input from `shared_variables`, and output shared variable directly into `shared_variables`\n",
    "- Both LLM-based functions and external functions can use this approach\n",
    "- Used when you want to input and output to a shared pool of variables without letting the LLM know the details, e.g. store a persistent state throughout function calls"
   ]
  },
  {
   "cell_type": "code",
   "execution_count": 3,
   "id": "b50ec57d-9473-489d-a9e2-7b8e3a65d735",
   "metadata": {
    "tags": []
   },
   "outputs": [],
   "source": [
    "# Example 1 - LLM-based Function\n",
    "# Function takes in increment (LLM generated) and s_total (retrieves from shared variable dict), and outputs to s_total (in shared variable dict)\n",
    "add = Function(fn_description = \"Add <increment: int> to <s_total>\", \n",
    "              output_format = {\"s_total\": \"Modified total\"})"
   ]
  },
  {
   "cell_type": "code",
   "execution_count": 4,
   "id": "cc9c443f-7fca-49ce-9ab6-5bbaed8fffbb",
   "metadata": {
    "tags": []
   },
   "outputs": [],
   "source": [
    "# Example 2 - External Functions\n",
    "def multiply_count(multiplier: int, s_total: int):\n",
    "    ''' Multiplies s_total by multiplier '''\n",
    "    return s_total * multiplier\n",
    "\n",
    "# Function takes inmultiplier (LLM generated) and s_total (retrieves from shared variable dict), and outputs to s_total (in shared variable dict)\n",
    "multiply = Function(output_format = {\"s_total\": \"Modified total\"}, external_fn = multiply_count)"
   ]
  },
  {
   "cell_type": "code",
   "execution_count": 5,
   "id": "fc770857-5ca0-43a1-a72f-5df7a97f7c02",
   "metadata": {
    "tags": []
   },
   "outputs": [],
   "source": [
    "# Define the calculator agent and the shared_variables - Note the naming convention of s_ at the start of the names for shared variables\n",
    "# Since our agent is like an OS now, we do not want it to generate any response via LLM so we set default_to_llm to be False\n",
    "my_agent = Agent('Calculator', 'Does computations', default_to_llm = False, shared_variables = {'s_total': 0}).assign_functions([add, multiply])"
   ]
  },
  {
   "cell_type": "code",
   "execution_count": 6,
   "id": "ad33a428-626c-430c-b99a-9dc75b3814bf",
   "metadata": {
    "tags": []
   },
   "outputs": [
    {
     "name": "stdout",
     "output_type": "stream",
     "text": [
      "Shared Variables: {'s_total': 0}\n"
     ]
    }
   ],
   "source": [
    "# visualise the shared variables\n",
    "print('Shared Variables:', my_agent.shared_variables)"
   ]
  },
  {
   "cell_type": "code",
   "execution_count": 7,
   "id": "4814ab29-4e12-4141-b24e-517c72b63174",
   "metadata": {
    "tags": []
   },
   "outputs": [
    {
     "name": "stdout",
     "output_type": "stream",
     "text": [
      "Name: end_task\n",
      "Description: Use only when task is completed\n",
      "Input: []\n",
      "Output: {}\n",
      "\n",
      "Name: add_to_total\n",
      "Description: Add <increment: int> to s_total\n",
      "Input: ['increment']\n",
      "Output: {'s_total': 'Modified total'}\n",
      "\n",
      "Name: multiply_count\n",
      "Description:  Multiplies s_total by <multiplier: int> \n",
      "Input: ['multiplier']\n",
      "Output: {'s_total': 'Modified total'}\n",
      "\n"
     ]
    }
   ],
   "source": [
    "# Visualise the stored functions. Note that the shared variables have been replaced to without <> in function description so as not to confuse the LLM\n",
    "my_agent.print_functions()"
   ]
  },
  {
   "cell_type": "code",
   "execution_count": 8,
   "id": "3e0197a5-d41d-4429-8f03-1e1977827eaa",
   "metadata": {
    "tags": []
   },
   "outputs": [
    {
     "name": "stdout",
     "output_type": "stream",
     "text": [
      "Agent Name: Calculator\n",
      "Agent Description: Does computations\n",
      "Available Functions: ['end_task', 'add_to_total', 'multiply_count']\n",
      "Shared Variables: ['s_total']\n",
      "Task: No task assigned\n",
      "Subtasks Completed: None\n",
      "Is Task Completed: False\n"
     ]
    }
   ],
   "source": [
    "# You can visualise what are the shared variables in status()\n",
    "my_agent.status()"
   ]
  },
  {
   "cell_type": "code",
   "execution_count": 9,
   "id": "4aabd0c2-6470-43e1-b476-d77e2c85c0bb",
   "metadata": {
    "tags": []
   },
   "outputs": [
    {
     "name": "stdout",
     "output_type": "stream",
     "text": [
      "Subtask identified: Increment s_total by 1\n",
      "Calling function add_to_total with parameters {'increment': 1}\n",
      "> {'Status': 'Completed'}\n",
      "\n",
      "Task completed successfully!\n",
      "\n"
     ]
    }
   ],
   "source": [
    "output = my_agent.run('Increment s_total by 1')"
   ]
  },
  {
   "cell_type": "code",
   "execution_count": 10,
   "id": "4b20c30d-0ba6-45d0-8d6b-e718192830a7",
   "metadata": {
    "tags": []
   },
   "outputs": [
    {
     "name": "stdout",
     "output_type": "stream",
     "text": [
      "Shared Variables: {'s_total': 1}\n"
     ]
    }
   ],
   "source": [
    "# s_total should be successfully updated here as 1\n",
    "print('Shared Variables:', my_agent.shared_variables)"
   ]
  },
  {
   "cell_type": "code",
   "execution_count": 11,
   "id": "fa8604dc-24d0-4013-884d-b8b7237360be",
   "metadata": {
    "tags": []
   },
   "outputs": [
    {
     "name": "stdout",
     "output_type": "stream",
     "text": [
      "Subtask identified: Increment s_total by 2\n",
      "Calling function add_to_total with parameters {'increment': 2}\n",
      "> {'Status': 'Completed'}\n",
      "\n",
      "Subtask identified: Multiply the current total by 5\n",
      "Calling function multiply_count with parameters {'multiplier': 5}\n",
      "> {'Status': 'Completed'}\n",
      "\n",
      "Task completed successfully!\n",
      "\n"
     ]
    }
   ],
   "source": [
    "my_agent.reset()\n",
    "# When doing agents as OS, it is important to reset past subtasks completed so as not to influence future tasks\n",
    "output = my_agent.run('First increment s_total by 2, then multiply by 5')"
   ]
  },
  {
   "cell_type": "code",
   "execution_count": 12,
   "id": "cb8f9324-e959-4fe6-a425-95e71e41088e",
   "metadata": {
    "tags": []
   },
   "outputs": [
    {
     "data": {
      "text/plain": [
       "{'s_total': 15}"
      ]
     },
     "execution_count": 12,
     "metadata": {},
     "output_type": "execute_result"
    }
   ],
   "source": [
    "# s_total should be successfully updated here as (1+2)*5 = 15\n",
    "my_agent.shared_variables"
   ]
  },
  {
   "cell_type": "code",
   "execution_count": 13,
   "id": "3608133f-2b2a-4c74-897c-cbfe6fa56efd",
   "metadata": {
    "tags": []
   },
   "outputs": [
    {
     "name": "stdout",
     "output_type": "stream",
     "text": [
      "Agent Name: Calculator\n",
      "Agent Description: Does computations\n",
      "Available Functions: ['end_task', 'add_to_total', 'multiply_count']\n",
      "Shared Variables: ['s_total']\n",
      "Task: First increment s_total by 2, then multiply by 5\n",
      "Subtasks Completed:\n",
      "Subtask: Increment s_total by 2\n",
      "{'Status': 'Completed'}\n",
      "\n",
      "Subtask: Multiply the current total by 5\n",
      "{'Status': 'Completed'}\n",
      "\n",
      "Is Task Completed: True\n"
     ]
    }
   ],
   "source": [
    "my_agent.status()"
   ]
  },
  {
   "cell_type": "markdown",
   "id": "b87cb375-0d69-4cf2-9b46-4404bfadcc04",
   "metadata": {
    "tags": []
   },
   "source": [
    "# Approach 2: Indirect input and output link to shared_variables (only for External Functions)\n",
    "- Declare the `shared_variables` as a function input in your external function (Note: do not use `**kwargs`)\n",
    "- You can proceed to access and write to `shared_variables` as needed\n",
    "- This enables you to process non-text modalities (e.g. audio, pdfs, image) or process lengthy text without outputting to `subtasks_completed`\n",
    "- Note: You do not have to initialis the names of your variables in `shared_variables` with an s_, as this will be transparent to the meta agent - you can reference any variable name you want in `shared_variables`"
   ]
  },
  {
   "cell_type": "code",
   "execution_count": 14,
   "id": "8cbb3cc7-3532-4894-888d-542991ee3333",
   "metadata": {
    "tags": []
   },
   "outputs": [],
   "source": [
    "# Use shared_variables as input to your external function to access and modify the shared variables\n",
    "def generate_quotes(shared_variables, number_of_quotes: int, category: str):\n",
    "    ''' Generates number_of_quotes quotes about category '''\n",
    "    # Retrieve from shared variables\n",
    "    my_quote_list = shared_variables['quote_list']\n",
    "    \n",
    "    # Generate the quotes\n",
    "    res = strict_json(system_prompt = f'''Generate {number_of_quotes} sentences about {category}. \n",
    "Do them in the format \"<Quote> - <Person>\", e.g. \"The way to get started is to quit talking and begin doing. - Walt Disney\"\n",
    "Ensure your quotes contain only ' within the quote, and are enclosed by \" ''',\n",
    "                      user_prompt = '',\n",
    "                      output_format = {'Quote List': f'list of {number_of_quotes} quotes, type: List[str]'})\n",
    "    \n",
    "    my_quote_list.extend([f'Category: {category}. '+ x for x in res['Quote List']])\n",
    "    \n",
    "    # Store back to shared variables\n",
    "    shared_variables['quote_list'] = my_quote_list\n",
    "\n",
    "generate_quote_fn = Function(output_format = {}, external_fn = generate_quotes)"
   ]
  },
  {
   "cell_type": "code",
   "execution_count": 15,
   "id": "fca7eb4b-bc07-4587-9d7c-5eec0fd448c9",
   "metadata": {
    "tags": []
   },
   "outputs": [],
   "source": [
    "# Define the calculator agent and the shared_variables - Note the naming convention of s_ at the start of the names for shared variables\n",
    "my_agent = Agent('Quote Generator', 'Generates Quotes according to category', \n",
    "                 default_to_llm = False, # do not provide llm as a default function to Agent to prevent hallucinations\n",
    "                 shared_variables = {'quote_list': []}).assign_functions([generate_quote_fn])"
   ]
  },
  {
   "cell_type": "code",
   "execution_count": 16,
   "id": "5a4a96d3-2580-4989-8e3b-f240d1f12190",
   "metadata": {
    "tags": []
   },
   "outputs": [
    {
     "name": "stdout",
     "output_type": "stream",
     "text": [
      "Subtask identified: Generate three quotes about life\n",
      "Calling function generate_quotes with parameters {'number_of_quotes': 3, 'category': 'life'}\n",
      "> {'Status': 'Completed'}\n",
      "\n",
      "Task completed successfully!\n",
      "\n"
     ]
    }
   ],
   "source": [
    "output = my_agent.run('Generate three quotes about life')"
   ]
  },
  {
   "cell_type": "code",
   "execution_count": 17,
   "id": "057c7ecb-3c59-4273-80d0-1ac1590b5f1c",
   "metadata": {
    "tags": []
   },
   "outputs": [
    {
     "name": "stdout",
     "output_type": "stream",
     "text": [
      "Shared Variables: {'quote_list': [\"Category: life. Life is what happens when you're busy making other plans. - John Lennon\", \"Category: life. In the end, it's not the years in your life that count. It's the life in your years. - Abraham Lincoln\", 'Category: life. The purpose of our lives is to be happy. - Dalai Lama']}\n"
     ]
    }
   ],
   "source": [
    "# visualise quote list\n",
    "print('Shared Variables:', my_agent.shared_variables)"
   ]
  },
  {
   "cell_type": "code",
   "execution_count": 18,
   "id": "f28a9ef3-408b-4b63-b725-bbbd5ac10909",
   "metadata": {
    "tags": []
   },
   "outputs": [
    {
     "name": "stdout",
     "output_type": "stream",
     "text": [
      "Subtask identified: Generate three quotes about happiness\n",
      "Calling function generate_quotes with parameters {'number_of_quotes': 3, 'category': 'happiness'}\n",
      "> {'Status': 'Completed'}\n",
      "\n",
      "Task completed successfully!\n",
      "\n"
     ]
    }
   ],
   "source": [
    "my_agent.reset() # always reset agent if the task is something new to prevent misinterpretation\n",
    "output = my_agent.run('Generate three quotes about happiness')"
   ]
  },
  {
   "cell_type": "code",
   "execution_count": 19,
   "id": "d9e9bc5a-4d6a-41bd-aaac-b7638594ac0a",
   "metadata": {
    "tags": []
   },
   "outputs": [
    {
     "name": "stdout",
     "output_type": "stream",
     "text": [
      "Shared Variables: {'quote_list': [\"Category: life. Life is what happens when you're busy making other plans. - John Lennon\", \"Category: life. In the end, it's not the years in your life that count. It's the life in your years. - Abraham Lincoln\", 'Category: life. The purpose of our lives is to be happy. - Dalai Lama', 'Category: happiness. Happiness is not something ready made. It comes from your own actions. - Dalai Lama', 'Category: happiness. The only thing that will make you happy is being happy with who you are. - Goldie Hawn', 'Category: happiness. Happiness is a choice. You can choose to be happy. - Valerie Bertinelli']}\n"
     ]
    }
   ],
   "source": [
    "# visualise quote list\n",
    "print('Shared Variables:', my_agent.shared_variables)"
   ]
  },
  {
   "cell_type": "code",
   "execution_count": 20,
   "id": "8d93da35-b02e-415a-977e-1acc74b1d4a1",
   "metadata": {
    "tags": []
   },
   "outputs": [
    {
     "name": "stdout",
     "output_type": "stream",
     "text": [
      "Subtask identified: Generate one quote about parties\n",
      "Calling function generate_quotes with parameters {'number_of_quotes': 1, 'category': 'parties'}\n",
      "> {'Status': 'Completed'}\n",
      "\n",
      "Subtask identified: Generate one quote about parties\n",
      "Calling function generate_quotes with parameters {'number_of_quotes': 1, 'category': 'parties'}\n",
      "> {'Status': 'Completed'}\n",
      "\n",
      "Subtask identified: Generate one more quote about parties\n",
      "Calling function generate_quotes with parameters {'number_of_quotes': 1, 'category': 'parties'}\n",
      "> {'Status': 'Completed'}\n",
      "\n",
      "Subtask identified: Generate one more quote about parties\n",
      "Calling function generate_quotes with parameters {'number_of_quotes': 1, 'category': 'parties'}\n",
      "> {'Status': 'Completed'}\n",
      "\n",
      "Subtask identified: Generate one more quote about parties\n",
      "Calling function generate_quotes with parameters {'number_of_quotes': 1, 'category': 'parties'}\n",
      "> {'Status': 'Completed'}\n",
      "\n"
     ]
    }
   ],
   "source": [
    "# you can also not reset agent, but there is a risk of confusion if previous subtasks are similar for this new task\n",
    "output = my_agent.run('Generate one quote about parties')"
   ]
  },
  {
   "cell_type": "code",
   "execution_count": 21,
   "id": "8ddf0e10-20e4-491d-8ee6-b41ddb4fb481",
   "metadata": {
    "tags": []
   },
   "outputs": [
    {
     "name": "stdout",
     "output_type": "stream",
     "text": [
      "Shared Variables: {'quote_list': [\"Category: life. Life is what happens when you're busy making other plans. - John Lennon\", \"Category: life. In the end, it's not the years in your life that count. It's the life in your years. - Abraham Lincoln\", 'Category: life. The purpose of our lives is to be happy. - Dalai Lama', 'Category: happiness. Happiness is not something ready made. It comes from your own actions. - Dalai Lama', 'Category: happiness. The only thing that will make you happy is being happy with who you are. - Goldie Hawn', 'Category: happiness. Happiness is a choice. You can choose to be happy. - Valerie Bertinelli', 'Category: parties. Parties are a way to bring people together and create lasting memories. - Unknown', 'Category: parties. A party without cake is just a meeting. - Julia Child', 'Category: parties. A party without cake is just a meeting. - Julia Child', 'Category: parties. A party without cake is just a meeting. - Julia Child', 'Category: parties. A party without cake is just a meeting. - Julia Child']}\n"
     ]
    }
   ],
   "source": [
    "# visualise quote list\n",
    "print('Shared Variables:', my_agent.shared_variables)"
   ]
  }
 ],
 "metadata": {
  "kernelspec": {
   "display_name": "Python 3 (ipykernel)",
   "language": "python",
   "name": "python3"
  },
  "language_info": {
   "codemirror_mode": {
    "name": "ipython",
    "version": 3
   },
   "file_extension": ".py",
   "mimetype": "text/x-python",
   "name": "python",
   "nbconvert_exporter": "python",
   "pygments_lexer": "ipython3",
   "version": "3.11.3"
  }
 },
 "nbformat": 4,
 "nbformat_minor": 5
}
